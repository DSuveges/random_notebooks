{
 "cells": [
  {
   "cell_type": "code",
   "execution_count": 3,
   "id": "0753c104",
   "metadata": {
    "ExecuteTime": {
     "end_time": "2022-05-31T15:51:35.011604Z",
     "start_time": "2022-05-31T15:51:34.981852Z"
    }
   },
   "outputs": [
    {
     "name": "stdout",
     "output_type": "stream",
     "text": [
      "/Users/dsuveges/project/random_notebooks/issue-2607_consolidating_OTAR_tables\n",
      "total 592\n",
      "drwxr-xr-x   6 dsuveges  384566875   192B 31 May 16:51 .\n",
      "drwxrwxr-x  84 dsuveges  384566875   2.6K 31 May 16:31 ..\n",
      "drwxr-xr-x   3 dsuveges  384566875    96B 31 May 16:51 .ipynb_checkpoints\n",
      "-rw-r--r--@  1 dsuveges  384566875    87K 31 May 16:38 EFO Spreadsheet.xlsx\n",
      "-rw-r--r--@  1 dsuveges  384566875   202K 31 May 16:37 OTAR project EFO mappings for disease profile pages.xlsx\n",
      "-rw-r--r--   1 dsuveges  384566875   605B 31 May 16:34 consolidating tables.ipynb\n"
     ]
    }
   ],
   "source": [
    "%%bash\n",
    "\n",
    "echo $(pwd)\n",
    "ls -lah \n"
   ]
  },
  {
   "cell_type": "markdown",
   "id": "2a0a1cd8",
   "metadata": {},
   "source": [
    "# Collate files.\n",
    "\n",
    "1. Read both files, master sheet, try to find differences.\n",
    "2. Make sure the proper updates are selected and generate a table, group by study etc.\n",
    "3. Save xls file with two sheets."
   ]
  },
  {
   "cell_type": "code",
   "execution_count": 127,
   "id": "cf66b397",
   "metadata": {
    "ExecuteTime": {
     "end_time": "2022-06-01T15:25:45.951892Z",
     "start_time": "2022-06-01T15:25:44.312772Z"
    }
   },
   "outputs": [
    {
     "name": "stdout",
     "output_type": "stream",
     "text": [
      "273\n",
      "72\n",
      "81\n"
     ]
    }
   ],
   "source": [
    "import pandas as pd\n",
    "\n",
    "\n",
    "master = pd.read_excel('OTAR project EFO mappings for disease profile pages.xlsx', sheet_name='master')\n",
    "project2disease = pd.read_excel('OTAR project EFO mappings for disease profile pages.xlsx', sheet_name='Project2Disease')\n",
    "meta = pd.read_excel('OTAR project EFO mappings for disease profile pages.xlsx', sheet_name='MetaData')\n",
    "\n",
    "\n",
    "print(len(master))\n",
    "print(len(project2disease))\n",
    "print(len(meta))\n"
   ]
  },
  {
   "cell_type": "code",
   "execution_count": 41,
   "id": "cddfd09c",
   "metadata": {
    "ExecuteTime": {
     "end_time": "2022-06-01T08:47:37.203203Z",
     "start_time": "2022-06-01T08:47:37.183198Z"
    }
   },
   "outputs": [
    {
     "name": "stdout",
     "output_type": "stream",
     "text": [
      "79\n",
      "72\n",
      "79\n",
      "so some of the project to disease mapping is missing. Could be projects with no disease? Shouldn't be null?\n"
     ]
    },
    {
     "data": {
      "text/html": [
       "<div>\n",
       "<style scoped>\n",
       "    .dataframe tbody tr th:only-of-type {\n",
       "        vertical-align: middle;\n",
       "    }\n",
       "\n",
       "    .dataframe tbody tr th {\n",
       "        vertical-align: top;\n",
       "    }\n",
       "\n",
       "    .dataframe thead th {\n",
       "        text-align: right;\n",
       "    }\n",
       "</style>\n",
       "<table border=\"1\" class=\"dataframe\">\n",
       "  <thead>\n",
       "    <tr style=\"text-align: right;\">\n",
       "      <th></th>\n",
       "      <th>otar_code</th>\n",
       "      <th>project_name</th>\n",
       "      <th>project_lead</th>\n",
       "      <th>generates_data</th>\n",
       "      <th>data_available</th>\n",
       "      <th>project_status</th>\n",
       "      <th>open_targets_therapeutic_area</th>\n",
       "      <th>efo_disease_label</th>\n",
       "      <th>efo_disease_id</th>\n",
       "      <th>pubmed_ids</th>\n",
       "      <th>epmc_preprint_ids</th>\n",
       "      <th>other_publication_dois</th>\n",
       "      <th>notes</th>\n",
       "    </tr>\n",
       "  </thead>\n",
       "  <tbody>\n",
       "    <tr>\n",
       "      <th>73</th>\n",
       "      <td>OTAR2076</td>\n",
       "      <td>Phenotypic mapping of gene functions in immune...</td>\n",
       "      <td>Gosia Trynka</td>\n",
       "      <td>Y</td>\n",
       "      <td>Not yet available</td>\n",
       "      <td>Active</td>\n",
       "      <td>Immunology / Inflammation</td>\n",
       "      <td>colorectal cancer</td>\n",
       "      <td>EFO_0005842</td>\n",
       "      <td>NaN</td>\n",
       "      <td>NaN</td>\n",
       "      <td>NaN</td>\n",
       "      <td>NaN</td>\n",
       "    </tr>\n",
       "    <tr>\n",
       "      <th>74</th>\n",
       "      <td>OTAR2079</td>\n",
       "      <td>Saturation Genome Editing in Immune Genes</td>\n",
       "      <td>Gosia Trynka/Dave Adams</td>\n",
       "      <td>Y</td>\n",
       "      <td>Not yet available</td>\n",
       "      <td>Active</td>\n",
       "      <td>Immunology / Inflammation</td>\n",
       "      <td>Rheumatoid arthritis</td>\n",
       "      <td>EFO_0000685</td>\n",
       "      <td>NaN</td>\n",
       "      <td>NaN</td>\n",
       "      <td>NaN</td>\n",
       "      <td>NaN</td>\n",
       "    </tr>\n",
       "    <tr>\n",
       "      <th>75</th>\n",
       "      <td>OTAR2080</td>\n",
       "      <td>Natural Killer cell evasion and exhaustion med...</td>\n",
       "      <td>Annie Speak</td>\n",
       "      <td>Y</td>\n",
       "      <td>Not yet available</td>\n",
       "      <td>Active</td>\n",
       "      <td>Oncology</td>\n",
       "      <td>cancer</td>\n",
       "      <td>EFO_0000311</td>\n",
       "      <td>NaN</td>\n",
       "      <td>NaN</td>\n",
       "      <td>NaN</td>\n",
       "      <td>NaN</td>\n",
       "    </tr>\n",
       "    <tr>\n",
       "      <th>77</th>\n",
       "      <td>OTAR2075</td>\n",
       "      <td>Loss-of-function</td>\n",
       "      <td>Maya Ghoussaini/Gosya Trynka</td>\n",
       "      <td>Y</td>\n",
       "      <td>Not yet available</td>\n",
       "      <td>Active</td>\n",
       "      <td>Informatics</td>\n",
       "      <td>NaN</td>\n",
       "      <td>NaN</td>\n",
       "      <td>NaN</td>\n",
       "      <td>NaN</td>\n",
       "      <td>NaN</td>\n",
       "      <td>NaN</td>\n",
       "    </tr>\n",
       "    <tr>\n",
       "      <th>78</th>\n",
       "      <td>OTAR2077</td>\n",
       "      <td>eQTL Catalogue expansion</td>\n",
       "      <td>Kaur Alasoo</td>\n",
       "      <td>Y</td>\n",
       "      <td>Not yet available</td>\n",
       "      <td>Active</td>\n",
       "      <td>Informatics</td>\n",
       "      <td>NaN</td>\n",
       "      <td>NaN</td>\n",
       "      <td>NaN</td>\n",
       "      <td>NaN</td>\n",
       "      <td>NaN</td>\n",
       "      <td>NaN</td>\n",
       "    </tr>\n",
       "    <tr>\n",
       "      <th>79</th>\n",
       "      <td>OTAR2078</td>\n",
       "      <td>Target Engine</td>\n",
       "      <td>Ian Dunham</td>\n",
       "      <td>Y</td>\n",
       "      <td>Not yet available</td>\n",
       "      <td>Active</td>\n",
       "      <td>Informatics</td>\n",
       "      <td>NaN</td>\n",
       "      <td>NaN</td>\n",
       "      <td>NaN</td>\n",
       "      <td>NaN</td>\n",
       "      <td>NaN</td>\n",
       "      <td>NaN</td>\n",
       "    </tr>\n",
       "    <tr>\n",
       "      <th>80</th>\n",
       "      <td>OTAR2081</td>\n",
       "      <td>Sequence variation</td>\n",
       "      <td>Pedro Beltrao</td>\n",
       "      <td>Y</td>\n",
       "      <td>Not yet available</td>\n",
       "      <td>Active</td>\n",
       "      <td>Informatics</td>\n",
       "      <td>NaN</td>\n",
       "      <td>NaN</td>\n",
       "      <td>NaN</td>\n",
       "      <td>NaN</td>\n",
       "      <td>NaN</td>\n",
       "      <td>NaN</td>\n",
       "    </tr>\n",
       "  </tbody>\n",
       "</table>\n",
       "</div>"
      ],
      "text/plain": [
       "   otar_code                                       project_name  \\\n",
       "73  OTAR2076  Phenotypic mapping of gene functions in immune...   \n",
       "74  OTAR2079          Saturation Genome Editing in Immune Genes   \n",
       "75  OTAR2080  Natural Killer cell evasion and exhaustion med...   \n",
       "77  OTAR2075                                   Loss-of-function   \n",
       "78  OTAR2077                           eQTL Catalogue expansion   \n",
       "79  OTAR2078                                      Target Engine   \n",
       "80  OTAR2081                                 Sequence variation   \n",
       "\n",
       "                    project_lead generates_data     data_available  \\\n",
       "73                  Gosia Trynka              Y  Not yet available   \n",
       "74       Gosia Trynka/Dave Adams              Y  Not yet available   \n",
       "75                   Annie Speak              Y  Not yet available   \n",
       "77  Maya Ghoussaini/Gosya Trynka              Y  Not yet available   \n",
       "78                   Kaur Alasoo              Y  Not yet available   \n",
       "79                    Ian Dunham              Y  Not yet available   \n",
       "80                 Pedro Beltrao              Y  Not yet available   \n",
       "\n",
       "   project_status open_targets_therapeutic_area     efo_disease_label  \\\n",
       "73         Active     Immunology / Inflammation     colorectal cancer   \n",
       "74         Active     Immunology / Inflammation  Rheumatoid arthritis   \n",
       "75         Active                      Oncology                cancer   \n",
       "77         Active                   Informatics                   NaN   \n",
       "78         Active                   Informatics                   NaN   \n",
       "79         Active                   Informatics                   NaN   \n",
       "80         Active                   Informatics                   NaN   \n",
       "\n",
       "   efo_disease_id pubmed_ids epmc_preprint_ids other_publication_dois notes  \n",
       "73    EFO_0005842        NaN               NaN                    NaN   NaN  \n",
       "74    EFO_0000685        NaN               NaN                    NaN   NaN  \n",
       "75    EFO_0000311        NaN               NaN                    NaN   NaN  \n",
       "77            NaN        NaN               NaN                    NaN   NaN  \n",
       "78            NaN        NaN               NaN                    NaN   NaN  \n",
       "79            NaN        NaN               NaN                    NaN   NaN  \n",
       "80            NaN        NaN               NaN                    NaN   NaN  "
      ]
     },
     "execution_count": 41,
     "metadata": {},
     "output_type": "execute_result"
    }
   ],
   "source": [
    "for table in [master, project2disease, meta]:\n",
    "    print(len(table.otar_code.unique()))\n",
    "    \n",
    "print('so some of the project to disease mapping is missing. Could be projects with no disease? Shouldn\\'t be null?')\n",
    "\n",
    "(\n",
    "    meta\n",
    "    .loc[ ~meta.otar_code.isin(project2disease.otar_code.to_list())]\n",
    ")"
   ]
  },
  {
   "cell_type": "markdown",
   "id": "e9ec0b94",
   "metadata": {},
   "source": [
    "There are 7 projects. 3 of them HAS disease. We need to add them."
   ]
  },
  {
   "cell_type": "code",
   "execution_count": 129,
   "id": "3c033e4b",
   "metadata": {
    "ExecuteTime": {
     "end_time": "2022-06-01T15:26:24.932031Z",
     "start_time": "2022-06-01T15:26:24.923269Z"
    }
   },
   "outputs": [],
   "source": [
    "# These are the projects from the meta table that were not found in the project to disease table:\n",
    "new_projects = (\n",
    "    meta\n",
    "    .loc[ ~meta.otar_code.isin(project2disease.otar_code.to_list())]\n",
    "    [['otar_code', 'efo_disease_id']]\n",
    "    .drop_duplicates()\n",
    ")\n",
    "\n",
    "\n",
    "# Combining dataframes:\n",
    "project2disease_updated = (\n",
    "\n",
    "    # Adding new disease/project pairs\n",
    "    pd.concat([project2disease, new_projects])\n",
    ")\n",
    "\n",
    "# updating EFO mapping for OTAR036:\n",
    "(\n",
    "    project2disease_updated\n",
    "    .loc[project2disease_updated.otar_code == 'OTAR036', 'efo_disease_id']\n",
    ") = 'Orphanet_282|MONDO_0005180|MONDO_0004975'\n"
   ]
  },
  {
   "cell_type": "markdown",
   "id": "2d91976f",
   "metadata": {
    "ExecuteTime": {
     "end_time": "2022-06-01T08:50:33.270539Z",
     "start_time": "2022-06-01T08:50:33.259516Z"
    }
   },
   "source": [
    "Do we have all the diseases? If we split the disease column and explode, we should get the same number of rows in the master table.... I would be super surprised if that would be the case."
   ]
  },
  {
   "cell_type": "code",
   "execution_count": 130,
   "id": "10a32692",
   "metadata": {
    "ExecuteTime": {
     "end_time": "2022-06-01T15:26:32.514224Z",
     "start_time": "2022-06-01T15:26:32.502246Z"
    }
   },
   "outputs": [
    {
     "data": {
      "text/html": [
       "<div>\n",
       "<style scoped>\n",
       "    .dataframe tbody tr th:only-of-type {\n",
       "        vertical-align: middle;\n",
       "    }\n",
       "\n",
       "    .dataframe tbody tr th {\n",
       "        vertical-align: top;\n",
       "    }\n",
       "\n",
       "    .dataframe thead th {\n",
       "        text-align: right;\n",
       "    }\n",
       "</style>\n",
       "<table border=\"1\" class=\"dataframe\">\n",
       "  <thead>\n",
       "    <tr style=\"text-align: right;\">\n",
       "      <th></th>\n",
       "      <th>otar_code</th>\n",
       "      <th>efo_disease_id</th>\n",
       "      <th>diseases</th>\n",
       "    </tr>\n",
       "  </thead>\n",
       "  <tbody>\n",
       "    <tr>\n",
       "      <th>0</th>\n",
       "      <td>OTAR001</td>\n",
       "      <td>-</td>\n",
       "      <td>-</td>\n",
       "    </tr>\n",
       "    <tr>\n",
       "      <th>1</th>\n",
       "      <td>OTAR003</td>\n",
       "      <td>-</td>\n",
       "      <td>-</td>\n",
       "    </tr>\n",
       "    <tr>\n",
       "      <th>2</th>\n",
       "      <td>OTAR004</td>\n",
       "      <td>-</td>\n",
       "      <td>-</td>\n",
       "    </tr>\n",
       "    <tr>\n",
       "      <th>3</th>\n",
       "      <td>OTAR005</td>\n",
       "      <td>-</td>\n",
       "      <td>-</td>\n",
       "    </tr>\n",
       "    <tr>\n",
       "      <th>4</th>\n",
       "      <td>OTAR006</td>\n",
       "      <td>-</td>\n",
       "      <td>-</td>\n",
       "    </tr>\n",
       "    <tr>\n",
       "      <th>...</th>\n",
       "      <td>...</td>\n",
       "      <td>...</td>\n",
       "      <td>...</td>\n",
       "    </tr>\n",
       "    <tr>\n",
       "      <th>75</th>\n",
       "      <td>OTAR2080</td>\n",
       "      <td>EFO_0000311</td>\n",
       "      <td>EFO_0000311</td>\n",
       "    </tr>\n",
       "    <tr>\n",
       "      <th>77</th>\n",
       "      <td>OTAR2075</td>\n",
       "      <td>-</td>\n",
       "      <td>-</td>\n",
       "    </tr>\n",
       "    <tr>\n",
       "      <th>78</th>\n",
       "      <td>OTAR2077</td>\n",
       "      <td>-</td>\n",
       "      <td>-</td>\n",
       "    </tr>\n",
       "    <tr>\n",
       "      <th>79</th>\n",
       "      <td>OTAR2078</td>\n",
       "      <td>-</td>\n",
       "      <td>-</td>\n",
       "    </tr>\n",
       "    <tr>\n",
       "      <th>80</th>\n",
       "      <td>OTAR2081</td>\n",
       "      <td>-</td>\n",
       "      <td>-</td>\n",
       "    </tr>\n",
       "  </tbody>\n",
       "</table>\n",
       "<p>275 rows × 3 columns</p>\n",
       "</div>"
      ],
      "text/plain": [
       "   otar_code efo_disease_id     diseases\n",
       "0    OTAR001              -            -\n",
       "1    OTAR003              -            -\n",
       "2    OTAR004              -            -\n",
       "3    OTAR005              -            -\n",
       "4    OTAR006              -            -\n",
       "..       ...            ...          ...\n",
       "75  OTAR2080    EFO_0000311  EFO_0000311\n",
       "77  OTAR2075              -            -\n",
       "78  OTAR2077              -            -\n",
       "79  OTAR2078              -            -\n",
       "80  OTAR2081              -            -\n",
       "\n",
       "[275 rows x 3 columns]"
      ]
     },
     "execution_count": 130,
     "metadata": {},
     "output_type": "execute_result"
    }
   ],
   "source": [
    "(\n",
    "    project2disease_updated\n",
    "    .fillna('-')\n",
    "    .assign(diseases = lambda df: df.efo_disease_id.str.split('|'))\n",
    "    .explode('diseases')\n",
    ")"
   ]
  },
  {
   "cell_type": "code",
   "execution_count": 58,
   "id": "a333d3b3",
   "metadata": {
    "ExecuteTime": {
     "end_time": "2022-06-01T10:14:06.046979Z",
     "start_time": "2022-06-01T10:14:06.042640Z"
    }
   },
   "outputs": [
    {
     "name": "stdout",
     "output_type": "stream",
     "text": [
      "Columns not found in meta:\n",
      "[]\n",
      "Columns not found in master:\n",
      "[]\n"
     ]
    }
   ],
   "source": [
    "print('Columns not found in meta:')\n",
    "print([column for column in master.columns if column not in meta.columns])\n",
    "\n",
    "print('Columns not found in master:')\n",
    "print([column for column in meta.columns if column not in master.columns])"
   ]
  },
  {
   "cell_type": "code",
   "execution_count": 63,
   "id": "27b75d0d",
   "metadata": {
    "ExecuteTime": {
     "end_time": "2022-06-01T10:50:42.827873Z",
     "start_time": "2022-06-01T10:50:42.820294Z"
    }
   },
   "outputs": [
    {
     "name": "stdout",
     "output_type": "stream",
     "text": [
      "81\n",
      "91\n"
     ]
    }
   ],
   "source": [
    "# Dropping disease columns from meta table:\n",
    "meta = meta.drop(['efo_disease_label', 'efo_disease_id'], axis=1)\n",
    "print(len(meta))\n",
    "# \n",
    "\n",
    "master = master.drop(['efo_disease_label', 'efo_disease_id'], axis=1).drop_duplicates()\n",
    "print(len(master))"
   ]
  },
  {
   "cell_type": "code",
   "execution_count": 92,
   "id": "749deb1b",
   "metadata": {
    "ExecuteTime": {
     "end_time": "2022-06-01T13:56:08.774071Z",
     "start_time": "2022-06-01T13:56:08.573509Z"
    }
   },
   "outputs": [
    {
     "name": "stdout",
     "output_type": "stream",
     "text": [
      "\n",
      "OTAR015\n",
      "other_publication_dois: nan, \n",
      "notes: * Mapping file generated by MS and reviewed by project team,nan\n",
      "\n",
      "OTAR016\n",
      "notes: GDSC cell lines are in OTAR015 above so this is dealt with already. The analysis gets lumped into the types above,nan\n",
      "\n",
      "OTAR033\n",
      "notes: Also \"atopic dermatitis\" aka \"atopic eczema\" EFO_0000274,nan\n",
      "\n",
      "OTAR037\n",
      "pubmed_ids: 33152068,>>\n",
      "notes: Also Parkinson's Disease MONDO_0005180,nan\n",
      "\n",
      "OTAR040\n",
      "pubmed_ids: 31548716|32286271 | 34402426,>>\n",
      "epmc_preprint_ids: PPR380389 ,nan\n",
      "notes: nan,No! Inflammatory Bowel Disease EFO_0003767\n",
      "\n",
      "OTAR041\n",
      "project_name: CELLector,CELLector \n",
      "pubmed_ids: 32437684,>>\n",
      "notes: is cancer too broad of a term?,nan\n",
      "\n",
      "OTAR2055\n",
      "pubmed_ids: 31862961|33712601 | 33500573,>>\n",
      "epmc_preprint_ids: PPR166364,>>\n",
      "notes: use same mapping file used for OTAR015? YES,nan\n",
      "\n",
      "OTAR2059\n",
      "notes: Oncology and neurodegeneration. Get oncology types from Panos ,nan\n",
      "\n",
      "OTAR2063\n",
      "notes: nan,No! Inflammatory Bowel Disease EFO_0003767\n"
     ]
    }
   ],
   "source": [
    "for otar_code in sorted(master['otar_code'].value_counts().loc[lambda s: s > 1].index.to_list()):\n",
    "    print('\\n' + otar_code)\n",
    "    for c in master.columns:\n",
    "        if len(master.query('otar_code == @otar_code')[c].unique()) > 1:\n",
    "            print(c + ': ' + ','.join([str(x) for x in master.query('otar_code == @otar_code')[c].unique()]))"
   ]
  },
  {
   "cell_type": "markdown",
   "id": "b622d530",
   "metadata": {
    "ExecuteTime": {
     "end_time": "2022-06-01T13:54:05.826148Z",
     "start_time": "2022-06-01T13:54:05.822459Z"
    }
   },
   "source": [
    "### Updating fields in the metadata sheet\n",
    "\n",
    "- [x] OTAR015: Nothing to update\n",
    "- [x] OTAR016: Nothing to update\n",
    "- [x] OTAR033: EFO checked, but eczema is there, so note is deleted.\n",
    "- [x] OTAR037: EFO checked, but Parkinson's disease is there, so note is deleted.\n",
    "- [x] OTAR040: No update was necessary.\n",
    "- [x] OTAR041: No update\n",
    "- [x] OTAR2055: No update\n",
    "- [x] OTAR2059: No update\n",
    "- [x] OTAR2063: No update"
   ]
  },
  {
   "cell_type": "code",
   "execution_count": 103,
   "id": "ab4a1770",
   "metadata": {
    "ExecuteTime": {
     "end_time": "2022-06-01T15:05:10.583658Z",
     "start_time": "2022-06-01T15:05:10.579944Z"
    }
   },
   "outputs": [
    {
     "data": {
      "text/plain": [
       "Index(['otar_code', 'project_name', 'project_lead', 'generates_data',\n",
       "       'data_available', 'project_status', 'open_targets_therapeutic_area',\n",
       "       'pubmed_ids', 'epmc_preprint_ids', 'other_publication_dois', 'notes'],\n",
       "      dtype='object')"
      ]
     },
     "execution_count": 103,
     "metadata": {},
     "output_type": "execute_result"
    }
   ],
   "source": []
  },
  {
   "cell_type": "code",
   "execution_count": 131,
   "id": "fb8d939a",
   "metadata": {
    "ExecuteTime": {
     "end_time": "2022-06-01T15:26:54.507254Z",
     "start_time": "2022-06-01T15:26:54.502474Z"
    }
   },
   "outputs": [
    {
     "data": {
      "text/plain": [
       "['EFO_0000685|MONDO_0005301|EFO_0003767|MONDO_0004979|MONDO_0005271']"
      ]
     },
     "execution_count": 131,
     "metadata": {},
     "output_type": "execute_result"
    }
   ],
   "source": [
    "(\n",
    "    project2disease_updated\n",
    "    .loc[(project2disease_updated.otar_code == 'OTAR2063') ]\n",
    "    .efo_disease_id\n",
    "    .to_list()\n",
    ")"
   ]
  },
  {
   "cell_type": "code",
   "execution_count": 132,
   "id": "27c09e68",
   "metadata": {
    "ExecuteTime": {
     "end_time": "2022-06-01T15:26:59.949970Z",
     "start_time": "2022-06-01T15:26:59.944087Z"
    }
   },
   "outputs": [],
   "source": [
    "import numpy as np\n",
    "\n",
    "def clean_list(s: str) -> str:\n",
    "    \"\"\"This function assumes to get a list of string values concatenated using |\n",
    "    \n",
    "    Removes all spaces, trims, if empty string is given, returns none.\n",
    "    \"\"\"\n",
    "    \n",
    "    if (s == '') or (s is None) or (s == np.nan) or (isinstance(s, float)):\n",
    "        return None\n",
    "\n",
    "    return s.replace(' ', '')\n",
    "\n",
    "# Cleaning disease labels:\n",
    "project2disease_updated = (\n",
    "    project2disease_updated\n",
    "    .assign(efo_disease_id = lambda df: df.efo_disease_id.apply(clean_list))\n",
    ")"
   ]
  },
  {
   "cell_type": "code",
   "execution_count": 122,
   "id": "cd0c3d3d",
   "metadata": {
    "ExecuteTime": {
     "end_time": "2022-06-01T15:19:05.851360Z",
     "start_time": "2022-06-01T15:19:05.840956Z"
    }
   },
   "outputs": [],
   "source": [
    "(\n",
    "    project2disease_updated\n",
    "    .loc[(~project2disease_updated.efo_disease_id.isna())]\n",
    "    .loc[lambda df: ~(df.efo_disease_id.str.contains('_'))]\n",
    ")"
   ]
  },
  {
   "cell_type": "code",
   "execution_count": 121,
   "id": "8eda5902",
   "metadata": {
    "ExecuteTime": {
     "end_time": "2022-06-01T15:19:00.073530Z",
     "start_time": "2022-06-01T15:19:00.069358Z"
    }
   },
   "outputs": [],
   "source": [
    "# Cleaning the list in the meta dataset:\n",
    "meta = (\n",
    "    meta\n",
    "    .assign(\n",
    "        other_publication_dois = lambda df: df.other_publication_dois.apply(clean_list),\n",
    "        epmc_preprint_ids = lambda df: df.epmc_preprint_ids.apply(clean_list),\n",
    "        pubmed_ids = lambda df: df.pubmed_ids.apply(clean_list)\n",
    "    )\n",
    ")"
   ]
  },
  {
   "cell_type": "markdown",
   "id": "e95151d6",
   "metadata": {},
   "source": [
    "### Saving data\n",
    "\n",
    "The two datasets are saved as excel files. The data is then transferred to the original destination, then a new release is saved."
   ]
  },
  {
   "cell_type": "code",
   "execution_count": 123,
   "id": "75fc25aa",
   "metadata": {
    "ExecuteTime": {
     "end_time": "2022-06-01T15:20:21.762039Z",
     "start_time": "2022-06-01T15:20:21.722495Z"
    }
   },
   "outputs": [],
   "source": [
    "meta.to_excel('meta_table_updated.xlsx', index=False)"
   ]
  },
  {
   "cell_type": "code",
   "execution_count": 152,
   "id": "5a71fdf2",
   "metadata": {
    "ExecuteTime": {
     "end_time": "2022-06-01T15:52:32.702425Z",
     "start_time": "2022-06-01T15:52:32.655459Z"
    }
   },
   "outputs": [],
   "source": [
    "project2disease_updated = (\n",
    "    project2disease_updated\n",
    "    .assign(efo_disease_id = lambda df: df.efo_disease_id.str.split('|'))\n",
    "    .explode('efo_disease_id')\n",
    "#     .to_excel('project2disease_updated.xlsx', index=False)\n",
    ")\n",
    "project2disease_updated.to_excel('project2disease_updated.xlsx', index=False)"
   ]
  },
  {
   "cell_type": "code",
   "execution_count": 135,
   "id": "1ad13729",
   "metadata": {
    "ExecuteTime": {
     "end_time": "2022-06-01T15:28:29.412733Z",
     "start_time": "2022-06-01T15:28:29.400585Z"
    }
   },
   "outputs": [
    {
     "data": {
      "text/plain": [
       "79"
      ]
     },
     "execution_count": 135,
     "metadata": {},
     "output_type": "execute_result"
    }
   ],
   "source": [
    "len(project2disease_updated.otar_code.unique())"
   ]
  },
  {
   "cell_type": "code",
   "execution_count": 137,
   "id": "a83b8e34",
   "metadata": {
    "ExecuteTime": {
     "end_time": "2022-06-01T15:29:12.220638Z",
     "start_time": "2022-06-01T15:29:12.214629Z"
    }
   },
   "outputs": [
    {
     "data": {
      "text/plain": [
       "OTAR2059    3\n",
       "Name: otar_code, dtype: int64"
      ]
     },
     "execution_count": 137,
     "metadata": {},
     "output_type": "execute_result"
    }
   ],
   "source": [
    "meta.otar_code.value_counts().loc[lambda s: s > 1]"
   ]
  },
  {
   "cell_type": "code",
   "execution_count": 140,
   "id": "68b15be3",
   "metadata": {
    "ExecuteTime": {
     "end_time": "2022-06-01T15:32:34.613322Z",
     "start_time": "2022-06-01T15:32:34.597465Z"
    }
   },
   "outputs": [
    {
     "data": {
      "text/html": [
       "<div>\n",
       "<style scoped>\n",
       "    .dataframe tbody tr th:only-of-type {\n",
       "        vertical-align: middle;\n",
       "    }\n",
       "\n",
       "    .dataframe tbody tr th {\n",
       "        vertical-align: top;\n",
       "    }\n",
       "\n",
       "    .dataframe thead th {\n",
       "        text-align: right;\n",
       "    }\n",
       "</style>\n",
       "<table border=\"1\" class=\"dataframe\">\n",
       "  <thead>\n",
       "    <tr style=\"text-align: right;\">\n",
       "      <th></th>\n",
       "      <th>otar_code</th>\n",
       "      <th>project_name</th>\n",
       "      <th>project_lead</th>\n",
       "      <th>generates_data</th>\n",
       "      <th>data_available</th>\n",
       "      <th>project_status</th>\n",
       "      <th>open_targets_therapeutic_area</th>\n",
       "      <th>efo_disease_label</th>\n",
       "      <th>efo_disease_id</th>\n",
       "      <th>pubmed_ids</th>\n",
       "      <th>epmc_preprint_ids</th>\n",
       "      <th>other_publication_dois</th>\n",
       "      <th>notes</th>\n",
       "    </tr>\n",
       "  </thead>\n",
       "  <tbody>\n",
       "    <tr>\n",
       "      <th>56</th>\n",
       "      <td>OTAR2059</td>\n",
       "      <td>Experimental Platform Pilot</td>\n",
       "      <td>Panos Zalmas</td>\n",
       "      <td>Y</td>\n",
       "      <td>Does not generate data</td>\n",
       "      <td>Active</td>\n",
       "      <td>Oncology</td>\n",
       "      <td>breast carcinoma</td>\n",
       "      <td>EFO_0000305</td>\n",
       "      <td>--</td>\n",
       "      <td>NaN</td>\n",
       "      <td>NaN</td>\n",
       "      <td>Oncology and neurodegeneration. Get oncology t...</td>\n",
       "    </tr>\n",
       "    <tr>\n",
       "      <th>57</th>\n",
       "      <td>OTAR2059</td>\n",
       "      <td>Experimental Platform Pilot</td>\n",
       "      <td>Panos Zalmas</td>\n",
       "      <td>Y</td>\n",
       "      <td>Does not generate data</td>\n",
       "      <td>Active</td>\n",
       "      <td>Oncology</td>\n",
       "      <td>colorectal carcinoma</td>\n",
       "      <td>EFO_1001951</td>\n",
       "      <td>--</td>\n",
       "      <td>NaN</td>\n",
       "      <td>NaN</td>\n",
       "      <td>NaN</td>\n",
       "    </tr>\n",
       "    <tr>\n",
       "      <th>76</th>\n",
       "      <td>OTAR2059</td>\n",
       "      <td>Experimental Platform Pilot\\n</td>\n",
       "      <td>Panos Zalmas/Mathew Garnett</td>\n",
       "      <td>Y</td>\n",
       "      <td>Not yet available</td>\n",
       "      <td>Active</td>\n",
       "      <td>Other Therapy Area</td>\n",
       "      <td>NaN</td>\n",
       "      <td>NaN</td>\n",
       "      <td>NaN</td>\n",
       "      <td>NaN</td>\n",
       "      <td>NaN</td>\n",
       "      <td>NaN</td>\n",
       "    </tr>\n",
       "  </tbody>\n",
       "</table>\n",
       "</div>"
      ],
      "text/plain": [
       "   otar_code                   project_name                 project_lead  \\\n",
       "56  OTAR2059    Experimental Platform Pilot                 Panos Zalmas   \n",
       "57  OTAR2059    Experimental Platform Pilot                 Panos Zalmas   \n",
       "76  OTAR2059  Experimental Platform Pilot\\n  Panos Zalmas/Mathew Garnett   \n",
       "\n",
       "   generates_data          data_available project_status  \\\n",
       "56              Y  Does not generate data         Active   \n",
       "57              Y  Does not generate data         Active   \n",
       "76              Y       Not yet available         Active   \n",
       "\n",
       "   open_targets_therapeutic_area     efo_disease_label efo_disease_id  \\\n",
       "56                      Oncology      breast carcinoma    EFO_0000305   \n",
       "57                      Oncology  colorectal carcinoma    EFO_1001951   \n",
       "76            Other Therapy Area                   NaN            NaN   \n",
       "\n",
       "   pubmed_ids epmc_preprint_ids other_publication_dois  \\\n",
       "56         --               NaN                    NaN   \n",
       "57         --               NaN                    NaN   \n",
       "76        NaN               NaN                    NaN   \n",
       "\n",
       "                                                notes  \n",
       "56  Oncology and neurodegeneration. Get oncology t...  \n",
       "57                                                NaN  \n",
       "76                                                NaN  "
      ]
     },
     "execution_count": 140,
     "metadata": {},
     "output_type": "execute_result"
    }
   ],
   "source": [
    "meta.query(\"otar_code == 'OTAR2059'\")"
   ]
  }
 ],
 "metadata": {
  "kernelspec": {
   "display_name": "Python 3",
   "language": "python",
   "name": "python3"
  },
  "language_info": {
   "codemirror_mode": {
    "name": "ipython",
    "version": 3
   },
   "file_extension": ".py",
   "mimetype": "text/x-python",
   "name": "python",
   "nbconvert_exporter": "python",
   "pygments_lexer": "ipython3",
   "version": "3.9.5"
  }
 },
 "nbformat": 4,
 "nbformat_minor": 5
}
