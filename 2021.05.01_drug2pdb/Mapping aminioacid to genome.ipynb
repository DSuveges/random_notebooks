{
 "cells": [
  {
   "cell_type": "markdown",
   "id": "77090c8c",
   "metadata": {},
   "source": [
    "# Amino acids 2 Genomic coordinates\n",
    "\n",
    "    \n",
    "We need a precise logic to map a given amino acid of the "
   ]
  }
 ],
 "metadata": {
  "kernelspec": {
   "display_name": "Python 3",
   "language": "python",
   "name": "python3"
  },
  "language_info": {
   "codemirror_mode": {
    "name": "ipython",
    "version": 3
   },
   "file_extension": ".py",
   "mimetype": "text/x-python",
   "name": "python",
   "nbconvert_exporter": "python",
   "pygments_lexer": "ipython3",
   "version": "3.9.5"
  }
 },
 "nbformat": 4,
 "nbformat_minor": 5
}
