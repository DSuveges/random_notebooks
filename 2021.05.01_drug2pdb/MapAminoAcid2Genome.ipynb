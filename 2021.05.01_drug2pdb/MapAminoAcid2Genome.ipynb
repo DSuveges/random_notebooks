{
 "cells": [
  {
   "cell_type": "markdown",
   "id": "95dbf105",
   "metadata": {},
   "source": [
    "# Resolving issue with aa2genome mapping\n",
    "\n",
    "\n",
    "We are experiencing issues with finding the correct genomic location for a given amino acid position. This needs to be resolved now.\n",
    "\n",
    "**Steps:**\n",
    "1. Reading PLIP output that contains all interactions: pdb id, chain id, residue number, residue\n",
    "2. Joining this table with the pdb2Ensembl mapping file.\n",
    "3. Look up detailed mapping via the REST API.\n",
    "4. Based on the returned mapped region, we have to find out the precise genomic location of the interacting residue.\n",
    "5. Extract overlapping triplet from genome.\n",
    "6. Validate the translation.\n",
    "\n"
   ]
  },
  {
   "cell_type": "code",
   "execution_count": 5,
   "id": "e4e37d0e",
   "metadata": {
    "ExecuteTime": {
     "end_time": "2022-04-27T21:21:54.881376Z",
     "start_time": "2022-04-27T21:21:50.460466Z"
    }
   },
   "outputs": [],
   "source": [
    "import requests \n",
    "import pandas as pd\n",
    "from pyspark.sql.types import ArrayType, StringType, IntegerType\n",
    "from pyspark.sql import SparkSession\n",
    "import pyspark.sql.functions as f\n",
    "\n",
    "# establish spark connection\n",
    "spark = (\n",
    "    SparkSession.builder\n",
    "    .master('local[*]')\n",
    "    .getOrCreate()\n",
    ")\n",
    "\n"
   ]
  },
  {
   "cell_type": "code",
   "execution_count": 25,
   "id": "d1a44e32",
   "metadata": {
    "ExecuteTime": {
     "end_time": "2022-04-27T21:32:33.447899Z",
     "start_time": "2022-04-27T21:32:30.295683Z"
    }
   },
   "outputs": [
    {
     "name": "stdout",
     "output_type": "stream",
     "text": [
      "+----------------+-------------+---------------+----------+\n",
      "|pdb_structure_id|prot_chain_id|      target_id|uniprot_id|\n",
      "+----------------+-------------+---------------+----------+\n",
      "|            1a02|            F|ENSG00000170345|    P01100|\n",
      "|            1a1e|            A|ENSG00000197122|    P12931|\n",
      "|            1awz|            A|ENSG00000214274|    P03950|\n",
      "|            1bqq|            M|ENSG00000157227|    P50281|\n",
      "|            1c45|            A|ENSG00000090382|    P61626|\n",
      "|            1cj6|            A|ENSG00000090382|    P61626|\n",
      "|            1cz8|            V|ENSG00000112715|    P15692|\n",
      "|            1d0j|            C|ENSG00000127191|    Q12933|\n",
      "|            1ds5|            G|ENSG00000224774|    P67870|\n",
      "|            1duz|            A|ENSG00000206503|    P04439|\n",
      "|            1fmk|            A|ENSG00000197122|    P12931|\n",
      "|            1ft8|            C|ENSG00000162231|    Q9UBU9|\n",
      "|            1gbu|            C|ENSG00000206172|    P69905|\n",
      "|            1gk4|            E|ENSG00000026025|    P08670|\n",
      "|            1gk7|            A|ENSG00000026025|    P08670|\n",
      "|            1go4|            E|ENSG00000002822|    Q9Y6D9|\n",
      "|            1h26|            B|ENSG00000145386|    P20248|\n",
      "|            1h2n|            A|ENSG00000166135|    Q9NWT6|\n",
      "|            1hga|            A|ENSG00000206172|    P69905|\n",
      "|            1ict|            F|ENSG00000118271|    P02766|\n",
      "+----------------+-------------+---------------+----------+\n",
      "only showing top 20 rows\n",
      "\n"
     ]
    }
   ],
   "source": [
    "# Reading sifts datafile:\n",
    "gene_mapping = (\n",
    "    spark.read.csv('data/pdb_chain_ensembl.csv.gz', sep=',', header=True, comment='#')\n",
    "    .filter(f.col('GENE_ID').startswith('ENSG0'))\n",
    "    .select(\n",
    "        f.col('PDB').alias('pdb_structure_id'),\n",
    "        f.col('CHAIN').alias('prot_chain_id'),\n",
    "        f.col('GENE_ID').alias('target_id'),\n",
    "        f.col('SP_PRIMARY').alias('uniprot_id')\n",
    "    )\n",
    "    .distinct()\n",
    "    .persist()\n",
    ")\n",
    "\n",
    "gene_mapping.show()"
   ]
  },
  {
   "cell_type": "code",
   "execution_count": 28,
   "id": "ec4d0c82",
   "metadata": {
    "ExecuteTime": {
     "end_time": "2022-04-27T21:33:58.414669Z",
     "start_time": "2022-04-27T21:33:56.954007Z"
    }
   },
   "outputs": [
    {
     "name": "stdout",
     "output_type": "stream",
     "text": [
      "-RECORD 0------------------------------\n",
      " pdb_structure_id    | 1d2s            \n",
      " prot_chain_id       | A               \n",
      " compound_id         | DHT             \n",
      " interaction_type    | hbond           \n",
      " prot_residue_number | 65              \n",
      " prot_residue_type   | ASP             \n",
      " target_id           | ENSG00000129214 \n",
      " uniprot_id          | P04278          \n",
      "only showing top 1 row\n",
      "\n"
     ]
    }
   ],
   "source": [
    "interacting_residues = (\n",
    "    spark.read.csv('/Users/dsuveges/project_data/marine/plip_output.csv', sep=',', header=True)\n",
    "    .join(gene_mapping, on=['pdb_structure_id', 'prot_chain_id'], how='left')\n",
    "    .persist()\n",
    ")\n",
    "\n",
    "interacting_residues.show(1, vertical=True, truncate=False)"
   ]
  },
  {
   "cell_type": "markdown",
   "id": "b7908d99",
   "metadata": {},
   "source": [
    "## Can the chain -> uniprot assignments be ambigous?\n",
    "\n",
    "- Take mapping file, group by pdb/chain, collect list of gene ids.\n",
    "- Observe the output."
   ]
  },
  {
   "cell_type": "code",
   "execution_count": 33,
   "id": "64e5903d",
   "metadata": {
    "ExecuteTime": {
     "end_time": "2022-04-27T21:39:28.020555Z",
     "start_time": "2022-04-27T21:39:11.488348Z"
    }
   },
   "outputs": [
    {
     "name": "stdout",
     "output_type": "stream",
     "text": [
      "-RECORD 0---------------------------------------------------------------------------------------------------------------------------------------------------------------------------------------------------------------------------------------------------------------------------------------------------------------------------------------------------------------------------------\n",
      " pdb_structure_id | 1b6u                                                                                                                                                                                                                                                                                                                                                                  \n",
      " prot_chain_id    | A                                                                                                                                                                                                                                                                                                                                                                     \n",
      " gene_ids         | [ENSG00000275623, ENSG00000275658, ENSG00000277924, ENSG00000284504, ENSG00000274402, ENSG00000277317, ENSG00000277554, ENSG00000277484, ENSG00000283790, ENSG00000284510, ENSG00000276218, ENSG00000283708, ENSG00000275008, ENSG00000284333, ENSG00000276590, ENSG00000283702, ENSG00000274108, ENSG00000276459, ENSG00000278327, ENSG00000243772, ENSG00000274410] \n",
      " gene_counts      | 21                                                                                                                                                                                                                                                                                                                                                                    \n",
      "only showing top 1 row\n",
      "\n"
     ]
    }
   ],
   "source": [
    "ambigous_chain_mapping = (\n",
    "    gene_mapping\n",
    "    .groupBy(['pdb_structure_id', 'prot_chain_id'])\n",
    "    .agg(f.collect_set(f.col('target_id')).alias('gene_ids'))\n",
    "    .withColumn('gene_counts', f.size(f.col('gene_ids')))\n",
    "    .filter(f.col('gene_counts')  > 1)\n",
    "    .orderBy('gene_counts', ascending=False)\n",
    "    .persist()\n",
    ")\n",
    "\n",
    "ambigous_chain_mapping.show(1, truncate=False, vertical=True)"
   ]
  },
  {
   "cell_type": "code",
   "execution_count": 35,
   "id": "e3aa57dc",
   "metadata": {
    "ExecuteTime": {
     "end_time": "2022-04-27T21:51:13.334317Z",
     "start_time": "2022-04-27T21:50:57.696675Z"
    }
   },
   "outputs": [
    {
     "name": "stdout",
     "output_type": "stream",
     "text": [
      "-RECORD 0------------------------------------\n",
      " pdb_structure_id | 4ono                     \n",
      " prot_chain_id    | A                        \n",
      " uniprot_ids      | [P61769, P29017, P29016] \n",
      " gene_counts      | 3                        \n",
      "only showing top 1 row\n",
      "\n"
     ]
    }
   ],
   "source": [
    "ambigous_chain_mapping = (\n",
    "    gene_mapping\n",
    "    .groupBy(['pdb_structure_id', 'prot_chain_id'])\n",
    "    .agg(f.collect_set(f.col('uniprot_id')).alias('uniprot_ids'))\n",
    "    .withColumn('gene_counts', f.size(f.col('uniprot_ids')))\n",
    "    .filter(f.col('gene_counts')  > 1)\n",
    "    .orderBy('gene_counts', ascending=False)\n",
    "    .persist()\n",
    ")\n",
    "\n",
    "ambigous_chain_mapping.show(1, truncate=False, vertical=True)"
   ]
  },
  {
   "cell_type": "markdown",
   "id": "828b91ac",
   "metadata": {},
   "source": [
    "- 10.9k structure/chain mapping to uniprot is ambigous: more then one ensembl gene id is linked.\n",
    "- For the structure `4ono`, the following uniprot ids are identified: P61769, P29017, P29016\n",
    "- Fetching these protein sequences and align them on [CLUSTAL OMEGA](https://www.ebi.ac.uk/Tools/msa/clustalo/)"
   ]
  },
  {
   "cell_type": "code",
   "execution_count": 36,
   "id": "43d7a0bd",
   "metadata": {
    "ExecuteTime": {
     "end_time": "2022-04-27T21:53:47.235547Z",
     "start_time": "2022-04-27T21:53:46.752019Z"
    }
   },
   "outputs": [
    {
     "name": "stdout",
     "output_type": "stream",
     "text": [
      ">sp|P61769|B2MG_HUMAN Beta-2-microglobulin OS=Homo sapiens OX=9606 GN=B2M PE=1 SV=1\n",
      "MSRSVALAVLALLSLSGLEAIQRTPKIQVYSRHPAENGKSNFLNCYVSGFHPSDIEVDLL\n",
      "KNGERIEKVEHSDLSFSKDWSFYLLYYTEFTPTEKDEYACRVNHVTLSQPKIVKWDRDM\n",
      "\n",
      ">sp|P29017|CD1C_HUMAN T-cell surface glycoprotein CD1c OS=Homo sapiens OX=9606 GN=CD1C PE=1 SV=2\n",
      "MLFLQFLLLALLLPGGDNADASQEHVSFHVIQIFSFVNQSWARGQGSGWLDELQTHGWDS\n",
      "ESGTIIFLHNWSKGNFSNEELSDLELLFRFYLFGLTREIQDHASQDYSKYPFEVQVKAGC\n",
      "ELHSGKSPEGFFQVAFNGLDLLSFQNTTWVPSPGCGSLAQSVCHLLNHQYEGVTETVYNL\n",
      "IRSTCPRFLLGLLDAGKMYVHRQVRPEAWLSSRPSLGSGQLLLVCHASGFYPKPVWVTWM\n",
      "RNEQEQLGTKHGDILPNADGTWYLQVILEVASEEPAGLSCRVRHSSLGGQDIILYWGHHF\n",
      "SMNWIALVVIVPLVILIVLVLWFKKHCSYQDIL\n",
      "\n",
      ">sp|P29016|CD1B_HUMAN T-cell surface glycoprotein CD1b OS=Homo sapiens OX=9606 GN=CD1B PE=1 SV=1\n",
      "MLLLPFQLLAVLFPGGNSEHAFQGPTSFHVIQTSSFTNSTWAQTQGSGWLDDLQIHGWDS\n",
      "DSGTAIFLKPWSKGNFSDKEVAELEEIFRVYIFGFAREVQDFAGDFQMKYPFEIQGIAGC\n",
      "ELHSGGAIVSFLRGALGGLDFLSVKNASCVPSPEGGSRAQKFCALIIQYQGIMETVRILL\n",
      "YETCPRYLLGVLNAGKADLQRQVKPEAWLSSGPSPGPGRLQLVCHVSGFYPKPVWVMWMR\n",
      "GEQEQQGTQLGDILPNANWTWYLRATLDVADGEAAGLSCRVKHSSLEGQDIILYWRNPTS\n",
      "IGSIVLAIIVPSLLLLLCLALWYMRRRSYQNIP\n",
      "\n"
     ]
    }
   ],
   "source": [
    "%%bash\n",
    "\n",
    "for uniprotid in P61769 P29017 P29016; do \n",
    "    curl -s https://www.uniprot.org/uniprot/${uniprotid}.fasta\n",
    "    echo\n",
    "done"
   ]
  },
  {
   "cell_type": "markdown",
   "id": "d62adf46",
   "metadata": {},
   "source": [
    "This is what the alignment shows:\n",
    "\n",
    "```\n",
    "sp|P61769|B2MG_HUMAN      ------------------------------------------------------------\n",
    "sp|P29017|CD1C_HUMAN      MLFLQFLLLALLLPGGDNADASQEHVSFHVIQIFSFVNQSWARGQGSGWLDELQTHGWDS\n",
    "sp|P29016|CD1B_HUMAN      MLLLPFQLLAVLFPGGNSEHAFQGPTSFHVIQTSSFTNSTWAQTQGSGWLDDLQIHGWDS\n",
    "                                                                                      \n",
    "\n",
    "sp|P61769|B2MG_HUMAN      ------------------------------------------------------------\n",
    "sp|P29017|CD1C_HUMAN      ESGTIIFLHNWSKGNFSNEELSDLELLFRFYLFGLTREIQDHASQDYSKYPFEVQVKAGC\n",
    "sp|P29016|CD1B_HUMAN      DSGTAIFLKPWSKGNFSDKEVAELEEIFRVYIFGFAREVQDFAGDFQMKYPFEIQGIAGC\n",
    "                                                                                      \n",
    "\n",
    "sp|P61769|B2MG_HUMAN      -----------------------------------------------------------M\n",
    "sp|P29017|CD1C_HUMAN      ELHSGKSPEGFFQVAFNGLDLLSFQNTTWVPSPGCGSLAQSVCHLLNHQYEGVTETVYNL\n",
    "sp|P29016|CD1B_HUMAN      ELHSGGAIVSFLRGALGGLDFLSVKNASCVPSPEGGSRAQKFCALI-IQYQGIMETVRIL\n",
    "                                                                                     :\n",
    "\n",
    "sp|P61769|B2MG_HUMAN      SR-SVALAVLALLSLSGLEAIQRTPKIQ-VYSRHPAENGKSNFLNCYVSGFHPSDIEVDL\n",
    "sp|P29017|CD1C_HUMAN      IRSTCPRFLLGLLD-AGKMYVHRQVRPEAWLSSRPSLGSGQLLLVCHASGFYPKPVWVTW\n",
    "sp|P29016|CD1B_HUMAN      LYETCPRYLLGVLN-AGKADLQRQVKPEAWLSSGPSPGPGRLQLVCHVSGFYPKPVWVMW\n",
    "                             :    :*.:*. :*   ::*  : :   *  *: .     * *:.***:*. : *  \n",
    "\n",
    "sp|P61769|B2MG_HUMAN      LKNGERIEKVEHSDLSFSKDWSFYLLYYTEFTPTEKDEYACRVNHVTLSQPKIVK-WDRD\n",
    "sp|P29017|CD1C_HUMAN      MRNEQEQLGTKHGDILPNADGTWYLQVILEVASEEPAGLSCRVRHSSLGGQDIILYWGHH\n",
    "sp|P29016|CD1B_HUMAN      MRGEQEQQGTQLGDILPNANWTWYLRATLDVADGEAAGLSCRVKHSSLEGQDIILYWRNP\n",
    "                          ::. :.   .: .*:  . : ::**    :.:  *    :***.* :*   .*:  * . \n",
    "\n",
    "sp|P61769|B2MG_HUMAN      M----------------------------------\n",
    "sp|P29017|CD1C_HUMAN      FSMNWIALVVIVPLV-ILIVLVLWFKKHCSYQDIL\n",
    "sp|P29016|CD1B_HUMAN      TSIGSIVLAIIVPSLLLLLCLALWYMRRRSYQNIP\n",
    "```\n",
    "\n",
    "Although the agreement is absolutely trash, all there are returned for this structure.\n",
    "\n",
    "The proti"
   ]
  },
  {
   "cell_type": "code",
   "execution_count": null,
   "id": "7e5c66fc",
   "metadata": {},
   "outputs": [],
   "source": []
  }
 ],
 "metadata": {
  "kernelspec": {
   "display_name": "Python 3",
   "language": "python",
   "name": "python3"
  },
  "language_info": {
   "codemirror_mode": {
    "name": "ipython",
    "version": 3
   },
   "file_extension": ".py",
   "mimetype": "text/x-python",
   "name": "python",
   "nbconvert_exporter": "python",
   "pygments_lexer": "ipython3",
   "version": "3.9.5"
  }
 },
 "nbformat": 4,
 "nbformat_minor": 5
}
