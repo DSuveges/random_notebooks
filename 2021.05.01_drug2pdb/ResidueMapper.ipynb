{
 "cells": [
  {
   "cell_type": "markdown",
   "id": "07ce6b0d",
   "metadata": {},
   "source": [
    "Parsing gencode file takes ~40sec"
   ]
  },
  {
   "cell_type": "code",
   "execution_count": 24,
   "id": "c2acca1b",
   "metadata": {
    "ExecuteTime": {
     "end_time": "2022-05-10T20:18:54.261908Z",
     "start_time": "2022-05-10T19:58:58.409172Z"
    },
    "scrolled": true
   },
   "outputs": [
    {
     "ename": "KeyboardInterrupt",
     "evalue": "",
     "output_type": "error",
     "traceback": [
      "\u001b[0;31m---------------------------------------------------------------------------\u001b[0m",
      "\u001b[0;31mKeyboardInterrupt\u001b[0m                         Traceback (most recent call last)",
      "\u001b[0;32m<ipython-input-24-bd2c31167b37>\u001b[0m in \u001b[0;36m<module>\u001b[0;34m\u001b[0m\n\u001b[1;32m     89\u001b[0m \u001b[0maminoacid_position\u001b[0m \u001b[0;34m=\u001b[0m \u001b[0;36m115\u001b[0m\u001b[0;34m\u001b[0m\u001b[0;34m\u001b[0m\u001b[0m\n\u001b[1;32m     90\u001b[0m \u001b[0;34m\u001b[0m\u001b[0m\n\u001b[0;32m---> 91\u001b[0;31m \u001b[0mmapper\u001b[0m \u001b[0;34m=\u001b[0m \u001b[0mResidueMapper\u001b[0m\u001b[0;34m(\u001b[0m\u001b[0mgencodeFile\u001b[0m\u001b[0;34m)\u001b[0m\u001b[0;34m\u001b[0m\u001b[0;34m\u001b[0m\u001b[0m\n\u001b[0m\u001b[1;32m     92\u001b[0m \u001b[0mmapper\u001b[0m\u001b[0;34m.\u001b[0m\u001b[0mmap_position\u001b[0m\u001b[0;34m(\u001b[0m\u001b[0mtranslation_id\u001b[0m\u001b[0;34m,\u001b[0m \u001b[0maminoacid_position\u001b[0m\u001b[0;34m)\u001b[0m\u001b[0;34m\u001b[0m\u001b[0;34m\u001b[0m\u001b[0m\n\u001b[1;32m     93\u001b[0m \u001b[0;34m\u001b[0m\u001b[0m\n",
      "\u001b[0;32m<ipython-input-24-bd2c31167b37>\u001b[0m in \u001b[0;36m__init__\u001b[0;34m(self, GENCODEFile, verbose)\u001b[0m\n\u001b[1;32m     15\u001b[0m         \u001b[0mgtf_columns\u001b[0m \u001b[0;34m=\u001b[0m \u001b[0;34m[\u001b[0m\u001b[0;34m'chr'\u001b[0m\u001b[0;34m,\u001b[0m \u001b[0;34m'source'\u001b[0m\u001b[0;34m,\u001b[0m \u001b[0;34m'featureType'\u001b[0m\u001b[0;34m,\u001b[0m \u001b[0;34m'start'\u001b[0m\u001b[0;34m,\u001b[0m \u001b[0;34m'end'\u001b[0m\u001b[0;34m,\u001b[0m \u001b[0;34m'score'\u001b[0m\u001b[0;34m,\u001b[0m \u001b[0;34m'strand'\u001b[0m\u001b[0;34m,\u001b[0m \u001b[0;34m'phase'\u001b[0m\u001b[0;34m,\u001b[0m \u001b[0;34m'annotation'\u001b[0m\u001b[0;34m]\u001b[0m\u001b[0;34m\u001b[0m\u001b[0;34m\u001b[0m\u001b[0m\n\u001b[1;32m     16\u001b[0m         df = (\n\u001b[0;32m---> 17\u001b[0;31m             \u001b[0mpd\u001b[0m\u001b[0;34m.\u001b[0m\u001b[0mread_csv\u001b[0m\u001b[0;34m(\u001b[0m\u001b[0mGENCODEFile\u001b[0m\u001b[0;34m,\u001b[0m \u001b[0msep\u001b[0m\u001b[0;34m=\u001b[0m\u001b[0;34m'\\t'\u001b[0m\u001b[0;34m,\u001b[0m \u001b[0mcomment\u001b[0m\u001b[0;34m=\u001b[0m\u001b[0;34m'#'\u001b[0m\u001b[0;34m,\u001b[0m \u001b[0mheader\u001b[0m\u001b[0;34m=\u001b[0m\u001b[0;36m0\u001b[0m\u001b[0;34m,\u001b[0m \u001b[0mnames\u001b[0m\u001b[0;34m=\u001b[0m\u001b[0mgtf_columns\u001b[0m\u001b[0;34m)\u001b[0m\u001b[0;34m\u001b[0m\u001b[0;34m\u001b[0m\u001b[0m\n\u001b[0m\u001b[1;32m     18\u001b[0m             \u001b[0;34m.\u001b[0m\u001b[0mquery\u001b[0m\u001b[0;34m(\u001b[0m\u001b[0;34m'featureType == \"CDS\"'\u001b[0m\u001b[0;34m)\u001b[0m\u001b[0;34m\u001b[0m\u001b[0;34m\u001b[0m\u001b[0m\n\u001b[1;32m     19\u001b[0m             \u001b[0;34m.\u001b[0m\u001b[0mreset_index\u001b[0m\u001b[0;34m(\u001b[0m\u001b[0mdrop\u001b[0m\u001b[0;34m=\u001b[0m\u001b[0;32mTrue\u001b[0m\u001b[0;34m)\u001b[0m\u001b[0;34m\u001b[0m\u001b[0;34m\u001b[0m\u001b[0m\n",
      "\u001b[0;32m~/opt/anaconda3/envs/jupyter3.9/lib/python3.9/site-packages/pandas/io/parsers.py\u001b[0m in \u001b[0;36mread_csv\u001b[0;34m(filepath_or_buffer, sep, delimiter, header, names, index_col, usecols, squeeze, prefix, mangle_dupe_cols, dtype, engine, converters, true_values, false_values, skipinitialspace, skiprows, skipfooter, nrows, na_values, keep_default_na, na_filter, verbose, skip_blank_lines, parse_dates, infer_datetime_format, keep_date_col, date_parser, dayfirst, cache_dates, iterator, chunksize, compression, thousands, decimal, lineterminator, quotechar, quoting, doublequote, escapechar, comment, encoding, dialect, error_bad_lines, warn_bad_lines, delim_whitespace, low_memory, memory_map, float_precision, storage_options)\u001b[0m\n\u001b[1;32m    608\u001b[0m     \u001b[0mkwds\u001b[0m\u001b[0;34m.\u001b[0m\u001b[0mupdate\u001b[0m\u001b[0;34m(\u001b[0m\u001b[0mkwds_defaults\u001b[0m\u001b[0;34m)\u001b[0m\u001b[0;34m\u001b[0m\u001b[0;34m\u001b[0m\u001b[0m\n\u001b[1;32m    609\u001b[0m \u001b[0;34m\u001b[0m\u001b[0m\n\u001b[0;32m--> 610\u001b[0;31m     \u001b[0;32mreturn\u001b[0m \u001b[0m_read\u001b[0m\u001b[0;34m(\u001b[0m\u001b[0mfilepath_or_buffer\u001b[0m\u001b[0;34m,\u001b[0m \u001b[0mkwds\u001b[0m\u001b[0;34m)\u001b[0m\u001b[0;34m\u001b[0m\u001b[0;34m\u001b[0m\u001b[0m\n\u001b[0m\u001b[1;32m    611\u001b[0m \u001b[0;34m\u001b[0m\u001b[0m\n\u001b[1;32m    612\u001b[0m \u001b[0;34m\u001b[0m\u001b[0m\n",
      "\u001b[0;32m~/opt/anaconda3/envs/jupyter3.9/lib/python3.9/site-packages/pandas/io/parsers.py\u001b[0m in \u001b[0;36m_read\u001b[0;34m(filepath_or_buffer, kwds)\u001b[0m\n\u001b[1;32m    460\u001b[0m \u001b[0;34m\u001b[0m\u001b[0m\n\u001b[1;32m    461\u001b[0m     \u001b[0;31m# Create the parser.\u001b[0m\u001b[0;34m\u001b[0m\u001b[0;34m\u001b[0m\u001b[0;34m\u001b[0m\u001b[0m\n\u001b[0;32m--> 462\u001b[0;31m     \u001b[0mparser\u001b[0m \u001b[0;34m=\u001b[0m \u001b[0mTextFileReader\u001b[0m\u001b[0;34m(\u001b[0m\u001b[0mfilepath_or_buffer\u001b[0m\u001b[0;34m,\u001b[0m \u001b[0;34m**\u001b[0m\u001b[0mkwds\u001b[0m\u001b[0;34m)\u001b[0m\u001b[0;34m\u001b[0m\u001b[0;34m\u001b[0m\u001b[0m\n\u001b[0m\u001b[1;32m    463\u001b[0m \u001b[0;34m\u001b[0m\u001b[0m\n\u001b[1;32m    464\u001b[0m     \u001b[0;32mif\u001b[0m \u001b[0mchunksize\u001b[0m \u001b[0;32mor\u001b[0m \u001b[0miterator\u001b[0m\u001b[0;34m:\u001b[0m\u001b[0;34m\u001b[0m\u001b[0;34m\u001b[0m\u001b[0m\n",
      "\u001b[0;32m~/opt/anaconda3/envs/jupyter3.9/lib/python3.9/site-packages/pandas/io/parsers.py\u001b[0m in \u001b[0;36m__init__\u001b[0;34m(self, f, engine, **kwds)\u001b[0m\n\u001b[1;32m    817\u001b[0m             \u001b[0mself\u001b[0m\u001b[0;34m.\u001b[0m\u001b[0moptions\u001b[0m\u001b[0;34m[\u001b[0m\u001b[0;34m\"has_index_names\"\u001b[0m\u001b[0;34m]\u001b[0m \u001b[0;34m=\u001b[0m \u001b[0mkwds\u001b[0m\u001b[0;34m[\u001b[0m\u001b[0;34m\"has_index_names\"\u001b[0m\u001b[0;34m]\u001b[0m\u001b[0;34m\u001b[0m\u001b[0;34m\u001b[0m\u001b[0m\n\u001b[1;32m    818\u001b[0m \u001b[0;34m\u001b[0m\u001b[0m\n\u001b[0;32m--> 819\u001b[0;31m         \u001b[0mself\u001b[0m\u001b[0;34m.\u001b[0m\u001b[0m_engine\u001b[0m \u001b[0;34m=\u001b[0m \u001b[0mself\u001b[0m\u001b[0;34m.\u001b[0m\u001b[0m_make_engine\u001b[0m\u001b[0;34m(\u001b[0m\u001b[0mself\u001b[0m\u001b[0;34m.\u001b[0m\u001b[0mengine\u001b[0m\u001b[0;34m)\u001b[0m\u001b[0;34m\u001b[0m\u001b[0;34m\u001b[0m\u001b[0m\n\u001b[0m\u001b[1;32m    820\u001b[0m \u001b[0;34m\u001b[0m\u001b[0m\n\u001b[1;32m    821\u001b[0m     \u001b[0;32mdef\u001b[0m \u001b[0mclose\u001b[0m\u001b[0;34m(\u001b[0m\u001b[0mself\u001b[0m\u001b[0;34m)\u001b[0m\u001b[0;34m:\u001b[0m\u001b[0;34m\u001b[0m\u001b[0;34m\u001b[0m\u001b[0m\n",
      "\u001b[0;32m~/opt/anaconda3/envs/jupyter3.9/lib/python3.9/site-packages/pandas/io/parsers.py\u001b[0m in \u001b[0;36m_make_engine\u001b[0;34m(self, engine)\u001b[0m\n\u001b[1;32m   1048\u001b[0m             )\n\u001b[1;32m   1049\u001b[0m         \u001b[0;31m# error: Too many arguments for \"ParserBase\"\u001b[0m\u001b[0;34m\u001b[0m\u001b[0;34m\u001b[0m\u001b[0;34m\u001b[0m\u001b[0m\n\u001b[0;32m-> 1050\u001b[0;31m         \u001b[0;32mreturn\u001b[0m \u001b[0mmapping\u001b[0m\u001b[0;34m[\u001b[0m\u001b[0mengine\u001b[0m\u001b[0;34m]\u001b[0m\u001b[0;34m(\u001b[0m\u001b[0mself\u001b[0m\u001b[0;34m.\u001b[0m\u001b[0mf\u001b[0m\u001b[0;34m,\u001b[0m \u001b[0;34m**\u001b[0m\u001b[0mself\u001b[0m\u001b[0;34m.\u001b[0m\u001b[0moptions\u001b[0m\u001b[0;34m)\u001b[0m  \u001b[0;31m# type: ignore[call-arg]\u001b[0m\u001b[0;34m\u001b[0m\u001b[0;34m\u001b[0m\u001b[0m\n\u001b[0m\u001b[1;32m   1051\u001b[0m \u001b[0;34m\u001b[0m\u001b[0m\n\u001b[1;32m   1052\u001b[0m     \u001b[0;32mdef\u001b[0m \u001b[0m_failover_to_python\u001b[0m\u001b[0;34m(\u001b[0m\u001b[0mself\u001b[0m\u001b[0;34m)\u001b[0m\u001b[0;34m:\u001b[0m\u001b[0;34m\u001b[0m\u001b[0;34m\u001b[0m\u001b[0m\n",
      "\u001b[0;32m~/opt/anaconda3/envs/jupyter3.9/lib/python3.9/site-packages/pandas/io/parsers.py\u001b[0m in \u001b[0;36m__init__\u001b[0;34m(self, src, **kwds)\u001b[0m\n\u001b[1;32m   1865\u001b[0m \u001b[0;34m\u001b[0m\u001b[0m\n\u001b[1;32m   1866\u001b[0m         \u001b[0;31m# open handles\u001b[0m\u001b[0;34m\u001b[0m\u001b[0;34m\u001b[0m\u001b[0;34m\u001b[0m\u001b[0m\n\u001b[0;32m-> 1867\u001b[0;31m         \u001b[0mself\u001b[0m\u001b[0;34m.\u001b[0m\u001b[0m_open_handles\u001b[0m\u001b[0;34m(\u001b[0m\u001b[0msrc\u001b[0m\u001b[0;34m,\u001b[0m \u001b[0mkwds\u001b[0m\u001b[0;34m)\u001b[0m\u001b[0;34m\u001b[0m\u001b[0;34m\u001b[0m\u001b[0m\n\u001b[0m\u001b[1;32m   1868\u001b[0m         \u001b[0;32massert\u001b[0m \u001b[0mself\u001b[0m\u001b[0;34m.\u001b[0m\u001b[0mhandles\u001b[0m \u001b[0;32mis\u001b[0m \u001b[0;32mnot\u001b[0m \u001b[0;32mNone\u001b[0m\u001b[0;34m\u001b[0m\u001b[0;34m\u001b[0m\u001b[0m\n\u001b[1;32m   1869\u001b[0m         \u001b[0;32mfor\u001b[0m \u001b[0mkey\u001b[0m \u001b[0;32min\u001b[0m \u001b[0;34m(\u001b[0m\u001b[0;34m\"storage_options\"\u001b[0m\u001b[0;34m,\u001b[0m \u001b[0;34m\"encoding\"\u001b[0m\u001b[0;34m,\u001b[0m \u001b[0;34m\"memory_map\"\u001b[0m\u001b[0;34m,\u001b[0m \u001b[0;34m\"compression\"\u001b[0m\u001b[0;34m)\u001b[0m\u001b[0;34m:\u001b[0m\u001b[0;34m\u001b[0m\u001b[0;34m\u001b[0m\u001b[0m\n",
      "\u001b[0;32m~/opt/anaconda3/envs/jupyter3.9/lib/python3.9/site-packages/pandas/io/parsers.py\u001b[0m in \u001b[0;36m_open_handles\u001b[0;34m(self, src, kwds)\u001b[0m\n\u001b[1;32m   1360\u001b[0m         \u001b[0mLet\u001b[0m \u001b[0mthe\u001b[0m \u001b[0mreaders\u001b[0m \u001b[0mopen\u001b[0m \u001b[0mIOHanldes\u001b[0m \u001b[0mafter\u001b[0m \u001b[0mthey\u001b[0m \u001b[0mare\u001b[0m \u001b[0mdone\u001b[0m \u001b[0;32mwith\u001b[0m \u001b[0mtheir\u001b[0m \u001b[0mpotential\u001b[0m \u001b[0mraises\u001b[0m\u001b[0;34m.\u001b[0m\u001b[0;34m\u001b[0m\u001b[0;34m\u001b[0m\u001b[0m\n\u001b[1;32m   1361\u001b[0m         \"\"\"\n\u001b[0;32m-> 1362\u001b[0;31m         self.handles = get_handle(\n\u001b[0m\u001b[1;32m   1363\u001b[0m             \u001b[0msrc\u001b[0m\u001b[0;34m,\u001b[0m\u001b[0;34m\u001b[0m\u001b[0;34m\u001b[0m\u001b[0m\n\u001b[1;32m   1364\u001b[0m             \u001b[0;34m\"r\"\u001b[0m\u001b[0;34m,\u001b[0m\u001b[0;34m\u001b[0m\u001b[0;34m\u001b[0m\u001b[0m\n",
      "\u001b[0;32m~/opt/anaconda3/envs/jupyter3.9/lib/python3.9/site-packages/pandas/io/common.py\u001b[0m in \u001b[0;36mget_handle\u001b[0;34m(path_or_buf, mode, encoding, compression, memory_map, is_text, errors, storage_options)\u001b[0m\n\u001b[1;32m    556\u001b[0m \u001b[0;34m\u001b[0m\u001b[0m\n\u001b[1;32m    557\u001b[0m     \u001b[0;31m# open URLs\u001b[0m\u001b[0;34m\u001b[0m\u001b[0;34m\u001b[0m\u001b[0;34m\u001b[0m\u001b[0m\n\u001b[0;32m--> 558\u001b[0;31m     ioargs = _get_filepath_or_buffer(\n\u001b[0m\u001b[1;32m    559\u001b[0m         \u001b[0mpath_or_buf\u001b[0m\u001b[0;34m,\u001b[0m\u001b[0;34m\u001b[0m\u001b[0;34m\u001b[0m\u001b[0m\n\u001b[1;32m    560\u001b[0m         \u001b[0mencoding\u001b[0m\u001b[0;34m=\u001b[0m\u001b[0mencoding\u001b[0m\u001b[0;34m,\u001b[0m\u001b[0;34m\u001b[0m\u001b[0;34m\u001b[0m\u001b[0m\n",
      "\u001b[0;32m~/opt/anaconda3/envs/jupyter3.9/lib/python3.9/site-packages/pandas/io/common.py\u001b[0m in \u001b[0;36m_get_filepath_or_buffer\u001b[0;34m(filepath_or_buffer, encoding, compression, mode, storage_options)\u001b[0m\n\u001b[1;32m    292\u001b[0m             \u001b[0;31m# Override compression based on Content-Encoding header\u001b[0m\u001b[0;34m\u001b[0m\u001b[0;34m\u001b[0m\u001b[0;34m\u001b[0m\u001b[0m\n\u001b[1;32m    293\u001b[0m             \u001b[0mcompression\u001b[0m \u001b[0;34m=\u001b[0m \u001b[0;34m{\u001b[0m\u001b[0;34m\"method\"\u001b[0m\u001b[0;34m:\u001b[0m \u001b[0;34m\"gzip\"\u001b[0m\u001b[0;34m}\u001b[0m\u001b[0;34m\u001b[0m\u001b[0;34m\u001b[0m\u001b[0m\n\u001b[0;32m--> 294\u001b[0;31m         \u001b[0mreader\u001b[0m \u001b[0;34m=\u001b[0m \u001b[0mBytesIO\u001b[0m\u001b[0;34m(\u001b[0m\u001b[0mreq\u001b[0m\u001b[0;34m.\u001b[0m\u001b[0mread\u001b[0m\u001b[0;34m(\u001b[0m\u001b[0;34m)\u001b[0m\u001b[0;34m)\u001b[0m\u001b[0;34m\u001b[0m\u001b[0;34m\u001b[0m\u001b[0m\n\u001b[0m\u001b[1;32m    295\u001b[0m         \u001b[0mreq\u001b[0m\u001b[0;34m.\u001b[0m\u001b[0mclose\u001b[0m\u001b[0;34m(\u001b[0m\u001b[0;34m)\u001b[0m\u001b[0;34m\u001b[0m\u001b[0;34m\u001b[0m\u001b[0m\n\u001b[1;32m    296\u001b[0m         return IOArgs(\n",
      "\u001b[0;32m~/opt/anaconda3/envs/jupyter3.9/lib/python3.9/http/client.py\u001b[0m in \u001b[0;36mread\u001b[0;34m(self, amt)\u001b[0m\n\u001b[1;32m    466\u001b[0m             \u001b[0;32melse\u001b[0m\u001b[0;34m:\u001b[0m\u001b[0;34m\u001b[0m\u001b[0;34m\u001b[0m\u001b[0m\n\u001b[1;32m    467\u001b[0m                 \u001b[0;32mtry\u001b[0m\u001b[0;34m:\u001b[0m\u001b[0;34m\u001b[0m\u001b[0;34m\u001b[0m\u001b[0m\n\u001b[0;32m--> 468\u001b[0;31m                     \u001b[0ms\u001b[0m \u001b[0;34m=\u001b[0m \u001b[0mself\u001b[0m\u001b[0;34m.\u001b[0m\u001b[0m_safe_read\u001b[0m\u001b[0;34m(\u001b[0m\u001b[0mself\u001b[0m\u001b[0;34m.\u001b[0m\u001b[0mlength\u001b[0m\u001b[0;34m)\u001b[0m\u001b[0;34m\u001b[0m\u001b[0;34m\u001b[0m\u001b[0m\n\u001b[0m\u001b[1;32m    469\u001b[0m                 \u001b[0;32mexcept\u001b[0m \u001b[0mIncompleteRead\u001b[0m\u001b[0;34m:\u001b[0m\u001b[0;34m\u001b[0m\u001b[0;34m\u001b[0m\u001b[0m\n\u001b[1;32m    470\u001b[0m                     \u001b[0mself\u001b[0m\u001b[0;34m.\u001b[0m\u001b[0m_close_conn\u001b[0m\u001b[0;34m(\u001b[0m\u001b[0;34m)\u001b[0m\u001b[0;34m\u001b[0m\u001b[0;34m\u001b[0m\u001b[0m\n",
      "\u001b[0;32m~/opt/anaconda3/envs/jupyter3.9/lib/python3.9/http/client.py\u001b[0m in \u001b[0;36m_safe_read\u001b[0;34m(self, amt)\u001b[0m\n\u001b[1;32m    607\u001b[0m         \u001b[0mIncompleteRead\u001b[0m \u001b[0mexception\u001b[0m \u001b[0mcan\u001b[0m \u001b[0mbe\u001b[0m \u001b[0mused\u001b[0m \u001b[0mto\u001b[0m \u001b[0mdetect\u001b[0m \u001b[0mthe\u001b[0m \u001b[0mproblem\u001b[0m\u001b[0;34m.\u001b[0m\u001b[0;34m\u001b[0m\u001b[0;34m\u001b[0m\u001b[0m\n\u001b[1;32m    608\u001b[0m         \"\"\"\n\u001b[0;32m--> 609\u001b[0;31m         \u001b[0mdata\u001b[0m \u001b[0;34m=\u001b[0m \u001b[0mself\u001b[0m\u001b[0;34m.\u001b[0m\u001b[0mfp\u001b[0m\u001b[0;34m.\u001b[0m\u001b[0mread\u001b[0m\u001b[0;34m(\u001b[0m\u001b[0mamt\u001b[0m\u001b[0;34m)\u001b[0m\u001b[0;34m\u001b[0m\u001b[0;34m\u001b[0m\u001b[0m\n\u001b[0m\u001b[1;32m    610\u001b[0m         \u001b[0;32mif\u001b[0m \u001b[0mlen\u001b[0m\u001b[0;34m(\u001b[0m\u001b[0mdata\u001b[0m\u001b[0;34m)\u001b[0m \u001b[0;34m<\u001b[0m \u001b[0mamt\u001b[0m\u001b[0;34m:\u001b[0m\u001b[0;34m\u001b[0m\u001b[0;34m\u001b[0m\u001b[0m\n\u001b[1;32m    611\u001b[0m             \u001b[0;32mraise\u001b[0m \u001b[0mIncompleteRead\u001b[0m\u001b[0;34m(\u001b[0m\u001b[0mdata\u001b[0m\u001b[0;34m,\u001b[0m \u001b[0mamt\u001b[0m\u001b[0;34m-\u001b[0m\u001b[0mlen\u001b[0m\u001b[0;34m(\u001b[0m\u001b[0mdata\u001b[0m\u001b[0;34m)\u001b[0m\u001b[0;34m)\u001b[0m\u001b[0;34m\u001b[0m\u001b[0;34m\u001b[0m\u001b[0m\n",
      "\u001b[0;32m~/opt/anaconda3/envs/jupyter3.9/lib/python3.9/socket.py\u001b[0m in \u001b[0;36mreadinto\u001b[0;34m(self, b)\u001b[0m\n\u001b[1;32m    702\u001b[0m         \u001b[0;32mwhile\u001b[0m \u001b[0;32mTrue\u001b[0m\u001b[0;34m:\u001b[0m\u001b[0;34m\u001b[0m\u001b[0;34m\u001b[0m\u001b[0m\n\u001b[1;32m    703\u001b[0m             \u001b[0;32mtry\u001b[0m\u001b[0;34m:\u001b[0m\u001b[0;34m\u001b[0m\u001b[0;34m\u001b[0m\u001b[0m\n\u001b[0;32m--> 704\u001b[0;31m                 \u001b[0;32mreturn\u001b[0m \u001b[0mself\u001b[0m\u001b[0;34m.\u001b[0m\u001b[0m_sock\u001b[0m\u001b[0;34m.\u001b[0m\u001b[0mrecv_into\u001b[0m\u001b[0;34m(\u001b[0m\u001b[0mb\u001b[0m\u001b[0;34m)\u001b[0m\u001b[0;34m\u001b[0m\u001b[0;34m\u001b[0m\u001b[0m\n\u001b[0m\u001b[1;32m    705\u001b[0m             \u001b[0;32mexcept\u001b[0m \u001b[0mtimeout\u001b[0m\u001b[0;34m:\u001b[0m\u001b[0;34m\u001b[0m\u001b[0;34m\u001b[0m\u001b[0m\n\u001b[1;32m    706\u001b[0m                 \u001b[0mself\u001b[0m\u001b[0;34m.\u001b[0m\u001b[0m_timeout_occurred\u001b[0m \u001b[0;34m=\u001b[0m \u001b[0;32mTrue\u001b[0m\u001b[0;34m\u001b[0m\u001b[0;34m\u001b[0m\u001b[0m\n",
      "\u001b[0;32m~/opt/anaconda3/envs/jupyter3.9/lib/python3.9/ssl.py\u001b[0m in \u001b[0;36mrecv_into\u001b[0;34m(self, buffer, nbytes, flags)\u001b[0m\n\u001b[1;32m   1239\u001b[0m                   \u001b[0;34m\"non-zero flags not allowed in calls to recv_into() on %s\"\u001b[0m \u001b[0;34m%\u001b[0m\u001b[0;34m\u001b[0m\u001b[0;34m\u001b[0m\u001b[0m\n\u001b[1;32m   1240\u001b[0m                   self.__class__)\n\u001b[0;32m-> 1241\u001b[0;31m             \u001b[0;32mreturn\u001b[0m \u001b[0mself\u001b[0m\u001b[0;34m.\u001b[0m\u001b[0mread\u001b[0m\u001b[0;34m(\u001b[0m\u001b[0mnbytes\u001b[0m\u001b[0;34m,\u001b[0m \u001b[0mbuffer\u001b[0m\u001b[0;34m)\u001b[0m\u001b[0;34m\u001b[0m\u001b[0;34m\u001b[0m\u001b[0m\n\u001b[0m\u001b[1;32m   1242\u001b[0m         \u001b[0;32melse\u001b[0m\u001b[0;34m:\u001b[0m\u001b[0;34m\u001b[0m\u001b[0;34m\u001b[0m\u001b[0m\n\u001b[1;32m   1243\u001b[0m             \u001b[0;32mreturn\u001b[0m \u001b[0msuper\u001b[0m\u001b[0;34m(\u001b[0m\u001b[0;34m)\u001b[0m\u001b[0;34m.\u001b[0m\u001b[0mrecv_into\u001b[0m\u001b[0;34m(\u001b[0m\u001b[0mbuffer\u001b[0m\u001b[0;34m,\u001b[0m \u001b[0mnbytes\u001b[0m\u001b[0;34m,\u001b[0m \u001b[0mflags\u001b[0m\u001b[0;34m)\u001b[0m\u001b[0;34m\u001b[0m\u001b[0;34m\u001b[0m\u001b[0m\n",
      "\u001b[0;32m~/opt/anaconda3/envs/jupyter3.9/lib/python3.9/ssl.py\u001b[0m in \u001b[0;36mread\u001b[0;34m(self, len, buffer)\u001b[0m\n\u001b[1;32m   1097\u001b[0m         \u001b[0;32mtry\u001b[0m\u001b[0;34m:\u001b[0m\u001b[0;34m\u001b[0m\u001b[0;34m\u001b[0m\u001b[0m\n\u001b[1;32m   1098\u001b[0m             \u001b[0;32mif\u001b[0m \u001b[0mbuffer\u001b[0m \u001b[0;32mis\u001b[0m \u001b[0;32mnot\u001b[0m \u001b[0;32mNone\u001b[0m\u001b[0;34m:\u001b[0m\u001b[0;34m\u001b[0m\u001b[0;34m\u001b[0m\u001b[0m\n\u001b[0;32m-> 1099\u001b[0;31m                 \u001b[0;32mreturn\u001b[0m \u001b[0mself\u001b[0m\u001b[0;34m.\u001b[0m\u001b[0m_sslobj\u001b[0m\u001b[0;34m.\u001b[0m\u001b[0mread\u001b[0m\u001b[0;34m(\u001b[0m\u001b[0mlen\u001b[0m\u001b[0;34m,\u001b[0m \u001b[0mbuffer\u001b[0m\u001b[0;34m)\u001b[0m\u001b[0;34m\u001b[0m\u001b[0;34m\u001b[0m\u001b[0m\n\u001b[0m\u001b[1;32m   1100\u001b[0m             \u001b[0;32melse\u001b[0m\u001b[0;34m:\u001b[0m\u001b[0;34m\u001b[0m\u001b[0;34m\u001b[0m\u001b[0m\n\u001b[1;32m   1101\u001b[0m                 \u001b[0;32mreturn\u001b[0m \u001b[0mself\u001b[0m\u001b[0;34m.\u001b[0m\u001b[0m_sslobj\u001b[0m\u001b[0;34m.\u001b[0m\u001b[0mread\u001b[0m\u001b[0;34m(\u001b[0m\u001b[0mlen\u001b[0m\u001b[0;34m)\u001b[0m\u001b[0;34m\u001b[0m\u001b[0;34m\u001b[0m\u001b[0m\n",
      "\u001b[0;31mKeyboardInterrupt\u001b[0m: "
     ]
    }
   ],
   "source": [
    "import pandas as pd\n",
    "import requests\n",
    "import numpy as np\n",
    "from functools import reduce\n",
    "import numpy as np\n",
    "from pandarallel import pandarallel\n",
    "\n",
    "class ResidueMapper:\n",
    "    \n",
    "    def __init__(self, GENCODEFile: str, verbose: bool =False) -> None:\n",
    "        \n",
    "        self.verbose = verbose\n",
    "\n",
    "        # Reading GENCODE data and filter for CDS segments:\n",
    "        gtf_columns = ['chr', 'source', 'featureType', 'start', 'end', 'score', 'strand', 'phase', 'annotation']\n",
    "        df = (\n",
    "            pd.read_csv(GENCODEFile, sep='\\t', comment='#', header=0, names=gtf_columns)\n",
    "            .query('featureType == \"CDS\"')\n",
    "            .reset_index(drop=True)\n",
    "            .drop(['source', 'score', 'phase'], axis=1)\n",
    "        )\n",
    "\n",
    "        # Parse annotations for separate columns:\n",
    "        annotations_df = pd.DataFrame(\n",
    "            df.annotation\n",
    "            .apply(lambda features: {feature.split('=')[0]: feature.split('=')[1] for feature in features.split(';')})\n",
    "            .to_list()\n",
    "        )\n",
    "\n",
    "        # Join annotations with coordinates:\n",
    "        self.full_gencode = (\n",
    "            df\n",
    "            .drop('annotation', axis=1)\n",
    "            .merge(annotations_df, left_index=True, right_index=True)\n",
    "\n",
    "            # Remove versions:\n",
    "            .assign(\n",
    "                gene_id = lambda df: df.gene_id.str.replace(r'\\.\\d+', '', regex=True),\n",
    "                transcript_id = lambda df: df.transcript_id.str.replace(r'\\.\\d+', '', regex=True),\n",
    "                protein_id = lambda df: df.protein_id.str.replace(r'\\.\\d+', '', regex=True),\n",
    "                exon_id = lambda df: df.exon_id.str.replace(r'\\.\\d+', '', regex=True),\n",
    "                chr = lambda df: df.chr.str.replace(r'chr', '', regex=False),\n",
    "                feature_length = lambda df: df.end - df.start\n",
    "            )\n",
    "\n",
    "            # Dropping unused columns:\n",
    "            .drop([\n",
    "                'ID', 'Parent', 'gene_type', 'transcript_type', 'transcript_support_level',\n",
    "                'exon_number', 'level', 'hgnc_id', 'tag', 'havana_gene', 'havana_transcript',\n",
    "                'ccdsid', 'ont', 'featureType', 'transcript_name'\n",
    "            ], axis=1)\n",
    "        )\n",
    "    \n",
    "    def map_position(self, translation_id: str, aminoacid_position: int) -> list:\n",
    "\n",
    "        # Filter gencode data for relevant protein only:\n",
    "        selected = (\n",
    "            self.full_gencode\n",
    "            .query('protein_id == @translation_id')\n",
    "            .sort_values('start')\n",
    "            .reset_index(drop=True)\n",
    "        )\n",
    "\n",
    "        # Extract relevant data:\n",
    "        row = selected.iloc[0]\n",
    "        gene_id = row['gene_id']\n",
    "        chromosome = row['chr']\n",
    "        transcript_id = row['transcript_id']\n",
    "        gene_name = row['gene_name']\n",
    "        strand = row['strand']\n",
    "\n",
    "        # Magic:\n",
    "        positions = reduce(lambda x,y: x+y,(selected.apply(lambda row: list(range(row['start'],row['end']+1)), axis = 1)),[])\n",
    "\n",
    "        # If the gene is on the negative strand we need to flip the list:\n",
    "        if strand == '-':\n",
    "            positions = positions[::-1]\n",
    "\n",
    "        # Extracting positions:\n",
    "        extracted_positions = positions[(aminoacid_position-1)*3:(aminoacid_position-1)*3+3]\n",
    "        return [{'chr': chromosome, 'pos': position, 'strand': strand} for position in extracted_positions]\n",
    "\n",
    "\n",
    "# Source file:\n",
    "gencodeFile = 'https://ftp.ebi.ac.uk/pub/databases/gencode/Gencode_human/release_40/gencode.v40.annotation.gff3.gz'\n",
    "\n",
    "# Map an amino acid position of a given protein:\n",
    "translation_id = 'ENSP00000327251'\n",
    "aminoacid_position = 115\n",
    "\n",
    "mapper = ResidueMapper(gencodeFile)\n",
    "mapper.map_position(translation_id, aminoacid_position)\n",
    "\n",
    "\n"
   ]
  },
  {
   "cell_type": "code",
   "execution_count": 3,
   "id": "592f8d97",
   "metadata": {
    "ExecuteTime": {
     "end_time": "2022-05-01T08:13:39.229810Z",
     "start_time": "2022-05-01T08:13:39.175282Z"
    },
    "scrolled": false
   },
   "outputs": [
    {
     "name": "stdout",
     "output_type": "stream",
     "text": [
      "https://rest.ensembl.org/sequence/region/human/17:27787800..27787802:-1?content-type=text/plain\n"
     ]
    }
   ],
   "source": [
    "%%bash\n",
    "\n",
    "chrom=17\n",
    "start=27787800\n",
    "end=27787802\n",
    "\n",
    "echo https://rest.ensembl.org/sequence/region/human/${chrom}:${start}..${end}:-1?content-type=text/plain"
   ]
  },
  {
   "cell_type": "code",
   "execution_count": null,
   "id": "32081907",
   "metadata": {
    "ExecuteTime": {
     "end_time": "2022-05-10T20:18:54.266952Z",
     "start_time": "2022-05-10T19:59:11.633Z"
    }
   },
   "outputs": [],
   "source": [
    "# An other example:\n",
    "translation_id = 'ENSP00000267101'\n",
    "aminoacid_position = 420\n",
    "\n",
    "mapper.map_position(translation_id, aminoacid_position)\n",
    "\n"
   ]
  },
  {
   "cell_type": "code",
   "execution_count": 21,
   "id": "7ae1ab1f",
   "metadata": {
    "ExecuteTime": {
     "end_time": "2022-05-10T19:58:36.432408Z",
     "start_time": "2022-05-10T19:58:36.421668Z"
    }
   },
   "outputs": [
    {
     "ename": "NameError",
     "evalue": "name 'mapper' is not defined",
     "output_type": "error",
     "traceback": [
      "\u001b[0;31m---------------------------------------------------------------------------\u001b[0m",
      "\u001b[0;31mNameError\u001b[0m                                 Traceback (most recent call last)",
      "\u001b[0;32m<ipython-input-21-a53e6da9bae1>\u001b[0m in \u001b[0;36m<module>\u001b[0;34m\u001b[0m\n\u001b[1;32m      3\u001b[0m \u001b[0maminoacid_position\u001b[0m \u001b[0;34m=\u001b[0m \u001b[0;36m115\u001b[0m\u001b[0;34m\u001b[0m\u001b[0;34m\u001b[0m\u001b[0m\n\u001b[1;32m      4\u001b[0m \u001b[0;34m\u001b[0m\u001b[0m\n\u001b[0;32m----> 5\u001b[0;31m \u001b[0mmapper\u001b[0m\u001b[0;34m.\u001b[0m\u001b[0mmap_position\u001b[0m\u001b[0;34m(\u001b[0m\u001b[0mtranslation_id\u001b[0m\u001b[0;34m,\u001b[0m \u001b[0maminoacid_position\u001b[0m\u001b[0;34m)\u001b[0m\u001b[0;34m\u001b[0m\u001b[0;34m\u001b[0m\u001b[0m\n\u001b[0m\u001b[1;32m      6\u001b[0m \u001b[0;34m\u001b[0m\u001b[0m\n",
      "\u001b[0;31mNameError\u001b[0m: name 'mapper' is not defined"
     ]
    }
   ],
   "source": [
    "# An other re-run:\n",
    "translation_id = 'ENSP00000327251'\n",
    "aminoacid_position = 115\n",
    "\n",
    "mapper.map_position(translation_id, aminoacid_position)\n",
    "\n"
   ]
  },
  {
   "cell_type": "markdown",
   "id": "5fabbb9e",
   "metadata": {},
   "source": [
    "One query takes ~100ms. So 10 lookup per second. 250000 lookups ~7 hours without parallelization."
   ]
  },
  {
   "cell_type": "code",
   "execution_count": 20,
   "id": "f1dea3ba",
   "metadata": {
    "ExecuteTime": {
     "end_time": "2022-05-10T19:58:27.702015Z",
     "start_time": "2022-05-10T19:58:27.691337Z"
    }
   },
   "outputs": [
    {
     "ename": "NameError",
     "evalue": "name 'mapper' is not defined",
     "output_type": "error",
     "traceback": [
      "\u001b[0;31m---------------------------------------------------------------------------\u001b[0m",
      "\u001b[0;31mNameError\u001b[0m                                 Traceback (most recent call last)",
      "\u001b[0;32m<ipython-input-20-1c313b63eb5e>\u001b[0m in \u001b[0;36m<module>\u001b[0;34m\u001b[0m\n\u001b[0;32m----> 1\u001b[0;31m \u001b[0mfull_gencode\u001b[0m \u001b[0;34m=\u001b[0m \u001b[0mmapper\u001b[0m\u001b[0;34m.\u001b[0m\u001b[0mfull_gencode\u001b[0m\u001b[0;34m.\u001b[0m\u001b[0mcopy\u001b[0m\u001b[0;34m(\u001b[0m\u001b[0;34m)\u001b[0m\u001b[0;34m\u001b[0m\u001b[0;34m\u001b[0m\u001b[0m\n\u001b[0m\u001b[1;32m      2\u001b[0m \u001b[0mtranslation_id\u001b[0m \u001b[0;34m=\u001b[0m \u001b[0;34m'ENSP00000327251'\u001b[0m\u001b[0;34m\u001b[0m\u001b[0;34m\u001b[0m\u001b[0m\n\u001b[1;32m      3\u001b[0m \u001b[0;34m\u001b[0m\u001b[0m\n\u001b[1;32m      4\u001b[0m \u001b[0mselected\u001b[0m \u001b[0;34m=\u001b[0m \u001b[0mfull_gencode\u001b[0m\u001b[0;34m.\u001b[0m\u001b[0mquery\u001b[0m\u001b[0;34m(\u001b[0m\u001b[0;34m'protein_id == @translation_id'\u001b[0m\u001b[0;34m)\u001b[0m\u001b[0;34m\u001b[0m\u001b[0;34m\u001b[0m\u001b[0m\n\u001b[1;32m      5\u001b[0m \u001b[0mlen\u001b[0m\u001b[0;34m(\u001b[0m\u001b[0mselected\u001b[0m\u001b[0;34m)\u001b[0m\u001b[0;34m\u001b[0m\u001b[0;34m\u001b[0m\u001b[0m\n",
      "\u001b[0;31mNameError\u001b[0m: name 'mapper' is not defined"
     ]
    }
   ],
   "source": [
    "full_gencode = mapper.full_gencode.copy()\n",
    "translation_id = 'ENSP00000327251'\n",
    "\n",
    "selected = full_gencode.query('protein_id == @translation_id')\n",
    "len(selected)"
   ]
  },
  {
   "cell_type": "code",
   "execution_count": 11,
   "id": "ffa948cb",
   "metadata": {
    "ExecuteTime": {
     "end_time": "2022-05-05T15:36:15.611003Z",
     "start_time": "2022-05-05T15:36:15.587715Z"
    }
   },
   "outputs": [
    {
     "name": "stdout",
     "output_type": "stream",
     "text": [
      "[27798809, 27798808, 27798807, 27798806, 27798805, 27798804, 27798803, 27798802, 27798801, 27798800]\n",
      "       chr     start       end strand          gene_id    transcript_id  \\\n",
      "675197  17  27757246  27757353      -  ENSG00000007171  ENST00000313735   \n",
      "675196  17  27758881  27759075      -  ENSG00000007171  ENST00000313735   \n",
      "675195  17  27760030  27760178      -  ENSG00000007171  ENST00000313735   \n",
      "675194  17  27760623  27760744      -  ENSG00000007171  ENST00000313735   \n",
      "675193  17  27761144  27761231      -  ENSG00000007171  ENST00000313735   \n",
      "675192  17  27762798  27763005      -  ENSG00000007171  ENST00000313735   \n",
      "675191  17  27763981  27764144      -  ENSG00000007171  ENST00000313735   \n",
      "675190  17  27765535  27765716      -  ENSG00000007171  ENST00000313735   \n",
      "675189  17  27766510  27766588      -  ENSG00000007171  ENST00000313735   \n",
      "675188  17  27767705  27767837      -  ENSG00000007171  ENST00000313735   \n",
      "675187  17  27768977  27769151      -  ENSG00000007171  ENST00000313735   \n",
      "675186  17  27769535  27769584      -  ENSG00000007171  ENST00000313735   \n",
      "675185  17  27770913  27771017      -  ENSG00000007171  ENST00000313735   \n",
      "675184  17  27772308  27772452      -  ENSG00000007171  ENST00000313735   \n",
      "675183  17  27773161  27773243      -  ENSG00000007171  ENST00000313735   \n",
      "675182  17  27774257  27774451      -  ENSG00000007171  ENST00000313735   \n",
      "675181  17  27778690  27778791      -  ENSG00000007171  ENST00000313735   \n",
      "675180  17  27778882  27779056      -  ENSG00000007171  ENST00000313735   \n",
      "675179  17  27780767  27780906      -  ENSG00000007171  ENST00000313735   \n",
      "675178  17  27781036  27781177      -  ENSG00000007171  ENST00000313735   \n",
      "675177  17  27782015  27782106      -  ENSG00000007171  ENST00000313735   \n",
      "675176  17  27782944  27783106      -  ENSG00000007171  ENST00000313735   \n",
      "675175  17  27787678  27787826      -  ENSG00000007171  ENST00000313735   \n",
      "675174  17  27788809  27788931      -  ENSG00000007171  ENST00000313735   \n",
      "675173  17  27789604  27789688      -  ENSG00000007171  ENST00000313735   \n",
      "675172  17  27798700  27798809      -  ENSG00000007171  ENST00000313735   \n",
      "\n",
      "       gene_name          exon_id       protein_id  feature_length  \n",
      "675197      NOS2  ENSE00001704085  ENSP00000327251             107  \n",
      "675196      NOS2  ENSE00001322003  ENSP00000327251             194  \n",
      "675195      NOS2  ENSE00002334691  ENSP00000327251             148  \n",
      "675194      NOS2  ENSE00002411104  ENSP00000327251             121  \n",
      "675193      NOS2  ENSE00001304187  ENSP00000327251              87  \n",
      "675192      NOS2  ENSE00001292830  ENSP00000327251             207  \n",
      "675191      NOS2  ENSE00001251604  ENSP00000327251             163  \n",
      "675190      NOS2  ENSE00001126885  ENSP00000327251             181  \n",
      "675189      NOS2  ENSE00001310933  ENSP00000327251              78  \n",
      "675188      NOS2  ENSE00001347743  ENSP00000327251             132  \n",
      "675187      NOS2  ENSE00001309781  ENSP00000327251             174  \n",
      "675186      NOS2  ENSE00000406697  ENSP00000327251              49  \n",
      "675185      NOS2  ENSE00000946394  ENSP00000327251             104  \n",
      "675184      NOS2  ENSE00001327457  ENSP00000327251             144  \n",
      "675183      NOS2  ENSE00000704507  ENSP00000327251              82  \n",
      "675182      NOS2  ENSE00001312003  ENSP00000327251             194  \n",
      "675181      NOS2  ENSE00000704841  ENSP00000327251             101  \n",
      "675180      NOS2  ENSE00001126938  ENSP00000327251             174  \n",
      "675179      NOS2  ENSE00001251789  ENSP00000327251             139  \n",
      "675178      NOS2  ENSE00001126954  ENSP00000327251             141  \n",
      "675177      NOS2  ENSE00000705157  ENSP00000327251              91  \n",
      "675176      NOS2  ENSE00001312300  ENSP00000327251             162  \n",
      "675175      NOS2  ENSE00001347946  ENSP00000327251             148  \n",
      "675174      NOS2  ENSE00001310953  ENSP00000327251             122  \n",
      "675173      NOS2  ENSE00001327291  ENSP00000327251              84  \n",
      "675172      NOS2  ENSE00001302992  ENSP00000327251             109  \n",
      "         pos1      pos2      pos3       protein_id          gene_id chr  \\\n",
      "114  27787802  27787801  27787800  ENSP00000327251  ENSG00000007171  17   \n",
      "\n",
      "    strand  amino_acid_position  \n",
      "114      -                  115  \n"
     ]
    }
   ],
   "source": [
    "row = selected.iloc[0]\n",
    "\n",
    "gene_id = row['gene_id']\n",
    "chromosome = row['chr']\n",
    "transcript_id = row['transcript_id']\n",
    "gene_name = row['gene_name']\n",
    "strand = row['strand']\n",
    "\n",
    "# if strand is negative, we need to reverse order the CDSs:\n",
    "if strand == '-':\n",
    "    selected = selected.sort_values('start')\n",
    "\n",
    "# Magic:\n",
    "positions = reduce(lambda x,y: x+y,(selected.apply(lambda row: list(range(row['start'],row['end']+1)), axis = 1)),[])\n",
    "\n",
    "# If the gene is on the negative strand we need to flip the list:\n",
    "if strand == '-':\n",
    "    positions = positions[::-1]\n",
    "\n",
    "print(positions[:10])\n",
    "print(selected)\n",
    "print(\n",
    "    pd.DataFrame(np.reshape(positions, (-1, 3)), columns=['pos1', 'pos2', 'pos3'])\n",
    "    .assign(\n",
    "        protein_id=translation_id,\n",
    "        gene_id=gene_id,\n",
    "        chr=chromosome,\n",
    "        strand=strand,\n",
    "        amino_acid_position=lambda df: list(range(1,len(df)+1))\n",
    "    )\n",
    "    .query('amino_acid_position == 115')\n",
    "    .reindex()\n",
    ")"
   ]
  },
  {
   "cell_type": "code",
   "execution_count": 9,
   "id": "d194f971",
   "metadata": {
    "ExecuteTime": {
     "end_time": "2022-05-05T15:35:21.177576Z",
     "start_time": "2022-05-05T15:30:42.765602Z"
    },
    "scrolled": false
   },
   "outputs": [
    {
     "name": "stdout",
     "output_type": "stream",
     "text": [
      "INFO: Pandarallel will run on 8 workers.\n",
      "INFO: Pandarallel will use standard multiprocessing data transfer (pipe) to transfer data between the main process and workers.\n"
     ]
    },
    {
     "data": {
      "application/vnd.jupyter.widget-view+json": {
       "model_id": "c4ec18d3b97c4379be0e31ec08aaa2eb",
       "version_major": 2,
       "version_minor": 0
      },
      "text/plain": [
       "VBox(children=(HBox(children=(IntProgress(value=0, description='0.00%', max=13573), Label(value='0 / 13573')))…"
      ]
     },
     "metadata": {},
     "output_type": "display_data"
    },
    {
     "ename": "KeyboardInterrupt",
     "evalue": "",
     "output_type": "error",
     "traceback": [
      "\u001b[0;31m---------------------------------------------------------------------------\u001b[0m",
      "\u001b[0;31mKeyboardInterrupt\u001b[0m                         Traceback (most recent call last)",
      "\u001b[0;32m<ipython-input-9-0913aa2e2f50>\u001b[0m in \u001b[0;36m<module>\u001b[0;34m\u001b[0m\n\u001b[1;32m     47\u001b[0m \u001b[0mpandarallel\u001b[0m\u001b[0;34m.\u001b[0m\u001b[0minitialize\u001b[0m\u001b[0;34m(\u001b[0m\u001b[0mprogress_bar\u001b[0m\u001b[0;34m=\u001b[0m\u001b[0;32mTrue\u001b[0m\u001b[0;34m)\u001b[0m\u001b[0;34m\u001b[0m\u001b[0;34m\u001b[0m\u001b[0m\n\u001b[1;32m     48\u001b[0m \u001b[0;34m\u001b[0m\u001b[0m\n\u001b[0;32m---> 49\u001b[0;31m \u001b[0mgenerated\u001b[0m \u001b[0;34m=\u001b[0m \u001b[0mfull_gencode\u001b[0m\u001b[0;34m.\u001b[0m\u001b[0mgroupby\u001b[0m\u001b[0;34m(\u001b[0m\u001b[0;34m'protein_id'\u001b[0m\u001b[0;34m)\u001b[0m\u001b[0;34m.\u001b[0m\u001b[0mparallel_apply\u001b[0m\u001b[0;34m(\u001b[0m\u001b[0mcalculate_all_residues\u001b[0m\u001b[0;34m)\u001b[0m\u001b[0;34m\u001b[0m\u001b[0;34m\u001b[0m\u001b[0m\n\u001b[0m",
      "\u001b[0;32m~/opt/anaconda3/envs/jupyter3.9/lib/python3.9/site-packages/pandarallel/pandarallel.py\u001b[0m in \u001b[0;36mclosure\u001b[0;34m(data, func, *args, **kwargs)\u001b[0m\n\u001b[1;32m    463\u001b[0m             )\n\u001b[1;32m    464\u001b[0m \u001b[0;34m\u001b[0m\u001b[0m\n\u001b[0;32m--> 465\u001b[0;31m             \u001b[0;32mreturn\u001b[0m \u001b[0mreduce\u001b[0m\u001b[0;34m(\u001b[0m\u001b[0mresults\u001b[0m\u001b[0;34m,\u001b[0m \u001b[0mreduce_meta_args\u001b[0m\u001b[0;34m)\u001b[0m\u001b[0;34m\u001b[0m\u001b[0;34m\u001b[0m\u001b[0m\n\u001b[0m\u001b[1;32m    466\u001b[0m \u001b[0;34m\u001b[0m\u001b[0m\n\u001b[1;32m    467\u001b[0m         \u001b[0;32mfinally\u001b[0m\u001b[0;34m:\u001b[0m\u001b[0;34m\u001b[0m\u001b[0;34m\u001b[0m\u001b[0m\n",
      "\u001b[0;32m~/opt/anaconda3/envs/jupyter3.9/lib/python3.9/site-packages/pandarallel/data_types/dataframe_groupby.py\u001b[0m in \u001b[0;36mreduce\u001b[0;34m(results, df_grouped)\u001b[0m\n\u001b[1;32m     22\u001b[0m             \u001b[0margs\u001b[0m \u001b[0;34m=\u001b[0m \u001b[0mdf_grouped\u001b[0m\u001b[0;34m.\u001b[0m\u001b[0m_selected_obj\u001b[0m\u001b[0;34m,\u001b[0m \u001b[0mkeys\u001b[0m\u001b[0;34m,\u001b[0m \u001b[0mvalues\u001b[0m\u001b[0;34m\u001b[0m\u001b[0;34m\u001b[0m\u001b[0m\n\u001b[1;32m     23\u001b[0m \u001b[0;34m\u001b[0m\u001b[0m\n\u001b[0;32m---> 24\u001b[0;31m         return df_grouped._wrap_applied_output(\n\u001b[0m\u001b[1;32m     25\u001b[0m             \u001b[0;34m*\u001b[0m\u001b[0margs\u001b[0m\u001b[0;34m,\u001b[0m \u001b[0mnot_indexed_same\u001b[0m\u001b[0;34m=\u001b[0m\u001b[0mdf_grouped\u001b[0m\u001b[0;34m.\u001b[0m\u001b[0mmutated\u001b[0m \u001b[0;32mor\u001b[0m \u001b[0mmutated\u001b[0m\u001b[0;34m\u001b[0m\u001b[0;34m\u001b[0m\u001b[0m\n\u001b[1;32m     26\u001b[0m         )\n",
      "\u001b[0;32m~/opt/anaconda3/envs/jupyter3.9/lib/python3.9/site-packages/pandas/core/groupby/generic.py\u001b[0m in \u001b[0;36m_wrap_applied_output\u001b[0;34m(self, keys, values, not_indexed_same)\u001b[0m\n\u001b[1;32m   1182\u001b[0m             \u001b[0;32mreturn\u001b[0m \u001b[0mself\u001b[0m\u001b[0;34m.\u001b[0m\u001b[0mobj\u001b[0m\u001b[0;34m.\u001b[0m\u001b[0m_constructor\u001b[0m\u001b[0;34m(\u001b[0m\u001b[0;34m)\u001b[0m\u001b[0;34m\u001b[0m\u001b[0;34m\u001b[0m\u001b[0m\n\u001b[1;32m   1183\u001b[0m         \u001b[0;32melif\u001b[0m \u001b[0misinstance\u001b[0m\u001b[0;34m(\u001b[0m\u001b[0mfirst_not_none\u001b[0m\u001b[0;34m,\u001b[0m \u001b[0mDataFrame\u001b[0m\u001b[0;34m)\u001b[0m\u001b[0;34m:\u001b[0m\u001b[0;34m\u001b[0m\u001b[0;34m\u001b[0m\u001b[0m\n\u001b[0;32m-> 1184\u001b[0;31m             \u001b[0;32mreturn\u001b[0m \u001b[0mself\u001b[0m\u001b[0;34m.\u001b[0m\u001b[0m_concat_objects\u001b[0m\u001b[0;34m(\u001b[0m\u001b[0mkeys\u001b[0m\u001b[0;34m,\u001b[0m \u001b[0mvalues\u001b[0m\u001b[0;34m,\u001b[0m \u001b[0mnot_indexed_same\u001b[0m\u001b[0;34m=\u001b[0m\u001b[0mnot_indexed_same\u001b[0m\u001b[0;34m)\u001b[0m\u001b[0;34m\u001b[0m\u001b[0;34m\u001b[0m\u001b[0m\n\u001b[0m\u001b[1;32m   1185\u001b[0m \u001b[0;34m\u001b[0m\u001b[0m\n\u001b[1;32m   1186\u001b[0m         \u001b[0mkey_index\u001b[0m \u001b[0;34m=\u001b[0m \u001b[0mself\u001b[0m\u001b[0;34m.\u001b[0m\u001b[0mgrouper\u001b[0m\u001b[0;34m.\u001b[0m\u001b[0mresult_index\u001b[0m \u001b[0;32mif\u001b[0m \u001b[0mself\u001b[0m\u001b[0;34m.\u001b[0m\u001b[0mas_index\u001b[0m \u001b[0;32melse\u001b[0m \u001b[0;32mNone\u001b[0m\u001b[0;34m\u001b[0m\u001b[0;34m\u001b[0m\u001b[0m\n",
      "\u001b[0;32m~/opt/anaconda3/envs/jupyter3.9/lib/python3.9/site-packages/pandas/core/groupby/groupby.py\u001b[0m in \u001b[0;36m_concat_objects\u001b[0;34m(self, keys, values, not_indexed_same)\u001b[0m\n\u001b[1;32m   1236\u001b[0m                 \u001b[0mgroup_names\u001b[0m \u001b[0;34m=\u001b[0m \u001b[0mself\u001b[0m\u001b[0;34m.\u001b[0m\u001b[0mgrouper\u001b[0m\u001b[0;34m.\u001b[0m\u001b[0mnames\u001b[0m\u001b[0;34m\u001b[0m\u001b[0;34m\u001b[0m\u001b[0m\n\u001b[1;32m   1237\u001b[0m \u001b[0;34m\u001b[0m\u001b[0m\n\u001b[0;32m-> 1238\u001b[0;31m                 result = concat(\n\u001b[0m\u001b[1;32m   1239\u001b[0m                     \u001b[0mvalues\u001b[0m\u001b[0;34m,\u001b[0m\u001b[0;34m\u001b[0m\u001b[0;34m\u001b[0m\u001b[0m\n\u001b[1;32m   1240\u001b[0m                     \u001b[0maxis\u001b[0m\u001b[0;34m=\u001b[0m\u001b[0mself\u001b[0m\u001b[0;34m.\u001b[0m\u001b[0maxis\u001b[0m\u001b[0;34m,\u001b[0m\u001b[0;34m\u001b[0m\u001b[0;34m\u001b[0m\u001b[0m\n",
      "\u001b[0;32m~/opt/anaconda3/envs/jupyter3.9/lib/python3.9/site-packages/pandas/core/reshape/concat.py\u001b[0m in \u001b[0;36mconcat\u001b[0;34m(objs, axis, join, ignore_index, keys, levels, names, verify_integrity, sort, copy)\u001b[0m\n\u001b[1;32m    283\u001b[0m     \u001b[0mValueError\u001b[0m\u001b[0;34m:\u001b[0m \u001b[0mIndexes\u001b[0m \u001b[0mhave\u001b[0m \u001b[0moverlapping\u001b[0m \u001b[0mvalues\u001b[0m\u001b[0;34m:\u001b[0m \u001b[0;34m[\u001b[0m\u001b[0;34m'a'\u001b[0m\u001b[0;34m]\u001b[0m\u001b[0;34m\u001b[0m\u001b[0;34m\u001b[0m\u001b[0m\n\u001b[1;32m    284\u001b[0m     \"\"\"\n\u001b[0;32m--> 285\u001b[0;31m     op = _Concatenator(\n\u001b[0m\u001b[1;32m    286\u001b[0m         \u001b[0mobjs\u001b[0m\u001b[0;34m,\u001b[0m\u001b[0;34m\u001b[0m\u001b[0;34m\u001b[0m\u001b[0m\n\u001b[1;32m    287\u001b[0m         \u001b[0maxis\u001b[0m\u001b[0;34m=\u001b[0m\u001b[0maxis\u001b[0m\u001b[0;34m,\u001b[0m\u001b[0;34m\u001b[0m\u001b[0;34m\u001b[0m\u001b[0m\n",
      "\u001b[0;32m~/opt/anaconda3/envs/jupyter3.9/lib/python3.9/site-packages/pandas/core/reshape/concat.py\u001b[0m in \u001b[0;36m__init__\u001b[0;34m(self, objs, axis, join, keys, levels, names, ignore_index, verify_integrity, copy, sort)\u001b[0m\n\u001b[1;32m    465\u001b[0m         \u001b[0mself\u001b[0m\u001b[0;34m.\u001b[0m\u001b[0mcopy\u001b[0m \u001b[0;34m=\u001b[0m \u001b[0mcopy\u001b[0m\u001b[0;34m\u001b[0m\u001b[0;34m\u001b[0m\u001b[0m\n\u001b[1;32m    466\u001b[0m \u001b[0;34m\u001b[0m\u001b[0m\n\u001b[0;32m--> 467\u001b[0;31m         \u001b[0mself\u001b[0m\u001b[0;34m.\u001b[0m\u001b[0mnew_axes\u001b[0m \u001b[0;34m=\u001b[0m \u001b[0mself\u001b[0m\u001b[0;34m.\u001b[0m\u001b[0m_get_new_axes\u001b[0m\u001b[0;34m(\u001b[0m\u001b[0;34m)\u001b[0m\u001b[0;34m\u001b[0m\u001b[0;34m\u001b[0m\u001b[0m\n\u001b[0m\u001b[1;32m    468\u001b[0m \u001b[0;34m\u001b[0m\u001b[0m\n\u001b[1;32m    469\u001b[0m     \u001b[0;32mdef\u001b[0m \u001b[0mget_result\u001b[0m\u001b[0;34m(\u001b[0m\u001b[0mself\u001b[0m\u001b[0;34m)\u001b[0m\u001b[0;34m:\u001b[0m\u001b[0;34m\u001b[0m\u001b[0;34m\u001b[0m\u001b[0m\n",
      "\u001b[0;32m~/opt/anaconda3/envs/jupyter3.9/lib/python3.9/site-packages/pandas/core/reshape/concat.py\u001b[0m in \u001b[0;36m_get_new_axes\u001b[0;34m(self)\u001b[0m\n\u001b[1;32m    535\u001b[0m     \u001b[0;32mdef\u001b[0m \u001b[0m_get_new_axes\u001b[0m\u001b[0;34m(\u001b[0m\u001b[0mself\u001b[0m\u001b[0;34m)\u001b[0m \u001b[0;34m->\u001b[0m \u001b[0mList\u001b[0m\u001b[0;34m[\u001b[0m\u001b[0mIndex\u001b[0m\u001b[0;34m]\u001b[0m\u001b[0;34m:\u001b[0m\u001b[0;34m\u001b[0m\u001b[0;34m\u001b[0m\u001b[0m\n\u001b[1;32m    536\u001b[0m         \u001b[0mndim\u001b[0m \u001b[0;34m=\u001b[0m \u001b[0mself\u001b[0m\u001b[0;34m.\u001b[0m\u001b[0m_get_result_dim\u001b[0m\u001b[0;34m(\u001b[0m\u001b[0;34m)\u001b[0m\u001b[0;34m\u001b[0m\u001b[0;34m\u001b[0m\u001b[0m\n\u001b[0;32m--> 537\u001b[0;31m         return [\n\u001b[0m\u001b[1;32m    538\u001b[0m             \u001b[0mself\u001b[0m\u001b[0;34m.\u001b[0m\u001b[0m_get_concat_axis\u001b[0m\u001b[0;34m(\u001b[0m\u001b[0;34m)\u001b[0m \u001b[0;32mif\u001b[0m \u001b[0mi\u001b[0m \u001b[0;34m==\u001b[0m \u001b[0mself\u001b[0m\u001b[0;34m.\u001b[0m\u001b[0mbm_axis\u001b[0m \u001b[0;32melse\u001b[0m \u001b[0mself\u001b[0m\u001b[0;34m.\u001b[0m\u001b[0m_get_comb_axis\u001b[0m\u001b[0;34m(\u001b[0m\u001b[0mi\u001b[0m\u001b[0;34m)\u001b[0m\u001b[0;34m\u001b[0m\u001b[0;34m\u001b[0m\u001b[0m\n\u001b[1;32m    539\u001b[0m             \u001b[0;32mfor\u001b[0m \u001b[0mi\u001b[0m \u001b[0;32min\u001b[0m \u001b[0mrange\u001b[0m\u001b[0;34m(\u001b[0m\u001b[0mndim\u001b[0m\u001b[0;34m)\u001b[0m\u001b[0;34m\u001b[0m\u001b[0;34m\u001b[0m\u001b[0m\n",
      "\u001b[0;32m~/opt/anaconda3/envs/jupyter3.9/lib/python3.9/site-packages/pandas/core/reshape/concat.py\u001b[0m in \u001b[0;36m<listcomp>\u001b[0;34m(.0)\u001b[0m\n\u001b[1;32m    536\u001b[0m         \u001b[0mndim\u001b[0m \u001b[0;34m=\u001b[0m \u001b[0mself\u001b[0m\u001b[0;34m.\u001b[0m\u001b[0m_get_result_dim\u001b[0m\u001b[0;34m(\u001b[0m\u001b[0;34m)\u001b[0m\u001b[0;34m\u001b[0m\u001b[0;34m\u001b[0m\u001b[0m\n\u001b[1;32m    537\u001b[0m         return [\n\u001b[0;32m--> 538\u001b[0;31m             \u001b[0mself\u001b[0m\u001b[0;34m.\u001b[0m\u001b[0m_get_concat_axis\u001b[0m\u001b[0;34m(\u001b[0m\u001b[0;34m)\u001b[0m \u001b[0;32mif\u001b[0m \u001b[0mi\u001b[0m \u001b[0;34m==\u001b[0m \u001b[0mself\u001b[0m\u001b[0;34m.\u001b[0m\u001b[0mbm_axis\u001b[0m \u001b[0;32melse\u001b[0m \u001b[0mself\u001b[0m\u001b[0;34m.\u001b[0m\u001b[0m_get_comb_axis\u001b[0m\u001b[0;34m(\u001b[0m\u001b[0mi\u001b[0m\u001b[0;34m)\u001b[0m\u001b[0;34m\u001b[0m\u001b[0;34m\u001b[0m\u001b[0m\n\u001b[0m\u001b[1;32m    539\u001b[0m             \u001b[0;32mfor\u001b[0m \u001b[0mi\u001b[0m \u001b[0;32min\u001b[0m \u001b[0mrange\u001b[0m\u001b[0;34m(\u001b[0m\u001b[0mndim\u001b[0m\u001b[0;34m)\u001b[0m\u001b[0;34m\u001b[0m\u001b[0;34m\u001b[0m\u001b[0m\n\u001b[1;32m    540\u001b[0m         ]\n",
      "\u001b[0;32m~/opt/anaconda3/envs/jupyter3.9/lib/python3.9/site-packages/pandas/core/reshape/concat.py\u001b[0m in \u001b[0;36m_get_concat_axis\u001b[0;34m(self)\u001b[0m\n\u001b[1;32m    592\u001b[0m             \u001b[0mconcat_axis\u001b[0m \u001b[0;34m=\u001b[0m \u001b[0m_concat_indexes\u001b[0m\u001b[0;34m(\u001b[0m\u001b[0mindexes\u001b[0m\u001b[0;34m)\u001b[0m\u001b[0;34m\u001b[0m\u001b[0;34m\u001b[0m\u001b[0m\n\u001b[1;32m    593\u001b[0m         \u001b[0;32melse\u001b[0m\u001b[0;34m:\u001b[0m\u001b[0;34m\u001b[0m\u001b[0;34m\u001b[0m\u001b[0m\n\u001b[0;32m--> 594\u001b[0;31m             concat_axis = _make_concat_multiindex(\n\u001b[0m\u001b[1;32m    595\u001b[0m                 \u001b[0mindexes\u001b[0m\u001b[0;34m,\u001b[0m \u001b[0mself\u001b[0m\u001b[0;34m.\u001b[0m\u001b[0mkeys\u001b[0m\u001b[0;34m,\u001b[0m \u001b[0mself\u001b[0m\u001b[0;34m.\u001b[0m\u001b[0mlevels\u001b[0m\u001b[0;34m,\u001b[0m \u001b[0mself\u001b[0m\u001b[0;34m.\u001b[0m\u001b[0mnames\u001b[0m\u001b[0;34m\u001b[0m\u001b[0;34m\u001b[0m\u001b[0m\n\u001b[1;32m    596\u001b[0m             )\n",
      "\u001b[0;32m~/opt/anaconda3/envs/jupyter3.9/lib/python3.9/site-packages/pandas/core/reshape/concat.py\u001b[0m in \u001b[0;36m_make_concat_multiindex\u001b[0;34m(indexes, keys, levels, names)\u001b[0m\n\u001b[1;32m    644\u001b[0m             \u001b[0;32mfor\u001b[0m \u001b[0mkey\u001b[0m\u001b[0;34m,\u001b[0m \u001b[0mindex\u001b[0m \u001b[0;32min\u001b[0m \u001b[0mzip\u001b[0m\u001b[0;34m(\u001b[0m\u001b[0mhlevel\u001b[0m\u001b[0;34m,\u001b[0m \u001b[0mindexes\u001b[0m\u001b[0;34m)\u001b[0m\u001b[0;34m:\u001b[0m\u001b[0;34m\u001b[0m\u001b[0;34m\u001b[0m\u001b[0m\n\u001b[1;32m    645\u001b[0m                 \u001b[0;31m# Find matching codes, include matching nan values as equal.\u001b[0m\u001b[0;34m\u001b[0m\u001b[0;34m\u001b[0m\u001b[0;34m\u001b[0m\u001b[0m\n\u001b[0;32m--> 646\u001b[0;31m                 \u001b[0mmask\u001b[0m \u001b[0;34m=\u001b[0m \u001b[0;34m(\u001b[0m\u001b[0misna\u001b[0m\u001b[0;34m(\u001b[0m\u001b[0mlevel\u001b[0m\u001b[0;34m)\u001b[0m \u001b[0;34m&\u001b[0m \u001b[0misna\u001b[0m\u001b[0;34m(\u001b[0m\u001b[0mkey\u001b[0m\u001b[0;34m)\u001b[0m\u001b[0;34m)\u001b[0m \u001b[0;34m|\u001b[0m \u001b[0;34m(\u001b[0m\u001b[0mlevel\u001b[0m \u001b[0;34m==\u001b[0m \u001b[0mkey\u001b[0m\u001b[0;34m)\u001b[0m\u001b[0;34m\u001b[0m\u001b[0;34m\u001b[0m\u001b[0m\n\u001b[0m\u001b[1;32m    647\u001b[0m                 \u001b[0;32mif\u001b[0m \u001b[0;32mnot\u001b[0m \u001b[0mmask\u001b[0m\u001b[0;34m.\u001b[0m\u001b[0many\u001b[0m\u001b[0;34m(\u001b[0m\u001b[0;34m)\u001b[0m\u001b[0;34m:\u001b[0m\u001b[0;34m\u001b[0m\u001b[0;34m\u001b[0m\u001b[0m\n\u001b[1;32m    648\u001b[0m                     \u001b[0;32mraise\u001b[0m \u001b[0mValueError\u001b[0m\u001b[0;34m(\u001b[0m\u001b[0;34mf\"Key {key} not in level {level}\"\u001b[0m\u001b[0;34m)\u001b[0m\u001b[0;34m\u001b[0m\u001b[0;34m\u001b[0m\u001b[0m\n",
      "\u001b[0;32m~/opt/anaconda3/envs/jupyter3.9/lib/python3.9/site-packages/pandas/core/ops/common.py\u001b[0m in \u001b[0;36mnew_method\u001b[0;34m(self, other)\u001b[0m\n\u001b[1;32m     63\u001b[0m         \u001b[0mother\u001b[0m \u001b[0;34m=\u001b[0m \u001b[0mitem_from_zerodim\u001b[0m\u001b[0;34m(\u001b[0m\u001b[0mother\u001b[0m\u001b[0;34m)\u001b[0m\u001b[0;34m\u001b[0m\u001b[0;34m\u001b[0m\u001b[0m\n\u001b[1;32m     64\u001b[0m \u001b[0;34m\u001b[0m\u001b[0m\n\u001b[0;32m---> 65\u001b[0;31m         \u001b[0;32mreturn\u001b[0m \u001b[0mmethod\u001b[0m\u001b[0;34m(\u001b[0m\u001b[0mself\u001b[0m\u001b[0;34m,\u001b[0m \u001b[0mother\u001b[0m\u001b[0;34m)\u001b[0m\u001b[0;34m\u001b[0m\u001b[0;34m\u001b[0m\u001b[0m\n\u001b[0m\u001b[1;32m     66\u001b[0m \u001b[0;34m\u001b[0m\u001b[0m\n\u001b[1;32m     67\u001b[0m     \u001b[0;32mreturn\u001b[0m \u001b[0mnew_method\u001b[0m\u001b[0;34m\u001b[0m\u001b[0;34m\u001b[0m\u001b[0m\n",
      "\u001b[0;32m~/opt/anaconda3/envs/jupyter3.9/lib/python3.9/site-packages/pandas/core/arraylike.py\u001b[0m in \u001b[0;36m__eq__\u001b[0;34m(self, other)\u001b[0m\n\u001b[1;32m     27\u001b[0m     \u001b[0;34m@\u001b[0m\u001b[0munpack_zerodim_and_defer\u001b[0m\u001b[0;34m(\u001b[0m\u001b[0;34m\"__eq__\"\u001b[0m\u001b[0;34m)\u001b[0m\u001b[0;34m\u001b[0m\u001b[0;34m\u001b[0m\u001b[0m\n\u001b[1;32m     28\u001b[0m     \u001b[0;32mdef\u001b[0m \u001b[0m__eq__\u001b[0m\u001b[0;34m(\u001b[0m\u001b[0mself\u001b[0m\u001b[0;34m,\u001b[0m \u001b[0mother\u001b[0m\u001b[0;34m)\u001b[0m\u001b[0;34m:\u001b[0m\u001b[0;34m\u001b[0m\u001b[0;34m\u001b[0m\u001b[0m\n\u001b[0;32m---> 29\u001b[0;31m         \u001b[0;32mreturn\u001b[0m \u001b[0mself\u001b[0m\u001b[0;34m.\u001b[0m\u001b[0m_cmp_method\u001b[0m\u001b[0;34m(\u001b[0m\u001b[0mother\u001b[0m\u001b[0;34m,\u001b[0m \u001b[0moperator\u001b[0m\u001b[0;34m.\u001b[0m\u001b[0meq\u001b[0m\u001b[0;34m)\u001b[0m\u001b[0;34m\u001b[0m\u001b[0;34m\u001b[0m\u001b[0m\n\u001b[0m\u001b[1;32m     30\u001b[0m \u001b[0;34m\u001b[0m\u001b[0m\n\u001b[1;32m     31\u001b[0m     \u001b[0;34m@\u001b[0m\u001b[0munpack_zerodim_and_defer\u001b[0m\u001b[0;34m(\u001b[0m\u001b[0;34m\"__ne__\"\u001b[0m\u001b[0;34m)\u001b[0m\u001b[0;34m\u001b[0m\u001b[0;34m\u001b[0m\u001b[0m\n",
      "\u001b[0;32m~/opt/anaconda3/envs/jupyter3.9/lib/python3.9/site-packages/pandas/core/indexes/base.py\u001b[0m in \u001b[0;36m_cmp_method\u001b[0;34m(self, other, op)\u001b[0m\n\u001b[1;32m   5629\u001b[0m             \u001b[0;31m# don't pass MultiIndex\u001b[0m\u001b[0;34m\u001b[0m\u001b[0;34m\u001b[0m\u001b[0;34m\u001b[0m\u001b[0m\n\u001b[1;32m   5630\u001b[0m             \u001b[0;32mwith\u001b[0m \u001b[0mnp\u001b[0m\u001b[0;34m.\u001b[0m\u001b[0merrstate\u001b[0m\u001b[0;34m(\u001b[0m\u001b[0mall\u001b[0m\u001b[0;34m=\u001b[0m\u001b[0;34m\"ignore\"\u001b[0m\u001b[0;34m)\u001b[0m\u001b[0;34m:\u001b[0m\u001b[0;34m\u001b[0m\u001b[0;34m\u001b[0m\u001b[0m\n\u001b[0;32m-> 5631\u001b[0;31m                 \u001b[0mresult\u001b[0m \u001b[0;34m=\u001b[0m \u001b[0mops\u001b[0m\u001b[0;34m.\u001b[0m\u001b[0mcomp_method_OBJECT_ARRAY\u001b[0m\u001b[0;34m(\u001b[0m\u001b[0mop\u001b[0m\u001b[0;34m,\u001b[0m \u001b[0mself\u001b[0m\u001b[0;34m.\u001b[0m\u001b[0m_values\u001b[0m\u001b[0;34m,\u001b[0m \u001b[0mother\u001b[0m\u001b[0;34m)\u001b[0m\u001b[0;34m\u001b[0m\u001b[0;34m\u001b[0m\u001b[0m\n\u001b[0m\u001b[1;32m   5632\u001b[0m \u001b[0;34m\u001b[0m\u001b[0m\n\u001b[1;32m   5633\u001b[0m         \u001b[0;32melif\u001b[0m \u001b[0mis_interval_dtype\u001b[0m\u001b[0;34m(\u001b[0m\u001b[0mself\u001b[0m\u001b[0;34m.\u001b[0m\u001b[0mdtype\u001b[0m\u001b[0;34m)\u001b[0m\u001b[0;34m:\u001b[0m\u001b[0;34m\u001b[0m\u001b[0;34m\u001b[0m\u001b[0m\n",
      "\u001b[0;32m~/opt/anaconda3/envs/jupyter3.9/lib/python3.9/site-packages/pandas/core/ops/array_ops.py\u001b[0m in \u001b[0;36mcomp_method_OBJECT_ARRAY\u001b[0;34m(op, x, y)\u001b[0m\n\u001b[1;32m     53\u001b[0m         \u001b[0mresult\u001b[0m \u001b[0;34m=\u001b[0m \u001b[0mlibops\u001b[0m\u001b[0;34m.\u001b[0m\u001b[0mvec_compare\u001b[0m\u001b[0;34m(\u001b[0m\u001b[0mx\u001b[0m\u001b[0;34m.\u001b[0m\u001b[0mravel\u001b[0m\u001b[0;34m(\u001b[0m\u001b[0;34m)\u001b[0m\u001b[0;34m,\u001b[0m \u001b[0my\u001b[0m\u001b[0;34m.\u001b[0m\u001b[0mravel\u001b[0m\u001b[0;34m(\u001b[0m\u001b[0;34m)\u001b[0m\u001b[0;34m,\u001b[0m \u001b[0mop\u001b[0m\u001b[0;34m)\u001b[0m\u001b[0;34m\u001b[0m\u001b[0;34m\u001b[0m\u001b[0m\n\u001b[1;32m     54\u001b[0m     \u001b[0;32melse\u001b[0m\u001b[0;34m:\u001b[0m\u001b[0;34m\u001b[0m\u001b[0;34m\u001b[0m\u001b[0m\n\u001b[0;32m---> 55\u001b[0;31m         \u001b[0mresult\u001b[0m \u001b[0;34m=\u001b[0m \u001b[0mlibops\u001b[0m\u001b[0;34m.\u001b[0m\u001b[0mscalar_compare\u001b[0m\u001b[0;34m(\u001b[0m\u001b[0mx\u001b[0m\u001b[0;34m.\u001b[0m\u001b[0mravel\u001b[0m\u001b[0;34m(\u001b[0m\u001b[0;34m)\u001b[0m\u001b[0;34m,\u001b[0m \u001b[0my\u001b[0m\u001b[0;34m,\u001b[0m \u001b[0mop\u001b[0m\u001b[0;34m)\u001b[0m\u001b[0;34m\u001b[0m\u001b[0;34m\u001b[0m\u001b[0m\n\u001b[0m\u001b[1;32m     56\u001b[0m     \u001b[0;32mreturn\u001b[0m \u001b[0mresult\u001b[0m\u001b[0;34m.\u001b[0m\u001b[0mreshape\u001b[0m\u001b[0;34m(\u001b[0m\u001b[0mx\u001b[0m\u001b[0;34m.\u001b[0m\u001b[0mshape\u001b[0m\u001b[0;34m)\u001b[0m\u001b[0;34m\u001b[0m\u001b[0;34m\u001b[0m\u001b[0m\n\u001b[1;32m     57\u001b[0m \u001b[0;34m\u001b[0m\u001b[0m\n",
      "\u001b[0;31mKeyboardInterrupt\u001b[0m: "
     ]
    }
   ],
   "source": [
    "import numpy as np\n",
    "import pandas as pd\n",
    "from pandarallel import pandarallel\n",
    "\n",
    "\n",
    "def calculate_all_residues(selected: pd.DataFrame) -> pd.DataFrame:\n",
    "    row = selected.iloc[0]\n",
    "\n",
    "    gene_id = row['gene_id']\n",
    "    chromosome = row['chr']\n",
    "    transcript_id = row['transcript_id']\n",
    "    gene_name = row['gene_name']\n",
    "    strand = row['strand']\n",
    "    translation_id = row['protein_id']\n",
    "    \n",
    "    # if strand is negative, we need to reverse order the CDSs:\n",
    "    if strand == '-':\n",
    "        selected = selected.sort_values('start')\n",
    "\n",
    "\n",
    "    # Magic:\n",
    "    positions = reduce(lambda x,y: x+y,(selected.apply(lambda row: list(range(row['start'],row['end']+1)), axis = 1)),[])\n",
    "\n",
    "    # If the gene is on the negative strand we need to flip the list:\n",
    "    if strand == '-':\n",
    "        positions = positions[::-1]\n",
    "\n",
    "    # Sanitizing early termination:\n",
    "    positions = positions[ : -(len(positions)%3) or None]\n",
    "    \n",
    "    try:\n",
    "        return (\n",
    "            pd.DataFrame(np.reshape(positions, (-1, 3)), columns=['pos1', 'pos2', 'pos3'])\n",
    "            .assign(\n",
    "                protein_id=translation_id,\n",
    "                gene_id=gene_id,\n",
    "                chr=chromosome,\n",
    "                strand=strand,\n",
    "                amino_acid_position=lambda df: list(range(1,len(df)+1))\n",
    "            )\n",
    "            .reindex()\n",
    "        )\n",
    "    except:\n",
    "        print(f'Failed: {translation_id}')\n",
    "\n",
    "        \n",
    "        \n",
    "pandarallel.initialize(progress_bar=True)\n",
    "\n",
    "# Extracting processed data from mapper object:\n",
    "full_gencode = mapper.full_gencode.copy()\n",
    "\n",
    "# Generate all possible protein mappings:\n",
    "generated = full_gencode.groupby('protein_id').parallel_apply(calculate_all_residues)\n"
   ]
  },
  {
   "cell_type": "code",
   "execution_count": 9,
   "id": "9445f045",
   "metadata": {
    "ExecuteTime": {
     "end_time": "2022-05-01T08:17:42.266364Z",
     "start_time": "2022-05-01T08:17:39.531514Z"
    }
   },
   "outputs": [
    {
     "data": {
      "text/html": [
       "<div>\n",
       "<style scoped>\n",
       "    .dataframe tbody tr th:only-of-type {\n",
       "        vertical-align: middle;\n",
       "    }\n",
       "\n",
       "    .dataframe tbody tr th {\n",
       "        vertical-align: top;\n",
       "    }\n",
       "\n",
       "    .dataframe thead th {\n",
       "        text-align: right;\n",
       "    }\n",
       "</style>\n",
       "<table border=\"1\" class=\"dataframe\">\n",
       "  <thead>\n",
       "    <tr style=\"text-align: right;\">\n",
       "      <th></th>\n",
       "      <th>chr</th>\n",
       "      <th>start</th>\n",
       "      <th>end</th>\n",
       "      <th>strand</th>\n",
       "      <th>gene_id</th>\n",
       "      <th>transcript_id</th>\n",
       "      <th>gene_name</th>\n",
       "      <th>exon_id</th>\n",
       "      <th>dna</th>\n",
       "    </tr>\n",
       "  </thead>\n",
       "  <tbody>\n",
       "    <tr>\n",
       "      <th>0</th>\n",
       "      <td>13</td>\n",
       "      <td>24804367</td>\n",
       "      <td>24804429</td>\n",
       "      <td>+</td>\n",
       "      <td>ENSG00000132972</td>\n",
       "      <td>ENST00000418120</td>\n",
       "      <td>RNF17</td>\n",
       "      <td>ENSE00003553374</td>\n",
       "      <td>ATGACAGATGTTTCAGTAACGGTTTGTCATATAAATAGTCCTGGAG...</td>\n",
       "    </tr>\n",
       "    <tr>\n",
       "      <th>1</th>\n",
       "      <td>13</td>\n",
       "      <td>24825619</td>\n",
       "      <td>24825772</td>\n",
       "      <td>+</td>\n",
       "      <td>ENSG00000132972</td>\n",
       "      <td>ENST00000418120</td>\n",
       "      <td>RNF17</td>\n",
       "      <td>ENSE00001706074</td>\n",
       "      <td>ATAGAGGGCCTGGATATTTTATTTCTATTAAAGACAATCGAGGAAT...</td>\n",
       "    </tr>\n",
       "    <tr>\n",
       "      <th>2</th>\n",
       "      <td>13</td>\n",
       "      <td>24830484</td>\n",
       "      <td>24830599</td>\n",
       "      <td>+</td>\n",
       "      <td>ENSG00000132972</td>\n",
       "      <td>ENST00000418120</td>\n",
       "      <td>RNF17</td>\n",
       "      <td>ENSE00001671772</td>\n",
       "      <td>GATTGCCTGGACATCAGGAAGTTGAAGTTAAATATGTGGACTTTGG...</td>\n",
       "    </tr>\n",
       "    <tr>\n",
       "      <th>3</th>\n",
       "      <td>13</td>\n",
       "      <td>24831858</td>\n",
       "      <td>24831978</td>\n",
       "      <td>+</td>\n",
       "      <td>ENSG00000132972</td>\n",
       "      <td>ENST00000418120</td>\n",
       "      <td>RNF17</td>\n",
       "      <td>ENSE00001786297</td>\n",
       "      <td>GCAATTAAATGTAAGTTGGCCTATATTGAACCATATAAAAGGACAA...</td>\n",
       "    </tr>\n",
       "    <tr>\n",
       "      <th>4</th>\n",
       "      <td>13</td>\n",
       "      <td>24842041</td>\n",
       "      <td>24842161</td>\n",
       "      <td>+</td>\n",
       "      <td>ENSG00000132972</td>\n",
       "      <td>ENST00000418120</td>\n",
       "      <td>RNF17</td>\n",
       "      <td>ENSE00001729598</td>\n",
       "      <td>AAATTCTGGAAGATAATGTGCTCTTAGTTGAGCTTTTCGATTCTCT...</td>\n",
       "    </tr>\n",
       "  </tbody>\n",
       "</table>\n",
       "</div>"
      ],
      "text/plain": [
       "  chr     start       end strand          gene_id    transcript_id gene_name  \\\n",
       "0  13  24804367  24804429      +  ENSG00000132972  ENST00000418120     RNF17   \n",
       "1  13  24825619  24825772      +  ENSG00000132972  ENST00000418120     RNF17   \n",
       "2  13  24830484  24830599      +  ENSG00000132972  ENST00000418120     RNF17   \n",
       "3  13  24831858  24831978      +  ENSG00000132972  ENST00000418120     RNF17   \n",
       "4  13  24842041  24842161      +  ENSG00000132972  ENST00000418120     RNF17   \n",
       "\n",
       "           exon_id                                                dna  \n",
       "0  ENSE00003553374  ATGACAGATGTTTCAGTAACGGTTTGTCATATAAATAGTCCTGGAG...  \n",
       "1  ENSE00001706074  ATAGAGGGCCTGGATATTTTATTTCTATTAAAGACAATCGAGGAAT...  \n",
       "2  ENSE00001671772  GATTGCCTGGACATCAGGAAGTTGAAGTTAAATATGTGGACTTTGG...  \n",
       "3  ENSE00001786297  GCAATTAAATGTAAGTTGGCCTATATTGAACCATATAAAAGGACAA...  \n",
       "4  ENSE00001729598  AAATTCTGGAAGATAATGTGCTCTTAGTTGAGCTTTTCGATTCTCT...  "
      ]
     },
     "execution_count": 9,
     "metadata": {},
     "output_type": "execute_result"
    }
   ],
   "source": [
    "import numpy as np\n",
    "import requests\n",
    "\n",
    "test_df = (\n",
    "    full_gencode.query('protein_id == \"ENSP00000388892\"')\n",
    "    .drop(['feature_length', 'protein_id'], axis=1)\n",
    "    .reset_index(drop=True)\n",
    "    .assign(\n",
    "        dna = lambda df: df.apply(lambda row: requests.get(f'https://rest.ensembl.org/sequence/region/human/{row[\"chr\"]}:{row[\"start\"]}..{row[\"end\"]}:1?content-type=text/plain').text, axis=1)\n",
    "    )\n",
    ")\n",
    "\n",
    "test_df.head()"
   ]
  },
  {
   "cell_type": "code",
   "execution_count": 219,
   "id": "59434bdf",
   "metadata": {
    "ExecuteTime": {
     "end_time": "2022-04-30T20:55:42.368104Z",
     "start_time": "2022-04-30T20:55:42.350767Z"
    }
   },
   "outputs": [
    {
     "data": {
      "text/html": [
       "<div>\n",
       "<style scoped>\n",
       "    .dataframe tbody tr th:only-of-type {\n",
       "        vertical-align: middle;\n",
       "    }\n",
       "\n",
       "    .dataframe tbody tr th {\n",
       "        vertical-align: top;\n",
       "    }\n",
       "\n",
       "    .dataframe thead th {\n",
       "        text-align: right;\n",
       "    }\n",
       "</style>\n",
       "<table border=\"1\" class=\"dataframe\">\n",
       "  <thead>\n",
       "    <tr style=\"text-align: right;\">\n",
       "      <th></th>\n",
       "      <th>chr</th>\n",
       "      <th>start</th>\n",
       "      <th>end</th>\n",
       "      <th>strand</th>\n",
       "      <th>gene_id</th>\n",
       "      <th>transcript_id</th>\n",
       "      <th>gene_name</th>\n",
       "      <th>exon_id</th>\n",
       "      <th>dna</th>\n",
       "    </tr>\n",
       "  </thead>\n",
       "  <tbody>\n",
       "    <tr>\n",
       "      <th>0</th>\n",
       "      <td>13</td>\n",
       "      <td>24804367</td>\n",
       "      <td>24804429</td>\n",
       "      <td>+</td>\n",
       "      <td>ENSG00000132972</td>\n",
       "      <td>ENST00000418120</td>\n",
       "      <td>RNF17</td>\n",
       "      <td>ENSE00003553374</td>\n",
       "      <td>ATGACAGATGTTTCAGTAACGGTTTGTCATATAAATAGTCCTGGAG...</td>\n",
       "    </tr>\n",
       "    <tr>\n",
       "      <th>1</th>\n",
       "      <td>13</td>\n",
       "      <td>24825619</td>\n",
       "      <td>24825772</td>\n",
       "      <td>+</td>\n",
       "      <td>ENSG00000132972</td>\n",
       "      <td>ENST00000418120</td>\n",
       "      <td>RNF17</td>\n",
       "      <td>ENSE00001706074</td>\n",
       "      <td>ATAGAGGGCCTGGATATTTTATTTCTATTAAAGACAATCGAGGAAT...</td>\n",
       "    </tr>\n",
       "    <tr>\n",
       "      <th>2</th>\n",
       "      <td>13</td>\n",
       "      <td>24830484</td>\n",
       "      <td>24830599</td>\n",
       "      <td>+</td>\n",
       "      <td>ENSG00000132972</td>\n",
       "      <td>ENST00000418120</td>\n",
       "      <td>RNF17</td>\n",
       "      <td>ENSE00001671772</td>\n",
       "      <td>GATTGCCTGGACATCAGGAAGTTGAAGTTAAATATGTGGACTTTGG...</td>\n",
       "    </tr>\n",
       "    <tr>\n",
       "      <th>3</th>\n",
       "      <td>13</td>\n",
       "      <td>24831858</td>\n",
       "      <td>24831978</td>\n",
       "      <td>+</td>\n",
       "      <td>ENSG00000132972</td>\n",
       "      <td>ENST00000418120</td>\n",
       "      <td>RNF17</td>\n",
       "      <td>ENSE00001786297</td>\n",
       "      <td>GCAATTAAATGTAAGTTGGCCTATATTGAACCATATAAAAGGACAA...</td>\n",
       "    </tr>\n",
       "    <tr>\n",
       "      <th>4</th>\n",
       "      <td>13</td>\n",
       "      <td>24842041</td>\n",
       "      <td>24842161</td>\n",
       "      <td>+</td>\n",
       "      <td>ENSG00000132972</td>\n",
       "      <td>ENST00000418120</td>\n",
       "      <td>RNF17</td>\n",
       "      <td>ENSE00001729598</td>\n",
       "      <td>AAATTCTGGAAGATAATGTGCTCTTAGTTGAGCTTTTCGATTCTCT...</td>\n",
       "    </tr>\n",
       "    <tr>\n",
       "      <th>5</th>\n",
       "      <td>13</td>\n",
       "      <td>24843744</td>\n",
       "      <td>24843971</td>\n",
       "      <td>+</td>\n",
       "      <td>ENSG00000132972</td>\n",
       "      <td>ENST00000418120</td>\n",
       "      <td>RNF17</td>\n",
       "      <td>ENSE00001731008</td>\n",
       "      <td>ATACATCCTCAAAGATAATTCTCAAAAGCATATTGAAGTTTGGGAT...</td>\n",
       "    </tr>\n",
       "    <tr>\n",
       "      <th>6</th>\n",
       "      <td>13</td>\n",
       "      <td>24844652</td>\n",
       "      <td>24844802</td>\n",
       "      <td>+</td>\n",
       "      <td>ENSG00000132972</td>\n",
       "      <td>ENST00000418120</td>\n",
       "      <td>RNF17</td>\n",
       "      <td>ENSE00003641245</td>\n",
       "      <td>TTTAGAAGAAAAGATGATAGCTGCTTATGAAAACTCAAAATGGGAA...</td>\n",
       "    </tr>\n",
       "    <tr>\n",
       "      <th>7</th>\n",
       "      <td>13</td>\n",
       "      <td>24844961</td>\n",
       "      <td>24845079</td>\n",
       "      <td>+</td>\n",
       "      <td>ENSG00000132972</td>\n",
       "      <td>ENST00000418120</td>\n",
       "      <td>RNF17</td>\n",
       "      <td>ENSE00001144924</td>\n",
       "      <td>GTCTTGCTGTATGATGTGGGTGTTGAACTAGTAGTGAATGTTGACT...</td>\n",
       "    </tr>\n",
       "    <tr>\n",
       "      <th>8</th>\n",
       "      <td>13</td>\n",
       "      <td>24850341</td>\n",
       "      <td>24850443</td>\n",
       "      <td>+</td>\n",
       "      <td>ENSG00000132972</td>\n",
       "      <td>ENST00000418120</td>\n",
       "      <td>RNF17</td>\n",
       "      <td>ENSE00001144918</td>\n",
       "      <td>ACCAGCTGGTGGGAGTGACAAGTGGACAGCAACAGCTTGTGACTGT...</td>\n",
       "    </tr>\n",
       "    <tr>\n",
       "      <th>9</th>\n",
       "      <td>13</td>\n",
       "      <td>24851456</td>\n",
       "      <td>24851571</td>\n",
       "      <td>+</td>\n",
       "      <td>ENSG00000132972</td>\n",
       "      <td>ENST00000418120</td>\n",
       "      <td>RNF17</td>\n",
       "      <td>ENSE00001144911</td>\n",
       "      <td>GAAAACAACACAACATGGCCATTACCTGTGAAAATTTTCTGCAGAG...</td>\n",
       "    </tr>\n",
       "    <tr>\n",
       "      <th>10</th>\n",
       "      <td>13</td>\n",
       "      <td>24853855</td>\n",
       "      <td>24854144</td>\n",
       "      <td>+</td>\n",
       "      <td>ENSG00000132972</td>\n",
       "      <td>ENST00000418120</td>\n",
       "      <td>RNF17</td>\n",
       "      <td>ENSE00001144905</td>\n",
       "      <td>AATTAATAACTTAGATAACAGCCATTCATTATCTGAGAAGTCTCTG...</td>\n",
       "    </tr>\n",
       "    <tr>\n",
       "      <th>11</th>\n",
       "      <td>13</td>\n",
       "      <td>24859001</td>\n",
       "      <td>24859164</td>\n",
       "      <td>+</td>\n",
       "      <td>ENSG00000132972</td>\n",
       "      <td>ENST00000418120</td>\n",
       "      <td>RNF17</td>\n",
       "      <td>ENSE00002711173</td>\n",
       "      <td>AATTTGAGCTAATAAAAATGACAAATGAAATTCAAAGTAATTTAAA...</td>\n",
       "    </tr>\n",
       "    <tr>\n",
       "      <th>12</th>\n",
       "      <td>13</td>\n",
       "      <td>24861268</td>\n",
       "      <td>24861387</td>\n",
       "      <td>+</td>\n",
       "      <td>ENSG00000132972</td>\n",
       "      <td>ENST00000418120</td>\n",
       "      <td>RNF17</td>\n",
       "      <td>ENSE00001144895</td>\n",
       "      <td>GTACAATATTTAGATCATGGATTCACTGAAAAGATTCCGCAGTGCC...</td>\n",
       "    </tr>\n",
       "    <tr>\n",
       "      <th>13</th>\n",
       "      <td>13</td>\n",
       "      <td>24862713</td>\n",
       "      <td>24862793</td>\n",
       "      <td>+</td>\n",
       "      <td>ENSG00000132972</td>\n",
       "      <td>ENST00000418120</td>\n",
       "      <td>RNF17</td>\n",
       "      <td>ENSE00001391074</td>\n",
       "      <td>GTTGGGAATGTCTGGCAACCAGATGCAATAGAAGTTCTTCAACAAC...</td>\n",
       "    </tr>\n",
       "    <tr>\n",
       "      <th>14</th>\n",
       "      <td>13</td>\n",
       "      <td>24864873</td>\n",
       "      <td>24864998</td>\n",
       "      <td>+</td>\n",
       "      <td>ENSG00000132972</td>\n",
       "      <td>ENST00000418120</td>\n",
       "      <td>RNF17</td>\n",
       "      <td>ENSE00001375546</td>\n",
       "      <td>GAGTTACCTAAAAATCCATGGGAGAAATTGTCTATTCACCTCTATT...</td>\n",
       "    </tr>\n",
       "    <tr>\n",
       "      <th>15</th>\n",
       "      <td>13</td>\n",
       "      <td>24866144</td>\n",
       "      <td>24866203</td>\n",
       "      <td>+</td>\n",
       "      <td>ENSG00000132972</td>\n",
       "      <td>ENST00000418120</td>\n",
       "      <td>RNF17</td>\n",
       "      <td>ENSE00001144882</td>\n",
       "      <td>AAACCAAGATCAGATCATGATAAAAAGTATGAAGAGGAACAATGGG...</td>\n",
       "    </tr>\n",
       "    <tr>\n",
       "      <th>16</th>\n",
       "      <td>13</td>\n",
       "      <td>24868600</td>\n",
       "      <td>24868716</td>\n",
       "      <td>+</td>\n",
       "      <td>ENSG00000132972</td>\n",
       "      <td>ENST00000418120</td>\n",
       "      <td>RNF17</td>\n",
       "      <td>ENSE00001144876</td>\n",
       "      <td>GAATTGCTTTCGGCTGAAACAGACACTCCTCTTTTACCACCATATT...</td>\n",
       "    </tr>\n",
       "    <tr>\n",
       "      <th>17</th>\n",
       "      <td>13</td>\n",
       "      <td>24870571</td>\n",
       "      <td>24870739</td>\n",
       "      <td>+</td>\n",
       "      <td>ENSG00000132972</td>\n",
       "      <td>ENST00000418120</td>\n",
       "      <td>RNF17</td>\n",
       "      <td>ENSE00001144871</td>\n",
       "      <td>GTGTATATTTGCCTTGATTCTATAGAAACTTCTAACCAGTCTAACC...</td>\n",
       "    </tr>\n",
       "    <tr>\n",
       "      <th>18</th>\n",
       "      <td>13</td>\n",
       "      <td>24874114</td>\n",
       "      <td>24874261</td>\n",
       "      <td>+</td>\n",
       "      <td>ENSG00000132972</td>\n",
       "      <td>ENST00000418120</td>\n",
       "      <td>RNF17</td>\n",
       "      <td>ENSE00001657121</td>\n",
       "      <td>AAATGCCTTGCCTTGCAGAATATGATGATGGCTTATGGTATAGAGC...</td>\n",
       "    </tr>\n",
       "  </tbody>\n",
       "</table>\n",
       "</div>"
      ],
      "text/plain": [
       "   chr     start       end strand          gene_id    transcript_id gene_name  \\\n",
       "0   13  24804367  24804429      +  ENSG00000132972  ENST00000418120     RNF17   \n",
       "1   13  24825619  24825772      +  ENSG00000132972  ENST00000418120     RNF17   \n",
       "2   13  24830484  24830599      +  ENSG00000132972  ENST00000418120     RNF17   \n",
       "3   13  24831858  24831978      +  ENSG00000132972  ENST00000418120     RNF17   \n",
       "4   13  24842041  24842161      +  ENSG00000132972  ENST00000418120     RNF17   \n",
       "5   13  24843744  24843971      +  ENSG00000132972  ENST00000418120     RNF17   \n",
       "6   13  24844652  24844802      +  ENSG00000132972  ENST00000418120     RNF17   \n",
       "7   13  24844961  24845079      +  ENSG00000132972  ENST00000418120     RNF17   \n",
       "8   13  24850341  24850443      +  ENSG00000132972  ENST00000418120     RNF17   \n",
       "9   13  24851456  24851571      +  ENSG00000132972  ENST00000418120     RNF17   \n",
       "10  13  24853855  24854144      +  ENSG00000132972  ENST00000418120     RNF17   \n",
       "11  13  24859001  24859164      +  ENSG00000132972  ENST00000418120     RNF17   \n",
       "12  13  24861268  24861387      +  ENSG00000132972  ENST00000418120     RNF17   \n",
       "13  13  24862713  24862793      +  ENSG00000132972  ENST00000418120     RNF17   \n",
       "14  13  24864873  24864998      +  ENSG00000132972  ENST00000418120     RNF17   \n",
       "15  13  24866144  24866203      +  ENSG00000132972  ENST00000418120     RNF17   \n",
       "16  13  24868600  24868716      +  ENSG00000132972  ENST00000418120     RNF17   \n",
       "17  13  24870571  24870739      +  ENSG00000132972  ENST00000418120     RNF17   \n",
       "18  13  24874114  24874261      +  ENSG00000132972  ENST00000418120     RNF17   \n",
       "\n",
       "            exon_id                                                dna  \n",
       "0   ENSE00003553374  ATGACAGATGTTTCAGTAACGGTTTGTCATATAAATAGTCCTGGAG...  \n",
       "1   ENSE00001706074  ATAGAGGGCCTGGATATTTTATTTCTATTAAAGACAATCGAGGAAT...  \n",
       "2   ENSE00001671772  GATTGCCTGGACATCAGGAAGTTGAAGTTAAATATGTGGACTTTGG...  \n",
       "3   ENSE00001786297  GCAATTAAATGTAAGTTGGCCTATATTGAACCATATAAAAGGACAA...  \n",
       "4   ENSE00001729598  AAATTCTGGAAGATAATGTGCTCTTAGTTGAGCTTTTCGATTCTCT...  \n",
       "5   ENSE00001731008  ATACATCCTCAAAGATAATTCTCAAAAGCATATTGAAGTTTGGGAT...  \n",
       "6   ENSE00003641245  TTTAGAAGAAAAGATGATAGCTGCTTATGAAAACTCAAAATGGGAA...  \n",
       "7   ENSE00001144924  GTCTTGCTGTATGATGTGGGTGTTGAACTAGTAGTGAATGTTGACT...  \n",
       "8   ENSE00001144918  ACCAGCTGGTGGGAGTGACAAGTGGACAGCAACAGCTTGTGACTGT...  \n",
       "9   ENSE00001144911  GAAAACAACACAACATGGCCATTACCTGTGAAAATTTTCTGCAGAG...  \n",
       "10  ENSE00001144905  AATTAATAACTTAGATAACAGCCATTCATTATCTGAGAAGTCTCTG...  \n",
       "11  ENSE00002711173  AATTTGAGCTAATAAAAATGACAAATGAAATTCAAAGTAATTTAAA...  \n",
       "12  ENSE00001144895  GTACAATATTTAGATCATGGATTCACTGAAAAGATTCCGCAGTGCC...  \n",
       "13  ENSE00001391074  GTTGGGAATGTCTGGCAACCAGATGCAATAGAAGTTCTTCAACAAC...  \n",
       "14  ENSE00001375546  GAGTTACCTAAAAATCCATGGGAGAAATTGTCTATTCACCTCTATT...  \n",
       "15  ENSE00001144882  AAACCAAGATCAGATCATGATAAAAAGTATGAAGAGGAACAATGGG...  \n",
       "16  ENSE00001144876  GAATTGCTTTCGGCTGAAACAGACACTCCTCTTTTACCACCATATT...  \n",
       "17  ENSE00001144871  GTGTATATTTGCCTTGATTCTATAGAAACTTCTAACCAGTCTAACC...  \n",
       "18  ENSE00001657121  AAATGCCTTGCCTTGCAGAATATGATGATGGCTTATGGTATAGAGC...  "
      ]
     },
     "execution_count": 219,
     "metadata": {},
     "output_type": "execute_result"
    }
   ],
   "source": [
    "test_df"
   ]
  },
  {
   "cell_type": "code",
   "execution_count": 10,
   "id": "972a50c5",
   "metadata": {
    "ExecuteTime": {
     "end_time": "2022-05-01T08:17:56.060733Z",
     "start_time": "2022-05-01T08:17:56.055344Z"
    }
   },
   "outputs": [
    {
     "data": {
      "text/plain": [
       "'ATGACAGATGTTTCAGTAACGGTTTGTCATATAAATAGTCCTGGAGATTTCTATCTTCAGTTGATAGAGGGCCTGGATATTTTATTTCTATTAAAGACAATCGAGGAATTCTATAAAAGTGAAGATGGAGAAAATCTGGAAATCCTCTGTCCAGTTCAAGATCAAGCCTGTGTAGCTAAATTTGAAGATGGAATTTGGTACCGAGCAAAAGTTATCGGATTGCCTGGACATCAGGAAGTTGAAGTTAAATATGTGGACTTTGGTAATACTGCAAAAATAACAATCAAAGACGTGCGTAAAATAAAGGATGAGTTTCTGAATGCCCCAGAGAAGGCAATTAAATGTAAGTTGGCCTATATTGAACCATATAAAAGGACAATGCAGTGGTCCAAAGAAGCTAAAGAAAAATTTGAAGAAAAGGCTCAAGATAAATTTATGACATGTTCAGTTATCAAAATTCTGGAAGATAATGTGCTCTTAGTTGAGCTTTTCGATTCTCTTGGTGCTCCTGAAATGACTACTACTAGTATTAATGACCAGCTAGTTAAAGAGGGCCTAGCATCTTATGAAATAGGATACATCCTCAAAGATAATTCTCAAAAGCATATTGAAGTTTGGGATCCTTCTCCAGAAGAAATTATTTCAAATGAAGTACACAACTTAAATCCTGTGTCTGCAAAATCTCTACCTAATGAGAATTTTCAGTCACTTTATAATAAGGAATTGCCTGTGCATATCTGTAATGTAATATCTCCTGAGAAGATTTATGTTCAGTGGTTGTTAACTGAAAACTTACTTAATAGTTTAGAAGAAAAGATGATAGCTGCTTATGAAAACTCAAAATGGGAACCTGTTAAATGGGAAAATGATATGCACTGTGCTGTTAAGATCCAAGATAAAAATCAGTGGCGAAGAGGCCAGATCATCAGAATGGTTACAGACACATTGGTAGAGGTCTTGCTGTATGATGTGGGTGTTGAACTAGTAGTGAATGTTGACTGTTTAAGAAAACTTGAAGAAAATCTAAAGACAATGGGAAGACTCTCTTTGGAATGTTCTCTGGTTGACATAAGACCAGCTGGTGGGAGTGACAAGTGGACAGCAACAGCTTGTGACTGTCTTTCATTGTACCTGACTGGAGCTGTAGCAACTATAATCTTACAGGTGGATAGTGAGGAAAACAACACAACATGGCCATTACCTGTGAAAATTTTCTGCAGAGATGAAAAAGGAGAGCGTGTTGATGTTTCTAAATATTTGATTAAAAAGGGTTTGGCTTTGAGAGAAAGGAGAATTAATAACTTAGATAACAGCCATTCATTATCTGAGAAGTCTCTGGAAGTCCCCCTGGAACAGGAAGATTCAGTAGTTACTAACTGTATTAAAACTAACTTTGACCCTGACAAGAAAACTGCTGACATAATCAGTGAACAGAAAGTGTCTGAATTTCAGGAGAAAATTCTAGAACCAAGAACCACTAGAGGGTATAAGCCACCAGCTATTCCTAACATGAACGTATTTGAGGCAACAGTCAGCTGTGTTGGTGATGATGGAACTATATTTGTAGTACCTAAACTATCAGAATTTGAGCTAATAAAAATGACAAATGAAATTCAAAGTAATTTAAAATGCCTTGGTCTTTTGGAGCCTTATTTCTGGAAAAAAGGAGAAGCATGTGCAGTAAGAGGATCCGATACTCTGTGGTATCGTGGCAAGGTGATGGAGGTTGTAGGTGGCGCTGTCAGAGTACAATATTTAGATCATGGATTCACTGAAAAGATTCCGCAGTGCCATCTTTACCCTATTTTGCTGTATCCTGATATACCCCAGTTTTGTATTCCTTGTCAGCTCCATAATACCACACCTGTTGGGAATGTCTGGCAACCAGATGCAATAGAAGTTCTTCAACAACTGCTTTCAAAGAGACAGGTGGACATTCACATTATGGAGTTACCTAAAAATCCATGGGAGAAATTGTCTATTCACCTCTATTTTGATGGAATGTCACTTTCTTATTTTATGGCATACTATAAATACTGTACTTCTGAACATACTGAGGAGATGTTGAAAGAAAAACCAAGATCAGATCATGATAAAAAGTATGAAGAGGAACAATGGGAAATAAGGTTTGAGGAATTGCTTTCGGCTGAAACAGACACTCCTCTTTTACCACCATATTTGTCTTCATCTCTGCCTTCCCCAGGAGAACTCTATGCTGTTCAAGTTAAGCACGTTGTCTCACCTAATGAAGTGTATATTTGCCTTGATTCTATAGAAACTTCTAACCAGTCTAACCAGCATAGTGACACAGATGATAGTGGAGTCAGCGGGGAATCAGAATCCGAGAGCCTTGATGAAGCACTGCAGAGGGTTAATAAGAAGGTAGAGGCGCTTCCTCCTCTGACGGATTTTAGAACAGAAATGCCTTGCCTTGCAGAATATGATGATGGCTTATGGTATAGAGCGAAGATTGTTGCCATTAAAGAATTTAATCCTTTATCTATCTTAGTACAATTTGTTGATTATGGATCAACTGCAAAGCTGACATTAAACAGGTTAAAAATAAA'"
      ]
     },
     "execution_count": 10,
     "metadata": {},
     "output_type": "execute_result"
    }
   ],
   "source": [
    "reduce(lambda x,y: x+y, test_df.dna)"
   ]
  },
  {
   "cell_type": "code",
   "execution_count": 18,
   "id": "f539af7f",
   "metadata": {
    "ExecuteTime": {
     "end_time": "2022-05-01T16:16:51.697356Z",
     "start_time": "2022-05-01T15:50:24.941534Z"
    }
   },
   "outputs": [],
   "source": [
    "# full_gencode.query('protein_id == \"ENSP00000388892\"').feature_length.sum()\n",
    "generated.to_csv('generated_mappings.tsv.gz', sep='\\t', compression='infer', index=False)"
   ]
  },
  {
   "cell_type": "code",
   "execution_count": 17,
   "id": "7949cc9c",
   "metadata": {
    "ExecuteTime": {
     "end_time": "2022-05-01T15:49:08.293603Z",
     "start_time": "2022-05-01T15:49:08.283926Z"
    }
   },
   "outputs": [
    {
     "data": {
      "text/plain": [
       "pos1                           7633347\n",
       "pos2                           7633348\n",
       "pos3                           7633349\n",
       "protein_id             ENSP00000369816\n",
       "gene_id                ENSG00000129214\n",
       "chr                                 17\n",
       "strand                               +\n",
       "amino_acid_position                402\n",
       "Name: (ENSP00000369816, 401), dtype: object"
      ]
     },
     "execution_count": 17,
     "metadata": {},
     "output_type": "execute_result"
    }
   ],
   "source": [
    "# generated.head()\n",
    "# generated.to_json('generated_mappings.json.gz', compression='infer',orient='records', lines=True)\n",
    "generated.loc['ENSP00000369816', 401]"
   ]
  },
  {
   "cell_type": "code",
   "execution_count": 1,
   "id": "29e0e7b1",
   "metadata": {
    "ExecuteTime": {
     "end_time": "2022-05-01T08:12:48.285276Z",
     "start_time": "2022-05-01T08:12:48.217614Z"
    }
   },
   "outputs": [
    {
     "name": "stdout",
     "output_type": "stream",
     "text": [
      "total 472\n",
      "drwxrwxr-x  11 dsuveges  384566875   352B  1 May 01:07 .\n",
      "drwxrwxr-x  80 dsuveges  384566875   2.5K 25 Apr 15:13 ..\n",
      "drwxrwxr-x   7 dsuveges  384566875   224B 30 Apr 01:30 .ipynb_checkpoints\n",
      "-rw-r--r--   1 dsuveges  384566875    53K 28 Apr 23:31 MapAminoAcid2Genome.ipynb\n",
      "-rw-r--r--   1 dsuveges  384566875   671B 29 Apr 09:03 Mapping aminioacid to genome.ipynb\n",
      "-rw-r--r--   1 dsuveges  384566875    16K 22 Apr 16:57 Mapping drugs to pdb.ipynb\n",
      "-rw-r--r--   1 dsuveges  384566875    56K  1 May 01:07 ResidueMapper.ipynb\n",
      "drwxr-xr-x   6 dsuveges  384566875   192B 22 Apr 00:30 data\n",
      "-rw-rw-r--   1 dsuveges  384566875    88K 21 Apr 21:59 drug2pdb.ipynb\n",
      "-rw-r--r--   1 dsuveges  384566875   141B 30 Apr 20:10 lajhar.txt\n",
      "-rw-r--r--   1 dsuveges  384566875   139B 30 Apr 20:11 lajharok2.txt\n"
     ]
    }
   ],
   "source": [
    "%%bash \n",
    "\n",
    "ls -lah"
   ]
  },
  {
   "cell_type": "code",
   "execution_count": 37,
   "id": "53353d25",
   "metadata": {
    "ExecuteTime": {
     "end_time": "2022-05-02T19:17:40.583801Z",
     "start_time": "2022-05-02T19:17:40.494416Z"
    }
   },
   "outputs": [],
   "source": [
    "import pandas as pd\n",
    "from lxml import etree\n",
    "from collections import defaultdict\n",
    "\n",
    "with open('/Users/dsuveges/Downloads/1dqa.xml', 'rb') as fobj:\n",
    "    xml = fobj.read()\n",
    "\n",
    "root = etree.fromstring(xml)"
   ]
  },
  {
   "cell_type": "code",
   "execution_count": 28,
   "id": "9159c6fc",
   "metadata": {
    "ExecuteTime": {
     "end_time": "2022-05-02T18:58:50.651958Z",
     "start_time": "2022-05-02T18:58:50.646425Z"
    }
   },
   "outputs": [
    {
     "data": {
      "text/plain": [
       "[]"
      ]
     },
     "execution_count": 28,
     "metadata": {},
     "output_type": "execute_result"
    }
   ],
   "source": [
    "['pocok' for x in root.findall('entity')]"
   ]
  },
  {
   "cell_type": "code",
   "execution_count": 36,
   "id": "73e94c1d",
   "metadata": {
    "ExecuteTime": {
     "end_time": "2022-05-02T19:11:28.334990Z",
     "start_time": "2022-05-02T19:11:28.327693Z"
    }
   },
   "outputs": [
    {
     "data": {
      "text/plain": [
       "['A', 'B', 'C', 'D']"
      ]
     },
     "execution_count": 36,
     "metadata": {},
     "output_type": "execute_result"
    }
   ],
   "source": [
    "data = []\n",
    "\n",
    "for entry in root.findall('{http://www.ebi.ac.uk/pdbe/docs/sifts/eFamily.xsd}entity'):\n",
    "    data.update({\n",
    "        'chain': entry.get('entityId'),\n",
    "        'type': entry.get('type')\n",
    "    })"
   ]
  },
  {
   "cell_type": "code",
   "execution_count": 60,
   "id": "71a75058",
   "metadata": {
    "ExecuteTime": {
     "end_time": "2022-05-02T21:46:42.130629Z",
     "start_time": "2022-05-02T21:46:41.967035Z"
    }
   },
   "outputs": [
    {
     "data": {
      "text/html": [
       "<div>\n",
       "<style scoped>\n",
       "    .dataframe tbody tr th:only-of-type {\n",
       "        vertical-align: middle;\n",
       "    }\n",
       "\n",
       "    .dataframe tbody tr th {\n",
       "        vertical-align: top;\n",
       "    }\n",
       "\n",
       "    .dataframe thead th {\n",
       "        text-align: right;\n",
       "    }\n",
       "</style>\n",
       "<table border=\"1\" class=\"dataframe\">\n",
       "  <thead>\n",
       "    <tr style=\"text-align: right;\">\n",
       "      <th></th>\n",
       "      <th>accession</th>\n",
       "      <th>chain_id</th>\n",
       "      <th>unp_end</th>\n",
       "      <th>transcript_id</th>\n",
       "      <th>coverage</th>\n",
       "      <th>unp_start</th>\n",
       "      <th>translation_id</th>\n",
       "      <th>struct_asym_id</th>\n",
       "      <th>pdb_id</th>\n",
       "      <th>pdb_start</th>\n",
       "      <th>pdb_end</th>\n",
       "    </tr>\n",
       "    <tr>\n",
       "      <th>identifier</th>\n",
       "      <th></th>\n",
       "      <th></th>\n",
       "      <th></th>\n",
       "      <th></th>\n",
       "      <th></th>\n",
       "      <th></th>\n",
       "      <th></th>\n",
       "      <th></th>\n",
       "      <th></th>\n",
       "      <th></th>\n",
       "      <th></th>\n",
       "    </tr>\n",
       "  </thead>\n",
       "  <tbody>\n",
       "    <tr>\n",
       "      <th>ENSG00000138036</th>\n",
       "      <td>Q8TCX1</td>\n",
       "      <td>E</td>\n",
       "      <td>3</td>\n",
       "      <td>ENST00000260605</td>\n",
       "      <td>1.0</td>\n",
       "      <td>1</td>\n",
       "      <td>ENSP00000260605</td>\n",
       "      <td>E</td>\n",
       "      <td>6rlb</td>\n",
       "      <td>NaN</td>\n",
       "      <td>NaN</td>\n",
       "    </tr>\n",
       "    <tr>\n",
       "      <th>ENSG00000138036</th>\n",
       "      <td>Q8TCX1-5</td>\n",
       "      <td>E</td>\n",
       "      <td>3</td>\n",
       "      <td>ENST00000398823</td>\n",
       "      <td>1.0</td>\n",
       "      <td>1</td>\n",
       "      <td>ENSP00000381804</td>\n",
       "      <td>E</td>\n",
       "      <td>6rlb</td>\n",
       "      <td>NaN</td>\n",
       "      <td>NaN</td>\n",
       "    </tr>\n",
       "    <tr>\n",
       "      <th>ENSG00000138036</th>\n",
       "      <td>Q8TCX1-4</td>\n",
       "      <td>E</td>\n",
       "      <td>3</td>\n",
       "      <td>ENST00000406852</td>\n",
       "      <td>1.0</td>\n",
       "      <td>1</td>\n",
       "      <td>ENSP00000385738</td>\n",
       "      <td>E</td>\n",
       "      <td>6rlb</td>\n",
       "      <td>NaN</td>\n",
       "      <td>NaN</td>\n",
       "    </tr>\n",
       "    <tr>\n",
       "      <th>ENSG00000138036</th>\n",
       "      <td>Q8TCX1-2</td>\n",
       "      <td>E</td>\n",
       "      <td>3</td>\n",
       "      <td>ENST00000605786</td>\n",
       "      <td>1.0</td>\n",
       "      <td>1</td>\n",
       "      <td>ENSP00000474032</td>\n",
       "      <td>E</td>\n",
       "      <td>6rlb</td>\n",
       "      <td>NaN</td>\n",
       "      <td>NaN</td>\n",
       "    </tr>\n",
       "    <tr>\n",
       "      <th>ENSG00000138036</th>\n",
       "      <td>Q8TCX1</td>\n",
       "      <td>E</td>\n",
       "      <td>42</td>\n",
       "      <td>ENST00000260605</td>\n",
       "      <td>1.0</td>\n",
       "      <td>3</td>\n",
       "      <td>ENSP00000260605</td>\n",
       "      <td>E</td>\n",
       "      <td>6rlb</td>\n",
       "      <td>NaN</td>\n",
       "      <td>42.0</td>\n",
       "    </tr>\n",
       "  </tbody>\n",
       "</table>\n",
       "</div>"
      ],
      "text/plain": [
       "                accession chain_id  unp_end    transcript_id  coverage  \\\n",
       "identifier                                                               \n",
       "ENSG00000138036    Q8TCX1        E        3  ENST00000260605       1.0   \n",
       "ENSG00000138036  Q8TCX1-5        E        3  ENST00000398823       1.0   \n",
       "ENSG00000138036  Q8TCX1-4        E        3  ENST00000406852       1.0   \n",
       "ENSG00000138036  Q8TCX1-2        E        3  ENST00000605786       1.0   \n",
       "ENSG00000138036    Q8TCX1        E       42  ENST00000260605       1.0   \n",
       "\n",
       "                 unp_start   translation_id struct_asym_id pdb_id  pdb_start  \\\n",
       "identifier                                                                     \n",
       "ENSG00000138036          1  ENSP00000260605              E   6rlb        NaN   \n",
       "ENSG00000138036          1  ENSP00000381804              E   6rlb        NaN   \n",
       "ENSG00000138036          1  ENSP00000385738              E   6rlb        NaN   \n",
       "ENSG00000138036          1  ENSP00000474032              E   6rlb        NaN   \n",
       "ENSG00000138036          3  ENSP00000260605              E   6rlb        NaN   \n",
       "\n",
       "                 pdb_end  \n",
       "identifier                \n",
       "ENSG00000138036      NaN  \n",
       "ENSG00000138036      NaN  \n",
       "ENSG00000138036      NaN  \n",
       "ENSG00000138036      NaN  \n",
       "ENSG00000138036     42.0  "
      ]
     },
     "execution_count": 60,
     "metadata": {},
     "output_type": "execute_result"
    }
   ],
   "source": [
    "pdb_id = '6rlb'\n",
    "data = requests.get(f'https://www.ebi.ac.uk/pdbe/api/mappings/ensembl/{pdb_id}').json()\n",
    "# pd.DataFrame(data['6rlb']['Ensembl'])\n",
    "df = (\n",
    "    pd.DataFrame(data['6rlb']['Ensembl'].values())\n",
    "    .explode('mappings')\n",
    "    .set_index('identifier')\n",
    ")\n",
    "\n",
    "df = (\n",
    "    pd.DataFrame(df['mappings'].values.tolist(), index=df.index)\n",
    "    .assign(\n",
    "        pdb_id = pdb_id,\n",
    "        pdb_start = lambda df: df.start.apply(lambda start: start['author_residue_number']),\n",
    "        pdb_end = lambda df: df.end.apply(lambda start: start['author_residue_number'])\n",
    "    )\n",
    "    .drop(['ordinal', 'entity_id', 'end', 'genome_start', 'start', 'exon_id', 'genome_end'], axis=1)\n",
    ")\n",
    "\n",
    "df.head()"
   ]
  },
  {
   "cell_type": "code",
   "execution_count": 12,
   "id": "25dcc54d",
   "metadata": {
    "ExecuteTime": {
     "end_time": "2022-05-10T19:46:41.248407Z",
     "start_time": "2022-05-10T19:46:41.242981Z"
    }
   },
   "outputs": [],
   "source": [
    "from pyspark.sql.types import ArrayType, StringType, IntegerType, StructType, StructField\n",
    "from pyspark.sql import SparkSession\n",
    "import pyspark.sql.functions as f\n",
    "\n",
    "# establish spark connection\n",
    "spark = (\n",
    "    SparkSession.builder\n",
    "    .master('local[*]')\n",
    "    .getOrCreate()\n",
    ")"
   ]
  },
  {
   "cell_type": "code",
   "execution_count": 55,
   "id": "45697b8f",
   "metadata": {
    "ExecuteTime": {
     "end_time": "2022-05-10T20:39:25.685720Z",
     "start_time": "2022-05-10T20:39:25.544466Z"
    }
   },
   "outputs": [],
   "source": [
    "\n",
    "\n",
    "\n",
    "gff3_columns = ['strand', 'phase', 'annotation']\n",
    "\n",
    "gff3_schema = StructType([\n",
    "    StructField(\"chr\", StringType(), False),\n",
    "    StructField(\"source\", StringType(), False),\n",
    "    StructField(\"featureType\", StringType(), False),\n",
    "    StructField(\"start\", IntegerType(), False),\n",
    "    StructField(\"end\", IntegerType(), False),\n",
    "    StructField(\"score\", StringType(), False),\n",
    "    StructField(\"strand\", StringType(), False),\n",
    "    StructField(\"phase\", StringType(), False),\n",
    "    StructField(\"annotation\", StringType(), False),\n",
    "])\n",
    "\n",
    "CDS = (\n",
    "    spark.read.option(\"comment\", \"#\")\n",
    "    .csv('/Users/dsuveges/Downloads/gencode.v40.annotation.gff3.gz', sep='\\t', schema=gff3_schema)\n",
    "    \n",
    "    # Filter for coding sequences only:\n",
    "    .filter(f.col('featureType') == 'CDS')\n",
    "    \n",
    "    # Parsing GFF3 annotation:\n",
    "    .withColumn('parsed_annotation', parse_annotation(f.col('annotation')))\n",
    "    \n",
    "    # Selecting columns + extract fields:\n",
    "    .select('chr', 'start', 'end', 'strand', 'parsed_annotation.*')\n",
    "    .persist()\n",
    ")"
   ]
  },
  {
   "cell_type": "code",
   "execution_count": 155,
   "id": "a8c50666",
   "metadata": {
    "ExecuteTime": {
     "end_time": "2022-05-12T19:48:06.655698Z",
     "start_time": "2022-05-12T19:48:05.171501Z"
    }
   },
   "outputs": [
    {
     "name": "stdout",
     "output_type": "stream",
     "text": [
      "49113\n",
      "+-----+------+------+------+---------------+---------------+---------+---------------+\n",
      "|  chr| start|   end|strand|        gene_id|  transcript_id|gene_name|     protein_id|\n",
      "+-----+------+------+------+---------------+---------------+---------+---------------+\n",
      "|chr12| 66883| 67436|     +|ENSG00000120645|ENST00000538872|   IQSEC3|ENSP00000437554|\n",
      "|chr12| 99146| 99214|     +|ENSG00000120645|ENST00000538872|   IQSEC3|ENSP00000437554|\n",
      "|chr12|125633|125912|     +|ENSG00000120645|ENST00000538872|   IQSEC3|ENSP00000437554|\n",
      "|chr12|138267|139354|     +|ENSG00000120645|ENST00000538872|   IQSEC3|ENSP00000437554|\n",
      "|chr12|138273|139354|     +|ENSG00000120645|ENST00000382841|   IQSEC3|ENSP00000372292|\n",
      "|chr12|141124|141285|     +|ENSG00000120645|ENST00000538872|   IQSEC3|ENSP00000437554|\n",
      "|chr12|141124|141285|     +|ENSG00000120645|ENST00000382841|   IQSEC3|ENSP00000372292|\n",
      "|chr12|157025|157147|     +|ENSG00000120645|ENST00000538872|   IQSEC3|ENSP00000437554|\n",
      "|chr12|157025|157147|     +|ENSG00000120645|ENST00000382841|   IQSEC3|ENSP00000372292|\n",
      "|chr12|157528|157694|     +|ENSG00000120645|ENST00000538872|   IQSEC3|ENSP00000437554|\n",
      "|chr12|157528|157694|     +|ENSG00000120645|ENST00000382841|   IQSEC3|ENSP00000372292|\n",
      "|chr12|161926|162065|     +|ENSG00000120645|ENST00000538872|   IQSEC3|ENSP00000437554|\n",
      "|chr12|161926|162065|     +|ENSG00000120645|ENST00000382841|   IQSEC3|ENSP00000372292|\n",
      "|chr12|163494|163619|     +|ENSG00000120645|ENST00000538872|   IQSEC3|ENSP00000437554|\n",
      "|chr12|163494|163619|     +|ENSG00000120645|ENST00000382841|   IQSEC3|ENSP00000372292|\n",
      "|chr12|165434|165533|     +|ENSG00000120645|ENST00000538872|   IQSEC3|ENSP00000437554|\n",
      "|chr12|165434|165533|     +|ENSG00000120645|ENST00000382841|   IQSEC3|ENSP00000372292|\n",
      "|chr12|165729|165890|     +|ENSG00000120645|ENST00000538872|   IQSEC3|ENSP00000437554|\n",
      "|chr12|165729|165890|     +|ENSG00000120645|ENST00000382841|   IQSEC3|ENSP00000372292|\n",
      "|chr12|169013|169105|     +|ENSG00000120645|ENST00000538872|   IQSEC3|ENSP00000437554|\n",
      "+-----+------+------+------+---------------+---------------+---------+---------------+\n",
      "only showing top 20 rows\n",
      "\n"
     ]
    }
   ],
   "source": [
    "\n",
    "test_df = (\n",
    "    CDS\n",
    "    \n",
    "    # Cleaning identifiers from version information:\n",
    "    .withColumn('gene_id', remove_version(f.col('gene_id')))\n",
    "    .withColumn('transcript_id', remove_version(f.col('transcript_id')))\n",
    "    .withColumn('protein_id', remove_version(f.col('protein_id')))\n",
    "    \n",
    "    # Generate test dataset:\n",
    "    .filter(f.col('chr') == 'chr12')\n",
    "    \n",
    "    # Order dataframe:\n",
    "    .orderBy(['chr', 'start'])\n",
    "#     .filter(f.col('strand') == '-')\n",
    "    .persist()\n",
    ")\n",
    "\n",
    "print(test_df.count())\n",
    "test_df.show()"
   ]
  },
  {
   "cell_type": "code",
   "execution_count": 130,
   "id": "0a5c2534",
   "metadata": {
    "ExecuteTime": {
     "end_time": "2022-05-11T21:48:55.721702Z",
     "start_time": "2022-05-11T21:46:28.539271Z"
    },
    "scrolled": false
   },
   "outputs": [],
   "source": [
    "@f.udf(ArrayType(IntegerType()))\n",
    "def generate_numbers(start, end):\n",
    "    \"\"\"Generating numbers between a lower and upper boundary\"\"\"\n",
    "    return np.arange(start, end + 1).tolist()\n",
    "\n",
    "@f.udf(ArrayType(ArrayType(IntegerType())))\n",
    "def reshape_list(a: list) -> list:\n",
    "    \"\"\"Reshaping list into a 3 by n array of array\"\"\"\n",
    "    a = a[: - (len(a) % 3)] if len(a) % 3 else a\n",
    "    return np.reshape(a, (int(len(a)/3), 3)).tolist()\n",
    "\n",
    "processed = (\n",
    "    test_df\n",
    "\n",
    "    # Generating positions for all CDS fragments:\n",
    "    .withColumn('positions', generate_numbers(f.col('start'), f.col('end')))\n",
    "    \n",
    "    # Grouping by protein_id\n",
    "    .groupBy('protein_id')\n",
    "    .agg(\n",
    "        f.first('chr').alias('chr'),\n",
    "        f.first('strand').alias('strand'),\n",
    "        f.first('gene_id').alias('gene_id'),\n",
    "        f.first('transcript_id').alias('transcript_id'),\n",
    "        f.first('gene_name').alias('gene_name'),\n",
    "        f.flatten(f.collect_set('positions')).alias('positions')\n",
    "    )\n",
    "    .withColumn(\n",
    "        'positions',\n",
    "        f.when(f.col('strand') == '+', f.col('positions'))\n",
    "        .otherwise(f.reverse(f.col('positions')))\n",
    "    )\n",
    "    .withColumn('positions', reshape_list(f.col('positions')))\n",
    "    .withColumn('bases', f.explode(f.expr(\"\"\"transform(positions,(x,i)-> struct(x as position,(i+1) as position_number))\"\"\")))\n",
    "    .select('*', 'bases.*')\n",
    "    .drop('positions', 'bases')\n",
    ")\n",
    "\n",
    "\n",
    "processed.write.mode('overwrite').parquet('protein2genome_map')\n"
   ]
  },
  {
   "cell_type": "code",
   "execution_count": 131,
   "id": "b0411279",
   "metadata": {
    "ExecuteTime": {
     "end_time": "2022-05-11T21:49:14.466379Z",
     "start_time": "2022-05-11T21:49:14.327214Z"
    }
   },
   "outputs": [],
   "source": [
    "mappings = (\n",
    "    spark.read.parquet('protein2genome_map')\n",
    ")"
   ]
  },
  {
   "cell_type": "code",
   "execution_count": 132,
   "id": "586792f3",
   "metadata": {
    "ExecuteTime": {
     "end_time": "2022-05-11T21:49:18.278692Z",
     "start_time": "2022-05-11T21:49:16.341108Z"
    }
   },
   "outputs": [
    {
     "data": {
      "text/plain": [
       "108583"
      ]
     },
     "execution_count": 132,
     "metadata": {},
     "output_type": "execute_result"
    }
   ],
   "source": [
    "mappings.select('protein_id').distinct().count()"
   ]
  },
  {
   "cell_type": "code",
   "execution_count": 136,
   "id": "3ab59225",
   "metadata": {
    "ExecuteTime": {
     "end_time": "2022-05-11T21:49:46.767481Z",
     "start_time": "2022-05-11T21:49:44.459853Z"
    }
   },
   "outputs": [
    {
     "data": {
      "text/plain": [
       "20429"
      ]
     },
     "execution_count": 136,
     "metadata": {},
     "output_type": "execute_result"
    }
   ],
   "source": [
    "mappings.select('gene_id').distinct().count()"
   ]
  },
  {
   "cell_type": "code",
   "execution_count": 137,
   "id": "c1e6133d",
   "metadata": {
    "ExecuteTime": {
     "end_time": "2022-05-11T22:30:20.434688Z",
     "start_time": "2022-05-11T22:30:20.407812Z"
    }
   },
   "outputs": [
    {
     "name": "stdout",
     "output_type": "stream",
     "text": [
      "root\n",
      " |-- protein_id: string (nullable = true)\n",
      " |-- chr: string (nullable = true)\n",
      " |-- strand: string (nullable = true)\n",
      " |-- gene_id: string (nullable = true)\n",
      " |-- transcript_id: string (nullable = true)\n",
      " |-- gene_name: string (nullable = true)\n",
      " |-- position: array (nullable = true)\n",
      " |    |-- element: integer (containsNull = true)\n",
      " |-- position_number: integer (nullable = true)\n",
      "\n"
     ]
    }
   ],
   "source": [
    "mappings.printSchema()"
   ]
  },
  {
   "cell_type": "code",
   "execution_count": 143,
   "id": "f6971dd1",
   "metadata": {
    "ExecuteTime": {
     "end_time": "2022-05-12T18:21:45.418956Z",
     "start_time": "2022-05-12T18:21:43.792505Z"
    }
   },
   "outputs": [
    {
     "name": "stdout",
     "output_type": "stream",
     "text": [
      "-RECORD 0--------------------------------------------\n",
      " protein_id      | ENSP00000449088                   \n",
      " chr             | chr12                             \n",
      " strand          | +                                 \n",
      " gene_id         | ENSG00000088986                   \n",
      " transcript_id   | ENST00000552870                   \n",
      " gene_name       | DYNLL1                            \n",
      " position        | [120496425, 120496426, 120496427] \n",
      " position_number | 2                                 \n",
      "only showing top 1 row\n",
      "\n"
     ]
    }
   ],
   "source": [
    "tests = {\n",
    "    'first_exon_positive_strand': {\n",
    "        'filters': [\n",
    "            ('gene_name', 'DYNLL1'),\n",
    "            ('position_number', 2)\n",
    "        ],\n",
    "        'expected': [120496425, 120496426, 120496427]\n",
    "    },\n",
    "    'second_exon_positive_strand': {\n",
    "        'filters': [\n",
    "            ('protein_id', 'ENSP00000376297'),\n",
    "            ('position_number', 70)\n",
    "        ],\n",
    "        'expected': [120498148, 120498149, 120498150]\n",
    "    },\n",
    "    'first_exon_negative_strand': {'gene_name': '', 'position': 12},\n",
    "    'second_exon_negative_strand': {'gene_name': '', 'position': 12},\n",
    "    'test_translation_id': {'protein_id': '', 'position': 12}\n",
    "}\n",
    "\n",
    "(\n",
    "    mappings\n",
    "    .filter(\n",
    "        (f.col('gene_name') == 'DYNLL1') & \n",
    "        (f.col('position_number') == 2)\n",
    "    )\n",
    "    .show(1, False, True)\n",
    ")"
   ]
  },
  {
   "cell_type": "code",
   "execution_count": 147,
   "id": "c3c2fbc2",
   "metadata": {
    "ExecuteTime": {
     "end_time": "2022-05-12T18:28:57.278162Z",
     "start_time": "2022-05-12T18:28:56.617717Z"
    }
   },
   "outputs": [
    {
     "name": "stdout",
     "output_type": "stream",
     "text": [
      "-RECORD 0--------------------------------------------\n",
      " protein_id      | ENSP00000376297                   \n",
      " chr             | chr12                             \n",
      " strand          | +                                 \n",
      " gene_id         | ENSG00000088986                   \n",
      " transcript_id   | ENST00000392509                   \n",
      " gene_name       | DYNLL1                            \n",
      " position        | [120496491, 120496492, 120496493] \n",
      " position_number | 70                                \n",
      "\n"
     ]
    }
   ],
   "source": [
    "(\n",
    "    mappings\n",
    "    .filter(\n",
    "        (f.col('protein_id') == 'ENSP00000376297') & \n",
    "        (f.col('position_number') == 70)\n",
    "    )\n",
    "    .show(1, False, True)\n",
    ")"
   ]
  },
  {
   "cell_type": "code",
   "execution_count": 156,
   "id": "b67da8f8",
   "metadata": {
    "ExecuteTime": {
     "end_time": "2022-05-12T19:48:31.405277Z",
     "start_time": "2022-05-12T19:48:31.076231Z"
    },
    "scrolled": false
   },
   "outputs": [
    {
     "name": "stdout",
     "output_type": "stream",
     "text": [
      "+-----+---------+---------+------+---------------+---------------+---------+---------------+\n",
      "|chr  |start    |end      |strand|gene_id        |transcript_id  |gene_name|protein_id     |\n",
      "+-----+---------+---------+------+---------------+---------------+---------+---------------+\n",
      "|chr12|120496422|120496553|+     |ENSG00000088986|ENST00000392509|DYNLL1   |ENSP00000376297|\n",
      "|chr12|120498073|120498210|+     |ENSG00000088986|ENST00000392509|DYNLL1   |ENSP00000376297|\n",
      "+-----+---------+---------+------+---------------+---------------+---------+---------------+\n",
      "\n"
     ]
    }
   ],
   "source": [
    "(\n",
    "    test_df\n",
    "    .filter(f.col('protein_id') == 'ENSP00000376297')\n",
    "#     .select('protein_id', 'strand', 'position', 'position_number')\n",
    "    .show(100, truncate=False)\n",
    ")"
   ]
  },
  {
   "cell_type": "code",
   "execution_count": 154,
   "id": "28cd564d",
   "metadata": {
    "ExecuteTime": {
     "end_time": "2022-05-12T18:36:58.908308Z",
     "start_time": "2022-05-12T18:36:58.404444Z"
    }
   },
   "outputs": [
    {
     "name": "stdout",
     "output_type": "stream",
     "text": [
      "+-----+---------+---------+------+---------------+---------------+---------+---------------+\n",
      "|  chr|    start|      end|strand|        gene_id|  transcript_id|gene_name|     protein_id|\n",
      "+-----+---------+---------+------+---------------+---------------+---------+---------------+\n",
      "|chr12|120496422|120496553|     +|ENSG00000088986|ENST00000392509|   DYNLL1|ENSP00000376297|\n",
      "|chr12|120498073|120498210|     +|ENSG00000088986|ENST00000392509|   DYNLL1|ENSP00000376297|\n",
      "+-----+---------+---------+------+---------------+---------------+---------+---------------+\n",
      "\n"
     ]
    }
   ],
   "source": [
    "test_df.filter(f.col('transcript_id') == 'ENST00000392509').show()"
   ]
  },
  {
   "cell_type": "code",
   "execution_count": 2,
   "id": "a26123b1",
   "metadata": {
    "ExecuteTime": {
     "end_time": "2022-07-15T07:07:07.369424Z",
     "start_time": "2022-07-15T07:05:57.111048Z"
    }
   },
   "outputs": [
    {
     "name": "stderr",
     "output_type": "stream",
     "text": [
      "<ipython-input-2-a530b09e196f>:3: DtypeWarning: Columns (9,11,12,23) have mixed types. Specify dtype option on import or set low_memory=False.\n",
      "  df = pd.read_csv('https://www.ebi.ac.uk/gwas/api/search/downloads/full', sep='\\t')\n"
     ]
    },
    {
     "data": {
      "text/html": [
       "<div>\n",
       "<style scoped>\n",
       "    .dataframe tbody tr th:only-of-type {\n",
       "        vertical-align: middle;\n",
       "    }\n",
       "\n",
       "    .dataframe tbody tr th {\n",
       "        vertical-align: top;\n",
       "    }\n",
       "\n",
       "    .dataframe thead th {\n",
       "        text-align: right;\n",
       "    }\n",
       "</style>\n",
       "<table border=\"1\" class=\"dataframe\">\n",
       "  <thead>\n",
       "    <tr style=\"text-align: right;\">\n",
       "      <th></th>\n",
       "      <th>DATE ADDED TO CATALOG</th>\n",
       "      <th>PUBMEDID</th>\n",
       "      <th>FIRST AUTHOR</th>\n",
       "      <th>DATE</th>\n",
       "      <th>JOURNAL</th>\n",
       "      <th>LINK</th>\n",
       "      <th>STUDY</th>\n",
       "      <th>DISEASE/TRAIT</th>\n",
       "      <th>INITIAL SAMPLE SIZE</th>\n",
       "      <th>REPLICATION SAMPLE SIZE</th>\n",
       "      <th>...</th>\n",
       "      <th>CONTEXT</th>\n",
       "      <th>INTERGENIC</th>\n",
       "      <th>RISK ALLELE FREQUENCY</th>\n",
       "      <th>P-VALUE</th>\n",
       "      <th>PVALUE_MLOG</th>\n",
       "      <th>P-VALUE (TEXT)</th>\n",
       "      <th>OR or BETA</th>\n",
       "      <th>95% CI (TEXT)</th>\n",
       "      <th>PLATFORM [SNPS PASSING QC]</th>\n",
       "      <th>CNV</th>\n",
       "    </tr>\n",
       "  </thead>\n",
       "  <tbody>\n",
       "    <tr>\n",
       "      <th>0</th>\n",
       "      <td>2017-08-10</td>\n",
       "      <td>28443625</td>\n",
       "      <td>Justice AE</td>\n",
       "      <td>2017-04-26</td>\n",
       "      <td>Nat Commun</td>\n",
       "      <td>www.ncbi.nlm.nih.gov/pubmed/28443625</td>\n",
       "      <td>Genome-wide meta-analysis of 241,258 adults ac...</td>\n",
       "      <td>Waist circumference adjusted for BMI (adjusted...</td>\n",
       "      <td>97,400 European ancestry women, 63,892 Europea...</td>\n",
       "      <td>21,496 European ancestry women, 24,385 Europea...</td>\n",
       "      <td>...</td>\n",
       "      <td>intergenic_variant</td>\n",
       "      <td>1.0</td>\n",
       "      <td>0.7215</td>\n",
       "      <td>1.000000e-06</td>\n",
       "      <td>6.000000</td>\n",
       "      <td>(men)</td>\n",
       "      <td>0.0293</td>\n",
       "      <td>[0.017-0.041] unit decrease</td>\n",
       "      <td>Affymetrix, Illumina, Perlegen [up to 2800000]...</td>\n",
       "      <td>N</td>\n",
       "    </tr>\n",
       "    <tr>\n",
       "      <th>1</th>\n",
       "      <td>2017-08-10</td>\n",
       "      <td>28443625</td>\n",
       "      <td>Justice AE</td>\n",
       "      <td>2017-04-26</td>\n",
       "      <td>Nat Commun</td>\n",
       "      <td>www.ncbi.nlm.nih.gov/pubmed/28443625</td>\n",
       "      <td>Genome-wide meta-analysis of 241,258 adults ac...</td>\n",
       "      <td>Waist circumference adjusted for BMI (adjusted...</td>\n",
       "      <td>97,400 European ancestry women, 63,892 Europea...</td>\n",
       "      <td>21,496 European ancestry women, 24,385 Europea...</td>\n",
       "      <td>...</td>\n",
       "      <td>intron_variant</td>\n",
       "      <td>0.0</td>\n",
       "      <td>0.4712</td>\n",
       "      <td>3.000000e-08</td>\n",
       "      <td>7.522879</td>\n",
       "      <td>(men)</td>\n",
       "      <td>0.0275</td>\n",
       "      <td>[0.018-0.037] unit decrease</td>\n",
       "      <td>Affymetrix, Illumina, Perlegen [up to 2800000]...</td>\n",
       "      <td>N</td>\n",
       "    </tr>\n",
       "    <tr>\n",
       "      <th>2</th>\n",
       "      <td>2017-08-10</td>\n",
       "      <td>28443625</td>\n",
       "      <td>Justice AE</td>\n",
       "      <td>2017-04-26</td>\n",
       "      <td>Nat Commun</td>\n",
       "      <td>www.ncbi.nlm.nih.gov/pubmed/28443625</td>\n",
       "      <td>Genome-wide meta-analysis of 241,258 adults ac...</td>\n",
       "      <td>Waist circumference adjusted for BMI (adjusted...</td>\n",
       "      <td>97,400 European ancestry women, 63,892 Europea...</td>\n",
       "      <td>21,496 European ancestry women, 24,385 Europea...</td>\n",
       "      <td>...</td>\n",
       "      <td>intron_variant</td>\n",
       "      <td>0.0</td>\n",
       "      <td>0.3801</td>\n",
       "      <td>1.000000e-07</td>\n",
       "      <td>7.000000</td>\n",
       "      <td>(men)</td>\n",
       "      <td>0.0268</td>\n",
       "      <td>[0.017-0.037] unit decrease</td>\n",
       "      <td>Affymetrix, Illumina, Perlegen [up to 2800000]...</td>\n",
       "      <td>N</td>\n",
       "    </tr>\n",
       "    <tr>\n",
       "      <th>3</th>\n",
       "      <td>2017-08-10</td>\n",
       "      <td>28443625</td>\n",
       "      <td>Justice AE</td>\n",
       "      <td>2017-04-26</td>\n",
       "      <td>Nat Commun</td>\n",
       "      <td>www.ncbi.nlm.nih.gov/pubmed/28443625</td>\n",
       "      <td>Genome-wide meta-analysis of 241,258 adults ac...</td>\n",
       "      <td>Waist circumference adjusted for BMI (adjusted...</td>\n",
       "      <td>97,400 European ancestry women, 63,892 Europea...</td>\n",
       "      <td>21,496 European ancestry women, 24,385 Europea...</td>\n",
       "      <td>...</td>\n",
       "      <td>regulatory_region_variant</td>\n",
       "      <td>1.0</td>\n",
       "      <td>0.4322</td>\n",
       "      <td>7.000000e-08</td>\n",
       "      <td>7.154902</td>\n",
       "      <td>(men)</td>\n",
       "      <td>0.0264</td>\n",
       "      <td>[0.017-0.036] unit decrease</td>\n",
       "      <td>Affymetrix, Illumina, Perlegen [up to 2800000]...</td>\n",
       "      <td>N</td>\n",
       "    </tr>\n",
       "    <tr>\n",
       "      <th>4</th>\n",
       "      <td>2017-08-10</td>\n",
       "      <td>28443625</td>\n",
       "      <td>Justice AE</td>\n",
       "      <td>2017-04-26</td>\n",
       "      <td>Nat Commun</td>\n",
       "      <td>www.ncbi.nlm.nih.gov/pubmed/28443625</td>\n",
       "      <td>Genome-wide meta-analysis of 241,258 adults ac...</td>\n",
       "      <td>Waist circumference adjusted for BMI (adjusted...</td>\n",
       "      <td>97,400 European ancestry women, 63,892 Europea...</td>\n",
       "      <td>21,496 European ancestry women, 24,385 Europea...</td>\n",
       "      <td>...</td>\n",
       "      <td>TF_binding_site_variant</td>\n",
       "      <td>1.0</td>\n",
       "      <td>0.6556</td>\n",
       "      <td>6.000000e-07</td>\n",
       "      <td>6.221849</td>\n",
       "      <td>(men)</td>\n",
       "      <td>0.0260</td>\n",
       "      <td>[0.016-0.036] unit decrease</td>\n",
       "      <td>Affymetrix, Illumina, Perlegen [up to 2800000]...</td>\n",
       "      <td>N</td>\n",
       "    </tr>\n",
       "  </tbody>\n",
       "</table>\n",
       "<p>5 rows × 34 columns</p>\n",
       "</div>"
      ],
      "text/plain": [
       "  DATE ADDED TO CATALOG  PUBMEDID FIRST AUTHOR        DATE     JOURNAL  \\\n",
       "0            2017-08-10  28443625   Justice AE  2017-04-26  Nat Commun   \n",
       "1            2017-08-10  28443625   Justice AE  2017-04-26  Nat Commun   \n",
       "2            2017-08-10  28443625   Justice AE  2017-04-26  Nat Commun   \n",
       "3            2017-08-10  28443625   Justice AE  2017-04-26  Nat Commun   \n",
       "4            2017-08-10  28443625   Justice AE  2017-04-26  Nat Commun   \n",
       "\n",
       "                                   LINK  \\\n",
       "0  www.ncbi.nlm.nih.gov/pubmed/28443625   \n",
       "1  www.ncbi.nlm.nih.gov/pubmed/28443625   \n",
       "2  www.ncbi.nlm.nih.gov/pubmed/28443625   \n",
       "3  www.ncbi.nlm.nih.gov/pubmed/28443625   \n",
       "4  www.ncbi.nlm.nih.gov/pubmed/28443625   \n",
       "\n",
       "                                               STUDY  \\\n",
       "0  Genome-wide meta-analysis of 241,258 adults ac...   \n",
       "1  Genome-wide meta-analysis of 241,258 adults ac...   \n",
       "2  Genome-wide meta-analysis of 241,258 adults ac...   \n",
       "3  Genome-wide meta-analysis of 241,258 adults ac...   \n",
       "4  Genome-wide meta-analysis of 241,258 adults ac...   \n",
       "\n",
       "                                       DISEASE/TRAIT  \\\n",
       "0  Waist circumference adjusted for BMI (adjusted...   \n",
       "1  Waist circumference adjusted for BMI (adjusted...   \n",
       "2  Waist circumference adjusted for BMI (adjusted...   \n",
       "3  Waist circumference adjusted for BMI (adjusted...   \n",
       "4  Waist circumference adjusted for BMI (adjusted...   \n",
       "\n",
       "                                 INITIAL SAMPLE SIZE  \\\n",
       "0  97,400 European ancestry women, 63,892 Europea...   \n",
       "1  97,400 European ancestry women, 63,892 Europea...   \n",
       "2  97,400 European ancestry women, 63,892 Europea...   \n",
       "3  97,400 European ancestry women, 63,892 Europea...   \n",
       "4  97,400 European ancestry women, 63,892 Europea...   \n",
       "\n",
       "                             REPLICATION SAMPLE SIZE  ...  \\\n",
       "0  21,496 European ancestry women, 24,385 Europea...  ...   \n",
       "1  21,496 European ancestry women, 24,385 Europea...  ...   \n",
       "2  21,496 European ancestry women, 24,385 Europea...  ...   \n",
       "3  21,496 European ancestry women, 24,385 Europea...  ...   \n",
       "4  21,496 European ancestry women, 24,385 Europea...  ...   \n",
       "\n",
       "                     CONTEXT INTERGENIC RISK ALLELE FREQUENCY       P-VALUE  \\\n",
       "0         intergenic_variant        1.0                0.7215  1.000000e-06   \n",
       "1             intron_variant        0.0                0.4712  3.000000e-08   \n",
       "2             intron_variant        0.0                0.3801  1.000000e-07   \n",
       "3  regulatory_region_variant        1.0                0.4322  7.000000e-08   \n",
       "4    TF_binding_site_variant        1.0                0.6556  6.000000e-07   \n",
       "\n",
       "  PVALUE_MLOG P-VALUE (TEXT) OR or BETA                95% CI (TEXT)  \\\n",
       "0    6.000000          (men)     0.0293  [0.017-0.041] unit decrease   \n",
       "1    7.522879          (men)     0.0275  [0.018-0.037] unit decrease   \n",
       "2    7.000000          (men)     0.0268  [0.017-0.037] unit decrease   \n",
       "3    7.154902          (men)     0.0264  [0.017-0.036] unit decrease   \n",
       "4    6.221849          (men)     0.0260  [0.016-0.036] unit decrease   \n",
       "\n",
       "                          PLATFORM [SNPS PASSING QC]  CNV  \n",
       "0  Affymetrix, Illumina, Perlegen [up to 2800000]...    N  \n",
       "1  Affymetrix, Illumina, Perlegen [up to 2800000]...    N  \n",
       "2  Affymetrix, Illumina, Perlegen [up to 2800000]...    N  \n",
       "3  Affymetrix, Illumina, Perlegen [up to 2800000]...    N  \n",
       "4  Affymetrix, Illumina, Perlegen [up to 2800000]...    N  \n",
       "\n",
       "[5 rows x 34 columns]"
      ]
     },
     "execution_count": 2,
     "metadata": {},
     "output_type": "execute_result"
    }
   ],
   "source": [
    "import pandas as pd\n",
    "\n",
    "df = pd.read_csv('https://www.ebi.ac.uk/gwas/api/search/downloads/full', sep='\\t')\n",
    "df.head()"
   ]
  },
  {
   "cell_type": "code",
   "execution_count": 3,
   "id": "15efa80b",
   "metadata": {
    "ExecuteTime": {
     "end_time": "2022-07-15T07:07:07.375477Z",
     "start_time": "2022-07-15T07:07:07.372076Z"
    }
   },
   "outputs": [
    {
     "data": {
      "text/plain": [
       "398342"
      ]
     },
     "execution_count": 3,
     "metadata": {},
     "output_type": "execute_result"
    }
   ],
   "source": [
    "len(df)"
   ]
  },
  {
   "cell_type": "code",
   "execution_count": 8,
   "id": "c07f86b2",
   "metadata": {
    "ExecuteTime": {
     "end_time": "2022-07-15T07:08:42.603833Z",
     "start_time": "2022-07-15T07:08:42.415677Z"
    }
   },
   "outputs": [
    {
     "data": {
      "text/plain": [
       "0.22570052869142596"
      ]
     },
     "execution_count": 8,
     "metadata": {},
     "output_type": "execute_result"
    }
   ],
   "source": [
    "df = pd.read_csv('https://www.ebi.ac.uk/gwas/api/search/downloads/full', sep='\\t')\n",
    "len(df.loc[df['STRONGEST SNP-RISK ALLELE'].str.endswith('?')])/len(df)"
   ]
  },
  {
   "cell_type": "code",
   "execution_count": 18,
   "id": "e8baca83",
   "metadata": {
    "ExecuteTime": {
     "end_time": "2022-07-15T07:17:16.977776Z",
     "start_time": "2022-07-15T07:17:16.812588Z"
    }
   },
   "outputs": [
    {
     "name": "stdout",
     "output_type": "stream",
     "text": [
      "Number of associations without chromosome/position: 18246\n",
      "Number of associations without chromosome/position but with rsid: 2636\n"
     ]
    }
   ],
   "source": [
    "df = pd.read_csv('https://www.ebi.ac.uk/gwas/api/search/downloads/full', sep='\\t')\n",
    "print(f'Number of associations without chromosome/position: {len(df.loc[df.CHR_POS.isna()])}')\n",
    "print(f'Number of associations without chromosome/position but with rsid: {len(df.loc[(df.CHR_POS.isna())&(df.SNPS.str.startswith(\"rs\"))])}')\n"
   ]
  },
  {
   "cell_type": "code",
   "execution_count": 15,
   "id": "77b21034",
   "metadata": {
    "ExecuteTime": {
     "end_time": "2022-07-15T07:13:57.498138Z",
     "start_time": "2022-07-15T07:13:57.493963Z"
    }
   },
   "outputs": [
    {
     "data": {
      "text/plain": [
       "Index(['DATE ADDED TO CATALOG', 'PUBMEDID', 'FIRST AUTHOR', 'DATE', 'JOURNAL',\n",
       "       'LINK', 'STUDY', 'DISEASE/TRAIT', 'INITIAL SAMPLE SIZE',\n",
       "       'REPLICATION SAMPLE SIZE', 'REGION', 'CHR_ID', 'CHR_POS',\n",
       "       'REPORTED GENE(S)', 'MAPPED_GENE', 'UPSTREAM_GENE_ID',\n",
       "       'DOWNSTREAM_GENE_ID', 'SNP_GENE_IDS', 'UPSTREAM_GENE_DISTANCE',\n",
       "       'DOWNSTREAM_GENE_DISTANCE', 'STRONGEST SNP-RISK ALLELE', 'SNPS',\n",
       "       'MERGED', 'SNP_ID_CURRENT', 'CONTEXT', 'INTERGENIC',\n",
       "       'RISK ALLELE FREQUENCY', 'P-VALUE', 'PVALUE_MLOG', 'P-VALUE (TEXT)',\n",
       "       'OR or BETA', '95% CI (TEXT)', 'PLATFORM [SNPS PASSING QC]', 'CNV'],\n",
       "      dtype='object')"
      ]
     },
     "execution_count": 15,
     "metadata": {},
     "output_type": "execute_result"
    }
   ],
   "source": [
    "df.columns"
   ]
  },
  {
   "cell_type": "code",
   "execution_count": null,
   "id": "2bd48251",
   "metadata": {},
   "outputs": [],
   "source": []
  }
 ],
 "metadata": {
  "kernelspec": {
   "display_name": "Python 3",
   "language": "python",
   "name": "python3"
  },
  "language_info": {
   "codemirror_mode": {
    "name": "ipython",
    "version": 3
   },
   "file_extension": ".py",
   "mimetype": "text/x-python",
   "name": "python",
   "nbconvert_exporter": "python",
   "pygments_lexer": "ipython3",
   "version": "3.9.5"
  }
 },
 "nbformat": 4,
 "nbformat_minor": 5
}
