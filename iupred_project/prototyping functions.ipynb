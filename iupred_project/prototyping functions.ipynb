{
 "cells": [
  {
   "cell_type": "markdown",
   "metadata": {},
   "source": [
    "# IUPred - implementation\n",
    "\n",
    "\n",
    "In this project I was implementing the IUPred predictor in a clean Pythonic way... as far as I could."
   ]
  },
  {
   "cell_type": "code",
   "execution_count": 140,
   "metadata": {
    "ExecuteTime": {
     "end_time": "2021-03-20T00:38:58.453588Z",
     "start_time": "2021-03-20T00:38:58.446601Z"
    }
   },
   "outputs": [],
   "source": [
    "import pandas as pd\n",
    "import sys\n",
    "from collections import defaultdict\n",
    "import statistics"
   ]
  },
  {
   "cell_type": "code",
   "execution_count": 5,
   "metadata": {
    "ExecuteTime": {
     "end_time": "2021-03-19T21:49:48.225726Z",
     "start_time": "2021-03-19T21:49:48.219976Z"
    }
   },
   "outputs": [],
   "source": [
    "def save_output(\n",
    "    data : pd.DataFrame, \n",
    "    iupred_type: str, \n",
    "    outfile : str = None) -> None:\n",
    "    '''There is a fixed header printed on all the output + the tsv of the output.\n",
    "    '''\n",
    "    header = ('# IUPred2A: context-dependent prediction of protein disorder as a function of redox state and protein binding\\n'\n",
    "    \"# Balint Meszaros, Gabor Erdos, Zsuzsanna Dosztanyi\\n\"\n",
    "    \"# Nucleic Acids Research 2018;46(W1):W329-W337.\\n\"\n",
    "    \"#\\n\"\n",
    "    f\"# Prediction type: {iupred_type}\\n\"\n",
    "    \"# Prediction output\\n\")\n",
    "    \n",
    "    # Output is directed either to a file or to the standard output:\n",
    "    if outfile:\n",
    "        with open(outfile, 'w') as f:\n",
    "                f.write(header)\n",
    "                data.to_csv(f, sep='\\t', index=False)\n",
    "    else:\n",
    "        print(header + df.to_csv(sep='\\t', index=False))\n",
    "    \n",
    "    return None"
   ]
  },
  {
   "cell_type": "code",
   "execution_count": 21,
   "metadata": {
    "ExecuteTime": {
     "end_time": "2021-03-19T22:20:28.446394Z",
     "start_time": "2021-03-19T22:20:28.438689Z"
    }
   },
   "outputs": [
    {
     "data": {
      "text/plain": [
       "'MNRHLWKSQLCEMVQPSGGPAADQDVLGEESPLGKPAMLHLPSEQGAPETLQRCLEENQELRDAIRQSNQILRERCEELLHFQASQREEKEFLMCKFQEARKLVERLGLEKLDLKRQKEQALREVEHLKRCQQQMAEDKASVKAQVTSLLGELQESQSRLEAATKECQALEGRARAASEQARQLESEREALQQQHSVQVDQLRMQGQSVEAALRMERQAASEEKRKLAQLQVAYHQLFQEYDNHIKSSVVGSERKRGMQLEDLKQQLQQAEEALVAKQEVIDKLKEEAEQHKIVMETVPVLKAQADIYKADFQAERQAREKLAEKKELLQEQLEQLQREYSKLKASCQESARIEDMRKRHVEVSQAPLPPAPAYLSSPLALPSQRRSPPEEPPDFCCPKCQYQAPDMDTLQIHVMECIE'"
      ]
     },
     "execution_count": 21,
     "metadata": {},
     "output_type": "execute_result"
    }
   ],
   "source": [
    "def read_fasta(fasta_file: str) -> dict:\n",
    "    '''This function returns with a dictionary of the sequences in a fasta file. the keys are the header row'''\n",
    "    sequences = {}\n",
    "\n",
    "    with open(fasta_file) as f:\n",
    "        for line in f:\n",
    "            # Found a header:\n",
    "            if line.startswith(\">\"):\n",
    "                key = line.strip()\n",
    "                sequences[key] = ''\n",
    "\n",
    "            # Add rows to a given header:\n",
    "            else:\n",
    "                sequences[key] += line.strip()\n",
    "    \n",
    "    return sequences\n",
    "\n",
    "\n",
    "seqence = read_fasta('single.fasta')\n",
    "seq = list(seqence.values())[0]\n",
    "seq"
   ]
  },
  {
   "cell_type": "code",
   "execution_count": 7,
   "metadata": {
    "ExecuteTime": {
     "end_time": "2021-03-19T21:50:45.016568Z",
     "start_time": "2021-03-19T21:50:45.004399Z"
    }
   },
   "outputs": [],
   "source": [
    "# from collections import defaultdict\n",
    "\n",
    "def aa_freq(_seq):\n",
    "    _freq = defaultdict(int)\n",
    "    for _aa in _seq:\n",
    "        _freq[_aa] += 1\n",
    "    \n",
    "    for _aa, _ins in _freq.items():\n",
    "        _freq[_aa] = _ins / len(_seq)\n",
    "    return _freq\n",
    "\n",
    "def read_matrix(matrix_file):\n",
    "    _mtx = defaultdict(defaultdict)\n",
    "    with open(matrix_file, \"r\") as _fhm:\n",
    "        for _line in _fhm:\n",
    "            (_aa1, _aa2, _val) = _line.split()\n",
    "            _mtx[_aa1][_aa2] = float(_val)\n",
    "\n",
    "    return _mtx\n",
    "\n",
    "\n",
    "# read_matrix('/Users/dsuveges/Downloads/iupred2a/data/iupred2_long_energy_matrix')\n",
    "def read_histo(histo_file):\n",
    "    hist = []\n",
    "    vals = []\n",
    "\n",
    "    with open(histo_file, \"r\") as fnh:\n",
    "        for _line in fnh:\n",
    "            if _line.startswith(\"#\"):\n",
    "                continue\n",
    "                \n",
    "            vals.append(float(_line.split()[1]))\n",
    "            hist.append(float(_line.split()[-1]))\n",
    "            \n",
    "    h_max = max(vals)\n",
    "    h_min = min(vals)\n",
    "    h_step = (h_max - h_min) / (len(hist))\n",
    "    return hist, h_min, h_max, h_step\n",
    "\n",
    "(hist, h_min, h_max, h_step) = read_histo('/Users/dsuveges/Downloads/iupred2a/data/long_histogram')"
   ]
  },
  {
   "cell_type": "code",
   "execution_count": 179,
   "metadata": {
    "ExecuteTime": {
     "end_time": "2021-03-20T01:04:16.801383Z",
     "start_time": "2021-03-20T01:04:16.605848Z"
    },
    "code_folding": [
     35,
     46,
     65,
     76,
     115
    ]
   },
   "outputs": [
    {
     "data": {
      "text/plain": [
       "<matplotlib.axes._subplots.AxesSubplot at 0x7fea646f8c50>"
      ]
     },
     "execution_count": 179,
     "metadata": {},
     "output_type": "execute_result"
    },
    {
     "data": {
      "image/png": "[encoded data removed]",
      "text/plain": [
       "<Figure size 432x288 with 1 Axes>"
      ]
     },
     "metadata": {
      "needs_background": "light"
     },
     "output_type": "display_data"
    }
   ],
   "source": [
    "class iupred2a(object):\n",
    "    \n",
    "    PATH = '/Users/dsuveges/repositories/iupred2a/data'\n",
    "\n",
    "    def __init__(self, iupred_type='long'):\n",
    "        \n",
    "        # Validating iupred method:\n",
    "        if iupred_type not in ['long', 'short', 'glob']:\n",
    "            raise TypeError(f'Unknown prediction type: {iupred_type}. Supported types: \"long\", \"short\", \"glob\"')\n",
    "            \n",
    "        self.method = iupred_type\n",
    "        self.lc = 1\n",
    "        \n",
    "        if iupred_type == \"short\":\n",
    "            self.uc = 25\n",
    "            self.wc = 10\n",
    "            matrix_file = f\"{self.PATH}/iupred2_short_energy_matrix\"\n",
    "            histogram_file = f\"{self.PATH}/short_histogram\"\n",
    "\n",
    "        elif iupred_type == 'glob':\n",
    "            self.uc = 100\n",
    "            self.wc = 15\n",
    "\n",
    "        elif iupred_type == 'long':\n",
    "            self.uc = 100\n",
    "            self.wc = 10\n",
    "\n",
    "        if iupred_type == 'long' or iupred_type == 'glob':\n",
    "            matrix_file = f\"{self.PATH}/iupred2_long_energy_matrix\"\n",
    "            histogram_file = f\"{self.PATH}/long_histogram\"            \n",
    "            \n",
    "        self.matrix = self.read_matrix(matrix_file)\n",
    "        (self.histogram, self.histogram_min, self.histogram_max, self.histogram_step) = read_histo(histogram_file)\n",
    "\n",
    "    @staticmethod\n",
    "    def read_matrix(matrix_file):\n",
    "        _mtx = defaultdict(defaultdict)\n",
    "        with open(matrix_file, \"r\") as _fhm:\n",
    "            for _line in _fhm:\n",
    "                (_aa1, _aa2, _val) = _line.split()\n",
    "                _mtx[_aa1][_aa2] = float(_val)\n",
    "\n",
    "        return _mtx\n",
    "\n",
    "\n",
    "    @staticmethod\n",
    "    def read_histo(histo_file):\n",
    "        hist = []\n",
    "        vals = []\n",
    "\n",
    "        with open(histo_file, \"r\") as fnh:\n",
    "            for _line in fnh:\n",
    "                if _line.startswith(\"#\"):\n",
    "                    continue\n",
    "\n",
    "                vals.append(float(_line.split()[1]))\n",
    "                hist.append(float(_line.split()[-1]))\n",
    "\n",
    "        h_max = max(vals)\n",
    "        h_min = min(vals)\n",
    "        h_step = (h_max - h_min) / (len(hist))\n",
    "        return hist, h_min, h_max, h_step       \n",
    "    \n",
    "    \n",
    "    @staticmethod\n",
    "    def aa_freq(_seq):\n",
    "        _freq = defaultdict(int)\n",
    "        for _aa in _seq:\n",
    "            _freq[_aa] += 1\n",
    "\n",
    "        for _aa, _ins in _freq.items():\n",
    "            _freq[_aa] = _ins / len(_seq)\n",
    "        return _freq\n",
    "    \n",
    "    \n",
    "    @staticmethod\n",
    "    def smooth(energy_list, window):\n",
    "        weighted_energy_score = [0] * len(energy_list)\n",
    "        for idx in range(len(energy_list)):\n",
    "            weighted_energy_score[idx] = statistics.mean(energy_list[max(0, idx - window):min(len(energy_list),idx + window + 1)])\n",
    "        return weighted_energy_score\n",
    "    \n",
    "    def calculate_iupred_score(self):\n",
    "        iupred_score = [0] * len(self.weighted_energy_score)\n",
    "        for idx, val in enumerate(self.weighted_energy_score):\n",
    "            if val <= self.histogram_min + 2 * self.histogram_step:\n",
    "                iupred_score[idx] = 1\n",
    "            elif val >= self.histogram_max - 2 * self.histogram_step:\n",
    "                iupred_score[idx] = 0\n",
    "            else:\n",
    "                iupred_score[idx] = self.histogram[int((weighted_energy_score[idx] - self.histogram_min) * (1 / self.histogram_step))]\n",
    "\n",
    "        return iupred_score\n",
    "    \n",
    "    def predict(self, seq):\n",
    "        self.unweighted_energy_score = self.calculate_unweighted_energy_score(seq)\n",
    "        self.weighted_energy_score = self.calculate_weighted_energy_score(seq)\n",
    "        iupred_score = self.calculate_iupred_score()\n",
    "        return iupred_score\n",
    "        \n",
    "    def calculate_weighted_energy_score(self, seq):\n",
    "        weighted_energy_score = [0] * len(seq)\n",
    "        if self.method == 'short':\n",
    "            for idx in range(len(seq)):\n",
    "                for idx2 in range(idx - self.wc, idx + self.wc + 1):\n",
    "                    if idx2 < 0 or idx2 >= len(seq):\n",
    "                        weighted_energy_score[idx] += -1.26\n",
    "                    else:\n",
    "                        weighted_energy_score[idx] += self.unweighted_energy_score[idx2]\n",
    "                weighted_energy_score[idx] /= len(range(idx - self.wc, idx + self.wc + 1))\n",
    "        else:\n",
    "            weighted_energy_score = self.smooth(self.unweighted_energy_score, self.wc)\n",
    "\n",
    "        return weighted_energy_score\n",
    "        \n",
    "    def calculate_unweighted_energy_score(self, seq):\n",
    "        unweighted_energy_score = [0] * len(seq)\n",
    "        for idx in range(len(seq)):\n",
    "            freq_dct = self.aa_freq(seq[max(0, idx - self.uc):max(0, idx - self.lc)] + seq[idx + self.lc + 1:idx + self.uc + 1])\n",
    "            for aa, freq in freq_dct.items():\n",
    "                unweighted_energy_score[idx] += mtx[seq[idx]][aa] * freq\n",
    "        return unweighted_energy_score\n",
    "        \n",
    "iu = iupred2a('long')\n",
    "pd.Series(iu.predict(seq),  name='iupred').plot()"
   ]
  },
  {
   "cell_type": "code",
   "execution_count": null,
   "metadata": {
    "ExecuteTime": {
     "end_time": "2021-03-20T00:56:02.352897Z",
     "start_time": "2021-03-20T00:56:02.307067Z"
    }
   },
   "outputs": [],
   "source": []
  },
  {
   "cell_type": "code",
   "execution_count": 123,
   "metadata": {
    "ExecuteTime": {
     "end_time": "2021-03-19T23:49:47.329168Z",
     "start_time": "2021-03-19T23:49:47.317143Z"
    }
   },
   "outputs": [],
   "source": [
    "unweighted_energy_score = [0] * len(seq)\n",
    "for idx in range(len(seq)):\n",
    "    freq_dct = aa_freq(seq[max(0, idx - uc):max(0, idx - lc)] + seq[idx + lc + 1:idx + uc + 1])\n",
    "    for aa, freq in freq_dct.items():\n",
    "        unweighted_energy_score[idx] += mtx[seq[idx]][aa] * freq"
   ]
  },
  {
   "cell_type": "code",
   "execution_count": 177,
   "metadata": {
    "ExecuteTime": {
     "end_time": "2021-03-20T01:03:47.631854Z",
     "start_time": "2021-03-20T01:03:47.573237Z"
    }
   },
   "outputs": [
    {
     "name": "stdout",
     "output_type": "stream",
     "text": [
      "[0.045352, 0.045352, 0.045352, 0.045352, 0.045352, 0.045352, 0.045352, 0.045352, 0.045352, 0.045352, 0.045352, 0.045352, 0.045352, 0.045352, 0.045352, 0.045352, 0.045352, 0.045352, 0.045352, 0.045352, 0.045352, 0.045352, 0.045352, 0.045352, 0.045352, 0.045352, 0.045352, 0.045352, 0.045352, 0.045352, 0.045352, 0.045352, 0.045352, 0.045352, 0.045352, 0.045352, 0.045352, 0.045352, 0.045352, 0.045352, 0.045352, 0.045352, 0.045352, 0.045352, 0.045352, 0.045352, 0.045352, 0.045352, 0.045352, 0.045352, 0.045352, 0.045352, 0.045352, 0.045352, 0.045352, 0.045352, 0.045352, 0.045352, 0.045352, 0.045352, 0.045352, 0.045352, 0.045352, 0.045352, 0.045352, 0.045352, 0.045352, 0.045352, 0.045352, 0.045352, 0.045352, 0.045352, 0.045352, 0.045352, 0.045352, 0.045352, 0.045352, 0.045352, 0.045352, 0.045352, 0.045352, 0.045352, 0.045352, 0.045352, 0.045352, 0.045352, 0.045352, 0.045352, 0.045352, 0.045352, 0.045352, 0.045352, 0.045352, 0.045352, 0.045352, 0.045352, 0.045352, 0.045352, 0.045352, 0.045352, 0.045352, 0.045352, 0.045352, 0.045352, 0.045352, 0.045352, 0.045352, 0.045352, 0.045352, 0.045352, 0.045352, 0.045352, 0.045352, 0.045352, 0.045352, 0.045352, 0.045352, 0.045352, 0.045352, 0.045352, 0.045352, 0.045352, 0.045352, 0.045352, 0.045352, 0.045352, 0.045352, 0.045352, 0.045352, 0.045352, 0.045352, 0.045352, 0.045352, 0.045352, 0.045352, 0.045352, 0.045352, 0.045352, 0.045352, 0.045352, 0.045352, 0.045352, 0.045352, 0.045352, 0.045352, 0.045352, 0.045352, 0.045352, 0.045352, 0.045352, 0.045352, 0.045352, 0.045352, 0.045352, 0.045352, 0.045352, 0.045352, 0.045352, 0.045352, 0.045352, 0.045352, 0.045352, 0.045352, 0.045352, 0.045352, 0.045352, 0.045352, 0.045352, 0.045352, 0.045352, 0.045352, 0.045352, 0.045352, 0.045352, 0.045352, 0.045352, 0.045352, 0.045352, 0.045352, 0.045352, 0.045352, 0.045352, 0.045352, 0.045352, 0.045352, 0.045352, 0.045352, 0.045352, 0.045352, 0.045352, 0.045352, 0.045352, 0.045352, 0.045352, 0.045352, 0.045352, 0.045352, 0.045352, 0.045352, 0.045352, 0.045352, 0.045352, 0.045352, 0.045352, 0.045352, 0.045352, 0.045352, 0.045352, 0.045352, 0.045352, 0.045352, 0.045352, 0.045352, 0.045352, 0.045352, 0.045352, 0.045352, 0.045352, 0.045352, 0.045352, 0.045352, 0.045352, 0.045352, 0.045352, 0.045352, 0.045352, 0.045352, 0.045352, 0.045352, 0.045352, 0.045352, 0.045352, 0.045352, 0.045352, 0.045352, 0.045352, 0.045352, 0.045352, 0.045352, 0.045352, 0.045352, 0.045352, 0.045352, 0.045352, 0.045352, 0.045352, 0.045352, 0.045352, 0.045352, 0.045352, 0.045352, 0.045352, 0.045352, 0.045352, 0.045352, 0.045352, 0.045352, 0.045352, 0.045352, 0.045352, 0.045352, 0.045352, 0.045352, 0.045352, 0.045352, 0.045352, 0.045352, 0.045352, 0.045352, 0.045352, 0.045352, 0.045352, 0.045352, 0.045352, 0.045352, 0.045352, 0.045352, 0.045352, 0.045352, 0.045352, 0.045352, 0.045352, 0.045352, 0.045352, 0.045352, 0.045352, 0.045352, 0.045352, 0.045352, 0.045352, 0.045352, 0.045352, 0.045352, 0.045352, 0.045352, 0.045352, 0.045352, 0.045352, 0.045352, 0.045352, 0.045352, 0.045352, 0.045352, 0.045352, 0.045352, 0.045352, 0.045352, 0.045352, 0.045352, 0.045352, 0.045352, 0.045352, 0.045352, 0.045352, 0.045352, 0.045352, 0.045352, 0.045352, 0.045352, 0.045352, 0.045352, 0.045352, 0.045352, 0.045352, 0.045352, 0.045352, 0.045352, 0.045352, 0.045352, 0.045352, 0.045352, 0.045352, 0.045352, 0.045352, 0.045352, 0.045352, 0.045352, 0.045352, 0.045352, 0.045352, 0.045352, 0.045352, 0.045352, 0.045352, 0.045352, 0.045352, 0.045352, 0.045352, 0.045352, 0.045352, 0.045352, 0.045352, 0.045352, 0.045352, 0.045352, 0.045352, 0.045352, 0.045352, 0.045352, 0.045352, 0.045352, 0.045352, 0.045352, 0.045352, 0.045352, 0.045352, 0.045352, 0.045352, 0.045352, 0.045352, 0.045352, 0.045352, 0.045352, 0.045352, 0.045352, 0.045352, 0.045352, 0.045352, 0.045352, 0.045352, 0.045352, 0.045352, 0.045352, 0.045352, 0.045352, 0.045352, 0.045352, 0.045352, 0.045352, 0.045352, 0.045352, 0.045352, 0.045352, 0.045352, 0.045352, 0.045352, 0.045352, 0.045352, 0.045352, 0.045352, 0.045352, 0.045352, 0.045352, 0.045352, 0.045352, 0.045352, 0.045352, 0.045352, 0.045352, 0.045352, 0.045352, 0.045352, 0.045352, 0.045352, 0.045352, 0.045352, 0.045352, 0.045352, 0.045352]\n"
     ]
    },
    {
     "data": {
      "text/plain": [
       "NoneType"
      ]
     },
     "execution_count": 177,
     "metadata": {},
     "output_type": "execute_result"
    }
   ],
   "source": [
    "iupred = iu.predict(seq)\n",
    "type(iupred)"
   ]
  },
  {
   "cell_type": "code",
   "execution_count": 71,
   "metadata": {
    "ExecuteTime": {
     "end_time": "2021-03-19T23:42:41.704436Z",
     "start_time": "2021-03-19T23:42:41.699248Z"
    }
   },
   "outputs": [
    {
     "name": "stdout",
     "output_type": "stream",
     "text": [
      "48\n"
     ]
    }
   ],
   "source": [
    "idx = 100\n",
    "seq_chunk = seq[max(0, idx - uc):max(0, idx - lc)] + seq[idx + lc + 1:idx + uc + 1]\n",
    "print(len(seq_chunk))\n",
    "frec_dict = aa_freq(seq[max(0, idx - uc):max(0, idx - lc)] + seq[idx + lc + 1:idx + uc + 1])"
   ]
  },
  {
   "cell_type": "code",
   "execution_count": 115,
   "metadata": {
    "ExecuteTime": {
     "end_time": "2021-03-19T23:48:15.348361Z",
     "start_time": "2021-03-19T23:48:15.341962Z"
    }
   },
   "outputs": [],
   "source": [
    "matrix = pd.read_csv('/Users/dsuveges/repositories/iupred2a/data/iupred2_long_energy_matrix', sep=' ', names=['ref','neighbour','energy'])\n",
    "\n",
    "# unweighted_energy_score[idx] = (\n",
    "#     matrix.loc[matrix.ref==seq[idx]]\n",
    "#     .apply(lambda x: frec_dict[x['lookup']] * x['energy'] if x['lookup'] in frec_dict else 0, axis=1)\n",
    "#     .sum()\n",
    "# )"
   ]
  },
  {
   "cell_type": "code",
   "execution_count": 108,
   "metadata": {
    "ExecuteTime": {
     "end_time": "2021-03-19T23:44:57.666766Z",
     "start_time": "2021-03-19T23:44:57.661236Z"
    }
   },
   "outputs": [
    {
     "data": {
      "text/plain": [
       "0.38993978416666686"
      ]
     },
     "execution_count": 108,
     "metadata": {},
     "output_type": "execute_result"
    }
   ],
   "source": [
    "unweighted_energy_score[idx] = 0\n",
    "for aa, freq in frec_dict.items():\n",
    "    unweighted_energy_score[idx] += mtx[seq[idx]][aa] * freq\n",
    "    \n",
    "unweighted_energy_score[idx]"
   ]
  },
  {
   "cell_type": "code",
   "execution_count": 180,
   "metadata": {
    "ExecuteTime": {
     "end_time": "2021-03-20T01:04:33.335277Z",
     "start_time": "2021-03-20T01:04:33.331301Z"
    }
   },
   "outputs": [
    {
     "data": {
      "text/plain": [
       "'MNRHLWKSQLCEMVQPSGGPAADQDVLGEESPLGKPAMLHLPSEQGAPETLQRCLEENQELRDAIRQSNQILRERCEELLHFQASQREEKEFLMCKFQEARKLVERLGLEKLDLKRQKEQALREVEHLKRCQQQMAEDKASVKAQVTSLLGELQESQSRLEAATKECQALEGRARAASEQARQLESEREALQQQHSVQVDQLRMQGQSVEAALRMERQAASEEKRKLAQLQVAYHQLFQEYDNHIKSSVVGSERKRGMQLEDLKQQLQQAEEALVAKQEVIDKLKEEAEQHKIVMETVPVLKAQADIYKADFQAERQAREKLAEKKELLQEQLEQLQREYSKLKASCQESARIEDMRKRHVEVSQAPLPPAPAYLSSPLALPSQRRSPPEEPPDFCCPKCQYQAPDMDTLQIHVMECIE'"
      ]
     },
     "execution_count": 180,
     "metadata": {},
     "output_type": "execute_result"
    }
   ],
   "source": [
    "seq"
   ]
  },
  {
   "cell_type": "code",
   "execution_count": null,
   "metadata": {},
   "outputs": [],
   "source": []
  }
 ],
 "metadata": {
  "kernelspec": {
   "display_name": "Python 3",
   "language": "python",
   "name": "python3"
  },
  "language_info": {
   "codemirror_mode": {
    "name": "ipython",
    "version": 3
   },
   "file_extension": ".py",
   "mimetype": "text/x-python",
   "name": "python",
   "nbconvert_exporter": "python",
   "pygments_lexer": "ipython3",
   "version": "3.6.10"
  }
 },
 "nbformat": 4,
 "nbformat_minor": 4
}
