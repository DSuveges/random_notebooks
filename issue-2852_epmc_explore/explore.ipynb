{
 "cells": [
  {
   "cell_type": "code",
   "execution_count": 2,
   "metadata": {},
   "outputs": [
    {
     "name": "stderr",
     "output_type": "stream",
     "text": [
      "Setting default log level to \"WARN\".\n",
      "To adjust logging level use sc.setLogLevel(newLevel). For SparkR, use setLogLevel(newLevel).\n",
      "23/01/30 15:24:00 INFO org.apache.spark.SparkEnv: Registering MapOutputTracker\n",
      "23/01/30 15:24:00 INFO org.apache.spark.SparkEnv: Registering BlockManagerMaster\n",
      "23/01/30 15:24:01 INFO org.apache.spark.SparkEnv: Registering BlockManagerMasterHeartbeat\n",
      "23/01/30 15:24:01 INFO org.apache.spark.SparkEnv: Registering OutputCommitCoordinator\n",
      "                                                                                \r"
     ]
    },
    {
     "name": "stdout",
     "output_type": "stream",
     "text": [
      "+--------+----------+----------+----------+----+-----+---+--------------------+--------+--------------------+------------+-------------+------------------+------------------+----------+------------+---------------+----+----------+--------+\n",
      "|    pmid|     pmcid|   pubDate|      date|year|month|day|           organisms| section|                text|trace_source|endInSentence|             label|            labelN|sectionEnd|sectionStart|startInSentence|type| keywordId|isMapped|\n",
      "+--------+----------+----------+----------+----+-----+---+--------------------+--------+--------------------+------------+-------------+------------------+------------------+----------+------------+---------------+----+----------+--------+\n",
      "| 1600261|      null|1992-02-01|1992-02-01|1992|    2|  1|                  []|abstract|Enalapril and tri...|            |           32|trichlormethiazide| trichlormethiazid|       314|         166|             14|  CD|CHEMBL1054|    true|\n",
      "| 7703975|      null|1994-11-01|1994-11-01|1994|   11|  1|              [rats]|   title|Antihypertensive ...|            |          148|trichlormethiazide| trichlormethiazid|       203|          19|            130|  CD|CHEMBL1054|    true|\n",
      "| 3384394|      null|1988-03-01|1988-03-01|1988|    3|  1|              [rats]|abstract|4) Combined admin...|            |           63|trichlormethiazide| trichlormethiazid|      1171|         978|             45|  CD|CHEMBL1054|    true|\n",
      "| 1813670|      null|1991-11-01|1991-11-01|1991|   11|  1|              [rats]|   title|Chronopharmacolog...|            |           40|trichlormethiazide| trichlormethiazid|        75|          19|             22|  CD|CHEMBL1054|    true|\n",
      "| 3384394|      null|1988-03-01|1988-03-01|1988|    3|  1|              [rats]|abstract|4) Combined admin...|            |          192|trichlormethiazide| trichlormethiazid|      1171|         978|            174|  CD|CHEMBL1054|    true|\n",
      "| 1813670|      null|1991-11-01|1991-11-01|1991|   11|  1|              [rats]|abstract|The increments in...|            |           77|trichlormethiazide| trichlormethiazid|       642|         361|             59|  CD|CHEMBL1054|    true|\n",
      "| 2067144|      null|1991-02-01|1991-02-01|1991|    2|  1|              [rats]|   title|Chronopharmacolog...|            |           40|trichlormethiazide| trichlormethiazid|        68|          19|             22|  CD|CHEMBL1054|    true|\n",
      "| 1813670|      null|1991-11-01|1991-11-01|1991|   11|  1|              [rats]|abstract|The increments in...|            |          156|trichlormethiazide| trichlormethiazid|       642|         361|            138|  CD|CHEMBL1054|    true|\n",
      "| 2067144|      null|1991-02-01|1991-02-01|1991|    2|  1|              [rats]|abstract|There were signif...|            |           70|trichlormethiazide| trichlormethiazid|       301|         199|             52|  CD|CHEMBL1054|    true|\n",
      "| 8866635|      null|1996-01-01|1996-01-01|1996|    1|  1|             [human]|abstract|RESULTS:Incubatio...|            |          167|trichlormethiazide| trichlormethiazid|       413|         126|            149|  CD|CHEMBL1054|    true|\n",
      "|25668218|PMC4323218|2015-02-01|2015-02-01|2015|    2|  1|[maize, beansprou...| results|P-hydroxybenzoic ...|            |          214|Trichlormethiazide|trichlormethiazide|      null|        null|            196|  CD|CHEMBL1054|    true|\n",
      "| 1638340|      null|1992-06-01|1992-06-01|1992|    6|  1|                  []|abstract|These findings in...|            |           47|trichlormethiazide| trichlormethiazid|      1101|         960|             29|  CD|CHEMBL1054|    true|\n",
      "|25668218|PMC4323218|2015-02-01|2015-02-01|2015|    2|  1|[maize, beansprou...| results|P-hydroxybenzoic ...|            |          214|Trichlormethiazide|trichlormethiazide|      null|        null|            196|  CD|CHEMBL1054|    true|\n",
      "| 7286056|      null|1981-01-01|1981-01-01|1981|    1|  1|                  []|   title|The pharmacokinet...|            |           42|trichlormethiazide| trichlormethiazid|       130|          19|             24|  CD|CHEMBL1054|    true|\n",
      "| 7286056|      null|1981-01-01|1981-01-01|1981|    1|  1|                  []|abstract|The pharmacokinet...|            |           42|trichlormethiazide| trichlormethiazid|       235|         130|             24|  CD|CHEMBL1054|    true|\n",
      "| 1886453|      null|1991-01-01|1991-01-01|1991|    1|  1| [Wistar rats, rats]|   title|Chronopharmacolog...|            |           40|trichlormethiazide| trichlormethiazid|        74|          19|             22|  CD|CHEMBL1054|    true|\n",
      "|21605415|PMC3118327|2011-05-01|2011-05-01|2011|    5|  1|             [Women]|   title|Adverse effect pr...|            |           44|trichlormethiazide| trichlormethiazid|      null|        null|             26|  CD|CHEMBL1054|    true|\n",
      "|21605415|PMC3118327|2011-05-01|2011-05-01|2011|    5|  1|             [Women]|abstract|We used data from...|            |          178|trichlormethiazide| trichlormethiazid|       822|         546|            160|  CD|CHEMBL1054|    true|\n",
      "|21605415|PMC3118327|2011-05-01|2011-05-01|2011|    5|  1|             [Women]|abstract|In trichlormethia...|            |           21|trichlormethiazide| trichlormethiazid|      1335|        1233|              3|  CD|CHEMBL1054|    true|\n",
      "|21605415|PMC3118327|2011-05-01|2011-05-01|2011|    5|  1|             [Women]|abstract|Our study showed ...|            |          180|trichlormethiazide| trichlormethiazid|      2204|        1988|            162|  CD|CHEMBL1054|    true|\n",
      "+--------+----------+----------+----------+----+-----+---+--------------------+--------+--------------------+------------+-------------+------------------+------------------+----------+------------+---------------+----+----------+--------+\n",
      "only showing top 20 rows\n",
      "\n"
     ]
    },
    {
     "name": "stderr",
     "output_type": "stream",
     "text": [
      "[Stage 2:>                                                          (0 + 1) / 1]\r"
     ]
    },
    {
     "name": "stdout",
     "output_type": "stream",
     "text": [
      "-RECORD 0---------------------------------------------------------------------------------------------------------------------------------------------------------------\n",
      " pmid            | 1600261                                                                                                                                              \n",
      " pmcid           | null                                                                                                                                                 \n",
      " pubDate         | 1992-02-01                                                                                                                                           \n",
      " date            | 1992-02-01                                                                                                                                           \n",
      " year            | 1992                                                                                                                                                 \n",
      " month           | 2                                                                                                                                                    \n",
      " day             | 1                                                                                                                                                    \n",
      " organisms       | []                                                                                                                                                   \n",
      " section         | abstract                                                                                                                                             \n",
      " text            | Enalapril and trichlormethiazide were compared with respect to effects on the quality of life in a crossover study of 36 patients with hypertension. \n",
      " trace_source    |                                                                                                                                                      \n",
      " endInSentence   | 32                                                                                                                                                   \n",
      " label           | trichlormethiazide                                                                                                                                   \n",
      " labelN          | trichlormethiazid                                                                                                                                    \n",
      " sectionEnd      | 314                                                                                                                                                  \n",
      " sectionStart    | 166                                                                                                                                                  \n",
      " startInSentence | 14                                                                                                                                                   \n",
      " type            | CD                                                                                                                                                   \n",
      " keywordId       | CHEMBL1054                                                                                                                                           \n",
      " isMapped        | true                                                                                                                                                 \n",
      "only showing top 1 row\n",
      "\n"
     ]
    },
    {
     "name": "stderr",
     "output_type": "stream",
     "text": [
      "                                                                                \r"
     ]
    }
   ],
   "source": [
    "from pyspark.sql import SparkSession, functions as f, types as t, Column, DataFrame\n",
    "\n",
    "\n",
    "spark = SparkSession.builder.getOrCreate()\n",
    "\n",
    "dataset = spark.read.parquet('gs://open-targets-pre-data-releases/230123_literature/output/matches/')\n",
    "dataset.show()\n",
    "dataset.show(1, False, True)"
   ]
  },
  {
   "cell_type": "code",
   "execution_count": 3,
   "metadata": {},
   "outputs": [
    {
     "name": "stdout",
     "output_type": "stream",
     "text": [
      "root\n",
      " |-- pmid: string (nullable = true)\n",
      " |-- pmcid: string (nullable = true)\n",
      " |-- pubDate: string (nullable = true)\n",
      " |-- date: date (nullable = true)\n",
      " |-- year: integer (nullable = true)\n",
      " |-- month: integer (nullable = true)\n",
      " |-- day: integer (nullable = true)\n",
      " |-- organisms: array (nullable = true)\n",
      " |    |-- element: string (containsNull = true)\n",
      " |-- section: string (nullable = true)\n",
      " |-- text: string (nullable = true)\n",
      " |-- trace_source: string (nullable = true)\n",
      " |-- endInSentence: long (nullable = true)\n",
      " |-- label: string (nullable = true)\n",
      " |-- labelN: string (nullable = true)\n",
      " |-- sectionEnd: long (nullable = true)\n",
      " |-- sectionStart: long (nullable = true)\n",
      " |-- startInSentence: long (nullable = true)\n",
      " |-- type: string (nullable = true)\n",
      " |-- keywordId: string (nullable = true)\n",
      " |-- isMapped: boolean (nullable = true)\n",
      "\n"
     ]
    }
   ],
   "source": [
    "dataset.printSchema()"
   ]
  },
  {
   "cell_type": "code",
   "execution_count": 16,
   "metadata": {},
   "outputs": [
    {
     "name": "stderr",
     "output_type": "stream",
     "text": [
      "                                                                                \r"
     ]
    },
    {
     "data": {
      "text/plain": [
       "46782188"
      ]
     },
     "execution_count": 16,
     "metadata": {},
     "output_type": "execute_result"
    }
   ],
   "source": [
    "(\n",
    "    dataset\n",
    "    .filter(\n",
    "        # Filter for available pmid:\n",
    "        f.col('pmid').isNotNull() &\n",
    "        # Filter for mapped entity:\n",
    "        f.col('isMapped') & \n",
    "        # Filter for date:\n",
    "        (f.col('year') == 2022)\n",
    "    )\n",
    "    .count()\n",
    "    \n",
    "    # Filter for date:\n",
    "    \n",
    "    # Select relevant fields: pmid, date \n",
    ")"
   ]
  },
  {
   "cell_type": "code",
   "execution_count": 17,
   "metadata": {},
   "outputs": [
    {
     "name": "stderr",
     "output_type": "stream",
     "text": [
      "                                                                                \r"
     ]
    },
    {
     "data": {
      "text/plain": [
       "386572745"
      ]
     },
     "execution_count": 17,
     "metadata": {},
     "output_type": "execute_result"
    }
   ],
   "source": [
    "(\n",
    "    dataset\n",
    "    .filter(\n",
    "        # Filter for available pmid:\n",
    "        f.col('pmid').isNotNull() &\n",
    "        # Filter for mapped entity:\n",
    "        f.col('isMapped')\n",
    "        & f.col('year').isNotNull()\n",
    "     )\n",
    "    .count()\n",
    ")"
   ]
  },
  {
   "cell_type": "code",
   "execution_count": 10,
   "metadata": {},
   "outputs": [
    {
     "name": "stderr",
     "output_type": "stream",
     "text": [
      "                                                                                \r"
     ]
    },
    {
     "data": {
      "text/plain": [
       "129281"
      ]
     },
     "execution_count": 10,
     "metadata": {},
     "output_type": "execute_result"
    }
   ],
   "source": [
    "# EGFR:\n",
    "target_id = 'ENSG00000146648'\n",
    "\n",
    "# Let's see how many publications do we found:\n",
    "(\n",
    "    dataset\n",
    "    .filter(\n",
    "        # Filter for available pmid:\n",
    "        f.col('pmid').isNotNull() &\n",
    "        # Filter for mapped entity:\n",
    "        f.col('isMapped') & \n",
    "        # Filter for date:\n",
    "        # (f.col('year') == 2022) & \n",
    "        # Filter for targetid:\n",
    "        (f.col('keywordId') == target_id)\n",
    "    )\n",
    "    .select('pmid')\n",
    "    .distinct()\n",
    "    .count()\n",
    "    \n",
    "    # Filter for date:\n",
    "    \n",
    "    # Select relevant fields: pmid, date \n",
    ")"
   ]
  },
  {
   "cell_type": "code",
   "execution_count": 18,
   "metadata": {},
   "outputs": [
    {
     "name": "stderr",
     "output_type": "stream",
     "text": [
      "                                                                                \r"
     ]
    },
    {
     "data": {
      "text/plain": [
       "0"
      ]
     },
     "execution_count": 18,
     "metadata": {},
     "output_type": "execute_result"
    }
   ],
   "source": [
    "pmid = '36335869'\n",
    "\n",
    "(\n",
    "    dataset\n",
    "    .filter(\n",
    "        # Filter for available pmid:\n",
    "        f.col('pmid') == pmid\n",
    "    )\n",
    "    .count()\n",
    ")"
   ]
  },
  {
   "cell_type": "code",
   "execution_count": 14,
   "metadata": {},
   "outputs": [
    {
     "name": "stderr",
     "output_type": "stream",
     "text": [
      "                                                                                \r"
     ]
    },
    {
     "data": {
      "text/plain": [
       "496"
      ]
     },
     "execution_count": 14,
     "metadata": {},
     "output_type": "execute_result"
    }
   ],
   "source": [
    "(\n",
    "    dataset\n",
    "    .filter(\n",
    "        # Filter for available pmid:\n",
    "        # f.col('pmid').isNotNull() &\n",
    "        # Filter for mapped entity:\n",
    "        f.col('isMapped') & \n",
    "        # Filter for date:\n",
    "        (f.col('year') == 2022)\n",
    "    )\n",
    "    .select('pmid', 'pmcid')\n",
    "    .distinct()\n",
    "    .count()\n",
    "    # Filter for date:\n",
    "    \n",
    "    # Select relevant fields: pmid, date \n",
    ")"
   ]
  },
  {
   "cell_type": "code",
   "execution_count": 20,
   "metadata": {},
   "outputs": [
    {
     "name": "stderr",
     "output_type": "stream",
     "text": [
      "                                                                                \r"
     ]
    },
    {
     "data": {
      "text/plain": [
       "9022"
      ]
     },
     "execution_count": 20,
     "metadata": {},
     "output_type": "execute_result"
    }
   ],
   "source": [
    "(\n",
    "    dataset\n",
    "    .filter(\n",
    "        # Filter for available pmid:\n",
    "        # f.col('pmid').isNotNull() &\n",
    "        # Filter for mapped entity:\n",
    "        f.col('isMapped') & \n",
    "        # Filter for date:\n",
    "        (f.col('year') == 2022) & \n",
    "        # Filter for targetid:\n",
    "        (f.col('keywordId') == target_id)\n",
    "    )\n",
    "    .select('pmid')\n",
    "    .distinct()\n",
    "    .count()\n",
    "    \n",
    "    # Filter for date:\n",
    "    \n",
    "    # Select relevant fields: pmid, date \n",
    ")"
   ]
  },
  {
   "cell_type": "code",
   "execution_count": 6,
   "metadata": {},
   "outputs": [
    {
     "name": "stderr",
     "output_type": "stream",
     "text": [
      "[Stage 5:>                                                          (0 + 1) / 1]\r"
     ]
    },
    {
     "name": "stdout",
     "output_type": "stream",
     "text": [
      "+----------+----------+\n",
      "|      pmid|      date|\n",
      "+----------+----------+\n",
      "|  24699514|2014-01-01|\n",
      "|  35861926|2022-07-01|\n",
      "|  24164459|2013-11-14|\n",
      "|  29357776|2018-01-22|\n",
      "|  25407270|2015-02-01|\n",
      "|  10977938|2000-05-01|\n",
      "|  33311577|2021-05-01|\n",
      "|PMC9312925|2022-07-01|\n",
      "|  25130857|2014-08-14|\n",
      "|  29623594|2018-06-01|\n",
      "|  30095664|2018-08-01|\n",
      "|  24849690|2014-01-01|\n",
      "|  35334035|2022-06-01|\n",
      "|  28846182|2017-09-27|\n",
      "|  29052570|2017-10-01|\n",
      "|  35453626|2022-04-01|\n",
      "|  35503137|2022-05-01|\n",
      "|  33962654|2021-05-01|\n",
      "|    984479|1976-12-01|\n",
      "|   7234213|1981-01-01|\n",
      "+----------+----------+\n",
      "only showing top 20 rows\n",
      "\n"
     ]
    },
    {
     "name": "stderr",
     "output_type": "stream",
     "text": [
      "                                                                                \r"
     ]
    }
   ],
   "source": [
    "(\n",
    "    dataset\n",
    "    .filter(f.col('pmid').isNotNull())\n",
    "    .select('pmid', 'date')\n",
    "    .distinct()\n",
    "    .show()\n",
    ")"
   ]
  },
  {
   "cell_type": "code",
   "execution_count": 28,
   "metadata": {},
   "outputs": [
    {
     "name": "stderr",
     "output_type": "stream",
     "text": [
      "                                                                                \r"
     ]
    },
    {
     "data": {
      "text/html": [
       "<div>\n",
       "<style scoped>\n",
       "    .dataframe tbody tr th:only-of-type {\n",
       "        vertical-align: middle;\n",
       "    }\n",
       "\n",
       "    .dataframe tbody tr th {\n",
       "        vertical-align: top;\n",
       "    }\n",
       "\n",
       "    .dataframe thead th {\n",
       "        text-align: right;\n",
       "    }\n",
       "</style>\n",
       "<table border=\"1\" class=\"dataframe\">\n",
       "  <thead>\n",
       "    <tr style=\"text-align: right;\">\n",
       "      <th></th>\n",
       "      <th>month</th>\n",
       "      <th>year</th>\n",
       "      <th>count</th>\n",
       "    </tr>\n",
       "  </thead>\n",
       "  <tbody>\n",
       "    <tr>\n",
       "      <th>0</th>\n",
       "      <td>11</td>\n",
       "      <td>2021</td>\n",
       "      <td>48985</td>\n",
       "    </tr>\n",
       "    <tr>\n",
       "      <th>1</th>\n",
       "      <td>5</td>\n",
       "      <td>2022</td>\n",
       "      <td>70024</td>\n",
       "    </tr>\n",
       "    <tr>\n",
       "      <th>2</th>\n",
       "      <td>12</td>\n",
       "      <td>2020</td>\n",
       "      <td>52767</td>\n",
       "    </tr>\n",
       "    <tr>\n",
       "      <th>3</th>\n",
       "      <td>6</td>\n",
       "      <td>2019</td>\n",
       "      <td>33219</td>\n",
       "    </tr>\n",
       "    <tr>\n",
       "      <th>4</th>\n",
       "      <td>9</td>\n",
       "      <td>2019</td>\n",
       "      <td>32320</td>\n",
       "    </tr>\n",
       "  </tbody>\n",
       "</table>\n",
       "</div>"
      ],
      "text/plain": [
       "   month  year  count\n",
       "0     11  2021  48985\n",
       "1      5  2022  70024\n",
       "2     12  2020  52767\n",
       "3      6  2019  33219\n",
       "4      9  2019  32320"
      ]
     },
     "execution_count": 28,
     "metadata": {},
     "output_type": "execute_result"
    }
   ],
   "source": [
    "dates = (\"2019-01-01\",  \"2022-12-31\")\n",
    "date_from, date_to = [f.to_date(f.lit(s)).cast(t.TimestampType()) for s in dates]\n",
    "\n",
    "aggregated = (\n",
    "    dataset\n",
    "    .filter(\n",
    "        f.col('pmid').isNotNull() &\n",
    "        (f.col(\"date\") > date_from) & \n",
    "        (f.col('date') < date_to)\n",
    "    )\n",
    "    .select(\n",
    "        'pmid',\n",
    "        f.month(f.col('date')).alias(\"month\"),\n",
    "        f.year(f.col('date')).alias('year')\n",
    "    )\n",
    "    .distinct()\n",
    "    .groupBy('month', 'year')\n",
    "    .count()\n",
    "    .toPandas()\n",
    ")\n",
    "\n",
    "aggregated.head()"
   ]
  },
  {
   "cell_type": "code",
   "execution_count": 29,
   "metadata": {},
   "outputs": [
    {
     "data": {
      "text/plain": [
       "<AxesSubplot:title={'center':'publication count per month'}, xlabel='month'>"
      ]
     },
     "execution_count": 29,
     "metadata": {},
     "output_type": "execute_result"
    },
    {
     "data": {
      "image/png": "[encoded data removed]",
      "text/plain": [
       "<Figure size 1200x500 with 1 Axes>"
      ]
     },
     "metadata": {},
     "output_type": "display_data"
    }
   ],
   "source": [
    "(\n",
    "    aggregated\n",
    "    .assign(ylab=lambda df: df.apply(lambda row: f'{row[\"year\"]}-{row[\"month\"]}', axis=1))\n",
    "    .sort_values(['year', 'month'], axis=0)\n",
    "    .plot(y='count', x='ylab', kind='bar', title='publication count per month', xlabel='month', figsize=(12,5))\n",
    ")"
   ]
  },
  {
   "cell_type": "code",
   "execution_count": 35,
   "metadata": {},
   "outputs": [
    {
     "name": "stderr",
     "output_type": "stream",
     "text": [
      "[Stage 43:=====================================================>(278 + 2) / 280]\r"
     ]
    },
    {
     "name": "stdout",
     "output_type": "stream",
     "text": [
      "+--------+----------+----------+----+-----+---+----------+\n",
      "|    pmid|      date|     pmcid|year|month|day|   pubDate|\n",
      "+--------+----------+----------+----+-----+---+----------+\n",
      "|36451432|2022-11-01|PMC9704884|2022|   11|  1|2022-11-01|\n",
      "|35450515|2022-12-01|PMC9132467|2022|   12|  1|2022-12-01|\n",
      "|35574052|2023-01-01|PMC9058963|2023|    1|  1|2023-01-01|\n",
      "|36430838|2022-11-01|PMC9695686|2022|   11|  1|2022-11-01|\n",
      "|35688487|2022-10-01|PMC9187872|2022|   10|  1|2022-10-01|\n",
      "|35881053|2022-12-01|PMC9336502|2022|   12|  1|2022-12-01|\n",
      "|36090957|2022-12-01|PMC9448632|2022|   12|  1|2022-12-01|\n",
      "|35259853|2022-10-01|PMC9083175|2022|   10|  1|2022-10-01|\n",
      "|35821796|2022-10-01|PMC9272497|2022|   10|  1|2022-10-01|\n",
      "|35686572|2022-12-01|PMC9347473|2022|   12|  1|2022-12-01|\n",
      "|36434541|2022-11-01|PMC9701023|2022|   11|  1|2022-11-01|\n",
      "|35363108|2022-12-01|PMC9004519|2022|   12|  1|2022-12-01|\n",
      "|35678258|2022-12-01|PMC9196826|2022|   12|  1|2022-12-01|\n",
      "|36430826|2022-11-01|PMC9697549|2022|   11|  1|2022-11-01|\n",
      "|35082266|2022-11-01|      null|2022|   11|  1|2022-11-01|\n",
      "|35259068|2022-12-01|PMC8920201|2022|   12|  1|2022-12-01|\n",
      "|36639413|2023-01-01|PMC9839711|2023|    1|  1|2023-01-01|\n",
      "|36432537|2022-11-01|PMC9698387|2022|   11|  1|2022-11-01|\n",
      "|35516907|2022-11-01|PMC9065891|2022|   11|  1|2022-11-01|\n",
      "|36162581|2023-01-01|PMC9500091|2023|    1|  1|2023-01-01|\n",
      "+--------+----------+----------+----+-----+---+----------+\n",
      "only showing top 20 rows\n",
      "\n"
     ]
    },
    {
     "name": "stderr",
     "output_type": "stream",
     "text": [
      "                                                                                \r"
     ]
    }
   ],
   "source": [
    "(\n",
    "    dataset\n",
    "    .filter(\n",
    "        f.col('date') >= f.to_date(f.lit('2022-10-01')).cast(t.TimestampType())\n",
    "    )\n",
    "    .select(\n",
    "        'pmid', 'date', 'pmcid', 'year', 'month','day', 'pubDate'\n",
    "    )\n",
    "    .distinct()\n",
    "    .show()\n",
    ")"
   ]
  },
  {
   "cell_type": "code",
   "execution_count": 36,
   "metadata": {},
   "outputs": [
    {
     "name": "stderr",
     "output_type": "stream",
     "text": [
      "                                                                                \r"
     ]
    },
    {
     "data": {
      "text/html": [
       "<div>\n",
       "<style scoped>\n",
       "    .dataframe tbody tr th:only-of-type {\n",
       "        vertical-align: middle;\n",
       "    }\n",
       "\n",
       "    .dataframe tbody tr th {\n",
       "        vertical-align: top;\n",
       "    }\n",
       "\n",
       "    .dataframe thead th {\n",
       "        text-align: right;\n",
       "    }\n",
       "</style>\n",
       "<table border=\"1\" class=\"dataframe\">\n",
       "  <thead>\n",
       "    <tr style=\"text-align: right;\">\n",
       "      <th></th>\n",
       "      <th>month</th>\n",
       "      <th>year</th>\n",
       "      <th>type</th>\n",
       "      <th>count</th>\n",
       "    </tr>\n",
       "  </thead>\n",
       "  <tbody>\n",
       "    <tr>\n",
       "      <th>0</th>\n",
       "      <td>6</td>\n",
       "      <td>2022</td>\n",
       "      <td>GP</td>\n",
       "      <td>30547</td>\n",
       "    </tr>\n",
       "    <tr>\n",
       "      <th>1</th>\n",
       "      <td>1</td>\n",
       "      <td>2021</td>\n",
       "      <td>CD</td>\n",
       "      <td>35371</td>\n",
       "    </tr>\n",
       "    <tr>\n",
       "      <th>2</th>\n",
       "      <td>6</td>\n",
       "      <td>2022</td>\n",
       "      <td>CD</td>\n",
       "      <td>34243</td>\n",
       "    </tr>\n",
       "    <tr>\n",
       "      <th>3</th>\n",
       "      <td>8</td>\n",
       "      <td>2022</td>\n",
       "      <td>CD</td>\n",
       "      <td>18299</td>\n",
       "    </tr>\n",
       "    <tr>\n",
       "      <th>4</th>\n",
       "      <td>11</td>\n",
       "      <td>2022</td>\n",
       "      <td>CD</td>\n",
       "      <td>1194</td>\n",
       "    </tr>\n",
       "  </tbody>\n",
       "</table>\n",
       "</div>"
      ],
      "text/plain": [
       "   month  year type  count\n",
       "0      6  2022   GP  30547\n",
       "1      1  2021   CD  35371\n",
       "2      6  2022   CD  34243\n",
       "3      8  2022   CD  18299\n",
       "4     11  2022   CD   1194"
      ]
     },
     "execution_count": 36,
     "metadata": {},
     "output_type": "execute_result"
    }
   ],
   "source": [
    "dates = (\"2019-01-01\",  \"2022-12-31\")\n",
    "date_from, date_to = [f.to_date(f.lit(s)).cast(t.TimestampType()) for s in dates]\n",
    "\n",
    "aggregated = (\n",
    "    dataset\n",
    "    .filter(\n",
    "        f.col('pmid').isNotNull() &\n",
    "        (f.col(\"date\") > date_from) & \n",
    "        (f.col('date') < date_to)\n",
    "    )\n",
    "    .select(\n",
    "        'pmid', 'type',\n",
    "        f.month(f.col('date')).alias(\"month\"),\n",
    "        f.year(f.col('date')).alias('year')\n",
    "    )\n",
    "    .distinct()\n",
    "    .groupBy('month', 'year', 'type')\n",
    "    .count()\n",
    "    .toPandas()\n",
    ")\n",
    "\n",
    "aggregated.head()"
   ]
  },
  {
   "cell_type": "code",
   "execution_count": 37,
   "metadata": {},
   "outputs": [
    {
     "data": {
      "text/html": [
       "<div>\n",
       "<style scoped>\n",
       "    .dataframe tbody tr th:only-of-type {\n",
       "        vertical-align: middle;\n",
       "    }\n",
       "\n",
       "    .dataframe tbody tr th {\n",
       "        vertical-align: top;\n",
       "    }\n",
       "\n",
       "    .dataframe thead th {\n",
       "        text-align: right;\n",
       "    }\n",
       "</style>\n",
       "<table border=\"1\" class=\"dataframe\">\n",
       "  <thead>\n",
       "    <tr style=\"text-align: right;\">\n",
       "      <th></th>\n",
       "      <th>type</th>\n",
       "      <th>CD</th>\n",
       "      <th>DS</th>\n",
       "      <th>GP</th>\n",
       "    </tr>\n",
       "    <tr>\n",
       "      <th>year</th>\n",
       "      <th>month</th>\n",
       "      <th></th>\n",
       "      <th></th>\n",
       "      <th></th>\n",
       "    </tr>\n",
       "  </thead>\n",
       "  <tbody>\n",
       "    <tr>\n",
       "      <th rowspan=\"5\" valign=\"top\">2019</th>\n",
       "      <th>1</th>\n",
       "      <td>8585</td>\n",
       "      <td>15951</td>\n",
       "      <td>8769</td>\n",
       "    </tr>\n",
       "    <tr>\n",
       "      <th>2</th>\n",
       "      <td>13681</td>\n",
       "      <td>23706</td>\n",
       "      <td>13221</td>\n",
       "    </tr>\n",
       "    <tr>\n",
       "      <th>3</th>\n",
       "      <td>14576</td>\n",
       "      <td>26241</td>\n",
       "      <td>14083</td>\n",
       "    </tr>\n",
       "    <tr>\n",
       "      <th>4</th>\n",
       "      <td>15537</td>\n",
       "      <td>27687</td>\n",
       "      <td>15492</td>\n",
       "    </tr>\n",
       "    <tr>\n",
       "      <th>5</th>\n",
       "      <td>14558</td>\n",
       "      <td>26095</td>\n",
       "      <td>14170</td>\n",
       "    </tr>\n",
       "  </tbody>\n",
       "</table>\n",
       "</div>"
      ],
      "text/plain": [
       "type           CD     DS     GP\n",
       "year month                     \n",
       "2019 1       8585  15951   8769\n",
       "     2      13681  23706  13221\n",
       "     3      14576  26241  14083\n",
       "     4      15537  27687  15492\n",
       "     5      14558  26095  14170"
      ]
     },
     "execution_count": 37,
     "metadata": {},
     "output_type": "execute_result"
    }
   ],
   "source": [
    "aggregated.pivot(index=['year', 'month'], columns='type', values='count').head()"
   ]
  },
  {
   "cell_type": "code",
   "execution_count": 38,
   "metadata": {},
   "outputs": [
    {
     "name": "stderr",
     "output_type": "stream",
     "text": [
      "[Stage 54:==============================>                          (9 + 8) / 17]\r"
     ]
    },
    {
     "name": "stdout",
     "output_type": "stream",
     "text": [
      "+-----+----+----+-----+\n",
      "|month|year|type|count|\n",
      "+-----+----+----+-----+\n",
      "|    6|2022|  GP|30547|\n",
      "|    6|2022|  CD|34243|\n",
      "|    1|2021|  CD|35371|\n",
      "|    8|2022|  CD|18299|\n",
      "|   11|2022|  CD| 1194|\n",
      "|    1|2022|  CD|84623|\n",
      "|    5|2019|  CD|14558|\n",
      "|    7|2020|  GP|18811|\n",
      "|    4|2019|  GP|15492|\n",
      "|    1|2020|  DS|47627|\n",
      "|    9|2020|  DS|37198|\n",
      "|   11|2021|  GP|19643|\n",
      "|    9|2020|  GP|19039|\n",
      "|    7|2022|  DS|58240|\n",
      "|    4|2022|  GP|31522|\n",
      "|   11|2022|  DS| 1567|\n",
      "|    9|2019|  DS|23924|\n",
      "|    2|2020|  DS|26532|\n",
      "|    3|2020|  CD|15069|\n",
      "|    8|2021|  CD|19888|\n",
      "+-----+----+----+-----+\n",
      "only showing top 20 rows\n",
      "\n"
     ]
    },
    {
     "name": "stderr",
     "output_type": "stream",
     "text": [
      "                                                                                \r"
     ]
    }
   ],
   "source": [
    "(\n",
    "    dataset\n",
    "    .filter(\n",
    "        f.col('pmid').isNotNull() &\n",
    "        (f.col(\"date\") > date_from) & \n",
    "        (f.col('date') < date_to)\n",
    "    )\n",
    "    .select(\n",
    "        'pmid', 'type',\n",
    "        f.month(f.col('date')).alias(\"month\"),\n",
    "        f.year(f.col('date')).alias('year')\n",
    "    )\n",
    "    .distinct()\n",
    "    .groupBy('month', 'year', 'type')\n",
    "    .count()\n",
    "    .show()\n",
    ")"
   ]
  },
  {
   "cell_type": "code",
   "execution_count": null,
   "metadata": {},
   "outputs": [],
   "source": [
    "from pyspark.sql.window import Window"
   ]
  }
 ],
 "metadata": {
  "kernelspec": {
   "display_name": "base",
   "language": "python",
   "name": "python3"
  },
  "language_info": {
   "codemirror_mode": {
    "name": "ipython",
    "version": 3
   },
   "file_extension": ".py",
   "mimetype": "text/x-python",
   "name": "python",
   "nbconvert_exporter": "python",
   "pygments_lexer": "ipython3",
   "version": "3.8.15"
  },
  "orig_nbformat": 4,
  "vscode": {
   "interpreter": {
    "hash": "e234d837eebba94c7397b4e38c0b82bd3e4741cb2c390182a3fb441eaf8f3cd5"
   }
  }
 },
 "nbformat": 4,
 "nbformat_minor": 2
}
