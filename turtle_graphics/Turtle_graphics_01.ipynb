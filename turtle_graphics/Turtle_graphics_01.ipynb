{
 "cells": [
  {
   "cell_type": "code",
   "execution_count": 2,
   "id": "6fdd7a06",
   "metadata": {
    "ExecuteTime": {
     "end_time": "2022-02-20T19:56:03.909784Z",
     "start_time": "2022-02-20T19:56:03.907128Z"
    }
   },
   "outputs": [],
   "source": [
    "from mobilechelonian import Turtle\n",
    "\n",
    "    "
   ]
  },
  {
   "cell_type": "code",
   "execution_count": 3,
   "id": "208856ca",
   "metadata": {
    "ExecuteTime": {
     "end_time": "2022-02-20T19:56:24.495590Z",
     "start_time": "2022-02-20T19:56:24.480356Z"
    }
   },
   "outputs": [
    {
     "ename": "AttributeError",
     "evalue": "type object 'Turtle' has no attribute 'Screen'",
     "output_type": "error",
     "traceback": [
      "\u001b[0;31m---------------------------------------------------------------------------\u001b[0m",
      "\u001b[0;31mAttributeError\u001b[0m                            Traceback (most recent call last)",
      "\u001b[0;32m<ipython-input-3-ee2eca9a1b7f>\u001b[0m in \u001b[0;36m<module>\u001b[0;34m\u001b[0m\n\u001b[1;32m      3\u001b[0m \u001b[0;32mfrom\u001b[0m \u001b[0mtime\u001b[0m \u001b[0;32mimport\u001b[0m \u001b[0msleep\u001b[0m\u001b[0;34m\u001b[0m\u001b[0;34m\u001b[0m\u001b[0m\n\u001b[1;32m      4\u001b[0m \u001b[0;34m\u001b[0m\u001b[0m\n\u001b[0;32m----> 5\u001b[0;31m \u001b[0mwindow\u001b[0m \u001b[0;34m=\u001b[0m \u001b[0mTurtle\u001b[0m\u001b[0;34m.\u001b[0m\u001b[0mScreen\u001b[0m\u001b[0;34m(\u001b[0m\u001b[0;34m)\u001b[0m\u001b[0;34m\u001b[0m\u001b[0;34m\u001b[0m\u001b[0m\n\u001b[0m\u001b[1;32m      6\u001b[0m \u001b[0mwindow\u001b[0m\u001b[0;34m.\u001b[0m\u001b[0mbgcolor\u001b[0m\u001b[0;34m(\u001b[0m\u001b[0;34m\"#FFFFFF\"\u001b[0m\u001b[0;34m)\u001b[0m\u001b[0;34m\u001b[0m\u001b[0;34m\u001b[0m\u001b[0m\n\u001b[1;32m      7\u001b[0m \u001b[0;34m\u001b[0m\u001b[0m\n",
      "\u001b[0;31mAttributeError\u001b[0m: type object 'Turtle' has no attribute 'Screen'"
     ]
    }
   ],
   "source": [
    "#Python Turtle - Spirograph - www.101computing.net/python-turtle-spirograph/\n",
    "from math import cos,sin\n",
    "from time import sleep\n",
    "\n",
    "window = Turtle.Screen()\n",
    "window.bgcolor(\"#FFFFFF\")\n",
    "\n",
    "mySpirograph = Turtle()\n",
    "mySpirograph.hideturtle()\n",
    "mySpirograph.tracer(0)\n",
    "mySpirograph.speed(0)\n",
    "mySpirograph.pensize(2)\n",
    "\n",
    "myPen = Turtle()\n",
    "myPen.hideturtle()\n",
    "myPen.tracer(0)\n",
    "myPen.speed(0)\n",
    "myPen.pensize(3)\n",
    "myPen.color(\"#AA00AA\")\n",
    "\n",
    "R = 125\n",
    "r = 75\n",
    "d = 125\n",
    "\n",
    "angle = 0\n",
    "\n",
    "myPen.penup()\n",
    "myPen.goto(R-r+d,0)\n",
    "myPen.pendown()\n",
    "\n",
    "theta = 0.2\n",
    "steps = int(6*3.14/theta)\n",
    "\n",
    "for t in range(0,steps):\n",
    "    mySpirograph.clear()\n",
    "    mySpirograph.penup()\n",
    "    mySpirograph.setheading(0)\n",
    "    mySpirograph.goto(0,-R)\n",
    "    mySpirograph.color(\"#999999\")\n",
    "    mySpirograph.pendown()\n",
    "    mySpirograph.circle(R)\n",
    "    angle+=theta\n",
    "    \n",
    "    x = (R - r) * cos(angle)\n",
    "    y = (R - r) * sin(angle)\n",
    "    mySpirograph.penup()\n",
    "    mySpirograph.goto(x,y-r)\n",
    "    mySpirograph.color(\"#222222\")\n",
    "    mySpirograph.pendown()\n",
    "    mySpirograph.circle(r)\n",
    "    mySpirograph.penup()\n",
    "    mySpirograph.goto(x,y)\n",
    "    mySpirograph.dot(5)\n",
    "    \n",
    "    x = (R - r) * cos(angle) + d * cos(((R-r)/r)*angle)\n",
    "    y = (R - r) * sin(angle) - d * sin(((R-r)/r)*angle)\n",
    "    mySpirograph.pendown()\n",
    "    mySpirograph.goto(x,y)\n",
    "    #mySpirograph.setheading((R-r)*degrees(angle)/r)\n",
    "    #mySpirograph.forward(d)\n",
    "    mySpirograph.dot(5)\n",
    "    myPen.goto(mySpirograph.pos())\n",
    "    \n",
    "    mySpirograph.getscreen().update() \n",
    "    sleep(0.05)\n",
    "\n",
    "sleep(0.5)\n",
    "#Hide Spirograph\n",
    "mySpirograph.clear()\n",
    "mySpirograph.getscreen().update()\n",
    "  \n",
    "\n",
    "  \n"
   ]
  },
  {
   "cell_type": "code",
   "execution_count": 5,
   "id": "d8815306",
   "metadata": {
    "ExecuteTime": {
     "end_time": "2022-02-20T18:05:42.771292Z",
     "start_time": "2022-02-20T18:05:42.767961Z"
    }
   },
   "outputs": [],
   "source": [
    "t.showturtle()"
   ]
  },
  {
   "cell_type": "code",
   "execution_count": null,
   "id": "9c67645a",
   "metadata": {},
   "outputs": [],
   "source": []
  }
 ],
 "metadata": {
  "kernelspec": {
   "display_name": "Python 3",
   "language": "python",
   "name": "python3"
  },
  "language_info": {
   "codemirror_mode": {
    "name": "ipython",
    "version": 3
   },
   "file_extension": ".py",
   "mimetype": "text/x-python",
   "name": "python",
   "nbconvert_exporter": "python",
   "pygments_lexer": "ipython3",
   "version": "3.9.5"
  }
 },
 "nbformat": 4,
 "nbformat_minor": 5
}
