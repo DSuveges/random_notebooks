{
 "cells": [
  {
   "cell_type": "markdown",
   "id": "e904962d",
   "metadata": {},
   "source": [
    "# Reviewing tools\n",
    "\n",
    "| Tools     | Easy to install    | Easy to use        | Rapidity           | Python Module      | Object Oriented    |\n",
    "|-----------|--------------------|--------------------|--------------------|--------------------|--------------------|\n",
    "| PILP      | :white_check_mark: | :grey_question:    | :grey_question:    | :white_check_mark: | :white_check_mark: |\n",
    "| Arpeggio  | :white_check_mark: | :grey_question:    | :grey_question:    | :x:                | :x:                |\n",
    "| LigPlot   | :grey_question:    | :grey_question:    | :grey_question:    | :x:                | :x:                |\n",
    "| PUResNet  | :grey_question:    | :grey_question:    | :grey_question:    | :x:                | :x:                |\n",
    "| ProLIF    | :grey_question:    | :grey_question:    | :grey_question:    | :x:                | :x:                |\n",
    "| PyBioMed  | :grey_question:    | :grey_question:    | :grey_question:    | :white_check_mark: | :grey_question:    |\n",
    "| MONN      | :grey_question:    | :grey_question:    | :grey_question:    | :x:                | :x:                |\n",
    "| biobb     | :grey_question:    | :grey_question:    | :grey_question:    | :white_check_mark: | :grey_question:    |\n"
   ]
  },
  {
   "cell_type": "markdown",
   "id": "c524ba9c",
   "metadata": {},
   "source": [
    "## PILP\n",
    "\n",
    "* website: https://plip-tool.biotec.tu-dresden.de/plip-web/plip/index \n",
    "* github: [Protein-Ligand Interaction Profiler (PLIP)](https://github.com/pharmai/plip)\n",
    "* publication: [PLIP: fully automated protein–ligand interaction profiler](https://www.ncbi.nlm.nih.gov/pmc/articles/PMC4489249/)\n",
    "* Youtube video: https://www.youtube.com/watch?v=tR3WUhfdneU\n",
    "* summary: "
   ]
  },
  {
   "cell_type": "code",
   "execution_count": null,
   "id": "d8a19846",
   "metadata": {},
   "outputs": [],
   "source": []
  }
 ],
 "metadata": {
  "kernelspec": {
   "display_name": "Python 3",
   "language": "python",
   "name": "python3"
  },
  "language_info": {
   "codemirror_mode": {
    "name": "ipython",
    "version": 3
   },
   "file_extension": ".py",
   "mimetype": "text/x-python",
   "name": "python",
   "nbconvert_exporter": "python",
   "pygments_lexer": "ipython3",
   "version": "3.9.5"
  }
 },
 "nbformat": 4,
 "nbformat_minor": 5
}
