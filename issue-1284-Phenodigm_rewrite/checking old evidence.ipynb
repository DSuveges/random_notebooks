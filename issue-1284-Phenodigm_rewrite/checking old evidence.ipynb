{
 "cells": [
  {
   "cell_type": "markdown",
   "metadata": {},
   "source": [
    "# Old PhenoDigm evidence\n",
    "\n",
    "\n",
    "There are a few things I need to check\n",
    "\n",
    "1. A given mouse model can be mapped to different disease/target associations.\n",
    "2. Check if a mouse and human phenotypes the same for every evidence based on a given model"
   ]
  },
  {
   "cell_type": "code",
   "execution_count": 7,
   "metadata": {
    "ExecuteTime": {
     "end_time": "2021-02-19T22:09:17.843290Z",
     "start_time": "2021-02-19T22:08:15.990980Z"
    }
   },
   "outputs": [
    {
     "name": "stdout",
     "output_type": "stream",
     "text": [
      "687439\n",
      "            target         disease  \\\n",
      "0  ENSG00000115977  Orphanet_79235   \n",
      "1  ENSG00000115977    Orphanet_205   \n",
      "2  ENSG00000115977     EFO_1000946   \n",
      "3  ENSG00000115977     EFO_0003888   \n",
      "4  ENSG00000115977  Orphanet_88616   \n",
      "\n",
      "                                       disease_label               model_id  \\\n",
      "0                     Crigler-Najjar syndrome type 2  MGI:5766745#hom#early   \n",
      "1                            Crigler-Najjar syndrome  MGI:5766745#hom#early   \n",
      "2                        gastric mucosal hypertrophy  MGI:5766745#hom#early   \n",
      "3           attention deficit hyperactivity disorder  MGI:5766745#hom#early   \n",
      "4  Autosomal recessive non-syndromic intellectual...  MGI:5766745#hom#early   \n",
      "\n",
      "                                    mouse_phenotypes          human_phenotypes  \n",
      "0  [MP:0005567, MP:0003795, MP:0001399, MP:001188...              [HP:0008282]  \n",
      "1  [MP:0005567, MP:0003795, MP:0001399, MP:001188...              [HP:0008282]  \n",
      "2  [MP:0005567, MP:0003795, MP:0001399, MP:001188...              [HP:0003075]  \n",
      "3  [MP:0005567, MP:0003795, MP:0001399, MP:001188...  [HP:0000752, HP:0007018]  \n",
      "4  [MP:0005567, MP:0003795, MP:0001399, MP:001188...              [HP:0000752]  \n"
     ]
    }
   ],
   "source": [
    "import gzip\n",
    "import json\n",
    "import pandas as pd\n",
    "\n",
    "\n",
    "phenodigm_file = '/Users/dsuveges/project_data/ot/evidence_input/20.11/phenodigm/phenodigm-29-10-2020.json.gz'\n",
    "\n",
    "parsed_data = []\n",
    "with gzip.open(phenodigm_file, 'r') as f:\n",
    "    for row in f:\n",
    "        data = json.loads(row)\n",
    "        parsed_data.append({\n",
    "            'target' : data['target']['id'].split('/')[-1],\n",
    "            'disease' : data['disease']['id'].split('/')[-1],\n",
    "            'disease_label' : data['disease']['name'],\n",
    "            'model_id' : data['evidence']['biological_model']['model_id'],\n",
    "            'mouse_phenotypes' : [x['id'] for x in data['evidence']['biological_model']['phenotypes']],\n",
    "            'human_phenotypes': [x['id'] for x in data['evidence']['disease_model_association']['human_phenotypes']]\n",
    "        })\n",
    "\n",
    "print(len(parsed_data))\n",
    "phenodigm_df = pd.DataFrame(parsed_data)\n",
    "\n",
    "print(phenodigm_df.head())"
   ]
  },
  {
   "cell_type": "code",
   "execution_count": 9,
   "metadata": {
    "ExecuteTime": {
     "end_time": "2021-02-19T22:11:44.794050Z",
     "start_time": "2021-02-19T22:11:43.883669Z"
    }
   },
   "outputs": [
    {
     "name": "stdout",
     "output_type": "stream",
     "text": [
      "Number of evidence: 687439\n",
      "Number of disease/target association: 376633\n",
      "Number of mouse models: 21862\n",
      "Number of unique targets: 8644\n",
      "Number of unique diseases: 4693\n"
     ]
    }
   ],
   "source": [
    "print(f'Number of evidence: {len(phenodigm_df)}')\n",
    "print(f\"Number of disease/target association: {len(phenodigm_df[['target','disease']].drop_duplicates())}\")\n",
    "print(f\"Number of mouse models: {len(phenodigm_df.model_id.unique())}\")\n",
    "print(f\"Number of unique targets: {len(phenodigm_df.target.unique())}\")\n",
    "print(f\"Number of unique diseases: {len(phenodigm_df.disease.unique())}\")"
   ]
  },
  {
   "cell_type": "code",
   "execution_count": 34,
   "metadata": {
    "ExecuteTime": {
     "end_time": "2021-02-19T22:34:13.395413Z",
     "start_time": "2021-02-19T22:33:57.955052Z"
    }
   },
   "outputs": [],
   "source": [
    "xf = (\n",
    "    phenodigm_df\n",
    "    .groupby('model_id')\n",
    "    .agg(\n",
    "        dict(mouse_phenotypes = lambda x: x.apply(json.dumps).unique().shape[0],\n",
    "        human_phenotypes = lambda x: x.apply(json.dumps).unique().shape[0])\n",
    "    )\n",
    ")"
   ]
  },
  {
   "cell_type": "code",
   "execution_count": 36,
   "metadata": {
    "ExecuteTime": {
     "end_time": "2021-02-19T22:34:36.840159Z",
     "start_time": "2021-02-19T22:34:36.835368Z"
    }
   },
   "outputs": [
    {
     "data": {
      "text/plain": [
       "array([1])"
      ]
     },
     "execution_count": 36,
     "metadata": {},
     "output_type": "execute_result"
    }
   ],
   "source": [
    "print(f\"Number of \")\n",
    "xf.head()"
   ]
  },
  {
   "cell_type": "code",
   "execution_count": null,
   "metadata": {},
   "outputs": [],
   "source": []
  }
 ],
 "metadata": {
  "kernelspec": {
   "display_name": "Python 3",
   "language": "python",
   "name": "python3"
  },
  "language_info": {
   "codemirror_mode": {
    "name": "ipython",
    "version": 3
   },
   "file_extension": ".py",
   "mimetype": "text/x-python",
   "name": "python",
   "nbconvert_exporter": "python",
   "pygments_lexer": "ipython3",
   "version": "3.6.10"
  }
 },
 "nbformat": 4,
 "nbformat_minor": 4
}
