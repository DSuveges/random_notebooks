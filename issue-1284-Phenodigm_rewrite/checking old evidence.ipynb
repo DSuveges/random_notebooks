{
 "cells": [
  {
   "cell_type": "markdown",
   "metadata": {},
   "source": [
    "# Old PhenoDigm evidence\n",
    "\n",
    "\n",
    "There are a few things I need to check\n",
    "\n",
    "1. A given mouse model can be mapped to different disease/target associations.\n",
    "2. Check if a mouse and human phenotypes the same for every evidence based on a given model"
   ]
  },
  {
   "cell_type": "code",
   "execution_count": 7,
   "metadata": {
    "ExecuteTime": {
     "end_time": "2021-02-19T22:09:17.843290Z",
     "start_time": "2021-02-19T22:08:15.990980Z"
    }
   },
   "outputs": [
    {
     "name": "stdout",
     "output_type": "stream",
     "text": [
      "687439\n",
      "            target         disease  \\\n",
      "0  ENSG00000115977  Orphanet_79235   \n",
      "1  ENSG00000115977    Orphanet_205   \n",
      "2  ENSG00000115977     EFO_1000946   \n",
      "3  ENSG00000115977     EFO_0003888   \n",
      "4  ENSG00000115977  Orphanet_88616   \n",
      "\n",
      "                                       disease_label               model_id  \\\n",
      "0                     Crigler-Najjar syndrome type 2  MGI:5766745#hom#early   \n",
      "1                            Crigler-Najjar syndrome  MGI:5766745#hom#early   \n",
      "2                        gastric mucosal hypertrophy  MGI:5766745#hom#early   \n",
      "3           attention deficit hyperactivity disorder  MGI:5766745#hom#early   \n",
      "4  Autosomal recessive non-syndromic intellectual...  MGI:5766745#hom#early   \n",
      "\n",
      "                                    mouse_phenotypes          human_phenotypes  \n",
      "0  [MP:0005567, MP:0003795, MP:0001399, MP:001188...              [HP:0008282]  \n",
      "1  [MP:0005567, MP:0003795, MP:0001399, MP:001188...              [HP:0008282]  \n",
      "2  [MP:0005567, MP:0003795, MP:0001399, MP:001188...              [HP:0003075]  \n",
      "3  [MP:0005567, MP:0003795, MP:0001399, MP:001188...  [HP:0000752, HP:0007018]  \n",
      "4  [MP:0005567, MP:0003795, MP:0001399, MP:001188...              [HP:0000752]  \n"
     ]
    }
   ],
   "source": [
    "import gzip\n",
    "import json\n",
    "import pandas as pd\n",
    "\n",
    "\n",
    "phenodigm_file = '/Users/dsuveges/project_data/ot/evidence_input/20.11/phenodigm/phenodigm-29-10-2020.json.gz'\n",
    "\n",
    "parsed_data = []\n",
    "with gzip.open(phenodigm_file, 'r') as f:\n",
    "    for row in f:\n",
    "        data = json.loads(row)\n",
    "        parsed_data.append({\n",
    "            'target' : data['target']['id'].split('/')[-1],\n",
    "            'disease' : data['disease']['id'].split('/')[-1],\n",
    "            'disease_label' : data['disease']['name'],\n",
    "            'model_id' : data['evidence']['biological_model']['model_id'],\n",
    "            'mouse_phenotypes' : [x['id'] for x in data['evidence']['biological_model']['phenotypes']],\n",
    "            'human_phenotypes': [x['id'] for x in data['evidence']['disease_model_association']['human_phenotypes']]\n",
    "        })\n",
    "\n",
    "print(len(parsed_data))\n",
    "phenodigm_df = pd.DataFrame(parsed_data)\n",
    "\n",
    "print(phenodigm_df.head())"
   ]
  },
  {
   "cell_type": "code",
   "execution_count": 9,
   "metadata": {
    "ExecuteTime": {
     "end_time": "2021-02-19T22:11:44.794050Z",
     "start_time": "2021-02-19T22:11:43.883669Z"
    }
   },
   "outputs": [
    {
     "name": "stdout",
     "output_type": "stream",
     "text": [
      "Number of evidence: 687439\n",
      "Number of disease/target association: 376633\n",
      "Number of mouse models: 21862\n",
      "Number of unique targets: 8644\n",
      "Number of unique diseases: 4693\n"
     ]
    }
   ],
   "source": [
    "print(f'Number of evidence: {len(phenodigm_df)}')\n",
    "print(f\"Number of disease/target association: {len(phenodigm_df[['target','disease']].drop_duplicates())}\")\n",
    "print(f\"Number of mouse models: {len(phenodigm_df.model_id.unique())}\")\n",
    "print(f\"Number of unique targets: {len(phenodigm_df.target.unique())}\")\n",
    "print(f\"Number of unique diseases: {len(phenodigm_df.disease.unique())}\")"
   ]
  },
  {
   "cell_type": "code",
   "execution_count": 34,
   "metadata": {
    "ExecuteTime": {
     "end_time": "2021-02-19T22:34:13.395413Z",
     "start_time": "2021-02-19T22:33:57.955052Z"
    }
   },
   "outputs": [],
   "source": [
    "xf = (\n",
    "    phenodigm_df\n",
    "    .groupby('model_id')\n",
    "    .agg(\n",
    "        dict(mouse_phenotypes = lambda x: x.apply(json.dumps).unique().shape[0],\n",
    "        human_phenotypes = lambda x: x.apply(json.dumps).unique().shape[0])\n",
    "    )\n",
    ")"
   ]
  },
  {
   "cell_type": "markdown",
   "metadata": {
    "ExecuteTime": {
     "end_time": "2021-02-19T22:34:36.840159Z",
     "start_time": "2021-02-19T22:34:36.835368Z"
    }
   },
   "source": [
    "## Testing the new data\n",
    "\n",
    "Let's see if the mouse model data downloaded from the solr index also looks the same."
   ]
  },
  {
   "cell_type": "code",
   "execution_count": 38,
   "metadata": {
    "ExecuteTime": {
     "end_time": "2021-02-20T03:03:58.079902Z",
     "start_time": "2021-02-20T03:03:57.671845Z"
    }
   },
   "outputs": [
    {
     "name": "stdout",
     "output_type": "stream",
     "text": [
      "[\n",
      "  \"MP:0005567 decreased circulating total protein level\",\n",
      "  \"MP:0002574 increased vertical activity\",\n",
      "  \"MP:0003921 abnormal heart left ventricle morphology\",\n",
      "  \"MP:0005635 decreased circulating bilirubin level\",\n",
      "  \"MP:0002968 increased circulating alkaline phosphatase level\",\n",
      "  \"MP:0009141 increased prepulse inhibition\",\n",
      "  \"MP:0001469 abnormal contextual conditioning behavior\",\n",
      "  \"MP:0002590 increased mean corpuscular volume\",\n",
      "  \"MP:0002764 short tibia\",\n",
      "  \"MP:0001399 hyperactivity\",\n",
      "  \"MP:0005293 impaired glucose tolerance\",\n",
      "  \"MP:0004738 abnormal auditory brainstem response\",\n",
      "  \"MP:0005419 decreased circulating serum albumin level\",\n",
      "  \"MP:0011110 preweaning lethality, incomplete penetrance\",\n",
      "  \"MP:0003795 abnormal bone structure\",\n",
      "  \"MP:0001489 decreased startle reflex\"\n",
      "]\n"
     ]
    }
   ],
   "source": [
    "%%bash\n",
    "\n",
    "gzcat /Users/dsuveges/project_data/phenodigm_solr_dump/type.mouse_model/*gz \\\n",
    "    | grep \"MGI:5766745#hom#early\" \\\n",
    "    | jq '.model_phenotypes'"
   ]
  },
  {
   "cell_type": "code",
   "execution_count": 43,
   "metadata": {
    "ExecuteTime": {
     "end_time": "2021-02-20T03:06:29.115590Z",
     "start_time": "2021-02-20T03:06:29.019487Z"
    }
   },
   "outputs": [
    {
     "data": {
      "text/plain": [
       "20"
      ]
     },
     "execution_count": 43,
     "metadata": {},
     "output_type": "execute_result"
    }
   ],
   "source": [
    "len(set(phenodigm_df.loc[phenodigm_df.model_id == \"MGI:5766745#hom#early\"].mouse_phenotypes[1]))"
   ]
  },
  {
   "cell_type": "code",
   "execution_count": 57,
   "metadata": {
    "ExecuteTime": {
     "end_time": "2021-02-20T18:21:06.799353Z",
     "start_time": "2021-02-20T18:21:06.668974Z"
    }
   },
   "outputs": [
    {
     "data": {
      "text/html": [
       "<div>\n",
       "<style scoped>\n",
       "    .dataframe tbody tr th:only-of-type {\n",
       "        vertical-align: middle;\n",
       "    }\n",
       "\n",
       "    .dataframe tbody tr th {\n",
       "        vertical-align: top;\n",
       "    }\n",
       "\n",
       "    .dataframe thead th {\n",
       "        text-align: right;\n",
       "    }\n",
       "</style>\n",
       "<table border=\"1\" class=\"dataframe\">\n",
       "  <thead>\n",
       "    <tr style=\"text-align: right;\">\n",
       "      <th></th>\n",
       "      <th>evidence</th>\n",
       "      <th>source</th>\n",
       "      <th>_merge</th>\n",
       "    </tr>\n",
       "  </thead>\n",
       "  <tbody>\n",
       "    <tr>\n",
       "      <th>11</th>\n",
       "      <td>MP:0003313</td>\n",
       "      <td>NaN</td>\n",
       "      <td>left_only</td>\n",
       "    </tr>\n",
       "    <tr>\n",
       "      <th>16</th>\n",
       "      <td>MP:0000558</td>\n",
       "      <td>NaN</td>\n",
       "      <td>left_only</td>\n",
       "    </tr>\n",
       "    <tr>\n",
       "      <th>3</th>\n",
       "      <td>MP:0011888</td>\n",
       "      <td>NaN</td>\n",
       "      <td>left_only</td>\n",
       "    </tr>\n",
       "    <tr>\n",
       "      <th>15</th>\n",
       "      <td>MP:0011960</td>\n",
       "      <td>NaN</td>\n",
       "      <td>left_only</td>\n",
       "    </tr>\n",
       "    <tr>\n",
       "      <th>5</th>\n",
       "      <td>MP:0001569</td>\n",
       "      <td>NaN</td>\n",
       "      <td>left_only</td>\n",
       "    </tr>\n",
       "    <tr>\n",
       "      <th>6</th>\n",
       "      <td>MP:0000202</td>\n",
       "      <td>NaN</td>\n",
       "      <td>left_only</td>\n",
       "    </tr>\n",
       "    <tr>\n",
       "      <th>13</th>\n",
       "      <td>MP:0001486</td>\n",
       "      <td>NaN</td>\n",
       "      <td>left_only</td>\n",
       "    </tr>\n",
       "    <tr>\n",
       "      <th>20</th>\n",
       "      <td>NaN</td>\n",
       "      <td>MP:0005635</td>\n",
       "      <td>right_only</td>\n",
       "    </tr>\n",
       "    <tr>\n",
       "      <th>21</th>\n",
       "      <td>NaN</td>\n",
       "      <td>MP:0002968</td>\n",
       "      <td>right_only</td>\n",
       "    </tr>\n",
       "    <tr>\n",
       "      <th>22</th>\n",
       "      <td>NaN</td>\n",
       "      <td>MP:0001469</td>\n",
       "      <td>right_only</td>\n",
       "    </tr>\n",
       "    <tr>\n",
       "      <th>10</th>\n",
       "      <td>MP:0005419</td>\n",
       "      <td>MP:0005419</td>\n",
       "      <td>both</td>\n",
       "    </tr>\n",
       "    <tr>\n",
       "      <th>8</th>\n",
       "      <td>MP:0005293</td>\n",
       "      <td>MP:0005293</td>\n",
       "      <td>both</td>\n",
       "    </tr>\n",
       "    <tr>\n",
       "      <th>12</th>\n",
       "      <td>MP:0003921</td>\n",
       "      <td>MP:0003921</td>\n",
       "      <td>both</td>\n",
       "    </tr>\n",
       "    <tr>\n",
       "      <th>7</th>\n",
       "      <td>MP:0002574</td>\n",
       "      <td>MP:0002574</td>\n",
       "      <td>both</td>\n",
       "    </tr>\n",
       "    <tr>\n",
       "      <th>14</th>\n",
       "      <td>MP:0001489</td>\n",
       "      <td>MP:0001489</td>\n",
       "      <td>both</td>\n",
       "    </tr>\n",
       "    <tr>\n",
       "      <th>4</th>\n",
       "      <td>MP:0002590</td>\n",
       "      <td>MP:0002590</td>\n",
       "      <td>both</td>\n",
       "    </tr>\n",
       "    <tr>\n",
       "      <th>2</th>\n",
       "      <td>MP:0001399</td>\n",
       "      <td>MP:0001399</td>\n",
       "      <td>both</td>\n",
       "    </tr>\n",
       "    <tr>\n",
       "      <th>17</th>\n",
       "      <td>MP:0002764</td>\n",
       "      <td>MP:0002764</td>\n",
       "      <td>both</td>\n",
       "    </tr>\n",
       "    <tr>\n",
       "      <th>18</th>\n",
       "      <td>MP:0011110</td>\n",
       "      <td>MP:0011110</td>\n",
       "      <td>both</td>\n",
       "    </tr>\n",
       "    <tr>\n",
       "      <th>19</th>\n",
       "      <td>MP:0009141</td>\n",
       "      <td>MP:0009141</td>\n",
       "      <td>both</td>\n",
       "    </tr>\n",
       "    <tr>\n",
       "      <th>1</th>\n",
       "      <td>MP:0003795</td>\n",
       "      <td>MP:0003795</td>\n",
       "      <td>both</td>\n",
       "    </tr>\n",
       "    <tr>\n",
       "      <th>9</th>\n",
       "      <td>MP:0004738</td>\n",
       "      <td>MP:0004738</td>\n",
       "      <td>both</td>\n",
       "    </tr>\n",
       "    <tr>\n",
       "      <th>0</th>\n",
       "      <td>MP:0005567</td>\n",
       "      <td>MP:0005567</td>\n",
       "      <td>both</td>\n",
       "    </tr>\n",
       "  </tbody>\n",
       "</table>\n",
       "</div>"
      ],
      "text/plain": [
       "      evidence      source      _merge\n",
       "11  MP:0003313         NaN   left_only\n",
       "16  MP:0000558         NaN   left_only\n",
       "3   MP:0011888         NaN   left_only\n",
       "15  MP:0011960         NaN   left_only\n",
       "5   MP:0001569         NaN   left_only\n",
       "6   MP:0000202         NaN   left_only\n",
       "13  MP:0001486         NaN   left_only\n",
       "20         NaN  MP:0005635  right_only\n",
       "21         NaN  MP:0002968  right_only\n",
       "22         NaN  MP:0001469  right_only\n",
       "10  MP:0005419  MP:0005419        both\n",
       "8   MP:0005293  MP:0005293        both\n",
       "12  MP:0003921  MP:0003921        both\n",
       "7   MP:0002574  MP:0002574        both\n",
       "14  MP:0001489  MP:0001489        both\n",
       "4   MP:0002590  MP:0002590        both\n",
       "2   MP:0001399  MP:0001399        both\n",
       "17  MP:0002764  MP:0002764        both\n",
       "18  MP:0011110  MP:0011110        both\n",
       "19  MP:0009141  MP:0009141        both\n",
       "1   MP:0003795  MP:0003795        both\n",
       "9   MP:0004738  MP:0004738        both\n",
       "0   MP:0005567  MP:0005567        both"
      ]
     },
     "execution_count": 57,
     "metadata": {},
     "output_type": "execute_result"
    }
   ],
   "source": [
    "# Are these values overlap?\n",
    "evidence_ids = pd.Series(phenodigm_df.loc[phenodigm_df.model_id == \"MGI:5766745#hom#early\"].mouse_phenotypes[1], name='evidence').to_frame()\n",
    "source_ids = pd.Series([\n",
    "    \"MP:0005567\",\n",
    "    \"MP:0002574\",\n",
    "    \"MP:0003921\",\n",
    "    \"MP:0005635\",\n",
    "    \"MP:0002968\",\n",
    "    \"MP:0009141\",\n",
    "    \"MP:0001469\",\n",
    "    \"MP:0002590\",\n",
    "    \"MP:0002764\",\n",
    "    \"MP:0001399\",\n",
    "    \"MP:0005293\",\n",
    "    \"MP:0004738\",\n",
    "    \"MP:0005419\",\n",
    "    \"MP:0011110\",\n",
    "    \"MP:0003795\",\n",
    "    \"MP:0001489\",\n",
    "], name='source').to_frame()\n",
    "evidence_ids.merge(source_ids, how='outer', left_on='evidence', right_on='source', indicator=True).sort_values('_merge')"
   ]
  },
  {
   "cell_type": "code",
   "execution_count": 59,
   "metadata": {
    "ExecuteTime": {
     "end_time": "2021-02-20T18:24:22.869291Z",
     "start_time": "2021-02-20T18:24:22.862575Z"
    }
   },
   "outputs": [
    {
     "name": "stdout",
     "output_type": "stream",
     "text": [
      "{\n",
      "  \"type\": \"ontology_ontology\",\n",
      "  \"mp_id\": \"MP:0013681\",\n",
      "  \"mp_term\": \"abnormal early germinal center B cell number\",\n",
      "  \"hp_id\": \"HP:0032126\",\n",
      "  \"hp_term\": \"Decreased proportion of unswitched memory B cells\"\n",
      "}\n"
     ]
    }
   ],
   "source": [
    "for c in range()\n",
    "with gzip.open(f'/Users/dsuveges/project_data/phenodigm_solr_dump/type.ontology_ontology/IMPC_solr_dump.00{c}.json.gz') as f:\n",
    "    for row in f:\n",
    "        data = json.loads(row)\n",
    "        print(json.dumps(data, indent=2))\n",
    "        break"
   ]
  },
  {
   "cell_type": "code",
   "execution_count": 60,
   "metadata": {
    "ExecuteTime": {
     "end_time": "2021-02-20T18:25:22.033658Z",
     "start_time": "2021-02-20T18:25:22.029718Z"
    }
   },
   "outputs": [
    {
     "name": "stdout",
     "output_type": "stream",
     "text": [
      "0\n",
      "1\n",
      "2\n",
      "3\n",
      "4\n",
      "5\n",
      "6\n",
      "7\n",
      "8\n",
      "9\n"
     ]
    }
   ],
   "source": [
    "for c in range(10):\n",
    "    print(c)"
   ]
  },
  {
   "cell_type": "code",
   "execution_count": 1,
   "metadata": {
    "ExecuteTime": {
     "end_time": "2021-03-01T06:42:58.280544Z",
     "start_time": "2021-03-01T06:42:58.235104Z"
    }
   },
   "outputs": [
    {
     "name": "stdout",
     "output_type": "stream",
     "text": [
      "KKKKKKKEEEEEERRRRRRTTTTJJJJJJJTTTZZZZZZZZZZZRRRRR\n",
      "2      4     6     8   10     12 14         16   \n"
     ]
    }
   ],
   "source": [
    "string = 'KKKKKKKEEEEEERRRRRRTTTTJJJJJJJTTTZZZZZZZZZZZRRRRR'\n",
    "\n",
    "print(string)\n",
    "label = 2\n",
    "offset = 1\n",
    "for i in range(len(string)):\n",
    "    try:\n",
    "        if string[i] != string[i+1]:\n",
    "            print(f'{label:<{offset}}', end='')\n",
    "            offset = 1\n",
    "            label += 2        \n",
    "        else:\n",
    "            offset += 1\n",
    "    except IndexError:\n",
    "        print(f'{label:<{offset}}')"
   ]
  },
  {
   "cell_type": "code",
   "execution_count": null,
   "metadata": {},
   "outputs": [],
   "source": []
  }
 ],
 "metadata": {
  "kernelspec": {
   "display_name": "Python 3",
   "language": "python",
   "name": "python3"
  },
  "language_info": {
   "codemirror_mode": {
    "name": "ipython",
    "version": 3
   },
   "file_extension": ".py",
   "mimetype": "text/x-python",
   "name": "python",
   "nbconvert_exporter": "python",
   "pygments_lexer": "ipython3",
   "version": "3.6.10"
  }
 },
 "nbformat": 4,
 "nbformat_minor": 4
}
