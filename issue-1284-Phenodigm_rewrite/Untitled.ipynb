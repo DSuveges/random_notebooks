{
 "cells": [
  {
   "cell_type": "code",
   "execution_count": 1,
   "metadata": {
    "ExecuteTime": {
     "end_time": "2021-03-08T17:45:35.048378Z",
     "start_time": "2021-03-08T17:45:01.611513Z"
    }
   },
   "outputs": [
    {
     "name": "stdout",
     "output_type": "stream",
     "text": [
      "Spark version:  3.0.0\n"
     ]
    }
   ],
   "source": [
    "import pyspark.sql\n",
    "from pyspark.sql.types import *\n",
    "from pyspark.sql.functions import *\n",
    "from pyspark import SparkContext\n",
    "import re\n",
    "\n",
    "global spark\n",
    "\n",
    "# SparkContext.setSystemProperty('spark.executor.memory', '20g')\n",
    "\n",
    "spark = (pyspark.sql.SparkSession\n",
    "    .builder\n",
    "    .appName(\"phenodigm_parser\")\n",
    "    .config(\"spark.executor.memory\", '10g') \\\n",
    "    .config(\"spark.driver.memory\", '10g') \\\n",
    "    .getOrCreate()\n",
    ")\n",
    "\n",
    "#   .config(\"spark.driver.bindAddress\", \"localhost\")\n",
    "\n",
    "\n",
    "print('Spark version: ', spark.version)\n",
    "\n",
    "toploci = (\n",
    "    spark.read.json('/Users/dsuveges/project_data/ot/evidence_input/21.02/cosmic/CTTV007-12-08-2020.json.gz')\n",
    ")\n"
   ]
  },
  {
   "cell_type": "code",
   "execution_count": 5,
   "metadata": {
    "ExecuteTime": {
     "end_time": "2021-02-21T20:49:05.146164Z",
     "start_time": "2021-02-21T20:49:05.141313Z"
    }
   },
   "outputs": [
    {
     "data": {
      "text/plain": [
       "['study_id',\n",
       " 'chrom',\n",
       " 'pos',\n",
       " 'ref',\n",
       " 'alt',\n",
       " 'direction',\n",
       " 'beta',\n",
       " 'beta_ci_lower',\n",
       " 'beta_ci_upper',\n",
       " 'odds_ratio',\n",
       " 'oddsr_ci_lower',\n",
       " 'oddsr_ci_upper',\n",
       " 'pval_mantissa',\n",
       " 'pval_exponent']"
      ]
     },
     "execution_count": 5,
     "metadata": {},
     "output_type": "execute_result"
    }
   ],
   "source": [
    "toploci.select(\n",
    "    col().alias\n",
    ")"
   ]
  },
  {
   "cell_type": "code",
   "execution_count": 14,
   "metadata": {
    "ExecuteTime": {
     "end_time": "2021-02-21T20:54:41.466151Z",
     "start_time": "2021-02-21T20:54:40.824554Z"
    }
   },
   "outputs": [],
   "source": [
    "pdf = (\n",
    "    toploci\n",
    "    .filter((col('study_id') == 'GCST001956') | (col('study_id') == 'GCST008163'))\n",
    "    .select('study_id', 'direction', 'beta', 'odds_ratio')\n",
    "    .toPandas()\n",
    ")"
   ]
  },
  {
   "cell_type": "code",
   "execution_count": 17,
   "metadata": {
    "ExecuteTime": {
     "end_time": "2021-02-21T20:54:55.341660Z",
     "start_time": "2021-02-21T20:54:55.326389Z"
    }
   },
   "outputs": [
    {
     "data": {
      "text/html": [
       "<div>\n",
       "<style scoped>\n",
       "    .dataframe tbody tr th:only-of-type {\n",
       "        vertical-align: middle;\n",
       "    }\n",
       "\n",
       "    .dataframe tbody tr th {\n",
       "        vertical-align: top;\n",
       "    }\n",
       "\n",
       "    .dataframe thead th {\n",
       "        text-align: right;\n",
       "    }\n",
       "</style>\n",
       "<table border=\"1\" class=\"dataframe\">\n",
       "  <thead>\n",
       "    <tr style=\"text-align: right;\">\n",
       "      <th></th>\n",
       "      <th>study_id</th>\n",
       "      <th>direction</th>\n",
       "      <th>beta</th>\n",
       "      <th>odds_ratio</th>\n",
       "    </tr>\n",
       "  </thead>\n",
       "  <tbody>\n",
       "    <tr>\n",
       "      <th>0</th>\n",
       "      <td>GCST001956</td>\n",
       "      <td>+</td>\n",
       "      <td>NaN</td>\n",
       "      <td>1.230000</td>\n",
       "    </tr>\n",
       "    <tr>\n",
       "      <th>1</th>\n",
       "      <td>GCST001956</td>\n",
       "      <td>None</td>\n",
       "      <td>NaN</td>\n",
       "      <td>NaN</td>\n",
       "    </tr>\n",
       "    <tr>\n",
       "      <th>2</th>\n",
       "      <td>GCST001956</td>\n",
       "      <td>+</td>\n",
       "      <td>NaN</td>\n",
       "      <td>1.120000</td>\n",
       "    </tr>\n",
       "    <tr>\n",
       "      <th>3</th>\n",
       "      <td>GCST001956</td>\n",
       "      <td>-</td>\n",
       "      <td>NaN</td>\n",
       "      <td>0.819672</td>\n",
       "    </tr>\n",
       "    <tr>\n",
       "      <th>4</th>\n",
       "      <td>GCST001956</td>\n",
       "      <td>+</td>\n",
       "      <td>NaN</td>\n",
       "      <td>1.250000</td>\n",
       "    </tr>\n",
       "    <tr>\n",
       "      <th>...</th>\n",
       "      <td>...</td>\n",
       "      <td>...</td>\n",
       "      <td>...</td>\n",
       "      <td>...</td>\n",
       "    </tr>\n",
       "    <tr>\n",
       "      <th>171</th>\n",
       "      <td>GCST008163</td>\n",
       "      <td>None</td>\n",
       "      <td>NaN</td>\n",
       "      <td>NaN</td>\n",
       "    </tr>\n",
       "    <tr>\n",
       "      <th>172</th>\n",
       "      <td>GCST008163</td>\n",
       "      <td>-</td>\n",
       "      <td>-0.0481</td>\n",
       "      <td>NaN</td>\n",
       "    </tr>\n",
       "    <tr>\n",
       "      <th>173</th>\n",
       "      <td>GCST008163</td>\n",
       "      <td>+</td>\n",
       "      <td>0.0484</td>\n",
       "      <td>NaN</td>\n",
       "    </tr>\n",
       "    <tr>\n",
       "      <th>174</th>\n",
       "      <td>GCST008163</td>\n",
       "      <td>-</td>\n",
       "      <td>-0.0529</td>\n",
       "      <td>NaN</td>\n",
       "    </tr>\n",
       "    <tr>\n",
       "      <th>175</th>\n",
       "      <td>GCST008163</td>\n",
       "      <td>None</td>\n",
       "      <td>NaN</td>\n",
       "      <td>NaN</td>\n",
       "    </tr>\n",
       "  </tbody>\n",
       "</table>\n",
       "<p>176 rows × 4 columns</p>\n",
       "</div>"
      ],
      "text/plain": [
       "       study_id direction    beta  odds_ratio\n",
       "0    GCST001956         +     NaN    1.230000\n",
       "1    GCST001956      None     NaN         NaN\n",
       "2    GCST001956         +     NaN    1.120000\n",
       "3    GCST001956         -     NaN    0.819672\n",
       "4    GCST001956         +     NaN    1.250000\n",
       "..          ...       ...     ...         ...\n",
       "171  GCST008163      None     NaN         NaN\n",
       "172  GCST008163         - -0.0481         NaN\n",
       "173  GCST008163         +  0.0484         NaN\n",
       "174  GCST008163         - -0.0529         NaN\n",
       "175  GCST008163      None     NaN         NaN\n",
       "\n",
       "[176 rows x 4 columns]"
      ]
     },
     "execution_count": 17,
     "metadata": {},
     "output_type": "execute_result"
    }
   ],
   "source": [
    "pdf"
   ]
  },
  {
   "cell_type": "code",
   "execution_count": null,
   "metadata": {},
   "outputs": [],
   "source": []
  }
 ],
 "metadata": {
  "kernelspec": {
   "display_name": "Python 3",
   "language": "python",
   "name": "python3"
  },
  "language_info": {
   "codemirror_mode": {
    "name": "ipython",
    "version": 3
   },
   "file_extension": ".py",
   "mimetype": "text/x-python",
   "name": "python",
   "nbconvert_exporter": "python",
   "pygments_lexer": "ipython3",
   "version": "3.6.10"
  }
 },
 "nbformat": 4,
 "nbformat_minor": 4
}
