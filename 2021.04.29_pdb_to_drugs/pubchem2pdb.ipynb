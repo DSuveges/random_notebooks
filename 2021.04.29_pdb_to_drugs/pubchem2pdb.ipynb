{
 "cells": [
  {
   "cell_type": "code",
   "execution_count": 1,
   "metadata": {
    "ExecuteTime": {
     "end_time": "2022-01-10T14:53:33.604045Z",
     "start_time": "2022-01-10T14:53:28.222375Z"
    }
   },
   "outputs": [],
   "source": [
    "import pandas as pd\n",
    "import json\n",
    "import requests\n",
    "\n",
    "from pyspark.sql.types import ArrayType, StringType, IntegerType\n",
    "from pyspark.sql import SparkSession\n",
    "import pyspark.sql.functions as F\n",
    "\n",
    "# establish spark connection\n",
    "spark = (\n",
    "    SparkSession.builder\n",
    "    .master('local[*]')\n",
    "    .getOrCreate()\n",
    ")\n",
    "\n"
   ]
  },
  {
   "cell_type": "markdown",
   "metadata": {},
   "source": [
    "## Reading molecules\n",
    "\n",
    "\n",
    "The following file contains the molecules we have in opentargets"
   ]
  },
  {
   "cell_type": "code",
   "execution_count": 3,
   "metadata": {
    "ExecuteTime": {
     "end_time": "2022-01-10T14:54:39.728708Z",
     "start_time": "2022-01-10T14:54:34.668606Z"
    }
   },
   "outputs": [
    {
     "name": "stdout",
     "output_type": "stream",
     "text": [
      "Number of molecules: 12594\n",
      "Number of molecules with PubChem link: 3681\n",
      "Number of molecules with drugbank link: 7618\n"
     ]
    }
   ],
   "source": [
    "drugfile = '/Users/dsuveges/project_data/molecule/'\n",
    "\n",
    "drug_df = (\n",
    "    spark.read.parquet(drugfile)\n",
    "    .select(\n",
    "        F.col('id'),\n",
    "        F.col('drugType'),\n",
    "        F.col('synonyms'),\n",
    "        F.col('crossReferences.PubChem'),\n",
    "        F.col('crossReferences.drugbank')\n",
    "    )\n",
    ")\n",
    "\n",
    "print(f'Number of molecules: {drug_df.count()}')\n",
    "print(f'Number of molecules with PubChem link: {drug_df.filter(F.col(\"PubChem\").isNotNull()).count()}')\n",
    "print(f'Number of molecules with drugbank link: {drug_df.filter(F.col(\"drugbank\").isNotNull()).count()}')"
   ]
  },
  {
   "cell_type": "code",
   "execution_count": 4,
   "metadata": {
    "ExecuteTime": {
     "end_time": "2022-01-10T14:55:01.361446Z",
     "start_time": "2022-01-10T14:55:01.160240Z"
    }
   },
   "outputs": [
    {
     "name": "stdout",
     "output_type": "stream",
     "text": [
      "+-------------+--------------+--------------------+--------------------+---------+\n",
      "|           id|      drugType|            synonyms|             PubChem| drugbank|\n",
      "+-------------+--------------+--------------------+--------------------+---------+\n",
      "|CHEMBL1079742|Small molecule|[CP-358, CP-358,7...|            [534851]|     null|\n",
      "|CHEMBL1083993|Small molecule|[Amiodarone, Amio...|[144207027, 14421...|     null|\n",
      "| CHEMBL110458|Small molecule|        [Migalastat]|          [11114003]|[DB05018]|\n",
      "|CHEMBL1169388|Small molecule|    [(S)-Fluoxetine]|[11111168, 111111...|[DB08544]|\n",
      "|CHEMBL1173055|Small molecule|[AG-014699, AG-14...|[103905261, 13727...|[DB12332]|\n",
      "|CHEMBL1200443|Small molecule|[Merethoxylline p...|                null|     null|\n",
      "|CHEMBL1200910|Small molecule|[Acetylsulfisoxaz...|[170465159, 17046...|[DB14033]|\n",
      "|CHEMBL1200949|Small molecule|[Ametazole, Betaz...|[144204280, 17046...|     null|\n",
      "|CHEMBL1200979|Small molecule|[(+)-panthenol, D...|         [170464647]|[DB09357]|\n",
      "|CHEMBL1201248|Small molecule|     [Cisatracurium]|                null|[DB00565]|\n",
      "|CHEMBL1201468|Small molecule|[Esterified estro...|                null|     null|\n",
      "|CHEMBL1201718|        Enzyme|[Hyaluronidase (h...|                null|     null|\n",
      "|CHEMBL1201772|Small molecule|[LY-640315, Prasu...|[124899264, 17400...|[DB06209]|\n",
      "|CHEMBL1231606|Small molecule|                  []|                null|[DB07525]|\n",
      "|CHEMBL1232381|Small molecule|                  []|[47193703, 47193703]|[DB03775]|\n",
      "|CHEMBL1234354|Small molecule|[PF-04691502, PF-...|                null|[DB11974]|\n",
      "|CHEMBL1236282|Small molecule|[Dextrosulphenido...|[144204128, 14420...|[DB08621]|\n",
      "| CHEMBL126159|Small molecule|[Lmp-744, Lmp744,...|                null|     null|\n",
      "|CHEMBL1318150|Small molecule|      [Aspoxicillin]|[144206363, 50125...|[DB13816]|\n",
      "|CHEMBL1408759|Small molecule|[Guaiazulen, Guai...|[170465862, 26749...|[DB13329]|\n",
      "+-------------+--------------+--------------------+--------------------+---------+\n",
      "only showing top 20 rows\n",
      "\n"
     ]
    }
   ],
   "source": [
    "drug_df.show()"
   ]
  },
  {
   "cell_type": "code",
   "execution_count": 6,
   "metadata": {
    "ExecuteTime": {
     "end_time": "2022-01-10T14:56:05.515975Z",
     "start_time": "2022-01-10T14:56:04.956793Z"
    }
   },
   "outputs": [
    {
     "name": "stdout",
     "output_type": "stream",
     "text": [
      "-RECORD 0------------------------------------------------------------------------------------------------------------------------------------------------------------------------------------------------------------------------------------------------------------------------------------------------\n",
      " id       | CHEMBL25                                                                                                                                                                                                                                                                                     \n",
      " drugType | Small molecule                                                                                                                                                                                                                                                                               \n",
      " synonyms | [Acetylsalicylic Acid, Acetylsalicylic acid, Aspirin, BAY1019036, NSC-27223, NSC-406186]                                                                                                                                                                                                     \n",
      " PubChem  | [144203627, 144209315, 144210466, 170465039, 17389202, 17390036, 174007205, 26747283, 26752858, 47193676, 50105490, 85230910, 87798, 90340586, 144203627, 144209315, 144210466, 170465039, 17389202, 17390036, 174007205, 26747283, 26752858, 47193676, 50105490, 85230910, 87798, 90340586] \n",
      " drugbank | [DB00945]                                                                                                                                                                                                                                                                                    \n",
      "\n"
     ]
    }
   ],
   "source": [
    "# Let's see aspirin:\n",
    "aspirin = 'CHEMBL25'\n",
    "\n",
    "(\n",
    "    drug_df\n",
    "    .filter(F.col('id') == aspirin)\n",
    "    .show(vertical=True, truncate=False)\n",
    ")"
   ]
  },
  {
   "cell_type": "markdown",
   "metadata": {},
   "source": [
    "So, we have a bunch of cross-references, but we now focus on pubchem substance identifers. These identifiers can be mapped to compound identifier, which then can be mapped to pdb id."
   ]
  },
  {
   "cell_type": "code",
   "execution_count": 113,
   "metadata": {
    "ExecuteTime": {
     "end_time": "2021-05-10T14:38:46.643972Z",
     "start_time": "2021-05-10T14:25:32.577138Z"
    },
    "code_folding": [
     6,
     28
    ]
   },
   "outputs": [],
   "source": [
    "# Extract substance IDs for a given row:\n",
    "substance_ids = drug_df.limit(1).collect()[0]['PubChem']\n",
    "\n",
    "# substance_ids = ['938420398']\n",
    "\n",
    "\n",
    "def get_CID(SIDs):\n",
    "    # Concatenate all substance IDs and fetch compound identifier:\n",
    "    if not SIDs:\n",
    "        return []\n",
    "    \n",
    "    url = f\"https://pubchem.ncbi.nlm.nih.gov/rest/pug/substance/sid/{','.join(SIDs)}/cids/JSON\"\n",
    "\n",
    "    response = requests.get(url)\n",
    "    mapping = response.json()\n",
    "\n",
    "    # No CID values found, return empty array:\n",
    "    if 'Fault' in mapping:\n",
    "        return []\n",
    "\n",
    "    # Parse CID values:\n",
    "    substance_ids = []\n",
    "    for x in mapping['InformationList']['Information']:\n",
    "        substance_ids += x['CID']\n",
    "\n",
    "    # Return with the unique list of CIDs:\n",
    "    return list(set(substance_ids))\n",
    "\n",
    "def get_pdb_ids(CIDs):\n",
    "    pdbs = []\n",
    "    for CID in CIDs:\n",
    "        url = f'https://pubchem.ncbi.nlm.nih.gov/rest/pug_view/structure/compound/{CID}/JSON'\n",
    "\n",
    "        structure_view = requests.get(url)        \n",
    "        data = structure_view.json()\n",
    "        \n",
    "        if 'Fault' in data:\n",
    "            continue\n",
    "            \n",
    "        if 'Structure' not in data:\n",
    "            continue\n",
    "        elif 'Structures' not in data['Structure']:\n",
    "            continue\n",
    "            \n",
    "        pdbs += [x['PDB_ID'] for x in data['Structure']['Structures'] if 'PDB_ID' in x]\n",
    "        \n",
    "    return list(set(pdbs))\n",
    "\n",
    "\n",
    "get_CID_udf = F.udf(\n",
    "    get_CID,\n",
    "    ArrayType(IntegerType())\n",
    ")\n",
    "\n",
    "get_PDB_udf = F.udf(\n",
    "    get_pdb_ids,\n",
    "    ArrayType(StringType())\n",
    ")\n",
    "drug_df_annotated = (\n",
    "    drug_df\n",
    "#     .sample(False, 0.1)\n",
    "#     .limit(1000)\n",
    "    .withColumn('CIDs', get_CID_udf(F.col('PubChem')))\n",
    "    .withColumn('PDBs', get_PDB_udf(F.col('CIDs')))\n",
    "    .filter(F.size(F.col('PDBs')) > 0)\n",
    "    .persist()\n",
    ")\n",
    "\n",
    "(\n",
    "    drug_df_annotated\n",
    "    .write.format('json').mode('overwrite').option('compression', 'gzip')\n",
    "    .save('full_drugs_w_pdb.json.gz')\n",
    ")\n",
    "\n",
    "\n"
   ]
  },
  {
   "cell_type": "markdown",
   "metadata": {},
   "source": [
    "1000 randomly select molecules are mapped in 13 minutes."
   ]
  },
  {
   "cell_type": "code",
   "execution_count": 126,
   "metadata": {
    "ExecuteTime": {
     "end_time": "2021-05-10T19:22:36.977241Z",
     "start_time": "2021-05-10T19:21:50.638897Z"
    }
   },
   "outputs": [
    {
     "name": "stdout",
     "output_type": "stream",
     "text": [
      "+-------------+---------------+--------------------+--------------------+---------+---------+--------------------+\n",
      "|           id|       drugType|            synonyms|             PubChem| drugbank|     CIDs|                PDBs|\n",
      "+-------------+---------------+--------------------+--------------------+---------+---------+--------------------+\n",
      "|    CHEMBL160|        Protein|[27-400, ANTIBIOT...|[11532934, 144204...|[DB00091]|[5284373]|        [2RMC, 1CYN]|\n",
      "|   CHEMBL1554|        Protein|[Actinomycin d, D...|[144205550, 14420...|[DB00970]| [457193]|        [1MNV, 1I3W]|\n",
      "| CHEMBL408403|        Protein|[Angiotensin ii, ...|          [50112427]|[DB11842]| [172198]|[6JOD, 3CK0, 6OS0...|\n",
      "|   CHEMBL1174|        Protein|      [Eptifibatide]|[144206056, 17046...|     null| [448812]|              [2VDN]|\n",
      "|   CHEMBL1566|Oligosaccharide|[Acarbose, BAY G ...|[144205150, 17046...|     null| [444254]|[1UKT, 1KXH, 2QPU...|\n",
      "|CHEMBL1230813|Oligosaccharide|[.alpha.-cyclodex...|[144204566, 14420...|[DB01909]| [444913]|[4D5B, 2Y5E, 3CK7...|\n",
      "| CHEMBL415690|Oligosaccharide|[.beta.-cyclodext...|[144204568, 14420...|[DB03995]| [444041]|[3M3R, 3ZT7, 3JUS...|\n",
      "| CHEMBL373742|        Protein|[Arginine Vasopre...|[144206588, 29218...|     null| [644077]|              [1YF4]|\n",
      "|  CHEMBL13786|        Protein|    [Met-Enkephalin]|          [26757062]|[DB12668]| [443363]|        [2LWC, 5E33]|\n",
      "+-------------+---------------+--------------------+--------------------+---------+---------+--------------------+\n",
      "\n"
     ]
    }
   ],
   "source": [
    "non_small_molecules = (\n",
    "    drug_df\n",
    "    .filter(F.col('drugType') != 'Small molecule')\n",
    "    .withColumn('CIDs', get_CID_udf(F.col('PubChem')))\n",
    "    .withColumn('PDBs', get_PDB_udf(F.col('CIDs')))\n",
    "    .filter(F.size(F.col('PDBs')) > 0)\n",
    "    .persist()\n",
    ")\n",
    "\n",
    "non_small_molecules.show(truncate=False)\n"
   ]
  },
  {
   "cell_type": "code",
   "execution_count": 130,
   "metadata": {
    "ExecuteTime": {
     "end_time": "2021-05-10T19:42:00.951530Z",
     "start_time": "2021-05-10T19:42:00.828084Z"
    }
   },
   "outputs": [
    {
     "name": "stdout",
     "output_type": "stream",
     "text": [
      "+-------------+---------------+--------------------------------------------------------------------------------------------------------------------+---------+------------------------------------------------------------------------------------------------------------------------------------------------------------------------+\n",
      "|id           |drugType       |synonyms                                                                                                            |CIDs     |PDBs                                                                                                                                                                    |\n",
      "+-------------+---------------+--------------------------------------------------------------------------------------------------------------------+---------+------------------------------------------------------------------------------------------------------------------------------------------------------------------------+\n",
      "|CHEMBL160    |Protein        |[27-400, ANTIBIOTIC S-7481F1, Ciclosporin, Cyclosporin a, Cyclosporine, NSC-290193, OL-27-400, SANG-35, SDZ-OXL-400]|[5284373]|[2RMC, 1CYN]                                                                                                                                                            |\n",
      "|CHEMBL1554   |Protein        |[Actinomycin d, Dactinomycin, GNF-PF-2290, GNF-Pf-1977, NCI-C04682, NSC-3053]                                       |[457193] |[1MNV, 1I3W]                                                                                                                                                            |\n",
      "|CHEMBL408403 |Protein        |[Angiotensin ii, Angiotensin ii (human type), LJPC-501]                                                             |[172198] |[6JOD, 3CK0, 6OS0, 5E2Q]                                                                                                                                                |\n",
      "|CHEMBL1174   |Protein        |[Eptifibatide]                                                                                                      |[448812] |[2VDN]                                                                                                                                                                  |\n",
      "|CHEMBL1566   |Oligosaccharide|[Acarbose, BAY G 5421, BAY-G-5421]                                                                                  |[444254] |[1UKT, 1KXH, 2QPU, 2X2I, 1MFU, 2F6D, 2ECP, 1AGM, 6GNG, 1DED, 6GNF, 3BC9, 2XFF, 4BQF]                                                                                    |\n",
      "|CHEMBL1230813|Oligosaccharide|[.alpha.-cyclodextrin, Alfadex, Alpha cyclodextrin, NSC-269470]                                                     |[444913] |[4D5B, 2Y5E, 3CK7, 4FEM, 5E6Y, 4D5D, 3EDF, 1BTC, 2ZYM, 3ZST, 3BCD, 3EDD, 1CXF, 3ZT6, 1VFM, 2XFY]                                                                        |\n",
      "|CHEMBL415690 |Oligosaccharide|[.beta.-cyclodextrin, Beta cyclodextrin, Betadex, E-459, E459, INS NO.459, INS-459, NSC-314334]                     |[444041] |[3M3R, 3ZT7, 3JUS, 1JL8, 5MK9, 3M4E, 6B2E, 3CK8, 2Y4S, 3JUV, 3DL9, 4D5D, 3C6G, 1ACZ, 3CZH, 5E6Z, 3CGT, 1BFN, 1DMB, 3LD6, 1GVI, 1G1Y, 1Z0M, 4YEF, 4RER, 2ZYN, 3EDJ, 1Z0N]|\n",
      "|CHEMBL373742 |Protein        |[Arginine Vasopressin, Arginine vasopressin, Vasopressin, Vasopressin injection]                                    |[644077] |[1YF4]                                                                                                                                                                  |\n",
      "|CHEMBL13786  |Protein        |[Met-Enkephalin]                                                                                                    |[443363] |[2LWC, 5E33]                                                                                                                                                            |\n",
      "+-------------+---------------+--------------------------------------------------------------------------------------------------------------------+---------+------------------------------------------------------------------------------------------------------------------------------------------------------------------------+\n",
      "\n"
     ]
    }
   ],
   "source": [
    "(\n",
    "    non_small_molecules\n",
    "    .select('id','drugType','synonyms','CIDs','PDBs')\n",
    "    .show(truncate=False)\n",
    ")\n"
   ]
  },
  {
   "cell_type": "code",
   "execution_count": 118,
   "metadata": {
    "ExecuteTime": {
     "end_time": "2021-05-10T14:42:13.227510Z",
     "start_time": "2021-05-10T14:42:13.218209Z"
    }
   },
   "outputs": [
    {
     "name": "stdout",
     "output_type": "stream",
     "text": [
      "root\n",
      " |-- id: string (nullable = true)\n",
      " |-- drugType: string (nullable = true)\n",
      " |-- synonyms: array (nullable = true)\n",
      " |    |-- element: string (containsNull = true)\n",
      " |-- PubChem: array (nullable = true)\n",
      " |    |-- element: string (containsNull = true)\n",
      " |-- drugbank: array (nullable = true)\n",
      " |    |-- element: string (containsNull = true)\n",
      " |-- CIDs: array (nullable = true)\n",
      " |    |-- element: integer (containsNull = true)\n",
      " |-- PDBs: array (nullable = true)\n",
      " |    |-- element: string (containsNull = true)\n",
      "\n"
     ]
    }
   ],
   "source": [
    "drug_df_small.printSchema()"
   ]
  },
  {
   "cell_type": "markdown",
   "metadata": {},
   "source": [
    "## "
   ]
  }
 ],
 "metadata": {
  "kernelspec": {
   "display_name": "Python 3",
   "language": "python",
   "name": "python3"
  },
  "language_info": {
   "codemirror_mode": {
    "name": "ipython",
    "version": 3
   },
   "file_extension": ".py",
   "mimetype": "text/x-python",
   "name": "python",
   "nbconvert_exporter": "python",
   "pygments_lexer": "ipython3",
   "version": "3.9.5"
  }
 },
 "nbformat": 4,
 "nbformat_minor": 4
}
