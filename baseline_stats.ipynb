{
 "cells": [
  {
   "cell_type": "code",
   "execution_count": 11,
   "metadata": {},
   "outputs": [
    {
     "name": "stdout",
     "output_type": "stream",
     "text": [
      "-RECORD 0----------------------------------------------------------------------------------------------------------------------------------------\n",
      " datasourceId                 | expression_atlas                                                                                                 \n",
      " targetId                     | ENSG00000051341                                                                                                  \n",
      " biosamplesFromSource         | [UBERON_0002369]                                                                                                 \n",
      " confidence                   | high                                                                                                             \n",
      " contrast                     | 'adrenocortical carcinoma' vs 'normal'                                                                           \n",
      " datatypeId                   | rna_expression                                                                                                   \n",
      " literature                   | [19147773]                                                                                                       \n",
      " log2FoldChangePercentileRank | 95                                                                                                               \n",
      " log2FoldChangeValue          | 1.2                                                                                                              \n",
      " resourceScore                | 1.41E-4                                                                                                          \n",
      " studyId                      | E-GEOD-10927                                                                                                     \n",
      " studyOverview                | Transcription profiling by array of human adrenocortical carcinomas, adenomas and healthy adrenal cortex tissues \n",
      " diseaseId                    | EFO_1000796                                                                                                      \n",
      "only showing top 1 row\n",
      "\n"
     ]
    },
    {
     "name": "stderr",
     "output_type": "stream",
     "text": [
      "23/02/23 11:04:25 WARN org.apache.spark.sql.execution.CacheManager: Asked to cache already cached data.\n"
     ]
    }
   ],
   "source": [
    "from pyspark.sql import SparkSession, functions as f, types as t\n",
    "\n",
    "spark = SparkSession.builder.getOrCreate()\n",
    "evidence_output = spark.read.parquet('gs://open-targets-data-releases/23.02/output/etl/parquet/evidence/sourceId=expression_atlas/').persist()\n",
    "\n",
    "(\n",
    "    evidence_output\n",
    "    .select(\n",
    "        'datasourceId',\n",
    "        'targetId',\n",
    "        'biosamplesFromSource',\n",
    "        'confidence',\n",
    "        'contrast',\n",
    "        'datatypeId',\n",
    "        'literature',\n",
    "        'log2FoldChangePercentileRank',\n",
    "        'log2FoldChangeValue',\n",
    "        'resourceScore',\n",
    "        'studyId',                                                                                             \n",
    "        'studyOverview',\n",
    "        'diseaseId'\n",
    "    )\n",
    "    .show(1, False, True)\n",
    ")"
   ]
  },
  {
   "attachments": {},
   "cell_type": "markdown",
   "metadata": {},
   "source": [
    "## General stats on the evidence set"
   ]
  },
  {
   "cell_type": "code",
   "execution_count": 15,
   "metadata": {},
   "outputs": [
    {
     "name": "stdout",
     "output_type": "stream",
     "text": [
      "Number of evidence: 230903\n",
      "Number of unique diseases: 204\n",
      "Number of unique studies: 289\n"
     ]
    }
   ],
   "source": [
    "evidence_count = evidence_output.select('diseaseId', 'studyId').count()\n",
    "print(f'Number of evidence: {evidence_count}')\n",
    "\n",
    "disease_count = evidence_output.select('diseaseId').distinct().count()\n",
    "print(f'Number of unique diseases: {disease_count}')\n",
    "\n",
    "study_count = evidence_output.select('studyId').distinct().count()\n",
    "print(f'Number of unique studies: {study_count}')\n",
    "\n"
   ]
  },
  {
   "attachments": {},
   "cell_type": "markdown",
   "metadata": {},
   "source": [
    "## Distribution of studies across diseases\n",
    "\n",
    "- **Q**: how many diseases a represented by multiple studies? \n",
    "- **A**: roughly 30% of the diseases are represented by multiple studies. It allows selecting the most powered study for the disease."
   ]
  },
  {
   "cell_type": "code",
   "execution_count": 10,
   "metadata": {},
   "outputs": [
    {
     "name": "stderr",
     "output_type": "stream",
     "text": [
      "23/02/23 11:01:28 WARN org.apache.spark.sql.execution.CacheManager: Asked to cache already cached data.\n"
     ]
    },
    {
     "name": "stdout",
     "output_type": "stream",
     "text": [
      "Number of diseases with multiple studies: 63\n",
      "+-------------+-----------------------------------------------------------------------------------------------------------------------------------------------------------------------------------+-----------+\n",
      "|diseaseId    |studies                                                                                                                                                                            |study_count|\n",
      "+-------------+-----------------------------------------------------------------------------------------------------------------------------------------------------------------------------------+-----------+\n",
      "|EFO_0000384  |[E-MTAB-2967, E-GEOD-66207, E-MTAB-5464, E-GEOD-69762, E-MEXP-2083, E-MTAB-5783, E-GEOD-83687, E-GEOD-93624, E-GEOD-101794, E-GEOD-57945, E-GEOD-112057, E-GEOD-59071, E-GEOD-6731]|13         |\n",
      "|EFO_0000729  |[E-MTAB-2967, E-MTAB-7915, E-MTAB-5464, E-MEXP-2083, E-TABM-734, E-GEOD-65114, E-GEOD-83687, E-MTAB-7860, E-GEOD-112057, E-GEOD-59071, E-GEOD-57945, E-GEOD-6731, E-MTAB-9658]     |13         |\n",
      "|EFO_0000676  |[E-GEOD-50790, E-GEOD-34248, E-GEOD-30999, E-GEOD-52471, E-GEOD-14905, E-GEOD-54456, E-GEOD-41745, E-GEOD-41663, E-GEOD-26866, E-GEOD-13355, E-GEOD-6710, E-GEOD-41662]            |12         |\n",
      "|EFO_0000305  |[E-GEOD-5764, E-GEOD-68086, E-GEOD-16873, E-GEOD-54002, E-GEOD-52194, E-GEOD-36765, E-MTAB-779, E-GEOD-25407, E-GEOD-38959, E-GEOD-20086, E-GEOD-10780]                            |11         |\n",
      "|EFO_0003060  |[E-GEOD-68086, E-GEOD-18842, E-MTAB-5231, E-MTAB-1690, E-GEOD-19804, E-GEOD-44077, E-GEOD-81089, E-MTAB-6957]                                                                      |8          |\n",
      "|EFO_0000274  |[E-GEOD-5667, E-GEOD-27887, E-GEOD-58558, E-GEOD-59294, E-GEOD-32924, E-GEOD-36842, E-GEOD-16161]                                                                                  |7          |\n",
      "|MONDO_0004975|[E-GEOD-28146, E-GEOD-48350, E-GEOD-1297, E-GEOD-36980, E-GEOD-5281, E-MEXP-2280, E-GEOD-67333]                                                                                    |7          |\n",
      "|EFO_0000182  |[E-GEOD-55048, E-GEOD-36076, E-GEOD-41804, E-GEOD-33294, E-GEOD-49515, E-MTAB-8887, E-GEOD-33006]                                                                                  |7          |\n",
      "|EFO_0000272  |[E-MEXP-567, E-MTAB-3073, E-GEOD-21354, E-MEXP-2351, E-GEOD-50161, E-GEOD-66354]                                                                                                   |6          |\n",
      "|EFO_0005842  |[E-GEOD-18105, E-MEXP-3715, E-GEOD-95132, E-GEOD-4183, E-GEOD-50760, E-MTAB-6403]                                                                                                  |6          |\n",
      "|EFO_0000519  |[E-MEXP-567, E-MTAB-3073, E-GEOD-68086, E-GEOD-35493, E-GEOD-50161, E-GEOD-22866]                                                                                                  |6          |\n",
      "|EFO_0002618  |[E-GEOD-36076, E-GEOD-49515, E-GEOD-43288, E-GEOD-16515, E-MEXP-950]                                                                                                               |5          |\n",
      "|MONDO_0005180|[E-GEOD-20168, E-GEOD-7621, E-MTAB-9950, E-GEOD-20292, E-GEOD-20333]                                                                                                               |5          |\n",
      "|EFO_0000571  |[E-GEOD-43458, E-GEOD-43767, E-TABM-15, E-MEXP-231, E-GEOD-106937]                                                                                                                 |5          |\n",
      "|MONDO_0004979|[E-MTAB-4660, E-MTAB-7406, E-GEOD-8052, E-GEOD-75011, E-GEOD-63142]                                                                                                                |5          |\n",
      "|EFO_0000365  |[E-GEOD-68086, E-GEOD-19249, E-GEOD-32384, E-MTAB-57, E-GEOD-76987]                                                                                                                |5          |\n",
      "|EFO_1001999  |[E-GEOD-80060, E-GEOD-103170, E-GEOD-103501, E-GEOD-112057]                                                                                                                        |4          |\n",
      "|EFO_0000178  |[E-GEOD-36076, E-GEOD-49515, E-GEOD-19826, E-MTAB-8135]                                                                                                                            |4          |\n",
      "|EFO_0000341  |[E-GEOD-16972, E-GEOD-13896, E-MTAB-6491, E-MTAB-1690]                                                                                                                             |4          |\n",
      "|EFO_0000186  |[E-GEOD-31138, E-GEOD-21422, E-GEOD-44408, E-GEOD-8977]                                                                                                                            |4          |\n",
      "+-------------+-----------------------------------------------------------------------------------------------------------------------------------------------------------------------------------+-----------+\n",
      "only showing top 20 rows\n",
      "\n"
     ]
    }
   ],
   "source": [
    "diseases_w_multiple_studies = (\n",
    "    evidence_output\n",
    "    .groupBy('diseaseId')\n",
    "    .agg(\n",
    "        f.collect_set(f.col('studyId')).alias('studies'),\n",
    "        f.size(f.collect_set(f.col('studyId'))).alias('study_count')\n",
    "    )\n",
    "    .filter(f.col('study_count') > 1)\n",
    "    .orderBy('study_count', ascending=False)\n",
    "    .persist()\n",
    ")\n",
    "number_of_diseases_w_multiple_studies = diseases_w_multiple_studies.count()\n",
    "print(f'Number of diseases with multiple studies: {number_of_diseases_w_multiple_studies}')\n",
    "\n",
    "diseases_w_multiple_studies.show(truncate=False)"
   ]
  },
  {
   "attachments": {},
   "cell_type": "markdown",
   "metadata": {},
   "source": [
    "## Distribution of diseases across studies\n",
    "\n",
    "- **Q**: Is it possible that some studies are mapped to multiple diseases? \n",
    "- **A**: So it seems, although some studies are mapped to multiple diseases, these studies are complex with different contrasts."
   ]
  },
  {
   "cell_type": "code",
   "execution_count": 14,
   "metadata": {},
   "outputs": [
    {
     "name": "stderr",
     "output_type": "stream",
     "text": [
      "23/02/23 11:11:19 WARN org.apache.spark.sql.execution.CacheManager: Asked to cache already cached data.\n"
     ]
    },
    {
     "name": "stdout",
     "output_type": "stream",
     "text": [
      "Number of studies with multiple diseases: 53\n",
      "+-------------+-------------------------------------------------------------------------------------------------------------------------------------------------------------------------------+-------------+\n",
      "|studyId      |diseaseIds                                                                                                                                                                     |disease_count|\n",
      "+-------------+-------------------------------------------------------------------------------------------------------------------------------------------------------------------------------+-------------+\n",
      "|E-GEOD-3307  |[MONDO_0010680, MONDO_0019064, EFO_0000225, MONDO_0020336, MONDO_0010679, MONDO_0009675, MONDO_0010311, Orphanet_269, EFO_0000557, MONDO_0004976, MONDO_0011787, MONDO_0009676]|12           |\n",
      "|E-GEOD-68086 |[EFO_1000044, EFO_0000365, MONDO_0018531, EFO_0000305, EFO_0003060, EFO_0000519]                                                                                               |6            |\n",
      "|E-GEOD-15641 |[EFO_0000640, EFO_0000335, EFO_1000315, EFO_0000349, EFO_0003017]                                                                                                              |5            |\n",
      "|E-GEOD-112057|[EFO_0000729, EFO_1002019, EFO_1001999, EFO_0000384, EFO_0002609]                                                                                                              |5            |\n",
      "|E-GEOD-35493 |[EFO_0005235, EFO_1002008, EFO_0002939, EFO_0000519, EFO_0008508]                                                                                                              |5            |\n",
      "|E-GEOD-11151 |[EFO_0000640, EFO_0000335, EFO_1000315, EFO_0000349]                                                                                                                           |4            |\n",
      "|E-GEOD-50161 |[EFO_0002939, EFO_1000028, EFO_0000272, EFO_0000519]                                                                                                                           |4            |\n",
      "|E-GEOD-4183  |[EFO_0005842, EFO_0003767, EFO_0004288]                                                                                                                                        |3            |\n",
      "|E-MTAB-3073  |[EFO_0000272, EFO_0000519, EFO_0000632]                                                                                                                                        |3            |\n",
      "|E-GEOD-76987 |[EFO_0000365, EFO_1000189, EFO_1000633]                                                                                                                                        |3            |\n",
      "|E-MTAB-5678  |[EFO_1001841, EFO_0000707, EFO_0002496]                                                                                                                                        |3            |\n",
      "|E-GEOD-55282 |[HP_0004443, MONDO_0018112, EFO_0008511]                                                                                                                                       |3            |\n",
      "|E-GEOD-6691  |[EFO_0000095, EFO_0002616, EFO_0001378]                                                                                                                                        |3            |\n",
      "|E-MEXP-2280  |[EFO_0003096, MONDO_0004975, MONDO_0019037]                                                                                                                                    |3            |\n",
      "|E-GEOD-21354 |[EFO_1000028, EFO_0000272, EFO_0000632]                                                                                                                                        |3            |\n",
      "|E-MTAB-1690  |[EFO_0006859, EFO_0000341, EFO_0003060]                                                                                                                                        |3            |\n",
      "|E-GEOD-36076 |[EFO_0002618, EFO_0000178, EFO_0000182]                                                                                                                                        |3            |\n",
      "|E-GEOD-49515 |[EFO_0002618, EFO_0000178, EFO_0000182]                                                                                                                                        |3            |\n",
      "|E-MTAB-779   |[EFO_1000254, EFO_0000305]                                                                                                                                                     |2            |\n",
      "|E-GEOD-38351 |[EFO_0000685, MONDO_0007915]                                                                                                                                                   |2            |\n",
      "+-------------+-------------------------------------------------------------------------------------------------------------------------------------------------------------------------------+-------------+\n",
      "only showing top 20 rows\n",
      "\n",
      "+----------------+--------------------+------------------------------------+------------+--------------------------------------------------------------+-----------+\n",
      "|datasourceId    |biosamplesFromSource|contrast                            |studyId     |studyOverview                                                 |diseaseId  |\n",
      "+----------------+--------------------+------------------------------------+------------+--------------------------------------------------------------+-----------+\n",
      "|expression_atlas|[UBERON_0000955]    |'Astrocytoma, Pilocytic' vs 'normal'|E-GEOD-50161|Expression data from human brain tumors and human normal brain|EFO_0000272|\n",
      "|expression_atlas|[UBERON_0000955]    |'ependymoma' vs 'normal'            |E-GEOD-50161|Expression data from human brain tumors and human normal brain|EFO_1000028|\n",
      "|expression_atlas|[UBERON_0000955]    |'medulloblastoma' vs 'normal'       |E-GEOD-50161|Expression data from human brain tumors and human normal brain|EFO_0002939|\n",
      "|expression_atlas|[UBERON_0000955]    |'glioblastoma' vs 'normal'          |E-GEOD-50161|Expression data from human brain tumors and human normal brain|EFO_0000519|\n",
      "+----------------+--------------------+------------------------------------+------------+--------------------------------------------------------------+-----------+\n",
      "\n"
     ]
    }
   ],
   "source": [
    "studies_w_multiple_diseases = (\n",
    "    evidence_output\n",
    "    .groupBy('studyId')\n",
    "    .agg(\n",
    "        f.collect_set(f.col('diseaseId')).alias('diseaseIds'),\n",
    "        f.size(f.collect_set(f.col('diseaseId'))).alias('disease_count')\n",
    "    )\n",
    "    .filter(f.col('disease_count') > 1)\n",
    "    .orderBy('disease_count', ascending=False)\n",
    "    .persist()\n",
    ")\n",
    "number_of_studies_w_multiple_diseases = studies_w_multiple_diseases.count()\n",
    "print(f'Number of studies with multiple diseases: {number_of_studies_w_multiple_diseases}')\n",
    "\n",
    "studies_w_multiple_diseases.show(truncate=False)\n",
    "\n",
    "study_example = 'E-GEOD-50161'\n",
    "(\n",
    "    evidence_output\n",
    "    .filter(f.col('studyId') == study_example)\n",
    "    .select(\n",
    "        'datasourceId',\n",
    "        'biosamplesFromSource',\n",
    "        'contrast',\n",
    "        'studyId',                                                                                             \n",
    "        'studyOverview',\n",
    "        'diseaseId'\n",
    "    )\n",
    "    .distinct()\n",
    "    .show(truncate=False)\n",
    ")"
   ]
  },
  {
   "cell_type": "code",
   "execution_count": null,
   "metadata": {},
   "outputs": [],
   "source": []
  }
 ],
 "metadata": {
  "kernelspec": {
   "display_name": "base",
   "language": "python",
   "name": "python3"
  },
  "language_info": {
   "codemirror_mode": {
    "name": "ipython",
    "version": 3
   },
   "file_extension": ".py",
   "mimetype": "text/x-python",
   "name": "python",
   "nbconvert_exporter": "python",
   "pygments_lexer": "ipython3",
   "version": "3.8.15"
  },
  "orig_nbformat": 4,
  "vscode": {
   "interpreter": {
    "hash": "e234d837eebba94c7397b4e38c0b82bd3e4741cb2c390182a3fb441eaf8f3cd5"
   }
  }
 },
 "nbformat": 4,
 "nbformat_minor": 2
}
