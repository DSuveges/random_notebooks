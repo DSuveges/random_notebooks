{
 "cells": [
  {
   "cell_type": "code",
   "execution_count": 3,
   "metadata": {
    "ExecuteTime": {
     "end_time": "2021-07-05T09:50:33.150170Z",
     "start_time": "2021-07-05T09:50:32.884574Z"
    },
    "code_folding": [
     6,
     21,
     24,
     36,
     48,
     97
    ]
   },
   "outputs": [
    {
     "name": "stdout",
     "output_type": "stream",
     "text": [
      "<g transform=\"translate(400.0 100)\">\n",
      "<line x1=\"10.16\" y1=\"0\" x2=\"536.3999999999999\" y2=\"-25.0\" stroke=\"#00CED1\" stroke-width=\"1\" />\n",
      "<line x1=\"536.3999999999999\" y1=\"-25.0\" x2=\"1062.6399999999999\" y2=\"0\" stroke=\"#00CED1\" stroke-width=\"1\" />\n",
      "<line x1=\"1068.1200000000001\" y1=\"0\" x2=\"1098.52\" y2=\"-25.0\" stroke=\"#00CED1\" stroke-width=\"1\" />\n",
      "<line x1=\"1098.52\" y1=\"-25.0\" x2=\"1128.92\" y2=\"0\" stroke=\"#00CED1\" stroke-width=\"1\" />\n",
      "<rect x=\"0.0\" y=\"0\" width=\"10.16\" height=\"50\" style=\"stroke-width:1;stroke:#00CED1;fill:#FF1493\" />\n",
      "<rect x=\"1062.6399999999999\" y=\"0\" width=\"0.20000000000004547\" height=\"50\" style=\"stroke-width:1;stroke:#00CED1;fill:#FF1493\" />\n",
      "<rect x=\"1062.88\" y=\"0\" width=\"5.240000000000009\" height=\"50\" style=\"stroke-width:1;stroke:#00CED1;fill:#FFD700\" />\n",
      "<rect x=\"1128.92\" y=\"0\" width=\"5.3599999999999\" height=\"50\" style=\"stroke-width:1;stroke:#00CED1;fill:#FFD700\" />\n",
      "<rect x=\"1134.3200000000002\" y=\"0\" width=\"11.399999999999864\" height=\"50\" style=\"stroke-width:1;stroke:#00CED1;fill:#FF1493\" />\n",
      "<polygon points=\"1134.3200000000002,0 1145.72,0 1145.72,-25.0 1195.72,25.0 1145.72,75.0 1145.72,50 1134.3200000000002,50\" style=\"fill:#FF1493;stroke:#00CED1;stroke-width:1\" />\n",
      "\n",
      "</g>\n",
      "\n"
     ]
    }
   ],
   "source": [
    "class GenerateArrowPlot(object):\n",
    "    \n",
    "    CHUNK_SVG = '<rect x=\"{}\" y=\"0\" width=\"{}\" height=\"{}\" style=\"stroke-width:1;stroke:{};fill:{}\" />\\n'\n",
    "    LINE_SVG = '<line x1=\"{}\" y1=\"{}\" x2=\"{}\" y2=\"{}\" stroke=\"{}\" stroke-width=\"1\" />\\n'\n",
    "    ARROW_SVG = '<polygon points=\"{}\" style=\"fill:{};stroke:{};stroke-width:1\" />\\n'\n",
    "    \n",
    "    def __init__(self, arrow_data, config_manager, arrow_width):\n",
    "        self.arrow_data = arrow_data\n",
    "        \n",
    "        # Extract colors:\n",
    "        arrow_colors = config_manager.get_arrow_colors()\n",
    "        self.line_color = arrow_colors['line_color']\n",
    "        self.utr_color = arrow_colors['utr_color']\n",
    "        self.cds_color = arrow_colors['cds_color']\n",
    "        \n",
    "        # Extract other values\n",
    "        self.chunk_size = config_manager.get_chunk_size()\n",
    "        self.pixel_size = config_manager.get_pixel()\n",
    "        \n",
    "        self.arrow_width = arrow_width\n",
    "        \n",
    "    def generate_arrow_polt(self, gene_name):\n",
    "\n",
    "        # Get CDS and UTR for a given gene:\n",
    "        gene_df = (\n",
    "            self.arrow_data\n",
    "            .loc[lambda df: df.gene_name == gene_name]\n",
    "            .sort_values('start')\n",
    "            .reset_index(drop=True)\n",
    "            .drop(['chr', 'gene_name', 'gene_id'], axis=1)\n",
    "        )\n",
    "        \n",
    "        # If nothing found raise:\n",
    "        assert len(gene_df) > 1, f'Gene name ({gene_name}) was not found in the data.'\n",
    "\n",
    "        # Scaling genomic coordinates to screen coordinates:\n",
    "        gene_df = (\n",
    "            gene_df\n",
    "            .assign(\n",
    "                relative_start = lambda row: (row['start'] - gene_df.start.min())/self.chunk_size * self.pixel_size,\n",
    "                relative_end = lambda row: (row['end'] - gene_df.start.min())/self.chunk_size * self.pixel_size,\n",
    "            )\n",
    "            .assign(\n",
    "                length = lambda row: row['relative_end'] - row['relative_start']\n",
    "            )\n",
    "        )\n",
    "\n",
    "        # Calculate intron midpoints:\n",
    "        gene_df['next_start'] = (\n",
    "            gene_df.relative_start.drop(0)\n",
    "            .reset_index(drop=True)\n",
    "        )\n",
    "        \n",
    "        gene_df['midpoint'] = (gene_df.next_start - gene_df.relative_end)/2 + gene_df.relative_end\n",
    "        self.df = gene_df.head()\n",
    "        \n",
    "        # Generate boxes:\n",
    "        boxes = gene_df.apply(self.draw_box, axis=1).dropna()\n",
    "        \n",
    "        # Generate lines connecting boxes:\n",
    "        lines = gene_df.loc[gene_df.midpoint.notna()].apply(self.draw_lines, axis=1).dropna()\n",
    "\n",
    "        # Generate closing arrow:\n",
    "        arrow = self.draw_arrow(gene_df)\n",
    "        \n",
    "        # Concatenate into single string:\n",
    "        svg_string = ''.join(lines.to_list() + boxes.to_list()) + arrow\n",
    "        svg_object = svg_handler(svg_string, gene_df.relative_end.max(), arrow_width)\n",
    "        \n",
    "        return svg_object\n",
    "\n",
    "    def draw_arrow(self, df):\n",
    "        \n",
    "        arrow_width = self.arrow_width\n",
    "        \n",
    "        # Get orientation:\n",
    "        row = df.iloc[0] if df.iloc[0]['strand'] == '-' else df.tail(1).iloc[0]\n",
    "\n",
    "        if row['strand'] == '+':\n",
    "            coordinates = [\n",
    "                (row['relative_start'],0), (row['relative_end'], 0), \n",
    "                (row['relative_end'], -arrow_width/2), (row['relative_end'] + arrow_width, arrow_width/2),\n",
    "                (row['relative_end'], arrow_width * 1.5), (row['relative_end'],arrow_width), \n",
    "                (row['relative_start'], arrow_width)\n",
    "            ]\n",
    "        else:\n",
    "            coordinates = [\n",
    "                (row['relative_start'],0),(row['relative_end'], 0),\n",
    "                (row['relative_end'], arrow_width), (row['relative_start'], arrow_width),\n",
    "                (row['relative_start'], 1.5 * arrow_width), (row['relative_start'] - arrow_width, arrow_width / 2),\n",
    "                (row['relative_start'], -arrow_width/2)\n",
    "            ]\n",
    "\n",
    "        coordinate_str = ' '.join([f'{x[0]},{x[1]}' for x in coordinates])\n",
    "\n",
    "        return self.ARROW_SVG.format(coordinate_str, self.utr_color, self.line_color)\n",
    "    \n",
    "    def draw_box(self, row):\n",
    "\n",
    "        if row['type'] == 'UTR':\n",
    "            fill_color = self.utr_color\n",
    "        elif row['type'] == 'CDS':\n",
    "            fill_color = self.cds_color\n",
    "        else:\n",
    "            fill_color = 'black'\n",
    "\n",
    "        return self.CHUNK_SVG.format(row['relative_start'], row['length'], self.arrow_width, self.line_color, fill_color)\n",
    "    \n",
    "    def draw_lines(self, row):\n",
    "        \n",
    "        if row['next_start'] - row['relative_end'] < 5:\n",
    "            return None\n",
    "\n",
    "        # Two bits are required:\n",
    "        connector = self.LINE_SVG.format(row['relative_end'], 0, row['midpoint'], -self.arrow_width/2, self.line_color)\n",
    "        connector += self.LINE_SVG.format(row['midpoint'], -self.arrow_width/2, row['next_start'], 0, self.line_color)\n",
    "\n",
    "        return connector\n",
    "        \n",
    "\n",
    "\n",
    "svg_object =  gap.generate_arrow_polt('DYNLL1')\n",
    "svg_object.group(translate=(10_000 / 450 * 18, 100))\n",
    "print(svg_object.getSvg())"
   ]
  },
  {
   "cell_type": "code",
   "execution_count": 7,
   "metadata": {
    "ExecuteTime": {
     "end_time": "2021-07-05T09:53:02.881963Z",
     "start_time": "2021-07-05T09:53:02.649861Z"
    }
   },
   "outputs": [],
   "source": [
    "import sys\n",
    "\n",
    "import pandas as pd\n",
    "import numpy as np\n",
    "import logging\n",
    "\n",
    "sys.path\n",
    "sys.path.append('/Users/dsuveges/repositories/GenomePlotter')\n",
    "\n",
    "from functions.CustomGenePlotter import CustomGeneIntegrator\n",
    "from functions.ConfigManager import ConfigManager\n",
    "from functions.svg_handler import svg_handler\n",
    "from functions.ColorFunctions import ColorPicker\n",
    "from functions.ChromosomePlotter import ChromosomePlotter\n",
    "\n",
    "# Config manager:\n",
    "cm = ConfigManager('/Users/dsuveges/repositories/GenomePlotter/config.updated.json')\n",
    "\n",
    "# Color picker:\n",
    "cp = ColorPicker(cm.get_chromosome_colors(), 0.9, 0.9, 20, 4000)\n",
    "\n",
    "xf = pd.read_csv('/Users/dsuveges/repositories/GenomePlotter/source_data/processed_gencode_arrow.bed.gz', sep='\\t', compression='infer')\n",
    "arrow_width=50\n",
    "gap = GenerateArrowPlot(xf, cm, arrow_width=arrow_width)"
   ]
  },
  {
   "cell_type": "code",
   "execution_count": 12,
   "metadata": {
    "ExecuteTime": {
     "end_time": "2021-07-05T09:56:56.983178Z",
     "start_time": "2021-07-05T09:56:56.310257Z"
    },
    "scrolled": false
   },
   "outputs": [
    {
     "name": "stdout",
     "output_type": "stream",
     "text": [
      "<rect x=\"3492\" y=\"0\" width=\"18\" height=\"18\" style=\"stroke-width:1;stroke:#c4ebe1; fill: #c4ebe1\" />\n",
      "<rect x=\"3510\" y=\"0\" width=\"18\" height=\"18\" style=\"stroke-width:1;stroke:#c4ebe1; fill: #c4ebe1\" />\n",
      "<rect x=\"3528\" y=\"0\" width=\"18\" height=\"18\" style=\"stroke-width:1;stroke:#c9ede4; fill: #c9ede4\" />\n",
      "<rect x=\"3546\" y=\"0\" width=\"18\" height=\"18\" style=\"stroke-width:1;stroke:#c4ebe1; fill: #c4ebe1\" />\n",
      "<rect x=\"3564\" y=\"0\" width=\"18\" height=\"18\" style=\"stroke-width:1;stroke:#c0e9df; fill: #c0e9df\" />\n",
      "<rect x=\"3582\" y=\"0\" width=\"18\" height=\"18\" style=\"stroke-width:1;stroke:#c0e9df; fill: #c0e9df\" />\n",
      "<rect x=\"0\" y=\"18\" width=\"18\" height=\"18\" style=\"stroke-width:1;stroke:#c4ebe1; fill: #c4ebe1\" />\n",
      "<rect x=\"18\" y=\"18\" width=\"18\" height=\"18\" style=\"stroke-width:1;stroke:#ceeee6; fill: #ceeee6\" />\n",
      "<rect x=\"36\" y=\"18\" width=\"18\" height=\"18\" style=\"stroke-width:1;stroke:#ceeee6; fill: #ceeee6\" />\n",
      "<rect x=\"54\" y=\"18\" width=\"18\" height=\"18\" style=\"stroke-width:1;stroke:#d3f0e9; fill: #d3f0e9\" />\n",
      "<rect x=\"72\" y=\"18\" width=\"18\" height=\"18\" style=\"stroke-width:1;stroke:#ceeee6; fill: #ceeee6\" />\n",
      "<rect x=\"90\" y=\"18\" width=\"18\" height=\"18\" style=\"stroke-width:1;stroke:#c9ede4; fill: #c9ede4\" />\n",
      "<rect x=\"108\" y=\"18\" width=\"18\" height=\"18\" style=\"stroke-width:1;stroke:#c4ebe1; fill: #c4ebe1\" />\n",
      "<rect x=\"126\" y=\"18\" width=\"18\" height=\"18\" style=\"stroke-width:1;stroke:#bbe8dd; fill: #bbe8dd\" />\n",
      "<rect x=\"144\" y=\"18\" width=\"18\" height=\"18\" style=\"stroke-width:1;stroke:#c0e9df; fill: #c0e9df\" />\n",
      "<rect x=\"162\" y=\"18\" width=\"18\" height=\"18\" style=\"stroke-width:1;stroke:#c0e9df; fill: #c0e9df\" />\n",
      "<rect x=\"180\" y=\"18\" width=\"18\" height=\"18\" style=\"stroke-width:1;stroke:#c4ebe1; fill: #c4ebe1\" />\n",
      "<rect x=\"198\" y=\"18\" width=\"18\" height=\"18\" style=\"stroke-width:1;stroke:#bbe8dd; fill: #bbe8dd\" />\n",
      "<rect x=\"216\" y=\"18\" width=\"18\" height=\"18\" style=\"stroke-width:1;stroke:#c0e9df; fill: #c0e9df\" />\n",
      "<rect x=\"234\" y=\"18\" width=\"18\" height=\"18\" style=\"stroke-width:1;stroke:#c4ebe1; fill: #c4ebe1\" />\n",
      "<rect x=\"252\" y=\"18\" width=\"18\" height=\"18\" style=\"stroke-width:1;stroke:#c4ebe1; fill: #c4ebe1\" />\n",
      "<rect x=\"270\" y=\"18\" width=\"18\" height=\"18\" style=\"stroke-width:1;stroke:#ffea98; fill: #ffea98\" />\n",
      "<rect x=\"288\" y=\"18\" width=\"18\" height=\"18\" style=\"stroke-width:1;stroke:#ffeca3; fill: #ffeca3\" />\n",
      "<rect x=\"306\" y=\"18\" width=\"18\" height=\"18\" style=\"stroke-width:1;stroke:#a2d2de; fill: #a2d2de\" />\n",
      "<rect x=\"324\" y=\"18\" width=\"18\" height=\"18\" style=\"stroke-width:1;stroke:#a2d2de; fill: #a2d2de\" />\n",
      "<rect x=\"342\" y=\"18\" width=\"18\" height=\"18\" style=\"stroke-width:1;stroke:#ffe78c; fill: #ffe78c\" />\n",
      "<rect x=\"360\" y=\"18\" width=\"18\" height=\"18\" style=\"stroke-width:1;stroke:#ffea98; fill: #ffea98\" />\n",
      "<rect x=\"378\" y=\"18\" width=\"18\" height=\"18\" style=\"stroke-width:1;stroke:#ffe78c; fill: #ffe78c\" />\n",
      "<rect x=\"396\" y=\"18\" width=\"18\" height=\"18\" style=\"stroke-width:1;stroke:#ffe581; fill: #ffe581\" />\n",
      "<rect x=\"414\" y=\"18\" width=\"18\" height=\"18\" style=\"stroke-width:1;stroke:#ceeee6; fill: #ceeee6\" />\n",
      "<rect x=\"432\" y=\"18\" width=\"18\" height=\"18\" style=\"stroke-width:1;stroke:#d3f0e9; fill: #d3f0e9\" />\n",
      "<rect x=\"450\" y=\"18\" width=\"18\" height=\"18\" style=\"stroke-width:1;stroke:#e1f5f0; fill: #e1f5f0\" />\n",
      "<rect x=\"468\" y=\"18\" width=\"18\" height=\"18\" style=\"stroke-width:1;stroke:#d3f0e9; fill: #d3f0e9\" />\n",
      "<rect x=\"486\" y=\"18\" width=\"18\" height=\"18\" style=\"stroke-width:1;stroke:#ceeee6; fill: #ceeee6\" />\n",
      "<rect x=\"504\" y=\"18\" width=\"18\" height=\"18\" style=\"stroke-width:1;stroke:#c9ede4; fill: #c9ede4\" />\n",
      "<rect x=\"522\" y=\"18\" width=\"18\" height=\"18\" style=\"stroke-width:1;stroke:#c9ede4; fill: #c9ede4\" />\n",
      "<rect x=\"540\" y=\"18\" width=\"18\" height=\"18\" style=\"stroke-width:1;stroke:#d3f0e9; fill: #d3f0e9\" />\n",
      "<rect x=\"558\" y=\"18\" width=\"18\" height=\"18\" style=\"stroke-width:1;stroke:#ceeee6; fill: #ceeee6\" />\n",
      "<rect x=\"576\" y=\"18\" width=\"18\" height=\"18\" style=\"stroke-width:1;stroke:#ddf3ee; fill: #ddf3ee\" />\n",
      "<rect x=\"594\" y=\"18\" width=\"18\" height=\"18\" style=\"stroke-width:1;stroke:#ddf3ee; fill: #ddf3ee\" />\n",
      "<rect x=\"612\" y=\"18\" width=\"18\" height=\"18\" style=\"stroke-width:1;stroke:#e1f5f0; fill: #e1f5f0\" />\n",
      "<rect x=\"630\" y=\"18\" width=\"18\" height=\"18\" style=\"stroke-width:1;stroke:#d8f1eb; fill: #d8f1eb\" />\n",
      "<rect x=\"648\" y=\"18\" width=\"18\" height=\"18\" style=\"stroke-width:1;stroke:#ceeee6; fill: #ceeee6\" />\n",
      "<rect x=\"666\" y=\"18\" width=\"18\" height=\"18\" style=\"stroke-width:1;stroke:#c9ede4; fill: #c9ede4\" />\n",
      "<rect x=\"684\" y=\"18\" width=\"18\" height=\"18\" style=\"stroke-width:1;stroke:#c9ede4; fill: #c9ede4\" />\n",
      "<rect x=\"702\" y=\"18\" width=\"18\" height=\"18\" style=\"stroke-width:1;stroke:#c4ebe1; fill: #c4ebe1\" />\n",
      "<rect x=\"720\" y=\"18\" width=\"18\" height=\"18\" style=\"stroke-width:1;stroke:#ceeee6; fill: #ceeee6\" />\n",
      "<rect x=\"738\" y=\"18\" width=\"18\" height=\"18\" style=\"stroke-width:1;stroke:#c9ede4; fill: #c9ede4\" />\n",
      "<rect x=\"756\" y=\"18\" width=\"18\" height=\"18\" style=\"stroke-width:1;stroke:#ceeee6; fill: #ceeee6\" />\n",
      "<rect x=\"774\" y=\"18\" width=\"18\" height=\"18\" style=\"stroke-width:1;stroke:#c4ebe1; fill: #c4ebe1\" />\n",
      "<rect x=\"792\" y=\"18\" width=\"18\" height=\"18\" style=\"stroke-width:1;stroke:#c4ebe1; fill: #c4ebe1\" /><g transform=\"translate(400.0 100)\">\n",
      "<line x1=\"11.24\" y1=\"0\" x2=\"33.46\" y2=\"-25.0\" stroke=\"#00CED1\" stroke-width=\"1\" />\n",
      "<line x1=\"33.46\" y1=\"-25.0\" x2=\"55.68\" y2=\"0\" stroke=\"#00CED1\" stroke-width=\"1\" />\n",
      "<line x1=\"60.0\" y1=\"0\" x2=\"68.12\" y2=\"-25.0\" stroke=\"#00CED1\" stroke-width=\"1\" />\n",
      "<line x1=\"68.12\" y1=\"-25.0\" x2=\"76.24000000000001\" y2=\"0\" stroke=\"#00CED1\" stroke-width=\"1\" />\n",
      "<rect x=\"0.0\" y=\"0\" width=\"8.48\" height=\"50\" style=\"stroke-width:1;stroke:#00CED1;fill:#FF1493\" />\n",
      "<rect x=\"8.52\" y=\"0\" width=\"2.7200000000000006\" height=\"50\" style=\"stroke-width:1;stroke:#00CED1;fill:#FFD700\" />\n",
      "<rect x=\"55.68\" y=\"0\" width=\"4.32\" height=\"50\" style=\"stroke-width:1;stroke:#00CED1;fill:#FFD700\" />\n",
      "<rect x=\"76.24000000000001\" y=\"0\" width=\"7.959999999999994\" height=\"50\" style=\"stroke-width:1;stroke:#00CED1;fill:#FFD700\" />\n",
      "<rect x=\"84.24\" y=\"0\" width=\"41.16000000000001\" height=\"50\" style=\"stroke-width:1;stroke:#00CED1;fill:#FF1493\" />\n",
      "<polygon points=\"84.24,0 125.4,0 125.4,-25.0 175.4,25.0 125.4,75.0 125.4,50 84.24,50\" style=\"fill:#FF1493;stroke:#00CED1;stroke-width:1\" />\n",
      "\n",
      "</g>\n",
      "\n"
     ]
    }
   ],
   "source": [
    "gene_name = 'PPP1R11'\n",
    "\n",
    "# Get custom gene integrator:\n",
    "cgi = CustomGeneIntegrator(gene_name, cm)\n",
    "cgi.integrate(cp)\n",
    "\n",
    "# Get chromosome plotter:\n",
    "chrp = ChromosomePlotter(cgi.get_integrated_data(), 18)\n",
    "\n",
    "chrp.draw_chromosome()\n",
    "gene_svg = chrp.return_svg()\n",
    "\n",
    "# Get arrow:\n",
    "gap = GenerateArrowPlot(xf, cm, arrow_width=arrow_width)\n",
    "svg_object =  gap.generate_arrow_polt(gene_name)\n",
    "svg_object.group(translate=(10_000 / 450 * 18, 100))\n",
    "\n",
    "gene_svg += svg_object.getSvg()\n",
    "\n",
    "print(gene_svg)"
   ]
  },
  {
   "cell_type": "code",
   "execution_count": null,
   "metadata": {
    "ExecuteTime": {
     "end_time": "2021-07-05T08:46:27.711830Z",
     "start_time": "2021-07-05T08:46:27.706284Z"
    }
   },
   "outputs": [],
   "source": [
    "from functions.ChromosomePlotter import ChromosomePlotter\n",
    "\n",
    "cp = ChromosomePlotter(cgi.get_integrated_data(), 18)"
   ]
  },
  {
   "cell_type": "code",
   "execution_count": null,
   "metadata": {
    "ExecuteTime": {
     "end_time": "2021-07-05T08:47:03.189534Z",
     "start_time": "2021-07-05T08:47:03.170901Z"
    }
   },
   "outputs": [],
   "source": [
    "cp.draw_chromosome()"
   ]
  },
  {
   "cell_type": "code",
   "execution_count": null,
   "metadata": {
    "ExecuteTime": {
     "end_time": "2021-07-05T08:47:31.136943Z",
     "start_time": "2021-07-05T08:47:31.131999Z"
    },
    "scrolled": false
   },
   "outputs": [],
   "source": [
    "print(cp.return_svg())"
   ]
  },
  {
   "cell_type": "code",
   "execution_count": null,
   "metadata": {
    "ExecuteTime": {
     "end_time": "2021-07-05T08:54:48.011474Z",
     "start_time": "2021-07-05T08:54:48.007546Z"
    }
   },
   "outputs": [],
   "source": []
  },
  {
   "cell_type": "code",
   "execution_count": null,
   "metadata": {},
   "outputs": [],
   "source": []
  }
 ],
 "metadata": {
  "kernelspec": {
   "display_name": "Python 3",
   "language": "python",
   "name": "python3"
  },
  "language_info": {
   "codemirror_mode": {
    "name": "ipython",
    "version": 3
   },
   "file_extension": ".py",
   "mimetype": "text/x-python",
   "name": "python",
   "nbconvert_exporter": "python",
   "pygments_lexer": "ipython3",
   "version": "3.6.10"
  }
 },
 "nbformat": 4,
 "nbformat_minor": 4
}
