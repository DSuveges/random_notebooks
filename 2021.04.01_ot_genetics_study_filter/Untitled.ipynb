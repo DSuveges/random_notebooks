{
 "cells": [
  {
   "cell_type": "code",
   "execution_count": 1,
   "metadata": {
    "ExecuteTime": {
     "end_time": "2021-04-01T18:05:43.252798Z",
     "start_time": "2021-04-01T18:05:38.053126Z"
    }
   },
   "outputs": [],
   "source": [
    "import pyspark.sql\n",
    "from pyspark.sql.types import *\n",
    "from pyspark.sql.functions import *\n",
    "from pyspark import SparkContext\n",
    "import re\n",
    "\n",
    "global spark\n",
    "\n",
    "# SparkContext.setSystemProperty('spark.executor.memory', '20g')\n",
    "\n",
    "spark = (pyspark.sql.SparkSession\n",
    "    .builder\n",
    "    .appName(\"phenodigm_parser\")\n",
    "    .config(\"spark.executor.memory\", '10g')\n",
    "     .config(\"spark.driver.bindAddress\", \"localhost\")\n",
    "    .config(\"spark.driver.memory\", '10g')\n",
    "    .getOrCreate()\n",
    ")"
   ]
  },
  {
   "cell_type": "code",
   "execution_count": 65,
   "metadata": {
    "ExecuteTime": {
     "end_time": "2021-04-01T19:12:18.572060Z",
     "start_time": "2021-04-01T19:11:41.709389Z"
    }
   },
   "outputs": [],
   "source": [
    "sumstat = '/Users/dsuveges/project_data/ot_genetics/studies/*.parquet'\n",
    "sumstat_filtered = '/Users/dsuveges/project_data/ot_genetics/studies/cicaful_11.parquet'\n",
    "pval_threshold = 0.05\n",
    "\n",
    "(\n",
    "    spark.read.parquet(sumstat)\n",
    "    .filter(col('pval') <= pval_threshold)\n",
    "    .withColumnRenamed('type', 'type_id')\n",
    "    .withColumn('info', col('info').cast(DoubleType()))\n",
    "    .write.parquet(sumstat_filtered, mode='overwrite')\n",
    ")\n",
    "\n"
   ]
  },
  {
   "cell_type": "markdown",
   "metadata": {
    "ExecuteTime": {
     "end_time": "2021-04-01T18:21:33.068503Z",
     "start_time": "2021-04-01T18:21:33.053239Z"
    }
   },
   "source": [
    "```\n",
    "55 - 1.44\n",
    "58 - 0.62\n",
    "59 - 0.6\n",
    "\n",
    "3 - 1.425\n",
    "6 - 1.98\n",
    "12 - 3.23\n",
    "24 - 5.67\n",
    "48 - 10.4\n",
    "96 - 11.6\n",
    "194 - 18.3\n",
    "392 - 36.9\n",
    "```"
   ]
  },
  {
   "cell_type": "code",
   "execution_count": 67,
   "metadata": {
    "ExecuteTime": {
     "end_time": "2021-04-01T19:12:51.581300Z",
     "start_time": "2021-04-01T19:12:51.028436Z"
    }
   },
   "outputs": [
    {
     "data": {
      "text/plain": [
       "121486128"
      ]
     },
     "execution_count": 67,
     "metadata": {},
     "output_type": "execute_result"
    }
   ],
   "source": [
    "spark.read.parquet(sumstat).count()"
   ]
  },
  {
   "cell_type": "code",
   "execution_count": 7,
   "metadata": {
    "ExecuteTime": {
     "end_time": "2021-04-01T18:10:11.063896Z",
     "start_time": "2021-04-01T18:10:10.927348Z"
    }
   },
   "outputs": [
    {
     "name": "stdout",
     "output_type": "stream",
     "text": [
      "+----+\n",
      "|info|\n",
      "+----+\n",
      "|null|\n",
      "|null|\n",
      "|null|\n",
      "|null|\n",
      "|null|\n",
      "|null|\n",
      "|null|\n",
      "|null|\n",
      "|null|\n",
      "|null|\n",
      "|null|\n",
      "|null|\n",
      "|null|\n",
      "|null|\n",
      "|null|\n",
      "|null|\n",
      "|null|\n",
      "|null|\n",
      "|null|\n",
      "|null|\n",
      "+----+\n",
      "only showing top 20 rows\n",
      "\n"
     ]
    }
   ],
   "source": [
    "(\n",
    "    df\n",
    "    .withColumn('info', col('info').cast(DoubleType()))\n",
    "    .select(col('info')).show()\n",
    ")"
   ]
  },
  {
   "cell_type": "code",
   "execution_count": 68,
   "metadata": {
    "ExecuteTime": {
     "end_time": "2021-04-01T19:27:30.310697Z",
     "start_time": "2021-04-01T19:27:30.209182Z"
    }
   },
   "outputs": [
    {
     "name": "stdout",
     "output_type": "stream",
     "text": [
      "/Users/dsuveges/project/random_notebooks/2021.04.01_ot_genetics_study_filter\n"
     ]
    }
   ],
   "source": [
    "\n",
    "%%bash\n",
    "\n",
    "pwd\n",
    "/Users/dsuveges/project/random_notebooks/2021.04.01_ot_genetics_study_filter/pval_filter.py"
   ]
  },
  {
   "cell_type": "code",
   "execution_count": 3,
   "metadata": {
    "ExecuteTime": {
     "end_time": "2021-11-07T21:31:01.882428Z",
     "start_time": "2021-11-07T21:31:01.171341Z"
    }
   },
   "outputs": [
    {
     "name": "stdout",
     "output_type": "stream",
     "text": [
      "21.11 - merging study table.ipynb\n",
      "Untitled.ipynb\n",
      "pval_filter.py\n"
     ]
    }
   ],
   "source": [
    "%%ding\n",
    "%%bash\n",
    "\n",
    "ls\n"
   ]
  },
  {
   "cell_type": "code",
   "execution_count": 1,
   "metadata": {
    "ExecuteTime": {
     "end_time": "2021-11-07T21:30:48.575874Z",
     "start_time": "2021-11-07T21:30:46.281039Z"
    }
   },
   "outputs": [],
   "source": [
    "import cellbell"
   ]
  },
  {
   "cell_type": "code",
   "execution_count": null,
   "metadata": {},
   "outputs": [],
   "source": []
  }
 ],
 "metadata": {
  "kernelspec": {
   "display_name": "Python 3",
   "language": "python",
   "name": "python3"
  },
  "language_info": {
   "codemirror_mode": {
    "name": "ipython",
    "version": 3
   },
   "file_extension": ".py",
   "mimetype": "text/x-python",
   "name": "python",
   "nbconvert_exporter": "python",
   "pygments_lexer": "ipython3",
   "version": "3.9.5"
  }
 },
 "nbformat": 4,
 "nbformat_minor": 4
}
