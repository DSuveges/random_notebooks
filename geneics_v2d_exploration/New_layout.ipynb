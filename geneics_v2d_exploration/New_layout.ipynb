{
 "cells": [
  {
   "cell_type": "code",
   "execution_count": 1,
   "id": "4f13e929",
   "metadata": {
    "ExecuteTime": {
     "end_time": "2022-05-24T22:22:21.782134Z",
     "start_time": "2022-05-24T22:22:17.531036Z"
    }
   },
   "outputs": [],
   "source": [
    "import pyspark.sql\n",
    "import pyspark.sql.types as t\n",
    "import pyspark.sql.functions as f\n",
    "\n",
    "global spark\n",
    "\n",
    "spark = (pyspark.sql.SparkSession\n",
    "       .builder\n",
    "       .master(\"local[*]\")\n",
    "       .getOrCreate()\n",
    ")"
   ]
  },
  {
   "cell_type": "code",
   "execution_count": 94,
   "id": "14b76d30",
   "metadata": {
    "ExecuteTime": {
     "end_time": "2022-05-27T08:53:34.357214Z",
     "start_time": "2022-05-27T08:53:31.817577Z"
    }
   },
   "outputs": [
    {
     "data": {
      "text/plain": [
       "63052"
      ]
     },
     "execution_count": 94,
     "metadata": {},
     "output_type": "execute_result"
    }
   ],
   "source": [
    "associations = 'gwas_associations_2022-05-27.tsv'\n",
    "studies = 'gwas_studies_new_2022-05-27.tsv'\n",
    "studies_unpublished = 'gwas_unpublished_studies_2022-05-27.tsv'\n",
    "ancestries = 'gwas_ancestries_new_2022-05-27.tsv'\n",
    "ancestries_unpublished = 'gwas_unpublished_ancestries_2022-05-27.tsv'\n",
    "\n",
    "# Read and combine the two ancesty files:\n",
    "ancestries_df = (\n",
    "    spark.read.csv(ancestries, sep='\\t', header=True)\n",
    "    .union(\n",
    "        spark.read.csv(ancestries_unpublished, sep='\\t', header=True)\n",
    "    )\n",
    "    .drop('PUBMED ID', 'FIRST AUTHOR', 'DATE')\n",
    "    .persist()\n",
    ")\n",
    "\n",
    "# Read and combined the two study files:\n",
    "studies_df = (\n",
    "    spark.read.csv(studies, sep='\\t', header=True)\n",
    "    .union(\n",
    "        spark.read.csv(studies_unpublished, sep='\\t', header=True)\n",
    "        .withColumnRenamed('MAPPED_TRAIT_URI', 'MAPPED TRAIT URI')\n",
    "        .withColumnRenamed('MAPPED_TRAIT', 'MAPPED TRAIT')\n",
    "    )\n",
    ")\n",
    "\n",
    "# Group by study id and calculate number:\n",
    "joined = (\n",
    "    studies_df\n",
    "    .join(ancestries_df, how='outer', on='STUDY ACCESSION')\n",
    "    .persist()\n",
    ")\n",
    "\n",
    "joined.count()"
   ]
  },
  {
   "cell_type": "code",
   "execution_count": 95,
   "id": "a10a440d",
   "metadata": {
    "ExecuteTime": {
     "end_time": "2022-05-27T08:53:48.787367Z",
     "start_time": "2022-05-27T08:53:48.396217Z"
    }
   },
   "outputs": [
    {
     "data": {
      "text/plain": [
       "63050"
      ]
     },
     "execution_count": 95,
     "metadata": {},
     "output_type": "execute_result"
    }
   ],
   "source": [
    "DROPPED_STUDIES = [\n",
    "    'GCST005806', # Sun et al pQTL study\n",
    "    'GCST005837' # Huang et al IBD study\n",
    "]\n",
    "\n",
    "(\n",
    "    joined\n",
    "    .filter(~f.col('STUDY ACCESSION').isin(DROPPED_STUDIES))\n",
    "    .count()\n",
    ")"
   ]
  },
  {
   "cell_type": "code",
   "execution_count": 96,
   "id": "6ab689b9",
   "metadata": {
    "ExecuteTime": {
     "end_time": "2022-05-27T08:53:52.707052Z",
     "start_time": "2022-05-27T08:53:52.593542Z"
    }
   },
   "outputs": [
    {
     "data": {
      "text/plain": [
       "['STUDY ACCESSION']"
      ]
     },
     "execution_count": 96,
     "metadata": {},
     "output_type": "execute_result"
    }
   ],
   "source": [
    "ancestries_columns = ancestries_df.columns\n",
    "study_columns = spark.read.csv(studies, sep='\\t', header=True).columns\n",
    "\n",
    "[col for col in ancestries_columns if col in study_columns]"
   ]
  },
  {
   "cell_type": "code",
   "execution_count": 97,
   "id": "284a755f",
   "metadata": {
    "ExecuteTime": {
     "end_time": "2022-05-27T08:53:56.005717Z",
     "start_time": "2022-05-27T08:53:55.963942Z"
    }
   },
   "outputs": [
    {
     "name": "stdout",
     "output_type": "stream",
     "text": [
      "+---------------+--------------------------+------------------------------+---------------------+\n",
      "|STUDY ACCESSION|INITIAL SAMPLE DESCRIPTION|REPLICATION SAMPLE DESCRIPTION|NUMBER OF INDIVIDUALS|\n",
      "+---------------+--------------------------+------------------------------+---------------------+\n",
      "|     GCST009498|      up to 182,902 Eur...|                            NA|               182902|\n",
      "|     GCST009499|      up to 182,902 Eur...|                            NA|               182902|\n",
      "|     GCST009500|      up to 182,902 Eur...|                            NA|               182902|\n",
      "|     GCST009638|      5,321 European an...|          2,237 cases, 3,46...|                 5698|\n",
      "|     GCST009638|      5,321 European an...|          2,237 cases, 3,46...|                21987|\n",
      "|     GCST009637|      1,369 European an...|          422 cases, 3,461 ...|                 3883|\n",
      "|     GCST009637|      1,369 European an...|          422 cases, 3,461 ...|                18035|\n",
      "|     GCST009636|      936 European ance...|          365 cases, 3,461 ...|                 3826|\n",
      "|     GCST009636|      936 European ance...|          365 cases, 3,461 ...|                17602|\n",
      "|     GCST009546|      42 European ances...|                            NA|                 1094|\n",
      "|     GCST009545|      206 European ance...|                            NA|                 1258|\n",
      "|     GCST009614|      2,117 European an...|                            NA|                32832|\n",
      "|     GCST009614|      2,117 European an...|                            NA|                 6002|\n",
      "|     GCST009615|      2,117 European an...|                            NA|                32832|\n",
      "|     GCST009615|      2,117 European an...|                            NA|                 6002|\n",
      "|     GCST009616|      6,878 European an...|                            NA|                37593|\n",
      "|     GCST009616|      6,878 European an...|                            NA|                 9141|\n",
      "|     GCST009617|      6,878 European an...|                            NA|                37593|\n",
      "|     GCST009617|      6,878 European an...|                            NA|                 9141|\n",
      "|     GCST009612|      6,878 European an...|                            NA|                37593|\n",
      "+---------------+--------------------------+------------------------------+---------------------+\n",
      "only showing top 20 rows\n",
      "\n"
     ]
    }
   ],
   "source": [
    "(\n",
    "    ancestries_df\n",
    "    .select('STUDY ACCESSION', 'INITIAL SAMPLE DESCRIPTION', \n",
    "            'REPLICATION SAMPLE DESCRIPTION', 'NUMBER OF INDIVIDUALS')\n",
    "    .show()\n",
    ")\n",
    "# .show(1, False, True)"
   ]
  },
  {
   "cell_type": "code",
   "execution_count": 98,
   "id": "7e908973",
   "metadata": {
    "ExecuteTime": {
     "end_time": "2022-05-27T08:54:03.319253Z",
     "start_time": "2022-05-27T08:54:03.310998Z"
    }
   },
   "outputs": [],
   "source": [
    "import re\n",
    "\n",
    "@f.udf(t.StructType([\n",
    "    t.StructField('n_initial', t.IntegerType()),\n",
    "    t.StructField('n_cases', t.IntegerType())\n",
    "]))\n",
    "def extract_sample_sizes(s):\n",
    "    ''' Extracts sample size info from GWAS Catalog\n",
    "        \"INITIAL SAMPLE SIZE\" field\n",
    "    Returns:\n",
    "        total N, N cases\n",
    "    '''\n",
    "    n_cases = 0\n",
    "    n_controls = 0\n",
    "    n_quant = 0\n",
    "    for part in s.split(', '):\n",
    "        # Extract sample size\n",
    "        mtch = re.search('([0-9,]+)', part)\n",
    "        if mtch:\n",
    "            n = int(mtch.group(1).replace(',', ''))\n",
    "            # Add to correct counter\n",
    "            if 'cases' in part:\n",
    "                n_cases += n\n",
    "            elif 'controls' in part:\n",
    "                n_controls += n\n",
    "            else:\n",
    "                n_quant += n\n",
    "\n",
    "    # Return n_total and n_cases\n",
    "    if n_quant > 0:\n",
    "        return n_quant, 0\n",
    "    else:\n",
    "        return n_cases + n_controls, n_cases\n",
    "\n"
   ]
  },
  {
   "cell_type": "code",
   "execution_count": 109,
   "id": "ce34131a",
   "metadata": {
    "ExecuteTime": {
     "end_time": "2022-05-27T08:58:19.133509Z",
     "start_time": "2022-05-27T08:58:19.089354Z"
    },
    "scrolled": false
   },
   "outputs": [
    {
     "ename": "AnalysisException",
     "evalue": "No such struct field cases in n_initial, n_cases",
     "output_type": "error",
     "traceback": [
      "\u001b[0;31m---------------------------------------------------------------------------\u001b[0m",
      "\u001b[0;31mAnalysisException\u001b[0m                         Traceback (most recent call last)",
      "\u001b[0;32m<ipython-input-109-b5c1f7c1a53a>\u001b[0m in \u001b[0;36m<module>\u001b[0;34m\u001b[0m\n\u001b[1;32m      1\u001b[0m \u001b[0;31m# Parsing samples from\u001b[0m\u001b[0;34m\u001b[0m\u001b[0;34m\u001b[0m\u001b[0;34m\u001b[0m\u001b[0m\n\u001b[1;32m      2\u001b[0m studies_w_samples = (\n\u001b[0;32m----> 3\u001b[0;31m     \u001b[0mstudies_df\u001b[0m\u001b[0;34m\u001b[0m\u001b[0;34m\u001b[0m\u001b[0m\n\u001b[0m\u001b[1;32m      4\u001b[0m     \u001b[0;34m.\u001b[0m\u001b[0mwithColumn\u001b[0m\u001b[0;34m(\u001b[0m\u001b[0;34m'parsedSamples'\u001b[0m\u001b[0;34m,\u001b[0m \u001b[0mextract_sample_sizes\u001b[0m\u001b[0;34m(\u001b[0m\u001b[0mf\u001b[0m\u001b[0;34m.\u001b[0m\u001b[0mcol\u001b[0m\u001b[0;34m(\u001b[0m\u001b[0;34m'INITIAL SAMPLE SIZE'\u001b[0m\u001b[0;34m)\u001b[0m\u001b[0;34m)\u001b[0m\u001b[0;34m)\u001b[0m\u001b[0;34m\u001b[0m\u001b[0;34m\u001b[0m\u001b[0m\n\u001b[1;32m      5\u001b[0m     \u001b[0;34m.\u001b[0m\u001b[0mwithColumn\u001b[0m\u001b[0;34m(\u001b[0m\u001b[0;34m'n_cases'\u001b[0m\u001b[0;34m,\u001b[0m \u001b[0mf\u001b[0m\u001b[0;34m.\u001b[0m\u001b[0mcol\u001b[0m\u001b[0;34m(\u001b[0m\u001b[0;34m'parsedSamples.cases'\u001b[0m\u001b[0;34m)\u001b[0m\u001b[0;34m)\u001b[0m\u001b[0;34m\u001b[0m\u001b[0;34m\u001b[0m\u001b[0m\n",
      "\u001b[0;32m~/opt/anaconda3/envs/jupyter3.9/lib/python3.9/site-packages/pyspark/sql/dataframe.py\u001b[0m in \u001b[0;36mwithColumn\u001b[0;34m(self, colName, col)\u001b[0m\n\u001b[1;32m   2453\u001b[0m         \"\"\"\n\u001b[1;32m   2454\u001b[0m         \u001b[0;32massert\u001b[0m \u001b[0misinstance\u001b[0m\u001b[0;34m(\u001b[0m\u001b[0mcol\u001b[0m\u001b[0;34m,\u001b[0m \u001b[0mColumn\u001b[0m\u001b[0;34m)\u001b[0m\u001b[0;34m,\u001b[0m \u001b[0;34m\"col should be Column\"\u001b[0m\u001b[0;34m\u001b[0m\u001b[0;34m\u001b[0m\u001b[0m\n\u001b[0;32m-> 2455\u001b[0;31m         \u001b[0;32mreturn\u001b[0m \u001b[0mDataFrame\u001b[0m\u001b[0;34m(\u001b[0m\u001b[0mself\u001b[0m\u001b[0;34m.\u001b[0m\u001b[0m_jdf\u001b[0m\u001b[0;34m.\u001b[0m\u001b[0mwithColumn\u001b[0m\u001b[0;34m(\u001b[0m\u001b[0mcolName\u001b[0m\u001b[0;34m,\u001b[0m \u001b[0mcol\u001b[0m\u001b[0;34m.\u001b[0m\u001b[0m_jc\u001b[0m\u001b[0;34m)\u001b[0m\u001b[0;34m,\u001b[0m \u001b[0mself\u001b[0m\u001b[0;34m.\u001b[0m\u001b[0msql_ctx\u001b[0m\u001b[0;34m)\u001b[0m\u001b[0;34m\u001b[0m\u001b[0;34m\u001b[0m\u001b[0m\n\u001b[0m\u001b[1;32m   2456\u001b[0m \u001b[0;34m\u001b[0m\u001b[0m\n\u001b[1;32m   2457\u001b[0m     \u001b[0;32mdef\u001b[0m \u001b[0mwithColumnRenamed\u001b[0m\u001b[0;34m(\u001b[0m\u001b[0mself\u001b[0m\u001b[0;34m,\u001b[0m \u001b[0mexisting\u001b[0m\u001b[0;34m,\u001b[0m \u001b[0mnew\u001b[0m\u001b[0;34m)\u001b[0m\u001b[0;34m:\u001b[0m\u001b[0;34m\u001b[0m\u001b[0;34m\u001b[0m\u001b[0m\n",
      "\u001b[0;32m~/opt/anaconda3/envs/jupyter3.9/lib/python3.9/site-packages/py4j/java_gateway.py\u001b[0m in \u001b[0;36m__call__\u001b[0;34m(self, *args)\u001b[0m\n\u001b[1;32m   1302\u001b[0m \u001b[0;34m\u001b[0m\u001b[0m\n\u001b[1;32m   1303\u001b[0m         \u001b[0manswer\u001b[0m \u001b[0;34m=\u001b[0m \u001b[0mself\u001b[0m\u001b[0;34m.\u001b[0m\u001b[0mgateway_client\u001b[0m\u001b[0;34m.\u001b[0m\u001b[0msend_command\u001b[0m\u001b[0;34m(\u001b[0m\u001b[0mcommand\u001b[0m\u001b[0;34m)\u001b[0m\u001b[0;34m\u001b[0m\u001b[0;34m\u001b[0m\u001b[0m\n\u001b[0;32m-> 1304\u001b[0;31m         return_value = get_return_value(\n\u001b[0m\u001b[1;32m   1305\u001b[0m             answer, self.gateway_client, self.target_id, self.name)\n\u001b[1;32m   1306\u001b[0m \u001b[0;34m\u001b[0m\u001b[0m\n",
      "\u001b[0;32m~/opt/anaconda3/envs/jupyter3.9/lib/python3.9/site-packages/pyspark/sql/utils.py\u001b[0m in \u001b[0;36mdeco\u001b[0;34m(*a, **kw)\u001b[0m\n\u001b[1;32m    115\u001b[0m                 \u001b[0;31m# Hide where the exception came from that shows a non-Pythonic\u001b[0m\u001b[0;34m\u001b[0m\u001b[0;34m\u001b[0m\u001b[0;34m\u001b[0m\u001b[0m\n\u001b[1;32m    116\u001b[0m                 \u001b[0;31m# JVM exception message.\u001b[0m\u001b[0;34m\u001b[0m\u001b[0;34m\u001b[0m\u001b[0;34m\u001b[0m\u001b[0m\n\u001b[0;32m--> 117\u001b[0;31m                 \u001b[0;32mraise\u001b[0m \u001b[0mconverted\u001b[0m \u001b[0;32mfrom\u001b[0m \u001b[0;32mNone\u001b[0m\u001b[0;34m\u001b[0m\u001b[0;34m\u001b[0m\u001b[0m\n\u001b[0m\u001b[1;32m    118\u001b[0m             \u001b[0;32melse\u001b[0m\u001b[0;34m:\u001b[0m\u001b[0;34m\u001b[0m\u001b[0;34m\u001b[0m\u001b[0m\n\u001b[1;32m    119\u001b[0m                 \u001b[0;32mraise\u001b[0m\u001b[0;34m\u001b[0m\u001b[0;34m\u001b[0m\u001b[0m\n",
      "\u001b[0;31mAnalysisException\u001b[0m: No such struct field cases in n_initial, n_cases"
     ]
    }
   ],
   "source": [
    "# Parsing samples from \n",
    "studies_w_samples = (\n",
    "    studies_df\n",
    "    .withColumn('parsedSamples', extract_sample_sizes(f.col('INITIAL SAMPLE SIZE')))\n",
    "    .withColumn('n_cases', f.col('parsedSamples.cases'))\n",
    "    .withColumn('n_initial', f.col('parsedSamples.sampleSize'))\n",
    "    .select('STUDY ACCESSION', 'n_cases', 'n_initial')\n",
    "    .persist()\n",
    ")\n",
    "\n",
    "# 43810 -> 43810\n",
    "studies_w_samples.select('STUDY ACCESSION').distinct().count()"
   ]
  },
  {
   "cell_type": "code",
   "execution_count": 100,
   "id": "e693ec8b",
   "metadata": {
    "ExecuteTime": {
     "end_time": "2022-05-27T08:54:11.592548Z",
     "start_time": "2022-05-27T08:54:10.901581Z"
    }
   },
   "outputs": [
    {
     "data": {
      "text/plain": [
       "43943"
      ]
     },
     "execution_count": 100,
     "metadata": {},
     "output_type": "execute_result"
    }
   ],
   "source": [
    "# Parses sample sizes from ancestry:\n",
    "studies_w_samples_ancestry = (\n",
    "    ancestries_df\n",
    "    .groupBy('STUDY ACCESSION')\n",
    "    .agg(\n",
    "        f.sum('NUMBER OF INDIVIDUALS').cast(t.IntegerType()).alias('n_initial_ancestry'),\n",
    "        f.sum('NUMBER OF CASES').cast(t.IntegerType()).alias('n_cases_ancestry')\n",
    "    )\n",
    "    .persist()\n",
    ")\n",
    "\n",
    "studies_w_samples_ancestry.count()"
   ]
  },
  {
   "cell_type": "code",
   "execution_count": 101,
   "id": "6dbc5694",
   "metadata": {
    "ExecuteTime": {
     "end_time": "2022-05-27T08:54:12.852800Z",
     "start_time": "2022-05-27T08:54:12.420832Z"
    }
   },
   "outputs": [
    {
     "name": "stdout",
     "output_type": "stream",
     "text": [
      "+---------------+------------------+----------------+-------+---------+\n",
      "|STUDY ACCESSION|n_initial_ancestry|n_cases_ancestry|n_cases|n_initial|\n",
      "+---------------+------------------+----------------+-------+---------+\n",
      "|     GCST000101|              1094|            null|      0|     1094|\n",
      "|     GCST000549|              2362|            null|   2362|     2362|\n",
      "|     GCST000926|              1012|            null|      0|      470|\n",
      "|     GCST000994|              7128|            null|    733|     1462|\n",
      "|     GCST000996|              6530|            null|   1717|     6530|\n",
      "|     GCST001229|              2813|            null|    765|     1639|\n",
      "|     GCST001294|              1772|            null|      0|     1772|\n",
      "|     GCST001303|             12347|            null|   2315|    12347|\n",
      "|     GCST001526|             85573|            null|      0|    51750|\n",
      "|     GCST001565|             30518|            null|   2111|     4646|\n",
      "|     GCST001602|               282|            null|    141|      282|\n",
      "|     GCST001791|            143160|            null|      0|   110347|\n",
      "|     GCST001945|              8171|            null|      0|     6151|\n",
      "|     GCST002094|              4753|            null|    532|     1265|\n",
      "|     GCST002515|              1431|            null|    202|      400|\n",
      "|     GCST002704|             10519|            null|      0|     1211|\n",
      "|     GCST002908|              2668|            null|      0|     2668|\n",
      "|     GCST003171|              2513|            null|      0|     2513|\n",
      "|     GCST003328|              1244|            null|    279|      279|\n",
      "|     GCST003381|              6696|            null|      0|     1042|\n",
      "+---------------+------------------+----------------+-------+---------+\n",
      "only showing top 20 rows\n",
      "\n"
     ]
    }
   ],
   "source": [
    "(\n",
    "    studies_w_samples_ancestry\n",
    "    .join(studies_w_samples, on='STUDY ACCESSION', how='outer')\n",
    "    .show()\n",
    ")"
   ]
  },
  {
   "cell_type": "code",
   "execution_count": 102,
   "id": "9ed97a23",
   "metadata": {
    "ExecuteTime": {
     "end_time": "2022-05-27T08:54:13.692505Z",
     "start_time": "2022-05-27T08:54:13.595931Z"
    }
   },
   "outputs": [
    {
     "name": "stdout",
     "output_type": "stream",
     "text": [
      "-RECORD 0--------------------------------------------------------------------------------------------------------------------------------------------------\n",
      " STUDY ACCESSION                         | GCST000994                                                                                                      \n",
      " INITIAL SAMPLE DESCRIPTION              | 733 Japanese ancestry cases, 729 Japanese ancestry controls                                                     \n",
      " REPLICATION SAMPLE DESCRIPTION          | 2,794 Japanese ancestry drinkers, 1,521 Japanese ancestry chance drinkers, 1,351 Japanese ancestry non-drinkers \n",
      " STAGE                                   | replication                                                                                                     \n",
      " NUMBER OF INDIVIDUALS                   | 5666                                                                                                            \n",
      " BROAD ANCESTRAL CATEGORY                | East Asian                                                                                                      \n",
      " COUNTRY OF ORIGIN                       | NR                                                                                                              \n",
      " COUNTRY OF RECRUITMENT                  | Japan                                                                                                           \n",
      " ADDITIONAL ANCESTRY DESCRIPTION         | null                                                                                                            \n",
      " ANCESTRY DESCRIPTOR                     | null                                                                                                            \n",
      " FOUNDER/GENETICALLY ISOLATED POPULATION | null                                                                                                            \n",
      " NUMBER OF CASES                         | null                                                                                                            \n",
      " NUMBER OF CONTROLS                      | null                                                                                                            \n",
      " SAMPLE DESCRIPTION                      | null                                                                                                            \n",
      " COHORT(S)                               | null                                                                                                            \n",
      " COHORT-SPECIFIC REFERENCE               | null                                                                                                            \n",
      "-RECORD 1--------------------------------------------------------------------------------------------------------------------------------------------------\n",
      " STUDY ACCESSION                         | GCST000994                                                                                                      \n",
      " INITIAL SAMPLE DESCRIPTION              | 733 Japanese ancestry cases, 729 Japanese ancestry controls                                                     \n",
      " REPLICATION SAMPLE DESCRIPTION          | 2,794 Japanese ancestry drinkers, 1,521 Japanese ancestry chance drinkers, 1,351 Japanese ancestry non-drinkers \n",
      " STAGE                                   | initial                                                                                                         \n",
      " NUMBER OF INDIVIDUALS                   | 1462                                                                                                            \n",
      " BROAD ANCESTRAL CATEGORY                | East Asian                                                                                                      \n",
      " COUNTRY OF ORIGIN                       | NR                                                                                                              \n",
      " COUNTRY OF RECRUITMENT                  | NR                                                                                                              \n",
      " ADDITIONAL ANCESTRY DESCRIPTION         | null                                                                                                            \n",
      " ANCESTRY DESCRIPTOR                     | null                                                                                                            \n",
      " FOUNDER/GENETICALLY ISOLATED POPULATION | null                                                                                                            \n",
      " NUMBER OF CASES                         | null                                                                                                            \n",
      " NUMBER OF CONTROLS                      | null                                                                                                            \n",
      " SAMPLE DESCRIPTION                      | null                                                                                                            \n",
      " COHORT(S)                               | null                                                                                                            \n",
      " COHORT-SPECIFIC REFERENCE               | null                                                                                                            \n",
      "\n"
     ]
    }
   ],
   "source": [
    "(\n",
    "    ancestries_df\n",
    "    .filter(f.col('STUDY ACCESSION') == 'GCST000994')\n",
    "    .show(2, False, True)\n",
    "#     .count()\n",
    ")"
   ]
  },
  {
   "cell_type": "code",
   "execution_count": 103,
   "id": "b5247c2f",
   "metadata": {
    "ExecuteTime": {
     "end_time": "2022-05-27T08:54:14.648918Z",
     "start_time": "2022-05-27T08:54:14.410816Z"
    }
   },
   "outputs": [
    {
     "name": "stdout",
     "output_type": "stream",
     "text": [
      "-RECORD 0-------------------------------------------------------------------------------------------------------------------------------------------------------------------------\n",
      " DATE ADDED TO CATALOG       | 2011-04-07                                                                                                                                         \n",
      " PUBMED ID                   | 21372407                                                                                                                                           \n",
      " FIRST AUTHOR                | Takeuchi F                                                                                                                                         \n",
      " DATE                        | 2011-03-01                                                                                                                                         \n",
      " JOURNAL                     | Circ J                                                                                                                                             \n",
      " LINK                        | www.ncbi.nlm.nih.gov/pubmed/21372407                                                                                                               \n",
      " STUDY                       | Confirmation of ALDH2 as a Major locus of drinking behavior and of its variants regulating multiple metabolic phenotypes in a Japanese population. \n",
      " DISEASE/TRAIT               | Drinking behavior                                                                                                                                  \n",
      " INITIAL SAMPLE SIZE         | 733 Japanese ancestry cases, 729 Japanese ancestry controls                                                                                        \n",
      " REPLICATION SAMPLE SIZE     | 2,794 Japanese ancestry drinkers, 1,521 Japanese ancestry chance drinkers, 1,351 Japanese ancestry non-drinkers                                    \n",
      " PLATFORM [SNPS PASSING QC]  | Illumina [456827]                                                                                                                                  \n",
      " ASSOCIATION COUNT           | 2                                                                                                                                                  \n",
      " MAPPED_TRAIT                | drinking behavior                                                                                                                                  \n",
      " MAPPED_TRAIT_URI            | http://www.ebi.ac.uk/efo/EFO_0004315                                                                                                               \n",
      " STUDY ACCESSION             | GCST000994                                                                                                                                         \n",
      " GENOTYPING TECHNOLOGY       | Genome-wide genotyping array                                                                                                                       \n",
      " SUMMARY STATS LOCATION      | null                                                                                                                                               \n",
      " SUBMISSION DATE             | null                                                                                                                                               \n",
      " STATISTICAL MODEL           | null                                                                                                                                               \n",
      " BACKGROUND TRAIT            | null                                                                                                                                               \n",
      " MAPPED BACKGROUND TRAIT     | null                                                                                                                                               \n",
      " MAPPED BACKGROUND TRAIT URI | null                                                                                                                                               \n",
      "\n"
     ]
    }
   ],
   "source": [
    "(\n",
    "    studies_df\n",
    "    .filter(f.col('STUDY ACCESSION') == 'GCST000994')\n",
    "    .show(2, False, True)\n",
    ")"
   ]
  },
  {
   "cell_type": "code",
   "execution_count": 107,
   "id": "d266f68e",
   "metadata": {
    "ExecuteTime": {
     "end_time": "2022-05-27T08:57:05.260858Z",
     "start_time": "2022-05-27T08:57:04.896815Z"
    },
    "scrolled": true
   },
   "outputs": [
    {
     "data": {
      "text/plain": [
       "15"
      ]
     },
     "execution_count": 107,
     "metadata": {},
     "output_type": "execute_result"
    }
   ],
   "source": [
    "# There are discrepancies between the study lists...\n",
    "# Studies in study table but not in ancestry:\n",
    "len(\n",
    "    studies_df\n",
    "    .join(ancestries_df, on='STUDY ACCESSION', how='left_anti')\n",
    "    .select('STUDY ACCESSION')\n",
    "    .drop_duplicates()\n",
    "    .toPandas()\n",
    "    ['STUDY ACCESSION']\n",
    "    .to_list()\n",
    ")"
   ]
  },
  {
   "cell_type": "code",
   "execution_count": 108,
   "id": "4e8a0663",
   "metadata": {
    "ExecuteTime": {
     "end_time": "2022-05-27T08:57:52.166323Z",
     "start_time": "2022-05-27T08:57:52.112779Z"
    }
   },
   "outputs": [
    {
     "name": "stdout",
     "output_type": "stream",
     "text": [
      "-RECORD 0------------------------------------------------------------------------------\n",
      " STUDY ACCESSION                         | GCST009498                                  \n",
      " INITIAL SAMPLE DESCRIPTION              | up to 182,902 European ancestry individuals \n",
      " REPLICATION SAMPLE DESCRIPTION          | NA                                          \n",
      " STAGE                                   | initial                                     \n",
      " NUMBER OF INDIVIDUALS                   | 182902                                      \n",
      " BROAD ANCESTRAL CATEGORY                | European                                    \n",
      " COUNTRY OF ORIGIN                       | NR                                          \n",
      " COUNTRY OF RECRUITMENT                  | NR                                          \n",
      " ADDITIONAL ANCESTRY DESCRIPTION         | null                                        \n",
      " ANCESTRY DESCRIPTOR                     | null                                        \n",
      " FOUNDER/GENETICALLY ISOLATED POPULATION | null                                        \n",
      " NUMBER OF CASES                         | null                                        \n",
      " NUMBER OF CONTROLS                      | null                                        \n",
      " SAMPLE DESCRIPTION                      | null                                        \n",
      " COHORT(S)                               | null                                        \n",
      " COHORT-SPECIFIC REFERENCE               | null                                        \n",
      "only showing top 1 row\n",
      "\n"
     ]
    }
   ],
   "source": [
    "(\n",
    "    ancestries_df\n",
    "    .show(1, False, True)\n",
    ")"
   ]
  },
  {
   "cell_type": "code",
   "execution_count": 86,
   "id": "0e949538",
   "metadata": {
    "ExecuteTime": {
     "end_time": "2022-05-26T08:04:42.440533Z",
     "start_time": "2022-05-26T08:04:42.252271Z"
    }
   },
   "outputs": [
    {
     "name": "stdout",
     "output_type": "stream",
     "text": [
      "+----------------------+\n",
      "|SUMMARY STATS LOCATION|\n",
      "+----------------------+\n",
      "|                  null|\n",
      "|                  null|\n",
      "|                  null|\n",
      "|                  null|\n",
      "|                  null|\n",
      "|                  null|\n",
      "|                  null|\n",
      "|                  null|\n",
      "|                  null|\n",
      "|                  null|\n",
      "|                  null|\n",
      "|                  null|\n",
      "|                  null|\n",
      "|                  null|\n",
      "|                  null|\n",
      "|                  null|\n",
      "|                  null|\n",
      "|                  null|\n",
      "|                  null|\n",
      "|                  null|\n",
      "+----------------------+\n",
      "only showing top 20 rows\n",
      "\n"
     ]
    }
   ],
   "source": [
    "studies_df.select('SUMMARY STATS LOCATION').show()"
   ]
  },
  {
   "cell_type": "code",
   "execution_count": 80,
   "id": "6add19b7",
   "metadata": {
    "ExecuteTime": {
     "end_time": "2022-05-26T07:59:16.530097Z",
     "start_time": "2022-05-26T07:59:16.498604Z"
    }
   },
   "outputs": [
    {
     "data": {
      "text/plain": [
       "['FEIRI and ASKLEPIOS case control study / MayoVDB case control study / DEFINE-FMD case control study / UM/CCF-FMD case control study\"']"
      ]
     },
     "execution_count": 80,
     "metadata": {},
     "output_type": "execute_result"
    }
   ],
   "source": [
    "import pandas as pd\n",
    "aids = (\n",
    "    pd.read_csv('gwas_unpublished_ancestries_2022-05-24.tsv', sep='\\t')\n",
    "    .loc[lambda df: df['STUDY ACCESSION'].isin(sudy_only)]\n",
    "    ['STUDY ACCESSION']\n",
    "    .drop_duplicates()\n",
    "    .to_list()\n",
    ")\n",
    "\n",
    "[x for x in sudy_only if x not in aids]"
   ]
  },
  {
   "cell_type": "code",
   "execution_count": 84,
   "id": "ab0528e5",
   "metadata": {
    "ExecuteTime": {
     "end_time": "2022-05-26T08:00:18.127069Z",
     "start_time": "2022-05-26T08:00:17.808541Z"
    }
   },
   "outputs": [
    {
     "data": {
      "text/plain": [
       "['GCST000870', 'GCST000218', 'GCST000768']"
      ]
     },
     "execution_count": 84,
     "metadata": {},
     "output_type": "execute_result"
    }
   ],
   "source": [
    "(\n",
    "    pd.read_csv('gwas_studies_new_2022-05-24.tsv', sep='\\t')\n",
    "    .loc[lambda df: df['STUDY ACCESSION'].isin(ancestry_only)]\n",
    "    ['STUDY ACCESSION']\n",
    "    .drop_duplicates()\n",
    "    .to_list()\n",
    ")"
   ]
  },
  {
   "cell_type": "code",
   "execution_count": 110,
   "id": "c5355dd5",
   "metadata": {
    "ExecuteTime": {
     "end_time": "2022-05-27T08:58:47.640298Z",
     "start_time": "2022-05-27T08:58:47.438987Z"
    }
   },
   "outputs": [
    {
     "name": "stdout",
     "output_type": "stream",
     "text": [
      "GCST009498\t31681408\tYang XL\t2019-10-11\tup to 182,902 European ancestry individuals\tNA\tinitial\t182902\tEuropean\tNR\tNR\t\t\t\t\t\t\t\r\n"
     ]
    }
   ],
   "source": [
    "%%bash\n",
    "\n",
    "\n",
    "grep GCST009498 gwas_ancestries_new_2022-05-27.tsv"
   ]
  },
  {
   "cell_type": "code",
   "execution_count": null,
   "id": "520df275",
   "metadata": {},
   "outputs": [],
   "source": []
  }
 ],
 "metadata": {
  "kernelspec": {
   "display_name": "Python 3",
   "language": "python",
   "name": "python3"
  },
  "language_info": {
   "codemirror_mode": {
    "name": "ipython",
    "version": 3
   },
   "file_extension": ".py",
   "mimetype": "text/x-python",
   "name": "python",
   "nbconvert_exporter": "python",
   "pygments_lexer": "ipython3",
   "version": "3.9.5"
  }
 },
 "nbformat": 4,
 "nbformat_minor": 5
}
