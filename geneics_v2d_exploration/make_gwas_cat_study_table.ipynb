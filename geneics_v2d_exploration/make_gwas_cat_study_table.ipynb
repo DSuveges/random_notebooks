{
 "cells": [
  {
   "cell_type": "code",
   "execution_count": 52,
   "id": "511a3e98",
   "metadata": {
    "ExecuteTime": {
     "end_time": "2022-05-27T08:49:30.698820Z",
     "start_time": "2022-05-27T08:48:53.660357Z"
    }
   },
   "outputs": [
    {
     "name": "stdout",
     "output_type": "stream",
     "text": [
      "-rw-r--r--  1 dsuveges  384566875    11M 27 May 10:49 gwas_ancestries_new_2022-05-27.tsv\n",
      "-rw-r--r--  1 dsuveges  384566875   229M 27 May 10:49 gwas_associations_2022-05-27.tsv\n",
      "-rw-r--r--  1 dsuveges  384566875    19M 27 May 10:49 gwas_studies_new_2022-05-27.tsv\n",
      "-rw-r--r--  1 dsuveges  384566875   741K 27 May 10:49 gwas_unpublished_ancestries_2022-05-27.tsv\n",
      "-rw-r--r--  1 dsuveges  384566875   456K 27 May 10:49 gwas_unpublished_studies_2022-05-27.tsv\n"
     ]
    }
   ],
   "source": [
    "%%bash \n",
    "\n",
    "# Removing all tables that were previously downloaded:\n",
    "rm *tsv\n",
    "\n",
    "# Setting date tag:\n",
    "today=$(date '+%Y-%m-%d')\n",
    "\n",
    "# Fetching associations:\n",
    "wget -q https://www.ebi.ac.uk/gwas/api/search/downloads/alternative \\\n",
    "    -O gwas_associations_${today}.tsv\n",
    "    \n",
    "# Fetching studies:\n",
    "wget -q  https://www.ebi.ac.uk/gwas/api/search/downloads/unpublished_studies    \\\n",
    "    -O gwas_unpublished_studies_${today}.tsv\n",
    "\n",
    "wget -q https://www.ebi.ac.uk/gwas/api/search/downloads/studies_new \\\n",
    "    -O gwas_studies_new_${today}.tsv\n",
    "\n",
    "# Old style study table, not needed anymore\n",
    "# wget -q https://www.ebi.ac.uk/gwas/api/search/downloads/studies_alternative \\\n",
    "#     -O gwas_studies_${today}.tsv\n",
    "\n",
    "# Downloading ancestries:\n",
    "wget -q https://www.ebi.ac.uk/gwas/api/search/downloads/ancestries_new \\\n",
    "    -O gwas_ancestries_new_${today}.tsv\n",
    "\n",
    "wget -q  https://www.ebi.ac.uk/gwas/api/search/downloads/unpublished_ancestries   \\\n",
    "    -O gwas_unpublished_ancestries_${today}.tsv\n",
    "\n",
    "# Also obsoleted dataset\n",
    "# wget -q  https://www.ebi.ac.uk/gwas/api/search/downloads/ancestry    \\\n",
    "#     -O gwas_ancestries_${today}.tsv\n",
    "\n",
    "\n",
    "ls -lah *tsv"
   ]
  },
  {
   "cell_type": "code",
   "execution_count": 45,
   "id": "18611790",
   "metadata": {
    "ExecuteTime": {
     "end_time": "2022-05-24T13:40:13.096092Z",
     "start_time": "2022-05-24T13:40:12.869226Z"
    }
   },
   "outputs": [],
   "source": [
    "import pyspark.sql\n",
    "import pyspark.sql.types as t\n",
    "import pyspark.sql.functions as f\n",
    "\n",
    "global spark\n",
    "\n",
    "spark = (pyspark.sql.SparkSession\n",
    "       .builder\n",
    "       .master(\"local[*]\")\n",
    "       .getOrCreate()\n",
    ")\n",
    "        \n",
    "# Reading GWAS Catalog data into spark dataframe\n",
    "studies = spark.read.csv('gwas_ancestries_new_2022-05-24.tsv', sep='\\t', header=True).persist()\n",
    "ustudies = spark.read.csv('gwas_unpublished_ancestries_2022-05-24.tsv', sep='\\t', header=True).persist()"
   ]
  },
  {
   "cell_type": "code",
   "execution_count": 48,
   "id": "51ecc9f6",
   "metadata": {
    "ExecuteTime": {
     "end_time": "2022-05-24T13:41:03.096575Z",
     "start_time": "2022-05-24T13:41:01.885069Z"
    }
   },
   "outputs": [
    {
     "data": {
      "text/plain": [
       "63037"
      ]
     },
     "execution_count": 48,
     "metadata": {},
     "output_type": "execute_result"
    }
   ],
   "source": [
    "all_studies = (\n",
    "    studies.union(ustudies)\n",
    "    .persist()\n",
    ")\n",
    "\n",
    "all_studies.count()\n",
    "\n"
   ]
  },
  {
   "cell_type": "code",
   "execution_count": 49,
   "id": "83f8dcbc",
   "metadata": {
    "ExecuteTime": {
     "end_time": "2022-05-24T13:41:11.855182Z",
     "start_time": "2022-05-24T13:41:11.790052Z"
    }
   },
   "outputs": [
    {
     "data": {
      "text/plain": [
       "57229"
      ]
     },
     "execution_count": 49,
     "metadata": {},
     "output_type": "execute_result"
    }
   ],
   "source": [
    "studies.count()"
   ]
  },
  {
   "cell_type": "code",
   "execution_count": 50,
   "id": "fe50323e",
   "metadata": {
    "ExecuteTime": {
     "end_time": "2022-05-24T13:41:16.268562Z",
     "start_time": "2022-05-24T13:41:16.215652Z"
    }
   },
   "outputs": [
    {
     "data": {
      "text/plain": [
       "5808"
      ]
     },
     "execution_count": 50,
     "metadata": {},
     "output_type": "execute_result"
    }
   ],
   "source": [
    "ustudies.count()"
   ]
  },
  {
   "cell_type": "code",
   "execution_count": 43,
   "id": "51e923a4",
   "metadata": {
    "ExecuteTime": {
     "end_time": "2022-05-24T13:31:13.973733Z",
     "start_time": "2022-05-24T13:31:13.969521Z"
    }
   },
   "outputs": [
    {
     "data": {
      "text/plain": [
       "['STUDY ACCESSION',\n",
       " 'PUBMED ID',\n",
       " 'FIRST AUTHOR',\n",
       " 'DATE',\n",
       " 'INITIAL SAMPLE DESCRIPTION',\n",
       " 'REPLICATION SAMPLE DESCRIPTION',\n",
       " 'STAGE',\n",
       " 'NUMBER OF INDIVIDUALS',\n",
       " 'BROAD ANCESTRAL CATEGORY',\n",
       " 'COUNTRY OF ORIGIN',\n",
       " 'COUNTRY OF RECRUITMENT',\n",
       " 'ADDITIONAL ANCESTRY DESCRIPTION',\n",
       " 'ANCESTRY DESCRIPTOR',\n",
       " 'FOUNDER/GENETICALLY ISOLATED POPULATION',\n",
       " 'NUMBER OF CASES',\n",
       " 'NUMBER OF CONTROLS',\n",
       " 'SAMPLE DESCRIPTION',\n",
       " 'COHORT(S)',\n",
       " 'COHORT-SPECIFIC REFERENCE']"
      ]
     },
     "execution_count": 43,
     "metadata": {},
     "output_type": "execute_result"
    }
   ],
   "source": [
    "ustudies.columns"
   ]
  },
  {
   "cell_type": "code",
   "execution_count": 55,
   "id": "36b17ca6",
   "metadata": {
    "ExecuteTime": {
     "end_time": "2022-07-04T20:30:36.783849Z",
     "start_time": "2022-07-04T20:30:34.879341Z"
    }
   },
   "outputs": [
    {
     "name": "stdout",
     "output_type": "stream",
     "text": [
      "1 ASMTL\n",
      "200\n",
      "{'data': {'search': {'hits': [{'id': 'ENSG00000169093', 'name': 'ASMTL', 'entity': 'target', 'object': {'associatedDiseases': {'count': 19, 'rows': [{'score': 0.07447034071896741, 'datatypeScores': [{'id': 'literature', 'score': 0.6124902785937083}], 'disease': {'id': 'EFO_0000182', 'name': 'hepatocellular carcinoma'}}, {'score': 0.01626151360612688, 'datatypeScores': [{'id': 'literature', 'score': 0.13374477547455663}], 'disease': {'id': 'EFO_0000637', 'name': 'osteosarcoma'}}, {'score': 0.01626151360612688, 'datatypeScores': [{'id': 'literature', 'score': 0.13374477547455663}], 'disease': {'id': 'MONDO_0009901', 'name': 'Bartsocas-Papas syndrome'}}, {'score': 0.012565715059279862, 'datatypeScores': [{'id': 'literature', 'score': 0.10334823559397559}], 'disease': {'id': 'EFO_0000641', 'name': 'papillary thyroid carcinoma'}}, {'score': 0.010025085627962133, 'datatypeScores': [{'id': 'rna_expression', 'score': 0.08245252311075295}], 'disease': {'id': 'MONDO_0004975', 'name': 'Alzheimer disease'}}, {'score': 0.0073915970936940375, 'datatypeScores': [{'id': 'literature', 'score': 0.06079307976116211}], 'disease': {'id': 'EFO_0000571', 'name': 'lung adenocarcinoma'}}, {'score': 0.007391597093694037, 'datatypeScores': [{'id': 'genetic_association', 'score': 0.012158615952232422}], 'disease': {'id': 'HP_0000786', 'name': 'Primary amenorrhea'}}, {'score': 0.007257515363609846, 'datatypeScores': [{'id': 'rna_expression', 'score': 0.05969030843742791}], 'disease': {'id': 'EFO_0000676', 'name': 'psoriasis'}}, {'score': 0.005543697820270528, 'datatypeScores': [{'id': 'literature', 'score': 0.045594809820871586}], 'disease': {'id': 'EFO_0000311', 'name': 'cancer'}}, {'score': 0.0051741179655858255, 'datatypeScores': [{'id': 'literature', 'score': 0.04255515583281348}], 'disease': {'id': 'MONDO_0007254', 'name': 'breast cancer'}}, {'score': 0.0051535857514366755, 'datatypeScores': [{'id': 'literature', 'score': 0.04238628616681025}], 'disease': {'id': 'EFO_0000616', 'name': 'neoplasm'}}, {'score': 0.004656257838323272, 'datatypeScores': [{'id': 'rna_expression', 'score': 0.03829595289970768}], 'disease': {'id': 'EFO_0000335', 'name': 'chromophobe renal cell carcinoma'}}, {'score': 0.0044349582562164215, 'datatypeScores': [{'id': 'literature', 'score': 0.03647584785669726}], 'disease': {'id': 'EFO_0000220', 'name': 'acute lymphoblastic leukemia'}}, {'score': 0.004303093454560087, 'datatypeScores': [{'id': 'rna_expression', 'score': 0.035391309927590923}], 'disease': {'id': 'MONDO_0019499', 'name': 'Turner syndrome'}}, {'score': 0.0036957985468470188, 'datatypeScores': [{'id': 'literature', 'score': 0.030396539880581056}], 'disease': {'id': 'EFO_0003758', 'name': 'autism'}}, {'score': 0.0029566388374776143, 'datatypeScores': [{'id': 'literature', 'score': 0.024317231904464845}], 'disease': {'id': 'MONDO_0010979', 'name': 'Timothy syndrome'}}, {'score': 0.0022174791281082107, 'datatypeScores': [{'id': 'literature', 'score': 0.01823792392834863}], 'disease': {'id': 'EFO_0000222', 'name': 'acute myeloid leukemia'}}, {'score': 0.0019485817032345641, 'datatypeScores': [{'id': 'rna_expression', 'score': 0.016026344699840513}], 'disease': {'id': 'EFO_0000272', 'name': 'astrocytoma'}}, {'score': 0.0014783194187388072, 'datatypeScores': [{'id': 'literature', 'score': 0.012158615952232422}], 'disease': {'id': 'EFO_0004248', 'name': 'male infertility'}}]}}}, {'id': 'ENSG00000236017', 'name': 'ASMTL-AS1', 'entity': 'target', 'object': {'associatedDiseases': {'count': 7, 'rows': [{'score': 0.05248033936522765, 'datatypeScores': [{'id': 'literature', 'score': 0.43163086630425096}], 'disease': {'id': 'EFO_0000182', 'name': 'hepatocellular carcinoma'}}, {'score': 0.0073915970936940375, 'datatypeScores': [{'id': 'literature', 'score': 0.06079307976116211}], 'disease': {'id': 'EFO_0000571', 'name': 'lung adenocarcinoma'}}, {'score': 0.006652437384324632, 'datatypeScores': [{'id': 'literature', 'score': 0.0547137717850459}], 'disease': {'id': 'EFO_0000637', 'name': 'osteosarcoma'}}, {'score': 0.005376907710003588, 'datatypeScores': [{'id': 'rna_expression', 'score': 0.04422302448837808}], 'disease': {'id': 'EFO_0001663', 'name': 'prostate carcinoma'}}, {'score': 0.0036957985468470188, 'datatypeScores': [{'id': 'literature', 'score': 0.030396539880581056}], 'disease': {'id': 'MONDO_0007254', 'name': 'breast cancer'}}, {'score': 0.0029566388374776143, 'datatypeScores': [{'id': 'literature', 'score': 0.024317231904464845}], 'disease': {'id': 'EFO_0000311', 'name': 'cancer'}}, {'score': 0.00143452263828544, 'datatypeScores': [{'id': 'rna_expression', 'score': 0.01179840406113041}], 'disease': {'id': 'EFO_0008511', 'name': 'metopic craniosynostosis'}}]}}}]}}}\n",
      "ENSG00000169093\n",
      "ASMTL\n",
      "19\n",
      "count                                                   19\n",
      "rows     {'score': 0.07447034071896741, 'datatypeScores...\n",
      "Name: 0, dtype: object\n",
      "2 BCAS3\n",
      "200\n",
      "{'data': {'search': {'hits': [{'id': 'ENSG00000141376', 'name': 'BCAS3', 'entity': 'target', 'object': {'associatedDiseases': {'count': 79, 'rows': [{'score': 0.41652001527882343, 'datatypeScores': [{'id': 'genetic_association', 'score': 0.6851437974769603}], 'disease': {'id': 'EFO_0005192', 'name': 'red blood cell distribution width'}}, {'score': 0.4063994911606153, 'datatypeScores': [{'id': 'genetic_association', 'score': 0.6684963037852956}], 'disease': {'id': 'HP_0001263', 'name': 'Global developmental delay'}}, {'score': 0.39963469995316714, 'datatypeScores': [{'id': 'genetic_association', 'score': 0.6573687359206225}], 'disease': {'id': 'EFO_0005208', 'name': 'glomerular filtration rate'}}, {'score': 0.3936447611252147, 'datatypeScores': [{'id': 'genetic_association', 'score': 0.6475157413832753}], 'disease': {'id': 'EFO_0004509', 'name': 'hemoglobin measurement'}}, {'score': 0.38032784634426714, 'datatypeScores': [{'id': 'genetic_association', 'score': 0.6256104277632617}], 'disease': {'id': 'EFO_0004518', 'name': 'creatinine measurement'}}, {'score': 0.3695798546847018, 'datatypeScores': [{'id': 'genetic_association', 'score': 0.607930797611621}], 'disease': {'id': 'MONDO_0060596', 'name': 'neurodevelopmental disorder with dysmorphic facies and distal limb anomalies'}}, {'score': 0.3638146669720333, 'datatypeScores': [{'id': 'genetic_association', 'score': 0.5984475015928666}], 'disease': {'id': 'EFO_0004309', 'name': 'platelet count'}}, {'score': 0.3624953719188364, 'datatypeScores': [{'id': 'genetic_association', 'score': 0.5962773614085233}], 'disease': {'id': 'EFO_0010972', 'name': 'blood phosphate measurement'}}, {'score': 0.3507432827743798, 'datatypeScores': [{'id': 'genetic_association', 'score': 0.5769460671384731}], 'disease': {'id': 'EFO_0009270', 'name': 'heel bone mineral density'}}, {'score': 0.3500674915785774, 'datatypeScores': [{'id': 'genetic_association', 'score': 0.5758344419362997}], 'disease': {'id': 'EFO_0004741', 'name': 'blood urea nitrogen measurement'}}, {'score': 0.3498137806478145, 'datatypeScores': [{'id': 'genetic_association', 'score': 0.5754171067202527}], 'disease': {'id': 'EFO_0004514', 'name': 'bone quantitative ultrasound measurement'}}, {'score': 0.34781798058186986, 'datatypeScores': [{'id': 'literature', 'score': 0.09693118828585293}, {'id': 'genetic_association', 'score': 0.5672876077447706}], 'disease': {'id': 'EFO_0001645', 'name': 'coronary artery disease'}}, {'score': 0.33038360747851037, 'datatypeScores': [{'id': 'genetic_association', 'score': 0.5434559472500639}], 'disease': {'id': 'EFO_0004348', 'name': 'hematocrit'}}, {'score': 0.3255022593370572, 'datatypeScores': [{'id': 'genetic_association', 'score': 0.5354265002132784}], 'disease': {'id': 'EFO_0006335', 'name': 'systolic blood pressure'}}, {'score': 0.3167770852932425, 'datatypeScores': [{'id': 'genetic_association', 'score': 0.5210742514407318}], 'disease': {'id': 'EFO_0004305', 'name': 'erythrocyte count'}}, {'score': 0.31276689433939087, 'datatypeScores': [{'id': 'genetic_association', 'score': 0.5144777918278837}], 'disease': {'id': 'MONDO_0004892', 'name': 'refractive error'}}, {'score': 0.3089492177860423, 'datatypeScores': [{'id': 'genetic_association', 'score': 0.5081980037856475}], 'disease': {'id': 'EFO_0004695', 'name': 'intraocular pressure measurement'}}, {'score': 0.3020036781524144, 'datatypeScores': [{'id': 'genetic_association', 'score': 0.49677311848469735}], 'disease': {'id': 'EFO_0004696', 'name': 'sex hormone-binding globulin measurement'}}, {'score': 0.2877299665632947, 'datatypeScores': [{'id': 'genetic_association', 'score': 0.47329394676778996}], 'disease': {'id': 'EFO_0006336', 'name': 'diastolic blood pressure'}}, {'score': 0.287168810137215, 'datatypeScores': [{'id': 'genetic_association', 'score': 0.4723708870572369}], 'disease': {'id': 'EFO_0003923', 'name': 'bone density'}}, {'score': 0.2551830305355484, 'datatypeScores': [{'id': 'genetic_association', 'score': 0.4197567083919526}], 'disease': {'id': 'EFO_0006940', 'name': 'optic cup area measurement'}}, {'score': 0.25017561954026796, 'datatypeScores': [{'id': 'genetic_association', 'score': 0.4115198975329649}], 'disease': {'id': 'EFO_0004528', 'name': 'mean corpuscular hemoglobin concentration'}}, {'score': 0.24952567699468395, 'datatypeScores': [{'id': 'genetic_association', 'score': 0.4104507913976327}], 'disease': {'id': 'EFO_0007978', 'name': 'red blood cell density measurement'}}, {'score': 0.23798456751873534, 'datatypeScores': [{'id': 'genetic_association', 'score': 0.3914665426619375}], 'disease': {'id': 'EFO_0004713', 'name': 'FEV/FEC ratio'}}, {'score': 0.22911635952838086, 'datatypeScores': [{'id': 'genetic_association', 'score': 0.3768790139083441}], 'disease': {'id': 'EFO_0007800', 'name': 'body fat percentage'}}]}}}, {'id': 'ENSG00000267449', 'name': 'ENSG00000267449', 'entity': 'target', 'object': {'associatedDiseases': {'count': 0, 'rows': []}}}, {'id': 'ENSG00000267131', 'name': 'ENSG00000267131', 'entity': 'target', 'object': {'associatedDiseases': {'count': 0, 'rows': []}}}, {'id': 'ENSG00000273982', 'name': 'ENSG00000273982', 'entity': 'target', 'object': {'associatedDiseases': {'count': 0, 'rows': []}}}, {'id': 'ENSG00000286997', 'name': 'ENSG00000286997', 'entity': 'target', 'object': {'associatedDiseases': {'count': 0, 'rows': []}}}, {'id': 'ENSG00000267207', 'name': 'ENSG00000267207', 'entity': 'target', 'object': {'associatedDiseases': {'count': 0, 'rows': []}}}, {'id': 'ENSG00000266934', 'name': 'ENSG00000266934', 'entity': 'target', 'object': {'associatedDiseases': {'count': 0, 'rows': []}}}]}}}\n",
      "ENSG00000141376\n",
      "BCAS3\n",
      "79\n",
      "count                                                   79\n",
      "rows     {'score': 0.41652001527882343, 'datatypeScores...\n",
      "Name: 0, dtype: object\n",
      "3 DHX37\n",
      "200\n",
      "{'data': {'search': {'hits': [{'id': 'ENSG00000150990', 'name': 'DHX37', 'entity': 'target', 'object': {'associatedDiseases': {'count': 47, 'rows': [{'score': 0.7046465661364054, 'datatypeScores': [{'id': 'genetic_association', 'score': 0.8515763965432486}], 'disease': {'id': 'MONDO_0032888', 'name': 'neurodevelopmental disorder with brain anomalies and with or without vertebral or cardiac anomalies'}}, {'score': 0.6634803311572581, 'datatypeScores': [{'id': 'literature', 'score': 0.07421821820841874}, {'id': 'genetic_association', 'score': 0.7662071547314497}], 'disease': {'id': 'Orphanet_983', 'name': 'Testicular regression syndrome'}}, {'score': 0.43610422852794806, 'datatypeScores': [{'id': 'genetic_association', 'score': 0.5738866729453702}], 'disease': {'id': 'MONDO_0010765', 'name': '46,XY complete gonadal dysgenesis'}}, {'score': 0.3914803942482202, 'datatypeScores': [{'id': 'literature', 'score': 0.012158615952232422}, {'id': 'genetic_association', 'score': 0.643347591420098}], 'disease': {'id': 'EFO_0003847', 'name': 'intellectual disability'}}, {'score': 0.3911108143935355, 'datatypeScores': [{'id': 'genetic_association', 'score': 0.643347591420098}], 'disease': {'id': 'HP_0001249', 'name': 'Intellectual disability'}}, {'score': 0.3911108143935355, 'datatypeScores': [{'id': 'genetic_association', 'score': 0.643347591420098}], 'disease': {'id': 'HP_0012758', 'name': 'Neurodevelopmental delay'}}, {'score': 0.38809383598794606, 'datatypeScores': [{'id': 'genetic_association', 'score': 0.6383848910314317}], 'disease': {'id': 'EFO_0010642', 'name': 'Neurodevelopmental disorder'}}, {'score': 0.3695798546847018, 'datatypeScores': [{'id': 'genetic_association', 'score': 0.607930797611621}], 'disease': {'id': 'MONDO_0016674', 'name': '46,XY partial gonadal dysgenesis'}}, {'score': 0.3521274726579242, 'datatypeScores': [{'id': 'genetic_association', 'score': 0.5792229543910723}], 'disease': {'id': 'HP_0001250', 'name': 'Seizure'}}, {'score': 0.3326218692162316, 'datatypeScores': [{'id': 'genetic_association', 'score': 0.547137717850459}], 'disease': {'id': 'HP_0012443', 'name': 'Abnormality of brain morphology'}}, {'score': 0.26797780764020845, 'datatypeScores': [{'id': 'genetic_association', 'score': 0.44080314518200653}], 'disease': {'id': 'EFO_0001421', 'name': 'liver disease'}}, {'score': 0.25870589827929125, 'datatypeScores': [{'id': 'genetic_association', 'score': 0.42555155832813474}], 'disease': {'id': 'Orphanet_35737', 'name': 'Morning glory syndrome'}}, {'score': 0.25870589827929125, 'datatypeScores': [{'id': 'genetic_association', 'score': 0.42555155832813474}], 'disease': {'id': 'MONDO_0007354', 'name': 'coloboma of optic nerve'}}, {'score': 0.25870589827929125, 'datatypeScores': [{'id': 'genetic_association', 'score': 0.42555155832813474}], 'disease': {'id': 'Orphanet_35981', 'name': 'Polymicrogyria'}}, {'score': 0.25870589827929125, 'datatypeScores': [{'id': 'genetic_association', 'score': 0.42555155832813474}], 'disease': {'id': 'HP_0002269', 'name': 'Abnormality of neuronal migration'}}, {'score': 0.2534073364461908, 'datatypeScores': [{'id': 'genetic_association', 'score': 0.41683582644891937}], 'disease': {'id': 'EFO_0004612', 'name': 'high density lipoprotein cholesterol measurement'}}, {'score': 0.09957667201222765, 'datatypeScores': [{'id': 'affected_pathway', 'score': 0.3275921285890918}], 'disease': {'id': 'MONDO_0011962', 'name': 'endometrial cancer'}}, {'score': 0.09264135024096526, 'datatypeScores': [{'id': 'literature', 'score': 0.7619399330065652}], 'disease': {'id': 'EFO_0000311', 'name': 'cancer'}}, {'score': 0.05617613791207468, 'datatypeScores': [{'id': 'literature', 'score': 0.462027406184832}], 'disease': {'id': 'EFO_0000616', 'name': 'neoplasm'}}, {'score': 0.051544122355392935, 'datatypeScores': [{'id': 'genetic_association', 'score': 0.08478616736953355}], 'disease': {'id': 'EFO_0009700', 'name': 'visual perception measurement'}}, {'score': 0.03418613655833492, 'datatypeScores': [{'id': 'literature', 'score': 0.2811679938953748}], 'disease': {'id': 'EFO_0000571', 'name': 'lung adenocarcinoma'}}, {'score': 0.017185463242838636, 'datatypeScores': [{'id': 'literature', 'score': 0.1413439104447019}], 'disease': {'id': 'EFO_0000618', 'name': 'nervous system disease'}}, {'score': 0.016631093460811583, 'datatypeScores': [{'id': 'literature', 'score': 0.13678442946261474}], 'disease': {'id': 'HP_0000252', 'name': 'Microcephaly'}}, {'score': 0.009239496367117545, 'datatypeScores': [{'id': 'literature', 'score': 0.07599134970145263}], 'disease': {'id': 'EFO_1000796', 'name': 'adrenal cortex carcinoma'}}, {'score': 0.008315546730405791, 'datatypeScores': [{'id': 'literature', 'score': 0.06839221473130737}], 'disease': {'id': 'EFO_0000691', 'name': 'sarcoma'}}]}}}]}}}\n",
      "ENSG00000150990\n",
      "DHX37\n",
      "47\n",
      "count                                                   47\n",
      "rows     {'score': 0.7046465661364054, 'datatypeScores'...\n"
     ]
    },
    {
     "name": "stdout",
     "output_type": "stream",
     "text": [
      "Name: 0, dtype: object\n"
     ]
    },
    {
     "ename": "IndexError",
     "evalue": "index 0 is out of bounds for axis 0 with size 0",
     "output_type": "error",
     "traceback": [
      "\u001b[0;31m---------------------------------------------------------------------------\u001b[0m",
      "\u001b[0;31mIndexError\u001b[0m                                Traceback (most recent call last)",
      "\u001b[0;32m<ipython-input-55-33f931f074f3>\u001b[0m in \u001b[0;36m<module>\u001b[0;34m\u001b[0m\n\u001b[1;32m     39\u001b[0m \u001b[0mcolScnt\u001b[0m\u001b[0;34m=\u001b[0m\u001b[0mcolS\u001b[0m\u001b[0;34m[\u001b[0m\u001b[0;34m'disease'\u001b[0m\u001b[0;34m]\u001b[0m\u001b[0;34m.\u001b[0m\u001b[0mvalue_counts\u001b[0m\u001b[0;34m(\u001b[0m\u001b[0;34m)\u001b[0m\u001b[0;34m\u001b[0m\u001b[0;34m\u001b[0m\u001b[0m\n\u001b[1;32m     40\u001b[0m \u001b[0mcolScnt\u001b[0m\u001b[0;34m.\u001b[0m\u001b[0mto_csv\u001b[0m\u001b[0;34m(\u001b[0m\u001b[0;34m\"openTargetResultsCount.csv\"\u001b[0m\u001b[0;34m)\u001b[0m\u001b[0;34m\u001b[0m\u001b[0;34m\u001b[0m\u001b[0m\n\u001b[0;32m---> 41\u001b[0;31m \u001b[0mcolScnt\u001b[0m\u001b[0;34m[\u001b[0m\u001b[0mcolScnt\u001b[0m\u001b[0;34m>\u001b[0m\u001b[0;36m50\u001b[0m\u001b[0;34m]\u001b[0m\u001b[0;34m.\u001b[0m\u001b[0mplot\u001b[0m\u001b[0;34m(\u001b[0m\u001b[0mkind\u001b[0m\u001b[0;34m=\u001b[0m\u001b[0;34m\"barh\"\u001b[0m\u001b[0;34m)\u001b[0m\u001b[0;34m.\u001b[0m\u001b[0mfigure\u001b[0m\u001b[0;34m.\u001b[0m\u001b[0msavefig\u001b[0m\u001b[0;34m(\u001b[0m\u001b[0;34m\"openTargetResult50D.svg\"\u001b[0m\u001b[0;34m,\u001b[0m\u001b[0mdpi\u001b[0m\u001b[0;34m=\u001b[0m\u001b[0;36m100\u001b[0m\u001b[0;34m,\u001b[0m\u001b[0mbbox_inches\u001b[0m \u001b[0;34m=\u001b[0m \u001b[0;34m\"tight\"\u001b[0m\u001b[0;34m)\u001b[0m\u001b[0;34m\u001b[0m\u001b[0;34m\u001b[0m\u001b[0m\n\u001b[0m\u001b[1;32m     42\u001b[0m \u001b[0mneoplasmL\u001b[0m\u001b[0;34m=\u001b[0m\u001b[0mset\u001b[0m\u001b[0;34m(\u001b[0m\u001b[0mcolS\u001b[0m\u001b[0;34m[\u001b[0m\u001b[0mcolS\u001b[0m\u001b[0;34m[\u001b[0m\u001b[0;34m'disease'\u001b[0m\u001b[0;34m]\u001b[0m\u001b[0;34m==\u001b[0m\u001b[0;34m'neoplasm'\u001b[0m\u001b[0;34m]\u001b[0m\u001b[0;34m.\u001b[0m\u001b[0mID\u001b[0m\u001b[0;34m)\u001b[0m\u001b[0;34m\u001b[0m\u001b[0;34m\u001b[0m\u001b[0m\n\u001b[1;32m     43\u001b[0m \u001b[0mcancerL\u001b[0m\u001b[0;34m=\u001b[0m\u001b[0mset\u001b[0m\u001b[0;34m(\u001b[0m\u001b[0mcolS\u001b[0m\u001b[0;34m[\u001b[0m\u001b[0mcolS\u001b[0m\u001b[0;34m[\u001b[0m\u001b[0;34m'disease'\u001b[0m\u001b[0;34m]\u001b[0m\u001b[0;34m==\u001b[0m\u001b[0;34m'cancer'\u001b[0m\u001b[0;34m]\u001b[0m\u001b[0;34m.\u001b[0m\u001b[0mID\u001b[0m\u001b[0;34m)\u001b[0m\u001b[0;34m\u001b[0m\u001b[0;34m\u001b[0m\u001b[0m\n",
      "\u001b[0;32m~/opt/anaconda3/envs/jupyter3.9/lib/python3.9/site-packages/pandas/plotting/_core.py\u001b[0m in \u001b[0;36m__call__\u001b[0;34m(self, *args, **kwargs)\u001b[0m\n\u001b[1;32m    970\u001b[0m                     \u001b[0mdata\u001b[0m\u001b[0;34m.\u001b[0m\u001b[0mcolumns\u001b[0m \u001b[0;34m=\u001b[0m \u001b[0mlabel_name\u001b[0m\u001b[0;34m\u001b[0m\u001b[0;34m\u001b[0m\u001b[0m\n\u001b[1;32m    971\u001b[0m \u001b[0;34m\u001b[0m\u001b[0m\n\u001b[0;32m--> 972\u001b[0;31m         \u001b[0;32mreturn\u001b[0m \u001b[0mplot_backend\u001b[0m\u001b[0;34m.\u001b[0m\u001b[0mplot\u001b[0m\u001b[0;34m(\u001b[0m\u001b[0mdata\u001b[0m\u001b[0;34m,\u001b[0m \u001b[0mkind\u001b[0m\u001b[0;34m=\u001b[0m\u001b[0mkind\u001b[0m\u001b[0;34m,\u001b[0m \u001b[0;34m**\u001b[0m\u001b[0mkwargs\u001b[0m\u001b[0;34m)\u001b[0m\u001b[0;34m\u001b[0m\u001b[0;34m\u001b[0m\u001b[0m\n\u001b[0m\u001b[1;32m    973\u001b[0m \u001b[0;34m\u001b[0m\u001b[0m\n\u001b[1;32m    974\u001b[0m     \u001b[0m__call__\u001b[0m\u001b[0;34m.\u001b[0m\u001b[0m__doc__\u001b[0m \u001b[0;34m=\u001b[0m \u001b[0m__doc__\u001b[0m\u001b[0;34m\u001b[0m\u001b[0;34m\u001b[0m\u001b[0m\n",
      "\u001b[0;32m~/opt/anaconda3/envs/jupyter3.9/lib/python3.9/site-packages/pandas/plotting/_matplotlib/__init__.py\u001b[0m in \u001b[0;36mplot\u001b[0;34m(data, kind, **kwargs)\u001b[0m\n\u001b[1;32m     69\u001b[0m             \u001b[0mkwargs\u001b[0m\u001b[0;34m[\u001b[0m\u001b[0;34m\"ax\"\u001b[0m\u001b[0;34m]\u001b[0m \u001b[0;34m=\u001b[0m \u001b[0mgetattr\u001b[0m\u001b[0;34m(\u001b[0m\u001b[0max\u001b[0m\u001b[0;34m,\u001b[0m \u001b[0;34m\"left_ax\"\u001b[0m\u001b[0;34m,\u001b[0m \u001b[0max\u001b[0m\u001b[0;34m)\u001b[0m\u001b[0;34m\u001b[0m\u001b[0;34m\u001b[0m\u001b[0m\n\u001b[1;32m     70\u001b[0m     \u001b[0mplot_obj\u001b[0m \u001b[0;34m=\u001b[0m \u001b[0mPLOT_CLASSES\u001b[0m\u001b[0;34m[\u001b[0m\u001b[0mkind\u001b[0m\u001b[0;34m]\u001b[0m\u001b[0;34m(\u001b[0m\u001b[0mdata\u001b[0m\u001b[0;34m,\u001b[0m \u001b[0;34m**\u001b[0m\u001b[0mkwargs\u001b[0m\u001b[0;34m)\u001b[0m\u001b[0;34m\u001b[0m\u001b[0;34m\u001b[0m\u001b[0m\n\u001b[0;32m---> 71\u001b[0;31m     \u001b[0mplot_obj\u001b[0m\u001b[0;34m.\u001b[0m\u001b[0mgenerate\u001b[0m\u001b[0;34m(\u001b[0m\u001b[0;34m)\u001b[0m\u001b[0;34m\u001b[0m\u001b[0;34m\u001b[0m\u001b[0m\n\u001b[0m\u001b[1;32m     72\u001b[0m     \u001b[0mplot_obj\u001b[0m\u001b[0;34m.\u001b[0m\u001b[0mdraw\u001b[0m\u001b[0;34m(\u001b[0m\u001b[0;34m)\u001b[0m\u001b[0;34m\u001b[0m\u001b[0;34m\u001b[0m\u001b[0m\n\u001b[1;32m     73\u001b[0m     \u001b[0;32mreturn\u001b[0m \u001b[0mplot_obj\u001b[0m\u001b[0;34m.\u001b[0m\u001b[0mresult\u001b[0m\u001b[0;34m\u001b[0m\u001b[0;34m\u001b[0m\u001b[0m\n",
      "\u001b[0;32m~/opt/anaconda3/envs/jupyter3.9/lib/python3.9/site-packages/pandas/plotting/_matplotlib/core.py\u001b[0m in \u001b[0;36mgenerate\u001b[0;34m(self)\u001b[0m\n\u001b[1;32m    334\u001b[0m         \u001b[0;32mfor\u001b[0m \u001b[0max\u001b[0m \u001b[0;32min\u001b[0m \u001b[0mself\u001b[0m\u001b[0;34m.\u001b[0m\u001b[0maxes\u001b[0m\u001b[0;34m:\u001b[0m\u001b[0;34m\u001b[0m\u001b[0;34m\u001b[0m\u001b[0m\n\u001b[1;32m    335\u001b[0m             \u001b[0mself\u001b[0m\u001b[0;34m.\u001b[0m\u001b[0m_post_plot_logic_common\u001b[0m\u001b[0;34m(\u001b[0m\u001b[0max\u001b[0m\u001b[0;34m,\u001b[0m \u001b[0mself\u001b[0m\u001b[0;34m.\u001b[0m\u001b[0mdata\u001b[0m\u001b[0;34m)\u001b[0m\u001b[0;34m\u001b[0m\u001b[0;34m\u001b[0m\u001b[0m\n\u001b[0;32m--> 336\u001b[0;31m             \u001b[0mself\u001b[0m\u001b[0;34m.\u001b[0m\u001b[0m_post_plot_logic\u001b[0m\u001b[0;34m(\u001b[0m\u001b[0max\u001b[0m\u001b[0;34m,\u001b[0m \u001b[0mself\u001b[0m\u001b[0;34m.\u001b[0m\u001b[0mdata\u001b[0m\u001b[0;34m)\u001b[0m\u001b[0;34m\u001b[0m\u001b[0;34m\u001b[0m\u001b[0m\n\u001b[0m\u001b[1;32m    337\u001b[0m \u001b[0;34m\u001b[0m\u001b[0m\n\u001b[1;32m    338\u001b[0m     \u001b[0;32mdef\u001b[0m \u001b[0m_args_adjust\u001b[0m\u001b[0;34m(\u001b[0m\u001b[0mself\u001b[0m\u001b[0;34m)\u001b[0m\u001b[0;34m:\u001b[0m\u001b[0;34m\u001b[0m\u001b[0;34m\u001b[0m\u001b[0m\n",
      "\u001b[0;32m~/opt/anaconda3/envs/jupyter3.9/lib/python3.9/site-packages/pandas/plotting/_matplotlib/core.py\u001b[0m in \u001b[0;36m_post_plot_logic\u001b[0;34m(self, ax, data)\u001b[0m\n\u001b[1;32m   1575\u001b[0m         \u001b[0mname\u001b[0m \u001b[0;34m=\u001b[0m \u001b[0mself\u001b[0m\u001b[0;34m.\u001b[0m\u001b[0m_get_index_name\u001b[0m\u001b[0;34m(\u001b[0m\u001b[0;34m)\u001b[0m\u001b[0;34m\u001b[0m\u001b[0;34m\u001b[0m\u001b[0m\n\u001b[1;32m   1576\u001b[0m \u001b[0;34m\u001b[0m\u001b[0m\n\u001b[0;32m-> 1577\u001b[0;31m         \u001b[0ms_edge\u001b[0m \u001b[0;34m=\u001b[0m \u001b[0mself\u001b[0m\u001b[0;34m.\u001b[0m\u001b[0max_pos\u001b[0m\u001b[0;34m[\u001b[0m\u001b[0;36m0\u001b[0m\u001b[0;34m]\u001b[0m \u001b[0;34m-\u001b[0m \u001b[0;36m0.25\u001b[0m \u001b[0;34m+\u001b[0m \u001b[0mself\u001b[0m\u001b[0;34m.\u001b[0m\u001b[0mlim_offset\u001b[0m\u001b[0;34m\u001b[0m\u001b[0;34m\u001b[0m\u001b[0m\n\u001b[0m\u001b[1;32m   1578\u001b[0m         \u001b[0me_edge\u001b[0m \u001b[0;34m=\u001b[0m \u001b[0mself\u001b[0m\u001b[0;34m.\u001b[0m\u001b[0max_pos\u001b[0m\u001b[0;34m[\u001b[0m\u001b[0;34m-\u001b[0m\u001b[0;36m1\u001b[0m\u001b[0;34m]\u001b[0m \u001b[0;34m+\u001b[0m \u001b[0;36m0.25\u001b[0m \u001b[0;34m+\u001b[0m \u001b[0mself\u001b[0m\u001b[0;34m.\u001b[0m\u001b[0mbar_width\u001b[0m \u001b[0;34m+\u001b[0m \u001b[0mself\u001b[0m\u001b[0;34m.\u001b[0m\u001b[0mlim_offset\u001b[0m\u001b[0;34m\u001b[0m\u001b[0;34m\u001b[0m\u001b[0m\n\u001b[1;32m   1579\u001b[0m \u001b[0;34m\u001b[0m\u001b[0m\n",
      "\u001b[0;31mIndexError\u001b[0m: index 0 is out of bounds for axis 0 with size 0"
     ]
    },
    {
     "data": {
      "image/png": "[encoded data removed]",
      "text/plain": [
       "<Figure size 432x288 with 1 Axes>"
      ]
     },
     "metadata": {
      "needs_background": "light"
     },
     "output_type": "display_data"
    }
   ],
   "source": [
    "import requests\n",
    "import json\n",
    "import pandas as pd\n",
    "colS=pd.DataFrame(columns=[\"ID\",\"name\",\"score\",\"count\", \"rows\"])\n",
    "cntG=0;\n",
    "for gene_id in genList.split():\n",
    "    cntG=cntG+1\n",
    "    print(cntG,gene_id)\n",
    "    query_string = \"query assocs {search(queryString:\\\"\"+gene_id+\"\\\", entityNames:\\\"target\\\"){hits {id,name,entity,object { ... on Target {associatedDiseases {count rows {score datatypeScores{ id score}disease {id name}}}}}}}}\"\n",
    "    base_url = \"https://api.platform.opentargets.org/api/v4/graphql\"\n",
    "    r = requests.post(base_url, json={\"query\": query_string})\n",
    "    print(r.status_code)\n",
    "    if r.status_code==200:\n",
    "        api_response = json.loads(r.text)\n",
    "        print(api_response)\n",
    "        iD=api_response['data']['search']['hits'][0]['id']\n",
    "        print(iD)\n",
    "        iG=api_response['data']['search']['hits'][0]['name']\n",
    "        print(iG)\n",
    "        dC=api_response['data']['search']['hits'][0]['object']['associatedDiseases']['count']\n",
    "        print(dC)\n",
    "        if(dC>0): dS=api_response['data']['search']['hits'][0]['object']['associatedDiseases']['rows'][0]['score']\n",
    "        aD=api_response['data']['search']['hits'][0]['object']['associatedDiseases']#['rows'][0]['datatypeScores']\n",
    "        #print(aD)\n",
    "        dataOIDP=pd.DataFrame(aD,columns=[\"count\",\"rows\"])\n",
    "        if(dataOIDP.empty==False): print(dataOIDP.iloc[0])\n",
    "        dataOIDP[\"ID\"]=iD\n",
    "        dataOIDP[\"name\"]=iG\n",
    "        dataOIDP[\"score\"]=dS\n",
    "        colS=pd.concat([colS,dataOIDP])\n",
    "#print(colS)\n",
    "colSs=colS['rows'].astype('str').str.split(',').str[0]\n",
    "colSs=colSs.astype('str').str.split(':').str[1]\n",
    "colSd=colS['rows'].astype('str').str.split(',').str[-1]\n",
    "colSd=colSd.astype('str').str.split('\\'').str[3]\n",
    "colS[\"dDcore\"]=colSs\n",
    "colS[\"disease\"]=colSd\n",
    "colS.to_csv(\"openTargetResults.csv\")\n",
    "colScnt=colS['disease'].value_counts()\n",
    "colScnt.to_csv(\"openTargetResultsCount.csv\")\n",
    "colScnt[colScnt>50].plot(kind=\"barh\").figure.savefig(\"openTargetResult50D.svg\",dpi=100,bbox_inches = \"tight\")\n",
    "neoplasmL=set(colS[colS['disease']=='neoplasm'].ID)\n",
    "cancerL=set(colS[colS['disease']=='cancer'].ID)\n",
    "diffLnc=neoplasmL-cancerL\n",
    "diffLcn=cancerL-neoplasmL\n",
    "commonL=neoplasmL.intersection(cancerL)\n",
    "print(len(commonL),len(diffLnc),len(diffLcn))"
   ]
  },
  {
   "cell_type": "code",
   "execution_count": 54,
   "id": "b92d401e",
   "metadata": {
    "ExecuteTime": {
     "end_time": "2022-07-04T20:30:32.895877Z",
     "start_time": "2022-07-04T20:30:32.893010Z"
    }
   },
   "outputs": [],
   "source": [
    "genList=\"\"\"\n",
    "ASMTL\n",
    "BCAS3\n",
    "DHX37\n",
    "\"\"\""
   ]
  },
  {
   "cell_type": "code",
   "execution_count": 61,
   "id": "d2600f1e",
   "metadata": {
    "ExecuteTime": {
     "end_time": "2022-07-04T21:02:37.644782Z",
     "start_time": "2022-07-04T21:02:37.628245Z"
    }
   },
   "outputs": [
    {
     "data": {
      "text/html": [
       "<div>\n",
       "<style scoped>\n",
       "    .dataframe tbody tr th:only-of-type {\n",
       "        vertical-align: middle;\n",
       "    }\n",
       "\n",
       "    .dataframe tbody tr th {\n",
       "        vertical-align: top;\n",
       "    }\n",
       "\n",
       "    .dataframe thead th {\n",
       "        text-align: right;\n",
       "    }\n",
       "</style>\n",
       "<table border=\"1\" class=\"dataframe\">\n",
       "  <thead>\n",
       "    <tr style=\"text-align: right;\">\n",
       "      <th></th>\n",
       "      <th>id</th>\n",
       "      <th>symbol</th>\n",
       "      <th>description</th>\n",
       "      <th>seq_region_name</th>\n",
       "      <th>start</th>\n",
       "      <th>end</th>\n",
       "    </tr>\n",
       "  </thead>\n",
       "  <tbody>\n",
       "  </tbody>\n",
       "</table>\n",
       "</div>"
      ],
      "text/plain": [
       "Empty DataFrame\n",
       "Columns: [id, symbol, description, seq_region_name, start, end]\n",
       "Index: []"
      ]
     },
     "execution_count": 61,
     "metadata": {},
     "output_type": "execute_result"
    }
   ],
   "source": [
    "COLUMNS = {\n",
    "        'id': 'targetId',\n",
    "        'symbol': 'display_name',\n",
    "        'description': 'description',\n",
    "        'seq_region_name': 'chromosome',\n",
    "        'start': 'start',\n",
    "        'end': 'end',\n",
    "    }\n",
    "\n",
    "pd.DataFrame(columns=COLUMNS.keys())"
   ]
  },
  {
   "cell_type": "code",
   "execution_count": 63,
   "id": "53e3f086",
   "metadata": {
    "ExecuteTime": {
     "end_time": "2022-07-04T21:09:44.823360Z",
     "start_time": "2022-07-04T21:09:44.810359Z"
    }
   },
   "outputs": [
    {
     "data": {
      "text/html": [
       "<div>\n",
       "<style scoped>\n",
       "    .dataframe tbody tr th:only-of-type {\n",
       "        vertical-align: middle;\n",
       "    }\n",
       "\n",
       "    .dataframe tbody tr th {\n",
       "        vertical-align: top;\n",
       "    }\n",
       "\n",
       "    .dataframe thead th {\n",
       "        text-align: right;\n",
       "    }\n",
       "</style>\n",
       "<table border=\"1\" class=\"dataframe\">\n",
       "  <thead>\n",
       "    <tr style=\"text-align: right;\">\n",
       "      <th></th>\n",
       "      <th>cica</th>\n",
       "    </tr>\n",
       "  </thead>\n",
       "  <tbody>\n",
       "    <tr>\n",
       "      <th>0</th>\n",
       "      <td>12</td>\n",
       "    </tr>\n",
       "    <tr>\n",
       "      <th>1</th>\n",
       "      <td>4</td>\n",
       "    </tr>\n",
       "    <tr>\n",
       "      <th>2</th>\n",
       "      <td>132</td>\n",
       "    </tr>\n",
       "  </tbody>\n",
       "</table>\n",
       "</div>"
      ],
      "text/plain": [
       "   cica\n",
       "0    12\n",
       "1     4\n",
       "2   132"
      ]
     },
     "execution_count": 63,
     "metadata": {},
     "output_type": "execute_result"
    }
   ],
   "source": [
    "x = pd.DataFrame([{'a': 12, 'b':21},{'a': 4} , {'a': 132, 'b':211}])\n",
    "b = {'a': 'cica'}\n",
    "x[b.keys()].rename(columns=b)"
   ]
  },
  {
   "cell_type": "code",
   "execution_count": 67,
   "id": "3627fdd4",
   "metadata": {
    "ExecuteTime": {
     "end_time": "2022-07-04T21:12:07.629601Z",
     "start_time": "2022-07-04T21:12:07.624948Z"
    }
   },
   "outputs": [
    {
     "name": "stdout",
     "output_type": "stream",
     "text": [
      "{\"symbols\": [\"a\", \"b\"]}\n"
     ]
    }
   ],
   "source": [
    "import json\n",
    "gene_list = ['a', 'b']\n",
    "print(json.dumps({'symbols': gene_list}))"
   ]
  },
  {
   "cell_type": "code",
   "execution_count": null,
   "id": "1f158e1a",
   "metadata": {},
   "outputs": [],
   "source": []
  }
 ],
 "metadata": {
  "kernelspec": {
   "display_name": "Python 3",
   "language": "python",
   "name": "python3"
  },
  "language_info": {
   "codemirror_mode": {
    "name": "ipython",
    "version": 3
   },
   "file_extension": ".py",
   "mimetype": "text/x-python",
   "name": "python",
   "nbconvert_exporter": "python",
   "pygments_lexer": "ipython3",
   "version": "3.9.5"
  }
 },
 "nbformat": 4,
 "nbformat_minor": 5
}
