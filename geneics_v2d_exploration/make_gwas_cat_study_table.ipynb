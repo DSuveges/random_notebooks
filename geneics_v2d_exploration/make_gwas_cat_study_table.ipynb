{
 "cells": [
  {
   "cell_type": "code",
   "execution_count": 52,
   "id": "5b1ce97e",
   "metadata": {
    "ExecuteTime": {
     "end_time": "2022-05-27T08:49:30.698820Z",
     "start_time": "2022-05-27T08:48:53.660357Z"
    }
   },
   "outputs": [
    {
     "name": "stdout",
     "output_type": "stream",
     "text": [
      "-rw-r--r--  1 dsuveges  384566875    11M 27 May 10:49 gwas_ancestries_new_2022-05-27.tsv\n",
      "-rw-r--r--  1 dsuveges  384566875   229M 27 May 10:49 gwas_associations_2022-05-27.tsv\n",
      "-rw-r--r--  1 dsuveges  384566875    19M 27 May 10:49 gwas_studies_new_2022-05-27.tsv\n",
      "-rw-r--r--  1 dsuveges  384566875   741K 27 May 10:49 gwas_unpublished_ancestries_2022-05-27.tsv\n",
      "-rw-r--r--  1 dsuveges  384566875   456K 27 May 10:49 gwas_unpublished_studies_2022-05-27.tsv\n"
     ]
    }
   ],
   "source": [
    "%%bash \n",
    "\n",
    "# Removing all tables that were previously downloaded:\n",
    "rm *tsv\n",
    "\n",
    "# Setting date tag:\n",
    "today=$(date '+%Y-%m-%d')\n",
    "\n",
    "# Fetching associations:\n",
    "wget -q https://www.ebi.ac.uk/gwas/api/search/downloads/alternative \\\n",
    "    -O gwas_associations_${today}.tsv\n",
    "    \n",
    "# Fetching studies:\n",
    "wget -q  https://www.ebi.ac.uk/gwas/api/search/downloads/unpublished_studies    \\\n",
    "    -O gwas_unpublished_studies_${today}.tsv\n",
    "\n",
    "wget -q https://www.ebi.ac.uk/gwas/api/search/downloads/studies_new \\\n",
    "    -O gwas_studies_new_${today}.tsv\n",
    "\n",
    "# Old style study table, not needed anymore\n",
    "# wget -q https://www.ebi.ac.uk/gwas/api/search/downloads/studies_alternative \\\n",
    "#     -O gwas_studies_${today}.tsv\n",
    "\n",
    "# Downloading ancestries:\n",
    "wget -q https://www.ebi.ac.uk/gwas/api/search/downloads/ancestries_new \\\n",
    "    -O gwas_ancestries_new_${today}.tsv\n",
    "\n",
    "wget -q  https://www.ebi.ac.uk/gwas/api/search/downloads/unpublished_ancestries   \\\n",
    "    -O gwas_unpublished_ancestries_${today}.tsv\n",
    "\n",
    "# Also obsoleted dataset\n",
    "# wget -q  https://www.ebi.ac.uk/gwas/api/search/downloads/ancestry    \\\n",
    "#     -O gwas_ancestries_${today}.tsv\n",
    "\n",
    "\n",
    "ls -lah *tsv"
   ]
  },
  {
   "cell_type": "code",
   "execution_count": 45,
   "id": "c37fbc5b",
   "metadata": {
    "ExecuteTime": {
     "end_time": "2022-05-24T13:40:13.096092Z",
     "start_time": "2022-05-24T13:40:12.869226Z"
    }
   },
   "outputs": [],
   "source": [
    "import pyspark.sql\n",
    "import pyspark.sql.types as t\n",
    "import pyspark.sql.functions as f\n",
    "\n",
    "global spark\n",
    "\n",
    "spark = (pyspark.sql.SparkSession\n",
    "       .builder\n",
    "       .master(\"local[*]\")\n",
    "       .getOrCreate()\n",
    ")\n",
    "        \n",
    "# Reading GWAS Catalog data into spark dataframe\n",
    "studies = spark.read.csv('gwas_ancestries_new_2022-05-24.tsv', sep='\\t', header=True).persist()\n",
    "ustudies = spark.read.csv('gwas_unpublished_ancestries_2022-05-24.tsv', sep='\\t', header=True).persist()"
   ]
  },
  {
   "cell_type": "code",
   "execution_count": 48,
   "id": "a6ec5645",
   "metadata": {
    "ExecuteTime": {
     "end_time": "2022-05-24T13:41:03.096575Z",
     "start_time": "2022-05-24T13:41:01.885069Z"
    }
   },
   "outputs": [
    {
     "data": {
      "text/plain": [
       "63037"
      ]
     },
     "execution_count": 48,
     "metadata": {},
     "output_type": "execute_result"
    }
   ],
   "source": [
    "all_studies = (\n",
    "    studies.union(ustudies)\n",
    "    .persist()\n",
    ")\n",
    "\n",
    "all_studies.count()\n",
    "\n"
   ]
  },
  {
   "cell_type": "code",
   "execution_count": 49,
   "id": "22445122",
   "metadata": {
    "ExecuteTime": {
     "end_time": "2022-05-24T13:41:11.855182Z",
     "start_time": "2022-05-24T13:41:11.790052Z"
    }
   },
   "outputs": [
    {
     "data": {
      "text/plain": [
       "57229"
      ]
     },
     "execution_count": 49,
     "metadata": {},
     "output_type": "execute_result"
    }
   ],
   "source": [
    "studies.count()"
   ]
  },
  {
   "cell_type": "code",
   "execution_count": 50,
   "id": "44e79692",
   "metadata": {
    "ExecuteTime": {
     "end_time": "2022-05-24T13:41:16.268562Z",
     "start_time": "2022-05-24T13:41:16.215652Z"
    }
   },
   "outputs": [
    {
     "data": {
      "text/plain": [
       "5808"
      ]
     },
     "execution_count": 50,
     "metadata": {},
     "output_type": "execute_result"
    }
   ],
   "source": [
    "ustudies.count()"
   ]
  },
  {
   "cell_type": "code",
   "execution_count": 43,
   "id": "5fc50cb0",
   "metadata": {
    "ExecuteTime": {
     "end_time": "2022-05-24T13:31:13.973733Z",
     "start_time": "2022-05-24T13:31:13.969521Z"
    }
   },
   "outputs": [
    {
     "data": {
      "text/plain": [
       "['STUDY ACCESSION',\n",
       " 'PUBMED ID',\n",
       " 'FIRST AUTHOR',\n",
       " 'DATE',\n",
       " 'INITIAL SAMPLE DESCRIPTION',\n",
       " 'REPLICATION SAMPLE DESCRIPTION',\n",
       " 'STAGE',\n",
       " 'NUMBER OF INDIVIDUALS',\n",
       " 'BROAD ANCESTRAL CATEGORY',\n",
       " 'COUNTRY OF ORIGIN',\n",
       " 'COUNTRY OF RECRUITMENT',\n",
       " 'ADDITIONAL ANCESTRY DESCRIPTION',\n",
       " 'ANCESTRY DESCRIPTOR',\n",
       " 'FOUNDER/GENETICALLY ISOLATED POPULATION',\n",
       " 'NUMBER OF CASES',\n",
       " 'NUMBER OF CONTROLS',\n",
       " 'SAMPLE DESCRIPTION',\n",
       " 'COHORT(S)',\n",
       " 'COHORT-SPECIFIC REFERENCE']"
      ]
     },
     "execution_count": 43,
     "metadata": {},
     "output_type": "execute_result"
    }
   ],
   "source": [
    "ustudies.columns"
   ]
  },
  {
   "cell_type": "code",
   "execution_count": null,
   "id": "dc87a842",
   "metadata": {},
   "outputs": [],
   "source": []
  }
 ],
 "metadata": {
  "kernelspec": {
   "display_name": "Python 3",
   "language": "python",
   "name": "python3"
  },
  "language_info": {
   "codemirror_mode": {
    "name": "ipython",
    "version": 3
   },
   "file_extension": ".py",
   "mimetype": "text/x-python",
   "name": "python",
   "nbconvert_exporter": "python",
   "pygments_lexer": "ipython3",
   "version": "3.9.5"
  }
 },
 "nbformat": 4,
 "nbformat_minor": 5
}
