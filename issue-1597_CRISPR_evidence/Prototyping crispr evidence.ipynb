{
 "cells": [
  {
   "cell_type": "markdown",
   "metadata": {},
   "source": [
    "# Gerating CRISPR evidence\n",
    "\n",
    "* Study and data files stored in google bucket.\n",
    "* Study table contains study level annotation + points to the correct file.\n",
    "* location: `gs://ot-team/dsuveges/CRISPR_screens/*`\n",
    "\n",
    "## Process\n",
    "\n",
    "1. Fetching files\n",
    "2. Reading study file\n",
    "3. Looping through every rows/every study:\n",
    "    * Read data file.\n",
    "    * Select hits - genes that reach significance level\n",
    "    * Do this on both tails of the distribution - whichever is indicated in the study file\n",
    "    * Pool hits together\n",
    "    * Explode annotated diseases\n",
    "    * Map diseases to EFO\n",
    "4. Pool formatted data into single dataframe\n",
    "5. Save as `json.gz`"
   ]
  },
  {
   "cell_type": "code",
   "execution_count": 9,
   "metadata": {
    "ExecuteTime": {
     "end_time": "2021-06-14T21:58:26.508528Z",
     "start_time": "2021-06-14T21:58:23.427335Z"
    }
   },
   "outputs": [
    {
     "name": "stdout",
     "output_type": "stream",
     "text": [
      "total 3608\n",
      "drwxrwxr-x   6 dsuveges  384566875   192B 14 Jun 22:58 .\n",
      "drwxrwxr-x  48 dsuveges  384566875   1.5K 14 Jun 22:27 ..\n",
      "drwxrwxr-x   3 dsuveges  384566875    96B 14 Jun 22:28 .ipynb_checkpoints\n",
      "-rw-rw-r--   1 dsuveges  384566875   1.7M 14 Jun 22:58 OTAR036_Screen4_5_NEGPOSvBFP.gene_summary.tsv\n",
      "-rw-rw-r--   1 dsuveges  384566875   429B 14 Jun 22:58 OTAR_crispr_studies.tsv\n",
      "-rw-rw-r--   1 dsuveges  384566875    14K 14 Jun 22:58 Prototyping crispr evidence.ipynb\n"
     ]
    },
    {
     "name": "stderr",
     "output_type": "stream",
     "text": [
      "Copying gs://ot-team/dsuveges/CRISPR_screens/OTAR036_Screen4_5_NEGPOSvBFP.gene_summary.tsv...\n",
      "/ [0 files][    0.0 B/  1.7 MiB]                                                \r",
      "-\r",
      "- [1 files][  1.7 MiB/  1.7 MiB]                                                \r",
      "Copying gs://ot-team/dsuveges/CRISPR_screens/OTAR_crispr_studies.tsv...\n",
      "- [1 files][  1.7 MiB/  1.7 MiB]                                                \r",
      "- [2 files][  1.7 MiB/  1.7 MiB]                                                \r\n",
      "Operation completed over 2 objects/1.7 MiB.                                      \n"
     ]
    }
   ],
   "source": [
    "%%bash\n",
    "\n",
    "gsutil cp -r gs://ot-team/dsuveges/CRISPR_screens/* .\n",
    "ls -lah"
   ]
  },
  {
   "cell_type": "code",
   "execution_count": 1,
   "metadata": {
    "ExecuteTime": {
     "end_time": "2021-06-15T07:12:24.088078Z",
     "start_time": "2021-06-15T07:12:18.220824Z"
    },
    "code_folding": [
     12,
     66
    ]
   },
   "outputs": [],
   "source": [
    "import pandas as pd\n",
    "import gzip\n",
    "import json\n",
    "import ontoma\n",
    "import logging\n",
    "\n",
    "\n",
    "class disease_map(object):\n",
    "\n",
    "    def __init__(self):\n",
    "        self.ontoma = ontoma.interface.OnToma()\n",
    "\n",
    "    def map_disease(self, disease_name):\n",
    "        logging.info(f\"Mapping '{disease_name}'\")\n",
    "\n",
    "        # Search disease name using OnToma and accept perfect matches\n",
    "        ontoma_mapping = self.ontoma.find_term(disease_name, verbose=True)\n",
    "\n",
    "        # If there's some mapping available:\n",
    "        if ontoma_mapping:\n",
    "\n",
    "            # Extracting term if no action is required:\n",
    "            if ontoma_mapping['action'] is None:\n",
    "                return ontoma_mapping['term'].split('/')[-1]\n",
    "\n",
    "            # When there is an exact match, but action is required:\n",
    "            elif ontoma_mapping['quality'] == \"match\":\n",
    "\n",
    "                # Match in HP or ORDO, check if there is a match in MONDO too. If so, give preference to MONDO hit\n",
    "                mondo_mapping = self.search_mondo(disease_name)\n",
    "\n",
    "                if mondo_mapping:\n",
    "                    # Mondo mapping good - return\n",
    "                    if mondo_mapping['exact']:\n",
    "                        return mondo_mapping['term'].split('/')[-1]\n",
    "                    # Mondo mapping bad - return ontoma\n",
    "                    else:\n",
    "                        return ontoma_mapping['term'].split('/')[-1]\n",
    "                else:\n",
    "                    # Mondo mapping bad - return ontoma\n",
    "                    return ontoma_mapping['term'].split('/')[-1]\n",
    "\n",
    "            else:\n",
    "\n",
    "                # xref search didn't work, try MONDO as the last resort\n",
    "                mondo_mapping = self.search_mondo(disease_name)\n",
    "                if mondo_mapping:\n",
    "                    if mondo_mapping['exact']:\n",
    "                        return mondo_mapping['term'].split('/')[-1]\n",
    "                    else:\n",
    "                        return None\n",
    "                else:\n",
    "                    # Record the unmapped disease\n",
    "                    return None\n",
    "\n",
    "        else:\n",
    "            # No match in EFO, HP or ORDO\n",
    "            mondo_mapping = self.search_mondo(disease_name)\n",
    "            if mondo_mapping:\n",
    "                if mondo_mapping['exact']:\n",
    "                    return mondo_mapping['term'].split('/')[-1]\n",
    "                else:\n",
    "                    return None\n",
    "            else:\n",
    "                return None\n",
    "            \n",
    "    def search_mondo(self, disease_name):\n",
    "\n",
    "        disease_name = disease_name.lower()\n",
    "\n",
    "        # mondo_lookup works like a dictionary lookup so if disease is not in there it raises and error instead of returning `None`\n",
    "        try:\n",
    "            mondo_term = self.ontoma.mondo_lookup(disease_name)\n",
    "            return {\n",
    "                'id': mondo_term, \n",
    "                'name': self.ontoma.get_mondo_label(mondo_term),\n",
    "                'exact': True\n",
    "            }\n",
    "        except KeyError as e:\n",
    "            exact_ols_mondo = self.ontoma._ols.besthit(disease_name,\n",
    "                                                       ontology=['mondo'], field_list=['iri', 'label'], exact=True)\n",
    "\n",
    "            if exact_ols_mondo:\n",
    "                return {'term': exact_ols_mondo['iri'], 'name': exact_ols_mondo['label'], 'exact':True}\n",
    "\n",
    "            else:\n",
    "                ols_mondo = self.ontoma._ols.besthit(disease_name,\n",
    "                                                     ontology=['mondo'],\n",
    "                                                     field_list=['iri', 'label'],\n",
    "                                                     bytype='class')\n",
    "                if ols_mondo:\n",
    "                    return {'term': ols_mondo['iri'], 'name': ols_mondo['label'], 'exact': False}\n",
    "                else:\n",
    "                    return None\n",
    "            "
   ]
  },
  {
   "cell_type": "markdown",
   "metadata": {},
   "source": [
    "## Study file:"
   ]
  },
  {
   "cell_type": "code",
   "execution_count": 32,
   "metadata": {
    "ExecuteTime": {
     "end_time": "2021-06-15T08:47:59.038572Z",
     "start_time": "2021-06-15T08:47:57.870225Z"
    },
    "code_folding": []
   },
   "outputs": [
    {
     "name": "stderr",
     "output_type": "stream",
     "text": [
      "INFO     - ontoma.downloaders - ZOOMA to EFO mappings - Parsed 3663 rows\n",
      "INFO:ontoma.downloaders:ZOOMA to EFO mappings - Parsed 3663 rows\n",
      "INFO     - ontoma.downloaders - OMIM to EFO mappings - Parsed 8561 rows\n",
      "INFO:ontoma.downloaders:OMIM to EFO mappings - Parsed 8561 rows\n"
     ]
    },
    {
     "data": {
      "text/plain": [
       "studyName                                                                                  OTAR036_TAU_uptake_1\n",
       "description           Comparison of functional populations of iPSC neurons based on their ability to take up...\n",
       "diseases              Neurodegeneration|Dementia|Tauopathy(ies)|Alzheimer’s Disease|Frontotemporal dementia|...\n",
       "cellTypes                                                                                  iPSC derived neurons\n",
       "cellLineBackground                                                                                          NaN\n",
       "lowerTail                                                                                                 False\n",
       "upperTail                                                                                                  True\n",
       "threshold                                                                                                  0.01\n",
       "dataFile                                                          OTAR036_Screen4_5_NEGPOSvBFP.gene_summary.tsv\n",
       "Name: 0, dtype: object"
      ]
     },
     "execution_count": 32,
     "metadata": {},
     "output_type": "execute_result"
    }
   ],
   "source": [
    "\n",
    "# Initialize disease mapping:\n",
    "dm = disease_map()\n",
    "\n",
    "# tsv file with study level information:\n",
    "study_file = 'OTAR_crispr_studies.tsv'\n",
    "\n",
    "# Read study file:\n",
    "study_df = pd.read_csv(study_file, sep='\\t')\n",
    "\n",
    "pd.set_option('display.max_columns', None)  \n",
    "pd.set_option('display.width', 200)\n",
    "pd.set_option('display.max_colwidth', 90)\n",
    "\n",
    "study_df.iloc[0]"
   ]
  },
  {
   "cell_type": "markdown",
   "metadata": {},
   "source": [
    "### Study file:"
   ]
  },
  {
   "cell_type": "code",
   "execution_count": 5,
   "metadata": {
    "ExecuteTime": {
     "end_time": "2021-06-15T07:22:16.616482Z",
     "start_time": "2021-06-15T07:22:16.576378Z"
    }
   },
   "outputs": [
    {
     "name": "stdout",
     "output_type": "stream",
     "text": [
      "        id  num  neg|score  neg|p-value   neg|fdr  neg|rank  neg|goodsgrna  \\\n",
      "0     PIGF    5   0.000005     0.000026  0.463696         1              5   \n",
      "1   sgSGK1    5   0.000013     0.000058  0.463696         2              5   \n",
      "2    CDCA3    4   0.000020     0.000069  0.463696         3              3   \n",
      "3  sgRAD21    5   0.000029     0.000130  0.654703         4              4   \n",
      "4  sgRPL19    5   0.000052     0.000246  0.766520         5              4   \n",
      "\n",
      "   neg|lfc  pos|score  pos|p-value   pos|fdr  pos|rank  pos|goodsgrna  pos|lfc  \n",
      "0 -6.12980    0.99999      1.00000  0.999995     20081              0 -6.12980  \n",
      "1 -6.39920    0.99999      0.99999  0.999995     20080              0 -6.39920  \n",
      "2 -0.87142    0.94927      0.94914  0.999795     19056              0 -0.87142  \n",
      "3 -7.27630    0.24794      0.45240  0.999795      9006              1 -7.27630  \n",
      "4 -8.09340    0.96851      0.96859  0.999795     19435              0 -8.09340  \n",
      "|               | 0                  |\n",
      "|:--------------|:-------------------|\n",
      "| id            | PIGF               |\n",
      "| num           | 5                  |\n",
      "| neg|score     | 5.45e-06           |\n",
      "| neg|p-value   | 2.59e-05           |\n",
      "| neg|fdr       | 0.463696           |\n",
      "| neg|rank      | 1                  |\n",
      "| neg|goodsgrna | 5                  |\n",
      "| neg|lfc       | -6.1298            |\n",
      "| pos|score     | 0.9999899999999999 |\n",
      "| pos|p-value   | 1.0                |\n",
      "| pos|fdr       | 0.9999950000000001 |\n",
      "| pos|rank      | 20081              |\n",
      "| pos|goodsgrna | 0                  |\n",
      "| pos|lfc       | -6.1298            |\n"
     ]
    }
   ],
   "source": [
    "data_file = study_df.dataFile[0]\n",
    "data = pd.read_csv(data_file, sep='\\t')\n",
    "print(data.head())\n",
    "print(data.iloc[0].to_markdown())"
   ]
  },
  {
   "cell_type": "code",
   "execution_count": 192,
   "metadata": {
    "ExecuteTime": {
     "end_time": "2021-08-10T08:16:59.115479Z",
     "start_time": "2021-08-10T08:16:59.056277Z"
    },
    "code_folding": []
   },
   "outputs": [
    {
     "ename": "FileNotFoundError",
     "evalue": "[Errno 2] No such file or directory: 'Screen4_5_NEGPOSvPOSPOS.gene_summary.txt'",
     "output_type": "error",
     "traceback": [
      "\u001b[0;31m---------------------------------------------------------------------------\u001b[0m",
      "\u001b[0;31mFileNotFoundError\u001b[0m                         Traceback (most recent call last)",
      "\u001b[0;32m<ipython-input-192-388356d936fd>\u001b[0m in \u001b[0;36m<module>\u001b[0;34m\u001b[0m\n\u001b[1;32m     81\u001b[0m hits_list = (\n\u001b[1;32m     82\u001b[0m     \u001b[0;31m# Processing data:\u001b[0m\u001b[0;34m\u001b[0m\u001b[0;34m\u001b[0m\u001b[0;34m\u001b[0m\u001b[0m\n\u001b[0;32m---> 83\u001b[0;31m     \u001b[0mstudy_df\u001b[0m\u001b[0;34m.\u001b[0m\u001b[0mapply\u001b[0m\u001b[0;34m(\u001b[0m\u001b[0mprocess_study\u001b[0m\u001b[0;34m,\u001b[0m \u001b[0maxis\u001b[0m\u001b[0;34m=\u001b[0m\u001b[0;36m1\u001b[0m\u001b[0;34m)\u001b[0m\u001b[0;34m\u001b[0m\u001b[0;34m\u001b[0m\u001b[0m\n\u001b[0m\u001b[1;32m     84\u001b[0m \u001b[0;34m\u001b[0m\u001b[0m\n\u001b[1;32m     85\u001b[0m     \u001b[0;31m# Dropping studies with no hits:\u001b[0m\u001b[0;34m\u001b[0m\u001b[0;34m\u001b[0m\u001b[0;34m\u001b[0m\u001b[0m\n",
      "\u001b[0;32m~/opt/anaconda3/envs/jupyter/lib/python3.6/site-packages/pandas/core/frame.py\u001b[0m in \u001b[0;36mapply\u001b[0;34m(self, func, axis, raw, result_type, args, **kwds)\u001b[0m\n\u001b[1;32m   7539\u001b[0m             \u001b[0mkwds\u001b[0m\u001b[0;34m=\u001b[0m\u001b[0mkwds\u001b[0m\u001b[0;34m,\u001b[0m\u001b[0;34m\u001b[0m\u001b[0;34m\u001b[0m\u001b[0m\n\u001b[1;32m   7540\u001b[0m         )\n\u001b[0;32m-> 7541\u001b[0;31m         \u001b[0;32mreturn\u001b[0m \u001b[0mop\u001b[0m\u001b[0;34m.\u001b[0m\u001b[0mget_result\u001b[0m\u001b[0;34m(\u001b[0m\u001b[0;34m)\u001b[0m\u001b[0;34m\u001b[0m\u001b[0;34m\u001b[0m\u001b[0m\n\u001b[0m\u001b[1;32m   7542\u001b[0m \u001b[0;34m\u001b[0m\u001b[0m\n\u001b[1;32m   7543\u001b[0m     \u001b[0;32mdef\u001b[0m \u001b[0mapplymap\u001b[0m\u001b[0;34m(\u001b[0m\u001b[0mself\u001b[0m\u001b[0;34m,\u001b[0m \u001b[0mfunc\u001b[0m\u001b[0;34m)\u001b[0m \u001b[0;34m->\u001b[0m \u001b[0;34m\"DataFrame\"\u001b[0m\u001b[0;34m:\u001b[0m\u001b[0;34m\u001b[0m\u001b[0;34m\u001b[0m\u001b[0m\n",
      "\u001b[0;32m~/opt/anaconda3/envs/jupyter/lib/python3.6/site-packages/pandas/core/apply.py\u001b[0m in \u001b[0;36mget_result\u001b[0;34m(self)\u001b[0m\n\u001b[1;32m    178\u001b[0m             \u001b[0;32mreturn\u001b[0m \u001b[0mself\u001b[0m\u001b[0;34m.\u001b[0m\u001b[0mapply_raw\u001b[0m\u001b[0;34m(\u001b[0m\u001b[0;34m)\u001b[0m\u001b[0;34m\u001b[0m\u001b[0;34m\u001b[0m\u001b[0m\n\u001b[1;32m    179\u001b[0m \u001b[0;34m\u001b[0m\u001b[0m\n\u001b[0;32m--> 180\u001b[0;31m         \u001b[0;32mreturn\u001b[0m \u001b[0mself\u001b[0m\u001b[0;34m.\u001b[0m\u001b[0mapply_standard\u001b[0m\u001b[0;34m(\u001b[0m\u001b[0;34m)\u001b[0m\u001b[0;34m\u001b[0m\u001b[0;34m\u001b[0m\u001b[0m\n\u001b[0m\u001b[1;32m    181\u001b[0m \u001b[0;34m\u001b[0m\u001b[0m\n\u001b[1;32m    182\u001b[0m     \u001b[0;32mdef\u001b[0m \u001b[0mapply_empty_result\u001b[0m\u001b[0;34m(\u001b[0m\u001b[0mself\u001b[0m\u001b[0;34m)\u001b[0m\u001b[0;34m:\u001b[0m\u001b[0;34m\u001b[0m\u001b[0;34m\u001b[0m\u001b[0m\n",
      "\u001b[0;32m~/opt/anaconda3/envs/jupyter/lib/python3.6/site-packages/pandas/core/apply.py\u001b[0m in \u001b[0;36mapply_standard\u001b[0;34m(self)\u001b[0m\n\u001b[1;32m    253\u001b[0m \u001b[0;34m\u001b[0m\u001b[0m\n\u001b[1;32m    254\u001b[0m     \u001b[0;32mdef\u001b[0m \u001b[0mapply_standard\u001b[0m\u001b[0;34m(\u001b[0m\u001b[0mself\u001b[0m\u001b[0;34m)\u001b[0m\u001b[0;34m:\u001b[0m\u001b[0;34m\u001b[0m\u001b[0;34m\u001b[0m\u001b[0m\n\u001b[0;32m--> 255\u001b[0;31m         \u001b[0mresults\u001b[0m\u001b[0;34m,\u001b[0m \u001b[0mres_index\u001b[0m \u001b[0;34m=\u001b[0m \u001b[0mself\u001b[0m\u001b[0;34m.\u001b[0m\u001b[0mapply_series_generator\u001b[0m\u001b[0;34m(\u001b[0m\u001b[0;34m)\u001b[0m\u001b[0;34m\u001b[0m\u001b[0;34m\u001b[0m\u001b[0m\n\u001b[0m\u001b[1;32m    256\u001b[0m \u001b[0;34m\u001b[0m\u001b[0m\n\u001b[1;32m    257\u001b[0m         \u001b[0;31m# wrap results\u001b[0m\u001b[0;34m\u001b[0m\u001b[0;34m\u001b[0m\u001b[0;34m\u001b[0m\u001b[0m\n",
      "\u001b[0;32m~/opt/anaconda3/envs/jupyter/lib/python3.6/site-packages/pandas/core/apply.py\u001b[0m in \u001b[0;36mapply_series_generator\u001b[0;34m(self)\u001b[0m\n\u001b[1;32m    282\u001b[0m                 \u001b[0;32mfor\u001b[0m \u001b[0mi\u001b[0m\u001b[0;34m,\u001b[0m \u001b[0mv\u001b[0m \u001b[0;32min\u001b[0m \u001b[0menumerate\u001b[0m\u001b[0;34m(\u001b[0m\u001b[0mseries_gen\u001b[0m\u001b[0;34m)\u001b[0m\u001b[0;34m:\u001b[0m\u001b[0;34m\u001b[0m\u001b[0;34m\u001b[0m\u001b[0m\n\u001b[1;32m    283\u001b[0m                     \u001b[0;31m# ignore SettingWithCopy here in case the user mutates\u001b[0m\u001b[0;34m\u001b[0m\u001b[0;34m\u001b[0m\u001b[0;34m\u001b[0m\u001b[0m\n\u001b[0;32m--> 284\u001b[0;31m                     \u001b[0mresults\u001b[0m\u001b[0;34m[\u001b[0m\u001b[0mi\u001b[0m\u001b[0;34m]\u001b[0m \u001b[0;34m=\u001b[0m \u001b[0mself\u001b[0m\u001b[0;34m.\u001b[0m\u001b[0mf\u001b[0m\u001b[0;34m(\u001b[0m\u001b[0mv\u001b[0m\u001b[0;34m)\u001b[0m\u001b[0;34m\u001b[0m\u001b[0;34m\u001b[0m\u001b[0m\n\u001b[0m\u001b[1;32m    285\u001b[0m                     \u001b[0;32mif\u001b[0m \u001b[0misinstance\u001b[0m\u001b[0;34m(\u001b[0m\u001b[0mresults\u001b[0m\u001b[0;34m[\u001b[0m\u001b[0mi\u001b[0m\u001b[0;34m]\u001b[0m\u001b[0;34m,\u001b[0m \u001b[0mABCSeries\u001b[0m\u001b[0;34m)\u001b[0m\u001b[0;34m:\u001b[0m\u001b[0;34m\u001b[0m\u001b[0;34m\u001b[0m\u001b[0m\n\u001b[1;32m    286\u001b[0m                         \u001b[0;31m# If we have a view on v, we need to make a copy because\u001b[0m\u001b[0;34m\u001b[0m\u001b[0;34m\u001b[0m\u001b[0;34m\u001b[0m\u001b[0m\n",
      "\u001b[0;32m<ipython-input-192-388356d936fd>\u001b[0m in \u001b[0;36mprocess_study\u001b[0;34m(row)\u001b[0m\n\u001b[1;32m      2\u001b[0m     \u001b[0;31m# Extract file name and load data:\u001b[0m\u001b[0;34m\u001b[0m\u001b[0;34m\u001b[0m\u001b[0;34m\u001b[0m\u001b[0m\n\u001b[1;32m      3\u001b[0m     \u001b[0mdata_file\u001b[0m \u001b[0;34m=\u001b[0m \u001b[0mrow\u001b[0m\u001b[0;34m[\u001b[0m\u001b[0;34m'dataFile'\u001b[0m\u001b[0;34m]\u001b[0m\u001b[0;34m\u001b[0m\u001b[0;34m\u001b[0m\u001b[0m\n\u001b[0;32m----> 4\u001b[0;31m     \u001b[0mdata_df\u001b[0m \u001b[0;34m=\u001b[0m \u001b[0mpd\u001b[0m\u001b[0;34m.\u001b[0m\u001b[0mread_csv\u001b[0m\u001b[0;34m(\u001b[0m\u001b[0mdata_file\u001b[0m\u001b[0;34m,\u001b[0m \u001b[0msep\u001b[0m\u001b[0;34m=\u001b[0m\u001b[0;34m'\\t'\u001b[0m\u001b[0;34m)\u001b[0m\u001b[0;34m\u001b[0m\u001b[0;34m\u001b[0m\u001b[0m\n\u001b[0m\u001b[1;32m      5\u001b[0m \u001b[0;34m\u001b[0m\u001b[0m\n\u001b[1;32m      6\u001b[0m     \u001b[0;31m# Create empty df to store hits:\u001b[0m\u001b[0;34m\u001b[0m\u001b[0;34m\u001b[0m\u001b[0;34m\u001b[0m\u001b[0m\n",
      "\u001b[0;32m~/opt/anaconda3/envs/jupyter/lib/python3.6/site-packages/pandas/io/parsers.py\u001b[0m in \u001b[0;36mread_csv\u001b[0;34m(filepath_or_buffer, sep, delimiter, header, names, index_col, usecols, squeeze, prefix, mangle_dupe_cols, dtype, engine, converters, true_values, false_values, skipinitialspace, skiprows, skipfooter, nrows, na_values, keep_default_na, na_filter, verbose, skip_blank_lines, parse_dates, infer_datetime_format, keep_date_col, date_parser, dayfirst, cache_dates, iterator, chunksize, compression, thousands, decimal, lineterminator, quotechar, quoting, doublequote, escapechar, comment, encoding, dialect, error_bad_lines, warn_bad_lines, delim_whitespace, low_memory, memory_map, float_precision)\u001b[0m\n\u001b[1;32m    684\u001b[0m     )\n\u001b[1;32m    685\u001b[0m \u001b[0;34m\u001b[0m\u001b[0m\n\u001b[0;32m--> 686\u001b[0;31m     \u001b[0;32mreturn\u001b[0m \u001b[0m_read\u001b[0m\u001b[0;34m(\u001b[0m\u001b[0mfilepath_or_buffer\u001b[0m\u001b[0;34m,\u001b[0m \u001b[0mkwds\u001b[0m\u001b[0;34m)\u001b[0m\u001b[0;34m\u001b[0m\u001b[0;34m\u001b[0m\u001b[0m\n\u001b[0m\u001b[1;32m    687\u001b[0m \u001b[0;34m\u001b[0m\u001b[0m\n\u001b[1;32m    688\u001b[0m \u001b[0;34m\u001b[0m\u001b[0m\n",
      "\u001b[0;32m~/opt/anaconda3/envs/jupyter/lib/python3.6/site-packages/pandas/io/parsers.py\u001b[0m in \u001b[0;36m_read\u001b[0;34m(filepath_or_buffer, kwds)\u001b[0m\n\u001b[1;32m    450\u001b[0m \u001b[0;34m\u001b[0m\u001b[0m\n\u001b[1;32m    451\u001b[0m     \u001b[0;31m# Create the parser.\u001b[0m\u001b[0;34m\u001b[0m\u001b[0;34m\u001b[0m\u001b[0;34m\u001b[0m\u001b[0m\n\u001b[0;32m--> 452\u001b[0;31m     \u001b[0mparser\u001b[0m \u001b[0;34m=\u001b[0m \u001b[0mTextFileReader\u001b[0m\u001b[0;34m(\u001b[0m\u001b[0mfp_or_buf\u001b[0m\u001b[0;34m,\u001b[0m \u001b[0;34m**\u001b[0m\u001b[0mkwds\u001b[0m\u001b[0;34m)\u001b[0m\u001b[0;34m\u001b[0m\u001b[0;34m\u001b[0m\u001b[0m\n\u001b[0m\u001b[1;32m    453\u001b[0m \u001b[0;34m\u001b[0m\u001b[0m\n\u001b[1;32m    454\u001b[0m     \u001b[0;32mif\u001b[0m \u001b[0mchunksize\u001b[0m \u001b[0;32mor\u001b[0m \u001b[0miterator\u001b[0m\u001b[0;34m:\u001b[0m\u001b[0;34m\u001b[0m\u001b[0;34m\u001b[0m\u001b[0m\n",
      "\u001b[0;32m~/opt/anaconda3/envs/jupyter/lib/python3.6/site-packages/pandas/io/parsers.py\u001b[0m in \u001b[0;36m__init__\u001b[0;34m(self, f, engine, **kwds)\u001b[0m\n\u001b[1;32m    934\u001b[0m             \u001b[0mself\u001b[0m\u001b[0;34m.\u001b[0m\u001b[0moptions\u001b[0m\u001b[0;34m[\u001b[0m\u001b[0;34m\"has_index_names\"\u001b[0m\u001b[0;34m]\u001b[0m \u001b[0;34m=\u001b[0m \u001b[0mkwds\u001b[0m\u001b[0;34m[\u001b[0m\u001b[0;34m\"has_index_names\"\u001b[0m\u001b[0;34m]\u001b[0m\u001b[0;34m\u001b[0m\u001b[0;34m\u001b[0m\u001b[0m\n\u001b[1;32m    935\u001b[0m \u001b[0;34m\u001b[0m\u001b[0m\n\u001b[0;32m--> 936\u001b[0;31m         \u001b[0mself\u001b[0m\u001b[0;34m.\u001b[0m\u001b[0m_make_engine\u001b[0m\u001b[0;34m(\u001b[0m\u001b[0mself\u001b[0m\u001b[0;34m.\u001b[0m\u001b[0mengine\u001b[0m\u001b[0;34m)\u001b[0m\u001b[0;34m\u001b[0m\u001b[0;34m\u001b[0m\u001b[0m\n\u001b[0m\u001b[1;32m    937\u001b[0m \u001b[0;34m\u001b[0m\u001b[0m\n\u001b[1;32m    938\u001b[0m     \u001b[0;32mdef\u001b[0m \u001b[0mclose\u001b[0m\u001b[0;34m(\u001b[0m\u001b[0mself\u001b[0m\u001b[0;34m)\u001b[0m\u001b[0;34m:\u001b[0m\u001b[0;34m\u001b[0m\u001b[0;34m\u001b[0m\u001b[0m\n",
      "\u001b[0;32m~/opt/anaconda3/envs/jupyter/lib/python3.6/site-packages/pandas/io/parsers.py\u001b[0m in \u001b[0;36m_make_engine\u001b[0;34m(self, engine)\u001b[0m\n\u001b[1;32m   1166\u001b[0m     \u001b[0;32mdef\u001b[0m \u001b[0m_make_engine\u001b[0m\u001b[0;34m(\u001b[0m\u001b[0mself\u001b[0m\u001b[0;34m,\u001b[0m \u001b[0mengine\u001b[0m\u001b[0;34m=\u001b[0m\u001b[0;34m\"c\"\u001b[0m\u001b[0;34m)\u001b[0m\u001b[0;34m:\u001b[0m\u001b[0;34m\u001b[0m\u001b[0;34m\u001b[0m\u001b[0m\n\u001b[1;32m   1167\u001b[0m         \u001b[0;32mif\u001b[0m \u001b[0mengine\u001b[0m \u001b[0;34m==\u001b[0m \u001b[0;34m\"c\"\u001b[0m\u001b[0;34m:\u001b[0m\u001b[0;34m\u001b[0m\u001b[0;34m\u001b[0m\u001b[0m\n\u001b[0;32m-> 1168\u001b[0;31m             \u001b[0mself\u001b[0m\u001b[0;34m.\u001b[0m\u001b[0m_engine\u001b[0m \u001b[0;34m=\u001b[0m \u001b[0mCParserWrapper\u001b[0m\u001b[0;34m(\u001b[0m\u001b[0mself\u001b[0m\u001b[0;34m.\u001b[0m\u001b[0mf\u001b[0m\u001b[0;34m,\u001b[0m \u001b[0;34m**\u001b[0m\u001b[0mself\u001b[0m\u001b[0;34m.\u001b[0m\u001b[0moptions\u001b[0m\u001b[0;34m)\u001b[0m\u001b[0;34m\u001b[0m\u001b[0;34m\u001b[0m\u001b[0m\n\u001b[0m\u001b[1;32m   1169\u001b[0m         \u001b[0;32melse\u001b[0m\u001b[0;34m:\u001b[0m\u001b[0;34m\u001b[0m\u001b[0;34m\u001b[0m\u001b[0m\n\u001b[1;32m   1170\u001b[0m             \u001b[0;32mif\u001b[0m \u001b[0mengine\u001b[0m \u001b[0;34m==\u001b[0m \u001b[0;34m\"python\"\u001b[0m\u001b[0;34m:\u001b[0m\u001b[0;34m\u001b[0m\u001b[0;34m\u001b[0m\u001b[0m\n",
      "\u001b[0;32m~/opt/anaconda3/envs/jupyter/lib/python3.6/site-packages/pandas/io/parsers.py\u001b[0m in \u001b[0;36m__init__\u001b[0;34m(self, src, **kwds)\u001b[0m\n\u001b[1;32m   1996\u001b[0m         \u001b[0mkwds\u001b[0m\u001b[0;34m[\u001b[0m\u001b[0;34m\"usecols\"\u001b[0m\u001b[0;34m]\u001b[0m \u001b[0;34m=\u001b[0m \u001b[0mself\u001b[0m\u001b[0;34m.\u001b[0m\u001b[0musecols\u001b[0m\u001b[0;34m\u001b[0m\u001b[0;34m\u001b[0m\u001b[0m\n\u001b[1;32m   1997\u001b[0m \u001b[0;34m\u001b[0m\u001b[0m\n\u001b[0;32m-> 1998\u001b[0;31m         \u001b[0mself\u001b[0m\u001b[0;34m.\u001b[0m\u001b[0m_reader\u001b[0m \u001b[0;34m=\u001b[0m \u001b[0mparsers\u001b[0m\u001b[0;34m.\u001b[0m\u001b[0mTextReader\u001b[0m\u001b[0;34m(\u001b[0m\u001b[0msrc\u001b[0m\u001b[0;34m,\u001b[0m \u001b[0;34m**\u001b[0m\u001b[0mkwds\u001b[0m\u001b[0;34m)\u001b[0m\u001b[0;34m\u001b[0m\u001b[0;34m\u001b[0m\u001b[0m\n\u001b[0m\u001b[1;32m   1999\u001b[0m         \u001b[0mself\u001b[0m\u001b[0;34m.\u001b[0m\u001b[0munnamed_cols\u001b[0m \u001b[0;34m=\u001b[0m \u001b[0mself\u001b[0m\u001b[0;34m.\u001b[0m\u001b[0m_reader\u001b[0m\u001b[0;34m.\u001b[0m\u001b[0munnamed_cols\u001b[0m\u001b[0;34m\u001b[0m\u001b[0;34m\u001b[0m\u001b[0m\n\u001b[1;32m   2000\u001b[0m \u001b[0;34m\u001b[0m\u001b[0m\n",
      "\u001b[0;32mpandas/_libs/parsers.pyx\u001b[0m in \u001b[0;36mpandas._libs.parsers.TextReader.__cinit__\u001b[0;34m()\u001b[0m\n",
      "\u001b[0;32mpandas/_libs/parsers.pyx\u001b[0m in \u001b[0;36mpandas._libs.parsers.TextReader._setup_parser_source\u001b[0;34m()\u001b[0m\n",
      "\u001b[0;31mFileNotFoundError\u001b[0m: [Errno 2] No such file or directory: 'Screen4_5_NEGPOSvPOSPOS.gene_summary.txt'"
     ]
    }
   ],
   "source": [
    "def process_study(row):\n",
    "    # Extract file name and load data:\n",
    "    data_file = row['dataFile']\n",
    "    data_df = pd.read_csv(data_file, sep='\\t')\n",
    "\n",
    "    # Create empty df to store hits:\n",
    "    hits = pd.DataFrame(columns=data_df.columns).rename(columns={'neg|fdr': 'resourceScore', 'pos|fdr': 'effectDirection'})\n",
    "\n",
    "    # Filtering for the lower tail:\n",
    "    if row['lowerTail']:\n",
    "        filtered_df = (\n",
    "            data_df.loc[data_df['neg|fdr'] <= row['threshold']].copy()\n",
    "            .rename(columns={'neg|fdr': 'resourceScore'})\n",
    "            .drop('pos|fdr', axis=1)\n",
    "            .assign(effectDirection='lower')\n",
    "        )\n",
    "        hits = pd.concat([hits, filtered_df])\n",
    "\n",
    "    # Filtering for the upper tail:\n",
    "    if row['upperTail']:\n",
    "        filtered_df = (\n",
    "            data_df.loc[data_df['pos|fdr'] <= row['threshold']].copy()\n",
    "            .rename(columns={'pos|fdr': 'resourceScore'})\n",
    "            .drop('neg|fdr', axis=1)\n",
    "            .assign(effectDirection='upper')\n",
    "        )\n",
    "        hits = pd.concat([hits, filtered_df])\n",
    "        \n",
    "    # No significant hit in this study:\n",
    "    if len(hits) == 0:\n",
    "        return None\n",
    "\n",
    "    # Format data:\n",
    "    hits = (\n",
    "        hits\n",
    "        # Renaming columns:\n",
    "        .rename(columns={\n",
    "            'id': 'targetFromSourceId',\n",
    "            'description': 'studyOverview',\n",
    "            \n",
    "        })\n",
    "        \n",
    "        # Dropping unused columns:\n",
    "        .drop(['num', 'neg|score', 'neg|p-value', 'neg|rank',\n",
    "               'neg|goodsgrna', 'neg|lfc', 'pos|score', 'pos|p-value',\n",
    "               'pos|rank', 'pos|goodsgrna', 'pos|lfc'], axis=1)\n",
    "        \n",
    "        # Creating a few columns from study table\n",
    "        .assign(\n",
    "            studyId=row['studyName'],\n",
    "            description=row['description'],\n",
    "            cohortPhenotypes= row['diseases'],\n",
    "            diseaseCellLines=row['cellTypes'],\n",
    "            datasourceId='ot_crispr',\n",
    "            datatypeId='affected_pathway'\n",
    "        )\n",
    "        \n",
    "        # Generating list columns for cells and diseases:\n",
    "        .assign(\n",
    "            cohortPhenotypes = lambda x: x['cohortPhenotypes'].str.replace(' ', '').str.split('|'),\n",
    "            diseaseFromSource = lambda x: x['cohortPhenotypes'],  # Will be exploded\n",
    "            diseaseCellLines= lambda x: x['diseaseCellLines'].str.replace(' ', '').str.split('|'),\n",
    "        )\n",
    "        \n",
    "        # Rows are exploded into each disease term:\n",
    "        .explode('diseaseFromSource', ignore_index=True)\n",
    "    )\n",
    "\n",
    "    # Each disease term is then mapped to EFO:\n",
    "#     hits['diseaseFromSourceMappedId'] = hits['diseaseFromSource'].apply(dm.map_disease)\n",
    "    \n",
    "    \n",
    "    return hits\n",
    "\n",
    "\n",
    "# Looping through all studies in the study table\n",
    "# Read the corresponding data file\n",
    "# Process data according study file annotation\n",
    "# Map disease to EFO \n",
    "# Collect data:\n",
    "hits_list = (\n",
    "    # Processing data:\n",
    "    study_df.apply(process_study, axis=1)\n",
    "    \n",
    "    # Dropping studies with no hits:\n",
    "    .dropna()\n",
    "    \n",
    "    # Convert to list\n",
    "    .tolist()\n",
    ")\n",
    "\n",
    "# Pooling hits together:\n",
    "hits_df = pd.concat(hits_list)\n",
    "print(hits_df.head())\n",
    "\n",
    "# Save gzipped json:\n",
    "(\n",
    "    hits_df\n",
    "    .to_json('otar_crispr.json.gz', compression='gzip', orient='records', lines=True)\n",
    ")"
   ]
  },
  {
   "cell_type": "code",
   "execution_count": 50,
   "metadata": {
    "ExecuteTime": {
     "end_time": "2021-06-15T09:57:06.221331Z",
     "start_time": "2021-06-15T09:57:06.162359Z"
    }
   },
   "outputs": [
    {
     "name": "stdout",
     "output_type": "stream",
     "text": [
      "{\n",
      "  \"targetFromSourceId\": \"AP2M1\",\n",
      "  \"resourceScore\": 0.00495,\n",
      "  \"effectDirection\": \"upper\",\n",
      "  \"studyId\": \"OTAR036_TAU_uptake_1\",\n",
      "  \"description\": \"Comparison of functional populations of iPSC neurons based on their ability to take up monomeric/aggregated tau protein\",\n",
      "  \"cohortPhenotypes\": [\n",
      "    \"Neurodegeneration\",\n",
      "    \"Dementia\",\n",
      "    \"Tauopathy(ies)\",\n",
      "    \"Alzheimer’s Disease\",\n",
      "    \"Frontotemporal dementia\",\n",
      "    \"Pick’s Disease\"\n",
      "  ],\n",
      "  \"diseaseCellLines\": [\n",
      "    \"iPSC derived neurons\"\n",
      "  ],\n",
      "  \"datasourceId\": \"ot_crispr\",\n",
      "  \"datatypeId\": \"affected_pathway\",\n",
      "  \"diseaseFromSource\": \"Neurodegeneration\",\n",
      "  \"diseaseFromSourceMappedId\": \"HP_0002180\"\n",
      "}\n"
     ]
    }
   ],
   "source": [
    "%%bash\n",
    "\n",
    "gzcat otar_crispr.json.gz | head -n1 | jq "
   ]
  },
  {
   "cell_type": "code",
   "execution_count": 48,
   "metadata": {
    "ExecuteTime": {
     "end_time": "2021-06-15T09:55:51.785100Z",
     "start_time": "2021-06-15T09:55:49.152909Z"
    }
   },
   "outputs": [
    {
     "name": "stderr",
     "output_type": "stream",
     "text": [
      "Copying file://otar_crispr.json.gz [Content-Type=application/json]...\n",
      "/ [0 files][    0.0 B/  498.0 B]                                                \r",
      "/ [1 files][  498.0 B/  498.0 B]                                                \r\n",
      "Operation completed over 1 objects/498.0 B.                                      \n"
     ]
    }
   ],
   "source": [
    "%%bash\n",
    "\n",
    "gsutil cp otar_crispr.json.gz gs://ot-team/dsuveges/CRISPR_screens/"
   ]
  },
  {
   "cell_type": "code",
   "execution_count": 8,
   "metadata": {
    "ExecuteTime": {
     "end_time": "2021-08-01T06:36:05.603161Z",
     "start_time": "2021-08-01T06:36:05.513494Z"
    }
   },
   "outputs": [
    {
     "data": {
      "text/html": [
       "<div>\n",
       "<style scoped>\n",
       "    .dataframe tbody tr th:only-of-type {\n",
       "        vertical-align: middle;\n",
       "    }\n",
       "\n",
       "    .dataframe tbody tr th {\n",
       "        vertical-align: top;\n",
       "    }\n",
       "\n",
       "    .dataframe thead th {\n",
       "        text-align: right;\n",
       "    }\n",
       "</style>\n",
       "<table border=\"1\" class=\"dataframe\">\n",
       "  <thead>\n",
       "    <tr style=\"text-align: right;\">\n",
       "      <th></th>\n",
       "      <th>targetFromSourceId</th>\n",
       "      <th>resourceScore</th>\n",
       "    </tr>\n",
       "  </thead>\n",
       "  <tbody>\n",
       "    <tr>\n",
       "      <th>6087</th>\n",
       "      <td>CREBBP</td>\n",
       "      <td>0.000495</td>\n",
       "    </tr>\n",
       "    <tr>\n",
       "      <th>7380</th>\n",
       "      <td>PTEN</td>\n",
       "      <td>0.000495</td>\n",
       "    </tr>\n",
       "    <tr>\n",
       "      <th>8239</th>\n",
       "      <td>PHF12</td>\n",
       "      <td>0.000495</td>\n",
       "    </tr>\n",
       "    <tr>\n",
       "      <th>12083</th>\n",
       "      <td>SIRT6</td>\n",
       "      <td>0.006855</td>\n",
       "    </tr>\n",
       "    <tr>\n",
       "      <th>12178</th>\n",
       "      <td>EP300</td>\n",
       "      <td>0.000495</td>\n",
       "    </tr>\n",
       "  </tbody>\n",
       "</table>\n",
       "</div>"
      ],
      "text/plain": [
       "      targetFromSourceId  resourceScore\n",
       "6087              CREBBP       0.000495\n",
       "7380                PTEN       0.000495\n",
       "8239               PHF12       0.000495\n",
       "12083              SIRT6       0.006855\n",
       "12178              EP300       0.000495"
      ]
     },
     "execution_count": 8,
     "metadata": {},
     "output_type": "execute_result"
    }
   ],
   "source": [
    "import pandas as pd\n",
    "\n",
    "## Input:\n",
    "datafile = '/Users/dsuveges/Downloads/Hosted Partner Platform Instance/Sample data/Shared_Data/OTAR033/hacat.il17a.dropout.gene_summary.txt'\n",
    "filterColumn = 'pos|fdr'\n",
    "threshold = 0.01\n",
    "\n",
    "# Read data, filter and rename columns:\n",
    "mageck_df = (\n",
    "    pd.read_csv(datafile, sep='\\t')\n",
    "    .rename(columns={filterColumn: 'resourceScore', 'id': 'targetFromSourceId'})\n",
    "    [['targetFromSourceId', 'resourceScore']]\n",
    "    .loc[lambda df: df.resourceScore <= threshold]\n",
    ")\n",
    "mageck_df.head()"
   ]
  },
  {
   "cell_type": "code",
   "execution_count": 7,
   "metadata": {
    "ExecuteTime": {
     "end_time": "2021-08-01T06:35:02.584042Z",
     "start_time": "2021-08-01T06:35:02.522040Z"
    }
   },
   "outputs": [
    {
     "data": {
      "text/html": [
       "<div>\n",
       "<style scoped>\n",
       "    .dataframe tbody tr th:only-of-type {\n",
       "        vertical-align: middle;\n",
       "    }\n",
       "\n",
       "    .dataframe tbody tr th {\n",
       "        vertical-align: top;\n",
       "    }\n",
       "\n",
       "    .dataframe thead th {\n",
       "        text-align: right;\n",
       "    }\n",
       "</style>\n",
       "<table border=\"1\" class=\"dataframe\">\n",
       "  <thead>\n",
       "    <tr style=\"text-align: right;\">\n",
       "      <th></th>\n",
       "      <th>id</th>\n",
       "      <th>num</th>\n",
       "      <th>neg|score</th>\n",
       "      <th>neg|p-value</th>\n",
       "      <th>neg|fdr</th>\n",
       "      <th>neg|rank</th>\n",
       "      <th>neg|goodsgrna</th>\n",
       "      <th>neg|lfc</th>\n",
       "      <th>pos|score</th>\n",
       "      <th>pos|p-value</th>\n",
       "      <th>pos|fdr</th>\n",
       "      <th>pos|rank</th>\n",
       "      <th>pos|goodsgrna</th>\n",
       "      <th>pos|lfc</th>\n",
       "    </tr>\n",
       "  </thead>\n",
       "  <tbody>\n",
       "    <tr>\n",
       "      <th>0</th>\n",
       "      <td>RPS19</td>\n",
       "      <td>10</td>\n",
       "      <td>2.145000e-17</td>\n",
       "      <td>2.746600e-07</td>\n",
       "      <td>0.000015</td>\n",
       "      <td>1</td>\n",
       "      <td>10</td>\n",
       "      <td>-5.2910</td>\n",
       "      <td>1.0</td>\n",
       "      <td>1.0</td>\n",
       "      <td>1.0</td>\n",
       "      <td>18011</td>\n",
       "      <td>0</td>\n",
       "      <td>-5.2910</td>\n",
       "    </tr>\n",
       "    <tr>\n",
       "      <th>1</th>\n",
       "      <td>CENPM</td>\n",
       "      <td>15</td>\n",
       "      <td>7.286400e-17</td>\n",
       "      <td>2.746600e-07</td>\n",
       "      <td>0.000015</td>\n",
       "      <td>2</td>\n",
       "      <td>15</td>\n",
       "      <td>-3.3295</td>\n",
       "      <td>1.0</td>\n",
       "      <td>1.0</td>\n",
       "      <td>1.0</td>\n",
       "      <td>18024</td>\n",
       "      <td>0</td>\n",
       "      <td>-3.3295</td>\n",
       "    </tr>\n",
       "    <tr>\n",
       "      <th>2</th>\n",
       "      <td>EIF4A3</td>\n",
       "      <td>10</td>\n",
       "      <td>3.018700e-15</td>\n",
       "      <td>2.746600e-07</td>\n",
       "      <td>0.000015</td>\n",
       "      <td>3</td>\n",
       "      <td>10</td>\n",
       "      <td>-4.1431</td>\n",
       "      <td>1.0</td>\n",
       "      <td>1.0</td>\n",
       "      <td>1.0</td>\n",
       "      <td>18023</td>\n",
       "      <td>0</td>\n",
       "      <td>-4.1431</td>\n",
       "    </tr>\n",
       "    <tr>\n",
       "      <th>3</th>\n",
       "      <td>NHP2L1</td>\n",
       "      <td>10</td>\n",
       "      <td>5.281200e-15</td>\n",
       "      <td>2.746600e-07</td>\n",
       "      <td>0.000015</td>\n",
       "      <td>4</td>\n",
       "      <td>10</td>\n",
       "      <td>-4.4097</td>\n",
       "      <td>1.0</td>\n",
       "      <td>1.0</td>\n",
       "      <td>1.0</td>\n",
       "      <td>18022</td>\n",
       "      <td>0</td>\n",
       "      <td>-4.4097</td>\n",
       "    </tr>\n",
       "    <tr>\n",
       "      <th>4</th>\n",
       "      <td>RBMX</td>\n",
       "      <td>11</td>\n",
       "      <td>6.875700e-15</td>\n",
       "      <td>2.746600e-07</td>\n",
       "      <td>0.000015</td>\n",
       "      <td>5</td>\n",
       "      <td>11</td>\n",
       "      <td>-3.0211</td>\n",
       "      <td>1.0</td>\n",
       "      <td>1.0</td>\n",
       "      <td>1.0</td>\n",
       "      <td>18021</td>\n",
       "      <td>0</td>\n",
       "      <td>-3.0211</td>\n",
       "    </tr>\n",
       "  </tbody>\n",
       "</table>\n",
       "</div>"
      ],
      "text/plain": [
       "       id  num     neg|score   neg|p-value   neg|fdr  neg|rank  neg|goodsgrna  \\\n",
       "0   RPS19   10  2.145000e-17  2.746600e-07  0.000015         1             10   \n",
       "1   CENPM   15  7.286400e-17  2.746600e-07  0.000015         2             15   \n",
       "2  EIF4A3   10  3.018700e-15  2.746600e-07  0.000015         3             10   \n",
       "3  NHP2L1   10  5.281200e-15  2.746600e-07  0.000015         4             10   \n",
       "4    RBMX   11  6.875700e-15  2.746600e-07  0.000015         5             11   \n",
       "\n",
       "   neg|lfc  pos|score  pos|p-value  pos|fdr  pos|rank  pos|goodsgrna  pos|lfc  \n",
       "0  -5.2910        1.0          1.0      1.0     18011              0  -5.2910  \n",
       "1  -3.3295        1.0          1.0      1.0     18024              0  -3.3295  \n",
       "2  -4.1431        1.0          1.0      1.0     18023              0  -4.1431  \n",
       "3  -4.4097        1.0          1.0      1.0     18022              0  -4.4097  \n",
       "4  -3.0211        1.0          1.0      1.0     18021              0  -3.0211  "
      ]
     },
     "execution_count": 7,
     "metadata": {},
     "output_type": "execute_result"
    }
   ],
   "source": []
  },
  {
   "cell_type": "code",
   "execution_count": 193,
   "metadata": {
    "ExecuteTime": {
     "end_time": "2021-08-10T08:18:10.654367Z",
     "start_time": "2021-08-10T08:18:10.050695Z"
    }
   },
   "outputs": [],
   "source": [
    "import logging \n",
    "\n",
    "input_file = '/Users/dsuveges/repositories/evidence_datasource_parsers/CRISPR_screens/OTAR_crispr_studies.tsv'\n",
    "data_folders = '/Users/dsuveges/repositories/evidence_datasource_parsers/CRISPR_screens'\n",
    "output_file = 'otar_crispr-2021-08-04.json.gz'\n",
    "\n",
    "# Reading study file:\n",
    "study_df = pd.read_csv(input_file, sep='\\t')\n",
    "\n",
    "if 'Studied cell type' in study_df.loc[0].tolist():\n",
    "    logging.info('Dropping column descriptions')\n",
    "    study_df.drop(0, axis=0, inplace=True)\n",
    "    \n",
    "# Processing study data:\n",
    "study_df = (\n",
    "    study_df\n",
    "    \n",
    "    # drop rows with no study id or data file:\n",
    "    .loc[study_df.studyId.notna() & study_df.dataFile.notna()]\n",
    "    .assign(\n",
    "        # Explode mapped diseases:\n",
    "        diseaseFromSourceMappedId=study_df.diseases.str.replace(' ', '').str.split('|'),\n",
    "        \n",
    "        # Explode data files:\n",
    "        dataFiles=study_df.dataFile.str.replace(' ', '').str.split('|')\n",
    "    )\n",
    "    # rename columns:\n",
    "    .rename(\n",
    "        columns={\n",
    "            'isDerived': 'isCellTypeDerived',\n",
    "            'library': 'crisprScreenLibrary',\n",
    "            'mode': 'crisprStudyMode',\n",
    "            'populations': 'contrast',\n",
    "            'studyDescription': 'studyOverview'\n",
    "        }\n",
    "    )\n",
    ")\n",
    "\n",
    "# Reading all data file and filter for significant hits:\n",
    "hits = (\n",
    "    study_df[['studyId', 'dataFiles', 'dataFileType', 'filterColumn', 'threshold']]\n",
    "    .explode('dataFiles')\n",
    "    .assign(dataFile=lambda df: df.dataFiles.apply(lambda x: f'{data_folders}/{x}'))\n",
    "    .apply(parse_MAGeCK_file, axis=1)\n",
    ")\n",
    "\n",
    "# Concatenate all hits into one single dataframe:\n",
    "hits_df = (\n",
    "    pd.concat(hits.to_list())\n",
    "    .reset_index(drop=True)\n",
    ")\n",
    "\n",
    "# Merging:\n",
    "merged_dataset = (\n",
    "    study_df\n",
    "    .assign(direction=lambda df: df.filterColumn.map(FILTER_COLUMN_MAP))\n",
    "    .merge(hits_df, on='studyId', how='inner')\n",
    "    .explode('diseaseFromSourceMappedId')\n",
    "    .assign(\n",
    "        datasourceId='ot_crispr',\n",
    "        datatypeId='ot_partner'\n",
    "    )\n",
    "    [[\n",
    "        'targetFromSourceId', 'diseaseFromSourceMappedId', \n",
    "        'projectId', 'studyId', 'studyOverview', 'contrast', 'crisprScreenLibrary',\n",
    "        'cellType', 'cellLineBackground', 'geneticBackground',\n",
    "        'direction','resourceScore', \n",
    "        'datasourceId', 'datatypeId'\n",
    "    ]]\n",
    ")\n",
    "\n",
    "# Save file:\n",
    "(\n",
    "    merged_dataset\n",
    "#     .apply(lambda row: [row.dropna()], axis=1)\n",
    "    .to_json(output_file, compression='gzip', orient='records', lines=True)\n",
    ")"
   ]
  },
  {
   "cell_type": "code",
   "execution_count": 194,
   "metadata": {
    "ExecuteTime": {
     "end_time": "2021-08-10T08:18:11.005597Z",
     "start_time": "2021-08-10T08:18:10.949886Z"
    }
   },
   "outputs": [
    {
     "data": {
      "text/html": [
       "<div>\n",
       "<style scoped>\n",
       "    .dataframe tbody tr th:only-of-type {\n",
       "        vertical-align: middle;\n",
       "    }\n",
       "\n",
       "    .dataframe tbody tr th {\n",
       "        vertical-align: top;\n",
       "    }\n",
       "\n",
       "    .dataframe thead th {\n",
       "        text-align: right;\n",
       "    }\n",
       "</style>\n",
       "<table border=\"1\" class=\"dataframe\">\n",
       "  <thead>\n",
       "    <tr style=\"text-align: right;\">\n",
       "      <th></th>\n",
       "      <th>targetFromSourceId</th>\n",
       "      <th>resourceScore</th>\n",
       "      <th>studyId</th>\n",
       "    </tr>\n",
       "  </thead>\n",
       "  <tbody>\n",
       "    <tr>\n",
       "      <th>414</th>\n",
       "      <td>YIF1B</td>\n",
       "      <td>6.322700e-03</td>\n",
       "      <td>OTAR036_TAU_uptake_1</td>\n",
       "    </tr>\n",
       "    <tr>\n",
       "      <th>507</th>\n",
       "      <td>TCP10L2</td>\n",
       "      <td>6.379900e-03</td>\n",
       "      <td>OTAR036_TAU_uptake_1</td>\n",
       "    </tr>\n",
       "    <tr>\n",
       "      <th>638</th>\n",
       "      <td>ABCC9</td>\n",
       "      <td>8.230800e-03</td>\n",
       "      <td>OTAR036_TAU_uptake_1</td>\n",
       "    </tr>\n",
       "    <tr>\n",
       "      <th>2084</th>\n",
       "      <td>ART3</td>\n",
       "      <td>2.747500e-03</td>\n",
       "      <td>OTAR036_TAU_uptake_1</td>\n",
       "    </tr>\n",
       "    <tr>\n",
       "      <th>2454</th>\n",
       "      <td>IL15</td>\n",
       "      <td>2.269300e-03</td>\n",
       "      <td>OTAR036_TAU_uptake_1</td>\n",
       "    </tr>\n",
       "    <tr>\n",
       "      <th>...</th>\n",
       "      <td>...</td>\n",
       "      <td>...</td>\n",
       "      <td>...</td>\n",
       "    </tr>\n",
       "    <tr>\n",
       "      <th>20076</th>\n",
       "      <td>WDR7</td>\n",
       "      <td>1.259700e-04</td>\n",
       "      <td>OTAR036_TAU_uptake_1</td>\n",
       "    </tr>\n",
       "    <tr>\n",
       "      <th>20077</th>\n",
       "      <td>PIK3R4</td>\n",
       "      <td>1.232600e-06</td>\n",
       "      <td>OTAR036_TAU_uptake_1</td>\n",
       "    </tr>\n",
       "    <tr>\n",
       "      <th>20078</th>\n",
       "      <td>AP2M1</td>\n",
       "      <td>2.465300e-07</td>\n",
       "      <td>OTAR036_TAU_uptake_1</td>\n",
       "    </tr>\n",
       "    <tr>\n",
       "      <th>20079</th>\n",
       "      <td>LRP1</td>\n",
       "      <td>2.465300e-07</td>\n",
       "      <td>OTAR036_TAU_uptake_1</td>\n",
       "    </tr>\n",
       "    <tr>\n",
       "      <th>20080</th>\n",
       "      <td>LRRK2</td>\n",
       "      <td>2.465300e-07</td>\n",
       "      <td>OTAR036_TAU_uptake_1</td>\n",
       "    </tr>\n",
       "  </tbody>\n",
       "</table>\n",
       "<p>216 rows × 3 columns</p>\n",
       "</div>"
      ],
      "text/plain": [
       "      targetFromSourceId  resourceScore               studyId\n",
       "414                YIF1B   6.322700e-03  OTAR036_TAU_uptake_1\n",
       "507              TCP10L2   6.379900e-03  OTAR036_TAU_uptake_1\n",
       "638                ABCC9   8.230800e-03  OTAR036_TAU_uptake_1\n",
       "2084                ART3   2.747500e-03  OTAR036_TAU_uptake_1\n",
       "2454                IL15   2.269300e-03  OTAR036_TAU_uptake_1\n",
       "...                  ...            ...                   ...\n",
       "20076               WDR7   1.259700e-04  OTAR036_TAU_uptake_1\n",
       "20077             PIK3R4   1.232600e-06  OTAR036_TAU_uptake_1\n",
       "20078              AP2M1   2.465300e-07  OTAR036_TAU_uptake_1\n",
       "20079               LRP1   2.465300e-07  OTAR036_TAU_uptake_1\n",
       "20080              LRRK2   2.465300e-07  OTAR036_TAU_uptake_1\n",
       "\n",
       "[216 rows x 3 columns]"
      ]
     },
     "execution_count": 194,
     "metadata": {},
     "output_type": "execute_result"
    }
   ],
   "source": [
    "FILTER_COLUMN_MAP = {\n",
    "    'pos|fdr': 'upper tail',\n",
    "    'neg|fdr': 'lower tail',\n",
    "    'neg|p-value': 'lower tail',\n",
    "    'pos|p-value': 'upper tail'\n",
    "}\n",
    "\n",
    "def parse_MAGeCK_file(row) -> pd.DataFrame:\n",
    "    \"\"\"This function returns with a pandas dataframe with the datafile and with properly named columns\"\"\"\n",
    "    datafile = row['dataFile']\n",
    "    filterColumn = row['filterColumn']\n",
    "    threshold = float(row['threshold'])\n",
    "    studyId = row['studyId']\n",
    "    \n",
    "    # Read data, filter and rename columns:\n",
    "    try:\n",
    "        mageck_df = (\n",
    "            pd.read_csv(datafile, sep='\\t')\n",
    "            .rename(columns={filterColumn: 'resourceScore', 'id': 'targetFromSourceId'})\n",
    "            .loc[lambda df: df.resourceScore <= threshold]\n",
    "            [['targetFromSourceId', 'resourceScore']]\n",
    "            .assign(studyId=studyId)\n",
    "        )\n",
    "        logging.info(f'Number of genes reach threshold: {len(mageck_df)}')\n",
    "        return mageck_df\n",
    "    except FileNotFoundError:\n",
    "        logging.info(f'Study skipped as file was not found: {datafile}')\n",
    "\n",
    "parse_MAGeCK_file(row)"
   ]
  },
  {
   "cell_type": "code",
   "execution_count": 195,
   "metadata": {
    "ExecuteTime": {
     "end_time": "2021-08-10T08:18:13.060523Z",
     "start_time": "2021-08-10T08:18:13.038274Z"
    }
   },
   "outputs": [
    {
     "data": {
      "text/html": [
       "<div>\n",
       "<style scoped>\n",
       "    .dataframe tbody tr th:only-of-type {\n",
       "        vertical-align: middle;\n",
       "    }\n",
       "\n",
       "    .dataframe tbody tr th {\n",
       "        vertical-align: top;\n",
       "    }\n",
       "\n",
       "    .dataframe thead th {\n",
       "        text-align: right;\n",
       "    }\n",
       "</style>\n",
       "<table border=\"1\" class=\"dataframe\">\n",
       "  <thead>\n",
       "    <tr style=\"text-align: right;\">\n",
       "      <th></th>\n",
       "      <th>targetFromSourceId</th>\n",
       "      <th>resourceScore</th>\n",
       "      <th>studyId</th>\n",
       "    </tr>\n",
       "  </thead>\n",
       "  <tbody>\n",
       "    <tr>\n",
       "      <th>0</th>\n",
       "      <td>YIF1B</td>\n",
       "      <td>6.322700e-03</td>\n",
       "      <td>OTAR036_TAU_uptake_1</td>\n",
       "    </tr>\n",
       "    <tr>\n",
       "      <th>1</th>\n",
       "      <td>TCP10L2</td>\n",
       "      <td>6.379900e-03</td>\n",
       "      <td>OTAR036_TAU_uptake_1</td>\n",
       "    </tr>\n",
       "    <tr>\n",
       "      <th>2</th>\n",
       "      <td>ABCC9</td>\n",
       "      <td>8.230800e-03</td>\n",
       "      <td>OTAR036_TAU_uptake_1</td>\n",
       "    </tr>\n",
       "    <tr>\n",
       "      <th>3</th>\n",
       "      <td>ART3</td>\n",
       "      <td>2.747500e-03</td>\n",
       "      <td>OTAR036_TAU_uptake_1</td>\n",
       "    </tr>\n",
       "    <tr>\n",
       "      <th>4</th>\n",
       "      <td>IL15</td>\n",
       "      <td>2.269300e-03</td>\n",
       "      <td>OTAR036_TAU_uptake_1</td>\n",
       "    </tr>\n",
       "    <tr>\n",
       "      <th>...</th>\n",
       "      <td>...</td>\n",
       "      <td>...</td>\n",
       "      <td>...</td>\n",
       "    </tr>\n",
       "    <tr>\n",
       "      <th>8518</th>\n",
       "      <td>ENSG00000186298</td>\n",
       "      <td>4.733800e-02</td>\n",
       "      <td>OTAR2054_RBM3</td>\n",
       "    </tr>\n",
       "    <tr>\n",
       "      <th>8519</th>\n",
       "      <td>ENSG00000102710</td>\n",
       "      <td>1.986400e-02</td>\n",
       "      <td>OTAR2054_RBM3</td>\n",
       "    </tr>\n",
       "    <tr>\n",
       "      <th>8520</th>\n",
       "      <td>ENSG00000119801</td>\n",
       "      <td>2.620000e-07</td>\n",
       "      <td>OTAR2054_RBM3</td>\n",
       "    </tr>\n",
       "    <tr>\n",
       "      <th>8521</th>\n",
       "      <td>ENSG00000115875</td>\n",
       "      <td>7.870000e-07</td>\n",
       "      <td>OTAR2054_RBM3</td>\n",
       "    </tr>\n",
       "    <tr>\n",
       "      <th>8522</th>\n",
       "      <td>ENSG00000135999</td>\n",
       "      <td>6.040100e-03</td>\n",
       "      <td>OTAR2054_RBM3</td>\n",
       "    </tr>\n",
       "  </tbody>\n",
       "</table>\n",
       "<p>8523 rows × 3 columns</p>\n",
       "</div>"
      ],
      "text/plain": [
       "     targetFromSourceId  resourceScore               studyId\n",
       "0                 YIF1B   6.322700e-03  OTAR036_TAU_uptake_1\n",
       "1               TCP10L2   6.379900e-03  OTAR036_TAU_uptake_1\n",
       "2                 ABCC9   8.230800e-03  OTAR036_TAU_uptake_1\n",
       "3                  ART3   2.747500e-03  OTAR036_TAU_uptake_1\n",
       "4                  IL15   2.269300e-03  OTAR036_TAU_uptake_1\n",
       "...                 ...            ...                   ...\n",
       "8518    ENSG00000186298   4.733800e-02         OTAR2054_RBM3\n",
       "8519    ENSG00000102710   1.986400e-02         OTAR2054_RBM3\n",
       "8520    ENSG00000119801   2.620000e-07         OTAR2054_RBM3\n",
       "8521    ENSG00000115875   7.870000e-07         OTAR2054_RBM3\n",
       "8522    ENSG00000135999   6.040100e-03         OTAR2054_RBM3\n",
       "\n",
       "[8523 rows x 3 columns]"
      ]
     },
     "execution_count": 195,
     "metadata": {},
     "output_type": "execute_result"
    }
   ],
   "source": [
    "pd.concat(hits.to_list()).reset_index(drop=True)"
   ]
  },
  {
   "cell_type": "code",
   "execution_count": 196,
   "metadata": {
    "ExecuteTime": {
     "end_time": "2021-08-10T08:18:13.848283Z",
     "start_time": "2021-08-10T08:18:13.782825Z"
    }
   },
   "outputs": [
    {
     "name": "stdout",
     "output_type": "stream",
     "text": [
      "{\n",
      "  \"targetFromSourceId\": \"YIF1B\",\n",
      "  \"diseaseFromSourceMappedId\": \"EFO_0000249\",\n",
      "  \"projectId\": \"OTAR036\",\n",
      "  \"studyId\": \"OTAR036_TAU_uptake_1\",\n",
      "  \"studyOverview\": \"Comparison of functional populations of iPSC neurons based on their ability to take up monomeric/aggregated tau protein\",\n",
      "  \"contrast\": \"TauNEGTransPOS (only transferrin taken up) vs TauPOSTransPOS  (both proteins taken up)\",\n",
      "  \"crisprScreenLibrary\": \"Kosuke v1.1 (Behan et al., 2018)\",\n",
      "  \"cellType\": \"iPSC derived cortical neurons\",\n",
      "  \"cellLineBackground\": \"KOLF2-C1\",\n",
      "  \"geneticBackground\": null,\n",
      "  \"direction\": \"upper tail\",\n",
      "  \"resourceScore\": 0.0063227,\n",
      "  \"datasourceId\": \"ot_crispr\",\n",
      "  \"datatypeId\": \"ot_partner\"\n",
      "}\n"
     ]
    }
   ],
   "source": [
    "%%bash\n",
    "\n",
    "gzcat otar_crispr-2021-08-04.json.gz | head -n1 | jq"
   ]
  },
  {
   "cell_type": "code",
   "execution_count": 197,
   "metadata": {
    "ExecuteTime": {
     "end_time": "2021-08-10T08:19:28.777887Z",
     "start_time": "2021-08-10T08:19:26.796459Z"
    }
   },
   "outputs": [],
   "source": [
    "import json\n",
    "import gzip\n",
    "\n",
    "# \n",
    "json_list = [json.dumps(row.dropna().to_dict()) for _, row in merged_dataset.iterrows()]\n",
    "with gzip.open(output_file, 'wt') as f:\n",
    "    f.write('\\n'.join(json_list))\n",
    "\n"
   ]
  },
  {
   "cell_type": "code",
   "execution_count": 188,
   "metadata": {
    "ExecuteTime": {
     "end_time": "2021-08-10T08:06:47.243381Z",
     "start_time": "2021-08-10T08:06:47.238646Z"
    }
   },
   "outputs": [
    {
     "data": {
      "text/plain": [
       "8966"
      ]
     },
     "execution_count": 188,
     "metadata": {},
     "output_type": "execute_result"
    }
   ],
   "source": [
    "len(json_list)"
   ]
  },
  {
   "cell_type": "code",
   "execution_count": 189,
   "metadata": {
    "ExecuteTime": {
     "end_time": "2021-08-10T08:06:47.302420Z",
     "start_time": "2021-08-10T08:06:47.246347Z"
    }
   },
   "outputs": [
    {
     "name": "stdout",
     "output_type": "stream",
     "text": [
      "{\n",
      "  \"targetFromSourceId\": \"YIF1B\",\n",
      "  \"diseaseFromSourceMappedId\": \"EFO_0000249\",\n",
      "  \"projectId\": \"OTAR036\",\n",
      "  \"studyId\": \"OTAR036_TAU_uptake_1\",\n",
      "  \"studyOverview\": \"Comparison of functional populations of iPSC neurons based on their ability to take up monomeric/aggregated tau protein\",\n",
      "  \"contrast\": \"TauNEGTransPOS (only transferrin taken up) vs TauPOSTransPOS  (both proteins taken up)\",\n",
      "  \"crisprScreenLibrary\": \"Kosuke v1.1 (Behan et al., 2018)\",\n",
      "  \"cellType\": \"iPSC derived cortical neurons\",\n",
      "  \"cellLineBackground\": \"KOLF2-C1\",\n",
      "  \"direction\": \"upper tail\",\n",
      "  \"resourceScore\": 0.0063227,\n",
      "  \"datasourceId\": \"ot_crispr\",\n",
      "  \"datatypeId\": \"ot_partner\"\n",
      "}\n"
     ]
    }
   ],
   "source": [
    "%%bash \n",
    "gzcat otar_crispr-2021-08-04.json.gz | head -n1 | jq\n"
   ]
  },
  {
   "cell_type": "code",
   "execution_count": 148,
   "metadata": {
    "ExecuteTime": {
     "end_time": "2021-08-04T14:42:13.221979Z",
     "start_time": "2021-08-04T14:42:13.217289Z"
    }
   },
   "outputs": [],
   "source": [
    "json.dump(merged_dataset.iloc[0].dropna().to_dict(), output_fh)"
   ]
  },
  {
   "cell_type": "code",
   "execution_count": 163,
   "metadata": {
    "ExecuteTime": {
     "end_time": "2021-08-04T14:49:59.873624Z",
     "start_time": "2021-08-04T14:49:59.867336Z"
    }
   },
   "outputs": [
    {
     "data": {
      "text/plain": [
       "0.199708"
      ]
     },
     "execution_count": 163,
     "metadata": {},
     "output_type": "execute_result"
    }
   ],
   "source": [
    "merged_dataset.resourceScore.max()"
   ]
  },
  {
   "cell_type": "code",
   "execution_count": 164,
   "metadata": {
    "ExecuteTime": {
     "end_time": "2021-08-10T07:45:38.181618Z",
     "start_time": "2021-08-10T07:45:38.111704Z"
    }
   },
   "outputs": [
    {
     "data": {
      "text/html": [
       "<div>\n",
       "<style scoped>\n",
       "    .dataframe tbody tr th:only-of-type {\n",
       "        vertical-align: middle;\n",
       "    }\n",
       "\n",
       "    .dataframe tbody tr th {\n",
       "        vertical-align: top;\n",
       "    }\n",
       "\n",
       "    .dataframe thead th {\n",
       "        text-align: right;\n",
       "    }\n",
       "</style>\n",
       "<table border=\"1\" class=\"dataframe\">\n",
       "  <thead>\n",
       "    <tr style=\"text-align: right;\">\n",
       "      <th></th>\n",
       "      <th>targetFromSourceId</th>\n",
       "      <th>resourceScore</th>\n",
       "      <th>studyId</th>\n",
       "    </tr>\n",
       "  </thead>\n",
       "  <tbody>\n",
       "    <tr>\n",
       "      <th>0</th>\n",
       "      <td>YIF1B</td>\n",
       "      <td>6.322700e-03</td>\n",
       "      <td>OTAR036_TAU_uptake_1</td>\n",
       "    </tr>\n",
       "    <tr>\n",
       "      <th>1</th>\n",
       "      <td>TCP10L2</td>\n",
       "      <td>6.379900e-03</td>\n",
       "      <td>OTAR036_TAU_uptake_1</td>\n",
       "    </tr>\n",
       "    <tr>\n",
       "      <th>2</th>\n",
       "      <td>ABCC9</td>\n",
       "      <td>8.230800e-03</td>\n",
       "      <td>OTAR036_TAU_uptake_1</td>\n",
       "    </tr>\n",
       "    <tr>\n",
       "      <th>3</th>\n",
       "      <td>ART3</td>\n",
       "      <td>2.747500e-03</td>\n",
       "      <td>OTAR036_TAU_uptake_1</td>\n",
       "    </tr>\n",
       "    <tr>\n",
       "      <th>4</th>\n",
       "      <td>IL15</td>\n",
       "      <td>2.269300e-03</td>\n",
       "      <td>OTAR036_TAU_uptake_1</td>\n",
       "    </tr>\n",
       "    <tr>\n",
       "      <th>...</th>\n",
       "      <td>...</td>\n",
       "      <td>...</td>\n",
       "      <td>...</td>\n",
       "    </tr>\n",
       "    <tr>\n",
       "      <th>8518</th>\n",
       "      <td>ENSG00000186298</td>\n",
       "      <td>4.733800e-02</td>\n",
       "      <td>OTAR2054_RBM3</td>\n",
       "    </tr>\n",
       "    <tr>\n",
       "      <th>8519</th>\n",
       "      <td>ENSG00000102710</td>\n",
       "      <td>1.986400e-02</td>\n",
       "      <td>OTAR2054_RBM3</td>\n",
       "    </tr>\n",
       "    <tr>\n",
       "      <th>8520</th>\n",
       "      <td>ENSG00000119801</td>\n",
       "      <td>2.620000e-07</td>\n",
       "      <td>OTAR2054_RBM3</td>\n",
       "    </tr>\n",
       "    <tr>\n",
       "      <th>8521</th>\n",
       "      <td>ENSG00000115875</td>\n",
       "      <td>7.870000e-07</td>\n",
       "      <td>OTAR2054_RBM3</td>\n",
       "    </tr>\n",
       "    <tr>\n",
       "      <th>8522</th>\n",
       "      <td>ENSG00000135999</td>\n",
       "      <td>6.040100e-03</td>\n",
       "      <td>OTAR2054_RBM3</td>\n",
       "    </tr>\n",
       "  </tbody>\n",
       "</table>\n",
       "<p>8523 rows × 3 columns</p>\n",
       "</div>"
      ],
      "text/plain": [
       "     targetFromSourceId  resourceScore               studyId\n",
       "0                 YIF1B   6.322700e-03  OTAR036_TAU_uptake_1\n",
       "1               TCP10L2   6.379900e-03  OTAR036_TAU_uptake_1\n",
       "2                 ABCC9   8.230800e-03  OTAR036_TAU_uptake_1\n",
       "3                  ART3   2.747500e-03  OTAR036_TAU_uptake_1\n",
       "4                  IL15   2.269300e-03  OTAR036_TAU_uptake_1\n",
       "...                 ...            ...                   ...\n",
       "8518    ENSG00000186298   4.733800e-02         OTAR2054_RBM3\n",
       "8519    ENSG00000102710   1.986400e-02         OTAR2054_RBM3\n",
       "8520    ENSG00000119801   2.620000e-07         OTAR2054_RBM3\n",
       "8521    ENSG00000115875   7.870000e-07         OTAR2054_RBM3\n",
       "8522    ENSG00000135999   6.040100e-03         OTAR2054_RBM3\n",
       "\n",
       "[8523 rows x 3 columns]"
      ]
     },
     "execution_count": 164,
     "metadata": {},
     "output_type": "execute_result"
    }
   ],
   "source": [
    "hits_df"
   ]
  },
  {
   "cell_type": "code",
   "execution_count": 190,
   "metadata": {
    "ExecuteTime": {
     "end_time": "2021-08-10T08:06:56.708438Z",
     "start_time": "2021-08-10T08:06:56.697055Z"
    }
   },
   "outputs": [
    {
     "data": {
      "text/plain": [
       "Index(['cellLineBackground', 'cellType', 'contrast', 'crisprScreenLibrary',\n",
       "       'datasourceId', 'datatypeId', 'direction', 'diseaseFromSourceMappedId',\n",
       "       'geneticBackground', 'projectId', 'resourceScore', 'studyId',\n",
       "       'studyOverview', 'targetFromSourceId'],\n",
       "      dtype='object')"
      ]
     },
     "execution_count": 190,
     "metadata": {},
     "output_type": "execute_result"
    }
   ],
   "source": [
    "merged_dataset.columns.sort_values()"
   ]
  },
  {
   "cell_type": "code",
   "execution_count": 175,
   "metadata": {
    "ExecuteTime": {
     "end_time": "2021-08-10T08:04:14.900922Z",
     "start_time": "2021-08-10T08:04:14.895282Z"
    }
   },
   "outputs": [
    {
     "data": {
      "text/plain": [
       "array(['OTAR036', 'OTAR033', 'OTAR035', 'OTAR2054'], dtype=object)"
      ]
     },
     "execution_count": 175,
     "metadata": {},
     "output_type": "execute_result"
    }
   ],
   "source": [
    "merged_dataset.projectId.unique()"
   ]
  },
  {
   "cell_type": "code",
   "execution_count": 191,
   "metadata": {
    "ExecuteTime": {
     "end_time": "2021-08-10T08:10:16.943047Z",
     "start_time": "2021-08-10T08:10:16.912194Z"
    }
   },
   "outputs": [
    {
     "name": "stdout",
     "output_type": "stream",
     "text": [
      "/Users/dsuveges/project/random_notebooks/issue-1597_CRISPR_evidence\n"
     ]
    }
   ],
   "source": [
    "%%bash\n",
    "\n",
    "pwd"
   ]
  },
  {
   "cell_type": "code",
   "execution_count": 201,
   "metadata": {
    "ExecuteTime": {
     "end_time": "2021-08-10T22:08:46.999274Z",
     "start_time": "2021-08-10T22:08:46.988226Z"
    }
   },
   "outputs": [
    {
     "data": {
      "text/plain": [
       "'/Users/dsuveges/repositories/evidence_datasource_parsers/CRISPR_screens/OTAR033/hacat.il17a.facs.gene_summary.txt'"
      ]
     },
     "execution_count": 201,
     "metadata": {},
     "output_type": "execute_result"
    }
   ],
   "source": [
    "(\n",
    "    study_df\n",
    "    .head()\n",
    "    .explode('dataFiles')\n",
    "    .assign(\n",
    "        dataFile=lambda df: df.apply(lambda x: f'{data_folders}/{x[\"projectId\"]}/{x[\"dataFiles\"]}', axis=1)\n",
    "    )\n",
    "    .iloc[2]['dataFile']\n",
    ")\n",
    "\n",
    "\n",
    "\n",
    "\n"
   ]
  },
  {
   "cell_type": "code",
   "execution_count": 1,
   "metadata": {
    "ExecuteTime": {
     "end_time": "2021-08-12T14:57:12.333905Z",
     "start_time": "2021-08-12T14:57:12.178131Z"
    }
   },
   "outputs": [
    {
     "ename": "NameError",
     "evalue": "name 'merged' is not defined",
     "output_type": "error",
     "traceback": [
      "\u001b[0;31m---------------------------------------------------------------------------\u001b[0m",
      "\u001b[0;31mNameError\u001b[0m                                 Traceback (most recent call last)",
      "\u001b[0;32m<ipython-input-1-49c5592a1c8d>\u001b[0m in \u001b[0;36m<module>\u001b[0;34m\u001b[0m\n\u001b[0;32m----> 1\u001b[0;31m \u001b[0mmerged\u001b[0m\u001b[0;34m.\u001b[0m\u001b[0mhead\u001b[0m\u001b[0;34m(\u001b[0m\u001b[0;34m)\u001b[0m\u001b[0;34m\u001b[0m\u001b[0;34m\u001b[0m\u001b[0m\n\u001b[0m",
      "\u001b[0;31mNameError\u001b[0m: name 'merged' is not defined"
     ]
    }
   ],
   "source": [
    "merged.head()"
   ]
  },
  {
   "cell_type": "code",
   "execution_count": 3,
   "metadata": {
    "ExecuteTime": {
     "end_time": "2021-08-12T14:59:49.524921Z",
     "start_time": "2021-08-12T14:59:49.387708Z"
    }
   },
   "outputs": [
    {
     "data": {
      "text/html": [
       "<div>\n",
       "<style scoped>\n",
       "    .dataframe tbody tr th:only-of-type {\n",
       "        vertical-align: middle;\n",
       "    }\n",
       "\n",
       "    .dataframe tbody tr th {\n",
       "        vertical-align: top;\n",
       "    }\n",
       "\n",
       "    .dataframe thead th {\n",
       "        text-align: right;\n",
       "    }\n",
       "</style>\n",
       "<table border=\"1\" class=\"dataframe\">\n",
       "  <thead>\n",
       "    <tr style=\"text-align: right;\">\n",
       "      <th></th>\n",
       "      <th>targetFromSourceId</th>\n",
       "      <th>diseaseFromSourceMappedId</th>\n",
       "      <th>projectId</th>\n",
       "      <th>studyId</th>\n",
       "      <th>studyOverview</th>\n",
       "      <th>contrast</th>\n",
       "      <th>crisprScreenLibrary</th>\n",
       "      <th>cellType</th>\n",
       "      <th>cellLineBackground</th>\n",
       "      <th>statisticalTestTail</th>\n",
       "      <th>resourceScore</th>\n",
       "      <th>datasourceId</th>\n",
       "      <th>datatypeId</th>\n",
       "    </tr>\n",
       "  </thead>\n",
       "  <tbody>\n",
       "    <tr>\n",
       "      <th>0</th>\n",
       "      <td>YIF1B</td>\n",
       "      <td>EFO_0000249</td>\n",
       "      <td>OTAR036</td>\n",
       "      <td>OTAR036_TAU_uptake_1</td>\n",
       "      <td>Comparison of functional populations of iPSC n...</td>\n",
       "      <td>TauNEGTransPOS (only transferrin taken up) vs ...</td>\n",
       "      <td>Kosuke v1.1 (Behan et al., 2018)</td>\n",
       "      <td>iPSC derived cortical neurons</td>\n",
       "      <td>KOLF2-C1</td>\n",
       "      <td>upper tail</td>\n",
       "      <td>0.006323</td>\n",
       "      <td>ot_crispr</td>\n",
       "      <td>ot_partner</td>\n",
       "    </tr>\n",
       "    <tr>\n",
       "      <th>1</th>\n",
       "      <td>YIF1B</td>\n",
       "      <td>EFO_0003096</td>\n",
       "      <td>OTAR036</td>\n",
       "      <td>OTAR036_TAU_uptake_1</td>\n",
       "      <td>Comparison of functional populations of iPSC n...</td>\n",
       "      <td>TauNEGTransPOS (only transferrin taken up) vs ...</td>\n",
       "      <td>Kosuke v1.1 (Behan et al., 2018)</td>\n",
       "      <td>iPSC derived cortical neurons</td>\n",
       "      <td>KOLF2-C1</td>\n",
       "      <td>upper tail</td>\n",
       "      <td>0.006323</td>\n",
       "      <td>ot_crispr</td>\n",
       "      <td>ot_partner</td>\n",
       "    </tr>\n",
       "    <tr>\n",
       "      <th>2</th>\n",
       "      <td>TCP10L2</td>\n",
       "      <td>EFO_0000249</td>\n",
       "      <td>OTAR036</td>\n",
       "      <td>OTAR036_TAU_uptake_1</td>\n",
       "      <td>Comparison of functional populations of iPSC n...</td>\n",
       "      <td>TauNEGTransPOS (only transferrin taken up) vs ...</td>\n",
       "      <td>Kosuke v1.1 (Behan et al., 2018)</td>\n",
       "      <td>iPSC derived cortical neurons</td>\n",
       "      <td>KOLF2-C1</td>\n",
       "      <td>upper tail</td>\n",
       "      <td>0.006380</td>\n",
       "      <td>ot_crispr</td>\n",
       "      <td>ot_partner</td>\n",
       "    </tr>\n",
       "    <tr>\n",
       "      <th>3</th>\n",
       "      <td>TCP10L2</td>\n",
       "      <td>EFO_0003096</td>\n",
       "      <td>OTAR036</td>\n",
       "      <td>OTAR036_TAU_uptake_1</td>\n",
       "      <td>Comparison of functional populations of iPSC n...</td>\n",
       "      <td>TauNEGTransPOS (only transferrin taken up) vs ...</td>\n",
       "      <td>Kosuke v1.1 (Behan et al., 2018)</td>\n",
       "      <td>iPSC derived cortical neurons</td>\n",
       "      <td>KOLF2-C1</td>\n",
       "      <td>upper tail</td>\n",
       "      <td>0.006380</td>\n",
       "      <td>ot_crispr</td>\n",
       "      <td>ot_partner</td>\n",
       "    </tr>\n",
       "    <tr>\n",
       "      <th>4</th>\n",
       "      <td>ABCC9</td>\n",
       "      <td>EFO_0000249</td>\n",
       "      <td>OTAR036</td>\n",
       "      <td>OTAR036_TAU_uptake_1</td>\n",
       "      <td>Comparison of functional populations of iPSC n...</td>\n",
       "      <td>TauNEGTransPOS (only transferrin taken up) vs ...</td>\n",
       "      <td>Kosuke v1.1 (Behan et al., 2018)</td>\n",
       "      <td>iPSC derived cortical neurons</td>\n",
       "      <td>KOLF2-C1</td>\n",
       "      <td>upper tail</td>\n",
       "      <td>0.008231</td>\n",
       "      <td>ot_crispr</td>\n",
       "      <td>ot_partner</td>\n",
       "    </tr>\n",
       "  </tbody>\n",
       "</table>\n",
       "</div>"
      ],
      "text/plain": [
       "  targetFromSourceId diseaseFromSourceMappedId projectId  \\\n",
       "0              YIF1B               EFO_0000249   OTAR036   \n",
       "1              YIF1B               EFO_0003096   OTAR036   \n",
       "2            TCP10L2               EFO_0000249   OTAR036   \n",
       "3            TCP10L2               EFO_0003096   OTAR036   \n",
       "4              ABCC9               EFO_0000249   OTAR036   \n",
       "\n",
       "                studyId                                      studyOverview  \\\n",
       "0  OTAR036_TAU_uptake_1  Comparison of functional populations of iPSC n...   \n",
       "1  OTAR036_TAU_uptake_1  Comparison of functional populations of iPSC n...   \n",
       "2  OTAR036_TAU_uptake_1  Comparison of functional populations of iPSC n...   \n",
       "3  OTAR036_TAU_uptake_1  Comparison of functional populations of iPSC n...   \n",
       "4  OTAR036_TAU_uptake_1  Comparison of functional populations of iPSC n...   \n",
       "\n",
       "                                            contrast  \\\n",
       "0  TauNEGTransPOS (only transferrin taken up) vs ...   \n",
       "1  TauNEGTransPOS (only transferrin taken up) vs ...   \n",
       "2  TauNEGTransPOS (only transferrin taken up) vs ...   \n",
       "3  TauNEGTransPOS (only transferrin taken up) vs ...   \n",
       "4  TauNEGTransPOS (only transferrin taken up) vs ...   \n",
       "\n",
       "                crisprScreenLibrary                       cellType  \\\n",
       "0  Kosuke v1.1 (Behan et al., 2018)  iPSC derived cortical neurons   \n",
       "1  Kosuke v1.1 (Behan et al., 2018)  iPSC derived cortical neurons   \n",
       "2  Kosuke v1.1 (Behan et al., 2018)  iPSC derived cortical neurons   \n",
       "3  Kosuke v1.1 (Behan et al., 2018)  iPSC derived cortical neurons   \n",
       "4  Kosuke v1.1 (Behan et al., 2018)  iPSC derived cortical neurons   \n",
       "\n",
       "  cellLineBackground statisticalTestTail  resourceScore datasourceId  \\\n",
       "0           KOLF2-C1          upper tail       0.006323    ot_crispr   \n",
       "1           KOLF2-C1          upper tail       0.006323    ot_crispr   \n",
       "2           KOLF2-C1          upper tail       0.006380    ot_crispr   \n",
       "3           KOLF2-C1          upper tail       0.006380    ot_crispr   \n",
       "4           KOLF2-C1          upper tail       0.008231    ot_crispr   \n",
       "\n",
       "   datatypeId  \n",
       "0  ot_partner  \n",
       "1  ot_partner  \n",
       "2  ot_partner  \n",
       "3  ot_partner  \n",
       "4  ot_partner  "
      ]
     },
     "execution_count": 3,
     "metadata": {},
     "output_type": "execute_result"
    }
   ],
   "source": [
    "import pandas as pd\n",
    "import json\n",
    "import gzip\n",
    "\n",
    "\n",
    "evidence_file = '/Users/dsuveges/repositories/evidence_datasource_parsers/otar_crispr-2021-08-12.json.gz'\n",
    "evid_data = []\n",
    "\n",
    "with gzip.open(evidence_file, 'rt') as f:\n",
    "    for line in f:\n",
    "        evid_data.append(json.loads(line))\n",
    "        \n",
    "evid_df = pd.DataFrame(evid_data)\n",
    "evid_df.head()"
   ]
  },
  {
   "cell_type": "code",
   "execution_count": 4,
   "metadata": {
    "ExecuteTime": {
     "end_time": "2021-08-12T15:00:03.154766Z",
     "start_time": "2021-08-12T15:00:03.149922Z"
    }
   },
   "outputs": [
    {
     "data": {
      "text/plain": [
       "7276"
      ]
     },
     "execution_count": 4,
     "metadata": {},
     "output_type": "execute_result"
    }
   ],
   "source": [
    "len(evid_df)"
   ]
  },
  {
   "cell_type": "code",
   "execution_count": 5,
   "metadata": {
    "ExecuteTime": {
     "end_time": "2021-08-12T15:00:11.824204Z",
     "start_time": "2021-08-12T15:00:11.796135Z"
    }
   },
   "outputs": [
    {
     "data": {
      "text/plain": [
       "7276"
      ]
     },
     "execution_count": 5,
     "metadata": {},
     "output_type": "execute_result"
    }
   ],
   "source": [
    "len(evid_df.drop_duplicates())"
   ]
  },
  {
   "cell_type": "code",
   "execution_count": 20,
   "metadata": {
    "ExecuteTime": {
     "end_time": "2021-08-12T15:25:54.825918Z",
     "start_time": "2021-08-12T15:25:54.807013Z"
    }
   },
   "outputs": [
    {
     "data": {
      "text/plain": [
       "7276"
      ]
     },
     "execution_count": 20,
     "metadata": {},
     "output_type": "execute_result"
    }
   ],
   "source": [
    "uniq_fields = ['diseaseFromSourceMappedId', 'targetFromSourceId', 'studyId', 'resourceScore']\n",
    "\n",
    "\n",
    "len(evid_df[uniq_fields].drop_duplicates())"
   ]
  },
  {
   "cell_type": "code",
   "execution_count": 17,
   "metadata": {
    "ExecuteTime": {
     "end_time": "2021-08-12T15:04:04.190015Z",
     "start_time": "2021-08-12T15:04:04.162426Z"
    }
   },
   "outputs": [
    {
     "data": {
      "text/html": [
       "<div>\n",
       "<style scoped>\n",
       "    .dataframe tbody tr th:only-of-type {\n",
       "        vertical-align: middle;\n",
       "    }\n",
       "\n",
       "    .dataframe tbody tr th {\n",
       "        vertical-align: top;\n",
       "    }\n",
       "\n",
       "    .dataframe thead th {\n",
       "        text-align: right;\n",
       "    }\n",
       "</style>\n",
       "<table border=\"1\" class=\"dataframe\">\n",
       "  <thead>\n",
       "    <tr style=\"text-align: right;\">\n",
       "      <th></th>\n",
       "      <th>diseaseFromSourceMappedId</th>\n",
       "      <th>targetFromSourceId</th>\n",
       "      <th>studyId</th>\n",
       "      <th>statisticalTestTail</th>\n",
       "    </tr>\n",
       "  </thead>\n",
       "  <tbody>\n",
       "    <tr>\n",
       "      <th>1001</th>\n",
       "      <td>EFO_0000676</td>\n",
       "      <td>BMPR1A</td>\n",
       "      <td>OTAR033_IL17A-TNFa_1</td>\n",
       "      <td>upper tail</td>\n",
       "    </tr>\n",
       "    <tr>\n",
       "      <th>1376</th>\n",
       "      <td>EFO_0000676</td>\n",
       "      <td>RPS19</td>\n",
       "      <td>OTAR033_IL17A-TNFa_2</td>\n",
       "      <td>lower tail</td>\n",
       "    </tr>\n",
       "    <tr>\n",
       "      <th>1379</th>\n",
       "      <td>EFO_0000676</td>\n",
       "      <td>NHP2L1</td>\n",
       "      <td>OTAR033_IL17A-TNFa_2</td>\n",
       "      <td>lower tail</td>\n",
       "    </tr>\n",
       "    <tr>\n",
       "      <th>1380</th>\n",
       "      <td>EFO_0000676</td>\n",
       "      <td>RBMX</td>\n",
       "      <td>OTAR033_IL17A-TNFa_2</td>\n",
       "      <td>lower tail</td>\n",
       "    </tr>\n",
       "    <tr>\n",
       "      <th>1381</th>\n",
       "      <td>EFO_0000676</td>\n",
       "      <td>SNRPD3</td>\n",
       "      <td>OTAR033_IL17A-TNFa_2</td>\n",
       "      <td>lower tail</td>\n",
       "    </tr>\n",
       "    <tr>\n",
       "      <th>...</th>\n",
       "      <td>...</td>\n",
       "      <td>...</td>\n",
       "      <td>...</td>\n",
       "      <td>...</td>\n",
       "    </tr>\n",
       "    <tr>\n",
       "      <th>5564</th>\n",
       "      <td>EFO_0000676</td>\n",
       "      <td>KMT2D</td>\n",
       "      <td>OTAR033_IL4_2</td>\n",
       "      <td>lower tail</td>\n",
       "    </tr>\n",
       "    <tr>\n",
       "      <th>5573</th>\n",
       "      <td>EFO_0000676</td>\n",
       "      <td>TAF2</td>\n",
       "      <td>OTAR033_IL4_2</td>\n",
       "      <td>lower tail</td>\n",
       "    </tr>\n",
       "    <tr>\n",
       "      <th>5641</th>\n",
       "      <td>EFO_0000676</td>\n",
       "      <td>LDLR</td>\n",
       "      <td>OTAR033_IL4_2</td>\n",
       "      <td>lower tail</td>\n",
       "    </tr>\n",
       "    <tr>\n",
       "      <th>5677</th>\n",
       "      <td>EFO_0000676</td>\n",
       "      <td>CWC25</td>\n",
       "      <td>OTAR033_IL4_2</td>\n",
       "      <td>lower tail</td>\n",
       "    </tr>\n",
       "    <tr>\n",
       "      <th>5682</th>\n",
       "      <td>EFO_0000676</td>\n",
       "      <td>DPH1</td>\n",
       "      <td>OTAR033_IL4_2</td>\n",
       "      <td>lower tail</td>\n",
       "    </tr>\n",
       "  </tbody>\n",
       "</table>\n",
       "<p>232 rows × 4 columns</p>\n",
       "</div>"
      ],
      "text/plain": [
       "     diseaseFromSourceMappedId targetFromSourceId               studyId  \\\n",
       "1001               EFO_0000676             BMPR1A  OTAR033_IL17A-TNFa_1   \n",
       "1376               EFO_0000676              RPS19  OTAR033_IL17A-TNFa_2   \n",
       "1379               EFO_0000676             NHP2L1  OTAR033_IL17A-TNFa_2   \n",
       "1380               EFO_0000676               RBMX  OTAR033_IL17A-TNFa_2   \n",
       "1381               EFO_0000676             SNRPD3  OTAR033_IL17A-TNFa_2   \n",
       "...                        ...                ...                   ...   \n",
       "5564               EFO_0000676              KMT2D         OTAR033_IL4_2   \n",
       "5573               EFO_0000676               TAF2         OTAR033_IL4_2   \n",
       "5641               EFO_0000676               LDLR         OTAR033_IL4_2   \n",
       "5677               EFO_0000676              CWC25         OTAR033_IL4_2   \n",
       "5682               EFO_0000676               DPH1         OTAR033_IL4_2   \n",
       "\n",
       "     statisticalTestTail  \n",
       "1001          upper tail  \n",
       "1376          lower tail  \n",
       "1379          lower tail  \n",
       "1380          lower tail  \n",
       "1381          lower tail  \n",
       "...                  ...  \n",
       "5564          lower tail  \n",
       "5573          lower tail  \n",
       "5641          lower tail  \n",
       "5677          lower tail  \n",
       "5682          lower tail  \n",
       "\n",
       "[232 rows x 4 columns]"
      ]
     },
     "execution_count": 17,
     "metadata": {},
     "output_type": "execute_result"
    }
   ],
   "source": [
    "evid_df[uniq_fields].loc[evid_df[uniq_fields].duplicated()]"
   ]
  },
  {
   "cell_type": "code",
   "execution_count": 19,
   "metadata": {
    "ExecuteTime": {
     "end_time": "2021-08-12T15:08:03.718171Z",
     "start_time": "2021-08-12T15:08:03.693176Z"
    }
   },
   "outputs": [
    {
     "data": {
      "text/html": [
       "<div>\n",
       "<style scoped>\n",
       "    .dataframe tbody tr th:only-of-type {\n",
       "        vertical-align: middle;\n",
       "    }\n",
       "\n",
       "    .dataframe tbody tr th {\n",
       "        vertical-align: top;\n",
       "    }\n",
       "\n",
       "    .dataframe thead th {\n",
       "        text-align: right;\n",
       "    }\n",
       "</style>\n",
       "<table border=\"1\" class=\"dataframe\">\n",
       "  <thead>\n",
       "    <tr style=\"text-align: right;\">\n",
       "      <th></th>\n",
       "      <th>targetFromSourceId</th>\n",
       "      <th>diseaseFromSourceMappedId</th>\n",
       "      <th>projectId</th>\n",
       "      <th>studyId</th>\n",
       "      <th>studyOverview</th>\n",
       "      <th>contrast</th>\n",
       "      <th>crisprScreenLibrary</th>\n",
       "      <th>cellType</th>\n",
       "      <th>cellLineBackground</th>\n",
       "      <th>statisticalTestTail</th>\n",
       "      <th>resourceScore</th>\n",
       "      <th>datasourceId</th>\n",
       "      <th>datatypeId</th>\n",
       "    </tr>\n",
       "  </thead>\n",
       "  <tbody>\n",
       "    <tr>\n",
       "      <th>3693</th>\n",
       "      <td>KMT2D</td>\n",
       "      <td>EFO_0000676</td>\n",
       "      <td>OTAR033</td>\n",
       "      <td>OTAR033_IL4_2</td>\n",
       "      <td>Differenciated HaCaT keratinocytes were stimul...</td>\n",
       "      <td>NaN</td>\n",
       "      <td>Kosuke v1.1 (Behan et al., 2018)</td>\n",
       "      <td>HaCaT keratinocytes</td>\n",
       "      <td>NaN</td>\n",
       "      <td>lower tail</td>\n",
       "      <td>0.000077</td>\n",
       "      <td>ot_crispr</td>\n",
       "      <td>ot_partner</td>\n",
       "    </tr>\n",
       "    <tr>\n",
       "      <th>5564</th>\n",
       "      <td>KMT2D</td>\n",
       "      <td>EFO_0000676</td>\n",
       "      <td>OTAR033</td>\n",
       "      <td>OTAR033_IL4_2</td>\n",
       "      <td>Differenciated HaCaT keratinocytes were stimul...</td>\n",
       "      <td>NaN</td>\n",
       "      <td>Kosuke v1.1 (Behan et al., 2018)</td>\n",
       "      <td>HaCaT keratinocytes</td>\n",
       "      <td>NaN</td>\n",
       "      <td>lower tail</td>\n",
       "      <td>0.169120</td>\n",
       "      <td>ot_crispr</td>\n",
       "      <td>ot_partner</td>\n",
       "    </tr>\n",
       "  </tbody>\n",
       "</table>\n",
       "</div>"
      ],
      "text/plain": [
       "     targetFromSourceId diseaseFromSourceMappedId projectId        studyId  \\\n",
       "3693              KMT2D               EFO_0000676   OTAR033  OTAR033_IL4_2   \n",
       "5564              KMT2D               EFO_0000676   OTAR033  OTAR033_IL4_2   \n",
       "\n",
       "                                          studyOverview contrast  \\\n",
       "3693  Differenciated HaCaT keratinocytes were stimul...      NaN   \n",
       "5564  Differenciated HaCaT keratinocytes were stimul...      NaN   \n",
       "\n",
       "                   crisprScreenLibrary             cellType  \\\n",
       "3693  Kosuke v1.1 (Behan et al., 2018)  HaCaT keratinocytes   \n",
       "5564  Kosuke v1.1 (Behan et al., 2018)  HaCaT keratinocytes   \n",
       "\n",
       "     cellLineBackground statisticalTestTail  resourceScore datasourceId  \\\n",
       "3693                NaN          lower tail       0.000077    ot_crispr   \n",
       "5564                NaN          lower tail       0.169120    ot_crispr   \n",
       "\n",
       "      datatypeId  \n",
       "3693  ot_partner  \n",
       "5564  ot_partner  "
      ]
     },
     "execution_count": 19,
     "metadata": {},
     "output_type": "execute_result"
    }
   ],
   "source": [
    "evid_df.loc[\n",
    "    (evid_df.diseaseFromSourceMappedId == 'EFO_0000676')\n",
    "    & (evid_df.targetFromSourceId == 'KMT2D')\n",
    "    & (evid_df.studyId == 'OTAR033_IL4_2')\n",
    "]\n",
    "\n"
   ]
  },
  {
   "cell_type": "code",
   "execution_count": 8,
   "metadata": {},
   "outputs": [],
   "source": [
    "import pandas as pd\n",
    "\n",
    "\n",
    "df = pd.DataFrame([\n",
    "    {'a': 2, 'b': 24},\n",
    "    {'a': 4, 'b': None},\n",
    "    {'a': 12, 'b': 100}\n",
    "])\n",
    "\n",
    "(\n",
    "    df\n",
    "    .dropna().to_json('test.json.gz', compression='gzip', orient='records', lines=True)\n",
    "\n",
    ")"
   ]
  },
  {
   "cell_type": "code",
   "execution_count": 9,
   "metadata": {},
   "outputs": [
    {
     "name": "stdout",
     "output_type": "stream",
     "text": [
      "{\"a\":2,\"b\":24.0}\n",
      "{\"a\":12,\"b\":100.0}\n"
     ]
    }
   ],
   "source": [
    "%%bash\n",
    "\n",
    "gzcat test.json.gz"
   ]
  },
  {
   "cell_type": "code",
   "execution_count": null,
   "metadata": {},
   "outputs": [],
   "source": []
  }
 ],
 "metadata": {
  "kernelspec": {
   "display_name": "Python 3",
   "language": "python",
   "name": "python3"
  },
  "language_info": {
   "codemirror_mode": {
    "name": "ipython",
    "version": 3
   },
   "file_extension": ".py",
   "mimetype": "text/x-python",
   "name": "python",
   "nbconvert_exporter": "python",
   "pygments_lexer": "ipython3",
   "version": "3.9.5"
  },
  "toc": {
   "base_numbering": 1,
   "nav_menu": {},
   "number_sections": true,
   "sideBar": true,
   "skip_h1_title": false,
   "title_cell": "Table of Contents",
   "title_sidebar": "Contents",
   "toc_cell": false,
   "toc_position": {},
   "toc_section_display": true,
   "toc_window_display": false
  }
 },
 "nbformat": 4,
 "nbformat_minor": 4
}
