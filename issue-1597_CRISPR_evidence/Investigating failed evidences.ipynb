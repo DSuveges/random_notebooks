{
 "cells": [
  {
   "cell_type": "code",
   "execution_count": 5,
   "metadata": {},
   "outputs": [
    {
     "name": "stdout",
     "output_type": "stream",
     "text": [
      "    1542 /Users/dsuveges/project/random_notebooks/issue-1597_CRISPR_evidence/failed_evidence_2021.08.12.json\n"
     ]
    }
   ],
   "source": [
    "%%bash\n",
    "\n",
    "cat /Users/dsuveges/project/random_notebooks/issue-1597_CRISPR_evidence/sourceId\\=ot_crispr/*json \\\n",
    "    > /Users/dsuveges/project/random_notebooks/issue-1597_CRISPR_evidence/failed_evidence_2021.08.12.json\n",
    "    \n",
    "wc -l /Users/dsuveges/project/random_notebooks/issue-1597_CRISPR_evidence/failed_evidence_2021.08.12.json"
   ]
  },
  {
   "cell_type": "code",
   "execution_count": 6,
   "metadata": {
    "ExecuteTime": {
     "end_time": "2021-08-10T12:12:29.019241Z",
     "start_time": "2021-08-10T12:12:28.470534Z"
    }
   },
   "outputs": [
    {
     "data": {
      "text/plain": [
       "1542"
      ]
     },
     "execution_count": 6,
     "metadata": {},
     "output_type": "execute_result"
    }
   ],
   "source": [
    "import json\n",
    "import pandas as pd \n",
    "\n",
    "failed_data = []\n",
    "with open ('failed_evidence_2021.08.12.json', 'rt') as f:\n",
    "    for line in f:\n",
    "        failed_data.append(json.loads(line))\n",
    "        \n",
    "        \n",
    "len(failed_data)"
   ]
  },
  {
   "cell_type": "code",
   "execution_count": 10,
   "metadata": {
    "ExecuteTime": {
     "end_time": "2021-08-10T12:12:52.101953Z",
     "start_time": "2021-08-10T12:12:52.055138Z"
    }
   },
   "outputs": [
    {
     "name": "stdout",
     "output_type": "stream",
     "text": [
      "Index(['datasourceId', 'targetId', 'cellLineBackground', 'cellType',\n",
      "       'datatypeId', 'diseaseFromSourceMappedId', 'projectId', 'resourceScore',\n",
      "       'statisticalTestTail', 'studyId', 'studyOverview', 'targetFromSourceId',\n",
      "       'resolvedTarget', 'resolvedDisease', 'diseaseId', 'excludedBiotype',\n",
      "       'id', 'score', 'nullifiedScore', 'markedDuplicate',\n",
      "       'crisprScreenLibrary', 'contrast'],\n",
      "      dtype='object')\n",
      "  datasourceId                 targetId cellLineBackground  \\\n",
      "0    ot_crispr     ENSG00000163902_RPN1                BOB   \n",
      "1    ot_crispr   ENSG00000186496_ZNF396                BOB   \n",
      "2    ot_crispr  ENSG00000188707_ZBED6CL                BOB   \n",
      "3    ot_crispr    ENSG00000187123_LYPD6                BOB   \n",
      "4    ot_crispr   ENSG00000090674_MCOLN1                BOB   \n",
      "\n",
      "                                         cellType  datatypeId  \\\n",
      "0  human iPSCs-derived induced neurons (cortical)  ot_partner   \n",
      "1  human iPSCs-derived induced neurons (cortical)  ot_partner   \n",
      "2  human iPSCs-derived induced neurons (cortical)  ot_partner   \n",
      "3  human iPSCs-derived induced neurons (cortical)  ot_partner   \n",
      "4  human iPSCs-derived induced neurons (cortical)  ot_partner   \n",
      "\n",
      "  diseaseFromSourceMappedId projectId  resourceScore statisticalTestTail  \\\n",
      "0               EFO_0000249  OTAR2054       0.032718          upper tail   \n",
      "1               EFO_0000249  OTAR2054       0.010176          upper tail   \n",
      "2               EFO_0000249  OTAR2054       0.007841          upper tail   \n",
      "3               EFO_0000249  OTAR2054       0.025427          upper tail   \n",
      "4               EFO_0000249  OTAR2054       0.024958          upper tail   \n",
      "\n",
      "         studyId  ... resolvedTarget resolvedDisease    diseaseId  \\\n",
      "0  OTAR2054_CHOP  ...          False            True  EFO_0000249   \n",
      "1  OTAR2054_CHOP  ...          False            True  EFO_0000249   \n",
      "2  OTAR2054_CHOP  ...          False            True  EFO_0000249   \n",
      "3  OTAR2054_CHOP  ...          False            True  EFO_0000249   \n",
      "4  OTAR2054_CHOP  ...          False            True  EFO_0000249   \n",
      "\n",
      "   excludedBiotype                                        id  score  \\\n",
      "0            False  296826a8bcacb02eaad567369e24ecca107c9be1    0.5   \n",
      "1            False  5a526b944b918589b97c1a3e7391ca6c0834e68f    0.5   \n",
      "2            False  974bbd7d5d3ecdc5ac19e63c8bf040d9386b8d5e    0.5   \n",
      "3            False  a7a9e4250de44eaeb9f58b53888e261d03fc8bc6    0.5   \n",
      "4            False  d192f1b2673c1f54a61a9a1bda0c3f29350b58cb    0.5   \n",
      "\n",
      "  nullifiedScore  markedDuplicate  crisprScreenLibrary  contrast  \n",
      "0          False            False                  NaN       NaN  \n",
      "1          False            False                  NaN       NaN  \n",
      "2          False            False                  NaN       NaN  \n",
      "3          False            False                  NaN       NaN  \n",
      "4          False            False                  NaN       NaN  \n",
      "\n",
      "[5 rows x 22 columns]\n"
     ]
    }
   ],
   "source": [
    "failed_df = pd.DataFrame(failed_data)\n",
    "print(failed_df.columns)\n",
    "print(failed_df.head())"
   ]
  },
  {
   "cell_type": "code",
   "execution_count": 9,
   "metadata": {
    "ExecuteTime": {
     "end_time": "2021-08-10T12:15:15.157149Z",
     "start_time": "2021-08-10T12:15:15.147997Z"
    }
   },
   "outputs": [
    {
     "name": "stdout",
     "output_type": "stream",
     "text": [
      "resolvedTarget\n",
      "0\n",
      "resolvedDisease\n",
      "1542\n",
      "nullifiedScore\n",
      "0\n",
      "markedDuplicate\n",
      "0\n"
     ]
    }
   ],
   "source": [
    "# columns to test\n",
    "cols_test = ['resolvedTarget', 'resolvedDisease', 'nullifiedScore', 'markedDuplicate']\n",
    "\n",
    "for col in cols_test:\n",
    "    print(col)\n",
    "    print(len(failed_df.loc[failed_df[col]]))"
   ]
  },
  {
   "cell_type": "markdown",
   "metadata": {},
   "source": [
    "### Unresolved targets"
   ]
  },
  {
   "cell_type": "code",
   "execution_count": 16,
   "metadata": {
    "scrolled": false
   },
   "outputs": [
    {
     "name": "stdout",
     "output_type": "stream",
     "text": [
      "1355\n",
      "0       ENSG00000163902_RPN1\n",
      "1     ENSG00000186496_ZNF396\n",
      "2    ENSG00000188707_ZBED6CL\n",
      "3      ENSG00000187123_LYPD6\n",
      "4     ENSG00000090674_MCOLN1\n",
      "Name: targetId, dtype: object\n"
     ]
    }
   ],
   "source": [
    "print(len(failed_df.loc[~failed_df.resolvedTarget].targetId.unique()))\n",
    "print(failed_df.loc[~failed_df.resolvedTarget].targetId.head())"
   ]
  },
  {
   "cell_type": "markdown",
   "metadata": {},
   "source": [
    "How many of these have the `ensg` prefix?"
   ]
  },
  {
   "cell_type": "code",
   "execution_count": 17,
   "metadata": {},
   "outputs": [
    {
     "name": "stdout",
     "output_type": "stream",
     "text": [
      "1113\n"
     ]
    }
   ],
   "source": [
    "print(len(\n",
    "    failed_df.loc[\n",
    "        (~failed_df.resolvedTarget)\n",
    "        & (failed_df.targetId.str.startswith('ENSG'))\n",
    "    ]\n",
    "))"
   ]
  },
  {
   "cell_type": "code",
   "execution_count": 22,
   "metadata": {},
   "outputs": [
    {
     "name": "stdout",
     "output_type": "stream",
     "text": [
      "242\n",
      "['INADL', 'C12orf44', 'HIST1H2BH', 'CIRH1A', 'NOTCH2NL', 'XRCC6BP1', 'sgSF3B5', 'IKBKAP', 'DIEXF', 'CTRL00712', 'HIST1H2AH', 'ELMSAN1', 'sgPIK3R4', 'HIST1H2BJ', 'HIST1H2BL', 'C3orf17', 'C16orf80', 'HIST1H1C', 'HIST2H2AC', 'FAM69B', 'WRB', 'ACPT', 'ATP5L2', 'ZNRD1', 'HDGFRP2', 'VARS', 'HFE2', 'CTRL00989', 'QARS', 'sgINCENP', 'GPR75-ASB3', 'C14orf80', 'C10orf32', 'C8orf22', 'ADSS', 'HIST2H3D', 'HIST1H2BC', 'GATSL3', 'C9orf114', 'SHFM1', 'DARS', 'HIST1H4I', 'CTRL00830', 'C18orf64', 'OBFC1', 'MARS', 'C20orf78', 'SETD8', 'HIST1H2AC', 'C20orf24', 'C12orf10', 'CONTROL_68', 'HIST1H4J', 'ZFYVE20', 'NDNL2', 'HIST1H3I', 'C11orf31', 'NARFL', 'H2AFB3', 'MESDC2', 'HIST1H2BD', 'HIST1H1E', 'LPPR3', 'GRASP', 'ATP5D', 'HARS', 'HIST1H2AL', 'CCDC84', 'GNB2L1', 'RLTPR', 'TENC1', 'PVRL1', 'SGOL1', 'sgRPL36', 'NRD1', 'HIST1H4K', 'ATP5F1', 'NON-TARGETING', 'C16orf11', 'TMEM57', 'SF3B14', 'HIST2H3C', 'HIST1H2BF', 'FAM96B', 'sgHLTF', 'PAPD7', 'C15orf41', 'TARS', 'KIAA1432', 'ATP5A1', 'HIST2H2AA3', 'sgPSKH2', 'CTRL00726', 'CCDC94', 'HIST1H2BG', 'MRP63', 'PCNXL3', 'PPP2R4', 'SSFA2', 'HIST1H2AK', 'HIST1H3D', 'ZNF259', 'C19orf52', 'N6AMT2', 'ADRBK1', 'sgMED17', 'LARS', 'HIST1H2AD', 'TCEB2', 'CTRL00064', 'C17orf105', 'sgMED11', 'FAM103A1', 'sgSNRPA', 'HIST1H2AJ', 'ERO1L', 'sgPSMD7', 'ATP5B', 'CTRL00376', 'KIAA0391', 'sgLPHN2', 'CXorf23', 'HIST1H2AG', 'CTRL00528', 'ICK', 'FAM109A', 'CTRL00713', 'sgBRDT', 'C9orf171', 'AARS', 'NHP2L1', 'EPT1', 'WHSC1L1', 'HIST1H2AE', 'HIST1H2BK', 'C21orf59', 'AAED1', 'C17orf96', 'CRAMP1L', 'sgMRPS35', 'ACPL2', 'YARS', 'C3orf30', 'TMEM173', 'WBSCR22', 'APOPT1', 'CTRL00257', 'HIST1H2AA', 'H3F3B', 'C16orf62', 'RTFDC1', 'CTRL00836', 'HIST1H3G', 'YAE1D1', 'WDR92', 'PPAPDC1B', 'SKIV2L2', 'Mar-09', 'EFTUD1', 'C7orf65', 'LOC643669', 'sgCTNNBL1', 'Mar-05', 'C10orf12', 'C10orf76', 'KIAA1429', 'NARS', 'CTRL00832', 'CPSF3L', 'UTP11L', 'ATP5O', 'SLMO2', 'GPR113', 'HIST1H2BE', 'C17orf89', 'CCBL1', 'TWISTNB', 'RSG1', 'HIST1H2AM', 'CARS', 'MTSS1L', 'ATHL1', 'IARS', 'CCDC135', 'SARS', 'UFD1L', 'CASC10', 'CASC5', 'HIST3H3', 'APITD1-CORT', 'PET112', 'HIST2H3A', 'C1orf192', 'GPR64', 'ORAOV1', 'CTRL00867', 'KIAA1524', 'EPRS', 'GUCY1A3', 'MPP6', 'ATP5J2', 'TSSC1', 'C6orf203', 'C11orf48', 'ASNA1', 'HIST1H2BN', 'H1F0', 'HIST1H2BB', 'ATP5J2-PTCD1', 'sgRPS10', 'C1orf172', 'Sep-05', 'FAM178A', 'RQCD1', 'H2AFZ', 'PQLC2', 'SRPR', 'TCEB1', 'GARS', 'HIST1H1B', 'HIST1H2AB', 'C2orf70', 'CYorf17', 'C9orf91', 'sgPRKCG', 'C17orf72', 'MUT', 'FAM194A', 'GLTSCR2', 'GPR114', 'CTRL00332', 'C1orf51', 'KARS', 'FDX1L', 'CCDC130', 'FAM19A5', 'PRR25', 'LOC101928603', 'WDR34', 'FAM49B', 'PLA2G16', 'C10orf35']\n"
     ]
    }
   ],
   "source": [
    "failed_normal_gene_names = (\n",
    "    failed_df.loc[\n",
    "        (~failed_df.resolvedTarget)\n",
    "        & ~(failed_df.targetId.str.startswith('ENSG'))\n",
    "    ]\n",
    "    .targetId\n",
    "    .unique()\n",
    "    .tolist()\n",
    ")\n",
    "\n",
    "print(len(failed_normal_gene_names))\n",
    "print(failed_normal_gene_names)"
   ]
  },
  {
   "cell_type": "code",
   "execution_count": 32,
   "metadata": {},
   "outputs": [
    {
     "data": {
      "text/html": [
       "<div>\n",
       "<style scoped>\n",
       "    .dataframe tbody tr th:only-of-type {\n",
       "        vertical-align: middle;\n",
       "    }\n",
       "\n",
       "    .dataframe tbody tr th {\n",
       "        vertical-align: top;\n",
       "    }\n",
       "\n",
       "    .dataframe thead th {\n",
       "        text-align: right;\n",
       "    }\n",
       "</style>\n",
       "<table border=\"1\" class=\"dataframe\">\n",
       "  <thead>\n",
       "    <tr style=\"text-align: right;\">\n",
       "      <th></th>\n",
       "      <th>datasourceId</th>\n",
       "      <th>targetId</th>\n",
       "      <th>cellLineBackground</th>\n",
       "      <th>cellType</th>\n",
       "      <th>datatypeId</th>\n",
       "      <th>diseaseFromSourceMappedId</th>\n",
       "      <th>projectId</th>\n",
       "      <th>resourceScore</th>\n",
       "      <th>statisticalTestTail</th>\n",
       "      <th>studyId</th>\n",
       "      <th>...</th>\n",
       "      <th>resolvedTarget</th>\n",
       "      <th>resolvedDisease</th>\n",
       "      <th>diseaseId</th>\n",
       "      <th>excludedBiotype</th>\n",
       "      <th>id</th>\n",
       "      <th>score</th>\n",
       "      <th>nullifiedScore</th>\n",
       "      <th>markedDuplicate</th>\n",
       "      <th>crisprScreenLibrary</th>\n",
       "      <th>contrast</th>\n",
       "    </tr>\n",
       "  </thead>\n",
       "  <tbody>\n",
       "    <tr>\n",
       "      <th>0</th>\n",
       "      <td>ot_crispr</td>\n",
       "      <td>ENSG00000163902_RPN1</td>\n",
       "      <td>BOB</td>\n",
       "      <td>human iPSCs-derived induced neurons (cortical)</td>\n",
       "      <td>ot_partner</td>\n",
       "      <td>EFO_0000249</td>\n",
       "      <td>OTAR2054</td>\n",
       "      <td>0.032718</td>\n",
       "      <td>upper tail</td>\n",
       "      <td>OTAR2054_CHOP</td>\n",
       "      <td>...</td>\n",
       "      <td>False</td>\n",
       "      <td>True</td>\n",
       "      <td>EFO_0000249</td>\n",
       "      <td>False</td>\n",
       "      <td>296826a8bcacb02eaad567369e24ecca107c9be1</td>\n",
       "      <td>0.5</td>\n",
       "      <td>False</td>\n",
       "      <td>False</td>\n",
       "      <td>NaN</td>\n",
       "      <td>NaN</td>\n",
       "    </tr>\n",
       "    <tr>\n",
       "      <th>1</th>\n",
       "      <td>ot_crispr</td>\n",
       "      <td>ENSG00000186496_ZNF396</td>\n",
       "      <td>BOB</td>\n",
       "      <td>human iPSCs-derived induced neurons (cortical)</td>\n",
       "      <td>ot_partner</td>\n",
       "      <td>EFO_0000249</td>\n",
       "      <td>OTAR2054</td>\n",
       "      <td>0.010176</td>\n",
       "      <td>upper tail</td>\n",
       "      <td>OTAR2054_CHOP</td>\n",
       "      <td>...</td>\n",
       "      <td>False</td>\n",
       "      <td>True</td>\n",
       "      <td>EFO_0000249</td>\n",
       "      <td>False</td>\n",
       "      <td>5a526b944b918589b97c1a3e7391ca6c0834e68f</td>\n",
       "      <td>0.5</td>\n",
       "      <td>False</td>\n",
       "      <td>False</td>\n",
       "      <td>NaN</td>\n",
       "      <td>NaN</td>\n",
       "    </tr>\n",
       "    <tr>\n",
       "      <th>2</th>\n",
       "      <td>ot_crispr</td>\n",
       "      <td>ENSG00000188707_ZBED6CL</td>\n",
       "      <td>BOB</td>\n",
       "      <td>human iPSCs-derived induced neurons (cortical)</td>\n",
       "      <td>ot_partner</td>\n",
       "      <td>EFO_0000249</td>\n",
       "      <td>OTAR2054</td>\n",
       "      <td>0.007841</td>\n",
       "      <td>upper tail</td>\n",
       "      <td>OTAR2054_CHOP</td>\n",
       "      <td>...</td>\n",
       "      <td>False</td>\n",
       "      <td>True</td>\n",
       "      <td>EFO_0000249</td>\n",
       "      <td>False</td>\n",
       "      <td>974bbd7d5d3ecdc5ac19e63c8bf040d9386b8d5e</td>\n",
       "      <td>0.5</td>\n",
       "      <td>False</td>\n",
       "      <td>False</td>\n",
       "      <td>NaN</td>\n",
       "      <td>NaN</td>\n",
       "    </tr>\n",
       "    <tr>\n",
       "      <th>3</th>\n",
       "      <td>ot_crispr</td>\n",
       "      <td>ENSG00000187123_LYPD6</td>\n",
       "      <td>BOB</td>\n",
       "      <td>human iPSCs-derived induced neurons (cortical)</td>\n",
       "      <td>ot_partner</td>\n",
       "      <td>EFO_0000249</td>\n",
       "      <td>OTAR2054</td>\n",
       "      <td>0.025427</td>\n",
       "      <td>upper tail</td>\n",
       "      <td>OTAR2054_CHOP</td>\n",
       "      <td>...</td>\n",
       "      <td>False</td>\n",
       "      <td>True</td>\n",
       "      <td>EFO_0000249</td>\n",
       "      <td>False</td>\n",
       "      <td>a7a9e4250de44eaeb9f58b53888e261d03fc8bc6</td>\n",
       "      <td>0.5</td>\n",
       "      <td>False</td>\n",
       "      <td>False</td>\n",
       "      <td>NaN</td>\n",
       "      <td>NaN</td>\n",
       "    </tr>\n",
       "    <tr>\n",
       "      <th>4</th>\n",
       "      <td>ot_crispr</td>\n",
       "      <td>ENSG00000090674_MCOLN1</td>\n",
       "      <td>BOB</td>\n",
       "      <td>human iPSCs-derived induced neurons (cortical)</td>\n",
       "      <td>ot_partner</td>\n",
       "      <td>EFO_0000249</td>\n",
       "      <td>OTAR2054</td>\n",
       "      <td>0.024958</td>\n",
       "      <td>upper tail</td>\n",
       "      <td>OTAR2054_CHOP</td>\n",
       "      <td>...</td>\n",
       "      <td>False</td>\n",
       "      <td>True</td>\n",
       "      <td>EFO_0000249</td>\n",
       "      <td>False</td>\n",
       "      <td>d192f1b2673c1f54a61a9a1bda0c3f29350b58cb</td>\n",
       "      <td>0.5</td>\n",
       "      <td>False</td>\n",
       "      <td>False</td>\n",
       "      <td>NaN</td>\n",
       "      <td>NaN</td>\n",
       "    </tr>\n",
       "    <tr>\n",
       "      <th>...</th>\n",
       "      <td>...</td>\n",
       "      <td>...</td>\n",
       "      <td>...</td>\n",
       "      <td>...</td>\n",
       "      <td>...</td>\n",
       "      <td>...</td>\n",
       "      <td>...</td>\n",
       "      <td>...</td>\n",
       "      <td>...</td>\n",
       "      <td>...</td>\n",
       "      <td>...</td>\n",
       "      <td>...</td>\n",
       "      <td>...</td>\n",
       "      <td>...</td>\n",
       "      <td>...</td>\n",
       "      <td>...</td>\n",
       "      <td>...</td>\n",
       "      <td>...</td>\n",
       "      <td>...</td>\n",
       "      <td>...</td>\n",
       "      <td>...</td>\n",
       "    </tr>\n",
       "    <tr>\n",
       "      <th>1537</th>\n",
       "      <td>ot_crispr</td>\n",
       "      <td>C1orf172</td>\n",
       "      <td>NaN</td>\n",
       "      <td>HaCaT keratinocytes</td>\n",
       "      <td>ot_partner</td>\n",
       "      <td>EFO_0000676</td>\n",
       "      <td>OTAR033</td>\n",
       "      <td>0.000077</td>\n",
       "      <td>lower tail</td>\n",
       "      <td>OTAR033_IL4_2</td>\n",
       "      <td>...</td>\n",
       "      <td>False</td>\n",
       "      <td>True</td>\n",
       "      <td>EFO_0000676</td>\n",
       "      <td>False</td>\n",
       "      <td>484bb7c6f7bc92630c3be97964f8a79d49fdefbe</td>\n",
       "      <td>0.5</td>\n",
       "      <td>False</td>\n",
       "      <td>False</td>\n",
       "      <td>Kosuke v1.1 (Behan et al., 2018)</td>\n",
       "      <td>NaN</td>\n",
       "    </tr>\n",
       "    <tr>\n",
       "      <th>1538</th>\n",
       "      <td>ot_crispr</td>\n",
       "      <td>ENSG00000164695_CHMP4C</td>\n",
       "      <td>BOB</td>\n",
       "      <td>human iPSCs-derived induced neurons (cortical)</td>\n",
       "      <td>ot_partner</td>\n",
       "      <td>EFO_0000249</td>\n",
       "      <td>OTAR2054</td>\n",
       "      <td>0.029987</td>\n",
       "      <td>upper tail</td>\n",
       "      <td>OTAR2054_CHOP</td>\n",
       "      <td>...</td>\n",
       "      <td>False</td>\n",
       "      <td>True</td>\n",
       "      <td>EFO_0000249</td>\n",
       "      <td>False</td>\n",
       "      <td>778faa3a223343821b5aa9d9d40bf6951c8c33f6</td>\n",
       "      <td>0.5</td>\n",
       "      <td>False</td>\n",
       "      <td>False</td>\n",
       "      <td>NaN</td>\n",
       "      <td>NaN</td>\n",
       "    </tr>\n",
       "    <tr>\n",
       "      <th>1539</th>\n",
       "      <td>ot_crispr</td>\n",
       "      <td>ENSG00000106484_MEST</td>\n",
       "      <td>BOB</td>\n",
       "      <td>human iPSCs-derived induced neurons (cortical)</td>\n",
       "      <td>ot_partner</td>\n",
       "      <td>EFO_0000249</td>\n",
       "      <td>OTAR2054</td>\n",
       "      <td>0.041565</td>\n",
       "      <td>upper tail</td>\n",
       "      <td>OTAR2054_CHOP</td>\n",
       "      <td>...</td>\n",
       "      <td>False</td>\n",
       "      <td>True</td>\n",
       "      <td>EFO_0000249</td>\n",
       "      <td>False</td>\n",
       "      <td>a96273f1a33842dee190748bf4409e57b106b615</td>\n",
       "      <td>0.5</td>\n",
       "      <td>False</td>\n",
       "      <td>False</td>\n",
       "      <td>NaN</td>\n",
       "      <td>NaN</td>\n",
       "    </tr>\n",
       "    <tr>\n",
       "      <th>1540</th>\n",
       "      <td>ot_crispr</td>\n",
       "      <td>Mar-09</td>\n",
       "      <td>NaN</td>\n",
       "      <td>HaCaT keratinocytes</td>\n",
       "      <td>ot_partner</td>\n",
       "      <td>EFO_0000676</td>\n",
       "      <td>OTAR033</td>\n",
       "      <td>0.010812</td>\n",
       "      <td>lower tail</td>\n",
       "      <td>OTAR033_IL4_2</td>\n",
       "      <td>...</td>\n",
       "      <td>False</td>\n",
       "      <td>True</td>\n",
       "      <td>EFO_0000676</td>\n",
       "      <td>False</td>\n",
       "      <td>b9620f13a794cfac37eddb5c2eb48ceef551d5fa</td>\n",
       "      <td>0.5</td>\n",
       "      <td>False</td>\n",
       "      <td>False</td>\n",
       "      <td>Kosuke v1.1 (Behan et al., 2018)</td>\n",
       "      <td>NaN</td>\n",
       "    </tr>\n",
       "    <tr>\n",
       "      <th>1541</th>\n",
       "      <td>ot_crispr</td>\n",
       "      <td>H1F0</td>\n",
       "      <td>KOLF2-C1</td>\n",
       "      <td>human iPSC-derived dopaminergic neuron</td>\n",
       "      <td>ot_partner</td>\n",
       "      <td>EFO_0002508</td>\n",
       "      <td>OTAR035</td>\n",
       "      <td>0.007530</td>\n",
       "      <td>upper tail</td>\n",
       "      <td>OTAR035_oxidative_stress</td>\n",
       "      <td>...</td>\n",
       "      <td>False</td>\n",
       "      <td>True</td>\n",
       "      <td>EFO_0002508</td>\n",
       "      <td>False</td>\n",
       "      <td>f417768d0362389f747f6808bbd881ee7ccc729e</td>\n",
       "      <td>0.5</td>\n",
       "      <td>False</td>\n",
       "      <td>False</td>\n",
       "      <td>Kosuke v1.1 (Behan et al., 2018)</td>\n",
       "      <td>NaN</td>\n",
       "    </tr>\n",
       "  </tbody>\n",
       "</table>\n",
       "<p>1542 rows × 22 columns</p>\n",
       "</div>"
      ],
      "text/plain": [
       "     datasourceId                 targetId cellLineBackground  \\\n",
       "0       ot_crispr     ENSG00000163902_RPN1                BOB   \n",
       "1       ot_crispr   ENSG00000186496_ZNF396                BOB   \n",
       "2       ot_crispr  ENSG00000188707_ZBED6CL                BOB   \n",
       "3       ot_crispr    ENSG00000187123_LYPD6                BOB   \n",
       "4       ot_crispr   ENSG00000090674_MCOLN1                BOB   \n",
       "...           ...                      ...                ...   \n",
       "1537    ot_crispr                 C1orf172                NaN   \n",
       "1538    ot_crispr   ENSG00000164695_CHMP4C                BOB   \n",
       "1539    ot_crispr     ENSG00000106484_MEST                BOB   \n",
       "1540    ot_crispr                   Mar-09                NaN   \n",
       "1541    ot_crispr                     H1F0           KOLF2-C1   \n",
       "\n",
       "                                            cellType  datatypeId  \\\n",
       "0     human iPSCs-derived induced neurons (cortical)  ot_partner   \n",
       "1     human iPSCs-derived induced neurons (cortical)  ot_partner   \n",
       "2     human iPSCs-derived induced neurons (cortical)  ot_partner   \n",
       "3     human iPSCs-derived induced neurons (cortical)  ot_partner   \n",
       "4     human iPSCs-derived induced neurons (cortical)  ot_partner   \n",
       "...                                              ...         ...   \n",
       "1537                             HaCaT keratinocytes  ot_partner   \n",
       "1538  human iPSCs-derived induced neurons (cortical)  ot_partner   \n",
       "1539  human iPSCs-derived induced neurons (cortical)  ot_partner   \n",
       "1540                             HaCaT keratinocytes  ot_partner   \n",
       "1541          human iPSC-derived dopaminergic neuron  ot_partner   \n",
       "\n",
       "     diseaseFromSourceMappedId projectId  resourceScore statisticalTestTail  \\\n",
       "0                  EFO_0000249  OTAR2054       0.032718          upper tail   \n",
       "1                  EFO_0000249  OTAR2054       0.010176          upper tail   \n",
       "2                  EFO_0000249  OTAR2054       0.007841          upper tail   \n",
       "3                  EFO_0000249  OTAR2054       0.025427          upper tail   \n",
       "4                  EFO_0000249  OTAR2054       0.024958          upper tail   \n",
       "...                        ...       ...            ...                 ...   \n",
       "1537               EFO_0000676   OTAR033       0.000077          lower tail   \n",
       "1538               EFO_0000249  OTAR2054       0.029987          upper tail   \n",
       "1539               EFO_0000249  OTAR2054       0.041565          upper tail   \n",
       "1540               EFO_0000676   OTAR033       0.010812          lower tail   \n",
       "1541               EFO_0002508   OTAR035       0.007530          upper tail   \n",
       "\n",
       "                       studyId  ... resolvedTarget resolvedDisease  \\\n",
       "0                OTAR2054_CHOP  ...          False            True   \n",
       "1                OTAR2054_CHOP  ...          False            True   \n",
       "2                OTAR2054_CHOP  ...          False            True   \n",
       "3                OTAR2054_CHOP  ...          False            True   \n",
       "4                OTAR2054_CHOP  ...          False            True   \n",
       "...                        ...  ...            ...             ...   \n",
       "1537             OTAR033_IL4_2  ...          False            True   \n",
       "1538             OTAR2054_CHOP  ...          False            True   \n",
       "1539             OTAR2054_CHOP  ...          False            True   \n",
       "1540             OTAR033_IL4_2  ...          False            True   \n",
       "1541  OTAR035_oxidative_stress  ...          False            True   \n",
       "\n",
       "        diseaseId  excludedBiotype                                        id  \\\n",
       "0     EFO_0000249            False  296826a8bcacb02eaad567369e24ecca107c9be1   \n",
       "1     EFO_0000249            False  5a526b944b918589b97c1a3e7391ca6c0834e68f   \n",
       "2     EFO_0000249            False  974bbd7d5d3ecdc5ac19e63c8bf040d9386b8d5e   \n",
       "3     EFO_0000249            False  a7a9e4250de44eaeb9f58b53888e261d03fc8bc6   \n",
       "4     EFO_0000249            False  d192f1b2673c1f54a61a9a1bda0c3f29350b58cb   \n",
       "...           ...              ...                                       ...   \n",
       "1537  EFO_0000676            False  484bb7c6f7bc92630c3be97964f8a79d49fdefbe   \n",
       "1538  EFO_0000249            False  778faa3a223343821b5aa9d9d40bf6951c8c33f6   \n",
       "1539  EFO_0000249            False  a96273f1a33842dee190748bf4409e57b106b615   \n",
       "1540  EFO_0000676            False  b9620f13a794cfac37eddb5c2eb48ceef551d5fa   \n",
       "1541  EFO_0002508            False  f417768d0362389f747f6808bbd881ee7ccc729e   \n",
       "\n",
       "      score nullifiedScore  markedDuplicate               crisprScreenLibrary  \\\n",
       "0       0.5          False            False                               NaN   \n",
       "1       0.5          False            False                               NaN   \n",
       "2       0.5          False            False                               NaN   \n",
       "3       0.5          False            False                               NaN   \n",
       "4       0.5          False            False                               NaN   \n",
       "...     ...            ...              ...                               ...   \n",
       "1537    0.5          False            False  Kosuke v1.1 (Behan et al., 2018)   \n",
       "1538    0.5          False            False                               NaN   \n",
       "1539    0.5          False            False                               NaN   \n",
       "1540    0.5          False            False  Kosuke v1.1 (Behan et al., 2018)   \n",
       "1541    0.5          False            False  Kosuke v1.1 (Behan et al., 2018)   \n",
       "\n",
       "      contrast  \n",
       "0          NaN  \n",
       "1          NaN  \n",
       "2          NaN  \n",
       "3          NaN  \n",
       "4          NaN  \n",
       "...        ...  \n",
       "1537       NaN  \n",
       "1538       NaN  \n",
       "1539       NaN  \n",
       "1540       NaN  \n",
       "1541       NaN  \n",
       "\n",
       "[1542 rows x 22 columns]"
      ]
     },
     "execution_count": 32,
     "metadata": {},
     "output_type": "execute_result"
    }
   ],
   "source": [
    "(\n",
    "    failed_df\n",
    "    .assign(targetFromSourceId = lambda df: df.targetFromSourceId.str.split(r'_').apply(lambda x: x[0]))\n",
    ")\n",
    "\n",
    "\n"
   ]
  },
  {
   "cell_type": "code",
   "execution_count": 30,
   "metadata": {},
   "outputs": [
    {
     "data": {
      "text/plain": [
       "0       ENSG00000163902\n",
       "1       ENSG00000186496\n",
       "2       ENSG00000188707\n",
       "3       ENSG00000187123\n",
       "4       ENSG00000090674\n",
       "             ...       \n",
       "1537           C1orf172\n",
       "1538    ENSG00000164695\n",
       "1539    ENSG00000106484\n",
       "1540             Mar-09\n",
       "1541               H1F0\n",
       "Name: targetFromSourceId, Length: 1542, dtype: object"
      ]
     },
     "execution_count": 30,
     "metadata": {},
     "output_type": "execute_result"
    }
   ],
   "source": [
    "failed_df"
   ]
  },
  {
   "cell_type": "code",
   "execution_count": 44,
   "metadata": {},
   "outputs": [
    {
     "data": {
      "text/plain": [
       "[('pocok', 'type1'), ('kukac', 'type2'), ('kutya', 'type1')]"
      ]
     },
     "execution_count": 44,
     "metadata": {},
     "output_type": "execute_result"
    }
   ],
   "source": [
    "import re\n",
    "\n",
    "alteration_type = ['type1', 'type2']\n",
    "alterations = ['pocok', 'kukac', 'kutya']\n",
    "\n",
    "\n",
    "alteration_types = alteration_type * len(alterations)\n",
    "list(zip(alterations, alteration_types))"
   ]
  },
  {
   "cell_type": "code",
   "execution_count": 37,
   "metadata": {},
   "outputs": [
    {
     "ename": "KeyError",
     "evalue": "'cca'",
     "output_type": "error",
     "traceback": [
      "\u001b[0;31m---------------------------------------------------------------------------\u001b[0m",
      "\u001b[0;31mKeyError\u001b[0m                                  Traceback (most recent call last)",
      "\u001b[0;32m<ipython-input-37-84b78ae80f89>\u001b[0m in \u001b[0;36m<module>\u001b[0;34m\u001b[0m\n\u001b[0;32m----> 1\u001b[0;31m \u001b[0mtranslate_dct\u001b[0m\u001b[0;34m[\u001b[0m\u001b[0;34m'cca'\u001b[0m\u001b[0;34m]\u001b[0m\u001b[0;34m\u001b[0m\u001b[0;34m\u001b[0m\u001b[0m\n\u001b[0m",
      "\u001b[0;31mKeyError\u001b[0m: 'cca'"
     ]
    }
   ],
   "source": [
    "[(alternation,), ]"
   ]
  },
  {
   "cell_type": "code",
   "execution_count": 41,
   "metadata": {},
   "outputs": [
    {
     "data": {
      "text/plain": [
       "'cicafulcicaful'"
      ]
     },
     "execution_count": 41,
     "metadata": {},
     "output_type": "execute_result"
    }
   ],
   "source": [
    "alteration_types"
   ]
  },
  {
   "cell_type": "code",
   "execution_count": null,
   "metadata": {},
   "outputs": [],
   "source": [
    " "
   ]
  }
 ],
 "metadata": {
  "kernelspec": {
   "display_name": "Python 3",
   "language": "python",
   "name": "python3"
  },
  "language_info": {
   "codemirror_mode": {
    "name": "ipython",
    "version": 3
   },
   "file_extension": ".py",
   "mimetype": "text/x-python",
   "name": "python",
   "nbconvert_exporter": "python",
   "pygments_lexer": "ipython3",
   "version": "3.9.5"
  }
 },
 "nbformat": 4,
 "nbformat_minor": 4
}
