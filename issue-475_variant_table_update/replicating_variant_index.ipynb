{
 "cells": [
  {
   "cell_type": "code",
   "execution_count": 114,
   "id": "2c332cbc",
   "metadata": {
    "ExecuteTime": {
     "end_time": "2022-03-11T23:53:53.376003Z",
     "start_time": "2022-03-11T23:53:53.347703Z"
    }
   },
   "outputs": [],
   "source": [
    "import json\n",
    "from json import JSONDecodeError\n",
    "\n",
    "import requests\n",
    "from functools import reduce\n",
    "import pandas as pd\n",
    "from pyspark.conf import SparkConf\n",
    "\n",
    "from pyspark.sql.functions import (\n",
    "    col, udf, struct, lit, split, expr, collect_set, struct, \n",
    "    regexp_replace, min as pyspark_min, explode, when,\n",
    "    array_contains, count, first, element_at, size, sum as pyspark_sum\n",
    ")\n",
    "from pyspark.sql.types import FloatType, ArrayType, StructType, StructField, BooleanType, StringType\n",
    "from pyspark.sql import SparkSession, DataFrame\n",
    "from collections import defaultdict\n",
    "\n",
    "# establish spark connection\n",
    "spark_conf = (\n",
    "    SparkConf()\n",
    "    .set('spark.driver.memory', f'8g')\n",
    "    .set('spark.executor.memory', f'8g')\n",
    "    .set('spark.driver.maxResultSize', '0')\n",
    "    .set('spark.debug.maxToStringFields', '2000')\n",
    "    .set('spark.sql.execution.arrow.maxRecordsPerBatch', '500000')\n",
    ")\n",
    "spark = (\n",
    "    SparkSession.builder\n",
    "    .config(conf=spark_conf)\n",
    "    .master('local[*]')\n",
    "    .config(\"spark.driver.bindAddress\", \"127.0.0.1\")\n",
    "    .getOrCreate()\n",
    ")\n"
   ]
  },
  {
   "cell_type": "code",
   "execution_count": 2,
   "id": "c04166dd",
   "metadata": {
    "ExecuteTime": {
     "end_time": "2022-03-11T10:00:59.980678Z",
     "start_time": "2022-03-11T10:00:43.152136Z"
    }
   },
   "outputs": [
    {
     "name": "stdout",
     "output_type": "stream",
     "text": [
      "root\n",
      " |-- chr_id: string (nullable = true)\n",
      " |-- position: integer (nullable = true)\n",
      " |-- ref_allele: string (nullable = true)\n",
      " |-- alt_allele: string (nullable = true)\n",
      " |-- chr_id_b37: string (nullable = true)\n",
      " |-- position_b37: integer (nullable = true)\n",
      " |-- rs_id: string (nullable = true)\n",
      " |-- most_severe_consequence: string (nullable = true)\n",
      " |-- cadd: struct (nullable = true)\n",
      " |    |-- raw: double (nullable = true)\n",
      " |    |-- phred: double (nullable = true)\n",
      " |-- af: struct (nullable = true)\n",
      " |    |-- gnomad_afr: double (nullable = true)\n",
      " |    |-- gnomad_amr: double (nullable = true)\n",
      " |    |-- gnomad_asj: double (nullable = true)\n",
      " |    |-- gnomad_eas: double (nullable = true)\n",
      " |    |-- gnomad_fin: double (nullable = true)\n",
      " |    |-- gnomad_nfe: double (nullable = true)\n",
      " |    |-- gnomad_nfe_est: double (nullable = true)\n",
      " |    |-- gnomad_nfe_nwe: double (nullable = true)\n",
      " |    |-- gnomad_nfe_onf: double (nullable = true)\n",
      " |    |-- gnomad_nfe_seu: double (nullable = true)\n",
      " |    |-- gnomad_oth: double (nullable = true)\n",
      " |-- gene_id_any_distance: long (nullable = true)\n",
      " |-- gene_id_any: string (nullable = true)\n",
      " |-- gene_id_prot_coding_distance: long (nullable = true)\n",
      " |-- gene_id_prot_coding: string (nullable = true)\n",
      "\n",
      "-RECORD 0----------------------------------------------------------------------------------------------------------------------------------------------------------------------------------------------------------------------\n",
      " chr_id                       | 1                                                                                                                                                                                              \n",
      " position                     | 28563                                                                                                                                                                                          \n",
      " ref_allele                   | A                                                                                                                                                                                              \n",
      " alt_allele                   | G                                                                                                                                                                                              \n",
      " chr_id_b37                   | 1                                                                                                                                                                                              \n",
      " position_b37                 | 28563                                                                                                                                                                                          \n",
      " rs_id                        | rs4099234                                                                                                                                                                                      \n",
      " most_severe_consequence      | intron_variant                                                                                                                                                                                 \n",
      " cadd                         | {0.040822, 3.275}                                                                                                                                                                              \n",
      " af                           | {0.6631419939577039, 0.9736842105263158, 0.9444444444444444, 0.9893617021276596, 1.0, 0.9873188405797102, 0.9411764705882353, 0.9912280701754386, 0.9861111111111112, 1.0, 0.9814814814814815} \n",
      " gene_id_any_distance         | 36856                                                                                                                                                                                          \n",
      " gene_id_any                  | ENSG00000186092                                                                                                                                                                                \n",
      " gene_id_prot_coding_distance | 36856                                                                                                                                                                                          \n",
      " gene_id_prot_coding          | ENSG00000186092                                                                                                                                                                                \n",
      "only showing top 1 row\n",
      "\n",
      "None\n"
     ]
    }
   ],
   "source": [
    "vi = spark.read.parquet('/Users/dsuveges/project_data/variant-index').persist()\n",
    "\n",
    "vi.printSchema()\n",
    "print(vi.show(1, False, True))"
   ]
  },
  {
   "cell_type": "code",
   "execution_count": 3,
   "id": "4fc9782b",
   "metadata": {
    "ExecuteTime": {
     "end_time": "2022-03-11T10:07:07.321010Z",
     "start_time": "2022-03-11T10:00:59.983007Z"
    },
    "scrolled": true
   },
   "outputs": [
    {
     "data": {
      "text/plain": [
       "72878709"
      ]
     },
     "execution_count": 3,
     "metadata": {},
     "output_type": "execute_result"
    }
   ],
   "source": [
    "vi.count()"
   ]
  },
  {
   "cell_type": "code",
   "execution_count": 4,
   "id": "8f01e043",
   "metadata": {
    "ExecuteTime": {
     "end_time": "2022-03-11T11:07:38.854978Z",
     "start_time": "2022-03-11T11:01:40.384759Z"
    }
   },
   "outputs": [
    {
     "name": "stdout",
     "output_type": "stream",
     "text": [
      "72056558\n",
      "66727621\n",
      "+-----+-----+------------------------+-----------+-------------------+\n",
      "|rs_id|count|most_severe_consequences|gene_id_any|gene_id_prot_coding|\n",
      "+-----+-----+------------------------+-----------+-------------------+\n",
      "+-----+-----+------------------------+-----------+-------------------+\n",
      "\n",
      "None\n"
     ]
    }
   ],
   "source": [
    "print(vi.filter(col('rs_id').isNotNull()).count())\n",
    "print(vi.filter(col('rs_id').isNotNull()).select(col('rs_id')).distinct().count())\n",
    "print(vi\n",
    "      .filter(col('rs_id').isNotNull())\n",
    "      .groupby('rs_id')\n",
    "      .agg(\n",
    "          count(col('rs_id')).alias('count'),\n",
    "          collect_set(col('most_severe_consequence')).alias('most_severe_consequences'),\n",
    "          collect_set(col('gene_id_any')).alias('gene_id_any'),\n",
    "          collect_set(col('gene_id_prot_coding')).alias('gene_id_prot_coding')\n",
    "          \n",
    "      )\n",
    "      .filter(size(col('gene_id_any'))>1)\n",
    "      .show())"
   ]
  },
  {
   "cell_type": "code",
   "execution_count": 11,
   "id": "5075be9c",
   "metadata": {
    "ExecuteTime": {
     "end_time": "2022-03-11T09:24:17.835664Z",
     "start_time": "2022-03-11T09:24:17.604631Z"
    },
    "scrolled": true
   },
   "outputs": [
    {
     "name": "stdout",
     "output_type": "stream",
     "text": [
      "-RECORD 0------------------------------------------\n",
      " chr_id                       | 18                 \n",
      " position                     | 50330765           \n",
      " ref_allele                   | T                  \n",
      " alt_allele                   | TATATATATATATATATA \n",
      " chr_id_b37                   | 18                 \n",
      " position_b37                 | 47857135           \n",
      " rs_id                        | rs1491385527       \n",
      " most_severe_consequence      | intergenic_variant \n",
      " gene_id_any_distance         | 42926              \n",
      " gene_id_any                  | ENSG00000154832    \n",
      " gene_id_prot_coding_distance | 42926              \n",
      " gene_id_prot_coding          | ENSG00000154832    \n",
      "-RECORD 1------------------------------------------\n",
      " chr_id                       | 18                 \n",
      " position                     | 50330765           \n",
      " ref_allele                   | TTTTTTTTTTACTGG    \n",
      " alt_allele                   | T                  \n",
      " chr_id_b37                   | 18                 \n",
      " position_b37                 | 47857135           \n",
      " rs_id                        | rs1491385527       \n",
      " most_severe_consequence      | intergenic_variant \n",
      " gene_id_any_distance         | 42926              \n",
      " gene_id_any                  | ENSG00000154832    \n",
      " gene_id_prot_coding_distance | 42926              \n",
      " gene_id_prot_coding          | ENSG00000154832    \n",
      "\n"
     ]
    }
   ],
   "source": [
    "(\n",
    "    vi\n",
    "    .filter(col('rs_id') == 'rs1491385527')\n",
    "    .drop('af', 'cadd')\n",
    "    .show(2, False, True)\n",
    ")"
   ]
  },
  {
   "cell_type": "code",
   "execution_count": 7,
   "id": "95b19c47",
   "metadata": {
    "ExecuteTime": {
     "end_time": "2022-03-11T12:51:31.779363Z",
     "start_time": "2022-03-11T12:51:31.759476Z"
    }
   },
   "outputs": [],
   "source": [
    "import json\n",
    "with open('/Users/dsuveges/Downloads/vep-annotated-complex.json', 'r') as f:\n",
    "    data = json.load(f)"
   ]
  },
  {
   "cell_type": "code",
   "execution_count": 29,
   "id": "f84157a3",
   "metadata": {
    "ExecuteTime": {
     "end_time": "2022-03-11T13:12:13.701547Z",
     "start_time": "2022-03-11T13:12:13.389863Z"
    }
   },
   "outputs": [
    {
     "name": "stdout",
     "output_type": "stream",
     "text": [
      "+-------------------------------------------------------------+-------------------------------------------------------------------------------------------------------------------------------------------------------------------------------------------+\n",
      "|variant                                                      |genes                                                                                                                                                                                      |\n",
      "+-------------------------------------------------------------+-------------------------------------------------------------------------------------------------------------------------------------------------------------------------------------------+\n",
      "|NC_000001.11:g.20810811_20829210del                          |[ENSG00000075151]                                                                                                                                                                          |\n",
      "|NC_000006.12:g.10887131_11044230del                          |[ENSG00000230314, ENSG00000274541, ENSG00000197977, ENSG00000235051, ENSG00000153157, ENSG00000272162]                                                                                     |\n",
      "|NC_000002.12:g.232379030_232526243del                        |[ENSG00000163295, ENSG00000237087, ENSG00000163286, ENSG00000135902, ENSG00000224516, ENSG00000223788, ENSG00000204121, ENSG00000171551, ENSG00000163283, ENSG00000244280, ENSG00000237412]|\n",
      "|NC_000019.10:g.1453072_1481984del                            |[ENSG00000115257, ENSG00000119559, ENSG00000267317, ENSG00000115266]                                                                                                                       |\n",
      "|NC_000006.12:g.52751643_52757905del                          |[ENSG00000244067]                                                                                                                                                                          |\n",
      "|NC_000023.11:g.11266933_11363172del                          |[ENSG00000232392, ENSG00000263652, ENSG00000125363, ENSG00000047648]                                                                                                                       |\n",
      "|NC_000003.12:g.75379524_75420342del                          |[ENSG00000240665, ENSG00000244026, ENSG00000244699, ENSG00000238278, ENSG00000242953]                                                                                                      |\n",
      "|NC_000015.10:g.34468447_34508394del                          |[ENSG00000259917, ENSG00000261559, ENSG00000259917, ENSG00000261559]                                                                                                                       |\n",
      "|NC_000023.11:g.124061012_124094911del                        |[ENSG00000101972]                                                                                                                                                                          |\n",
      "|NC_000003.12:g.48562955_48587488del                          |[ENSG00000145040, ENSG00000114270, ENSG00000284251, ENSG00000114268]                                                                                                                       |\n",
      "|NC_000022.11:g.(?_41092585)_(41093099_41117186)del           |[ENSG00000100393, ENSG00000284015]                                                                                                                                                         |\n",
      "|NC_000005.10:g.(159317671_159317673)_(159322312_159322314)del|[ENSG00000249738, ENSG00000113302, ENSG00000221601]                                                                                                                                        |\n",
      "|NC_000019.10:g.(?_7112255)_(7249328_?)del                    |[ENSG00000171105]                                                                                                                                                                          |\n",
      "|LRG_258:g.(43089_43830)_(47717_51712)dup                     |[LRG_258]                                                                                                                                                                                  |\n",
      "|NC_000018.10:g.(?_79973685)_(79973857_79977597)del           |[ENSG00000141759, ENSG00000226742]                                                                                                                                                         |\n",
      "|NC_000007.14:g.(2914850_2914885)_(2916227_2916262)del        |[ENSG00000198286]                                                                                                                                                                          |\n",
      "|NC_000007.14:g.(69899499_70118132)_(70134571_70435751)del    |[ENSG00000158321]                                                                                                                                                                          |\n",
      "|NC_000007.14:g.(70435782_70698569)_(70766334_70768023)del    |[ENSG00000158321]                                                                                                                                                                          |\n",
      "|NC_000002.12:g.(?_31524586)_(31580971_?)del                  |[ENSG00000228563, ENSG00000277893]                                                                                                                                                         |\n",
      "|NC_000017.11:g.(15239612_15259094)_(15260727_?)del           |[ENSG00000265445, ENSG00000109099, ENSG00000279660, ENSG00000265445, ENSG00000109099, ENSG00000279660]                                                                                     |\n",
      "+-------------------------------------------------------------+-------------------------------------------------------------------------------------------------------------------------------------------------------------------------------------------+\n",
      "only showing top 20 rows\n",
      "\n"
     ]
    }
   ],
   "source": [
    "import pandas as pd\n",
    "\n",
    "df = spark.createDataFrame(pd.DataFrame({\"variant\": data.keys(), \"genes\": data.values()})).persist()\n",
    "\n",
    "df.show(truncate=False)"
   ]
  },
  {
   "cell_type": "code",
   "execution_count": 13,
   "id": "2341bc4c",
   "metadata": {
    "ExecuteTime": {
     "end_time": "2022-03-11T12:53:33.843714Z",
     "start_time": "2022-03-11T12:53:32.031479Z"
    }
   },
   "outputs": [
    {
     "name": "stdout",
     "output_type": "stream",
     "text": [
      "6731\n",
      "6731\n"
     ]
    }
   ],
   "source": [
    "print(df.count())\n",
    "print(df.select('variant').distinct().count())"
   ]
  },
  {
   "cell_type": "code",
   "execution_count": 14,
   "id": "cf89a9da",
   "metadata": {
    "ExecuteTime": {
     "end_time": "2022-03-11T12:54:14.116833Z",
     "start_time": "2022-03-11T12:54:12.745936Z"
    }
   },
   "outputs": [
    {
     "data": {
      "text/plain": [
       "10448"
      ]
     },
     "execution_count": 14,
     "metadata": {},
     "output_type": "execute_result"
    }
   ],
   "source": [
    "(df\n",
    ".select(explode(col('genes')))\n",
    ".distinct()\n",
    ".count())"
   ]
  },
  {
   "cell_type": "code",
   "execution_count": 30,
   "id": "6ac6bd6c",
   "metadata": {
    "ExecuteTime": {
     "end_time": "2022-03-11T13:15:19.187081Z",
     "start_time": "2022-03-11T13:15:17.316328Z"
    }
   },
   "outputs": [
    {
     "name": "stdout",
     "output_type": "stream",
     "text": [
      "4707\n",
      "1869\n"
     ]
    }
   ],
   "source": [
    "print(\n",
    "    df\n",
    "    .filter(size(col('genes')) <= 2)\n",
    "    .count()\n",
    ")\n",
    "\n",
    "print(\n",
    "    df\n",
    "    .filter(size(col('genes')) <= 2)\n",
    "    .select(explode(col('genes')))\n",
    "    .distinct()\n",
    "    .count()\n",
    ")"
   ]
  },
  {
   "cell_type": "code",
   "execution_count": 26,
   "id": "b47b253d",
   "metadata": {
    "ExecuteTime": {
     "end_time": "2022-03-11T12:57:46.757329Z",
     "start_time": "2022-03-11T12:57:45.153405Z"
    }
   },
   "outputs": [
    {
     "name": "stdout",
     "output_type": "stream",
     "text": [
      "6123\n",
      "3515\n"
     ]
    }
   ],
   "source": [
    "print(\n",
    "    df\n",
    "    .filter(size(col('genes')) <= 5)\n",
    "    .count()\n",
    ")\n",
    "\n",
    "print(\n",
    "    df\n",
    "    .filter(size(col('genes')) <= 5)\n",
    "    .select(explode(col('genes')))\n",
    "    .distinct()\n",
    "    .count()\n",
    ")"
   ]
  },
  {
   "cell_type": "code",
   "execution_count": 1,
   "id": "20642c5b",
   "metadata": {
    "ExecuteTime": {
     "end_time": "2022-03-14T10:34:37.800370Z",
     "start_time": "2022-03-14T10:34:27.703623Z"
    },
    "scrolled": false
   },
   "outputs": [
    {
     "name": "stdout",
     "output_type": "stream",
     "text": [
      "+------+----------+---------------+-----------------+\n",
      "|siteId|compoundId|compoundChainId|compoundResidueNo|\n",
      "+------+----------+---------------+-----------------+\n",
      "|   AC1|       GLN|              A|              101|\n",
      "|   AC2|        MG|              A|              102|\n",
      "|   AC3|        MG|              A|              103|\n",
      "|   AC4|        MG|              A|              104|\n",
      "|   AC5|        MG|              A|              105|\n",
      "|   AC6|        MG|              A|              106|\n",
      "|   AC7|        NA|              A|              107|\n",
      "|   AC8|        NA|              A|              108|\n",
      "|   AC9|        NA|              A|              109|\n",
      "|   AD1|        NA|              A|              110|\n",
      "|   AD2|        NA|              A|              111|\n",
      "|   AD3|       GLN|              B|              101|\n",
      "|   AD4|        MG|              B|              102|\n",
      "|   AD5|        MG|              B|              103|\n",
      "|   AD6|        MG|              B|              104|\n",
      "|   AD7|        MG|              B|              105|\n",
      "|   AD8|        NA|              B|              106|\n",
      "|   AD9|        NA|              B|              107|\n",
      "|   AE1|        NA|              B|              108|\n",
      "|   AE2|        NA|              B|              109|\n",
      "+------+----------+---------------+-----------------+\n",
      "only showing top 20 rows\n",
      "\n",
      "+------+-------+-----+---------+\n",
      "|siteId|residue|chain|residueNo|\n",
      "+------+-------+-----+---------+\n",
      "|   AC1|      C|    A|        1|\n",
      "|   AC1|      G|    A|       22|\n",
      "|   AC1|      G|    A|       23|\n",
      "|   AC1|      A|    A|       24|\n",
      "|   AC1|      G|    A|       54|\n",
      "|   AC1|      C|    A|       58|\n",
      "|   AC1|      G|    A|       59|\n",
      "|   AC1|      C|    A|       60|\n",
      "|   AC1|     MG|    A|      102|\n",
      "|   AC2|    GLN|    A|      101|\n",
      "|   AC6|      G|    A|       61|\n",
      "|   AC7|      G|    A|       11|\n",
      "|   AC7|      G|    A|       12|\n",
      "|   AC8|      G|    A|       20|\n",
      "|   AC8|      C|    A|       21|\n",
      "|   AC9|      G|    A|       31|\n",
      "|   AC9|      U|    A|       32|\n",
      "|   AC9|      G|    A|       46|\n",
      "|   AC9|      G|    A|       47|\n",
      "|   AD1|      G|    A|       12|\n",
      "+------+-------+-----+---------+\n",
      "only showing top 20 rows\n",
      "\n",
      "+------+----------+---------------+-----------------+-------+-----+---------+-----+\n",
      "|siteId|compoundId|compoundChainId|compoundResidueNo|residue|chain|residueNo|pdbId|\n",
      "+------+----------+---------------+-----------------+-------+-----+---------+-----+\n",
      "|   AC1|       GLN|              A|              101|      C|    A|        1| 5ddp|\n",
      "|   AC1|       GLN|              A|              101|      G|    A|       22| 5ddp|\n",
      "|   AC1|       GLN|              A|              101|      G|    A|       23| 5ddp|\n",
      "|   AC1|       GLN|              A|              101|      A|    A|       24| 5ddp|\n",
      "|   AC1|       GLN|              A|              101|      G|    A|       54| 5ddp|\n",
      "|   AC1|       GLN|              A|              101|      C|    A|       58| 5ddp|\n",
      "|   AC1|       GLN|              A|              101|      G|    A|       59| 5ddp|\n",
      "|   AC1|       GLN|              A|              101|      C|    A|       60| 5ddp|\n",
      "|   AC1|       GLN|              A|              101|     MG|    A|      102| 5ddp|\n",
      "|   AC2|        MG|              A|              102|    GLN|    A|      101| 5ddp|\n",
      "|   AC6|        MG|              A|              106|      G|    A|       61| 5ddp|\n",
      "|   AC7|        NA|              A|              107|      G|    A|       11| 5ddp|\n",
      "|   AC7|        NA|              A|              107|      G|    A|       12| 5ddp|\n",
      "|   AC8|        NA|              A|              108|      G|    A|       20| 5ddp|\n",
      "|   AC8|        NA|              A|              108|      C|    A|       21| 5ddp|\n",
      "|   AC9|        NA|              A|              109|      G|    A|       31| 5ddp|\n",
      "|   AC9|        NA|              A|              109|      U|    A|       32| 5ddp|\n",
      "|   AC9|        NA|              A|              109|      G|    A|       46| 5ddp|\n",
      "|   AC9|        NA|              A|              109|      G|    A|       47| 5ddp|\n",
      "|   AD1|        NA|              A|              110|      G|    A|       12| 5ddp|\n",
      "|   AD1|        NA|              A|              110|      A|    A|       13| 5ddp|\n",
      "|   AD1|        NA|              A|              110|      A|    A|       14| 5ddp|\n",
      "|   AD1|        NA|              A|              110|      C|    B|       33| 5ddp|\n",
      "|   AD2|        NA|              A|              111|      G|    A|       31| 5ddp|\n",
      "|   AD2|        NA|              A|              111|      U|    A|       32| 5ddp|\n",
      "|   AD3|       GLN|              B|              101|      C|    B|        1| 5ddp|\n",
      "|   AD3|       GLN|              B|              101|      G|    B|       22| 5ddp|\n",
      "|   AD3|       GLN|              B|              101|      G|    B|       23| 5ddp|\n",
      "|   AD3|       GLN|              B|              101|      A|    B|       24| 5ddp|\n",
      "|   AD3|       GLN|              B|              101|      G|    B|       54| 5ddp|\n",
      "|   AD3|       GLN|              B|              101|      C|    B|       58| 5ddp|\n",
      "|   AD3|       GLN|              B|              101|      G|    B|       59| 5ddp|\n",
      "|   AD3|       GLN|              B|              101|      C|    B|       60| 5ddp|\n",
      "|   AD3|       GLN|              B|              101|     MG|    B|      102| 5ddp|\n",
      "|   AD4|        MG|              B|              102|    GLN|    B|      101| 5ddp|\n",
      "|   AD8|        NA|              B|              106|      G|    B|       11| 5ddp|\n",
      "|   AD8|        NA|              B|              106|      G|    B|       12| 5ddp|\n",
      "|   AD9|        NA|              B|              107|      G|    B|       31| 5ddp|\n",
      "|   AD9|        NA|              B|              107|      U|    B|       32| 5ddp|\n",
      "|   AD9|        NA|              B|              107|      C|    B|       33| 5ddp|\n",
      "|   AD9|        NA|              B|              107|      G|    B|       46| 5ddp|\n",
      "|   AD9|        NA|              B|              107|      G|    B|       47| 5ddp|\n",
      "|   AE1|        NA|              B|              108|      G|    B|       19| 5ddp|\n",
      "|   AE1|        NA|              B|              108|      G|    B|       20| 5ddp|\n",
      "|   AE1|        NA|              B|              108|      C|    B|       21| 5ddp|\n",
      "|   AE2|        NA|              B|              109|      C|    A|       33| 5ddp|\n",
      "|   AE2|        NA|              B|              109|      G|    B|       12| 5ddp|\n",
      "|   AE2|        NA|              B|              109|      A|    B|       13| 5ddp|\n",
      "|   AE3|        NA|              B|              110|      G|    B|       31| 5ddp|\n",
      "|   AE3|        NA|              B|              110|      U|    B|       32| 5ddp|\n",
      "+------+----------+---------------+-----------------+-------+-----+---------+-----+\n",
      "\n"
     ]
    }
   ],
   "source": [
    "from collections import defaultdict\n",
    "from functools import reduce\n",
    "import re\n",
    "import requests\n",
    "\n",
    "import pandas as pd\n",
    "\n",
    "from pyspark.conf import SparkConf\n",
    "from pyspark.sql.functions import (\n",
    "    col, split, expr, lit, struct, element_at\n",
    ")\n",
    "from pyspark.sql import SparkSession, DataFrame\n",
    "\n",
    "# establish spark connection\n",
    "spark_conf = (\n",
    "    SparkConf()\n",
    "    .set('spark.driver.memory', '8g')\n",
    "    .set('spark.executor.memory', '8g')\n",
    "    .set('spark.driver.maxResultSize', '0')\n",
    "    .set('spark.debug.maxToStringFields', '2000')\n",
    "    .set('spark.sql.execution.arrow.maxRecordsPerBatch', '500000')\n",
    ")\n",
    "spark = (\n",
    "    SparkSession.builder\n",
    "    .config(conf=spark_conf)\n",
    "    .master('local[*]')\n",
    "    .config(\"spark.driver.bindAddress\", \"127.0.0.1\")\n",
    "    .getOrCreate()\n",
    ")\n",
    "\n",
    "def process_interacting_residues(sites_lines: zip) -> DataFrame:\n",
    "    '''\n",
    "    Considerations:\n",
    "    * Interacting residues are listed behind SITE tokens\n",
    "    * Binding sites are identified by their AC## site identifier.\n",
    "    * Only up to four residues are listed in one row.\n",
    "    * For each interacting residues the residue name, chainId and residueNo provided\n",
    "    * For whatever reason the chain and the residue number is concatenated for interacting HOH\n",
    "    - HOH interactions are dropped.\n",
    "    - Interactions with other ligands are kept.\n",
    "    '''\n",
    "\n",
    "    # Process each line and create a dataframe:\n",
    "    # How one line looks like:\n",
    "    # SITE     2 AC1 16 TRP A 760  TYR A 813  ILE A 825  GLU A 826\n",
    "    # As seen, in each row there can be up to 4 interacting residue\n",
    "    sites = spark.createDataFrame([parsing_SITE_row(line) for line in sites_lines]).persist()\n",
    "\n",
    "    # For each interacting residue we have the following fields:\n",
    "    fields = ['residue', 'chain', 'residueNo']\n",
    "\n",
    "    # The shape of the dataframe is not good, we have to collate these fields in a single column:\n",
    "    expressions = map(\n",
    "        lambda index: (f'_{index}', struct([col(f'{field}_{index}').alias(field) for field in fields])),\n",
    "        range(1, 5)\n",
    "    )\n",
    "\n",
    "    # Applying map on the dataframe:\n",
    "    res_df = reduce(lambda DF, value: DF.withColumn(*value), expressions, sites)\n",
    "\n",
    "    # Stack the previously generated columns:\n",
    "    unpivot_expression = f'''stack(4, {\", \".join([f\"'_{index}', _{index}\" for index in range(1,5)])} ) as (index, interaction)'''\n",
    "\n",
    "    return (\n",
    "        res_df\n",
    "\n",
    "        # Unpivot:\n",
    "        .select('siteId', expr(unpivot_expression))\n",
    "\n",
    "        # Extracting columns:\n",
    "        .select(\n",
    "            'siteId',\n",
    "            col('interaction.residue').alias('residue'),\n",
    "            col('interaction.chain').alias('chain'),\n",
    "            col('interaction.residueNo').alias('residueNo')\n",
    "        )\n",
    "        # Removing water and empty lines:\n",
    "        .filter(\n",
    "            (col('residue') != 'HOH') & (col('residue').isNotNull())\n",
    "        )\n",
    "        .persist()\n",
    "    )\n",
    "\n",
    "def parsing_SITE_row(row: str) -> dict:\n",
    "    \"\"\" Parsing the PDB SITE token data\n",
    "    Rows look like this:\n",
    "    SITE     3 AC1 14 ASN A 981  ILE A 982  LEU A 983  GLY A 993\n",
    "    SITE     4 AC1 14 ASP A 994  HOH A4137\n",
    "    Be aware how the HOH residues are annotated!\n",
    "    Also not all position is filled!\n",
    "    \"\"\"\n",
    "\n",
    "    # Field names for the full row listing all fields up to 4 interacting residues:\n",
    "    field_names = [\n",
    "        'token',  # SITE\n",
    "        'rowNumber',  # Number of SITE rows for the given siteId\n",
    "        'siteId',  # AC## the code identifying the binding site\n",
    "        'interactorCount',  # The number of interacting residues for the given binding site\n",
    "\n",
    "        # The following 3 fields are repeated for 4 interacting residues:\n",
    "        'residue_1',\n",
    "        'chain_1',\n",
    "        'residueNo_1',\n",
    "\n",
    "        'residue_2',\n",
    "        'chain_2',\n",
    "        'residueNo_2',\n",
    "\n",
    "        'residue_3',\n",
    "        'chain_3',\n",
    "        'residueNo_3',\n",
    "\n",
    "        'residue_4',\n",
    "        'chain_4',\n",
    "        'residueNo_4',\n",
    "    ]\n",
    "\n",
    "    # Parsing HOH annotation: A1102 -> A 1102\n",
    "    row = ' '.join([f'{word[0]} {word[1:]}' if re.match(r'[A-Z]+[0-9]+', word) and len(word) > 3 else word for word in row.split()])\n",
    "\n",
    "    # Splitting again:\n",
    "    fields = row.split()\n",
    "\n",
    "    # zipping together the values and the token names:\n",
    "    return {key: value for key, value in zip(field_names[0:len(fields)], fields)}\n",
    "\n",
    "\n",
    "def parsing_binding_sites(binding_sites_lines: filter) -> DataFrame:\n",
    "    '''Binding sites are annotated after the REMARK 800 token.\n",
    "    The rows processed one by one, then converted to a spark dataframe'''\n",
    "\n",
    "    # Parsing binding site annotation:\n",
    "    parsed_lines = [line.strip().replace('REMARK 800 ', '').split(': ') for line in binding_sites_lines]\n",
    "\n",
    "    # Collecting the annotatin in a dictionary:\n",
    "    binding_sites_dict = defaultdict(list)\n",
    "    [{binding_sites_dict[key].append(value) for key, value in parsed_lines}]\n",
    "\n",
    "    # Convert dictionary into a spark dataframe:\n",
    "    return (\n",
    "        spark.createDataFrame(pd.DataFrame(binding_sites_dict))\n",
    "\n",
    "        # Parse ligand information:\n",
    "        .withColumn('SITE_DESCRIPTION', split(col('SITE_DESCRIPTION'), ' '))\n",
    "        .withColumn('compoundId', element_at(col('SITE_DESCRIPTION'), -3))\n",
    "        .withColumn('compoundChainId', element_at(col('SITE_DESCRIPTION'), -2))\n",
    "        .withColumn('compoundResidueNo', element_at(col('SITE_DESCRIPTION'), -1))\n",
    "\n",
    "        .drop('EVIDENCE_CODE', 'SITE_DESCRIPTION')\n",
    "        .withColumnRenamed('SITE_IDENTIFIER', 'siteId')\n",
    "        .persist()\n",
    "    )\n",
    "\n",
    "\n",
    "##\n",
    "## Iniput:\n",
    "##\n",
    "pdbId = '5ddp'\n",
    "\n",
    "##\n",
    "## Fetch PDB header data:\n",
    "##\n",
    "url = f'https://www.ebi.ac.uk/pdbe/static/entry/download/{pdbId}.header'\n",
    "data = requests.get(url)\n",
    "lines = data.text.split('\\n')\n",
    "\n",
    "## \n",
    "## Extract annotation for binding sites from REMARK 800 token:\n",
    "##\n",
    "binding_sites_lines = filter(lambda line: line.startswith('REMARK 800') and ':' in line, lines)\n",
    "\n",
    "# Get binding site list:\n",
    "binding_sites = parsing_binding_sites(binding_sites_lines)\n",
    "binding_sites.show()\n",
    "\n",
    "##\n",
    "## Get interacting residues from the SITE token:\n",
    "##\n",
    "\n",
    "# Interacting residues are stored after the SITE token:\n",
    "sites_lines = filter(lambda line: line.startswith('SITE'), lines)\n",
    "interacting_residues = process_interacting_residues(sites_lines)\n",
    "\n",
    "interacting_residues.show()\n",
    "\n",
    "##\n",
    "## Joining binding site data + interacting residues together\n",
    "##\n",
    "(\n",
    "    binding_sites\n",
    "    .join(interacting_residues, on='siteId')\n",
    "    .withColumn('pdbId', lit(pdbId))\n",
    "    .show(100)\n",
    ")\n"
   ]
  },
  {
   "cell_type": "code",
   "execution_count": 2,
   "id": "53f6ef56",
   "metadata": {
    "ExecuteTime": {
     "end_time": "2022-03-14T10:35:13.358805Z",
     "start_time": "2022-03-14T10:35:13.052584Z"
    }
   },
   "outputs": [
    {
     "name": "stdout",
     "output_type": "stream",
     "text": [
      "+------+----------+---------------+-----------------+-------+-----+---------+-----+\n",
      "|siteId|compoundId|compoundChainId|compoundResidueNo|residue|chain|residueNo|pdbId|\n",
      "+------+----------+---------------+-----------------+-------+-----+---------+-----+\n",
      "|   AD3|       GLN|              B|              101|      C|    B|        1| 5ddp|\n",
      "|   AD3|       GLN|              B|              101|      G|    B|       22| 5ddp|\n",
      "|   AD3|       GLN|              B|              101|      G|    B|       23| 5ddp|\n",
      "|   AD3|       GLN|              B|              101|      A|    B|       24| 5ddp|\n",
      "|   AD3|       GLN|              B|              101|      G|    B|       54| 5ddp|\n",
      "|   AD3|       GLN|              B|              101|      C|    B|       58| 5ddp|\n",
      "|   AD3|       GLN|              B|              101|      G|    B|       59| 5ddp|\n",
      "|   AD3|       GLN|              B|              101|      C|    B|       60| 5ddp|\n",
      "|   AD3|       GLN|              B|              101|     MG|    B|      102| 5ddp|\n",
      "+------+----------+---------------+-----------------+-------+-----+---------+-----+\n",
      "\n"
     ]
    }
   ],
   "source": [
    "(\n",
    "    binding_sites\n",
    "    .join(interacting_residues, on='siteId')\n",
    "    .withColumn('pdbId', lit(pdbId))\n",
    "    .filter(col('siteId') == 'AD3')\n",
    "    .show(100)\n",
    ")"
   ]
  },
  {
   "cell_type": "code",
   "execution_count": null,
   "id": "0dd6f8fe",
   "metadata": {},
   "outputs": [],
   "source": []
  }
 ],
 "metadata": {
  "kernelspec": {
   "display_name": "Python 3",
   "language": "python",
   "name": "python3"
  },
  "language_info": {
   "codemirror_mode": {
    "name": "ipython",
    "version": 3
   },
   "file_extension": ".py",
   "mimetype": "text/x-python",
   "name": "python",
   "nbconvert_exporter": "python",
   "pygments_lexer": "ipython3",
   "version": "3.9.5"
  }
 },
 "nbformat": 4,
 "nbformat_minor": 5
}
