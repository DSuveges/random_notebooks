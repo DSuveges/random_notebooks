{
 "cells": [
  {
   "cell_type": "markdown",
   "id": "9e51821c",
   "metadata": {},
   "source": [
    "# Valiadation lab data\n",
    "\n",
    "In this release the following actions were decided:\n",
    "\n",
    "* We need to have a biomarker description. Now the data looks like this:\n",
    "```json\n",
    "{\n",
    "    \"biomarkers\": [\n",
    "        {\n",
    "            \"name\": \"MSI\",\n",
    "            \"description\": \"Microsatellite stability\"\n",
    "        }\n",
    "    ]\n",
    "}\n",
    "```\n",
    "* `confidence` and `expectedConfidence` can have two values: `significant` or `not significant`.\n",
    "\n",
    "This is something expected:\n",
    "\n",
    "```json\n",
    "{\n",
    "  \"datasourceId\": \"ot_crispr_validation\",\n",
    "  \"dataTypeId\": \"ot_validation_lab\",\n",
    "  \"projectId\": \"OTAR015\",\n",
    "  \"projectDescription\": \"CRISPR Cas9 Target ID\",\n",
    "  \"targetFromSource\": \"ARHGEF7\",\n",
    "  \"targetId\": \"ENSG00000102606\",\n",
    "  \"diseaseFromSourceMappedId\": \"EFO_0005842\",\n",
    "  \"diseaseId\": \"EFO_0005842\",\n",
    "  \"resourceScore\": 59.9,\n",
    "  \"confidence\": \"significant\",\n",
    "  \"expectedConfidence\": \"significant\",\n",
    "  \"diseaseCellLines\": [\n",
    "    {\n",
    "      \"name\": \"SW626\",\n",
    "      \"id\": \"SIDM01168\",\n",
    "      \"tissue\": \"Large Intestine\",\n",
    "      \"tissueId\": \"UBERON_0000059\"\n",
    "    }\n",
    "  ],\n",
    "  \"biomarkers\": [\n",
    "    {\n",
    "      \"name\": \"MSS\"\n",
    "    },\n",
    "    {\n",
    "      \"name\": \"KRAS-mut\"\n",
    "    },\n",
    "    {\n",
    "      \"name\": \"TP53-mut\"\n",
    "    },\n",
    "    {\n",
    "      \"name\": \"ACP-mut\"\n",
    "    }\n",
    "  ],\n",
    "  \"statisticalTestTail\": \"upper tail\",\n",
    "  \"contrast\": \"Loss of cell viability vs control\",\n",
    "  \"studyOverview\": \"CellTitreGio measurement\",\n",
    "  \"validationHypotheses\": [\n",
    "    {\n",
    "      \"hypothesis\": \"MSI\",\n",
    "      \"description\": \"Microsatellite stability.\"\n",
    "    }\n",
    "  ]\n",
    "}\n",
    "```"
   ]
  },
  {
   "cell_type": "code",
   "execution_count": 69,
   "id": "cabeba64",
   "metadata": {
    "ExecuteTime": {
     "end_time": "2022-01-24T23:00:08.183879Z",
     "start_time": "2022-01-24T23:00:08.167296Z"
    }
   },
   "outputs": [],
   "source": [
    "# Using exclusively pyspark:\n",
    "import pandas as pd\n",
    "import json\n",
    "import requests\n",
    "from functools import reduce\n",
    "\n",
    "from pyspark.conf import SparkConf\n",
    "from pyspark.sql.types import ArrayType, StringType, IntegerType, StructType, StructField\n",
    "from pyspark.sql import SparkSession\n",
    "from pyspark.sql.functions import col, struct, lit, when, udf, array, expr\n",
    "\n",
    "sparkConf = (\n",
    "    SparkConf()\n",
    "    .set('spark.driver.memory', '15g')\n",
    "    .set('spark.executor.memory', '15g')\n",
    "    .set('spark.driver.maxResultSize', '0')\n",
    "    .set('spark.debug.maxToStringFields', '2000')\n",
    "    .set('spark.sql.execution.arrow.maxRecordsPerBatch', '500000')\n",
    ")\n",
    "spark = (\n",
    "    SparkSession.builder\n",
    "    .config(conf=sparkConf)\n",
    "    .master('local[*]')\n",
    "    .getOrCreate()\n",
    ")\n",
    "\n",
    "\n",
    "cell_lines_file = '/Users/dsuveges/project_data/validation_lab/COlines.txt'\n",
    "cell_lines_annotation_file = '/Users/dsuveges/project_data/validation_lab/model_list_20211124.csv'\n",
    "cell_cancer_driver_mutation = '/Users/dsuveges/project_data/validation_lab/mutations_summary_20211124.csv'\n",
    "validation_file = '/Users/dsuveges/project_data/validation_lab/CTG_CO_Partner-Preview-Matrix_v6a.txt'\n",
    "\n",
    "\n",
    "# This is a map that provides recipie to generate the biomarker objects\n",
    "# If a value cannot be found in the map, the value will be returned.\n",
    "biomarkerMaps = {\n",
    "    \n",
    "    'MS_status': {\n",
    "        'description': 'Micro-satellite stability',\n",
    "    },\n",
    "    'CRIS_subtype': {\n",
    "        'description': 'Colorectal cancer intrinsic subtypes (CRIS) defined by distinctive molecular, functional and phenotypic peculiarities',\n",
    "        'prefix': 'CRIS-'\n",
    "    },\n",
    "    'KRAS_status': {\n",
    "        'description': 'KRAS mutation status',\n",
    "        'prefix': 'KRAS-'\n",
    "    },\n",
    "    'TP53_status': {\n",
    "        'description': 'TP53 mutation status',\n",
    "        'prefix': 'TP53-'\n",
    "    },\n",
    "    'APC_status': {\n",
    "        'description': 'APC mutation status',\n",
    "        'prefix': 'ACP-'\n",
    "    }\n",
    "}\n",
    "\n",
    "\n",
    "@udf\n",
    "def get_biomarker(columnName, biomarker):\n",
    "    '''This function returns with a '''\n",
    "    if biomarker == '?':\n",
    "        return None\n",
    "    \n",
    "    # If no data is provided, we'll return the value as it is:\n",
    "    if biomarkerMaps[columnName] == {}:\n",
    "        return biomarker\n",
    "    \n",
    "    # If no prefix is defined, just return the value:\n",
    "    if not 'prefix' in biomarkerMaps[columnName]:\n",
    "        return biomarker\n",
    "    \n",
    "    return biomarkerMaps[columnName]['prefix'] + biomarker\n",
    "\n"
   ]
  },
  {
   "cell_type": "code",
   "execution_count": 57,
   "id": "5c60d86a",
   "metadata": {
    "ExecuteTime": {
     "end_time": "2022-01-24T19:46:23.298797Z",
     "start_time": "2022-01-24T19:46:22.818431Z"
    }
   },
   "outputs": [
    {
     "name": "stdout",
     "output_type": "stream",
     "text": [
      "+------+---------+------------+-----------+-----------+----------+--------------------+\n",
      "|  name|MS_status|CRIS_subtype|KRAS_status|TP53_status|APC_status|    diseaseCellLines|\n",
      "+------+---------+------------+-----------+-----------+----------+--------------------+\n",
      "| SW626|      MSS|           ?|        mut|        mut|       mut|[{SW626, null, nu...|\n",
      "|  HT29|      MSS|           B|         wt|        mut|       mut|[{HT29, null, nul...|\n",
      "| SW837|      MSS|           B|        mut|        mut|       mut|[{SW837, null, nu...|\n",
      "| MDST8|      MSS|           D|         wt|         wt|       mut|[{MDST8, null, nu...|\n",
      "|HCT116|      MSI|           D|        mut|         wt|        wt|[{HCT116, null, n...|\n",
      "|  KM12|      MSI|           A|         wt|        mut|        wt|[{KM12, null, nul...|\n",
      "|   RKO|      MSI|           ?|         wt|         wt|        wt|[{RKO, null, null...|\n",
      "| LS180|      MSI|           A|        mut|         wt|       mut|[{LS180, null, nu...|\n",
      "+------+---------+------------+-----------+-----------+----------+--------------------+\n",
      "\n"
     ]
    }
   ],
   "source": [
    "# loading cell line annotation data from Sanger:\n",
    "diseaseCellLines_model = (\n",
    "    spark.read\n",
    "    .option(\"multiline\",True)\n",
    "    .csv(cell_lines_annotation_file, header=True, sep=',', quote='\"')\n",
    "    .select(\n",
    "        col('cat_number').alias('name'),\n",
    "        col('model_id').alias('id'),\n",
    "        col('tissue')\n",
    "    )\n",
    "    .persist()\n",
    ")\n",
    "\n",
    "# Reading cell metadata from validation lab:\n",
    "validation_lab_cell_lines = (\n",
    "    spark.read.csv(cell_lines_file, sep='\\t', header=True)\n",
    "    \n",
    "    # Renaming columns:\n",
    "    .withColumnRenamed('CO_line', 'name')\n",
    "    \n",
    "    # Updating some of the cell lines' name:\n",
    "#     .withColumn('name',\n",
    "#          when(col('name') == 'HT29', 'HT-29')\n",
    "#         .when(col('name') == 'HCT116', 'HCT-116')\n",
    "#         .when(col('name') == 'LS180', 'LS-180')\n",
    "#         .otherwise(col('name'))\n",
    "#     )  \n",
    "    \n",
    "    # Joining dataset with cell model data read downloaded from Sanger website:\n",
    "    .join(diseaseCellLines_model, on='name', how='left')\n",
    "    \n",
    "    # Adding UBERON code to tissues (it's constant colon)\n",
    "    .withColumn('tissueID', lit('UBERON_0000059'))\n",
    "    \n",
    "    # generating disease cell lines object:\n",
    "    .withColumn(\n",
    "        'diseaseCellLines',\n",
    "        array(struct(col('name'), col('id'), col('tissue'), col('tissueId')))\n",
    "    )\n",
    "    .drop(*['id', 'tissue', 'tissueId'])\n",
    "    .persist()\n",
    ")\n",
    "\n",
    "\n",
    "validation_lab_cell_lines.show()"
   ]
  },
  {
   "cell_type": "code",
   "execution_count": 48,
   "id": "fcc31127",
   "metadata": {
    "ExecuteTime": {
     "end_time": "2022-01-24T17:18:14.772962Z",
     "start_time": "2022-01-24T17:18:14.487587Z"
    }
   },
   "outputs": [
    {
     "name": "stdout",
     "output_type": "stream",
     "text": [
      "+-------+--------------------+--------------------+\n",
      "|   name|    diseaseCellLines|          biomarkers|\n",
      "+-------+--------------------+--------------------+\n",
      "|  SW626|[{SW626, SIDM0116...|[{MSS, Micro-sate...|\n",
      "|  HT-29|[{HT-29, SIDM0013...|[{MSS, Micro-sate...|\n",
      "|  SW837|[{SW837, SIDM0083...|[{MSS, Micro-sate...|\n",
      "|  MDST8|[{MDST8, SIDM0052...|[{MSS, Micro-sate...|\n",
      "|HCT-116|[{HCT-116, SIDM00...|[{MSI, Micro-sate...|\n",
      "|   KM12|[{KM12, SIDM00150...|[{MSI, Micro-sate...|\n",
      "|    RKO|[{RKO, SIDM01090,...|[{MSI, Micro-sate...|\n",
      "| LS-180|[{LS-180, SIDM006...|[{MSI, Micro-sate...|\n",
      "+-------+--------------------+--------------------+\n",
      "\n"
     ]
    }
   ],
   "source": [
    "# Defining how to process biomarkers:\n",
    "# 1. Looping through all possible biomarker - from biomarkerMaps.keys()\n",
    "# 2. The biomakers are then looked up in the map and process based on how the map defines.\n",
    "# 3. Description is also added read from the map.\n",
    "expressions =  map(\n",
    "    # Function to process biomarker:\n",
    "    lambda biomarker: (\n",
    "        biomarker, \n",
    "        struct( \n",
    "            get_biomarker(lit(biomarker), col(biomarker)).alias('name'), \n",
    "            lit(biomarkerMaps[biomarker]['description']).alias('description'))\n",
    "    ),\n",
    "    # Iterator to apply the function over:\n",
    "    biomarkerMaps.keys()\n",
    ")\n",
    "\n",
    "# Applying the full map on the dataframe one-by-one:\n",
    "biomarkers = reduce(lambda DF,value: DF.withColumn(*value), expressions, validation_lab_cell_lines)\n",
    "\n",
    "# Pooling together all the biomarker structures into one single array:\n",
    "biomarkers = (\n",
    "    biomarkers\n",
    "    .select('name',array(*biomarkerMaps.keys()).alias('biomarkers'))\n",
    ")\n",
    "\n",
    "\n",
    "# Joining biomarkers with cell line data:\n",
    "validation_lab_cell_lines = (\n",
    "    validation_lab_cell_lines\n",
    "    .join(biomarkers, on='name', how='inner')\n",
    "    \n",
    "    # Dropping biomarker columns:\n",
    "    .drop(*list(biomarkerMaps.keys()))\n",
    "    .persist()\n",
    ")\n",
    "\n",
    "\n",
    "validation_lab_cell_lines.show()"
   ]
  },
  {
   "cell_type": "code",
   "execution_count": 49,
   "id": "8761c02c",
   "metadata": {
    "ExecuteTime": {
     "end_time": "2022-01-24T17:18:24.639667Z",
     "start_time": "2022-01-24T17:18:24.207969Z"
    }
   },
   "outputs": [],
   "source": [
    "# evidence = (\n",
    "(\n",
    "    # Reading evidence:\n",
    "    spark.read.csv(validation_file, sep='\\t', header=True)\n",
    "    \n",
    "    # Rename existing columns need to be updated:\n",
    "    .withColumnRenamed('gene', 'targetFromSource')\n",
    "    .withColumnRenamed('cell-line', 'name')\n",
    "    \n",
    "    # Parsing resource score:\n",
    "    .withColumn('resourceScore', col('effect-size').cast(\"double\"))\n",
    "    \n",
    "    # Generate the binary confidence calls:\n",
    "    .withColumn(\n",
    "        'confidence',\n",
    "        when(col('resourceScore') >= 38, lit('significant'))\n",
    "        .otherwise(lit('not significant'))\n",
    "    )\n",
    "    .withColumn(\n",
    "        'expectedConfidence',\n",
    "        when(col('expected-to-pass') == 'TRUE', lit('significant'))\n",
    "        .otherwise(lit('not significant'))\n",
    "    )\n",
    "    \n",
    "    # Adding constants:\n",
    "    .withColumn('statisticalTestTail', lit('upper tail'))\n",
    "    .withColumn('contrast', lit('Loss of cell viability vs control'))\n",
    "    .withColumn('studyOverview', lit('CellTitreGio measurement'))\n",
    "    \n",
    "    # This column is specific for this dataset:\n",
    "    .withColumn('datasourceId', lit('ot_crispr_validation'))\n",
    "    .withColumn('datatypeId', lit('ot_validation_lab'))\n",
    "    .withColumn(\"diseaseFromSourceMappedId\", lit(\"EFO_0005842\"))\n",
    "    \n",
    "    # This should be added to the crispr dataset as well:\n",
    "    .withColumn('projectId', lit('OTAR015'))\n",
    "    .withColumn('projectDescription', lit('CRISPR Cas9 Target ID'))\n",
    "    \n",
    "    # This column is specific for genes, will be updated later:\n",
    "    .withColumn('validationHypotheses', \n",
    "        struct(\n",
    "            lit('MSI').alias('hypothesis'), \n",
    "            lit('This description will be provided by the validation lab').alias('description')\n",
    "        )\n",
    "    )\n",
    "\n",
    "    # Joining cell line data:\n",
    "    .join(validation_lab_cell_lines, on='name', how='left')\n",
    "    \n",
    "    # Drop unused columns:\n",
    "    .drop(*['name', 'pass-fail', 'expected-to-pass', 'effect-size'])\n",
    "    \n",
    "    # Save data:\n",
    "    .write.format('json').mode('overwrite').option('compression', 'gzip').save('validation_v3.json.gz')\n",
    "#     .show(1, vertical=True, truncate=False)\n",
    ")\n"
   ]
  },
  {
   "cell_type": "code",
   "execution_count": 55,
   "id": "ea147c09",
   "metadata": {
    "ExecuteTime": {
     "end_time": "2022-01-24T17:27:10.380896Z",
     "start_time": "2022-01-24T17:27:10.318388Z"
    }
   },
   "outputs": [
    {
     "name": "stdout",
     "output_type": "stream",
     "text": [
      "{\n",
      "  \"targetFromSource\": \"ARHGEF7\",\n",
      "  \"resourceScore\": 36.31,\n",
      "  \"confidence\": \"not significant\",\n",
      "  \"expectedConfidence\": \"not significant\",\n",
      "  \"statisticalTestTail\": \"upper tail\",\n",
      "  \"contrast\": \"Loss of cell viability vs control\",\n",
      "  \"studyOverview\": \"CellTitreGio measurement\",\n",
      "  \"datasourceId\": \"ot_crispr_validation\",\n",
      "  \"datatypeId\": \"ot_validation_lab\",\n",
      "  \"diseaseFromSourceMappedId\": \"EFO_0005842\",\n",
      "  \"projectId\": \"OTAR015\",\n",
      "  \"projectDescription\": \"CRISPR Cas9 Target ID\",\n",
      "  \"validationHypotheses\": {\n",
      "    \"hypothesis\": \"MSI\",\n",
      "    \"description\": \"This description will be provided by the validation lab\"\n",
      "  }\n",
      "}\n"
     ]
    }
   ],
   "source": [
    "%%bash\n",
    "\n",
    "\n",
    "gzcat validation_v3.json.gz/*json.gz | head -n5 | tail -n1| jq\n",
    "\n"
   ]
  },
  {
   "cell_type": "code",
   "execution_count": 56,
   "id": "38674be4",
   "metadata": {
    "ExecuteTime": {
     "end_time": "2022-01-24T19:45:18.391350Z",
     "start_time": "2022-01-24T19:45:18.052312Z"
    }
   },
   "outputs": [
    {
     "name": "stdout",
     "output_type": "stream",
     "text": [
      "-RECORD 0------------------------------------------\n",
      " model_id                 | SIDM00783              \n",
      " model_name               | HCT-116                \n",
      " synonyms                 | null                   \n",
      " model_type               | Cell Line              \n",
      " growth_properties        | Adherent               \n",
      " doi                      | null                   \n",
      " pmed                     | null                   \n",
      " model_treatment          | null                   \n",
      " model_comments           | null                   \n",
      " msi_status               | MSI                    \n",
      " mutational_burden        | 70.63333333            \n",
      " ploidy                   | 1.97598793             \n",
      " parent_id                | null                   \n",
      " crispr_ko_data           | True                   \n",
      " sample_id                | SIDS00044              \n",
      " tissue                   | Large Intestine        \n",
      " tissue_status            | Tumour                 \n",
      " cancer_type              | Colorectal Carcinoma   \n",
      " cancer_type_detail       | Colon Carcinoma        \n",
      " cancer_type_ncit_id      | C4910                  \n",
      " age_at_sampling          | null                   \n",
      " sampling_day             | null                   \n",
      " sampling_month           | null                   \n",
      " sampling_year            | null                   \n",
      " sample_treatment         | Unknown                \n",
      " sample_treatment_details | null                   \n",
      " sample_site              | Unknown                \n",
      " tnm_t                    | null                   \n",
      " tnm_n                    | null                   \n",
      " tnm_m                    | null                   \n",
      " tnm_integrated           | null                   \n",
      " tumour_grade             | null                   \n",
      " patient_id               | SIDP00033              \n",
      " species                  | Homo Sapiens           \n",
      " gender                   | Male                   \n",
      " ethnicity                | Unknown                \n",
      " smoking_status           | Unknown                \n",
      " model_relations_comment  | null                   \n",
      " COSMIC_ID                | 905936                 \n",
      " BROAD_ID                 | ACH-000971             \n",
      " CCLE_ID                  | HCT116_LARGE_INTESTINE \n",
      " RRID                     | CVCL_0291              \n",
      " HCMI                     | null                   \n",
      " suppliers                | NCI:HCT-116            \n",
      " supplier                 | NCI                    \n",
      " cat_number               | HCT-116                \n",
      "\n"
     ]
    }
   ],
   "source": [
    "diseaseCellLines_model = (\n",
    "    spark.read\n",
    "    .option(\"multiline\",True)\n",
    "    .csv(cell_lines_annotation_file, header=True, sep=',', quote='\"')\n",
    "    .filter(col('model_name') == 'HCT-116')\n",
    "    .show(1, vertical=True, truncate=False)\n",
    ")"
   ]
  },
  {
   "cell_type": "code",
   "execution_count": 77,
   "id": "28e43a4a",
   "metadata": {
    "ExecuteTime": {
     "end_time": "2022-01-28T12:58:32.190433Z",
     "start_time": "2022-01-28T12:58:31.554128Z"
    }
   },
   "outputs": [
    {
     "name": "stdout",
     "output_type": "stream",
     "text": [
      "+------+---+----+\n",
      "|     a|  b|   c|\n",
      "+------+---+----+\n",
      "| kutya|123|null|\n",
      "|bagoly| 13|null|\n",
      "+------+---+----+\n",
      "\n"
     ]
    }
   ],
   "source": [
    "@udf(StructType([\n",
    "    StructField(\"name\", StringType(), False),\n",
    "    StructField(\"say\", StringType(), False)\n",
    "]))\n",
    "def u(s):\n",
    "    return None\n",
    "\n",
    "\n",
    "(\n",
    "    spark.createDataFrame([{'a': 'kutya', 'b': 123},{'a': 'bagoly', 'b': 13}])\n",
    "    .withColumn('c', u(col('a')))\n",
    "    .show()\n",
    ")"
   ]
  },
  {
   "cell_type": "code",
   "execution_count": 86,
   "id": "4a6a4fb2",
   "metadata": {
    "ExecuteTime": {
     "end_time": "2022-01-28T14:17:06.708655Z",
     "start_time": "2022-01-28T14:17:06.491818Z"
    }
   },
   "outputs": [],
   "source": [
    "df = (\n",
    "    spark.read.json('/Users/dsuveges/repositories/evidence_datasource_parsers/partner_preview_scripts/cica.json.gz')\n",
    "    .persist()\n",
    ")"
   ]
  },
  {
   "cell_type": "code",
   "execution_count": 91,
   "id": "69f41a75",
   "metadata": {
    "ExecuteTime": {
     "end_time": "2022-01-28T14:17:44.787008Z",
     "start_time": "2022-01-28T14:17:43.462132Z"
    }
   },
   "outputs": [
    {
     "name": "stdout",
     "output_type": "stream",
     "text": [
      "+--------+\n",
      "|    name|\n",
      "+--------+\n",
      "|  [KM12]|\n",
      "|   [RKO]|\n",
      "| [LS180]|\n",
      "| [SW837]|\n",
      "|  [HT29]|\n",
      "| [MDST8]|\n",
      "|[HCT116]|\n",
      "| [SW626]|\n",
      "+--------+\n",
      "\n"
     ]
    }
   ],
   "source": [
    "df.select('diseaseCellLines.name').distinct().show()"
   ]
  },
  {
   "cell_type": "code",
   "execution_count": 92,
   "id": "404e95be",
   "metadata": {
    "ExecuteTime": {
     "end_time": "2022-01-28T14:20:49.036028Z",
     "start_time": "2022-01-28T14:20:48.933776Z"
    }
   },
   "outputs": [],
   "source": [
    "df = (\n",
    "    spark.read.json('/Users/dsuveges/project/random_notebooks/issue-1712_ENCORE_project/test.json')\n",
    "    .persist()\n",
    ")"
   ]
  },
  {
   "cell_type": "code",
   "execution_count": 96,
   "id": "125f9e52",
   "metadata": {
    "ExecuteTime": {
     "end_time": "2022-01-28T14:21:28.686866Z",
     "start_time": "2022-01-28T14:21:28.681483Z"
    }
   },
   "outputs": [
    {
     "name": "stdout",
     "output_type": "stream",
     "text": [
      "root\n",
      " |-- cellLineData: array (nullable = true)\n",
      " |    |-- element: struct (containsNull = true)\n",
      " |    |    |-- cancer_type: string (nullable = true)\n",
      " |    |    |-- cancer_type_detail: string (nullable = true)\n",
      " |    |    |-- cancer_type_ncit_id: string (nullable = true)\n",
      " |    |    |-- fdr: double (nullable = true)\n",
      " |    |    |-- goodsgrna: double (nullable = true)\n",
      " |    |    |-- lfc: double (nullable = true)\n",
      " |    |    |-- model_id: string (nullable = true)\n",
      " |    |    |-- model_name: string (nullable = true)\n",
      " |    |    |-- p-value: double (nullable = true)\n",
      " |    |    |-- tissue: string (nullable = true)\n",
      " |    |    |-- tissue_status: string (nullable = true)\n",
      " |-- datasourceId: string (nullable = true)\n",
      " |-- datatypeId: string (nullable = true)\n",
      " |-- diseaseFromSourceId: string (nullable = true)\n",
      " |-- geneticBackground: string (nullable = true)\n",
      " |-- projectId: string (nullable = true)\n",
      " |-- targetFromSourceId: string (nullable = true)\n",
      "\n"
     ]
    }
   ],
   "source": [
    "\n",
    "df.printSchema() # select('cellLineData.name').distinct().show()"
   ]
  },
  {
   "cell_type": "markdown",
   "id": "f581342c",
   "metadata": {},
   "source": [
    "## Generate mock hypothesis data\n"
   ]
  },
  {
   "cell_type": "code",
   "execution_count": 117,
   "id": "70b5434d",
   "metadata": {
    "ExecuteTime": {
     "end_time": "2022-01-29T16:44:18.002310Z",
     "start_time": "2022-01-29T16:44:17.983240Z"
    }
   },
   "outputs": [],
   "source": [
    "genes = \"\"\"ARHGEF7\n",
    "BRCA2\n",
    "CCND1\n",
    "CFLAR\n",
    "CHD4\n",
    "CYB5R4\n",
    "DNAJC11\n",
    "DYNLL1\n",
    "HSP90B1\n",
    "IRF2BP2\n",
    "KDM2A\n",
    "KRAS\n",
    "MTA2\n",
    "MTX2\n",
    "PAK2\n",
    "PPP2CA\n",
    "PRPF4B\n",
    "RHOA\n",
    "TCF7L2\n",
    "UBE2C\n",
    "UBR4\n",
    "USP10\n",
    "USP7\n",
    "WRN\n",
    "ZFP36L1\"\"\".split()\n",
    "\n",
    "# possible biomarkers and their status:\n",
    "biomarkers = {\n",
    "    \"MS_status\": ['MSS', 'MSI'],\n",
    "    \"KRAS_status\": ['wt', 'mut'],\n",
    "    \"CRIS_subtype\": ['A', 'B', 'C', 'D'],\n",
    "    \"TP53_status\": ['wt', 'mut'],\n",
    "    \"APC_status\": ['wt', 'mut']\n",
    "}\n",
    "\n",
    "gene = genes[20]\n",
    "\n",
    "def generate_mock():\n",
    "    gene = random.choice(genes)\n",
    "    biomarker = random.choice(list(biomarkers.keys()))\n",
    "    status = random.choice(list(biomarkers[biomarker]))\n",
    "    return {\n",
    "        \"gene\": gene,\n",
    "        \"biomarker\": biomarker,\n",
    "        \"biomarkerStatus\": status,\n",
    "        \"description\": \"mock description\"\n",
    "    }\n",
    "\n",
    "\n",
    "(\n",
    "    pd.DataFrame([generate_mock() for gene in genes] + [generate_mock() for gene in genes])\n",
    "    .to_csv('/Users/dsuveges/repositories/evidence_datasource_parsers/partner_preview_scripts/mock_hypothesis.tsv', sep='\\t', index=False)\n",
    ")"
   ]
  },
  {
   "cell_type": "code",
   "execution_count": 116,
   "id": "26c7db63",
   "metadata": {
    "ExecuteTime": {
     "end_time": "2022-01-29T16:29:48.993059Z",
     "start_time": "2022-01-29T16:29:48.965614Z"
    }
   },
   "outputs": [
    {
     "name": "stdout",
     "output_type": "stream",
     "text": [
      "gene\tbiomarker\tbiomarkerStatus\tdescription\n",
      "UBR4\tTP53_status\twt\tmock description\n",
      "UBR4\tKRAS_status\twt\tmock description\n",
      "UBR4\tAPC_status\twt\tmock description\n",
      "UBR4\tMS_status\tMSI\tmock description\n",
      "UBR4\tAPC_status\twt\tmock description\n",
      "UBR4\tCRIS_subtype\tB\tmock description\n",
      "UBR4\tAPC_status\tmut\tmock description\n",
      "UBR4\tAPC_status\tmut\tmock description\n",
      "UBR4\tCRIS_subtype\tB\tmock description\n"
     ]
    }
   ],
   "source": [
    "%%bash \n",
    "\n",
    "head /Users/dsuveges/project_data/validation_lab/mock_hypothesis.tsv "
   ]
  },
  {
   "cell_type": "code",
   "execution_count": 102,
   "id": "de36ac9c",
   "metadata": {
    "ExecuteTime": {
     "end_time": "2022-01-29T16:14:23.705071Z",
     "start_time": "2022-01-29T16:14:23.698070Z"
    }
   },
   "outputs": [
    {
     "data": {
      "text/plain": [
       "'mut'"
      ]
     },
     "execution_count": 102,
     "metadata": {},
     "output_type": "execute_result"
    }
   ],
   "source": [
    "gene = genes[20]\n",
    "biomarker = random.choice(list(biomarkers.keys()))\n",
    "status = random.choice(list(biomarkers[biomarker]))\n",
    "\n",
    "\n",
    "status"
   ]
  },
  {
   "cell_type": "code",
   "execution_count": null,
   "id": "941f1b15",
   "metadata": {},
   "outputs": [],
   "source": []
  }
 ],
 "metadata": {
  "kernelspec": {
   "display_name": "Python 3",
   "language": "python",
   "name": "python3"
  },
  "language_info": {
   "codemirror_mode": {
    "name": "ipython",
    "version": 3
   },
   "file_extension": ".py",
   "mimetype": "text/x-python",
   "name": "python",
   "nbconvert_exporter": "python",
   "pygments_lexer": "ipython3",
   "version": "3.9.5"
  }
 },
 "nbformat": 4,
 "nbformat_minor": 5
}
