{
 "cells": [
  {
   "cell_type": "code",
   "execution_count": null,
   "metadata": {},
   "outputs": [],
   "source": [
    "import pyspark.sql\n",
    "from pyspark.sql.types import *\n",
    "from pyspark.sql.functions import *\n",
    "\n",
    "@udf(ListType())\n",
    "def split_last(data):\n",
    "    ''' Calaculates harmonic sum of a list, scaling factor = 1\n",
    "    '''\n",
    "    return sum(s / (i+1) for i, s in enumerate(data))\n",
    "\n",
    "\n",
    "# Parket file with all the data:\n",
    "literature_data = '/Users/dsuveges/project/evidences/20.06_evidence_data.filtered.parquet'\n",
    "\n",
    "global spark\n",
    "spark = (pyspark.sql.SparkSession.builder.getOrCreate())\n",
    "print('Spark version: ', spark.version)\n",
    "\n",
    "# Load and select required cols\n",
    "data = (\n",
    "    spark.read.json(evidence_file)\n",
    "    .filter(col('type') == 'literature')\n",
    "    .select(\n",
    "        col('type').alias('evidence_type'),\n",
    "        col('unique_association_fields.datasource').alias('data_source'),\n",
    "        col('disease.efo_info.efo_id').alias('efo_code'),\n",
    "        col('target.gene_info.geneid').alias('gene_id'),\n",
    "        col('scores.association_score').alias('assoc_score'),\n",
    "        col('unique_association_fields.publication_id').alias('pmid'),\n",
    "    )\n",
    "    # Clean efo_code\n",
    "    .withColumn('efo_code', split_last(col('efo_code')))\n",
    "    .withColumn('pmid', split_last(col('pmid')))\n",
    ")\n",
    "\n",
    "# Save data:\n",
    "(\n",
    "    data\n",
    "    .repartitionByRange('evidence_type', 'data_source', 'efo_code', 'gene_id')\n",
    "    .write\n",
    "    .parquet(\n",
    "        out_file\n",
    "    )\n",
    ")\n"
   ]
  }
 ],
 "metadata": {
  "kernelspec": {
   "display_name": "Python 3",
   "language": "python",
   "name": "python3"
  },
  "language_info": {
   "codemirror_mode": {
    "name": "ipython",
    "version": 3
   },
   "file_extension": ".py",
   "mimetype": "text/x-python",
   "name": "python",
   "nbconvert_exporter": "python",
   "pygments_lexer": "ipython3",
   "version": "3.6.10"
  }
 },
 "nbformat": 4,
 "nbformat_minor": 4
}
