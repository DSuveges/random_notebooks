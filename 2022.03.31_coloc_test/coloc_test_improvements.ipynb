{
 "cells": [
  {
   "cell_type": "code",
   "execution_count": 1,
   "id": "078adc8d",
   "metadata": {
    "ExecuteTime": {
     "end_time": "2022-03-31T13:57:22.856498Z",
     "start_time": "2022-03-31T13:57:08.005913Z"
    }
   },
   "outputs": [
    {
     "name": "stdout",
     "output_type": "stream",
     "text": [
      "+--------------------+------------+------------+--------+----------+--------+---------+--------------------+------------------+------------------+--------------------+-----------------+-----------------+----------------+-------+------------------+------------------+---------+--------+-----------------+-----------------+-------+-----------------+-----------------+----------------+----+--------------------+\n",
      "|         bio_feature|is95_credset|is99_credset|lead_alt|lead_chrom|lead_pos| lead_ref|     lead_variant_id|            logABF|multisignal_method|        phenotype_id|         postprob|  postprob_cumsum|        study_id|tag_alt|          tag_beta|     tag_beta_cond|tag_chrom| tag_pos|         tag_pval|    tag_pval_cond|tag_ref|           tag_se|      tag_se_cond|  tag_variant_id|type|            studyKey|\n",
      "+--------------------+------------+------------+--------+----------+--------+---------+--------------------+------------------+------------------+--------------------+-----------------+-----------------+----------------+-------+------------------+------------------+---------+--------+-----------------+-----------------+-------+-----------------+-----------------+----------------+----+--------------------+\n",
      "|                null|        true|        true|      CT|        22|21924268|        C|    22:21924268:C:CT| 7.476360364000294|       conditional|                null|0.001363264195743|0.926558991227172|    GCST90000027|      A|         0.0130125|         0.0135092|       22|19988883|           8.4E-6|       1.91202E-6|      G|       0.00283645|       0.00283656| 22:19988883:G:A|gwas|   gwas_GCST90000027|\n",
      "|              VAGINA|        true|        true|       C|        22|21624807|        T|     22:21624807:T:C| 3.955176106905745|       conditional|     ENSG00000161180|0.004533124608026|0.271384671997165|       GTEx-eQTL|      A|          0.302833|          0.302833|       22|21447200|       1.35692E-4|       1.35692E-4|      C|        0.0769384|        0.0769384| 22:21447200:C:A|eqtl|eqtl_GTEx-eQTL_EN...|\n",
      "|              Spleen|        true|        true|       T|        22|21568741|        A|     22:21568741:A:T|  1.54016654168295|       conditional|chr22:20965207:20...|0.003168491185199|0.037042850600384|       GTEx-sQTL|      T|-0.314781844615936|-0.314781844615936|       22|21455149|0.010766597398469|0.010766597398469|      G|0.121932479108961|0.121932479108961| 22:21455149:G:T|sqtl|sqtl_GTEx-sQTL_ch...|\n",
      "|                null|        true|        true|       A|        22|21563161|        G|     22:21563161:G:A|27.479556537334542|       conditional|                null|0.007023452357799|0.858884858731156|      GCST004612|      C|       -0.03626679|       -0.03626679|       22|21561877|          3.0E-15|          3.0E-15|      T|      0.004602059|      0.004602059| 22:21561877:T:C|gwas|     gwas_GCST004612|\n",
      "|                null|        true|        true|       T|        22|21563190|        C|     22:21563190:C:T| 37.49704916316177|       conditional|                null|0.036835552571158|0.421484030098042|NEALE2_30200_raw|      A|          0.233205|          0.233205|       22|21562072|      9.02386E-20|      9.02386E-20|      G|         0.025625|         0.025625| 22:21562072:G:A|gwas|gwas_NEALE2_30200...|\n",
      "|          T-CELL_CD4|        true|        true|      CA|        22|21562950|        C|    22:21562950:C:CA|18.472991570675067|       conditional|        ILMN_1677877|0.016561627418816|0.016561627418816|           CEDAR|     CA|          0.142063|          0.142063|       22|21562950|          5.9E-14|          5.9E-14|      C|        0.0179376|        0.0179376|22:21562950:C:CA|eqtl|eqtl_CEDAR_ILMN_1...|\n",
      "|                null|        true|        true|       G|        22|21557983|        A|     22:21557983:A:G|16.191009335516497|       conditional|                null|0.006641968859652|0.876561187647781|    GCST90002310|      T|         -0.014541|         -0.015355|       22|21563190|          1.61E-9|      1.81223E-10|      C|         0.002408|       0.00240807| 22:21563190:C:T|gwas|   gwas_GCST90002310|\n",
      "|                null|        true|        true|       A|        22|21597964|      ATT|   22:21597964:ATT:A|27.123481296355614|       conditional|                null|0.016922804351551|0.173769119135129|      GCST004619|      G|       -0.03566878|       -0.03566878|       22|21565382|          5.0E-15|          5.0E-15|      A|      0.004552681|      0.004552681| 22:21565382:A:G|gwas|     gwas_GCST004619|\n",
      "|       ARTERY_TIBIAL|        true|        true|       G|        22|21581863|        C|     22:21581863:C:G|11.883139616149684|       conditional|     ENSG00000273342|0.016237780276847|0.363832658381422|       GTEx-eQTL|      G|         -0.379796|         -0.379796|       22|21566614|       1.68193E-8|       1.68193E-8|      A|        0.0663498|        0.0663498| 22:21566614:A:G|eqtl|eqtl_GTEx-eQTL_EN...|\n",
      "|      MONOCYTE_LPS24|        true|        true|       T|        22|21622758|        C|     22:21622758:C:T| 41.17468032705788|       conditional|        ILMN_1677877| 0.00513335129861|0.898440780720448|    Fairfax_2014|      A|           0.22934|           0.22934|       22|21567005|      3.86169E-28|      3.86169E-28|      G|        0.0188414|        0.0188414| 22:21567005:G:A|eqtl|eqtl_Fairfax_2014...|\n",
      "|    COLON_TRANSVERSE|        true|        true|       C|        22|21620414|        G|     22:21620414:G:C| 7.163856208347344|       conditional|     ENSG00000161180|0.003608832404268|0.924840705067903|       GTEx-eQTL|      T|          -0.26213|          -0.26213|       22|21567397|        3.4953E-6|        3.4953E-6|      G|        0.0556047|        0.0556047| 22:21567397:G:T|eqtl|eqtl_GTEx-eQTL_EN...|\n",
      "|SKIN_NOT_SUN_EXPOSED|        true|        true|       G|        22|21563337|        C|     22:21563337:C:G| 7.000685384085197|       conditional|     ENSG00000161180|0.002009347721595| 0.90905630179607|       GTEx-eQTL|      G|         -0.282394|          -0.22813|       22|21568167|       1.32834E-8|       6.02713E-6|      C|        0.0488761|        0.0504106| 22:21568167:C:G|eqtl|eqtl_GTEx-eQTL_EN...|\n",
      "|     NEUTROPHIL_CD15|        true|        true|       C|        22|21586875|      CTT|   22:21586875:CTT:C|28.260347657593222|       conditional|        ILMN_1677877|0.010038734908793|0.371672891916333|           CEDAR|      G|          0.190974|          0.190974|       22|21568167|      8.93259E-21|      8.93259E-21|      C|        0.0187563|        0.0187563| 22:21568167:C:G|eqtl|eqtl_CEDAR_ILMN_1...|\n",
      "|     NEUTROPHIL_CD15|        true|        true|       C|        22|21586875|      CTT|   22:21586875:CTT:C|28.069527358357337|       conditional|        ILMN_1677877|0.008294816502907|0.872399570656618|           CEDAR|      C|          0.183252|          0.183252|       22|21568855|      1.46926E-20|      1.46926E-20|      A|        0.0181177|        0.0181177| 22:21568855:A:C|eqtl|eqtl_CEDAR_ILMN_1...|\n",
      "|SKIN_NOT_SUN_EXPOSED|        true|        true|       G|        22|21563337|        C|     22:21563337:C:G| 6.794682427687228|       conditional|     ENSG00000161180|0.001635268803075|0.939950569531055|       GTEx-eQTL|      G|         -0.277184|         -0.223706|       22|21570728|       2.14922E-8|       8.36571E-6|      A|         0.048707|        0.0502077| 22:21570728:A:G|eqtl|eqtl_GTEx-eQTL_EN...|\n",
      "|    TRANSVERSE_COLON|        true|        true|       C|        22|21575631|CTTTTTTTT|22:21575631:CTTTT...|11.443061039758764|       conditional|        ILMN_1677877| 0.01004191313439|0.285863300596311|           CEDAR|      G|          0.164081|          0.164081|       22|21570728|       1.91398E-9|       1.91398E-9|      A|        0.0263983|        0.0263983| 22:21570728:A:G|eqtl|eqtl_CEDAR_ILMN_1...|\n",
      "|                null|        true|        true|       C|        22|21563570|        A|     22:21563570:A:C| 77.30955459108326|       conditional|                null|0.009742759545316|0.710674818823557|      GCST004602|      T|       -0.05683631|       -0.05683631|       22|21572942|         4.47E-37|         4.47E-37|      C|      0.004467605|      0.004467605| 22:21572942:C:T|gwas|     gwas_GCST004602|\n",
      "|                null|        true|        true|       A|        22|21597964|      ATT|   22:21597964:ATT:A|24.055769049469525|       conditional|                null|0.008300911349051| 0.77160435902789|      GCST004611|      A|       -0.03377291|       -0.03377291|       22|21574352|         1.07E-13|         1.07E-13|      G|      0.004543999|      0.004543999| 22:21574352:G:A|gwas|     gwas_GCST004611|\n",
      "|        BRAIN_CORTEX|        true|        true|       C|        22|21622645|        T|     22:21622645:T:C| 9.851515662919354|       conditional|     ENSG00000161180|0.003322024238738|0.903660785388298|       GTEx-eQTL|      A|         -0.454483|         -0.454483|       22|21574352|       3.86008E-9|       3.86008E-9|      G|        0.0735808|        0.0735808| 22:21574352:G:A|eqtl|eqtl_GTEx-eQTL_EN...|\n",
      "|ESOPHAGUS_MUSCULARIS|        true|        true|       C|        22|21622645|        T|     22:21622645:T:C| 35.75398427489341|       conditional|     ENSG00000161180| 0.01910614735318|0.456402063828498|       GTEx-eQTL|      G|         -0.339796|         -0.339796|       22|21574627|      6.77782E-23|      6.77782E-23|      T|        0.0326189|        0.0326189| 22:21574627:T:G|eqtl|eqtl_GTEx-eQTL_EN...|\n",
      "+--------------------+------------+------------+--------+----------+--------+---------+--------------------+------------------+------------------+--------------------+-----------------+-----------------+----------------+-------+------------------+------------------+---------+--------+-----------------+-----------------+-------+-----------------+-----------------+----------------+----+--------------------+\n",
      "only showing top 20 rows\n",
      "\n"
     ]
    }
   ],
   "source": [
    "import pyspark.sql.functions as F\n",
    "from pyspark import SparkConf\n",
    "from pyspark.sql import SparkSession\n",
    "from functools import reduce \n",
    "\n",
    "sparkConf = SparkConf()\n",
    "\n",
    "# establish spark connection\n",
    "spark = (\n",
    "    SparkSession.builder\n",
    "    .config(conf=sparkConf)\n",
    "    .master('local[*]')\n",
    "    .getOrCreate()\n",
    ")\n",
    "\n",
    "credSet22Path = '/Users/dsuveges/project_data/test_credible_set_chr22.parquet/'\n",
    "\n",
    "credSet = (\n",
    "    spark.read.parquet(credSet22Path)\n",
    "\n",
    "    .filter(F.col('logABF').isNotNull())\n",
    "    .distinct()\n",
    "\n",
    "    # Create a study specific key: <- why do we need the type?\n",
    "    .withColumn(\"studyKey\", F.concat_ws('_', *['type', 'study_id', 'phenotype_id', 'bio_feature']))\n",
    ")\n",
    "\n",
    "credSet.show()"
   ]
  },
  {
   "cell_type": "code",
   "execution_count": 5,
   "id": "7fdf39da",
   "metadata": {
    "ExecuteTime": {
     "end_time": "2022-03-31T20:58:52.916461Z",
     "start_time": "2022-03-31T20:58:52.091281Z"
    }
   },
   "outputs": [
    {
     "name": "stdout",
     "output_type": "stream",
     "text": [
      "244396\n",
      "+--------------------+--------------------+---------+--------------------+---------------------+----------+\n",
      "|       left_studyKey|left_lead_variant_id|left_type|      right_studyKey|right_lead_variant_id|right_type|\n",
      "+--------------------+--------------------+---------+--------------------+---------------------+----------+\n",
      "|   gwas_GCST90002357|     22:19972675:G:C|     gwas|eqtl_Schmiedel_20...|      22:19990499:C:T|      eqtl|\n",
      "|gwas_NEALE2_30000...|     22:19984029:T:C|     gwas|sqtl_GTEx-sQTL_ch...|      22:19973083:G:C|      sqtl|\n",
      "|   gwas_GCST90002381|     22:20148740:G:A|     gwas|eqtl_GENCORD_ENSG...|      22:19990499:C:T|      eqtl|\n",
      "|     gwas_GCST004607|     22:20023636:C:T|     gwas|sqtl_GTEx-sQTL_ch...|      22:19975440:G:T|      sqtl|\n",
      "|   gwas_GCST90012110|     22:20059164:G:A|     gwas|   gwas_GCST90012109|      22:20150299:C:G|      gwas|\n",
      "|   gwas_GCST90012109|     22:20150299:C:G|     gwas|eqtl_CEDAR_ILMN_1...|      22:20148856:C:A|      eqtl|\n",
      "|   gwas_GCST90002405|     22:18909779:G:A|     gwas|sqtl_GTEx-sQTL_ch...|      22:20195986:A:G|      sqtl|\n",
      "|   gwas_GCST90002405|     22:18909779:G:A|     gwas|sqtl_GTEx-sQTL_ch...|      22:20058519:A:G|      sqtl|\n",
      "|   gwas_GCST90002388|     22:23767363:T:C|     gwas|sqtl_GTEx-sQTL_ch...|      22:23803540:C:T|      sqtl|\n",
      "|   gwas_GCST90012104|     22:28164160:C:G|     gwas|eqtl_GTEx-eQTL_EN...|      22:27887663:C:T|      eqtl|\n",
      "|   gwas_GCST90012104|     22:28164160:C:G|     gwas|eqtl_Schmiedel_20...|      22:29120084:T:C|      eqtl|\n",
      "|     gwas_GCST004627|     22:28873704:A:G|     gwas|eqtl_CEDAR_ILMN_1...|     22:28770686:C:CT|      eqtl|\n",
      "|     gwas_GCST004627|     22:28873704:A:G|     gwas|sqtl_GTEx-sQTL_ch...|      22:28310232:A:G|      sqtl|\n",
      "|  gwas_NEALE2_78_raw|     22:28865171:C:T|     gwas|sqtl_GTEx-sQTL_ch...|      22:28753051:C:G|      sqtl|\n",
      "|gwas_NEALE2_30180...|  22:28844449:GGAA:G|     gwas|eqtl_GTEx-eQTL_EN...|   22:28714075:TTTG:T|      eqtl|\n",
      "|gwas_NEALE2_30180...|  22:28844449:GGAA:G|     gwas|sqtl_GTEx-sQTL_ch...|      22:28842098:G:A|      sqtl|\n",
      "|   gwas_GCST90000050|     22:29725588:A:T|     gwas|sqtl_GTEx-sQTL_ch...|      22:29788961:A:G|      sqtl|\n",
      "|gwas_NEALE2_30270...|     22:32476271:A:C|     gwas|sqtl_GTEx-sQTL_ch...|      22:32496320:A:C|      sqtl|\n",
      "|gwas_NEALE2_30270...|     22:32476271:A:C|     gwas|eqtl_GTEx-eQTL_EN...|      22:32499744:T:C|      eqtl|\n",
      "|   gwas_GCST90012111|     22:35646939:C:T|     gwas|sqtl_GTEx-sQTL_ch...|      22:35855234:A:C|      sqtl|\n",
      "+--------------------+--------------------+---------+--------------------+---------------------+----------+\n",
      "only showing top 20 rows\n",
      "\n"
     ]
    }
   ],
   "source": [
    "# priors\n",
    "priors = spark.createDataFrame([{\n",
    "    \"priorc1\": 1e-4,  # priorc1 Prior on variant being causal for trait 1\n",
    "    \"priorc2\": 1e-4,  # priorc2 Prior on variant being causal for trait 2\n",
    "    \"priorc12\": 1e-5  # priorc12 Prior on variant being causal for traits 1 and 2\n",
    "}])\n",
    "\n",
    "# Joining the credset table with itself based on tag variants:\n",
    "columnsToJoin = [\n",
    "    \"studyKey\",\"tag_variant_id\", \"lead_variant_id\", \"type\", \"logABF\" \n",
    "]\n",
    "rename_columns = [\n",
    "    \"studyKey\", \"lead_variant_id\", \"type\", \"logABF\"\n",
    "]\n",
    "\n",
    "# Overlapping signals (exploded at the tag variant level)\n",
    "leftDf = reduce(lambda DF, col:\n",
    "    DF.withColumnRenamed(col, 'left_' + col), rename_columns, credSet.select(columnsToJoin).distinct())\n",
    "rightDf = reduce(lambda DF, col: \n",
    "    DF.withColumnRenamed(col, 'right_' + col), rename_columns, credSet.select(columnsToJoin).distinct())\n",
    "\n",
    "## TODO: Resolve so that biofeatures are always right\n",
    "\n",
    "# priors\n",
    "priors = spark.createDataFrame([{\n",
    "    \"priorc1\": 1e-4,  # priorc1 Prior on variant being causal for trait 1\n",
    "    \"priorc2\": 1e-4,  # priorc2 Prior on variant being causal for trait 2\n",
    "    \"priorc12\": 1e-5  # priorc12 Prior on variant being causal for traits 1 and 2\n",
    "}])\n",
    "\n",
    "# Joining the credset table with itself based on tag variants:\n",
    "columnsToJoin = [\n",
    "    \"studyKey\",\"tag_variant_id\", \"lead_variant_id\", \"type\", \"logABF\" \n",
    "]\n",
    "rename_columns = [\n",
    "    \"studyKey\", \"lead_variant_id\", \"type\", \"logABF\"\n",
    "]\n",
    "\n",
    "## TODO: Resolve so that biofeatures are always right\n",
    "\n",
    "# Overlapping signals (exploded at the tag variant level)\n",
    "leftDf = reduce(\n",
    "    lambda DF, col: \n",
    "        DF.withColumnRenamed(col, 'left_' + col), rename_columns, credSet.select(columnsToJoin))\n",
    "rightDf = reduce(\n",
    "    lambda DF, col: \n",
    "        DF.withColumnRenamed(col, 'right_' + col), rename_columns, credSet.select(columnsToJoin))\n",
    "\n",
    "overlappingPeaks = (\n",
    "    leftDf\n",
    "    # molecular traits always on the right-side\n",
    "    .filter(F.col(\"left_type\") == \"gwas\")\n",
    "    \n",
    "    # Get all study/peak pairs where at least one tagging variant overlap:\n",
    "    .join(rightDf, on='tag_variant_id', how='inner')\n",
    "    .filter(\n",
    "        # Remove rows with identical study:\n",
    "        (F.col('left_studyKey') != F.col('right_studyKey')) \n",
    "    )\n",
    "    # Keep only the upper triangle where both study is gwas\n",
    "    .filter(\n",
    "        (F.col('right_type') != 'gwas') | \n",
    "        (F.col('left_studyKey') > F.col('right_studyKey'))\n",
    "    )\n",
    "    # remove overlapping tag variant info\n",
    "    .drop(\"left_logABF\", \"right_logABF\", \"tag_variant_id\")\n",
    "    # distinct to get study-pair info\n",
    "    .distinct()\n",
    "    .persist()\n",
    ")\n",
    "\n",
    "\n",
    "print(overlappingPeaks.count())\n",
    "overlappingPeaks.show()"
   ]
  },
  {
   "cell_type": "code",
   "execution_count": 6,
   "id": "1382df1a",
   "metadata": {
    "ExecuteTime": {
     "end_time": "2022-03-31T21:00:05.746292Z",
     "start_time": "2022-03-31T21:00:05.600636Z"
    }
   },
   "outputs": [],
   "source": [
    "\n",
    "overlappingLeft = (\n",
    "    overlappingPeaks\n",
    "    .join(\n",
    "        leftDf\n",
    "        .select(\"left_studyKey\", \"left_lead_variant_id\", \"tag_variant_id\", \"left_logABF\"),\n",
    "        on=[\"left_studyKey\", \"left_lead_variant_id\"], \n",
    "        how='inner'\n",
    "    )\n",
    ")\n",
    "overlappingRight = (\n",
    "    overlappingPeaks\n",
    "    .join(\n",
    "        rightDf\n",
    "        .select(\"right_studyKey\", \"right_lead_variant_id\", \"tag_variant_id\", \"right_logABF\"),\n",
    "        on=['right_studyKey', 'right_lead_variant_id'],\n",
    "        how='inner'\n",
    "    )\n",
    ")\n",
    "\n",
    "overlappingSignals = (\n",
    "    overlappingLeft.alias(\"a\")\n",
    "    .join(\n",
    "        overlappingRight.alias(\"b\"),\n",
    "        on = [\n",
    "            \"tag_variant_id\",\n",
    "            \"left_lead_variant_id\",\n",
    "            \"right_lead_variant_id\",\n",
    "            \"left_studyKey\",\n",
    "            \"right_studyKey\",\n",
    "            \"right_type\",\n",
    "            \"left_type\"\n",
    "        ],\n",
    "\n",
    "        how='outer'\n",
    "    )\n",
    ")\n",
    "\n",
    "signalPairsCols = [\"studyKey\", \"lead_variant_id\", \"type\"]\n"
   ]
  },
  {
   "cell_type": "code",
   "execution_count": 7,
   "id": "d3ca59a1",
   "metadata": {
    "ExecuteTime": {
     "end_time": "2022-03-31T21:00:38.431400Z",
     "start_time": "2022-03-31T21:00:38.229315Z"
    }
   },
   "outputs": [],
   "source": [
    "# Colocalisation analysis\n",
    "coloc = (\n",
    "    overlappingSignals\n",
    "\n",
    "    # Before summarizing logABF columns nulls need to be filled with 0:\n",
    "    .fillna(0,  subset=['left_logABF', 'right_logABF'])\n",
    "    # Grouping data by peak and collect list of the sums:\n",
    "    .withColumn('sum_logABF', F.col('left_logABF') + F.col('right_logABF'))\n",
    "    \n",
    "    # TODO: group by key column and keep rest of columns:\n",
    "    .groupBy(*[\"left_\" + col for col in signalPairsCols] + [\"right_\" + col for col in signalPairsCols])\n",
    "    .agg(\n",
    "        F.count('*').alias('coloc_n_vars'),\n",
    "        F.collect_list(F.col('left_logABF')).alias('left_logABF_array'),\n",
    "        F.collect_list(F.col('right_logABF')).alias('right_logABF_array'),\n",
    "        F.collect_list(F.col('sum_logABF')).alias('sum_logABF_array')\n",
    "    )\n",
    "    .persist()\n",
    ")"
   ]
  },
  {
   "cell_type": "code",
   "execution_count": 10,
   "id": "4058de2e",
   "metadata": {
    "ExecuteTime": {
     "end_time": "2022-03-31T21:17:37.045336Z",
     "start_time": "2022-03-31T21:17:05.361542Z"
    }
   },
   "outputs": [
    {
     "data": {
      "text/plain": [
       "1000"
      ]
     },
     "execution_count": 10,
     "metadata": {},
     "output_type": "execute_result"
    }
   ],
   "source": [
    "test_set = coloc.limit(1000).persist()\n",
    "test_set.count()"
   ]
  },
  {
   "cell_type": "code",
   "execution_count": 21,
   "id": "bbf385ff",
   "metadata": {
    "ExecuteTime": {
     "end_time": "2022-03-31T21:39:10.948848Z",
     "start_time": "2022-03-31T21:39:10.945642Z"
    }
   },
   "outputs": [],
   "source": [
    "from  pyspark.ml.param import TypeConverters\n",
    "from pyspark.ml.feature import VectorAssembler\n"
   ]
  },
  {
   "cell_type": "code",
   "execution_count": 22,
   "id": "06e8bb4b",
   "metadata": {
    "ExecuteTime": {
     "end_time": "2022-03-31T21:39:12.146177Z",
     "start_time": "2022-03-31T21:39:12.068142Z"
    }
   },
   "outputs": [
    {
     "ename": "IllegalArgumentException",
     "evalue": "Data type array<double> of column left_logABF_array is not supported.",
     "output_type": "error",
     "traceback": [
      "\u001b[0;31m---------------------------------------------------------------------------\u001b[0m",
      "\u001b[0;31mIllegalArgumentException\u001b[0m                  Traceback (most recent call last)",
      "\u001b[0;32m<ipython-input-22-45945829929d>\u001b[0m in \u001b[0;36m<module>\u001b[0;34m\u001b[0m\n\u001b[1;32m      1\u001b[0m \u001b[0massembler\u001b[0m \u001b[0;34m=\u001b[0m \u001b[0mVectorAssembler\u001b[0m\u001b[0;34m(\u001b[0m\u001b[0minputCols\u001b[0m\u001b[0;34m=\u001b[0m\u001b[0;34m[\u001b[0m\u001b[0;34m'left_logABF_array'\u001b[0m\u001b[0;34m]\u001b[0m\u001b[0;34m,\u001b[0m \u001b[0moutputCol\u001b[0m\u001b[0;34m=\u001b[0m\u001b[0;34m\"left_logABF_vector\"\u001b[0m\u001b[0;34m)\u001b[0m\u001b[0;34m\u001b[0m\u001b[0;34m\u001b[0m\u001b[0m\n\u001b[0;32m----> 2\u001b[0;31m \u001b[0mselected_features\u001b[0m \u001b[0;34m=\u001b[0m \u001b[0massembler\u001b[0m\u001b[0;34m.\u001b[0m\u001b[0mtransform\u001b[0m\u001b[0;34m(\u001b[0m\u001b[0mtest_set\u001b[0m\u001b[0;34m)\u001b[0m\u001b[0;34m.\u001b[0m\u001b[0mselect\u001b[0m\u001b[0;34m(\u001b[0m\u001b[0;34m'left_logABF_vector'\u001b[0m\u001b[0;34m)\u001b[0m\u001b[0;34m\u001b[0m\u001b[0;34m\u001b[0m\u001b[0m\n\u001b[0m\u001b[1;32m      3\u001b[0m \u001b[0mselected_features\u001b[0m\u001b[0;34m.\u001b[0m\u001b[0mcollect\u001b[0m\u001b[0;34m(\u001b[0m\u001b[0;34m)\u001b[0m\u001b[0;34m\u001b[0m\u001b[0;34m\u001b[0m\u001b[0m\n",
      "\u001b[0;32m~/opt/anaconda3/envs/jupyter3.9/lib/python3.9/site-packages/pyspark/ml/base.py\u001b[0m in \u001b[0;36mtransform\u001b[0;34m(self, dataset, params)\u001b[0m\n\u001b[1;32m    215\u001b[0m                 \u001b[0;32mreturn\u001b[0m \u001b[0mself\u001b[0m\u001b[0;34m.\u001b[0m\u001b[0mcopy\u001b[0m\u001b[0;34m(\u001b[0m\u001b[0mparams\u001b[0m\u001b[0;34m)\u001b[0m\u001b[0;34m.\u001b[0m\u001b[0m_transform\u001b[0m\u001b[0;34m(\u001b[0m\u001b[0mdataset\u001b[0m\u001b[0;34m)\u001b[0m\u001b[0;34m\u001b[0m\u001b[0;34m\u001b[0m\u001b[0m\n\u001b[1;32m    216\u001b[0m             \u001b[0;32melse\u001b[0m\u001b[0;34m:\u001b[0m\u001b[0;34m\u001b[0m\u001b[0;34m\u001b[0m\u001b[0m\n\u001b[0;32m--> 217\u001b[0;31m                 \u001b[0;32mreturn\u001b[0m \u001b[0mself\u001b[0m\u001b[0;34m.\u001b[0m\u001b[0m_transform\u001b[0m\u001b[0;34m(\u001b[0m\u001b[0mdataset\u001b[0m\u001b[0;34m)\u001b[0m\u001b[0;34m\u001b[0m\u001b[0;34m\u001b[0m\u001b[0m\n\u001b[0m\u001b[1;32m    218\u001b[0m         \u001b[0;32melse\u001b[0m\u001b[0;34m:\u001b[0m\u001b[0;34m\u001b[0m\u001b[0;34m\u001b[0m\u001b[0m\n\u001b[1;32m    219\u001b[0m             \u001b[0;32mraise\u001b[0m \u001b[0mValueError\u001b[0m\u001b[0;34m(\u001b[0m\u001b[0;34m\"Params must be a param map but got %s.\"\u001b[0m \u001b[0;34m%\u001b[0m \u001b[0mtype\u001b[0m\u001b[0;34m(\u001b[0m\u001b[0mparams\u001b[0m\u001b[0;34m)\u001b[0m\u001b[0;34m)\u001b[0m\u001b[0;34m\u001b[0m\u001b[0;34m\u001b[0m\u001b[0m\n",
      "\u001b[0;32m~/opt/anaconda3/envs/jupyter3.9/lib/python3.9/site-packages/pyspark/ml/wrapper.py\u001b[0m in \u001b[0;36m_transform\u001b[0;34m(self, dataset)\u001b[0m\n\u001b[1;32m    348\u001b[0m     \u001b[0;32mdef\u001b[0m \u001b[0m_transform\u001b[0m\u001b[0;34m(\u001b[0m\u001b[0mself\u001b[0m\u001b[0;34m,\u001b[0m \u001b[0mdataset\u001b[0m\u001b[0;34m)\u001b[0m\u001b[0;34m:\u001b[0m\u001b[0;34m\u001b[0m\u001b[0;34m\u001b[0m\u001b[0m\n\u001b[1;32m    349\u001b[0m         \u001b[0mself\u001b[0m\u001b[0;34m.\u001b[0m\u001b[0m_transfer_params_to_java\u001b[0m\u001b[0;34m(\u001b[0m\u001b[0;34m)\u001b[0m\u001b[0;34m\u001b[0m\u001b[0;34m\u001b[0m\u001b[0m\n\u001b[0;32m--> 350\u001b[0;31m         \u001b[0;32mreturn\u001b[0m \u001b[0mDataFrame\u001b[0m\u001b[0;34m(\u001b[0m\u001b[0mself\u001b[0m\u001b[0;34m.\u001b[0m\u001b[0m_java_obj\u001b[0m\u001b[0;34m.\u001b[0m\u001b[0mtransform\u001b[0m\u001b[0;34m(\u001b[0m\u001b[0mdataset\u001b[0m\u001b[0;34m.\u001b[0m\u001b[0m_jdf\u001b[0m\u001b[0;34m)\u001b[0m\u001b[0;34m,\u001b[0m \u001b[0mdataset\u001b[0m\u001b[0;34m.\u001b[0m\u001b[0msql_ctx\u001b[0m\u001b[0;34m)\u001b[0m\u001b[0;34m\u001b[0m\u001b[0;34m\u001b[0m\u001b[0m\n\u001b[0m\u001b[1;32m    351\u001b[0m \u001b[0;34m\u001b[0m\u001b[0m\n\u001b[1;32m    352\u001b[0m \u001b[0;34m\u001b[0m\u001b[0m\n",
      "\u001b[0;32m~/opt/anaconda3/envs/jupyter3.9/lib/python3.9/site-packages/py4j/java_gateway.py\u001b[0m in \u001b[0;36m__call__\u001b[0;34m(self, *args)\u001b[0m\n\u001b[1;32m   1307\u001b[0m \u001b[0;34m\u001b[0m\u001b[0m\n\u001b[1;32m   1308\u001b[0m         \u001b[0manswer\u001b[0m \u001b[0;34m=\u001b[0m \u001b[0mself\u001b[0m\u001b[0;34m.\u001b[0m\u001b[0mgateway_client\u001b[0m\u001b[0;34m.\u001b[0m\u001b[0msend_command\u001b[0m\u001b[0;34m(\u001b[0m\u001b[0mcommand\u001b[0m\u001b[0;34m)\u001b[0m\u001b[0;34m\u001b[0m\u001b[0;34m\u001b[0m\u001b[0m\n\u001b[0;32m-> 1309\u001b[0;31m         return_value = get_return_value(\n\u001b[0m\u001b[1;32m   1310\u001b[0m             answer, self.gateway_client, self.target_id, self.name)\n\u001b[1;32m   1311\u001b[0m \u001b[0;34m\u001b[0m\u001b[0m\n",
      "\u001b[0;32m~/opt/anaconda3/envs/jupyter3.9/lib/python3.9/site-packages/pyspark/sql/utils.py\u001b[0m in \u001b[0;36mdeco\u001b[0;34m(*a, **kw)\u001b[0m\n\u001b[1;32m    115\u001b[0m                 \u001b[0;31m# Hide where the exception came from that shows a non-Pythonic\u001b[0m\u001b[0;34m\u001b[0m\u001b[0;34m\u001b[0m\u001b[0;34m\u001b[0m\u001b[0m\n\u001b[1;32m    116\u001b[0m                 \u001b[0;31m# JVM exception message.\u001b[0m\u001b[0;34m\u001b[0m\u001b[0;34m\u001b[0m\u001b[0;34m\u001b[0m\u001b[0m\n\u001b[0;32m--> 117\u001b[0;31m                 \u001b[0;32mraise\u001b[0m \u001b[0mconverted\u001b[0m \u001b[0;32mfrom\u001b[0m \u001b[0;32mNone\u001b[0m\u001b[0;34m\u001b[0m\u001b[0;34m\u001b[0m\u001b[0m\n\u001b[0m\u001b[1;32m    118\u001b[0m             \u001b[0;32melse\u001b[0m\u001b[0;34m:\u001b[0m\u001b[0;34m\u001b[0m\u001b[0;34m\u001b[0m\u001b[0m\n\u001b[1;32m    119\u001b[0m                 \u001b[0;32mraise\u001b[0m\u001b[0;34m\u001b[0m\u001b[0;34m\u001b[0m\u001b[0m\n",
      "\u001b[0;31mIllegalArgumentException\u001b[0m: Data type array<double> of column left_logABF_array is not supported."
     ]
    }
   ],
   "source": [
    "assembler = VectorAssembler(inputCols=['left_logABF_array'], outputCol=\"left_logABF_vector\")\n",
    "selected_features = assembler.transform(test_set).select('left_logABF_vector')\n",
    "selected_features.collect()"
   ]
  },
  {
   "cell_type": "code",
   "execution_count": null,
   "id": "76a20582",
   "metadata": {},
   "outputs": [],
   "source": []
  }
 ],
 "metadata": {
  "kernelspec": {
   "display_name": "Python 3",
   "language": "python",
   "name": "python3"
  },
  "language_info": {
   "codemirror_mode": {
    "name": "ipython",
    "version": 3
   },
   "file_extension": ".py",
   "mimetype": "text/x-python",
   "name": "python",
   "nbconvert_exporter": "python",
   "pygments_lexer": "ipython3",
   "version": "3.9.5"
  }
 },
 "nbformat": 4,
 "nbformat_minor": 5
}
