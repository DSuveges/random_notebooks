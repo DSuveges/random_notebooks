{
 "cells": [
  {
   "cell_type": "code",
   "execution_count": 2,
   "metadata": {
    "ExecuteTime": {
     "end_time": "2020-12-08T16:22:59.560525Z",
     "start_time": "2020-12-08T16:22:59.487035Z"
    }
   },
   "outputs": [],
   "source": [
    "import requests\n",
    "import json\n",
    "from faker import Faker\n",
    "from random import randint, choice\n",
    "import time\n",
    "\n",
    "# Initialize a localized faker:\n",
    "fake = Faker('hu_HU')\n"
   ]
  },
  {
   "cell_type": "code",
   "execution_count": 47,
   "metadata": {
    "ExecuteTime": {
     "end_time": "2020-12-08T16:41:43.633636Z",
     "start_time": "2020-12-08T16:41:43.619325Z"
    },
    "code_folding": [
     20
    ]
   },
   "outputs": [],
   "source": [
    "def transliterate(word):\n",
    "    translit_table = {\n",
    "        'á': 'a',\n",
    "        'ó': 'o',\n",
    "        'í': 'i',\n",
    "        'ö': 'o',\n",
    "        'ő': 'o',\n",
    "        'ú': 'u',\n",
    "        'ü': 'u',\n",
    "        'ű': 'u',\n",
    "        'é': 'e',\n",
    "    }\n",
    "    \n",
    "    converted_word = ''\n",
    "    for char in word:\n",
    "        transchar = ''\n",
    "        if char in translit_table:\n",
    "            transchar = translit_table[char]\n",
    "        else:\n",
    "            transchar = char\n",
    "        converted_word += transchar\n",
    "    return converted_word\n",
    "\n",
    "def generate_name():\n",
    "    \"\"\"\n",
    "    This function ensures the email address is in sync with the name and the email pattern is \n",
    "    complicated enough to make it impossible to filter out.\n",
    "    \"\"\"\n",
    "    name = fake.name()\n",
    "    names = name.lower().split(' ')\n",
    "    \n",
    "    # Generating random email:\n",
    "    first = transliterate(choice([names[0],names[0][0:2],names[1],names[1][1]]))\n",
    "    last = transliterate(choice([names[0],names[0][0:2],names[1],names[1][1]]))\n",
    "\n",
    "    separator = choice(['','_','.'])\n",
    "    domain = choice(['freemail.hu','google.com', 'google.hu', 'mailbox.hu'])\n",
    "    \n",
    "    email = f'{first}{separator}{last}{randint(0,239)}@{domain}'\n",
    "    \n",
    "    return (name, email)\n",
    "\n",
    "\n",
    "def get_fake_payload():\n",
    "    \"\"\"\n",
    "    Returns the string version of the random fake data.\n",
    "    \"\"\"\n",
    "    (name, email) = generate_name()\n",
    "    # Building response for the first form:\n",
    "    form_data = {\n",
    "        'fullname': name,\n",
    "        'mothersmaiden': fake.name_female(),\n",
    "        'email': email,\n",
    "        'dob': fake.date_of_birth(tzinfo=None, minimum_age=45, maximum_age=95).strftime(\"%m/%d/%Y\"),\n",
    "        'address1': fake.street_address().replace('\\n',' '),\n",
    "        'address2': '',\n",
    "        'city': fake.city(),\n",
    "        'county': fake.county(),\n",
    "        'postcode': fake.postcode(),\n",
    "        'phone': '07' + ''.join([\"{}\".format(randint(0, 9)) for num in range(0, 9)]),\n",
    "        'response': '',\n",
    "        'cardname': name,\n",
    "        'cardnumber': fake_card(fake.credit_card_number(card_type='visa')),\n",
    "        'cardexpiry': fake.credit_card_expire(start='now', end='+3y', date_format='%m/%y'),\n",
    "        'cardsecurity': fake.credit_card_security_code(),\n",
    "        'accountnumber': ''.join([str(randint(0,9)) for x in range(8)]),\n",
    "        'sortcode': fake_sort_code(str(randint(100000,999999)))\n",
    "    }\n",
    "\n",
    "    return form_data\n"
   ]
  },
  {
   "cell_type": "code",
   "execution_count": 38,
   "metadata": {
    "ExecuteTime": {
     "end_time": "2020-12-08T16:36:52.594586Z",
     "start_time": "2020-12-08T16:36:52.590989Z"
    }
   },
   "outputs": [],
   "source": [
    "name = fake.name()"
   ]
  },
  {
   "cell_type": "code",
   "execution_count": 39,
   "metadata": {
    "ExecuteTime": {
     "end_time": "2020-12-08T16:36:53.032710Z",
     "start_time": "2020-12-08T16:36:53.025903Z"
    }
   },
   "outputs": [
    {
     "data": {
      "text/plain": [
       "'Dr. N. Molnár István'"
      ]
     },
     "execution_count": 39,
     "metadata": {},
     "output_type": "execute_result"
    }
   ],
   "source": [
    "name"
   ]
  },
  {
   "cell_type": "code",
   "execution_count": 33,
   "metadata": {
    "ExecuteTime": {
     "end_time": "2020-12-08T16:33:26.361036Z",
     "start_time": "2020-12-08T16:33:26.351397Z"
    }
   },
   "outputs": [
    {
     "ename": "NameError",
     "evalue": "name 'true' is not defined",
     "output_type": "error",
     "traceback": [
      "\u001b[0;31m---------------------------------------------------------------------------\u001b[0m",
      "\u001b[0;31mNameError\u001b[0m                                 Traceback (most recent call last)",
      "\u001b[0;32m<ipython-input-33-12a06ed9c208>\u001b[0m in \u001b[0;36m<module>\u001b[0;34m\u001b[0m\n\u001b[1;32m      3\u001b[0m \u001b[0memail_confirm\u001b[0m\u001b[0;34m:\u001b[0m \u001b[0;34m\"cirmos_cica_hajj12@freemail.hu\"\u001b[0m\u001b[0;34m\u001b[0m\u001b[0;34m\u001b[0m\u001b[0m\n\u001b[1;32m      4\u001b[0m \u001b[0mfullName\u001b[0m\u001b[0;34m:\u001b[0m \u001b[0;34m\"Gipsz Jakab\"\u001b[0m\u001b[0;34m\u001b[0m\u001b[0;34m\u001b[0m\u001b[0m\n\u001b[0;32m----> 5\u001b[0;31m \u001b[0mmarketing\u001b[0m\u001b[0;34m:\u001b[0m \u001b[0mtrue\u001b[0m\u001b[0;34m\u001b[0m\u001b[0;34m\u001b[0m\u001b[0m\n\u001b[0m\u001b[1;32m      6\u001b[0m \u001b[0mpermanentAddress\u001b[0m\u001b[0;34m:\u001b[0m \u001b[0;34m\"12 éaskd u\"\u001b[0m\u001b[0;34m\u001b[0m\u001b[0;34m\u001b[0m\u001b[0m\n\u001b[1;32m      7\u001b[0m \u001b[0mpermanentSettlement\u001b[0m\u001b[0;34m:\u001b[0m \u001b[0;34m\"Budapest\"\u001b[0m\u001b[0;34m\u001b[0m\u001b[0;34m\u001b[0m\u001b[0m\n",
      "\u001b[0;31mNameError\u001b[0m: name 'true' is not defined"
     ]
    }
   ],
   "source": [
    "age: \"13\"\n",
    "email: \"cirmos_cica_hajj12@freemail.hu\"\n",
    "email_confirm: \"cirmos_cica_hajj12@freemail.hu\"\n",
    "fullName: \"Gipsz Jakab\"\n",
    "marketing: true\n",
    "permanentAddress: \"12 éaskd u\"\n",
    "permanentSettlement: \"Budapest\"\n",
    "permanentZipCode: 1343\n",
    "phoneNumber: \"2346866233\"\n",
    "tajNumber: \"115652439\"\n",
    "terms: true\n",
    "token: \"03AGdBq276QE9SEPFUlOvLg8LIoDQtrLhqqaKQ4d0T7UwliBi_lOuN4CcFQZ4OvcY-kZcwBC_Mt4ZQr9bFFijV_bYEI3XyXRsa8UBRHUJP3_K1pkE6BBM-nIYX4x7MuoLEMIoOfOuT8bAcu8ZJwf0vxIuD3K521U--59Dh6cWWBQHj_c4ka-R0hTedC8oVo4f6ehXdtDKcjGweNKAiWCALQvCMerjCC8IYSnz2to9AvBkO-sGn7s77wHvC77WqdemPrFRJvEloaAwGr8nlsUJv_JlHRFls3BKkYs9BEl6GL-1F21uXuOOQOWkEhwY6guafUAzfj6SLIb4mjMdqlQi1xjEB5JLEs0oOgg1NJZRgpqONFe1P7G-dpJ-JRTQ4I6rQZygtFvZP8zUWskpwuS8LzkiZkWe-GioqHiuVfCwBpQmLiafFeD2znhSd27kguplEPOGQ2BbB15pWptSK0tQRWTtWaN03rgVnYsmBdgyo8ETHakBssRvIcLHIVgtPehfUkr_YxLkWJ__PvQOqA21d0sBAXf2FPQuD-w\""
   ]
  },
  {
   "cell_type": "code",
   "execution_count": 126,
   "metadata": {
    "ExecuteTime": {
     "end_time": "2020-12-08T19:18:46.509392Z",
     "start_time": "2020-12-08T19:18:46.203389Z"
    }
   },
   "outputs": [],
   "source": [
    "(name, email) = generate_name()\n",
    "data = {\n",
    "    'age': randint(45,65),\n",
    "    'email': email,\n",
    "    'email_confirm': email,\n",
    "    'fullName': name,\n",
    "    'marketing': True,\n",
    "    'permanentAddress': fake.street_address(),\n",
    "    'permanentSettlement': fake.city().capitalize() ,\n",
    "    'permanentZipCode': fake.postcode().replace('H-',''),\n",
    "    'phoneNumber': f'{choice([30,20,70])}{randint(10000000,99999999)}',\n",
    "    'tajNumber': niin(),\n",
    "    'terms': True\n",
    "}\n",
    "\n",
    "url = 'https://vakcinainfo.gov.hu/publicapi/v1/vakcina/registration'\n",
    "\n",
    "response = requests.post(url, data=data, headers={'user-agent': fake.user_agent()})"
   ]
  },
  {
   "cell_type": "code",
   "execution_count": 127,
   "metadata": {
    "ExecuteTime": {
     "end_time": "2020-12-08T19:18:47.098284Z",
     "start_time": "2020-12-08T19:18:47.093693Z"
    }
   },
   "outputs": [
    {
     "data": {
      "text/plain": [
       "b'{\"data\":{\"message\":\"error\",\"success\":false,\"errors\":[],\"captcha\":[\"missing-input-response\"]}}'"
      ]
     },
     "execution_count": 127,
     "metadata": {},
     "output_type": "execute_result"
    }
   ],
   "source": [
    "response.content"
   ]
  },
  {
   "cell_type": "code",
   "execution_count": 114,
   "metadata": {
    "ExecuteTime": {
     "end_time": "2020-12-08T19:03:14.337586Z",
     "start_time": "2020-12-08T19:03:14.332415Z"
    }
   },
   "outputs": [
    {
     "data": {
      "text/plain": [
       "'Béke utca 39. H-6795 tótvára'"
      ]
     },
     "execution_count": 114,
     "metadata": {},
     "output_type": "execute_result"
    }
   ],
   "source": [
    "fake.address().replace('\\n',' ')"
   ]
  },
  {
   "cell_type": "code",
   "execution_count": 117,
   "metadata": {
    "ExecuteTime": {
     "end_time": "2020-12-08T19:04:58.867980Z",
     "start_time": "2020-12-08T19:04:58.864012Z"
    }
   },
   "outputs": [
    {
     "data": {
      "text/plain": [
       "'Pilismártoni utca 242.'"
      ]
     },
     "execution_count": 117,
     "metadata": {},
     "output_type": "execute_result"
    }
   ],
   "source": [
    "fake.street_address()"
   ]
  },
  {
   "cell_type": "code",
   "execution_count": 103,
   "metadata": {
    "ExecuteTime": {
     "end_time": "2020-12-08T18:45:56.609629Z",
     "start_time": "2020-12-08T18:45:56.602297Z"
    }
   },
   "outputs": [
    {
     "data": {
      "text/plain": [
       "236182897"
      ]
     },
     "execution_count": 103,
     "metadata": {},
     "output_type": "execute_result"
    }
   ],
   "source": [
    "def niin():\n",
    "    '''\n",
    "    National insurance identification number\n",
    "    '''\n",
    "\n",
    "    first_eight = [randint(1,9) for x in range(8)]\n",
    "\n",
    "    summary = sum([first_eight[x]*7 if x % 2 == 0 else first_eight[x]*3 for x in range(8)])\n",
    "\n",
    "    ninth_digit = 10 - summary % 10 if summary % 10 != 0 else 0\n",
    "    \n",
    "    first_eight.append(ninth_digit)\n",
    "    \n",
    "    return int(''.join([str(x) for x in first_eight]))\n",
    "\n",
    "niin()"
   ]
  },
  {
   "cell_type": "code",
   "execution_count": 104,
   "metadata": {
    "ExecuteTime": {
     "end_time": "2020-12-08T18:45:57.577731Z",
     "start_time": "2020-12-08T18:45:57.573059Z"
    }
   },
   "outputs": [
    {
     "name": "stdout",
     "output_type": "stream",
     "text": [
      "987223218\n",
      "245182743\n",
      "849818293\n",
      "936253398\n",
      "563911951\n",
      "423577756\n",
      "981873262\n",
      "217949789\n",
      "246441463\n",
      "314975478\n",
      "489695566\n",
      "548249192\n"
     ]
    }
   ],
   "source": [
    "for i in range(12):\n",
    "    print(niin())"
   ]
  },
  {
   "cell_type": "code",
   "execution_count": null,
   "metadata": {},
   "outputs": [],
   "source": []
  }
 ],
 "metadata": {
  "kernelspec": {
   "display_name": "Python 3",
   "language": "python",
   "name": "python3"
  },
  "language_info": {
   "codemirror_mode": {
    "name": "ipython",
    "version": 3
   },
   "file_extension": ".py",
   "mimetype": "text/x-python",
   "name": "python",
   "nbconvert_exporter": "python",
   "pygments_lexer": "ipython3",
   "version": "3.6.10"
  }
 },
 "nbformat": 4,
 "nbformat_minor": 4
}
