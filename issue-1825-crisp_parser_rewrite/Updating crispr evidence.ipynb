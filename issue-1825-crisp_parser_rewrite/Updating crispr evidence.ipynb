{
 "cells": [
  {
   "cell_type": "markdown",
   "id": "c1a80ecf",
   "metadata": {},
   "source": [
    "See ticket for details: [#1826](https://github.com/opentargets/platform/issues/1826)\n",
    "\n",
    "\n",
    "## Update cell annotation\n",
    "\n",
    "There is a file in bucket: `gs://gs://otar000-evidence_input/CRISPR/data_files` with a very slim annotation around cell lines. This needs to be enriched with uberon codes and sanger cell line identifiers"
   ]
  },
  {
   "cell_type": "code",
   "execution_count": 23,
   "id": "4dd23b2b",
   "metadata": {
    "ExecuteTime": {
     "end_time": "2021-10-22T11:35:14.723204Z",
     "start_time": "2021-10-22T11:35:10.439128Z"
    },
    "code_folding": [
     3
    ]
   },
   "outputs": [
    {
     "name": "stdout",
     "output_type": "stream",
     "text": [
      "Number of cell lines in the crispr cell lines: 336\n",
      "Number of cell lines with no tissue: 0\n",
      "Number of unique tissues: 19\n",
      "Number of tissues with no uberon mapping: 7\n",
      "Number of cell models: 2007\n",
      "Number of cell lines at the end: 336\n",
      "Number of cell lines with no identifier: 0\n",
      "Number of cell lines with no uberon: 69\n"
     ]
    }
   ],
   "source": [
    "import requests\n",
    "import pandas as pd\n",
    "\n",
    "def uberon_lookup(label: str)-> str:\n",
    "    '''Retrieving uberon identifier of a label from OLS, assuming perfect match.'''\n",
    "    \n",
    "    if not label:\n",
    "        return None\n",
    "\n",
    "    label = label.lower()\n",
    "    url = f'https://www.ebi.ac.uk/ols/api/search?q={label}&queryFields=label&ontology=uberon&exact=true'\n",
    "    \n",
    "    # Parsing:\n",
    "    try:\n",
    "        data = requests.get(url).json()\n",
    "        uberon_id = data['response']['docs'][0]['short_form']\n",
    "        return uberon_id\n",
    "    except IndexError:\n",
    "        return None\n",
    "    except KeyError:\n",
    "        return None\n",
    "    except ConnectionError:\n",
    "        return None\n",
    "    \n",
    "# Loading cell description from project score:\n",
    "crispr_cell_description = (\n",
    "    pd.read_csv('/Users/dsuveges/project_data/crispr_data/crispr_cell_lines.tsv', sep='\\t')\n",
    "    .rename(columns={\n",
    "        'Name': 'name',\n",
    "        'Tissue': 'tissue',\n",
    "        'Cancer Type': 'diseaseFromSource'\n",
    "    })\n",
    ")\n",
    "\n",
    "print(f'Number of cell lines in the crispr cell lines: {len(crispr_cell_description)}')\n",
    "print(f'Number of cell lines with no tissue: {len(crispr_cell_description.loc[crispr_cell_description.tissue.isna()])}')\n",
    "\n",
    "\n",
    "# Extract unique list of tissues and map to uberon:\n",
    "annotated_tissues = (\n",
    "    crispr_cell_description\n",
    "    [['tissue']]\n",
    "    .drop_duplicates()\n",
    "    .assign(tissueId = lambda df: df.tissue.apply(uberon_lookup))\n",
    ")\n",
    "\n",
    "print(f'Number of unique tissues: {len(annotated_tissues)}')\n",
    "print(f'Number of tissues with no uberon mapping: {len(annotated_tissues.loc[annotated_tissues.tissueId.isna()])}')\n",
    "\n",
    "\n",
    "# Fetching cell model data from Sanger:\n",
    "cell_models =(\n",
    "    pd.read_csv('https://cog.sanger.ac.uk/cmp/download/model_list_20210719.csv')\n",
    "    [['model_id', 'model_name']]\n",
    "    .rename(columns={\n",
    "        'model_id': 'id',\n",
    "        'model_name': 'name'\n",
    "    })\n",
    "    .drop_duplicates()\n",
    ")\n",
    "print(f'Number of cell models: {len(cell_models)}')\n",
    "\n",
    "\n",
    "# Finalising and saving data:\n",
    "crispr_cell_description = (\n",
    "    crispr_cell_description\n",
    "    \n",
    "    # Merging uberon annotation and cell line identifiers with cell lines:\n",
    "    .merge(annotated_tissues, on='tissue', how='left')\n",
    "\n",
    "    # Merging cell line identifiers with cell lines:\n",
    "    .merge(cell_models, on='name', how='left')\n",
    "\n",
    ")\n",
    "\n",
    "print(f'Number of cell lines at the end: {len(crispr_cell_description)}')\n",
    "print(f'Number of cell lines with no identifier: {len(crispr_cell_description.loc[crispr_cell_description.id.isna()])}')\n",
    "print(f'Number of cell lines with no uberon: {len(crispr_cell_description.loc[crispr_cell_description.tissueId.isna()])}')\n",
    "\n",
    "# Saving enriched data file:\n",
    "(\n",
    "    crispr_cell_description\n",
    "    .to_csv('crispr_cell_lines_enriched_2021-10-22.tsv', sep='\\t', index=False)\n",
    ")"
   ]
  },
  {
   "cell_type": "code",
   "execution_count": 26,
   "id": "847950db",
   "metadata": {
    "ExecuteTime": {
     "end_time": "2021-10-22T11:38:00.161744Z",
     "start_time": "2021-10-22T11:38:00.156715Z"
    }
   },
   "outputs": [
    {
     "name": "stdout",
     "output_type": "stream",
     "text": [
      "| name   | tissue          | diseaseFromSource    | tissueId       | id        |\n",
      "|:-------|:----------------|:---------------------|:---------------|:----------|\n",
      "| A375   | Skin            | Melanoma             |                | SIDM00795 |\n",
      "| HCT-15 | Large Intestine | Colorectal Carcinoma | UBERON_0000059 | SIDM00789 |\n",
      "| HT-29  | Large Intestine | Colorectal Carcinoma | UBERON_0000059 | SIDM00136 |\n",
      "| HCC-78 | Lung            | Lung Adenocarcinoma  | UBERON_0002048 | SIDM01068 |\n",
      "| SW620  | Large Intestine | Colorectal Carcinoma | UBERON_0000059 | SIDM00841 |\n"
     ]
    }
   ],
   "source": [
    "print(crispr_cell_description.head().to_markdown(index=False))"
   ]
  },
  {
   "cell_type": "markdown",
   "id": "f4b9541c",
   "metadata": {},
   "source": [
    "## Evidence generation:\n",
    "\n",
    "Utilizing the above generated dataset, with pyspark, join and process the data and save evidence:"
   ]
  },
  {
   "cell_type": "code",
   "execution_count": 80,
   "id": "71a302ee",
   "metadata": {
    "ExecuteTime": {
     "end_time": "2021-10-22T14:12:03.597538Z",
     "start_time": "2021-10-22T14:12:03.582327Z"
    }
   },
   "outputs": [],
   "source": [
    "# import argparse\n",
    "# import logging\n",
    "# import sys\n",
    "import requests\n",
    "\n",
    "from pyspark.conf import SparkConf\n",
    "from pyspark.sql import SparkSession\n",
    "from pyspark.sql.types import StringType, FloatType\n",
    "from pyspark.sql.functions import col, udf, collect_set, split, element_at, struct, trim, lit\n",
    "\n",
    "sparkConf = (\n",
    "    SparkConf()\n",
    "    .set('spark.driver.memory', '15g')\n",
    "    .set('spark.executor.memory', '15g')\n",
    "    .set('spark.driver.maxResultSize', '0')\n",
    "    .set('spark.debug.maxToStringFields', '2000')\n",
    "    .set('spark.sql.execution.arrow.maxRecordsPerBatch', '500000')\n",
    ")\n",
    "spark = (\n",
    "    SparkSession.builder\n",
    "    .config(conf=sparkConf)\n",
    "    .master('local[*]')\n",
    "    .getOrCreate()\n",
    ")\n",
    "\n",
    "# input files: \n",
    "evid_file = '/Users/dsuveges/project_data/crispr_data/crispr_evidence.tsv'\n",
    "desc_file = '/Users/dsuveges/project_data/crispr_data/crispr_descriptions.tsv'\n",
    "cell_file = 'crispr_cell_lines_enriched_2021-10-22.tsv'"
   ]
  },
  {
   "cell_type": "code",
   "execution_count": 28,
   "id": "ffd01b0e",
   "metadata": {
    "ExecuteTime": {
     "end_time": "2021-10-22T11:55:16.898381Z",
     "start_time": "2021-10-22T11:55:16.658172Z"
    }
   },
   "outputs": [
    {
     "name": "stdout",
     "output_type": "stream",
     "text": [
      "+--------+--------------------+---------------+--------------------+-------------+-------+\n",
      "|    pmid|       gene_set_name|      target_id|          disease_id| disease_name|  score|\n",
      "+--------+--------------------+---------------+--------------------+-------------+-------+\n",
      "|30971826|Project Score: Pr...|ENSG00000110092|http://www.ebi.ac...|Ewing sarcoma|79.7813|\n",
      "|30971826|Project Score: Pr...|ENSG00000130725|http://www.ebi.ac...|Ewing sarcoma|   58.5|\n",
      "|30971826|Project Score: Pr...|ENSG00000111142|http://www.ebi.ac...|Ewing sarcoma|57.9375|\n",
      "|30971826|Project Score: Pr...|ENSG00000152234|http://www.ebi.ac...|Ewing sarcoma| 54.125|\n",
      "|30971826|Project Score: Pr...|ENSG00000165501|http://www.ebi.ac...|Ewing sarcoma|   52.5|\n",
      "|30971826|Project Score: Pr...|ENSG00000143774|http://www.ebi.ac...|Ewing sarcoma| 52.375|\n",
      "|30971826|Project Score: Pr...|ENSG00000147162|http://www.ebi.ac...|Ewing sarcoma| 52.375|\n",
      "|30971826|Project Score: Pr...|ENSG00000109971|http://www.ebi.ac...|Ewing sarcoma|  52.25|\n",
      "|30971826|Project Score: Pr...|ENSG00000100749|http://www.ebi.ac...|Ewing sarcoma|51.6944|\n",
      "|30971826|Project Score: Pr...|ENSG00000164162|http://www.ebi.ac...|Ewing sarcoma| 51.625|\n",
      "|30971826|Project Score: Pr...|ENSG00000149806|http://www.ebi.ac...|Ewing sarcoma| 51.625|\n",
      "|30971826|Project Score: Pr...|ENSG00000109618|http://www.ebi.ac...|Ewing sarcoma|   51.5|\n",
      "|30971826|Project Score: Pr...|ENSG00000141556|http://www.ebi.ac...|Ewing sarcoma|   51.5|\n",
      "|30971826|Project Score: Pr...|ENSG00000170855|http://www.ebi.ac...|Ewing sarcoma|50.2813|\n",
      "|30971826|Project Score: Pr...|ENSG00000164654|http://www.ebi.ac...|Ewing sarcoma|49.9167|\n",
      "|30971826|Project Score: Pr...|ENSG00000135446|http://www.ebi.ac...|Ewing sarcoma|  49.75|\n",
      "|30971826|Project Score: Pr...|ENSG00000123485|http://www.ebi.ac...|Ewing sarcoma|  49.75|\n",
      "|30971826|Project Score: Pr...|ENSG00000095059|http://www.ebi.ac...|Ewing sarcoma|   49.5|\n",
      "|30971826|Project Score: Pr...|ENSG00000105486|http://www.ebi.ac...|Ewing sarcoma|49.1875|\n",
      "|30971826|Project Score: Pr...|ENSG00000164024|http://www.ebi.ac...|Ewing sarcoma|49.1875|\n",
      "+--------+--------------------+---------------+--------------------+-------------+-------+\n",
      "only showing top 20 rows\n",
      "\n"
     ]
    }
   ],
   "source": [
    "evidence"
   ]
  },
  {
   "cell_type": "code",
   "execution_count": 29,
   "id": "e6914360",
   "metadata": {
    "ExecuteTime": {
     "end_time": "2021-10-22T11:55:50.931485Z",
     "start_time": "2021-10-22T11:55:50.750319Z"
    }
   },
   "outputs": [
    {
     "name": "stdout",
     "output_type": "stream",
     "text": [
      "+--------------------+---------------------+--------------------+\n",
      "|              efo_id|tissue_or_cancer_type|              method|\n",
      "+--------------------+---------------------+--------------------+\n",
      "|http://www.ebi.ac...|                 Bone|113 targets were ...|\n",
      "|http://www.ebi.ac...|                 Bone|113 targets were ...|\n",
      "|http://www.ebi.ac...|     Breast Carcinoma|90 targets were p...|\n",
      "|http://www.ebi.ac...| Central Nervous S...|72 targets were p...|\n",
      "|http://purl.oboli...| Central Nervous S...|72 targets were p...|\n",
      "|http://www.ebi.ac...| Colorectal Carcinoma|147 targets were ...|\n",
      "|http://www.ebi.ac...|            Esophagus|109 targets were ...|\n",
      "|http://www.ebi.ac...|            Esophagus|109 targets were ...|\n",
      "|http://www.ebi.ac...|    Gastric Carcinoma|168 targets were ...|\n",
      "|http://www.ebi.ac...| Haematopoietic an...|97 targets were p...|\n",
      "|http://www.ebi.ac...| Haematopoietic an...|97 targets were p...|\n",
      "|http://www.ebi.ac...| Haematopoietic an...|97 targets were p...|\n",
      "|http://purl.oboli...| Head and Neck Car...|64 targets were p...|\n",
      "|http://www.ebi.ac...|  Lung Adenocarcinoma|85 targets were p...|\n",
      "|http://www.ebi.ac...|        Neuroblastoma|84 targets were p...|\n",
      "|http://purl.oboli...| Oral Cavity Carci...|49 targets were p...|\n",
      "|http://www.ebi.ac...|    Ovarian Carcinoma|145 targets were ...|\n",
      "|http://www.ebi.ac...| Pancreatic Carcinoma|72 targets were p...|\n",
      "|http://www.ebi.ac...| Squamous Cell Lun...|63 targets were p...|\n",
      "+--------------------+---------------------+--------------------+\n",
      "\n"
     ]
    }
   ],
   "source": [
    "description"
   ]
  },
  {
   "cell_type": "code",
   "execution_count": 30,
   "id": "754c26a6",
   "metadata": {
    "ExecuteTime": {
     "end_time": "2021-10-22T11:56:09.312536Z",
     "start_time": "2021-10-22T11:56:09.118494Z"
    }
   },
   "outputs": [
    {
     "name": "stdout",
     "output_type": "stream",
     "text": [
      "+--------+--------------------+--------------------+--------------+---------+\n",
      "|    name|              tissue|   diseaseFromSource|      tissueId|       id|\n",
      "+--------+--------------------+--------------------+--------------+---------+\n",
      "|    A375|                Skin|            Melanoma|          null|SIDM00795|\n",
      "|  HCT-15|     Large Intestine|Colorectal Carcinoma|UBERON_0000059|SIDM00789|\n",
      "|   HT-29|     Large Intestine|Colorectal Carcinoma|UBERON_0000059|SIDM00136|\n",
      "|  HCC-78|                Lung| Lung Adenocarcinoma|UBERON_0002048|SIDM01068|\n",
      "|   SW620|     Large Intestine|Colorectal Carcinoma|UBERON_0000059|SIDM00841|\n",
      "|   22RV1|            Prostate|  Prostate Carcinoma|          null|SIDM00499|\n",
      "|23132-87|             Stomach|   Gastric Carcinoma|UBERON_0000945|SIDM00980|\n",
      "|   769-P|              Kidney|    Kidney Carcinoma|UBERON_0002113|SIDM00803|\n",
      "|   A2058|                Skin|            Melanoma|          null|SIDM00797|\n",
      "|    A253|       Head and Neck|Head and Neck Car...|          null|SIDM00796|\n",
      "|A2780ADR|               Ovary|   Ovarian Carcinoma|UBERON_0000992|SIDM01211|\n",
      "|A2780cis|               Ovary|   Ovarian Carcinoma|UBERON_0000992|SIDM01212|\n",
      "|  AsPC-1|            Pancreas|Pancreatic Carcinoma|UBERON_0001264|SIDM00899|\n",
      "|   AU565|              Breast|    Breast Carcinoma|UBERON_0000310|SIDM00898|\n",
      "|BB30-HNC|       Head and Neck|Head and Neck Car...|          null|SIDM00172|\n",
      "| BE2-M17|Peripheral Nervou...|       Neuroblastoma|UBERON_0000010|SIDM01229|\n",
      "|     BHY|       Head and Neck|Oral Cavity Carci...|          null|SIDM00986|\n",
      "|  BICR10|       Head and Neck|Oral Cavity Carci...|          null|SIDM00077|\n",
      "|  BICR22|       Head and Neck|Oral Cavity Carci...|          null|SIDM00485|\n",
      "|  BICR78|       Head and Neck|Oral Cavity Carci...|          null|SIDM00501|\n",
      "+--------+--------------------+--------------------+--------------+---------+\n",
      "only showing top 20 rows\n",
      "\n"
     ]
    }
   ],
   "source": [
    "(\n",
    "    spark.read.csv(cell_file, sep='\\t', header=True)\n",
    "    .show()\n",
    "    \n",
    ")"
   ]
  },
  {
   "cell_type": "code",
   "execution_count": 49,
   "id": "718c7f2d",
   "metadata": {
    "ExecuteTime": {
     "end_time": "2021-10-22T13:44:41.319479Z",
     "start_time": "2021-10-22T13:44:41.036416Z"
    }
   },
   "outputs": [],
   "source": [
    "# Reading datasets:\n",
    "evidence_df = (\n",
    "    spark.read.csv(evid_file, sep='\\t', header=True)\n",
    "    .drop('pmid', 'gene_set_name', 'disease_name')\n",
    ")\n",
    "cell_lines_df = spark.read.csv(cell_file, sep='\\t', header=True)\n",
    "description_df = spark.read.csv(desc_file, sep='\\t', header=True)\n",
    "\n",
    "# Combining description and cell lines based on tissue:\n",
    "tissue_desc = (\n",
    "    description_df\n",
    "    .withColumnRenamed('tissue_or_cancer_type', 'tissue')\n",
    "    .join(cell_lines_df, on='tissue', how='inner')\n",
    ")\n",
    "\n",
    "# Combining description and cells based on disease\n",
    "cell_desc = (\n",
    "    description_df\n",
    "    .withColumnRenamed('tissue_or_cancer_type', 'diseaseFromSource')\n",
    "    .join(cell_lines_df, on='diseaseFromSource', how='inner')\n",
    ")\n",
    "\n",
    "# Concatenating dataframes:\n",
    "merged_annotation = (\n",
    "    cell_desc\n",
    "    .union(tissue_desc)\n",
    "    \n",
    "    # Aggregating by diease and method:\n",
    "    .groupBy('diseaseFromSource', 'efo_id', 'method')\n",
    "    \n",
    "    # The aggregated cell object is a list of struct:\n",
    "    .agg(collect_set(struct(\n",
    "        col('name'), col('id'), col('tissue'), col('tissueId')\n",
    "    )).alias('diseaseCellLines'))\n",
    "    .drop('method')\n",
    ")"
   ]
  },
  {
   "cell_type": "code",
   "execution_count": 37,
   "id": "f8d0382e",
   "metadata": {
    "ExecuteTime": {
     "end_time": "2021-10-22T13:29:55.626339Z",
     "start_time": "2021-10-22T13:29:55.366447Z"
    }
   },
   "outputs": [
    {
     "name": "stdout",
     "output_type": "stream",
     "text": [
      "+--------------------+--------------------+--------------------+--------+--------------------+--------------+---------+\n",
      "|   diseaseFromSource|              efo_id|              method|    name|              tissue|      tissueId|       id|\n",
      "+--------------------+--------------------+--------------------+--------+--------------------+--------------+---------+\n",
      "|Colorectal Carcinoma|http://www.ebi.ac...|147 targets were ...|  HCT-15|     Large Intestine|UBERON_0000059|SIDM00789|\n",
      "|Colorectal Carcinoma|http://www.ebi.ac...|147 targets were ...|   HT-29|     Large Intestine|UBERON_0000059|SIDM00136|\n",
      "| Lung Adenocarcinoma|http://www.ebi.ac...|85 targets were p...|  HCC-78|                Lung|UBERON_0002048|SIDM01068|\n",
      "|Colorectal Carcinoma|http://www.ebi.ac...|147 targets were ...|   SW620|     Large Intestine|UBERON_0000059|SIDM00841|\n",
      "|   Gastric Carcinoma|http://www.ebi.ac...|168 targets were ...|23132-87|             Stomach|UBERON_0000945|SIDM00980|\n",
      "|Head and Neck Car...|http://purl.oboli...|64 targets were p...|    A253|       Head and Neck|          null|SIDM00796|\n",
      "|   Ovarian Carcinoma|http://www.ebi.ac...|145 targets were ...|A2780ADR|               Ovary|UBERON_0000992|SIDM01211|\n",
      "|   Ovarian Carcinoma|http://www.ebi.ac...|145 targets were ...|A2780cis|               Ovary|UBERON_0000992|SIDM01212|\n",
      "|Pancreatic Carcinoma|http://www.ebi.ac...|72 targets were p...|  AsPC-1|            Pancreas|UBERON_0001264|SIDM00899|\n",
      "|    Breast Carcinoma|http://www.ebi.ac...|90 targets were p...|   AU565|              Breast|UBERON_0000310|SIDM00898|\n",
      "|Head and Neck Car...|http://purl.oboli...|64 targets were p...|BB30-HNC|       Head and Neck|          null|SIDM00172|\n",
      "|       Neuroblastoma|http://www.ebi.ac...|84 targets were p...| BE2-M17|Peripheral Nervou...|UBERON_0000010|SIDM01229|\n",
      "|Oral Cavity Carci...|http://purl.oboli...|49 targets were p...|     BHY|       Head and Neck|          null|SIDM00986|\n",
      "|Oral Cavity Carci...|http://purl.oboli...|49 targets were p...|  BICR10|       Head and Neck|          null|SIDM00077|\n",
      "|Oral Cavity Carci...|http://purl.oboli...|49 targets were p...|  BICR22|       Head and Neck|          null|SIDM00485|\n",
      "|Oral Cavity Carci...|http://purl.oboli...|49 targets were p...|  BICR78|       Head and Neck|          null|SIDM00501|\n",
      "|Colorectal Carcinoma|http://www.ebi.ac...|147 targets were ...|  C2BBe1|     Large Intestine|UBERON_0000059|SIDM01233|\n",
      "|Oral Cavity Carci...|http://purl.oboli...|49 targets were p...|  CAL-27|       Head and Neck|          null|SIDM00937|\n",
      "|Oral Cavity Carci...|http://purl.oboli...|49 targets were p...|  CAL-33|       Head and Neck|          null|SIDM00942|\n",
      "|   Ovarian Carcinoma|http://www.ebi.ac...|145 targets were ...|  Caov-4|               Ovary|UBERON_0000992|SIDM00918|\n",
      "+--------------------+--------------------+--------------------+--------+--------------------+--------------+---------+\n",
      "only showing top 20 rows\n",
      "\n"
     ]
    }
   ],
   "source": [
    "(\n",
    "    cell_desc\n",
    "    .union(tissue_desc)\n",
    "    .show()\n",
    ")"
   ]
  },
  {
   "cell_type": "code",
   "execution_count": 81,
   "id": "eeef73f6",
   "metadata": {
    "ExecuteTime": {
     "end_time": "2021-10-22T14:12:13.409417Z",
     "start_time": "2021-10-22T14:12:12.816987Z"
    }
   },
   "outputs": [
    {
     "name": "stdout",
     "output_type": "stream",
     "text": [
      "+------------------+-------------+-----------------+--------------------+-------------------------+------------+----------------+\n",
      "|targetFromSourceId|resourceScore|diseaseFromSource|    diseaseCellLines|diseaseFromSourceMappedId|datasourceId|      datatypeId|\n",
      "+------------------+-------------+-----------------+--------------------+-------------------------+------------+----------------+\n",
      "|   ENSG00000121879|        73.75| Breast Carcinoma|[{OCUB-M, SIDM002...|              EFO_0000305|      crispr|affected_pathway|\n",
      "|   ENSG00000141736|        71.25| Breast Carcinoma|[{OCUB-M, SIDM002...|              EFO_0000305|      crispr|affected_pathway|\n",
      "|   ENSG00000065361|         70.5| Breast Carcinoma|[{OCUB-M, SIDM002...|              EFO_0000305|      crispr|affected_pathway|\n",
      "|   ENSG00000129514|      64.8333| Breast Carcinoma|[{OCUB-M, SIDM002...|              EFO_0000305|      crispr|affected_pathway|\n",
      "|   ENSG00000107485|      62.8125| Breast Carcinoma|[{OCUB-M, SIDM002...|              EFO_0000305|      crispr|affected_pathway|\n",
      "|   ENSG00000110092|      62.4773| Breast Carcinoma|[{OCUB-M, SIDM002...|              EFO_0000305|      crispr|affected_pathway|\n",
      "|   ENSG00000124664|         55.5| Breast Carcinoma|[{OCUB-M, SIDM002...|              EFO_0000305|      crispr|affected_pathway|\n",
      "|   ENSG00000003402|       54.625| Breast Carcinoma|[{OCUB-M, SIDM002...|              EFO_0000305|      crispr|affected_pathway|\n",
      "|   ENSG00000113575|      54.4615| Breast Carcinoma|[{OCUB-M, SIDM002...|              EFO_0000305|      crispr|affected_pathway|\n",
      "|   ENSG00000132612|      53.5625| Breast Carcinoma|[{OCUB-M, SIDM002...|              EFO_0000305|      crispr|affected_pathway|\n",
      "|   ENSG00000167548|      53.1667| Breast Carcinoma|[{OCUB-M, SIDM002...|              EFO_0000305|      crispr|affected_pathway|\n",
      "|   ENSG00000165501|      53.0156| Breast Carcinoma|[{OCUB-M, SIDM002...|              EFO_0000305|      crispr|affected_pathway|\n",
      "|   ENSG00000065518|         51.5| Breast Carcinoma|[{OCUB-M, SIDM002...|              EFO_0000305|      crispr|affected_pathway|\n",
      "|   ENSG00000142208|       51.375| Breast Carcinoma|[{OCUB-M, SIDM002...|              EFO_0000305|      crispr|affected_pathway|\n",
      "|   ENSG00000175063|      50.9167| Breast Carcinoma|[{OCUB-M, SIDM002...|              EFO_0000305|      crispr|affected_pathway|\n",
      "|   ENSG00000110955|         50.5| Breast Carcinoma|[{OCUB-M, SIDM002...|              EFO_0000305|      crispr|affected_pathway|\n",
      "|   ENSG00000176890|      50.4231| Breast Carcinoma|[{OCUB-M, SIDM002...|              EFO_0000305|      crispr|affected_pathway|\n",
      "|   ENSG00000128059|        50.25| Breast Carcinoma|[{OCUB-M, SIDM002...|              EFO_0000305|      crispr|affected_pathway|\n",
      "|   ENSG00000076382|        50.25| Breast Carcinoma|[{OCUB-M, SIDM002...|              EFO_0000305|      crispr|affected_pathway|\n",
      "|   ENSG00000102900|      50.2361| Breast Carcinoma|[{OCUB-M, SIDM002...|              EFO_0000305|      crispr|affected_pathway|\n",
      "+------------------+-------------+-----------------+--------------------+-------------------------+------------+----------------+\n",
      "only showing top 20 rows\n",
      "\n"
     ]
    }
   ],
   "source": [
    "CRISPR_SYMBOL_MAPPING = {\n",
    "    'CASC5': 'ENSG00000137812',\n",
    "    'CIRH1A': 'ENSG00000141076',\n",
    "    'EFTUD1': 'ENSG00000140598',\n",
    "    'ENSG00000163660': 'ENSG00000163660',\n",
    "    'KIAA0947': 'ENSG00000164151',\n",
    "    'KIAA1432': 'ENSG00000107036',\n",
    "    'NDNL2': 'ENSG00000185115',\n",
    "    'SRPR': 'ENSG00000182934',\n",
    "    'ZNF259': 'ENSG00000109917'\n",
    "}\n",
    "\n",
    "\n",
    "pooled_evidence_df = (\n",
    "    evidence_df\n",
    "    .select(\n",
    "        col('target_id').alias('targetFromSourceId'), \n",
    "        col('disease_id').alias('efo_id'),\n",
    "        col('score').alias('resourceScore').cast(FloatType()),\n",
    "    )\n",
    "    \n",
    "    # Some of the target identifier are not Ensembl Gene id - replace them:\n",
    "    .replace(to_replace=CRISPR_SYMBOL_MAPPING, subset=['target_id'])\n",
    "    \n",
    "    # Merging with descriptions:\n",
    "    .join(merged_annotation, on='efo_id', how='outer')\n",
    "    \n",
    "    # From EFO uri, generate EFO id:\n",
    "    .withColumn('diseaseFromSourceMappedId', element_at(split(col('efo_id'), '/'), -1).alias('diseaseFromSourceMappedId'))\n",
    "    .drop('efo_id')\n",
    "    \n",
    "    # Adding constants:\n",
    "    .withColumn('datasourceId', lit('crispr'))\n",
    "    .withColumn('datatypeId', lit('affected_pathway'))\n",
    "    .persist()\n",
    ")\n",
    "\n",
    "pooled_evidence_df.show()"
   ]
  },
  {
   "cell_type": "code",
   "execution_count": 82,
   "id": "e8823434",
   "metadata": {
    "ExecuteTime": {
     "end_time": "2021-10-22T14:12:18.172519Z",
     "start_time": "2021-10-22T14:12:17.352460Z"
    }
   },
   "outputs": [],
   "source": [
    "(\n",
    "    pooled_evidence_df\n",
    "    .coalesce(1)\n",
    "    .write.format('json').mode('overwrite').option('compression', 'gzip').save('crispr-2021-10-22')\n",
    ")"
   ]
  },
  {
   "cell_type": "markdown",
   "id": "f1c95336",
   "metadata": {},
   "source": [
    "## Comparing old vs new evidence"
   ]
  },
  {
   "cell_type": "code",
   "execution_count": 83,
   "id": "29d9562e",
   "metadata": {
    "ExecuteTime": {
     "end_time": "2021-10-22T14:14:03.260605Z",
     "start_time": "2021-10-22T14:14:00.311608Z"
    }
   },
   "outputs": [
    {
     "name": "stdout",
     "output_type": "stream",
     "text": [
      "root\n",
      " |-- datasourceId: string (nullable = true)\n",
      " |-- datatypeId: string (nullable = true)\n",
      " |-- diseaseCellLines: array (nullable = true)\n",
      " |    |-- element: string (containsNull = true)\n",
      " |-- diseaseFromSource: string (nullable = true)\n",
      " |-- diseaseFromSourceMappedId: string (nullable = true)\n",
      " |-- resourceScore: double (nullable = true)\n",
      " |-- targetFromSourceId: string (nullable = true)\n",
      "\n",
      "None\n",
      "root\n",
      " |-- datasourceId: string (nullable = true)\n",
      " |-- datatypeId: string (nullable = true)\n",
      " |-- diseaseCellLines: array (nullable = true)\n",
      " |    |-- element: struct (containsNull = true)\n",
      " |    |    |-- id: string (nullable = true)\n",
      " |    |    |-- name: string (nullable = true)\n",
      " |    |    |-- tissue: string (nullable = true)\n",
      " |    |    |-- tissueId: string (nullable = true)\n",
      " |-- diseaseFromSource: string (nullable = true)\n",
      " |-- diseaseFromSourceMappedId: string (nullable = true)\n",
      " |-- resourceScore: double (nullable = true)\n",
      " |-- targetFromSourceId: string (nullable = true)\n",
      "\n",
      "None\n",
      "|             | old (21.09)               | new (21.11)       |\n",
      "|:------------|:--------------------------|:------------------|\n",
      "| file        | crispr-2021-09-07.json.gz | crispr-2021-10-22 |\n",
      "| evidence    | 1846                      | 1846              |\n",
      "| target      | 624                       | 624               |\n",
      "| disease     | 19                        | 19                |\n",
      "| association | 1846                      | 1846              |\n"
     ]
    }
   ],
   "source": [
    "evidence_files = {\n",
    "    'old (21.09)' : '/Users/dsuveges/project_data/crispr_data/crispr-2021-09-07.json.gz',\n",
    "    'new (21.11)' : 'crispr-2021-10-22'\n",
    "}\n",
    "\n",
    "collected_data = dict()\n",
    "\n",
    "for name, file in evidence_files.items():\n",
    "\n",
    "    # load data into spark:\n",
    "    df = spark.read.json(file).persist()\n",
    "    \n",
    "    print(df.printSchema())\n",
    "    collected_data[name] = {\n",
    "        'file': file.split('/')[-1],\n",
    "        'evidence': df.count(),\n",
    "        'target' : df.select('targetFromSourceId').distinct().count(),\n",
    "        'disease' : df.select('diseaseFromSourceMappedId').distinct().count(),\n",
    "        'association': df.select('diseaseFromSourceMappedId', 'targetFromSourceId').distinct().count()\n",
    "    }\n",
    "    \n",
    "print(pd.DataFrame(collected_data).to_markdown())"
   ]
  },
  {
   "cell_type": "code",
   "execution_count": 79,
   "id": "ada98e15",
   "metadata": {
    "ExecuteTime": {
     "end_time": "2021-10-22T14:06:30.684887Z",
     "start_time": "2021-10-22T14:06:30.586066Z"
    }
   },
   "outputs": [
    {
     "name": "stdout",
     "output_type": "stream",
     "text": [
      "{\n",
      "  \"targetFromSourceId\": \"ENSG00000121879\",\n",
      "  \"resourceScore\": \"73.75\",\n",
      "  \"diseaseFromSource\": \"Breast Carcinoma\",\n",
      "  \"diseaseCellLines\": [\n",
      "    {\n",
      "      \"name\": \"OCUB-M\",\n",
      "      \"id\": \"SIDM00241\",\n",
      "      \"tissue\": \"Breast\",\n",
      "      \"tissueId\": \"UBERON_0000310\"\n",
      "    },\n",
      "    {\n",
      "      \"name\": \"HCC1395\",\n",
      "      \"id\": \"SIDM00884\",\n",
      "      \"tissue\": \"Breast\",\n",
      "      \"tissueId\": \"UBERON_0000310\"\n",
      "    },\n",
      "    {\n",
      "      \"name\": \"HCC1143\",\n",
      "      \"id\": \"SIDM00866\",\n",
      "      \"tissue\": \"Breast\",\n",
      "      \"tissueId\": \"UBERON_0000310\"\n",
      "    },\n",
      "    {\n",
      "      \"name\": \"MDA-MB-468\",\n",
      "      \"id\": \"SIDM00628\",\n",
      "      \"tissue\": \"Breast\",\n",
      "      \"tissueId\": \"UBERON_0000310\"\n",
      "    },\n",
      "    {\n",
      "      \"name\": \"COLO-824\",\n",
      "      \"id\": \"SIDM00954\",\n",
      "      \"tissue\": \"Breast\",\n",
      "      \"tissueId\": \"UBERON_0000310\"\n",
      "    },\n",
      "    {\n",
      "      \"name\": \"MDA-MB-436\",\n",
      "      \"id\": \"SIDM00629\",\n",
      "      \"tissue\": \"Breast\",\n",
      "      \"tissueId\": \"UBERON_0000310\"\n",
      "    },\n",
      "    {\n",
      "      \"name\": \"MDA-MB-415\",\n",
      "      \"id\": \"SIDM00630\",\n",
      "      \"tissue\": \"Breast\",\n",
      "      \"tissueId\": \"UBERON_0000310\"\n",
      "    },\n",
      "    {\n",
      "      \"name\": \"MCF7\",\n",
      "      \"id\": \"SIDM00148\",\n",
      "      \"tissue\": \"Breast\",\n",
      "      \"tissueId\": \"UBERON_0000310\"\n",
      "    },\n",
      "    {\n",
      "      \"name\": \"HCC70\",\n",
      "      \"id\": \"SIDM00673\",\n",
      "      \"tissue\": \"Breast\",\n",
      "      \"tissueId\": \"UBERON_0000310\"\n",
      "    },\n",
      "    {\n",
      "      \"name\": \"T47D\",\n",
      "      \"id\": \"SIDM00097\",\n",
      "      \"tissue\": \"Breast\",\n",
      "      \"tissueId\": \"UBERON_0000310\"\n",
      "    },\n",
      "    {\n",
      "      \"name\": \"MFM-223\",\n",
      "      \"id\": \"SIDM00332\",\n",
      "      \"tissue\": \"Breast\",\n",
      "      \"tissueId\": \"UBERON_0000310\"\n",
      "    },\n",
      "    {\n",
      "      \"name\": \"EVSA-T\",\n",
      "      \"id\": \"SIDM01042\",\n",
      "      \"tissue\": \"Breast\",\n",
      "      \"tissueId\": \"UBERON_0000310\"\n",
      "    },\n",
      "    {\n",
      "      \"name\": \"HCC1954\",\n",
      "      \"id\": \"SIDM00872\",\n",
      "      \"tissue\": \"Breast\",\n",
      "      \"tissueId\": \"UBERON_0000310\"\n",
      "    },\n",
      "    {\n",
      "      \"name\": \"UACC-893\",\n",
      "      \"id\": \"SIDM01186\",\n",
      "      \"tissue\": \"Breast\",\n",
      "      \"tissueId\": \"UBERON_0000310\"\n",
      "    },\n",
      "    {\n",
      "      \"name\": \"JIMT-1\",\n",
      "      \"id\": \"SIDM01037\",\n",
      "      \"tissue\": \"Breast\",\n",
      "      \"tissueId\": \"UBERON_0000310\"\n",
      "    },\n",
      "    {\n",
      "      \"name\": \"Hs-578-T\",\n",
      "      \"id\": \"SIDM00135\",\n",
      "      \"tissue\": \"Breast\",\n",
      "      \"tissueId\": \"UBERON_0000310\"\n",
      "    },\n",
      "    {\n",
      "      \"name\": \"MDA-MB-453\",\n",
      "      \"id\": \"SIDM00272\",\n",
      "      \"tissue\": \"Breast\",\n",
      "      \"tissueId\": \"UBERON_0000310\"\n",
      "    },\n",
      "    {\n",
      "      \"name\": \"AU565\",\n",
      "      \"id\": \"SIDM00898\",\n",
      "      \"tissue\": \"Breast\",\n",
      "      \"tissueId\": \"UBERON_0000310\"\n",
      "    },\n",
      "    {\n",
      "      \"name\": \"MDA-MB-361\",\n",
      "      \"id\": \"SIDM00528\",\n",
      "      \"tissue\": \"Breast\",\n",
      "      \"tissueId\": \"UBERON_0000310\"\n",
      "    },\n",
      "    {\n",
      "      \"name\": \"MDA-MB-231\",\n",
      "      \"id\": \"SIDM00146\",\n",
      "      \"tissue\": \"Breast\",\n",
      "      \"tissueId\": \"UBERON_0000310\"\n",
      "    },\n",
      "    {\n",
      "      \"name\": \"HCC38\",\n",
      "      \"id\": \"SIDM00675\",\n",
      "      \"tissue\": \"Breast\",\n",
      "      \"tissueId\": \"UBERON_0000310\"\n",
      "    },\n",
      "    {\n",
      "      \"name\": \"HCC1937\",\n",
      "      \"id\": \"SIDM00874\",\n",
      "      \"tissue\": \"Breast\",\n",
      "      \"tissueId\": \"UBERON_0000310\"\n",
      "    },\n",
      "    {\n",
      "      \"name\": \"HCC1187\",\n",
      "      \"id\": \"SIDM00885\",\n",
      "      \"tissue\": \"Breast\",\n",
      "      \"tissueId\": \"UBERON_0000310\"\n",
      "    },\n",
      "    {\n",
      "      \"name\": \"HCC1806\",\n",
      "      \"id\": \"SIDM00875\",\n",
      "      \"tissue\": \"Breast\",\n",
      "      \"tissueId\": \"UBERON_0000310\"\n",
      "    },\n",
      "    {\n",
      "      \"name\": \"CAL-51\",\n",
      "      \"id\": \"SIDM00933\",\n",
      "      \"tissue\": \"Breast\",\n",
      "      \"tissueId\": \"UBERON_0000310\"\n",
      "    }\n",
      "  ],\n",
      "  \"diseaseFromSourceMappedId\": \"EFO_0000305\",\n",
      "  \"datasourceId\": \"crispr\",\n",
      "  \"datatypeId\": \"affected_pathway\"\n",
      "}\n"
     ]
    }
   ],
   "source": [
    "%%bash\n",
    "\n",
    "gzcat crispr-2021-10-22/*gz | head -n1 | jq"
   ]
  },
  {
   "cell_type": "code",
   "execution_count": null,
   "id": "beb9bade",
   "metadata": {},
   "outputs": [],
   "source": []
  }
 ],
 "metadata": {
  "kernelspec": {
   "display_name": "Python 3",
   "language": "python",
   "name": "python3"
  },
  "language_info": {
   "codemirror_mode": {
    "name": "ipython",
    "version": 3
   },
   "file_extension": ".py",
   "mimetype": "text/x-python",
   "name": "python",
   "nbconvert_exporter": "python",
   "pygments_lexer": "ipython3",
   "version": "3.9.5"
  }
 },
 "nbformat": 4,
 "nbformat_minor": 5
}
