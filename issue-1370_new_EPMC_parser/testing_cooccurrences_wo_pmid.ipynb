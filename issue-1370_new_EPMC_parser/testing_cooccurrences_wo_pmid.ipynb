{
 "cells": [
  {
   "cell_type": "markdown",
   "metadata": {},
   "source": [
    "From 21.06, we are accepting epmc evidence without pmids as well, where the only identifier is the PubmedCentral identifier. In such case, the literature field will be empty. But have to test.... so far we don't have any dataset where this value is missing."
   ]
  },
  {
   "cell_type": "code",
   "execution_count": null,
   "metadata": {
    "ExecuteTime": {
     "end_time": "2021-05-12T06:02:55.928828Z",
     "start_time": "2021-05-12T06:02:55.108713Z"
    }
   },
   "outputs": [],
   "source": [
    "from pyspark.sql import SparkSession\n",
    "import pyspark.sql.functions as F\n",
    "\n",
    "# establish spark connection\n",
    "spark = (\n",
    "    SparkSession.builder\n",
    "    .master('local[*]')\n",
    "    .getOrCreate()\n",
    ")\n",
    "\n",
    "cooccfile = '/Users/dsuveges/project_data/epmc_evidence/cooccurrences/part-00000-e5a8d013-8805-4403-8500-4483f2abaee0-c000.snappy.parquet'\n",
    "\n",
    "epmc_df = (\n",
    "    spark.read.parquet(cooccfile)\n",
    "    .filter(\n",
    "        (F.col('type') == 'GP-DS') &\n",
    "        F.col('isMapped')\n",
    "    )\n",
    ")\n",
    "\n",
    "(\n",
    "    epmc_df\n",
    "    .groupby('pmid')\n",
    "    .agg(\n",
    "        F.count('pmid').alias('pmid_count'),\n",
    "        F.first('pmcid').alias('pmcid')\n",
    "    )\n",
    "    .orderBy('pmid_count', ascending=False)\n",
    "    .show()\n",
    ")"
   ]
  },
  {
   "cell_type": "code",
   "execution_count": null,
   "metadata": {
    "ExecuteTime": {
     "end_time": "2021-05-12T05:56:32.507251Z",
     "start_time": "2021-05-12T05:56:30.861826Z"
    }
   },
   "outputs": [],
   "source": [
    "pmid_to_remove = '11956232' # This pubmed ID will be removed to do a test run with the updated parser\n",
    "\n",
    "\n",
    "# from pyspark.sql.functions import UserDefinedFunction\n",
    "\n",
    "(\n",
    "    epmc_df\n",
    "    .withColumn('pmid_updated',\n",
    "         F.when(F.col('pmid') == pmid_to_remove, None)\n",
    "        .otherwise(F.col('pmid'))\n",
    "    )\n",
    "    .drop(F.col('pmid'))\n",
    "    .withColumnRenamed('pmid_updated', 'pmid')\n",
    "    .write.format('parquet').mode('overwrite')\n",
    "    .save('/Users/dsuveges/project_data/epmc_evidence/cooccurrences/pmid_removed')\n",
    ")\n",
    "\n"
   ]
  },
  {
   "cell_type": "code",
   "execution_count": null,
   "metadata": {
    "ExecuteTime": {
     "end_time": "2021-05-12T06:03:24.442837Z",
     "start_time": "2021-05-12T06:03:23.996257Z"
    }
   },
   "outputs": [],
   "source": [
    "(\n",
    "    epmc_df\n",
    "    .filter(F.col('pmcid') == 'PMC2199249')\n",
    "    .show()\n",
    ")"
   ]
  },
  {
   "cell_type": "code",
   "execution_count": 2,
   "metadata": {
    "ExecuteTime": {
     "end_time": "2021-05-18T13:04:45.942029Z",
     "start_time": "2021-05-18T13:04:41.860597Z"
    }
   },
   "outputs": [
    {
     "name": "stdout",
     "output_type": "stream",
     "text": [
      "root\n",
      " |-- pmid: string (nullable = true)\n",
      " |-- pmcid: string (nullable = true)\n",
      " |-- pubDate: string (nullable = true)\n",
      " |-- date: date (nullable = true)\n",
      " |-- year: integer (nullable = true)\n",
      " |-- month: integer (nullable = true)\n",
      " |-- day: integer (nullable = true)\n",
      " |-- organisms: array (nullable = true)\n",
      " |    |-- element: string (containsNull = true)\n",
      " |-- section: string (nullable = true)\n",
      " |-- text: string (nullable = true)\n",
      " |-- association: struct (nullable = true)\n",
      " |    |-- Altered_Expression: double (nullable = true)\n",
      " |    |-- Any: double (nullable = true)\n",
      " |    |-- Genetic_Variation: double (nullable = true)\n",
      " |    |-- Negative: double (nullable = true)\n",
      " |    |-- Neutral: double (nullable = true)\n",
      " |    |-- No: double (nullable = true)\n",
      " |    |-- Positive: double (nullable = true)\n",
      " |    |-- Regulatory_modification: double (nullable = true)\n",
      " |    |-- Yes: double (nullable = true)\n",
      " |-- end1: long (nullable = true)\n",
      " |-- end2: long (nullable = true)\n",
      " |-- evidence_score: double (nullable = true)\n",
      " |-- label1: string (nullable = true)\n",
      " |-- keywordId1: string (nullable = true)\n",
      " |-- label2: string (nullable = true)\n",
      " |-- keywordId2: string (nullable = true)\n",
      " |-- relation: array (nullable = true)\n",
      " |    |-- element: struct (containsNull = true)\n",
      " |    |    |-- endr: long (nullable = true)\n",
      " |    |    |-- labelr: string (nullable = true)\n",
      " |    |    |-- startr: long (nullable = true)\n",
      " |    |    |-- typer: string (nullable = true)\n",
      " |-- start1: long (nullable = true)\n",
      " |-- start2: long (nullable = true)\n",
      " |-- type: string (nullable = true)\n",
      " |-- type1: string (nullable = true)\n",
      " |-- type2: string (nullable = true)\n",
      " |-- isMapped: boolean (nullable = true)\n",
      "\n"
     ]
    }
   ],
   "source": [
    "from pyspark.sql import SparkSession\n",
    "import pyspark.sql.functions as F\n",
    "\n",
    "# establish spark connection\n",
    "spark = (\n",
    "    SparkSession.builder\n",
    "    .getOrCreate()\n",
    ")\n",
    "\n",
    "cooccfile = '/Users/dsuveges/project_data/epmc_evidence/cooccurrences/part-00000-e5a8d013-8805-4403-8500-4483f2abaee0-c000.snappy.parquet'\n",
    "\n",
    "\n",
    "epmc_df = (\n",
    "    spark.read.parquet(cooccfile)\n",
    "    .filter(\n",
    "        (F.col('type') == 'GP-DS') &\n",
    "        F.col('isMapped')\n",
    "    )\n",
    "    .persist()\n",
    ")\n",
    "\n",
    "epmc_df.printSchema()"
   ]
  },
  {
   "cell_type": "code",
   "execution_count": null,
   "metadata": {},
   "outputs": [],
   "source": []
  }
 ],
 "metadata": {
  "kernelspec": {
   "display_name": "Python 3",
   "language": "python",
   "name": "python3"
  },
  "language_info": {
   "codemirror_mode": {
    "name": "ipython",
    "version": 3
   },
   "file_extension": ".py",
   "mimetype": "text/x-python",
   "name": "python",
   "nbconvert_exporter": "python",
   "pygments_lexer": "ipython3",
   "version": "3.6.10"
  },
  "toc": {
   "base_numbering": 1,
   "nav_menu": {},
   "number_sections": true,
   "sideBar": true,
   "skip_h1_title": false,
   "title_cell": "Table of Contents",
   "title_sidebar": "Contents",
   "toc_cell": false,
   "toc_position": {},
   "toc_section_display": true,
   "toc_window_display": false
  }
 },
 "nbformat": 4,
 "nbformat_minor": 4
}
