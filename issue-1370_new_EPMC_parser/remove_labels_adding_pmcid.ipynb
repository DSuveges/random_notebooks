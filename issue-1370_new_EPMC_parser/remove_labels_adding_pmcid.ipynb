{
 "cells": [
  {
   "cell_type": "code",
   "execution_count": 15,
   "metadata": {
    "ExecuteTime": {
     "end_time": "2021-05-08T22:32:44.299952Z",
     "start_time": "2021-05-08T22:31:39.918109Z"
    }
   },
   "outputs": [
    {
     "data": {
      "text/plain": [
       "30111325"
      ]
     },
     "execution_count": 15,
     "metadata": {},
     "output_type": "execute_result"
    }
   ],
   "source": [
    "from pyspark.conf import SparkConf\n",
    "from pyspark.sql import SparkSession\n",
    "from pyspark.sql.types import StringType\n",
    "import pyspark.sql.functions as pf\n",
    "\n",
    "# establish spark connection\n",
    "sparkConf = (\n",
    "    SparkConf()\n",
    "    .set('spark.driver.memory', '15g')\n",
    "    .set('spark.executor.memory', '15g')\n",
    "    .set('spark.driver.host', 'localhost')\n",
    "    .set('spark.driver.maxResultSize', '0')\n",
    "    .set('spark.debug.maxToStringFields', '2000')\n",
    "    .set('spark.sql.execution.arrow.maxRecordsPerBatch', '500000')\n",
    ")\n",
    "spark = (\n",
    "    SparkSession.builder\n",
    "    .config(conf=sparkConf)\n",
    "    .getOrCreate()\n",
    ")\n",
    "EXCLUDED_TARGET_TERMS = ['TEC', 'TECS', 'Tec', 'tec', '\\'', '(', ')', '-', '-S', 'S', 'S-', 'SS', 'SSS',\n",
    "    'Ss', 'Ss-', 's', 's-', 'ss', 'U3', 'U6', 'u6', 'SNORA70', 'U2', 'U8']\n",
    "\n",
    "\n",
    "cooccurrenceFile = '/Users/dsuveges/project_data/epmc_evidence/cooccurrences'\n",
    "\n",
    "filtered_cooccurrence_df = (\n",
    "    # Reading file:\n",
    "    spark.read.parquet(cooccurrenceFile)\n",
    "\n",
    "    # Casting integer pmid column to string:\n",
    "    .withColumn(\"pmid\", pf.col('pmid').cast(StringType()))\n",
    "\n",
    "    # publication identifier is a pmid if available otherwise pmcid\n",
    "    .withColumn(\n",
    "        'publicationIdentifier',\n",
    "        pf.when(pf.col('pmid').isNull(), pf.col('pmcid'))\n",
    "        .otherwise(pf.col('pmid'))\n",
    "    )\n",
    "\n",
    "    # Filtering for disease/target cooccurrences:\n",
    "    .filter(\n",
    "        (pf.col('type') == 'GP-DS') &  # Filter gene/protein - disease cooccurrence\n",
    "        (pf.col('isMapped')) &  # Filtering for mapped cooccurrences\n",
    "        (pf.length(pf.col('text')) < 600) &  # Exclude sentences with more than 600 characters\n",
    "        (pf.col('label1').isin(EXCLUDED_TARGET_TERMS) == False)  # Excluding target labels from the exclusion list\n",
    "    )\n",
    "\n",
    "    # Renaming columns:\n",
    "    .withColumnRenamed('keywordId1', 'targetFromSourceId')\n",
    "    .withColumnRenamed('keywordId2', 'diseaseFromSourceMappedId')\n",
    "\n",
    "    .withColumn('pmid_str_tmp', pf.col('pmid'))\n",
    ")\n",
    "\n",
    "\n",
    "filtered_cooccurrence_df.count()\n"
   ]
  },
  {
   "cell_type": "code",
   "execution_count": 6,
   "metadata": {
    "ExecuteTime": {
     "end_time": "2021-05-08T15:36:34.230791Z",
     "start_time": "2021-05-08T15:36:33.798234Z"
    }
   },
   "outputs": [
    {
     "data": {
      "text/plain": [
       "0"
      ]
     },
     "execution_count": 6,
     "metadata": {},
     "output_type": "execute_result"
    }
   ],
   "source": [
    "filtered_cooccurrence_df.filter(pf.col('pmcid').isNull()).count()"
   ]
  },
  {
   "cell_type": "code",
   "execution_count": 11,
   "metadata": {
    "ExecuteTime": {
     "end_time": "2021-05-08T15:38:27.483527Z",
     "start_time": "2021-05-08T15:38:27.296040Z"
    }
   },
   "outputs": [
    {
     "name": "stdout",
     "output_type": "stream",
     "text": [
      "+---------------------+\n",
      "|publicationIdentifier|\n",
      "+---------------------+\n",
      "|             29147441|\n",
      "|             29147441|\n",
      "|             29147441|\n",
      "|             29147441|\n",
      "|             29147441|\n",
      "|             29147441|\n",
      "|             29147441|\n",
      "|             29147441|\n",
      "|             29147441|\n",
      "|             29147441|\n",
      "|             29147441|\n",
      "|             29147441|\n",
      "|             29147441|\n",
      "|             29147441|\n",
      "|             29147441|\n",
      "|             29147441|\n",
      "|             29147441|\n",
      "|             29147441|\n",
      "|             29147441|\n",
      "|             29147441|\n",
      "+---------------------+\n",
      "only showing top 20 rows\n",
      "\n"
     ]
    }
   ],
   "source": [
    "filtered_cooccurrence_df.select('publicationIdentifier').show()"
   ]
  },
  {
   "cell_type": "code",
   "execution_count": 16,
   "metadata": {
    "ExecuteTime": {
     "end_time": "2021-05-08T22:37:39.145834Z",
     "start_time": "2021-05-08T22:37:39.064583Z"
    }
   },
   "outputs": [],
   "source": [
    "aggregated_df = (\n",
    "    filtered_cooccurrence_df\n",
    "\n",
    "    # Aggregating data by publication, target and disease:\n",
    "    .groupBy(['publicationIdentifier', 'targetFromSourceId', 'diseaseFromSourceMappedId'])\n",
    "    .agg(\n",
    "        pf.first(pf.col('pmcid').alias('pmcid')),\n",
    "        pf.collect_set(pf.col('pmid_str_tmp')).alias('literature'),\n",
    "        pf.collect_set(\n",
    "            pf.struct(\n",
    "                pf.col('text'),\n",
    "                pf.col('start1').alias('tStart'),\n",
    "                pf.col('end1').alias('tEnd'),\n",
    "                pf.col('start2').alias('dStart'),\n",
    "                pf.col('end2').alias('dEnd'),\n",
    "                pf.col('section')\n",
    "            )\n",
    "        ).alias('textMiningSentences'),\n",
    "        pf.sum(pf.col('evidence_score')).alias('resourceScore')\n",
    "    )\n",
    "    \n",
    "    .drop('publicationIdentifier')\n",
    "\n",
    "    # Only evidence with score above 1 is considered:\n",
    "    .filter(pf.col('resourceScore') > 1)\n",
    ")"
   ]
  },
  {
   "cell_type": "code",
   "execution_count": 17,
   "metadata": {
    "ExecuteTime": {
     "end_time": "2021-05-08T22:38:19.108729Z",
     "start_time": "2021-05-08T22:38:18.969108Z"
    }
   },
   "outputs": [
    {
     "ename": "AnalysisException",
     "evalue": "cannot resolve '`pmcId`' given input columns: [datasourceId, datatypeId, diseaseFromSourceMappedId, first(pmcid AS `pmcid`, false), literature, resourceScore, targetFromSourceId, textMiningSentences];;\n'Project [datasourceId#2096, datatypeId#2104, targetFromSourceId#1929, diseaseFromSourceMappedId#1956, resourceScore#2081, literature#2073, textMiningSentences#2079, 'pmcId]\n+- Project [targetFromSourceId#1929, diseaseFromSourceMappedId#1956, first(pmcid AS `pmcid`, false)#2082, literature#2073, textMiningSentences#2079, resourceScore#2081, datasourceId#2096, literature AS datatypeId#2104]\n   +- Project [targetFromSourceId#1929, diseaseFromSourceMappedId#1956, first(pmcid AS `pmcid`, false)#2082, literature#2073, textMiningSentences#2079, resourceScore#2081, europepmc AS datasourceId#2096]\n      +- Filter (resourceScore#2081 > cast(1 as double))\n         +- Project [targetFromSourceId#1929, diseaseFromSourceMappedId#1956, first(pmcid AS `pmcid`, false)#2082, literature#2073, textMiningSentences#2079, resourceScore#2081]\n            +- Aggregate [publicationIdentifier#1902, targetFromSourceId#1929, diseaseFromSourceMappedId#1956], [publicationIdentifier#1902, targetFromSourceId#1929, diseaseFromSourceMappedId#1956, first(pmcid#1827, false) AS first(pmcid AS `pmcid`, false)#2082, collect_set(pmid_str_tmp#1983, 0, 0) AS literature#2073, collect_set(struct(text, text#1835, tStart, start1#1845L, tEnd, end1#1837L, dStart, start2#1846L, dEnd, end2#1838L, section, section#1834), 0, 0) AS textMiningSentences#2079, sum(evidence_score#1839) AS resourceScore#2081]\n               +- Project [pmid#1876, pmcid#1827, pubDate#1828, date#1829, year#1830, month#1831, day#1832, organisms#1833, section#1834, text#1835, association#1836, end1#1837L, end2#1838L, evidence_score#1839, label1#1840, targetFromSourceId#1929, label2#1842, diseaseFromSourceMappedId#1956, relation#1844, start1#1845L, start2#1846L, type#1847, type1#1848, type2#1849, ... 3 more fields]\n                  +- Project [pmid#1876, pmcid#1827, pubDate#1828, date#1829, year#1830, month#1831, day#1832, organisms#1833, section#1834, text#1835, association#1836, end1#1837L, end2#1838L, evidence_score#1839, label1#1840, targetFromSourceId#1929, label2#1842, keywordId2#1843 AS diseaseFromSourceMappedId#1956, relation#1844, start1#1845L, start2#1846L, type#1847, type1#1848, type2#1849, ... 2 more fields]\n                     +- Project [pmid#1876, pmcid#1827, pubDate#1828, date#1829, year#1830, month#1831, day#1832, organisms#1833, section#1834, text#1835, association#1836, end1#1837L, end2#1838L, evidence_score#1839, label1#1840, keywordId1#1841 AS targetFromSourceId#1929, label2#1842, keywordId2#1843, relation#1844, start1#1845L, start2#1846L, type#1847, type1#1848, type2#1849, ... 2 more fields]\n                        +- Filter ((((type#1847 = GP-DS) AND isMapped#1850) AND (length(text#1835) < 600)) AND (label1#1840 IN (TEC,TECS,Tec,tec,',(,),-,-S,S,S-,SS,SSS,Ss,Ss-,s,s-,ss,U3,U6,u6,SNORA70,U2,U8) = false))\n                           +- Project [pmid#1876, pmcid#1827, pubDate#1828, date#1829, year#1830, month#1831, day#1832, organisms#1833, section#1834, text#1835, association#1836, end1#1837L, end2#1838L, evidence_score#1839, label1#1840, keywordId1#1841, label2#1842, keywordId2#1843, relation#1844, start1#1845L, start2#1846L, type#1847, type1#1848, type2#1849, ... 2 more fields]\n                              +- Project [cast(pmid#1826 as string) AS pmid#1876, pmcid#1827, pubDate#1828, date#1829, year#1830, month#1831, day#1832, organisms#1833, section#1834, text#1835, association#1836, end1#1837L, end2#1838L, evidence_score#1839, label1#1840, keywordId1#1841, label2#1842, keywordId2#1843, relation#1844, start1#1845L, start2#1846L, type#1847, type1#1848, type2#1849, isMapped#1850]\n                                 +- Relation[pmid#1826,pmcid#1827,pubDate#1828,date#1829,year#1830,month#1831,day#1832,organisms#1833,section#1834,text#1835,association#1836,end1#1837L,end2#1838L,evidence_score#1839,label1#1840,keywordId1#1841,label2#1842,keywordId2#1843,relation#1844,start1#1845L,start2#1846L,type#1847,type1#1848,type2#1849,isMapped#1850] parquet\n",
     "output_type": "error",
     "traceback": [
      "\u001b[0;31m---------------------------------------------------------------------------\u001b[0m",
      "\u001b[0;31mAnalysisException\u001b[0m                         Traceback (most recent call last)",
      "\u001b[0;32m<ipython-input-17-de60b0fe4692>\u001b[0m in \u001b[0;36m<module>\u001b[0;34m\u001b[0m\n\u001b[1;32m      8\u001b[0m     \u001b[0;31m# Reorder columns:\u001b[0m\u001b[0;34m\u001b[0m\u001b[0;34m\u001b[0m\u001b[0;34m\u001b[0m\u001b[0m\n\u001b[1;32m      9\u001b[0m     .select(['datasourceId', 'datatypeId', 'targetFromSourceId', 'diseaseFromSourceMappedId','resourceScore',\n\u001b[0;32m---> 10\u001b[0;31m              'literature', 'textMiningSentences', 'pmcId'])\n\u001b[0m\u001b[1;32m     11\u001b[0m \u001b[0;34m\u001b[0m\u001b[0m\n\u001b[1;32m     12\u001b[0m     \u001b[0;31m# Save output:\u001b[0m\u001b[0;34m\u001b[0m\u001b[0;34m\u001b[0m\u001b[0;34m\u001b[0m\u001b[0m\n",
      "\u001b[0;32m~/opt/anaconda3/envs/jupyter/lib/python3.6/site-packages/pyspark/sql/dataframe.py\u001b[0m in \u001b[0;36mselect\u001b[0;34m(self, *cols)\u001b[0m\n\u001b[1;32m   1419\u001b[0m         \u001b[0;34m[\u001b[0m\u001b[0mRow\u001b[0m\u001b[0;34m(\u001b[0m\u001b[0mname\u001b[0m\u001b[0;34m=\u001b[0m\u001b[0;34mu'Alice'\u001b[0m\u001b[0;34m,\u001b[0m \u001b[0mage\u001b[0m\u001b[0;34m=\u001b[0m\u001b[0;36m12\u001b[0m\u001b[0;34m)\u001b[0m\u001b[0;34m,\u001b[0m \u001b[0mRow\u001b[0m\u001b[0;34m(\u001b[0m\u001b[0mname\u001b[0m\u001b[0;34m=\u001b[0m\u001b[0;34mu'Bob'\u001b[0m\u001b[0;34m,\u001b[0m \u001b[0mage\u001b[0m\u001b[0;34m=\u001b[0m\u001b[0;36m15\u001b[0m\u001b[0;34m)\u001b[0m\u001b[0;34m]\u001b[0m\u001b[0;34m\u001b[0m\u001b[0;34m\u001b[0m\u001b[0m\n\u001b[1;32m   1420\u001b[0m         \"\"\"\n\u001b[0;32m-> 1421\u001b[0;31m         \u001b[0mjdf\u001b[0m \u001b[0;34m=\u001b[0m \u001b[0mself\u001b[0m\u001b[0;34m.\u001b[0m\u001b[0m_jdf\u001b[0m\u001b[0;34m.\u001b[0m\u001b[0mselect\u001b[0m\u001b[0;34m(\u001b[0m\u001b[0mself\u001b[0m\u001b[0;34m.\u001b[0m\u001b[0m_jcols\u001b[0m\u001b[0;34m(\u001b[0m\u001b[0;34m*\u001b[0m\u001b[0mcols\u001b[0m\u001b[0;34m)\u001b[0m\u001b[0;34m)\u001b[0m\u001b[0;34m\u001b[0m\u001b[0;34m\u001b[0m\u001b[0m\n\u001b[0m\u001b[1;32m   1422\u001b[0m         \u001b[0;32mreturn\u001b[0m \u001b[0mDataFrame\u001b[0m\u001b[0;34m(\u001b[0m\u001b[0mjdf\u001b[0m\u001b[0;34m,\u001b[0m \u001b[0mself\u001b[0m\u001b[0;34m.\u001b[0m\u001b[0msql_ctx\u001b[0m\u001b[0;34m)\u001b[0m\u001b[0;34m\u001b[0m\u001b[0;34m\u001b[0m\u001b[0m\n\u001b[1;32m   1423\u001b[0m \u001b[0;34m\u001b[0m\u001b[0m\n",
      "\u001b[0;32m~/opt/anaconda3/envs/jupyter/lib/python3.6/site-packages/py4j/java_gateway.py\u001b[0m in \u001b[0;36m__call__\u001b[0;34m(self, *args)\u001b[0m\n\u001b[1;32m   1303\u001b[0m         \u001b[0manswer\u001b[0m \u001b[0;34m=\u001b[0m \u001b[0mself\u001b[0m\u001b[0;34m.\u001b[0m\u001b[0mgateway_client\u001b[0m\u001b[0;34m.\u001b[0m\u001b[0msend_command\u001b[0m\u001b[0;34m(\u001b[0m\u001b[0mcommand\u001b[0m\u001b[0;34m)\u001b[0m\u001b[0;34m\u001b[0m\u001b[0;34m\u001b[0m\u001b[0m\n\u001b[1;32m   1304\u001b[0m         return_value = get_return_value(\n\u001b[0;32m-> 1305\u001b[0;31m             answer, self.gateway_client, self.target_id, self.name)\n\u001b[0m\u001b[1;32m   1306\u001b[0m \u001b[0;34m\u001b[0m\u001b[0m\n\u001b[1;32m   1307\u001b[0m         \u001b[0;32mfor\u001b[0m \u001b[0mtemp_arg\u001b[0m \u001b[0;32min\u001b[0m \u001b[0mtemp_args\u001b[0m\u001b[0;34m:\u001b[0m\u001b[0;34m\u001b[0m\u001b[0;34m\u001b[0m\u001b[0m\n",
      "\u001b[0;32m~/opt/anaconda3/envs/jupyter/lib/python3.6/site-packages/pyspark/sql/utils.py\u001b[0m in \u001b[0;36mdeco\u001b[0;34m(*a, **kw)\u001b[0m\n\u001b[1;32m    135\u001b[0m                 \u001b[0;31m# Hide where the exception came from that shows a non-Pythonic\u001b[0m\u001b[0;34m\u001b[0m\u001b[0;34m\u001b[0m\u001b[0;34m\u001b[0m\u001b[0m\n\u001b[1;32m    136\u001b[0m                 \u001b[0;31m# JVM exception message.\u001b[0m\u001b[0;34m\u001b[0m\u001b[0;34m\u001b[0m\u001b[0;34m\u001b[0m\u001b[0m\n\u001b[0;32m--> 137\u001b[0;31m                 \u001b[0mraise_from\u001b[0m\u001b[0;34m(\u001b[0m\u001b[0mconverted\u001b[0m\u001b[0;34m)\u001b[0m\u001b[0;34m\u001b[0m\u001b[0;34m\u001b[0m\u001b[0m\n\u001b[0m\u001b[1;32m    138\u001b[0m             \u001b[0;32melse\u001b[0m\u001b[0;34m:\u001b[0m\u001b[0;34m\u001b[0m\u001b[0;34m\u001b[0m\u001b[0m\n\u001b[1;32m    139\u001b[0m                 \u001b[0;32mraise\u001b[0m\u001b[0;34m\u001b[0m\u001b[0;34m\u001b[0m\u001b[0m\n",
      "\u001b[0;32m~/opt/anaconda3/envs/jupyter/lib/python3.6/site-packages/pyspark/sql/utils.py\u001b[0m in \u001b[0;36mraise_from\u001b[0;34m(e)\u001b[0m\n",
      "\u001b[0;31mAnalysisException\u001b[0m: cannot resolve '`pmcId`' given input columns: [datasourceId, datatypeId, diseaseFromSourceMappedId, first(pmcid AS `pmcid`, false), literature, resourceScore, targetFromSourceId, textMiningSentences];;\n'Project [datasourceId#2096, datatypeId#2104, targetFromSourceId#1929, diseaseFromSourceMappedId#1956, resourceScore#2081, literature#2073, textMiningSentences#2079, 'pmcId]\n+- Project [targetFromSourceId#1929, diseaseFromSourceMappedId#1956, first(pmcid AS `pmcid`, false)#2082, literature#2073, textMiningSentences#2079, resourceScore#2081, datasourceId#2096, literature AS datatypeId#2104]\n   +- Project [targetFromSourceId#1929, diseaseFromSourceMappedId#1956, first(pmcid AS `pmcid`, false)#2082, literature#2073, textMiningSentences#2079, resourceScore#2081, europepmc AS datasourceId#2096]\n      +- Filter (resourceScore#2081 > cast(1 as double))\n         +- Project [targetFromSourceId#1929, diseaseFromSourceMappedId#1956, first(pmcid AS `pmcid`, false)#2082, literature#2073, textMiningSentences#2079, resourceScore#2081]\n            +- Aggregate [publicationIdentifier#1902, targetFromSourceId#1929, diseaseFromSourceMappedId#1956], [publicationIdentifier#1902, targetFromSourceId#1929, diseaseFromSourceMappedId#1956, first(pmcid#1827, false) AS first(pmcid AS `pmcid`, false)#2082, collect_set(pmid_str_tmp#1983, 0, 0) AS literature#2073, collect_set(struct(text, text#1835, tStart, start1#1845L, tEnd, end1#1837L, dStart, start2#1846L, dEnd, end2#1838L, section, section#1834), 0, 0) AS textMiningSentences#2079, sum(evidence_score#1839) AS resourceScore#2081]\n               +- Project [pmid#1876, pmcid#1827, pubDate#1828, date#1829, year#1830, month#1831, day#1832, organisms#1833, section#1834, text#1835, association#1836, end1#1837L, end2#1838L, evidence_score#1839, label1#1840, targetFromSourceId#1929, label2#1842, diseaseFromSourceMappedId#1956, relation#1844, start1#1845L, start2#1846L, type#1847, type1#1848, type2#1849, ... 3 more fields]\n                  +- Project [pmid#1876, pmcid#1827, pubDate#1828, date#1829, year#1830, month#1831, day#1832, organisms#1833, section#1834, text#1835, association#1836, end1#1837L, end2#1838L, evidence_score#1839, label1#1840, targetFromSourceId#1929, label2#1842, keywordId2#1843 AS diseaseFromSourceMappedId#1956, relation#1844, start1#1845L, start2#1846L, type#1847, type1#1848, type2#1849, ... 2 more fields]\n                     +- Project [pmid#1876, pmcid#1827, pubDate#1828, date#1829, year#1830, month#1831, day#1832, organisms#1833, section#1834, text#1835, association#1836, end1#1837L, end2#1838L, evidence_score#1839, label1#1840, keywordId1#1841 AS targetFromSourceId#1929, label2#1842, keywordId2#1843, relation#1844, start1#1845L, start2#1846L, type#1847, type1#1848, type2#1849, ... 2 more fields]\n                        +- Filter ((((type#1847 = GP-DS) AND isMapped#1850) AND (length(text#1835) < 600)) AND (label1#1840 IN (TEC,TECS,Tec,tec,',(,),-,-S,S,S-,SS,SSS,Ss,Ss-,s,s-,ss,U3,U6,u6,SNORA70,U2,U8) = false))\n                           +- Project [pmid#1876, pmcid#1827, pubDate#1828, date#1829, year#1830, month#1831, day#1832, organisms#1833, section#1834, text#1835, association#1836, end1#1837L, end2#1838L, evidence_score#1839, label1#1840, keywordId1#1841, label2#1842, keywordId2#1843, relation#1844, start1#1845L, start2#1846L, type#1847, type1#1848, type2#1849, ... 2 more fields]\n                              +- Project [cast(pmid#1826 as string) AS pmid#1876, pmcid#1827, pubDate#1828, date#1829, year#1830, month#1831, day#1832, organisms#1833, section#1834, text#1835, association#1836, end1#1837L, end2#1838L, evidence_score#1839, label1#1840, keywordId1#1841, label2#1842, keywordId2#1843, relation#1844, start1#1845L, start2#1846L, type#1847, type1#1848, type2#1849, isMapped#1850]\n                                 +- Relation[pmid#1826,pmcid#1827,pubDate#1828,date#1829,year#1830,month#1831,day#1832,organisms#1833,section#1834,text#1835,association#1836,end1#1837L,end2#1838L,evidence_score#1839,label1#1840,keywordId1#1841,label2#1842,keywordId2#1843,relation#1844,start1#1845L,start2#1846L,type#1847,type1#1848,type2#1849,isMapped#1850] parquet\n"
     ]
    }
   ],
   "source": [
    "(\n",
    "    aggregated_df\n",
    "\n",
    "    # Adding literal columns:\n",
    "    .withColumn('datasourceId', pf.lit('europepmc'))\n",
    "    .withColumn('datatypeId', pf.lit('literature'))\n",
    "\n",
    "    # Reorder columns:\n",
    "    .select(['datasourceId', 'datatypeId', 'targetFromSourceId', 'diseaseFromSourceMappedId','resourceScore',\n",
    "             'literature', 'textMiningSentences', 'pmcId'])\n",
    "\n",
    "    # Save output:\n",
    "    .write.format('json').mode('overwrite').option('compression', 'gzip').save('new_epmc_evidence')\n",
    ")"
   ]
  },
  {
   "cell_type": "code",
   "execution_count": 18,
   "metadata": {
    "ExecuteTime": {
     "end_time": "2021-05-08T23:59:37.599005Z",
     "start_time": "2021-05-08T23:59:37.548964Z"
    }
   },
   "outputs": [
    {
     "ename": "NameError",
     "evalue": "name 'df' is not defined",
     "output_type": "error",
     "traceback": [
      "\u001b[0;31m---------------------------------------------------------------------------\u001b[0m",
      "\u001b[0;31mNameError\u001b[0m                                 Traceback (most recent call last)",
      "\u001b[0;32m<ipython-input-18-00cf07b74dcd>\u001b[0m in \u001b[0;36m<module>\u001b[0;34m\u001b[0m\n\u001b[0;32m----> 1\u001b[0;31m \u001b[0mdf\u001b[0m\u001b[0;34m\u001b[0m\u001b[0;34m\u001b[0m\u001b[0m\n\u001b[0m",
      "\u001b[0;31mNameError\u001b[0m: name 'df' is not defined"
     ]
    }
   ],
   "source": [
    "df"
   ]
  },
  {
   "cell_type": "code",
   "execution_count": null,
   "metadata": {},
   "outputs": [],
   "source": []
  }
 ],
 "metadata": {
  "kernelspec": {
   "display_name": "Python 3",
   "language": "python",
   "name": "python3"
  },
  "language_info": {
   "codemirror_mode": {
    "name": "ipython",
    "version": 3
   },
   "file_extension": ".py",
   "mimetype": "text/x-python",
   "name": "python",
   "nbconvert_exporter": "python",
   "pygments_lexer": "ipython3",
   "version": "3.6.10"
  }
 },
 "nbformat": 4,
 "nbformat_minor": 4
}
