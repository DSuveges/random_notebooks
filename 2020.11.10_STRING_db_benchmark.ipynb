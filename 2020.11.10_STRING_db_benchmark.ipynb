{
 "cells": [
  {
   "cell_type": "markdown",
   "metadata": {},
   "source": [
    "# Checking a few things in STRING\n",
    "\n",
    "\n",
    "The following questinos needs to be answered:\n",
    "\n",
    "- [x] Are there non-human interactors?\n",
    "    * No. all human\n",
    "- [x] Ensembl protein ids needs to be mapped to target ids.\n",
    "- [X] What is the largest number of interaction for a given target?\n",
    "    * Indeed the a/b matrix is symmetric\n",
    "    * without any score filter, the largest number interactinos for a target is 7600\n",
    "    * Over 3000 genes have 1000+ interactions\n",
    "    * with a 0.8 scores threshold, the larges number is: \n",
    "- [ ] Email Cinzia to make sure the methods mapping is removed."
   ]
  },
  {
   "cell_type": "code",
   "execution_count": 1,
   "metadata": {
    "ExecuteTime": {
     "end_time": "2020-11-10T15:07:34.295221Z",
     "start_time": "2020-11-10T15:07:21.778637Z"
    }
   },
   "outputs": [
    {
     "data": {
      "text/html": [
       "<div>\n",
       "<style scoped>\n",
       "    .dataframe tbody tr th:only-of-type {\n",
       "        vertical-align: middle;\n",
       "    }\n",
       "\n",
       "    .dataframe tbody tr th {\n",
       "        vertical-align: top;\n",
       "    }\n",
       "\n",
       "    .dataframe thead th {\n",
       "        text-align: right;\n",
       "    }\n",
       "</style>\n",
       "<table border=\"1\" class=\"dataframe\">\n",
       "  <thead>\n",
       "    <tr style=\"text-align: right;\">\n",
       "      <th></th>\n",
       "      <th>protein1</th>\n",
       "      <th>protein2</th>\n",
       "      <th>neighborhood</th>\n",
       "      <th>fusion</th>\n",
       "      <th>cooccurence</th>\n",
       "      <th>coexpression</th>\n",
       "      <th>experimental</th>\n",
       "      <th>database</th>\n",
       "      <th>textmining</th>\n",
       "      <th>combined_score</th>\n",
       "    </tr>\n",
       "  </thead>\n",
       "  <tbody>\n",
       "    <tr>\n",
       "      <th>0</th>\n",
       "      <td>9606.ENSP00000000233</td>\n",
       "      <td>9606.ENSP00000272298</td>\n",
       "      <td>0</td>\n",
       "      <td>0</td>\n",
       "      <td>332</td>\n",
       "      <td>62</td>\n",
       "      <td>181</td>\n",
       "      <td>0</td>\n",
       "      <td>125</td>\n",
       "      <td>490</td>\n",
       "    </tr>\n",
       "    <tr>\n",
       "      <th>1</th>\n",
       "      <td>9606.ENSP00000000233</td>\n",
       "      <td>9606.ENSP00000253401</td>\n",
       "      <td>0</td>\n",
       "      <td>0</td>\n",
       "      <td>0</td>\n",
       "      <td>0</td>\n",
       "      <td>186</td>\n",
       "      <td>0</td>\n",
       "      <td>56</td>\n",
       "      <td>198</td>\n",
       "    </tr>\n",
       "    <tr>\n",
       "      <th>2</th>\n",
       "      <td>9606.ENSP00000000233</td>\n",
       "      <td>9606.ENSP00000401445</td>\n",
       "      <td>0</td>\n",
       "      <td>0</td>\n",
       "      <td>0</td>\n",
       "      <td>0</td>\n",
       "      <td>159</td>\n",
       "      <td>0</td>\n",
       "      <td>0</td>\n",
       "      <td>159</td>\n",
       "    </tr>\n",
       "    <tr>\n",
       "      <th>3</th>\n",
       "      <td>9606.ENSP00000000233</td>\n",
       "      <td>9606.ENSP00000418915</td>\n",
       "      <td>0</td>\n",
       "      <td>0</td>\n",
       "      <td>0</td>\n",
       "      <td>61</td>\n",
       "      <td>158</td>\n",
       "      <td>0</td>\n",
       "      <td>542</td>\n",
       "      <td>606</td>\n",
       "    </tr>\n",
       "    <tr>\n",
       "      <th>4</th>\n",
       "      <td>9606.ENSP00000000233</td>\n",
       "      <td>9606.ENSP00000327801</td>\n",
       "      <td>0</td>\n",
       "      <td>0</td>\n",
       "      <td>0</td>\n",
       "      <td>88</td>\n",
       "      <td>78</td>\n",
       "      <td>0</td>\n",
       "      <td>89</td>\n",
       "      <td>167</td>\n",
       "    </tr>\n",
       "  </tbody>\n",
       "</table>\n",
       "</div>"
      ],
      "text/plain": [
       "               protein1              protein2  neighborhood  fusion  \\\n",
       "0  9606.ENSP00000000233  9606.ENSP00000272298             0       0   \n",
       "1  9606.ENSP00000000233  9606.ENSP00000253401             0       0   \n",
       "2  9606.ENSP00000000233  9606.ENSP00000401445             0       0   \n",
       "3  9606.ENSP00000000233  9606.ENSP00000418915             0       0   \n",
       "4  9606.ENSP00000000233  9606.ENSP00000327801             0       0   \n",
       "\n",
       "   cooccurence  coexpression  experimental  database  textmining  \\\n",
       "0          332            62           181         0         125   \n",
       "1            0             0           186         0          56   \n",
       "2            0             0           159         0           0   \n",
       "3            0            61           158         0         542   \n",
       "4            0            88            78         0          89   \n",
       "\n",
       "   combined_score  \n",
       "0             490  \n",
       "1             198  \n",
       "2             159  \n",
       "3             606  \n",
       "4             167  "
      ]
     },
     "execution_count": 1,
     "metadata": {},
     "output_type": "execute_result"
    }
   ],
   "source": [
    "import pandas as pd\n",
    "import gzip\n",
    "import json\n",
    "\n",
    "stringfile = '/Users/dsuveges/project/issue-870_Import_STRING_db/9606.protein.links.detailed.v11.0.txt.gz'\n",
    "\n",
    "string_df = pd.read_csv(stringfile, compression='infer', sep=' ')\n",
    "string_df.head()"
   ]
  },
  {
   "cell_type": "code",
   "execution_count": 6,
   "metadata": {
    "ExecuteTime": {
     "end_time": "2020-11-10T15:15:26.462065Z",
     "start_time": "2020-11-10T15:14:15.361605Z"
    }
   },
   "outputs": [
    {
     "data": {
      "text/html": [
       "<div>\n",
       "<style scoped>\n",
       "    .dataframe tbody tr th:only-of-type {\n",
       "        vertical-align: middle;\n",
       "    }\n",
       "\n",
       "    .dataframe tbody tr th {\n",
       "        vertical-align: top;\n",
       "    }\n",
       "\n",
       "    .dataframe thead th {\n",
       "        text-align: right;\n",
       "    }\n",
       "</style>\n",
       "<table border=\"1\" class=\"dataframe\">\n",
       "  <thead>\n",
       "    <tr style=\"text-align: right;\">\n",
       "      <th></th>\n",
       "      <th>protein1</th>\n",
       "      <th>protein2</th>\n",
       "      <th>neighborhood</th>\n",
       "      <th>fusion</th>\n",
       "      <th>cooccurence</th>\n",
       "      <th>coexpression</th>\n",
       "      <th>experimental</th>\n",
       "      <th>database</th>\n",
       "      <th>textmining</th>\n",
       "      <th>combined_score</th>\n",
       "      <th>A_taxid</th>\n",
       "      <th>A_protid</th>\n",
       "      <th>B_taxid</th>\n",
       "      <th>B_protid</th>\n",
       "    </tr>\n",
       "  </thead>\n",
       "  <tbody>\n",
       "    <tr>\n",
       "      <th>0</th>\n",
       "      <td>9606.ENSP00000000233</td>\n",
       "      <td>9606.ENSP00000272298</td>\n",
       "      <td>0</td>\n",
       "      <td>0</td>\n",
       "      <td>332</td>\n",
       "      <td>62</td>\n",
       "      <td>181</td>\n",
       "      <td>0</td>\n",
       "      <td>125</td>\n",
       "      <td>490</td>\n",
       "      <td>9606</td>\n",
       "      <td>ENSP00000000233</td>\n",
       "      <td>9606</td>\n",
       "      <td>ENSP00000272298</td>\n",
       "    </tr>\n",
       "    <tr>\n",
       "      <th>1</th>\n",
       "      <td>9606.ENSP00000000233</td>\n",
       "      <td>9606.ENSP00000253401</td>\n",
       "      <td>0</td>\n",
       "      <td>0</td>\n",
       "      <td>0</td>\n",
       "      <td>0</td>\n",
       "      <td>186</td>\n",
       "      <td>0</td>\n",
       "      <td>56</td>\n",
       "      <td>198</td>\n",
       "      <td>9606</td>\n",
       "      <td>ENSP00000000233</td>\n",
       "      <td>9606</td>\n",
       "      <td>ENSP00000253401</td>\n",
       "    </tr>\n",
       "    <tr>\n",
       "      <th>2</th>\n",
       "      <td>9606.ENSP00000000233</td>\n",
       "      <td>9606.ENSP00000401445</td>\n",
       "      <td>0</td>\n",
       "      <td>0</td>\n",
       "      <td>0</td>\n",
       "      <td>0</td>\n",
       "      <td>159</td>\n",
       "      <td>0</td>\n",
       "      <td>0</td>\n",
       "      <td>159</td>\n",
       "      <td>9606</td>\n",
       "      <td>ENSP00000000233</td>\n",
       "      <td>9606</td>\n",
       "      <td>ENSP00000401445</td>\n",
       "    </tr>\n",
       "    <tr>\n",
       "      <th>3</th>\n",
       "      <td>9606.ENSP00000000233</td>\n",
       "      <td>9606.ENSP00000418915</td>\n",
       "      <td>0</td>\n",
       "      <td>0</td>\n",
       "      <td>0</td>\n",
       "      <td>61</td>\n",
       "      <td>158</td>\n",
       "      <td>0</td>\n",
       "      <td>542</td>\n",
       "      <td>606</td>\n",
       "      <td>9606</td>\n",
       "      <td>ENSP00000000233</td>\n",
       "      <td>9606</td>\n",
       "      <td>ENSP00000418915</td>\n",
       "    </tr>\n",
       "    <tr>\n",
       "      <th>4</th>\n",
       "      <td>9606.ENSP00000000233</td>\n",
       "      <td>9606.ENSP00000327801</td>\n",
       "      <td>0</td>\n",
       "      <td>0</td>\n",
       "      <td>0</td>\n",
       "      <td>88</td>\n",
       "      <td>78</td>\n",
       "      <td>0</td>\n",
       "      <td>89</td>\n",
       "      <td>167</td>\n",
       "      <td>9606</td>\n",
       "      <td>ENSP00000000233</td>\n",
       "      <td>9606</td>\n",
       "      <td>ENSP00000327801</td>\n",
       "    </tr>\n",
       "  </tbody>\n",
       "</table>\n",
       "</div>"
      ],
      "text/plain": [
       "               protein1              protein2  neighborhood  fusion  \\\n",
       "0  9606.ENSP00000000233  9606.ENSP00000272298             0       0   \n",
       "1  9606.ENSP00000000233  9606.ENSP00000253401             0       0   \n",
       "2  9606.ENSP00000000233  9606.ENSP00000401445             0       0   \n",
       "3  9606.ENSP00000000233  9606.ENSP00000418915             0       0   \n",
       "4  9606.ENSP00000000233  9606.ENSP00000327801             0       0   \n",
       "\n",
       "   cooccurence  coexpression  experimental  database  textmining  \\\n",
       "0          332            62           181         0         125   \n",
       "1            0             0           186         0          56   \n",
       "2            0             0           159         0           0   \n",
       "3            0            61           158         0         542   \n",
       "4            0            88            78         0          89   \n",
       "\n",
       "   combined_score A_taxid         A_protid B_taxid         B_protid  \n",
       "0             490    9606  ENSP00000000233    9606  ENSP00000272298  \n",
       "1             198    9606  ENSP00000000233    9606  ENSP00000253401  \n",
       "2             159    9606  ENSP00000000233    9606  ENSP00000401445  \n",
       "3             606    9606  ENSP00000000233    9606  ENSP00000418915  \n",
       "4             167    9606  ENSP00000000233    9606  ENSP00000327801  "
      ]
     },
     "execution_count": 6,
     "metadata": {},
     "output_type": "execute_result"
    }
   ],
   "source": [
    "string_df['A_taxid'], string_df['A_protid'] = zip(*string_df.protein1.str.split('.'))\n",
    "string_df['B_taxid'], string_df['B_protid'] = zip(*string_df.protein2.str.split('.'))\n",
    "\n",
    "string_df.head()"
   ]
  },
  {
   "cell_type": "code",
   "execution_count": 7,
   "metadata": {
    "ExecuteTime": {
     "end_time": "2020-11-10T15:16:19.832170Z",
     "start_time": "2020-11-10T15:16:18.768981Z"
    }
   },
   "outputs": [
    {
     "name": "stdout",
     "output_type": "stream",
     "text": [
      "['9606']\n",
      "['9606']\n"
     ]
    }
   ],
   "source": [
    "print(string_df.A_taxid.unique())\n",
    "print(string_df.B_taxid.unique())"
   ]
  },
  {
   "cell_type": "markdown",
   "metadata": {},
   "source": [
    "## Get enseml protein id -> gene id mapping\n",
    "\n",
    "This information is read from the ensembl json file we have for the covid data"
   ]
  },
  {
   "cell_type": "code",
   "execution_count": 12,
   "metadata": {
    "ExecuteTime": {
     "end_time": "2020-11-10T16:10:41.721771Z",
     "start_time": "2020-11-10T16:09:48.131402Z"
    }
   },
   "outputs": [
    {
     "name": "stdout",
     "output_type": "stream",
     "text": [
      "           gene_id          prot_id\n",
      "0  ENSG00000224440  ENSP00000489806\n",
      "1  ENSG00000135541  ENSP00000433864\n",
      "2  ENSG00000135541  ENSP00000432167\n",
      "3  ENSG00000135541  ENSP00000435710\n",
      "4  ENSG00000135541  ENSP00000436071\n",
      "111886\n"
     ]
    }
   ],
   "source": [
    "ensembl_json = '/Users/dsuveges/repositories/ot_covid19/temp/raw_files/ensembl.json'\n",
    "\n",
    "gene_data = []\n",
    "with open(ensembl_json) as f:\n",
    "    for line in f:\n",
    "        # Skipping non-protein coding genes:\n",
    "        if 'ENSP' not in line:\n",
    "            continue\n",
    "            \n",
    "        data = json.loads(line)\n",
    "        gene_id = data['id']\n",
    "        \n",
    "        for transcript in data['transcripts']:\n",
    "            if 'translations' not in transcript:\n",
    "                continue\n",
    "            \n",
    "            for translation in transcript['translations']:\n",
    "                prot_id = translation['id']\n",
    "                gene_data.append({'gene_id': gene_id, 'prot_id': prot_id})\n",
    "            \n",
    "gene_df = pd.DataFrame(gene_data)\n",
    "print(gene_df.head())\n",
    "print(len(gene_df))"
   ]
  },
  {
   "cell_type": "code",
   "execution_count": 19,
   "metadata": {
    "ExecuteTime": {
     "end_time": "2020-11-10T16:32:20.900229Z",
     "start_time": "2020-11-10T16:31:51.108828Z"
    }
   },
   "outputs": [
    {
     "name": "stdout",
     "output_type": "stream",
     "text": [
      "11759454\n",
      "               protein1              protein2  neighborhood  fusion  \\\n",
      "0  9606.ENSP00000000233  9606.ENSP00000272298             0       0   \n",
      "1  9606.ENSP00000000233  9606.ENSP00000253401             0       0   \n",
      "2  9606.ENSP00000000233  9606.ENSP00000401445             0       0   \n",
      "3  9606.ENSP00000000233  9606.ENSP00000418915             0       0   \n",
      "4  9606.ENSP00000000233  9606.ENSP00000327801             0       0   \n",
      "\n",
      "   cooccurence  coexpression  experimental  database  textmining  \\\n",
      "0          332            62           181         0         125   \n",
      "1            0             0           186         0          56   \n",
      "2            0             0           159         0           0   \n",
      "3            0            61           158         0         542   \n",
      "4            0            88            78         0          89   \n",
      "\n",
      "   combined_score A_taxid         A_protid B_taxid         B_protid  \\\n",
      "0             490    9606  ENSP00000000233    9606  ENSP00000272298   \n",
      "1             198    9606  ENSP00000000233    9606  ENSP00000253401   \n",
      "2             159    9606  ENSP00000000233    9606  ENSP00000401445   \n",
      "3             606    9606  ENSP00000000233    9606  ENSP00000418915   \n",
      "4             167    9606  ENSP00000000233    9606  ENSP00000327801   \n",
      "\n",
      "         A_gene_id        prot_id_x        B_gene_id        prot_id_y  \n",
      "0  ENSG00000004059  ENSP00000000233  ENSG00000143933  ENSP00000272298  \n",
      "1  ENSG00000004059  ENSP00000000233  ENSG00000131089  ENSP00000253401  \n",
      "2  ENSG00000004059  ENSP00000000233  ENSG00000178607  ENSP00000401445  \n",
      "3  ENSG00000004059  ENSP00000000233  ENSG00000147889  ENSP00000418915  \n",
      "4  ENSG00000004059  ENSP00000000233  ENSG00000185624  ENSP00000327801  \n",
      "11759454\n"
     ]
    }
   ],
   "source": [
    "# Joining gene ids with protein ids:\n",
    "print(len(string_df))\n",
    "string_df = string_df.merge(gene_df.rename(columns={'gene_id': 'A_gene_id'}), left_on='A_protid', right_on='prot_id', how='left')\n",
    "string_df = string_df.merge(gene_df.rename(columns={'gene_id': 'B_gene_id'}), left_on='B_protid', right_on='prot_id', how='left')\n",
    "print(string_df.head())\n",
    "print(len(string_df))\n",
    "\n"
   ]
  },
  {
   "cell_type": "code",
   "execution_count": 25,
   "metadata": {
    "ExecuteTime": {
     "end_time": "2020-11-10T16:39:26.997036Z",
     "start_time": "2020-11-10T16:39:26.268666Z"
    }
   },
   "outputs": [
    {
     "data": {
      "text/plain": [
       "ENSG00000231824    1\n",
       "ENSG00000187186    1\n",
       "ENSG00000184785    1\n",
       "ENSG00000285749    1\n",
       "ENSG00000203870    1\n",
       "Name: A_gene_id, dtype: int64"
      ]
     },
     "execution_count": 25,
     "metadata": {},
     "output_type": "execute_result"
    }
   ],
   "source": [
    "string_df.A_gene_id.value_counts(sort=True, ascending=False).head()"
   ]
  },
  {
   "cell_type": "code",
   "execution_count": 26,
   "metadata": {
    "ExecuteTime": {
     "end_time": "2020-11-10T16:39:39.581972Z",
     "start_time": "2020-11-10T16:39:37.193485Z"
    }
   },
   "outputs": [
    {
     "data": {
      "text/plain": [
       "ENSG00000111640    7645\n",
       "ENSG00000142208    6508\n",
       "ENSG00000141510    6196\n",
       "ENSG00000254647    6054\n",
       "ENSG00000174775    5632\n",
       "Name: B_gene_id, dtype: int64"
      ]
     },
     "execution_count": 26,
     "metadata": {},
     "output_type": "execute_result"
    }
   ],
   "source": [
    "string_df.B_gene_id.value_counts(sort=True, ascending=False).head()"
   ]
  },
  {
   "cell_type": "code",
   "execution_count": 28,
   "metadata": {
    "ExecuteTime": {
     "end_time": "2020-11-10T16:42:37.639807Z",
     "start_time": "2020-11-10T16:42:36.858319Z"
    }
   },
   "outputs": [
    {
     "data": {
      "text/plain": [
       "ENSG00000111640    7645.0\n",
       "ENSG00000142208    6508.0\n",
       "ENSG00000141510    6196.0\n",
       "ENSG00000254647    6054.0\n",
       "ENSG00000174775    5632.0\n",
       "                    ...  \n",
       "ENSG00000143748    1001.0\n",
       "ENSG00000105552    1001.0\n",
       "ENSG00000127603    1001.0\n",
       "ENSG00000179344    1001.0\n",
       "ENSG00000101557    1001.0\n",
       "Name: A_gene_id, Length: 3303, dtype: float64"
      ]
     },
     "execution_count": 28,
     "metadata": {},
     "output_type": "execute_result"
    }
   ],
   "source": [
    "string_df.A_gene_id.value_counts().where(lambda x : x > 1000).dropna()"
   ]
  },
  {
   "cell_type": "markdown",
   "metadata": {},
   "source": [
    "### Applying score filter\n",
    "\n",
    "Depending a variable sized score filter what are the highest ranking genes, and how many of the targets have more than 1000 associations?\n",
    "\n",
    "Tested score values: 100, 200, 500, 800."
   ]
  },
  {
   "cell_type": "code",
   "execution_count": 36,
   "metadata": {
    "ExecuteTime": {
     "end_time": "2020-11-10T17:02:40.973229Z",
     "start_time": "2020-11-10T17:02:20.344267Z"
    }
   },
   "outputs": [
    {
     "name": "stdout",
     "output_type": "stream",
     "text": [
      "\n",
      "Score threshold: 100\n",
      "ENSG00000111640    7645\n",
      "ENSG00000142208    6508\n",
      "ENSG00000141510    6196\n",
      "ENSG00000254647    6054\n",
      "ENSG00000174775    5632\n",
      "Name: B_gene_id, dtype: int64\n",
      "Genes with more than 1000 associations:\n",
      "3303\n",
      "\n",
      "Score threshold: 200\n",
      "ENSG00000111640    5463\n",
      "ENSG00000142208    4831\n",
      "ENSG00000141510    4536\n",
      "ENSG00000254647    4293\n",
      "ENSG00000163631    3929\n",
      "Name: B_gene_id, dtype: int64\n",
      "Genes with more than 1000 associations:\n",
      "903\n",
      "\n",
      "Score threshold: 500\n",
      "ENSG00000143947    1480\n",
      "ENSG00000221983    1478\n",
      "ENSG00000141510    1428\n",
      "ENSG00000150991    1311\n",
      "ENSG00000170315    1271\n",
      "Name: B_gene_id, dtype: int64\n",
      "Genes with more than 1000 associations:\n",
      "8\n",
      "\n",
      "Score threshold: 800\n",
      "ENSG00000221983    1386\n",
      "ENSG00000143947    1371\n",
      "ENSG00000150991    1162\n",
      "ENSG00000170315    1159\n",
      "ENSG00000078369     953\n",
      "Name: B_gene_id, dtype: int64\n",
      "Genes with more than 1000 associations:\n",
      "4\n"
     ]
    }
   ],
   "source": [
    "# Applying different score thresholds:\n",
    "for score in [100, 200, 500, 800]:\n",
    "    print(f'\\nScore threshold: {score}')\n",
    "    print(\n",
    "        string_df\n",
    "        .loc[string_df.combined_score >= score]\n",
    "        .B_gene_id\n",
    "        .value_counts(sort=True, ascending=False)\n",
    "        .head()\n",
    "    )\n",
    "    print('Genes with more than 1000 associations:')\n",
    "    print(len(\n",
    "        string_df\n",
    "        .loc[string_df.combined_score >= score]\n",
    "        .A_gene_id\n",
    "        .value_counts()\n",
    "        .where(lambda x : x > 1000)\n",
    "        .dropna()\n",
    "    ))"
   ]
  },
  {
   "cell_type": "code",
   "execution_count": 59,
   "metadata": {
    "ExecuteTime": {
     "end_time": "2020-11-10T22:52:49.616647Z",
     "start_time": "2020-11-10T22:52:49.226319Z"
    }
   },
   "outputs": [
    {
     "data": {
      "text/plain": [
       "<matplotlib.axes._subplots.AxesSubplot at 0x7f93dabfb668>"
      ]
     },
     "execution_count": 59,
     "metadata": {},
     "output_type": "execute_result"
    },
    {
     "data": {
      "image/png": "[encoded data removed]",
      "text/plain": [
       "<Figure size 432x288 with 1 Axes>"
      ]
     },
     "metadata": {
      "needs_background": "light"
     },
     "output_type": "display_data"
    }
   ],
   "source": [
    "string_df.combined_score.hist(bins=50)"
   ]
  },
  {
   "cell_type": "code",
   "execution_count": 60,
   "metadata": {
    "ExecuteTime": {
     "end_time": "2020-11-10T22:53:36.439869Z",
     "start_time": "2020-11-10T22:53:27.349238Z"
    }
   },
   "outputs": [
    {
     "data": {
      "text/html": [
       "<div>\n",
       "<style scoped>\n",
       "    .dataframe tbody tr th:only-of-type {\n",
       "        vertical-align: middle;\n",
       "    }\n",
       "\n",
       "    .dataframe tbody tr th {\n",
       "        vertical-align: top;\n",
       "    }\n",
       "\n",
       "    .dataframe thead th {\n",
       "        text-align: right;\n",
       "    }\n",
       "</style>\n",
       "<table border=\"1\" class=\"dataframe\">\n",
       "  <thead>\n",
       "    <tr style=\"text-align: right;\">\n",
       "      <th></th>\n",
       "      <th>protein1</th>\n",
       "      <th>protein2</th>\n",
       "      <th>neighborhood</th>\n",
       "      <th>fusion</th>\n",
       "      <th>cooccurence</th>\n",
       "      <th>coexpression</th>\n",
       "      <th>experimental</th>\n",
       "      <th>database</th>\n",
       "      <th>textmining</th>\n",
       "      <th>combined_score</th>\n",
       "      <th>A_taxid</th>\n",
       "      <th>A_protid</th>\n",
       "      <th>B_taxid</th>\n",
       "      <th>B_protid</th>\n",
       "      <th>A_gene_id</th>\n",
       "      <th>prot_id_x</th>\n",
       "      <th>B_gene_id</th>\n",
       "      <th>prot_id_y</th>\n",
       "    </tr>\n",
       "  </thead>\n",
       "  <tbody>\n",
       "    <tr>\n",
       "      <th>15</th>\n",
       "      <td>9606.ENSP00000000233</td>\n",
       "      <td>9606.ENSP00000432568</td>\n",
       "      <td>0</td>\n",
       "      <td>0</td>\n",
       "      <td>0</td>\n",
       "      <td>62</td>\n",
       "      <td>63</td>\n",
       "      <td>900</td>\n",
       "      <td>94</td>\n",
       "      <td>909</td>\n",
       "      <td>9606</td>\n",
       "      <td>ENSP00000000233</td>\n",
       "      <td>9606</td>\n",
       "      <td>ENSP00000432568</td>\n",
       "      <td>ENSG00000004059</td>\n",
       "      <td>ENSP00000000233</td>\n",
       "      <td>ENSG00000173898</td>\n",
       "      <td>ENSP00000432568</td>\n",
       "    </tr>\n",
       "    <tr>\n",
       "      <th>16</th>\n",
       "      <td>9606.ENSP00000000233</td>\n",
       "      <td>9606.ENSP00000427900</td>\n",
       "      <td>0</td>\n",
       "      <td>0</td>\n",
       "      <td>0</td>\n",
       "      <td>0</td>\n",
       "      <td>131</td>\n",
       "      <td>900</td>\n",
       "      <td>56</td>\n",
       "      <td>910</td>\n",
       "      <td>9606</td>\n",
       "      <td>ENSP00000000233</td>\n",
       "      <td>9606</td>\n",
       "      <td>ENSP00000427900</td>\n",
       "      <td>ENSG00000004059</td>\n",
       "      <td>ENSP00000000233</td>\n",
       "      <td>ENSG00000197892</td>\n",
       "      <td>ENSP00000427900</td>\n",
       "    </tr>\n",
       "    <tr>\n",
       "      <th>40</th>\n",
       "      <td>9606.ENSP00000000233</td>\n",
       "      <td>9606.ENSP00000354878</td>\n",
       "      <td>0</td>\n",
       "      <td>0</td>\n",
       "      <td>0</td>\n",
       "      <td>0</td>\n",
       "      <td>131</td>\n",
       "      <td>900</td>\n",
       "      <td>56</td>\n",
       "      <td>910</td>\n",
       "      <td>9606</td>\n",
       "      <td>ENSP00000000233</td>\n",
       "      <td>9606</td>\n",
       "      <td>ENSP00000354878</td>\n",
       "      <td>ENSG00000004059</td>\n",
       "      <td>ENSP00000000233</td>\n",
       "      <td>ENSG00000139116</td>\n",
       "      <td>ENSP00000354878</td>\n",
       "    </tr>\n",
       "    <tr>\n",
       "      <th>52</th>\n",
       "      <td>9606.ENSP00000000233</td>\n",
       "      <td>9606.ENSP00000405926</td>\n",
       "      <td>0</td>\n",
       "      <td>0</td>\n",
       "      <td>0</td>\n",
       "      <td>63</td>\n",
       "      <td>0</td>\n",
       "      <td>900</td>\n",
       "      <td>80</td>\n",
       "      <td>906</td>\n",
       "      <td>9606</td>\n",
       "      <td>ENSP00000000233</td>\n",
       "      <td>9606</td>\n",
       "      <td>ENSP00000405926</td>\n",
       "      <td>ENSG00000004059</td>\n",
       "      <td>ENSP00000000233</td>\n",
       "      <td>ENSG00000134970</td>\n",
       "      <td>ENSP00000405926</td>\n",
       "    </tr>\n",
       "    <tr>\n",
       "      <th>78</th>\n",
       "      <td>9606.ENSP00000000233</td>\n",
       "      <td>9606.ENSP00000314615</td>\n",
       "      <td>0</td>\n",
       "      <td>0</td>\n",
       "      <td>0</td>\n",
       "      <td>82</td>\n",
       "      <td>262</td>\n",
       "      <td>900</td>\n",
       "      <td>624</td>\n",
       "      <td>971</td>\n",
       "      <td>9606</td>\n",
       "      <td>ENSP00000000233</td>\n",
       "      <td>9606</td>\n",
       "      <td>ENSP00000314615</td>\n",
       "      <td>ENSG00000004059</td>\n",
       "      <td>ENSP00000000233</td>\n",
       "      <td>ENSG00000101199</td>\n",
       "      <td>ENSP00000314615</td>\n",
       "    </tr>\n",
       "  </tbody>\n",
       "</table>\n",
       "</div>"
      ],
      "text/plain": [
       "                protein1              protein2  neighborhood  fusion  \\\n",
       "15  9606.ENSP00000000233  9606.ENSP00000432568             0       0   \n",
       "16  9606.ENSP00000000233  9606.ENSP00000427900             0       0   \n",
       "40  9606.ENSP00000000233  9606.ENSP00000354878             0       0   \n",
       "52  9606.ENSP00000000233  9606.ENSP00000405926             0       0   \n",
       "78  9606.ENSP00000000233  9606.ENSP00000314615             0       0   \n",
       "\n",
       "    cooccurence  coexpression  experimental  database  textmining  \\\n",
       "15            0            62            63       900          94   \n",
       "16            0             0           131       900          56   \n",
       "40            0             0           131       900          56   \n",
       "52            0            63             0       900          80   \n",
       "78            0            82           262       900         624   \n",
       "\n",
       "    combined_score A_taxid         A_protid B_taxid         B_protid  \\\n",
       "15             909    9606  ENSP00000000233    9606  ENSP00000432568   \n",
       "16             910    9606  ENSP00000000233    9606  ENSP00000427900   \n",
       "40             910    9606  ENSP00000000233    9606  ENSP00000354878   \n",
       "52             906    9606  ENSP00000000233    9606  ENSP00000405926   \n",
       "78             971    9606  ENSP00000000233    9606  ENSP00000314615   \n",
       "\n",
       "          A_gene_id        prot_id_x        B_gene_id        prot_id_y  \n",
       "15  ENSG00000004059  ENSP00000000233  ENSG00000173898  ENSP00000432568  \n",
       "16  ENSG00000004059  ENSP00000000233  ENSG00000197892  ENSP00000427900  \n",
       "40  ENSG00000004059  ENSP00000000233  ENSG00000139116  ENSP00000354878  \n",
       "52  ENSG00000004059  ENSP00000000233  ENSG00000134970  ENSP00000405926  \n",
       "78  ENSG00000004059  ENSP00000000233  ENSG00000101199  ENSP00000314615  "
      ]
     },
     "execution_count": 60,
     "metadata": {},
     "output_type": "execute_result"
    }
   ],
   "source": [
    "string_df.loc[string_df.combined_score >= 900].head()"
   ]
  },
  {
   "cell_type": "code",
   "execution_count": 62,
   "metadata": {
    "ExecuteTime": {
     "end_time": "2020-11-10T22:53:57.003561Z",
     "start_time": "2020-11-10T22:53:56.911093Z"
    }
   },
   "outputs": [
    {
     "data": {
      "text/plain": [
       "0      11053014\n",
       "900      604362\n",
       "600       30592\n",
       "540       17986\n",
       "650       17972\n",
       "800       16150\n",
       "720        9772\n",
       "360        9606\n",
       "Name: database, dtype: int64"
      ]
     },
     "execution_count": 62,
     "metadata": {},
     "output_type": "execute_result"
    }
   ],
   "source": [
    "string_df.database.value_counts()"
   ]
  },
  {
   "cell_type": "code",
   "execution_count": 81,
   "metadata": {
    "ExecuteTime": {
     "end_time": "2020-11-11T13:31:45.267394Z",
     "start_time": "2020-11-11T13:31:04.619796Z"
    }
   },
   "outputs": [
    {
     "ename": "TypeError",
     "evalue": "data type 'np.nan' not understood",
     "output_type": "error",
     "traceback": [
      "\u001b[0;31m---------------------------------------------------------------------------\u001b[0m",
      "\u001b[0;31mTypeError\u001b[0m                                 Traceback (most recent call last)",
      "\u001b[0;32m<ipython-input-81-3730c7757ceb>\u001b[0m in \u001b[0;36m<module>\u001b[0;34m\u001b[0m\n\u001b[0;32m----> 1\u001b[0;31m \u001b[0mstring_df\u001b[0m\u001b[0;34m.\u001b[0m\u001b[0mreplace\u001b[0m\u001b[0;34m(\u001b[0m\u001b[0;36m0\u001b[0m\u001b[0;34m,\u001b[0m \u001b[0mnp\u001b[0m\u001b[0;34m.\u001b[0m\u001b[0mnan\u001b[0m\u001b[0;34m)\u001b[0m\u001b[0;34m[\u001b[0m\u001b[0;34m[\u001b[0m\u001b[0;34m'neighborhood'\u001b[0m\u001b[0;34m,\u001b[0m\u001b[0;34m'fusion'\u001b[0m\u001b[0;34m,\u001b[0m\u001b[0;34m'cooccurence'\u001b[0m\u001b[0;34m,\u001b[0m\u001b[0;34m'coexpression'\u001b[0m\u001b[0;34m,\u001b[0m\u001b[0;34m'experimental'\u001b[0m\u001b[0;34m]\u001b[0m\u001b[0;34m]\u001b[0m\u001b[0;34m.\u001b[0m\u001b[0mdescribe\u001b[0m\u001b[0;34m(\u001b[0m\u001b[0mexclude\u001b[0m\u001b[0;34m=\u001b[0m\u001b[0;34m[\u001b[0m\u001b[0;34m'np.nan'\u001b[0m\u001b[0;34m]\u001b[0m\u001b[0;34m)\u001b[0m\u001b[0;34m\u001b[0m\u001b[0;34m\u001b[0m\u001b[0m\n\u001b[0m",
      "\u001b[0;32m~/opt/anaconda3/envs/jupyter/lib/python3.6/site-packages/pandas/core/generic.py\u001b[0m in \u001b[0;36mdescribe\u001b[0;34m(self, percentiles, include, exclude, datetime_is_numeric)\u001b[0m\n\u001b[1;32m  10082\u001b[0m             \u001b[0mdata\u001b[0m \u001b[0;34m=\u001b[0m \u001b[0mself\u001b[0m\u001b[0;34m\u001b[0m\u001b[0;34m\u001b[0m\u001b[0m\n\u001b[1;32m  10083\u001b[0m         \u001b[0;32melse\u001b[0m\u001b[0;34m:\u001b[0m\u001b[0;34m\u001b[0m\u001b[0;34m\u001b[0m\u001b[0m\n\u001b[0;32m> 10084\u001b[0;31m             \u001b[0mdata\u001b[0m \u001b[0;34m=\u001b[0m \u001b[0mself\u001b[0m\u001b[0;34m.\u001b[0m\u001b[0mselect_dtypes\u001b[0m\u001b[0;34m(\u001b[0m\u001b[0minclude\u001b[0m\u001b[0;34m=\u001b[0m\u001b[0minclude\u001b[0m\u001b[0;34m,\u001b[0m \u001b[0mexclude\u001b[0m\u001b[0;34m=\u001b[0m\u001b[0mexclude\u001b[0m\u001b[0;34m)\u001b[0m\u001b[0;34m\u001b[0m\u001b[0;34m\u001b[0m\u001b[0m\n\u001b[0m\u001b[1;32m  10085\u001b[0m \u001b[0;34m\u001b[0m\u001b[0m\n\u001b[1;32m  10086\u001b[0m         \u001b[0mldesc\u001b[0m \u001b[0;34m=\u001b[0m \u001b[0;34m[\u001b[0m\u001b[0mdescribe_1d\u001b[0m\u001b[0;34m(\u001b[0m\u001b[0ms\u001b[0m\u001b[0;34m)\u001b[0m \u001b[0;32mfor\u001b[0m \u001b[0m_\u001b[0m\u001b[0;34m,\u001b[0m \u001b[0ms\u001b[0m \u001b[0;32min\u001b[0m \u001b[0mdata\u001b[0m\u001b[0;34m.\u001b[0m\u001b[0mitems\u001b[0m\u001b[0;34m(\u001b[0m\u001b[0;34m)\u001b[0m\u001b[0;34m]\u001b[0m\u001b[0;34m\u001b[0m\u001b[0;34m\u001b[0m\u001b[0m\n",
      "\u001b[0;32m~/opt/anaconda3/envs/jupyter/lib/python3.6/site-packages/pandas/core/frame.py\u001b[0m in \u001b[0;36mselect_dtypes\u001b[0;34m(self, include, exclude)\u001b[0m\n\u001b[1;32m   3560\u001b[0m         \u001b[0;31m# convert the myriad valid dtypes object to a single representation\u001b[0m\u001b[0;34m\u001b[0m\u001b[0;34m\u001b[0m\u001b[0;34m\u001b[0m\u001b[0m\n\u001b[1;32m   3561\u001b[0m         \u001b[0minclude\u001b[0m \u001b[0;34m=\u001b[0m \u001b[0mfrozenset\u001b[0m\u001b[0;34m(\u001b[0m\u001b[0minfer_dtype_from_object\u001b[0m\u001b[0;34m(\u001b[0m\u001b[0mx\u001b[0m\u001b[0;34m)\u001b[0m \u001b[0;32mfor\u001b[0m \u001b[0mx\u001b[0m \u001b[0;32min\u001b[0m \u001b[0minclude\u001b[0m\u001b[0;34m)\u001b[0m\u001b[0;34m\u001b[0m\u001b[0;34m\u001b[0m\u001b[0m\n\u001b[0;32m-> 3562\u001b[0;31m         \u001b[0mexclude\u001b[0m \u001b[0;34m=\u001b[0m \u001b[0mfrozenset\u001b[0m\u001b[0;34m(\u001b[0m\u001b[0minfer_dtype_from_object\u001b[0m\u001b[0;34m(\u001b[0m\u001b[0mx\u001b[0m\u001b[0;34m)\u001b[0m \u001b[0;32mfor\u001b[0m \u001b[0mx\u001b[0m \u001b[0;32min\u001b[0m \u001b[0mexclude\u001b[0m\u001b[0;34m)\u001b[0m\u001b[0;34m\u001b[0m\u001b[0;34m\u001b[0m\u001b[0m\n\u001b[0m\u001b[1;32m   3563\u001b[0m         \u001b[0;32mfor\u001b[0m \u001b[0mdtypes\u001b[0m \u001b[0;32min\u001b[0m \u001b[0;34m(\u001b[0m\u001b[0minclude\u001b[0m\u001b[0;34m,\u001b[0m \u001b[0mexclude\u001b[0m\u001b[0;34m)\u001b[0m\u001b[0;34m:\u001b[0m\u001b[0;34m\u001b[0m\u001b[0;34m\u001b[0m\u001b[0m\n\u001b[1;32m   3564\u001b[0m             \u001b[0minvalidate_string_dtypes\u001b[0m\u001b[0;34m(\u001b[0m\u001b[0mdtypes\u001b[0m\u001b[0;34m)\u001b[0m\u001b[0;34m\u001b[0m\u001b[0;34m\u001b[0m\u001b[0m\n",
      "\u001b[0;32m~/opt/anaconda3/envs/jupyter/lib/python3.6/site-packages/pandas/core/frame.py\u001b[0m in \u001b[0;36m<genexpr>\u001b[0;34m(.0)\u001b[0m\n\u001b[1;32m   3560\u001b[0m         \u001b[0;31m# convert the myriad valid dtypes object to a single representation\u001b[0m\u001b[0;34m\u001b[0m\u001b[0;34m\u001b[0m\u001b[0;34m\u001b[0m\u001b[0m\n\u001b[1;32m   3561\u001b[0m         \u001b[0minclude\u001b[0m \u001b[0;34m=\u001b[0m \u001b[0mfrozenset\u001b[0m\u001b[0;34m(\u001b[0m\u001b[0minfer_dtype_from_object\u001b[0m\u001b[0;34m(\u001b[0m\u001b[0mx\u001b[0m\u001b[0;34m)\u001b[0m \u001b[0;32mfor\u001b[0m \u001b[0mx\u001b[0m \u001b[0;32min\u001b[0m \u001b[0minclude\u001b[0m\u001b[0;34m)\u001b[0m\u001b[0;34m\u001b[0m\u001b[0;34m\u001b[0m\u001b[0m\n\u001b[0;32m-> 3562\u001b[0;31m         \u001b[0mexclude\u001b[0m \u001b[0;34m=\u001b[0m \u001b[0mfrozenset\u001b[0m\u001b[0;34m(\u001b[0m\u001b[0minfer_dtype_from_object\u001b[0m\u001b[0;34m(\u001b[0m\u001b[0mx\u001b[0m\u001b[0;34m)\u001b[0m \u001b[0;32mfor\u001b[0m \u001b[0mx\u001b[0m \u001b[0;32min\u001b[0m \u001b[0mexclude\u001b[0m\u001b[0;34m)\u001b[0m\u001b[0;34m\u001b[0m\u001b[0;34m\u001b[0m\u001b[0m\n\u001b[0m\u001b[1;32m   3563\u001b[0m         \u001b[0;32mfor\u001b[0m \u001b[0mdtypes\u001b[0m \u001b[0;32min\u001b[0m \u001b[0;34m(\u001b[0m\u001b[0minclude\u001b[0m\u001b[0;34m,\u001b[0m \u001b[0mexclude\u001b[0m\u001b[0;34m)\u001b[0m\u001b[0;34m:\u001b[0m\u001b[0;34m\u001b[0m\u001b[0;34m\u001b[0m\u001b[0m\n\u001b[1;32m   3564\u001b[0m             \u001b[0minvalidate_string_dtypes\u001b[0m\u001b[0;34m(\u001b[0m\u001b[0mdtypes\u001b[0m\u001b[0;34m)\u001b[0m\u001b[0;34m\u001b[0m\u001b[0;34m\u001b[0m\u001b[0m\n",
      "\u001b[0;32m~/opt/anaconda3/envs/jupyter/lib/python3.6/site-packages/pandas/core/dtypes/common.py\u001b[0m in \u001b[0;36minfer_dtype_from_object\u001b[0;34m(dtype)\u001b[0m\n\u001b[1;32m   1702\u001b[0m             \u001b[0;32mpass\u001b[0m\u001b[0;34m\u001b[0m\u001b[0;34m\u001b[0m\u001b[0m\n\u001b[1;32m   1703\u001b[0m \u001b[0;34m\u001b[0m\u001b[0m\n\u001b[0;32m-> 1704\u001b[0;31m     \u001b[0;32mreturn\u001b[0m \u001b[0minfer_dtype_from_object\u001b[0m\u001b[0;34m(\u001b[0m\u001b[0mnp\u001b[0m\u001b[0;34m.\u001b[0m\u001b[0mdtype\u001b[0m\u001b[0;34m(\u001b[0m\u001b[0mdtype\u001b[0m\u001b[0;34m)\u001b[0m\u001b[0;34m)\u001b[0m\u001b[0;34m\u001b[0m\u001b[0;34m\u001b[0m\u001b[0m\n\u001b[0m\u001b[1;32m   1705\u001b[0m \u001b[0;34m\u001b[0m\u001b[0m\n\u001b[1;32m   1706\u001b[0m \u001b[0;34m\u001b[0m\u001b[0m\n",
      "\u001b[0;31mTypeError\u001b[0m: data type 'np.nan' not understood"
     ]
    }
   ],
   "source": [
    "string_df.replace(0, np.nan)[['neighborhood','fusion','cooccurence','coexpression','experimental']].describe(exclude=['np.nan'])\n"
   ]
  },
  {
   "cell_type": "code",
   "execution_count": 77,
   "metadata": {
    "ExecuteTime": {
     "end_time": "2020-11-10T23:02:22.035220Z",
     "start_time": "2020-11-10T23:02:22.009074Z"
    }
   },
   "outputs": [
    {
     "data": {
      "text/html": [
       "<div>\n",
       "<style scoped>\n",
       "    .dataframe tbody tr th:only-of-type {\n",
       "        vertical-align: middle;\n",
       "    }\n",
       "\n",
       "    .dataframe tbody tr th {\n",
       "        vertical-align: top;\n",
       "    }\n",
       "\n",
       "    .dataframe thead th {\n",
       "        text-align: right;\n",
       "    }\n",
       "</style>\n",
       "<table border=\"1\" class=\"dataframe\">\n",
       "  <thead>\n",
       "    <tr style=\"text-align: right;\">\n",
       "      <th></th>\n",
       "      <th>protein1</th>\n",
       "      <th>protein2</th>\n",
       "      <th>neighborhood</th>\n",
       "      <th>fusion</th>\n",
       "      <th>cooccurence</th>\n",
       "      <th>coexpression</th>\n",
       "      <th>experimental</th>\n",
       "      <th>database</th>\n",
       "      <th>textmining</th>\n",
       "      <th>combined_score</th>\n",
       "      <th>A_taxid</th>\n",
       "      <th>A_protid</th>\n",
       "      <th>B_taxid</th>\n",
       "      <th>B_protid</th>\n",
       "      <th>A_gene_id</th>\n",
       "      <th>prot_id_x</th>\n",
       "      <th>B_gene_id</th>\n",
       "      <th>prot_id_y</th>\n",
       "    </tr>\n",
       "  </thead>\n",
       "  <tbody>\n",
       "    <tr>\n",
       "      <th>0</th>\n",
       "      <td>9606.ENSP00000000233</td>\n",
       "      <td>9606.ENSP00000272298</td>\n",
       "      <td>NaN</td>\n",
       "      <td>NaN</td>\n",
       "      <td>332.0</td>\n",
       "      <td>62.0</td>\n",
       "      <td>181</td>\n",
       "      <td>NaN</td>\n",
       "      <td>125.0</td>\n",
       "      <td>490</td>\n",
       "      <td>9606</td>\n",
       "      <td>ENSP00000000233</td>\n",
       "      <td>9606</td>\n",
       "      <td>ENSP00000272298</td>\n",
       "      <td>ENSG00000004059</td>\n",
       "      <td>ENSP00000000233</td>\n",
       "      <td>ENSG00000143933</td>\n",
       "      <td>ENSP00000272298</td>\n",
       "    </tr>\n",
       "    <tr>\n",
       "      <th>1</th>\n",
       "      <td>9606.ENSP00000000233</td>\n",
       "      <td>9606.ENSP00000253401</td>\n",
       "      <td>NaN</td>\n",
       "      <td>NaN</td>\n",
       "      <td>NaN</td>\n",
       "      <td>NaN</td>\n",
       "      <td>186</td>\n",
       "      <td>NaN</td>\n",
       "      <td>56.0</td>\n",
       "      <td>198</td>\n",
       "      <td>9606</td>\n",
       "      <td>ENSP00000000233</td>\n",
       "      <td>9606</td>\n",
       "      <td>ENSP00000253401</td>\n",
       "      <td>ENSG00000004059</td>\n",
       "      <td>ENSP00000000233</td>\n",
       "      <td>ENSG00000131089</td>\n",
       "      <td>ENSP00000253401</td>\n",
       "    </tr>\n",
       "    <tr>\n",
       "      <th>2</th>\n",
       "      <td>9606.ENSP00000000233</td>\n",
       "      <td>9606.ENSP00000401445</td>\n",
       "      <td>NaN</td>\n",
       "      <td>NaN</td>\n",
       "      <td>NaN</td>\n",
       "      <td>NaN</td>\n",
       "      <td>159</td>\n",
       "      <td>NaN</td>\n",
       "      <td>NaN</td>\n",
       "      <td>159</td>\n",
       "      <td>9606</td>\n",
       "      <td>ENSP00000000233</td>\n",
       "      <td>9606</td>\n",
       "      <td>ENSP00000401445</td>\n",
       "      <td>ENSG00000004059</td>\n",
       "      <td>ENSP00000000233</td>\n",
       "      <td>ENSG00000178607</td>\n",
       "      <td>ENSP00000401445</td>\n",
       "    </tr>\n",
       "    <tr>\n",
       "      <th>3</th>\n",
       "      <td>9606.ENSP00000000233</td>\n",
       "      <td>9606.ENSP00000418915</td>\n",
       "      <td>NaN</td>\n",
       "      <td>NaN</td>\n",
       "      <td>NaN</td>\n",
       "      <td>61.0</td>\n",
       "      <td>158</td>\n",
       "      <td>NaN</td>\n",
       "      <td>542.0</td>\n",
       "      <td>606</td>\n",
       "      <td>9606</td>\n",
       "      <td>ENSP00000000233</td>\n",
       "      <td>9606</td>\n",
       "      <td>ENSP00000418915</td>\n",
       "      <td>ENSG00000004059</td>\n",
       "      <td>ENSP00000000233</td>\n",
       "      <td>ENSG00000147889</td>\n",
       "      <td>ENSP00000418915</td>\n",
       "    </tr>\n",
       "    <tr>\n",
       "      <th>4</th>\n",
       "      <td>9606.ENSP00000000233</td>\n",
       "      <td>9606.ENSP00000327801</td>\n",
       "      <td>NaN</td>\n",
       "      <td>NaN</td>\n",
       "      <td>NaN</td>\n",
       "      <td>88.0</td>\n",
       "      <td>78</td>\n",
       "      <td>NaN</td>\n",
       "      <td>89.0</td>\n",
       "      <td>167</td>\n",
       "      <td>9606</td>\n",
       "      <td>ENSP00000000233</td>\n",
       "      <td>9606</td>\n",
       "      <td>ENSP00000327801</td>\n",
       "      <td>ENSG00000004059</td>\n",
       "      <td>ENSP00000000233</td>\n",
       "      <td>ENSG00000185624</td>\n",
       "      <td>ENSP00000327801</td>\n",
       "    </tr>\n",
       "  </tbody>\n",
       "</table>\n",
       "</div>"
      ],
      "text/plain": [
       "               protein1              protein2  neighborhood  fusion  \\\n",
       "0  9606.ENSP00000000233  9606.ENSP00000272298           NaN     NaN   \n",
       "1  9606.ENSP00000000233  9606.ENSP00000253401           NaN     NaN   \n",
       "2  9606.ENSP00000000233  9606.ENSP00000401445           NaN     NaN   \n",
       "3  9606.ENSP00000000233  9606.ENSP00000418915           NaN     NaN   \n",
       "4  9606.ENSP00000000233  9606.ENSP00000327801           NaN     NaN   \n",
       "\n",
       "   cooccurence  coexpression  experimental  database  textmining  \\\n",
       "0        332.0          62.0           181       NaN       125.0   \n",
       "1          NaN           NaN           186       NaN        56.0   \n",
       "2          NaN           NaN           159       NaN         NaN   \n",
       "3          NaN          61.0           158       NaN       542.0   \n",
       "4          NaN          88.0            78       NaN        89.0   \n",
       "\n",
       "   combined_score A_taxid         A_protid B_taxid         B_protid  \\\n",
       "0             490    9606  ENSP00000000233    9606  ENSP00000272298   \n",
       "1             198    9606  ENSP00000000233    9606  ENSP00000253401   \n",
       "2             159    9606  ENSP00000000233    9606  ENSP00000401445   \n",
       "3             606    9606  ENSP00000000233    9606  ENSP00000418915   \n",
       "4             167    9606  ENSP00000000233    9606  ENSP00000327801   \n",
       "\n",
       "         A_gene_id        prot_id_x        B_gene_id        prot_id_y  \n",
       "0  ENSG00000004059  ENSP00000000233  ENSG00000143933  ENSP00000272298  \n",
       "1  ENSG00000004059  ENSP00000000233  ENSG00000131089  ENSP00000253401  \n",
       "2  ENSG00000004059  ENSP00000000233  ENSG00000178607  ENSP00000401445  \n",
       "3  ENSG00000004059  ENSP00000000233  ENSG00000147889  ENSP00000418915  \n",
       "4  ENSG00000004059  ENSP00000000233  ENSG00000185624  ENSP00000327801  "
      ]
     },
     "execution_count": 77,
     "metadata": {},
     "output_type": "execute_result"
    }
   ],
   "source": [
    "string_df.head().replace(0, np.nan)"
   ]
  },
  {
   "cell_type": "code",
   "execution_count": 118,
   "metadata": {
    "ExecuteTime": {
     "end_time": "2020-11-11T19:30:10.560593Z",
     "start_time": "2020-11-11T19:30:10.549628Z"
    }
   },
   "outputs": [
    {
     "data": {
      "text/plain": [
       "[[0, 1, 4], [2, 3, 7], [5, 6, 9, 12, 13], [8, 11, 14], [10]]"
      ]
     },
     "execution_count": 118,
     "metadata": {},
     "output_type": "execute_result"
    }
   ],
   "source": [
    "import numpy as np\n",
    "A = [0, 1, 4, 2, 3, 7, 5, 6, 9, 12, 13, 8, 11, 14, 10]\n",
    "B = [3, 3, 5, 3, 1]\n",
    "\n",
    "position = 0 \n",
    "sliced = []\n",
    "for step in B:\n",
    "    sliced.append(A[position:step+position])\n",
    "    position += step\n",
    "    \n",
    "sliced"
   ]
  },
  {
   "cell_type": "code",
   "execution_count": 94,
   "metadata": {
    "ExecuteTime": {
     "end_time": "2020-11-11T19:11:57.786868Z",
     "start_time": "2020-11-11T19:11:57.779717Z"
    }
   },
   "outputs": [],
   "source": [
    "slicer = lambda x,y: A[x:y]"
   ]
  },
  {
   "cell_type": "code",
   "execution_count": 113,
   "metadata": {
    "ExecuteTime": {
     "end_time": "2020-11-11T19:28:51.274556Z",
     "start_time": "2020-11-11T19:28:51.269610Z"
    }
   },
   "outputs": [
    {
     "data": {
      "text/plain": [
       "array([4])"
      ]
     },
     "execution_count": 113,
     "metadata": {},
     "output_type": "execute_result"
    }
   ],
   "source": [
    "A[2:3]"
   ]
  },
  {
   "cell_type": "code",
   "execution_count": 114,
   "metadata": {
    "ExecuteTime": {
     "end_time": "2020-11-11T19:28:54.142048Z",
     "start_time": "2020-11-11T19:28:54.138868Z"
    }
   },
   "outputs": [
    {
     "data": {
      "text/plain": [
       "array([ 0,  1,  4,  2,  3,  7,  5,  6,  9, 12, 13,  8, 11, 14, 10])"
      ]
     },
     "execution_count": 114,
     "metadata": {},
     "output_type": "execute_result"
    }
   ],
   "source": [
    "A"
   ]
  },
  {
   "cell_type": "code",
   "execution_count": null,
   "metadata": {},
   "outputs": [],
   "source": []
  }
 ],
 "metadata": {
  "kernelspec": {
   "display_name": "Python 3",
   "language": "python",
   "name": "python3"
  },
  "language_info": {
   "codemirror_mode": {
    "name": "ipython",
    "version": 3
   },
   "file_extension": ".py",
   "mimetype": "text/x-python",
   "name": "python",
   "nbconvert_exporter": "python",
   "pygments_lexer": "ipython3",
   "version": "3.6.10"
  }
 },
 "nbformat": 4,
 "nbformat_minor": 4
}
