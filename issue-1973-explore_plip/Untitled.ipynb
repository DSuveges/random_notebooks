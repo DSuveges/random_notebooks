{
 "cells": [
  {
   "cell_type": "code",
   "execution_count": 42,
   "id": "42c49a83",
   "metadata": {
    "ExecuteTime": {
     "end_time": "2022-04-12T15:30:45.779695Z",
     "start_time": "2022-04-12T15:30:45.773686Z"
    }
   },
   "outputs": [],
   "source": [
    "\n",
    "import json\n",
    "from json import JSONDecodeError\n",
    "\n",
    "import requests\n",
    "from functools import reduce\n",
    "import pandas as pd\n",
    "import pyspark.sql.functions as F\n",
    "\n",
    "from pyspark.sql.types import (\n",
    "    FloatType, ArrayType, StructType, StructField, BooleanType, StringType, IntegerType\n",
    ")\n",
    "from pyspark.sql import SparkSession\n",
    "from pyspark.conf import SparkConf\n",
    "from collections import defaultdict\n",
    "from pyspark.context import SparkContext\n",
    "\n",
    "# establish spark connection\n",
    "spark = (\n",
    "    SparkSession.builder\n",
    "    .master('local[*]')\n",
    "    .getOrCreate()\n",
    ")"
   ]
  },
  {
   "cell_type": "code",
   "execution_count": 2,
   "id": "f78c1665",
   "metadata": {
    "ExecuteTime": {
     "end_time": "2022-04-07T09:44:02.272248Z",
     "start_time": "2022-04-07T09:44:02.268993Z"
    }
   },
   "outputs": [],
   "source": [
    "import requests \n",
    "\n",
    "url = 'https://www.ebi.ac.uk/pdbe/graph-api/mappings/ensembl/1dqa'\n"
   ]
  },
  {
   "cell_type": "code",
   "execution_count": 4,
   "id": "71f6f41d",
   "metadata": {
    "ExecuteTime": {
     "end_time": "2022-04-07T09:45:30.761967Z",
     "start_time": "2022-04-07T09:45:27.978459Z"
    }
   },
   "outputs": [],
   "source": [
    "data = requests.get(url).json()\n"
   ]
  },
  {
   "cell_type": "code",
   "execution_count": 7,
   "id": "31957893",
   "metadata": {
    "ExecuteTime": {
     "end_time": "2022-04-07T09:46:28.123961Z",
     "start_time": "2022-04-07T09:46:27.407593Z"
    }
   },
   "outputs": [
    {
     "name": "stdout",
     "output_type": "stream",
     "text": [
      "root\n",
      " |-- accession: string (nullable = true)\n",
      " |-- chain_id: string (nullable = true)\n",
      " |-- coverage: double (nullable = true)\n",
      " |-- end: map (nullable = true)\n",
      " |    |-- key: string\n",
      " |    |-- value: long (valueContainsNull = true)\n",
      " |-- entity_id: long (nullable = true)\n",
      " |-- exon_id: string (nullable = true)\n",
      " |-- genome_end: long (nullable = true)\n",
      " |-- genome_start: long (nullable = true)\n",
      " |-- ordinal: long (nullable = true)\n",
      " |-- start: map (nullable = true)\n",
      " |    |-- key: string\n",
      " |    |-- value: long (valueContainsNull = true)\n",
      " |-- struct_asym_id: string (nullable = true)\n",
      " |-- transcript_id: string (nullable = true)\n",
      " |-- translation_id: string (nullable = true)\n",
      " |-- unp_end: long (nullable = true)\n",
      " |-- unp_start: long (nullable = true)\n",
      "\n"
     ]
    }
   ],
   "source": [
    "df = (\n",
    "    spark.createDataFrame(data['1dqa']['Ensembl']['ENSG00000113161']['mappings'])\n",
    "    .persist()\n",
    ")\n",
    "\n",
    "df.count()\n",
    "df.printSchema()"
   ]
  },
  {
   "cell_type": "code",
   "execution_count": 10,
   "id": "96988dbb",
   "metadata": {
    "ExecuteTime": {
     "end_time": "2022-04-07T09:49:19.456624Z",
     "start_time": "2022-04-07T09:49:19.329463Z"
    }
   },
   "outputs": [
    {
     "name": "stdout",
     "output_type": "stream",
     "text": [
      "-RECORD 0---------------------------------------------------------------------------------------------\n",
      " accession      | P04035-3                                                                            \n",
      " chain_id       | A                                                                                   \n",
      " coverage       | 0.533                                                                               \n",
      " end            | {author_residue_number -> 456, residue_number -> 35, author_insertion_code -> null} \n",
      " entity_id      | 1                                                                                   \n",
      " exon_id        | ENSE00000753591                                                                     \n",
      " genome_end     | 75351601                                                                            \n",
      " genome_start   | 75351508                                                                            \n",
      " ordinal        | 1                                                                                   \n",
      " start          | {author_residue_number -> 425, residue_number -> 4, author_insertion_code -> null}  \n",
      " struct_asym_id | A                                                                                   \n",
      " transcript_id  | ENST00000343975                                                                     \n",
      " translation_id | ENSP00000340816                                                                     \n",
      " unp_end        | 476                                                                                 \n",
      " unp_start      | 445                                                                                 \n",
      "only showing top 1 row\n",
      "\n"
     ]
    }
   ],
   "source": [
    "df.show(1, False, True)\n",
    "\n"
   ]
  },
  {
   "cell_type": "code",
   "execution_count": 15,
   "id": "b595c618",
   "metadata": {
    "ExecuteTime": {
     "end_time": "2022-04-07T11:17:05.534858Z",
     "start_time": "2022-04-07T11:17:05.314472Z"
    }
   },
   "outputs": [
    {
     "data": {
      "text/plain": [
       "6"
      ]
     },
     "execution_count": 15,
     "metadata": {},
     "output_type": "execute_result"
    }
   ],
   "source": [
    "dfA= (\n",
    "    df.filter(\n",
    "        (col('chain_id') == 'A') \n",
    "        & (col('accession') == 'P04035')\n",
    "        & (col('unp_end') >= 722)\n",
    "        & (col('unp_start') <= 722)\n",
    "    )\n",
    "    .persist()\n",
    ")\n",
    "dfA.count()\n"
   ]
  },
  {
   "cell_type": "code",
   "execution_count": 16,
   "id": "f25c7c88",
   "metadata": {
    "ExecuteTime": {
     "end_time": "2022-04-07T11:17:06.775359Z",
     "start_time": "2022-04-07T11:17:06.645922Z"
    }
   },
   "outputs": [
    {
     "name": "stdout",
     "output_type": "stream",
     "text": [
      "+---------+--------+--------+--------------------+---------+---------------+----------+------------+-------+--------------------+--------------+---------------+---------------+-------+---------+\n",
      "|accession|chain_id|coverage|                 end|entity_id|        exon_id|genome_end|genome_start|ordinal|               start|struct_asym_id|  transcript_id| translation_id|unp_end|unp_start|\n",
      "+---------+--------+--------+--------------------+---------+---------------+----------+------------+-------+--------------------+--------------+---------------+---------------+-------+---------+\n",
      "|   P04035|       A|     1.0|{author_residue_n...|        1|ENSE00003465683|  75359308|    75359170|      1|{author_residue_n...|             A|ENST00000343975|ENSP00000340816|    766|      720|\n",
      "|   P04035|       A|     1.0|{author_residue_n...|        1|ENSE00003465683|  75359308|    75359170|      1|{author_residue_n...|             A|ENST00000511206|ENSP00000426745|    766|      720|\n",
      "|   P04035|       A|     1.0|{author_residue_n...|        1|ENSE00003465683|  75359308|    75359170|      1|{author_residue_n...|             A|ENST00000681271|ENSP00000505805|    766|      720|\n",
      "|   P04035|       A|     1.0|{author_residue_n...|        1|ENSE00003465683|  75359308|    75359170|      1|{author_residue_n...|             A|ENST00000287936|ENSP00000287936|    766|      720|\n",
      "|   P04035|       A|     1.0|{author_residue_n...|        1|ENSE00003465683|  75359308|    75359170|      1|{author_residue_n...|             A|ENST00000681410|ENSP00000506232|    766|      720|\n",
      "|   P04035|       A|     1.0|{author_residue_n...|        1|ENSE00003465683|  75359308|    75359170|      1|{author_residue_n...|             A|ENST00000680940|ENSP00000505561|    766|      720|\n",
      "+---------+--------+--------+--------------------+---------+---------------+----------+------------+-------+--------------------+--------------+---------------+---------------+-------+---------+\n",
      "\n"
     ]
    }
   ],
   "source": [
    "dfA.show(100)"
   ]
  },
  {
   "cell_type": "code",
   "execution_count": 18,
   "id": "0ff58b18",
   "metadata": {
    "ExecuteTime": {
     "end_time": "2022-04-08T12:07:38.193793Z",
     "start_time": "2022-04-08T12:07:38.183041Z"
    }
   },
   "outputs": [
    {
     "name": "stdout",
     "output_type": "stream",
     "text": [
      "{'projectId': 'OTAR033', 'projectDescription': 'Keratinocytes', 'releaseDate': datetime.date(2021, 6, 10), 'releaseVersion': 'v1.0', 'changes': ['This thime, a new dataset was released based on experiments on a new cell line.', 'Also, a previous dataset was updated as we have re-analysed the experimental data.']}\n"
     ]
    }
   ],
   "source": [
    "import yaml\n",
    "from yaml.loader import SafeLoader\n",
    "\n",
    "# Open the file and load the file\n",
    "with open('readme.yaml') as f:\n",
    "    data = yaml.load(f, Loader=SafeLoader)\n",
    "    print(data)"
   ]
  },
  {
   "cell_type": "code",
   "execution_count": 21,
   "id": "503bd704",
   "metadata": {
    "ExecuteTime": {
     "end_time": "2022-04-09T21:55:38.786248Z",
     "start_time": "2022-04-09T21:55:28.817425Z"
    }
   },
   "outputs": [
    {
     "name": "stdout",
     "output_type": "stream",
     "text": [
      "Encrypt or Decrypt (E/D): E\n",
      "Unencrypted text: firmos cica hajj\n",
      "Encrypted text: firmos cic@ #@jj\n"
     ]
    }
   ],
   "source": [
    "def crypt(direction, text):\n",
    "    '''\n",
    "    Encrypt or decrypt a string\n",
    " \n",
    "    Parameters:\n",
    "    direction (string): Cryptographic direction (encrypt or decrypt)\n",
    "    text (string): Input text\n",
    " \n",
    "    Returns:\n",
    "    string: Output text\n",
    "    '''\n",
    "    code_book = [\n",
    "        ['a', '@'],\n",
    "        ['A', '@'],\n",
    "        ['h', '#'],\n",
    "        ['H', '#']\n",
    "    ]\n",
    "    if direction == 'encrypt':\n",
    "        char_from = 0\n",
    "        char_to = 1\n",
    "    elif direction == 'decrypt':\n",
    "        char_from = 1\n",
    "        char_to = 0\n",
    "    for code_char in code_book:\n",
    "        if code_char[char_from] in text:\n",
    "            text = text.replace(code_char[char_from], code_char[char_to])\n",
    "    return text\n",
    " \n",
    "\n",
    "direction_choice = input('Encrypt or Decrypt (E/D): ')\n",
    "while (\n",
    "    direction_choice != 'e' and\n",
    "    direction_choice != 'E' and\n",
    "    direction_choice != 'd' and\n",
    "    direction_choice != 'D'\n",
    "):\n",
    "    print('Wrong choice!')\n",
    "    direction_choice = input('Encrypt or Decrypt (E/D): ')\n",
    "\n",
    "if direction_choice == 'e' or direction_choice == 'E':\n",
    "    input_text = input('Unencrypted text: ')\n",
    "    print('Encrypted text: ' + crypt('encrypt', input_text))\n",
    "elif direction_choice == 'd' or direction_choice == 'D':\n",
    "    input_text = input('Encrypted text: ')\n",
    "    print('Decrypted text: ' + crypt('decrypt', input_text))\n",
    " "
   ]
  },
  {
   "cell_type": "code",
   "execution_count": 23,
   "id": "c79f0ab5",
   "metadata": {
    "ExecuteTime": {
     "end_time": "2022-04-12T14:35:50.826986Z",
     "start_time": "2022-04-12T14:35:50.820211Z"
    }
   },
   "outputs": [],
   "source": [
    "from decimal import Decimal\n",
    "\n",
    "def get_exponent(number: float) -> int:\n",
    "    \"\"\"Get the exponent of a number.\"\"\"\n",
    "    (sign, digits, exponent) = Decimal(number).as_tuple()\n",
    "    return len(digits) + exponent - 1\n",
    "\n",
    "def get_mantissa(number: float) -> float:\n",
    "    \"\"\"Get the mantissa of a number.\"\"\"\n",
    "    return float(Decimal(number).scaleb(-get_exponent(number)).normalize())"
   ]
  },
  {
   "cell_type": "code",
   "execution_count": 29,
   "id": "92dfb790",
   "metadata": {
    "ExecuteTime": {
     "end_time": "2022-04-12T14:38:00.548097Z",
     "start_time": "2022-04-12T14:38:00.542316Z"
    }
   },
   "outputs": [
    {
     "data": {
      "text/plain": [
       "DecimalTuple(sign=0, digits=(1, 2, 9, 9, 9, 9, 9, 9, 9, 9, 9, 9, 9, 9, 9, 9, 8, 8, 6, 1, 1, 5, 4, 0, 3, 8, 0, 2, 1, 2, 2, 6, 1, 4, 2, 5, 1, 8, 5, 7, 1, 5, 7, 7, 9, 6, 6, 2, 1, 3, 2, 2, 6, 3, 1, 8, 3, 5, 9, 3, 7, 5), exponent=-65)"
      ]
     },
     "execution_count": 29,
     "metadata": {},
     "output_type": "execute_result"
    }
   ],
   "source": [
    "burden_evidence_sets = [\n",
    "    # Generate evidence from regeneron data:\n",
    "    process_regeneron_gene_burden(regeneron_data, gwas_studies, spark_instance=spark_instance),\n",
    "    \n",
    "    # Generate evidence from AZ data:\n",
    "    process_az_gene_burden(az_binary_data, az_quant_data, spark_instance=spark_instance)\n",
    "]\n",
    "\n",
    "burden_evidence = reduce(lambda df1, df2: df1.unionByName(df2, allowMissingColumns=True), burden_evidence_sets)\n",
    "\n"
   ]
  },
  {
   "cell_type": "code",
   "execution_count": 51,
   "id": "a7cb31be",
   "metadata": {
    "ExecuteTime": {
     "end_time": "2022-04-12T16:01:13.234977Z",
     "start_time": "2022-04-12T16:01:13.017381Z"
    }
   },
   "outputs": [
    {
     "name": "stdout",
     "output_type": "stream",
     "text": [
      "+--------+---+--------+-----------------+\n",
      "|       a|  b|exponent|         mantissa|\n",
      "+--------+---+--------+-----------------+\n",
      "|  1.2E-7|  A|      -7|              1.2|\n",
      "|1.012E-6|  B|      -6|            1.012|\n",
      "| 5.2E-11|  B|     -11|5.199999999999999|\n",
      "|   0.008|  A|      -3|              8.0|\n",
      "| 2.0E-10|  C|     -10|              2.0|\n",
      "+--------+---+--------+-----------------+\n",
      "\n"
     ]
    }
   ],
   "source": [
    "from functools import reduce\n",
    "\n",
    "label_map = {\n",
    "    'cica': 'A',\n",
    "    'kutya': 'B',\n",
    "    'pocok': 'C'\n",
    "}\n",
    "\n",
    "(\n",
    "    spark.createDataFrame([\n",
    "        {'a': 0.00000012, 'b': 'cica'},\n",
    "        {'a': 0.000001012, 'b': 'kutya'},\n",
    "        {'a': 0.000000000052, 'b': 'kutya'},\n",
    "        {'a': 0.008, 'b': 'cica'},\n",
    "        {'a': 0.0000000002, 'b': 'pocok'}\n",
    "    ])\n",
    "    .withColumn('exponent', F.log10(F.col('a')).cast(IntegerType()) - lit(1))\n",
    "    .withColumn('mantissa', F.col('a') / F.pow(F.lit(10), col('exponent')))\n",
    "    .replace(to_replace=label_map, subset=['b'])\n",
    "    .show()\n",
    ")"
   ]
  },
  {
   "cell_type": "code",
   "execution_count": 34,
   "id": "9676ae68",
   "metadata": {
    "ExecuteTime": {
     "end_time": "2022-04-12T14:41:41.734871Z",
     "start_time": "2022-04-12T14:41:41.731960Z"
    }
   },
   "outputs": [],
   "source": [
    "from math import log10, exp\n",
    "\n"
   ]
  },
  {
   "cell_type": "code",
   "execution_count": 39,
   "id": "505c6a0f",
   "metadata": {
    "ExecuteTime": {
     "end_time": "2022-04-12T14:43:10.374442Z",
     "start_time": "2022-04-12T14:43:10.369234Z"
    }
   },
   "outputs": [
    {
     "data": {
      "text/plain": [
       "0.013"
      ]
     },
     "execution_count": 39,
     "metadata": {},
     "output_type": "execute_result"
    }
   ],
   "source": [
    "n = 0.00013\n",
    "\n",
    "exponent = int(log10(n)) + 1\n",
    "mantissa = n / (10**exponent)"
   ]
  },
  {
   "cell_type": "code",
   "execution_count": 38,
   "id": "56272c14",
   "metadata": {
    "ExecuteTime": {
     "end_time": "2022-04-12T14:42:53.745936Z",
     "start_time": "2022-04-12T14:42:53.740198Z"
    }
   },
   "outputs": [
    {
     "data": {
      "text/plain": [
       "-4"
      ]
     },
     "execution_count": 38,
     "metadata": {},
     "output_type": "execute_result"
    }
   ],
   "source": [
    "get_exponent(n)"
   ]
  },
  {
   "cell_type": "code",
   "execution_count": null,
   "id": "6442e9fc",
   "metadata": {},
   "outputs": [],
   "source": []
  }
 ],
 "metadata": {
  "kernelspec": {
   "display_name": "Python 3",
   "language": "python",
   "name": "python3"
  },
  "language_info": {
   "codemirror_mode": {
    "name": "ipython",
    "version": 3
   },
   "file_extension": ".py",
   "mimetype": "text/x-python",
   "name": "python",
   "nbconvert_exporter": "python",
   "pygments_lexer": "ipython3",
   "version": "3.9.5"
  }
 },
 "nbformat": 4,
 "nbformat_minor": 5
}
