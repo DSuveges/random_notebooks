{
 "cells": [
  {
   "cell_type": "code",
   "execution_count": 9,
   "id": "9db8c2a7",
   "metadata": {
    "ExecuteTime": {
     "end_time": "2022-05-03T20:54:17.562233Z",
     "start_time": "2022-05-03T20:54:01.302403Z"
    }
   },
   "outputs": [],
   "source": [
    "import pandas as pd\n",
    "import json\n",
    "import requests\n",
    "\n",
    "from pyspark.sql.types import ArrayType, StringType, IntegerType\n",
    "from pyspark.sql import SparkSession\n",
    "import pyspark.sql.functions as f\n",
    "\n",
    "# establish spark connection\n",
    "spark = (\n",
    "    SparkSession.builder\n",
    "    .master('local[*]')\n",
    "    .getOrCreate()\n",
    ")\n",
    "\n",
    "\n",
    "df = (\n",
    "    spark.read.csv('/Users/dsuveges/project_data/marine/plip_output.csv', sep=',', header=True)\n",
    "    .distinct()\n",
    "    .groupBy(['pdb_structure_id', 'compound_id', 'prot_residue_number','prot_chain_id', 'prot_residue_type'])\n",
    "    .agg(\n",
    "        f.collect_set(f.col('interaction_type')).alias('interaction_types')\n",
    "    )\n",
    ")\n",
    "\n",
    "df.write.json('/Users/dsuveges/project_data/marine/plip_output_aggregated.json')"
   ]
  },
  {
   "cell_type": "code",
   "execution_count": 10,
   "id": "29a885b7",
   "metadata": {
    "ExecuteTime": {
     "end_time": "2022-05-03T20:55:02.137600Z",
     "start_time": "2022-05-03T20:55:01.708692Z"
    }
   },
   "outputs": [],
   "source": [
    "%%bash \n",
    "\n",
    "cat /Users/dsuveges/project_data/marine/plip_output_aggregated.json/*json \\\n",
    "    | gzip > /Users/dsuveges/project_data/marine/plip_output_aggregated.json.gz\n"
   ]
  },
  {
   "cell_type": "code",
   "execution_count": 29,
   "id": "182b466c",
   "metadata": {
    "ExecuteTime": {
     "end_time": "2022-05-03T21:05:13.420339Z",
     "start_time": "2022-05-03T21:05:10.899606Z"
    }
   },
   "outputs": [
    {
     "data": {
      "text/html": [
       "<div>\n",
       "<style scoped>\n",
       "    .dataframe tbody tr th:only-of-type {\n",
       "        vertical-align: middle;\n",
       "    }\n",
       "\n",
       "    .dataframe tbody tr th {\n",
       "        vertical-align: top;\n",
       "    }\n",
       "\n",
       "    .dataframe thead th {\n",
       "        text-align: right;\n",
       "    }\n",
       "</style>\n",
       "<table border=\"1\" class=\"dataframe\">\n",
       "  <thead>\n",
       "    <tr style=\"text-align: right;\">\n",
       "      <th></th>\n",
       "      <th>pdb_structure_id</th>\n",
       "      <th>compound_id</th>\n",
       "      <th>prot_residue_number</th>\n",
       "      <th>prot_chain_id</th>\n",
       "      <th>prot_residue_type</th>\n",
       "      <th>interaction_types</th>\n",
       "    </tr>\n",
       "  </thead>\n",
       "  <tbody>\n",
       "    <tr>\n",
       "      <th>0</th>\n",
       "      <td>1abi</td>\n",
       "      <td>DPN</td>\n",
       "      <td>53</td>\n",
       "      <td>I</td>\n",
       "      <td>ASN</td>\n",
       "      <td>[hbond]</td>\n",
       "    </tr>\n",
       "    <tr>\n",
       "      <th>1</th>\n",
       "      <td>1agn</td>\n",
       "      <td>ZN</td>\n",
       "      <td>174</td>\n",
       "      <td>C</td>\n",
       "      <td>CYS</td>\n",
       "      <td>[metal_complex]</td>\n",
       "    </tr>\n",
       "    <tr>\n",
       "      <th>2</th>\n",
       "      <td>1ai0</td>\n",
       "      <td>ZN</td>\n",
       "      <td>10</td>\n",
       "      <td>L</td>\n",
       "      <td>HIS</td>\n",
       "      <td>[metal_complex]</td>\n",
       "    </tr>\n",
       "    <tr>\n",
       "      <th>3</th>\n",
       "      <td>1am4</td>\n",
       "      <td>GNP</td>\n",
       "      <td>660</td>\n",
       "      <td>F</td>\n",
       "      <td>LEU</td>\n",
       "      <td>[hbond]</td>\n",
       "    </tr>\n",
       "    <tr>\n",
       "      <th>4</th>\n",
       "      <td>1an0</td>\n",
       "      <td>GDP</td>\n",
       "      <td>118</td>\n",
       "      <td>A</td>\n",
       "      <td>ASP</td>\n",
       "      <td>[saltbridge]</td>\n",
       "    </tr>\n",
       "  </tbody>\n",
       "</table>\n",
       "</div>"
      ],
      "text/plain": [
       "  pdb_structure_id compound_id  prot_residue_number prot_chain_id  \\\n",
       "0             1abi         DPN                   53             I   \n",
       "1             1agn          ZN                  174             C   \n",
       "2             1ai0          ZN                   10             L   \n",
       "3             1am4         GNP                  660             F   \n",
       "4             1an0         GDP                  118             A   \n",
       "\n",
       "  prot_residue_type interaction_types  \n",
       "0               ASN           [hbond]  \n",
       "1               CYS   [metal_complex]  \n",
       "2               HIS   [metal_complex]  \n",
       "3               LEU           [hbond]  \n",
       "4               ASP      [saltbridge]  "
      ]
     },
     "execution_count": 29,
     "metadata": {},
     "output_type": "execute_result"
    }
   ],
   "source": [
    "import pandas as pd\n",
    "from functools import reduce\n",
    "\n",
    "# 319408 -> unique 265603\n",
    "df = (\n",
    "    pd.read_json('/Users/dsuveges/project_data/marine/plip_output_aggregated.json.gz', orient='records', lines=True)\n",
    ")\n",
    "\n",
    "df.head()"
   ]
  },
  {
   "cell_type": "code",
   "execution_count": 86,
   "id": "8a60680e",
   "metadata": {
    "ExecuteTime": {
     "end_time": "2022-05-03T21:37:56.420923Z",
     "start_time": "2022-05-03T21:37:56.404182Z"
    }
   },
   "outputs": [
    {
     "data": {
      "text/html": [
       "<div>\n",
       "<style scoped>\n",
       "    .dataframe tbody tr th:only-of-type {\n",
       "        vertical-align: middle;\n",
       "    }\n",
       "\n",
       "    .dataframe tbody tr th {\n",
       "        vertical-align: top;\n",
       "    }\n",
       "\n",
       "    .dataframe thead th {\n",
       "        text-align: right;\n",
       "    }\n",
       "</style>\n",
       "<table border=\"1\" class=\"dataframe\">\n",
       "  <thead>\n",
       "    <tr style=\"text-align: right;\">\n",
       "      <th></th>\n",
       "      <th>pdb_structure_id</th>\n",
       "      <th>compound_id</th>\n",
       "      <th>prot_residue_number</th>\n",
       "      <th>prot_chain_id</th>\n",
       "      <th>prot_residue_type</th>\n",
       "      <th>interaction_types</th>\n",
       "    </tr>\n",
       "  </thead>\n",
       "  <tbody>\n",
       "    <tr>\n",
       "      <th>26321</th>\n",
       "      <td>3e7g</td>\n",
       "      <td>AT2</td>\n",
       "      <td>350</td>\n",
       "      <td>A</td>\n",
       "      <td>PRO</td>\n",
       "      <td>[hydroph_interaction]</td>\n",
       "    </tr>\n",
       "    <tr>\n",
       "      <th>112137</th>\n",
       "      <td>3e7g</td>\n",
       "      <td>AT2</td>\n",
       "      <td>369</td>\n",
       "      <td>A</td>\n",
       "      <td>PHE</td>\n",
       "      <td>[hydroph_interaction]</td>\n",
       "    </tr>\n",
       "    <tr>\n",
       "      <th>209266</th>\n",
       "      <td>3e7g</td>\n",
       "      <td>AT2</td>\n",
       "      <td>377</td>\n",
       "      <td>A</td>\n",
       "      <td>GLU</td>\n",
       "      <td>[hbond]</td>\n",
       "    </tr>\n",
       "  </tbody>\n",
       "</table>\n",
       "</div>"
      ],
      "text/plain": [
       "       pdb_structure_id compound_id  prot_residue_number prot_chain_id  \\\n",
       "26321              3e7g         AT2                  350             A   \n",
       "112137             3e7g         AT2                  369             A   \n",
       "209266             3e7g         AT2                  377             A   \n",
       "\n",
       "       prot_residue_type      interaction_types  \n",
       "26321                PRO  [hydroph_interaction]  \n",
       "112137               PHE  [hydroph_interaction]  \n",
       "209266               GLU                [hbond]  "
      ]
     },
     "execution_count": 86,
     "metadata": {},
     "output_type": "execute_result"
    }
   ],
   "source": [
    "# grouped = df.groupby('pdb_structure_id')\n",
    "# test_df = grouped.get_group('3e7g')\n",
    "test_df.query('prot_chain_id == \"A\"').query('compound_id == \"AT2\"')"
   ]
  },
  {
   "cell_type": "code",
   "execution_count": 119,
   "id": "8d14abbd",
   "metadata": {
    "ExecuteTime": {
     "end_time": "2022-05-04T06:36:57.894603Z",
     "start_time": "2022-05-04T06:36:56.560347Z"
    }
   },
   "outputs": [],
   "source": [
    "def get_pdb_sifts_mapping(pdb_id: str) -> pd.DataFrame:\n",
    "    URL = f'https://www.ebi.ac.uk/pdbe/graph-api/mappings/ensembl/{pdb_id}'\n",
    "    data = requests.get(URL).json()\n",
    "\n",
    "    return (\n",
    "        pd.DataFrame(reduce(lambda x,y: x + y['mappings'], data[pdb_id]['Ensembl'].values(), []))\n",
    "        .assign(\n",
    "            author_start = lambda df: df.start.apply(lambda start: start['author_residue_number']),\n",
    "            author_end = lambda df: df.end.apply(lambda end: end['author_residue_number']),\n",
    "            uniprot_position = lambda df: df.apply(lambda row: list(range(row['unp_start'], row['unp_end']+1)), axis=1),\n",
    "            diff = lambda df: df.apply(lambda row: row['author_start'] - row['unp_start'], axis=1)\n",
    "        )\n",
    "        .explode('uniprot_position')\n",
    "        .assign(\n",
    "            prot_residue_number = lambda df: df.apply(lambda row: row['uniprot_position'] + row['diff'], axis=1)\n",
    "        )\n",
    "        [['accession', 'chain_id', 'uniprot_position', 'prot_residue_number']]\n",
    "        .rename(columns={'chain_id': 'prot_chain_id'})\n",
    "        .drop_duplicates()\n",
    "    )\n",
    "\n",
    "\n",
    "# def map2uniprot(plip_df: pd.DataFrame) -> pd.DataFrame:\n",
    "#     pdb_id = plip_df.pdb_id.iloc\n",
    "\n",
    "pdb_id = test_df.pdb_structure_id.iloc[0]\n",
    "sifts_df = get_pdb_sifts_mapping(pdb_id)\n"
   ]
  },
  {
   "cell_type": "code",
   "execution_count": 120,
   "id": "db18bf70",
   "metadata": {
    "ExecuteTime": {
     "end_time": "2022-05-04T06:36:58.512144Z",
     "start_time": "2022-05-04T06:36:58.496763Z"
    }
   },
   "outputs": [
    {
     "data": {
      "text/html": [
       "<div>\n",
       "<style scoped>\n",
       "    .dataframe tbody tr th:only-of-type {\n",
       "        vertical-align: middle;\n",
       "    }\n",
       "\n",
       "    .dataframe tbody tr th {\n",
       "        vertical-align: top;\n",
       "    }\n",
       "\n",
       "    .dataframe thead th {\n",
       "        text-align: right;\n",
       "    }\n",
       "</style>\n",
       "<table border=\"1\" class=\"dataframe\">\n",
       "  <thead>\n",
       "    <tr style=\"text-align: right;\">\n",
       "      <th></th>\n",
       "      <th>accession</th>\n",
       "      <th>prot_chain_id</th>\n",
       "      <th>uniprot_position</th>\n",
       "      <th>prot_residue_number</th>\n",
       "    </tr>\n",
       "  </thead>\n",
       "  <tbody>\n",
       "    <tr>\n",
       "      <th>0</th>\n",
       "      <td>P35228-2</td>\n",
       "      <td>A</td>\n",
       "      <td>82</td>\n",
       "      <td>82</td>\n",
       "    </tr>\n",
       "    <tr>\n",
       "      <th>0</th>\n",
       "      <td>P35228-2</td>\n",
       "      <td>A</td>\n",
       "      <td>83</td>\n",
       "      <td>83</td>\n",
       "    </tr>\n",
       "    <tr>\n",
       "      <th>0</th>\n",
       "      <td>P35228-2</td>\n",
       "      <td>A</td>\n",
       "      <td>84</td>\n",
       "      <td>84</td>\n",
       "    </tr>\n",
       "    <tr>\n",
       "      <th>0</th>\n",
       "      <td>P35228-2</td>\n",
       "      <td>A</td>\n",
       "      <td>85</td>\n",
       "      <td>85</td>\n",
       "    </tr>\n",
       "    <tr>\n",
       "      <th>0</th>\n",
       "      <td>P35228-2</td>\n",
       "      <td>A</td>\n",
       "      <td>86</td>\n",
       "      <td>86</td>\n",
       "    </tr>\n",
       "    <tr>\n",
       "      <th>...</th>\n",
       "      <td>...</td>\n",
       "      <td>...</td>\n",
       "      <td>...</td>\n",
       "      <td>...</td>\n",
       "    </tr>\n",
       "    <tr>\n",
       "      <th>272</th>\n",
       "      <td>P35228</td>\n",
       "      <td>D</td>\n",
       "      <td>501</td>\n",
       "      <td>501</td>\n",
       "    </tr>\n",
       "    <tr>\n",
       "      <th>272</th>\n",
       "      <td>P35228</td>\n",
       "      <td>D</td>\n",
       "      <td>502</td>\n",
       "      <td>502</td>\n",
       "    </tr>\n",
       "    <tr>\n",
       "      <th>272</th>\n",
       "      <td>P35228</td>\n",
       "      <td>D</td>\n",
       "      <td>503</td>\n",
       "      <td>503</td>\n",
       "    </tr>\n",
       "    <tr>\n",
       "      <th>272</th>\n",
       "      <td>P35228</td>\n",
       "      <td>D</td>\n",
       "      <td>504</td>\n",
       "      <td>504</td>\n",
       "    </tr>\n",
       "    <tr>\n",
       "      <th>272</th>\n",
       "      <td>P35228</td>\n",
       "      <td>D</td>\n",
       "      <td>505</td>\n",
       "      <td>505</td>\n",
       "    </tr>\n",
       "  </tbody>\n",
       "</table>\n",
       "<p>5028 rows × 4 columns</p>\n",
       "</div>"
      ],
      "text/plain": [
       "    accession prot_chain_id uniprot_position  prot_residue_number\n",
       "0    P35228-2             A               82                   82\n",
       "0    P35228-2             A               83                   83\n",
       "0    P35228-2             A               84                   84\n",
       "0    P35228-2             A               85                   85\n",
       "0    P35228-2             A               86                   86\n",
       "..        ...           ...              ...                  ...\n",
       "272    P35228             D              501                  501\n",
       "272    P35228             D              502                  502\n",
       "272    P35228             D              503                  503\n",
       "272    P35228             D              504                  504\n",
       "272    P35228             D              505                  505\n",
       "\n",
       "[5028 rows x 4 columns]"
      ]
     },
     "execution_count": 120,
     "metadata": {},
     "output_type": "execute_result"
    }
   ],
   "source": [
    "sifts_df\n"
   ]
  },
  {
   "cell_type": "code",
   "execution_count": 121,
   "id": "1030089a",
   "metadata": {
    "ExecuteTime": {
     "end_time": "2022-05-04T06:37:17.424573Z",
     "start_time": "2022-05-04T06:37:17.403926Z"
    }
   },
   "outputs": [
    {
     "name": "stdout",
     "output_type": "stream",
     "text": [
      "    pdb_structure_id compound_id  prot_residue_number prot_chain_id  \\\n",
      "12              3e7g         AT2                  350             A   \n",
      "13              3e7g         AT2                  350             A   \n",
      "14              3e7g         AT2                  350             A   \n",
      "54              3e7g         AT2                  369             A   \n",
      "55              3e7g         AT2                  369             A   \n",
      "56              3e7g         AT2                  369             A   \n",
      "105             3e7g         AT2                  377             A   \n",
      "106             3e7g         AT2                  377             A   \n",
      "107             3e7g         AT2                  377             A   \n",
      "\n",
      "    prot_residue_type      interaction_types       accession uniprot_position  \n",
      "12                PRO  [hydroph_interaction]        P35228-2              311  \n",
      "13                PRO  [hydroph_interaction]  PRO_0000170930              350  \n",
      "14                PRO  [hydroph_interaction]          P35228              350  \n",
      "54                PHE  [hydroph_interaction]        P35228-2              330  \n",
      "55                PHE  [hydroph_interaction]  PRO_0000170930              369  \n",
      "56                PHE  [hydroph_interaction]          P35228              369  \n",
      "105               GLU                [hbond]        P35228-2              338  \n",
      "106               GLU                [hbond]  PRO_0000170930              377  \n",
      "107               GLU                [hbond]          P35228              377  \n"
     ]
    }
   ],
   "source": [
    "print(\n",
    "    test_df\n",
    "    .merge(sifts_df, on=['prot_chain_id',  'prot_residue_number'], how='left')\n",
    "    .query('prot_chain_id == \"A\" & compound_id == \"AT2\"')\n",
    "    .head(1000)\n",
    ")\n",
    "\n"
   ]
  },
  {
   "cell_type": "code",
   "execution_count": 118,
   "id": "a003c9ac",
   "metadata": {
    "ExecuteTime": {
     "end_time": "2022-05-04T06:33:22.510292Z",
     "start_time": "2022-05-04T06:33:22.457069Z"
    }
   },
   "outputs": [
    {
     "data": {
      "text/html": [
       "<div>\n",
       "<style scoped>\n",
       "    .dataframe tbody tr th:only-of-type {\n",
       "        vertical-align: middle;\n",
       "    }\n",
       "\n",
       "    .dataframe tbody tr th {\n",
       "        vertical-align: top;\n",
       "    }\n",
       "\n",
       "    .dataframe thead th {\n",
       "        text-align: right;\n",
       "    }\n",
       "</style>\n",
       "<table border=\"1\" class=\"dataframe\">\n",
       "  <thead>\n",
       "    <tr style=\"text-align: right;\">\n",
       "      <th></th>\n",
       "      <th>accession</th>\n",
       "      <th>chain_id</th>\n",
       "      <th>unp_start</th>\n",
       "      <th>author_start</th>\n",
       "      <th>unp_end</th>\n",
       "      <th>author_end</th>\n",
       "    </tr>\n",
       "  </thead>\n",
       "  <tbody>\n",
       "    <tr>\n",
       "      <th>45</th>\n",
       "      <td>PRO_0000170930</td>\n",
       "      <td>A</td>\n",
       "      <td>335</td>\n",
       "      <td>335</td>\n",
       "      <td>393</td>\n",
       "      <td>393</td>\n",
       "    </tr>\n",
       "    <tr>\n",
       "      <th>46</th>\n",
       "      <td>P35228</td>\n",
       "      <td>A</td>\n",
       "      <td>335</td>\n",
       "      <td>335</td>\n",
       "      <td>393</td>\n",
       "      <td>393</td>\n",
       "    </tr>\n",
       "    <tr>\n",
       "      <th>47</th>\n",
       "      <td>P35228-2</td>\n",
       "      <td>A</td>\n",
       "      <td>296</td>\n",
       "      <td>335</td>\n",
       "      <td>354</td>\n",
       "      <td>393</td>\n",
       "    </tr>\n",
       "  </tbody>\n",
       "</table>\n",
       "</div>"
      ],
      "text/plain": [
       "         accession chain_id  unp_start  author_start  unp_end  author_end\n",
       "45  PRO_0000170930        A        335           335      393         393\n",
       "46          P35228        A        335           335      393         393\n",
       "47        P35228-2        A        296           335      354         393"
      ]
     },
     "execution_count": 118,
     "metadata": {},
     "output_type": "execute_result"
    }
   ],
   "source": [
    "mappings_df = (\n",
    "    pd.DataFrame(reduce(lambda x,y: x+y['mappings'], data[pdb_id]['Ensembl'].values(), []))\n",
    "    .assign(\n",
    "        author_start = lambda df: df.start.apply(lambda start: start['author_residue_number']),\n",
    "        author_end = lambda df: df.end.apply(lambda end: end['author_residue_number']),\n",
    "        diff = lambda df: df.apply(lambda row: row['author_start'] - row['unp_start'], axis=1)\n",
    "    )\n",
    "    [['accession', 'chain_id', 'unp_start', 'author_start', 'unp_end', 'author_end']]\n",
    "    .query('chain_id == \"A\"')\n",
    "    .drop_duplicates()\n",
    ")\n",
    "\n",
    "value = 377\n",
    "(\n",
    "    mappings_df\n",
    "    .query('author_start <= @value & author_end >= @value')\n",
    ")"
   ]
  },
  {
   "cell_type": "code",
   "execution_count": 104,
   "id": "c94e2744",
   "metadata": {
    "ExecuteTime": {
     "end_time": "2022-05-03T22:15:45.965654Z",
     "start_time": "2022-05-03T22:15:44.986249Z"
    }
   },
   "outputs": [
    {
     "name": "stdout",
     "output_type": "stream",
     "text": [
      "+--------------+---------------+---------------+--------+---------+-------+--------+\n",
      "|     accession| translation_id|  transcript_id|chain_id|unp_start|unp_end|coverage|\n",
      "+--------------+---------------+---------------+--------+---------+-------+--------+\n",
      "|PRO_0000170930|ENSP00000327251|ENST00000313735|       A|      335|    393|     1.0|\n",
      "|        P35228|ENSP00000327251|ENST00000313735|       A|      335|    393|     1.0|\n",
      "|      P35228-2|ENSP00000327251|ENST00000313735|       A|      296|    354|     1.0|\n",
      "+--------------+---------------+---------------+--------+---------+-------+--------+\n",
      "\n"
     ]
    }
   ],
   "source": [
    "spark.createDataFrame(\n",
    "    pd.DataFrame(data['3e7g']['Ensembl']['ENSG00000007171']['mappings'])\n",
    "    [['accession', 'translation_id', 'transcript_id', 'chain_id', 'unp_start', 'unp_end', 'coverage']]\n",
    "    .query('unp_start == 335 | unp_start == 296')\n",
    "    .query('translation_id == \"ENSP00000327251\" & chain_id == \"A\"')\n",
    ").show()"
   ]
  },
  {
   "cell_type": "code",
   "execution_count": 114,
   "id": "efc978af",
   "metadata": {
    "ExecuteTime": {
     "end_time": "2022-05-03T22:57:33.596098Z",
     "start_time": "2022-05-03T22:57:33.387993Z"
    }
   },
   "outputs": [
    {
     "name": "stdout",
     "output_type": "stream",
     "text": [
      "+---------+---------------+---------------+---------------+--------+---------+-------+--------+------------+----------+\n",
      "|accession| translation_id|  transcript_id|        exon_id|chain_id|unp_start|unp_end|coverage|genome_start|genome_end|\n",
      "+---------+---------------+---------------+---------------+--------+---------+-------+--------+------------+----------+\n",
      "| P35228-2|ENSP00000482291|ENST00000621962|ENSE00001347946|       A|      107|    156|     1.0|    27787826|  27787973|\n",
      "|   P35228|ENSP00000482291|ENST00000621962|ENSE00001347946|       A|      107|    156|     1.0|    27787826|  27787973|\n",
      "| P35228-2|ENSP00000327251|ENST00000313735|ENSE00001347946|       A|      107|    156|     1.0|    27787826|  27787973|\n",
      "|   P35228|ENSP00000327251|ENST00000313735|ENSE00001347946|       A|      107|    156|     1.0|    27787826|  27787973|\n",
      "+---------+---------------+---------------+---------------+--------+---------+-------+--------+------------+----------+\n",
      "\n"
     ]
    }
   ],
   "source": [
    "value = 115\n",
    "spark.createDataFrame(\n",
    "    pd.DataFrame(data['3e7g']['Ensembl']['ENSG00000007171']['mappings'])\n",
    "    [['accession', 'translation_id', 'transcript_id', 'exon_id',\n",
    "      'chain_id', 'unp_start', 'unp_end', 'coverage', 'genome_start', 'genome_end']]\n",
    "    .query('unp_start <= @value & unp_end >= @value')\n",
    "    .query('chain_id == \"A\"')\n",
    "    .query('accession != \"PRO_0000170930\"')\n",
    ").show()"
   ]
  },
  {
   "cell_type": "code",
   "execution_count": 108,
   "id": "75b78cf9",
   "metadata": {
    "ExecuteTime": {
     "end_time": "2022-05-03T22:25:54.312732Z",
     "start_time": "2022-05-03T22:25:54.151544Z"
    }
   },
   "outputs": [
    {
     "name": "stdout",
     "output_type": "stream",
     "text": [
      "+---------------+---------------+\n",
      "| translation_id|  transcript_id|\n",
      "+---------------+---------------+\n",
      "|ENSP00000327251|ENST00000313735|\n",
      "|ENSP00000482291|ENST00000621962|\n",
      "+---------------+---------------+\n",
      "\n"
     ]
    }
   ],
   "source": [
    "spark.createDataFrame(\n",
    "    pd.DataFrame(data['3e7g']['Ensembl']['ENSG00000007171']['mappings'])\n",
    "    [['translation_id', 'transcript_id']]\n",
    "    .drop_duplicates()\n",
    ").show()"
   ]
  },
  {
   "cell_type": "code",
   "execution_count": 115,
   "id": "c99ac652",
   "metadata": {
    "ExecuteTime": {
     "end_time": "2022-05-03T23:00:22.761661Z",
     "start_time": "2022-05-03T23:00:22.757097Z"
    }
   },
   "outputs": [
    {
     "data": {
      "text/plain": [
       "-147"
      ]
     },
     "execution_count": 115,
     "metadata": {},
     "output_type": "execute_result"
    }
   ],
   "source": [
    "27787826 -27787973"
   ]
  },
  {
   "cell_type": "code",
   "execution_count": 116,
   "id": "0d48a148",
   "metadata": {
    "ExecuteTime": {
     "end_time": "2022-05-03T23:00:40.128258Z",
     "start_time": "2022-05-03T23:00:40.124373Z"
    }
   },
   "outputs": [
    {
     "data": {
      "text/plain": [
       "-148"
      ]
     },
     "execution_count": 116,
     "metadata": {},
     "output_type": "execute_result"
    }
   ],
   "source": [
    "27787678 - 27787826"
   ]
  },
  {
   "cell_type": "code",
   "execution_count": null,
   "id": "dd2b3a62",
   "metadata": {},
   "outputs": [],
   "source": []
  }
 ],
 "metadata": {
  "kernelspec": {
   "display_name": "Python 3",
   "language": "python",
   "name": "python3"
  },
  "language_info": {
   "codemirror_mode": {
    "name": "ipython",
    "version": 3
   },
   "file_extension": ".py",
   "mimetype": "text/x-python",
   "name": "python",
   "nbconvert_exporter": "python",
   "pygments_lexer": "ipython3",
   "version": "3.9.5"
  }
 },
 "nbformat": 4,
 "nbformat_minor": 5
}
