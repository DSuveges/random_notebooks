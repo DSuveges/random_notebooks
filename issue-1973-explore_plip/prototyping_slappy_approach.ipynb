{
 "cells": [
  {
   "cell_type": "markdown",
   "id": "1a4e0f88",
   "metadata": {},
   "source": [
    "# Fetch interactions from pdb\n",
    "\n",
    "**procecc:**\n",
    "\n",
    "1. Read pre-defined data\n",
    "2. Re-arrange the same data by pdb vs. ligand\n",
    "3. Fetch pdb header (via single thread 100 structure: 18 sec.)\n",
    "4. Process header \n",
    "5. Return data in proper format"
   ]
  },
  {
   "cell_type": "code",
   "execution_count": 2,
   "id": "a33ffcc6",
   "metadata": {
    "ExecuteTime": {
     "end_time": "2022-03-21T21:03:52.070583Z",
     "start_time": "2022-03-21T21:03:46.806359Z"
    }
   },
   "outputs": [],
   "source": [
    "import json\n",
    "from json import JSONDecodeError\n",
    "\n",
    "import requests\n",
    "from functools import reduce\n",
    "import pandas as pd\n",
    "from pyspark.sql.functions import (\n",
    "    col, udf, struct, lit, split, expr, collect_set, struct, \n",
    "    regexp_replace, min as pyspark_min, explode, when,\n",
    "    array_contains, count, first, element_at, size, sum as pyspark_sum, array\n",
    ")\n",
    "from pyspark.sql.types import (\n",
    "    FloatType, ArrayType, StructType, StructField, BooleanType, StringType, IntegerType\n",
    ")\n",
    "from pyspark.sql import SparkSession\n",
    "from pyspark.conf import SparkConf\n",
    "from collections import defaultdict\n",
    "from pyspark.context import SparkContext\n",
    "\n",
    "# establish spark connection\n",
    "spark = (\n",
    "    SparkSession.builder\n",
    "    .master('local[*]')\n",
    "    .getOrCreate()\n",
    ")"
   ]
  },
  {
   "cell_type": "code",
   "execution_count": 6,
   "id": "d5cad5f7",
   "metadata": {
    "ExecuteTime": {
     "end_time": "2022-03-15T15:37:59.924017Z",
     "start_time": "2022-03-15T15:37:59.921371Z"
    }
   },
   "outputs": [],
   "source": [
    "data = '/Users/dsuveges/project/random_notebooks/issue-1891_extracting_drug-ligand_complex/molecules_w_targets/'"
   ]
  },
  {
   "cell_type": "code",
   "execution_count": 14,
   "id": "cddb1f0a",
   "metadata": {
    "ExecuteTime": {
     "end_time": "2022-03-15T15:42:40.631644Z",
     "start_time": "2022-03-15T15:42:39.230040Z"
    }
   },
   "outputs": [
    {
     "name": "stdout",
     "output_type": "stream",
     "text": [
      "+----------------+----------------------------+\n",
      "|pdb_structure_id|collect_set(pdb_compound_id)|\n",
      "+----------------+----------------------------+\n",
      "|            1avd|                       [BTN]|\n",
      "|            1d5m|                       [ALC]|\n",
      "|            1d6q|                       [GOL]|\n",
      "|            1e9b|                       [ATM]|\n",
      "|            1ere|                       [EST]|\n",
      "|            1j3z|                       [CMO]|\n",
      "|            1jan|                        [ZN]|\n",
      "|            1ln2|                       [MSE]|\n",
      "|            1lq8|                  [NDG, IPA]|\n",
      "|            1ozj|                        [ZN]|\n",
      "|            1qxe|                  [FUX, OXY]|\n",
      "|            1raz|                        [ZN]|\n",
      "|            1t2v|                       [SEP]|\n",
      "|            1t9s|                   [ZN, 5GP]|\n",
      "|            1y8q|                   [ATP, ZN]|\n",
      "|            1ydb|                   [AZM, ZN]|\n",
      "|            1yxu|                       [AMP]|\n",
      "|            1z0f|                       [GDP]|\n",
      "|            1z89|                  [62P, NAP]|\n",
      "|            2b02|                       [MSE]|\n",
      "+----------------+----------------------------+\n",
      "only showing top 20 rows\n",
      "\n",
      "27315\n"
     ]
    }
   ],
   "source": [
    "# Dataset witht all the details, produced earlier:\n",
    "input_dataset = (\n",
    "    spark.read.parquet(data)\n",
    "    .persist()\n",
    ")\n",
    "\n",
    "# This dataset is grouped by pdb id to get all the compounds:\n",
    "data_to_look_up = (\n",
    "    input_dataset\n",
    "    .filter(col('ensembl_gene_id').startswith('ENSG'))\n",
    "    .groupby('pdb_structure_id')\n",
    "    .agg(collect_set(col('pdb_compound_id')))\n",
    "    .persist()\n",
    ")\n",
    "\n",
    "data_to_look_up.show()\n",
    "print(data_to_look_up.count())"
   ]
  },
  {
   "cell_type": "code",
   "execution_count": 30,
   "id": "f52367d0",
   "metadata": {
    "ExecuteTime": {
     "end_time": "2022-03-15T16:03:17.649960Z",
     "start_time": "2022-03-15T16:00:56.969300Z"
    },
    "scrolled": false
   },
   "outputs": [
    {
     "name": "stdout",
     "output_type": "stream",
     "text": [
      "Failed to fetch PDB structure: 4y14\n",
      "Failed to fetch PDB structure: 7ozy\n",
      "Failed to fetch PDB structure: 4cql\n",
      "Failed to fetch PDB structure: 4xol\n",
      "Failed to fetch PDB structure: 5dak\n",
      "Failed to fetch PDB structure: 5e83\n",
      "Failed to fetch PDB structure: 5em3\n",
      "Failed to fetch PDB structure: 5epz\n",
      "Failed to fetch PDB structure: 5gli\n",
      "Failed to fetch PDB structure: 5hou\n",
      "Failed to fetch PDB structure: 5j9x\n",
      "Failed to fetch PDB structure: 5l60\n",
      "Failed to fetch PDB structure: 6tks\n",
      "Failed to fetch PDB structure: 6wjd\n",
      "Failed to fetch PDB structure: 6zel\n",
      "Failed to fetch PDB structure: 6yjv\n",
      "Failed to fetch PDB structure: 6ts0\n",
      "Failed to fetch PDB structure: 7bfa\n",
      "Failed to fetch PDB structure: 6t8v\n",
      "Failed to fetch PDB structure: 6wov\n",
      "Failed to fetch PDB structure: 7l20\n",
      "Failed to fetch PDB structure: 4ug0\n",
      "Failed to fetch PDB structure: 7ai1\n"
     ]
    }
   ],
   "source": [
    "\n",
    "\n",
    "import urllib\n",
    "\n",
    "def fetch_pdb(pdbId: str) -> None:\n",
    "    \"\"\"This function fetches a single PDB structure from PDBEurope\n",
    "    \n",
    "    Args:\n",
    "        pdb_strcture_id: string, a single PDB structure identifier\n",
    "        folder: string, a folder to save the structure\n",
    "    \"\"\"\n",
    "    try:\n",
    "        urllib.request.urlretrieve(f'https://www.ebi.ac.uk/pdbe/static/entry/download/{pdbId}.header', f'./{pdbId}.pdb')\n",
    "    except:\n",
    "        # logging.warning(f'Failed to fetch PDB structure: {pdb_strcture_id}')\n",
    "        print(f'Failed to fetch PDB structure: {pdbId}')\n",
    "\n",
    "    \n",
    "\n",
    "@udf(IntegerType())\n",
    "def test_parser(pdbId):\n",
    "    try:\n",
    "        with open(f'{pdbId}.pdb', 'rt') as f:\n",
    "            lines = f.readlines()\n",
    "    except:\n",
    "        return 0\n",
    "\n",
    "    binding_sites_lines = filter(lambda line: line.startswith('REMARK 800') and ':' in line, lines)\n",
    "    return len([line for line in binding_sites_lines])\n",
    "\n",
    "\n",
    "# Download data:\n",
    "(\n",
    "    data_to_look_up\n",
    "    .limit(1000)\n",
    "    .toPandas()\n",
    "    .pdb_structure_id\n",
    "    .apply(fetch_pdb)\n",
    ")\n",
    "\n",
    "parsing_test = (\n",
    "    data_to_look_up\n",
    "    .limit(1000)\n",
    "    .withColumn('test', test_parser(col('pdb_structure_id')))\n",
    "    .persist()\n",
    ")"
   ]
  },
  {
   "cell_type": "code",
   "execution_count": 33,
   "id": "f55d8760",
   "metadata": {
    "ExecuteTime": {
     "end_time": "2022-03-15T16:05:52.595124Z",
     "start_time": "2022-03-15T16:05:52.528171Z"
    }
   },
   "outputs": [
    {
     "name": "stdout",
     "output_type": "stream",
     "text": [
      "+----------------+-------------------------------------------------------+----+\n",
      "|pdb_structure_id|collect_set(pdb_compound_id)                           |test|\n",
      "+----------------+-------------------------------------------------------+----+\n",
      "|1d5m            |[ALC]                                                  |0   |\n",
      "|1d6q            |[GOL]                                                  |0   |\n",
      "|1lq8            |[NDG, IPA]                                             |0   |\n",
      "|1t2v            |[SEP]                                                  |0   |\n",
      "|2b02            |[MSE]                                                  |0   |\n",
      "|2qki            |[GOL]                                                  |0   |\n",
      "|3jz2            |[GOL]                                                  |0   |\n",
      "|4lbo            |[SIA, BGC]                                             |0   |\n",
      "|4oc5            |[ZN]                                                   |0   |\n",
      "|5czx            |[EDO]                                                  |0   |\n",
      "|5f84            |[UDP, BGC]                                             |0   |\n",
      "|5goi            |[DSN, DAS, DGN, DPR, DLE, DSG, DGL, DLY, DPN, DTY, DAL]|0   |\n",
      "|5l0t            |[GOL, UDP]                                             |0   |\n",
      "|5o45            |[SAR, CCS]                                             |0   |\n",
      "|5ub5            |[UDP]                                                  |0   |\n",
      "|6ibx            |[DMS]                                                  |0   |\n",
      "|6iwr            |[UDP]                                                  |0   |\n",
      "|6nix            |[B3P]                                                  |0   |\n",
      "|6pok            |[GOL]                                                  |0   |\n",
      "|6qf7            |[PRO]                                                  |0   |\n",
      "+----------------+-------------------------------------------------------+----+\n",
      "only showing top 20 rows\n",
      "\n"
     ]
    }
   ],
   "source": [
    "(\n",
    "    parsing_test\n",
    "    .filter(col('test') == 0)\n",
    "    .show(truncate=False)\n",
    ")"
   ]
  },
  {
   "cell_type": "code",
   "execution_count": 26,
   "id": "f36ee0ca",
   "metadata": {
    "ExecuteTime": {
     "end_time": "2022-03-21T21:23:50.494067Z",
     "start_time": "2022-03-21T21:23:50.296023Z"
    }
   },
   "outputs": [
    {
     "name": "stdout",
     "output_type": "stream",
     "text": [
      "+---------------+--------+--------------+\n",
      "|lead_variant_id|study_id|tag_variant_id|\n",
      "+---------------+--------+--------------+\n",
      "|           var1| study_1|          var1|\n",
      "|           var1| study_1|          var2|\n",
      "|           var1| study_1|          var3|\n",
      "|           var4| study_1|          var4|\n",
      "|           var4| study_1|          var5|\n",
      "|           var6| study_1|          var6|\n",
      "|           var6| study_1|          var7|\n",
      "|           var6| study_1|          var8|\n",
      "|           var9| study_2|          var9|\n",
      "|           var9| study_2|          var2|\n",
      "|           var9| study_2|          var3|\n",
      "|          var10| study_3|          var4|\n",
      "|          var10| study_3|          var5|\n",
      "|          var10| study_3|         var10|\n",
      "|          var11| study_3|         var11|\n",
      "|          var11| study_3|          var2|\n",
      "+---------------+--------+--------------+\n",
      "\n"
     ]
    }
   ],
   "source": [
    "test_data = [\n",
    "    {\n",
    "        \"study_id\": \"study_1\",\n",
    "        \"tag_variant_id\": \"var1\",\n",
    "        \"lead_variant_id\": \"var1\",\n",
    "    },\n",
    "    {\n",
    "        \"study_id\": \"study_1\",\n",
    "        \"tag_variant_id\": \"var2\",\n",
    "        \"lead_variant_id\": \"var1\",\n",
    "    },\n",
    "    {\n",
    "        \"study_id\": \"study_1\",\n",
    "        \"tag_variant_id\": \"var3\",\n",
    "        \"lead_variant_id\": \"var1\",\n",
    "    },\n",
    "    {\n",
    "        \"study_id\": \"study_1\",\n",
    "        \"tag_variant_id\": \"var4\",\n",
    "        \"lead_variant_id\": \"var4\",\n",
    "    },\n",
    "    {\n",
    "        \"study_id\": \"study_1\",\n",
    "        \"tag_variant_id\": \"var5\",\n",
    "        \"lead_variant_id\": \"var4\",\n",
    "    },\n",
    "    {\n",
    "        \"study_id\": \"study_1\",\n",
    "        \"tag_variant_id\": \"var6\",\n",
    "        \"lead_variant_id\": \"var6\",\n",
    "    },\n",
    "    {\n",
    "        \"study_id\": \"study_1\",\n",
    "        \"tag_variant_id\": \"var7\",\n",
    "        \"lead_variant_id\": \"var6\",\n",
    "    },\n",
    "    {\n",
    "        \"study_id\": \"study_1\",\n",
    "        \"tag_variant_id\": \"var8\",\n",
    "        \"lead_variant_id\": \"var6\",\n",
    "    },\n",
    "#    \n",
    "#\n",
    "    {\n",
    "        \"study_id\": \"study_2\",\n",
    "        \"tag_variant_id\": \"var9\",\n",
    "        \"lead_variant_id\": \"var9\",\n",
    "    },\n",
    "    {\n",
    "        \"study_id\": \"study_2\",\n",
    "        \"tag_variant_id\": \"var2\",\n",
    "        \"lead_variant_id\": \"var9\",\n",
    "    },\n",
    "    {\n",
    "        \"study_id\": \"study_2\",\n",
    "        \"tag_variant_id\": \"var3\",\n",
    "        \"lead_variant_id\": \"var9\",\n",
    "    },\n",
    "#\n",
    "#\n",
    "    {\n",
    "        \"study_id\": \"study_3\",\n",
    "        \"tag_variant_id\": \"var4\",\n",
    "        \"lead_variant_id\": \"var10\",\n",
    "    },\n",
    "    {\n",
    "        \"study_id\": \"study_3\",\n",
    "        \"tag_variant_id\": \"var5\",\n",
    "        \"lead_variant_id\": \"var10\",\n",
    "    },\n",
    "    {\n",
    "        \"study_id\": \"study_3\",\n",
    "        \"tag_variant_id\": \"var10\",\n",
    "        \"lead_variant_id\": \"var10\",\n",
    "    },\n",
    "    {\n",
    "        \"study_id\": \"study_3\",\n",
    "        \"tag_variant_id\": \"var11\",\n",
    "        \"lead_variant_id\": \"var11\",\n",
    "    },\n",
    "    {\n",
    "        \"study_id\": \"study_3\",\n",
    "        \"tag_variant_id\": \"var2\",\n",
    "        \"lead_variant_id\": \"var11\",\n",
    "    },\n",
    "]\n",
    "\n",
    "df = (\n",
    "    spark.createDataFrame(test_data)\n",
    "    .persist()\n",
    ")\n",
    "\n",
    "df.show(40)"
   ]
  },
  {
   "cell_type": "code",
   "execution_count": 28,
   "id": "4cf9baa0",
   "metadata": {
    "ExecuteTime": {
     "end_time": "2022-03-21T21:23:59.633209Z",
     "start_time": "2022-03-21T21:23:59.113211Z"
    }
   },
   "outputs": [
    {
     "name": "stdout",
     "output_type": "stream",
     "text": [
      "+--------------------+-------------+---------------------+--------------+\n",
      "|lead_variant_id_left|study_id_left|lead_variant_id_right|study_id_right|\n",
      "+--------------------+-------------+---------------------+--------------+\n",
      "|                var9|      study_2|                 var1|       study_1|\n",
      "|                var4|      study_1|                var10|       study_3|\n",
      "|               var11|      study_3|                 var1|       study_1|\n",
      "|                var9|      study_2|                var11|       study_3|\n",
      "+--------------------+-------------+---------------------+--------------+\n",
      "\n"
     ]
    }
   ],
   "source": [
    "columns = ['study_id', 'lead_variant_id']\n",
    "\n",
    "# Creating the two dataset to be joined:\n",
    "left_df = reduce(lambda DF, col: DF.withColumnRenamed(col, col+'_left'), columns, df)\n",
    "right_df = reduce(lambda DF, col: DF.withColumnRenamed(col, col+'_right'), columns, df)\n",
    "\n",
    "\n",
    "overlapping_signals = (\n",
    "    left_df\n",
    "    .join(right_df, on='tag_variant_id', how='inner')\n",
    "    .filter(col('study_id_right') != col('study_id_left'))\n",
    "    .filter(col('lead_variant_id_left') > col('lead_variant_id_right'))\n",
    "    .drop('tag_variant_id')\n",
    "    .distinct()\n",
    "    .persist()\n",
    ")\n",
    "\n",
    "overlapping_signals.show()"
   ]
  },
  {
   "cell_type": "code",
   "execution_count": 32,
   "id": "3da93f28",
   "metadata": {
    "ExecuteTime": {
     "end_time": "2022-03-21T21:28:02.934984Z",
     "start_time": "2022-03-21T21:28:02.562051Z"
    }
   },
   "outputs": [
    {
     "name": "stdout",
     "output_type": "stream",
     "text": [
      "+---------------------+--------------------+-------------+--------------+-------------+-------------------+--------------+--------------------+\n",
      "|lead_variant_id_right|lead_variant_id_left|study_id_left|study_id_right|study_id_left|tag_variant_id_left|study_id_right|tag_variant_id_right|\n",
      "+---------------------+--------------------+-------------+--------------+-------------+-------------------+--------------+--------------------+\n",
      "|                var10|                var4|      study_1|       study_3|      study_1|               var4|       study_3|               var10|\n",
      "|                var10|                var4|      study_1|       study_3|      study_1|               var4|       study_3|                var5|\n",
      "|                var10|                var4|      study_1|       study_3|      study_1|               var4|       study_3|                var4|\n",
      "|                var10|                var4|      study_1|       study_3|      study_1|               var5|       study_3|               var10|\n",
      "|                var10|                var4|      study_1|       study_3|      study_1|               var5|       study_3|                var5|\n",
      "|                var10|                var4|      study_1|       study_3|      study_1|               var5|       study_3|                var4|\n",
      "|                var11|                var9|      study_2|       study_3|      study_2|               var9|       study_3|                var2|\n",
      "|                var11|                var9|      study_2|       study_3|      study_2|               var9|       study_3|               var11|\n",
      "|                 var1|                var9|      study_2|       study_1|      study_2|               var9|       study_1|                var3|\n",
      "|                 var1|                var9|      study_2|       study_1|      study_2|               var9|       study_1|                var2|\n",
      "|                 var1|                var9|      study_2|       study_1|      study_2|               var9|       study_1|                var1|\n",
      "|                var11|                var9|      study_2|       study_3|      study_2|               var2|       study_3|                var2|\n",
      "|                var11|                var9|      study_2|       study_3|      study_2|               var2|       study_3|               var11|\n",
      "|                 var1|                var9|      study_2|       study_1|      study_2|               var2|       study_1|                var3|\n",
      "|                 var1|                var9|      study_2|       study_1|      study_2|               var2|       study_1|                var2|\n",
      "|                 var1|                var9|      study_2|       study_1|      study_2|               var2|       study_1|                var1|\n",
      "|                var11|                var9|      study_2|       study_3|      study_2|               var3|       study_3|                var2|\n",
      "|                var11|                var9|      study_2|       study_3|      study_2|               var3|       study_3|               var11|\n",
      "|                 var1|                var9|      study_2|       study_1|      study_2|               var3|       study_1|                var3|\n",
      "|                 var1|                var9|      study_2|       study_1|      study_2|               var3|       study_1|                var2|\n",
      "|                 var1|                var9|      study_2|       study_1|      study_2|               var3|       study_1|                var1|\n",
      "|                 var1|               var11|      study_3|       study_1|      study_3|              var11|       study_1|                var3|\n",
      "|                 var1|               var11|      study_3|       study_1|      study_3|              var11|       study_1|                var2|\n",
      "|                 var1|               var11|      study_3|       study_1|      study_3|              var11|       study_1|                var1|\n",
      "|                 var1|               var11|      study_3|       study_1|      study_3|               var2|       study_1|                var3|\n",
      "|                 var1|               var11|      study_3|       study_1|      study_3|               var2|       study_1|                var2|\n",
      "|                 var1|               var11|      study_3|       study_1|      study_3|               var2|       study_1|                var1|\n",
      "+---------------------+--------------------+-------------+--------------+-------------+-------------------+--------------+--------------------+\n",
      "\n"
     ]
    }
   ],
   "source": [
    "(\n",
    "    overlapping_signals\n",
    "    .join(left_df.withColumnRenamed('tag_variant_id', 'tag_variant_id_left'), on='lead_variant_id_left', how='inner')\n",
    "    .join(right_df.withColumnRenamed('tag_variant_id', 'tag_variant_id_right'), on='lead_variant_id_right', how='inner')\n",
    "    .show(30)\n",
    ")"
   ]
  },
  {
   "cell_type": "code",
   "execution_count": null,
   "id": "85ed2de2",
   "metadata": {},
   "outputs": [],
   "source": []
  }
 ],
 "metadata": {
  "kernelspec": {
   "display_name": "Python 3",
   "language": "python",
   "name": "python3"
  },
  "language_info": {
   "codemirror_mode": {
    "name": "ipython",
    "version": 3
   },
   "file_extension": ".py",
   "mimetype": "text/x-python",
   "name": "python",
   "nbconvert_exporter": "python",
   "pygments_lexer": "ipython3",
   "version": "3.9.5"
  }
 },
 "nbformat": 4,
 "nbformat_minor": 5
}
