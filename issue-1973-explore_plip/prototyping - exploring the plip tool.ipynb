{
 "cells": [
  {
   "cell_type": "code",
   "execution_count": 1,
   "id": "a19361bd",
   "metadata": {},
   "outputs": [
    {
     "data": {
      "text/plain": [
       "2"
      ]
     },
     "execution_count": 1,
     "metadata": {},
     "output_type": "execute_result"
    }
   ],
   "source": []
  },
  {
   "cell_type": "code",
   "execution_count": 11,
   "id": "80ddd02b",
   "metadata": {},
   "outputs": [],
   "source": [
    "from plip.structure.preparation import PDBComplex\n",
    "import requests\n",
    "import pandas as pd\n",
    "\n",
    "\n",
    "def fetch_pdb(pdb_structure_id: str)-> str:\n",
    "    \"\"\"This function fetches the pdb file from ePDB server as a string\n",
    "    \n",
    "    Args:\n",
    "        pdb_structure_id (str)\n",
    "    Returns:\n",
    "        structure data in pdb format as string\n",
    "    \"\"\"\n",
    "    if not pdb_structure_id:\n",
    "        return ''\n",
    "    \n",
    "    url = f'https://www.ebi.ac.uk/pdbe/entry-files/download/pdb{pdb_structure_id}.ent'\n",
    "    \n",
    "    try:\n",
    "        response = requests.get(url)\n",
    "        data = response.text\n",
    "    except ConnectionError:\n",
    "        data = ''\n",
    "        \n",
    "    return data\n",
    "\n",
    "# my_mol = PDBComplex()\n",
    "# my_mol.load_pdb('/tmp/1EVE.pdb') # Load the PDB file into PLIP class\n",
    "# print(my_mol) # Shows name of structure and ligand binding sites\n",
    "# my_bsid = 'E20:A:2001' # Unique binding site identifier (HetID:Chain:Position)\n",
    "# my_mol.analyze()\n",
    "# my_interactions = my_mol.interaction_sets[my_bsid] # Contains all interaction data\n",
    "\n",
    "# # Now print numbers of all residues taking part in pi-stacking\n",
    "# print([pistack.resnr for pistack in my_interactions.pistacking]) # Prints [84, 129]"
   ]
  },
  {
   "cell_type": "code",
   "execution_count": 57,
   "id": "c56b19ae",
   "metadata": {},
   "outputs": [
    {
     "ename": "KeyError",
     "evalue": "'AIN:A:1202'",
     "output_type": "error",
     "traceback": [
      "\u001b[0;31m---------------------------------------------------------------------------\u001b[0m",
      "\u001b[0;31mKeyError\u001b[0m                                  Traceback (most recent call last)",
      "\u001b[0;32m/var/folders/gr/q7cf7ljx2ss8b5cgvycxn9yxz2wxjr/T/ipykernel_70318/2661401763.py\u001b[0m in \u001b[0;36m<cell line: 30>\u001b[0;34m()\u001b[0m\n\u001b[1;32m     28\u001b[0m \u001b[0;31m# Extract data in the right shape:\u001b[0m\u001b[0;34m\u001b[0m\u001b[0;34m\u001b[0m\u001b[0m\n\u001b[1;32m     29\u001b[0m (\n\u001b[0;32m---> 30\u001b[0;31m     \u001b[0mpd\u001b[0m\u001b[0;34m.\u001b[0m\u001b[0mDataFrame\u001b[0m\u001b[0;34m(\u001b[0m\u001b[0;34m[\u001b[0m\u001b[0mx\u001b[0m\u001b[0;34m.\u001b[0m\u001b[0m_asdict\u001b[0m\u001b[0;34m(\u001b[0m\u001b[0;34m)\u001b[0m \u001b[0;32mfor\u001b[0m \u001b[0mx\u001b[0m \u001b[0;32min\u001b[0m \u001b[0mmol_complex\u001b[0m\u001b[0;34m.\u001b[0m\u001b[0minteraction_sets\u001b[0m\u001b[0;34m[\u001b[0m\u001b[0;34m'AIN:A:1202'\u001b[0m\u001b[0;34m]\u001b[0m\u001b[0;34m.\u001b[0m\u001b[0mall_itypes\u001b[0m\u001b[0;34m]\u001b[0m\u001b[0;34m)\u001b[0m\u001b[0;34m\u001b[0m\u001b[0;34m\u001b[0m\u001b[0m\n\u001b[0m\u001b[1;32m     31\u001b[0m     \u001b[0;34m[\u001b[0m\u001b[0minteraction_columns\u001b[0m\u001b[0;34m.\u001b[0m\u001b[0mkeys\u001b[0m\u001b[0;34m(\u001b[0m\u001b[0;34m)\u001b[0m\u001b[0;34m]\u001b[0m\u001b[0;34m\u001b[0m\u001b[0;34m\u001b[0m\u001b[0m\n\u001b[1;32m     32\u001b[0m     \u001b[0;34m.\u001b[0m\u001b[0mrename\u001b[0m\u001b[0;34m(\u001b[0m\u001b[0mcolumns\u001b[0m\u001b[0;34m=\u001b[0m\u001b[0minteraction_columns\u001b[0m\u001b[0;34m)\u001b[0m\u001b[0;34m\u001b[0m\u001b[0;34m\u001b[0m\u001b[0m\n",
      "\u001b[0;31mKeyError\u001b[0m: 'AIN:A:1202'"
     ]
    }
   ],
   "source": [
    "pdb_structure_id = '1ed4'\n",
    "pdb_compound_id = 'IPU'\n",
    "\n",
    "# Columns of interest:\n",
    "interaction_columns = {\n",
    "    'a_orig_idx': 'acceptor_index',\n",
    "    'd_orig_idx': 'donor_index',\n",
    "    'type': 'type',\n",
    "    'resnr': 'residue_number',\n",
    "    'restype': 'resitude_type', \n",
    "    'reschain': 'residue_chain',\n",
    "    'restype_l': 'pdb_compound_id'\n",
    "}\n",
    "\n",
    "# Managing complex:\n",
    "mol_complex = PDBComplex()\n",
    "\n",
    "# Fetch and load structure:\n",
    "pdb_string = fetch_pdb(pdb_structure_id)\n",
    "mol_complex.load_pdb(pdb_string, as_string=True)\n",
    "\n",
    "# Filtering out only the relevant ligands:\n",
    "ligands_of_interest = [ligand for ligand in mol_complex.ligands if ligand.hetid == pdb_compound_id ]\n",
    "\n",
    "# Characterizing relevant complex:\n",
    "[mol_complex.characterize_complex(ligand) for ligand in ligands_of_interest]\n",
    "\n",
    "# Extract data in the right shape:\n",
    "(\n",
    "    pd.DataFrame([x._asdict() for x in mol_complex.interaction_sets['AIN:A:1202'].all_itypes])\n",
    "    [interaction_columns.keys()]\n",
    "    .rename(columns=interaction_columns)\n",
    ")"
   ]
  },
  {
   "cell_type": "code",
   "execution_count": 88,
   "id": "d2980bf4",
   "metadata": {},
   "outputs": [],
   "source": [
    "interactions = []\n",
    "for molecule, interaction_set in mol_complex.interaction_sets.items():\n",
    "    if pdb_compound_id not in molecule:\n",
    "        continue\n",
    "\n",
    "    interactions += [interaction._asdict() for interaction in interaction_set.all_itypes]\n",
    "\n",
    "df = (\n",
    "    pd.DataFrame(interactions)\n",
    "#     [interaction_columns.keys()]\n",
    "#     .rename(columns=interaction_columns)\n",
    ")\n"
   ]
  },
  {
   "cell_type": "code",
   "execution_count": 89,
   "id": "f993d0fb",
   "metadata": {},
   "outputs": [
    {
     "data": {
      "text/plain": [
       "Index(['a', 'a_orig_idx', 'd', 'd_orig_idx', 'h', 'distance_ah', 'distance_ad',\n",
       "       'angle', 'type', 'protisdon', 'resnr', 'restype', 'reschain', 'resnr_l',\n",
       "       'restype_l', 'reschain_l', 'sidechain', 'atype', 'dtype', 'bsatom',\n",
       "       'bsatom_orig_idx', 'ligatom', 'ligatom_orig_idx', 'distance', 'water',\n",
       "       'water_orig_idx', 'distance_aw', 'distance_dw', 'd_angle', 'w_angle'],\n",
       "      dtype='object')"
      ]
     },
     "execution_count": 89,
     "metadata": {},
     "output_type": "execute_result"
    }
   ],
   "source": [
    "df.columns"
   ]
  },
  {
   "cell_type": "code",
   "execution_count": 92,
   "id": "0651ded6",
   "metadata": {},
   "outputs": [
    {
     "data": {
      "text/plain": [
       "[hbond(a=<openbabel.pybel.Atom object at 0x168229700>, a_orig_idx=2354, d=<openbabel.pybel.Atom object at 0x16866afd0>, d_orig_idx=6654, h=<openbabel.pybel.Atom object at 0x16866edf0>, distance_ah=1.7314022722175801, distance_ad=2.714410801628963, angle=176.04977730747, type='strong', protisdon=False, resnr=363, restype='GLU', reschain='A', resnr_l=1830, restype_l='IPU', reschain_l='A', sidechain=True, atype='O2', dtype='Ng+')]"
      ]
     },
     "execution_count": 92,
     "metadata": {},
     "output_type": "execute_result"
    }
   ],
   "source": [
    "mol_complex.interaction_sets['IPU:A:1830'].hbonds_ldon #all_itypes[0]._asdict()"
   ]
  },
  {
   "cell_type": "code",
   "execution_count": 81,
   "id": "3e62dc13",
   "metadata": {},
   "outputs": [
    {
     "data": {
      "text/plain": [
       "str"
      ]
     },
     "execution_count": 81,
     "metadata": {},
     "output_type": "execute_result"
    }
   ],
   "source": []
  },
  {
   "cell_type": "code",
   "execution_count": null,
   "id": "2e951d5c",
   "metadata": {},
   "outputs": [],
   "source": []
  }
 ],
 "metadata": {
  "kernelspec": {
   "display_name": "Python 3 (ipykernel)",
   "language": "python",
   "name": "python3"
  },
  "language_info": {
   "codemirror_mode": {
    "name": "ipython",
    "version": 3
   },
   "file_extension": ".py",
   "mimetype": "text/x-python",
   "name": "python",
   "nbconvert_exporter": "python",
   "pygments_lexer": "ipython3",
   "version": "3.9.10"
  }
 },
 "nbformat": 4,
 "nbformat_minor": 5
}
