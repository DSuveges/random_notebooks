{
 "cells": [
  {
   "cell_type": "code",
   "execution_count": 8,
   "id": "b28ff4d3",
   "metadata": {
    "ExecuteTime": {
     "end_time": "2022-03-09T12:27:22.323181Z",
     "start_time": "2022-03-09T12:27:02.949896Z"
    }
   },
   "outputs": [],
   "source": [
    "from plip.structure.preparation import PDBComplex, Ligand\n",
    "import requests\n",
    "import pandas as pd\n",
    "\n"
   ]
  },
  {
   "cell_type": "code",
   "execution_count": 3,
   "id": "80ddd02b",
   "metadata": {
    "ExecuteTime": {
     "end_time": "2022-03-07T22:31:57.353433Z",
     "start_time": "2022-03-07T22:31:57.343367Z"
    }
   },
   "outputs": [],
   "source": [
    "import json\n",
    "from json import JSONDecodeError\n",
    "\n",
    "import requests\n",
    "from functools import reduce\n",
    "import pandas as pd\n",
    "from pyspark.sql.functions import (\n",
    "    col, udf, struct, lit, split, expr, collect_set, struct, \n",
    "    regexp_replace, min as pyspark_min, explode, when,\n",
    "    array_contains, count, first, element_at, size, sum as pyspark_sum\n",
    ")\n",
    "from pyspark.sql.types import FloatType, ArrayType, StructType, StructField, BooleanType, StringType\n",
    "from pyspark.sql import SparkSession\n",
    "from pyspark.conf import SparkConf\n",
    "from collections import defaultdict\n",
    "\n",
    "# establish spark connection\n",
    "spark = (\n",
    "    SparkSession.builder\n",
    "    .master('local[*]')\n",
    "    .getOrCreate()\n",
    ")\n",
    "\n",
    "\n",
    "\n",
    "def get_ligand_identifier(ligand) -> str:\n",
    "    \"\"\"For a ligand object it parses the ligand identifier\n",
    "    \n",
    "    Args:\n",
    "        ligands: plip ligand object\n",
    "    Returns:\n",
    "        ligand identifier eg. \n",
    "    \"\"\"\n",
    "    \n",
    "    return f'{ligand.hetid}:{ligand.chain}:{ligand.position}'\n",
    "\n",
    "\n",
    "def fetch_pdb(pdb_structure_id: str)-> str:\n",
    "    \"\"\"This function fetches the pdb file from ePDB server as a string\n",
    "    \n",
    "    Args:\n",
    "        pdb_structure_id (str)\n",
    "    Returns:\n",
    "        structure data in pdb format as string eg 'AIN:A:1202'\n",
    "    \"\"\"\n",
    "    if not pdb_structure_id:\n",
    "        return ''\n",
    "    \n",
    "    url = f'https://www.ebi.ac.uk/pdbe/entry-files/download/pdb{pdb_structure_id}.ent'\n",
    "    \n",
    "    try:\n",
    "        response = requests.get(url)\n",
    "        data = response.text\n",
    "    except ConnectionError:\n",
    "        data = ''\n",
    "        \n",
    "    return data\n"
   ]
  },
  {
   "cell_type": "markdown",
   "id": "78b24bb4",
   "metadata": {},
   "source": [
    "## Fetching structure from web"
   ]
  },
  {
   "cell_type": "code",
   "execution_count": 9,
   "id": "c56b19ae",
   "metadata": {
    "ExecuteTime": {
     "end_time": "2022-03-09T12:28:12.401933Z",
     "start_time": "2022-03-09T12:28:10.459649Z"
    }
   },
   "outputs": [
    {
     "ename": "KeyError",
     "evalue": "'AIN:A:1202'",
     "output_type": "error",
     "traceback": [
      "\u001b[0;31m---------------------------------------------------------------------------\u001b[0m",
      "\u001b[0;31mKeyError\u001b[0m                                  Traceback (most recent call last)",
      "\u001b[0;32m<ipython-input-9-bef86919a4c4>\u001b[0m in \u001b[0;36m<module>\u001b[0;34m\u001b[0m\n\u001b[1;32m     28\u001b[0m \u001b[0;31m# Extract data in the right shape:\u001b[0m\u001b[0;34m\u001b[0m\u001b[0;34m\u001b[0m\u001b[0;34m\u001b[0m\u001b[0m\n\u001b[1;32m     29\u001b[0m (\n\u001b[0;32m---> 30\u001b[0;31m     \u001b[0mpd\u001b[0m\u001b[0;34m.\u001b[0m\u001b[0mDataFrame\u001b[0m\u001b[0;34m(\u001b[0m\u001b[0;34m[\u001b[0m\u001b[0mx\u001b[0m\u001b[0;34m.\u001b[0m\u001b[0m_asdict\u001b[0m\u001b[0;34m(\u001b[0m\u001b[0;34m)\u001b[0m \u001b[0;32mfor\u001b[0m \u001b[0mx\u001b[0m \u001b[0;32min\u001b[0m \u001b[0mmol_complex\u001b[0m\u001b[0;34m.\u001b[0m\u001b[0minteraction_sets\u001b[0m\u001b[0;34m[\u001b[0m\u001b[0;34m'AIN:A:1202'\u001b[0m\u001b[0;34m]\u001b[0m\u001b[0;34m.\u001b[0m\u001b[0mall_itypes\u001b[0m\u001b[0;34m]\u001b[0m\u001b[0;34m)\u001b[0m\u001b[0;34m\u001b[0m\u001b[0;34m\u001b[0m\u001b[0m\n\u001b[0m\u001b[1;32m     31\u001b[0m     \u001b[0;34m[\u001b[0m\u001b[0minteraction_columns\u001b[0m\u001b[0;34m.\u001b[0m\u001b[0mkeys\u001b[0m\u001b[0;34m(\u001b[0m\u001b[0;34m)\u001b[0m\u001b[0;34m]\u001b[0m\u001b[0;34m\u001b[0m\u001b[0;34m\u001b[0m\u001b[0m\n\u001b[1;32m     32\u001b[0m     \u001b[0;34m.\u001b[0m\u001b[0mrename\u001b[0m\u001b[0;34m(\u001b[0m\u001b[0mcolumns\u001b[0m\u001b[0;34m=\u001b[0m\u001b[0minteraction_columns\u001b[0m\u001b[0;34m)\u001b[0m\u001b[0;34m\u001b[0m\u001b[0;34m\u001b[0m\u001b[0m\n",
      "\u001b[0;31mKeyError\u001b[0m: 'AIN:A:1202'"
     ]
    }
   ],
   "source": [
    "pdb_structure_id = '1ed4'\n",
    "pdb_compound_id = 'IPU'\n",
    "\n",
    "# Columns of interest:\n",
    "interaction_columns = {\n",
    "    'a_orig_idx': 'acceptor_index',\n",
    "    'd_orig_idx': 'donor_index',\n",
    "    'type': 'type',\n",
    "    'resnr': 'residue_number',\n",
    "    'restype': 'resitude_type', \n",
    "    'reschain': 'residue_chain',\n",
    "    'restype_l': 'pdb_compound_id'\n",
    "}\n",
    "\n",
    "# Managing complex:\n",
    "mol_complex = PDBComplex()\n",
    "\n",
    "# Fetch and load structure:\n",
    "pdb_string = fetch_pdb(pdb_structure_id)\n",
    "mol_complex.load_pdb(pdb_string, as_string=True)\n",
    "\n",
    "# Filtering out only the relevant ligands:\n",
    "ligands_of_interest = [ligand for ligand in mol_complex.ligands if ligand.hetid == pdb_compound_id ]\n",
    "\n",
    "# Characterizing relevant complex:\n",
    "[mol_complex.characterize_complex(ligand) for ligand in ligands_of_interest]\n",
    "\n",
    "# Extract data in the right shape:\n",
    "(\n",
    "    pd.DataFrame([x._asdict() for x in mol_complex.interaction_sets['AIN:A:1202'].all_itypes])\n",
    "    [interaction_columns.keys()]\n",
    "    .rename(columns=interaction_columns)\n",
    ")"
   ]
  },
  {
   "cell_type": "code",
   "execution_count": 7,
   "id": "d2980bf4",
   "metadata": {
    "ExecuteTime": {
     "end_time": "2022-03-09T05:12:45.241941Z",
     "start_time": "2022-03-09T05:12:45.227081Z"
    }
   },
   "outputs": [
    {
     "ename": "NameError",
     "evalue": "name 'mol_complex' is not defined",
     "output_type": "error",
     "traceback": [
      "\u001b[0;31m---------------------------------------------------------------------------\u001b[0m",
      "\u001b[0;31mNameError\u001b[0m                                 Traceback (most recent call last)",
      "\u001b[0;32m<ipython-input-7-f2f4389f0fb7>\u001b[0m in \u001b[0;36m<module>\u001b[0;34m\u001b[0m\n\u001b[1;32m      1\u001b[0m \u001b[0minteractions\u001b[0m \u001b[0;34m=\u001b[0m \u001b[0;34m[\u001b[0m\u001b[0;34m]\u001b[0m\u001b[0;34m\u001b[0m\u001b[0;34m\u001b[0m\u001b[0m\n\u001b[0;32m----> 2\u001b[0;31m \u001b[0;32mfor\u001b[0m \u001b[0mmolecule\u001b[0m\u001b[0;34m,\u001b[0m \u001b[0minteraction_set\u001b[0m \u001b[0;32min\u001b[0m \u001b[0mmol_complex\u001b[0m\u001b[0;34m.\u001b[0m\u001b[0minteraction_sets\u001b[0m\u001b[0;34m.\u001b[0m\u001b[0mitems\u001b[0m\u001b[0;34m(\u001b[0m\u001b[0;34m)\u001b[0m\u001b[0;34m:\u001b[0m\u001b[0;34m\u001b[0m\u001b[0;34m\u001b[0m\u001b[0m\n\u001b[0m\u001b[1;32m      3\u001b[0m     \u001b[0;32mif\u001b[0m \u001b[0mpdb_compound_id\u001b[0m \u001b[0;32mnot\u001b[0m \u001b[0;32min\u001b[0m \u001b[0mmolecule\u001b[0m\u001b[0;34m:\u001b[0m\u001b[0;34m\u001b[0m\u001b[0;34m\u001b[0m\u001b[0m\n\u001b[1;32m      4\u001b[0m         \u001b[0;32mcontinue\u001b[0m\u001b[0;34m\u001b[0m\u001b[0;34m\u001b[0m\u001b[0m\n\u001b[1;32m      5\u001b[0m \u001b[0;34m\u001b[0m\u001b[0m\n",
      "\u001b[0;31mNameError\u001b[0m: name 'mol_complex' is not defined"
     ]
    }
   ],
   "source": [
    "interactions = []\n",
    "for molecule, interaction_set in mol_complex.interaction_sets.items():\n",
    "    if pdb_compound_id not in molecule:\n",
    "        continue\n",
    "\n",
    "    interactions += [interaction._asdict() for interaction in interaction_set.all_itypes]\n",
    "\n",
    "df = (\n",
    "    pd.DataFrame(interactions)\n",
    "    [interaction_columns.keys()]\n",
    "    .rename(columns=interaction_columns)\n",
    ")\n",
    "\n",
    "df"
   ]
  },
  {
   "cell_type": "code",
   "execution_count": 6,
   "id": "f993d0fb",
   "metadata": {
    "ExecuteTime": {
     "end_time": "2022-03-06T20:50:21.346019Z",
     "start_time": "2022-03-06T20:50:21.338013Z"
    }
   },
   "outputs": [
    {
     "ename": "NameError",
     "evalue": "name 'pyspark' is not defined",
     "output_type": "error",
     "traceback": [
      "\u001b[0;31m---------------------------------------------------------------------------\u001b[0m",
      "\u001b[0;31mNameError\u001b[0m                                 Traceback (most recent call last)",
      "\u001b[0;32m<ipython-input-6-14e7d2ab9523>\u001b[0m in \u001b[0;36m<module>\u001b[0;34m\u001b[0m\n\u001b[0;32m----> 1\u001b[0;31m \u001b[0mpyspark\u001b[0m\u001b[0;34m.\u001b[0m\u001b[0m__version__\u001b[0m\u001b[0;34m\u001b[0m\u001b[0;34m\u001b[0m\u001b[0m\n\u001b[0m",
      "\u001b[0;31mNameError\u001b[0m: name 'pyspark' is not defined"
     ]
    }
   ],
   "source": [
    "pyspark.__version__"
   ]
  },
  {
   "cell_type": "code",
   "execution_count": 92,
   "id": "0651ded6",
   "metadata": {},
   "outputs": [
    {
     "data": {
      "text/plain": [
       "[hbond(a=<openbabel.pybel.Atom object at 0x168229700>, a_orig_idx=2354, d=<openbabel.pybel.Atom object at 0x16866afd0>, d_orig_idx=6654, h=<openbabel.pybel.Atom object at 0x16866edf0>, distance_ah=1.7314022722175801, distance_ad=2.714410801628963, angle=176.04977730747, type='strong', protisdon=False, resnr=363, restype='GLU', reschain='A', resnr_l=1830, restype_l='IPU', reschain_l='A', sidechain=True, atype='O2', dtype='Ng+')]"
      ]
     },
     "execution_count": 92,
     "metadata": {},
     "output_type": "execute_result"
    }
   ],
   "source": [
    "mol_complex.interaction_sets['IPU:A:1830'].hbonds_ldon #all_itypes[0]._asdict()"
   ]
  },
  {
   "cell_type": "markdown",
   "id": "05f28c51",
   "metadata": {},
   "source": [
    "## Reading structure for file"
   ]
  },
  {
   "cell_type": "code",
   "execution_count": 3,
   "id": "2e951d5c",
   "metadata": {},
   "outputs": [],
   "source": [
    "pdb_compound_id = 'AIN'\n",
    "pdb_structure_id = '3iaz'\n",
    "\n",
    "pdb_file = f'/Users/dsuveges/Downloads/pdb{pdb_structure_id}.ent'\n",
    "pdb_file = '/Users/dsuveges/project_data//pdb2qqt.ent'\n",
    "\n",
    "# Managing complex:\n",
    "mol_complex = PDBComplex()\n",
    "\n",
    "# Fetch and load structure:\n",
    "mol_complex.load_pdb(pdb_file)\n"
   ]
  },
  {
   "cell_type": "code",
   "execution_count": 7,
   "id": "6cc635e9",
   "metadata": {},
   "outputs": [
    {
     "data": {
      "text/plain": [
       "[None]"
      ]
     },
     "execution_count": 7,
     "metadata": {},
     "output_type": "execute_result"
    }
   ],
   "source": [
    "# Filtering out only the relevant ligands:\n",
    "ligands_of_interest = [ligand for ligand in mol_complex.ligands if ligand.hetid == pdb_compound_id ]\n",
    "\n",
    "# Characterizing relevant complex:\n",
    "[mol_complex.characterize_complex(ligand) for ligand in ligands_of_interest]\n",
    "\n",
    "# Extract data in the right shape:\n",
    "# (\n",
    "#     pd.DataFrame([x._asdict() for x in mol_complex.interaction_sets['AIN:A:1202'].all_itypes])\n",
    "#     [interaction_columns.keys()]\n",
    "#     .rename(columns=interaction_columns)\n",
    "# )"
   ]
  },
  {
   "cell_type": "code",
   "execution_count": 46,
   "id": "9dcc21a6",
   "metadata": {
    "ExecuteTime": {
     "end_time": "2022-03-09T14:03:55.308292Z",
     "start_time": "2022-03-09T14:03:55.301373Z"
    }
   },
   "outputs": [
    {
     "name": "stdout",
     "output_type": "stream",
     "text": [
      "Atom: 8 (3.81 13.30 33.95)\n",
      "Atom: 7 (5.28 3.68 56.83)\n",
      "Atom: 7 (2.54 5.86 55.48)\n",
      "Atom: 7 (3.38 5.17 53.45)\n",
      "Atom: 8 (7.45 9.76 45.23)\n",
      "Atom: 7 (8.98 12.19 43.45)\n",
      "Atom: 8 (-1.69 11.79 63.75)\n"
     ]
    },
    {
     "data": {
      "text/plain": [
       "[None, None, None, None, None, None, None]"
      ]
     },
     "execution_count": 46,
     "metadata": {},
     "output_type": "execute_result"
    }
   ],
   "source": [
    "parsed_interaction_list = [interaction._asdict() for interaction_set in mol_complex.interaction_sets.values() for interaction in interaction_set.all_itypes]\n",
    "# spark.createDataFrame(parsed_interaction_list).show()\n",
    "[print(x['a']) for x in parsed_interaction_list if 'a' in x]\n",
    "\n"
   ]
  },
  {
   "cell_type": "code",
   "execution_count": 43,
   "id": "edccc5c3",
   "metadata": {
    "ExecuteTime": {
     "end_time": "2022-03-09T13:57:09.438114Z",
     "start_time": "2022-03-09T13:57:09.433319Z"
    }
   },
   "outputs": [
    {
     "data": {
      "text/plain": [
       "<plip.structure.preparation.PLInteraction at 0x165878fa0>"
      ]
     },
     "execution_count": 43,
     "metadata": {},
     "output_type": "execute_result"
    }
   ],
   "source": [
    "interaction_set = list(mol_complex.interaction_sets.values())[0]\n",
    "interaction_set.all_itypes"
   ]
  },
  {
   "cell_type": "code",
   "execution_count": 142,
   "id": "646b4b1b",
   "metadata": {},
   "outputs": [
    {
     "data": {
      "text/plain": [
       "plip.structure.preparation.ligand"
      ]
     },
     "execution_count": 142,
     "metadata": {},
     "output_type": "execute_result"
    }
   ],
   "source": [
    "type(mol_complex.ligands[1])"
   ]
  },
  {
   "cell_type": "code",
   "execution_count": 48,
   "id": "87828773",
   "metadata": {
    "ExecuteTime": {
     "end_time": "2022-03-10T18:15:55.009195Z",
     "start_time": "2022-03-10T18:15:54.387015Z"
    }
   },
   "outputs": [
    {
     "name": "stdout",
     "output_type": "stream",
     "text": [
      "+-------------+-------+----------+---------+--------------------+---------------+---------------+\n",
      "|    chembl_id|example|hasDisease|hasTarget|                name|pdb_compound_id|structure_count|\n",
      "+-------------+-------+----------+---------+--------------------+---------------+---------------+\n",
      "|CHEMBL1231606|   3c4f|     false|    false|       CHEMBL1231606|            C4F|              1|\n",
      "|CHEMBL1236282|   2jkj|     false|    false|       THIAMPHENICOL|            TH8|              1|\n",
      "|CHEMBL2107333|   6lrz|      true|     true|   DIMETHYL FUMARATE|            EOU|              1|\n",
      "| CHEMBL227711|   1udc|     false|    false|        CHEMBL227711|            UFM|              1|\n",
      "|CHEMBL3039513|   4yti|      true|     true|        DECERNOTINIB|            VJK|              1|\n",
      "| CHEMBL355048|   1yvz|     false|    false|        CHEMBL355048|            JPC|              1|\n",
      "| CHEMBL392452|   2rbe|     false|    false|        CHEMBL392452|            ZMG|              1|\n",
      "| CHEMBL403772|   1wm1|     false|    false|        CHEMBL403772|            PTB|              1|\n",
      "|CHEMBL4112930|   7cmw|      true|     true|           PAMIPARIB|            DS9|              1|\n",
      "|CHEMBL4541964|   6njj|      true|     true|           BPN-14770|            KR7|              1|\n",
      "| CHEMBL458049|   2ay3|     false|    false|3,4-Dimethoxy-Hyd...|            MPP|              1|\n",
      "|CHEMBL4594448|   6rav|      true|     true|           IPTACOPAN|            JGQ|              1|\n",
      "|    CHEMBL484|   2g1a|     false|    false|            ADEFOVIR|            5HG|              1|\n",
      "|    CHEMBL603|   6rz5|      true|     true|         ZAFIRLUKAST|            ZLK|              1|\n",
      "|  CHEMBL99842|   1oiq|     false|    false|         CHEMBL99842|            HDU|              1|\n",
      "|CHEMBL1165268|   2bxn|     false|    false|          IODIPAMIDE|            IDB|              1|\n",
      "|CHEMBL1233274|   2z77|     false|    false|       CHEMBL1233274|            HE7|              1|\n",
      "|CHEMBL1234133|   2v59|     false|    false|       CHEMBL1234133|            LZK|              1|\n",
      "|CHEMBL1234797|   1wum|     false|    false|       CHEMBL1234797|            NP2|              1|\n",
      "|CHEMBL1235646|   2vgj|     false|    false|       CEPHALOSPORIN|            REC|              1|\n",
      "+-------------+-------+----------+---------+--------------------+---------------+---------------+\n",
      "only showing top 20 rows\n",
      "\n"
     ]
    }
   ],
   "source": [
    "source_data_file = '/Users/dsuveges/project/random_notebooks/_/molecules_w_pdb.json.gz'\n",
    "\n",
    "source_df = spark.read.json('/Users/dsuveges/project/random_notebooks/_/')\n",
    "\n",
    "source_df.show()\n",
    "\n",
    "\n"
   ]
  },
  {
   "cell_type": "code",
   "execution_count": null,
   "id": "6a18dba9",
   "metadata": {},
   "outputs": [],
   "source": []
  }
 ],
 "metadata": {
  "kernelspec": {
   "display_name": "Python 3",
   "language": "python",
   "name": "python3"
  },
  "language_info": {
   "codemirror_mode": {
    "name": "ipython",
    "version": 3
   },
   "file_extension": ".py",
   "mimetype": "text/x-python",
   "name": "python",
   "nbconvert_exporter": "python",
   "pygments_lexer": "ipython3",
   "version": "3.9.5"
  }
 },
 "nbformat": 4,
 "nbformat_minor": 5
}
