{
 "cells": [
  {
   "cell_type": "code",
   "execution_count": 20,
   "metadata": {
    "ExecuteTime": {
     "end_time": "2021-06-22T13:12:13.743723Z",
     "start_time": "2021-06-22T13:12:13.739315Z"
    }
   },
   "outputs": [],
   "source": [
    "import sys\n",
    "import pyspark.sql\n",
    "from pyspark.sql import Row\n",
    "from pyspark.sql.types import DoubleType, StringType, IntegerType, BooleanType\n",
    "from pyspark.sql.functions import (\n",
    "    col, lit, udf, when, expr, explode, size, substring, array, regexp_extract, concat_ws,\n",
    "    collect_set, array_contains\n",
    ")\n",
    "\n",
    "spark = pyspark.sql.SparkSession.builder.getOrCreate()"
   ]
  },
  {
   "cell_type": "code",
   "execution_count": 34,
   "metadata": {
    "ExecuteTime": {
     "end_time": "2021-06-22T16:09:11.131189Z",
     "start_time": "2021-06-22T16:08:36.566914Z"
    }
   },
   "outputs": [
    {
     "data": {
      "text/plain": [
       "635033"
      ]
     },
     "execution_count": 34,
     "metadata": {},
     "output_type": "execute_result"
    }
   ],
   "source": [
    "genetics_df = (\n",
    "    spark.read.json('/Users/dsuveges/repositories/evidence_datasource_parsers/genetics_portal-2021-06-21/')\n",
    "    .persist()\n",
    ")\n",
    "\n",
    "genetics_df.count()"
   ]
  },
  {
   "cell_type": "code",
   "execution_count": 35,
   "metadata": {
    "ExecuteTime": {
     "end_time": "2021-06-22T16:09:15.308133Z",
     "start_time": "2021-06-22T16:09:15.191239Z"
    }
   },
   "outputs": [
    {
     "data": {
      "text/plain": [
       "0"
      ]
     },
     "execution_count": 35,
     "metadata": {},
     "output_type": "execute_result"
    }
   ],
   "source": [
    "(\n",
    "    genetics_df\n",
    "    .filter(col('betaConfidenceIntervalUpper') == 'Infinity')\n",
    "    .count()\n",
    ")"
   ]
  },
  {
   "cell_type": "code",
   "execution_count": 29,
   "metadata": {
    "ExecuteTime": {
     "end_time": "2021-06-22T14:28:30.944582Z",
     "start_time": "2021-06-22T14:28:30.577073Z"
    }
   },
   "outputs": [
    {
     "name": "stdout",
     "output_type": "stream",
     "text": [
      "+-------------------+-------------------------+------------------------------------+----+---------------------+------------------+\n",
      "|variantId          |diseaseFromSourceMappedId|studyId                             |beta|oddsratio            |targetFromSourceId|\n",
      "+-------------------+-------------------------+------------------------------------+----+---------------------+------------------+\n",
      "|17_73225039_G_GCACA|HP_0410005               |FINNGEN_R5_Q17_CHEFT_HARD_PALATE_NOS|null|1.608156093943296E234|ENSG00000141219   |\n",
      "|17_73225039_G_GCACA|HP_0410005               |FINNGEN_R5_Q17_CHEFT_HARD_PALATE_NOS|null|1.608156093943296E234|ENSG00000133193   |\n",
      "+-------------------+-------------------------+------------------------------------+----+---------------------+------------------+\n",
      "\n"
     ]
    }
   ],
   "source": [
    "(\n",
    "    genetics_df\n",
    "    .filter(\n",
    "        col('oddsratioConfidenceIntervalUpper') == 'Infinity'\n",
    "    )\n",
    "    .select('variantId', 'diseaseFromSourceMappedId', 'studyId', 'beta', 'oddsratio', 'targetFromSourceId')\n",
    "    .distinct()\n",
    "#     .count()\n",
    "    .show(truncate=False)\n",
    ")"
   ]
  },
  {
   "cell_type": "code",
   "execution_count": 36,
   "metadata": {
    "ExecuteTime": {
     "end_time": "2021-06-22T16:09:29.674997Z",
     "start_time": "2021-06-22T16:09:29.202237Z"
    }
   },
   "outputs": [
    {
     "data": {
      "text/plain": [
       "2"
      ]
     },
     "execution_count": 36,
     "metadata": {},
     "output_type": "execute_result"
    }
   ],
   "source": [
    "(\n",
    "    genetics_df\n",
    "    .filter(\n",
    "        (col('diseaseFromSourceMappedId') == 'HP_0410005')\n",
    "        &(\n",
    "            (col('targetFromSourceId') == 'ENSG00000141219')\n",
    "            | (col('targetFromSourceId') == 'ENSG00000133193')\n",
    "        )\n",
    "    )\n",
    "    .select('variantId', 'diseaseFromSourceMappedId', 'studyId', 'beta', 'oddsratio', 'targetFromSourceId')\n",
    "    .distinct()\n",
    "    .count()\n",
    "#     .show(truncate=False)\n",
    ")"
   ]
  },
  {
   "cell_type": "code",
   "execution_count": 33,
   "metadata": {
    "ExecuteTime": {
     "end_time": "2021-06-22T15:56:57.237021Z",
     "start_time": "2021-06-22T15:56:57.225636Z"
    }
   },
   "outputs": [
    {
     "ename": "NameError",
     "evalue": "name 'sqlContext' is not defined",
     "output_type": "error",
     "traceback": [
      "\u001b[0;31m---------------------------------------------------------------------------\u001b[0m",
      "\u001b[0;31mNameError\u001b[0m                                 Traceback (most recent call last)",
      "\u001b[0;32m<ipython-input-33-567676b17bee>\u001b[0m in \u001b[0;36m<module>\u001b[0;34m\u001b[0m\n\u001b[0;32m----> 1\u001b[0;31m \u001b[0mdf\u001b[0m\u001b[0;34m=\u001b[0m\u001b[0msqlContext\u001b[0m\u001b[0;34m.\u001b[0m\u001b[0mcreateDataFrame\u001b[0m\u001b[0;34m(\u001b[0m\u001b[0;34m[\u001b[0m\u001b[0;34m(\u001b[0m\u001b[0;32mNone\u001b[0m\u001b[0;34m,\u001b[0m \u001b[0;32mNone\u001b[0m\u001b[0;34m)\u001b[0m\u001b[0;34m,\u001b[0m \u001b[0;34m(\u001b[0m\u001b[0;36m1.0\u001b[0m\u001b[0;34m,\u001b[0m \u001b[0mnp\u001b[0m\u001b[0;34m.\u001b[0m\u001b[0minf\u001b[0m\u001b[0;34m)\u001b[0m\u001b[0;34m,\u001b[0m \u001b[0;34m(\u001b[0m\u001b[0;32mNone\u001b[0m\u001b[0;34m,\u001b[0m \u001b[0;36m2.0\u001b[0m\u001b[0;34m)\u001b[0m\u001b[0;34m]\u001b[0m\u001b[0;34m)\u001b[0m\u001b[0;34m.\u001b[0m\u001b[0mtoDF\u001b[0m\u001b[0;34m(\u001b[0m\u001b[0;34m[\u001b[0m\u001b[0;34m\"x\"\u001b[0m\u001b[0;34m,\u001b[0m \u001b[0;34m\"y\"\u001b[0m\u001b[0;34m]\u001b[0m\u001b[0;34m)\u001b[0m\u001b[0;34m\u001b[0m\u001b[0;34m\u001b[0m\u001b[0m\n\u001b[0m\u001b[1;32m      2\u001b[0m \u001b[0;34m\u001b[0m\u001b[0m\n\u001b[1;32m      3\u001b[0m replace_infs_udf = udf(\n\u001b[1;32m      4\u001b[0m     \u001b[0;32mlambda\u001b[0m \u001b[0mx\u001b[0m\u001b[0;34m,\u001b[0m \u001b[0mv\u001b[0m\u001b[0;34m:\u001b[0m \u001b[0mfloat\u001b[0m\u001b[0;34m(\u001b[0m\u001b[0mv\u001b[0m\u001b[0;34m)\u001b[0m \u001b[0;32mif\u001b[0m \u001b[0mx\u001b[0m \u001b[0;32mand\u001b[0m \u001b[0mnp\u001b[0m\u001b[0;34m.\u001b[0m\u001b[0misinf\u001b[0m\u001b[0;34m(\u001b[0m\u001b[0mx\u001b[0m\u001b[0;34m)\u001b[0m \u001b[0;32melse\u001b[0m \u001b[0mx\u001b[0m\u001b[0;34m,\u001b[0m \u001b[0mDoubleType\u001b[0m\u001b[0;34m(\u001b[0m\u001b[0;34m)\u001b[0m\u001b[0;34m\u001b[0m\u001b[0;34m\u001b[0m\u001b[0m\n\u001b[1;32m      5\u001b[0m )\n",
      "\u001b[0;31mNameError\u001b[0m: name 'sqlContext' is not defined"
     ]
    }
   ],
   "source": [
    "df=sqlContext.createDataFrame([(None, None), (1.0, np.inf), (None, 2.0)]).toDF([\"x\", \"y\"])\n",
    "\n",
    "replace_infs_udf = udf(\n",
    "    lambda x, v: float(v) if x and np.isinf(x) else x, DoubleType()\n",
    ")\n",
    "\n",
    "df.withColumn(\"x1\", replace_infs_udf(col(\"y\"), lit(-99.0))).show()\n"
   ]
  },
  {
   "cell_type": "code",
   "execution_count": 22,
   "metadata": {
    "ExecuteTime": {
     "end_time": "2021-07-16T11:16:29.856370Z",
     "start_time": "2021-07-16T11:16:29.843741Z"
    }
   },
   "outputs": [],
   "source": [
    "import requests\n",
    "from pyspark.sql import SparkSession\n",
    "from pyspark.sql.types import DoubleType, StringType, IntegerType, BooleanType\n",
    "from pyspark.sql.functions import (\n",
    "    array, array_distinct, col, collect_set, concat, explode, lit, regexp_extract, udf,\n",
    "    regexp_replace, split, trim, when, array_contains\n",
    ")\n",
    "import logging\n",
    "\n",
    "spark = SparkSession.builder.appName('panelapp_parser').getOrCreate()\n",
    "\n",
    "PMID_RE = [\n",
    "    (\n",
    "        r'^'                # Start of the string.\n",
    "        r'[\\d, ]+'          # A sequence of digits, commas and spaces.\n",
    "        r'(?: |$)'          # Ending either with a space, or with the end of the string.\n",
    "    ),\n",
    "    (\n",
    "        r'(?:PubMed|PMID)'  # PubMed or a PMID prefix.\n",
    "        r'[: ]*'            # An optional separator (spaces/colons).\n",
    "        r'[\\d, ]'           # A sequence of digits, commas and spaces.\n",
    "    )\n",
    "]\n",
    "\n",
    "def extract_pubmed_ids(publication_string):\n",
    "    \"\"\"Parses the publication information from the PanelApp API and extracts PubMed IDs.\"\"\"\n",
    "    publication_string = publication_string.strip()\n",
    "    pubmed_ids = []\n",
    "\n",
    "    for regexp in PMID_RE:  # For every known representation pattern...\n",
    "        for occurrence in re.findall(regexp, publication_string):  # For every occurrence of this pattern, if any...\n",
    "            pubmed_ids.extend(re.findall(r'(\\d+)', occurrence))  # Extract all digit sequences (PubMed IDs).\n",
    "\n",
    "    # Filter out '0' as a value, because it is a placeholder for a missing ID.\n",
    "    return {pubmed_id for pubmed_id in pubmed_ids if pubmed_id != '0'}\n",
    "\n",
    "\n",
    "def fetch_literature_references(all_panel_ids):\n",
    "    \"\"\"Queries the PanelApp API to extract all literature references for (panel ID, gene symbol) combinations.\"\"\"\n",
    "    publications = []  # Contains tuples of (panel ID, gene symbol, PubMed ID).\n",
    "    for panel_id in all_panel_ids:\n",
    "        logging.debug(f'Fetching literature references for panel {panel_id!r}.')\n",
    "        url = f'https://panelapp.genomicsengland.co.uk/api/v1/panels/{panel_id}'\n",
    "        for gene in requests.get(url).json()['genes']:\n",
    "            for publication_string in gene['publications']:\n",
    "                if gene['gene_data']['gene_symbol'] in gene_list:\n",
    "                    print(publication_string)\n",
    "                publications.extend([\n",
    "                    (panel_id, gene['gene_data']['gene_symbol'], pubmed_id)\n",
    "                    for pubmed_id in extract_pubmed_ids(publication_string)\n",
    "                ])\n",
    "    # Group by (panel ID, gene symbol) pairs and convert into a PySpark dataframe.\n",
    "    return (\n",
    "        spark\n",
    "        .createDataFrame(publications, schema=('Panel ID', 'Symbol', 'literature'))\n",
    "        .groupby(['Panel ID', 'Symbol'])\n",
    "        .agg(collect_set('literature').alias('literature'))\n",
    "    )"
   ]
  },
  {
   "cell_type": "code",
   "execution_count": 23,
   "metadata": {
    "ExecuteTime": {
     "end_time": "2021-07-16T11:16:30.878485Z",
     "start_time": "2021-07-16T11:16:30.164649Z"
    }
   },
   "outputs": [
    {
     "name": "stdout",
     "output_type": "stream",
     "text": [
      "PMID: 25998219\n",
      "PMID: 24700879\n",
      "PMID: 22510445\n",
      "24700879\n",
      "14730302.\n",
      "PMID: 26572137\n",
      "PMID: 24152966 - recessive mutations reported in 2 families with CAKUT, and 3 families with VACTERL.\n",
      "PMID: 20301547\n",
      "+--------+-------+--------------------+\n",
      "|Panel ID| Symbol|          literature|\n",
      "+--------+-------+--------------------+\n",
      "|     234|  SLIT2|          [26026792]|\n",
      "|     234|    ACE|[16116425, 30058238]|\n",
      "|     234|  TBX18|          [26235987]|\n",
      "|     234|  NIPBL|[16799922, 829153...|\n",
      "|     234|   HAAO|[28792876, 173347...|\n",
      "|     234|   ZIC3|[26294094, 20452998]|\n",
      "|     234|  KMT2D|          [23535010]|\n",
      "|     234|  STRA6|[26373900, 17503335]|\n",
      "|     234|  ACTG2|                 [2]|\n",
      "|     234| HOXA13|[24934387, 289477...|\n",
      "|     234|NADSYN1|          [31883644]|\n",
      "|     234|   BNC2|          [31051115]|\n",
      "|     234| NOTCH2|[16773578, 221058...|\n",
      "|     234| TBC1D1|                 [2]|\n",
      "|     234|  WNT5A|[31032853, 27002738]|\n",
      "|     234|  WBP11|          [33276377]|\n",
      "|     234|  LRIG2|          [23313374]|\n",
      "|     234|  PLVAP|[29875123, 296619...|\n",
      "|     234|  ZMYM2|          [32891193]|\n",
      "|     234|  GRIP1|       [2, 24700879]|\n",
      "+--------+-------+--------------------+\n",
      "only showing top 20 rows\n",
      "\n"
     ]
    }
   ],
   "source": [
    "import re \n",
    "\n",
    "x = fetch_literature_references([234]).persist()\n",
    "x.show()"
   ]
  },
  {
   "cell_type": "code",
   "execution_count": 13,
   "metadata": {
    "ExecuteTime": {
     "end_time": "2021-07-16T11:09:41.592158Z",
     "start_time": "2021-07-16T11:09:41.569489Z"
    }
   },
   "outputs": [
    {
     "data": {
      "text/plain": [
       "DataFrame[Panel ID: bigint, Symbol: string, literature: array<string>]"
      ]
     },
     "execution_count": 13,
     "metadata": {},
     "output_type": "execute_result"
    }
   ],
   "source": [
    "x.filter(array_contains(col(\"literature\"),'2'))"
   ]
  },
  {
   "cell_type": "code",
   "execution_count": 24,
   "metadata": {
    "ExecuteTime": {
     "end_time": "2021-07-16T11:20:50.140509Z",
     "start_time": "2021-07-16T11:20:49.413184Z"
    }
   },
   "outputs": [
    {
     "name": "stdout",
     "output_type": "stream",
     "text": [
      "+--------+------+-------------+\n",
      "|Panel ID|Symbol|literature   |\n",
      "+--------+------+-------------+\n",
      "|234     |ACTG2 |[2]          |\n",
      "|234     |TBC1D1|[2]          |\n",
      "|234     |GRIP1 |[2, 24700879]|\n",
      "|234     |SALL4 |[2]          |\n",
      "|234     |TRAP1 |[2]          |\n",
      "|234     |FREM1 |[2]          |\n",
      "+--------+------+-------------+\n",
      "\n"
     ]
    }
   ],
   "source": [
    "@udf(BooleanType())\n",
    "def get_twos(array):\n",
    "    if 2 in array or '2' in array:\n",
    "        return True\n",
    "    else:\n",
    "        return False\n",
    "    \n",
    "x.filter(get_twos(col('literature'))).show(truncate=False)"
   ]
  },
  {
   "cell_type": "code",
   "execution_count": 21,
   "metadata": {
    "ExecuteTime": {
     "end_time": "2021-07-16T11:15:23.705256Z",
     "start_time": "2021-07-16T11:15:23.319412Z"
    }
   },
   "outputs": [
    {
     "name": "stdout",
     "output_type": "stream",
     "text": [
      "ACTG2\n",
      "['PMID: 25998219']\n",
      "FREM1\n",
      "['PMID: 24700879']\n",
      "GRIP1\n",
      "['PMID: 22510445', '24700879', '14730302.']\n",
      "TBC1D1\n",
      "['PMID: 26572137']\n",
      "TRAP1\n",
      "['PMID: 24152966 - recessive mutations reported in 2 families with CAKUT, and 3 families with VACTERL.']\n",
      "SALL4\n",
      "['PMID: 20301547']\n"
     ]
    }
   ],
   "source": [
    "data = requests.get('https://panelapp.genomicsengland.co.uk/api/v1/panels/234/').json()\n",
    "gene_list = ['ACTG2', 'TBC1D1', 'GRIP1', 'SALL4', 'TRAP1', 'FREM1']\n",
    "for gene in data['genes']:\n",
    "    if gene['gene_data']['gene_symbol'] not in gene_list:\n",
    "        continue\n",
    "        \n",
    "    print(gene['gene_data']['gene_symbol'])\n",
    "    print(gene['publications'])"
   ]
  },
  {
   "cell_type": "code",
   "execution_count": null,
   "metadata": {},
   "outputs": [],
   "source": []
  }
 ],
 "metadata": {
  "kernelspec": {
   "display_name": "Python 3",
   "language": "python",
   "name": "python3"
  },
  "language_info": {
   "codemirror_mode": {
    "name": "ipython",
    "version": 3
   },
   "file_extension": ".py",
   "mimetype": "text/x-python",
   "name": "python",
   "nbconvert_exporter": "python",
   "pygments_lexer": "ipython3",
   "version": "3.6.10"
  }
 },
 "nbformat": 4,
 "nbformat_minor": 4
}
