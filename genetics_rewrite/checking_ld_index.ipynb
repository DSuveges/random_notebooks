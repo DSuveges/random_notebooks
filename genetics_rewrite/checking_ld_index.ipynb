{
 "cells": [
  {
   "cell_type": "code",
   "execution_count": 1,
   "metadata": {},
   "outputs": [
    {
     "name": "stderr",
     "output_type": "stream",
     "text": [
      "Setting default log level to \"WARN\".\n",
      "To adjust logging level use sc.setLogLevel(newLevel). For SparkR, use setLogLevel(newLevel).\n",
      "23/01/10 11:51:13 INFO org.apache.spark.SparkEnv: Registering MapOutputTracker\n",
      "23/01/10 11:51:13 INFO org.apache.spark.SparkEnv: Registering BlockManagerMaster\n",
      "23/01/10 11:51:13 INFO org.apache.spark.SparkEnv: Registering BlockManagerMasterHeartbeat\n",
      "23/01/10 11:51:13 INFO org.apache.spark.SparkEnv: Registering OutputCommitCoordinator\n"
     ]
    }
   ],
   "source": [
    "from pyspark.sql import SparkSession, functions as f, types as t, Column, DataFrame\n",
    "from pyspark.sql.window import Window\n",
    "\n",
    "spark = SparkSession.builder.getOrCreate()\n",
    "\n",
    "old_file = 'gs://genetics_etl_python_playground/input/ld/gnomad_r2.1.1.nfe.common.ld.variant_indices_old.parquet'\n",
    "new_file = 'gs://genetics_etl_python_playground/input/ld/gnomad_r2.1.1.nfe.common.ld.variant_indices.parquet'"
   ]
  },
  {
   "cell_type": "code",
   "execution_count": 10,
   "metadata": {},
   "outputs": [
    {
     "name": "stderr",
     "output_type": "stream",
     "text": [
      "23/01/10 11:58:50 WARN org.apache.spark.sql.execution.CacheManager: Asked to cache already cached data.\n"
     ]
    },
    {
     "name": "stdout",
     "output_type": "stream",
     "text": [
      "16712253\n"
     ]
    },
    {
     "name": "stderr",
     "output_type": "stream",
     "text": [
      "[Stage 46:====================================================>   (16 + 1) / 17]\r"
     ]
    },
    {
     "name": "stdout",
     "output_type": "stream",
     "text": [
      "14192489\n"
     ]
    },
    {
     "name": "stderr",
     "output_type": "stream",
     "text": [
      "                                                                                \r"
     ]
    }
   ],
   "source": [
    "old = spark.read.parquet(old_file).persist()\n",
    "print(old.count())\n",
    "print(old.select('chromosome', 'position', 'referenceAllele', 'alternateAllele').distinct().count())"
   ]
  },
  {
   "cell_type": "code",
   "execution_count": 11,
   "metadata": {},
   "outputs": [
    {
     "name": "stderr",
     "output_type": "stream",
     "text": [
      "23/01/10 11:59:09 WARN org.apache.spark.sql.execution.CacheManager: Asked to cache already cached data.\n"
     ]
    },
    {
     "name": "stdout",
     "output_type": "stream",
     "text": [
      "14192952\n"
     ]
    },
    {
     "name": "stderr",
     "output_type": "stream",
     "text": [
      "                                                                                \r"
     ]
    },
    {
     "name": "stdout",
     "output_type": "stream",
     "text": [
      "14192952\n"
     ]
    },
    {
     "name": "stderr",
     "output_type": "stream",
     "text": [
      "[Stage 62:====================================================>   (16 + 1) / 17]\r"
     ]
    },
    {
     "name": "stdout",
     "output_type": "stream",
     "text": [
      "14192489\n"
     ]
    },
    {
     "name": "stderr",
     "output_type": "stream",
     "text": [
      "                                                                                \r"
     ]
    }
   ],
   "source": [
    "new = spark.read.parquet(new_file).persist()\n",
    "print(new.count())\n",
    "print(new.select('chromosome', 'position', 'idx').distinct().count())\n",
    "print(new.select('chromosome', 'position', 'referenceAllele', 'alternateAllele').distinct().count())"
   ]
  },
  {
   "cell_type": "code",
   "execution_count": 13,
   "metadata": {},
   "outputs": [
    {
     "name": "stderr",
     "output_type": "stream",
     "text": [
      "                                                                                \r"
     ]
    },
    {
     "name": "stdout",
     "output_type": "stream",
     "text": [
      "+----------+---------+---------------+---------------+-----+\n",
      "|chromosome| position|referenceAllele|alternateAllele|count|\n",
      "+----------+---------+---------------+---------------+-----+\n",
      "|         9| 39557329|              T|            TAG|    2|\n",
      "|        10| 47046737|              C|              T|    2|\n",
      "|         9| 39595083|              G|              A|    2|\n",
      "|        10| 17930763|             AT|              A|    2|\n",
      "|         9| 41030184|              T|              C|    2|\n",
      "|        19| 20401993|              T|              C|    2|\n",
      "|        10| 17875633|              T|              A|    2|\n",
      "|         9| 39556601|              G|              T|    2|\n",
      "|         9| 39498868|              T|              C|    2|\n",
      "|         8|144256267|              G|              A|    2|\n",
      "|         X|  1089081|             CA|              C|    2|\n",
      "|         X|  1088964|              C|              T|    2|\n",
      "|        10| 50221702|             TA|              T|    2|\n",
      "|         X|  1104474|              C|              T|    2|\n",
      "|        10| 50221699|  GGATAGATAGATA|              G|    2|\n",
      "|         1| 13369329|              C|              G|    2|\n",
      "|         9| 41673037|              C|             CT|    2|\n",
      "|         9| 39502254|          TTATA|              T|    2|\n",
      "|         9| 60973250|              T|              A|    2|\n",
      "|         1| 13453486|             CA|              C|    2|\n",
      "|        17| 79505518|              T|              C|    2|\n",
      "|         9| 39450269|              C|              G|    2|\n",
      "|         9| 41671437|            CTT|              C|    2|\n",
      "|        10| 17886284|          TCTTC|              T|    2|\n",
      "|         1|148378490|              G|              A|    2|\n",
      "|        10| 50212183|              A|      AACACACAC|    2|\n",
      "|        10| 47639299|              A|           AATT|    2|\n",
      "|         9| 66746408|            CAT|              C|    2|\n",
      "|         X|  1088781|              C|              G|    2|\n",
      "|         9| 66746432|              T|              A|    2|\n",
      "|        10| 45793804|              C|              T|    2|\n",
      "|         X|  1095643|              T|              C|    2|\n",
      "|        10| 50171591|              C|            CTT|    2|\n",
      "|         1| 13326354|              T|              G|    2|\n",
      "|         1| 13376400|              A|              G|    2|\n",
      "|         9| 66787936|              C|             CA|    2|\n",
      "|         9| 41728619|              A|              G|    2|\n",
      "|        10| 50134753|              G|              A|    3|\n",
      "|        10| 17921947|              T|              G|    2|\n",
      "|        10| 47015564|          AGATG|              A|    2|\n",
      "|        10| 50134655|              T|              G|    3|\n",
      "|         9| 39637417|              C|              T|    2|\n",
      "|         1| 13382979|              G|              A|    2|\n",
      "|        19| 20402541|              C|              T|    2|\n",
      "|        10| 17813004|              G|              A|    2|\n",
      "|         1| 13349540|              A|              G|    2|\n",
      "|         1|148012282|          GGGGA|              G|    2|\n",
      "|         9| 39599575|             TG|              T|    2|\n",
      "|         9| 60854515|          AGTGT|              A|    2|\n",
      "|        10| 17835886|              C|              A|    2|\n",
      "|         8|141738132|              T|              C|    2|\n",
      "|         9| 60854515|        AGTGTGT|              A|    2|\n",
      "|        15| 82382508|          CGTGT|              C|    2|\n",
      "|        10| 50147620|              G|              A|    2|\n",
      "|         9| 39498690|              A|              C|    2|\n",
      "|         9| 39497666|              C|              T|    2|\n",
      "|         9| 42329313|             AT|              A|    2|\n",
      "|        10| 47575199|              C|             CA|    2|\n",
      "|         9| 41020625|    CATATATATAT|              C|    2|\n",
      "|        15| 82488564|              G|              A|    2|\n",
      "|         1| 13391659|              T|              C|    2|\n",
      "|        10| 50135133|              T|              C|    2|\n",
      "|         X|  1079312|              T|              C|    2|\n",
      "|         X|  1094836|              G|              C|    2|\n",
      "|        10| 17762575|CATATATATATATAT|              C|    2|\n",
      "|         1| 13308366|              G|              C|    2|\n",
      "|         X|  1088638|              G|              A|    2|\n",
      "|        10| 50076817|              T|             TA|    2|\n",
      "|         9| 60938101|              G|              A|    2|\n",
      "|         9| 39484873|              A|              G|    2|\n",
      "|        10| 45794062|              A|              G|    2|\n",
      "|        10| 45794073|              C|              T|    2|\n",
      "|         1|120958183|              C|             CA|    2|\n",
      "|        10| 50171591|              C|          CTTTT|    2|\n",
      "|         9| 41671437|             CT|              C|    2|\n",
      "|        10| 17917768|             TA|              T|    2|\n",
      "|         1|148378476|              T|              C|    2|\n",
      "|        10| 17923560|             TA|              T|    2|\n",
      "|         1|148108893|              T|              A|    2|\n",
      "|        10| 50134352|              T|              C|    2|\n",
      "|        10| 46899587|            ATG|              A|    2|\n",
      "|         8|141738107|              A|              C|    2|\n",
      "|        10| 50154209|              A|              G|    2|\n",
      "|        10| 50076979|             TG|              T|    2|\n",
      "|        10| 73710746|            CCA|              C|    2|\n",
      "|        15| 82376141|              G|              A|    2|\n",
      "|         9| 39595354|              C|              T|    2|\n",
      "|        15| 82455747|            GTA|              G|    2|\n",
      "|         9| 42974328|              G|              A|    2|\n",
      "|        10| 50221704|       GATAGATA|              G|    2|\n",
      "|        10| 17827486|              G|              C|    2|\n",
      "|         9| 39502302|              C|              A|    2|\n",
      "|        10| 47580782|              C|             CA|    2|\n",
      "|        10| 46886259|              T|              C|    2|\n",
      "|        17| 79505519|              G|              A|    2|\n",
      "|         9| 39547547|              C|              T|    2|\n",
      "|         9| 66787935|              C|              A|    2|\n",
      "|         9| 39557340|              G|              T|    2|\n",
      "|         9| 39557292|              C|             CA|    2|\n",
      "|         9| 41088274|              T|          TATAC|    2|\n",
      "+----------+---------+---------------+---------------+-----+\n",
      "only showing top 100 rows\n",
      "\n"
     ]
    },
    {
     "name": "stderr",
     "output_type": "stream",
     "text": [
      "                                                                                \r"
     ]
    }
   ],
   "source": [
    "new.groupBy('chromosome', 'position', 'referenceAllele', 'alternateAllele').count().filter(f.col('count') >1).show(100)"
   ]
  },
  {
   "cell_type": "code",
   "execution_count": 14,
   "metadata": {},
   "outputs": [
    {
     "data": {
      "text/plain": [
       "1.0000326228894734"
      ]
     },
     "execution_count": 14,
     "metadata": {},
     "output_type": "execute_result"
    }
   ],
   "source": [
    "14192952/14192489"
   ]
  },
  {
   "cell_type": "code",
   "execution_count": 17,
   "metadata": {},
   "outputs": [
    {
     "data": {
      "text/plain": [
       "1.177542078771384"
      ]
     },
     "execution_count": 17,
     "metadata": {},
     "output_type": "execute_result"
    }
   ],
   "source": [
    "16712253/14192489"
   ]
  },
  {
   "cell_type": "code",
   "execution_count": null,
   "metadata": {},
   "outputs": [],
   "source": []
  }
 ],
 "metadata": {
  "kernelspec": {
   "display_name": "Python 3",
   "language": "python",
   "name": "python3"
  },
  "language_info": {
   "codemirror_mode": {
    "name": "ipython",
    "version": 3
   },
   "file_extension": ".py",
   "mimetype": "text/x-python",
   "name": "python",
   "nbconvert_exporter": "python",
   "pygments_lexer": "ipython3",
   "version": "3.8.13 | packaged by conda-forge | (default, Mar 25 2022, 06:04:10) \n[GCC 10.3.0]"
  },
  "orig_nbformat": 4,
  "vscode": {
   "interpreter": {
    "hash": "de3a7304373a2ed386fe951c9137ef8d6c9c0656a76027db0e908c100510c9c7"
   }
  }
 },
 "nbformat": 4,
 "nbformat_minor": 2
}
