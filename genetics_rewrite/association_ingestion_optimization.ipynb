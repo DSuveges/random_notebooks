{
 "cells": [
  {
   "cell_type": "code",
   "execution_count": 1,
   "metadata": {},
   "outputs": [
    {
     "name": "stderr",
     "output_type": "stream",
     "text": [
      "Setting default log level to \"WARN\".\n",
      "To adjust logging level use sc.setLogLevel(newLevel). For SparkR, use setLogLevel(newLevel).\n",
      "22/12/12 14:45:04 INFO org.apache.spark.SparkEnv: Registering MapOutputTracker\n",
      "22/12/12 14:45:04 INFO org.apache.spark.SparkEnv: Registering BlockManagerMaster\n",
      "22/12/12 14:45:04 INFO org.apache.spark.SparkEnv: Registering BlockManagerMasterHeartbeat\n",
      "22/12/12 14:45:04 INFO org.apache.spark.SparkEnv: Registering OutputCommitCoordinator\n",
      "22/12/12 14:45:18 WARN org.apache.spark.sql.catalyst.util.package: Truncated the string representation of a plan since it was too large. This behavior can be adjusted by setting 'spark.sql.debug.maxToStringFields'.\n",
      "                                                                                \r"
     ]
    },
    {
     "name": "stdout",
     "output_type": "stream",
     "text": [
      "-RECORD 0-----------------------------------------------------------------------------------------------------------------------------------------------------------------------------------------------------------------------------------------------------------------------------------------------\n",
      " variantId               | 16_79539854_C_T                                                                                                                                                                                                                                                              \n",
      " chromosome              | 16                                                                                                                                                                                                                                                                           \n",
      " position                | 79539854                                                                                                                                                                                                                                                                     \n",
      " rsIdsGnomad             | [rs190369]                                                                                                                                                                                                                                                                   \n",
      " referenceAllele         | C                                                                                                                                                                                                                                                                            \n",
      " alternateAllele         | T                                                                                                                                                                                                                                                                            \n",
      " alleleFrequencies       | [{0.884321223709369, oth}, {0.8226903951845067, amr}, {0.9846458176337604, fin}, {0.9276315789473685, ami}, {0.9240506329113924, mid}, {0.9577957384276268, nfe}, {0.964759535655058, sas}, {0.9199308755760369, asj}, {0.7236588189888075, eas}, {0.7495890940732863, afr}] \n",
      " strongestSnpRiskAllele  | rs190369-C                                                                                                                                                                                                                                                                   \n",
      " riskAlleleFrequency     | 0.05                                                                                                                                                                                                                                                                         \n",
      " cnv                     | N                                                                                                                                                                                                                                                                            \n",
      " snpIdCurrent            | 190369                                                                                                                                                                                                                                                                       \n",
      " snpIds                  | rs190369                                                                                                                                                                                                                                                                     \n",
      " studyAccession          | GCST001112                                                                                                                                                                                                                                                                   \n",
      " associationDiseaseTrait | Lifetime average cigarettes per day in chronic obstructive pulmonary disease                                                                                                                                                                                                 \n",
      " pValue                  | 9E-6                                                                                                                                                                                                                                                                         \n",
      " pValueNeglog            | 5.045757490560675                                                                                                                                                                                                                                                            \n",
      " effectSize              | 0.161                                                                                                                                                                                                                                                                        \n",
      " confidenceInterval      | unit increase                                                                                                                                                                                                                                                                \n",
      " associationId           | 8589945717                                                                                                                                                                                                                                                                   \n",
      " qualityControl          | [Subsignificant p-value]                                                                                                                                                                                                                                                     \n",
      " associationEfos         | [EFO_0005671]                                                                                                                                                                                                                                                                \n",
      " pValueExponent          | -6                                                                                                                                                                                                                                                                           \n",
      " pValueMantissa          | 9.0                                                                                                                                                                                                                                                                          \n",
      " pValueAncestry          |                                                                                                                                                                                                                                                                              \n",
      " pValueText              |                                                                                                                                                                                                                                                                              \n",
      " gwasVariant             | rs190369                                                                                                                                                                                                                                                                     \n",
      " riskAllele              | C                                                                                                                                                                                                                                                                            \n",
      " rsIdsGwasCatalog        | [rs190369]                                                                                                                                                                                                                                                                   \n",
      "only showing top 1 row\n",
      "\n"
     ]
    },
    {
     "name": "stderr",
     "output_type": "stream",
     "text": [
      "                                                                                \r"
     ]
    },
    {
     "name": "stdout",
     "output_type": "stream",
     "text": [
      "434351\n"
     ]
    },
    {
     "name": "stderr",
     "output_type": "stream",
     "text": [
      "[Stage 9:===================================================>   (187 + 8) / 200]\r"
     ]
    },
    {
     "name": "stdout",
     "output_type": "stream",
     "text": [
      "434351\n"
     ]
    },
    {
     "name": "stderr",
     "output_type": "stream",
     "text": [
      "                                                                                \r"
     ]
    }
   ],
   "source": [
    "from pyspark.sql import SparkSession, functions as f, types as t, DataFrame, Column\n",
    "\n",
    "spark = SparkSession.builder.getOrCreate()\n",
    "association_file = 'gs://genetics_etl_python_playground/XX.XX/output/python_etl/parquet/gwas_catalog_associations'\n",
    "\n",
    "df = (\n",
    "    spark.read.parquet(association_file)\n",
    "    .distinct()\n",
    "    .withColumn('riskAllele', f.upper(f.col('riskAllele')))\n",
    "    .persist()\n",
    ")\n",
    "df.show(1, False, True)\n",
    "\n",
    "print(df.count())\n",
    "print(df.select('associationId').distinct().count())"
   ]
  },
  {
   "cell_type": "code",
   "execution_count": 53,
   "id": "10a8ad6f",
   "metadata": {},
   "outputs": [
    {
     "name": "stderr",
     "output_type": "stream",
     "text": [
      "                                                                                \r"
     ]
    },
    {
     "name": "stdout",
     "output_type": "stream",
     "text": [
      "-RECORD 0---------------------------------------------------------------------------------------------------------------------------------------------------------------------------------------------------------------------------------------------------------------------------------------------------------------------\n",
      " variantId               | 4_78701519_C_T                                                                                                                                                                                                                                                                                     \n",
      " chromosome              | 4                                                                                                                                                                                                                                                                                                  \n",
      " position                | 78701519                                                                                                                                                                                                                                                                                           \n",
      " rsIdsGnomad             | [rs80057746]                                                                                                                                                                                                                                                                                       \n",
      " referenceAllele         | C                                                                                                                                                                                                                                                                                                  \n",
      " alternateAllele         | T                                                                                                                                                                                                                                                                                                  \n",
      " alleleFrequencies       | [{0.011004784688995215, oth}, {0.007792037716081718, amr}, {0.020101925254813136, fin}, {0.025274725274725275, ami}, {0.015822784810126583, mid}, {0.025209466411877112, nfe}, {0.028157349896480333, sas}, {0.03054755043227666, asj}, {1.9252984212552945E-4, eas}, {0.004586934479262228, afr}] \n",
      " associationId           | 8589957718                                                                                                                                                                                                                                                                                         \n",
      " studyAccession          | GCST005811                                                                                                                                                                                                                                                                                         \n",
      " AssociationEfos         | [MONDO_0005178]                                                                                                                                                                                                                                                                                    \n",
      " associationDiseaseTrait | Osteoarthritis (self-reported)                                                                                                                                                                                                                                                                     \n",
      " riskAlleleFrequency     | 0.0243844                                                                                                                                                                                                                                                                                          \n",
      " effectSize              | 1.21576                                                                                                                                                                                                                                                                                            \n",
      " pValueAncestry          |                                                                                                                                                                                                                                                                                                    \n",
      " confidenceInterval      | [1.11707-1.32316]                                                                                                                                                                                                                                                                                  \n",
      " pValueText              |                                                                                                                                                                                                                                                                                                    \n",
      " pValueNegLog            | 7.0                                                                                                                                                                                                                                                                                                \n",
      " pValueExponent          | -7                                                                                                                                                                                                                                                                                                 \n",
      " pValueMantissa          | 1.0                                                                                                                                                                                                                                                                                                \n",
      " riskAllele              | T                                                                                                                                                                                                                                                                                                  \n",
      " gwasVariant             | rs80057746                                                                                                                                                                                                                                                                                         \n",
      " rsIdsGwasCatalog        | [rs80057746]                                                                                                                                                                                                                                                                                       \n",
      " qualityControl          | [Subsignificant p-value]                                                                                                                                                                                                                                                                           \n",
      " revcomp_alternateAllele | A                                                                                                                                                                                                                                                                                                  \n",
      " revcomp_referenceAllele | G                                                                                                                                                                                                                                                                                                  \n",
      " beta                    | null                                                                                                                                                                                                                                                                                               \n",
      " odds_ratio              | 1.21576                                                                                                                                                                                                                                                                                            \n",
      " beta_ci_lower           | null                                                                                                                                                                                                                                                                                               \n",
      " beta_ci_upper           | null                                                                                                                                                                                                                                                                                               \n",
      " odds_ratio_ci_lower     | 1.1314297031922345                                                                                                                                                                                                                                                                                 \n",
      " odds_ratio_ci_upper     | 1.3063757946514416                                                                                                                                                                                                                                                                                 \n",
      " isRsIdMatched           | true                                                                                                                                                                                                                                                                                               \n",
      " isConcordant            | true                                                                                                                                                                                                                                                                                               \n",
      " maxMaf                  | 0.03054755043227666                                                                                                                                                                                                                                                                                \n",
      "only showing top 1 row\n",
      "\n"
     ]
    }
   ],
   "source": [
    "# Is the intersecion of the gnomad and gwas rsid list empty?\n",
    "def check_rsids(gnomad: Column, gwas: Column) -> Column:\n",
    "    return f.when(f.size(f.array_intersect(gnomad, gwas)) > 0, True).otherwise(False)\n",
    "\n",
    "\n",
    "def check_concordance(riskAllele: Column, referenceAllele: Column, alternateAllele: Column):\n",
    "    # Calculating the reverse complement of the risk allele:\n",
    "    riskAlleleReverseComplement = f.when(\n",
    "        riskAllele.rlike(r\"^[ACTG]+$\"),\n",
    "        f.reverse(f.translate(riskAllele, \"ACTG\", \"TGAC\")),\n",
    "    ).otherwise(riskAllele)\n",
    "\n",
    "    # OK, is the risk allele or the reverse complent is the same as the mapped alleles:\n",
    "    return (\n",
    "        f.when(\n",
    "            (riskAllele == referenceAllele)\n",
    "            | (riskAllele == alternateAllele),\n",
    "            True,\n",
    "        )\n",
    "        # If risk allele is found on the negative strand:\n",
    "        .when(\n",
    "            (riskAlleleReverseComplement == referenceAllele)\n",
    "            | (riskAlleleReverseComplement == alternateAllele),\n",
    "            True,\n",
    "        )\n",
    "        # If risk allele is ambiguous, still accepted: < This condition could be reconsidered\n",
    "        .when(riskAllele == \"?\", True)\n",
    "        # If the association could not be mapped we keep it:\n",
    "        .when(referenceAllele.isNull(), True)\n",
    "        # Allele is discordant:\n",
    "        .otherwise(False)\n",
    "    )\n",
    "    \n",
    "\n",
    "\n",
    "\n",
    "mappings = (\n",
    "    df\n",
    "    .withColumn(\n",
    "        'isRsIdMatched', \n",
    "        check_rsids(\n",
    "            f.col('rsIdsGnomad'), \n",
    "            f.col('rsIdsGwasCatalog')\n",
    "        )\n",
    "    )\n",
    "    .withColumn(\n",
    "        'isConcordant', \n",
    "        check_concordance(\n",
    "            f.col('riskAllele'), \n",
    "            f.col('referenceAllele'), \n",
    "            f.col('alternateAllele')\n",
    "        )\n",
    "    )\n",
    ")\n",
    "\n",
    "\n",
    "mafs = (\n",
    "    mappings\n",
    "    .select('variantId', f.explode_outer(f.col('alleleFrequencies')).alias('af'))\n",
    "    .distinct()\n",
    "    .withColumn(\n",
    "        \"maf\",\n",
    "        f.when(\n",
    "            f.col(\"af.alleleFrequency\") > 0.5, 1 - f.col(\"af.alleleFrequency\")\n",
    "        ).otherwise(f.col(\"af.alleleFrequency\")),\n",
    "    )\n",
    "    .groupBy('variantId')\n",
    "    .agg(f.max('maf').alias('maxMaf'))\n",
    ")\n",
    "\n",
    "processed = mappings.join(mafs, on='variantId', how='left').persist()\n",
    "processed.show(1, False, True)\n",
    "\n"
   ]
  },
  {
   "cell_type": "code",
   "execution_count": 66,
   "id": "15f8e344",
   "metadata": {},
   "outputs": [
    {
     "name": "stdout",
     "output_type": "stream",
     "text": [
      "-RECORD 0----------------------------------------------------------------------------------------------------------------------------------------------------------------------------------------------------------------------------------------------------------------------------------------------------------\n",
      " variantId               | 8_19986711_A_G                                                                                                                                                                                                                                                                          \n",
      " chromosome              | 8                                                                                                                                                                                                                                                                                       \n",
      " position                | 19986711                                                                                                                                                                                                                                                                                \n",
      " rsIdsGnomad             | [rs12678919]                                                                                                                                                                                                                                                                            \n",
      " referenceAllele         | A                                                                                                                                                                                                                                                                                       \n",
      " alternateAllele         | G                                                                                                                                                                                                                                                                                       \n",
      " alleleFrequencies       | [{0.09177820267686425, oth}, {0.07749246691995283, amr}, {0.08725212464589235, fin}, {0.15460526315789475, ami}, {0.1178343949044586, mid}, {0.09836668628605062, nfe}, {0.09609796596097966, sas}, {0.09913544668587897, asj}, {0.10904152114862242, eas}, {0.11110573199070488, afr}] \n",
      " associationId           | 8589941239                                                                                                                                                                                                                                                                              \n",
      " studyAccession          | GCST000583                                                                                                                                                                                                                                                                              \n",
      " AssociationEfos         | [EFO_0004612]                                                                                                                                                                                                                                                                           \n",
      " associationDiseaseTrait | Hematological and biochemical traits                                                                                                                                                                                                                                                    \n",
      " riskAlleleFrequency     | 0.18                                                                                                                                                                                                                                                                                    \n",
      " effectSize              | 0.125                                                                                                                                                                                                                                                                                   \n",
      " pValueAncestry          |                                                                                                                                                                                                                                                                                         \n",
      " confidenceInterval      | [0.070-0.180] unit increase                                                                                                                                                                                                                                                             \n",
      " pValueText              | high density lipoprotein                                                                                                                                                                                                                                                                \n",
      " pValueNegLog            | 5.045757490560675                                                                                                                                                                                                                                                                       \n",
      " pValueExponent          | -6                                                                                                                                                                                                                                                                                      \n",
      " pValueMantissa          | 9.0                                                                                                                                                                                                                                                                                     \n",
      " riskAllele              | G                                                                                                                                                                                                                                                                                       \n",
      " gwasVariant             | rs12678919                                                                                                                                                                                                                                                                              \n",
      " rsIdsGwasCatalog        | [rs12678919]                                                                                                                                                                                                                                                                            \n",
      " qualityControl          | [Subsignificant p-value]                                                                                                                                                                                                                                                                \n",
      " revcomp_alternateAllele | C                                                                                                                                                                                                                                                                                       \n",
      " revcomp_referenceAllele | T                                                                                                                                                                                                                                                                                       \n",
      " beta                    | 0.125                                                                                                                                                                                                                                                                                   \n",
      " odds_ratio              | null                                                                                                                                                                                                                                                                                    \n",
      " beta_ci_lower           | 0.06981859972383644                                                                                                                                                                                                                                                                     \n",
      " beta_ci_upper           | 0.18018140027616356                                                                                                                                                                                                                                                                     \n",
      " odds_ratio_ci_lower     | null                                                                                                                                                                                                                                                                                    \n",
      " odds_ratio_ci_upper     | null                                                                                                                                                                                                                                                                                    \n",
      "only showing top 1 row\n",
      "\n"
     ]
    }
   ],
   "source": [
    "from pyspark.sql.window import Window\n",
    "\n",
    "def _find_mappings_to_drop(associationId: Column, filterColumn: Column) -> Column:\n",
    "    \"\"\"Flagging mappings to drop for each association.\n",
    "    \n",
    "    Some associations have multiple mappings. Some has matching rsId others don't. We only\n",
    "    want to drop the non-matching mappings, when a matching is available for the given association.\n",
    "    This logic can be generalised for other measures eg. allele concordance.\n",
    "\n",
    "    \n",
    "    \"\"\"\n",
    "    w = Window.partitionBy(associationId)\n",
    "\n",
    "    # Generating a boolean column informing if the filter column contains true anywhere for the association:\n",
    "    aggregated_filter = f.when(f.array_contains(f.collect_set(filterColumn).over(w), True),True).otherwise(False)\n",
    "\n",
    "    # Generate a filter column:\n",
    "    return f.when(aggregated_filter & (filterColumn == False), False).otherwise(True)\n",
    "\n",
    "def _keep_mapping_with_top_maf(associationId: Column, maf_column: Column) -> Column:\n",
    "    w = Window.partitionBy(associationId).orderBy(f.desc(maf_column))\n",
    "    row_numbers = f.row_number().over(w)\n",
    "    return f.when(row_numbers == 1, True).otherwise(False)\n",
    "\n",
    "(\n",
    "    processed\n",
    "    # Dropping rows, where rsId doesn't match, but matching rsId available:\n",
    "    .withColumn('rsidFilter', _find_mappings_to_drop(f.col('associationId'), f.col('isRsIdMatched')))\n",
    "    .filter(f.col('rsidFilter'))\n",
    "    # Dropping rows, where alleles aren't concordant, but concordant alleles available:\n",
    "    .withColumn('concordanceFilter', _find_mappings_to_drop(f.col('associationId'), f.col('isConcordant')))\n",
    "    .filter(f.col('concordanceFilter'))\n",
    "    # Out of the remaining mappings, keeping the one with the highest MAF:\n",
    "    .withColumn('mafFilter', _keep_mapping_with_top_maf(f.col('associationId'), f.col('maxMaf')))\n",
    "    .filter('mafFilter')\n",
    "    .drop('rsidFilter', 'concordanceFilter', 'mafFilter', 'isRsIdMatched', 'maxMaf', 'isRsIdMatched', 'isConcordant')\n",
    "    .show(1, False, True)\n",
    ")\n"
   ]
  },
  {
   "cell_type": "code",
   "execution_count": 68,
   "id": "70a99673",
   "metadata": {},
   "outputs": [
    {
     "ename": "TypeError",
     "evalue": "count() takes 1 positional argument but 4 were given",
     "output_type": "error",
     "traceback": [
      "\u001b[0;31m---------------------------------------------------------------------------\u001b[0m",
      "\u001b[0;31mTypeError\u001b[0m                                 Traceback (most recent call last)",
      "\u001b[1;32m/home/dsuveges/random_notebooks/association_ingestion_optimization.ipynb Cell 4\u001b[0m in \u001b[0;36m<cell line: 2>\u001b[0;34m()\u001b[0m\n\u001b[1;32m      <a href='vscode-notebook-cell://ssh-remote%2Bds-single-m.europe-west1-d.open-targets-eu-dev/home/dsuveges/random_notebooks/association_ingestion_optimization.ipynb#W3sdnNjb2RlLXJlbW90ZQ%3D%3D?line=0'>1</a>\u001b[0m (\n\u001b[0;32m----> <a href='vscode-notebook-cell://ssh-remote%2Bds-single-m.europe-west1-d.open-targets-eu-dev/home/dsuveges/random_notebooks/association_ingestion_optimization.ipynb#W3sdnNjb2RlLXJlbW90ZQ%3D%3D?line=1'>2</a>\u001b[0m     processed\n\u001b[1;32m      <a href='vscode-notebook-cell://ssh-remote%2Bds-single-m.europe-west1-d.open-targets-eu-dev/home/dsuveges/random_notebooks/association_ingestion_optimization.ipynb#W3sdnNjb2RlLXJlbW90ZQ%3D%3D?line=2'>3</a>\u001b[0m     \u001b[39m# .filter(~f.col('isRsIdMatched') & f.col('referenceAllele').isNotNull())\u001b[39;49;00m\n\u001b[1;32m      <a href='vscode-notebook-cell://ssh-remote%2Bds-single-m.europe-west1-d.open-targets-eu-dev/home/dsuveges/random_notebooks/association_ingestion_optimization.ipynb#W3sdnNjb2RlLXJlbW90ZQ%3D%3D?line=3'>4</a>\u001b[0m     \u001b[39m# .show(1, False, True)\u001b[39;49;00m\n\u001b[1;32m      <a href='vscode-notebook-cell://ssh-remote%2Bds-single-m.europe-west1-d.open-targets-eu-dev/home/dsuveges/random_notebooks/association_ingestion_optimization.ipynb#W3sdnNjb2RlLXJlbW90ZQ%3D%3D?line=4'>5</a>\u001b[0m     \u001b[39m.\u001b[39;49mcount(\u001b[39m1\u001b[39;49m, \u001b[39mFalse\u001b[39;49;00m, \u001b[39mTrue\u001b[39;49;00m)\n\u001b[1;32m      <a href='vscode-notebook-cell://ssh-remote%2Bds-single-m.europe-west1-d.open-targets-eu-dev/home/dsuveges/random_notebooks/association_ingestion_optimization.ipynb#W3sdnNjb2RlLXJlbW90ZQ%3D%3D?line=5'>6</a>\u001b[0m )\n",
      "\u001b[0;31mTypeError\u001b[0m: count() takes 1 positional argument but 4 were given"
     ]
    }
   ],
   "source": [
    "(\n",
    "    processed\n",
    "    # .filter(~f.col('isRsIdMatched') & f.col('referenceAllele').isNotNull())\n",
    "    # .show(1, False, True)\n",
    "    .count(1, False, True)\n",
    ")"
   ]
  },
  {
   "cell_type": "code",
   "execution_count": 13,
   "id": "f2a771d9",
   "metadata": {},
   "outputs": [
    {
     "name": "stderr",
     "output_type": "stream",
     "text": [
      "[Stage 2:>                                                          (0 + 1) / 1]\r"
     ]
    },
    {
     "name": "stdout",
     "output_type": "stream",
     "text": [
      "-RECORD 0---------------------------------\n",
      " chromosome          | 8                  \n",
      " position            | 127472793          \n",
      " referenceAllele     | A                  \n",
      " alternateAllele     | C                  \n",
      " variantId           | 8_127472793_A_C    \n",
      " studyId             | GCST000017         \n",
      " pValueMantissa      | 2.0                \n",
      " pValueExponent      | -14                \n",
      " beta                | null               \n",
      " beta_ci_lower       | null               \n",
      " beta_ci_upper       | null               \n",
      " odds_ratio          | 0.6993006993006994 \n",
      " odds_ratio_ci_lower | 0.6380705725634574 \n",
      " odds_ratio_ci_upper | 0.7664065529268912 \n",
      " qualityControl      | []                 \n",
      "only showing top 1 row\n",
      "\n"
     ]
    },
    {
     "name": "stderr",
     "output_type": "stream",
     "text": [
      "                                                                                \r"
     ]
    }
   ],
   "source": [
    "assoc = spark.read.parquet('gs://genetics_etl_python_playground/XX.XX/output/python_etl/parquet//gwas_catalog_associations').persist()\n",
    "assoc.show(1, False, True)\n"
   ]
  },
  {
   "cell_type": "code",
   "execution_count": 75,
   "id": "d60d76f3",
   "metadata": {},
   "outputs": [
    {
     "name": "stdout",
     "output_type": "stream",
     "text": [
      "+--------------------------+-----+\n",
      "|col                       |count|\n",
      "+--------------------------+-----+\n",
      "|Composite association     |285  |\n",
      "|Variant inconsistency     |1278 |\n",
      "|No mapping in GnomAd      |33312|\n",
      "|Incomplete genomic mapping|19310|\n",
      "|Subsignificant p-value    |96372|\n",
      "+--------------------------+-----+\n",
      "\n"
     ]
    }
   ],
   "source": [
    "# assoc.filter(f.size(f.col('qualityControl')) == 0).count() # 315122\n",
    "# assoc.filter(f.size(f.col('qualityControl')) != 0).count() # 119229\n",
    "assoc.select(f.explode(f.col('qualityControl'))).groupBy('col').count().show(1000, truncate=False)\n"
   ]
  },
  {
   "cell_type": "code",
   "execution_count": 5,
   "id": "e615a847",
   "metadata": {},
   "outputs": [
    {
     "name": "stderr",
     "output_type": "stream",
     "text": [
      "22/12/12 15:00:57 WARN org.apache.spark.sql.Column: Constructing trivially true equals predicate, 'upper = upper'. Perhaps you need to use aliases.\n",
      "22/12/12 15:00:57 WARN org.apache.spark.sql.Column: Constructing trivially true equals predicate, 'lower = lower'. Perhaps you need to use aliases.\n"
     ]
    },
    {
     "name": "stdout",
     "output_type": "stream",
     "text": [
      "-RECORD 0-----------------------------------------------------------------------------------------------------------------------------------------------------------------------------------------------------------------------------------------------------------------------------------------------\n",
      " variantId               | 16_79539854_C_T                                                                                                                                                                                                                                                              \n",
      " chromosome              | 16                                                                                                                                                                                                                                                                           \n",
      " position                | 79539854                                                                                                                                                                                                                                                                     \n",
      " rsIdsGnomad             | [rs190369]                                                                                                                                                                                                                                                                   \n",
      " referenceAllele         | C                                                                                                                                                                                                                                                                            \n",
      " alternateAllele         | T                                                                                                                                                                                                                                                                            \n",
      " alleleFrequencies       | [{0.884321223709369, oth}, {0.8226903951845067, amr}, {0.9846458176337604, fin}, {0.9276315789473685, ami}, {0.9240506329113924, mid}, {0.9577957384276268, nfe}, {0.964759535655058, sas}, {0.9199308755760369, asj}, {0.7236588189888075, eas}, {0.7495890940732863, afr}] \n",
      " strongestSnpRiskAllele  | rs190369-C                                                                                                                                                                                                                                                                   \n",
      " riskAlleleFrequency     | 0.05                                                                                                                                                                                                                                                                         \n",
      " cnv                     | N                                                                                                                                                                                                                                                                            \n",
      " snpIdCurrent            | 190369                                                                                                                                                                                                                                                                       \n",
      " snpIds                  | rs190369                                                                                                                                                                                                                                                                     \n",
      " studyAccession          | GCST001112                                                                                                                                                                                                                                                                   \n",
      " associationDiseaseTrait | Lifetime average cigarettes per day in chronic obstructive pulmonary disease                                                                                                                                                                                                 \n",
      " pValue                  | 9E-6                                                                                                                                                                                                                                                                         \n",
      " pValueNeglog            | 5.045757490560675                                                                                                                                                                                                                                                            \n",
      " effectSize              | 0.161                                                                                                                                                                                                                                                                        \n",
      " confidenceInterval      | unit increase                                                                                                                                                                                                                                                                \n",
      " associationId           | 8589945717                                                                                                                                                                                                                                                                   \n",
      " qualityControl          | [Subsignificant p-value]                                                                                                                                                                                                                                                     \n",
      " associationEfos         | [EFO_0005671]                                                                                                                                                                                                                                                                \n",
      " pValueExponent          | -6                                                                                                                                                                                                                                                                           \n",
      " pValueMantissa          | 9.0                                                                                                                                                                                                                                                                          \n",
      " pValueAncestry          |                                                                                                                                                                                                                                                                              \n",
      " pValueText              |                                                                                                                                                                                                                                                                              \n",
      " gwasVariant             | rs190369                                                                                                                                                                                                                                                                     \n",
      " riskAllele              | C                                                                                                                                                                                                                                                                            \n",
      " rsIdsGwasCatalog        | [rs190369]                                                                                                                                                                                                                                                                   \n",
      " needsHarmonisation      | true                                                                                                                                                                                                                                                                         \n",
      " zscore                  | 4.439902                                                                                                                                                                                                                                                                     \n",
      " beta                    | -0.161                                                                                                                                                                                                                                                                       \n",
      " beta_ci_upper           | -0.08992635644430134                                                                                                                                                                                                                                                         \n",
      " beta_ci_lower           | -0.23207364355569865                                                                                                                                                                                                                                                         \n",
      "only showing top 1 row\n",
      "\n"
     ]
    },
    {
     "name": "stderr",
     "output_type": "stream",
     "text": [
      "                                                                                \r"
     ]
    }
   ],
   "source": [
    "# cicaful = (\n",
    "#     assoc\n",
    "#     .filter(f.col('confidenceInterval').contains('decrease') & f.col('beta').isNull())\n",
    "#     .select('studyAccession', 'variantId', 'effectSize', 'confidenceInterval', \n",
    "#     'beta', 'alternateAllele', 'referenceAllele', 'riskAllele', 'pValueMantissa', 'pValueExponent')\n",
    "#     .persist()\n",
    "# )\n",
    "import sys\n",
    "from scipy.stats import norm\n",
    "\n",
    "def _pval_to_zscore(pvalcol: Column) -> Column:\n",
    "    \"\"\"Convert p-value column to z-score column.\n",
    "\n",
    "    Args:\n",
    "        pvalcol (Column): pvalues to be casted to floats.\n",
    "\n",
    "    Returns:\n",
    "        Column: p-values transformed to z-scores\n",
    "\n",
    "    Examples:\n",
    "        >>> d = [{\"id\": \"t1\", \"pval\": \"1\"}, {\"id\": \"t2\", \"pval\": \"0.9\"}, {\"id\": \"t3\", \"pval\": \"0.05\"}, {\"id\": \"t4\", \"pval\": \"1e-300\"}, {\"id\": \"t5\", \"pval\": \"1e-1000\"}, {\"id\": \"t6\", \"pval\": \"NA\"}]\n",
    "        >>> df = spark.createDataFrame(d)\n",
    "        >>> df.withColumn(\"zscore\", pval_to_zscore(f.col(\"pval\"))).show()\n",
    "        +---+-------+----------+\n",
    "        | id|   pval|    zscore|\n",
    "        +---+-------+----------+\n",
    "        | t1|      1|       0.0|\n",
    "        | t2|    0.9|0.12566137|\n",
    "        | t3|   0.05|  1.959964|\n",
    "        | t4| 1e-300| 37.537838|\n",
    "        | t5|1e-1000| 37.537838|\n",
    "        | t6|     NA|      null|\n",
    "        +---+-------+----------+\n",
    "        <BLANKLINE>\n",
    "\n",
    "    \"\"\"\n",
    "    pvalue_float = pvalcol.cast(t.FloatType())\n",
    "    pvalue_nozero = f.when(pvalue_float == 0, sys.float_info.min).otherwise(\n",
    "        pvalue_float\n",
    "    )\n",
    "    return f.udf(\n",
    "        lambda pv: float(abs(norm.ppf((float(pv)) / 2))) if pv else None,\n",
    "        t.FloatType(),\n",
    "    )(pvalue_nozero)\n",
    "\n",
    "\n",
    "def _get_reverse_complement(allele_col: Column) -> Column:\n",
    "\n",
    "    return f.when(\n",
    "        allele_col.rlike(\"[ACTG]+\"),\n",
    "        f.reverse(f.translate(allele_col, \"ACTG\", \"TGAC\")),\n",
    "    ).otherwise(allele_col)\n",
    "\n",
    "def _harmonize_beta(effect_size: Column, confidence_interval: Column, needs_harmonization: Column) -> Column:\n",
    "    beta = f.when(confidence_interval.contains('increase') | confidence_interval.contains('decrease'), effect_size).otherwise(None)\n",
    "    return f.when(\n",
    "        (\n",
    "            confidence_interval.contains(\"increase\")\n",
    "            & needs_harmonization\n",
    "        )\n",
    "        | (\n",
    "            confidence_interval.contains(\"decrease\")\n",
    "            & ~ needs_harmonization\n",
    "        ),\n",
    "        beta * -1,\n",
    "    ).otherwise(beta)\n",
    "\n",
    "def _calculate_beta_ci(beta: Column, zscore: Column, direction: Column) -> Column: \n",
    "    zscore_95 = f.lit(1.96)\n",
    "    return f.when(\n",
    "        direction == 'upper', beta + f.abs(zscore_95 * beta) / zscore\n",
    "    ).when(direction == 'lower', beta - f.abs(zscore_95 * beta) / zscore).otherwise(None)\n",
    "\n",
    "def _harmonize_odds_ratio(odds_ratio: Column, needsHarmonization: Column) -> Column: \n",
    "    return f.when(needsHarmonization, 1/odds_ratio).otherwise(odds_ratio)\n",
    "\n",
    "def _calculate_or_ci(odds_ratio: Column, zscore: Column, direction: Column) -> Column:\n",
    "    zscore_95 = f.lit(1.96)\n",
    "    odds_ratio_estimate = f.log(odds_ratio)\n",
    "    odds_ratio_se = odds_ratio_estimate / zscore\n",
    "    return (\n",
    "        f.when(direction == 'upper', f.exp(odds_ratio_estimate + f.abs(zscore_95 * odds_ratio_se)))\n",
    "        .when(direction == 'lower', f.exp(odds_ratio_estimate - f.abs(zscore_95 * odds_ratio_se)))\n",
    "    )\n",
    "#  effectSize              | 0.161                                                                                                                                                                                                                                                                        \n",
    "#  confidenceInterval      | unit increase   \n",
    "(\n",
    "    df\n",
    "    # Adding a flag indicating if effect harmonization is required:\n",
    "    .withColumn(\n",
    "        \"needsHarmonisation\",\n",
    "        # If the alleles are palindrom - the reference and alt alleles are reverse complement of each other:\n",
    "        # eg. T -> A: in such cases we cannot disambiguate the effect, which means we cannot be sure if\n",
    "        # the effect is given to the alt allele on the positive strand or the ref allele on\n",
    "        # The negative strand. We assume, we don't need to harminze.\n",
    "        f.when(\n",
    "            (\n",
    "                f.col(\"referenceAllele\")\n",
    "                == _get_reverse_complement(f.col(\"alternateAllele\"))\n",
    "            ), False\n",
    "        )\n",
    "        .when(\n",
    "            # As we are calculating effect on the alternate allele, we have to harmonise effect\n",
    "            # if the risk allele is reference allele or the reverse complement of the reference allele\n",
    "            (f.col(\"riskAllele\") == f.col(\"referenceAllele\"))\n",
    "            | (\n",
    "                (\n",
    "                    f.col(\"riskAllele\")\n",
    "                    == _get_reverse_complement(f.col(\"referenceAllele\"))\n",
    "                )\n",
    "            ),\n",
    "            True,\n",
    "        ).otherwise(False),\n",
    "    )\n",
    "    # Z-score is needed to calculate 95% confidence interval:\n",
    "    .withColumn(\n",
    "        \"zscore\",\n",
    "        _pval_to_zscore(\n",
    "            f.concat_ws(\"E\", f.col(\"pValueMantissa\"), f.col(\"pValueExponent\"))\n",
    "        ),\n",
    "    )\n",
    "    # Harmonizing betas:\n",
    "    .withColumn('beta', _harmonize_beta(f.col('effectSize'), f.col('confidenceInterval'), f.col(\"needsHarmonisation\")))\n",
    "    .withColumn('beta_ci_upper', _calculate_beta_ci(f.col('beta'), f.col(\"zscore\"), f.lit('upper')))\n",
    "    .withColumn('beta_ci_lower', _calculate_beta_ci(f.col('beta'), f.col(\"zscore\"), f.lit('lower')))\n",
    "\n",
    "    # # Harmonizing odds-ratios:\n",
    "    .withColumn('odds_ratio', _harmonize_odds_ratio(f.col('effectSize'), f.col('confidenceInterval'), f.col(\"needsHarmonisation\")))\n",
    "    .withColumn('odds_ratio_ci_upper', _calculate_or_ci(f.col('odds_ratio'), f.col(\"zscore\"), f.lit('upper')))\n",
    "    .withColumn('odds_ratio_ci_lower', _calculate_or_ci(f.col('odds_ratio'), f.col(\"zscore\"), f.lit('lower')))\n",
    "\n",
    "    .show(1, False, True)\n",
    ")\n",
    "\n"
   ]
  },
  {
   "cell_type": "code",
   "execution_count": null,
   "id": "eac3b8b2",
   "metadata": {},
   "outputs": [],
   "source": [
    "\n"
   ]
  },
  {
   "cell_type": "code",
   "execution_count": 11,
   "id": "606ac537",
   "metadata": {},
   "outputs": [
    {
     "data": {
      "text/plain": [
       "-0.25621058518736545"
      ]
     },
     "execution_count": 11,
     "metadata": {},
     "output_type": "execute_result"
    }
   ],
   "source": [
    "from math import log10\n",
    "zscore = 4\n",
    "odds_ratio = 0.3\n",
    "zscore_95 = 1.96\n",
    "odds_ratio_estimate = log10(odds_ratio)\n",
    "odds_ratio_se = odds_ratio_estimate / zscore\n",
    "zscore_95 * odds_ratio_se\n"
   ]
  },
  {
   "cell_type": "code",
   "execution_count": 4,
   "id": "65ba36b0",
   "metadata": {},
   "outputs": [
    {
     "data": {
      "text/plain": [
       "-1.7879999999999998"
      ]
     },
     "execution_count": 4,
     "metadata": {},
     "output_type": "execute_result"
    }
   ],
   "source": [
    "-1.2 - abs(1.96*-1.2)/4"
   ]
  },
  {
   "cell_type": "code",
   "execution_count": null,
   "id": "67d2eb7d",
   "metadata": {},
   "outputs": [],
   "source": []
  }
 ],
 "metadata": {
  "kernelspec": {
   "display_name": "Python 3.8.13",
   "language": "python",
   "name": "python3"
  },
  "language_info": {
   "codemirror_mode": {
    "name": "ipython",
    "version": 3
   },
   "file_extension": ".py",
   "mimetype": "text/x-python",
   "name": "python",
   "nbconvert_exporter": "python",
   "pygments_lexer": "ipython3",
   "version": "3.8.13 | packaged by conda-forge | (default, Mar 25 2022, 06:04:10) \n[GCC 10.3.0]"
  },
  "vscode": {
   "interpreter": {
    "hash": "de3a7304373a2ed386fe951c9137ef8d6c9c0656a76027db0e908c100510c9c7"
   }
  }
 },
 "nbformat": 4,
 "nbformat_minor": 5
}
