{
 "cells": [
  {
   "cell_type": "code",
   "execution_count": 1,
   "metadata": {},
   "outputs": [
    {
     "name": "stderr",
     "output_type": "stream",
     "text": [
      "Setting default log level to \"WARN\".\n",
      "To adjust logging level use sc.setLogLevel(newLevel). For SparkR, use setLogLevel(newLevel).\n",
      "23/01/08 16:55:48 INFO org.apache.spark.SparkEnv: Registering MapOutputTracker\n",
      "23/01/08 16:55:48 INFO org.apache.spark.SparkEnv: Registering BlockManagerMaster\n",
      "23/01/08 16:55:48 INFO org.apache.spark.SparkEnv: Registering BlockManagerMasterHeartbeat\n",
      "23/01/08 16:55:48 INFO org.apache.spark.SparkEnv: Registering OutputCommitCoordinator\n"
     ]
    }
   ],
   "source": [
    "from pyspark.sql import SparkSession, functions as f, types as t, Column, DataFrame\n",
    "from pyspark.sql.window import Window, WindowSpec\n",
    "\n",
    "spark = SparkSession.builder.getOrCreate()\n",
    "\n",
    "# ld_file = 'gs://genetics_etl_python_playground/XX.XX/output/python_etl/parquet/pics_credible_set'\n",
    "# linked_data = spark.read.parquet(ld_file).persist()\n",
    "\n",
    "# linked_data.show()\n",
    "# linked_data.count()"
   ]
  },
  {
   "cell_type": "code",
   "execution_count": 28,
   "metadata": {},
   "outputs": [
    {
     "name": "stdout",
     "output_type": "stream",
     "text": [
      "-RECORD 0---------------------------------------------------------------------------------------------------------------------\n",
      " chromosome           | null                                                                                                  \n",
      " variantId            | chr1:96582508                                                                                         \n",
      " studyId              | GCST002593                                                                                            \n",
      " position             | null                                                                                                  \n",
      " referenceAllele      | null                                                                                                  \n",
      " alternateAllele      | null                                                                                                  \n",
      " pValueMantissa       | 9.0                                                                                                   \n",
      " pValueExponent       | -6                                                                                                    \n",
      " beta                 | -1.6052                                                                                               \n",
      " beta_ci_lower        | -2.3138174697863816                                                                                   \n",
      " beta_ci_upper        | -0.8965825302136181                                                                                   \n",
      " odds_ratio           | null                                                                                                  \n",
      " odds_ratio_ci_lower  | null                                                                                                  \n",
      " odds_ratio_ci_upper  | null                                                                                                  \n",
      " qualityControl       | [Subsignificant p-value, Incomplete genomic mapping, No mapping in GnomAd, Credible set not resolved] \n",
      " tagVariantId         | null                                                                                                  \n",
      " R_overall            | null                                                                                                  \n",
      " pics_mu              | null                                                                                                  \n",
      " pics_std             | null                                                                                                  \n",
      " pics_postprob        | null                                                                                                  \n",
      " pics_95_perc_credset | true                                                                                                  \n",
      " pics_99_perc_credset | true                                                                                                  \n",
      "only showing top 1 row\n",
      "\n"
     ]
    }
   ],
   "source": [
    "linked_data.show(1, False, True)\n",
    "\n",
    "# # Associations with LD set.\n",
    "# print(tags_sorted.select('variantId', 'studyId').distinct().count())\n",
    "\n",
    "# # Associations \n",
    "# (\n",
    "#     tags_sorted\n",
    "#     .groupBy('studyId', 'pair_id')\n",
    "#     .count()\n",
    "#     # .groupBy('count')\n",
    "#     .filter(f.col('count') > 1)\n",
    "#     .show(truncate=False)\n",
    "# )"
   ]
  },
  {
   "cell_type": "code",
   "execution_count": 51,
   "metadata": {},
   "outputs": [
    {
     "name": "stderr",
     "output_type": "stream",
     "text": [
      "[Stage 122:===================================================>   (16 + 1) / 17]\r"
     ]
    },
    {
     "name": "stdout",
     "output_type": "stream",
     "text": [
      "Number of resolved associations: 392106\n"
     ]
    },
    {
     "name": "stderr",
     "output_type": "stream",
     "text": [
      "                                                                                \r"
     ]
    }
   ],
   "source": [
    "# How many resolved lead exist:\n",
    "tags_sorted = (\n",
    "    linked_data\n",
    "    .filter(f.col('tagVariantId').isNotNull())\n",
    "    .withColumn('pair_id', f.concat_ws('-', f.array_sort(f.array(f.col('variantId'), f.col('tagVariantId')))))\n",
    "    # .withColumn(\n",
    "    #     'distance',\n",
    "    #     f.abs(\n",
    "    #         f.split(f.col('variantId'), '_').getItem(1).cast(t.IntegerType()) - \n",
    "    #         f.split(f.col('tagVariantId'), '_').getItem(1).cast(t.IntegerType())\n",
    "    #     )\n",
    "    # ) \n",
    "    .persist()\n",
    ")\n",
    "\n",
    "resolved_count = tags_sorted.select('studyId', 'variantId').distinct().count()\n",
    "print(f'Number of resolved associations: {resolved_count}')"
   ]
  },
  {
   "cell_type": "code",
   "execution_count": 52,
   "metadata": {},
   "outputs": [
    {
     "name": "stderr",
     "output_type": "stream",
     "text": [
      "[Stage 130:=================================================>     (17 + 2) / 19]\r"
     ]
    },
    {
     "name": "stdout",
     "output_type": "stream",
     "text": [
      "+-----+--------+\n",
      "|count|count   |\n",
      "+-----+--------+\n",
      "|6    |1       |\n",
      "|5    |78      |\n",
      "|1    |30122527|\n",
      "|2    |398407  |\n",
      "|4    |279     |\n",
      "+-----+--------+\n",
      "\n"
     ]
    },
    {
     "name": "stderr",
     "output_type": "stream",
     "text": [
      "                                                                                \r"
     ]
    }
   ],
   "source": [
    "# Associations \n",
    "(\n",
    "    tags_sorted\n",
    "    .groupBy('studyId', 'pair_id', 'distance')\n",
    "    .count()\n",
    "    .groupBy('count')\n",
    "    # .filter(f.col('count') > 1)\n",
    "    .count()\n",
    "    .show(100, truncate=False)\n",
    ")"
   ]
  },
  {
   "cell_type": "code",
   "execution_count": 57,
   "metadata": {},
   "outputs": [
    {
     "name": "stderr",
     "output_type": "stream",
     "text": [
      "[Stage 150:==================================================>  (192 + 8) / 200]\r"
     ]
    },
    {
     "name": "stdout",
     "output_type": "stream",
     "text": [
      "-RECORD 0-------------------------------\n",
      " studyId              | GCST000248      \n",
      " variantId            | 10_63361805_C_A \n",
      " tagVariantId         | 10_63515167_A_G \n",
      " qualityControl       | []              \n",
      " pValueMantissa       | 5.0             \n",
      " pValueExponent       | -10             \n",
      " R_overall            | 0.983452        \n",
      " pics_99_perc_credset | true            \n",
      "only showing top 1 row\n",
      "\n"
     ]
    },
    {
     "name": "stderr",
     "output_type": "stream",
     "text": [
      "                                                                                \r"
     ]
    }
   ],
   "source": [
    "columns = [\n",
    "    'studyId',\n",
    "    'variantId',\n",
    "    'tagVariantId', \n",
    "    'qualityControl', \n",
    "    'pValueMantissa', \n",
    "    'pValueExponent',\n",
    "    'R_overall',\n",
    "    'pics_99_perc_credset'\n",
    "]\n",
    "\n",
    "problematic = (\n",
    "    tags_sorted\n",
    "    .withColumn(\n",
    "        'count',\n",
    "        f.count(f.col('pair_id')).over(Window.partitionBy('studyId', 'pair_id'))\n",
    "    )\n",
    "    .filter(f.col('count') > 1)\n",
    "    .select(*columns)\n",
    "    .persist()\n",
    ")\n",
    "\n",
    "problematic.count()\n",
    "problematic.show(1, False, True)"
   ]
  },
  {
   "cell_type": "code",
   "execution_count": 60,
   "metadata": {},
   "outputs": [
    {
     "name": "stderr",
     "output_type": "stream",
     "text": [
      "                                                                                \r"
     ]
    },
    {
     "data": {
      "text/plain": [
       "47317"
      ]
     },
     "execution_count": 60,
     "metadata": {},
     "output_type": "execute_result"
    }
   ],
   "source": [
    "problematic.select('studyId', 'variantId').distinct().count()"
   ]
  },
  {
   "cell_type": "code",
   "execution_count": 48,
   "metadata": {},
   "outputs": [
    {
     "name": "stdout",
     "output_type": "stream",
     "text": [
      "+------------+-----------------------------------+-----+\n",
      "|studyId     |pair_id                            |dist |\n",
      "+------------+-----------------------------------+-----+\n",
      "|GCST90026657|2_233687171_A_C-2_233703808_CTCTG_C|16637|\n",
      "+------------+-----------------------------------+-----+\n",
      "\n"
     ]
    }
   ],
   "source": [
    "(\n",
    "    tags_sorted\n",
    "    .filter(\n",
    "        (f.col('studyId') == study_id) & \n",
    "        (f.col('pair_id') == pair_id)\n",
    "    )\n",
    "    .select(*columns)\n",
    "    .show(truncate=False)\n",
    ")"
   ]
  },
  {
   "cell_type": "code",
   "execution_count": 47,
   "metadata": {},
   "outputs": [
    {
     "data": {
      "text/plain": [
       "['2', '233687171', 'A', 'C-2', '233703808', 'CTCTG', 'C']"
      ]
     },
     "execution_count": 47,
     "metadata": {},
     "output_type": "execute_result"
    }
   ],
   "source": [
    "'2_233687171_A_C-2_233703808_CTCTG_C'.split('_')"
   ]
  },
  {
   "cell_type": "code",
   "execution_count": 63,
   "metadata": {},
   "outputs": [
    {
     "name": "stderr",
     "output_type": "stream",
     "text": [
      "[Stage 189:=======================================>            (153 + 16) / 200]\r"
     ]
    },
    {
     "name": "stdout",
     "output_type": "stream",
     "text": [
      "+---------------+\n",
      "|        studyId|\n",
      "+---------------+\n",
      "|   GCST90060602|\n",
      "|   GCST006072_2|\n",
      "|     GCST008025|\n",
      "|   GCST90060831|\n",
      "|   GCST90060635|\n",
      "|   GCST005463_1|\n",
      "|     GCST003264|\n",
      "|   GCST003265_1|\n",
      "|   GCST90060139|\n",
      "|   GCST90060328|\n",
      "|   GCST90060772|\n",
      "|     GCST005149|\n",
      "|     GCST004750|\n",
      "|   GCST90060824|\n",
      "|   GCST90019502|\n",
      "|   GCST90053837|\n",
      "| GCST009391_166|\n",
      "| GCST011427_412|\n",
      "|   GCST90060638|\n",
      "|   GCST90060939|\n",
      "|   GCST90026785|\n",
      "|     GCST003266|\n",
      "|     GCST005790|\n",
      "|   GCST90132904|\n",
      "|   GCST90027092|\n",
      "|   GCST90060164|\n",
      "|     GCST005956|\n",
      "| GCST90086172_1|\n",
      "|   GCST90129558|\n",
      "|   GCST90027007|\n",
      "|     GCST011141|\n",
      "|     GCST006280|\n",
      "|     GCST001693|\n",
      "|   GCST90060808|\n",
      "|GCST006585_1466|\n",
      "|   GCST90060211|\n",
      "|   GCST90060162|\n",
      "|   GCST90060818|\n",
      "|   GCST90026828|\n",
      "|   GCST90085921|\n",
      "|     GCST002306|\n",
      "|   GCST90027091|\n",
      "|     GCST009577|\n",
      "|     GCST012200|\n",
      "|   GCST90026965|\n",
      "|     GCST002745|\n",
      "|     GCST003243|\n",
      "|   GCST90011735|\n",
      "|  GCST006249_24|\n",
      "|     GCST009826|\n",
      "|GCST006585_1008|\n",
      "|  GCST009537_20|\n",
      "|     GCST009662|\n",
      "|   GCST90060312|\n",
      "|     GCST006395|\n",
      "|     GCST009130|\n",
      "|   GCST90060243|\n",
      "|  GCST009518_37|\n",
      "|   GCST90060979|\n",
      "|     GCST004863|\n",
      "|   GCST007095_2|\n",
      "| GCST011427_373|\n",
      "| GCST011427_272|\n",
      "|     GCST006088|\n",
      "| GCST006585_102|\n",
      "|   GCST90060955|\n",
      "|     GCST000523|\n",
      "|   GCST004862_1|\n",
      "|   GCST90060843|\n",
      "|     GCST007600|\n",
      "| GCST009391_130|\n",
      "|   GCST009696_3|\n",
      "|   GCST009518_5|\n",
      "|   GCST90019495|\n",
      "|   GCST90162636|\n",
      "|   GCST90103753|\n",
      "|     GCST005921|\n",
      "|   GCST005755_2|\n",
      "|  GCST009518_39|\n",
      "|     GCST008059|\n",
      "|  GCST009696_15|\n",
      "|  GCST005656_43|\n",
      "|   GCST90000059|\n",
      "|     GCST004746|\n",
      "|     GCST003501|\n",
      "|   GCST90027081|\n",
      "|   GCST90095037|\n",
      "|   GCST90026873|\n",
      "|     GCST007269|\n",
      "|   GCST012048_1|\n",
      "|   GCST001938_1|\n",
      "|     GCST003844|\n",
      "|     GCST002279|\n",
      "|     GCST007502|\n",
      "|   GCST90003079|\n",
      "| GCST006585_577|\n",
      "|     GCST009828|\n",
      "|GCST006585_1095|\n",
      "|     GCST006436|\n",
      "|     GCST003472|\n",
      "+---------------+\n",
      "only showing top 100 rows\n",
      "\n"
     ]
    },
    {
     "name": "stderr",
     "output_type": "stream",
     "text": [
      "                                                                                \r"
     ]
    }
   ],
   "source": [
    "problematic.select('studyId').distinct().show(100)"
   ]
  },
  {
   "cell_type": "code",
   "execution_count": 65,
   "metadata": {},
   "outputs": [
    {
     "name": "stderr",
     "output_type": "stream",
     "text": [
      "[Stage 196:==========================================>         (165 + 16) / 200]\r"
     ]
    },
    {
     "name": "stdout",
     "output_type": "stream",
     "text": [
      "+---------------+\n",
      "|        studyId|\n",
      "+---------------+\n",
      "|  GCST009518_37|\n",
      "|   GCST90060602|\n",
      "|     GCST003266|\n",
      "|     GCST008025|\n",
      "|   GCST90060808|\n",
      "|   GCST90060831|\n",
      "|     GCST004750|\n",
      "|     GCST009577|\n",
      "|   GCST90060164|\n",
      "|   GCST90019502|\n",
      "|GCST006585_1379|\n",
      "|   GCST90060139|\n",
      "|   GCST90060772|\n",
      "|   GCST90060818|\n",
      "|     GCST000248|\n",
      "|   GCST90026657|\n",
      "|GCST006585_1729|\n",
      "|   GCST90060635|\n",
      "|   GCST90132904|\n",
      "|   GCST90060824|\n",
      "+---------------+\n",
      "only showing top 20 rows\n",
      "\n"
     ]
    },
    {
     "name": "stderr",
     "output_type": "stream",
     "text": [
      "                                                                                \r"
     ]
    }
   ],
   "source": [
    "problematic.filter(f.size(f.col('qualityControl')) == 0).select('studyId').distinct().show(\n",
    "\n",
    ")"
   ]
  },
  {
   "cell_type": "code",
   "execution_count": 20,
   "metadata": {},
   "outputs": [
    {
     "name": "stdout",
     "output_type": "stream",
     "text": [
      "+-------+---------+------------+--------------+--------------+---------+--------------+\n",
      "|studyId|variantId|tagVariantId|pValueMantissa|pValueExponent|R_overall|qualityControl|\n",
      "+-------+---------+------------+--------------+--------------+---------+--------------+\n",
      "|     s1|       v1|          v1|             1|            -9|      1.0|            []|\n",
      "|     s1|       v1|          v2|             1|            -9|     0.98|            []|\n",
      "|     s1|       v1|          v4|             1|            -9|     0.98|            []|\n",
      "|     s1|       v2|          v1|             1|            -8|     0.98|            []|\n",
      "|     s1|       v2|          v2|             1|            -8|      1.0|            []|\n",
      "|     s1|       v2|          v4|             1|            -8|     0.98|            []|\n",
      "|     s1|       v3|        null|             1|           -18|     null|            []|\n",
      "|     s1|       v4|          v1|             4|            -9|     0.98|            []|\n",
      "|     s1|       v4|          v2|             4|            -9|     0.98|            []|\n",
      "|     s1|       v4|          v4|             4|            -9|      1.0|            []|\n",
      "|     s2|       v2|          v2|             1|           -12|      1.0|            []|\n",
      "|     s2|       v2|          v1|             1|           -12|     0.98|            []|\n",
      "+-------+---------+------------+--------------+--------------+---------+--------------+\n",
      "\n"
     ]
    }
   ],
   "source": [
    "column_names = [\n",
    "    'studyId',\n",
    "    'variantId',\n",
    "    'tagVariantId',\n",
    "    'pValueMantissa',\n",
    "    'pValueExponent',\n",
    "    'R_overall',\n",
    "]\n",
    "\n",
    "data = [\n",
    "    # First study, variant 1:\n",
    "    ('s1', 'v1', 'v1', 1, -9, 1.0),\n",
    "    ('s1', 'v1', 'v2', 1, -9, 0.98),\n",
    "    ('s1', 'v1', 'v4', 1, -9, 0.98),\n",
    "    # First study, variant 2, higher p-value, explained by v1:\n",
    "    ('s1', 'v2', 'v1', 1, -8, 0.98),\n",
    "    ('s1', 'v2', 'v2', 1, -8, 1.0),\n",
    "    ('s1', 'v2', 'v4', 1, -8, 0.98),\n",
    "    # First study, variant 3, not resolved in ld:\n",
    "    ('s1', 'v3', None, 1, -18, None),\n",
    "    # First study, variant 4: higher p-value, explained by v1\n",
    "    ('s1', 'v4', 'v1', 4, -9, 0.98),\n",
    "    ('s1', 'v4', 'v2', 4, -9, 0.98),\n",
    "    ('s1', 'v4', 'v4', 4, -9, 1.0),\n",
    "    # Second study, same variant discovered earlier:\n",
    "    ('s2', 'v2', 'v2', 1, -12, 1.0),\n",
    "    ('s2', 'v2', 'v1', 1, -12, 0.98),\n",
    "]\n",
    "\n",
    "df = (\n",
    "    spark.createDataFrame(data, column_names)\n",
    "    .withColumn('qualityControl', f.array())\n",
    "    .persist()\n",
    ")\n",
    "df.show()"
   ]
  },
  {
   "cell_type": "code",
   "execution_count": 21,
   "metadata": {},
   "outputs": [
    {
     "name": "stdout",
     "output_type": "stream",
     "text": [
      "+-------+---------+------------+--------------+--------------+---------+------------------------------+\n",
      "|studyId|variantId|tagVariantId|pValueMantissa|pValueExponent|R_overall|qualityControl                |\n",
      "+-------+---------+------------+--------------+--------------+---------+------------------------------+\n",
      "|s2     |v2       |v1          |1             |-12           |0.98     |[]                            |\n",
      "|s2     |v2       |v2          |1             |-12           |1.0      |[]                            |\n",
      "|s1     |v2       |null        |1             |-8            |null     |[Association explained by: v1]|\n",
      "|s1     |v4       |null        |4             |-9            |null     |[Association explained by: v1]|\n",
      "|s1     |v3       |null        |1             |-18           |null     |[]                            |\n",
      "|s1     |v1       |v4          |1             |-9            |0.98     |[]                            |\n",
      "|s1     |v1       |v1          |1             |-9            |1.0      |[]                            |\n",
      "|s1     |v1       |v2          |1             |-9            |0.98     |[]                            |\n",
      "+-------+---------+------------+--------------+--------------+---------+------------------------------+\n",
      "\n"
     ]
    }
   ],
   "source": [
    "def _neglog_p(p_value_mantissa: Column, p_value_exponent: Column) -> Column:\n",
    "    \"\"\"Compute the negative log p-value.\n",
    "\n",
    "    Args:\n",
    "        p_value_mantissa (Column): P-value mantissa\n",
    "        p_value_exponent (Column): P-value exponent\n",
    "\n",
    "    Returns:\n",
    "        Column: Negative log p-value\n",
    "\n",
    "    Examples:\n",
    "        >>> d = [(1, 1), (5, -2), (1, -1000)]\n",
    "        >>> df = spark.createDataFrame(d).toDF(\"p_value_mantissa\", \"p_value_exponent\")\n",
    "        >>> df.withColumn(\"neg_log_p\", _neglog_p(f.col(\"p_value_mantissa\"), f.col(\"p_value_exponent\"))).show()\n",
    "        +----------------+----------------+------------------+\n",
    "        |p_value_mantissa|p_value_exponent|         neg_log_p|\n",
    "        +----------------+----------------+------------------+\n",
    "        |               1|               1|              -1.0|\n",
    "        |               5|              -2|1.3010299956639813|\n",
    "        |               1|           -1000|            1000.0|\n",
    "        +----------------+----------------+------------------+\n",
    "        <BLANKLINE>\n",
    "    \"\"\"\n",
    "    return -1 * (f.log10(p_value_mantissa) + p_value_exponent)\n",
    "\n",
    "\n",
    "def adding_quality_flag(\n",
    "    qc_column: Column, flag_condition: Column, flag_text: str\n",
    ") -> Column:\n",
    "    \"\"\"Update the provided quality control list with a new flag if condition is met.\n",
    "\n",
    "    Args:\n",
    "        qc_column (Column): Array column with existing QC flags.\n",
    "        flag_condition (Column): This is a column of booleans, signing which row should be flagged\n",
    "        flag_text (str): Text for the new quality control flag\n",
    "\n",
    "    Returns:\n",
    "        Column: Array column with the updated list of qc flags.\n",
    "\n",
    "    Examples:\n",
    "    >>> data = [(True, ['Existing flag']),(True, []),(False, [])]\n",
    "    >>> new_flag = 'This is a new flag'\n",
    "    >>> (\n",
    "    ...     spark.createDataFrame(data, ['flag', 'qualityControl'])\n",
    "    ...     .withColumn('qualityControl', adding_quality_flag(f.col('qualityControl'), f.col('flag'), new_flag))\n",
    "    ...     .show(truncate=False)\n",
    "    ... )\n",
    "    +-----+-----------------------------------+\n",
    "    |flag |qualityControl                     |\n",
    "    +-----+-----------------------------------+\n",
    "    |true |[Existing flag, This is a new flag]|\n",
    "    |true |[This is a new flag]               |\n",
    "    |false|[]                                 |\n",
    "    +-----+-----------------------------------+\n",
    "    <BLANKLINE>\n",
    "    \"\"\"\n",
    "    return f.when(\n",
    "        flag_condition,\n",
    "        f.array_union(qc_column, f.array(f.lit(flag_text))),\n",
    "    ).otherwise(qc_column)\n",
    "\n",
    "w = Window.partitionBy('studyId', 'variantPair').orderBy(f.col('negLogPVal').desc())\n",
    "\n",
    "(\n",
    "    df\n",
    "    # lead/tag pairs irrespective of the order:\n",
    "    .withColumn('variantPair', f.concat(f.array_sort(f.array(f.col('variantId'), f.col('tagVariantId')))))\n",
    "    # Generating the negLogPval:\n",
    "    .withColumn('negLogPVal', _neglog_p(f.col('pValueMantissa'), f.col('pValueExponent')))\n",
    "    # Counting the number of occurrence for each pair - for one study, each pair should occure only once:\n",
    "    .withColumn('rank', f.count(f.col('tagVariantId')).over(w))\n",
    "    # Only the most significant lead is kept if credible sets are overlapping + keeping lead if credible set is not resolved:\n",
    "    .withColumn('keep_lead', f.when(f.max(f.col('rank')).over(Window.partitionBy('studyId', 'variantId')) <= 1, True).otherwise(False))\n",
    "    # Adding reference lead that explains:\n",
    "    .withColumn('reference_lead', f.when(\n",
    "        f.col('rank') > 1, f.col('tagVariantId')\n",
    "    ))\n",
    "    # One credible set might contain multiple tags that are themselves leads. We need to collect them into an array:\n",
    "    # At this point we move from lead/tag to study/lead level:\n",
    "    .withColumn(\n",
    "        'all_explained',\n",
    "        f.collect_set(f.col('reference_lead')).over(Window.partitionBy('studyId', 'variantId'))\n",
    "    )\n",
    "    # For a study we collect all the lead variants that are not explained by other lead:\n",
    "    .withColumn(\n",
    "        'good_signals',\n",
    "        f.collect_set(f.when(f.col('keep_lead'), f.col('variantId'))).over(Window.partitionBy('studyId'))\n",
    "    )\n",
    "    # As a lead can be explained by multiple other leads, we select the one, which is not explained by other:\n",
    "    .withColumn(\n",
    "        'explained_by',\n",
    "        f.array_intersect('good_signals', 'all_explained').getItem(0)\n",
    "    )\n",
    "    # Dropping credible sets that are explained:\n",
    "    .filter(f.col('keep_lead') | f.col('reference_lead').isNotNull())\n",
    "    # Adding QC flag with the respective lead:\n",
    "    .withColumn(\n",
    "        'qualityControl', \n",
    "        adding_quality_flag(\n",
    "            f.col('qualityControl'),\n",
    "            f.col('reference_lead').isNotNull(),\n",
    "            f.concat_ws(' ', f.lit('Association explained by:'), f.col('explained_by'))\n",
    "        )\n",
    "    )\n",
    "    # Remove tag information if lead is explained by other variant:\n",
    "    .withColumn(\n",
    "        'tagVariantId', f.when(f.col('reference_lead').isNull(), f.col('tagVariantId'))\n",
    "    )\n",
    "    .withColumn(\n",
    "        'R_overall', f.when(f.col('reference_lead').isNull(), f.col('R_overall'))\n",
    "    )\n",
    "    # Drop unused column:\n",
    "    .drop('reference_lead', 'variantPair', 'negLogPVal', 'rank', 'keep_lead','all_explained', 'good_signals', 'explained_by')\n",
    "    .distinct()\n",
    "    .show(truncate=False)\n",
    ")"
   ]
  },
  {
   "cell_type": "code",
   "execution_count": 1,
   "metadata": {},
   "outputs": [
    {
     "ename": "NameError",
     "evalue": "name 'spark' is not defined",
     "output_type": "error",
     "traceback": [
      "\u001b[0;31m---------------------------------------------------------------------------\u001b[0m",
      "\u001b[0;31mNameError\u001b[0m                                 Traceback (most recent call last)",
      "\u001b[1;32m/home/dsuveges/random_notebooks/resolve_independent.ipynb Cell 13\u001b[0m in \u001b[0;36m<cell line: 1>\u001b[0;34m()\u001b[0m\n\u001b[0;32m----> <a href='vscode-notebook-cell://ssh-remote%2Bds-single-m.europe-west1-d.open-targets-eu-dev/home/dsuveges/random_notebooks/resolve_independent.ipynb#X15sdnNjb2RlLXJlbW90ZQ%3D%3D?line=0'>1</a>\u001b[0m \u001b[39mtype\u001b[39m(spark)\n",
      "\u001b[0;31mNameError\u001b[0m: name 'spark' is not defined"
     ]
    }
   ],
   "source": [
    "type(spark)"
   ]
  },
  {
   "cell_type": "code",
   "execution_count": 1,
   "metadata": {},
   "outputs": [
    {
     "ename": "NameError",
     "evalue": "name 'spark' is not defined",
     "output_type": "error",
     "traceback": [
      "\u001b[0;31m---------------------------------------------------------------------------\u001b[0m",
      "\u001b[0;31mNameError\u001b[0m                                 Traceback (most recent call last)",
      "\u001b[1;32m/home/dsuveges/random_notebooks/genetics_rewrite/resolve_independent.ipynb Cell 14\u001b[0m in \u001b[0;36m<cell line: 36>\u001b[0;34m()\u001b[0m\n\u001b[1;32m      <a href='vscode-notebook-cell://ssh-remote%2Bds-single-m.europe-west1-d.open-targets-eu-dev/home/dsuveges/random_notebooks/genetics_rewrite/resolve_independent.ipynb#X16sdnNjb2RlLXJlbW90ZQ%3D%3D?line=0'>1</a>\u001b[0m column_names \u001b[39m=\u001b[39m [\n\u001b[1;32m      <a href='vscode-notebook-cell://ssh-remote%2Bds-single-m.europe-west1-d.open-targets-eu-dev/home/dsuveges/random_notebooks/genetics_rewrite/resolve_independent.ipynb#X16sdnNjb2RlLXJlbW90ZQ%3D%3D?line=1'>2</a>\u001b[0m     \u001b[39m'\u001b[39m\u001b[39mstudyId\u001b[39m\u001b[39m'\u001b[39m,\n\u001b[1;32m      <a href='vscode-notebook-cell://ssh-remote%2Bds-single-m.europe-west1-d.open-targets-eu-dev/home/dsuveges/random_notebooks/genetics_rewrite/resolve_independent.ipynb#X16sdnNjb2RlLXJlbW90ZQ%3D%3D?line=2'>3</a>\u001b[0m     \u001b[39m'\u001b[39m\u001b[39mvariantId\u001b[39m\u001b[39m'\u001b[39m,\n\u001b[0;32m   (...)\u001b[0m\n\u001b[1;32m      <a href='vscode-notebook-cell://ssh-remote%2Bds-single-m.europe-west1-d.open-targets-eu-dev/home/dsuveges/random_notebooks/genetics_rewrite/resolve_independent.ipynb#X16sdnNjb2RlLXJlbW90ZQ%3D%3D?line=6'>7</a>\u001b[0m     \u001b[39m'\u001b[39m\u001b[39mR_overall\u001b[39m\u001b[39m'\u001b[39m,\n\u001b[1;32m      <a href='vscode-notebook-cell://ssh-remote%2Bds-single-m.europe-west1-d.open-targets-eu-dev/home/dsuveges/random_notebooks/genetics_rewrite/resolve_independent.ipynb#X16sdnNjb2RlLXJlbW90ZQ%3D%3D?line=7'>8</a>\u001b[0m ]\n\u001b[1;32m     <a href='vscode-notebook-cell://ssh-remote%2Bds-single-m.europe-west1-d.open-targets-eu-dev/home/dsuveges/random_notebooks/genetics_rewrite/resolve_independent.ipynb#X16sdnNjb2RlLXJlbW90ZQ%3D%3D?line=9'>10</a>\u001b[0m data \u001b[39m=\u001b[39m [\n\u001b[1;32m     <a href='vscode-notebook-cell://ssh-remote%2Bds-single-m.europe-west1-d.open-targets-eu-dev/home/dsuveges/random_notebooks/genetics_rewrite/resolve_independent.ipynb#X16sdnNjb2RlLXJlbW90ZQ%3D%3D?line=10'>11</a>\u001b[0m     \u001b[39m# First study, variant 1 independent association:\u001b[39;00m\n\u001b[1;32m     <a href='vscode-notebook-cell://ssh-remote%2Bds-single-m.europe-west1-d.open-targets-eu-dev/home/dsuveges/random_notebooks/genetics_rewrite/resolve_independent.ipynb#X16sdnNjb2RlLXJlbW90ZQ%3D%3D?line=11'>12</a>\u001b[0m     (\u001b[39m'\u001b[39m\u001b[39ms1\u001b[39m\u001b[39m'\u001b[39m, \u001b[39m'\u001b[39m\u001b[39mv1\u001b[39m\u001b[39m'\u001b[39m, \u001b[39m'\u001b[39m\u001b[39mv1\u001b[39m\u001b[39m'\u001b[39m, \u001b[39m1\u001b[39m, \u001b[39m-\u001b[39m\u001b[39m9\u001b[39m, \u001b[39m1.0\u001b[39m),\n\u001b[0;32m   (...)\u001b[0m\n\u001b[1;32m     <a href='vscode-notebook-cell://ssh-remote%2Bds-single-m.europe-west1-d.open-targets-eu-dev/home/dsuveges/random_notebooks/genetics_rewrite/resolve_independent.ipynb#X16sdnNjb2RlLXJlbW90ZQ%3D%3D?line=31'>32</a>\u001b[0m     (\u001b[39m'\u001b[39m\u001b[39ms2\u001b[39m\u001b[39m'\u001b[39m, \u001b[39m'\u001b[39m\u001b[39mv6\u001b[39m\u001b[39m'\u001b[39m, \u001b[39m'\u001b[39m\u001b[39mv6\u001b[39m\u001b[39m'\u001b[39m, \u001b[39m5\u001b[39m, \u001b[39m-\u001b[39m\u001b[39m8\u001b[39m, \u001b[39m0.98\u001b[39m),\n\u001b[1;32m     <a href='vscode-notebook-cell://ssh-remote%2Bds-single-m.europe-west1-d.open-targets-eu-dev/home/dsuveges/random_notebooks/genetics_rewrite/resolve_independent.ipynb#X16sdnNjb2RlLXJlbW90ZQ%3D%3D?line=32'>33</a>\u001b[0m ]\n\u001b[1;32m     <a href='vscode-notebook-cell://ssh-remote%2Bds-single-m.europe-west1-d.open-targets-eu-dev/home/dsuveges/random_notebooks/genetics_rewrite/resolve_independent.ipynb#X16sdnNjb2RlLXJlbW90ZQ%3D%3D?line=34'>35</a>\u001b[0m df \u001b[39m=\u001b[39m (\n\u001b[0;32m---> <a href='vscode-notebook-cell://ssh-remote%2Bds-single-m.europe-west1-d.open-targets-eu-dev/home/dsuveges/random_notebooks/genetics_rewrite/resolve_independent.ipynb#X16sdnNjb2RlLXJlbW90ZQ%3D%3D?line=35'>36</a>\u001b[0m     spark\u001b[39m.\u001b[39mcreateDataFrame(data, column_names)\n\u001b[1;32m     <a href='vscode-notebook-cell://ssh-remote%2Bds-single-m.europe-west1-d.open-targets-eu-dev/home/dsuveges/random_notebooks/genetics_rewrite/resolve_independent.ipynb#X16sdnNjb2RlLXJlbW90ZQ%3D%3D?line=36'>37</a>\u001b[0m     \u001b[39m.\u001b[39mwithColumn(\u001b[39m'\u001b[39m\u001b[39mqualityControl\u001b[39m\u001b[39m'\u001b[39m, f\u001b[39m.\u001b[39marray())\n\u001b[1;32m     <a href='vscode-notebook-cell://ssh-remote%2Bds-single-m.europe-west1-d.open-targets-eu-dev/home/dsuveges/random_notebooks/genetics_rewrite/resolve_independent.ipynb#X16sdnNjb2RlLXJlbW90ZQ%3D%3D?line=37'>38</a>\u001b[0m     \u001b[39m.\u001b[39mpersist()\n\u001b[1;32m     <a href='vscode-notebook-cell://ssh-remote%2Bds-single-m.europe-west1-d.open-targets-eu-dev/home/dsuveges/random_notebooks/genetics_rewrite/resolve_independent.ipynb#X16sdnNjb2RlLXJlbW90ZQ%3D%3D?line=38'>39</a>\u001b[0m )\n\u001b[1;32m     <a href='vscode-notebook-cell://ssh-remote%2Bds-single-m.europe-west1-d.open-targets-eu-dev/home/dsuveges/random_notebooks/genetics_rewrite/resolve_independent.ipynb#X16sdnNjb2RlLXJlbW90ZQ%3D%3D?line=39'>40</a>\u001b[0m df\u001b[39m.\u001b[39mshow()\n",
      "\u001b[0;31mNameError\u001b[0m: name 'spark' is not defined"
     ]
    }
   ],
   "source": [
    "column_names = [\n",
    "    'studyId',\n",
    "    'variantId',\n",
    "    'tagVariantId',\n",
    "    'pValueMantissa',\n",
    "    'pValueExponent',\n",
    "    'R_overall',\n",
    "]\n",
    "\n",
    "data = [\n",
    "    # First study, variant 1 independent association:\n",
    "    ('s1', 'v1', 'v1', 1, -9, 1.0),\n",
    "    # First study, variant 3, not resolved in ld:\n",
    "    ('s1', 'v2', None, 1, -18, None),\n",
    "    # First study, variant 2, higher p-value, explained by v1:\n",
    "    ('s1', 'v3', 'v3', 1, -18, 0.98),\n",
    "    ('s1', 'v3', 'v4', 1, -18, 1.0),\n",
    "    ('s1', 'v3', 'v5', 1, -18, 0.98),\n",
    "    # First study, variant 4: higher p-value, explained by v1\n",
    "    ('s1', 'v4', 'v3', 4, -9, 0.98),\n",
    "    ('s1', 'v4', 'v5', 4, -9, 0.98),\n",
    "    ('s1', 'v4', 'v6', 4, -9, 1.0),\n",
    "    ('s1', 'v4', 'v4', 4, -9, 1.0),\n",
    "    # Second study, same variant discovered earlier:\n",
    "    ('s2', 'v5', 'v5', 1, -8, 1.0),\n",
    "    ('s2', 'v5', 'v3', 1, -8, 1.0),\n",
    "    ('s2', 'v5', 'v4', 1, -8, 0.98),\n",
    "    ('s2', 'v5', 'v6', 1, -8, 0.98),\n",
    "    # Second study, same variant discovered earlier:\n",
    "    ('s2', 'v6', 'v5', 5, -8, 1.0),\n",
    "    ('s2', 'v6', 'v4', 5, -8, 1.0),\n",
    "    ('s2', 'v6', 'v6', 5, -8, 0.98),\n",
    "]\n",
    "\n",
    "df = (\n",
    "    spark.createDataFrame(data, column_names)\n",
    "    .withColumn('qualityControl', f.array())\n",
    "    .persist()\n",
    ")\n",
    "df.show()"
   ]
  },
  {
   "cell_type": "code",
   "execution_count": null,
   "metadata": {},
   "outputs": [],
   "source": []
  }
 ],
 "metadata": {
  "kernelspec": {
   "display_name": "Python 3",
   "language": "python",
   "name": "python3"
  },
  "language_info": {
   "codemirror_mode": {
    "name": "ipython",
    "version": 3
   },
   "file_extension": ".py",
   "mimetype": "text/x-python",
   "name": "python",
   "nbconvert_exporter": "python",
   "pygments_lexer": "ipython3",
   "version": "3.8.13"
  },
  "orig_nbformat": 4,
  "vscode": {
   "interpreter": {
    "hash": "de3a7304373a2ed386fe951c9137ef8d6c9c0656a76027db0e908c100510c9c7"
   }
  }
 },
 "nbformat": 4,
 "nbformat_minor": 2
}
