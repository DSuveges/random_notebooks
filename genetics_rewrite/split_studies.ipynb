{
 "cells": [
  {
   "cell_type": "code",
   "execution_count": 10,
   "metadata": {},
   "outputs": [
    {
     "name": "stderr",
     "output_type": "stream",
     "text": [
      "22/11/28 14:56:31 WARN org.apache.spark.sql.execution.CacheManager: Asked to cache already cached data.\n"
     ]
    }
   ],
   "source": [
    "from pyspark.sql import SparkSession, functions as f, types as t, DataFrame, Column\n",
    "from pyspark.sql.window import Window\n",
    "\n",
    "spark = SparkSession.builder.getOrCreate()\n",
    "\n",
    "study_file = 'gs://ot-team/dsuveges/pre-split-gwas-studies'\n",
    "association_file = 'gs://genetics_etl_python_playground/XX.XX/output/python_etl/parquet/gwas_catalog_associations'\n",
    "\n",
    "study_df = spark.read.parquet(study_file).persist()\n",
    "assoc_df = spark.read.parquet(association_file).persist()"
   ]
  },
  {
   "cell_type": "code",
   "execution_count": 11,
   "metadata": {},
   "outputs": [
    {
     "name": "stderr",
     "output_type": "stream",
     "text": [
      "[Stage 14:>                                                         (0 + 1) / 1]\r"
     ]
    },
    {
     "name": "stdout",
     "output_type": "stream",
     "text": [
      "-RECORD 0--------------------------------------------------------------------------------\n",
      " studyAccession       | GCST000290                                                       \n",
      " pubmedId             | 19060906                                                         \n",
      " firstAuthor          | Kathiresan S                                                     \n",
      " publicationDate      | 2008-12-07                                                       \n",
      " journal              | Nat Genet                                                        \n",
      " study                | Common variants at 30 loci contribute to polygenic dyslipidemia. \n",
      " studyDiseaseTrait    | HDL cholesterol                                                  \n",
      " studyEfos            | [EFO_0004612]                                                    \n",
      " backgroundEfos       | null                                                             \n",
      " initialSampleSize    | 19,840 European ancestry individuals                             \n",
      " nCases               | 0                                                                \n",
      " nControls            | 0                                                                \n",
      " nSamples             | 19840                                                            \n",
      " discoverySamples     | [{19840, European}]                                              \n",
      " replicationSamples   | [{20623, European}]                                              \n",
      " gnomadSamples        | [{1.0, nfe}]                                                     \n",
      " summarystatsLocation | null                                                             \n",
      " hasSumstats          | false                                                            \n",
      "only showing top 1 row\n",
      "\n",
      "-RECORD 0-----------------------------------------\n",
      " chromosome              | 1                      \n",
      " position                | 118896200              \n",
      " referenceAllele         | null                   \n",
      " alternateAllele         | null                   \n",
      " variantId               | null                   \n",
      " studyAccession          | GCST005116             \n",
      " AssociationEfos         | [EFO_0004191]          \n",
      " associationDiseaseTrait | Male-pattern baldness  \n",
      " pValueText              | null                   \n",
      " pValueMantissa          | 3.0                    \n",
      " pValueExponent          | -19                    \n",
      " beta                    | -0.178323              \n",
      " beta_ci_lower           | -0.21729326112139913   \n",
      " beta_ci_upper           | -0.1393527388786009    \n",
      " odds_ratio              | null                   \n",
      " odds_ratio_ci_lower     | null                   \n",
      " odds_ratio_ci_upper     | null                   \n",
      " direction               | +                      \n",
      " qualityControl          | [No mapping in GnomAd] \n",
      "only showing top 1 row\n",
      "\n"
     ]
    },
    {
     "name": "stderr",
     "output_type": "stream",
     "text": [
      "                                                                                \r"
     ]
    }
   ],
   "source": [
    "study_df.show(1, False, True)\n",
    "assoc_df.show(1, False, True)\n"
   ]
  },
  {
   "cell_type": "code",
   "execution_count": 5,
   "metadata": {},
   "outputs": [],
   "source": [
    "def spliting_gwas_studies(study_association: DataFrame) -> DataFrame:\n",
    "    \"\"\"Splitting studies and consolidating disease annotation.\n",
    "\n",
    "    Processing disease annotation of the joined study/association table. If assigned disease\n",
    "    of the study and the association don't agree, we assume the study needs to be split.\n",
    "    Then disease EFOs, trait names and study i are consolidated\n",
    "\n",
    "    Args:\n",
    "        study_association (DataFrame): DataFrame\n",
    "\n",
    "    Returns:\n",
    "        A dataframe with the studyAccession, studyId, DiseaseTrait, and efos columns.\n",
    "    \"\"\"\n",
    "    # Windowing throught all study accessions, while ordering by association EFOs:\n",
    "    window_spec = Window.partitionBy(\"studyAccession\").orderBy(\"associationEfos\")\n",
    "\n",
    "    return (\n",
    "        study_association\n",
    "        # Assign ranks for each association EFO group within a studyAccession group:\n",
    "        .withColumn(\"row_number\", f.dense_rank().over(window_spec) - 1)\n",
    "        # Study identifiers are split when there are more than one type of associationEfos:\n",
    "        .withColumn(\n",
    "            \"studyId\",\n",
    "            f.when(f.col(\"row_number\") == 0, f.col(\"studyAccession\")).otherwise(\n",
    "                f.concat_ws(\"_\", \"studyAccession\", \"row_number\")\n",
    "            ),\n",
    "        )\n",
    "        # Disese traits are generated based on p-value text when splitting study:\n",
    "        .withColumn(\n",
    "            \"DiseaseTrait\",\n",
    "            # When study is split:\n",
    "            f.when(\n",
    "                f.col(\"row_number\") != 0,\n",
    "                f.concat_ws(\" \", \"associationDiseaseTrait\", \"pValueText\"),\n",
    "            )\n",
    "            # When there's association disease trait:\n",
    "            .when(\n",
    "                f.col(\"associationDiseaseTrait\").isNotNull(),\n",
    "                f.col(\"associationDiseaseTrait\"),\n",
    "            )\n",
    "            # When no association disease trait is present we get from study:\n",
    "            .otherwise(f.col(\"studyDiseaseTrait\")),\n",
    "        )\n",
    "        # The EFO field is also consolidated:\n",
    "        .withColumn(\n",
    "            \"efos\",\n",
    "            # When available, EFOs are pulled from associations:\n",
    "            f.when(f.col(\"associationEfos\").isNotNull(), f.col(\"associationEfos\"))\n",
    "            # When no association is given, the study level EFOs are used:\n",
    "            .otherwise(f.col(\"studyEfos\")),\n",
    "        )\n",
    "        # The fields are dropped that we would no longer need downstream:\n",
    "        .drop(\n",
    "            \"row_number\",\n",
    "            \"studyAccession\",\n",
    "            \"studyEfos\",\n",
    "            \"studyDiseaseTrait\",\n",
    "            \"associationEfos\",\n",
    "            \"associationDiseaseTrait\",\n",
    "            \"pValueText\",\n",
    "        )\n",
    "        .orderBy(\"studyAccession\")\n",
    "        .persist()\n",
    "    )\n"
   ]
  },
  {
   "cell_type": "code",
   "execution_count": 12,
   "metadata": {},
   "outputs": [
    {
     "name": "stderr",
     "output_type": "stream",
     "text": [
      "[Stage 18:>                                                         (0 + 1) / 1]\r"
     ]
    },
    {
     "name": "stdout",
     "output_type": "stream",
     "text": [
      "-RECORD 0-----------------------------------------------------------------------------------------------------\n",
      " studyAccession          | GCST000101                                                                         \n",
      " chromosome              | null                                                                               \n",
      " position                | null                                                                               \n",
      " referenceAllele         | null                                                                               \n",
      " alternateAllele         | null                                                                               \n",
      " variantId               | null                                                                               \n",
      " AssociationEfos         | [EFO_0004685]                                                                      \n",
      " associationDiseaseTrait | Hip geometry                                                                       \n",
      " pValueText              | [ShaftW1f]                                                                         \n",
      " pValueMantissa          | 2.0                                                                                \n",
      " pValueExponent          | -7                                                                                 \n",
      " beta                    | null                                                                               \n",
      " beta_ci_lower           | null                                                                               \n",
      " beta_ci_upper           | null                                                                               \n",
      " odds_ratio              | null                                                                               \n",
      " odds_ratio_ci_lower     | null                                                                               \n",
      " odds_ratio_ci_upper     | null                                                                               \n",
      " direction               | null                                                                               \n",
      " qualityControl          | [Subsignificant p-value, No mapping in GnomAd]                                     \n",
      " pubmedId                | 17903296                                                                           \n",
      " firstAuthor             | Kiel DP                                                                            \n",
      " publicationDate         | 2007-09-19                                                                         \n",
      " journal                 | BMC Med Genet                                                                      \n",
      " study                   | Genome-wide association with bone mass and geometry in the Framingham Heart Study. \n",
      " studyDiseaseTrait       | Hip geometry                                                                       \n",
      " studyEfos               | [EFO_0004685]                                                                      \n",
      " backgroundEfos          | null                                                                               \n",
      " initialSampleSize       | Up to 1,094 individuals from 241 families                                          \n",
      " nCases                  | 0                                                                                  \n",
      " nControls               | 0                                                                                  \n",
      " nSamples                | 1094                                                                               \n",
      " discoverySamples        | [{1094, NR}]                                                                       \n",
      " replicationSamples      | []                                                                                 \n",
      " gnomadSamples           | [{1.0, nfe}]                                                                       \n",
      " summarystatsLocation    | null                                                                               \n",
      " hasSumstats             | false                                                                              \n",
      "only showing top 1 row\n",
      "\n"
     ]
    },
    {
     "name": "stderr",
     "output_type": "stream",
     "text": [
      "                                                                                \r"
     ]
    }
   ],
   "source": [
    "study_assoc = (\n",
    "    assoc_df.join(study_df, on='studyAccession', how='outer').persist()\n",
    ")\n",
    "\n",
    "study_assoc.filter(f.col('pValueText').isNotNull()).show(1, False, True)"
   ]
  },
  {
   "cell_type": "code",
   "execution_count": 9,
   "metadata": {},
   "outputs": [
    {
     "name": "stdout",
     "output_type": "stream",
     "text": [
      "-RECORD 0--------------------------------------------------------------------------------\n",
      " studyAccession       | GCST000290                                                       \n",
      " pubmedId             | 19060906                                                         \n",
      " firstAuthor          | Kathiresan S                                                     \n",
      " publicationDate      | 2008-12-07                                                       \n",
      " journal              | Nat Genet                                                        \n",
      " study                | Common variants at 30 loci contribute to polygenic dyslipidemia. \n",
      " studyDiseaseTrait    | HDL cholesterol                                                  \n",
      " studyEfos            | [EFO_0004612]                                                    \n",
      " backgroundEfos       | null                                                             \n",
      " initialSampleSize    | 19,840 European ancestry individuals                             \n",
      " nCases               | 0                                                                \n",
      " nControls            | 0                                                                \n",
      " nSamples             | 19840                                                            \n",
      " discoverySamples     | [{19840, European}]                                              \n",
      " replicationSamples   | [{20623, European}]                                              \n",
      " gnomadSamples        | [{1.0, nfe}]                                                     \n",
      " summarystatsLocation | null                                                             \n",
      " hasSumstats          | false                                                            \n",
      "only showing top 1 row\n",
      "\n"
     ]
    }
   ],
   "source": [
    "window_spec = Window.partitionBy(\"studyAccession\").orderBy(\"pValueText\")\n",
    "\n"
   ]
  },
  {
   "cell_type": "code",
   "execution_count": null,
   "metadata": {},
   "outputs": [],
   "source": []
  }
 ],
 "metadata": {
  "kernelspec": {
   "display_name": "Python 3.8.13 ('base')",
   "language": "python",
   "name": "python3"
  },
  "language_info": {
   "codemirror_mode": {
    "name": "ipython",
    "version": 3
   },
   "file_extension": ".py",
   "mimetype": "text/x-python",
   "name": "python",
   "nbconvert_exporter": "python",
   "pygments_lexer": "ipython3",
   "version": "3.8.13"
  },
  "orig_nbformat": 4,
  "vscode": {
   "interpreter": {
    "hash": "e234d837eebba94c7397b4e38c0b82bd3e4741cb2c390182a3fb441eaf8f3cd5"
   }
  }
 },
 "nbformat": 4,
 "nbformat_minor": 2
}
