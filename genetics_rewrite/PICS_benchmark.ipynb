{
 "cells": [
  {
   "attachments": {},
   "cell_type": "markdown",
   "metadata": {},
   "source": [
    "# Benchmarking new PICS implementation\n",
    "\n",
    "The objective of this notebook is to compare the new implementation of PICS estimated on GWAS Catalog associations using gnomAD LD reference, against the previous implementation using 1000 genomes phase III LD reference. \n",
    "\n",
    "1. Describe the new dataset\n",
    "    - Number of signals covered.\n",
    "    - Number of signals dropped.\n",
    "2. Copare with old PICS Dataset.\n",
    "    - Δ number of covered study (not particularly relevant given updates in GWAS Catalog)\n",
    "    - Δ number of covered peaks from studies found in the old release - might see increased coverage.\n",
    "    - Δ in the recovered credible set: number of variants, change in posterior probability.\n",
    "    - Δ in the average number of credible sets.\n",
    "\n",
    "    "
   ]
  },
  {
   "cell_type": "code",
   "execution_count": 1,
   "metadata": {},
   "outputs": [
    {
     "name": "stderr",
     "output_type": "stream",
     "text": [
      "Setting default log level to \"WARN\".\n",
      "To adjust logging level use sc.setLogLevel(newLevel). For SparkR, use setLogLevel(newLevel).\n",
      "23/01/16 12:34:40 INFO org.apache.spark.SparkEnv: Registering MapOutputTracker\n",
      "23/01/16 12:34:40 INFO org.apache.spark.SparkEnv: Registering BlockManagerMaster\n",
      "23/01/16 12:34:40 INFO org.apache.spark.SparkEnv: Registering BlockManagerMasterHeartbeat\n",
      "23/01/16 12:34:40 INFO org.apache.spark.SparkEnv: Registering OutputCommitCoordinator\n"
     ]
    },
    {
     "data": {
      "text/plain": [
       "pyspark.sql.session.SparkSession"
      ]
     },
     "execution_count": 1,
     "metadata": {},
     "output_type": "execute_result"
    }
   ],
   "source": [
    "import pyspark.sql.functions as f\n",
    "import pyspark.sql.types as t\n",
    "from pyspark.sql import SparkSession, DataFrame, Column\n",
    "from pyspark.sql.window import Window\n",
    "\n",
    "spark = SparkSession.builder.getOrCreate()\n",
    "# spark.stop()\n",
    "type(spark)"
   ]
  },
  {
   "attachments": {},
   "cell_type": "markdown",
   "metadata": {},
   "source": [
    "## 1 Describing the new dataset\n",
    "\n",
    "1. Study count.\n",
    "2. Association count.\n",
    "3. Studies split.\n",
    "4. Associations not resolved in LD set."
   ]
  },
  {
   "cell_type": "code",
   "execution_count": 3,
   "metadata": {},
   "outputs": [
    {
     "name": "stderr",
     "output_type": "stream",
     "text": [
      "23/01/09 10:24:06 WARN org.apache.spark.sql.execution.CacheManager: Asked to cache already cached data.\n"
     ]
    },
    {
     "name": "stdout",
     "output_type": "stream",
     "text": [
      "root\n",
      " |-- chromosome: string (nullable = true)\n",
      " |-- variantId: string (nullable = true)\n",
      " |-- studyId: string (nullable = true)\n",
      " |-- position: string (nullable = true)\n",
      " |-- referenceAllele: string (nullable = true)\n",
      " |-- alternateAllele: string (nullable = true)\n",
      " |-- pValueMantissa: float (nullable = true)\n",
      " |-- pValueExponent: integer (nullable = true)\n",
      " |-- beta: string (nullable = true)\n",
      " |-- beta_ci_lower: double (nullable = true)\n",
      " |-- beta_ci_upper: double (nullable = true)\n",
      " |-- odds_ratio: string (nullable = true)\n",
      " |-- odds_ratio_ci_lower: double (nullable = true)\n",
      " |-- odds_ratio_ci_upper: double (nullable = true)\n",
      " |-- qualityControl: array (nullable = true)\n",
      " |    |-- element: string (containsNull = true)\n",
      " |-- tagVariantId: string (nullable = true)\n",
      " |-- R_overall: double (nullable = true)\n",
      " |-- pics_mu: double (nullable = true)\n",
      " |-- pics_std: double (nullable = true)\n",
      " |-- pics_postprob: double (nullable = true)\n",
      " |-- pics_95_perc_credset: boolean (nullable = true)\n",
      " |-- pics_99_perc_credset: boolean (nullable = true)\n",
      " |-- hasResolvedCredibleSet: boolean (nullable = false)\n",
      "\n",
      "-RECORD 0------------------------------------------\n",
      " chromosome             | 6                        \n",
      " variantId              | 6_13215826_A_G           \n",
      " studyId                | GCST000101_1             \n",
      " position               | 13215826                 \n",
      " referenceAllele        | A                        \n",
      " alternateAllele        | G                        \n",
      " pValueMantissa         | 3.0                      \n",
      " pValueExponent         | -6                       \n",
      " beta                   | null                     \n",
      " beta_ci_lower          | null                     \n",
      " beta_ci_upper          | null                     \n",
      " odds_ratio             | null                     \n",
      " odds_ratio_ci_lower    | null                     \n",
      " odds_ratio_ci_upper    | null                     \n",
      " qualityControl         | [Subsignificant p-value] \n",
      " tagVariantId           | 6_13215826_A_G           \n",
      " R_overall              | 1.0                      \n",
      " pics_mu                | 5.522878745280337        \n",
      " pics_std               | 0.0                      \n",
      " pics_postprob          | 0.12718888994626096      \n",
      " pics_95_perc_credset   | true                     \n",
      " pics_99_perc_credset   | true                     \n",
      " hasResolvedCredibleSet | true                     \n",
      "only showing top 1 row\n",
      "\n",
      "26205230\n"
     ]
    }
   ],
   "source": [
    "new_study_locus = (\n",
    "    spark.read.parquet(\"gs://genetics_etl_python_playground/XX.XX/output/python_etl/parquet/pics_credible_set/\")\n",
    "    .withColumn('pics_99_perc_credset', f.when(f.col('tagVariantId').isNull(), False).otherwise(f.col('pics_99_perc_credset')))\n",
    "    .withColumn(\n",
    "        'hasResolvedCredibleSet', \n",
    "        f.when(\n",
    "            f.array_contains(\n",
    "                f.collect_set(f.col('pics_99_perc_credset')).over(Window.partitionBy('studyId', 'variantId')), \n",
    "                True\n",
    "            ),\n",
    "            True\n",
    "        ).otherwise(False)\n",
    "    )\n",
    "    .persist()\n",
    ")\n",
    "\n",
    "\n",
    "new_study_locus.printSchema()\n",
    "new_study_locus.show(1, False, True)\n",
    "print(new_study_locus.count())"
   ]
  },
  {
   "cell_type": "code",
   "execution_count": 4,
   "metadata": {},
   "outputs": [
    {
     "name": "stderr",
     "output_type": "stream",
     "text": [
      "[Stage 41:=============================================>       (170 + 16) / 200]\r"
     ]
    },
    {
     "name": "stdout",
     "output_type": "stream",
     "text": [
      "Study count: 35990\n",
      "Association (unique study/variant pairs) count: 433191\n",
      "Associations with resolved credible set: 355864 (82.1%)\n",
      "Number of good (non-flagged) associations without resolved credible set: 77237 (17.8%)\n",
      "Number of good (non-flagged) associations with resolved credible set: 244746 (56.5%)\n"
     ]
    },
    {
     "name": "stderr",
     "output_type": "stream",
     "text": [
      "                                                                                \r"
     ]
    }
   ],
   "source": [
    "study_count = new_study_locus.select('studyId').distinct().count()\n",
    "association_count = new_study_locus.select('studyId', 'variantId').distinct().count()\n",
    "association_w_credible_set = new_study_locus.filter(f.col('hasResolvedCredibleSet')).persist()\n",
    "credible_set_count = association_w_credible_set.select('studyId', 'variantId').distinct().count()\n",
    "failed_w_ld = (\n",
    "    new_study_locus\n",
    "    # Selecting good associations without credible sets:\n",
    "    .filter(\n",
    "        (~f.col('hasResolvedCredibleSet')) & \n",
    "        (f.size(f.col('qualityControl'))>0)\n",
    "    )\n",
    "    # Get associations:\n",
    "    .select('studyId', 'variantId')\n",
    "    .distinct()\n",
    "    .count()\n",
    ")\n",
    "good_association_count = (\n",
    "    association_w_credible_set\n",
    "    # Drop failed associations:\n",
    "    .filter(f.size(f.col('qualityControl')) == 0)\n",
    "    .select('studyId', 'variantId')\n",
    "    .distinct()\n",
    "    .count()\n",
    ")\n",
    "\n",
    "print(f'Study count: {study_count}')\n",
    "print(f'Association (unique study/variant pairs) count: {association_count}')\n",
    "print(f'Associations with resolved credible set: {credible_set_count} ({round(credible_set_count/association_count*100, 1)}%)')\n",
    "print(f'Number of good (non-flagged) associations without resolved credible set: {failed_w_ld} ({round(failed_w_ld/association_count*100, 1)}%)')\n",
    "print(f'Number of good (non-flagged) associations with resolved credible set: {good_association_count} ({round(good_association_count/association_count*100, 1)}%)')\n"
   ]
  },
  {
   "attachments": {},
   "cell_type": "markdown",
   "metadata": {},
   "source": [
    "## Non-inependent associations"
   ]
  },
  {
   "cell_type": "code",
   "execution_count": 7,
   "metadata": {},
   "outputs": [
    {
     "name": "stdout",
     "output_type": "stream",
     "text": [
      "+------------+----------------+------------------------------------------+\n",
      "|studyId     |variantId       |qualityControl                            |\n",
      "+------------+----------------+------------------------------------------+\n",
      "|GCST001158  |4_154586438_T_C |Association explained by: 4_154621096_C_T |\n",
      "|GCST001931  |20_32849801_G_A |Association explained by:                 |\n",
      "|GCST002767  |11_120377633_C_T|Association explained by: 11_120421768_T_C|\n",
      "|GCST003262_1|15_78528674_G_A |Association explained by: 15_78545331_C_T |\n",
      "|GCST003262_1|15_78606590_C_G |Association explained by: 15_78575140_A_C |\n",
      "|GCST003262_1|3_84957714_C_T  |Association explained by:                 |\n",
      "|GCST003262_1|3_85421211_G_T  |Association explained by:                 |\n",
      "|GCST003262_1|4_144512423_C_A |Association explained by: 4_144524627_A_T |\n",
      "|GCST003264  |4_104903977_G_A |Association explained by:                 |\n",
      "|GCST003264  |4_104904293_C_T |Association explained by:                 |\n",
      "|GCST003264  |4_104946758_A_C |Association explained by:                 |\n",
      "|GCST003264_1|11_102859302_T_C|Association explained by: 11_102881870_T_G|\n",
      "|GCST003264_1|4_144396313_C_T |Association explained by: 4_144451096_C_T |\n",
      "|GCST003265_1|4_144542415_C_T |Association explained by: 4_144585304_T_C |\n",
      "|GCST003265_1|4_144548816_G_T |Association explained by: 4_144585304_T_C |\n",
      "|GCST004505_3|2_164656581_T_C |Association explained by: 2_164672114_G_T |\n",
      "|GCST004609  |3_46408487_A_C  |Association explained by: 3_46364876_C_T  |\n",
      "|GCST004711  |4_99325780_C_T  |Association explained by: 4_99329813_C_A  |\n",
      "|GCST004860  |X_106050079_C_T |Association explained by:                 |\n",
      "|GCST005009  |6_31092442_A_G  |Association explained by: 6_31451033_T_A  |\n",
      "+------------+----------------+------------------------------------------+\n",
      "only showing top 20 rows\n",
      "\n"
     ]
    }
   ],
   "source": [
    "(\n",
    "    new_study_locus\n",
    "    .select('studyId', 'variantId', f.explode_outer(f.col('qualityControl')).alias('qualityControl'))\n",
    "    .filter(f.col('qualityControl').contains('explained'))\n",
    "    .show(truncate=False)\n",
    ")"
   ]
  },
  {
   "cell_type": "code",
   "execution_count": 37,
   "metadata": {},
   "outputs": [
    {
     "name": "stderr",
     "output_type": "stream",
     "text": [
      "23/01/09 13:14:02 WARN org.apache.spark.sql.execution.CacheManager: Asked to cache already cached data.\n"
     ]
    },
    {
     "name": "stdout",
     "output_type": "stream",
     "text": [
      "+----------+---------------+------------------+----------------------------------------------------------------------------------------------------------+\n",
      "|studyId   |variantId      |negLogP           |qualityControl                                                                                            |\n",
      "+----------+---------------+------------------+----------------------------------------------------------------------------------------------------------+\n",
      "|GCST004860|X_107210017_G_A|5.045757490560675 |[Subsignificant p-value, Association explained by: X_106816683_C_T]                                       |\n",
      "|GCST004860|X_106585073_C_T|5.096910013008056 |[Subsignificant p-value]                                                                                  |\n",
      "|GCST004860|X_107174072_T_C|5.154901959985743 |[Subsignificant p-value, Credible set not resolved]                                                       |\n",
      "|GCST004860|X_107294522_C_T|5.221848749616356 |[Subsignificant p-value]                                                                                  |\n",
      "|GCST004860|X_107011960_A_G|5.301029995663981 |[Subsignificant p-value, Association explained by: X_107289163_G_C]                                       |\n",
      "|GCST004860|X_106631560_T_G|5.301029995663981 |[Subsignificant p-value, Association explained by: X_106829297_T_C]                                       |\n",
      "|GCST004860|X_107296299_T_C|5.522878745280337 |[Subsignificant p-value, Credible set not resolved]                                                       |\n",
      "|GCST004860|X_87315170_C_T |5.522878745280337 |[Subsignificant p-value]                                                                                  |\n",
      "|GCST004860|X_106772108_A_T|5.522878745280337 |[Subsignificant p-value, Palindrome alleles - cannot harmonize]                                           |\n",
      "|GCST004860|X_107296378_T_C|5.522878745280337 |[Subsignificant p-value, Credible set not resolved]                                                       |\n",
      "|GCST004860|X_106050079_C_T|5.698970004336019 |[Subsignificant p-value, Association explained by:]                                                       |\n",
      "|GCST004860|X_106375530_T_C|5.698970004336019 |[Subsignificant p-value]                                                                                  |\n",
      "|GCST004860|X_106983213_C_T|6.0               |[Subsignificant p-value, Association explained by: X_106893680_T_C]                                       |\n",
      "|GCST004860|X_106816683_C_T|6.0               |[Subsignificant p-value]                                                                                  |\n",
      "|GCST004860|X_107043226_G_A|6.522878745280337 |[Subsignificant p-value, Association explained by: X_106893680_T_C]                                       |\n",
      "|GCST004860|X_107370118_A_G|6.698970004336019 |[Subsignificant p-value, Association explained by: X_107289163_G_C]                                       |\n",
      "|GCST004860|X_106504267_T_C|6.698970004336019 |[Subsignificant p-value, Association explained by: X_106964394_A_G]                                       |\n",
      "|GCST004860|X_106893680_T_C|6.698970004336019 |[Subsignificant p-value]                                                                                  |\n",
      "|GCST004860|X_107434651_C_G|7.0               |[Subsignificant p-value, Palindrome alleles - cannot harmonize, Association explained by: X_106964394_A_G]|\n",
      "|GCST004860|X_107289163_G_C|7.698970004336019 |[Palindrome alleles - cannot harmonize]                                                                   |\n",
      "|GCST004860|X_107158099_G_C|8.0               |[Palindrome alleles - cannot harmonize, Credible set not resolved]                                        |\n",
      "|GCST004860|X_106730962_T_A|8.698970004336019 |[Palindrome alleles - cannot harmonize, Association explained by: X_106964394_A_G]                        |\n",
      "|GCST004860|X_107281285_G_A|9.221848749616356 |[Association explained by: X_107230661_C_T]                                                               |\n",
      "|GCST004860|X_106313139_G_A|9.698970004336019 |[Association explained by:]                                                                               |\n",
      "|GCST004860|X_106545130_T_A|10.397940008672037|[Palindrome alleles - cannot harmonize]                                                                   |\n",
      "|GCST004860|X_107318205_A_C|10.397940008672037|[Association explained by: X_106964394_A_G]                                                               |\n",
      "|GCST004860|X_106964394_A_G|11.698970004336019|[]                                                                                                        |\n",
      "|GCST004860|X_106829297_T_C|12.0              |[]                                                                                                        |\n",
      "|GCST004860|X_106834287_G_A|12.397940008672037|[Association explained by: X_107230661_C_T]                                                               |\n",
      "|GCST004860|X_107230661_C_T|13.397940008672037|[]                                                                                                        |\n",
      "|GCST004860|X_106917472_A_G|14.221848749616356|[Association explained by: X_106956972_G_A]                                                               |\n",
      "|GCST004860|X_106956972_G_A|15.096910013008056|[]                                                                                                        |\n",
      "|GCST004860|X_107123872_G_A|16.69897000433602 |[]                                                                                                        |\n",
      "|GCST004860|X_106940440_C_T|18.69897000433602 |[Association explained by: X_107131628_G_A]                                                               |\n",
      "|GCST004860|X_106732269_G_A|19.221848749616356|[Association explained by:]                                                                               |\n",
      "|GCST004860|X_106768355_T_G|24.0              |[Association explained by: X_107131628_G_A]                                                               |\n",
      "|GCST004860|X_106901299_T_C|28.69897000433602 |[Association explained by: X_107131628_G_A]                                                               |\n",
      "|GCST004860|X_107131628_G_A|32.0              |[]                                                                                                        |\n",
      "+----------+---------------+------------------+----------------------------------------------------------------------------------------------------------+\n",
      "\n"
     ]
    }
   ],
   "source": [
    "def _neglog_p(p_value_mantissa: Column, p_value_exponent: Column) -> Column:\n",
    "    \"\"\"Compute the negative log p-value.\n",
    "\n",
    "    Args:\n",
    "        p_value_mantissa (Column): P-value mantissa\n",
    "        p_value_exponent (Column): P-value exponent\n",
    "\n",
    "    Returns:\n",
    "        Column: Negative log p-value\n",
    "\n",
    "    Examples:\n",
    "        >>> d = [(1, 1), (5, -2), (1, -1000)]\n",
    "        >>> df = spark.createDataFrame(d).toDF(\"p_value_mantissa\", \"p_value_exponent\")\n",
    "        >>> df.withColumn(\"neg_log_p\", _neglog_p(f.col(\"p_value_mantissa\"), f.col(\"p_value_exponent\"))).show()\n",
    "        +----------------+----------------+------------------+\n",
    "        |p_value_mantissa|p_value_exponent|         neg_log_p|\n",
    "        +----------------+----------------+------------------+\n",
    "        |               1|               1|              -1.0|\n",
    "        |               5|              -2|1.3010299956639813|\n",
    "        |               1|           -1000|            1000.0|\n",
    "        +----------------+----------------+------------------+\n",
    "        <BLANKLINE>\n",
    "    \"\"\"\n",
    "    return -1 * (f.log10(p_value_mantissa) + p_value_exponent)\n",
    "\n",
    "\n",
    "up_to_test = (\n",
    "    new_study_locus\n",
    "    .filter(\n",
    "        (f.col('chromosome') == 'X') &\n",
    "        (f.col('studyId') == 'GCST004860')\n",
    "    )\n",
    "    .select(\n",
    "        'studyId',\n",
    "        'variantId',\n",
    "        _neglog_p(f.col('pValueMantissa'), f.col('pValueExponent')).alias('negLogP'),\n",
    "        'qualityControl',\n",
    "    )\n",
    "    .distinct().persist()\n",
    ")\n",
    "\n",
    "test_df = (\n",
    "    up_to_test\n",
    "    .select(\n",
    "        f.split(f.col('variantId'), '_').getItem(1).alias('position').cast(t.IntegerType()),\n",
    "        'negLogP',\n",
    "        f.when(f.concat_ws(', ', 'qualityControl').contains('explain'), True).otherwise(False).alias('qc')\n",
    "    )\n",
    "    .toPandas()\n",
    ")\n",
    "\n",
    "up_to_test.orderBy('negLogP').show(50, truncate=False)\n"
   ]
  },
  {
   "cell_type": "code",
   "execution_count": 47,
   "metadata": {},
   "outputs": [
    {
     "name": "stderr",
     "output_type": "stream",
     "text": [
      "                                                                                \r"
     ]
    },
    {
     "data": {
      "text/plain": [
       "[14052215,\n",
       " 14052215,\n",
       " 14052215,\n",
       " 14052215,\n",
       " 14052284,\n",
       " 14051864,\n",
       " 14053044,\n",
       " 14053353,\n",
       " 14051424,\n",
       " 14052114,\n",
       " 14052373,\n",
       " 14052665,\n",
       " 14052665,\n",
       " 14052665,\n",
       " 14051080,\n",
       " 14052107,\n",
       " 14052107,\n",
       " 14052107,\n",
       " 14052107,\n",
       " 14052107,\n",
       " 14052326,\n",
       " 14052902,\n",
       " 14052941,\n",
       " 14052027,\n",
       " 14052253,\n",
       " 14053210,\n",
       " 13991184,\n",
       " 14051521,\n",
       " 14051521,\n",
       " 14051521,\n",
       " 14051755,\n",
       " 14051806,\n",
       " 14051806,\n",
       " 14051806,\n",
       " 14053066,\n",
       " 14051974,\n",
       " 14052176,\n",
       " 14052176,\n",
       " 14052176,\n",
       " 14052176,\n",
       " 14052191,\n",
       " 14051689,\n",
       " 14052020,\n",
       " 14053054,\n",
       " 14051973,\n",
       " 14052087,\n",
       " 14052458,\n",
       " 14052655,\n",
       " 14053111,\n",
       " 14052299]"
      ]
     },
     "execution_count": 47,
     "metadata": {},
     "output_type": "execute_result"
    }
   ],
   "source": [
    "columns = ['chromosome', 'position', 'referenceAllele', 'alternateAllele']\n",
    "variants = spark.createDataFrame([x['variantId'].split('_') for x in up_to_test.select('variantId').distinct().collect()], columns)\n",
    "\n",
    "ld_index_file = 'gs://genetics_etl_python_playground/input/ld/gnomad_r2.1.1.nfe.common.ld.variant_indices.parquet'\n",
    "rows = (\n",
    "    variants\n",
    "    .join(spark.read.parquet(ld_index_file), on=columns, how='left')\n",
    "    .filter(f.col('idx').isNotNull())\n",
    "    .select('idx')\n",
    "    .collect()\n",
    ")\n",
    "\n",
    "indices = [\n",
    "    int(x['idx']) for x in rows\n",
    "]\n",
    "\n",
    "indices\n",
    "# variants"
   ]
  },
  {
   "cell_type": "code",
   "execution_count": 51,
   "metadata": {},
   "outputs": [
    {
     "name": "stderr",
     "output_type": "stream",
     "text": [
      "[Stage 276:===================================================>   (16 + 1) / 17]\r"
     ]
    },
    {
     "name": "stdout",
     "output_type": "stream",
     "text": [
      "+----------+---------+---------------+---------------+--------+---------+--------+\n",
      "|chromosome| position|referenceAllele|alternateAllele|     idx|start_idx|stop_idx|\n",
      "+----------+---------+---------------+---------------+--------+---------+--------+\n",
      "|         X|107158099|              G|              C|    null|     null|    null|\n",
      "|         X|107296378|              T|              C|    null|     null|    null|\n",
      "|         X|107296299|              T|              C|    null|     null|    null|\n",
      "|         X|107174072|              T|              C|    null|     null|    null|\n",
      "|         X| 87315170|              C|              T|13991184| 13988101|13993719|\n",
      "|         X|106050079|              C|              T|14051080| 14050241|14051758|\n",
      "|         X|106313139|              G|              A|14051424| 14050669|14052084|\n",
      "|         X|106375530|              T|              C|14051521| 14050770|14052159|\n",
      "|         X|106375530|              T|              C|14051521| 14050770|14052161|\n",
      "|         X|106375530|              T|              C|14051521| 14050770|14052160|\n",
      "|         X|106504267|              T|              C|14051689| 14050989|14052359|\n",
      "|         X|106545130|              T|              A|14051755| 14051070|14052459|\n",
      "|         X|106585073|              C|              T|14051806| 14051149|14052582|\n",
      "|         X|106585073|              C|              T|14051806| 14051149|14052583|\n",
      "|         X|106585073|              C|              T|14051806| 14051149|14052584|\n",
      "|         X|106631560|              T|              G|14051864| 14051206|14052664|\n",
      "|         X|106730962|              T|              A|14051973| 14051335|14052942|\n",
      "|         X|106732269|              G|              A|14051974| 14051336|14052942|\n",
      "|         X|106768355|              T|              G|14052020| 14051378|14052997|\n",
      "|         X|106772108|              A|              T|14052027| 14051379|14053017|\n",
      "|         X|106816683|              C|              T|14052087| 14051448|14053105|\n",
      "|         X|106829297|              T|              C|14052107| 14051463|14053131|\n",
      "|         X|106829297|              T|              C|14052107| 14051464|14053131|\n",
      "|         X|106829297|              T|              C|14052107| 14051462|14053131|\n",
      "|         X|106829297|              T|              C|14052107| 14051465|14053131|\n",
      "|         X|106829297|              T|              C|14052107| 14051466|14053131|\n",
      "|         X|106834287|              G|              A|14052114| 14051472|14053139|\n",
      "|         X|106893680|              T|              C|14052176| 14051549|14053265|\n",
      "|         X|106893680|              T|              C|14052176| 14051547|14053265|\n",
      "|         X|106893680|              T|              C|14052176| 14051548|14053265|\n",
      "|         X|106893680|              T|              C|14052176| 14051550|14053265|\n",
      "|         X|106901299|              T|              C|14052191| 14051556|14053271|\n",
      "|         X|106917472|              A|              G|14052215| 14051577|14053313|\n",
      "|         X|106917472|              A|              G|14052215| 14051580|14053313|\n",
      "|         X|106917472|              A|              G|14052215| 14051579|14053313|\n",
      "|         X|106917472|              A|              G|14052215| 14051578|14053313|\n",
      "|         X|106940440|              C|              T|14052253| 14051601|14053358|\n",
      "|         X|106956972|              G|              A|14052284| 14051633|14053385|\n",
      "|         X|106964394|              A|              G|14052299| 14051639|14053406|\n",
      "|         X|106983213|              C|              T|14052326| 14051662|14053450|\n",
      "|         X|107011960|              A|              G|14052373| 14051702|14053484|\n",
      "|         X|107043226|              G|              A|14052458| 14051749|14053544|\n",
      "|         X|107123872|              G|              A|14052655| 14051848|14053739|\n",
      "|         X|107131628|              G|              A|14052665| 14051865|14053745|\n",
      "|         X|107131628|              G|              A|14052665| 14051865|14053747|\n",
      "|         X|107131628|              G|              A|14052665| 14051865|14053746|\n",
      "|         X|107210017|              G|              A|14052902| 14051953|14053926|\n",
      "|         X|107230661|              C|              T|14052941| 14051972|14053948|\n",
      "|         X|107281285|              G|              A|14053044| 14052037|14054028|\n",
      "|         X|107289163|              G|              C|14053054| 14052053|14054094|\n",
      "|         X|107294522|              C|              T|14053066| 14052059|14054108|\n",
      "|         X|107318205|              A|              C|14053111| 14052089|14054166|\n",
      "|         X|107370118|              A|              G|14053210| 14052158|14054266|\n",
      "|         X|107434651|              C|              G|14053353| 14052249|14054366|\n",
      "+----------+---------+---------------+---------------+--------+---------+--------+\n",
      "\n"
     ]
    },
    {
     "name": "stderr",
     "output_type": "stream",
     "text": [
      "                                                                                \r"
     ]
    }
   ],
   "source": [
    "(\n",
    "    variants\n",
    "    .join(spark.read.parquet(ld_index_file), on=columns, how='left')\n",
    "    # .filter(f.col('idx').isNotNull())\n",
    "    # .select('idx')\n",
    "    # .collect()\n",
    "    .orderBy('idx')\n",
    "    .show(60)\n",
    ")"
   ]
  },
  {
   "attachments": {},
   "cell_type": "markdown",
   "metadata": {},
   "source": [
    "Get the number of associations with not credible sets:"
   ]
  },
  {
   "cell_type": "code",
   "execution_count": 34,
   "metadata": {},
   "outputs": [
    {
     "name": "stdout",
     "output_type": "stream",
     "text": [
      "Number of non-independent associations: 19\n",
      "Number of independent associations: 19\n"
     ]
    },
    {
     "data": {
      "text/plain": [
       "<AxesSubplot:xlabel='position', ylabel='negLogP'>"
      ]
     },
     "execution_count": 34,
     "metadata": {},
     "output_type": "execute_result"
    },
    {
     "data": {
      "image/png": "[encoded data removed]",
      "text/plain": [
       "<Figure size 432x288 with 1 Axes>"
      ]
     },
     "metadata": {
      "needs_background": "light"
     },
     "output_type": "display_data"
    }
   ],
   "source": [
    "print(f'Number of non-independent associations: {len(test_df.loc[test_df.qc])}')\n",
    "print(f'Number of independent associations: {len(test_df.loc[~test_df.qc])}')\n",
    "\n",
    "(\n",
    "    test_df\n",
    "    .query('position > 9E7')\n",
    "    .assign(color=lambda df: df.qc.apply(lambda x: 'green' if x is True else 'black'))\n",
    "    .plot.scatter('position', 'negLogP', c='color')\n",
    ")\n",
    "\n",
    "#"
   ]
  },
  {
   "cell_type": "code",
   "execution_count": 75,
   "metadata": {},
   "outputs": [
    {
     "name": "stderr",
     "output_type": "stream",
     "text": [
      "                                                                                \r"
     ]
    },
    {
     "name": "stdout",
     "output_type": "stream",
     "text": [
      "Number of associations with failed credible sets: 15791 (100.1%)\n",
      "Number of associations with good mapping, but failed LD: 11167 (70.8%)\n",
      "Associations with failed GnomAD mapping: 0 (0.0%)\n",
      "Associations with failed GnomAD mapping, with rsId: 0 (0.0%)\n"
     ]
    }
   ],
   "source": [
    "unresolved = (\n",
    "    new_study_locus\n",
    "    .filter((~f.col('pics_99_perc_credset')) & ~f.col('hasResolvedCredibleSet'))\n",
    "    # .filter((f.col(\"studyId\") == 'GCST001782') & (f.col('variantId') == '16_134391_T_G'))\n",
    "    # .select('studyId', 'variantId', 'tagVariantId', 'pics_99_perc_credset', 'pValueMantissa', 'pValueExponent')\n",
    "    # .show(20)\n",
    "    .persist()\n",
    ")\n",
    "\n",
    "unresolved_count = unresolved.count()\n",
    "ld_failed_count = (\n",
    "    unresolved\n",
    "    .filter(f.size(f.col('qualityControl')) == 1)\n",
    "    .count()\n",
    ")\n",
    "gnomad_mapping_failed_count = (\n",
    "    unresolved\n",
    "    .filter(f.array_contains(f.col('qualityControl'), 'No mapping in GnomAd'))\n",
    "    .distinct()\n",
    "    .count()\n",
    ")\n",
    "gnomad_mapping_failed_w_rsid_count = (\n",
    "    unresolved\n",
    "    .filter(\n",
    "        f.array_contains(f.col('qualityControl'), 'No mapping in GnomAd') &\n",
    "        f.lower(f.col('variantId')).contains('rs')\n",
    "    )\n",
    "    .distinct()\n",
    "    .count()\n",
    ")\n",
    "print(f'Number of associations with failed credible sets: {unresolved_count} ({round(unresolved_count/association_count*100, 1)}%)')\n",
    "print(f'Number of associations with good mapping, but failed LD: {ld_failed_count} ({round(ld_failed_count/association_count*100, 1)}%)')\n",
    "print(f'Associations with failed GnomAD mapping: {gnomad_mapping_failed_count} ({round(gnomad_mapping_failed_count/association_count*100, 1)}%)')\n",
    "print(f'Associations with failed GnomAD mapping, with rsId: {gnomad_mapping_failed_w_rsid_count} ({round(gnomad_mapping_failed_w_rsid_count/association_count*100, 1)}%)')"
   ]
  },
  {
   "attachments": {},
   "cell_type": "markdown",
   "metadata": {},
   "source": [
    "Focusing only on the actual credible sets."
   ]
  },
  {
   "cell_type": "code",
   "execution_count": 20,
   "metadata": {},
   "outputs": [
    {
     "name": "stderr",
     "output_type": "stream",
     "text": [
      "                                                                                \r"
     ]
    },
    {
     "name": "stdout",
     "output_type": "stream",
     "text": [
      "Number of resolved credible sets: 392105\n",
      "Studies with resolved credible sets: 34169\n",
      "Number of lead/tag pairs: 19240869\n"
     ]
    }
   ],
   "source": [
    "# Thu\n",
    "credible_sets = new_study_locus.filter(f.col('pics_99_perc_credset')).persist()\n",
    "resolved_assoc_count = credible_sets.select('studyId', 'variantId').distinct().count()\n",
    "resolved_study_count = credible_sets.select('studyId').distinct().count()\n",
    "lead_tag_pair_count = credible_sets.select('studyId', 'variantId', 'tagVariantId').distinct().count()\n",
    "\n",
    "grouped_credset_pdf = credible_sets.groupBy('studyId', 'variantId').count().toPandas()\n",
    "\n",
    "print(f'Number of resolved credible sets: {resolved_assoc_count}')\n",
    "print(f'Studies with resolved credible sets: {resolved_study_count}')\n",
    "print(f'Number of lead/tag pairs: {lead_tag_pair_count}')\n",
    "\n"
   ]
  },
  {
   "cell_type": "code",
   "execution_count": 21,
   "metadata": {},
   "outputs": [
    {
     "data": {
      "text/plain": [
       "<AxesSubplot:>"
      ]
     },
     "execution_count": 21,
     "metadata": {},
     "output_type": "execute_result"
    },
    {
     "data": {
      "image/png": "[encoded data removed]",
      "text/plain": [
       "<Figure size 432x288 with 1 Axes>"
      ]
     },
     "metadata": {
      "needs_background": "light"
     },
     "output_type": "display_data"
    }
   ],
   "source": [
    "grouped_credset_pdf.query('count < 500')['count'].hist(bins=100)"
   ]
  },
  {
   "cell_type": "code",
   "execution_count": 22,
   "metadata": {},
   "outputs": [
    {
     "name": "stdout",
     "output_type": "stream",
     "text": [
      "Credible sets with only one variant: 38604 (9.8)%\n",
      "Median size of credible sets: 18.0\n"
     ]
    }
   ],
   "source": [
    "median_credset_size = grouped_credset_pdf['count'].median()\n",
    "credsets_with_single = len(grouped_credset_pdf.query('count == 1'))\n",
    "\n",
    "print(f'Credible sets with only one variant: {credsets_with_single} ({round(credsets_with_single/len(grouped_credset_pdf)*100, 1)})%')\n",
    "print(f'Median size of credible sets: {median_credset_size}')"
   ]
  },
  {
   "cell_type": "code",
   "execution_count": 23,
   "metadata": {},
   "outputs": [
    {
     "name": "stderr",
     "output_type": "stream",
     "text": [
      "[Stage 241:================================>                    (124 + 8) / 200]\r"
     ]
    },
    {
     "name": "stdout",
     "output_type": "stream",
     "text": [
      "+-------------+----------------+-----+\n",
      "|      studyId|       variantId|count|\n",
      "+-------------+----------------+-----+\n",
      "|   GCST007065| 11_55736589_G_A| 4071|\n",
      "| GCST90095190| 17_45913906_A_G| 3858|\n",
      "| GCST90095190| 17_46055092_G_A| 3855|\n",
      "| GCST90095190| 17_45609706_G_A| 3764|\n",
      "| GCST000996_1| 11_55368743_C_T| 3727|\n",
      "|   GCST001482| 17_45900461_C_T| 3658|\n",
      "| GCST90095190| 17_45468691_G_T| 3637|\n",
      "| GCST90018982| 17_45759587_A_C| 3631|\n",
      "| GCST90018996| 17_46112544_A_G| 3626|\n",
      "| GCST90018908| 17_46253848_T_C| 3589|\n",
      "| GCST003174_1| 17_46286843_C_T| 3562|\n",
      "|   GCST003174| 17_46286843_C_T| 3559|\n",
      "| GCST90018863| 17_46253848_T_C| 3543|\n",
      "| GCST90011770| 17_45948522_C_A| 3538|\n",
      "| GCST90095125| 17_46142465_T_A| 3524|\n",
      "| GCST90095181| 17_45957209_T_C| 3520|\n",
      "| GCST90095180| 17_45957209_T_C| 3520|\n",
      "| GCST90095132| 17_45794616_C_T| 3511|\n",
      "| GCST009540_6|17_46036725_CT_C| 3483|\n",
      "| GCST001651_9| 17_46257341_G_A| 3470|\n",
      "|GCST010281_14| 17_45841702_G_T| 3465|\n",
      "|   GCST004414| 17_45489971_C_G| 3460|\n",
      "| GCST90092852| 17_46290849_C_G| 3449|\n",
      "| GCST009537_2|17_46261417_AT_A| 3443|\n",
      "|   GCST009194| 17_46150803_C_T| 3439|\n",
      "|GCST009538_18|17_46261417_AT_A| 3437|\n",
      "|   GCST002817| 17_45746994_T_C| 3431|\n",
      "|   GCST006945| 17_46278236_A_G| 3421|\n",
      "|   GCST005536| 17_45996523_A_G| 3414|\n",
      "|GCST009538_20|17_46261417_AT_A| 3413|\n",
      "+-------------+----------------+-----+\n",
      "only showing top 30 rows\n",
      "\n"
     ]
    },
    {
     "name": "stderr",
     "output_type": "stream",
     "text": [
      "                                                                                \r"
     ]
    }
   ],
   "source": [
    "credible_sets.groupBy('studyId', 'variantId').count().filter(f.col('count') > 1000).orderBy('count', ascending=False).show(30)"
   ]
  },
  {
   "attachments": {},
   "cell_type": "markdown",
   "metadata": {},
   "source": [
    "It seems there are a large number of rows in the credible set data where the `tagVariantId` is null, however there is available credible set."
   ]
  },
  {
   "cell_type": "code",
   "execution_count": 78,
   "metadata": {},
   "outputs": [
    {
     "data": {
      "text/plain": [
       "0"
      ]
     },
     "execution_count": 78,
     "metadata": {},
     "output_type": "execute_result"
    }
   ],
   "source": [
    "strange_credible_set_count = (\n",
    "    new_study_locus\n",
    "    .filter(f.col(\"tagVariantId\").isNull() & f.col('hasResolvedCredibleSet'))\n",
    "    .distinct()\n",
    "    # .show(1,False,True)\n",
    "    .count()\n",
    ")\n",
    "strange_credible_set_count\n",
    "# strange_credset = (\n",
    "#     new_study_locus\n",
    "#     .filter(\n",
    "#         (f.col('variantId') == '16_134391_T_G') &\n",
    "#         (f.col('studyId') == 'GCST001782')\n",
    "#     )\n",
    "#     .select('studyId', 'variantId', 'tagVariantId', 'qualityControl', 'pics_99_perc_credset', 'hasResolvedCredibleSet')\n",
    "#     .show(truncate=False)\n",
    "# )\n",
    "\n",
    "\n",
    "# strange_credset = (\n",
    "#     new_study_locus\n",
    "#     .filter(\n",
    "#         (f.col('variantId') == '12_122207191_C_A') &\n",
    "#         (f.col('tagVariantId') == '12_122255435_A_G') &\n",
    "#         (f.col('studyId') == 'GCST008702')\n",
    "#     )\n",
    "#     .select('studyId', 'variantId', 'tagVariantId', 'qualityControl', 'pics_99_perc_credset', 'hasResolvedCredibleSet')\n",
    "#     .show(1000, truncate=False)\n",
    "# )"
   ]
  },
  {
   "attachments": {},
   "cell_type": "markdown",
   "metadata": {},
   "source": [
    "## Comparing with old dataset\n",
    "\n",
    "- Data: `gs://genetics-portal-dev-staging/v2d/220210/ld.parquet`"
   ]
  },
  {
   "cell_type": "code",
   "execution_count": 24,
   "metadata": {},
   "outputs": [
    {
     "name": "stderr",
     "output_type": "stream",
     "text": [
      "[Stage 261:===================================================>   (16 + 1) / 17]\r"
     ]
    },
    {
     "name": "stdout",
     "output_type": "stream",
     "text": [
      "Number of lead/tag count: 19406519\n",
      "NUmber of studies covered: 18349\n",
      "Number of associations covered: 265715\n"
     ]
    },
    {
     "name": "stderr",
     "output_type": "stream",
     "text": [
      "                                                                                \r"
     ]
    }
   ],
   "source": [
    "old_study_locus = (\n",
    "    spark.read.parquet(\"gs://genetics-portal-dev-staging/v2d/220210/ld.parquet\")\n",
    "    .select(\n",
    "        f.col('study_id').alias(\"studyId\"), \n",
    "        f.concat_ws(\"_\", f.col(\"lead_chrom\"), f.col(\"lead_pos\"), f.col(\"lead_ref\"), f.col(\"lead_alt\")).alias(\"variantId\"), \n",
    "        f.concat_ws(\"_\", f.col(\"tag_chrom\"), f.col(\"tag_pos\"), f.col(\"tag_ref\"), f.col(\"tag_alt\")).alias(\"tagVariantId\"),\n",
    "        'pics_postprob',\n",
    "        'pics_95perc_credset',\n",
    "        'pics_99perc_credset'\n",
    "    )\n",
    "    .distinct()\n",
    ")\n",
    "lead_tag_pair_count = old_study_locus.count()\n",
    "study_count = old_study_locus.select('studyId').distinct().count()\n",
    "association_count = old_study_locus.select('studyId', 'variantId').distinct().count()\n",
    "\n",
    "print(f'Number of lead/tag count: {lead_tag_pair_count}')\n",
    "print(f'NUmber of studies covered: {study_count}')\n",
    "print(f'Number of associations covered: {association_count}')\n"
   ]
  },
  {
   "cell_type": "code",
   "execution_count": 25,
   "metadata": {},
   "outputs": [
    {
     "name": "stderr",
     "output_type": "stream",
     "text": [
      "                                                                                \r"
     ]
    },
    {
     "name": "stdout",
     "output_type": "stream",
     "text": [
      "The median number of tag size: 18.0\n",
      "Number of associations with single credible set: 9231\n",
      "Number of associations with more than 1000 tags set: 441\n",
      "+-------------+---------------+-----+\n",
      "|      studyId|      variantId|count|\n",
      "+-------------+---------------+-----+\n",
      "|   GCST001482|17_45900461_C_T| 3685|\n",
      "| GCST90018953|17_45856424_G_T| 3684|\n",
      "|   GCST007692|17_45846834_C_G| 3649|\n",
      "| GCST90018960|17_45761354_C_T| 3360|\n",
      "| GCST90018996|17_46112544_A_G| 3348|\n",
      "| GCST90091060|17_45873075_C_A| 3295|\n",
      "|   GCST007328|17_45887201_A_C| 3294|\n",
      "|   GCST002970|17_45846317_A_G| 3294|\n",
      "|   GCST007430|17_45887201_A_C| 3294|\n",
      "|   GCST001548|17_45846853_T_C| 3294|\n",
      "|   GCST001126|17_45846317_A_G| 3294|\n",
      "|   GCST012009|17_45862033_A_C| 3294|\n",
      "|   GCST010701|17_45855805_C_T| 3294|\n",
      "|   GCST006941|17_45841739_C_T| 3293|\n",
      "|   GCST010002|17_45895867_C_T| 3293|\n",
      "|   GCST008734|17_45834077_T_C| 3293|\n",
      "|   GCST004601|17_45841730_A_G| 3293|\n",
      "|   GCST008994|17_45846288_G_C| 3293|\n",
      "| GCST90025948|17_45834077_T_C| 3293|\n",
      "|GCST009518_66|17_45841730_A_G| 3293|\n",
      "+-------------+---------------+-----+\n",
      "only showing top 20 rows\n",
      "\n"
     ]
    }
   ],
   "source": [
    "tag_count = old_study_locus.groupBy('studyId', 'variantId').count().persist()\n",
    "median_tag_count = tag_count.toPandas()['count'].median()\n",
    "single_count = tag_count.filter(f.col('count') == 1).count()\n",
    "over_1000 = tag_count.filter(f.col('count') >= 1000).count()\n",
    "\n",
    "print(f'The median number of tag size: {median_credset_size}')\n",
    "print(f'Number of associations with single credible set: {single_count}')\n",
    "print(f'Number of associations with more than 1000 tags set: {over_1000}')\n",
    "\n",
    "tag_count.orderBy('count',ascending=False).show(20)"
   ]
  },
  {
   "attachments": {},
   "cell_type": "markdown",
   "metadata": {},
   "source": [
    "### Compare credible sets\n",
    "\n",
    "To make datasets comparable, both datasets need to updated with `studyAccession`: getting the GWAS Catalog study identifier by removing the suffix."
   ]
  },
  {
   "cell_type": "code",
   "execution_count": 34,
   "metadata": {},
   "outputs": [
    {
     "name": "stdout",
     "output_type": "stream",
     "text": [
      "-RECORD 0-----------------------------------\n",
      " studyAccession      | GCST009358           \n",
      " variantId           | 2_139752666_T_A      \n",
      " tagVariantId        | 2_139729938_T_C      \n",
      " pics_postprob       | 0.019005571528389883 \n",
      " pics_95perc_credset | true                 \n",
      " pics_99perc_credset | true                 \n",
      "only showing top 1 row\n",
      "\n"
     ]
    },
    {
     "name": "stderr",
     "output_type": "stream",
     "text": [
      "22/12/21 16:59:52 WARN org.apache.spark.sql.execution.CacheManager: Asked to cache already cached data.\n"
     ]
    }
   ],
   "source": [
    "processed_new = (\n",
    "    credible_sets\n",
    "    # Dropping leads with sub-significant p-values:\n",
    "    .filter(~f.array_contains(f.col('qualityControl'), 'Subsignificant p-value'))\n",
    "    .select(\n",
    "        # Unsplitting studies:\n",
    "        f.split(f.col('studyId'), '_').getItem(0).alias('studyAccession'),\n",
    "        'variantId', \n",
    "        'tagVariantId', \n",
    "        'pics_mu', \n",
    "        'pics_postprob', \n",
    "        'pics_95_perc_credset', \n",
    "        'pics_99_perc_credset'\n",
    "    )\n",
    "    .persist()\n",
    ")\n",
    "\n",
    "processed_old = (\n",
    "    old_study_locus\n",
    "    .select(\n",
    "        # Unsplitting studies:\n",
    "        f.split(f.col('studyId'), '_').getItem(0).alias('studyAccession'),\n",
    "        'variantId', \n",
    "        'tagVariantId',\n",
    "        'pics_postprob',\n",
    "        'pics_95perc_credset',\n",
    "        'pics_99perc_credset' \n",
    "    )\n",
    "    .persist()\n",
    ")\n",
    "\n",
    "processed_old.show(1, False, True)"
   ]
  },
  {
   "cell_type": "code",
   "execution_count": 35,
   "metadata": {},
   "outputs": [
    {
     "name": "stderr",
     "output_type": "stream",
     "text": [
      "22/12/21 16:59:55 WARN org.apache.spark.sql.execution.CacheManager: Asked to cache already cached data.\n",
      "[Stage 464:====================================================>(197 + 3) / 200]\r"
     ]
    },
    {
     "name": "stdout",
     "output_type": "stream",
     "text": [
      "+--------------+---------------+---------------------+---------------------+\n",
      "|studyAccession|      variantId|new_credible_set_size|old_credible_set_size|\n",
      "+--------------+---------------+---------------------+---------------------+\n",
      "|    GCST000114|15_48099968_A_G|                   13|                   38|\n",
      "|    GCST000184|18_60217517_G_A|                  233|                  214|\n",
      "|    GCST000282|19_11100236_C_T|                   34|                   69|\n",
      "|    GCST000679| 10_6056986_C_T|                   12|                 null|\n",
      "|    GCST000817|9_136220024_G_T|                   23|                   27|\n",
      "|    GCST000876|11_18349351_G_C|                    2|                    6|\n",
      "|    GCST000943| 20_1960525_G_A|                 null|                    2|\n",
      "|    GCST000964|13_77957479_G_A|                 null|                   47|\n",
      "|    GCST000998|10_44280376_C_T|                  193|                 null|\n",
      "|    GCST000998|21_34226827_C_T|                   29|                   32|\n",
      "|    GCST001010| 6_32689801_T_C|                    1|                  112|\n",
      "|    GCST001040|17_37738049_G_A|                 null|                   21|\n",
      "|    GCST001158|4_154586438_T_C|                    7|                   41|\n",
      "|    GCST001191|1_113834946_A_G|                    2|                    3|\n",
      "|    GCST001213|10_69171718_C_T|                   18|                    6|\n",
      "|    GCST001263|12_65833477_C_T|                   22|                   38|\n",
      "|    GCST001364|22_30027471_C_T|                  133|                  171|\n",
      "|    GCST001436| 6_31481199_C_A|                  441|                  246|\n",
      "|    GCST001782|  16_134391_T_G|                   14|                   12|\n",
      "|    GCST001915|14_95298227_A_G|                   10|                   12|\n",
      "+--------------+---------------+---------------------+---------------------+\n",
      "only showing top 20 rows\n",
      "\n"
     ]
    },
    {
     "name": "stderr",
     "output_type": "stream",
     "text": [
      "                                                                                \r"
     ]
    }
   ],
   "source": [
    "aggregated_new = (\n",
    "    processed_new\n",
    "    .join(processed_old.select('studyAccession').distinct(), on='studyAccession', how='right')\n",
    "    .groupBy('studyAccession', 'variantId')\n",
    "    .agg(f.size(f.collect_list(f.col('tagVariantId'))).alias('new_credible_set_size'))\n",
    "    .persist()\n",
    ")\n",
    "\n",
    "aggregated_old = (\n",
    "    processed_old\n",
    "    .groupBy('studyAccession', 'variantId')\n",
    "    .agg(f.size(f.collect_list(f.col('tagVariantId'))).alias('old_credible_set_size'))\n",
    "    .persist()\n",
    ")\n",
    "\n",
    "credset_compare = (\n",
    "    aggregated_new\n",
    "    .join(aggregated_old.filter(f.col('studyAccession').startswith('GCST')), on=['studyAccession', 'variantId'], how='outer')\n",
    "    .persist()\n",
    ")\n",
    "\n",
    "credset_compare.show()"
   ]
  },
  {
   "cell_type": "code",
   "execution_count": 38,
   "metadata": {},
   "outputs": [
    {
     "name": "stderr",
     "output_type": "stream",
     "text": [
      "                                                                                \r"
     ]
    },
    {
     "name": "stdout",
     "output_type": "stream",
     "text": [
      "The number of extra credible sets covered by the new dataset: 64966 (32.9%)\n",
      "Number of lost credible sets in the new datasets: 45291 (23.0%)\n",
      "The number of extra credible sets with more than 1 tags covered by the new dataset: 54916 (27.9%)\n"
     ]
    }
   ],
   "source": [
    "extra_coverage = credset_compare.filter(f.col('old_credible_set_size').isNull()).count()\n",
    "lost_coverage = credset_compare.filter(f.col('new_credible_set_size').isNull()).count()\n",
    "old_full_count = aggregated_old.filter(f.col('studyAccession').startswith('GCST')).count()\n",
    "\n",
    "print(f'The number of extra credible sets covered by the new dataset: {extra_coverage} ({round(extra_coverage/old_full_count * 100, 1)}%)')\n",
    "print(f'Number of lost credible sets in the new datasets: {lost_coverage} ({round(lost_coverage/old_full_count*100, 1)}%)')\n",
    "\n",
    "extra_coverage_more = credset_compare.filter(f.col('old_credible_set_size').isNull() & (f.col('new_credible_set_size')>1)).count()\n",
    "\n",
    "print(f'The number of extra credible sets with more than 1 tags covered by the new dataset: {extra_coverage_more} ({round(extra_coverage_more/old_full_count * 100, 1)}%)')\n"
   ]
  },
  {
   "cell_type": "code",
   "execution_count": 39,
   "metadata": {},
   "outputs": [
    {
     "name": "stdout",
     "output_type": "stream",
     "text": [
      "+--------------+--------------------+---------------------+---------------------+\n",
      "|studyAccession|           variantId|new_credible_set_size|old_credible_set_size|\n",
      "+--------------+--------------------+---------------------+---------------------+\n",
      "|    GCST000943|      20_1960525_G_A|                 null|                    2|\n",
      "|    GCST000964|     13_77957479_G_A|                 null|                   47|\n",
      "|    GCST001040|     17_37738049_G_A|                 null|                   21|\n",
      "|    GCST002216|      7_73450539_A_G|                 null|                   94|\n",
      "|    GCST002221|     9_133372523_G_C|                 null|                   20|\n",
      "|    GCST002223|      8_19973410_C_T|                 null|                  106|\n",
      "|    GCST002223|      8_20009083_C_T|                 null|                   98|\n",
      "|    GCST003043|     16_11271643_C_T|                 null|                   14|\n",
      "|    GCST003879|     22_23030688_C_G|                 null|                  104|\n",
      "|    GCST004132|     16_10871740_T_C|                 null|                   74|\n",
      "|    GCST004365|     3_186755027_C_T|                 null|                   12|\n",
      "|    GCST004600|      6_35756341_T_C|                 null|                   17|\n",
      "|    GCST004601|     11_8721318_TC_T|                 null|                  171|\n",
      "|    GCST004601|      6_27878966_G_C|                 null|                  267|\n",
      "|    GCST004603|16_88730362_G_GGG...|                 null|                   10|\n",
      "|    GCST004603|      4_17777672_A_T|                 null|                    9|\n",
      "|    GCST004605|     6_28489735_CT_C|                 null|                    1|\n",
      "|    GCST004607|     2_218258320_T_A|                 null|                  235|\n",
      "|    GCST004609|    5_150053837_G_GC|                 null|                   52|\n",
      "|    GCST004610|     1_100728649_C_T|                 null|                    2|\n",
      "+--------------+--------------------+---------------------+---------------------+\n",
      "only showing top 20 rows\n",
      "\n"
     ]
    }
   ],
   "source": [
    "credset_compare.filter(f.col('new_credible_set_size').isNull()).show()"
   ]
  },
  {
   "cell_type": "markdown",
   "metadata": {},
   "source": [
    "**Conclusion:**\n",
    "- The reason of the disagreement is the fact that the old dataset contains data from summary stats finemapping.\n",
    "- To resolve this problem, we exclude those studies which have summary stats. These credible sets should be in a better agreement."
   ]
  },
  {
   "cell_type": "code",
   "execution_count": 40,
   "metadata": {},
   "outputs": [
    {
     "name": "stderr",
     "output_type": "stream",
     "text": [
      "                                                                                \r"
     ]
    },
    {
     "data": {
      "text/plain": [
       "141"
      ]
     },
     "execution_count": 40,
     "metadata": {},
     "output_type": "execute_result"
    }
   ],
   "source": [
    "(\n",
    "    spark.read.parquet(\"gs://genetics-portal-dev-staging/v2d/220401/ld.parquet\")\n",
    "    .filter(f.col('study_id') == 'GCST002223')\n",
    "    .select('lead_chrom', 'lead_pos', 'lead_ref', 'lead_alt')\n",
    "    .distinct()\n",
    "    .count()\n",
    ")"
   ]
  },
  {
   "cell_type": "code",
   "execution_count": 41,
   "metadata": {},
   "outputs": [
    {
     "name": "stderr",
     "output_type": "stream",
     "text": [
      "                                                                                \r"
     ]
    },
    {
     "name": "stdout",
     "output_type": "stream",
     "text": [
      "Number of credible sets in the selected studies (27054): 105658\n",
      "The number of extra credible sets covered by the new dataset in the same studies: 38666 (36.6%)\n",
      "Number of lost credible sets in the new datasets: 5876 (5.6%)\n",
      "The number of extra credible sets with more than 1 tags covered by the new dataset: 32567 (30.8%)\n"
     ]
    }
   ],
   "source": [
    "studies_with_no_sumstats = (\n",
    "    spark.read.parquet('gs://genetics_etl_python_playground/XX.XX/output/python_etl/parquet/gwas_catalog_studies/')\n",
    "    .filter(~f.col('hasSumstats'))\n",
    "    .select(f.split(f.col('studyId'), '_').getItem(0).alias('studyAccession'))\n",
    "    .distinct()\n",
    ")\n",
    "\n",
    "# Dropping studies with summary statistics:\n",
    "credset_compare_update = credset_compare.join(studies_with_no_sumstats, on='studyAccession', how='inner').distinct().persist()\n",
    "\n",
    "old_full_count = credset_compare_update.filter(f.col('old_credible_set_size').isNotNull()).count()\n",
    "extra_coverage = credset_compare_update.filter(f.col('old_credible_set_size').isNull()).count()\n",
    "lost_coverage = credset_compare_update.filter(f.col('new_credible_set_size').isNull()).count()\n",
    "\n",
    "print(f'Number of credible sets in the selected studies ({studies_with_no_sumstats.count()}): {old_full_count}')\n",
    "print(f'The number of extra credible sets covered by the new dataset in the same studies: {extra_coverage} ({round(extra_coverage/old_full_count * 100, 1)}%)')\n",
    "print(f'Number of lost credible sets in the new datasets: {lost_coverage} ({round(lost_coverage/old_full_count*100, 1)}%)')\n",
    "\n",
    "extra_coverage_more = credset_compare_update.filter(f.col('old_credible_set_size').isNull() & (f.col('new_credible_set_size')>1)).count()\n",
    "\n",
    "print(f'The number of extra credible sets with more than 1 tags covered by the new dataset: {extra_coverage_more} ({round(extra_coverage_more/old_full_count * 100, 1)}%)')"
   ]
  },
  {
   "cell_type": "code",
   "execution_count": 52,
   "metadata": {},
   "outputs": [
    {
     "data": {
      "text/plain": [
       "[0.7222222222222222]"
      ]
     },
     "execution_count": 52,
     "metadata": {},
     "output_type": "execute_result"
    }
   ],
   "source": [
    "(\n",
    "    credset_compare_update\n",
    "    .filter(\n",
    "        f.col('new_credible_set_size').isNotNull() &\n",
    "        f.col('old_credible_set_size').isNotNull()\n",
    "    )\n",
    "    .withColumn('credsetsizechange', f.col('new_credible_set_size') / f.col('old_credible_set_size'))\n",
    "    .approxQuantile(\"credsetsizechange\", [0.5], 0)\n",
    ")"
   ]
  },
  {
   "cell_type": "code",
   "execution_count": 65,
   "metadata": {},
   "outputs": [
    {
     "data": {
      "text/plain": [
       "130"
      ]
     },
     "execution_count": 65,
     "metadata": {},
     "output_type": "execute_result"
    }
   ],
   "source": [
    "# old_study_locus.show()\n",
    "(\n",
    "    new_study_locus\n",
    "    .filter((f.col('studyId') == 'GCST007099')&(f.col('variantId')=='1_88815846_A_G') & (f.col('pics_99perc_credset')))\n",
    "    .count()\n",
    ")"
   ]
  },
  {
   "cell_type": "code",
   "execution_count": 4,
   "metadata": {},
   "outputs": [
    {
     "name": "stderr",
     "output_type": "stream",
     "text": [
      "23/01/16 12:55:12 WARN org.apache.spark.sql.execution.CacheManager: Asked to cache already cached data.\n",
      "23/01/16 12:55:13 WARN org.apache.spark.sql.execution.CacheManager: Asked to cache already cached data.\n"
     ]
    },
    {
     "name": "stdout",
     "output_type": "stream",
     "text": [
      "Number of GWAS Catalog association: 433191\n"
     ]
    },
    {
     "name": "stderr",
     "output_type": "stream",
     "text": [
      "                                                                                \r"
     ]
    },
    {
     "name": "stdout",
     "output_type": "stream",
     "text": [
      "Associations reaching GWAS significance: 337163\n"
     ]
    },
    {
     "name": "stderr",
     "output_type": "stream",
     "text": [
      "                                                                                \r"
     ]
    },
    {
     "name": "stdout",
     "output_type": "stream",
     "text": [
      "Significant associations with gnomad mapping: 324129\n"
     ]
    },
    {
     "name": "stderr",
     "output_type": "stream",
     "text": [
      "[Stage 32:===================================================>    (12 + 1) / 13]\r"
     ]
    },
    {
     "name": "stdout",
     "output_type": "stream",
     "text": [
      "Mapped associations with LD set: 282044\n"
     ]
    },
    {
     "name": "stderr",
     "output_type": "stream",
     "text": [
      "                                                                                \r"
     ]
    }
   ],
   "source": [
    "def get_study_count(df: DataFrame) -> int:\n",
    "    return (\n",
    "        df\n",
    "        .select('studyId', 'variantId')\n",
    "        .distinct()\n",
    "        .count()\n",
    "    )\n",
    "\n",
    "# 1. Get number of associations:\n",
    "new_study_locus = (\n",
    "    spark.read.parquet(\"gs://genetics_etl_python_playground/XX.XX/output/python_etl/parquet/pics_credible_set/\")\n",
    "    .persist()\n",
    ")\n",
    "\n",
    "print(f'Number of GWAS Catalog association: {get_study_count(new_study_locus)}')\n",
    "\n",
    "# 2. Number of significant associations:\n",
    "filtered = (\n",
    "    new_study_locus\n",
    "    .filter(~f.array_contains(f.col('qualityControl'), 'Subsignificant p-value'))\n",
    "    .persist()\n",
    ")\n",
    "print(f'Associations reaching GWAS significance: {get_study_count(filtered)}')\n",
    "\n",
    "# 3. Number of significant assocaitions that are mapped to GnomAD:\n",
    "filtered = (\n",
    "    filtered\n",
    "    .filter(~f.array_contains(f.col('qualityControl'), 'No mapping in GnomAd'))\n",
    "    .persist()\n",
    ")\n",
    "print(f'Significant associations with gnomad mapping: {get_study_count(filtered)}')\n",
    "\n",
    "# 4. Number of ~ that have LD set:\n",
    "filtered = (\n",
    "    filtered\n",
    "    .filter(\n",
    "        f.col('pics_99_perc_credset') & f.col('tagVariantId').isNotNull()\n",
    "    )\n",
    "    .persist()\n",
    ")\n",
    "print(f'Mapped associations with LD set: {get_study_count(filtered)}')\n"
   ]
  },
  {
   "cell_type": "code",
   "execution_count": 8,
   "metadata": {},
   "outputs": [
    {
     "name": "stderr",
     "output_type": "stream",
     "text": [
      "[Stage 41:====================================================>   (15 + 1) / 16]\r"
     ]
    },
    {
     "name": "stdout",
     "output_type": "stream",
     "text": [
      "+------------+----------------+----------------+--------------------+-------------------+-------------------+\n",
      "|     studyId|       variantId|    tagVariantId|       pics_postprob|pics_95perc_credset|pics_99perc_credset|\n",
      "+------------+----------------+----------------+--------------------+-------------------+-------------------+\n",
      "|  GCST007099|  1_88815846_A_G|  1_88799565_T_C|0.005103045836100254|               true|               true|\n",
      "|GCST007201_2|  3_52799789_C_A|  3_52643944_T_C|8.779932683029851E-4|               true|               true|\n",
      "|GCST007201_2|  3_52799789_C_A|  3_52683213_T_A|6.006233812682297E-4|              false|               true|\n",
      "|  GCST007099| 11_47654618_A_G| 11_47795458_T_G|0.003659069596384...|               true|               true|\n",
      "|  GCST007099|  6_43340625_C_T|  6_43359637_A_T|0.002649518519776...|              false|               true|\n",
      "|  GCST007209| 11_61825533_A_G|11_61774534_GA_G|0.011546044520062356|               true|               true|\n",
      "|GCST007141_3|  1_62639867_T_C| 1_62488701_G_GA|0.001678001828323...|               true|               true|\n",
      "|GCST007141_3|  1_62639867_T_C| 1_62453356_GT_G|0.001335367370049...|              false|               true|\n",
      "|  GCST007104| 17_66322239_G_C| 17_66310015_C_T|0.015351070060352174|               true|               true|\n",
      "|  GCST007142| 1_203550066_T_C| 1_203548595_C_G| 0.11196177063280734|               true|               true|\n",
      "|  GCST007131| 2_108615619_C_T| 2_108549275_G_A| 0.01755958550554787|               true|               true|\n",
      "|  GCST007141| 19_19268740_C_T| 19_19553268_C_T|0.009362174840364291|               true|               true|\n",
      "|  GCST007143| 1_183001412_A_G| 1_183040061_T_C|0.003484982775199156|               true|               true|\n",
      "|  GCST007143| 1_183001412_A_G| 1_183083996_C_T|0.003466542279783...|               true|               true|\n",
      "|GCST007201_2|11_133952674_A_G|11_133959749_C_G|0.045634273589708375|               true|               true|\n",
      "|  GCST007099| 21_14971491_A_G| 21_14980005_C_T|0.008509525369074587|               true|               true|\n",
      "|  GCST007159| 1_219605617_T_G|1_219609019_C_CG|0.002253766730098376|              false|               true|\n",
      "|  GCST007099|  5_15312444_C_T|  5_15281676_T_A|0.005161546243963903|               true|               true|\n",
      "|  GCST007099|  5_15312444_C_T|  5_15177714_A_G|0.001504607505224534|              false|               true|\n",
      "|  GCST007099|  8_51024072_T_C|  8_50969986_A_G|1.302435270015101...|              false|               true|\n",
      "+------------+----------------+----------------+--------------------+-------------------+-------------------+\n",
      "only showing top 20 rows\n",
      "\n"
     ]
    },
    {
     "name": "stderr",
     "output_type": "stream",
     "text": [
      "                                                                                \r"
     ]
    }
   ],
   "source": [
    "old_study_locus = (\n",
    "    spark.read.parquet(\"gs://genetics-portal-dev-staging/v2d/220210/ld.parquet\")\n",
    "    .filter(f.col(\"pics_99perc_credset\"))\n",
    "    .select(\n",
    "        # Select study id:\n",
    "        f.col('study_id').alias(\"studyId\"), \n",
    "        # Create lead variant ID:\n",
    "        f.concat_ws(\"_\", f.col(\"lead_chrom\"), f.col(\"lead_pos\"), f.col(\"lead_ref\"), f.col(\"lead_alt\")).alias(\"variantId\"), \n",
    "        # Create tag variant ID:\n",
    "        f.concat_ws(\"_\", f.col(\"tag_chrom\"), f.col(\"tag_pos\"), f.col(\"tag_ref\"), f.col(\"tag_alt\")).alias(\"tagVariantId\"),\n",
    "        # Picking other relevant columns:\n",
    "        'pics_postprob',\n",
    "        'pics_95perc_credset',\n",
    "        'pics_99perc_credset'\n",
    "    )\n",
    "    .distinct()\n",
    "    .persist()\n",
    ")\n",
    "\n",
    "old_study_locus.show()"
   ]
  },
  {
   "cell_type": "code",
   "execution_count": 3,
   "metadata": {},
   "outputs": [
    {
     "data": {
      "text/plain": [
       "0.7783241110734064"
      ]
     },
     "execution_count": 3,
     "metadata": {},
     "output_type": "execute_result"
    }
   ],
   "source": [
    "# We should apply PICS filter: 99% credset filter applied.\n",
    "\n",
    "# Reading old ld expanded dataset:\n",
    "old_study_locus = (\n",
    "    spark.read.parquet(\"gs://genetics-portal-dev-staging/v2d/220210/ld.parquet\")\n",
    "    .filter(f.col(\"pics_99perc_credset\"))\n",
    "    .select(\n",
    "        # Unsplitting studies:\n",
    "        f.split(f.col('study_id'), '_').getItem(0).alias('studyAccession'),\n",
    "        # Select study id:\n",
    "        f.col('study_id').alias(\"studyId\"), \n",
    "        # Create lead variant ID:\n",
    "        f.concat_ws(\"_\", f.col(\"lead_chrom\"), f.col(\"lead_pos\"), f.col(\"lead_ref\"), f.col(\"lead_alt\")).alias(\"variantId\"), \n",
    "        # Create tag variant ID:\n",
    "        f.concat_ws(\"_\", f.col(\"tag_chrom\"), f.col(\"tag_pos\"), f.col(\"tag_ref\"), f.col(\"tag_alt\")).alias(\"tagVariantId\"),\n",
    "        # Picking other relevant columns:\n",
    "        'pics_postprob',\n",
    "        'pics_95perc_credset',\n",
    "        'pics_99perc_credset'\n",
    "    )\n",
    "    .distinct()\n",
    "    .persist()\n",
    ")\n",
    "\n",
    "\n",
    "# Processing new dataset (significant association, mapped to Gnomad, resolved ld):\n",
    "processed_new = (\n",
    "    filtered # <- already gwas significant, mapped to gnomad, mapped to ld matrix\n",
    "    .filter(f.col(\"pics_99_perc_credset\"))\n",
    "    .select(\n",
    "        # Unsplitting studies:\n",
    "        f.split(f.col('studyId'), '_').getItem(0).alias('studyAccession'),\n",
    "        'variantId', \n",
    "        'tagVariantId', \n",
    "        'pics_mu', \n",
    "        'pics_postprob', \n",
    "        'pics_95_perc_credset', \n",
    "        'pics_99_perc_credset'\n",
    "    )\n",
    "    .distinct()\n",
    "    .persist()\n",
    ")\n",
    "\n",
    "# Get a list of studies without summary statistics:\n",
    "studies_with_no_sumstats = (\n",
    "    spark.read.parquet('gs://genetics_etl_python_playground/XX.XX/output/python_etl/parquet/gwas_catalog_studies/')\n",
    "    .filter(~f.col('hasSumstats'))\n",
    "    .select(f.split(f.col('studyId'), '_').getItem(0).alias('studyAccession'))\n",
    "    .distinct()\n",
    ")\n",
    "\n",
    "processed_old = (\n",
    "    old_study_locus\n",
    "    .select(\n",
    "        # Unsplitting studies:\n",
    "        f.split(f.col('studyId'), '_').getItem(0).alias('studyAccession'),\n",
    "        'variantId', \n",
    "        'tagVariantId',\n",
    "        'pics_postprob',\n",
    "        'pics_95perc_credset',\n",
    "        'pics_99perc_credset' \n",
    "    )\n",
    "    .persist()\n",
    ")\n",
    "\n",
    "aggregated_new = (\n",
    "    processed_new\n",
    "    .join(processed_old.select('studyAccession').distinct(), on='studyAccession', how='right')\n",
    "    .groupBy('studyAccession', 'variantId')\n",
    "    .agg(f.size(f.collect_list(f.col('tagVariantId'))).alias('new_credible_set_size'))\n",
    "    .persist()\n",
    ")\n",
    "\n",
    "aggregated_old = (\n",
    "    processed_old\n",
    "    .groupBy('studyAccession', 'variantId')\n",
    "    .agg(f.size(f.collect_list(f.col('tagVariantId'))).alias('old_credible_set_size'))\n",
    "    .persist()\n",
    ")\n",
    "\n",
    "credset_compare = (\n",
    "    aggregated_new\n",
    "    .join(aggregated_old.filter(f.col('studyAccession').startswith('GCST')), on=['studyAccession', 'variantId'], how='outer')\n",
    "    .persist()\n",
    ")\n",
    "\n",
    "credset_compare.show()\n",
    "\n",
    "\n",
    "\n",
    "# Dropping studies with summary statistics:\n",
    "credset_compare_update = credset_compare.join(studies_with_no_sumstats, on='studyAccession', how='inner').distinct().persist()\n",
    "\n",
    "old_full_count = credset_compare_update.filter(f.col('old_credible_set_size').isNotNull()).count()\n",
    "extra_coverage = credset_compare_update.filter(f.col('old_credible_set_size').isNull()).count()\n",
    "lost_coverage = credset_compare_update.filter(f.col('new_credible_set_size').isNull()).count()\n",
    "\n",
    "print(f'Number of credible sets in the selected studies ({studies_with_no_sumstats.count()}): {old_full_count}')\n",
    "print(f'The number of extra credible sets covered by the new dataset in the same studies: {extra_coverage} ({round(extra_coverage/old_full_count * 100, 1)}%)')\n",
    "print(f'Number of lost credible sets in the new datasets: {lost_coverage} ({round(lost_coverage/old_full_count*100, 1)}%)')\n",
    "\n",
    "extra_coverage_more = credset_compare_update.filter(f.col('old_credible_set_size').isNull() & (f.col('new_credible_set_size')>1)).count()\n",
    "\n",
    "print(f'The number of extra credible sets with more than 1 tags covered by the new dataset: {extra_coverage_more} ({round(extra_coverage_more/old_full_count * 100, 1)}%)')"
   ]
  },
  {
   "cell_type": "code",
   "execution_count": null,
   "metadata": {},
   "outputs": [],
   "source": []
  }
 ],
 "metadata": {
  "kernelspec": {
   "display_name": "Python 3",
   "language": "python",
   "name": "python3"
  },
  "language_info": {
   "codemirror_mode": {
    "name": "ipython",
    "version": 3
   },
   "file_extension": ".py",
   "mimetype": "text/x-python",
   "name": "python",
   "nbconvert_exporter": "python",
   "pygments_lexer": "ipython3",
   "version": "3.8.13"
  },
  "orig_nbformat": 4,
  "vscode": {
   "interpreter": {
    "hash": "de3a7304373a2ed386fe951c9137ef8d6c9c0656a76027db0e908c100510c9c7"
   }
  }
 },
 "nbformat": 4,
 "nbformat_minor": 2
}
