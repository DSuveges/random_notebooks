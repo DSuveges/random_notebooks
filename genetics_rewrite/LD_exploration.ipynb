{
 "cells": [
  {
   "attachments": {},
   "cell_type": "markdown",
   "metadata": {},
   "source": [
    "```\n",
    "+----------+---------------+------------------+----------------------------------------------------------------------------------------------------------+\n",
    "|studyId   |variantId      |negLogP           |qualityControl                                                                                            |\n",
    "+----------+---------------+------------------+----------------------------------------------------------------------------------------------------------+\n",
    "|GCST004860|X_107210017_G_A|5.045757490560675 |[Subsignificant p-value, Association explained by: X_106816683_C_T]                                       |\n",
    "|GCST004860|X_106585073_C_T|5.096910013008056 |[Subsignificant p-value]                                                                                  |\n",
    "|GCST004860|X_107174072_T_C|5.154901959985743 |[Subsignificant p-value, Credible set not resolved]                                                       |\n",
    "|GCST004860|X_107294522_C_T|5.221848749616356 |[Subsignificant p-value]                                                                                  |\n",
    "|GCST004860|X_107011960_A_G|5.301029995663981 |[Subsignificant p-value, Association explained by: X_107289163_G_C]                                       |\n",
    "|GCST004860|X_106631560_T_G|5.301029995663981 |[Subsignificant p-value, Association explained by: X_106829297_T_C]                                       |\n",
    "|GCST004860|X_107296299_T_C|5.522878745280337 |[Subsignificant p-value, Credible set not resolved]                                                       |\n",
    "|GCST004860|X_87315170_C_T |5.522878745280337 |[Subsignificant p-value]                                                                                  |\n",
    "|GCST004860|X_106772108_A_T|5.522878745280337 |[Subsignificant p-value, Palindrome alleles - cannot harmonize]                                           |\n",
    "|GCST004860|X_107296378_T_C|5.522878745280337 |[Subsignificant p-value, Credible set not resolved]                                                       |\n",
    "|GCST004860|X_106050079_C_T|5.698970004336019 |[Subsignificant p-value, Association explained by:]                                                       |\n",
    "|GCST004860|X_106375530_T_C|5.698970004336019 |[Subsignificant p-value]                                                                                  |\n",
    "|GCST004860|X_106983213_C_T|6.0               |[Subsignificant p-value, Association explained by: X_106893680_T_C]                                       |\n",
    "|GCST004860|X_106816683_C_T|6.0               |[Subsignificant p-value]                                                                                  |\n",
    "|GCST004860|X_107043226_G_A|6.522878745280337 |[Subsignificant p-value, Association explained by: X_106893680_T_C]                                       |\n",
    "|GCST004860|X_107370118_A_G|6.698970004336019 |[Subsignificant p-value, Association explained by: X_107289163_G_C]                                       |\n",
    "|GCST004860|X_106504267_T_C|6.698970004336019 |[Subsignificant p-value, Association explained by: X_106964394_A_G]                                       |\n",
    "|GCST004860|X_106893680_T_C|6.698970004336019 |[Subsignificant p-value]                                                                                  |\n",
    "|GCST004860|X_107434651_C_G|7.0               |[Subsignificant p-value, Palindrome alleles - cannot harmonize, Association explained by: X_106964394_A_G]|\n",
    "|GCST004860|X_107289163_G_C|7.698970004336019 |[Palindrome alleles - cannot harmonize]                                                                   |\n",
    "|GCST004860|X_107158099_G_C|8.0               |[Palindrome alleles - cannot harmonize, Credible set not resolved]                                        |\n",
    "|GCST004860|X_106730962_T_A|8.698970004336019 |[Palindrome alleles - cannot harmonize, Association explained by: X_106964394_A_G]                        |\n",
    "|GCST004860|X_107281285_G_A|9.221848749616356 |[Association explained by: X_107230661_C_T]                                                               |\n",
    "|GCST004860|X_106313139_G_A|9.698970004336019 |[Association explained by:]                                                                               |\n",
    "|GCST004860|X_106545130_T_A|10.397940008672037|[Palindrome alleles - cannot harmonize]                                                                   |\n",
    "|GCST004860|X_107318205_A_C|10.397940008672037|[Association explained by: X_106964394_A_G]                                                               |\n",
    "|GCST004860|X_106964394_A_G|11.698970004336019|[]                                                                                                        |\n",
    "|GCST004860|X_106829297_T_C|12.0              |[]                                                                                                        |\n",
    "|GCST004860|X_106834287_G_A|12.397940008672037|[Association explained by: X_107230661_C_T]                                                               |\n",
    "|GCST004860|X_107230661_C_T|13.397940008672037|[]                                                                                                        |\n",
    "|GCST004860|X_106917472_A_G|14.221848749616356|[Association explained by: X_106956972_G_A]                                                               |\n",
    "|GCST004860|X_106956972_G_A|15.096910013008056|[]                                                                                                        |\n",
    "|GCST004860|X_107123872_G_A|16.69897000433602 |[]                                                                                                        |\n",
    "|GCST004860|X_106940440_C_T|18.69897000433602 |[Association explained by: X_107131628_G_A]                                                               |\n",
    "|GCST004860|X_106732269_G_A|19.221848749616356|[Association explained by:]                                                                               |\n",
    "|GCST004860|X_106768355_T_G|24.0              |[Association explained by: X_107131628_G_A]                                                               |\n",
    "|GCST004860|X_106901299_T_C|28.69897000433602 |[Association explained by: X_107131628_G_A]                                                               |\n",
    "|GCST004860|X_107131628_G_A|32.0              |[]                                                                                                        |\n",
    "+----------+---------------+------------------+----------------------------------------------------------------------------------------------------------+\n",
    "```"
   ]
  },
  {
   "cell_type": "code",
   "execution_count": 2,
   "metadata": {},
   "outputs": [
    {
     "name": "stderr",
     "output_type": "stream",
     "text": [
      "Setting default log level to \"WARN\".\n",
      "To adjust logging level use sc.setLogLevel(newLevel). For SparkR, use setLogLevel(newLevel).\n",
      "23/01/11 20:28:47 INFO org.apache.spark.SparkEnv: Registering MapOutputTracker\n",
      "23/01/11 20:28:47 INFO org.apache.spark.SparkEnv: Registering BlockManagerMaster\n",
      "23/01/11 20:28:47 INFO org.apache.spark.SparkEnv: Registering BlockManagerMasterHeartbeat\n",
      "23/01/11 20:28:47 INFO org.apache.spark.SparkEnv: Registering OutputCommitCoordinator\n"
     ]
    }
   ],
   "source": [
    "from pyspark.sql import Column, DataFrame, SparkSession, functions as f, types as t\n",
    "from pyspark.sql.window import Window\n",
    "\n",
    "spark = SparkSession.builder.getOrCreate()\n",
    "\n",
    "# clamped = spark.read.parquet('gs://genetics_etl_python_playground/XX.XX/output/python_etl/parquet/pics_credible_set_clumped').persist()\n",
    "# unclamped = spark.read.parquet('gs://genetics_etl_python_playground/XX.XX/output/python_etl/parquet/pics_credible_set_not_clumped').persist()\n",
    "\n",
    "# clamped.show(1, False, True)\n",
    "# print(f'Clumped count: {clamped.count()}')\n",
    "# print(f'Unclumped count: {unclamped.count()}')\n",
    "\n",
    "# print(f'Clumped association count: {clamped.select(\"studyId\", \"variantId\").distinct().count()}')\n",
    "# print(f'Unclumped count: {unclamped.select(\"studyId\", \"variantId\").distinct().count()}')\n"
   ]
  },
  {
   "cell_type": "code",
   "execution_count": 8,
   "metadata": {},
   "outputs": [
    {
     "name": "stdout",
     "output_type": "stream",
     "text": [
      "+----------+---------------+--------+----------------------------------------------------------------------------------------------------------+\n",
      "|studyId   |variantId      |tagCount|qualityControl                                                                                            |\n",
      "+----------+---------------+--------+----------------------------------------------------------------------------------------------------------+\n",
      "|GCST004860|X_106631560_T_G|4       |[Subsignificant p-value, Association explained by: X_106829297_T_C]                                       |\n",
      "|GCST004860|X_106893680_T_C|19      |[Subsignificant p-value]                                                                                  |\n",
      "|GCST004860|X_106964394_A_G|19      |[]                                                                                                        |\n",
      "|GCST004860|X_107318205_A_C|16      |[Association explained by: X_106964394_A_G]                                                               |\n",
      "|GCST004860|X_106545130_T_A|2       |[Palindrome alleles - cannot harmonize]                                                                   |\n",
      "|GCST004860|X_107230661_C_T|10      |[]                                                                                                        |\n",
      "|GCST004860|X_106917472_A_G|19      |[Association explained by: X_106956972_G_A]                                                               |\n",
      "|GCST004860|X_106834287_G_A|8       |[Association explained by: X_107230661_C_T]                                                               |\n",
      "|GCST004860|X_106772108_A_T|4       |[Subsignificant p-value, Palindrome alleles - cannot harmonize]                                           |\n",
      "|GCST004860|X_107174072_T_C|0       |[Subsignificant p-value, Credible set not resolved]                                                       |\n",
      "|GCST004860|X_106732269_G_A|11      |[Association explained by:]                                                                               |\n",
      "|GCST004860|X_106730962_T_A|18      |[Palindrome alleles - cannot harmonize, Association explained by: X_106964394_A_G]                        |\n",
      "|GCST004860|X_107296378_T_C|0       |[Subsignificant p-value, Credible set not resolved]                                                       |\n",
      "|GCST004860|X_106901299_T_C|23      |[Association explained by: X_107131628_G_A]                                                               |\n",
      "|GCST004860|X_106375530_T_C|2       |[Subsignificant p-value]                                                                                  |\n",
      "|GCST004860|X_107370118_A_G|314     |[Subsignificant p-value, Association explained by: X_107289163_G_C]                                       |\n",
      "|GCST004860|X_107210017_G_A|11      |[Subsignificant p-value, Association explained by: X_106816683_C_T]                                       |\n",
      "|GCST004860|X_107011960_A_G|274     |[Subsignificant p-value, Association explained by: X_107289163_G_C]                                       |\n",
      "|GCST004860|X_106829297_T_C|5       |[]                                                                                                        |\n",
      "|GCST004860|X_107043226_G_A|11      |[Subsignificant p-value, Association explained by: X_106893680_T_C]                                       |\n",
      "|GCST004860|X_106768355_T_G|23      |[Association explained by: X_107131628_G_A]                                                               |\n",
      "|GCST004860|X_106585073_C_T|36      |[Subsignificant p-value]                                                                                  |\n",
      "|GCST004860|X_107123872_G_A|3       |[]                                                                                                        |\n",
      "|GCST004860|X_107294522_C_T|4       |[Subsignificant p-value]                                                                                  |\n",
      "|GCST004860|X_87315170_C_T |16      |[Subsignificant p-value]                                                                                  |\n",
      "|GCST004860|X_106050079_C_T|9       |[Subsignificant p-value, Association explained by:]                                                       |\n",
      "|GCST004860|X_106956972_G_A|20      |[]                                                                                                        |\n",
      "|GCST004860|X_106313139_G_A|12      |[Association explained by:]                                                                               |\n",
      "|GCST004860|X_107158099_G_C|0       |[Palindrome alleles - cannot harmonize, Credible set not resolved]                                        |\n",
      "|GCST004860|X_106940440_C_T|17      |[Association explained by: X_107131628_G_A]                                                               |\n",
      "|GCST004860|X_107131628_G_A|19      |[]                                                                                                        |\n",
      "|GCST004860|X_107281285_G_A|10      |[Association explained by: X_107230661_C_T]                                                               |\n",
      "|GCST004860|X_107296299_T_C|0       |[Subsignificant p-value, Credible set not resolved]                                                       |\n",
      "|GCST004860|X_107289163_G_C|337     |[Palindrome alleles - cannot harmonize]                                                                   |\n",
      "|GCST004860|X_106504267_T_C|17      |[Subsignificant p-value, Association explained by: X_106964394_A_G]                                       |\n",
      "|GCST004860|X_107434651_C_G|10      |[Subsignificant p-value, Palindrome alleles - cannot harmonize, Association explained by: X_106964394_A_G]|\n",
      "|GCST004860|X_106816683_C_T|7       |[Subsignificant p-value]                                                                                  |\n",
      "|GCST004860|X_106983213_C_T|11      |[Subsignificant p-value, Association explained by: X_106893680_T_C]                                       |\n",
      "+----------+---------------+--------+----------------------------------------------------------------------------------------------------------+\n",
      "\n"
     ]
    }
   ],
   "source": [
    "chromosome = 'X'\n",
    "study_id = 'GCST004860'\n",
    "\n",
    "# \n",
    "clamped_columns = ['studyId', 'variantId', 'qualityControl']\n",
    "unclamped_columns = ['studyId', 'variantId', 'tags', 'tagCount']\n",
    "\n",
    "# We are filtering both datasets:\n",
    "(\n",
    "    unclamped\n",
    "    .filter(\n",
    "        (f.col('studyId') == study_id) & \n",
    "        (f.col('chromosome') == chromosome)\n",
    "    )\n",
    "    .groupby('studyId', 'variantId')\n",
    "    .agg(\n",
    "        f.collect_set(f.col('tagVariantId')).alias('tags'),\n",
    "        f.size(f.collect_set(f.col('tagVariantId'))).alias('tagCount')\n",
    "    )\n",
    "    # Joining with clamped data:\n",
    "    .join(\n",
    "        (\n",
    "            clamped\n",
    "            .filter(\n",
    "                (f.col('studyId') == study_id) & \n",
    "                (f.col('chromosome') == chromosome)\n",
    "            )\n",
    "            .select(clamped_columns)\n",
    "            .distinct()\n",
    "        ),\n",
    "        on=['studyId', 'variantId'], how='inner'\n",
    "    )\n",
    "    .drop('tags')\n",
    "    .show(100, truncate=False)\n",
    ")"
   ]
  },
  {
   "cell_type": "code",
   "execution_count": 16,
   "metadata": {},
   "outputs": [
    {
     "name": "stdout",
     "output_type": "stream",
     "text": [
      "+----------+---------------+---------------+---------+\n",
      "|studyId   |variantId      |tagVariantId   |R_overall|\n",
      "+----------+---------------+---------------+---------+\n",
      "|GCST004860|X_106050079_C_T|X_106050079_C_T|1.0      |\n",
      "|GCST004860|X_106050079_C_T|X_106504267_T_C|0.750935 |\n",
      "|GCST004860|X_106050079_C_T|X_106730962_T_A|0.751827 |\n",
      "+----------+---------------+---------------+---------+\n",
      "\n"
     ]
    }
   ],
   "source": [
    "(\n",
    "    unclamped\n",
    "    .filter(\n",
    "        (f.col('studyId') == study_id) & \n",
    "        (f.col('chromosome') == chromosome)\n",
    "    )\n",
    "    .select('studyId', 'variantId', 'tagVariantId', 'R_overall')\n",
    "    .join(\n",
    "        (\n",
    "            unclamped\n",
    "            .filter(\n",
    "                (f.col('studyId') == study_id) & \n",
    "                (f.col('chromosome') == chromosome)\n",
    "            )\n",
    "            .select(\n",
    "                'studyId',\n",
    "                f.col('variantId').alias('tagVariantId')\n",
    "            )\n",
    "            .distinct()\n",
    "        ),\n",
    "        on=['studyId', 'tagVariantId'], how='inner'\n",
    "    )\n",
    "    .filter(f.col('variantId') == 'X_106050079_C_T')\n",
    "    .select('studyId', 'variantId', 'tagVariantId', 'R_overall')\n",
    "    # .count()\n",
    "    .show(100, truncate=False)\n",
    ")"
   ]
  },
  {
   "cell_type": "code",
   "execution_count": 18,
   "metadata": {},
   "outputs": [
    {
     "name": "stdout",
     "output_type": "stream",
     "text": [
      "+----------+---------------+---------------+---------+\n",
      "|studyId   |variantId      |tagVariantId   |R_overall|\n",
      "+----------+---------------+---------------+---------+\n",
      "|GCST004860|X_106504267_T_C|X_106050079_C_T|0.750935 |\n",
      "|GCST004860|X_106504267_T_C|X_106964394_A_G|0.774041 |\n",
      "|GCST004860|X_106504267_T_C|X_106504267_T_C|1.0      |\n",
      "|GCST004860|X_106504267_T_C|X_107318205_A_C|0.746347 |\n",
      "|GCST004860|X_106504267_T_C|X_106730962_T_A|0.914135 |\n",
      "|GCST004860|X_106730962_T_A|X_106050079_C_T|0.751827 |\n",
      "|GCST004860|X_106730962_T_A|X_106964394_A_G|0.807882 |\n",
      "|GCST004860|X_106730962_T_A|X_106504267_T_C|0.914135 |\n",
      "|GCST004860|X_106730962_T_A|X_107318205_A_C|0.786057 |\n",
      "|GCST004860|X_106730962_T_A|X_106730962_T_A|1.0      |\n",
      "|GCST004860|X_106050079_C_T|X_106050079_C_T|1.0      |\n",
      "|GCST004860|X_106050079_C_T|X_106504267_T_C|0.750935 |\n",
      "|GCST004860|X_106050079_C_T|X_106730962_T_A|0.751827 |\n",
      "+----------+---------------+---------------+---------+\n",
      "\n"
     ]
    }
   ],
   "source": [
    "(\n",
    "    unclamped\n",
    "    .filter(\n",
    "        (f.col('studyId') == study_id) & \n",
    "        (f.col('chromosome') == chromosome)\n",
    "    )\n",
    "    .select('studyId', 'variantId', 'tagVariantId', 'R_overall')\n",
    "    .join(\n",
    "        (\n",
    "            unclamped\n",
    "            .filter(\n",
    "                (f.col('studyId') == study_id) & \n",
    "                (f.col('chromosome') == chromosome)\n",
    "            )\n",
    "            .select(\n",
    "                'studyId',\n",
    "                f.col('variantId').alias('tagVariantId')\n",
    "            )\n",
    "            .distinct()\n",
    "        ),\n",
    "        on=['studyId', 'tagVariantId'], how='inner'\n",
    "    )\n",
    "    .filter(f.col('variantId').isin(['X_106050079_C_T', 'X_106504267_T_C', 'X_106730962_T_A']))\n",
    "    .select('studyId', 'variantId', 'tagVariantId', 'R_overall')\n",
    "    # .count()\n",
    "    .show(100, truncate=False)\n",
    ")"
   ]
  },
  {
   "cell_type": "code",
   "execution_count": 19,
   "metadata": {},
   "outputs": [
    {
     "data": {
      "text/plain": [
       "680883"
      ]
     },
     "execution_count": 19,
     "metadata": {},
     "output_type": "execute_result"
    }
   ],
   "source": [
    "106730962 - 106050079"
   ]
  },
  {
   "cell_type": "code",
   "execution_count": 3,
   "metadata": {},
   "outputs": [
    {
     "name": "stderr",
     "output_type": "stream",
     "text": [
      "                                                                                \r"
     ]
    },
    {
     "data": {
      "text/plain": [
       "26219612"
      ]
     },
     "execution_count": 3,
     "metadata": {},
     "output_type": "execute_result"
    }
   ],
   "source": [
    "new = spark.read.parquet('gs://genetics_etl_python_playground/XX.XX/output/python_etl/parquet/pics_credible_set').persist()\n",
    "new.count()\n"
   ]
  },
  {
   "cell_type": "code",
   "execution_count": 4,
   "metadata": {},
   "outputs": [
    {
     "name": "stderr",
     "output_type": "stream",
     "text": [
      "                                                                                \r"
     ]
    },
    {
     "name": "stdout",
     "output_type": "stream",
     "text": [
      "+----------+---------------+----------------------------------------------------------------------------------------------------------+\n",
      "|studyId   |variantId      |qualityControl                                                                                            |\n",
      "+----------+---------------+----------------------------------------------------------------------------------------------------------+\n",
      "|GCST004860|X_106631560_T_G|[Subsignificant p-value, Association explained by: X_106829297_T_C]                                       |\n",
      "|GCST004860|X_106893680_T_C|[Subsignificant p-value]                                                                                  |\n",
      "|GCST004860|X_107318205_A_C|[Association explained by: X_106964394_A_G]                                                               |\n",
      "|GCST004860|X_106964394_A_G|[]                                                                                                        |\n",
      "|GCST004860|X_107230661_C_T|[]                                                                                                        |\n",
      "|GCST004860|X_106545130_T_A|[Palindrome alleles - cannot harmonize]                                                                   |\n",
      "|GCST004860|X_106917472_A_G|[Association explained by: X_106956972_G_A]                                                               |\n",
      "|GCST004860|X_106834287_G_A|[Association explained by: X_107230661_C_T]                                                               |\n",
      "|GCST004860|X_106772108_A_T|[Subsignificant p-value, Palindrome alleles - cannot harmonize]                                           |\n",
      "|GCST004860|X_107174072_T_C|[Subsignificant p-value, Credible set not resolved]                                                       |\n",
      "|GCST004860|X_106730962_T_A|[Palindrome alleles - cannot harmonize, Association explained by: X_106964394_A_G]                        |\n",
      "|GCST004860|X_106732269_G_A|[Association explained by:]                                                                               |\n",
      "|GCST004860|X_107296378_T_C|[Subsignificant p-value, Credible set not resolved]                                                       |\n",
      "|GCST004860|X_106901299_T_C|[Association explained by: X_107131628_G_A]                                                               |\n",
      "|GCST004860|X_107370118_A_G|[Subsignificant p-value, Association explained by: X_107289163_G_C]                                       |\n",
      "|GCST004860|X_106375530_T_C|[Subsignificant p-value]                                                                                  |\n",
      "|GCST004860|X_107210017_G_A|[Subsignificant p-value, Association explained by: X_106816683_C_T]                                       |\n",
      "|GCST004860|X_107011960_A_G|[Subsignificant p-value, Association explained by: X_107289163_G_C]                                       |\n",
      "|GCST004860|X_106829297_T_C|[]                                                                                                        |\n",
      "|GCST004860|X_107043226_G_A|[Subsignificant p-value, Association explained by: X_106893680_T_C]                                       |\n",
      "|GCST004860|X_106768355_T_G|[Association explained by: X_107131628_G_A]                                                               |\n",
      "|GCST004860|X_106585073_C_T|[Subsignificant p-value]                                                                                  |\n",
      "|GCST004860|X_107123872_G_A|[]                                                                                                        |\n",
      "|GCST004860|X_107294522_C_T|[Subsignificant p-value]                                                                                  |\n",
      "|GCST004860|X_87315170_C_T |[Subsignificant p-value]                                                                                  |\n",
      "|GCST004860|X_106050079_C_T|[Subsignificant p-value, Association explained by:]                                                       |\n",
      "|GCST004860|X_106956972_G_A|[]                                                                                                        |\n",
      "|GCST004860|X_106313139_G_A|[Association explained by:]                                                                               |\n",
      "|GCST004860|X_106940440_C_T|[Association explained by: X_107131628_G_A]                                                               |\n",
      "|GCST004860|X_107158099_G_C|[Palindrome alleles - cannot harmonize, Credible set not resolved]                                        |\n",
      "|GCST004860|X_107281285_G_A|[Association explained by: X_107230661_C_T]                                                               |\n",
      "|GCST004860|X_107131628_G_A|[]                                                                                                        |\n",
      "|GCST004860|X_107296299_T_C|[Subsignificant p-value, Credible set not resolved]                                                       |\n",
      "|GCST004860|X_107289163_G_C|[Palindrome alleles - cannot harmonize]                                                                   |\n",
      "|GCST004860|X_106504267_T_C|[Subsignificant p-value, Association explained by: X_106964394_A_G]                                       |\n",
      "|GCST004860|X_106816683_C_T|[Subsignificant p-value]                                                                                  |\n",
      "|GCST004860|X_107434651_C_G|[Subsignificant p-value, Palindrome alleles - cannot harmonize, Association explained by: X_106964394_A_G]|\n",
      "|GCST004860|X_106983213_C_T|[Subsignificant p-value, Association explained by: X_106893680_T_C]                                       |\n",
      "+----------+---------------+----------------------------------------------------------------------------------------------------------+\n",
      "\n"
     ]
    }
   ],
   "source": [
    "chromosome = 'X'\n",
    "study_id = 'GCST004860'\n",
    "\n",
    "(\n",
    "    new    \n",
    "    .filter(\n",
    "        (f.col('studyId') == study_id) & \n",
    "        (f.col('chromosome') == chromosome)\n",
    "    )\n",
    "    .select('studyId', 'variantId', 'qualityControl')\n",
    "    .distinct()\n",
    "    .show(100, truncate=False)\n",
    "    # .count()\n",
    ")"
   ]
  },
  {
   "cell_type": "code",
   "execution_count": 15,
   "metadata": {},
   "outputs": [
    {
     "name": "stderr",
     "output_type": "stream",
     "text": [
      "                                                                                \r"
     ]
    },
    {
     "data": {
      "text/plain": [
       "9280"
      ]
     },
     "execution_count": 15,
     "metadata": {},
     "output_type": "execute_result"
    }
   ],
   "source": [
    "(\n",
    "    new\n",
    "    .select('studyId', 'variantId', f.explode_outer('qualityControl').alias('flag'))\n",
    "    .distinct()\n",
    "    .filter(f.col('flag').endswith('explained by:'))\n",
    "    # .show(truncate=False)\n",
    "    .count()\n",
    ")"
   ]
  },
  {
   "cell_type": "code",
   "execution_count": 14,
   "metadata": {},
   "outputs": [
    {
     "data": {
      "text/plain": [
       "0.08314087759815242"
      ]
     },
     "execution_count": 14,
     "metadata": {},
     "output_type": "execute_result"
    }
   ],
   "source": [
    "# Total number of associations: 433_361\n",
    "# Explained associations: 35_812 (8%)\n",
    "# Explained by unresolved association: 9_280 (2% of total, 25% of clumped)\n"
   ]
  },
  {
   "attachments": {},
   "cell_type": "markdown",
   "metadata": {},
   "source": [
    "# Compare old and new clumped associations\n",
    "\n",
    "\n",
    "1. Run done with the old window: `gs://genetics_etl_python_playground/XX.XX/output/python_etl/parquet/pics_credible_set_clumped`\n",
    "2. Run done with the new window: `gs://genetics_etl_python_playground/XX.XX/output/python_etl/parquet/pics_credible_set`"
   ]
  },
  {
   "cell_type": "code",
   "execution_count": 11,
   "metadata": {},
   "outputs": [
    {
     "name": "stderr",
     "output_type": "stream",
     "text": [
      "[Stage 74:====================================================>   (16 + 1) / 17]\r"
     ]
    },
    {
     "name": "stdout",
     "output_type": "stream",
     "text": [
      "+----------+---------------+-------------+-------+\n",
      "|studyId   |variantId      |tagCountAgree|QCAgree|\n",
      "+----------+---------------+-------------+-------+\n",
      "|GCST004860|X_106050079_C_T|true         |true   |\n",
      "|GCST004860|X_106772108_A_T|true         |true   |\n",
      "|GCST004860|X_107434651_C_G|true         |true   |\n",
      "|GCST004860|X_106964394_A_G|true         |true   |\n",
      "|GCST004860|X_107210017_G_A|true         |true   |\n",
      "|GCST004860|X_107230661_C_T|true         |true   |\n",
      "|GCST004860|X_107370118_A_G|true         |true   |\n",
      "|GCST004860|X_107289163_G_C|true         |true   |\n",
      "|GCST004860|X_107294522_C_T|true         |true   |\n",
      "|GCST004860|X_106917472_A_G|true         |true   |\n",
      "|GCST004860|X_106940440_C_T|true         |true   |\n",
      "|GCST004860|X_106732269_G_A|true         |true   |\n",
      "|GCST004860|X_106834287_G_A|true         |true   |\n",
      "|GCST004860|X_87315170_C_T |true         |true   |\n",
      "|GCST004860|X_106768355_T_G|true         |true   |\n",
      "|GCST004860|X_107158099_G_C|true         |true   |\n",
      "|GCST004860|X_106313139_G_A|true         |true   |\n",
      "|GCST004860|X_106829297_T_C|true         |true   |\n",
      "|GCST004860|X_106901299_T_C|true         |true   |\n",
      "|GCST004860|X_106893680_T_C|true         |true   |\n",
      "|GCST004860|X_107043226_G_A|true         |true   |\n",
      "|GCST004860|X_106545130_T_A|true         |true   |\n",
      "|GCST004860|X_106983213_C_T|true         |true   |\n",
      "|GCST004860|X_107123872_G_A|true         |true   |\n",
      "|GCST004860|X_106504267_T_C|true         |true   |\n",
      "|GCST004860|X_106956972_G_A|true         |true   |\n",
      "|GCST004860|X_106585073_C_T|true         |true   |\n",
      "|GCST004860|X_107174072_T_C|true         |true   |\n",
      "|GCST004860|X_106375530_T_C|true         |true   |\n",
      "|GCST004860|X_107281285_G_A|true         |true   |\n",
      "|GCST004860|X_107131628_G_A|true         |true   |\n",
      "|GCST004860|X_107318205_A_C|true         |true   |\n",
      "|GCST004860|X_106730962_T_A|true         |true   |\n",
      "|GCST004860|X_106816683_C_T|true         |true   |\n",
      "|GCST004860|X_107296299_T_C|true         |true   |\n",
      "|GCST004860|X_107011960_A_G|true         |true   |\n",
      "|GCST004860|X_106631560_T_G|true         |true   |\n",
      "|GCST004860|X_107296378_T_C|true         |true   |\n",
      "+----------+---------------+-------------+-------+\n",
      "\n"
     ]
    },
    {
     "name": "stderr",
     "output_type": "stream",
     "text": [
      "                                                                                \r"
     ]
    }
   ],
   "source": [
    "def filter_signals(df):\n",
    "    study_id = 'GCST004860'\n",
    "    chromosome = 'X'\n",
    "    columns_of_interest = [\n",
    "        'studyId', 'variantId', 'qualityControl', \n",
    "    ]\n",
    "    return (\n",
    "        df\n",
    "        .filter(\n",
    "            (f.col('studyId') == study_id) & \n",
    "            (f.col('chromosome') == chromosome)\n",
    "        )\n",
    "        .groupby(columns_of_interest)\n",
    "        .agg(\n",
    "            f.size(f.collect_set(f.col('tagVariantId'))).alias('tagCount')\n",
    "        )\n",
    "    )\n",
    "\n",
    "old.unpersist()\n",
    "new.unpersist()\n",
    "old = spark.read.parquet('gs://genetics_etl_python_playground/XX.XX/output/python_etl/parquet/pics_credible_set_clumped').transform(filter_signals).persist()\n",
    "new = spark.read.parquet(\"gs://genetics_etl_python_playground/XX.XX/output/python_etl/parquet/pics_credible_set\").transform(filter_signals).persist()\n",
    "\n",
    "\n",
    "(\n",
    "    new\n",
    "    .withColumnRenamed('qualityControl', 'qc_new')\n",
    "    .withColumnRenamed('tagCount', 'tagCount_new')\n",
    "    .join(\n",
    "        (\n",
    "            old\n",
    "            .withColumnRenamed('qualityControl', 'qc_old')\n",
    "            .withColumnRenamed('tagCount', 'tagCount_old')\n",
    "        ),\n",
    "        on=['studyId', 'variantId'], how='outer'\n",
    "    )\n",
    "    .withColumn('tagCountAgree',\n",
    "        f.when(f.col('tagCount_new') == f.col(\"tagCount_old\"), True).otherwise(False)\n",
    "    )\n",
    "    .withColumn('QCAgree',\n",
    "        f.when(f.col('qc_new') == f.col(\"qc_old\"), True).otherwise(False)\n",
    "    )\n",
    "    .drop('tagCount_new', 'tagCount_old', 'qc_new', 'qc_old')\n",
    "    .show(1000, truncate=False)\n",
    ")\n"
   ]
  },
  {
   "cell_type": "code",
   "execution_count": 8,
   "metadata": {},
   "outputs": [
    {
     "name": "stderr",
     "output_type": "stream",
     "text": [
      "                                                                                \r"
     ]
    },
    {
     "name": "stdout",
     "output_type": "stream",
     "text": [
      "+----------+---------+---------------+---------------+--------+---------+--------+-----+\n",
      "|chromosome| position|referenceAllele|alternateAllele|     idx|start_idx|stop_idx| dist|\n",
      "+----------+---------+---------------+---------------+--------+---------+--------+-----+\n",
      "|         X|106917472|              A|              G|15733998| 15728695|15740089|11394|\n",
      "+----------+---------+---------------+---------------+--------+---------+--------+-----+\n",
      "\n"
     ]
    },
    {
     "name": "stderr",
     "output_type": "stream",
     "text": [
      "[Stage 27:====>                                                   (1 + 11) / 12]\r"
     ]
    },
    {
     "name": "stdout",
     "output_type": "stream",
     "text": [
      "+----------+---------+---------------+---------------+--------+---------+--------+----+\n",
      "|chromosome| position|referenceAllele|alternateAllele|     idx|start_idx|stop_idx|dist|\n",
      "+----------+---------+---------------+---------------+--------+---------+--------+----+\n",
      "|         X|106917472|              A|              G|15733998| 15732777|15735464|2687|\n",
      "+----------+---------+---------------+---------------+--------+---------+--------+----+\n",
      "\n"
     ]
    },
    {
     "name": "stderr",
     "output_type": "stream",
     "text": [
      "                                                                                \r"
     ]
    }
   ],
   "source": [
    "(chromosome, position, ref, alt) = 'X_106917472_A_G'.split('_')\n",
    "\n",
    "path_big = 'gs://genetics_etl_python_playground/input/ld/gnomad_r2.1.1.amr.common.ld.variant_indices_2mb.parquet'\n",
    "path_short = 'gs://genetics_etl_python_playground/input/ld/gnomad_r2.1.1.amr.common.ld.variant_indices.parquet'\n",
    "\n",
    "(\n",
    "    spark.read.parquet(path_big)\n",
    "    .filter(\n",
    "        (f.col('chromosome') == chromosome) & \n",
    "        (f.col('position') == position) & \n",
    "        (f.col('referenceAllele') == ref) & \n",
    "        (f.col('alternateAllele') == alt)\n",
    "    )\n",
    "    .withColumn('dist', f.col('stop_idx') - f.col('start_idx'))\n",
    "    .show()\n",
    ")\n",
    "\n",
    "(\n",
    "    spark.read.parquet(path_short)\n",
    "    .filter(\n",
    "        (f.col('chromosome') == chromosome) & \n",
    "        (f.col('position') == position) & \n",
    "        (f.col('referenceAllele') == ref) & \n",
    "        (f.col('alternateAllele') == alt)\n",
    "    )\n",
    "    .withColumn('dist', f.col('stop_idx') - f.col('start_idx'))\n",
    "    .show()\n",
    ")\n"
   ]
  },
  {
   "cell_type": "code",
   "execution_count": 14,
   "metadata": {},
   "outputs": [
    {
     "name": "stderr",
     "output_type": "stream",
     "text": [
      "23/01/11 23:49:50 WARN org.apache.spark.sql.execution.CacheManager: Asked to cache already cached data.\n",
      "23/01/11 23:49:50 WARN org.apache.spark.sql.execution.CacheManager: Asked to cache already cached data.\n",
      "[Stage 115:===================================================>   (16 + 1) / 17]\r"
     ]
    },
    {
     "name": "stdout",
     "output_type": "stream",
     "text": [
      "26205230\n",
      "26219612\n"
     ]
    },
    {
     "name": "stderr",
     "output_type": "stream",
     "text": [
      "                                                                                \r"
     ]
    }
   ],
   "source": [
    "old_full = spark.read.parquet('gs://genetics_etl_python_playground/XX.XX/output/python_etl/parquet/pics_credible_set_clumped').persist()\n",
    "new_full = spark.read.parquet(\"gs://genetics_etl_python_playground/XX.XX/output/python_etl/parquet/pics_credible_set\").persist()\n",
    "\n",
    "\n",
    "print(old_full.count())\n",
    "print(new_full.count())"
   ]
  },
  {
   "cell_type": "code",
   "execution_count": 18,
   "metadata": {},
   "outputs": [
    {
     "name": "stdout",
     "output_type": "stream",
     "text": [
      "+---------------+---------+\n",
      "|      variantId|     pos1|\n",
      "+---------------+---------+\n",
      "|X_106631560_T_G|106631560|\n",
      "|X_106893680_T_C|106893680|\n",
      "|X_106964394_A_G|106964394|\n",
      "|X_107318205_A_C|107318205|\n",
      "|X_107230661_C_T|107230661|\n",
      "|X_106545130_T_A|106545130|\n",
      "|X_106917472_A_G|106917472|\n",
      "|X_106834287_G_A|106834287|\n",
      "|X_106772108_A_T|106772108|\n",
      "|X_107174072_T_C|107174072|\n",
      "|X_106730962_T_A|106730962|\n",
      "|X_106732269_G_A|106732269|\n",
      "|X_106901299_T_C|106901299|\n",
      "|X_107296378_T_C|107296378|\n",
      "|X_106375530_T_C|106375530|\n",
      "|X_107370118_A_G|107370118|\n",
      "|X_107011960_A_G|107011960|\n",
      "|X_107210017_G_A|107210017|\n",
      "|X_106829297_T_C|106829297|\n",
      "|X_107043226_G_A|107043226|\n",
      "+---------------+---------+\n",
      "only showing top 20 rows\n",
      "\n"
     ]
    }
   ],
   "source": [
    "(\n",
    "    new\n",
    "    .select('variantId')\n",
    "    .withColumn('pos1', f.split(f.col('variantId'), '_').getItem(1))\n",
    "    .show()\n",
    ")"
   ]
  },
  {
   "cell_type": "code",
   "execution_count": null,
   "metadata": {},
   "outputs": [],
   "source": []
  }
 ],
 "metadata": {
  "kernelspec": {
   "display_name": "Python 3",
   "language": "python",
   "name": "python3"
  },
  "language_info": {
   "codemirror_mode": {
    "name": "ipython",
    "version": 3
   },
   "file_extension": ".py",
   "mimetype": "text/x-python",
   "name": "python",
   "nbconvert_exporter": "python",
   "pygments_lexer": "ipython3",
   "version": "3.8.13 | packaged by conda-forge | (default, Mar 25 2022, 06:04:10) \n[GCC 10.3.0]"
  },
  "orig_nbformat": 4,
  "vscode": {
   "interpreter": {
    "hash": "de3a7304373a2ed386fe951c9137ef8d6c9c0656a76027db0e908c100510c9c7"
   }
  }
 },
 "nbformat": 4,
 "nbformat_minor": 2
}
