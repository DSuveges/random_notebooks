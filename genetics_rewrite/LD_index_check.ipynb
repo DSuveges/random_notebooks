{
 "cells": [
  {
   "attachments": {},
   "cell_type": "markdown",
   "metadata": {},
   "source": [
    "# Checking LD in window\n",
    "\n",
    "There are a bunch of variant where despite the close vicinity, LD could not be properly resolved. THis needs to be worked out.\n",
    "\n",
    "**Steps**:\n",
    "1. Get all problematic associations (study: `GCST004860`, chromosome: `X`)\n",
    "2. Read `nfe` LD index, get variant indcies for all these variants.\n",
    "3. Filter the corresponding blockmatrix to get all pariwise r2\n",
    "4. Plot heatmap to establish LD block.\n",
    "\n",
    "\n"
   ]
  },
  {
   "cell_type": "code",
   "execution_count": 1,
   "metadata": {},
   "outputs": [
    {
     "name": "stderr",
     "output_type": "stream",
     "text": [
      "Setting default log level to \"WARN\".\n",
      "To adjust logging level use sc.setLogLevel(newLevel). For SparkR, use setLogLevel(newLevel).\n",
      "Running on Apache Spark version 3.1.3\n",
      "SparkUI available at http://ds-single-m.c.open-targets-eu-dev.internal:43471\n",
      "Welcome to\n",
      "     __  __     <>__\n",
      "    / /_/ /__  __/ /\n",
      "   / __  / _ `/ / /\n",
      "  /_/ /_/\\_,_/_/_/   version 0.2.102-817f6fb3468f\n",
      "LOGGING: writing to /home/dsuveges/random_notebooks/genetics_rewrite/hail-20230113-1047-0.2.102-817f6fb3468f.log\n"
     ]
    }
   ],
   "source": [
    "import hail as hl\n",
    "from hail.linalg import BlockMatrix\n",
    "from pyspark.sql import SparkSession, functions as f, types as t, Column, DataFrame\n",
    "from pyspark.sql.window import Window\n",
    "\n",
    "# Initialize hail and spark:\n",
    "hl.init(default_reference=\"GRCh38\")\n",
    "spark = SparkSession.builder.getOrCreate()\n",
    "\n",
    "study_id = 'GCST004860'\n",
    "chromosome = 'X'\n",
    "population ='nfe'\n",
    "\n",
    "index_file = f'gs://genetics_etl_python_playground/input/ld/gnomad_r2.1.1.{population}.common.ld.variant_indices.parquet/'\n",
    "bm_file = f'gs://gcp-public-data--gnomad/release/2.1.1/ld/gnomad.genomes.r2.1.1.{population}.common.adj.ld.bm'\n",
    "ld_resolved = 'gs://genetics_etl_python_playground/XX.XX/output/python_etl/parquet/pics_credible_set'\n",
    "\n"
   ]
  },
  {
   "cell_type": "code",
   "execution_count": 6,
   "metadata": {},
   "outputs": [
    {
     "name": "stderr",
     "output_type": "stream",
     "text": [
      "[Stage 14:====================================================>   (16 + 1) / 17]\r"
     ]
    },
    {
     "name": "stdout",
     "output_type": "stream",
     "text": [
      "-RECORD 0-----------------------------------------------------------------------------\n",
      " studyId         | GCST004860                                                         \n",
      " variantId       | X_107158099_G_C                                                    \n",
      " chromosome      | X                                                                  \n",
      " position        | 107158099                                                          \n",
      " referenceAllele | G                                                                  \n",
      " alternateAllele | C                                                                  \n",
      " qualityControl  | [Palindrome alleles - cannot harmonize, Credible set not resolved] \n",
      "-RECORD 1-----------------------------------------------------------------------------\n",
      " studyId         | GCST004860                                                         \n",
      " variantId       | X_106545130_T_A                                                    \n",
      " chromosome      | X                                                                  \n",
      " position        | 106545130                                                          \n",
      " referenceAllele | T                                                                  \n",
      " alternateAllele | A                                                                  \n",
      " qualityControl  | [Palindrome alleles - cannot harmonize]                            \n",
      "only showing top 2 rows\n",
      "\n"
     ]
    }
   ],
   "source": [
    "# Getting problematic variants:\n",
    "problematic_variants = (\n",
    "    spark.read.parquet(ld_resolved)\n",
    "    .filter(\n",
    "        (f.col('chromosome') == chromosome) &\n",
    "        (f.col('studyId') == study_id)\n",
    "    )\n",
    "    .select('studyId', 'variantId', 'chromosome', 'position', 'referenceAllele', 'alternateAllele', 'qualityControl')\n",
    "    .distinct()\n",
    "    .persist()\n",
    ")\n",
    "\n",
    "problematic_variants.show(2, False, True)"
   ]
  },
  {
   "cell_type": "code",
   "execution_count": 19,
   "metadata": {},
   "outputs": [
    {
     "name": "stdout",
     "output_type": "stream",
     "text": [
      "+----------+---------+---------------+---------------+--------+----------+---------------+----------------------------------------------------------------------------------+-------+\n",
      "|chromosome|position |referenceAllele|alternateAllele|idx     |studyId   |variantId      |qualityControl                                                                    |new_idx|\n",
      "+----------+---------+---------------+---------------+--------+----------+---------------+----------------------------------------------------------------------------------+-------+\n",
      "|X         |107158099|G              |C              |null    |GCST004860|X_107158099_G_C|[Palindrome alleles - cannot harmonize, Credible set not resolved]                |null   |\n",
      "|X         |107174072|T              |C              |null    |GCST004860|X_107174072_T_C|[Subsignificant p-value, Credible set not resolved]                               |null   |\n",
      "|X         |107296299|T              |C              |null    |GCST004860|X_107296299_T_C|[Subsignificant p-value, Credible set not resolved]                               |null   |\n",
      "|X         |107296378|T              |C              |null    |GCST004860|X_107296378_T_C|[Subsignificant p-value, Credible set not resolved]                               |null   |\n",
      "|X         |87315170 |C              |T              |13991184|GCST004860|X_87315170_C_T |[Subsignificant p-value]                                                          |0      |\n",
      "|X         |106050079|C              |T              |14051080|GCST004860|X_106050079_C_T|[Subsignificant p-value, Association explained by:]                               |1      |\n",
      "|X         |106313139|G              |A              |14051424|GCST004860|X_106313139_G_A|[Association explained by:]                                                       |2      |\n",
      "|X         |106375530|T              |C              |14051521|GCST004860|X_106375530_T_C|[Subsignificant p-value]                                                          |3      |\n",
      "|X         |106504267|T              |C              |14051689|GCST004860|X_106504267_T_C|[Subsignificant p-value, Association explained by: X_106964394_A_G]               |4      |\n",
      "|X         |106545130|T              |A              |14051755|GCST004860|X_106545130_T_A|[Palindrome alleles - cannot harmonize]                                           |5      |\n",
      "|X         |106585073|C              |T              |14051806|GCST004860|X_106585073_C_T|[Subsignificant p-value]                                                          |6      |\n",
      "|X         |106631560|T              |G              |14051864|GCST004860|X_106631560_T_G|[Subsignificant p-value, Association explained by: X_106829297_T_C]               |7      |\n",
      "|X         |106730962|T              |A              |14051973|GCST004860|X_106730962_T_A|[Palindrome alleles - cannot harmonize, Association explained by: X_106964394_A_G]|8      |\n",
      "|X         |106732269|G              |A              |14051974|GCST004860|X_106732269_G_A|[Association explained by:]                                                       |9      |\n",
      "|X         |106768355|T              |G              |14052020|GCST004860|X_106768355_T_G|[Association explained by: X_107131628_G_A]                                       |10     |\n",
      "|X         |106772108|A              |T              |14052027|GCST004860|X_106772108_A_T|[Subsignificant p-value, Palindrome alleles - cannot harmonize]                   |11     |\n",
      "|X         |106816683|C              |T              |14052087|GCST004860|X_106816683_C_T|[Subsignificant p-value]                                                          |12     |\n",
      "|X         |106829297|T              |C              |14052107|GCST004860|X_106829297_T_C|[]                                                                                |13     |\n",
      "|X         |106834287|G              |A              |14052114|GCST004860|X_106834287_G_A|[Association explained by: X_107230661_C_T]                                       |14     |\n",
      "|X         |106893680|T              |C              |14052176|GCST004860|X_106893680_T_C|[Subsignificant p-value]                                                          |15     |\n",
      "+----------+---------+---------------+---------------+--------+----------+---------------+----------------------------------------------------------------------------------+-------+\n",
      "only showing top 20 rows\n",
      "\n"
     ]
    }
   ],
   "source": [
    "matrix_indices = (\n",
    "    spark.read.parquet(index_file)\n",
    "    .drop('start_idx', 'stop_idx')\n",
    "    .join(problematic_variants, on=['chromosome', 'position', 'referenceAllele', 'alternateAllele'], how='right')\n",
    "    .withColumn(\n",
    "        'new_idx', \n",
    "        f.when(\n",
    "            f.col('idx').isNotNull(), \n",
    "            f.rank().over(Window.partitionBy('studyId').orderBy('idx'))\n",
    "        ) - 5\n",
    "    )\n",
    "    .persist()\n",
    ")\n",
    "\n",
    "matrix_indices.show(truncate=False)"
   ]
  },
  {
   "cell_type": "code",
   "execution_count": null,
   "metadata": {},
   "outputs": [],
   "source": [
    "ndices.show(truncate=False)"
   ]
  },
  {
   "attachments": {},
   "cell_type": "markdown",
   "metadata": {},
   "source": [
    "At this point all the indices are in place. Now what we need to do:\n",
    "1. Read blocMatrix in hl.\n",
    "2. Extract values from blockmatrix based on the retrived x,y indices.\n",
    "3. Collect entries. \n",
    "4. Explore ways to visualize "
   ]
  },
  {
   "cell_type": "code",
   "execution_count": 25,
   "metadata": {},
   "outputs": [],
   "source": [
    "# LD blockmatrix and indexes from gnomAD\n",
    "bm = BlockMatrix.read(bm_file)\n",
    "bm = bm + bm.T\n",
    "\n",
    "# Indices of relevant rows:\n",
    "indexes = [x['idx'] for x in matrix_indices.select('idx').collect() if x['idx']]\n",
    "\n",
    "bm_sparsified = bm.filter_rows(indexes).filter_cols(indexes)\n",
    "entries = bm_sparsified.entries(keyed=False)\n",
    "\n",
    "# \n",
    "linkage = (\n",
    "    entries.rename({\"entry\": \"r\"})\n",
    "    .to_spark()\n",
    "    .withColumn(\n",
    "        \"r\", \n",
    "        f.when(f.col(\"r\") >= 1, f.lit(1))\n",
    "        .otherwise(f.col(\"r\")**2)\n",
    "    )\n",
    "    .persist()\n",
    ")"
   ]
  },
  {
   "cell_type": "code",
   "execution_count": 27,
   "metadata": {},
   "outputs": [
    {
     "name": "stdout",
     "output_type": "stream",
     "text": [
      "+---+---+--------------------+\n",
      "|  i|  j|                   r|\n",
      "+---+---+--------------------+\n",
      "|  0|  0|                 1.0|\n",
      "|  1|  1|                 1.0|\n",
      "|  1|  2|  0.2794152851446608|\n",
      "|  1|  3|0.048069699070379335|\n",
      "|  1|  4|  0.5639038439881825|\n",
      "|  1|  5| 0.05608572555090134|\n",
      "|  1|  6|0.024689428579696436|\n",
      "|  1|  7| 0.04304405002627818|\n",
      "|  1|  8|  0.5652444209950901|\n",
      "|  1|  9|  0.1738904579531918|\n",
      "|  1| 10| 0.12408263981731092|\n",
      "|  1| 11|8.575456954718496E-5|\n",
      "|  1| 12|6.962993366386308E-7|\n",
      "|  1| 13| 0.03036372673832649|\n",
      "|  1| 14|0.001198844493771...|\n",
      "|  1| 15|0.012701109451930433|\n",
      "|  1| 16|   0.120954067654111|\n",
      "|  1| 17|  0.0723238953011779|\n",
      "|  1| 18| 0.13291498329782078|\n",
      "|  1| 19|   0.070482113301554|\n",
      "+---+---+--------------------+\n",
      "only showing top 20 rows\n",
      "\n"
     ]
    }
   ],
   "source": [
    "linkage.filter(f.col('r')!= 0).show()"
   ]
  },
  {
   "cell_type": "code",
   "execution_count": 28,
   "metadata": {},
   "outputs": [],
   "source": [
    "import pandas as pd\n",
    "import seaborn as sns\n",
    "import matplotlib.pyplot as plt\n"
   ]
  },
  {
   "cell_type": "code",
   "execution_count": 30,
   "metadata": {},
   "outputs": [
    {
     "data": {
      "image/png": "[encoded data removed]",
      "text/plain": [
       "<Figure size 432x288 with 2 Axes>"
      ]
     },
     "metadata": {
      "needs_background": "light"
     },
     "output_type": "display_data"
    }
   ],
   "source": [
    "df = linkage.toPandas()\n",
    "\n",
    "# pivot the dataframe from long to wide form\n",
    "result = df.pivot(index='i', columns='j', values='r')\n",
    "\n",
    "sns.heatmap(result, annot=False, fmt=\"g\", cmap='viridis')\n",
    "plt.show()"
   ]
  },
  {
   "cell_type": "code",
   "execution_count": 33,
   "metadata": {},
   "outputs": [
    {
     "data": {
      "image/png": "[encoded data removed]",
      "text/plain": [
       "<Figure size 432x288 with 1 Axes>"
      ]
     },
     "metadata": {
      "needs_background": "light"
     },
     "output_type": "display_data"
    }
   ],
   "source": [
    "from sklearn.cluster import KMeans\n",
    "import matplotlib.pyplot as plt\n",
    "from sklearn.decomposition import PCA\n",
    "\n",
    "kmeans_kwargs = {\n",
    "    \"init\": \"random\",\n",
    "    \"n_init\": 10,\n",
    "    \"random_state\": 1,\n",
    "}\n",
    "\n",
    "#create list to hold SSE values for each k\n",
    "sse = []\n",
    "for k in range(1, 11):\n",
    "    kmeans = KMeans(n_clusters=k, **kmeans_kwargs)\n",
    "    kmeans.fit(result)\n",
    "    sse.append(kmeans.inertia_)\n",
    "\n",
    "plt.plot(range(1, 11), sse)\n",
    "plt.xticks(range(1, 11))\n",
    "plt.xlabel(\"Number of Clusters\")\n",
    "plt.ylabel(\"SSE\")\n",
    "plt.show()\n"
   ]
  },
  {
   "cell_type": "code",
   "execution_count": 36,
   "metadata": {},
   "outputs": [
    {
     "ename": "ValueError",
     "evalue": "Length of values (34) does not match length of index (1156)",
     "output_type": "error",
     "traceback": [
      "\u001b[0;31m---------------------------------------------------------------------------\u001b[0m",
      "\u001b[0;31mValueError\u001b[0m                                Traceback (most recent call last)",
      "\u001b[1;32m/home/dsuveges/random_notebooks/genetics_rewrite/LD_index_check.ipynb Cell 12\u001b[0m in \u001b[0;36m<cell line: 6>\u001b[0;34m()\u001b[0m\n\u001b[1;32m      <a href='vscode-notebook-cell://ssh-remote%2Bds-single-m.europe-west1-d.open-targets-eu-dev/home/dsuveges/random_notebooks/genetics_rewrite/LD_index_check.ipynb#X21sdnNjb2RlLXJlbW90ZQ%3D%3D?line=3'>4</a>\u001b[0m \u001b[39m#fit k-means algorithm to data\u001b[39;00m\n\u001b[1;32m      <a href='vscode-notebook-cell://ssh-remote%2Bds-single-m.europe-west1-d.open-targets-eu-dev/home/dsuveges/random_notebooks/genetics_rewrite/LD_index_check.ipynb#X21sdnNjb2RlLXJlbW90ZQ%3D%3D?line=4'>5</a>\u001b[0m kmeans\u001b[39m.\u001b[39mfit(result)\n\u001b[0;32m----> <a href='vscode-notebook-cell://ssh-remote%2Bds-single-m.europe-west1-d.open-targets-eu-dev/home/dsuveges/random_notebooks/genetics_rewrite/LD_index_check.ipynb#X21sdnNjb2RlLXJlbW90ZQ%3D%3D?line=5'>6</a>\u001b[0m df[\u001b[39m'\u001b[39m\u001b[39mcluster\u001b[39m\u001b[39m'\u001b[39m] \u001b[39m=\u001b[39m kmeans\u001b[39m.\u001b[39mlabels_\n",
      "File \u001b[0;32m~/.local/lib/python3.8/site-packages/pandas/core/frame.py:3655\u001b[0m, in \u001b[0;36mDataFrame.__setitem__\u001b[0;34m(self, key, value)\u001b[0m\n\u001b[1;32m   3652\u001b[0m     \u001b[39mself\u001b[39m\u001b[39m.\u001b[39m_setitem_array([key], value)\n\u001b[1;32m   3653\u001b[0m \u001b[39melse\u001b[39;00m:\n\u001b[1;32m   3654\u001b[0m     \u001b[39m# set column\u001b[39;00m\n\u001b[0;32m-> 3655\u001b[0m     \u001b[39mself\u001b[39;49m\u001b[39m.\u001b[39;49m_set_item(key, value)\n",
      "File \u001b[0;32m~/.local/lib/python3.8/site-packages/pandas/core/frame.py:3832\u001b[0m, in \u001b[0;36mDataFrame._set_item\u001b[0;34m(self, key, value)\u001b[0m\n\u001b[1;32m   3822\u001b[0m \u001b[39mdef\u001b[39;00m \u001b[39m_set_item\u001b[39m(\u001b[39mself\u001b[39m, key, value) \u001b[39m-\u001b[39m\u001b[39m>\u001b[39m \u001b[39mNone\u001b[39;00m:\n\u001b[1;32m   3823\u001b[0m     \u001b[39m\"\"\"\u001b[39;00m\n\u001b[1;32m   3824\u001b[0m \u001b[39m    Add series to DataFrame in specified column.\u001b[39;00m\n\u001b[1;32m   3825\u001b[0m \n\u001b[0;32m   (...)\u001b[0m\n\u001b[1;32m   3830\u001b[0m \u001b[39m    ensure homogeneity.\u001b[39;00m\n\u001b[1;32m   3831\u001b[0m \u001b[39m    \"\"\"\u001b[39;00m\n\u001b[0;32m-> 3832\u001b[0m     value \u001b[39m=\u001b[39m \u001b[39mself\u001b[39;49m\u001b[39m.\u001b[39;49m_sanitize_column(value)\n\u001b[1;32m   3834\u001b[0m     \u001b[39mif\u001b[39;00m (\n\u001b[1;32m   3835\u001b[0m         key \u001b[39min\u001b[39;00m \u001b[39mself\u001b[39m\u001b[39m.\u001b[39mcolumns\n\u001b[1;32m   3836\u001b[0m         \u001b[39mand\u001b[39;00m value\u001b[39m.\u001b[39mndim \u001b[39m==\u001b[39m \u001b[39m1\u001b[39m\n\u001b[1;32m   3837\u001b[0m         \u001b[39mand\u001b[39;00m \u001b[39mnot\u001b[39;00m is_extension_array_dtype(value)\n\u001b[1;32m   3838\u001b[0m     ):\n\u001b[1;32m   3839\u001b[0m         \u001b[39m# broadcast across multiple columns if necessary\u001b[39;00m\n\u001b[1;32m   3840\u001b[0m         \u001b[39mif\u001b[39;00m \u001b[39mnot\u001b[39;00m \u001b[39mself\u001b[39m\u001b[39m.\u001b[39mcolumns\u001b[39m.\u001b[39mis_unique \u001b[39mor\u001b[39;00m \u001b[39misinstance\u001b[39m(\u001b[39mself\u001b[39m\u001b[39m.\u001b[39mcolumns, MultiIndex):\n",
      "File \u001b[0;32m~/.local/lib/python3.8/site-packages/pandas/core/frame.py:4538\u001b[0m, in \u001b[0;36mDataFrame._sanitize_column\u001b[0;34m(self, value)\u001b[0m\n\u001b[1;32m   4535\u001b[0m     \u001b[39mreturn\u001b[39;00m _reindex_for_setitem(value, \u001b[39mself\u001b[39m\u001b[39m.\u001b[39mindex)\n\u001b[1;32m   4537\u001b[0m \u001b[39mif\u001b[39;00m is_list_like(value):\n\u001b[0;32m-> 4538\u001b[0m     com\u001b[39m.\u001b[39;49mrequire_length_match(value, \u001b[39mself\u001b[39;49m\u001b[39m.\u001b[39;49mindex)\n\u001b[1;32m   4539\u001b[0m \u001b[39mreturn\u001b[39;00m sanitize_array(value, \u001b[39mself\u001b[39m\u001b[39m.\u001b[39mindex, copy\u001b[39m=\u001b[39m\u001b[39mTrue\u001b[39;00m, allow_2d\u001b[39m=\u001b[39m\u001b[39mTrue\u001b[39;00m)\n",
      "File \u001b[0;32m~/.local/lib/python3.8/site-packages/pandas/core/common.py:557\u001b[0m, in \u001b[0;36mrequire_length_match\u001b[0;34m(data, index)\u001b[0m\n\u001b[1;32m    553\u001b[0m \u001b[39m\"\"\"\u001b[39;00m\n\u001b[1;32m    554\u001b[0m \u001b[39mCheck the length of data matches the length of the index.\u001b[39;00m\n\u001b[1;32m    555\u001b[0m \u001b[39m\"\"\"\u001b[39;00m\n\u001b[1;32m    556\u001b[0m \u001b[39mif\u001b[39;00m \u001b[39mlen\u001b[39m(data) \u001b[39m!=\u001b[39m \u001b[39mlen\u001b[39m(index):\n\u001b[0;32m--> 557\u001b[0m     \u001b[39mraise\u001b[39;00m \u001b[39mValueError\u001b[39;00m(\n\u001b[1;32m    558\u001b[0m         \u001b[39m\"\u001b[39m\u001b[39mLength of values \u001b[39m\u001b[39m\"\u001b[39m\n\u001b[1;32m    559\u001b[0m         \u001b[39mf\u001b[39m\u001b[39m\"\u001b[39m\u001b[39m(\u001b[39m\u001b[39m{\u001b[39;00m\u001b[39mlen\u001b[39m(data)\u001b[39m}\u001b[39;00m\u001b[39m) \u001b[39m\u001b[39m\"\u001b[39m\n\u001b[1;32m    560\u001b[0m         \u001b[39m\"\u001b[39m\u001b[39mdoes not match length of index \u001b[39m\u001b[39m\"\u001b[39m\n\u001b[1;32m    561\u001b[0m         \u001b[39mf\u001b[39m\u001b[39m\"\u001b[39m\u001b[39m(\u001b[39m\u001b[39m{\u001b[39;00m\u001b[39mlen\u001b[39m(index)\u001b[39m}\u001b[39;00m\u001b[39m)\u001b[39m\u001b[39m\"\u001b[39m\n\u001b[1;32m    562\u001b[0m     )\n",
      "\u001b[0;31mValueError\u001b[0m: Length of values (34) does not match length of index (1156)"
     ]
    }
   ],
   "source": [
    "#instantiate the k-means class, using optimal number of clusters\n",
    "kmeans = KMeans(init=\"random\", n_clusters=5, n_init=10, random_state=1)\n",
    "\n",
    "#fit k-means algorithm to data\n",
    "kmeans.fit(result)\n",
    "df['cluster'] = kmeans.labels_"
   ]
  },
  {
   "cell_type": "code",
   "execution_count": 116,
   "metadata": {},
   "outputs": [],
   "source": [
    "def _neglog_p(p_value_mantissa: Column, p_value_exponent: Column) -> Column:\n",
    "    \"\"\"Compute the negative log p-value.\n",
    "\n",
    "    Args:\n",
    "        p_value_mantissa (Column): P-value mantissa\n",
    "        p_value_exponent (Column): P-value exponent\n",
    "\n",
    "    Returns:\n",
    "        Column: Negative log p-value\n",
    "\n",
    "    Examples:\n",
    "        >>> d = [(1, 1), (5, -2), (1, -1000)]\n",
    "        >>> df = spark.createDataFrame(d).toDF(\"p_value_mantissa\", \"p_value_exponent\")\n",
    "        >>> df.withColumn(\"neg_log_p\", _neglog_p(f.col(\"p_value_mantissa\"), f.col(\"p_value_exponent\"))).show()\n",
    "        +----------------+----------------+------------------+\n",
    "        |p_value_mantissa|p_value_exponent|         neg_log_p|\n",
    "        +----------------+----------------+------------------+\n",
    "        |               1|               1|              -1.0|\n",
    "        |               5|              -2|1.3010299956639813|\n",
    "        |               1|           -1000|            1000.0|\n",
    "        +----------------+----------------+------------------+\n",
    "        <BLANKLINE>\n",
    "    \"\"\"\n",
    "    return -1 * (f.log10(p_value_mantissa) + p_value_exponent)\n",
    "\n",
    "\n",
    "def adding_quality_flag(\n",
    "    qc_column: Column, flag_condition: Column, flag_text: str\n",
    ") -> Column:\n",
    "    \"\"\"Update the provided quality control list with a new flag if condition is met.\n",
    "\n",
    "    Args:\n",
    "        qc_column (Column): Array column with existing QC flags.\n",
    "        flag_condition (Column): This is a column of booleans, signing which row should be flagged\n",
    "        flag_text (str): Text for the new quality control flag\n",
    "\n",
    "    Returns:\n",
    "        Column: Array column with the updated list of qc flags.\n",
    "\n",
    "    Examples:\n",
    "    >>> data = [(True, ['Existing flag']),(True, []),(False, [])]\n",
    "    >>> new_flag = 'This is a new flag'\n",
    "    >>> (\n",
    "    ...     spark.createDataFrame(data, ['flag', 'qualityControl'])\n",
    "    ...     .withColumn('qualityControl', adding_quality_flag(f.col('qualityControl'), f.col('flag'), new_flag))\n",
    "    ...     .show(truncate=False)\n",
    "    ... )\n",
    "    +-----+-----------------------------------+\n",
    "    |flag |qualityControl                     |\n",
    "    +-----+-----------------------------------+\n",
    "    |true |[Existing flag, This is a new flag]|\n",
    "    |true |[This is a new flag]               |\n",
    "    |false|[]                                 |\n",
    "    +-----+-----------------------------------+\n",
    "    <BLANKLINE>\n",
    "    \"\"\"\n",
    "    return f.when(\n",
    "        flag_condition,\n",
    "        f.array_union(qc_column, f.array(f.lit(flag_text))),\n",
    "    ).otherwise(qc_column)\n",
    "\n",
    "\n"
   ]
  },
  {
   "cell_type": "code",
   "execution_count": 66,
   "metadata": {},
   "outputs": [
    {
     "ename": "KeyError",
     "evalue": "'pos'",
     "output_type": "error",
     "traceback": [
      "\u001b[0;31m---------------------------------------------------------------------------\u001b[0m",
      "\u001b[0;31mKeyError\u001b[0m                                  Traceback (most recent call last)",
      "\u001b[1;32m/home/dsuveges/random_notebooks/genetics_rewrite/LD_index_check.ipynb Cell 14\u001b[0m in \u001b[0;36m<cell line: 9>\u001b[0;34m()\u001b[0m\n\u001b[1;32m      <a href='vscode-notebook-cell://ssh-remote%2Bds-single-m.europe-west1-d.open-targets-eu-dev/home/dsuveges/random_notebooks/genetics_rewrite/LD_index_check.ipynb#X23sdnNjb2RlLXJlbW90ZQ%3D%3D?line=7'>8</a>\u001b[0m edge_y \u001b[39m=\u001b[39m []\n\u001b[1;32m      <a href='vscode-notebook-cell://ssh-remote%2Bds-single-m.europe-west1-d.open-targets-eu-dev/home/dsuveges/random_notebooks/genetics_rewrite/LD_index_check.ipynb#X23sdnNjb2RlLXJlbW90ZQ%3D%3D?line=8'>9</a>\u001b[0m \u001b[39mfor\u001b[39;00m edge \u001b[39min\u001b[39;00m G\u001b[39m.\u001b[39medges():\n\u001b[0;32m---> <a href='vscode-notebook-cell://ssh-remote%2Bds-single-m.europe-west1-d.open-targets-eu-dev/home/dsuveges/random_notebooks/genetics_rewrite/LD_index_check.ipynb#X23sdnNjb2RlLXJlbW90ZQ%3D%3D?line=9'>10</a>\u001b[0m     x0, y0 \u001b[39m=\u001b[39m G\u001b[39m.\u001b[39;49mnodes[edge[\u001b[39m0\u001b[39;49m]][\u001b[39m'\u001b[39;49m\u001b[39mpos\u001b[39;49m\u001b[39m'\u001b[39;49m]\n\u001b[1;32m     <a href='vscode-notebook-cell://ssh-remote%2Bds-single-m.europe-west1-d.open-targets-eu-dev/home/dsuveges/random_notebooks/genetics_rewrite/LD_index_check.ipynb#X23sdnNjb2RlLXJlbW90ZQ%3D%3D?line=10'>11</a>\u001b[0m     x1, y1 \u001b[39m=\u001b[39m G\u001b[39m.\u001b[39mnodes[edge[\u001b[39m1\u001b[39m]][\u001b[39m'\u001b[39m\u001b[39mpos\u001b[39m\u001b[39m'\u001b[39m]\n\u001b[1;32m     <a href='vscode-notebook-cell://ssh-remote%2Bds-single-m.europe-west1-d.open-targets-eu-dev/home/dsuveges/random_notebooks/genetics_rewrite/LD_index_check.ipynb#X23sdnNjb2RlLXJlbW90ZQ%3D%3D?line=11'>12</a>\u001b[0m     edge_x\u001b[39m.\u001b[39mappend(x0)\n",
      "\u001b[0;31mKeyError\u001b[0m: 'pos'"
     ]
    }
   ],
   "source": [
    "import plotly.graph_objects as go\n",
    "\n",
    "import networkx as nx\n",
    "\n",
    "G = nx.from_pandas_edgelist(df.query('r >= 0.5').query('i != j'),source='i', target='j', edge_attr='r')\n",
    "\n",
    "edge_x = []\n",
    "edge_y = []\n",
    "for edge in G.edges():\n",
    "    x0, y0 = G.nodes[edge[0]]['pos']\n",
    "    x1, y1 = G.nodes[edge[1]]['pos']\n",
    "    edge_x.append(x0)\n",
    "    edge_x.append(x1)\n",
    "    edge_x.append(None)\n",
    "    edge_y.append(y0)\n",
    "    edge_y.append(y1)\n",
    "    edge_y.append(None)\n",
    "\n",
    "# edge_trace = go.Scatter(\n",
    "#     x=edge_x, y=edge_y,\n",
    "#     line=dict(width=0.5, color='#888'),\n",
    "#     hoverinfo='none',\n",
    "#     mode='lines')\n",
    "\n",
    "# node_x = []\n",
    "# node_y = []\n",
    "# for node in G.nodes():\n",
    "#     x, y = G.nodes[node]['pos']\n",
    "#     node_x.append(x)\n",
    "#     node_y.append(y)\n",
    "\n",
    "# node_trace = go.Scatter(\n",
    "#     x=node_x, y=node_y,\n",
    "#     mode='markers',\n",
    "#     hoverinfo='text',\n",
    "#     marker=dict(\n",
    "#         showscale=True,\n",
    "#         # colorscale options\n",
    "#         #'Greys' | 'YlGnBu' | 'Greens' | 'YlOrRd' | 'Bluered' | 'RdBu' |\n",
    "#         #'Reds' | 'Blues' | 'Picnic' | 'Rainbow' | 'Portland' | 'Jet' |\n",
    "#         #'Hot' | 'Blackbody' | 'Earth' | 'Electric' | 'Viridis' |\n",
    "#         colorscale='YlGnBu',\n",
    "#         reversescale=True,\n",
    "#         color=[],\n",
    "#         size=10,\n",
    "#         colorbar=dict(\n",
    "#             thickness=15,\n",
    "#             title='Node Connections',\n",
    "#             xanchor='left',\n",
    "#             titleside='right'\n",
    "#         ),\n",
    "#         line_width=2))\n",
    "\n",
    "# node_adjacencies = []\n",
    "# node_text = []\n",
    "# for node, adjacencies in enumerate(G.adjacency()):\n",
    "#     node_adjacencies.append(len(adjacencies[1]))\n",
    "#     node_text.append('# of connections: '+str(len(adjacencies[1])))\n",
    "\n",
    "# node_trace.marker.color = node_adjacencies\n",
    "# node_trace.text = node_text\n",
    "\n",
    "# fig = go.Figure(data=[edge_trace, node_trace],\n",
    "#              layout=go.Layout(\n",
    "#                 title='<br>Network graph made with Python',\n",
    "#                 titlefont_size=16,\n",
    "#                 showlegend=False,\n",
    "#                 hovermode='closest',\n",
    "#                 margin=dict(b=20,l=5,r=5,t=40),\n",
    "#                 annotations=[ dict(\n",
    "#                     text=\"Python code: <a href='https://plotly.com/ipython-notebooks/network-graphs/'> https://plotly.com/ipython-notebooks/network-graphs/</a>\",\n",
    "#                     showarrow=False,\n",
    "#                     xref=\"paper\", yref=\"paper\",\n",
    "#                     x=0.005, y=-0.002 ) ],\n",
    "#                 xaxis=dict(showgrid=False, zeroline=False, showticklabels=False),\n",
    "#                 yaxis=dict(showgrid=False, zeroline=False, showticklabels=False))\n",
    "#                 )\n",
    "# fig.show()"
   ]
  },
  {
   "cell_type": "code",
   "execution_count": 45,
   "metadata": {},
   "outputs": [],
   "source": [
    "%load_ext rpy2.ipython"
   ]
  },
  {
   "cell_type": "code",
   "execution_count": 87,
   "metadata": {},
   "outputs": [
    {
     "data": {
      "text/plain": [
       "{'pos': [0.6286908122731053, 0.27867150805583674]}"
      ]
     },
     "execution_count": 87,
     "metadata": {},
     "output_type": "execute_result"
    }
   ],
   "source": [
    "G = nx.random_geometric_graph(200, 0.125)\n",
    "edge_x = []\n",
    "edge_y = []\n",
    "for edge in G.edges():\n",
    "    x0, y0 = G.nodes[edge[0]]['pos']\n",
    "    x1, y1 = G.nodes[edge[1]]['pos']\n",
    "    edge_x.append(x0)\n",
    "    edge_x.append(x1)\n",
    "    edge_x.append(None)\n",
    "    edge_y.append(y0)\n",
    "    edge_y.append(y1)\n",
    "    edge_y.append(None)\n",
    "\n",
    "G.nodes[55]"
   ]
  },
  {
   "cell_type": "code",
   "execution_count": 77,
   "metadata": {},
   "outputs": [
    {
     "ename": "KeyError",
     "evalue": "'pos'",
     "output_type": "error",
     "traceback": [
      "\u001b[0;31m---------------------------------------------------------------------------\u001b[0m",
      "\u001b[0;31mKeyError\u001b[0m                                  Traceback (most recent call last)",
      "\u001b[1;32m/home/dsuveges/random_notebooks/genetics_rewrite/LD_index_check.ipynb Cell 17\u001b[0m in \u001b[0;36m<cell line: 1>\u001b[0;34m()\u001b[0m\n\u001b[0;32m----> <a href='vscode-notebook-cell://ssh-remote%2Bds-single-m.europe-west1-d.open-targets-eu-dev/home/dsuveges/random_notebooks/genetics_rewrite/LD_index_check.ipynb#X26sdnNjb2RlLXJlbW90ZQ%3D%3D?line=0'>1</a>\u001b[0m G\u001b[39m.\u001b[39;49mnodes(\u001b[39m55\u001b[39;49m)[\u001b[39m'\u001b[39;49m\u001b[39mpos\u001b[39;49m\u001b[39m'\u001b[39;49m]\n",
      "File \u001b[0;32m/opt/conda/default/lib/python3.8/site-packages/networkx/classes/reportviews.py:359\u001b[0m, in \u001b[0;36mNodeDataView.__getitem__\u001b[0;34m(self, n)\u001b[0m\n\u001b[1;32m    354\u001b[0m \u001b[39mif\u001b[39;00m \u001b[39misinstance\u001b[39m(n, \u001b[39mslice\u001b[39m):\n\u001b[1;32m    355\u001b[0m     \u001b[39mraise\u001b[39;00m nx\u001b[39m.\u001b[39mNetworkXError(\n\u001b[1;32m    356\u001b[0m         \u001b[39mf\u001b[39m\u001b[39m\"\u001b[39m\u001b[39m{\u001b[39;00m\u001b[39mtype\u001b[39m(\u001b[39mself\u001b[39m)\u001b[39m.\u001b[39m\u001b[39m__name__\u001b[39m\u001b[39m}\u001b[39;00m\u001b[39m does not support slicing, \u001b[39m\u001b[39m\"\u001b[39m\n\u001b[1;32m    357\u001b[0m         \u001b[39mf\u001b[39m\u001b[39m\"\u001b[39m\u001b[39mtry list(G.nodes.data())[\u001b[39m\u001b[39m{\u001b[39;00mn\u001b[39m.\u001b[39mstart\u001b[39m}\u001b[39;00m\u001b[39m:\u001b[39m\u001b[39m{\u001b[39;00mn\u001b[39m.\u001b[39mstop\u001b[39m}\u001b[39;00m\u001b[39m:\u001b[39m\u001b[39m{\u001b[39;00mn\u001b[39m.\u001b[39mstep\u001b[39m}\u001b[39;00m\u001b[39m]\u001b[39m\u001b[39m\"\u001b[39m\n\u001b[1;32m    358\u001b[0m     )\n\u001b[0;32m--> 359\u001b[0m ddict \u001b[39m=\u001b[39m \u001b[39mself\u001b[39;49m\u001b[39m.\u001b[39;49m_nodes[n]\n\u001b[1;32m    360\u001b[0m data \u001b[39m=\u001b[39m \u001b[39mself\u001b[39m\u001b[39m.\u001b[39m_data\n\u001b[1;32m    361\u001b[0m \u001b[39mif\u001b[39;00m data \u001b[39mis\u001b[39;00m \u001b[39mFalse\u001b[39;00m \u001b[39mor\u001b[39;00m data \u001b[39mis\u001b[39;00m \u001b[39mTrue\u001b[39;00m:\n",
      "\u001b[0;31mKeyError\u001b[0m: 'pos'"
     ]
    }
   ],
   "source": [
    "G.nodes(55)['pos']"
   ]
  },
  {
   "cell_type": "code",
   "execution_count": 112,
   "metadata": {},
   "outputs": [
    {
     "data": {
      "image/png": "[encoded data removed]",
      "text/plain": [
       "<Figure size 432x288 with 1 Axes>"
      ]
     },
     "metadata": {},
     "output_type": "display_data"
    }
   ],
   "source": [
    "G = nx.from_pandas_edgelist(df.query('r >= 0.5').query('i != j'),source='i', target='j', edge_attr='r')\n",
    "nx.draw(G, pos = nx.spring_layout(G, k=1, iterations=100, scale=None),  node_size=100)"
   ]
  },
  {
   "cell_type": "code",
   "execution_count": 149,
   "metadata": {},
   "outputs": [
    {
     "name": "stdout",
     "output_type": "stream",
     "text": [
      "+-------+---------+------------+--------------+--------------+---------+--------------+\n",
      "|studyId|variantId|tagVariantId|pValueMantissa|pValueExponent|R_overall|qualityControl|\n",
      "+-------+---------+------------+--------------+--------------+---------+--------------+\n",
      "|     s1|       v1|          v1|             1|            -9|      1.0|            []|\n",
      "|     s1|       v2|        null|             1|           -18|     null|            []|\n",
      "|     s1|       v3|          v4|             1|           -18|      1.0|            []|\n",
      "|     s1|       v3|          v5|             1|           -18|     0.98|            []|\n",
      "|     s1|       v4|          v3|             4|            -9|     0.98|            []|\n",
      "|     s1|       v4|          v5|             4|            -9|     0.98|            []|\n",
      "|     s1|       v4|          v6|             4|            -9|      1.0|            []|\n",
      "|     s1|       v5|          v3|             1|            -8|      1.0|            []|\n",
      "|     s1|       v5|          v4|             1|            -8|     0.98|            []|\n",
      "|     s1|       v5|          v6|             1|            -8|     0.98|            []|\n",
      "|     s1|       v6|          v5|             5|            -8|      1.0|            []|\n",
      "|     s1|       v6|          v4|             5|            -8|      1.0|            []|\n",
      "|     s1|       v6|          v7|             5|            -8|      1.0|            []|\n",
      "|     s1|       v7|          v6|             1|           -18|      1.0|            []|\n",
      "+-------+---------+------------+--------------+--------------+---------+--------------+\n",
      "\n"
     ]
    }
   ],
   "source": [
    "column_names = [\n",
    "    'studyId',\n",
    "    'variantId',\n",
    "    'tagVariantId',\n",
    "    'pValueMantissa',\n",
    "    'pValueExponent',\n",
    "    'R_overall',\n",
    "]\n",
    "\n",
    "data = [\n",
    "    # First study, variant 1 independent association:\n",
    "    ('s1', 'v1', 'v1', 1, -9, 1.0),\n",
    "    # First study, variant 3, not resolved in ld:\n",
    "    ('s1', 'v2', None, 1, -18, None),\n",
    "    # First study, variant 2, higher p-value, explained by v1:\n",
    "    ('s1', 'v3', 'v4', 1, -18, 1.0),\n",
    "    ('s1', 'v3', 'v5', 1, -18, 0.98),\n",
    "    # First study, variant 4: higher p-value, explained by v1\n",
    "    ('s1', 'v4', 'v3', 4, -9, 0.98),\n",
    "    ('s1', 'v4', 'v5', 4, -9, 0.98),\n",
    "    ('s1', 'v4', 'v6', 4, -9, 1.0),\n",
    "    # Second study, same variant discovered earlier:\n",
    "    ('s1', 'v5', 'v3', 1, -8, 1.0),\n",
    "    ('s1', 'v5', 'v4', 1, -8, 0.98),\n",
    "    ('s1', 'v5', 'v6', 1, -8, 0.98),\n",
    "    # Second study, same variant discovered earlier:\n",
    "    ('s1', 'v6', 'v5', 5, -8, 1.0),\n",
    "    ('s1', 'v6', 'v4', 5, -8, 1.0),\n",
    "    ('s1', 'v6', 'v7', 5, -8, 1.0),\n",
    "    # Second study, same variant discovered earlier:\n",
    "    ('s1', 'v7', 'v6', 1, -18, 1.0),\n",
    "]\n",
    "\n",
    "df = (\n",
    "    spark.createDataFrame(data, column_names)\n",
    "    .withColumn('qualityControl', f.array())\n",
    "    .persist()\n",
    ")\n",
    "df.show()"
   ]
  },
  {
   "cell_type": "code",
   "execution_count": 194,
   "metadata": {},
   "outputs": [
    {
     "name": "stdout",
     "output_type": "stream",
     "text": [
      "+-------+---------+------------+--------------+--------------+---------+----------------------------------+\n",
      "|studyId|variantId|tagVariantId|pValueMantissa|pValueExponent|R_overall|qualityControl                    |\n",
      "+-------+---------+------------+--------------+--------------+---------+----------------------------------+\n",
      "|s1     |v1       |v1          |1             |-9            |1.0      |[]                                |\n",
      "|s1     |v2       |null        |1             |-18           |null     |[]                                |\n",
      "|s1     |v3       |v5          |1             |-18           |0.98     |[]                                |\n",
      "|s1     |v3       |v4          |1             |-18           |1.0      |[]                                |\n",
      "|s1     |v4       |null        |4             |-9            |null     |[Association explained by: v3]    |\n",
      "|s1     |v5       |null        |1             |-8            |null     |[Association explained by: v3]    |\n",
      "|s1     |v6       |null        |5             |-8            |null     |[Association explained by: v3, v7]|\n",
      "|s1     |v7       |v6          |1             |-18           |1.0      |[]                                |\n",
      "+-------+---------+------------+--------------+--------------+---------+----------------------------------+\n",
      "\n"
     ]
    }
   ],
   "source": [
    "def get_resolver(df):\n",
    "\n",
    "    return (\n",
    "        df\n",
    "        .select(\n",
    "            'studyId', \n",
    "            f.col('variantId').alias('explained'),\n",
    "            f.col('explained').alias('new_explained')\n",
    "        )\n",
    "        .distinct()\n",
    "    )\n",
    "\n",
    "def clean_dataframe(df):\n",
    "    if 'is_resolved' in df.columns:\n",
    "        return (\n",
    "            df\n",
    "            .drop('explained', 'is_resolved')\n",
    "            .withColumnRenamed('new_explained', 'explained')\n",
    "        )\n",
    "    else:\n",
    "        return df\n",
    "\n",
    "\n",
    "def _clumping(df: DataFrame) -> DataFrame:\n",
    "    \"\"\"Clump non-independent credible sets.\n",
    "\n",
    "    Args:\n",
    "        df (DataFrame): The LD expanded dataset, before PICS calculation\n",
    "\n",
    "    Returns:\n",
    "        DataFrame: Clumped signals are resolved by:\n",
    "        - removing tagging varinants of non independent leads.\n",
    "        - removing overall R from non independent leads.\n",
    "        - Adding QC flag to non-independent leads pointing to the relevant lead.\n",
    "    \"\"\"\n",
    "    w = Window.partitionBy(\"studyId\", \"variantPair\").orderBy(f.col(\"negLogPVal\").desc())\n",
    "\n",
    "    # This dataframe contains all the resolved and independent leads. However not all linked signals are properly assigned to a more significant lead:\n",
    "    resolved_independent = (\n",
    "        df\n",
    "        # lead/tag pairs irrespective of the order:\n",
    "        .withColumn(\n",
    "            \"variantPair\",\n",
    "            f.concat_ws('_', f.array_sort(f.array(f.col(\"variantId\"), f.col(\"tagVariantId\")))),\n",
    "        )\n",
    "        # Generating the negLogPval:\n",
    "        .withColumn(\n",
    "            \"negLogPVal\", _neglog_p(f.col(\"pValueMantissa\"), f.col(\"pValueExponent\"))\n",
    "        )\n",
    "        # Counting the number of occurrence for each pair - for one study, each pair should occure only once:\n",
    "        .withColumn(\"rank\", f.count(f.col(\"tagVariantId\")).over(w))\n",
    "        # Only the most significant lead is kept if credible sets are overlapping + keeping lead if credible set is not resolved:\n",
    "        .withColumn(\n",
    "            \"keep_lead\",\n",
    "            f.when(\n",
    "                f.max(f.col(\"rank\")).over(Window.partitionBy(\"studyId\", \"variantId\")) <= 1, True,\n",
    "            ).otherwise(False),\n",
    "        )\n",
    "        # Adding reference lead that explains:\n",
    "        .withColumn(\n",
    "            \"reference_lead\", \n",
    "            f.when(\n",
    "                f.col(\"rank\") > 1, \n",
    "                f.col(\"tagVariantId\")\n",
    "            ).when(\n",
    "                f.col('keep_lead'),\n",
    "                f.col('variantId')\n",
    "            )\n",
    "        )\n",
    "        # One credible set might contain multiple tags that are themselves leads. We need to collect them into an array:\n",
    "        # At this point we move from lead/tag to study/lead level:\n",
    "        .withColumn(\n",
    "            \"all_explained\",\n",
    "            f.collect_set(f.col(\"reference_lead\")).over(\n",
    "                Window.partitionBy(\"studyId\", \"variantId\")\n",
    "            ),\n",
    "        )\n",
    "        .withColumn('explained', f.explode('all_explained'))\n",
    "        .drop('reference_lead', \"all_explained\")\n",
    "        .persist()\n",
    "    )\n",
    "\n",
    "    # We need to keep iterating until all linked leads are resolved:\n",
    "    while True:\n",
    "        resolved_independent = (\n",
    "            resolved_independent\n",
    "            .transform(clean_dataframe)\n",
    "            .join(get_resolver(resolved_independent), on=['studyId', 'explained'], how='left')\n",
    "            .withColumn(\n",
    "                'is_resolved',\n",
    "                f.when(f.col('new_explained') == f.col('explained'), True).otherwise(False)\n",
    "            )\n",
    "            .persist()\n",
    "        )\n",
    "\n",
    "        if resolved_independent.select('is_resolved').distinct().count() == 1:\n",
    "            break\n",
    "\n",
    "    # At this point all linked leads are resolved. Now the dataframe needs to be consolidated:\n",
    "    return (\n",
    "        resolved_independent\n",
    "        .drop('is_resolved', 'new_explained', 'neglog_pval')\n",
    "        .withColumn(\n",
    "            'qualityControl',\n",
    "            adding_quality_flag(\n",
    "                f.col(\"qualityControl\"),\n",
    "                ~f.col('keep_lead'),\n",
    "                f.concat_ws(' ', f.lit('Association explained by:'), f.concat_ws(', ', f.collect_set(f.col('explained')).over(Window.partitionBy('studyId', 'variantId'))))\n",
    "            )\n",
    "        )\n",
    "        # Remove tag information if lead is explained by other variant:\n",
    "        .withColumn(\n",
    "            \"tagVariantId\",\n",
    "            f.when(f.col(\"explained\") == f.col('variantId'), f.col(\"tagVariantId\")),\n",
    "        )\n",
    "        .withColumn(\n",
    "            \"R_overall\", f.when(f.col(\"tagVariantId\").isNotNull(), f.col(\"R_overall\"))\n",
    "        )\n",
    "        # Drop unused column:\n",
    "        .drop(\n",
    "            \"variantPair\",\n",
    "            \"explained\",\n",
    "            \"negLogPVal\",\n",
    "            \"rank\",\n",
    "            \"keep_lead\",\n",
    "        )\n",
    "        .distinct()\n",
    "        .orderBy('studyId', 'variantId')\n",
    "    )\n",
    "\n",
    "\n",
    "(\n",
    "    df\n",
    "    .transform(_clumping)\n",
    "    .show(truncate=False)\n",
    ")"
   ]
  },
  {
   "cell_type": "code",
   "execution_count": 173,
   "metadata": {},
   "outputs": [
    {
     "name": "stderr",
     "output_type": "stream",
     "text": [
      "[Stage 671:========================>                               (7 + 8) / 16]\r"
     ]
    },
    {
     "name": "stdout",
     "output_type": "stream",
     "text": [
      "+---------+------------+-------------+\n",
      "|variantId|tagVariantId|all_explained|\n",
      "+---------+------------+-------------+\n",
      "|       v1|          v1|         [v1]|\n",
      "|       v2|        null|         [v2]|\n",
      "|       v3|          v5|         [v3]|\n",
      "|       v3|          v4|         [v3]|\n",
      "|       v4|          v3|         [v3]|\n",
      "|       v4|          v5|         [v3]|\n",
      "|       v4|          v6|         [v3]|\n",
      "|       v5|          v4|     [v4, v3]|\n",
      "|       v5|          v3|     [v4, v3]|\n",
      "|       v5|          v6|     [v4, v3]|\n",
      "|       v6|          v7| [v4, v5, v7]|\n",
      "|       v6|          v5| [v4, v5, v7]|\n",
      "|       v6|          v4| [v4, v5, v7]|\n",
      "|       v7|          v6|         [v7]|\n",
      "+---------+------------+-------------+\n",
      "\n"
     ]
    },
    {
     "name": "stderr",
     "output_type": "stream",
     "text": [
      "[Stage 673:============================================>       (172 + 17) / 200]\r"
     ]
    }
   ],
   "source": [
    "\n",
    "resolved_independent = (\n",
    "    df\n",
    "    # lead/tag pairs irrespective of the order:\n",
    "    .withColumn(\n",
    "        \"variantPair\",\n",
    "        f.concat_ws('_', f.array_sort(f.array(f.col(\"variantId\"), f.col(\"tagVariantId\")))),\n",
    "    )\n",
    "    # Generating the negLogPval:\n",
    "    .withColumn(\n",
    "        \"negLogPVal\", _neglog_p(f.col(\"pValueMantissa\"), f.col(\"pValueExponent\"))\n",
    "    )\n",
    "    # Counting the number of occurrence for each pair - for one study, each pair should occure only once:\n",
    "    .withColumn(\"rank\", f.count(f.col(\"tagVariantId\")).over(w))\n",
    "    # Only the most significant lead is kept if credible sets are overlapping + keeping lead if credible set is not resolved:\n",
    "    .withColumn(\n",
    "        \"keep_lead\",\n",
    "        f.when(\n",
    "            f.max(f.col(\"rank\")).over(Window.partitionBy(\"studyId\", \"variantId\"))\n",
    "            <= 1,\n",
    "            True,\n",
    "        ).otherwise(False),\n",
    "    )\n",
    "    # Adding reference lead that explains:\n",
    "    .withColumn(\n",
    "        \"reference_lead\", \n",
    "        f.when(\n",
    "            f.col(\"rank\") > 1, \n",
    "            f.col(\"tagVariantId\")\n",
    "        ).when(\n",
    "            f.col('keep_lead'),\n",
    "            f.col('variantId')\n",
    "        )\n",
    "    )\n",
    "    # One credible set might contain multiple tags that are themselves leads. We need to collect them into an array:\n",
    "    # At this point we move from lead/tag to study/lead level:\n",
    "    .withColumn(\n",
    "        \"all_explained\",\n",
    "        f.collect_set(f.col(\"reference_lead\")).over(\n",
    "            Window.partitionBy(\"studyId\", \"variantId\")\n",
    "        ),\n",
    "    )\n",
    "    # .withColumn('explained', f.explode('all_explained'))\n",
    "    # .drop('reference_lead', \"all_explained\")\n",
    "    # # For a study we collect all the lead variants that are not explained by other lead:\n",
    "    # .withColumn(\n",
    "    #     \"good_signals\",\n",
    "    #     f.collect_set(f.when(f.col(\"keep_lead\"), f.col(\"variantId\"))).over(\n",
    "    #         Window.partitionBy(\"studyId\")\n",
    "    #     ),\n",
    "    # )\n",
    "    .persist()\n",
    ")\n",
    "\n",
    "\n",
    "columns = ['variantId', 'tagVariantId', 'all_explained']\n",
    "resolved_independent.select(columns).orderBy('variantId').show(100)"
   ]
  },
  {
   "cell_type": "code",
   "execution_count": 171,
   "metadata": {},
   "outputs": [
    {
     "name": "stdout",
     "output_type": "stream",
     "text": [
      "+---------+------------+---------+-------------+-----------+\n",
      "|variantId|tagVariantId|explained|new_explained|is_resolved|\n",
      "+---------+------------+---------+-------------+-----------+\n",
      "|       v7|          v6|       v7|           v7|       true|\n",
      "|       v2|        null|       v2|           v2|       true|\n",
      "|       v4|          v5|       v3|           v3|       true|\n",
      "|       v4|          v6|       v3|           v3|       true|\n",
      "|       v4|          v3|       v3|           v3|       true|\n",
      "|       v3|          v4|       v3|           v3|       true|\n",
      "|       v3|          v5|       v3|           v3|       true|\n",
      "|       v6|          v4|       v4|           v3|      false|\n",
      "|       v6|          v4|       v5|           v3|      false|\n",
      "|       v6|          v4|       v5|           v4|      false|\n",
      "|       v6|          v4|       v7|           v7|       true|\n",
      "|       v6|          v7|       v4|           v3|      false|\n",
      "|       v6|          v7|       v5|           v3|      false|\n",
      "|       v6|          v7|       v5|           v4|      false|\n",
      "|       v6|          v7|       v7|           v7|       true|\n",
      "|       v6|          v5|       v4|           v3|      false|\n",
      "|       v6|          v5|       v5|           v3|      false|\n",
      "|       v6|          v5|       v5|           v4|      false|\n",
      "|       v6|          v5|       v7|           v7|       true|\n",
      "|       v5|          v6|       v4|           v3|      false|\n",
      "|       v5|          v6|       v3|           v3|       true|\n",
      "|       v5|          v4|       v4|           v3|      false|\n",
      "|       v5|          v4|       v3|           v3|       true|\n",
      "|       v5|          v3|       v4|           v3|      false|\n",
      "|       v5|          v3|       v3|           v3|       true|\n",
      "|       v1|          v1|       v1|           v1|       true|\n",
      "+---------+------------+---------+-------------+-----------+\n",
      "\n",
      "+---------+------------+---------+-------------+-----------+\n",
      "|variantId|tagVariantId|explained|new_explained|is_resolved|\n",
      "+---------+------------+---------+-------------+-----------+\n",
      "|       v7|          v6|       v7|           v7|       true|\n",
      "|       v2|        null|       v2|           v2|       true|\n",
      "|       v4|          v5|       v3|           v3|       true|\n",
      "|       v4|          v6|       v3|           v3|       true|\n",
      "|       v4|          v3|       v3|           v3|       true|\n",
      "|       v3|          v4|       v3|           v3|       true|\n",
      "|       v3|          v5|       v3|           v3|       true|\n",
      "|       v6|          v4|       v3|           v3|       true|\n",
      "|       v6|          v4|       v3|           v3|       true|\n",
      "|       v6|          v4|       v4|           v3|      false|\n",
      "|       v6|          v4|       v7|           v7|       true|\n",
      "|       v6|          v7|       v3|           v3|       true|\n",
      "|       v6|          v7|       v3|           v3|       true|\n",
      "|       v6|          v7|       v4|           v3|      false|\n",
      "|       v6|          v7|       v7|           v7|       true|\n",
      "|       v6|          v5|       v3|           v3|       true|\n",
      "|       v6|          v5|       v3|           v3|       true|\n",
      "|       v6|          v5|       v4|           v3|      false|\n",
      "|       v6|          v5|       v7|           v7|       true|\n",
      "|       v5|          v6|       v3|           v3|       true|\n",
      "|       v5|          v6|       v3|           v3|       true|\n",
      "|       v5|          v4|       v3|           v3|       true|\n",
      "|       v5|          v4|       v3|           v3|       true|\n",
      "|       v5|          v3|       v3|           v3|       true|\n",
      "|       v5|          v3|       v3|           v3|       true|\n",
      "|       v1|          v1|       v1|           v1|       true|\n",
      "+---------+------------+---------+-------------+-----------+\n",
      "\n"
     ]
    },
    {
     "name": "stderr",
     "output_type": "stream",
     "text": [
      "[Stage 655:========================================>            (152 + 9) / 200]\r"
     ]
    },
    {
     "name": "stdout",
     "output_type": "stream",
     "text": [
      "+---------+------------+---------+-------------+-----------+\n",
      "|variantId|tagVariantId|explained|new_explained|is_resolved|\n",
      "+---------+------------+---------+-------------+-----------+\n",
      "|       v7|          v6|       v7|           v7|       true|\n",
      "|       v2|        null|       v2|           v2|       true|\n",
      "|       v4|          v5|       v3|           v3|       true|\n",
      "|       v4|          v6|       v3|           v3|       true|\n",
      "|       v4|          v3|       v3|           v3|       true|\n",
      "|       v3|          v4|       v3|           v3|       true|\n",
      "|       v3|          v5|       v3|           v3|       true|\n",
      "|       v6|          v4|       v3|           v3|       true|\n",
      "|       v6|          v4|       v3|           v3|       true|\n",
      "|       v6|          v4|       v3|           v3|       true|\n",
      "|       v6|          v4|       v7|           v7|       true|\n",
      "|       v6|          v7|       v3|           v3|       true|\n",
      "|       v6|          v7|       v3|           v3|       true|\n",
      "|       v6|          v7|       v3|           v3|       true|\n",
      "|       v6|          v7|       v7|           v7|       true|\n",
      "|       v6|          v5|       v3|           v3|       true|\n",
      "|       v6|          v5|       v3|           v3|       true|\n",
      "|       v6|          v5|       v3|           v3|       true|\n",
      "|       v6|          v5|       v7|           v7|       true|\n",
      "|       v5|          v6|       v3|           v3|       true|\n",
      "|       v5|          v6|       v3|           v3|       true|\n",
      "|       v5|          v4|       v3|           v3|       true|\n",
      "|       v5|          v4|       v3|           v3|       true|\n",
      "|       v5|          v3|       v3|           v3|       true|\n",
      "|       v5|          v3|       v3|           v3|       true|\n",
      "|       v1|          v1|       v1|           v1|       true|\n",
      "+---------+------------+---------+-------------+-----------+\n",
      "\n"
     ]
    }
   ],
   "source": [
    "def get_resolver(df):\n",
    "\n",
    "    return (\n",
    "        df\n",
    "        .select(\n",
    "            'studyId', \n",
    "            f.col('variantId').alias('explained'),\n",
    "            f.col('explained').alias('new_explained')\n",
    "        )\n",
    "        .distinct()\n",
    "    )\n",
    "\n",
    "def clean_dataframe(df):\n",
    "    if 'is_resolved' in df.columns:\n",
    "        return (\n",
    "            df\n",
    "            .drop('explained', 'is_resolved')\n",
    "            .withColumnRenamed('new_explained', 'explained')\n",
    "        )\n",
    "    else:\n",
    "        return df\n",
    "\n",
    "one_step = (\n",
    "    resolved_independent\n",
    "    .transform(clean_dataframe)\n",
    "    .join(get_resolver(resolved_independent), on=['studyId', 'explained'], how='left')\n",
    "    .withColumn(\n",
    "        'is_resolved',\n",
    "        f.when(f.col('new_explained') == f.col('explained'), True).otherwise(False)\n",
    "    )\n",
    "    .persist()\n",
    ")\n",
    "\n",
    "one_step.select(columns + ['new_explained', 'is_resolved']).show(100)\n",
    "\n",
    "two_step = (\n",
    "    one_step\n",
    "    .transform(clean_dataframe)\n",
    "    .join(get_resolver(one_step), on=['studyId', 'explained'], how='left')\n",
    "    .withColumn(\n",
    "        'is_resolved',\n",
    "        f.when(f.col('new_explained') == f.col('explained'), True).otherwise(False)\n",
    "    )\n",
    "    .persist()\n",
    ")\n",
    "\n",
    "two_step.select(columns + ['new_explained', 'is_resolved']).show(100)\n",
    "\n",
    "three_step = (\n",
    "    two_step\n",
    "    .transform(clean_dataframe)\n",
    "    .join(get_resolver(one_step), on=['studyId', 'explained'], how='left')\n",
    "    .withColumn(\n",
    "        'is_resolved',\n",
    "        f.when(f.col('new_explained') == f.col('explained'), True).otherwise(False)\n",
    "    )\n",
    "    .persist()\n",
    ")\n",
    "\n",
    "three_step.select(columns + ['new_explained', 'is_resolved']).show(100)"
   ]
  },
  {
   "cell_type": "code",
   "execution_count": 188,
   "metadata": {},
   "outputs": [
    {
     "name": "stdout",
     "output_type": "stream",
     "text": [
      "+-------+---------+------------+--------------+--------------+---------+----------------------------------+\n",
      "|studyId|variantId|tagVariantId|pValueMantissa|pValueExponent|R_overall|qualityControl                    |\n",
      "+-------+---------+------------+--------------+--------------+---------+----------------------------------+\n",
      "|s1     |v1       |v1          |1             |-9            |1.0      |[]                                |\n",
      "|s1     |v2       |null        |1             |-18           |null     |[]                                |\n",
      "|s1     |v3       |v5          |1             |-18           |0.98     |[]                                |\n",
      "|s1     |v3       |v4          |1             |-18           |1.0      |[]                                |\n",
      "|s1     |v4       |null        |4             |-9            |null     |[Association explained by: v3]    |\n",
      "|s1     |v5       |null        |1             |-8            |null     |[Association explained by: v3]    |\n",
      "|s1     |v6       |null        |5             |-8            |null     |[Association explained by: v3, v7]|\n",
      "|s1     |v7       |v6          |1             |-18           |1.0      |[]                                |\n",
      "+-------+---------+------------+--------------+--------------+---------+----------------------------------+\n",
      "\n"
     ]
    }
   ],
   "source": [
    "(\n",
    "    three_step\n",
    "    .drop('is_resolved', 'new_explained', 'neglog_pval')\n",
    "    .withColumn(\n",
    "        'qualityControl',\n",
    "        adding_quality_flag(\n",
    "            f.col(\"qualityControl\"),\n",
    "            ~f.col('keep_lead'),\n",
    "            f.concat_ws(' ', f.lit('Association explained by:'), f.concat_ws(', ', f.collect_set(f.col('explained')).over(Window.partitionBy('studyId', 'variantId'))))\n",
    "        )\n",
    "    )\n",
    "    # Remove tag information if lead is explained by other variant:\n",
    "    .withColumn(\n",
    "        \"tagVariantId\",\n",
    "        f.when(f.col(\"explained\") == f.col('variantId'), f.col(\"tagVariantId\")),\n",
    "    )\n",
    "    .withColumn(\n",
    "        \"R_overall\", f.when(f.col(\"tagVariantId\").isNotNull(), f.col(\"R_overall\"))\n",
    "    )\n",
    "    # Drop unused column:\n",
    "    .drop(\n",
    "        \"variantPair\",\n",
    "        \"explained\",\n",
    "        \"negLogPVal\",\n",
    "        \"rank\",\n",
    "        \"keep_lead\",\n",
    "    )\n",
    "    .distinct()\n",
    "    .orderBy('variantId')\n",
    "    .show(truncate=False)\n",
    ")"
   ]
  },
  {
   "cell_type": "code",
   "execution_count": 193,
   "metadata": {},
   "outputs": [
    {
     "name": "stderr",
     "output_type": "stream",
     "text": [
      "[Stage 852:=======================================>             (150 + 8) / 200]\r"
     ]
    },
    {
     "data": {
      "text/plain": [
       "2"
      ]
     },
     "execution_count": 193,
     "metadata": {},
     "output_type": "execute_result"
    }
   ],
   "source": [
    "two_step.select('is_resolved').distinct().count()"
   ]
  },
  {
   "cell_type": "code",
   "execution_count": null,
   "metadata": {},
   "outputs": [],
   "source": []
  }
 ],
 "metadata": {
  "kernelspec": {
   "display_name": "Python 3",
   "language": "python",
   "name": "python3"
  },
  "language_info": {
   "codemirror_mode": {
    "name": "ipython",
    "version": 3
   },
   "file_extension": ".py",
   "mimetype": "text/x-python",
   "name": "python",
   "nbconvert_exporter": "python",
   "pygments_lexer": "ipython3",
   "version": "3.8.13"
  },
  "orig_nbformat": 4,
  "vscode": {
   "interpreter": {
    "hash": "de3a7304373a2ed386fe951c9137ef8d6c9c0656a76027db0e908c100510c9c7"
   }
  }
 },
 "nbformat": 4,
 "nbformat_minor": 2
}
