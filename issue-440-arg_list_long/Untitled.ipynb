{
 "cells": [
  {
   "cell_type": "code",
   "execution_count": 5,
   "metadata": {
    "ExecuteTime": {
     "end_time": "2021-05-14T12:11:08.501966Z",
     "start_time": "2021-05-14T12:11:08.432718Z"
    }
   },
   "outputs": [
    {
     "name": "stdout",
     "output_type": "stream",
     "text": [
      "./Untitled.ipynb\n",
      "./test_dir/test_1.tsv.gz\n",
      "./test_dir/test_3.tsv.gz\n",
      "./test_dir/test_12.tsv.gz\n",
      "./test_dir/test_7.tsv.gz\n",
      "./test_dir/test_9.tsv.gz\n",
      "./test_dir/test_5.tsv.gz\n",
      "./test_dir/test_10.tsv.gz\n",
      "./test_dir/test_2.tsv.gz\n",
      "./test_dir/test_6.tsv.gz\n",
      "./test_dir/test_11.tsv.gz\n",
      "./test_dir/test_8.tsv.gz\n",
      "./test_dir/test_4.tsv.gz\n",
      "./.ipynb_checkpoints/Untitled-checkpoint.ipynb\n"
     ]
    }
   ],
   "source": [
    "%%bash\n",
    "\n",
    "\n",
    "\n",
    "mkdir -p test_dir\n",
    "\n",
    "for i in {1..12}; do\n",
    "    for j in {0..10}; do\n",
    "        echo -e \"${i}\\t${j}\\t${RANDOM}\"\n",
    "    done | gzip > test_dir/test_${i}.tsv.gz\n",
    "done\n",
    "\n",
    "find . -type f"
   ]
  },
  {
   "cell_type": "code",
   "execution_count": 7,
   "metadata": {
    "ExecuteTime": {
     "end_time": "2021-05-14T12:13:35.633605Z",
     "start_time": "2021-05-14T12:13:35.044263Z"
    }
   },
   "outputs": [
    {
     "data": {
      "text/plain": [
       "132"
      ]
     },
     "execution_count": 7,
     "metadata": {},
     "output_type": "execute_result"
    }
   ],
   "source": [
    "from pyspark.sql import SparkSession\n",
    "import pyspark.sql.functions as F\n",
    "\n",
    "# establish spark connection\n",
    "spark = (\n",
    "    SparkSession.builder\n",
    "    .master('local[*]')\n",
    "    .getOrCreate()\n",
    ")\n",
    "\n",
    "test_dir = '/Users/dsuveges/project/random_notebooks/issue-440-arg_list_long/test_dir'\n",
    "\n",
    "\n",
    "(\n",
    "    spark.read.csv(test_dir,  sep='\\t')\n",
    "    .count()\n",
    ")"
   ]
  },
  {
   "cell_type": "code",
   "execution_count": null,
   "metadata": {},
   "outputs": [],
   "source": []
  }
 ],
 "metadata": {
  "kernelspec": {
   "display_name": "Python 3",
   "language": "python",
   "name": "python3"
  },
  "language_info": {
   "codemirror_mode": {
    "name": "ipython",
    "version": 3
   },
   "file_extension": ".py",
   "mimetype": "text/x-python",
   "name": "python",
   "nbconvert_exporter": "python",
   "pygments_lexer": "ipython3",
   "version": "3.6.10"
  }
 },
 "nbformat": 4,
 "nbformat_minor": 4
}
