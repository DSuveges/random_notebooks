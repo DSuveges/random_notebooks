{
 "cells": [
  {
   "cell_type": "code",
   "execution_count": 60,
   "metadata": {
    "ExecuteTime": {
     "end_time": "2021-01-24T00:39:51.441934Z",
     "start_time": "2021-01-24T00:39:51.377617Z"
    }
   },
   "outputs": [
    {
     "data": {
      "text/html": [
       "<div>\n",
       "<style scoped>\n",
       "    .dataframe tbody tr th:only-of-type {\n",
       "        vertical-align: middle;\n",
       "    }\n",
       "\n",
       "    .dataframe tbody tr th {\n",
       "        vertical-align: top;\n",
       "    }\n",
       "\n",
       "    .dataframe thead th {\n",
       "        text-align: right;\n",
       "    }\n",
       "</style>\n",
       "<table border=\"1\" class=\"dataframe\">\n",
       "  <thead>\n",
       "    <tr style=\"text-align: right;\">\n",
       "      <th></th>\n",
       "      <th>targetFromSourceId</th>\n",
       "      <th>diseaseFromSourceMappedId</th>\n",
       "      <th>resourceScore</th>\n",
       "      <th>diseaseFromSource</th>\n",
       "      <th>diseaseCellLines</th>\n",
       "      <th>datasourceId</th>\n",
       "      <th>datatypeId</th>\n",
       "    </tr>\n",
       "  </thead>\n",
       "  <tbody>\n",
       "    <tr>\n",
       "      <th>0</th>\n",
       "      <td>ENSG00000110092</td>\n",
       "      <td>EFO_0000174</td>\n",
       "      <td>0.797813</td>\n",
       "      <td>Bone</td>\n",
       "      <td>[CAL-72, ES4, ES5, ES8, EW-1, EW-16, EW-22, EW...</td>\n",
       "      <td>crispr</td>\n",
       "      <td>affected_pathway</td>\n",
       "    </tr>\n",
       "    <tr>\n",
       "      <th>1</th>\n",
       "      <td>ENSG00000130725</td>\n",
       "      <td>EFO_0000174</td>\n",
       "      <td>0.585000</td>\n",
       "      <td>Bone</td>\n",
       "      <td>[CAL-72, ES4, ES5, ES8, EW-1, EW-16, EW-22, EW...</td>\n",
       "      <td>crispr</td>\n",
       "      <td>affected_pathway</td>\n",
       "    </tr>\n",
       "    <tr>\n",
       "      <th>2</th>\n",
       "      <td>ENSG00000111142</td>\n",
       "      <td>EFO_0000174</td>\n",
       "      <td>0.579375</td>\n",
       "      <td>Bone</td>\n",
       "      <td>[CAL-72, ES4, ES5, ES8, EW-1, EW-16, EW-22, EW...</td>\n",
       "      <td>crispr</td>\n",
       "      <td>affected_pathway</td>\n",
       "    </tr>\n",
       "    <tr>\n",
       "      <th>3</th>\n",
       "      <td>ENSG00000152234</td>\n",
       "      <td>EFO_0000174</td>\n",
       "      <td>0.541250</td>\n",
       "      <td>Bone</td>\n",
       "      <td>[CAL-72, ES4, ES5, ES8, EW-1, EW-16, EW-22, EW...</td>\n",
       "      <td>crispr</td>\n",
       "      <td>affected_pathway</td>\n",
       "    </tr>\n",
       "    <tr>\n",
       "      <th>4</th>\n",
       "      <td>ENSG00000165501</td>\n",
       "      <td>EFO_0000174</td>\n",
       "      <td>0.525000</td>\n",
       "      <td>Bone</td>\n",
       "      <td>[CAL-72, ES4, ES5, ES8, EW-1, EW-16, EW-22, EW...</td>\n",
       "      <td>crispr</td>\n",
       "      <td>affected_pathway</td>\n",
       "    </tr>\n",
       "  </tbody>\n",
       "</table>\n",
       "</div>"
      ],
      "text/plain": [
       "  targetFromSourceId diseaseFromSourceMappedId  resourceScore  \\\n",
       "0    ENSG00000110092               EFO_0000174       0.797813   \n",
       "1    ENSG00000130725               EFO_0000174       0.585000   \n",
       "2    ENSG00000111142               EFO_0000174       0.579375   \n",
       "3    ENSG00000152234               EFO_0000174       0.541250   \n",
       "4    ENSG00000165501               EFO_0000174       0.525000   \n",
       "\n",
       "  diseaseFromSource                                   diseaseCellLines  \\\n",
       "0              Bone  [CAL-72, ES4, ES5, ES8, EW-1, EW-16, EW-22, EW...   \n",
       "1              Bone  [CAL-72, ES4, ES5, ES8, EW-1, EW-16, EW-22, EW...   \n",
       "2              Bone  [CAL-72, ES4, ES5, ES8, EW-1, EW-16, EW-22, EW...   \n",
       "3              Bone  [CAL-72, ES4, ES5, ES8, EW-1, EW-16, EW-22, EW...   \n",
       "4              Bone  [CAL-72, ES4, ES5, ES8, EW-1, EW-16, EW-22, EW...   \n",
       "\n",
       "  datasourceId        datatypeId  \n",
       "0       crispr  affected_pathway  \n",
       "1       crispr  affected_pathway  \n",
       "2       crispr  affected_pathway  \n",
       "3       crispr  affected_pathway  \n",
       "4       crispr  affected_pathway  "
      ]
     },
     "execution_count": 60,
     "metadata": {},
     "output_type": "execute_result"
    }
   ],
   "source": [
    "import pandas as pd\n",
    "\n",
    "evidence = '/Users/dsuveges/repositories/evidence_datasource_parsers/resources/crispr_evidence.tsv'\n",
    "description = '/Users/dsuveges/repositories/evidence_datasource_parsers/resources/crispr_descriptions.tsv'\n",
    "cell_lines = '/Users/dsuveges/repositories/evidence_datasource_parsers/resources/crispr_cell_lines.tsv'\n",
    "\n",
    "\n",
    "evidence_df = pd.read_csv(evidence, sep='\\t')\n",
    "description_df = pd.read_csv(description, sep='\\t')\n",
    "cell_lines_df = pd.read_csv(cell_lines, sep='\\t')\n",
    "\n",
    "\n",
    "# Merging description with cell types and tissue:\n",
    "tissue_desc = description_df.merge(cell_lines_df[['Name','Tissue']], left_on='tissue_or_cancer_type', how='inner', right_on='Tissue')\n",
    "cell_desc = description_df.merge(cell_lines_df[['Name','Cancer Type']], left_on='tissue_or_cancer_type', how='inner', right_on='Cancer Type')\n",
    "\n",
    "# Concatenating annotation:\n",
    "merged_annotation = pd.concat([tissue_desc, cell_desc], ignore_index=True)\n",
    "\n",
    "# Aggregating names accross disease/targets:\n",
    "pooled_annotation = merged_annotation.groupby(['efo_id', 'tissue_or_cancer_type', 'method']).agg(\n",
    "            {'Name': lambda x: list(x)}).reset_index()\n",
    "\n",
    "# Updating columns:\n",
    "pooled_annotation = (\n",
    "    pooled_annotation\n",
    "    .drop(['method',],axis=1)\n",
    "    .rename(columns={\n",
    "        'efo_id':'diseaseFromSourceMappedId',\n",
    "        'Name': 'diseaseCellLines',\n",
    "        'tissue_or_cancer_type': 'diseaseFromSource',\n",
    "    })\n",
    ")\n",
    "\n",
    "##\n",
    "## Parsing crispr evidence\n",
    "##\n",
    "\n",
    "# Some columns from the evidence file is not needed:\n",
    "evidence_df = (\n",
    "    evidence_df\n",
    "    .drop(['pmid','gene_set_name', 'disease_name'], axis=1)\n",
    "    .rename(columns={\n",
    "        'target_id': 'targetFromSourceId', \n",
    "        'disease_id':'diseaseFromSourceMappedId',\n",
    "        'score': 'resourceScore',\n",
    "    })\n",
    ")\n",
    "    \n",
    "# Replace some target ids: \n",
    "evidence_df.targetFromSourceId = evidence_df.targetFromSourceId.apply(lambda x: CRISPR_SYMBOL_MAPPING[x] if x in CRISPR_SYMBOL_MAPPING else x)\n",
    "\n",
    "# Convert score:\n",
    "evidence_df.resourceScore = evidence_df.resourceScore/100\n",
    "\n",
    "# Merging evidence and annotation:\n",
    "annotated_evidence = evidence_df.merge(pooled_annotation, on='diseaseFromSourceMappedId', how='outer',indicator=True)\n",
    "\n",
    "# # Checking if all disease term got matched:\n",
    "annotated_evidence.loc[annotated_evidence._merge != 'both']\n",
    "annotated_evidence.drop(['_merge'], inplace=True, axis=1)\n",
    "\n",
    "# Update efo identifier:\n",
    "annotated_evidence.diseaseFromSourceMappedId = annotated_evidence.diseaseFromSourceMappedId.str.extract('/([^/]+?)$', expand=False)\n",
    "\n",
    "# Adding new columns:\n",
    "annotated_evidence['datasourceId'] = 'crispr'\n",
    "annotated_evidence['datatypeId'] = 'affected_pathway'\n",
    "\n",
    "\n",
    "annotated_evidence.to_json(outputFile, compression='gzip', orient='records', lines=True)"
   ]
  },
  {
   "cell_type": "code",
   "execution_count": 67,
   "metadata": {
    "ExecuteTime": {
     "end_time": "2021-01-24T00:45:42.499320Z",
     "start_time": "2021-01-24T00:45:42.494184Z"
    }
   },
   "outputs": [
    {
     "name": "stdout",
     "output_type": "stream",
     "text": [
      "{\"targetFromSourceId\":\"ENSG00000110092\",\"diseaseFromSourceMappedId\":\"EFO_0000174\",\"resourceScore\":0.797813,\"diseaseFromSource\":\"Bone\",\"diseaseCellLines\":[\"CAL-72\",\"ES4\",\"ES5\",\"ES8\",\"EW-1\",\"EW-16\",\"EW-22\",\"EW-7\",\"MC-IXC\",\"MHH-ES-1\",\"SJSA-1\",\"TC-71\"],\"datasourceId\":\"crispr\",\"datatypeId\":\"affected_pathway\"}\n",
      "{\"targetFromSourceId\":\"ENSG00000130725\",\"diseaseFromSourceMappedId\":\"EFO_0000174\",\"resourceScore\":0.585,\"diseaseFromSource\":\"Bone\",\"diseaseCellLines\":[\"CAL-72\",\"ES4\",\"ES5\",\"ES8\",\"EW-1\",\"EW-16\",\"EW-22\",\"EW-7\",\"MC-IXC\",\"MHH-ES-1\",\"SJSA-1\",\"TC-71\"],\"datasourceId\":\"crispr\",\"datatypeId\":\"affected_pathway\"}\n",
      "{\"targetFromSourceId\":\"ENSG00000111142\",\"diseaseFromSourceMappedId\":\"EFO_0000174\",\"resourceScore\":0.579375,\"diseaseFromSource\":\"Bone\",\"diseaseCellLines\":[\"CAL-72\",\"ES4\",\"ES5\",\"ES8\",\"EW-1\",\"EW-16\",\"EW-22\",\"EW-7\",\"MC-IXC\",\"MHH-ES-1\",\"SJSA-1\",\"TC-71\"],\"datasourceId\":\"crispr\",\"datatypeId\":\"affected_pathway\"}\n",
      "{\"targetFromSourceId\":\"ENSG00000152234\",\"diseaseFromSourceMappedId\":\"EFO_0000174\",\"resourceScore\":0.54125,\"diseaseFromSource\":\"Bone\",\"diseaseCellLines\":[\"CAL-72\",\"ES4\",\"ES5\",\"ES8\",\"EW-1\",\"EW-16\",\"EW-22\",\"EW-7\",\"MC-IXC\",\"MHH-ES-1\",\"SJSA-1\",\"TC-71\"],\"datasourceId\":\"crispr\",\"datatypeId\":\"affected_pathway\"}\n",
      "{\"targetFromSourceId\":\"ENSG00000165501\",\"diseaseFromSourceMappedId\":\"EFO_0000174\",\"resourceScore\":0.525,\"diseaseFromSource\":\"Bone\",\"diseaseCellLines\":[\"CAL-72\",\"ES4\",\"ES5\",\"ES8\",\"EW-1\",\"EW-16\",\"EW-22\",\"EW-7\",\"MC-IXC\",\"MHH-ES-1\",\"SJSA-1\",\"TC-71\"],\"datasourceId\":\"crispr\",\"datatypeId\":\"affected_pathway\"}\n"
     ]
    }
   ],
   "source": [
    "\n",
    "print(annotated_evidence.head().to_json(path_or_buf=None, compression='gzip', orient='records', lines=True))"
   ]
  },
  {
   "cell_type": "code",
   "execution_count": 46,
   "metadata": {
    "ExecuteTime": {
     "end_time": "2021-01-23T23:12:19.685474Z",
     "start_time": "2021-01-23T23:12:19.678583Z"
    }
   },
   "outputs": [
    {
     "data": {
      "text/plain": [
       "0       ENSG00000110092\n",
       "1       ENSG00000130725\n",
       "2       ENSG00000111142\n",
       "3       ENSG00000152234\n",
       "4       ENSG00000165501\n",
       "             ...       \n",
       "1841    ENSG00000108107\n",
       "1842    ENSG00000163659\n",
       "1843    ENSG00000072274\n",
       "1844    ENSG00000133112\n",
       "1845    ENSG00000175063\n",
       "Name: target_id, Length: 1846, dtype: object"
      ]
     },
     "execution_count": 46,
     "metadata": {},
     "output_type": "execute_result"
    }
   ],
   "source": [
    "CRISPR_SYMBOL_MAPPING={\n",
    "    'CASC5': 'ENSG00000137812',\n",
    "    'CIRH1A': 'ENSG00000141076',\n",
    "    'EFTUD1': 'ENSG00000140598',\n",
    "    'ENSG00000163660': 'ENSG00000163660',\n",
    "    'KIAA0947': 'ENSG00000164151',\n",
    "    'KIAA1432': 'ENSG00000107036',\n",
    "    'NDNL2': 'ENSG00000185115',\n",
    "    'SRPR': 'ENSG00000182934',\n",
    "    'ZNF259': 'ENSG00000109917'\n",
    "}\n",
    "\n",
    "evidence_df.target_id.apply(lambda x: CRISPR_SYMBOL_MAPPING[x] if x in CRISPR_SYMBOL_MAPPING else x)\n"
   ]
  },
  {
   "cell_type": "code",
   "execution_count": 53,
   "metadata": {
    "ExecuteTime": {
     "end_time": "2021-01-24T00:21:27.890713Z",
     "start_time": "2021-01-24T00:21:27.865959Z"
    }
   },
   "outputs": [
    {
     "data": {
      "text/html": [
       "<div>\n",
       "<style scoped>\n",
       "    .dataframe tbody tr th:only-of-type {\n",
       "        vertical-align: middle;\n",
       "    }\n",
       "\n",
       "    .dataframe tbody tr th {\n",
       "        vertical-align: top;\n",
       "    }\n",
       "\n",
       "    .dataframe thead th {\n",
       "        text-align: right;\n",
       "    }\n",
       "</style>\n",
       "<table border=\"1\" class=\"dataframe\">\n",
       "  <thead>\n",
       "    <tr style=\"text-align: right;\">\n",
       "      <th></th>\n",
       "      <th>target_id</th>\n",
       "      <th>disease_id</th>\n",
       "      <th>disease_name</th>\n",
       "      <th>score</th>\n",
       "      <th>efo_id</th>\n",
       "      <th>tissue_or_cancer_type</th>\n",
       "      <th>method</th>\n",
       "      <th>Name</th>\n",
       "      <th>_merge</th>\n",
       "    </tr>\n",
       "  </thead>\n",
       "  <tbody>\n",
       "  </tbody>\n",
       "</table>\n",
       "</div>"
      ],
      "text/plain": [
       "Empty DataFrame\n",
       "Columns: [target_id, disease_id, disease_name, score, efo_id, tissue_or_cancer_type, method, Name, _merge]\n",
       "Index: []"
      ]
     },
     "execution_count": 53,
     "metadata": {},
     "output_type": "execute_result"
    }
   ],
   "source": [
    "annotated_evidence = evidence_df.merge(pooled_annotation, left_on = 'disease_id', right_on='efo_id', how='outer',indicator=True)\n",
    "annotated_evidence.loc[annotated_evidence._merge != 'both']"
   ]
  },
  {
   "cell_type": "code",
   "execution_count": 57,
   "metadata": {
    "ExecuteTime": {
     "end_time": "2021-01-24T00:34:48.014377Z",
     "start_time": "2021-01-24T00:34:47.999380Z"
    }
   },
   "outputs": [
    {
     "data": {
      "text/html": [
       "<div>\n",
       "<style scoped>\n",
       "    .dataframe tbody tr th:only-of-type {\n",
       "        vertical-align: middle;\n",
       "    }\n",
       "\n",
       "    .dataframe tbody tr th {\n",
       "        vertical-align: top;\n",
       "    }\n",
       "\n",
       "    .dataframe thead th {\n",
       "        text-align: right;\n",
       "    }\n",
       "</style>\n",
       "<table border=\"1\" class=\"dataframe\">\n",
       "  <thead>\n",
       "    <tr style=\"text-align: right;\">\n",
       "      <th></th>\n",
       "      <th>efo_id</th>\n",
       "      <th>tissue_or_cancer_type</th>\n",
       "      <th>method</th>\n",
       "      <th>Name</th>\n",
       "    </tr>\n",
       "  </thead>\n",
       "  <tbody>\n",
       "    <tr>\n",
       "      <th>0</th>\n",
       "      <td>http://purl.obolibrary.org/obo/MONDO_0002038</td>\n",
       "      <td>Head and Neck Carcinoma</td>\n",
       "      <td>64 targets were prioritised based on CRISPR sc...</td>\n",
       "      <td>[A253, BB30-HNC, Detroit562, FADU, JHU-011, LB...</td>\n",
       "    </tr>\n",
       "    <tr>\n",
       "      <th>1</th>\n",
       "      <td>http://purl.obolibrary.org/obo/MONDO_0021637</td>\n",
       "      <td>Central Nervous System</td>\n",
       "      <td>72 targets were prioritised based on CRISPR sc...</td>\n",
       "      <td>[SF126, U251, 8-MG-BA, A172, AM-38, Becker, CA...</td>\n",
       "    </tr>\n",
       "    <tr>\n",
       "      <th>2</th>\n",
       "      <td>http://purl.obolibrary.org/obo/MONDO_0044925</td>\n",
       "      <td>Oral Cavity Carcinoma</td>\n",
       "      <td>49 targets were prioritised based on CRISPR sc...</td>\n",
       "      <td>[BHY, BICR10, BICR22, BICR78, CAL-27, CAL-33, ...</td>\n",
       "    </tr>\n",
       "    <tr>\n",
       "      <th>3</th>\n",
       "      <td>http://www.ebi.ac.uk/efo/EFO_0000174</td>\n",
       "      <td>Bone</td>\n",
       "      <td>113 targets were prioritised based on CRISPR s...</td>\n",
       "      <td>[CAL-72, ES4, ES5, ES8, EW-1, EW-16, EW-22, EW...</td>\n",
       "    </tr>\n",
       "    <tr>\n",
       "      <th>4</th>\n",
       "      <td>http://www.ebi.ac.uk/efo/EFO_0000178</td>\n",
       "      <td>Gastric Carcinoma</td>\n",
       "      <td>168 targets were prioritised based on CRISPR s...</td>\n",
       "      <td>[23132-87, HGC-27, HSC-39, KATOIII, MKN28, NCI...</td>\n",
       "    </tr>\n",
       "  </tbody>\n",
       "</table>\n",
       "</div>"
      ],
      "text/plain": [
       "                                         efo_id    tissue_or_cancer_type  \\\n",
       "0  http://purl.obolibrary.org/obo/MONDO_0002038  Head and Neck Carcinoma   \n",
       "1  http://purl.obolibrary.org/obo/MONDO_0021637   Central Nervous System   \n",
       "2  http://purl.obolibrary.org/obo/MONDO_0044925    Oral Cavity Carcinoma   \n",
       "3          http://www.ebi.ac.uk/efo/EFO_0000174                     Bone   \n",
       "4          http://www.ebi.ac.uk/efo/EFO_0000178        Gastric Carcinoma   \n",
       "\n",
       "                                              method  \\\n",
       "0  64 targets were prioritised based on CRISPR sc...   \n",
       "1  72 targets were prioritised based on CRISPR sc...   \n",
       "2  49 targets were prioritised based on CRISPR sc...   \n",
       "3  113 targets were prioritised based on CRISPR s...   \n",
       "4  168 targets were prioritised based on CRISPR s...   \n",
       "\n",
       "                                                Name  \n",
       "0  [A253, BB30-HNC, Detroit562, FADU, JHU-011, LB...  \n",
       "1  [SF126, U251, 8-MG-BA, A172, AM-38, Becker, CA...  \n",
       "2  [BHY, BICR10, BICR22, BICR78, CAL-27, CAL-33, ...  \n",
       "3  [CAL-72, ES4, ES5, ES8, EW-1, EW-16, EW-22, EW...  \n",
       "4  [23132-87, HGC-27, HSC-39, KATOIII, MKN28, NCI...  "
      ]
     },
     "execution_count": 57,
     "metadata": {},
     "output_type": "execute_result"
    }
   ],
   "source": [
    "# evidence_df.head()\n",
    "pooled_annotation.head()"
   ]
  },
  {
   "cell_type": "code",
   "execution_count": 72,
   "metadata": {
    "ExecuteTime": {
     "end_time": "2021-01-24T17:38:49.976600Z",
     "start_time": "2021-01-24T17:38:49.941251Z"
    }
   },
   "outputs": [
    {
     "data": {
      "text/html": [
       "<div>\n",
       "<style scoped>\n",
       "    .dataframe tbody tr th:only-of-type {\n",
       "        vertical-align: middle;\n",
       "    }\n",
       "\n",
       "    .dataframe tbody tr th {\n",
       "        vertical-align: top;\n",
       "    }\n",
       "\n",
       "    .dataframe thead th {\n",
       "        text-align: right;\n",
       "    }\n",
       "</style>\n",
       "<table border=\"1\" class=\"dataframe\">\n",
       "  <thead>\n",
       "    <tr style=\"text-align: right;\">\n",
       "      <th></th>\n",
       "      <th>targetFromSourceId</th>\n",
       "      <th>diseaseFromSourceMappedId</th>\n",
       "      <th>resourceScore</th>\n",
       "      <th>diseaseFromSource</th>\n",
       "      <th>diseaseCellLines</th>\n",
       "      <th>datasourceId</th>\n",
       "      <th>datatypeId</th>\n",
       "      <th>_merge</th>\n",
       "    </tr>\n",
       "  </thead>\n",
       "  <tbody>\n",
       "    <tr>\n",
       "      <th>0</th>\n",
       "      <td>ENSG00000110092</td>\n",
       "      <td>EFO_0000174</td>\n",
       "      <td>0.797813</td>\n",
       "      <td>Bone</td>\n",
       "      <td>[CAL-72, ES4, ES5, ES8, EW-1, EW-16, EW-22, EW...</td>\n",
       "      <td>crispr</td>\n",
       "      <td>affected_pathway</td>\n",
       "      <td>right_only</td>\n",
       "    </tr>\n",
       "    <tr>\n",
       "      <th>1</th>\n",
       "      <td>ENSG00000130725</td>\n",
       "      <td>EFO_0000174</td>\n",
       "      <td>0.585000</td>\n",
       "      <td>Bone</td>\n",
       "      <td>[CAL-72, ES4, ES5, ES8, EW-1, EW-16, EW-22, EW...</td>\n",
       "      <td>crispr</td>\n",
       "      <td>affected_pathway</td>\n",
       "      <td>both</td>\n",
       "    </tr>\n",
       "    <tr>\n",
       "      <th>2</th>\n",
       "      <td>ENSG00000111142</td>\n",
       "      <td>EFO_0000174</td>\n",
       "      <td>0.579375</td>\n",
       "      <td>Bone</td>\n",
       "      <td>[CAL-72, ES4, ES5, ES8, EW-1, EW-16, EW-22, EW...</td>\n",
       "      <td>crispr</td>\n",
       "      <td>affected_pathway</td>\n",
       "      <td>right_only</td>\n",
       "    </tr>\n",
       "    <tr>\n",
       "      <th>3</th>\n",
       "      <td>ENSG00000152234</td>\n",
       "      <td>EFO_0000174</td>\n",
       "      <td>0.541250</td>\n",
       "      <td>Bone</td>\n",
       "      <td>[CAL-72, ES4, ES5, ES8, EW-1, EW-16, EW-22, EW...</td>\n",
       "      <td>crispr</td>\n",
       "      <td>affected_pathway</td>\n",
       "      <td>right_only</td>\n",
       "    </tr>\n",
       "    <tr>\n",
       "      <th>4</th>\n",
       "      <td>ENSG00000165501</td>\n",
       "      <td>EFO_0000174</td>\n",
       "      <td>0.525000</td>\n",
       "      <td>Bone</td>\n",
       "      <td>[CAL-72, ES4, ES5, ES8, EW-1, EW-16, EW-22, EW...</td>\n",
       "      <td>crispr</td>\n",
       "      <td>affected_pathway</td>\n",
       "      <td>both</td>\n",
       "    </tr>\n",
       "  </tbody>\n",
       "</table>\n",
       "</div>"
      ],
      "text/plain": [
       "  targetFromSourceId diseaseFromSourceMappedId  resourceScore  \\\n",
       "0    ENSG00000110092               EFO_0000174       0.797813   \n",
       "1    ENSG00000130725               EFO_0000174       0.585000   \n",
       "2    ENSG00000111142               EFO_0000174       0.579375   \n",
       "3    ENSG00000152234               EFO_0000174       0.541250   \n",
       "4    ENSG00000165501               EFO_0000174       0.525000   \n",
       "\n",
       "  diseaseFromSource                                   diseaseCellLines  \\\n",
       "0              Bone  [CAL-72, ES4, ES5, ES8, EW-1, EW-16, EW-22, EW...   \n",
       "1              Bone  [CAL-72, ES4, ES5, ES8, EW-1, EW-16, EW-22, EW...   \n",
       "2              Bone  [CAL-72, ES4, ES5, ES8, EW-1, EW-16, EW-22, EW...   \n",
       "3              Bone  [CAL-72, ES4, ES5, ES8, EW-1, EW-16, EW-22, EW...   \n",
       "4              Bone  [CAL-72, ES4, ES5, ES8, EW-1, EW-16, EW-22, EW...   \n",
       "\n",
       "  datasourceId        datatypeId      _merge  \n",
       "0       crispr  affected_pathway  right_only  \n",
       "1       crispr  affected_pathway        both  \n",
       "2       crispr  affected_pathway  right_only  \n",
       "3       crispr  affected_pathway  right_only  \n",
       "4       crispr  affected_pathway        both  "
      ]
     },
     "execution_count": 72,
     "metadata": {},
     "output_type": "execute_result"
    }
   ],
   "source": [
    "import numpy as np\n",
    "annotated_evidence['_merge'] = np.random.choice(['both','left_only','right_only'], size=len(annotated_evidence), replace=True)\n",
    "annotated_evidence.head()"
   ]
  },
  {
   "cell_type": "code",
   "execution_count": 74,
   "metadata": {
    "ExecuteTime": {
     "end_time": "2021-01-24T17:39:28.830406Z",
     "start_time": "2021-01-24T17:39:28.825098Z"
    }
   },
   "outputs": [],
   "source": [
    "annotated_evidence = annotated_evidence[annotated_evidence._merge != 'both']"
   ]
  },
  {
   "cell_type": "code",
   "execution_count": null,
   "metadata": {},
   "outputs": [],
   "source": []
  }
 ],
 "metadata": {
  "kernelspec": {
   "display_name": "Python 3",
   "language": "python",
   "name": "python3"
  },
  "language_info": {
   "codemirror_mode": {
    "name": "ipython",
    "version": 3
   },
   "file_extension": ".py",
   "mimetype": "text/x-python",
   "name": "python",
   "nbconvert_exporter": "python",
   "pygments_lexer": "ipython3",
   "version": "3.6.10"
  }
 },
 "nbformat": 4,
 "nbformat_minor": 4
}
