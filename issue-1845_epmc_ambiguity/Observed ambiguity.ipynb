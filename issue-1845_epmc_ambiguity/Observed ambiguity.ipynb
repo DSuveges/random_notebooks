{
 "cells": [
  {
   "cell_type": "code",
   "execution_count": 1,
   "id": "4e8308cc",
   "metadata": {
    "ExecuteTime": {
     "end_time": "2021-12-03T13:43:44.143100Z",
     "start_time": "2021-12-03T13:43:37.295658Z"
    }
   },
   "outputs": [],
   "source": [
    "from pyspark.sql.functions import (\n",
    "    col, udf, struct, lit, split, regexp_replace, create_map, min as spark_min, max as spark_max,\n",
    "    count, sum as spar_sum\n",
    ")\n",
    "from pyspark.sql.types import FloatType, ArrayType, StructType, StructField\n",
    "from pyspark.sql import SparkSession\n",
    "from pyspark.conf import SparkConf\n",
    "from itertools import chain\n",
    "\n",
    "\n",
    "# for heatmap:\n",
    "import numpy as np\n",
    "import seaborn as sns\n",
    "import matplotlib.pylab as plt\n",
    "\n",
    "# establish spark connection\n",
    "sparkConf = (\n",
    "    SparkConf()\n",
    "    .set('spark.driver.memory', '15g')\n",
    "    .set('spark.executor.memory', '15g')\n",
    "    .set('spark.driver.maxResultSize', '0')\n",
    ")\n",
    "spark = (\n",
    "    SparkSession.builder\n",
    "    .config(conf=sparkConf)\n",
    "    .master('local[*]')\n",
    "    .getOrCreate()\n",
    ")"
   ]
  },
  {
   "cell_type": "code",
   "execution_count": 14,
   "id": "850d9eef",
   "metadata": {
    "ExecuteTime": {
     "end_time": "2021-12-03T15:15:11.199850Z",
     "start_time": "2021-12-03T15:15:11.063274Z"
    }
   },
   "outputs": [],
   "source": [
    "ids = ['ENSG00000176890', 'ENSG00000164458']\n",
    "target_data = '/Users/dsuveges/project_data/target_index/21.11.parquet/'\n",
    "gene_pair = (\n",
    "    spark.read.parquet(target_data)\n",
    "    .filter(\n",
    "        col('id').isin(ids)\n",
    "    )\n",
    "    .select('id', 'approvedSymbol', 'alternativeGenes', 'approvedName',\n",
    "           'synonyms', 'symbolSynonyms', 'nameSynonyms', 'obsoleteSymbols', 'obsoleteNames')\n",
    "    .persist()\n",
    ")"
   ]
  },
  {
   "cell_type": "code",
   "execution_count": 15,
   "id": "ddf9b827",
   "metadata": {
    "ExecuteTime": {
     "end_time": "2021-12-03T15:15:12.521581Z",
     "start_time": "2021-12-03T15:15:12.442988Z"
    },
    "scrolled": false
   },
   "outputs": [
    {
     "name": "stdout",
     "output_type": "stream",
     "text": [
      "-RECORD 0-------------------------------------------------------------------------------------------\n",
      " approvedSymbol  | TYMS                                                                             \n",
      " obsoleteSymbols | [{TS, HGNC}]                                                                     \n",
      " obsoleteNames   | []                                                                               \n",
      "-RECORD 1-------------------------------------------------------------------------------------------\n",
      " approvedSymbol  | TBXT                                                                             \n",
      " obsoleteSymbols | [{T, HGNC}]                                                                      \n",
      " obsoleteNames   | [{T, brachyury homolog (mouse), HGNC}, {T brachyury transcription factor, HGNC}] \n",
      "\n"
     ]
    }
   ],
   "source": [
    "gene_pair.select('approvedSymbol', 'obsoleteSymbols', 'obsoleteNames').show(2, vertical=True, truncate=False)"
   ]
  },
  {
   "cell_type": "markdown",
   "id": "a8975b85",
   "metadata": {},
   "source": [
    "## Conclusion:\n",
    "\n",
    "The labels `TS` identified as target enties were grounded to `TBXT` gene, as that gene as an obsolete name `T`, if the label is assumed to be a name, then it got stemmed eg. the plural form was removed hence `TS` become `T`, then the grounding happened.\n",
    "\n"
   ]
  },
  {
   "cell_type": "code",
   "execution_count": null,
   "id": "abee1c4f",
   "metadata": {},
   "outputs": [],
   "source": []
  }
 ],
 "metadata": {
  "kernelspec": {
   "display_name": "Python 3",
   "language": "python",
   "name": "python3"
  },
  "language_info": {
   "codemirror_mode": {
    "name": "ipython",
    "version": 3
   },
   "file_extension": ".py",
   "mimetype": "text/x-python",
   "name": "python",
   "nbconvert_exporter": "python",
   "pygments_lexer": "ipython3",
   "version": "3.9.5"
  }
 },
 "nbformat": 4,
 "nbformat_minor": 5
}
