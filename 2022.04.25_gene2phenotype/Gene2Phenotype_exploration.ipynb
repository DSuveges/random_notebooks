{
 "cells": [
  {
   "cell_type": "markdown",
   "id": "e761b3e1",
   "metadata": {},
   "source": [
    "# Gene2Phenotype evidence drop\n",
    "\n",
    "- We see a large number of missing evidence in the Gene2Phenotype dataset. \n",
    "- It seems the drop happens in the ETL. \n",
    "- When taking a closer look we are dropping evidence due to `null` score evidence. \n",
    "- These were failing because the ETL configuration could not handle confidence values that are no longer supported. \n",
    "- It has been identified that the old confidence values were coming in from old files downloaded from ftp. \n",
    "- The files downloaded from http were good.\n",
    "\n",
    "**Actions:**\n",
    "\n",
    "1. Update evidence based on files fetched from http.\n",
    "2. Let Backend team know about the issue and the possibility of new ETL run.\n",
    "2. Update configuration of the evidence datasource parsers.\n",
    "\n",
    "## As of 2022.04.25\n",
    "\n",
    "* This issue is fixed now. ->  we have verified the distribution of the clinical significances.\n",
    "* "
   ]
  },
  {
   "cell_type": "code",
   "execution_count": 7,
   "id": "311e31c0",
   "metadata": {
    "ExecuteTime": {
     "end_time": "2022-04-25T14:30:07.509837Z",
     "start_time": "2022-04-25T14:27:59.876896Z"
    }
   },
   "outputs": [
    {
     "name": "stdout",
     "output_type": "stream",
     "text": [
      "360 -rw-r--r--  1 dsuveges  384566875  184217 25 Apr 15:28 gene2phenotype-2022-01-25.json.gz\n",
      "392 -rw-r--r--  1 dsuveges  384566875  197986 25 Apr 15:28 gene2phenotype-2022-04-11.json.gz\n"
     ]
    }
   ],
   "source": [
    "%%bash\n",
    "\n",
    "TARGET='/Users/dsuveges/project_data/gene2phenotype'\n",
    "\n",
    "mkdir -p ${TARGET}/22.02\n",
    "mkdir -p ${TARGET}/22.04\n",
    "\n",
    "# Fetching old data:\n",
    "gsutil cp -r gs://open-targets-pre-data-releases/22.04/input/evidence-files/gene2phenotype-2022-04-11.json.gz ${TARGET}  2> /dev/null\n",
    "\n",
    "# Fetching new data:\n",
    "gsutil cp -r gs://open-targets-data-releases/22.02/input/evidence-files/gene2phenotype-2022-01-25.json.gz ${TARGET} 2> /dev/null\n",
    "\n",
    "# Fetching pre-release post-pipeline:\n",
    "gsutil cp -r gs://open-targets-pre-data-releases/22.04/output/etl/parquet/evidence/sourceId=gene2phenotype \\\n",
    "    ${TARGET}/22.04 2> /dev/null\n",
    "\n",
    "gsutil cp -r gs://open-targets-data-releases/22.02/output/etl/parquet/evidence/sourceId=gene2phenotype \\\n",
    "    ${TARGET}/22.02 2> /dev/null\n",
    "\n",
    "ls -ls $TARGET | grep gene2"
   ]
  },
  {
   "cell_type": "code",
   "execution_count": 147,
   "id": "565368a5",
   "metadata": {
    "ExecuteTime": {
     "end_time": "2022-04-27T14:35:57.135921Z",
     "start_time": "2022-04-27T14:35:57.130384Z"
    }
   },
   "outputs": [],
   "source": [
    "import json\n",
    "from json import JSONDecodeError\n",
    "\n",
    "import requests\n",
    "from functools import reduce\n",
    "import pandas as pd\n",
    "from pyspark.sql.functions import (\n",
    "    col, udf, struct, lit, split, expr, collect_set, struct, \n",
    "    regexp_replace, min as pyspark_min, explode, when,array_except,\n",
    "    array_contains, count, first, element_at, size, sum as pyspark_sum\n",
    ")\n",
    "from pyspark.sql.types import FloatType, ArrayType, StructType, TimestampType, StructField, BooleanType, StringType, IntegerType\n",
    "from pyspark.sql import SparkSession\n",
    "from collections import defaultdict\n",
    "\n",
    "# establish spark connection\n",
    "spark = (\n",
    "    SparkSession.builder\n",
    "    .master('local[*]')\n",
    "    .getOrCreate()\n",
    ")"
   ]
  },
  {
   "cell_type": "code",
   "execution_count": 8,
   "id": "cf29e977",
   "metadata": {
    "ExecuteTime": {
     "end_time": "2022-04-25T14:30:22.745877Z",
     "start_time": "2022-04-25T14:30:22.743256Z"
    }
   },
   "outputs": [],
   "source": [
    "oldFile = '/Users/dsuveges/project_data/gene2phenotype/gene2phenotype-2022-01-25.json.gz'\n",
    "newFile = '/Users/dsuveges/project_data/gene2phenotype/gene2phenotype-2022-04-11.json.gz'"
   ]
  },
  {
   "cell_type": "code",
   "execution_count": 9,
   "id": "84359970",
   "metadata": {
    "ExecuteTime": {
     "end_time": "2022-04-25T14:30:23.724525Z",
     "start_time": "2022-04-25T14:30:23.093154Z"
    }
   },
   "outputs": [
    {
     "name": "stdout",
     "output_type": "stream",
     "text": [
      "New evidence count: 4427\n",
      "Old evidence count: 4449\n"
     ]
    }
   ],
   "source": [
    "old = spark.read.json(oldFile).persist()\n",
    "new = spark.read.json(newFile).persist()\n",
    "\n",
    "print(f'New evidence count: {new.count()}')\n",
    "print(f'Old evidence count: {old.count()}')"
   ]
  },
  {
   "cell_type": "code",
   "execution_count": 10,
   "id": "1e4b7cad",
   "metadata": {
    "ExecuteTime": {
     "end_time": "2022-04-25T14:30:32.214826Z",
     "start_time": "2022-04-25T14:30:32.209688Z"
    }
   },
   "outputs": [
    {
     "name": "stdout",
     "output_type": "stream",
     "text": [
      "root\n",
      " |-- allelicRequirements: array (nullable = true)\n",
      " |    |-- element: string (containsNull = true)\n",
      " |-- confidence: string (nullable = true)\n",
      " |-- datasourceId: string (nullable = true)\n",
      " |-- datatypeId: string (nullable = true)\n",
      " |-- diseaseFromSource: string (nullable = true)\n",
      " |-- diseaseFromSourceId: string (nullable = true)\n",
      " |-- diseaseFromSourceMappedId: string (nullable = true)\n",
      " |-- literature: array (nullable = true)\n",
      " |    |-- element: string (containsNull = true)\n",
      " |-- studyId: string (nullable = true)\n",
      " |-- targetFromSourceId: string (nullable = true)\n",
      " |-- variantFunctionalConsequenceId: string (nullable = true)\n",
      "\n"
     ]
    }
   ],
   "source": [
    "new.printSchema()"
   ]
  },
  {
   "cell_type": "code",
   "execution_count": 15,
   "id": "fc654ffa",
   "metadata": {
    "ExecuteTime": {
     "end_time": "2022-04-25T14:35:09.439934Z",
     "start_time": "2022-04-25T14:35:08.668298Z"
    }
   },
   "outputs": [
    {
     "name": "stdout",
     "output_type": "stream",
     "text": [
      "+--------------+----+----+\n",
      "|    confidence| old| new|\n",
      "+--------------+----+----+\n",
      "|    definitive|2956|1736|\n",
      "|both RD and IF| 138| 121|\n",
      "|      moderate|   2|null|\n",
      "|      possible|null| 129|\n",
      "|        strong| 869| 696|\n",
      "|      probable|null| 166|\n",
      "|       limited| 484| 354|\n",
      "|     confirmed|null|1208|\n",
      "|      child IF|null|  17|\n",
      "+--------------+----+----+\n",
      "\n"
     ]
    }
   ],
   "source": [
    "x = (\n",
    "    new.groupBy('confidence')\n",
    "    .count()\n",
    "    .withColumnRenamed('count', 'new')\n",
    ")\n",
    "\n",
    "y = (\n",
    "    old.groupBy('confidence')\n",
    "    .count()\n",
    "    .withColumnRenamed('count', 'old')\n",
    ")\n",
    "\n",
    "y.join(x, on='confidence', how='outer').show()"
   ]
  },
  {
   "cell_type": "code",
   "execution_count": 24,
   "id": "a6ff399d",
   "metadata": {
    "ExecuteTime": {
     "end_time": "2022-04-25T15:22:00.507364Z",
     "start_time": "2022-04-25T15:22:00.221847Z"
    }
   },
   "outputs": [
    {
     "name": "stdout",
     "output_type": "stream",
     "text": [
      "+-------+-----+\n",
      "|studyId|count|\n",
      "+-------+-----+\n",
      "|   Skin|  446|\n",
      "|     DD| 1749|\n",
      "| Cancer|  111|\n",
      "|    Eye|  650|\n",
      "+-------+-----+\n",
      "\n"
     ]
    }
   ],
   "source": [
    "(\n",
    "    old.filter(col('confidence') =='definitive')\n",
    "    .groupby('studyId')\n",
    "    .count()\n",
    "    .show()\n",
    ")"
   ]
  },
  {
   "cell_type": "code",
   "execution_count": 25,
   "id": "7a5e0e3f",
   "metadata": {
    "ExecuteTime": {
     "end_time": "2022-04-25T15:28:03.416351Z",
     "start_time": "2022-04-25T15:28:03.406057Z"
    }
   },
   "outputs": [
    {
     "ename": "TypeError",
     "evalue": "'float' object is not iterable",
     "output_type": "error",
     "traceback": [
      "\u001b[0;31m---------------------------------------------------------------------------\u001b[0m",
      "\u001b[0;31mTypeError\u001b[0m                                 Traceback (most recent call last)",
      "\u001b[0;32m<ipython-input-25-c403cecb7dc9>\u001b[0m in \u001b[0;36m<module>\u001b[0;34m\u001b[0m\n\u001b[0;32m----> 1\u001b[0;31m map(\n\u001b[0m\u001b[1;32m      2\u001b[0m   \u001b[0;34m'definitive'\u001b[0m\u001b[0;34m,\u001b[0m \u001b[0;36m1.0\u001b[0m\u001b[0;34m,\u001b[0m\u001b[0;34m\u001b[0m\u001b[0;34m\u001b[0m\u001b[0m\n\u001b[1;32m      3\u001b[0m   \u001b[0;34m'both RD and IF'\u001b[0m\u001b[0;34m,\u001b[0m \u001b[0;36m1.0\u001b[0m\u001b[0;34m,\u001b[0m\u001b[0;34m\u001b[0m\u001b[0;34m\u001b[0m\u001b[0m\n\u001b[1;32m      4\u001b[0m   \u001b[0;34m'strong'\u001b[0m\u001b[0;34m,\u001b[0m \u001b[0;36m1.0\u001b[0m\u001b[0;34m,\u001b[0m\u001b[0;34m\u001b[0m\u001b[0;34m\u001b[0m\u001b[0m\n\u001b[1;32m      5\u001b[0m   \u001b[0;34m'moderate'\u001b[0m\u001b[0;34m,\u001b[0m \u001b[0;36m0.5\u001b[0m\u001b[0;34m,\u001b[0m\u001b[0;34m\u001b[0m\u001b[0;34m\u001b[0m\u001b[0m\n",
      "\u001b[0;31mTypeError\u001b[0m: 'float' object is not iterable"
     ]
    }
   ],
   "source": [
    "        map(\n",
    "          'definitive', 1.0,\n",
    "          'both RD and IF', 1.0,\n",
    "          'strong', 1.0,\n",
    "          'moderate', 0.5,\n",
    "          'limited', 0.01\n",
    "        ),"
   ]
  },
  {
   "cell_type": "code",
   "execution_count": 32,
   "id": "96d0a914",
   "metadata": {
    "ExecuteTime": {
     "end_time": "2022-04-25T15:30:16.446833Z",
     "start_time": "2022-04-25T15:30:16.292189Z"
    }
   },
   "outputs": [
    {
     "data": {
      "text/plain": [
       "array(['strong', 'definitive', 'limited', 'both RD and IF', 'child IF'],\n",
       "      dtype=object)"
      ]
     },
     "execution_count": 32,
     "metadata": {},
     "output_type": "execute_result"
    }
   ],
   "source": [
    "import pandas as pd\n",
    "\n",
    "df = pd.read_csv('http://ftp.ebi.ac.uk/pub/databases/gene2phenotype/DD/DDG2P_1_12_2021.csv.gz', sep=',')\n",
    "\n",
    "df['confidence category'].unique()\n"
   ]
  },
  {
   "cell_type": "code",
   "execution_count": 48,
   "id": "c6900ebf",
   "metadata": {
    "ExecuteTime": {
     "end_time": "2022-04-25T20:19:49.349999Z",
     "start_time": "2022-04-25T20:19:49.339176Z"
    }
   },
   "outputs": [
    {
     "name": "stdout",
     "output_type": "stream",
     "text": [
      "53\n"
     ]
    },
    {
     "data": {
      "text/plain": [
       "array(['2022-04-25 12:45:20', '2022-04-25 12:45:21',\n",
       "       '2022-04-25 12:45:22', '2022-04-25 12:45:23'], dtype=object)"
      ]
     },
     "execution_count": 48,
     "metadata": {},
     "output_type": "execute_result"
    }
   ],
   "source": [
    "df = pd.read_csv('~/project_data/gene2phenotype/sourceFiles/CardiacG2P-2022-04-25.csv.gz')\n",
    "print(len(df))\n",
    "df['gene disease pair entry date'].unique()"
   ]
  },
  {
   "cell_type": "code",
   "execution_count": 40,
   "id": "066f6cc8",
   "metadata": {
    "ExecuteTime": {
     "end_time": "2022-04-25T16:06:45.055167Z",
     "start_time": "2022-04-25T16:06:42.743388Z"
    }
   },
   "outputs": [
    {
     "name": "stdout",
     "output_type": "stream",
     "text": [
      "total 744\n",
      "drwxr-xr-x  7 dsuveges  EBI\\Domain Users   224B 25 Apr 17:06 .\n",
      "drwxr-xr-x  7 dsuveges  EBI\\Domain Users   224B 25 Apr 17:03 ..\n",
      "-rw-r--r--  1 dsuveges  EBI\\Domain Users   8.8K 25 Apr 17:06 CancerG2P.csv.gz\n",
      "-rw-r--r--  1 dsuveges  EBI\\Domain Users   4.4K 25 Apr 17:06 CardiacG2P.csv.gz\n",
      "-rw-r--r--  1 dsuveges  EBI\\Domain Users   222K 25 Apr 17:06 DDG2P.csv.gz\n",
      "-rw-r--r--  1 dsuveges  EBI\\Domain Users    71K 25 Apr 17:06 EyeG2P.csv.gz\n",
      "-rw-r--r--  1 dsuveges  EBI\\Domain Users    53K 25 Apr 17:06 SkinG2P.csv.gz\n"
     ]
    }
   ],
   "source": [
    "%%bash \n",
    "\n",
    "# Fetching files:\n",
    "files=(\n",
    "    https://www.ebi.ac.uk/gene2phenotype/downloads/CancerG2P.csv.gz\n",
    "    https://www.ebi.ac.uk/gene2phenotype/downloads/CardiacG2P.csv.gz\n",
    "    https://www.ebi.ac.uk/gene2phenotype/downloads/DDG2P.csv.gz\n",
    "    https://www.ebi.ac.uk/gene2phenotype/downloads/EyeG2P.csv.gz\n",
    "    https://www.ebi.ac.uk/gene2phenotype/downloads/SkinG2P.csv.gz\n",
    ")\n",
    "\n",
    "# Folder to download file into:\n",
    "TARGET='/Users/dsuveges/project_data/gene2phenotype/sourceFiles'\n",
    "mkdir -p $TARGET\n",
    "\n",
    "for f in ${files[@]}; do\n",
    "    wget -q $f -P $TARGET\n",
    "done\n",
    "\n",
    "ls -lah $TARGET"
   ]
  },
  {
   "cell_type": "code",
   "execution_count": 42,
   "id": "99f5ee62",
   "metadata": {
    "ExecuteTime": {
     "end_time": "2022-04-25T17:02:21.828771Z",
     "start_time": "2022-04-25T17:02:21.757726Z"
    }
   },
   "outputs": [
    {
     "name": "stdout",
     "output_type": "stream",
     "text": [
      "/Users/dsuveges/project_data/gene2phenotype/sourceFiles/CancerG2P.csv.gz\n",
      "\"gene symbol\",\"gene mim\",\"disease name\",\"disease mim\",\"confidence category\",\"allelic requirement\",\"mutation consequence\",phenotypes,\"organ specificity list\",pmids,panel,\"prev symbols\",\"hgnc id\",\"gene disease pair entry date\",\"cross cutting modifier\",\"mutation consequence flag\",\"confidence value flag\",comments,\"variant consequence\",\"disease ontology\"\r\n",
      "/Users/dsuveges/project_data/gene2phenotype/sourceFiles/CardiacG2P.csv.gz\n",
      "\"gene symbol\",\"gene mim\",\"disease name\",\"disease mim\",\"confidence category\",\"allelic requirement\",\"mutation consequence\",phenotypes,\"organ specificity list\",pmids,panel,\"prev symbols\",\"hgnc id\",\"gene disease pair entry date\",\"cross cutting modifier\",\"mutation consequence flag\",\"confidence value flag\",comments,\"variant consequence\",\"disease ontology\"\r\n",
      "/Users/dsuveges/project_data/gene2phenotype/sourceFiles/DDG2P.csv.gz\n",
      "\"gene symbol\",\"gene mim\",\"disease name\",\"disease mim\",\"confidence category\",\"allelic requirement\",\"mutation consequence\",phenotypes,\"organ specificity list\",pmids,panel,\"prev symbols\",\"hgnc id\",\"gene disease pair entry date\",\"cross cutting modifier\",\"mutation consequence flag\",\"confidence value flag\",comments,\"variant consequence\",\"disease ontology\"\r\n",
      "/Users/dsuveges/project_data/gene2phenotype/sourceFiles/EyeG2P.csv.gz\n",
      "\"gene symbol\",\"gene mim\",\"disease name\",\"disease mim\",\"confidence category\",\"allelic requirement\",\"mutation consequence\",phenotypes,\"organ specificity list\",pmids,panel,\"prev symbols\",\"hgnc id\",\"gene disease pair entry date\",\"cross cutting modifier\",\"mutation consequence flag\",\"confidence value flag\",comments,\"variant consequence\",\"disease ontology\"\r\n",
      "/Users/dsuveges/project_data/gene2phenotype/sourceFiles/SkinG2P.csv.gz\n",
      "\"gene symbol\",\"gene mim\",\"disease name\",\"disease mim\",\"confidence category\",\"allelic requirement\",\"mutation consequence\",phenotypes,\"organ specificity list\",pmids,panel,\"prev symbols\",\"hgnc id\",\"gene disease pair entry date\",\"cross cutting modifier\",\"mutation consequence flag\",\"confidence value flag\",comments,\"variant consequence\",\"disease ontology\"\r\n"
     ]
    }
   ],
   "source": [
    "%%bash\n",
    "\n",
    "TARGET='/Users/dsuveges/project_data/gene2phenotype/sourceFiles'\n",
    "\n",
    "for f in ${TARGET}/*gz; do\n",
    "    echo $f;\n",
    "    gzcat $f | head -n1 \n",
    "done"
   ]
  },
  {
   "cell_type": "code",
   "execution_count": 43,
   "id": "32091757",
   "metadata": {
    "ExecuteTime": {
     "end_time": "2022-04-25T18:05:26.657117Z",
     "start_time": "2022-04-25T18:05:25.881331Z"
    }
   },
   "outputs": [
    {
     "name": "stdout",
     "output_type": "stream",
     "text": [
      "+--------------+-----+\n",
      "|    confidence|count|\n",
      "+--------------+-----+\n",
      "|    definitive| 3815|\n",
      "|both RD and IF|  162|\n",
      "|      moderate|   11|\n",
      "|        strong|  999|\n",
      "|       limited|  590|\n",
      "+--------------+-----+\n",
      "\n"
     ]
    }
   ],
   "source": [
    "(\n",
    "    spark.read.json('/Users/dsuveges/repositories/evidence_datasource_parsers/gene2phenotype-2022-04-25.json.gz')\n",
    "    .groupBy('confidence')\n",
    "    .count()\n",
    "    .show()\n",
    ")"
   ]
  },
  {
   "cell_type": "code",
   "execution_count": 44,
   "id": "7e2adadb",
   "metadata": {
    "ExecuteTime": {
     "end_time": "2022-04-25T18:22:18.051404Z",
     "start_time": "2022-04-25T18:22:17.826101Z"
    }
   },
   "outputs": [
    {
     "data": {
      "text/plain": [
       "5577"
      ]
     },
     "execution_count": 44,
     "metadata": {},
     "output_type": "execute_result"
    }
   ],
   "source": [
    "(\n",
    "    spark.read.json('/Users/dsuveges/repositories/evidence_datasource_parsers/gene2phenotype-2022-04-25.json.gz')\n",
    "    .count()\n",
    ")"
   ]
  },
  {
   "cell_type": "code",
   "execution_count": 55,
   "id": "7f8f6f02",
   "metadata": {
    "ExecuteTime": {
     "end_time": "2022-04-26T16:05:39.267947Z",
     "start_time": "2022-04-26T16:05:38.070363Z"
    }
   },
   "outputs": [
    {
     "name": "stdout",
     "output_type": "stream",
     "text": [
      "Evidence count: 53\n",
      "Association count: 46\n",
      "Target count: 39\n",
      "Disease count: 1\n"
     ]
    }
   ],
   "source": [
    "new_cardiac = (\n",
    "    spark.read.json('/Users/dsuveges/repositories/evidence_datasource_parsers/gene2phenotype-2022-04-25.json.gz')\n",
    "    .filter(col('studyId') == 'Cardiac')\n",
    "    .persist()\n",
    ")\n",
    "\n",
    "assoc_cnt = (\n",
    "    new_cardiac\n",
    "    .select('diseaseFromSource', 'diseaseFromSourceMappedId', 'targetFromSourceId')\n",
    "    .distinct()\n",
    "    .count()\n",
    ")\n",
    "\n",
    "print(f'Evidence count: {new_cardiac.count()}')\n",
    "print(f'Association count: {assoc_cnt}')\n",
    "print(f'Target count: {new_cardiac.select(\"targetFromSourceId\").distinct().count()}')\n",
    "print(f'Disease count: {new_cardiac.select(\"diseaseFromSourceMappedId\").distinct().count()}')"
   ]
  },
  {
   "cell_type": "code",
   "execution_count": 57,
   "id": "948eaf7a",
   "metadata": {
    "ExecuteTime": {
     "end_time": "2022-04-26T16:08:00.985603Z",
     "start_time": "2022-04-26T16:08:00.674529Z"
    }
   },
   "outputs": [
    {
     "name": "stdout",
     "output_type": "stream",
     "text": [
      "+-------------------------+\n",
      "|diseaseFromSourceMappedId|\n",
      "+-------------------------+\n",
      "|                     null|\n",
      "+-------------------------+\n",
      "\n"
     ]
    }
   ],
   "source": [
    "new_cardiac.select(\"diseaseFromSourceMappedId\").distinct().show()"
   ]
  },
  {
   "cell_type": "code",
   "execution_count": 77,
   "id": "17efb126",
   "metadata": {
    "ExecuteTime": {
     "end_time": "2022-04-27T08:12:57.958433Z",
     "start_time": "2022-04-27T08:12:57.815409Z"
    }
   },
   "outputs": [
    {
     "name": "stdout",
     "output_type": "stream",
     "text": [
      "+-----------------------------------------------------+\n",
      "|diseaseFromSource                                    |\n",
      "+-----------------------------------------------------+\n",
      "|CALM1-related CPVT                                   |\n",
      "|SLC22A5-related primary systemic carnitine deficiency|\n",
      "|JUP-related Naxos disease                            |\n",
      "|PKP2-related  ARVC                                   |\n",
      "|DSC2-related ARVC                                    |\n",
      "|DSC2-related ARVC                                    |\n",
      "|DSG2-related ARVC                                    |\n",
      "|DSG2-related ARVC                                    |\n",
      "|MYH7-related DCM                                     |\n",
      "|SLC4A3-related SQTS                                  |\n",
      "|TPM1-related HCM                                     |\n",
      "|DSP-related ARVC                                     |\n",
      "|DSP-related ARVC                                     |\n",
      "|CASQ2-related CPVT                                   |\n",
      "|CASQ2-related CPVT                                   |\n",
      "|TERCL-related CPVT                                   |\n",
      "|DES-related DCM                                      |\n",
      "|DES-related Myofibrillar myopathy                    |\n",
      "|DES-related Myofibrillar myopathy                    |\n",
      "|PRKAG2-related cardiomyopathy                        |\n",
      "|FHL1-related Emery-related Dreifuss MD               |\n",
      "|TRDN-related CPVT                                    |\n",
      "|KCNQ1-related SQTS                                   |\n",
      "|LMNA-related DCM                                     |\n",
      "|TMEM43-related  ARVC                                 |\n",
      "|MYBPC3-related HCM                                   |\n",
      "|KCNJ2 relared SQTS                                   |\n",
      "|KCNQ1-related JLNS                                   |\n",
      "|TNNI3-related HCM                                    |\n",
      "|BAG3-related DCM                                     |\n",
      "|KCNH2-related SQTS                                   |\n",
      "|TRDN-related LQTS                                    |\n",
      "|FLNC-related Myofibrillar myopathy                   |\n",
      "|SCN5A-related BrS                                    |\n",
      "|TTN-related DCM                                      |\n",
      "|KCNH2-related LQTS                                   |\n",
      "|GLA-related Fabry disease                            |\n",
      "|TNNC1-related DCM                                    |\n",
      "|CALM2-related CPVT                                   |\n",
      "|KCNQ1-related LQTS                                   |\n",
      "|KCNQ1-related LQTS                                   |\n",
      "|RBM20-related DCM                                    |\n",
      "|FLNC-related DCM                                     |\n",
      "|TNNT2-related DCM                                    |\n",
      "|PLN-related Intrinsic Cardiomyopathy                 |\n",
      "|MYL2-related HCM                                     |\n",
      "|SCN5A-related LQTS                                   |\n",
      "|ACTC1-related HCM                                    |\n",
      "|ALPK3-related HCM                                    |\n",
      "|ALPK3-related HCM                                    |\n",
      "|MYL3-related HCM                                     |\n",
      "|CALM3-related CPVT                                   |\n",
      "|LAMP2-related Danon disease                          |\n",
      "+-----------------------------------------------------+\n",
      "\n"
     ]
    }
   ],
   "source": [
    "new_cardiac.select('diseaseFromSource').show(100, truncate=False)"
   ]
  },
  {
   "cell_type": "code",
   "execution_count": 72,
   "id": "234968ce",
   "metadata": {
    "ExecuteTime": {
     "end_time": "2022-04-26T20:40:52.109406Z",
     "start_time": "2022-04-26T20:40:51.947791Z"
    }
   },
   "outputs": [
    {
     "name": "stdout",
     "output_type": "stream",
     "text": [
      "+--------------------+--------------------+-------------------+-------------------------+------------------+\n",
      "|   diseaseFromSource|                test|diseaseFromSourceId|diseaseFromSourceMappedId|targetFromSourceId|\n",
      "+--------------------+--------------------+-------------------+-------------------------+------------------+\n",
      "|  CALM1-related CPVT|                CPVT|               null|                     null|             CALM1|\n",
      "|SLC22A5-related p...|primary systemic ...|               null|                     null|           SLC22A5|\n",
      "|JUP-related Naxos...|       Naxos disease|               null|                     null|               JUP|\n",
      "|  PKP2-related  ARVC|                ARVC|               null|                     null|              PKP2|\n",
      "|   DSC2-related ARVC|                ARVC|               null|                     null|              DSC2|\n",
      "|   DSC2-related ARVC|                ARVC|               null|                     null|              DSC2|\n",
      "|   DSG2-related ARVC|                ARVC|               null|                     null|              DSG2|\n",
      "|   DSG2-related ARVC|                ARVC|               null|                     null|              DSG2|\n",
      "|    MYH7-related DCM|                 DCM|               null|                     null|              MYH7|\n",
      "| SLC4A3-related SQTS|                SQTS|               null|                     null|            SLC4A3|\n",
      "|    TPM1-related HCM|                 HCM|               null|                     null|              TPM1|\n",
      "|    DSP-related ARVC|                ARVC|               null|                     null|               DSP|\n",
      "|    DSP-related ARVC|                ARVC|               null|                     null|               DSP|\n",
      "|  CASQ2-related CPVT|                CPVT|               null|                     null|             CASQ2|\n",
      "|  CASQ2-related CPVT|                CPVT|               null|                     null|             CASQ2|\n",
      "|  TERCL-related CPVT|                CPVT|               null|                     null|             TECRL|\n",
      "|     DES-related DCM|                 DCM|               null|                     null|               DES|\n",
      "|DES-related Myofi...|Myofibrillar myop...|               null|                     null|               DES|\n",
      "|DES-related Myofi...|Myofibrillar myop...|               null|                     null|               DES|\n",
      "|PRKAG2-related ca...|      cardiomyopathy|               null|                     null|            PRKAG2|\n",
      "+--------------------+--------------------+-------------------+-------------------------+------------------+\n",
      "only showing top 20 rows\n",
      "\n"
     ]
    }
   ],
   "source": [
    "(\n",
    "    spark.read.json('/Users/dsuveges/repositories/evidence_datasource_parsers/gene2phenotype-2022-04-25.json.gz')\n",
    "    .filter(col('studyId') == 'Cardiac')\n",
    "    .withColumn('test', regexp_replace(col('diseaseFromSource'), r'.+-related ', ''))\n",
    "    .select('diseaseFromSource','test', 'diseaseFromSourceId', 'diseaseFromSourceMappedId', 'targetFromSourceId')\n",
    "    .show()\n",
    ")"
   ]
  },
  {
   "cell_type": "code",
   "execution_count": 78,
   "id": "1078573a",
   "metadata": {
    "ExecuteTime": {
     "end_time": "2022-04-27T09:08:29.825181Z",
     "start_time": "2022-04-27T09:08:29.256343Z"
    },
    "scrolled": false
   },
   "outputs": [
    {
     "name": "stdout",
     "output_type": "stream",
     "text": [
      "+------------------------------------------------------------------------------------------------------------------------------+\n",
      "|diseaseFromSource                                                                                                             |\n",
      "+------------------------------------------------------------------------------------------------------------------------------+\n",
      "|Ectodermal dysplasia (dominant)                                                                                               |\n",
      "|TFE3-related intellectual disability with pigmentary mosaicism                                                                |\n",
      "|Ectodermal dysplasia, cleft lip/palate                                                                                        |\n",
      "|KDM4B-related Developmental Disorder                                                                                          |\n",
      "|Marfanoid Habitus and Cognitive Impairment                                                                                    |\n",
      "|CONGENITAL CATARACT, CORNEAL OPACITY, AND DEVELOPMENTAL GLAUCOMA                                                              |\n",
      "|Night blindness, congenital stationary (complete), 1D, autosomal recessive                                                    |\n",
      "|FAMILIAL GIST (GASTRO-INTESTINAL STROMAL TUMOURS)                                                                             |\n",
      "|MIGRAINE, FAMILIAL HEMIPLEGIC, ATP1A2-related                                                                                 |\n",
      "|Xeroderma pigmentosum group G                                                                                                 |\n",
      "|Cataract 47, juvenile, with microcornea                                                                                       |\n",
      "|SRCAP-related Neurodevelopmental Disorder                                                                                     |\n",
      "|Progressive Childhood Encephalopathy and Golgi Dysfunction                                                                    |\n",
      "|Joubert Syndrome with Cranio-facial and Skeletal Defects                                                                      |\n",
      "|Cold induced sweating syndrome                                                                                                |\n",
      "|PPK Naxos (+ woolly hair + ECG abnormalities, NAXOS disease)                                                                  |\n",
      "|MYH7-related DCM                                                                                                              |\n",
      "|TPM1-related HCM                                                                                                              |\n",
      "|Microphthalmia                                                                                                                |\n",
      "|Dyskeratosis congenita, autosomal recessive 4                                                                                 |\n",
      "|Microcephaly Developmental Delay and Brittle Hair and Nails                                                                   |\n",
      "|NARS1 Neurodevelopmental Disorder (biallelic)                                                                                 |\n",
      "|Cataract 39, multiple types, autosomal dominant                                                                               |\n",
      "|Cobblestone Lissencephaly                                                                                                     |\n",
      "|Griscelli Type 3                                                                                                              |\n",
      "|COMMAD syndrome                                                                                                               |\n",
      "|Epileptic Encephalopathy with Optic Atrophy                                                                                   |\n",
      "|Autoimmune lymphoproliferative syndrome type IA                                                                               |\n",
      "|Congenital Lower Urinary Tract Obstruction                                                                                    |\n",
      "|MYL3-related HCM                                                                                                              |\n",
      "|AP1G1-related intellectual disability, biallelic                                                                              |\n",
      "|Severe syndromic form of thoracic aortic aneurysm & dissection                                                                |\n",
      "|UPF1-related developmental disorder (monoallelic)                                                                             |\n",
      "|Progressive neurological disorder and regression of developmental milestones                                                  |\n",
      "|NEURONAL CEROID LIPOFUSCINOSIS                                                                                                |\n",
      "|QRICH1 syndrome                                                                                                               |\n",
      "|HS2ST1-related Developmental Disorder                                                                                         |\n",
      "|TNNT3-associated congenital myopathy (biallelic)                                                                              |\n",
      "|Neonatal/Infancy-Onset Diabetes, Congenital Sensorineural Deafness, and Congenital Cataracts Syndrome                         |\n",
      "|Epileptic Encephalopathy with Contractures, Macrocephaly, and Dyskinesia                                                      |\n",
      "|ADENOMAS, MULTIPLE COLORECTAL                                                                                                 |\n",
      "|KCNMA1-related developmental delay, seizures and cerebellar atrophy                                                           |\n",
      "|NADSYN1-related Congenital NAD Deficiency Disorder                                                                            |\n",
      "|AGNATHIA-OTOCEPHALY COMPLEX biallelic                                                                                         |\n",
      "|Severe obesity with neurobehavioral features                                                                                  |\n",
      "|Otopalatodigital Syndrome                                                                                                     |\n",
      "|MAPK1-related Neurodevelopmental Disorder                                                                                     |\n",
      "|PITT HOPKINS 2                                                                                                                |\n",
      "|CONGENITAL INABILITY TO EXPERIENCE PAIN                                                                                       |\n",
      "|LMNA-related DCM                                                                                                              |\n",
      "|GLRB-related hyperexplexia, monoallelic                                                                                       |\n",
      "|Tooth Agenesis                                                                                                                |\n",
      "|Congenital ichthyosis type 2                                                                                                  |\n",
      "|Microcephaly, hearing loss, and dysmorphic features                                                                           |\n",
      "|ZIMMERMANN-LABAND SYNDROME                                                                                                    |\n",
      "|NEONATAL EPILEPSY SPECTRUM                                                                                                    |\n",
      "|SIAH1-associated neurodevelopmental disorder                                                                                  |\n",
      "|ARHGEF9-related developmental disorder (X-linked dominant)                                                                    |\n",
      "|PROGEROID SYNDROME                                                                                                            |\n",
      "|CNNM2-related neurodevelopmental disorder with hypomagnesemia; autosomal recessive form                                       |\n",
      "|SPOP-related Neurodevelopmental Disorder, dominant negative                                                                   |\n",
      "|MYLPF arthrogryposis (monoallelic)                                                                                            |\n",
      "|Intellectual disability with facial dysmorphism                                                                               |\n",
      "|Isolated ocular coloboma                                                                                                      |\n",
      "|PPK Vorner-Unna-Thost (epidermolytic)                                                                                         |\n",
      "|Brain small vessel disease with or without ocular anomalies                                                                   |\n",
      "|EIF2AK1-associated Neurodevelopmental Syndrome                                                                                |\n",
      "|PERIVENTRICULAR HETEROTOPIA                                                                                                   |\n",
      "|Pyogenic sterile arthritis, pyoderma gangrenosum and acne                                                                     |\n",
      "|DEAFNESS, DYSTONIA, AND CENTRAL HYPOMYELINATION WITH DISORGANIZATION OF THE GOLGI APPARATUS                                   |\n",
      "|Unspecified Neurodevelopmental Disorder                                                                                       |\n",
      "|PIGK-associated Neurodevelopmental Syndrome                                                                                   |\n",
      "|External Ophthalmoplegia, Rib, and Vertebral Anomalies                                                                        |\n",
      "|HK1-related developmental disorder (monoallelic)                                                                              |\n",
      "|KCNQ1-related JLNS                                                                                                            |\n",
      "|BBYSS syndrome                                                                                                                |\n",
      "|Intellectual disability, encephalopathy, impaired GPI-anchor maturation                                                       |\n",
      "|Infantile Epilepsy, Cataracts, and Profound Developmental Delay                                                               |\n",
      "|BREAST CANCER SUSCEPTIBLITY                                                                                                   |\n",
      "|INFANTILE EPILEPTIC ENCEPHALOPATHY                                                                                            |\n",
      "|PRIM1-related Primordial Dwarfism                                                                                             |\n",
      "|COPB1-related severe intellectual disability syndrome with cataracts and variable microcephaly                                |\n",
      "|Weill-Marchesani syndrome 1, recessive                                                                                        |\n",
      "|primary open angle glaucoma (POAG), GLC1E                                                                                     |\n",
      "|Hartnup disease                                                                                                               |\n",
      "|Melanoma-pancreatic cancer syndrome                                                                                           |\n",
      "|Disordered cortical neuronal migration                                                                                        |\n",
      "|NAA20-associated developmental delay and microcephaly                                                                         |\n",
      "|LMNB1-associated developmental disorder                                                                                       |\n",
      "|Kaposi sarcoma                                                                                                                |\n",
      "|DES-related DCM                                                                                                               |\n",
      "|Fibrosis of extraocular muscles, congenital, 3B                                                                               |\n",
      "|TNNT2-related DCM                                                                                                             |\n",
      "|Early Onset Isolated Mitochondrial Complex I Deficiency                                                                       |\n",
      "|Early-Onset Myopathy with Internalized Nuclei and Myofibrillar Disorganization                                                |\n",
      "|MFN2-related developmental disorder                                                                                           |\n",
      "|AUTOSOMAL-RECESSIVE CONE-ROD DYSTROPHY                                                                                        |\n",
      "|MEIS2-related developmental disorder (monoallelic)                                                                            |\n",
      "|15q13.3 deletions phenocopy                                                                                                   |\n",
      "|SHORT-RIB POLYDACTYLY                                                                                                         |\n",
      "|Colobomatous microphthalmia                                                                                                   |\n",
      "|Ichthyosis hystrix, Curth-Macklin type                                                                                        |\n",
      "|TRIM8-related neurodevelopmental disorder                                                                                     |\n",
      "|ZBTB7A-associated developmental disorder                                                                                      |\n",
      "|Autosomal-Dominant Primordial Dwarfism Associated with Meier-Gorlin Syndrome                                                  |\n",
      "|RALGAPA1-related neurodevelopmental disorder                                                                                  |\n",
      "|MYT1L syndrome                                                                                                                |\n",
      "|STAG1 syndromic intellectual disability                                                                                       |\n",
      "|Optic atrophy plus syndrome                                                                                                   |\n",
      "|ZNF407-related Neurodevelopmental Disorder                                                                                    |\n",
      "|MYBPC3-related HCM                                                                                                            |\n",
      "|NDUFB7-associated lactic acidosis and hypertrophic cardiomyopathy                                                             |\n",
      "|HIRA-related neurodevelopmental disorder                                                                                      |\n",
      "|Bloom Syndrome like Disorder                                                                                                  |\n",
      "|Macular corneal dystrophy                                                                                                     |\n",
      "|TERCL-related CPVT                                                                                                            |\n",
      "|COX16-related Developmental Disorder                                                                                          |\n",
      "|Cataract                                                                                                                      |\n",
      "|Mitochondrial recessive ataxia syndrome                                                                                       |\n",
      "|Chronic granulomatous disease AR cytochrome b positive type II                                                                |\n",
      "|CSDE1-associated intellectual disability and autism                                                                           |\n",
      "|Retinitis pigmentosa and hypogammaglobulinemia                                                                                |\n",
      "|Night blindness, congenital stationary (complete), 1E, autosomal recessive                                                    |\n",
      "|Neuropathy, hereditary sensory and autonomic, type III                                                                        |\n",
      "|ACHROMATOPSIA                                                                                                                 |\n",
      "|ADCY5-related developmental disorder (monoallelic)                                                                            |\n",
      "|Intellectual disability with autism spectrum disorder                                                                         |\n",
      "|MEDNIK-like Syndrome                                                                                                          |\n",
      "|SRSF1-related developmental disorder (monoallelic)                                                                            |\n",
      "|PUF60 syndrome                                                                                                                |\n",
      "|Ciliopathy syndrome                                                                                                           |\n",
      "|Dowling-Degos disease                                                                                                         |\n",
      "|Developmental epileptic encephalopathy                                                                                        |\n",
      "|Intellectual disability with ataxia/spasticity                                                                                |\n",
      "|Developmental delay, hypotonia, and autistic features                                                                         |\n",
      "|Duane Syndrome, Aberrant Extraocular Muscle Innervation, and Inner-Ear Defects                                                |\n",
      "|SPRED2-related Noonan syndrome                                                                                                |\n",
      "|PPIL1-related Neurodegenerative Pontocerebellar Hypoplasia with Microcephaly                                                  |\n",
      "|INTELLECTUAL DISABILITY                                                                                                       |\n",
      "|Weaver-like overgrowth syndrome                                                                                               |\n",
      "|CIMDAG Syndrome, biallelic                                                                                                    |\n",
      "|TNRC6B-related neurodevelopmental disorder                                                                                    |\n",
      "|CALM2-related CPVT                                                                                                            |\n",
      "|Infancy-Onset Recurrent Metabolic Crises with Encephalocardiomyopathy                                                         |\n",
      "|Retinitis pigmentosa with or without situs inversus                                                                           |\n",
      "|IPO8-related syndromic thoracic aortic aneurysm                                                                               |\n",
      "|External Ophthalmoplegia Rib and Vertebral Anomalies                                                                          |\n",
      "|Variable Neurodevelopmental Disorder                                                                                          |\n",
      "|Syndromic neutropenia with Shwachman-Diamond-like features                                                                    |\n",
      "|Lissencephaly, Subcortical Heterotopia, and Global Developmental Delay                                                        |\n",
      "|Myotonic dystrophy 2                                                                                                          |\n",
      "|FATAL ENCEPHALOPATHY, LACTIC ACIDOSIS, AND SEVERE MTDNA DEPLETION IN MUSCLE                                                   |\n",
      "|Prader-Willi syndrome                                                                                                         |\n",
      "|X-linked anophthalmia syndrome                                                                                                |\n",
      "|DOMINANT LATE-ONSET FUCHS CORNEAL DYSTROPHY                                                                                   |\n",
      "|DPYSL5-related developmental disorder (monoallelic)                                                                           |\n",
      "|MMP21-associated heterotaxy                                                                                                   |\n",
      "|ARFGEF1-related intellectual disability and epilepsy                                                                          |\n",
      "|RNU12-related CDAGS syndrome                                                                                                  |\n",
      "|MAN2C1-associated neurodevelopmental disorder with cerebral malformations                                                     |\n",
      "|Early-Onset Progressive Encephalopathy with Distal Spinal Muscular Atrophy                                                    |\n",
      "|Global Developmental Delay, Hypotonia, Scoliosis, and Cerebellar Atrophy                                                      |\n",
      "|Multiple malformations of neural tube, ear, genitourinary and gastrointestinal systems                                        |\n",
      "|FGF14-related episodic ataxia                                                                                                 |\n",
      "|Intellectual Disability with or without Epileptic Encephalopathy, activating                                                  |\n",
      "|CIMDAG Syndrome, monoallelic                                                                                                  |\n",
      "|CDK19-associated Intellectual Disability and Epileptic Encephalopathy                                                         |\n",
      "|Oculocutaneous albinism                                                                                                       |\n",
      "|Congenital Disorder of Glycosylation with Defective Fucosylation                                                              |\n",
      "|NCOR1-related developmental disorder                                                                                          |\n",
      "|MSL3 syndrome                                                                                                                 |\n",
      "|ZFHX3-related developmental disorder (monoallelic)                                                                            |\n",
      "|Intellectual Disability                                                                                                       |\n",
      "|Neurodegeneration in Early Childhood                                                                                          |\n",
      "|GNB2-related developmental disorder (monoallelic)                                                                             |\n",
      "|PIDD1-related neurodevelopmental disorder                                                                                     |\n",
      "|TPP2-related immune deficiency, autoimmune disease and intellectual disability                                                |\n",
      "|Intellectual disability and epilepsy                                                                                          |\n",
      "|High hyperopia                                                                                                                |\n",
      "|Autosomal Recessive Wiedemann Rautenstrauch Syndrome                                                                          |\n",
      "|DHRS3 related craniosynostosis                                                                                                |\n",
      "|Gomez-Lopez-Fernandes syndrome                                                                                                |\n",
      "|CHRNA3-related congenital anomalies of the kidney and urinary tract                                                           |\n",
      "|TTC12-related Primary Ciliary Dyskinesia                                                                                      |\n",
      "|Cerebral cavernous malformation 1                                                                                             |\n",
      "|KCNQ1-related LQTS                                                                                                            |\n",
      "|DEAFNESS, AUTOSOMAL RECESSIVE                                                                                                 |\n",
      "|ROSAH syndrome                                                                                                                |\n",
      "|Non-syndromic craniosynostosis                                                                                                |\n",
      "|PPK Vorner-Unna-Thost (non-epidermolytic)                                                                                     |\n",
      "|Classical-like Ehlers Danlos syndrome                                                                                         |\n",
      "|TET3 DNA Demethylation Disorder monoallelic                                                                                   |\n",
      "|Rasopathy with developmental delay, short stature and sparse slow-growing hair                                                |\n",
      "|KCNK3-related developmental disorder (monoallelic)                                                                            |\n",
      "|TCF20 syndrome                                                                                                                |\n",
      "|Mitochondrial Complex III Deficiency, Cardiomyopathy, and Alopecia Totalis                                                    |\n",
      "|Microcephalic primordial dwarfism                                                                                             |\n",
      "|MED12-related Developmental Disorder                                                                                          |\n",
      "|Laryngoonychocutaneous syndrome                                                                                               |\n",
      "|Anterior Segment Dysgenesis                                                                                                   |\n",
      "|Posterior Polymorphous Corneal Dystrophy 4                                                                                    |\n",
      "|PRKAG2-related cardiomyopathy                                                                                                 |\n",
      "|AP1G1-related intellectual disability and epilepsy, monoallelic                                                               |\n",
      "|12P12.5 INTRAGENIC DELETIONS ASSOCIATED WITH INTELLECTUAL DISABILITY                                                          |\n",
      "|OGDH-related mitochondrial disorder                                                                                           |\n",
      "|ZMYM2-related developmental disorder (monoallelic)                                                                            |\n",
      "|HDAC4-related intellectual disability                                                                                         |\n",
      "|SYNDROMIC X-LINKED INTELLECTUAL DISABILITY                                                                                    |\n",
      "|CDC40-related Neurodegenerative Pontocerebellar Hypoplasia with Microcephaly                                                  |\n",
      "|Skin fragility, Woolly Hair                                                                                                   |\n",
      "|SPAST-related developmental disorder (monoallelic)                                                                            |\n",
      "|EHMT1-LIKE INTELLECTUAL DISABILITY                                                                                            |\n",
      "|TOGARAM1-related ciliopathy                                                                                                   |\n",
      "|PGM2L1-related neurodevelopmental disorder                                                                                    |\n",
      "|Gyrate atrophy of choroid and retina with or without ornithinemia                                                             |\n",
      "|NCDN-associated neurodevelopmental disorder with seizures (monoallelic)                                                       |\n",
      "|MED27-related neurodevelopmental disorder                                                                                     |\n",
      "|SCA14                                                                                                                         |\n",
      "|HIST1H4C                                                                                                                      |\n",
      "|MAU2 neurodevelopmental disorder                                                                                              |\n",
      "|Amyloidosis, familial cutaneous (pigmentary disorder, reticulate with systemic manifestations) (monoallelic, loss of function)|\n",
      "|DISTINCT DNA BREAKAGE SYNDROME                                                                                                |\n",
      "|TRIP12-related intellectual disability with/without autism spectrum disorder                                                  |\n",
      "|INFANTILE ENCEPHALOPATHY WITH EPILEPSY AND DYSMORPHIC CORPUS CALLOSUM                                                         |\n",
      "|JUVENILE POLYPOSIS SYNDROME, INFANTILE FORM                                                                                   |\n",
      "|Autosomal Dominant Coloboma                                                                                                   |\n",
      "|XERODERMA PIGMENTOSUM, GROUP G                                                                                                |\n",
      "|Kyphoscoliotic Ehlers Danlos Syndrome                                                                                         |\n",
      "|HYAL2-related syndrome with cleft lip and palate and congenital cardiac anomalies                                             |\n",
      "|Combined immunodeficiency                                                                                                     |\n",
      "|Anterior segment dysgenesis 7, with sclerocornea                                                                              |\n",
      "|Focal epilepsy                                                                                                                |\n",
      "|Noonan syndrome                                                                                                               |\n",
      "|Epidermolysis Bullosa Junctional                                                                                              |\n",
      "|Ichthyosiform erythroderma, bullous                                                                                           |\n",
      "|ATAD3A disorder - global developmental delay, hypotonia, optic atrophy, axonal neuropathy, and hypertrophic cardiomyopathy    |\n",
      "|COPB2-related developmental delay and osteopenia                                                                              |\n",
      "|NCKAP1-related Neurodevelopmental Disorder                                                                                    |\n",
      "|NEURAL TUBE DEFECT                                                                                                            |\n",
      "|Gaze palsy, horizontal, with progressive scoliosis                                                                            |\n",
      "|PCBP2-related developmental disorder (monoallelic)                                                                            |\n",
      "|TRUNCUS ARTERIOSIS                                                                                                            |\n",
      "|SYT2-related congenital onset presynaptic myasthenic syndrome                                                                 |\n",
      "|Developmental and Epileptic Encephalopathy                                                                                    |\n",
      "|Syndromic congenital sodium diarrhea                                                                                          |\n",
      "|Hypertriglycidaemia, familial                                                                                                 |\n",
      "|Syndromic ID with severe microcephaly                                                                                         |\n",
      "|Molybdenum cofactor deficiency B                                                                                              |\n",
      "|COMPLEX CRANIOSYNOSTOSIS                                                                                                      |\n",
      "|Nijmegan breakage syndrome                                                                                                    |\n",
      "|ATP6V0C-related Developmental Disorder                                                                                        |\n",
      "|Megacystis Microcolon Intestinal Hypoperistalsis Syndrome                                                                     |\n",
      "|PBX1-related developmental disorder (monoallelic)                                                                             |\n",
      "| Severe Growth Retardation, Spine Malformations, and Developmental Delays                                                     |\n",
      "|MSL2-related developmental disorder (monoallelic)                                                                             |\n",
      "|Epidermolysis Bullosa Simplex generalised intermediate (Köbner)                                                               |\n",
      "|FLNC-related DCM                                                                                                              |\n",
      "|SUPT16H-related neurodevelopmental disorder                                                                                   |\n",
      "|Hereditary haemorrhagic telangiectasia, juvenile polyposis syndrome                                                           |\n",
      "|Cone dystrophy                                                                                                                |\n",
      "|GNAI1 syndrome                                                                                                                |\n",
      "|Early-Onset Epilepsy                                                                                                          |\n",
      "|Muscular dystrophy-dystroglycanopathy (congenital with brain and eye anomalies), type A, 12                                   |\n",
      "|26708094                                                                                                                      |\n",
      "|Hereditary haemorrhagic telangiectasia                                                                                        |\n",
      "|Chronic granulomatous disease AR cytochrome b negative                                                                        |\n",
      "|DSG2-related ARVC                                                                                                             |\n",
      "|NAPB-related Neurodevelopmental Disorder                                                                                      |\n",
      "|Naegeli syndrome                                                                                                              |\n",
      "|Trichothiodystrophy, non photosensitive                                                                                       |\n",
      "|Kleefstra syndrome                                                                                                            |\n",
      "|RBM20-related DCM                                                                                                             |\n",
      "|Hermansky-Pudlak                                                                                                              |\n",
      "|Primary microcephaly, cortical malformation and epileptic encephalopathy                                                      |\n",
      "|Duane retraction syndrome 3 (monoallelic, dominant negative)                                                                  |\n",
      "|Hereditary motor and sensory neuropathy VIA                                                                                   |\n",
      "|Syndromic Neurodevelopmental Disorder with Distinctive Facial Dysmorphism                                                     |\n",
      "|Syndromic retinitis pigmentosa                                                                                                |\n",
      "|Ectopia lentis, isolated, autosomal recessive                                                                                 |\n",
      "|Hereditary 1,25-dihydroxyvitamin D-resistant rickets                                                                          |\n",
      "|Neurodevelopmental Delay Congenital Heart Defects and Distinct Facial Dysmorphism                                             |\n",
      "|KCNH2-related SQTS                                                                                                            |\n",
      "|KCNH2-related LQTS                                                                                                            |\n",
      "|X-Linked Spondyloepimetaphyseal Dysplasia                                                                                     |\n",
      "|Trichorhinopharangeal syndrome II (Langer-Giedon)                                                                             |\n",
      "|Ehlers-Danlos syndrome, classic type                                                                                          |\n",
      "|MED13 - Neurodevelopment disorder                                                                                             |\n",
      "|GOLGA2-related myopathy, seizures and microcephaly                                                                            |\n",
      "|KLF7-related developmental disorder                                                                                           |\n",
      "|Viral induced severe multiorgan dysfunction associated with impaired mitochondrial fission                                    |\n",
      "|SCAF4-related Neurodevelopmental Disorder                                                                                     |\n",
      "|ZFPM2-associated malformation syndrome                                                                                        |\n",
      "|Pheochromocytoma                                                                                                              |\n",
      "|DNA Repair-Proficient Trichothiodystrophy                                                                                     |\n",
      "|GLYCOSYLATION DISORDER CHARACTERIZED BY INTELLECTUAL DISABILITY AND AUTONOMIC DYSFUNCTION                                     |\n",
      "|HOMEOTIC ARM-TO-LEG TRANSFORMATION ASSOCIATED WITH GENOMIC REARRANGEMENTS AT THE PITX1 LOCUS                                  |\n",
      "|NR4A2-related developmental disorder (monoallelic)                                                                            |\n",
      "|POLR3B-related neurodevelopmental disorder                                                                                    |\n",
      "|FZR1-related intellectual disability and epilepsy                                                                             |\n",
      "|Piebaldism                                                                                                                    |\n",
      "+------------------------------------------------------------------------------------------------------------------------------+\n",
      "only showing top 300 rows\n",
      "\n"
     ]
    }
   ],
   "source": [
    "(\n",
    "    spark.read.json('/Users/dsuveges/repositories/evidence_datasource_parsers/gene2phenotype-2022-04-25.json.gz')\n",
    "    .filter(col('diseaseFromSourceId').isNull())\n",
    "#     .groupby('studyId')    \n",
    "#     .count()\n",
    "    .select('diseaseFromSource')\n",
    "    .distinct()\n",
    "#     .count()\n",
    "    .show(300, truncate=False)\n",
    ")"
   ]
  },
  {
   "cell_type": "code",
   "execution_count": 79,
   "id": "db8e678b",
   "metadata": {
    "ExecuteTime": {
     "end_time": "2022-04-27T09:09:55.668056Z",
     "start_time": "2022-04-27T09:09:55.570271Z"
    }
   },
   "outputs": [],
   "source": [
    "import ontoma\n"
   ]
  },
  {
   "cell_type": "code",
   "execution_count": 112,
   "id": "804b3b37",
   "metadata": {
    "ExecuteTime": {
     "end_time": "2022-04-27T12:56:46.055873Z",
     "start_time": "2022-04-27T12:56:45.664993Z"
    }
   },
   "outputs": [
    {
     "name": "stdout",
     "output_type": "stream",
     "text": [
      "+----------------------------------------------------------------------------------------------------+-------------------+------------------------------------------------------------------------------------------------+------------------------------------------------------------------------------------------------+\n",
      "|diseaseFromSource                                                                                   |diseaseFromSourceId|mapped_new                                                                                      |mapped_old                                                                                      |\n",
      "+----------------------------------------------------------------------------------------------------+-------------------+------------------------------------------------------------------------------------------------+------------------------------------------------------------------------------------------------+\n",
      "|ANTLEY-BIXLER SYNDROME                                                                              |OMIM:207410        |[MONDO_0008803]                                                                                 |[MONDO_0008803]                                                                                 |\n",
      "|CATARACT 4, MULTIPLE TYPES                                                                          |OMIM:115700        |[MONDO_0015300, Orphanet_217052, Orphanet_98989, MONDO_0011060, Orphanet_98990]                 |[MONDO_0015300, Orphanet_217052, Orphanet_98989, MONDO_0011060, Orphanet_98990]                 |\n",
      "|CONGENITAL DISORDER OF GLYCOSYLATION TYPE 1N                                                        |OMIM:612015        |[MONDO_0012783]                                                                                 |[MONDO_0012783]                                                                                 |\n",
      "|CONGENITAL DISORDER OF GLYCOSYLATION, TYPE IId                                                      |OMIM:607091        |[MONDO_0011772, EFO_0005546]                                                                    |[MONDO_0011772, EFO_0005546]                                                                    |\n",
      "|JANSEN METAPHYSEAL CHONDRODYSPLASIA                                                                 |OMIM:156400        |[MONDO_0007982]                                                                                 |[MONDO_0007982]                                                                                 |\n",
      "|LEUKODYSTROPHY, HYPOMYELINATING, 3                                                                  |OMIM:260600        |[MONDO_0017226, Orphanet_280293, MONDO_0009843]                                                 |[MONDO_0017226, Orphanet_280293, MONDO_0009843]                                                 |\n",
      "|Myopathy, mitochondrial progressive, with congenital cataract, hearing loss, and developmental delay|OMIM:613076        |[Orphanet_330054]                                                                               |[Orphanet_330054]                                                                               |\n",
      "|POLYMICROGYRIA ASYMMETRIC                                                                           |OMIM:610031        |[Orphanet_208444, Orphanet_300573, MONDO_0017091, MONDO_0012399, MONDO_0016162, Orphanet_268940]|[Orphanet_208444, Orphanet_300573, MONDO_0017091, MONDO_0012399, MONDO_0016162, Orphanet_268940]|\n",
      "|ALTERNATING HEMIPLEGIA OF CHILDHOOD                                                                 |OMIM:104290        |[MONDO_0016241, Orphanet_2131]                                                                  |[MONDO_0016241, Orphanet_2131]                                                                  |\n",
      "|CATARACT, COPPOCK-LIKE                                                                              |OMIM:604307        |[Orphanet_98984, MONDO_0011060]                                                                 |[Orphanet_98984, MONDO_0011060]                                                                 |\n",
      "|COFFIN SIRIS SYNDROME                                                                               |OMIM:135900        |[MONDO_0015452]                                                                                 |[MONDO_0015452]                                                                                 |\n",
      "|EHLERS-DANLOS SYNDROME PROGEROID TYPE                                                               |OMIM:130070        |[MONDO_0007526]                                                                                 |[MONDO_0007526]                                                                                 |\n",
      "|Ectodermal dysplasia 2, Clouston type                                                               |OMIM:129500        |[MONDO_0007510]                                                                                 |[MONDO_0007510]                                                                                 |\n",
      "|GALACTOSEMIA                                                                                        |OMIM:230400        |[MONDO_0018116, Orphanet_352]                                                                   |[MONDO_0018116, Orphanet_352]                                                                   |\n",
      "|INTELLECTUAL DEVELOPMENTAL DISORDER AUTOSOMAL RECESSIVE TYPE 7                                      |OMIM:611093        |[Orphanet_88616, MONDO_0019502]                                                                 |[Orphanet_88616, MONDO_0019502]                                                                 |\n",
      "|INTELLECTUAL DEVELOPMENTAL DISORDER, AUTOSOMAL RECESSIVE 68                                         |OMIM:618302        |[Orphanet_88616]                                                                                |[Orphanet_88616]                                                                                |\n",
      "|LI-FRAUMENI SYNDROME                                                                                |OMIM:151623        |[MONDO_0018875]                                                                                 |[MONDO_0018875]                                                                                 |\n",
      "|MECONIUM ILEUS                                                                                      |OMIM:614665        |[HP_0004401]                                                                                    |[HP_0004401]                                                                                    |\n",
      "|SPASTIC PARAPLEGIA AUTOSOMAL RECESSIVE TYPE 15                                                      |OMIM:270700        |[Orphanet_100996, MONDO_0010044]                                                                |[Orphanet_100996, MONDO_0010044]                                                                |\n",
      "|SPONDYLOEPIMETAPHYSEAL DYSPLASIA AGGRECAN TYPE                                                      |OMIM:612813        |[Orphanet_171866, MONDO_0013014]                                                                |[Orphanet_171866, MONDO_0013014]                                                                |\n",
      "+----------------------------------------------------------------------------------------------------+-------------------+------------------------------------------------------------------------------------------------+------------------------------------------------------------------------------------------------+\n",
      "only showing top 20 rows\n",
      "\n"
     ]
    }
   ],
   "source": [
    "new_df = (\n",
    "    spark.read.json('/Users/dsuveges/repositories/evidence_datasource_parsers/gene2phenotype-2022-04-27.json.gz')\n",
    "    .select('diseaseFromSource', 'diseaseFromSourceId', 'diseaseFromSourceMappedID')\n",
    "    .filter(col('diseaseFromSourceMappedID').isNotNull())\n",
    "    .groupBy(['diseaseFromSource', 'diseaseFromSourceId'])\n",
    "    .agg(collect_set(col('diseaseFromSourceMappedID')).alias('mapped_new'))\n",
    "    .persist()\n",
    ")\n",
    "\n",
    "old_df = (\n",
    "    spark.read.json('/Users/dsuveges/repositories/evidence_datasource_parsers/gene2phenotype-2022-04-25.json.gz')\n",
    "    .select('diseaseFromSource', 'diseaseFromSourceId', 'diseaseFromSourceMappedID')\n",
    "    .filter(col('diseaseFromSourceMappedID').isNotNull())\n",
    "    .groupBy(['diseaseFromSource', 'diseaseFromSourceId'])\n",
    "    .agg(collect_set(col('diseaseFromSourceMappedID')).alias('mapped_old'))\n",
    "    .persist()\n",
    ")\n",
    "\n"
   ]
  },
  {
   "cell_type": "code",
   "execution_count": 117,
   "id": "a56cf364",
   "metadata": {
    "ExecuteTime": {
     "end_time": "2022-04-27T13:03:53.629357Z",
     "start_time": "2022-04-27T13:03:53.413668Z"
    }
   },
   "outputs": [
    {
     "name": "stdout",
     "output_type": "stream",
     "text": [
      "-RECORD 0-------------------------------------------------------------------------------------------------------------------\n",
      " diseaseFromSource   | ANTLEY-BIXLER SYNDROME                                                                               \n",
      " diseaseFromSourceId | OMIM:207410                                                                                          \n",
      " mapped_new          | [MONDO_0008803]                                                                                      \n",
      " mapped_old          | [MONDO_0008803]                                                                                      \n",
      "-RECORD 1-------------------------------------------------------------------------------------------------------------------\n",
      " diseaseFromSource   | CATARACT 4, MULTIPLE TYPES                                                                           \n",
      " diseaseFromSourceId | OMIM:115700                                                                                          \n",
      " mapped_new          | [MONDO_0015300, Orphanet_217052, Orphanet_98989, MONDO_0011060, Orphanet_98990]                      \n",
      " mapped_old          | [MONDO_0015300, Orphanet_217052, Orphanet_98989, MONDO_0011060, Orphanet_98990]                      \n",
      "-RECORD 2-------------------------------------------------------------------------------------------------------------------\n",
      " diseaseFromSource   | CONGENITAL DISORDER OF GLYCOSYLATION TYPE 1N                                                         \n",
      " diseaseFromSourceId | OMIM:612015                                                                                          \n",
      " mapped_new          | [MONDO_0012783]                                                                                      \n",
      " mapped_old          | [MONDO_0012783]                                                                                      \n",
      "-RECORD 3-------------------------------------------------------------------------------------------------------------------\n",
      " diseaseFromSource   | CONGENITAL DISORDER OF GLYCOSYLATION, TYPE IId                                                       \n",
      " diseaseFromSourceId | OMIM:607091                                                                                          \n",
      " mapped_new          | [MONDO_0011772, EFO_0005546]                                                                         \n",
      " mapped_old          | [MONDO_0011772, EFO_0005546]                                                                         \n",
      "-RECORD 4-------------------------------------------------------------------------------------------------------------------\n",
      " diseaseFromSource   | JANSEN METAPHYSEAL CHONDRODYSPLASIA                                                                  \n",
      " diseaseFromSourceId | OMIM:156400                                                                                          \n",
      " mapped_new          | [MONDO_0007982]                                                                                      \n",
      " mapped_old          | [MONDO_0007982]                                                                                      \n",
      "-RECORD 5-------------------------------------------------------------------------------------------------------------------\n",
      " diseaseFromSource   | LEUKODYSTROPHY, HYPOMYELINATING, 3                                                                   \n",
      " diseaseFromSourceId | OMIM:260600                                                                                          \n",
      " mapped_new          | [MONDO_0017226, Orphanet_280293, MONDO_0009843]                                                      \n",
      " mapped_old          | [MONDO_0017226, Orphanet_280293, MONDO_0009843]                                                      \n",
      "-RECORD 6-------------------------------------------------------------------------------------------------------------------\n",
      " diseaseFromSource   | Myopathy, mitochondrial progressive, with congenital cataract, hearing loss, and developmental delay \n",
      " diseaseFromSourceId | OMIM:613076                                                                                          \n",
      " mapped_new          | [Orphanet_330054]                                                                                    \n",
      " mapped_old          | [Orphanet_330054]                                                                                    \n",
      "-RECORD 7-------------------------------------------------------------------------------------------------------------------\n",
      " diseaseFromSource   | POLYMICROGYRIA ASYMMETRIC                                                                            \n",
      " diseaseFromSourceId | OMIM:610031                                                                                          \n",
      " mapped_new          | [Orphanet_208444, Orphanet_300573, MONDO_0017091, MONDO_0012399, MONDO_0016162, Orphanet_268940]     \n",
      " mapped_old          | [Orphanet_208444, Orphanet_300573, MONDO_0017091, MONDO_0012399, MONDO_0016162, Orphanet_268940]     \n",
      "-RECORD 8-------------------------------------------------------------------------------------------------------------------\n",
      " diseaseFromSource   | ALTERNATING HEMIPLEGIA OF CHILDHOOD                                                                  \n",
      " diseaseFromSourceId | OMIM:104290                                                                                          \n",
      " mapped_new          | [MONDO_0016241, Orphanet_2131]                                                                       \n",
      " mapped_old          | [MONDO_0016241, Orphanet_2131]                                                                       \n",
      "-RECORD 9-------------------------------------------------------------------------------------------------------------------\n",
      " diseaseFromSource   | CATARACT, COPPOCK-LIKE                                                                               \n",
      " diseaseFromSourceId | OMIM:604307                                                                                          \n",
      " mapped_new          | [Orphanet_98984, MONDO_0011060]                                                                      \n",
      " mapped_old          | [Orphanet_98984, MONDO_0011060]                                                                      \n",
      "-RECORD 10------------------------------------------------------------------------------------------------------------------\n",
      " diseaseFromSource   | COFFIN SIRIS SYNDROME                                                                                \n",
      " diseaseFromSourceId | OMIM:135900                                                                                          \n",
      " mapped_new          | [MONDO_0015452]                                                                                      \n",
      " mapped_old          | [MONDO_0015452]                                                                                      \n",
      "-RECORD 11------------------------------------------------------------------------------------------------------------------\n",
      " diseaseFromSource   | EHLERS-DANLOS SYNDROME PROGEROID TYPE                                                                \n",
      " diseaseFromSourceId | OMIM:130070                                                                                          \n",
      " mapped_new          | [MONDO_0007526]                                                                                      \n",
      " mapped_old          | [MONDO_0007526]                                                                                      \n",
      "-RECORD 12------------------------------------------------------------------------------------------------------------------\n",
      " diseaseFromSource   | Ectodermal dysplasia 2, Clouston type                                                                \n",
      " diseaseFromSourceId | OMIM:129500                                                                                          \n",
      " mapped_new          | [MONDO_0007510]                                                                                      \n",
      " mapped_old          | [MONDO_0007510]                                                                                      \n",
      "-RECORD 13------------------------------------------------------------------------------------------------------------------\n",
      " diseaseFromSource   | GALACTOSEMIA                                                                                         \n",
      " diseaseFromSourceId | OMIM:230400                                                                                          \n",
      " mapped_new          | [MONDO_0018116, Orphanet_352]                                                                        \n",
      " mapped_old          | [MONDO_0018116, Orphanet_352]                                                                        \n",
      "-RECORD 14------------------------------------------------------------------------------------------------------------------\n",
      " diseaseFromSource   | INTELLECTUAL DEVELOPMENTAL DISORDER AUTOSOMAL RECESSIVE TYPE 7                                       \n",
      " diseaseFromSourceId | OMIM:611093                                                                                          \n",
      " mapped_new          | [Orphanet_88616, MONDO_0019502]                                                                      \n",
      " mapped_old          | [Orphanet_88616, MONDO_0019502]                                                                      \n",
      "-RECORD 15------------------------------------------------------------------------------------------------------------------\n",
      " diseaseFromSource   | INTELLECTUAL DEVELOPMENTAL DISORDER, AUTOSOMAL RECESSIVE 68                                          \n",
      " diseaseFromSourceId | OMIM:618302                                                                                          \n",
      " mapped_new          | [Orphanet_88616]                                                                                     \n",
      " mapped_old          | [Orphanet_88616]                                                                                     \n",
      "-RECORD 16------------------------------------------------------------------------------------------------------------------\n",
      " diseaseFromSource   | LI-FRAUMENI SYNDROME                                                                                 \n",
      " diseaseFromSourceId | OMIM:151623                                                                                          \n",
      " mapped_new          | [MONDO_0018875]                                                                                      \n",
      " mapped_old          | [MONDO_0018875]                                                                                      \n",
      "-RECORD 17------------------------------------------------------------------------------------------------------------------\n",
      " diseaseFromSource   | MECONIUM ILEUS                                                                                       \n",
      " diseaseFromSourceId | OMIM:614665                                                                                          \n",
      " mapped_new          | [HP_0004401]                                                                                         \n",
      " mapped_old          | [HP_0004401]                                                                                         \n",
      "-RECORD 18------------------------------------------------------------------------------------------------------------------\n",
      " diseaseFromSource   | SPASTIC PARAPLEGIA AUTOSOMAL RECESSIVE TYPE 15                                                       \n",
      " diseaseFromSourceId | OMIM:270700                                                                                          \n",
      " mapped_new          | [Orphanet_100996, MONDO_0010044]                                                                     \n",
      " mapped_old          | [Orphanet_100996, MONDO_0010044]                                                                     \n",
      "-RECORD 19------------------------------------------------------------------------------------------------------------------\n",
      " diseaseFromSource   | SPONDYLOEPIMETAPHYSEAL DYSPLASIA AGGRECAN TYPE                                                       \n",
      " diseaseFromSourceId | OMIM:612813                                                                                          \n",
      " mapped_new          | [Orphanet_171866, MONDO_0013014]                                                                     \n",
      " mapped_old          | [Orphanet_171866, MONDO_0013014]                                                                     \n",
      "only showing top 20 rows\n",
      "\n"
     ]
    }
   ],
   "source": [
    "(\n",
    "    new_df\n",
    "    .join(old_df, on=['diseaseFromSource', 'diseaseFromSourceId'], how='outer')\n",
    "    .filter(col('mapped_new').isNotNull() & col('mapped_old').isNotNull())\n",
    "    .filter(array_except(col('mapped_new'), col('mapped_old')).isNotNull())\n",
    "    .show(truncate=False, vertical=True)\n",
    ")"
   ]
  },
  {
   "cell_type": "code",
   "execution_count": 105,
   "id": "f19360be",
   "metadata": {
    "ExecuteTime": {
     "end_time": "2022-04-27T12:07:07.835555Z",
     "start_time": "2022-04-27T12:07:07.550133Z"
    }
   },
   "outputs": [
    {
     "data": {
      "text/plain": [
       "2157"
      ]
     },
     "execution_count": 105,
     "metadata": {},
     "output_type": "execute_result"
    }
   ],
   "source": [
    "old_df.count()"
   ]
  },
  {
   "cell_type": "code",
   "execution_count": 126,
   "id": "a0229502",
   "metadata": {
    "ExecuteTime": {
     "end_time": "2022-04-27T13:11:22.566823Z",
     "start_time": "2022-04-27T13:11:22.336202Z"
    }
   },
   "outputs": [],
   "source": [
    "diseases = (\n",
    "    spark.read.parquet('/Users/dsuveges/project_data/diseases')\n",
    "    .select(col('id').alias('diseaseFromSourceMappedId'), 'name')\n",
    "    .distinct()\n",
    ")\n",
    "\n",
    "dis_map = (\n",
    "    spark.read.json('/Users/dsuveges/repositories/evidence_datasource_parsers/gene2phenotype-2022-04-27.json.gz')\n",
    "    .select('diseaseFromSource', 'diseaseFromSourceId', 'diseaseFromSourceMappedID')\n",
    "#     .filter(col('diseaseFromSourceMappedID').isNotNull())\n",
    "    .join(diseases, on='diseaseFromSourceMappedId', how='left')\n",
    "    .persist()\n",
    ")"
   ]
  },
  {
   "cell_type": "code",
   "execution_count": 130,
   "id": "c3212f6b",
   "metadata": {
    "ExecuteTime": {
     "end_time": "2022-04-27T13:11:59.642360Z",
     "start_time": "2022-04-27T13:11:59.587653Z"
    }
   },
   "outputs": [
    {
     "data": {
      "text/plain": [
       "3595"
      ]
     },
     "execution_count": 130,
     "metadata": {},
     "output_type": "execute_result"
    }
   ],
   "source": [
    "(\n",
    "    dis_map\n",
    "    .filter(col('name').isNotNull())\n",
    "#     .show()\n",
    "    .count()\n",
    ")"
   ]
  },
  {
   "cell_type": "code",
   "execution_count": 131,
   "id": "87895b97",
   "metadata": {
    "ExecuteTime": {
     "end_time": "2022-04-27T13:12:12.767894Z",
     "start_time": "2022-04-27T13:12:12.723873Z"
    }
   },
   "outputs": [
    {
     "data": {
      "text/plain": [
       "3595"
      ]
     },
     "execution_count": 131,
     "metadata": {},
     "output_type": "execute_result"
    }
   ],
   "source": [
    "(\n",
    "    dis_map\n",
    "    .filter(col('diseaseFromSourceMappedId').isNotNull())\n",
    "#     .show()\n",
    "    .count()\n",
    ")"
   ]
  },
  {
   "cell_type": "code",
   "execution_count": 132,
   "id": "cd919187",
   "metadata": {
    "ExecuteTime": {
     "end_time": "2022-04-27T13:12:18.710223Z",
     "start_time": "2022-04-27T13:12:18.674638Z"
    }
   },
   "outputs": [
    {
     "data": {
      "text/plain": [
       "4585"
      ]
     },
     "execution_count": 132,
     "metadata": {},
     "output_type": "execute_result"
    }
   ],
   "source": [
    "dis_map.count()"
   ]
  },
  {
   "cell_type": "code",
   "execution_count": 173,
   "id": "0fd396db",
   "metadata": {
    "ExecuteTime": {
     "end_time": "2022-04-28T11:26:26.028993Z",
     "start_time": "2022-04-28T11:26:24.582418Z"
    }
   },
   "outputs": [
    {
     "name": "stdout",
     "output_type": "stream",
     "text": [
      "54\n",
      "47\n",
      "+------------------+--------------+--------------------+---------------+\n",
      "|targetFromSourceId|     diseaseId|                name|       targetId|\n",
      "+------------------+--------------+--------------------+---------------+\n",
      "|             TNNI3|   EFO_0000538|hypertrophic card...|ENSG00000129991|\n",
      "|             ALPK3|   EFO_0000538|hypertrophic card...|ENSG00000136383|\n",
      "|             LAMP2|Orphanet_34587|Glycogen storage ...|ENSG00000005893|\n",
      "|               GLA|  Orphanet_324|       Fabry disease|ENSG00000102393|\n",
      "|              BAG3|   EFO_0000407|dilated cardiomyo...|ENSG00000151929|\n",
      "|               PLN| MONDO_0000591|intrinsic cardiom...|ENSG00000198523|\n",
      "|              MYH7|   EFO_0000407|dilated cardiomyo...|ENSG00000092054|\n",
      "|             ACTC1|   EFO_0000538|hypertrophic card...|ENSG00000159251|\n",
      "|             SCN5A|  Orphanet_768|Familial long QT ...|ENSG00000183873|\n",
      "|             LAMP2|   EFO_1001333|Glycogen Storage ...|ENSG00000005893|\n",
      "|             KCNQ1|Orphanet_51083|Familial short QT...|ENSG00000053918|\n",
      "|             CASQ2| Orphanet_3286|Catecholaminergic...|ENSG00000118729|\n",
      "|            TMEM43|  Orphanet_247|Arrhythmogenic ri...|ENSG00000170876|\n",
      "|              TRDN|  Orphanet_768|Familial long QT ...|ENSG00000186439|\n",
      "|             TECRL| Orphanet_3286|Catecholaminergic...|ENSG00000205678|\n",
      "|               JUP|Orphanet_34217|       Naxos disease|ENSG00000173801|\n",
      "|             RBM20|   EFO_0000407|dilated cardiomyo...|ENSG00000203867|\n",
      "|              PKP2|  Orphanet_247|Arrhythmogenic ri...|ENSG00000057294|\n",
      "|             KCNQ1|  Orphanet_768|Familial long QT ...|ENSG00000053918|\n",
      "|              FLNC|   EFO_0000407|dilated cardiomyo...|ENSG00000128591|\n",
      "|              DSC2|  Orphanet_247|Arrhythmogenic ri...|ENSG00000134755|\n",
      "|              MYH7|   EFO_0000538|hypertrophic card...|ENSG00000092054|\n",
      "|             TNNT2|   EFO_0000407|dilated cardiomyo...|ENSG00000118194|\n",
      "|               DSP|  Orphanet_247|Arrhythmogenic ri...|ENSG00000096696|\n",
      "|            MYBPC3|   EFO_0000538|hypertrophic card...|ENSG00000134571|\n",
      "|              LMNA|   EFO_0000407|dilated cardiomyo...|ENSG00000160789|\n",
      "|             KCNH2|Orphanet_51083|Familial short QT...|ENSG00000055118|\n",
      "|             CALM3|  Orphanet_768|Familial long QT ...|ENSG00000160014|\n",
      "|              TRDN| Orphanet_3286|Catecholaminergic...|ENSG00000186439|\n",
      "|            PRKAG2|   EFO_0000318|      cardiomyopathy|ENSG00000106617|\n",
      "|               DES|  Orphanet_593|Myofibrillar myop...|ENSG00000175084|\n",
      "|              DSG2|  Orphanet_247|Arrhythmogenic ri...|ENSG00000046604|\n",
      "|              FLNC|  Orphanet_593|Myofibrillar myop...|ENSG00000128591|\n",
      "|             CALM2|  Orphanet_768|Familial long QT ...|ENSG00000143933|\n",
      "|             TNNC1|   EFO_0000407|dilated cardiomyo...|ENSG00000114854|\n",
      "|             CALM2| Orphanet_3286|Catecholaminergic...|ENSG00000143933|\n",
      "|              TPM1|   EFO_0000538|hypertrophic card...|ENSG00000140416|\n",
      "|           SLC22A5|  Orphanet_158|Systemic primary ...|ENSG00000197375|\n",
      "|              MYL3|   EFO_0000538|hypertrophic card...|ENSG00000160808|\n",
      "|             KCNH2|  Orphanet_768|Familial long QT ...|ENSG00000055118|\n",
      "|            SLC4A3|Orphanet_51083|Familial short QT...|ENSG00000114923|\n",
      "|               TTN|   EFO_0000407|dilated cardiomyo...|ENSG00000155657|\n",
      "|             CALM1| Orphanet_3286|Catecholaminergic...|ENSG00000198668|\n",
      "|              MYL2|   EFO_0000538|hypertrophic card...|ENSG00000111245|\n",
      "|             CALM3| Orphanet_3286|Catecholaminergic...|ENSG00000160014|\n",
      "|               DES|   EFO_0000407|dilated cardiomyo...|ENSG00000175084|\n",
      "|             CALM1|  Orphanet_768|Familial long QT ...|ENSG00000198668|\n",
      "+------------------+--------------+--------------------+---------------+\n",
      "\n"
     ]
    }
   ],
   "source": [
    "g2p = (\n",
    "    spark.read.json('/Users/dsuveges/repositories/evidence_datasource_parsers/gene2phenotype-2022-04-27.json.gz')\n",
    "    .filter((col('studyId') == 'Cardiac') & (col('diseaseFromSourceMappedId').isNotNull()))\n",
    "    .join(diseases, on='diseaseFromSourceMappedId', how='left')\n",
    "     .filter(col('name').isNotNull())\n",
    "     .persist()\n",
    ")\n",
    "\n",
    "print(g2p.count())\n",
    "print(\n",
    "    g2p\n",
    "    .select('diseaseFromSourceMappedId', 'targetFromSourceId')\n",
    "    .distinct()\n",
    "    .count()\n",
    ")\n",
    "\n",
    "targets = (\n",
    "    spark.read.parquet('/Users/dsuveges/project_data/targets')\n",
    "    .select(\n",
    "        col('id').alias('targetId'),\n",
    "        col('approvedSymbol').alias('targetFromSourceId')\n",
    "    )\n",
    "    .distinct()\n",
    ")\n",
    "\n",
    "associations = (\n",
    "    g2p\n",
    "    .select('diseaseFromSourceMappedId', 'targetFromSourceId')\n",
    "    .distinct()\n",
    "    .join(diseases, on='diseaseFromSourceMappedId', how='left')\n",
    "    .join(targets, on='targetFromSourceId', how='left')\n",
    "    .withColumnRenamed('diseaseFromSourceMappedId', 'diseaseId')\n",
    "    .persist()\n",
    ")\n",
    "\n",
    "associations.show(100)"
   ]
  },
  {
   "cell_type": "markdown",
   "id": "891de96d",
   "metadata": {},
   "source": [
    "* Cardiac panel first released on 2022.04.25\n",
    "* Number of evidence: 54 between 47 unique disease/trait associations.\n",
    "* None of the associations are completely new.\n",
    "* All associations were supported by genetic evidence,"
   ]
  },
  {
   "cell_type": "code",
   "execution_count": 183,
   "id": "8f5213ee",
   "metadata": {
    "ExecuteTime": {
     "end_time": "2022-04-28T11:35:02.983688Z",
     "start_time": "2022-04-28T11:35:01.330559Z"
    }
   },
   "outputs": [
    {
     "name": "stdout",
     "output_type": "stream",
     "text": [
      "-RECORD 0---------------------------------------\n",
      " targetId           | ENSG00000128591           \n",
      " diseaseId          | Orphanet_593              \n",
      " targetFromSourceId | FLNC                      \n",
      " name               | Myofibrillar myopathy     \n",
      " datatypeId         | null                      \n",
      " datasourceId       | null                      \n",
      " score              | null                      \n",
      " evidenceCount      | null                      \n",
      "-RECORD 1---------------------------------------\n",
      " targetId           | ENSG00000186439           \n",
      " diseaseId          | Orphanet_768              \n",
      " targetFromSourceId | TRDN                      \n",
      " name               | Familial long QT syndrome \n",
      " datatypeId         | null                      \n",
      " datasourceId       | null                      \n",
      " score              | null                      \n",
      " evidenceCount      | null                      \n",
      "\n"
     ]
    }
   ],
   "source": [
    "all_associations = (\n",
    "    spark.read.parquet('/Users/dsuveges/project_data/associationByDatasourceDirect')\n",
    ")\n",
    "\n",
    "(\n",
    "    associations\n",
    "    .join(all_associations, on=['targetId', 'diseaseId'], how='left')\n",
    "    .filter(col('datatypeId').isNull())\n",
    "    .show(10, False, True)\n",
    ")"
   ]
  },
  {
   "cell_type": "code",
   "execution_count": 170,
   "id": "c47af79b",
   "metadata": {
    "ExecuteTime": {
     "end_time": "2022-04-28T11:23:14.495139Z",
     "start_time": "2022-04-28T11:23:09.469074Z"
    }
   },
   "outputs": [
    {
     "name": "stdout",
     "output_type": "stream",
     "text": [
      "+----------+---------------+--------------------+\n",
      "| diseaseId|       targetId|             sources|\n",
      "+----------+---------------+--------------------+\n",
      "|DOID_10718|ENSG00000113749|[{literature, eur...|\n",
      "|DOID_13406|ENSG00000120937|[{literature, eur...|\n",
      "| DOID_7551|ENSG00000066427|[{literature, eur...|\n",
      "| DOID_7551|ENSG00000095739|[{literature, eur...|\n",
      "| DOID_7551|ENSG00000102755|[{literature, eur...|\n",
      "| DOID_7551|ENSG00000103335|[{literature, eur...|\n",
      "| DOID_7551|ENSG00000106004|[{literature, eur...|\n",
      "| DOID_7551|ENSG00000116132|[{literature, eur...|\n",
      "| DOID_7551|ENSG00000118046|[{literature, eur...|\n",
      "| DOID_7551|ENSG00000121060|[{literature, eur...|\n",
      "| DOID_7551|ENSG00000130770|[{literature, eur...|\n",
      "| DOID_7551|ENSG00000137752|[{literature, eur...|\n",
      "| DOID_7551|ENSG00000147133|[{literature, eur...|\n",
      "| DOID_7551|ENSG00000149806|[{literature, eur...|\n",
      "| DOID_7551|ENSG00000154370|[{literature, eur...|\n",
      "| DOID_7551|ENSG00000158941|[{literature, eur...|\n",
      "| DOID_7551|ENSG00000163629|[{literature, eur...|\n",
      "| DOID_7551|ENSG00000167081|[{literature, eur...|\n",
      "| DOID_7551|ENSG00000169714|[{literature, eur...|\n",
      "| DOID_7551|ENSG00000173267|[{literature, eur...|\n",
      "+----------+---------------+--------------------+\n",
      "only showing top 20 rows\n",
      "\n"
     ]
    }
   ],
   "source": [
    "aggregated_associations = (\n",
    "    spark.read.parquet('/Users/dsuveges/project_data/associationByDatasourceDirect')\n",
    "    .withColumn('sources', struct(col('datatypeId'), col('datasourceId')))\n",
    "    .groupby('diseaseId','targetId')\n",
    "    .agg(collect_set(col('sources')).alias('sources'))\n",
    ")"
   ]
  },
  {
   "cell_type": "code",
   "execution_count": 176,
   "id": "acd6ea70",
   "metadata": {
    "ExecuteTime": {
     "end_time": "2022-04-28T11:29:20.816474Z",
     "start_time": "2022-04-28T11:29:20.293874Z"
    }
   },
   "outputs": [
    {
     "name": "stdout",
     "output_type": "stream",
     "text": [
      "+-------------------+\n",
      "|         datatypeId|\n",
      "+-------------------+\n",
      "|   affected_pathway|\n",
      "|         literature|\n",
      "|     rna_expression|\n",
      "|       animal_model|\n",
      "|   somatic_mutation|\n",
      "|         known_drug|\n",
      "|genetic_association|\n",
      "+-------------------+\n",
      "\n"
     ]
    }
   ],
   "source": [
    "spark.read.parquet('/Users/dsuveges/project_data/associationByDatasourceDirect').select('datatypeId').distinct().show()"
   ]
  },
  {
   "cell_type": "code",
   "execution_count": 184,
   "id": "4861117c",
   "metadata": {
    "ExecuteTime": {
     "end_time": "2022-04-28T11:38:08.608821Z",
     "start_time": "2022-04-28T11:38:08.185491Z"
    }
   },
   "outputs": [
    {
     "name": "stdout",
     "output_type": "stream",
     "text": [
      "-RECORD 0-----------------------------\n",
      " datatypeId    | literature           \n",
      " datasourceId  | europepmc            \n",
      " diseaseId     | Orphanet_768         \n",
      " targetId      | ENSG00000186439      \n",
      " score         | 0.024148362238461615 \n",
      " evidenceCount | 3                    \n",
      "\n"
     ]
    }
   ],
   "source": [
    "(\n",
    "    spark.read.parquet('/Users/dsuveges/project_data/associationByDatasourceDirect')\n",
    "    .filter(\n",
    "        (col('targetId') == 'ENSG00000186439') &\n",
    "        (col('diseaseId') == 'Orphanet_768')\n",
    "    )\n",
    "    .show(100, False, True)\n",
    ")\n"
   ]
  },
  {
   "cell_type": "code",
   "execution_count": null,
   "id": "6828ffb4",
   "metadata": {},
   "outputs": [],
   "source": []
  }
 ],
 "metadata": {
  "kernelspec": {
   "display_name": "Python 3",
   "language": "python",
   "name": "python3"
  },
  "language_info": {
   "codemirror_mode": {
    "name": "ipython",
    "version": 3
   },
   "file_extension": ".py",
   "mimetype": "text/x-python",
   "name": "python",
   "nbconvert_exporter": "python",
   "pygments_lexer": "ipython3",
   "version": "3.9.5"
  }
 },
 "nbformat": 4,
 "nbformat_minor": 5
}
