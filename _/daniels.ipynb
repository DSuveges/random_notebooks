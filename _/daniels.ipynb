{
 "cells": [
  {
   "cell_type": "code",
   "execution_count": 92,
   "id": "0f0282f0",
   "metadata": {
    "ExecuteTime": {
     "end_time": "2022-02-26T19:03:40.399474Z",
     "start_time": "2022-02-26T19:03:40.389743Z"
    }
   },
   "outputs": [],
   "source": [
    "import json\n",
    "from json import JSONDecodeError\n",
    "\n",
    "import requests\n",
    "from functools import reduce\n",
    "import pandas as pd\n",
    "from pyspark.sql.functions import (\n",
    "    col, udf, struct, lit, split, expr, collect_set, struct, \n",
    "    regexp_replace, min as pyspark_min, explode, when,\n",
    "    array_contains, count, first, element_at, size, sum as pyspark_sum\n",
    ")\n",
    "from pyspark.sql.types import FloatType, ArrayType, StructType, StructField, BooleanType, StringType\n",
    "from pyspark.sql import SparkSession\n",
    "from collections import defaultdict\n",
    "\n",
    "# establish spark connection\n",
    "spark = (\n",
    "    SparkSession.builder\n",
    "    .master('local[*]')\n",
    "    .getOrCreate()\n",
    ")\n",
    "\n",
    "def get_structure(pdb_compound_id: str) -> list:\n",
    "    \"\"\"Fetching structure identifiers from PDBkb REST API\n",
    "\n",
    "    Args:\n",
    "        pdb_compound_id: string, a single compound identifier\n",
    "    Returns:\n",
    "        List of PDB structure identifiers where the compound can be found\n",
    "    \"\"\"\n",
    "    url = f'https://www.ebi.ac.uk/pdbe/api/pdb/compound/in_pdb/{pdb_compound_id}'\n",
    "    response = requests.get(url)\n",
    "    try:\n",
    "        data = response.json()\n",
    "        return data[pdb_compound_id]\n",
    "    except JSONDecodeError:\n",
    "        print(f'Failed to return structures to: {pdb_compound_id}')\n",
    "        if len(response.json()) == 0:\n",
    "            return []\n",
    "    except KeyError:\n",
    "        print(f'Empty data was returned for: {pdb_compound_id}')\n",
    "        return []\n",
    "\n",
    "molecule_index = '/Users/dsuveges/project_data/molecule/'\n",
    "unichem_map = '/Users/dsuveges/Downloads/src1src3.txt'\n",
    "chain_map = '/Users/dsuveges/Downloads/pdb_chain_ensembl.csv'\n"
   ]
  },
  {
   "cell_type": "code",
   "execution_count": 90,
   "id": "b68cd42a",
   "metadata": {
    "ExecuteTime": {
     "end_time": "2022-02-26T19:00:07.742220Z",
     "start_time": "2022-02-26T18:52:19.005603Z"
    }
   },
   "outputs": [
    {
     "name": "stdout",
     "output_type": "stream",
     "text": [
      "12594\n",
      "14452\n",
      "Empty data was returned for: 6LG\n",
      "Empty data was returned for: C4C\n",
      "Empty data was returned for: MEG\n",
      "Empty data was returned for: FRR\n",
      "Empty data was returned for: 72Q\n",
      "Empty data was returned for: THZ\n",
      "Empty data was returned for: MXL\n",
      "Empty data was returned for: BTP\n",
      "Empty data was returned for: ECT\n",
      "Empty data was returned for: LIG\n",
      "Empty data was returned for: DB0\n",
      "Empty data was returned for: HSF\n",
      "Empty data was returned for: EMR\n",
      "Empty data was returned for: CXN\n",
      "3657\n",
      "+-------------+-----------------+--------------------+--------------------+---------------+--------------------+\n",
      "|    chembl_id|             name|       linkedTargets|      linkedDiseases|pdb_compound_id|    pdb_structure_id|\n",
      "+-------------+-----------------+--------------------+--------------------+---------------+--------------------+\n",
      "| CHEMBL110458|       MIGALASTAT|{[ENSG00000102393...| {[Orphanet_324], 1}|            DGJ|[3s5y, 3thd, 3tv8...|\n",
      "|CHEMBL1169388|   (S)-Fluoxetine|                null|                null|            SFX|  [3gww, 6s3a, 6t3w]|\n",
      "|CHEMBL1173055|        RUCAPARIB|{[ENSG00000143799...|{[EFO_0000616, MO...|            RPB|  [4bjc, 4rv6, 6vkk]|\n",
      "|CHEMBL1231606|    CHEMBL1231606|                null|                null|            C4F|              [3c4f]|\n",
      "|CHEMBL1232381|    CHEMBL1232381|                null|                null|            DTB|[1dam, 1r30, 3fpa...|\n",
      "|CHEMBL1234354|      PF-04691502|{[ENSG00000145675...|{[EFO_0003869, MO...|            ML9|        [3ml9, 4tv3]|\n",
      "|CHEMBL1236282|    THIAMPHENICOL|                null|                null|            TH8|              [2jkj]|\n",
      "|   CHEMBL1515|      METHIMAZOLE|{[ENSG00000115705...|{[EFO_0000398, EF...|            MMZ|  [2gvc, 5ff1, 5gsn]|\n",
      "|   CHEMBL1560|        CAPTOPRIL|{[ENSG00000159640...|{[EFO_0000616, EF...|            X8Z|[1j37, 2x8z, 3lus...|\n",
      "|  CHEMBL15844|           INDOLE|                null|                null|            IND|[185l, 1eg9, 1l4h...|\n",
      "|  CHEMBL16081|        ACETAMIDE|                null|                null|            ACM|[1grf, 1pea, 1zds...|\n",
      "|   CHEMBL1622|       FOLIC ACID|                null|                null|            FOL|[1cd2, 1dhf, 1drf...|\n",
      "|    CHEMBL176|      BEKANAMYCIN|                null|                null|            9CS|[2qir, 5u1e, 6np5...|\n",
      "|CHEMBL1789941|      RUXOLITINIB|{[ENSG00000096968...|{[EFO_1000710, EF...|            RXT|[4u5j, 6vgl, 6vnk...|\n",
      "|CHEMBL1956285|          DSM-265|                null|                null|            D65|        [4rx0, 5boo]|\n",
      "|CHEMBL2107333|DIMETHYL FUMARATE|{[ENSG00000079999...|{[EFO_0000694, EF...|            EOU|              [6lrz]|\n",
      "| CHEMBL227711|     CHEMBL227711|                null|                null|            UFM|              [1udc]|\n",
      "| CHEMBL260091|         CHIR-090|                null|                null|            C90|[2jt2, 3nzk, 5u39...|\n",
      "| CHEMBL265502|          SURAMIN|{[ENSG00000113578...|{[EFO_0003756, DO...|            SVR|[1y4l, 2h9t, 2nyr...|\n",
      "| CHEMBL280998|         CATECHOL|                null|                null|            CAQ|[1dlt, 1knd, 1xep...|\n",
      "+-------------+-----------------+--------------------+--------------------+---------------+--------------------+\n",
      "only showing top 20 rows\n",
      "\n"
     ]
    }
   ],
   "source": [
    "# Reading and processing the molecule dataframe:\n",
    "molecules_df = (\n",
    "    spark.read.parquet(molecule_index)\n",
    "    .select(col('id').alias('chembl_id'), 'name', 'linkedTargets', 'linkedDiseases')\n",
    ")\n",
    "\n",
    "print(molecules_df.count())\n",
    "\n",
    "# Reading the unichem map:\n",
    "unichem_df = (\n",
    "    spark.read.csv(unichem_map, sep='\\t', header=True)\n",
    "    .withColumnRenamed('From src:\\'1\\'', 'chembl_id')\n",
    "    .withColumnRenamed('To src:\\'3\\'', 'pdb_compound_id')\n",
    ")\n",
    "\n",
    "print(unichem_df.count())\n",
    "\n",
    "# Joined unichem with OT molecules + map compounds to structures:\n",
    "molecules_w_pdb = spark.createDataFrame(\n",
    "    molecules_df\n",
    "    \n",
    "    # Joining dataset with compound identifier:\n",
    "    .join(unichem_df, on='chembl_id', how='inner')\n",
    "    \n",
    "    # Convert dataset to pandas:\n",
    "    .toPandas()\n",
    "    \n",
    "    # Map compound identifiers to structures:\n",
    "    .assign(pdb_structure_id = lambda df: df.pdb_compound_id.apply(get_structure))\n",
    ")\n",
    "\n",
    "print(molecules_w_pdb.count())\n",
    "molecules_w_pdb.show()\n",
    "\n",
    "# Reading file wiht chain map to ensembl gene identifier:\n",
    "pdb_chain_to_gene = (\n",
    "    spark.read.csv(chain_map, sep=',', header=True, comment='#')\n",
    "    .select(\n",
    "        col('PDB').alias('pdb_structure_id'), \n",
    "        col('CHAIN').alias('chain'), col('SP_PRIMARY').alias('uniprot_id'),\n",
    "        col('GENE_ID').alias('ensembl_gene_id')\n",
    "    )\n",
    "    .persist()\n",
    ")"
   ]
  },
  {
   "cell_type": "code",
   "execution_count": 113,
   "id": "e5766a64",
   "metadata": {
    "ExecuteTime": {
     "end_time": "2022-02-26T19:20:48.849020Z",
     "start_time": "2022-02-26T19:20:48.733455Z"
    },
    "scrolled": false
   },
   "outputs": [],
   "source": [
    "annotated_molecules = (\n",
    "    molecules_w_pdb\n",
    "    .withColumn('structure_count', size(col('pdb_structure_id')))\n",
    "    .withColumn('hasTarget', when(col('linkedTargets').isNull(), False).otherwise(True))\n",
    "    .withColumn('hasDisease', when(col('linkedDiseases').isNull(), False).otherwise(True))\n",
    "    .orderBy('structure_count', ascending=False)\n",
    "    .select(\n",
    "        'chembl_id', 'name', 'pdb_compound_id', 'structure_count', 'hasTarget', 'hasDisease',\n",
    "        element_at(col('pdb_structure_id'), 1).alias('example')\n",
    "    )\n",
    "    .persist()\n",
    ")\n",
    "\n",
    "top_100 = (\n",
    "    annotated_molecules\n",
    "    .filter(col('structure_count') >= 100)\n",
    "    .persist()    \n",
    ")"
   ]
  },
  {
   "cell_type": "code",
   "execution_count": 111,
   "id": "6013393b",
   "metadata": {
    "ExecuteTime": {
     "end_time": "2022-02-26T19:16:02.940668Z",
     "start_time": "2022-02-26T19:16:01.981629Z"
    }
   },
   "outputs": [
    {
     "name": "stdout",
     "output_type": "stream",
     "text": [
      "Number of molecules: 129\n",
      "Number of structures: [Row(counts=117548)]\n",
      "Number of molecules without indications: 126\n",
      "Number of molecules without mechanism of action: 126\n"
     ]
    }
   ],
   "source": [
    "print(f'Number of molecules: {top_100.count()}')\n",
    "print(f'Number of structures: {top_100.select(pyspark_sum(col(\"structure_count\")).alias(\"counts\")).take(1)}')\n",
    "print(f'Number of molecules without indications: {top_100.filter(~col(\"hasTarget\")).count()}')\n",
    "print(f'Number of molecules without mechanism of action: {top_100.filter(~col(\"hasDisease\")).count()}')\n"
   ]
  },
  {
   "cell_type": "code",
   "execution_count": 114,
   "id": "74e4663c",
   "metadata": {
    "ExecuteTime": {
     "end_time": "2022-02-26T19:21:00.341634Z",
     "start_time": "2022-02-26T19:20:59.506587Z"
    }
   },
   "outputs": [
    {
     "name": "stdout",
     "output_type": "stream",
     "text": [
      "Number of molecules: 3657\n",
      "Number of structures: [Row(counts=137431)]\n",
      "Number of molecules without indications: 3041\n",
      "Number of molecules without mechanism of action: 3041\n"
     ]
    }
   ],
   "source": [
    "print(f'Number of molecules: {annotated_molecules.count()}')\n",
    "print(f'Number of structures: {annotated_molecules.select(pyspark_sum(col(\"structure_count\")).alias(\"counts\")).take(1)}')\n",
    "print(f'Number of molecules without indications: {annotated_molecules.filter(~col(\"hasTarget\")).count()}')\n",
    "print(f'Number of molecules without mechanism of action: {annotated_molecules.filter(~col(\"hasDisease\")).count()}')\n"
   ]
  },
  {
   "cell_type": "code",
   "execution_count": 115,
   "id": "3006a81e",
   "metadata": {
    "ExecuteTime": {
     "end_time": "2022-02-26T19:38:15.656292Z",
     "start_time": "2022-02-26T19:38:14.435433Z"
    }
   },
   "outputs": [],
   "source": [
    "annotated_molecules.write.json('annotated_molecules.json.gz')"
   ]
  },
  {
   "cell_type": "code",
   "execution_count": 125,
   "id": "65cba7a3",
   "metadata": {
    "ExecuteTime": {
     "end_time": "2022-02-26T21:42:31.144756Z",
     "start_time": "2022-02-26T21:42:30.995885Z"
    }
   },
   "outputs": [
    {
     "name": "stdout",
     "output_type": "stream",
     "text": [
      "+-------------+-----------+---------------+---------------+---------+----------+-------+\n",
      "|    chembl_id|       name|pdb_compound_id|structure_count|hasTarget|hasDisease|example|\n",
      "+-------------+-----------+---------------+---------------+---------+----------+-------+\n",
      "|CHEMBL3353410|OSIMERTINIB|            YY3|             10|     true|      true|   4zau|\n",
      "+-------------+-----------+---------------+---------------+---------+----------+-------+\n",
      "\n"
     ]
    }
   ],
   "source": [
    "(\n",
    "    annotated_molecules\n",
    "    .filter(col('chembl_id') == 'CHEMBL3353410')\n",
    "    .show()\n",
    ")"
   ]
  },
  {
   "cell_type": "code",
   "execution_count": null,
   "id": "6b5050e1",
   "metadata": {},
   "outputs": [],
   "source": []
  }
 ],
 "metadata": {
  "kernelspec": {
   "display_name": "Python 3 (ipykernel)",
   "language": "python",
   "name": "python3"
  },
  "language_info": {
   "codemirror_mode": {
    "name": "ipython",
    "version": 3
   },
   "file_extension": ".py",
   "mimetype": "text/x-python",
   "name": "python",
   "nbconvert_exporter": "python",
   "pygments_lexer": "ipython3",
   "version": "3.9.10"
  }
 },
 "nbformat": 4,
 "nbformat_minor": 5
}
