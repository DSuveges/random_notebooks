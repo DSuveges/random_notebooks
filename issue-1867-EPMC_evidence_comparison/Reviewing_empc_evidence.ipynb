{
 "cells": [
  {
   "cell_type": "markdown",
   "id": "81ea3dfa",
   "metadata": {},
   "source": [
    "# Reviewing new EPMC evidence\n",
    "\n",
    "\n",
    "For more details on the scope of this ticket, see: [#1867](https://github.com/opentargets/platform/issues/1867)\n",
    "\n",
    "\n",
    "## Consequences\n",
    "\n",
    "Counts:\n",
    "\n",
    "```\n",
    "Old data evidence count:    6_461_278\n",
    "Old data target count:         19_942\n",
    "Old data disease count:         8_510\n",
    "Old data association count:   960_047\n",
    "\n",
    "New data evidence count:    8_799_204\n",
    "New data target count:         26_636\n",
    "New data disease count:        10_081\n",
    "New data association count: 8_799_204\n",
    "```\n",
    "\n",
    "\n",
    "### Fetching epmc evidence data from google buckets:\n",
    "\n",
    "```bash\n",
    "TARGET_DIR='/Users/dsuveges/project_data/epmc_evidence'\n",
    "\n",
    "# Fetching old evidence:\n",
    "gsutil cp -r gs://otar000-evidence_input/EPMC/json/epmc-2021-11-08.json.gz  ${TARGET_DIR}\n",
    "\n",
    "# Fetching new evidence:\n",
    "gsutil cp -r gs://ot-snapshots/literature/20210920/new_model/evidence ${TARGET_DIR}/\n",
    "\n",
    "# Renaming the new evidence file:\n",
    "mv ${TARGET_DIR}/evidence ${TARGET_DIR}/epmc_new_evid_2021.10.25.parquet\n",
    "\n",
    "# Fetching old associations:\n",
    "gsutil cp -r gs://open-targets-pre-data-releases/21.11.2/output/etl/parquet/associationByDatasourceDirect ${TARGET_DIR}\n",
    "\n",
    "# Rename:\n",
    "mv ${TARGET_DIR}/associationByDatasourceDirect ${TARGET_DIR}/associations_21.11.2.parquet\n",
    "\n",
    "# Fetching uniprot evidence as positive controls:\n",
    "gsutil cp -r gs://open-targets-data-releases/21.11/input/evidence-files/uniprot-2021-10-11.json.gz ~/project_data\n",
    "```"
   ]
  },
  {
   "cell_type": "code",
   "execution_count": 104,
   "id": "d709111d",
   "metadata": {
    "ExecuteTime": {
     "end_time": "2021-12-08T12:14:45.590651Z",
     "start_time": "2021-12-08T12:14:45.573177Z"
    }
   },
   "outputs": [],
   "source": [
    "from pyspark.sql.functions import (\n",
    "    col, udf, struct, lit, split, regexp_replace, create_map, min as spark_min, max as spark_max,\n",
    "    count, sum as spar_sum, explode, when\n",
    ")\n",
    "from pyspark.sql.types import FloatType, ArrayType, StructType, StructField\n",
    "from pyspark.sql import SparkSession\n",
    "from pyspark.conf import SparkConf\n",
    "from itertools import chain\n",
    "\n",
    "\n",
    "# for heatmap:\n",
    "import numpy as np\n",
    "import seaborn as sns\n",
    "import matplotlib.pylab as plt\n",
    "\n",
    "# establish spark connection\n",
    "sparkConf = (\n",
    "    SparkConf()\n",
    "    .set('spark.driver.memory', '15g')\n",
    "    .set('spark.executor.memory', '15g')\n",
    "    .set('spark.driver.maxResultSize', '0')\n",
    ")\n",
    "spark = (\n",
    "    SparkSession.builder\n",
    "    .config(conf=sparkConf)\n",
    "    .master('local[*]')\n",
    "    .getOrCreate()\n",
    ")"
   ]
  },
  {
   "cell_type": "code",
   "execution_count": 72,
   "id": "e9ba19b4",
   "metadata": {
    "ExecuteTime": {
     "end_time": "2021-12-07T21:20:59.735368Z",
     "start_time": "2021-12-07T21:20:05.235478Z"
    }
   },
   "outputs": [],
   "source": [
    "# Reading new dataset:\n",
    "new_data = (\n",
    "    spark.read.parquet('/Users/dsuveges/project_data/epmc_evidence/epmc_new_evid_2021.10.25.parquet')\n",
    "    .drop('datasourceId', 'datatypeId', '')\n",
    "    .persist()\n",
    ") \n",
    "old_data = (\n",
    "    spark.read.json('/Users/dsuveges/project_data/epmc_evidence/epmc-2021-11-08.json.gz')\n",
    "    .drop('datasourceId', 'datatypeId')\n",
    "    .persist()\n",
    ")"
   ]
  },
  {
   "cell_type": "code",
   "execution_count": 10,
   "id": "33d57830",
   "metadata": {
    "ExecuteTime": {
     "end_time": "2021-11-24T14:42:41.221971Z",
     "start_time": "2021-11-24T14:40:43.095684Z"
    }
   },
   "outputs": [
    {
     "name": "stdout",
     "output_type": "stream",
     "text": [
      "-RECORD 0----------------------------------------------------------------------------------------------------------------------------------------------------------------------------------------------------------------------------------------------------------------------------------------------------------------------------------------------------------------------------------------------------------\n",
      " diseaseFromSourceMappedId | Orphanet_672                                                                                                                                                                                                                                                                                                                                                                          \n",
      " literature                | [10022965]                                                                                                                                                                                                                                                                                                                                                                            \n",
      " pmcIds                    | null                                                                                                                                                                                                                                                                                                                                                                                  \n",
      " resourceScore             | 6.0                                                                                                                                                                                                                                                                                                                                                                                   \n",
      " targetFromSourceId        | ENSG00000125835                                                                                                                                                                                                                                                                                                                                                                       \n",
      " textMiningSentences       | [{100, 98, abstract, 35, 31, Microvascular cells expressing SM-B (arteries and veins) were rare in normal lung and numerous in PH, increasing as wall muscle developed in smaller segments with time.}, {141, 139, abstract, 90, 86, While the PSMC processes of the normal lung contained sparse filaments decorated with SM-B, these cells expressed dense filament arrays in PH.}] \n",
      "only showing top 1 row\n",
      "\n"
     ]
    }
   ],
   "source": [
    "old_data.show(1, vertical=True, truncate=False)"
   ]
  },
  {
   "cell_type": "code",
   "execution_count": 11,
   "id": "bde30903",
   "metadata": {
    "ExecuteTime": {
     "end_time": "2021-11-24T14:42:45.617417Z",
     "start_time": "2021-11-24T14:42:41.242649Z"
    }
   },
   "outputs": [
    {
     "name": "stdout",
     "output_type": "stream",
     "text": [
      "-RECORD 0------------------------------------------\n",
      " targetFromSourceId            | ENSG00000000419   \n",
      " diseaseFromSourceMappedId     | EFO_0005545       \n",
      " resourceScore                 | 0.55456124965856  \n",
      " similarity                    | 0.443648999726848 \n",
      " harmonicSimilarity            | 0.55456124965856  \n",
      " sharedPublicationCount        | 2                 \n",
      " meanTargetFreqPerPub          | 11.0              \n",
      " meanDiseaseFreqPerPub         | 1.0               \n",
      " harmonicCooccurrenceSentiment | 0.0               \n",
      " cooccurredPublicationCount    | 0                 \n",
      "only showing top 1 row\n",
      "\n"
     ]
    }
   ],
   "source": [
    "new_data.show(1, vertical=True, truncate=False)"
   ]
  },
  {
   "cell_type": "markdown",
   "id": "1fecb29a",
   "metadata": {},
   "source": [
    "Reading data is done. \n",
    "\n",
    "### Evidence, association count\n"
   ]
  },
  {
   "cell_type": "code",
   "execution_count": 15,
   "id": "576be1d1",
   "metadata": {
    "ExecuteTime": {
     "end_time": "2021-11-24T14:56:59.231133Z",
     "start_time": "2021-11-24T14:56:38.034828Z"
    }
   },
   "outputs": [
    {
     "name": "stdout",
     "output_type": "stream",
     "text": [
      "Old data evidence count: 6461278\n",
      "Old data target count: 19942\n",
      "Old data disease count: 8510\n",
      "Old data association count: 960047\n",
      "New data evidence count: 8799204\n",
      "New data target count: 26636\n",
      "New data disease count: 10081\n",
      "New data association count: 8799204\n"
     ]
    }
   ],
   "source": [
    "for label, data in {'Old data': old_data, 'New data': new_data}.items():\n",
    "    print(f'{label} evidence count: {data.count()}')\n",
    "    print(f\"{label} target count: {data.select('targetFromSourceId').distinct().count()}\")\n",
    "    print(f\"{label} disease count: {data.select('diseaseFromSourceMappedId').distinct().count()}\")\n",
    "    print(f\"{label} association count: {data.select('targetFromSourceId', 'diseaseFromSourceMappedId').distinct().count()}\")"
   ]
  },
  {
   "cell_type": "code",
   "execution_count": 73,
   "id": "de951511",
   "metadata": {
    "ExecuteTime": {
     "end_time": "2021-12-07T21:20:59.862663Z",
     "start_time": "2021-12-07T21:20:59.738355Z"
    }
   },
   "outputs": [],
   "source": [
    "\n",
    "old_assoc = (\n",
    "    spark.read.parquet('/Users/dsuveges/project_data/epmc_evidence/associations_21.11.2.parquet')\n",
    "    .filter(col('datasourceId') == 'europepmc')\n",
    "    .select('evidenceCount', 'score', 'targetId', 'diseaseId')\n",
    "    .persist()\n",
    ")"
   ]
  },
  {
   "cell_type": "code",
   "execution_count": 30,
   "id": "1b291fca",
   "metadata": {
    "ExecuteTime": {
     "end_time": "2021-11-25T12:36:19.979113Z",
     "start_time": "2021-11-25T12:36:19.432925Z"
    }
   },
   "outputs": [
    {
     "name": "stdout",
     "output_type": "stream",
     "text": [
      "old association scores:\n",
      "+-------+--------------------+\n",
      "|summary|               score|\n",
      "+-------+--------------------+\n",
      "|  count|              960042|\n",
      "|   mean| 0.08959146448081354|\n",
      "| stddev| 0.13775595348075892|\n",
      "|    min|0.009118961964174315|\n",
      "|    max|  0.9993001621453167|\n",
      "+-------+--------------------+\n",
      "\n",
      "None\n",
      "\n",
      "new association scores:\n",
      "+-------+--------------------+\n",
      "|summary|       resourceScore|\n",
      "+-------+--------------------+\n",
      "|  count|             8799204|\n",
      "|   mean| 0.16149119849097576|\n",
      "| stddev| 0.14877979394177998|\n",
      "|    min|0.010000096158440226|\n",
      "|    max|  1.5258354617658982|\n",
      "+-------+--------------------+\n",
      "\n",
      "None\n"
     ]
    }
   ],
   "source": [
    "print('old association scores:')\n",
    "print(old_assoc.select('score').describe().show())\n",
    "print('\\nnew association scores:')\n",
    "print(new_data.select('resourceScore').describe().show())"
   ]
  },
  {
   "cell_type": "code",
   "execution_count": 37,
   "id": "c754a92a",
   "metadata": {
    "ExecuteTime": {
     "end_time": "2021-11-25T12:41:29.683630Z",
     "start_time": "2021-11-25T12:41:20.506898Z"
    }
   },
   "outputs": [],
   "source": [
    "merged_associations = (\n",
    "    new_data\n",
    "    .withColumnRenamed('diseaseFromSourceMappedId', 'diseaseId')\n",
    "    .withColumnRenamed('targetFromSourceId', 'targetId')\n",
    "    .join(old_assoc, on=['diseaseId', 'targetId'], how='inner')\n",
    "    .select('diseaseId', 'targetId', 'score', 'resourceScore', 'evidenceCount')\n",
    "    .toPandas()\n",
    ")"
   ]
  },
  {
   "cell_type": "code",
   "execution_count": 38,
   "id": "d34bec9d",
   "metadata": {
    "ExecuteTime": {
     "end_time": "2021-11-25T12:41:55.906657Z",
     "start_time": "2021-11-25T12:41:54.821863Z"
    }
   },
   "outputs": [
    {
     "data": {
      "text/plain": [
       "<AxesSubplot:xlabel='score', ylabel='resourceScore'>"
      ]
     },
     "execution_count": 38,
     "metadata": {},
     "output_type": "execute_result"
    },
    {
     "data": {
      "image/png": "[encoded data removed]",
      "text/plain": [
       "<Figure size 432x288 with 1 Axes>"
      ]
     },
     "metadata": {
      "needs_background": "light"
     },
     "output_type": "display_data"
    }
   ],
   "source": [
    "merged_associations.plot.scatter('score', 'resourceScore', )"
   ]
  },
  {
   "cell_type": "code",
   "execution_count": 40,
   "id": "a422a672",
   "metadata": {
    "ExecuteTime": {
     "end_time": "2021-11-25T12:44:49.482228Z",
     "start_time": "2021-11-25T12:44:42.357364Z"
    }
   },
   "outputs": [],
   "source": [
    "# Initializing a large matrix with zeroes:\n",
    "heatmap = np.zeros((21,21))\n",
    "\n",
    "# Function to get the bin for a given l2g score value:\n",
    "rounding = lambda value: int(value*20)\n",
    "\n",
    "# Collate data and fill in the matrix with the count:\n",
    "for i, value in (\n",
    "    merged_associations\n",
    "    .apply(lambda row: (rounding(row['score']), rounding(row['resourceScore']/1.6)), axis=1)\n",
    "    .value_counts()\n",
    "    .iteritems()\n",
    "):\n",
    "    heatmap[i[0],i[1]] = value\n",
    "    \n"
   ]
  },
  {
   "cell_type": "code",
   "execution_count": 58,
   "id": "c24dcce0",
   "metadata": {
    "ExecuteTime": {
     "end_time": "2021-11-25T12:58:24.412040Z",
     "start_time": "2021-11-25T12:58:24.185308Z"
    }
   },
   "outputs": [
    {
     "data": {
      "image/png": "[encoded data removed]",
      "text/plain": [
       "<Figure size 432x288 with 2 Axes>"
      ]
     },
     "metadata": {
      "needs_background": "light"
     },
     "output_type": "display_data"
    }
   ],
   "source": [
    "# removing zeroes:\n",
    "for index_x, row in enumerate(heatmap):\n",
    "    for index_y, value in enumerate(row):\n",
    "        if value == 0:\n",
    "            heatmap[index_x, index_y] = None\n",
    "\n",
    "# Let's see the correlation between the two l2g scores:\n",
    "ax = sns.heatmap(np.log10(heatmap, where=lambda x: x > 0), cmap='BuPu')\n",
    "ax.invert_yaxis()\n",
    "plt.show()"
   ]
  },
  {
   "cell_type": "code",
   "execution_count": 62,
   "id": "508c13fe",
   "metadata": {
    "ExecuteTime": {
     "end_time": "2021-11-25T13:20:47.189300Z",
     "start_time": "2021-11-25T13:20:47.180714Z"
    }
   },
   "outputs": [
    {
     "data": {
      "text/plain": [
       "0   -0.240064\n",
       "1   -0.286018\n",
       "2   -0.057982\n",
       "3    0.086374\n",
       "4    0.384338\n",
       "dtype: float64"
      ]
     },
     "execution_count": 62,
     "metadata": {},
     "output_type": "execute_result"
    }
   ],
   "source": [
    "merged_associations.head().apply(lambda row: row['score'] - row['resourceScore'], axis=1)"
   ]
  },
  {
   "cell_type": "markdown",
   "id": "c8e1c269",
   "metadata": {},
   "source": [
    "## Where are we losing associations/evidence\n",
    "\n",
    "I was curious if there are a large number of evidence/association which were highly scored in the old dataset, but no longer in the new one. \n",
    "\n",
    "**Process:**\n",
    "\n",
    "1. Filter the previously merged dataset based to associatinos which got score higher than 0.8 in the old dataset, but lower than 0.2 in the new. \n",
    "2. Map EFO ids to diease label to have and idea what we are losing."
   ]
  },
  {
   "cell_type": "code",
   "execution_count": 90,
   "id": "a3b2532f",
   "metadata": {
    "ExecuteTime": {
     "end_time": "2021-11-26T12:43:14.555270Z",
     "start_time": "2021-11-26T12:43:14.362543Z"
    },
    "scrolled": true
   },
   "outputs": [],
   "source": [
    "big_loss = (\n",
    "    merged_associations\n",
    "    \n",
    "    # Select high score associations:\n",
    "    .loc[lambda df: df.score > 0.8]\n",
    "    \n",
    "    # Measure how the new evidence scores:\n",
    "    .assign(\n",
    "        drop = lambda df: df.score - df.resourceScore\n",
    "    )\n",
    "    \n",
    "    # Filter for the association where the association score decreased by more than:\n",
    "    .loc[lambda df: df['drop'] > 0.7]\n",
    ")"
   ]
  },
  {
   "cell_type": "code",
   "execution_count": 91,
   "id": "fa6c71b6",
   "metadata": {
    "ExecuteTime": {
     "end_time": "2021-11-26T12:43:14.665675Z",
     "start_time": "2021-11-26T12:43:14.661380Z"
    }
   },
   "outputs": [
    {
     "name": "stdout",
     "output_type": "stream",
     "text": [
      "Number of association with big loss: 1372\n",
      "Number of unique targets: 807\n",
      "Number of unique diseases: 93\n"
     ]
    }
   ],
   "source": [
    "print(f'Number of association with big loss: {len(big_loss)}')\n",
    "print(f'Number of unique targets: {len(big_loss.targetId.unique())}')\n",
    "print(f'Number of unique diseases: {len(big_loss.diseaseId.unique())}')"
   ]
  },
  {
   "cell_type": "code",
   "execution_count": 92,
   "id": "219a960a",
   "metadata": {
    "ExecuteTime": {
     "end_time": "2021-11-26T12:43:22.738639Z",
     "start_time": "2021-11-26T12:43:22.727332Z"
    }
   },
   "outputs": [
    {
     "data": {
      "text/html": [
       "<div>\n",
       "<style scoped>\n",
       "    .dataframe tbody tr th:only-of-type {\n",
       "        vertical-align: middle;\n",
       "    }\n",
       "\n",
       "    .dataframe tbody tr th {\n",
       "        vertical-align: top;\n",
       "    }\n",
       "\n",
       "    .dataframe thead th {\n",
       "        text-align: right;\n",
       "    }\n",
       "</style>\n",
       "<table border=\"1\" class=\"dataframe\">\n",
       "  <thead>\n",
       "    <tr style=\"text-align: right;\">\n",
       "      <th></th>\n",
       "      <th>diseaseId</th>\n",
       "      <th>targetId</th>\n",
       "      <th>score</th>\n",
       "      <th>resourceScore</th>\n",
       "      <th>evidenceCount</th>\n",
       "      <th>drop</th>\n",
       "    </tr>\n",
       "  </thead>\n",
       "  <tbody>\n",
       "    <tr>\n",
       "      <th>303</th>\n",
       "      <td>EFO_0000311</td>\n",
       "      <td>ENSG00000135318</td>\n",
       "      <td>0.849910</td>\n",
       "      <td>0.029614</td>\n",
       "      <td>265</td>\n",
       "      <td>0.820296</td>\n",
       "    </tr>\n",
       "    <tr>\n",
       "      <th>538</th>\n",
       "      <td>EFO_0000544</td>\n",
       "      <td>ENSG00000196262</td>\n",
       "      <td>0.928894</td>\n",
       "      <td>0.128010</td>\n",
       "      <td>140</td>\n",
       "      <td>0.800884</td>\n",
       "    </tr>\n",
       "    <tr>\n",
       "      <th>584</th>\n",
       "      <td>EFO_0000616</td>\n",
       "      <td>ENSG00000084093</td>\n",
       "      <td>0.936475</td>\n",
       "      <td>0.016816</td>\n",
       "      <td>99</td>\n",
       "      <td>0.919660</td>\n",
       "    </tr>\n",
       "    <tr>\n",
       "      <th>587</th>\n",
       "      <td>EFO_0000616</td>\n",
       "      <td>ENSG00000101144</td>\n",
       "      <td>0.914945</td>\n",
       "      <td>0.125270</td>\n",
       "      <td>112</td>\n",
       "      <td>0.789675</td>\n",
       "    </tr>\n",
       "    <tr>\n",
       "      <th>3375</th>\n",
       "      <td>EFO_0000182</td>\n",
       "      <td>ENSG00000081041</td>\n",
       "      <td>0.809479</td>\n",
       "      <td>0.023147</td>\n",
       "      <td>25</td>\n",
       "      <td>0.786332</td>\n",
       "    </tr>\n",
       "  </tbody>\n",
       "</table>\n",
       "</div>"
      ],
      "text/plain": [
       "        diseaseId         targetId     score  resourceScore  evidenceCount  \\\n",
       "303   EFO_0000311  ENSG00000135318  0.849910       0.029614            265   \n",
       "538   EFO_0000544  ENSG00000196262  0.928894       0.128010            140   \n",
       "584   EFO_0000616  ENSG00000084093  0.936475       0.016816             99   \n",
       "587   EFO_0000616  ENSG00000101144  0.914945       0.125270            112   \n",
       "3375  EFO_0000182  ENSG00000081041  0.809479       0.023147             25   \n",
       "\n",
       "          drop  \n",
       "303   0.820296  \n",
       "538   0.800884  \n",
       "584   0.919660  \n",
       "587   0.789675  \n",
       "3375  0.786332  "
      ]
     },
     "execution_count": 92,
     "metadata": {},
     "output_type": "execute_result"
    }
   ],
   "source": [
    "big_loss.head()"
   ]
  },
  {
   "cell_type": "code",
   "execution_count": 94,
   "id": "5522045e",
   "metadata": {
    "ExecuteTime": {
     "end_time": "2021-11-26T12:43:49.318360Z",
     "start_time": "2021-11-26T12:43:48.748432Z"
    }
   },
   "outputs": [
    {
     "data": {
      "text/plain": [
       "0                      cancer\n",
       "1                   infection\n",
       "2                    neoplasm\n",
       "3    hepatocellular carcinoma\n",
       "4     glioblastoma multiforme\n",
       "dtype: object"
      ]
     },
     "execution_count": 94,
     "metadata": {},
     "output_type": "execute_result"
    }
   ],
   "source": [
    "from requests import get\n",
    "import pandas as pd\n",
    "\n",
    "def EFO_id2label(efo_id):\n",
    "    URL = 'https://www.ebi.ac.uk/ols/api/terms?short_form'\n",
    "    \n",
    "    response = get(f'{URL}={efo_id}')\n",
    "    \n",
    "    try:\n",
    "        data = response.json()\n",
    "    except:\n",
    "        print(f'failed to fetch EFO data for id: {efo_id}')\n",
    "        return None\n",
    "    \n",
    "    if data['page']['totalElements'] == 0:\n",
    "        print(f'No EFO data for id: {efo_id}')\n",
    "        return None\n",
    "    \n",
    "    for term in data['_embedded']['terms']:\n",
    "        if term['ontology_name'] != 'efo':\n",
    "            continue\n",
    "        return term['label']\n",
    "    \n",
    "    \n",
    "pd.Series(big_loss.diseaseId.unique()).head().apply(EFO_id2label)"
   ]
  },
  {
   "cell_type": "code",
   "execution_count": 97,
   "id": "044c4a8c",
   "metadata": {
    "ExecuteTime": {
     "end_time": "2021-11-26T13:53:21.112353Z",
     "start_time": "2021-11-26T13:53:21.100536Z"
    }
   },
   "outputs": [
    {
     "data": {
      "text/html": [
       "<div>\n",
       "<style scoped>\n",
       "    .dataframe tbody tr th:only-of-type {\n",
       "        vertical-align: middle;\n",
       "    }\n",
       "\n",
       "    .dataframe tbody tr th {\n",
       "        vertical-align: top;\n",
       "    }\n",
       "\n",
       "    .dataframe thead th {\n",
       "        text-align: right;\n",
       "    }\n",
       "</style>\n",
       "<table border=\"1\" class=\"dataframe\">\n",
       "  <thead>\n",
       "    <tr style=\"text-align: right;\">\n",
       "      <th></th>\n",
       "      <th>diseaseId</th>\n",
       "      <th>targetId</th>\n",
       "      <th>score</th>\n",
       "      <th>resourceScore</th>\n",
       "      <th>evidenceCount</th>\n",
       "      <th>drop</th>\n",
       "      <th>diseaseLabel</th>\n",
       "    </tr>\n",
       "  </thead>\n",
       "  <tbody>\n",
       "    <tr>\n",
       "      <th>0</th>\n",
       "      <td>EFO_0000311</td>\n",
       "      <td>ENSG00000135318</td>\n",
       "      <td>0.849910</td>\n",
       "      <td>0.029614</td>\n",
       "      <td>265</td>\n",
       "      <td>0.820296</td>\n",
       "      <td>cancer</td>\n",
       "    </tr>\n",
       "    <tr>\n",
       "      <th>1</th>\n",
       "      <td>EFO_0000544</td>\n",
       "      <td>ENSG00000196262</td>\n",
       "      <td>0.928894</td>\n",
       "      <td>0.128010</td>\n",
       "      <td>140</td>\n",
       "      <td>0.800884</td>\n",
       "      <td>infection</td>\n",
       "    </tr>\n",
       "    <tr>\n",
       "      <th>2</th>\n",
       "      <td>EFO_0000616</td>\n",
       "      <td>ENSG00000084093</td>\n",
       "      <td>0.936475</td>\n",
       "      <td>0.016816</td>\n",
       "      <td>99</td>\n",
       "      <td>0.919660</td>\n",
       "      <td>neoplasm</td>\n",
       "    </tr>\n",
       "    <tr>\n",
       "      <th>3</th>\n",
       "      <td>EFO_0000616</td>\n",
       "      <td>ENSG00000101144</td>\n",
       "      <td>0.914945</td>\n",
       "      <td>0.125270</td>\n",
       "      <td>112</td>\n",
       "      <td>0.789675</td>\n",
       "      <td>neoplasm</td>\n",
       "    </tr>\n",
       "    <tr>\n",
       "      <th>4</th>\n",
       "      <td>EFO_0000182</td>\n",
       "      <td>ENSG00000081041</td>\n",
       "      <td>0.809479</td>\n",
       "      <td>0.023147</td>\n",
       "      <td>25</td>\n",
       "      <td>0.786332</td>\n",
       "      <td>hepatocellular carcinoma</td>\n",
       "    </tr>\n",
       "  </tbody>\n",
       "</table>\n",
       "</div>"
      ],
      "text/plain": [
       "     diseaseId         targetId     score  resourceScore  evidenceCount  \\\n",
       "0  EFO_0000311  ENSG00000135318  0.849910       0.029614            265   \n",
       "1  EFO_0000544  ENSG00000196262  0.928894       0.128010            140   \n",
       "2  EFO_0000616  ENSG00000084093  0.936475       0.016816             99   \n",
       "3  EFO_0000616  ENSG00000101144  0.914945       0.125270            112   \n",
       "4  EFO_0000182  ENSG00000081041  0.809479       0.023147             25   \n",
       "\n",
       "       drop              diseaseLabel  \n",
       "0  0.820296                    cancer  \n",
       "1  0.800884                 infection  \n",
       "2  0.919660                  neoplasm  \n",
       "3  0.789675                  neoplasm  \n",
       "4  0.786332  hepatocellular carcinoma  "
      ]
     },
     "execution_count": 97,
     "metadata": {},
     "output_type": "execute_result"
    }
   ],
   "source": [
    "\n",
    "# Get disease label for all ids:\n",
    "disease_annotation = (\n",
    "    pd.DataFrame(big_loss.diseaseId.unique(), columns=['diseaseId'])\n",
    "    .assign(diseaseLabel = lambda df: df.diseaseId.apply(EFO_id2label))\n",
    ")\n",
    "\n",
    "# Join with original table:\n",
    "big_loss_labelled = (\n",
    "    big_loss\n",
    "    .merge(disease_annotation, on='diseaseId', how='left')\n",
    ")\n",
    "\n",
    "big_loss_labelled.head()"
   ]
  },
  {
   "cell_type": "code",
   "execution_count": null,
   "id": "49e8cc42",
   "metadata": {},
   "outputs": [],
   "source": []
  },
  {
   "cell_type": "code",
   "execution_count": 108,
   "id": "18645408",
   "metadata": {
    "ExecuteTime": {
     "end_time": "2021-11-26T14:12:22.737344Z",
     "start_time": "2021-11-26T14:12:22.724329Z"
    }
   },
   "outputs": [
    {
     "name": "stdout",
     "output_type": "stream",
     "text": [
      "                    diseaseLabel  average_assoc_score_decrease  \\\n",
      "0            Alzheimer's disease                      0.781007   \n",
      "1                       Chordoma                      0.728600   \n",
      "2                Cystic fibrosis                      0.717124   \n",
      "3             Huntington disease                      0.784763   \n",
      "4            Leukoencephalopathy                      0.752595   \n",
      "..                           ...                           ...   \n",
      "87                        stroke                      0.744659   \n",
      "88  systemic lupus erythematosus                      0.778555   \n",
      "89      type I diabetes mellitus                      0.703698   \n",
      "90     type II diabetes mellitus                      0.704683   \n",
      "91                  urolithiasis                      0.719114   \n",
      "\n",
      "    association_count  evidence_count  \n",
      "0                  21            2828  \n",
      "1                   1              53  \n",
      "2                   2              73  \n",
      "3                   1             233  \n",
      "4                   1              36  \n",
      "..                ...             ...  \n",
      "87                  1              61  \n",
      "88                 22            4700  \n",
      "89                  1             561  \n",
      "90                  1             731  \n",
      "91                  1              43  \n",
      "\n",
      "[92 rows x 4 columns]\n"
     ]
    }
   ],
   "source": [
    "print(\n",
    "    big_loss_labelled\n",
    "    .groupby('diseaseLabel')\n",
    "    .agg({\n",
    "        'drop': np.mean,\n",
    "        'targetId': len,\n",
    "        'evidenceCount': sum\n",
    "    })\n",
    "    .rename(columns={\n",
    "        'drop': 'average_assoc_score_decrease',\n",
    "        'targetId': 'association_count',\n",
    "        'evidenceCount': 'evidence_count'\n",
    "    })\n",
    "    .reset_index()\n",
    "    .head(100)\n",
    ")"
   ]
  },
  {
   "cell_type": "code",
   "execution_count": 107,
   "id": "04b748e0",
   "metadata": {
    "ExecuteTime": {
     "end_time": "2021-11-26T14:12:20.058419Z",
     "start_time": "2021-11-26T14:12:20.051495Z"
    }
   },
   "outputs": [
    {
     "data": {
      "text/html": [
       "<style>.container { width:100% !important; }</style>"
      ],
      "text/plain": [
       "<IPython.core.display.HTML object>"
      ]
     },
     "metadata": {},
     "output_type": "display_data"
    }
   ],
   "source": [
    "from IPython.core.display import display, HTML\n",
    "display(HTML(\"<style>.container { width:100% !important; }</style>\"))"
   ]
  },
  {
   "cell_type": "markdown",
   "id": "e3e003bd",
   "metadata": {},
   "source": [
    "## Compare performance against Uniprot association\n",
    "\n",
    "We believe Uniprot associations are excellent positive control set as those associations are also based on manual curation of the literature."
   ]
  },
  {
   "cell_type": "code",
   "execution_count": 57,
   "id": "d46e5ff5",
   "metadata": {
    "ExecuteTime": {
     "end_time": "2021-12-06T15:55:18.708269Z",
     "start_time": "2021-12-06T15:55:18.262117Z"
    }
   },
   "outputs": [
    {
     "name": "stdout",
     "output_type": "stream",
     "text": [
      "+------------------+----------+-------------------------+----------------+--------+---------------+--------------+\n",
      "|targetFromSourceId|confidence|diseaseFromSourceMappedId|targetModulation|    pmid|       targetId|approvedSymbol|\n",
      "+------------------+----------+-------------------------+----------------+--------+---------------+--------------+\n",
      "|            P04150|      high|             Orphanet_786|      up_or_down|15769988|ENSG00000113580|         NR3C1|\n",
      "|            P04150|      high|             Orphanet_786|      up_or_down|12050230|ENSG00000113580|         NR3C1|\n",
      "|            P04150|      high|             Orphanet_786|      up_or_down|17635946|ENSG00000113580|         NR3C1|\n",
      "|            P04150|      high|             Orphanet_786|      up_or_down| 7683692|ENSG00000113580|         NR3C1|\n",
      "|            P04150|      high|             Orphanet_786|      up_or_down|11589680|ENSG00000113580|         NR3C1|\n",
      "|            P04150|      high|             Orphanet_786|      up_or_down| 1704018|ENSG00000113580|         NR3C1|\n",
      "|            P04150|      high|             Orphanet_786|      up_or_down|11701741|ENSG00000113580|         NR3C1|\n",
      "|            P04150|      high|             Orphanet_786|      up_or_down|11589680|ENSG00000113580|         NR3C1|\n",
      "|            P04150|      high|             Orphanet_786|      up_or_down|12050230|ENSG00000113580|         NR3C1|\n",
      "|            P04150|      high|             Orphanet_786|      up_or_down| 7683692|ENSG00000113580|         NR3C1|\n",
      "|            P04150|      high|             Orphanet_786|      up_or_down|11701741|ENSG00000113580|         NR3C1|\n",
      "|            P04150|      high|             Orphanet_786|      up_or_down|21362280|ENSG00000113580|         NR3C1|\n",
      "|            P04150|      high|             Orphanet_786|      up_or_down|20335448|ENSG00000113580|         NR3C1|\n",
      "|            P04150|      high|             Orphanet_786|      up_or_down|17635946|ENSG00000113580|         NR3C1|\n",
      "|            P04150|      high|             Orphanet_786|      up_or_down|11589680|ENSG00000113580|         NR3C1|\n",
      "|            P04150|      high|             Orphanet_786|      up_or_down|15769988|ENSG00000113580|         NR3C1|\n",
      "|            P04150|      high|             Orphanet_786|      up_or_down|26541474|ENSG00000113580|         NR3C1|\n",
      "|            P04150|      high|             Orphanet_786|      up_or_down|26031419|ENSG00000113580|         NR3C1|\n",
      "|            P04150|      high|             Orphanet_786|      up_or_down|23426617|ENSG00000113580|         NR3C1|\n",
      "|            P04150|      high|             Orphanet_786|      up_or_down|27120390|ENSG00000113580|         NR3C1|\n",
      "+------------------+----------+-------------------------+----------------+--------+---------------+--------------+\n",
      "only showing top 20 rows\n",
      "\n"
     ]
    }
   ],
   "source": [
    "# Reading target. Required to map uniprot identifiers:\n",
    "target_table = (\n",
    "    spark.read.parquet('/Users/dsuveges/project_data/target_index/21.11.parquet/')\n",
    "    .filter(col('proteinIds').isNotNull())\n",
    "    .select(col('id').alias('targetId'), 'approvedSymbol', explode(col('proteinIds')).alias('proteinId'))\n",
    "    .withColumn('targetFromSourceId', col('proteinId.id'))\n",
    "    .drop('proteinId')\n",
    "    .distinct()\n",
    "    .persist()\n",
    ")\n",
    "\n",
    "# Reading positive controls + join with gene identifiers:\n",
    "poscon = (\n",
    "    spark.read.json('/Users/dsuveges/project_data/uniprot-2021-10-11.json.gz')\n",
    "    .select(\n",
    "        'confidence', 'diseaseFromSourceMappedId', \n",
    "        'targetFromSourceId', 'targetModulation',\n",
    "        explode(col('literature')).alias('pmid')\n",
    "    )\n",
    "    .join(target_table, on='targetFromSourceId', how='left')\n",
    "    .filter(col('targetId').isNotNull())\n",
    "    .persist()\n",
    ")\n",
    "\n",
    "poscon.show()"
   ]
  },
  {
   "cell_type": "code",
   "execution_count": 70,
   "id": "9a368e5e",
   "metadata": {
    "ExecuteTime": {
     "end_time": "2021-12-07T21:15:50.044393Z",
     "start_time": "2021-12-07T21:15:49.029996Z"
    }
   },
   "outputs": [
    {
     "name": "stdout",
     "output_type": "stream",
     "text": [
      "5043\n",
      "+---------------+---------------+------------------+\n",
      "|      diseaseId|       targetId|     uniprot_score|\n",
      "+---------------+---------------+------------------+\n",
      "|    EFO_0003758|ENSG00000185973|0.7599134970145264|\n",
      "|Orphanet_404473|ENSG00000168137|0.8274613634158176|\n",
      "| Orphanet_33364|ENSG00000168303| 0.607930797611621|\n",
      "|    EFO_0001359|ENSG00000134242| 0.607930797611621|\n",
      "| Orphanet_88661|ENSG00000132464|0.7599134970145264|\n",
      "| Orphanet_90635|ENSG00000112319| 0.607930797611621|\n",
      "|Orphanet_309020|ENSG00000234906| 0.607930797611621|\n",
      "|   Orphanet_172|ENSG00000005471|0.9741405848000253|\n",
      "| Orphanet_79264|ENSG00000166340|0.9779019396789099|\n",
      "| Orphanet_79318|ENSG00000140650|0.9874718676568239|\n",
      "|Orphanet_271853|ENSG00000141448| 0.607930797611621|\n",
      "|    EFO_1000775|ENSG00000127507| 0.607930797611621|\n",
      "|  Orphanet_1934|ENSG00000179364| 0.607930797611621|\n",
      "|   Orphanet_765|ENSG00000168291|0.7599134970145264|\n",
      "|  MONDO_0032751|ENSG00000109063|0.9190679877429972|\n",
      "|Orphanet_391384|ENSG00000104321| 0.607930797611621|\n",
      "|   Orphanet_261|ENSG00000160789| 0.989052667521338|\n",
      "|     HP_0002373|ENSG00000165078| 0.607930797611621|\n",
      "| Orphanet_93357|ENSG00000160949|0.9471757543886921|\n",
      "|Orphanet_101092|ENSG00000076248| 0.607930797611621|\n",
      "+---------------+---------------+------------------+\n",
      "only showing top 20 rows\n",
      "\n",
      "None\n"
     ]
    }
   ],
   "source": [
    "uniprot_assoc = (\n",
    "    spark.read.parquet('/Users/dsuveges/project_data/associationByDatasourceDirect')\n",
    "    .filter(col('datasourceId') == 'uniprot_variants')\n",
    "    .select('diseaseId','targetId',col('score').alias('uniprot_score'))\n",
    "    .distinct()\n",
    "    .persist()\n",
    ")\n",
    "\n",
    "print(uniprot_assoc.count())\n",
    "print(uniprot_assoc.show())"
   ]
  },
  {
   "cell_type": "code",
   "execution_count": 78,
   "id": "b9a30f4a",
   "metadata": {
    "ExecuteTime": {
     "end_time": "2021-12-07T21:29:01.010558Z",
     "start_time": "2021-12-07T21:28:51.830657Z"
    }
   },
   "outputs": [
    {
     "data": {
      "text/plain": [
       "9099605"
      ]
     },
     "execution_count": 78,
     "metadata": {},
     "output_type": "execute_result"
    }
   ],
   "source": [
    "merged_associations = (\n",
    "    new_data\n",
    "    .withColumnRenamed('diseaseFromSourceMappedId', 'diseaseId')\n",
    "    .withColumnRenamed('resourceScore', 'new_score')\n",
    "    .withColumnRenamed('targetFromSourceId', 'targetId')\n",
    "    .join(old_assoc.withColumnRenamed('score', 'old_score'), on=['diseaseId', 'targetId'], how='outer')\n",
    "    .join(uniprot_assoc, on=['diseaseId', 'targetId'], how='outer')\n",
    "    .select('diseaseId', 'targetId', 'old_score', 'new_score', 'uniprot_score')\n",
    ")\n",
    "\n",
    "merged_associations.count()"
   ]
  },
  {
   "cell_type": "code",
   "execution_count": 86,
   "id": "4f03a2d0",
   "metadata": {
    "ExecuteTime": {
     "end_time": "2021-12-07T21:43:54.085927Z",
     "start_time": "2021-12-07T21:43:16.986161Z"
    }
   },
   "outputs": [
    {
     "name": "stdout",
     "output_type": "stream",
     "text": [
      "Total number of uniprot associations: 5043\n",
      "Number of uniprot associations covered by both dataset: 3000\n",
      "Number of uniprot associations covered by only the new dataset: 642\n",
      "Number of uniprot associations covered by only the old dataset: 54\n",
      "Number of uniprot associations covered by none dataset: 1347\n"
     ]
    }
   ],
   "source": [
    "# Uniprot covered by only new:\n",
    "only_new = (\n",
    "    merged_associations\n",
    "    .filter(col('new_score').isNotNull() & col('uniprot_score').isNotNull() & col('old_score').isNull())\n",
    "    .count()\n",
    ")\n",
    "\n",
    "# Uniprot covered by only old:\n",
    "only_old = (\n",
    "    merged_associations\n",
    "    .filter(col('new_score').isNull() & col('uniprot_score').isNotNull() & col('old_score').isNotNull())\n",
    "    .count()\n",
    ")\n",
    "\n",
    "# Uniprot covered by none:\n",
    "none = (\n",
    "    merged_associations\n",
    "    .filter(col('new_score').isNull() & col('uniprot_score').isNotNull() & col('old_score').isNull())\n",
    "    .count()\n",
    ")\n",
    "\n",
    "# Uniprot covered by both:\n",
    "both = (\n",
    "    merged_associations\n",
    "    .filter(col('new_score').isNotNull() & col('uniprot_score').isNotNull() & col('old_score').isNotNull())\n",
    "    .count()\n",
    ")\n",
    "\n",
    "# Get all uniprot count:\n",
    "all_uniprot = merged_associations.filter(col('uniprot_score').isNotNull() ).count()\n",
    "\n",
    "print(f'Total number of uniprot associations: {all_uniprot}')\n",
    "print(f'Number of uniprot associations covered by both dataset: {both}')\n",
    "print(f'Number of uniprot associations covered by only the new dataset: {only_new}')\n",
    "print(f'Number of uniprot associations covered by only the old dataset: {only_old}')\n",
    "print(f'Number of uniprot associations covered by none dataset: {none}')"
   ]
  },
  {
   "cell_type": "code",
   "execution_count": 83,
   "id": "b93513d9",
   "metadata": {
    "ExecuteTime": {
     "end_time": "2021-12-07T21:38:07.115061Z",
     "start_time": "2021-12-07T21:37:58.664190Z"
    }
   },
   "outputs": [
    {
     "data": {
      "text/plain": [
       "5043"
      ]
     },
     "execution_count": 83,
     "metadata": {},
     "output_type": "execute_result"
    }
   ],
   "source": [
    "merged_associations.filter(col('uniprot_score').isNotNull() ).count()"
   ]
  },
  {
   "cell_type": "markdown",
   "id": "7221ba40",
   "metadata": {
    "ExecuteTime": {
     "end_time": "2021-12-07T21:38:18.728283Z",
     "start_time": "2021-12-07T21:38:18.484955Z"
    }
   },
   "source": [
    "## Coparing with unfiltered olde evidence\n",
    "\n",
    "\n",
    "Re-running evidence generation based on a new script that performs no filter.\n",
    "\n",
    "```bash\n",
    "INPUTFILE=\"gs://ot-snapshots/literature/20210920/output_new_targets_disambiguation/cooccurrences/\"\n",
    "OUTPUTFILE=\"gs://ot-team/dsuveges/evidence_test/EPMC/epmc-2021-12-07_nofilter\"\n",
    "clusterName=\"ds-test-cluster\"\n",
    "project='open-targets-eu-dev'\n",
    "zone='europe-west1-d'\n",
    "region='europe-west1'\n",
    "\n",
    "# Start cluster:\n",
    "gcloud beta dataproc clusters start ${clusterName} --region ${region} --project=${project}\n",
    "\n",
    "# Submit job:\n",
    "gcloud dataproc jobs submit pyspark \\\n",
    "    --cluster=${clusterName} \\\n",
    "    --project=${project}  \\\n",
    "    --region=${region} \\\n",
    "     /Users/dsuveges/repositories/evidence_datasource_parsers/modules/EPMC.py -- \\\n",
    "    --cooccurrenceFile ${INPUTFILE} \\\n",
    "    --output  ${OUTPUTFILE}\n",
    "\n",
    "# Stop cluster\n",
    "gcloud beta dataproc clusters stop ${clusterName} --region ${region} --project=${project}\n",
    "\n",
    "# Fetching data:\n",
    "gsutil cp -r  $OUTPUTFILE /Users/dsuveges/project_data/epmc_evidence\n",
    "```"
   ]
  },
  {
   "cell_type": "code",
   "execution_count": 87,
   "id": "7bb04e4b",
   "metadata": {
    "ExecuteTime": {
     "end_time": "2021-12-07T23:54:08.261114Z",
     "start_time": "2021-12-07T23:53:46.093985Z"
    }
   },
   "outputs": [],
   "source": [
    "old_unfiltered_assoc = (\n",
    "    spark.read.json('/Users/dsuveges/project_data/epmc_evidence/epmc-2021-12-07_nofilter')\n",
    "    .groupBy('targetFromSourceId', 'diseaseFromSourceMappedId')\n",
    "    .agg(\n",
    "        spar_sum(col('resourceScore')).alias('old_unfiltered_score')\n",
    "    )\n",
    "    .persist()\n",
    ")"
   ]
  },
  {
   "cell_type": "code",
   "execution_count": 89,
   "id": "c4adaadd",
   "metadata": {
    "ExecuteTime": {
     "end_time": "2021-12-07T23:58:04.637607Z",
     "start_time": "2021-12-07T23:58:03.563396Z"
    }
   },
   "outputs": [
    {
     "data": {
      "text/plain": [
       "1131952"
      ]
     },
     "execution_count": 89,
     "metadata": {},
     "output_type": "execute_result"
    }
   ],
   "source": [
    "old_unfiltered_assoc.count()"
   ]
  },
  {
   "cell_type": "code",
   "execution_count": 91,
   "id": "c6959d86",
   "metadata": {
    "ExecuteTime": {
     "end_time": "2021-12-08T00:00:03.869332Z",
     "start_time": "2021-12-07T23:59:46.088223Z"
    }
   },
   "outputs": [
    {
     "data": {
      "text/plain": [
       "9159879"
      ]
     },
     "execution_count": 91,
     "metadata": {},
     "output_type": "execute_result"
    }
   ],
   "source": [
    "merged_associations = (\n",
    "    new_data\n",
    "    .withColumnRenamed('diseaseFromSourceMappedId', 'diseaseId')\n",
    "    .withColumnRenamed('resourceScore', 'new_score')\n",
    "    .withColumnRenamed('targetFromSourceId', 'targetId')\n",
    "    .join(\n",
    "        (old_unfiltered_assoc\n",
    "        .withColumnRenamed('diseaseFromSourceMappedId', 'diseaseId')\n",
    "        .withColumnRenamed('targetFromSourceId', 'targetId'))\n",
    "        , on=['diseaseId', 'targetId'], how='outer')\n",
    "    .join(uniprot_assoc, on=['diseaseId', 'targetId'], how='outer')\n",
    "    .select('diseaseId', 'targetId', 'old_unfiltered_score', 'new_score', 'uniprot_score')\n",
    ")\n",
    "\n",
    "merged_associations.count()"
   ]
  },
  {
   "cell_type": "code",
   "execution_count": 93,
   "id": "e167397f",
   "metadata": {
    "ExecuteTime": {
     "end_time": "2021-12-08T00:02:27.761214Z",
     "start_time": "2021-12-08T00:01:40.551698Z"
    }
   },
   "outputs": [
    {
     "name": "stdout",
     "output_type": "stream",
     "text": [
      "Total number of uniprot associations: 5043\n",
      "Number of uniprot associations covered by both dataset: 3163\n",
      "Number of uniprot associations covered by only the new dataset: 479\n",
      "Number of uniprot associations covered by only the old dataset: 80\n",
      "Number of uniprot associations covered by none dataset: 1321\n"
     ]
    }
   ],
   "source": [
    "# Uniprot covered by only new:\n",
    "only_new = (\n",
    "    merged_associations\n",
    "    .filter(col('new_score').isNotNull() & col('uniprot_score').isNotNull() & col('old_unfiltered_score').isNull())\n",
    "    .count()\n",
    ")\n",
    "\n",
    "# Uniprot covered by only old:\n",
    "only_old = (\n",
    "    merged_associations\n",
    "    .filter(col('new_score').isNull() & col('uniprot_score').isNotNull() & col('old_unfiltered_score').isNotNull())\n",
    "    .count()\n",
    ")\n",
    "\n",
    "# Uniprot covered by none:\n",
    "none = (\n",
    "    merged_associations\n",
    "    .filter(col('new_score').isNull() & col('uniprot_score').isNotNull() & col('old_unfiltered_score').isNull())\n",
    "    .count()\n",
    ")\n",
    "\n",
    "# Uniprot covered by both:\n",
    "both = (\n",
    "    merged_associations\n",
    "    .filter(col('new_score').isNotNull() & col('uniprot_score').isNotNull() & col('old_unfiltered_score').isNotNull())\n",
    "    .count()\n",
    ")\n",
    "\n",
    "# Get all uniprot count:\n",
    "all_uniprot = merged_associations.filter(col('uniprot_score').isNotNull() ).count()\n",
    "\n",
    "print(f'Total number of uniprot associations: {all_uniprot}')\n",
    "print(f'Number of uniprot associations covered by both dataset: {both}')\n",
    "print(f'Number of uniprot associations covered by only the new dataset: {only_new}')\n",
    "print(f'Number of uniprot associations covered by only the old dataset: {only_old}')\n",
    "print(f'Number of uniprot associations covered by none dataset: {none}')\n"
   ]
  },
  {
   "cell_type": "markdown",
   "id": "76c35613",
   "metadata": {},
   "source": [
    "## Let's try something else\n",
    "\n",
    "The above approach was not good. We cannot compare the scores. We have to do the following steps:\n",
    "\n",
    "1. Take old associations.\n",
    "2. Take unfiltered old associations.\n",
    "3. Do outer join, allowing associations without score get into the results\n",
    "4. Wherever the score is missing add score 0.009\n"
   ]
  },
  {
   "cell_type": "code",
   "execution_count": 110,
   "id": "5ed24238",
   "metadata": {
    "ExecuteTime": {
     "end_time": "2021-12-08T12:16:13.293597Z",
     "start_time": "2021-12-08T12:16:13.239350Z"
    }
   },
   "outputs": [],
   "source": [
    "merged_old = (\n",
    "    old_unfiltered_assoc\n",
    "    .withColumnRenamed('diseaseFromSourceMappedId', 'diseaseId')\n",
    "    .withColumnRenamed('targetFromSourceId', 'targetId')\n",
    "    .select('diseaseId', 'targetId')\n",
    "    .join(old_assoc, on=['targetId', 'diseaseId'], how='outer')\n",
    "    .withColumn(\n",
    "        'old_score', \n",
    "        when(col('score').isNotNull(), col('score'))\n",
    "        .otherwise(0.009)\n",
    "    )\n",
    "    .select('diseaseId', 'targetId', 'old_score')\n",
    "    .persist()\n",
    ")"
   ]
  },
  {
   "cell_type": "code",
   "execution_count": 113,
   "id": "a6a99c6c",
   "metadata": {
    "ExecuteTime": {
     "end_time": "2021-12-08T12:20:30.690008Z",
     "start_time": "2021-12-08T12:20:16.268188Z"
    }
   },
   "outputs": [
    {
     "name": "stdout",
     "output_type": "stream",
     "text": [
      "+------------+---------------+---------+--------------------+-------------+\n",
      "|   diseaseId|       targetId|old_score|           new_score|uniprot_score|\n",
      "+------------+---------------+---------+--------------------+-------------+\n",
      "|  CL_0000169|ENSG00000163581|     null|  0.4044497113657334|         null|\n",
      "|DOID_0050890|ENSG00000023228|     null| 0.14527852995137827|         null|\n",
      "|DOID_0050890|ENSG00000100804|     null| 0.21561876207794564|         null|\n",
      "|DOID_0050890|ENSG00000101298|     null| 0.49393669268835827|         null|\n",
      "|DOID_0050890|ENSG00000105576|     null|  0.0527718629812961|         null|\n",
      "|DOID_0050890|ENSG00000108961|     null| 0.07056831134939867|         null|\n",
      "|DOID_0050890|ENSG00000117419|     null| 0.13682354587152584|         null|\n",
      "|DOID_0050890|ENSG00000118094|     null| 0.01735678554075152|         null|\n",
      "|DOID_0050890|ENSG00000140057|     null| 0.14458214456850688|         null|\n",
      "|DOID_0050890|ENSG00000142166|     null| 0.03238594485162023|         null|\n",
      "|DOID_0050890|ENSG00000142534|     null|  0.0740900399446663|         null|\n",
      "|DOID_0050890|ENSG00000164983|     null| 0.04731938630335284|         null|\n",
      "|DOID_0050890|ENSG00000166819|     null|0.032073629619312094|         null|\n",
      "|DOID_0050890|ENSG00000168056|     null|0.023274193642592814|         null|\n",
      "|DOID_0050890|ENSG00000168769|     null| 0.05445061780117058|         null|\n",
      "|DOID_0050890|ENSG00000169575|     null| 0.02780239121498125|         null|\n",
      "|DOID_0050890|ENSG00000171428|     null| 0.03846918445801189|         null|\n",
      "|DOID_0050890|ENSG00000171860|     null|  0.0883994565111777|         null|\n",
      "|DOID_0050890|ENSG00000176108|     null|  0.2440882008970159|         null|\n",
      "|DOID_0050890|ENSG00000184402|     null| 0.12632835467336684|         null|\n",
      "+------------+---------------+---------+--------------------+-------------+\n",
      "only showing top 20 rows\n",
      "\n"
     ]
    }
   ],
   "source": [
    "merged_associations = (\n",
    "    new_data\n",
    "    .withColumnRenamed('diseaseFromSourceMappedId', 'diseaseId')\n",
    "    .withColumnRenamed('resourceScore', 'new_score')\n",
    "    .withColumnRenamed('targetFromSourceId', 'targetId')\n",
    "    .join(merged_old, on=['diseaseId', 'targetId'], how='outer')\n",
    "    .join(uniprot_assoc, on=['diseaseId', 'targetId'], how='outer')\n",
    "    .select('diseaseId', 'targetId', 'old_score', 'new_score', 'uniprot_score')\n",
    ")\n",
    "\n",
    "merged_associations.show()"
   ]
  },
  {
   "cell_type": "code",
   "execution_count": 117,
   "id": "ccbb4da5",
   "metadata": {
    "ExecuteTime": {
     "end_time": "2021-12-08T12:24:30.947944Z",
     "start_time": "2021-12-08T12:24:06.718893Z"
    }
   },
   "outputs": [
    {
     "name": "stdout",
     "output_type": "stream",
     "text": [
      "Correlation between the old evidence score and the uniprot evidence score: 0.13742231836109037\n",
      "Correlation between the new evidence score and the uniprot evidence score: 0.22053309428853826\n"
     ]
    }
   ],
   "source": [
    "old_corr = (\n",
    "    merged_associations\n",
    "    .filter(col('old_score').isNotNull() & col(\"uniprot_score\").isNotNull())\n",
    "    .corr('old_score','uniprot_score')\n",
    ")\n",
    "new_corr = (\n",
    "    merged_associations\n",
    "    .filter(col('new_score').isNotNull() & col(\"uniprot_score\").isNotNull())\n",
    "    .corr('new_score','uniprot_score')\n",
    ")\n",
    "print(f'Correlation between the old evidence score and the uniprot evidence score: {old_corr}')\n",
    "print(f'Correlation between the new evidence score and the uniprot evidence score: {new_corr}')"
   ]
  },
  {
   "cell_type": "markdown",
   "id": "27eaed75",
   "metadata": {},
   "source": []
  },
  {
   "cell_type": "code",
   "execution_count": null,
   "id": "711ae894",
   "metadata": {},
   "outputs": [],
   "source": []
  }
 ],
 "metadata": {
  "kernelspec": {
   "display_name": "Python 3",
   "language": "python",
   "name": "python3"
  },
  "language_info": {
   "codemirror_mode": {
    "name": "ipython",
    "version": 3
   },
   "file_extension": ".py",
   "mimetype": "text/x-python",
   "name": "python",
   "nbconvert_exporter": "python",
   "pygments_lexer": "ipython3",
   "version": "3.9.5"
  }
 },
 "nbformat": 4,
 "nbformat_minor": 5
}
