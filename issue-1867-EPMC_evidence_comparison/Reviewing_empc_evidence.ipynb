{
 "cells": [
  {
   "cell_type": "markdown",
   "id": "5b027289",
   "metadata": {},
   "source": [
    "# Reviewing new EPMC evidence\n",
    "\n",
    "\n",
    "For more details on the scope of this ticket, see: [#1867](https://github.com/opentargets/platform/issues/1867)\n",
    "\n",
    "\n",
    "### Fetching epmc evidence data from google buckets:\n",
    "\n",
    "```bash\n",
    "TARGET_DIR='/Users/dsuveges/project_data/epmc_evidence'\n",
    "\n",
    "# Fetching old evidence:\n",
    "gsutil cp -r gs://otar000-evidence_input/EPMC/json/epmc-2021-11-08.json.gz  ${TARGET_DIR}\n",
    "\n",
    "# Fetching new evidence:\n",
    "gsutil cp -r gs://ot-snapshots/literature/20210920/new_model/evidence ${TARGET_DIR}/\n",
    "\n",
    "# Renaming the new evidence file:\n",
    "mv ${TARGET_DIR}/evidence ${TARGET_DIR}/epmc_new_evid_2021.10.25.parquet\n",
    "```"
   ]
  },
  {
   "cell_type": "code",
   "execution_count": 1,
   "id": "7c6b0d0a",
   "metadata": {
    "ExecuteTime": {
     "end_time": "2021-11-24T14:26:45.065493Z",
     "start_time": "2021-11-24T14:26:38.066185Z"
    }
   },
   "outputs": [],
   "source": [
    "from pyspark.sql.functions import (\n",
    "    col, udf, struct, lit, split, regexp_replace, create_map, min as spark_min, max as spark_max,\n",
    "    count\n",
    ")\n",
    "from pyspark.sql.types import FloatType, ArrayType, StructType, StructField\n",
    "from pyspark.sql import SparkSession\n",
    "from pyspark.conf import SparkConf\n",
    "from itertools import chain\n",
    "\n",
    "\n",
    "# for heatmap:\n",
    "import numpy as np\n",
    "import seaborn as sns\n",
    "import matplotlib.pylab as plt\n",
    "\n",
    "# establish spark connection\n",
    "sparkConf = (\n",
    "    SparkConf()\n",
    "    .set('spark.driver.memory', '15g')\n",
    "    .set('spark.executor.memory', '15g')\n",
    "    .set('spark.driver.maxResultSize', '0')\n",
    ")\n",
    "spark = (\n",
    "    SparkSession.builder\n",
    "    .config(conf=sparkConf)\n",
    "    .master('local[*]')\n",
    "    .getOrCreate()\n",
    ")"
   ]
  },
  {
   "cell_type": "code",
   "execution_count": null,
   "id": "dea0fac8",
   "metadata": {
    "ExecuteTime": {
     "start_time": "2021-11-24T14:39:01.263Z"
    }
   },
   "outputs": [],
   "source": [
    "# Reading new dataset:\n",
    "new_data = (\n",
    "    spark.read.parquet('/Users/dsuveges/project_data/epmc_evidence/epmc_new_evid_2021.10.25.parquet')\n",
    "    .drop('datasourceId', 'datatypeId', '')\n",
    "    .persist()\n",
    ") \n",
    "old_data = (\n",
    "    spark.read.json('/Users/dsuveges/project_data/epmc_evidence/epmc-2021-11-08.json.gz')\n",
    "    .drop('datasourceId', 'datatypeId')\n",
    "    .persist()\n",
    ")"
   ]
  },
  {
   "cell_type": "code",
   "execution_count": 8,
   "id": "e5eae03c",
   "metadata": {
    "ExecuteTime": {
     "end_time": "2021-11-24T14:38:26.293646Z",
     "start_time": "2021-11-24T14:37:31.165654Z"
    }
   },
   "outputs": [
    {
     "name": "stdout",
     "output_type": "stream",
     "text": [
      "root\n",
      " |-- diseaseFromSourceMappedId: string (nullable = true)\n",
      " |-- literature: array (nullable = true)\n",
      " |    |-- element: string (containsNull = true)\n",
      " |-- pmcIds: array (nullable = true)\n",
      " |    |-- element: string (containsNull = true)\n",
      " |-- resourceScore: double (nullable = true)\n",
      " |-- targetFromSourceId: string (nullable = true)\n",
      " |-- textMiningSentences: array (nullable = true)\n",
      " |    |-- element: struct (containsNull = true)\n",
      " |    |    |-- dEnd: long (nullable = true)\n",
      " |    |    |-- dStart: long (nullable = true)\n",
      " |    |    |-- section: string (nullable = true)\n",
      " |    |    |-- tEnd: long (nullable = true)\n",
      " |    |    |-- tStart: long (nullable = true)\n",
      " |    |    |-- text: string (nullable = true)\n",
      "\n"
     ]
    }
   ],
   "source": [
    "(\n",
    "    spark.read.json('/Users/dsuveges/project_data/epmc_evidence/epmc-2021-11-08.json.gz')\n",
    "    .drop('datasourceId', 'datatypeId')\n",
    "    .persist()\n",
    ") "
   ]
  },
  {
   "cell_type": "code",
   "execution_count": null,
   "id": "3dd42f31",
   "metadata": {},
   "outputs": [],
   "source": []
  }
 ],
 "metadata": {
  "kernelspec": {
   "display_name": "Python 3",
   "language": "python",
   "name": "python3"
  },
  "language_info": {
   "codemirror_mode": {
    "name": "ipython",
    "version": 3
   },
   "file_extension": ".py",
   "mimetype": "text/x-python",
   "name": "python",
   "nbconvert_exporter": "python",
   "pygments_lexer": "ipython3",
   "version": "3.9.5"
  }
 },
 "nbformat": 4,
 "nbformat_minor": 5
}
