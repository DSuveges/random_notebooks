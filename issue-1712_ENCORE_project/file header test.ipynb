{
 "cells": [
  {
   "cell_type": "code",
   "execution_count": 15,
   "id": "d2b4d386",
   "metadata": {
    "ExecuteTime": {
     "end_time": "2021-10-15T11:49:33.041681Z",
     "start_time": "2021-10-15T11:49:32.485769Z"
    },
    "scrolled": true
   },
   "outputs": [],
   "source": [
    "from functools import reduce\n",
    "import pandas as pd\n",
    "from pyspark.sql.functions import col, udf, struct, lit, split\n",
    "from pyspark.sql.types import FloatType, ArrayType, StructType, StructField\n",
    "from pyspark.sql import SparkSession\n",
    "from collections import defaultdict\n",
    "\n",
    "# establish spark connection\n",
    "spark = (\n",
    "    SparkSession.builder\n",
    "    .master('local[*]')\n",
    "    .getOrCreate()\n",
    ")\n",
    "\n",
    "\n",
    "folder = '/Users/dsuveges/project_data/Shared_Data/OTAR2062/Aug21_ExactMatchData'\n",
    "\n",
    "## \n",
    "## Overlap between the BRCA files \n",
    "##\n",
    "\n",
    "files = [\n",
    "    'BRCA-1_ExactMatch_Gemini_SENSITIVE_LETHALITY_ALL.txt',\n",
    "    'BRCA-1_ExactMatch_Gemini_STRONG_ALL.txt',\n",
    "    'BRCA-1_ExactMatch_Gemini_SENSITIVE_RECOVERY_ALL.txt', #\n",
    "    'BRCA-1_ExactMatch_LogFC_All.gene.stats.annotated.txt' # Get this.\n",
    "]\n",
    "\n",
    "# Read all files and generate a list of file header:\n",
    "headers = {}\n",
    "for file in files:\n",
    "    headers[file] = (\n",
    "        spark.read.csv(f'{folder}/{file}', sep=' ', header=True)\n",
    "        .columns\n",
    "    )\n",
    "    \n"
   ]
  },
  {
   "cell_type": "code",
   "execution_count": 35,
   "id": "d832332f",
   "metadata": {
    "ExecuteTime": {
     "end_time": "2021-10-15T12:44:20.526898Z",
     "start_time": "2021-10-15T12:44:20.513699Z"
    }
   },
   "outputs": [
    {
     "name": "stdout",
     "output_type": "stream",
     "text": [
      "|           |   GEMINI_lethality |   GEMINI_strong |   GEMINI_recovery |   LogFC |\n",
      "|:----------|-------------------:|----------------:|------------------:|--------:|\n",
      "| SIDM00146 |                  1 |               1 |                 1 |       0 |\n",
      "| SIDM00272 |                  1 |               1 |                 1 |       0 |\n",
      "| SIDM01042 |                  1 |               1 |                 1 |       0 |\n",
      "| SIDM00875 |                  1 |               1 |                 1 |       0 |\n",
      "| Gene      |                  1 |               1 |                 1 |       0 |\n",
      "| SIDM00957 |                  0 |               0 |                 0 |       1 |\n",
      "| SIDM00214 |                  0 |               0 |                 0 |       1 |\n",
      "| SIDM00833 |                  0 |               0 |                 0 |       1 |\n",
      "| SIDM00681 |                  0 |               0 |                 0 |       1 |\n",
      "| SIDM00834 |                  0 |               0 |                 0 |       1 |\n",
      "| SIDM00677 |                  0 |               0 |                 0 |       1 |\n",
      "| SIDM00537 |                  0 |               0 |                 0 |       1 |\n",
      "| SIDM01090 |                  0 |               0 |                 0 |       1 |\n",
      "| SIDM00782 |                  0 |               0 |                 0 |       1 |\n",
      "| SIDM00359 |                  0 |               0 |                 0 |       1 |\n",
      "| num       |                  0 |               0 |                 0 |       1 |\n",
      "| SIDM00783 |                  0 |               0 |                 0 |       1 |\n",
      "| SIDM00837 |                  0 |               0 |                 0 |       1 |\n",
      "| SIDM00194 |                  0 |               0 |                 0 |       1 |\n",
      "| SIDM00680 |                  0 |               0 |                 0 |       1 |\n",
      "| SIDM00944 |                  0 |               0 |                 0 |       1 |\n",
      "| SIDM00778 |                  0 |               0 |                 0 |       1 |\n",
      "| SIDM00841 |                  0 |               0 |                 0 |       1 |\n",
      "| SIDM00835 |                  0 |               0 |                 0 |       1 |\n",
      "| SIDM00960 |                  0 |               0 |                 0 |       1 |\n",
      "| SIDM00832 |                  0 |               0 |                 0 |       1 |\n",
      "| SIDM00193 |                  0 |               0 |                 0 |       1 |\n",
      "| SIDM00776 |                  0 |               0 |                 0 |       1 |\n",
      "| SIDM00839 |                  0 |               0 |                 0 |       1 |\n",
      "| SIDM00118 |                  0 |               0 |                 0 |       1 |\n",
      "| id        |                  0 |               0 |                 0 |       1 |\n",
      "| Note2     |                  1 |               1 |                 1 |       1 |\n",
      "| Note1     |                  1 |               1 |                 1 |       1 |\n",
      "| SIDM00136 |                  1 |               1 |                 1 |       1 |\n",
      "| SIDM00789 |                  0 |               0 |                 0 |       1 |\n",
      "| SIDM00049 |                  0 |               0 |                 0 |       1 |\n"
     ]
    }
   ],
   "source": [
    "from collections import defaultdict\n",
    "\n",
    "cleaned_header = defaultdict(list)\n",
    "default_values = {\n",
    "    file: False for file in headers.keys()\n",
    "}\n",
    "\n",
    "for file, header in headers.items():\n",
    "    cell_lines = list({x.split('_')[0] for x in header})\n",
    "    for cell_line in cell_lines:\n",
    "        try:\n",
    "            cleaned_header[cell_line][file] = True\n",
    "        except:\n",
    "            cleaned_header[cell_line] = default_values.copy()\n",
    "            cleaned_header[cell_line][file] = True\n",
    "    \n",
    "    \n",
    "print(\n",
    "    pd.DataFrame(cleaned_header)\n",
    "    .transpose()\n",
    "    .rename(columns={\n",
    "        'BRCA-1_ExactMatch_Gemini_SENSITIVE_LETHALITY_ALL.txt': 'GEMINI_lethality',\n",
    "        'BRCA-1_ExactMatch_Gemini_STRONG_ALL.txt': 'GEMINI_strong',\n",
    "        'BRCA-1_ExactMatch_Gemini_SENSITIVE_RECOVERY_ALL.txt': 'GEMINI_recovery',\n",
    "        'BRCA-1_ExactMatch_LogFC_All.gene.stats.annotated.txt': 'LogFC'\n",
    "    })\n",
    "    .sort_values('LogFC')\n",
    "    .to_markdown()\n",
    ")"
   ]
  },
  {
   "cell_type": "code",
   "execution_count": 23,
   "id": "f24310b8",
   "metadata": {
    "ExecuteTime": {
     "end_time": "2021-10-15T11:52:18.849933Z",
     "start_time": "2021-10-15T11:52:18.845140Z"
    }
   },
   "outputs": [
    {
     "data": {
      "text/plain": [
       "['BRCA-1_ExactMatch_Gemini_SENSITIVE_LETHALITY_ALL.txt',\n",
       " 'BRCA-1_ExactMatch_Gemini_STRONG_ALL.txt',\n",
       " 'BRCA-1_ExactMatch_Gemini_SENSITIVE_RECOVERY_ALL.txt',\n",
       " 'BRCA-1_ExactMatch_LogFC_All.gene.stats.annotated.txt']"
      ]
     },
     "execution_count": 23,
     "metadata": {},
     "output_type": "execute_result"
    }
   ],
   "source": [
    "all_files = list(headers.keys())\n",
    "# for cell, files in cleaned_header:\n",
    "all_files"
   ]
  },
  {
   "cell_type": "code",
   "execution_count": 42,
   "id": "4fae472e",
   "metadata": {
    "ExecuteTime": {
     "end_time": "2021-10-19T10:34:40.704924Z",
     "start_time": "2021-10-19T10:34:40.116656Z"
    }
   },
   "outputs": [
    {
     "name": "stdout",
     "output_type": "stream",
     "text": [
      "|           |   GEMINI_lethality |   GEMINI_strong |   GEMINI_recovery |   LogFC |\n",
      "|:----------|-------------------:|----------------:|------------------:|--------:|\n",
      "| Gene      |                  1 |               1 |                 1 |       0 |\n",
      "| SIDM00118 |                  1 |               1 |                 1 |       1 |\n",
      "| SIDM00049 |                  1 |               1 |                 1 |       1 |\n",
      "| SIDM00778 |                  1 |               1 |                 1 |       1 |\n",
      "| SIDM00783 |                  1 |               1 |                 1 |       1 |\n",
      "| SIDM00359 |                  1 |               1 |                 1 |       1 |\n",
      "| SIDM00782 |                  1 |               1 |                 1 |       1 |\n",
      "| SIDM00537 |                  1 |               1 |                 1 |       1 |\n",
      "| SIDM00837 |                  1 |               1 |                 1 |       1 |\n",
      "| SIDM00677 |                  1 |               1 |                 1 |       1 |\n",
      "| SIDM00834 |                  1 |               1 |                 1 |       1 |\n",
      "| SIDM00681 |                  1 |               1 |                 1 |       1 |\n",
      "| SIDM00833 |                  1 |               1 |                 1 |       1 |\n",
      "| SIDM00214 |                  1 |               1 |                 1 |       1 |\n",
      "| SIDM00957 |                  1 |               1 |                 1 |       1 |\n",
      "| SIDM01090 |                  1 |               1 |                 1 |       1 |\n",
      "| SIDM00194 |                  1 |               1 |                 1 |       1 |\n",
      "| SIDM00789 |                  1 |               1 |                 1 |       1 |\n",
      "| SIDM00944 |                  1 |               1 |                 1 |       1 |\n",
      "| SIDM00136 |                  1 |               1 |                 1 |       1 |\n",
      "| SIDM00680 |                  1 |               1 |                 1 |       1 |\n",
      "| SIDM00841 |                  1 |               1 |                 1 |       1 |\n",
      "| SIDM00835 |                  1 |               1 |                 1 |       1 |\n",
      "| SIDM00832 |                  1 |               1 |                 1 |       1 |\n",
      "| SIDM00960 |                  1 |               1 |                 1 |       1 |\n",
      "| SIDM00193 |                  1 |               1 |                 1 |       1 |\n",
      "| SIDM00776 |                  1 |               1 |                 1 |       1 |\n",
      "| Note2     |                  1 |               1 |                 1 |       1 |\n",
      "| Note1     |                  1 |               1 |                 1 |       1 |\n",
      "| SIDM00839 |                  1 |               1 |                 1 |       1 |\n",
      "| id        |                  0 |               0 |                 0 |       1 |\n",
      "| num       |                  0 |               0 |                 0 |       1 |\n"
     ]
    }
   ],
   "source": [
    "folder = '/Users/dsuveges/project_data/Shared_Data/OTAR2062/Aug21_ExactMatchData'\n",
    "\n",
    "## \n",
    "## Overlap between the BRCA files \n",
    "##\n",
    "\n",
    "files = [\n",
    "    'COLO-1_ExactMatch_Gemini_SENSITIVE_LETHALITY_ALL.txt',\n",
    "    'COLO-1_ExactMatch_Gemini_STRONG_ALL.txt',\n",
    "    'COLO-1_ExactMatch_Gemini_SENSITIVE_RECOVERY_ALL.txt', #\n",
    "    'COLO-1_ExactMatch_LogFC_All.gene.stats.annotated.txt' # Get this.\n",
    "]\n",
    "\n",
    "# Read all files and generate a list of file header:\n",
    "headers = {}\n",
    "for file in files:\n",
    "    headers[file] = (\n",
    "        spark.read.csv(f'{folder}/{file}', sep=' ', header=True)\n",
    "        .columns\n",
    "    )\n",
    "    \n",
    "\n",
    "cleaned_header = defaultdict(list)\n",
    "default_values = {\n",
    "    file: False for file in headers.keys()\n",
    "}\n",
    "\n",
    "for file, header in headers.items():\n",
    "    cell_lines = list({x.split('_')[0] for x in header})\n",
    "    for cell_line in cell_lines:\n",
    "        try:\n",
    "            cleaned_header[cell_line][file] = True\n",
    "        except:\n",
    "            cleaned_header[cell_line] = default_values.copy()\n",
    "            cleaned_header[cell_line][file] = True\n",
    "    \n",
    "    \n",
    "print(\n",
    "    pd.DataFrame(cleaned_header)\n",
    "    .transpose()\n",
    "    .rename(columns={\n",
    "        'COLO-1_ExactMatch_Gemini_SENSITIVE_LETHALITY_ALL.txt': 'GEMINI_lethality',\n",
    "        'COLO-1_ExactMatch_Gemini_STRONG_ALL.txt': 'GEMINI_strong',\n",
    "        'COLO-1_ExactMatch_Gemini_SENSITIVE_RECOVERY_ALL.txt': 'GEMINI_recovery',\n",
    "        'COLO-1_ExactMatch_LogFC_All.gene.stats.annotated.txt': 'LogFC'\n",
    "    })\n",
    "    .sort_values('LogFC')\n",
    "    .to_markdown()\n",
    ")"
   ]
  },
  {
   "cell_type": "code",
   "execution_count": 44,
   "id": "6b2e6472",
   "metadata": {
    "ExecuteTime": {
     "end_time": "2021-10-19T10:36:26.529609Z",
     "start_time": "2021-10-19T10:36:26.278862Z"
    }
   },
   "outputs": [
    {
     "name": "stdout",
     "output_type": "stream",
     "text": [
      "|           |   COLO-1_ExactMatch_GEMINI_STRONG_ALL.txt |   LogFC |\n",
      "|:----------|------------------------------------------:|--------:|\n",
      "| Gene      |                                         1 |       0 |\n",
      "| SIDM00118 |                                         1 |       1 |\n",
      "| SIDM00049 |                                         1 |       1 |\n",
      "| SIDM00778 |                                         1 |       1 |\n",
      "| SIDM00783 |                                         1 |       1 |\n",
      "| SIDM00359 |                                         1 |       1 |\n",
      "| SIDM00782 |                                         1 |       1 |\n",
      "| SIDM00537 |                                         1 |       1 |\n",
      "| SIDM00837 |                                         1 |       1 |\n",
      "| SIDM00677 |                                         1 |       1 |\n",
      "| SIDM00834 |                                         1 |       1 |\n",
      "| SIDM00681 |                                         1 |       1 |\n",
      "| SIDM00833 |                                         1 |       1 |\n",
      "| SIDM00214 |                                         1 |       1 |\n",
      "| SIDM00957 |                                         1 |       1 |\n",
      "| SIDM01090 |                                         1 |       1 |\n",
      "| SIDM00194 |                                         1 |       1 |\n",
      "| SIDM00789 |                                         1 |       1 |\n",
      "| SIDM00944 |                                         1 |       1 |\n",
      "| SIDM00136 |                                         1 |       1 |\n",
      "| SIDM00680 |                                         1 |       1 |\n",
      "| SIDM00841 |                                         1 |       1 |\n",
      "| SIDM00835 |                                         1 |       1 |\n",
      "| SIDM00832 |                                         1 |       1 |\n",
      "| SIDM00960 |                                         1 |       1 |\n",
      "| SIDM00193 |                                         1 |       1 |\n",
      "| SIDM00776 |                                         1 |       1 |\n",
      "| Note2     |                                         1 |       1 |\n",
      "| Note1     |                                         1 |       1 |\n",
      "| SIDM00839 |                                         1 |       1 |\n",
      "| id        |                                         0 |       1 |\n",
      "| num       |                                         0 |       1 |\n"
     ]
    }
   ],
   "source": [
    "folder = '/Users/dsuveges/project_data/Shared_Data/OTAR2062/Aug21_AggregatedData/'\n",
    "\n",
    "## \n",
    "## Overlap between the BRCA files \n",
    "##\n",
    "\n",
    "files = [\n",
    "    'COLO-1_ExactMatch_GEMINI_STRONG_ALL.txt',\n",
    "    'COLO-1_ExactMatch_LogFC_Cell-Line-Average_All.gene.stats.annotated.txt' # Get this.\n",
    "]\n",
    "\n",
    "# Read all files and generate a list of file header:\n",
    "headers = {}\n",
    "for file in files:\n",
    "    headers[file] = (\n",
    "        spark.read.csv(f'{folder}/{file}', sep=' ', header=True)\n",
    "        .columns\n",
    "    )\n",
    "    \n",
    "\n",
    "cleaned_header = defaultdict(list)\n",
    "default_values = {\n",
    "    file: False for file in headers.keys()\n",
    "}\n",
    "\n",
    "for file, header in headers.items():\n",
    "    cell_lines = list({x.split('_')[0] for x in header})\n",
    "    for cell_line in cell_lines:\n",
    "        try:\n",
    "            cleaned_header[cell_line][file] = True\n",
    "        except:\n",
    "            cleaned_header[cell_line] = default_values.copy()\n",
    "            cleaned_header[cell_line][file] = True\n",
    "    \n",
    "    \n",
    "print(\n",
    "    pd.DataFrame(cleaned_header)\n",
    "    .transpose()\n",
    "    .rename(columns={\n",
    "#         'COLO-1_ExactMatch_Gemini_SENSITIVE_LETHALITY_ALL.txt': 'GEMINI_lethality',\n",
    "        'COLO-1_ExactMatch_Gemini_STRONG_ALL.txt': 'GEMINI_strong',\n",
    "#         'COLO-1_ExactMatch_Gemini_SENSITIVE_RECOVERY_ALL.txt': 'GEMINI_recovery',\n",
    "        'COLO-1_ExactMatch_LogFC_Cell-Line-Average_All.gene.stats.annotated.txt': 'LogFC'\n",
    "    })\n",
    "    .sort_values('LogFC')\n",
    "    .to_markdown()\n",
    ")"
   ]
  },
  {
   "cell_type": "code",
   "execution_count": null,
   "id": "2719daea",
   "metadata": {},
   "outputs": [],
   "source": []
  }
 ],
 "metadata": {
  "kernelspec": {
   "display_name": "Python 3",
   "language": "python",
   "name": "python3"
  },
  "language_info": {
   "codemirror_mode": {
    "name": "ipython",
    "version": 3
   },
   "file_extension": ".py",
   "mimetype": "text/x-python",
   "name": "python",
   "nbconvert_exporter": "python",
   "pygments_lexer": "ipython3",
   "version": "3.9.5"
  }
 },
 "nbformat": 4,
 "nbformat_minor": 5
}
