{
 "cells": [
  {
   "cell_type": "markdown",
   "id": "b8c30782",
   "metadata": {},
   "source": [
    "# Writing script\n",
    "\n",
    "The previously designed steps needs to be captured in a single stand alone sript.\n",
    "\n",
    "**Tasks:**\n",
    "1. Identifying source dataset from the `~/project_data/encore/ENCORE_FILES_DEC_2021`\n",
    "2. Identifying steps to process\n",
    "3. Write up annotation of input files in a `config.json` file\n",
    "4. Break down task into functions.\n",
    "\n",
    "\n",
    "### Files to be used\n",
    "\n",
    "Suggestions extracted from older documentation:\n",
    "```\n",
    "Use EXACT matches not the MISMATCH1 result.\n",
    "Use _ALL report files as not all data got averaged in the _AVERAGE dataset! Analysis is still going.\n",
    "```\n",
    "\n",
    "Filtering GEMINI dataset:\n",
    "`we should not use FDR for Gemini calls and apply a p-value threshold of p <= 0.05`\n",
    "\n",
    "### Comments on data processing\n",
    "\n",
    "By default we are using all the cell lines in the datasets. There's a problem though: some cell lines are repsented by multiple replicates.... how to handle these cases? \n",
    "\n",
    "* New field: experiment id containing the cell and replicate id. \n",
    "* When pairing lfc data with gemini/bliss data these needs to be tracked.\n",
    "\n",
    "### Updates\n",
    "\n",
    "Any updates might happening needs to be noted under [#1902](https://github.com/opentargets/platform/issues/1902), as the backend team needs to be notified as sooon as possible.\n"
   ]
  },
  {
   "cell_type": "code",
   "execution_count": 228,
   "id": "d9cb0850",
   "metadata": {
    "ExecuteTime": {
     "end_time": "2022-02-10T14:48:51.463580Z",
     "start_time": "2022-02-10T14:48:51.443042Z"
    },
    "code_folding": []
   },
   "outputs": [],
   "source": [
    "import json\n",
    "\n",
    "# These are the parameters to process:\n",
    "parameters = {\n",
    "    \"sharedMetadata\": {\n",
    "        # Filtering: p <= 0.05 and FDR <= 0.25 \n",
    "        \"logFoldChangeCutoffPVal\": 0.05,\n",
    "        \"logFoldChangeCutoffFDR\": 0.25,\n",
    "\n",
    "        # Filtering: p <= 0.05 (also used for bliss)\n",
    "        \"interactionCutoffPVal\": 0.05\n",
    "        \n",
    "    },\n",
    "    \"experiments\": [\n",
    "        {\n",
    "            \"dataset\": \"COLO1\",\n",
    "            \"diseaseFromSourceMappedId\": \"EFO_1001951\",\n",
    "            \"diseaseFromSource\": \"colorectal carcinoma\",\n",
    "            \"logFoldChangeFile\": \"ANALYSIS/GENERAL_STATS/ENCORE_COLO1/SCALED_EXACT/RUNMERGED_SAMPLES/AVERAGE_CELL_LINE/All.gene.stats.annotated.txt\",\n",
    "            \"geminiFile\": \"ANALYSIS/GEMINI_STATS/ENCORE_COLO1_FINAL/EXACT_SCALED/STRONG_ALL.annotated.txt\",\n",
    "            \"blissFile\": \"ANALYSIS/BLISS_STATS/ENCORE_COLO1_FINAL/COLO1_EXACT_SCALED_ZSCORE.txt\"\n",
    "        },\n",
    "        {\n",
    "            \"dataset\": \"COLO2\",\n",
    "            \"diseaseFromSourceMappedId\": \"EFO_1001951\",\n",
    "            \"diseaseFromSource\": \"colorectal carcinoma\",\n",
    "            \"logFoldChangeFile\": \"ANALYSIS/GENERAL_STATS/ENCORE_COLO2/SCALED_EXACT/RUNMERGED_SAMPLES/AVERAGE_CELL_LINE/All.gene.stats.annotated.txt\",\n",
    "            \"geminiFile\": None,\n",
    "            \"blissFile\": None\n",
    "        },\n",
    "        {\n",
    "            \"dataset\": \"COLO3\",\n",
    "            \"diseaseFromSourceMappedId\": \"EFO_1001951\",\n",
    "            \"diseaseFromSource\": \"colorectal carcinoma\",\n",
    "            \"logFoldChangeFile\": \"ANALYSIS/GENERAL_STATS/ENCORE_COLO3/SCALED_EXACT/RUNMERGED_SAMPLES/AVERAGE_CELL_LINE/All.gene.stats.annotated.txt\",\n",
    "            \"geminiFile\": None,\n",
    "            \"blissFile\": None\n",
    "        },\n",
    "        {\n",
    "            \"dataset\": \"BRCA1\",\n",
    "            \"diseaseFromSourceMappedId\": \"EFO_0000305\",\n",
    "            \"diseaseFromSource\": \"breast carcinoma\",\n",
    "            \"logFoldChangeFile\": \"ANALYSIS/GENERAL_STATS/ENCORE_BRCA1/SCALED_EXACT/RUNMERGED_SAMPLES/AVERAGE_CELL_LINE/All.gene.stats.annotated.txt\",\n",
    "            \"geminiFile\": \"ANALYSIS/GEMINI_STATS/ENCORE_BRCA1_FINAL/EXACT_SCALED/STRONG_ALL.annotated.txt\",\n",
    "            \"blissFile\": \"ANALYSIS/BLISS_STATS/ENCORE_BRCA1_FINAL/BRCA1_EXACT_SCALED_ZSCORE.txt\"\n",
    "        },\n",
    "        {\n",
    "            \"dataset\": \"BRCA2\",\n",
    "            \"diseaseFromSourceMappedId\": \"EFO_0000305\",\n",
    "            \"diseaseFromSource\": \"breast carcinoma\",\n",
    "            \"logFoldChangeFile\": None,\n",
    "            \"geminiFile\": None,\n",
    "            \"blissFile\": None\n",
    "        },\n",
    "        {\n",
    "            \"dataset\": \"BRCA3\",\n",
    "            \"diseaseFromSourceMappedId\": \"EFO_0000305\",\n",
    "            \"diseaseFromSource\": \"breast carcinoma\",\n",
    "            \"logFoldChangeFile\": None,\n",
    "            \"geminiFile\": None,\n",
    "            \"blissFile\": None\n",
    "        },\n",
    "    ]\n",
    "}\n",
    "\n",
    "\n",
    "# Exporting parameter set:\n",
    "with open('encore_parameters.json', 'wt') as f:\n",
    "    json.dump(parameters, f, indent=4)\n",
    "    \n",
    "    \n",
    "# input is read from this folder:\n",
    "input_folder = '/Users/dsuveges/project_data/encore/ENCORE_FILES_DEC_2021'"
   ]
  },
  {
   "cell_type": "code",
   "execution_count": 2,
   "id": "035071be",
   "metadata": {
    "ExecuteTime": {
     "end_time": "2022-02-23T16:06:07.917525Z",
     "start_time": "2022-02-23T16:06:02.779258Z"
    },
    "code_folding": [
     93,
     104,
     131
    ]
   },
   "outputs": [],
   "source": [
    "import requests\n",
    "from functools import reduce\n",
    "import pandas as pd\n",
    "from pyspark.sql.functions import (\n",
    "    col, udf, struct, lit, split, expr, collect_set, struct, \n",
    "    regexp_replace, min as pyspark_min, explode,\n",
    "    array_contains, count, first, element_at\n",
    ")\n",
    "from pyspark.sql.types import FloatType, ArrayType, StructType, StructField, BooleanType, StringType\n",
    "from pyspark.sql import SparkSession\n",
    "from collections import defaultdict\n",
    "\n",
    "# establish spark connection\n",
    "spark = (\n",
    "    SparkSession.builder\n",
    "    .master('local[*]')\n",
    "    .getOrCreate()\n",
    ")\n",
    "\n",
    "def lookup_uberon(tissue_label: str) -> str:\n",
    "    url = f'https://www.ebi.ac.uk/ols/api/search?q={tissue_label.lower()}&queryFields=label&ontology=uberon&exact=true'\n",
    "    r = requests.get(url).json()\n",
    "    \n",
    "    if r['response']['numFound'] == 0:\n",
    "        return None\n",
    "    else:\n",
    "        return r['response']['docs'][0]['short_form']\n",
    "\n",
    "def generate_diseaseCellLines(cellPassPortFile):\n",
    "    \n",
    "    # loading cell line annotation data from Sanger:\n",
    "    cell_df = (\n",
    "        spark.read\n",
    "        .option(\"multiline\", True)\n",
    "        .csv(cellPassPortFile, header=True, sep=',', quote='\"')\n",
    "        .withColumn('biomarkerList', parse_msi_status(col('msi_status')))\n",
    "        .select(\n",
    "            col('model_name').alias('name'),\n",
    "            col('model_id').alias('id'),\n",
    "            col('tissue'),\n",
    "            col('biomarkerList')\n",
    "        )\n",
    "        .persist()\n",
    "    )\n",
    "\n",
    "\n",
    "    # Map tissue labels to tissue identifiers:\n",
    "    tissues = (\n",
    "        spark.createDataFrame( \n",
    "            cell_df\n",
    "            .select('tissue')\n",
    "            .distinct()\n",
    "            .toPandas()\n",
    "            .assign(\n",
    "                tissueId = lambda df: df.tissue.apply(lookup_uberon)\n",
    "            )\n",
    "        )\n",
    "        .persist()\n",
    "    )\n",
    "\n",
    "    # Joining with cell lines:\n",
    "    return (\n",
    "        cell_df\n",
    "        .join(tissues, on='tissue', how='left')\n",
    "\n",
    "        # Generating the diseaseCellLines object:\n",
    "        .select('name', 'id', 'biomarkerList', struct(['tissue', 'name', 'id', 'tissueId']).alias('diseaseCellLines'))\n",
    "\n",
    "        # Cleaning up cell line name from dashes:\n",
    "        .withColumn('name', regexp_replace(col('name'), '-', ''))\n",
    "        \n",
    "        .persist()\n",
    "    )\n",
    "\n",
    "@udf(\n",
    "    ArrayType(\n",
    "        StructType([\n",
    "            StructField('name', StringType()), \n",
    "            StructField('description', StringType())\n",
    "        ])\n",
    "    )\n",
    ")\n",
    "def parse_msi_status(status: str) -> dict:\n",
    "    if status == 'MSI':\n",
    "        return     [{\"name\": \"MSI\",\"description\": \"Microsatellite instable\"}]\n",
    "    if status == 'MSS':\n",
    "        return     [{\"name\": \"MSS\",\"description\": \"Microsatellite stable\"}]\n",
    "    else:\n",
    "        return None\n",
    "    \n",
    "\n",
    "\n",
    "@udf(BooleanType())\n",
    "def is_significant(lfc_pval, lfc_fdr, gemini_pval):\n",
    "    if (\n",
    "        (lfc_fdr <= logFoldChangeCutoffFDR) &\n",
    "        (lfc_pval <= logFoldChangeCutoffPVal) &\n",
    "        (gemini_pval <= geminiCutoffPVal)\n",
    "    ):\n",
    "        return True\n",
    "    else:\n",
    "        return False\n",
    "\n",
    "\n",
    "@udf(ArrayType(StructType([\n",
    "    StructField(\"targetFromSourceId\", StringType(), False),\n",
    "    StructField(\"targetRole\", StringType(), False),\n",
    "    StructField(\"interactingTargetFromSourceId\", StringType(), False),\n",
    "    StructField(\"interactingTargetRole\", StringType(), False),\n",
    "])))\n",
    "def parse_targets(gene_pair: str, gene_role: str) -> dict:\n",
    "    genes = gene_pair.split('~')\n",
    "    roles = [\n",
    "        gene_role.replace('Combinations', '').lower(),\n",
    "        'anchor'\n",
    "    ]\n",
    "\n",
    "    assert(len(genes) == 2)\n",
    "    parsed = []\n",
    "\n",
    "    for i, (gene, role) in enumerate(zip(genes, roles)):\n",
    "        parsed.append({\n",
    "            'targetFromSourceId': gene,\n",
    "            'targetRole': role,\n",
    "            'interactingTargetFromSourceId': genes[1] if i == 0 else genes[0],\n",
    "            'interactingTargetRole':  roles[1] if i == 0 else roles[0]\n",
    "        })\n",
    "\n",
    "    return parsed\n",
    "\n",
    "\n",
    "def get_lfc_data(lfc_file):\n",
    "    \n",
    "    # Fixed statistical field names:\n",
    "    stats_fields = ['p-value', 'fdr', 'lfc']\n",
    "\n",
    "    # Reading the data into a single dataframe:\n",
    "    lfc_df = spark.read.csv(lfc_file, sep=' ', header=True)\n",
    "    \n",
    "    # Collect the cell lines from the lfc file header:\n",
    "    cell_lines = set(['_'.join(x.split('_')[:-1]) for x in lfc_df.columns[4:]])\n",
    "\n",
    "    # Generating struct for each cell lines:\n",
    "    # SIDM00049_CSID1053_p-value\n",
    "    # SIDM00049_CSID1053_fdr\n",
    "    # SIDM00049_CSID1053_lfc\n",
    "    # Into: SIDM00049_CSID1053: struct(p-value, fdr, lfc)\n",
    "    expressions = map(lambda cell: (cell, struct([col(f'{cell}_{x}').cast(FloatType()).alias(x) for x in stats_fields])), cell_lines)\n",
    "\n",
    "    # Applying map on the dataframe:\n",
    "    res_df = reduce(lambda DF,value: DF.withColumn(*value) , expressions, lfc_df)\n",
    "\n",
    "    # Stack the previously generated columns:\n",
    "    unpivot_expression = f'''stack({len(cell_lines)}, {\", \".join([f\"'{x}', {x}\" for x in cell_lines])} ) as (cellLineName, cellLineData)'''\n",
    "\n",
    "    return (\n",
    "        res_df\n",
    "\n",
    "        # Unpivot:\n",
    "        .select('id', 'Note1', 'Note2', expr(unpivot_expression))\n",
    "\n",
    "        # Extracting the real model id:\n",
    "        .select(\n",
    "            'id', 'cellLineName', 'Note1', 'Note2', \n",
    "            col('cellLineData.lfc').alias('phenotypicConsequenceLogFoldChange'),\n",
    "            col('cellLineData.p-value').alias('phenotypicConsequencePValue'),\n",
    "            col('cellLineData.fdr').alias('phenotypicConsequenceFDR')\n",
    "        )\n",
    "    )\n",
    "\n",
    "def get_bliss_data(blissFile):\n",
    "    # Fixed statistical field names:\n",
    "    stats_fields = ['zscore', 'pval']\n",
    "\n",
    "    # Read data:\n",
    "    bliss_df = spark.read.csv(blissFile, sep='\\t', header=True)\n",
    "\n",
    "    # Collect the cell lines from the lfc file header:\n",
    "    cell_lines = set(['_'.join(x.split('_')[0:2]) for x in bliss_df.columns[4:] if x.startswith('SID')])\n",
    "\n",
    "    gene_column = 'Gene_Pair'\n",
    "\n",
    "    # Checking for missing columns for cell lines:\n",
    "    missing_columns = [f'{cell}_{stat}' for cell in cell_lines for stat in stats_fields if f'{cell}_{stat}' not in bliss_df.columns]\n",
    "    cells_to_drop = set(['_'.join(x.split('_')[:-1]) for x in missing_columns])\n",
    "\n",
    "    if missing_columns:\n",
    "        print(f'Missing columns: {\", \".join(missing_columns)}')\n",
    "        print(f'Dropping cell_lines: {\", \".join(cells_to_drop)}')\n",
    "\n",
    "        # Removing missing cell lines:\n",
    "        cell_lines = [x for x in cell_lines if x not in cells_to_drop]\n",
    "\n",
    "\n",
    "    # Generating struct for each cell lines:\n",
    "    expressions = map(lambda cell: (cell, struct([col(f'{cell}_{x}').alias(x) for x in stats_fields])), cell_lines)\n",
    "\n",
    "    # Applying map on the dataframe:\n",
    "    res_df = reduce(lambda DF,value: DF.withColumn(*value) , expressions, bliss_df)\n",
    "\n",
    "    # Stack the previously generated columns:\n",
    "    unpivot_expression = f'''stack({len(cell_lines)}, {\", \".join([f\"'{x}', {x}\" for x in cell_lines])} ) as (cellLineName, cellLineData)'''\n",
    "\n",
    "    return (\n",
    "        res_df\n",
    "\n",
    "        # Create a consistent id column:\n",
    "        .withColumn('id', regexp_replace(col(gene_column), ';', '~'))\n",
    "\n",
    "        # Unpivot:\n",
    "        .select('id', expr(unpivot_expression))\n",
    "\n",
    "        # Extracting the real model id:\n",
    "        .select(\n",
    "            'id', regexp_replace('cellLineName', '_strong', '').alias('cellLineName'),\n",
    "            col('cellLineData.zscore').cast(FloatType()).alias('geneticInteractionScore'),\n",
    "            col('cellLineData.pval').cast(FloatType()).alias('geneticInteractionPValue'),\n",
    "        )\n",
    "        .withColumn('geneticInteractionMethod', lit('bliss'))\n",
    "    )\n",
    "\n",
    "def get_gemini_data(gemini_file):\n",
    "    \n",
    "    # Fixed statistical field names:\n",
    "    stats_fields = ['score', 'pval', 'FDR']\n",
    "\n",
    "    # Reading the data into a single dataframe:\n",
    "    gemini_df = spark.read.csv(gemini_file, sep=' ', header=True)\n",
    "    \n",
    "    # Collect the cell lines from the lfc file header:\n",
    "    cell_lines = set(['_'.join(x.split('_')[:-1]) for x in gemini_df.columns[4:] if x.startswith('SID')])\n",
    "\n",
    "    # This is an ugly way to troubleshooting irregularities in the data:\n",
    "    if 'Gene_Pair' in gemini_df.columns:\n",
    "        gene_column = 'Gene_Pair'\n",
    "    elif 'Gene_Pair0' in gemini_df.columns:\n",
    "        gene_column = 'Gene_Pair0'\n",
    "    else:\n",
    "        raise ValueError( f'No Gene_Pair column in Gemini data: {\",\".join(gemini_df.columns)}')\n",
    "        \n",
    "    # This is a mindfck, but there are potential missing columns in the datafile...\n",
    "    # We'll create these columns with nulls.... I don't believe.\n",
    "    missing_columns = [f'{cell}_{stat}' for cell in cell_lines for stat in stats_fields if f'{cell}_{stat}' not in gemini_df.columns]\n",
    "    cells_to_drop = set(['_'.join(x.split('_')[:-1]) for x in missing_columns])\n",
    "    if missing_columns:\n",
    "        print(f'Missing columns: {\", \".join(missing_columns)}')\n",
    "        print(f'Dropping cell_lines: {\", \".join(cells_to_drop)}')\n",
    "\n",
    "        # Removing missing cell lines:\n",
    "        cell_lines = [x for x in cell_lines if x not in cells_to_drop]\n",
    "    \n",
    "    # Generating struct for each cell lines:\n",
    "    expressions = map(lambda cell: (cell, struct([col(f'{cell}_{x}').alias(x) for x in stats_fields])), cell_lines)\n",
    "\n",
    "    # Applying map on the dataframe:\n",
    "    res_df = reduce(lambda DF,value: DF.withColumn(*value) , expressions, gemini_df)\n",
    "\n",
    "    # Stack the previously generated columns:\n",
    "    unpivot_expression = f'''stack({len(cell_lines)}, {\", \".join([f\"'{x}', {x}\" for x in cell_lines])} ) as (cellLineName, cellLineData)'''\n",
    "\n",
    "    return (\n",
    "        res_df\n",
    "        \n",
    "        # Create a consistent id column:\n",
    "        .withColumn('id', regexp_replace(col(gene_column), ';', '~'))\n",
    "\n",
    "        # Unpivot:\n",
    "        .select('id', expr(unpivot_expression))\n",
    "\n",
    "        # Extracting the real model id:\n",
    "        .select(\n",
    "            'id', regexp_replace('cellLineName', '_strong', '').alias('cellLineName'),\n",
    "            col('cellLineData.score').cast(FloatType()).alias('geneticInteractionScore'),\n",
    "            col('cellLineData.pval').cast(FloatType()).alias('geneticInteractionPValue'),\n",
    "            col('cellLineData.FDR').cast(FloatType()).alias('geneticInteractionFDR')\n",
    "        )\n",
    "        .withColumn('geneticInteractionMethod', lit('gemini'))\n",
    "    )\n",
    "\n",
    "\n"
   ]
  },
  {
   "cell_type": "code",
   "execution_count": 222,
   "id": "3af9993f",
   "metadata": {
    "ExecuteTime": {
     "end_time": "2022-02-10T12:54:55.678698Z",
     "start_time": "2022-02-10T12:54:45.142993Z"
    },
    "code_folding": []
   },
   "outputs": [
    {
     "name": "stdout",
     "output_type": "stream",
     "text": [
      "Missing columns: SIDM00776_CSID1064_strong_FDR, SIDM00957_CSID1061_strong_pval\n",
      "Dropping cell_lines: SIDM00776_CSID1064_strong, SIDM00957_CSID1061_strong\n",
      "-RECORD 0----------------------------------------------------------------------------------\n",
      " cellId                             | SIDM00193                                            \n",
      " id                                 | KIF14~PRMT1                                          \n",
      " cellLineName                       | SIDM00193_CSID1035                                   \n",
      " Note1                              | LibraryCombinations                                  \n",
      " Note2                              | LibraryCombinations                                  \n",
      " phenotypicConsequenceLogFoldChange | -1.1626                                              \n",
      " phenotypicConsequencePValue        | 0.030703                                             \n",
      " phenotypicConsequenceFDR           | 0.227511                                             \n",
      " geneticInteractionScore            | 1.0196909                                            \n",
      " geneticInteractionPValue           | 0.04757625                                           \n",
      " geneticInteractionFDR              | 0.42128566                                           \n",
      " geneticInteractionMethod           | gemini                                               \n",
      " diseaseCellLines                   | {Large Intestine, SNU-81, SIDM00193, UBERON_0000059} \n",
      " biomarkerList                      | [{MSS, Microsatellite stable}]                       \n",
      "only showing top 1 row\n",
      "\n"
     ]
    }
   ],
   "source": [
    "\n",
    "# Extracting parameters:\n",
    "logFoldChangeCutoffPVal = parameters['sharedMetadata']['logFoldChangeCutoffPVal']\n",
    "logFoldChangeCutoffFDR = parameters['sharedMetadata']['logFoldChangeCutoffFDR']\n",
    "geminiCutoffPVal = parameters['sharedMetadata']['geminiCutoffPVal']\n",
    "diseaseFromSourceMappedId = parameters['experiments'][0]['diseaseFromSourceMappedId']\n",
    "diseaseFromSource = parameters['experiments'][0]['diseaseFromSource']\n",
    "\n",
    "# Generate cell line table:\n",
    "cellPassportFile = '/Users/dsuveges/project_data/encore/ENCORE_FILES_DEC_2021/model_list_20220124.csv'\n",
    "cellpassportMap = generate_diseaseCellLines(cellPassportFile)\n",
    "\n",
    "# experiment = COLO1 \n",
    "dataFolder = '/Users/dsuveges/project_data/encore/ENCORE_FILES_DEC_2021'\n",
    "experiment = parameters['experiments'][0]\n",
    "\n",
    "## Reading lfc data:\n",
    "lfc_file = f'{dataFolder}/{experiment[\"logFoldChangeFile\"]}'\n",
    "lfc_df = get_lfc_data(lfc_file)\n",
    "\n",
    "## Reading gemini data:\n",
    "gemini_file = f'{dataFolder}/{experiment[\"geminiFile\"]}'\n",
    "gemini_df = get_gemini_data(gemini_file)\n",
    "\n",
    "## Reading bliss data:\n",
    "bliss_file = dataFolder +'/' + parameters['experiments'][0]['blissFile']\n",
    "bliss_df = get_bliss_data(bliss_file)\n",
    "\n",
    "## Merging lfc + gemini:\n",
    "merged_dataset = (\n",
    "    lfc_df\n",
    "    \n",
    "    # Data is joined by the gene-pair and cell line:\n",
    "    # .join(bliss_df, how='inner', on=['id', 'cellLineName'])\n",
    "    .join(gemini_df, how='inner', on=['id', 'cellLineName'])\n",
    "    \n",
    "    # Applying filters on logFoldChange + gemini p-value:\n",
    "    .filter( \n",
    "        (col('phenotypicConsequencePValue') <= logFoldChangeCutoffPVal) &\n",
    "        (col('phenotypicConsequenceFDR') <= logFoldChangeCutoffFDR) &\n",
    "        (col('geneticInteractionPValue') <= geminiCutoffPVal)\n",
    "    )\n",
    "    \n",
    "    # Cleaning the cell line annotation:\n",
    "    .withColumn('cellId', split(col('cellLineName'), '_').getItem(0))\n",
    "    \n",
    "    # Adding cell line and biomarker info:\n",
    "    .join(cellpassportMap.select(col('id').alias('cellId'), 'diseaseCellLines', 'biomarkerList'), on='cellId')\n",
    "\n",
    ")\n",
    "\n",
    "\n",
    "merged_dataset.show(1, vertical=True, truncate=False)"
   ]
  },
  {
   "cell_type": "markdown",
   "id": "2dbdcdfe",
   "metadata": {
    "ExecuteTime": {
     "end_time": "2022-02-01T23:31:59.807544Z",
     "start_time": "2022-02-01T23:31:59.701305Z"
    }
   },
   "source": [
    "### Adding the decoration for the evidence"
   ]
  },
  {
   "cell_type": "code",
   "execution_count": 159,
   "id": "77202827",
   "metadata": {
    "ExecuteTime": {
     "end_time": "2022-02-05T00:05:35.641843Z",
     "start_time": "2022-02-05T00:05:35.510097Z"
    },
    "code_folding": []
   },
   "outputs": [
    {
     "name": "stdout",
     "output_type": "stream",
     "text": [
      "+----------------+---------+--------------------+--------------------+\n",
      "|            name|       id|       biomarkerList|    diseaseCellLines|\n",
      "+----------------+---------+--------------------+--------------------+\n",
      "|            RH18|SIDM00454|[{MSS, Microsatel...|{Soft Tissue, RH-...|\n",
      "|              RD|SIDM00847|[{MSS, Microsatel...|{Soft Tissue, RD,...|\n",
      "|         SCCH196|SIDM00031|                null|{Soft Tissue, SCC...|\n",
      "|          TE125T|SIDM01763|                null|{Soft Tissue, TE-...|\n",
      "|          MFHino|SIDM00299|[{MSS, Microsatel...|{Soft Tissue, MFH...|\n",
      "|             RKN|SIDM00353|[{MSS, Microsatel...|{Soft Tissue, RKN...|\n",
      "|            KYM1|SIDM00552|[{MSS, Microsatel...|{Soft Tissue, KYM...|\n",
      "|           PEAZ1|SIDM00830|                null|{Soft Tissue, PEA...|\n",
      "|          Hs633T|SIDM00667|[{MSS, Microsatel...|{Soft Tissue, Hs-...|\n",
      "|              HX|SIDM01213|                null|{Soft Tissue, HX,...|\n",
      "|            A204|SIDM00798|[{MSS, Microsatel...|{Soft Tissue, A20...|\n",
      "|            G402|SIDM00855|[{MSS, Microsatel...|{Soft Tissue, G-4...|\n",
      "|          HT1080|SIDM00828|[{MSS, Microsatel...|{Soft Tissue, HT-...|\n",
      "|             GCT|SIDM00853|[{MSS, Microsatel...|{Soft Tissue, GCT...|\n",
      "|          SKLMS1|SIDM01109|[{MSS, Microsatel...|{Soft Tissue, SK-...|\n",
      "|CCLF_PEDS_0008_T|SIDM01982|                null|{Soft Tissue, CCL...|\n",
      "|          RH18DM|SIDM01984|                null|{Soft Tissue, RH1...|\n",
      "|           LPS27|SIDM01974|                null|{Soft Tissue, LPS...|\n",
      "|           SW684|SIDM01175|[{MSS, Microsatel...|{Soft Tissue, SW6...|\n",
      "|           SW982|SIDM01161|[{MSS, Microsatel...|{Soft Tissue, SW9...|\n",
      "+----------------+---------+--------------------+--------------------+\n",
      "only showing top 20 rows\n",
      "\n"
     ]
    }
   ],
   "source": [
    "cellpassportMap.show()\n",
    "    "
   ]
  },
  {
   "cell_type": "code",
   "execution_count": 223,
   "id": "d6b49fb1",
   "metadata": {
    "ExecuteTime": {
     "end_time": "2022-02-10T12:55:12.079457Z",
     "start_time": "2022-02-10T12:55:07.943157Z"
    }
   },
   "outputs": [
    {
     "name": "stdout",
     "output_type": "stream",
     "text": [
      "-RECORD 0----------------------------------------------------------------------------------\n",
      " phenotypicConsequenceLogFoldChange | -1.1626                                              \n",
      " phenotypicConsequencePValue        | 0.030703                                             \n",
      " phenotypicConsequenceFDR           | 0.227511                                             \n",
      " geneticInteractionScore            | 1.0196909                                            \n",
      " geneticInteractionPValue           | 0.04757625                                           \n",
      " geneticInteractionFDR              | 0.42128566                                           \n",
      " geneticInteractionMethod           | gemini                                               \n",
      " diseaseCellLines                   | {Large Intestine, SNU-81, SIDM00193, UBERON_0000059} \n",
      " biomarkerList                      | [{MSS, Microsatellite stable}]                       \n",
      " targetFromSourceId                 | PRMT1                                                \n",
      " targetRole                         | anchor                                               \n",
      " interactingTargetFromSourceId      | KIF14                                                \n",
      " interactingTargetRole              | library                                              \n",
      " datatypeId                         | ot_partner                                           \n",
      " datasourceId                       | encore                                               \n",
      " projectId                          | OTAR2062                                             \n",
      " projectDescription                 | Encore project                                       \n",
      " geneInteractionType                | cooperative                                          \n",
      " diseaseFromSourceMappedId          | EFO_1001951                                          \n",
      " diseaseFromSource                  | colorectal carcinoma                                 \n",
      "only showing top 1 row\n",
      "\n"
     ]
    }
   ],
   "source": [
    "evidence_df = (\n",
    "    merged_dataset\n",
    "    \n",
    "    # Cleaning the cell line annotation:\n",
    "    .withColumn('cellId', split(col('cellLineName'), '_').getItem(0))\n",
    "\n",
    "    # Parsing/exploding gene names and target roles:\n",
    "    .withColumn('id', parse_targets(col('id'), col('Note1')))\n",
    "    .select('*', explode(col('id')).alias('genes'))\n",
    "    .select('*', col('genes.*'))\n",
    "\n",
    "    # Adding some literals specific for this type of evidence:\n",
    "    .withColumn('datatypeId', lit('ot_partner'))\n",
    "    .withColumn('datasourceId', lit('encore'))\n",
    "    .withColumn('projectId', lit('OTAR2062'))\n",
    "    .withColumn('projectDescription', lit('Encore project')) ### TODO - fix this!\n",
    "    .withColumn('geneInteractionType', lit('cooperative'))\n",
    "    \n",
    "    # Map disease to efo:\n",
    "    .withColumn('diseaseFromSourceMappedId', lit(diseaseFromSourceMappedId))\n",
    "    .withColumn('diseaseFromSource', lit(diseaseFromSource))\n",
    "    \n",
    "    # Removing duplications:\n",
    "    .drop(*['cellLineName', 'cellId', 'Note1', 'Note2', 'hit', 'id', 'genes'])\n",
    "    .distinct()        \n",
    "    \n",
    "    .persist()\n",
    ")\n",
    "\n",
    "evidence_df.show(1, vertical=True, truncate=False)"
   ]
  },
  {
   "cell_type": "code",
   "execution_count": 229,
   "id": "a53e477a",
   "metadata": {
    "ExecuteTime": {
     "end_time": "2022-02-10T14:51:49.916220Z",
     "start_time": "2022-02-10T14:51:49.910292Z"
    }
   },
   "outputs": [
    {
     "name": "stdout",
     "output_type": "stream",
     "text": [
      "root\n",
      " |-- phenotypicConsequenceLogFoldChange: float (nullable = true)\n",
      " |-- phenotypicConsequencePValue: float (nullable = true)\n",
      " |-- phenotypicConsequenceFDR: float (nullable = true)\n",
      " |-- geneticInteractionScore: float (nullable = true)\n",
      " |-- geneticInteractionPValue: float (nullable = true)\n",
      " |-- geneticInteractionFDR: float (nullable = true)\n",
      " |-- geneticInteractionMethod: string (nullable = false)\n",
      " |-- diseaseCellLines: struct (nullable = false)\n",
      " |    |-- tissue: string (nullable = true)\n",
      " |    |-- name: string (nullable = true)\n",
      " |    |-- id: string (nullable = true)\n",
      " |    |-- tissueId: string (nullable = true)\n",
      " |-- biomarkerList: array (nullable = true)\n",
      " |    |-- element: struct (containsNull = true)\n",
      " |    |    |-- name: string (nullable = true)\n",
      " |    |    |-- description: string (nullable = true)\n",
      " |-- targetFromSourceId: string (nullable = true)\n",
      " |-- targetRole: string (nullable = true)\n",
      " |-- interactingTargetFromSourceId: string (nullable = true)\n",
      " |-- interactingTargetRole: string (nullable = true)\n",
      " |-- datatypeId: string (nullable = false)\n",
      " |-- datasourceId: string (nullable = false)\n",
      " |-- projectId: string (nullable = false)\n",
      " |-- projectDescription: string (nullable = false)\n",
      " |-- geneInteractionType: string (nullable = false)\n",
      " |-- diseaseFromSourceMappedId: string (nullable = false)\n",
      " |-- diseaseFromSource: string (nullable = false)\n",
      "\n"
     ]
    }
   ],
   "source": [
    "evidence_df.printSchema()"
   ]
  },
  {
   "cell_type": "code",
   "execution_count": 162,
   "id": "dd361a42",
   "metadata": {
    "ExecuteTime": {
     "end_time": "2022-02-05T00:11:03.873237Z",
     "start_time": "2022-02-05T00:11:03.865371Z"
    }
   },
   "outputs": [
    {
     "data": {
      "text/plain": [
       "['phenotypicConsequenceLogFoldChange',\n",
       " 'phenotypicConsequencePValue',\n",
       " 'phenotypicConsequenceFDR',\n",
       " 'geneticInteractionScore',\n",
       " 'geneticInteractionPValue',\n",
       " 'geneticInteractionFDR',\n",
       " 'geneticInteractionMethod',\n",
       " 'diseaseCellLines',\n",
       " 'biomarkerList',\n",
       " 'targetFromSourceId',\n",
       " 'targetRole',\n",
       " 'interactingTargetFromSourceId',\n",
       " 'interactingTargetRole',\n",
       " 'datatypeId',\n",
       " 'datasourceId',\n",
       " 'projectId',\n",
       " 'projectDescription',\n",
       " 'diseaseFromSourceMappedId',\n",
       " 'diseaseFromSource']"
      ]
     },
     "execution_count": 162,
     "metadata": {},
     "output_type": "execute_result"
    }
   ],
   "source": [
    "evidence_df.columns"
   ]
  },
  {
   "cell_type": "code",
   "execution_count": 225,
   "id": "ff52aefa",
   "metadata": {
    "ExecuteTime": {
     "end_time": "2022-02-10T12:59:06.925526Z",
     "start_time": "2022-02-10T12:59:04.953199Z"
    }
   },
   "outputs": [],
   "source": [
    "import tempfile\n",
    "import os\n",
    "\n",
    "\n",
    "def write_evidence_strings(evidence, output_file):\n",
    "    \"\"\"Exports the table to a compressed JSON file containing the evidence strings.\"\"\"\n",
    "    with tempfile.TemporaryDirectory() as tmp_dir_name:\n",
    "        (\n",
    "            evidence.coalesce(1).write.format('json').mode('overwrite')\n",
    "            .option('compression', 'org.apache.hadoop.io.compress.GzipCodec').save(tmp_dir_name)\n",
    "        )\n",
    "        json_chunks = [f for f in os.listdir(tmp_dir_name) if f.endswith('.json.gz')]\n",
    "        assert len(json_chunks) == 1, f'Expected one JSON file, but found {len(json_chunks)}.'\n",
    "        os.rename(os.path.join(tmp_dir_name, json_chunks[0]), output_file)\n",
    "\n",
    "        \n",
    "write_evidence_strings(evidence_df, 'encore-2022-02-10.json.gz')\n"
   ]
  },
  {
   "cell_type": "code",
   "execution_count": 227,
   "id": "57bfffcd",
   "metadata": {
    "ExecuteTime": {
     "end_time": "2022-02-10T14:46:42.462903Z",
     "start_time": "2022-02-10T14:46:42.329499Z"
    }
   },
   "outputs": [
    {
     "name": "stdout",
     "output_type": "stream",
     "text": [
      "{\n",
      "  \"phenotypicConsequenceLogFoldChange\": -1.4731,\n",
      "  \"phenotypicConsequencePValue\": 0.026617,\n",
      "  \"phenotypicConsequenceFDR\": 0.211739,\n",
      "  \"geneticInteractionScore\": 1.2418852,\n",
      "  \"geneticInteractionPValue\": 0.04065454,\n",
      "  \"geneticInteractionFDR\": 0.29073796,\n",
      "  \"geneticInteractionMethod\": \"gemini\",\n",
      "  \"diseaseCellLines\": {\n",
      "    \"tissue\": \"Large Intestine\",\n",
      "    \"name\": \"SW1463\",\n",
      "    \"id\": \"SIDM00834\",\n",
      "    \"tissueId\": \"UBERON_0000059\"\n",
      "  },\n",
      "  \"biomarkerList\": [\n",
      "    {\n",
      "      \"name\": \"MSS\",\n",
      "      \"description\": \"Microsatellite stable\"\n",
      "    }\n",
      "  ],\n",
      "  \"targetFromSourceId\": \"PRMT1\",\n",
      "  \"targetRole\": \"anchor\",\n",
      "  \"interactingTargetFromSourceId\": \"MAPK7\",\n",
      "  \"interactingTargetRole\": \"library\",\n",
      "  \"datatypeId\": \"ot_partner\",\n",
      "  \"datasourceId\": \"encore\",\n",
      "  \"projectId\": \"OTAR2062\",\n",
      "  \"projectDescription\": \"Encore project\",\n",
      "  \"geneInteractionType\": \"cooperative\",\n",
      "  \"diseaseFromSourceMappedId\": \"EFO_1001951\",\n",
      "  \"diseaseFromSource\": \"colorectal carcinoma\"\n",
      "}\n"
     ]
    }
   ],
   "source": [
    "%%bash\n",
    "\n",
    "\n",
    "gzcat encore-2022-02-10.json.gz | sort -R | head -n1 | jq"
   ]
  },
  {
   "cell_type": "code",
   "execution_count": 176,
   "id": "9bdfa680",
   "metadata": {
    "ExecuteTime": {
     "end_time": "2022-02-10T09:44:05.252768Z",
     "start_time": "2022-02-10T09:44:04.960244Z"
    }
   },
   "outputs": [
    {
     "name": "stdout",
     "output_type": "stream",
     "text": [
      "+-------+----------------------------------+\n",
      "|summary|phenotypicConsequenceLogFoldChange|\n",
      "+-------+----------------------------------+\n",
      "|  count|                            671022|\n",
      "|   mean|               -0.3865246497843473|\n",
      "| stddev|                0.6880722851652828|\n",
      "|    min|                           -10.047|\n",
      "|    max|                            3.9859|\n",
      "+-------+----------------------------------+\n",
      "\n"
     ]
    }
   ],
   "source": [
    "lfc_df.select('phenotypicConsequenceLogFoldChange').describe().show()"
   ]
  },
  {
   "cell_type": "code",
   "execution_count": 198,
   "id": "cc3f6acd",
   "metadata": {
    "ExecuteTime": {
     "end_time": "2022-02-10T12:06:54.753676Z",
     "start_time": "2022-02-10T12:06:54.444886Z"
    }
   },
   "outputs": [
    {
     "name": "stdout",
     "output_type": "stream",
     "text": [
      "+------------+------------------+-----------------------+------------------------+------------------------+\n",
      "|          id|      cellLineName|geneticInteractionScore|geneticInteractionPValue|geneticInteractionMethod|\n",
      "+------------+------------------+-----------------------+------------------------+------------------------+\n",
      "|  ABCB1~AKT1|SIDM00193_CPID1065|              -2.078329|              0.03767907|                   bliss|\n",
      "|  ABCB1~AKT1|SIDM00194_CPID1205|             -2.4500997|             0.014281668|                   bliss|\n",
      "|  ABCB1~AKT1|SIDM00776_CPID1286|               -2.17611|              0.02954704|                   bliss|\n",
      "|   ABCB1~APC|SIDM00359_CPID1199|             -2.2621548|             0.023687847|                   bliss|\n",
      "|   ABCB1~APC|SIDM00778_CPID1280|              -2.589407|             0.009614142|                   bliss|\n",
      "|ABCB1~ARID1A|SIDM00833_CPID1259|             -2.4585474|             0.013950037|                   bliss|\n",
      "|ABCB1~ARID1A|SIDM00778_CPID1280|             -2.8918712|            0.0038295495|                   bliss|\n",
      "|   ABCB1~ATM|SIDM00837_CPID1149|             -2.2835085|             0.022400426|                   bliss|\n",
      "|   ABCB1~ATR|SIDM00118_CPID1143|             -3.6820793|            2.3133951E-4|                   bliss|\n",
      "|   ABCB1~ATR|SIDM00778_CPID1280|             -2.0638309|              0.03903376|                   bliss|\n",
      "|  ABCB1~BRAF|SIDM00837_CPID1146|              2.2132514|             0.026880318|                   bliss|\n",
      "|  ABCB1~CDK4|SIDM00537_CPID1056|             -2.2870066|             0.022195442|                   bliss|\n",
      "|  ABCB1~CDK4|SIDM00833_CPID1262|             -2.1744602|             0.029670598|                   bliss|\n",
      "|  ABCB1~CDK6|SIDM00789_CPID1096|             -2.3762023|             0.017491873|                   bliss|\n",
      "|  ABCB1~CDK6|SIDM00960_CPID1080|             -2.1317892|             0.033024177|                   bliss|\n",
      "|  ABCB1~CDK6|SIDM00537_CPID1056|             -3.8579566|            1.1433892E-4|                   bliss|\n",
      "|  ABCB1~CDK6|SIDM00136_CPID1349|             -2.6314876|             0.008501195|                   bliss|\n",
      "|  ABCB1~CDK6|SIDM00118_CPID1143|             -2.1363785|             0.032648567|                   bliss|\n",
      "|  ABCB1~CDK6|SIDM00194_CPID1202|             -2.6493726|             0.008064136|                   bliss|\n",
      "|  ABCB1~CDK6|SIDM00834_CPID1178|              -2.709785|            0.0067326827|                   bliss|\n",
      "+------------+------------------+-----------------------+------------------------+------------------------+\n",
      "only showing top 20 rows\n",
      "\n"
     ]
    }
   ],
   "source": [
    "blissFile = dataFolder +'/' + parameters['experiments'][0]['blissFile']\n",
    "\n",
    "bliss_df = get_bliss_data(blissFile)\n",
    "bliss_df.filter(col('geneticInteractionPValue') <= 0.05).show()"
   ]
  },
  {
   "cell_type": "code",
   "execution_count": 219,
   "id": "dfb6b71a",
   "metadata": {
    "ExecuteTime": {
     "end_time": "2022-02-10T12:43:58.723305Z",
     "start_time": "2022-02-10T12:43:57.377906Z"
    }
   },
   "outputs": [
    {
     "name": "stdout",
     "output_type": "stream",
     "text": [
      "+---------+------------------------------------+------------------+\n",
      "|cellLine |experiments_lfc                     |experiments_gemini|\n",
      "+---------+------------------------------------+------------------+\n",
      "|SIDM00832|[CSID1047]                          |null              |\n",
      "|SIDM00193|[CSID1035]                          |[CSID1035]        |\n",
      "|SIDM00835|[CSID1103]                          |[CSID1103]        |\n",
      "|SIDM00681|[CSID1066, CSID1042]                |[CSID1066]        |\n",
      "|SIDM00957|[CSID1061]                          |null              |\n",
      "|SIDM00783|[CSID1027]                          |[CSID1027]        |\n",
      "|SIDM00359|[CSID1057]                          |[CSID1057]        |\n",
      "|SIDM00537|[CSID1025]                          |[CSID1025]        |\n",
      "|SIDM00782|[CSID1039, CSID1062]                |null              |\n",
      "|SIDM00680|[CSID1032]                          |[CSID1032]        |\n",
      "|SIDM00136|[CSID1058, CSID1029, CSID1106, GIv1]|[CSID1106]        |\n",
      "|SIDM00841|[CSID1037]                          |[CSID1037]        |\n",
      "|SIDM00960|[CSID1048]                          |[CSID1048]        |\n",
      "|SIDM00778|[CSID1054]                          |[CSID1054]        |\n",
      "|SIDM00776|[CSID1064, CSID1031]                |null              |\n",
      "|SIDM00677|[CSID1043]                          |null              |\n",
      "|SIDM00118|[CSID1026]                          |[CSID1026]        |\n",
      "|SIDM00834|[CSID1045]                          |[CSID1045]        |\n",
      "|SIDM00944|[CSID1022]                          |[CSID1022]        |\n",
      "|SIDM00789|[CSID1049]                          |[CSID1049]        |\n",
      "+---------+------------------------------------+------------------+\n",
      "only showing top 20 rows\n",
      "\n"
     ]
    }
   ],
   "source": [
    "(\n",
    "    lfc_df.select('cellLineName').distinct()\n",
    "    .withColumn('cellLine', element_at(split(col('cellLineName'), '_'), 1))\n",
    "    .withColumn('experiment', element_at(split(col('cellLineName'), '_'), 2))\n",
    "    .groupBy('cellLine')\n",
    "    .agg(collect_set(col('experiment')).alias('experiments_lfc'))\n",
    "    .join(\n",
    "        (\n",
    "            gemini_df.select('cellLineName').distinct()\n",
    "            .withColumn('cellLine', element_at(split(col('cellLineName'), '_'), 1))\n",
    "            .withColumn('experiment', element_at(split(col('cellLineName'), '_'), 2))\n",
    "            .groupBy('cellLine')\n",
    "            .agg(collect_set(col('experiment')).alias('experiments_gemini'))\n",
    "        ),\n",
    "        on='cellLine', how='outer'\n",
    "    )\n",
    "    .show(truncate=False)\n",
    "    \n",
    ")"
   ]
  },
  {
   "cell_type": "code",
   "execution_count": 220,
   "id": "b5867e96",
   "metadata": {
    "ExecuteTime": {
     "end_time": "2022-02-10T12:48:52.918270Z",
     "start_time": "2022-02-10T12:48:50.789641Z"
    }
   },
   "outputs": [
    {
     "name": "stdout",
     "output_type": "stream",
     "text": [
      "+---------+------------------------------------+------------------------------+\n",
      "|cellLine |experiments_lfc                     |experiments_bliss             |\n",
      "+---------+------------------------------------+------------------------------+\n",
      "|SIDM00832|[CSID1047]                          |null                          |\n",
      "|SIDM00193|[CSID1035]                          |[CPID1068, CPID1071, CPID1065]|\n",
      "|SIDM00835|[CSID1103]                          |[CPID1334, CPID1331, CPID1328]|\n",
      "|SIDM00681|[CSID1066, CSID1042]                |[CPID1304, CPID1301, CPID1307]|\n",
      "|SIDM00957|[CSID1061]                          |[CPID1223, CPID1226, CPID1220]|\n",
      "|SIDM00783|[CSID1027]                          |[CPID1083, CPID1086, CPID1089]|\n",
      "|SIDM00359|[CSID1057]                          |[CPID1193, CPID1199, CPID1196]|\n",
      "|SIDM00537|[CSID1025]                          |[CPID1062, CPID1056, CPID1059]|\n",
      "|SIDM00782|[CSID1039, CSID1062]                |null                          |\n",
      "|SIDM00680|[CSID1032]                          |[CPID1053, CPID1047, CPID1050]|\n",
      "|SIDM00136|[CSID1058, CSID1029, CSID1106, GIv1]|[CPID1346, CPID1352, CPID1349]|\n",
      "|SIDM00841|[CSID1037]                          |[CPID1044, CPID1041, CPID1038]|\n",
      "|SIDM00960|[CSID1048]                          |[CPID1077, CPID1074, CPID1080]|\n",
      "|SIDM00778|[CSID1054]                          |[CPID1274, CPID1280, CPID1277]|\n",
      "|SIDM00776|[CSID1064, CSID1031]                |[CPID1286, CPID1289, CPID1283]|\n",
      "|SIDM00677|[CSID1043]                          |null                          |\n",
      "|SIDM00118|[CSID1026]                          |[CPID1143, CPID1137, CPID1140]|\n",
      "|SIDM00834|[CSID1045]                          |[CPID1181, CPID1178, CPID1175]|\n",
      "|SIDM00944|[CSID1022]                          |[CPID1110, CPID1113, CPID1116]|\n",
      "|SIDM00789|[CSID1049]                          |[CPID1096, CPID1093, CPID1098]|\n",
      "+---------+------------------------------------+------------------------------+\n",
      "only showing top 20 rows\n",
      "\n"
     ]
    }
   ],
   "source": [
    "(\n",
    "    lfc_df.select('cellLineName').distinct()\n",
    "    .withColumn('cellLine', element_at(split(col('cellLineName'), '_'), 1))\n",
    "    .withColumn('experiment', element_at(split(col('cellLineName'), '_'), 2))\n",
    "    .groupBy('cellLine')\n",
    "    .agg(collect_set(col('experiment')).alias('experiments_lfc'))\n",
    "    .join(\n",
    "        (\n",
    "            bliss_df.select('cellLineName').distinct()\n",
    "            .withColumn('cellLine', element_at(split(col('cellLineName'), '_'), 1))\n",
    "            .withColumn('experiment', element_at(split(col('cellLineName'), '_'), 2))\n",
    "            .groupBy('cellLine')\n",
    "            .agg(collect_set(col('experiment')).alias('experiments_bliss'))\n",
    "        ),\n",
    "        on='cellLine', how='outer'\n",
    "    )\n",
    "    .show(truncate=False)\n",
    "    \n",
    ")"
   ]
  },
  {
   "cell_type": "code",
   "execution_count": 230,
   "id": "49543396",
   "metadata": {
    "ExecuteTime": {
     "end_time": "2022-02-10T15:09:35.497945Z",
     "start_time": "2022-02-10T15:09:35.493878Z"
    }
   },
   "outputs": [
    {
     "name": "stdout",
     "output_type": "stream",
     "text": [
      "root\n",
      " |-- name: string (nullable = true)\n",
      " |-- id: string (nullable = true)\n",
      " |-- biomarkerList: array (nullable = true)\n",
      " |    |-- element: struct (containsNull = true)\n",
      " |    |    |-- name: string (nullable = true)\n",
      " |    |    |-- description: string (nullable = true)\n",
      " |-- diseaseCellLines: struct (nullable = false)\n",
      " |    |-- tissue: string (nullable = true)\n",
      " |    |-- name: string (nullable = true)\n",
      " |    |-- id: string (nullable = true)\n",
      " |    |-- tissueId: string (nullable = true)\n",
      "\n"
     ]
    }
   ],
   "source": [
    "cellpassportMap.printSchema()"
   ]
  },
  {
   "cell_type": "code",
   "execution_count": 235,
   "id": "4a08f261",
   "metadata": {
    "ExecuteTime": {
     "end_time": "2022-02-10T16:51:17.286165Z",
     "start_time": "2022-02-10T16:51:17.279824Z"
    }
   },
   "outputs": [
    {
     "data": {
      "text/plain": [
       "<filter at 0x161c31880>"
      ]
     },
     "execution_count": 235,
     "metadata": {},
     "output_type": "execute_result"
    }
   ],
   "source": [
    "filter(lambda x: x if x is not None else 'cica', [1, 3, None, 'cica'])"
   ]
  },
  {
   "cell_type": "code",
   "execution_count": 8,
   "id": "f110e057",
   "metadata": {
    "ExecuteTime": {
     "end_time": "2022-02-23T16:13:30.920786Z",
     "start_time": "2022-02-23T16:13:30.643747Z"
    }
   },
   "outputs": [
    {
     "name": "stdout",
     "output_type": "stream",
     "text": [
      "+------------------+--------------------+------------------+--------------------+\n",
      "|targetFromSourceId|    diseaseCellLines|expectedConfidence|validationHypotheses|\n",
      "+------------------+--------------------+------------------+--------------------+\n",
      "|             ERBB2|[{SIDM01168, SW62...|   not significant|                null|\n",
      "|             ERBB2|[{SIDM00136, HT29...|   not significant|                null|\n",
      "|             ERBB2|[{SIDM00833, SW83...|   not significant|                null|\n",
      "|             ERBB2|[{SIDM00527, MDST...|   not significant|                null|\n",
      "|             ERBB2|[{SIDM00783, HCT1...|   not significant|                null|\n",
      "|             ERBB2|[{SIDM00150, KM12...|   not significant|                null|\n",
      "|             ERBB2|[{SIDM01090, RKO,...|   not significant|                null|\n",
      "|             ERBB2|[{SIDM00680, LS18...|   not significant|                null|\n",
      "+------------------+--------------------+------------------+--------------------+\n",
      "\n"
     ]
    }
   ],
   "source": [
    "(\n",
    "    spark.read.json('/Users/dsuveges/project_data/validation_lab/2022.02/validationLab_2022-02-18.json.gz')\n",
    "    .filter(col('validationHypotheses').isNull())\n",
    "    .select('targetFromSourceId', 'diseaseCellLines', 'expectedConfidence', 'validationHypotheses')\n",
    "    .show()\n",
    ")"
   ]
  },
  {
   "cell_type": "code",
   "execution_count": 10,
   "id": "a53f88d7",
   "metadata": {
    "ExecuteTime": {
     "end_time": "2022-02-25T15:55:21.412179Z",
     "start_time": "2022-02-25T15:55:21.078709Z"
    }
   },
   "outputs": [
    {
     "name": "stdout",
     "output_type": "stream",
     "text": [
      "+---------------------------------+------------------+\n",
      "|name                             |MOLECULE_CHEMBL_ID|\n",
      "+---------------------------------+------------------+\n",
      "|ERLOTINIB HYDROCHLORIDE          |CHEMBL1079742     |\n",
      "|AMIODARONE HYDROCHLORIDE         |CHEMBL1083993     |\n",
      "|MIGALASTAT                       |CHEMBL110458      |\n",
      "|(S)-Fluoxetine                   |CHEMBL1169388     |\n",
      "|RUCAPARIB                        |CHEMBL1173055     |\n",
      "|MERETHOXYLLINE PROCAINE          |CHEMBL1200443     |\n",
      "|SULFISOXAZOLE ACETYL             |CHEMBL1200910     |\n",
      "|BETAZOLE HYDROCHLORIDE           |CHEMBL1200949     |\n",
      "|DEXPANTHENOL                     |CHEMBL1200979     |\n",
      "|CISATRACURIUM                    |CHEMBL1201248     |\n",
      "|ESTROGENS, ESTERIFIED            |CHEMBL1201468     |\n",
      "|HYALURONIDASE (HUMAN RECOMBINANT)|CHEMBL1201718     |\n",
      "|PRASUGREL                        |CHEMBL1201772     |\n",
      "|CHEMBL1231606                    |CHEMBL1231606     |\n",
      "|CHEMBL1232381                    |CHEMBL1232381     |\n",
      "|PF-04691502                      |CHEMBL1234354     |\n",
      "|THIAMPHENICOL                    |CHEMBL1236282     |\n",
      "|LMP-744                          |CHEMBL126159      |\n",
      "|ASPOXICILLIN                     |CHEMBL1318150     |\n",
      "|GUAIAZULEN                       |CHEMBL1408759     |\n",
      "+---------------------------------+------------------+\n",
      "only showing top 20 rows\n",
      "\n"
     ]
    }
   ],
   "source": [
    "(\n",
    "    spark.read.parquet('/Users/dsuveges/project_data/molecule/')\n",
    "    .select(col('name'), col('id').alias('MOLECULE_CHEMBL_ID'))\n",
    "    .show(truncate=False)\n",
    ")"
   ]
  },
  {
   "cell_type": "code",
   "execution_count": 11,
   "id": "be65f2cc",
   "metadata": {
    "ExecuteTime": {
     "end_time": "2022-02-25T15:59:42.926552Z",
     "start_time": "2022-02-25T15:59:42.728299Z"
    }
   },
   "outputs": [
    {
     "ename": "NameError",
     "evalue": "name 'unichem_molecule_struct_spark_df' is not defined",
     "output_type": "error",
     "traceback": [
      "\u001b[0;31m---------------------------------------------------------------------------\u001b[0m",
      "\u001b[0;31mNameError\u001b[0m                                 Traceback (most recent call last)",
      "\u001b[0;32m<ipython-input-11-46a7fd61ee72>\u001b[0m in \u001b[0;36m<module>\u001b[0;34m\u001b[0m\n\u001b[1;32m      1\u001b[0m unichem_molecule_struct_spark_df = (\n\u001b[0;32m----> 2\u001b[0;31m     \u001b[0munichem_molecule_struct_spark_df\u001b[0m\u001b[0;34m\u001b[0m\u001b[0;34m\u001b[0m\u001b[0m\n\u001b[0m\u001b[1;32m      3\u001b[0m     .filter(\n\u001b[1;32m      4\u001b[0m         \u001b[0;34m(\u001b[0m\u001b[0mf\u001b[0m\u001b[0;34m.\u001b[0m\u001b[0mcol\u001b[0m\u001b[0;34m(\u001b[0m\u001b[0;34m'MOLECULE_CHEMBL_ID'\u001b[0m\u001b[0;34m)\u001b[0m \u001b[0;34m!=\u001b[0m \u001b[0;34m'CHEMBL692'\u001b[0m\u001b[0;34m)\u001b[0m \u001b[0;34m&\u001b[0m\u001b[0;34m\u001b[0m\u001b[0;34m\u001b[0m\u001b[0m\n\u001b[1;32m      5\u001b[0m         \u001b[0;34m(\u001b[0m\u001b[0mf\u001b[0m\u001b[0;34m.\u001b[0m\u001b[0mcol\u001b[0m\u001b[0;34m(\u001b[0m\u001b[0;34m'MOLECULE_CHEMBL_ID'\u001b[0m\u001b[0;34m)\u001b[0m \u001b[0;34m!=\u001b[0m \u001b[0;34m'CHEMBL1236970'\u001b[0m\u001b[0;34m)\u001b[0m \u001b[0;34m&\u001b[0m\u001b[0;34m\u001b[0m\u001b[0;34m\u001b[0m\u001b[0m\n",
      "\u001b[0;31mNameError\u001b[0m: name 'unichem_molecule_struct_spark_df' is not defined"
     ]
    }
   ],
   "source": [
    "unichem_molecule_struct_spark_df = (\n",
    "    unichem_molecule_struct_spark_df\n",
    "    .filter(\n",
    "        (f.col('MOLECULE_CHEMBL_ID') != 'CHEMBL692') & \n",
    "        (f.col('MOLECULE_CHEMBL_ID') != 'CHEMBL1236970') &\n",
    "        (f.col('MOLECULE_CHEMBL_ID') != 'CHEMBL457299') & \n",
    "        (f.col('MOLECULE_CHEMBL_ID') != 'CHEMBL113178')\n",
    "    )\n",
    "    .select('MOLECULE_CHEMBL_ID', 'MOLECULE_PDB_ID', 'STRUCTURE_ID')\n",
    ")\n",
    "\n",
    "dropped_molecules = [\n",
    "    'CHEMBL692', 'CHEMBL1236970', 'CHEMBL457299', 'CHEMBL113178'\n",
    "]\n",
    "\n",
    "unichem_molecule_struct_spark_df = (\n",
    "    unichem_molecule_struct_spark_df\n",
    "    .filter(~col('MOLECULE_CHEMBL_ID').isIn(dropped_molecules))\n",
    "    .select('MOLECULE_CHEMBL_ID', 'MOLECULE_PDB_ID', 'STRUCTURE_ID')\n",
    ")"
   ]
  },
  {
   "cell_type": "code",
   "execution_count": 17,
   "id": "22a0be76",
   "metadata": {
    "ExecuteTime": {
     "end_time": "2022-02-25T16:10:23.936596Z",
     "start_time": "2022-02-25T16:10:23.704743Z"
    }
   },
   "outputs": [
    {
     "name": "stdout",
     "output_type": "stream",
     "text": [
      "+------------------+---------------+\n",
      "|CHEMBL_MOLECULE_ID|PDB_COMPOUND_ID|\n",
      "+------------------+---------------+\n",
      "|     CHEMBL1399676|            MQN|\n",
      "|     CHEMBL2347208|            1HL|\n",
      "|      CHEMBL334167|            SG2|\n",
      "|     CHEMBL3342582|            8CF|\n",
      "|      CHEMBL328910|            DOB|\n",
      "|        CHEMBL1364|            UEG|\n",
      "|     CHEMBL2219861|            UBU|\n",
      "|     CHEMBL1087397|            831|\n",
      "|     CHEMBL4521790|            OUP|\n",
      "|         CHEMBL614|            PZA|\n",
      "|     CHEMBL3409982|            BNJ|\n",
      "|      CHEMBL295698|            KLN|\n",
      "|     CHEMBL1237000|            ZYN|\n",
      "|       CHEMBL77785|            NHP|\n",
      "|     CHEMBL1783734|            2N8|\n",
      "|      CHEMBL146186|            U8D|\n",
      "|     CHEMBL4085850|            80L|\n",
      "|        CHEMBL1427|            HPA|\n",
      "|     CHEMBL1289601|            LEV|\n",
      "|     CHEMBL4560579|            P6J|\n",
      "+------------------+---------------+\n",
      "only showing top 20 rows\n",
      "\n"
     ]
    }
   ],
   "source": [
    "unichem = '/Users/dsuveges/Downloads/src1src3.txt'\n",
    "\n",
    "(\n",
    "    spark.read.csv(unichem, sep=r'\\t', header=True)\n",
    "    .withColumnRenamed('From src:\\'1\\'', 'CHEMBL_MOLECULE_ID')\n",
    "    .withColumnRenamed('To src:\\'3\\'', 'PDB_COMPOUND_ID')\n",
    "    .filter(~col('CHEMBL_MOLECULE_ID').isin(['CHEMBL313405']))\n",
    "    .show()\n",
    ")"
   ]
  },
  {
   "cell_type": "code",
   "execution_count": null,
   "id": "8d1e40db",
   "metadata": {},
   "outputs": [],
   "source": [
    "def get_structure(pdb_compound_id: str) -> list:\n",
    "    \"\"\"Fetching structure identifiers from PDBkb REST API\n",
    "\n",
    "    Args:\n",
    "        pdb_compound_id: string, a single compound identifier\n",
    "    Returns:\n",
    "        List of PDB structure identifiers where the compound can be found\n",
    "    \"\"\""
   ]
  }
 ],
 "metadata": {
  "kernelspec": {
   "display_name": "Python 3 (ipykernel)",
   "language": "python",
   "name": "python3"
  },
  "language_info": {
   "codemirror_mode": {
    "name": "ipython",
    "version": 3
   },
   "file_extension": ".py",
   "mimetype": "text/x-python",
   "name": "python",
   "nbconvert_exporter": "python",
   "pygments_lexer": "ipython3",
   "version": "3.9.10"
  }
 },
 "nbformat": 4,
 "nbformat_minor": 5
}
