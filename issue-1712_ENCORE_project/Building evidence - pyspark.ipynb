{
 "cells": [
  {
   "cell_type": "markdown",
   "id": "4bed04b9",
   "metadata": {
    "ExecuteTime": {
     "end_time": "2021-10-13T22:25:10.832199Z",
     "start_time": "2021-10-13T22:25:10.788628Z"
    }
   },
   "source": [
    "* Info source: 2021. July - work in progress\n",
    "* Use `EXACT` matches not the `MISMATCH1` result.\n",
    "* Use `_ALL` report files as not all data got averaged in the `_AVERAGE` dataset! Analysis is still going.\n",
    "* Gene leve summary is calculated not the `sg` level -> what does it mean?\n",
    "\n",
    "**LOGFC dataset**:\n",
    "\n",
    "* Represents the most _directly_ interpretable results. LFC: absolute effect size. Effect size is scaled. \n",
    "* Scaling:\n",
    "    * positive (death) controls have LFC of -1\n",
    "    * negative (no effect) controls have LFC of 0 (and the sd is 1)\n",
    "    * Any score beyond this range is \"of interest\" by definition\n",
    "* Filtering: p <= 0.05 and FDR <= 0.25\n",
    "* A Note1 or Note2 of *Singletons* indicates that one of the pair is a background control expected to have no effect when edited\n",
    "\n",
    "\n",
    "**GEMINI dataset**: Gemini scores measure synergistic effects making them less _directly_ interpreatable since one may detect a significant synergistic effect but still find that the combination has a combined LFC within the (-1,0) range making it not obviously of interest as a drug target. On the otherhand, significant synergy leading to a, by definition, unexpected combined LFC outside of the range is of huge interest.\n",
    "\n",
    "* use the `STRONG_ALL.txt` reports\n",
    "* we should not use `FDR` for Gemini calls and apply a `p-value` threshold of p <= 0.05\n",
    "\n",
    "**Suggestion:**\n",
    "\n",
    "* Emre suggests a table reporting, for each gene,\n",
    "    1. LFC, \n",
    "    2. LFC-p-value, \n",
    "    3. LFC-FDR, \n",
    "    4. Gemini-score, \n",
    "    5. Gemini-p-value, \n",
    "    6. Bliss-score, \n",
    "    7. Bliss-p-value\n"
   ]
  },
  {
   "cell_type": "code",
   "execution_count": 295,
   "id": "beb9471b",
   "metadata": {
    "ExecuteTime": {
     "end_time": "2021-10-20T10:31:17.692040Z",
     "start_time": "2021-10-20T10:31:17.636536Z"
    }
   },
   "outputs": [],
   "source": [
    "from functools import reduce\n",
    "import pandas as pd\n",
    "from pyspark.sql.functions import col, udf, struct, lit, split, regexp_replace, create_map\n",
    "from pyspark.sql.types import FloatType, ArrayType, StructType, StructField\n",
    "from pyspark.sql import SparkSession\n",
    "from pyspark.conf import SparkConf\n",
    "from itertools import chain\n",
    "\n",
    "\n",
    "# establish spark connection\n",
    "sparkConf = (\n",
    "    SparkConf()\n",
    "    .set('spark.driver.memory', '15g')\n",
    "    .set('spark.executor.memory', '15g')\n",
    "    .set('spark.driver.maxResultSize', '0')\n",
    ")\n",
    "spark = (\n",
    "    SparkSession.builder\n",
    "    .config(conf=sparkConf)\n",
    "    .master('local[*]')\n",
    "    .getOrCreate()\n",
    ")\n",
    "\n",
    "# Mapping tissue annotation of cell lines to UBERON codes:\n",
    "TISSUE2UBERON = {\n",
    "    'Large Intestine': 'UBERON_0000059'\n",
    "}\n",
    "mapping_tissue = create_map([lit(x) for x in chain(*TISSUE2UBERON.items())])\n",
    "\n",
    "# Mapping disease label to EFO:\n",
    "DISEASE2EFO = {\n",
    "    \"Rectal Adenocarcinoma\": \"EFO_0005631\",\n",
    "    \"Colon Carcinoma\": \"EFO_1001950\",\n",
    "    \"Cecum Adenocarcinoma\": \"EFO_1000020\",\n",
    "    \"Colon Adenocarcinoma\": \"EFO_1001949\",\n",
    "    \"Colorectal Carcinoma\": \"EFO_1001951\",\n",
    "}\n",
    "mapping_disease = create_map([lit(x) for x in chain(*DISEASE2EFO.items())])\n",
    "\n",
    "\n",
    "\n",
    "@udf(ArrayType(StructType([\n",
    "    StructField(\"targetFromSourceId\", StringType(), False),\n",
    "    StructField(\"interactingTargetFromSourceId\", StringType(), False)\n",
    "])))\n",
    "def parse_targets(gene_pair):\n",
    "    genes = gene_pair.split('~')\n",
    "\n",
    "    assert(len(genes) == 2)\n",
    "    parsed = []\n",
    "\n",
    "    for i, v in enumerate(genes):\n",
    "        parsed.append({\n",
    "            'targetFromSourceId': v,\n",
    "            'interactingTargetFromSourceId': genes[1] if i == 0 else genes[0]\n",
    "        })\n",
    "\n",
    "    return parsed\n"
   ]
  },
  {
   "cell_type": "code",
   "execution_count": 146,
   "id": "66e733a7",
   "metadata": {
    "ExecuteTime": {
     "end_time": "2021-10-19T10:38:38.707926Z",
     "start_time": "2021-10-19T10:38:38.691992Z"
    }
   },
   "outputs": [],
   "source": [
    "## BRCA-1\n",
    "# LogFC_file = '/Users/dsuveges/project_data/Shared_Data/OTAR2062/Aug21_AggregatedData/BRCA-1_ExactMatch_LogFC_Cell-Line-Average_All.gene.stats.annotated.txt'\n",
    "# Gemini_file = '/Users/dsuveges/project_data/Shared_Data/OTAR2062/Aug21_AggregatedData/BRCA-1_ExactMatch_GEMINI_STRONG_ALL.txt'\n",
    "\n",
    "## COLO-1\n",
    "LogFC_file = '/Users/dsuveges/project_data/Shared_Data/OTAR2062/Aug21_AggregatedData/COLO-1_ExactMatch_LogFC_Cell-Line-Average_All.gene.stats.annotated.txt'\n",
    "Gemini_file = '/Users/dsuveges/project_data/Shared_Data/OTAR2062/Aug21_AggregatedData/COLO-1_ExactMatch_GEMINI_STRONG_ALL.txt'\n",
    "\n",
    "\n",
    "model_list_file = '/Users/dsuveges/project_data/Shared_Data/model_list_20210719.csv'\n"
   ]
  },
  {
   "cell_type": "code",
   "execution_count": 297,
   "id": "7f6e06dd",
   "metadata": {
    "ExecuteTime": {
     "end_time": "2021-10-20T10:36:11.773353Z",
     "start_time": "2021-10-20T10:36:11.512957Z"
    }
   },
   "outputs": [
    {
     "name": "stdout",
     "output_type": "stream",
     "text": [
      "2307\n",
      "-RECORD 0--------------------------------------------------------------\n",
      " model_id          | SIDM01274                                         \n",
      " diseaseFromSource | Esophageal Adenocarcinoma                         \n",
      " diseaseCellLines  | [{SIDM01274, HCM-SANG-0314-C15, Esophagus, null}] \n",
      "only showing top 1 row\n",
      "\n",
      "None\n",
      "root\n",
      " |-- model_id: string (nullable = true)\n",
      " |-- diseaseFromSource: string (nullable = true)\n",
      " |-- diseaseCellLines: array (nullable = false)\n",
      " |    |-- element: struct (containsNull = false)\n",
      " |    |    |-- id: string (nullable = true)\n",
      " |    |    |-- name: string (nullable = true)\n",
      " |    |    |-- tissue: string (nullable = true)\n",
      " |    |    |-- tissueId: string (nullable = true)\n",
      "\n"
     ]
    }
   ],
   "source": [
    "'''\n",
    "In the model list dataset a wide set of columns are available, but most columns are irrelevant.\n",
    "'''             \n",
    "model_list = (\n",
    "    spark.read.csv(model_list_file, sep=',', header=True)\n",
    "    .withColumn('tissueId', mapping_tissue[col(\"tissue\")])\n",
    "    .withColumnRenamed('cancer_type_detail', 'diseaseFromSource')\n",
    "    .withColumn(\n",
    "        'diseaseCellLines', \n",
    "        array(struct(\n",
    "            col('model_id').alias('id'),\n",
    "            col('model_name').alias('name'),\n",
    "            col('tissue'),\n",
    "            col('tissueId')\n",
    "        ))\n",
    "    )\n",
    "    .select('model_id', 'diseaseFromSource', 'diseaseCellLines')\n",
    ")\n",
    "\n",
    "print(model_list.count())\n",
    "print(model_list.show(1, vertical=True, truncate=False))\n",
    "model_list.printSchema()"
   ]
  },
  {
   "cell_type": "code",
   "execution_count": 316,
   "id": "27aa8383",
   "metadata": {
    "ExecuteTime": {
     "end_time": "2021-10-20T12:04:33.658290Z",
     "start_time": "2021-10-20T12:04:28.003483Z"
    },
    "code_folding": [],
    "scrolled": false
   },
   "outputs": [
    {
     "name": "stdout",
     "output_type": "stream",
     "text": [
      "Number of rows in the logFC dataset: 20334\n",
      "Number of identified cell lines: 42\n",
      "Fields: p-value,goodsgrna,fdr,lfc\n",
      "Number of rows in the filtered melted dataset: 136036\n",
      "Schema of the dataset: \n",
      "root\n",
      " |-- id: string (nullable = true)\n",
      " |-- cellLineName: string (nullable = true)\n",
      " |-- phenotypicConsequenceLogFoldChange: float (nullable = true)\n",
      " |-- phenotypicConsequencePValue: float (nullable = true)\n",
      " |-- phenotypicConsequenceFDR: float (nullable = true)\n",
      "\n",
      "None\n",
      "Number of rows in the GEMINI dataset: 17782\n",
      "Number of identified cell lines: 35\n",
      "Fields: FDR,score,pval\n",
      "Number of rows in the melted dataset: 622370\n",
      "Schema of the dataset: \n",
      "root\n",
      " |-- id: string (nullable = true)\n",
      " |-- cellLineName: string (nullable = true)\n",
      " |-- geneticInteractionMethod: string (nullable = false)\n",
      " |-- geneticInteractionScore: float (nullable = true)\n",
      " |-- geneticInteractionPValue: float (nullable = true)\n",
      " |-- geneticInteractionFDR: float (nullable = true)\n",
      "\n",
      "None\n"
     ]
    }
   ],
   "source": [
    "## \n",
    "## Function to parse and process the log fold change file:\n",
    "##\n",
    "def parse_logfc_file(logfc_file):\n",
    "    '''\n",
    "    Reads logfc data, parses headers/cell lines and returns a pyspark dataframe\n",
    "    \n",
    "    Standard header: SIDM00833_R39603_goodsgrna\n",
    "    Parsed to: \n",
    "        * cell line: \"SIDM00833_R39603\"\n",
    "        * field: \"goodsgrna\"\n",
    "        \n",
    "    Schema:\n",
    "        root\n",
    "         |-- id: string (nullable = true)\n",
    "         |-- cellLineName: string (nullable = true)\n",
    "         |-- phenotypicConsequenceLogFoldChange: float (nullable = true)\n",
    "         |-- phenotypicConsequencePValue: float (nullable = true)\n",
    "         |-- phenotypicConsequenceFDR: float (nullable = true)\n",
    "    '''\n",
    "    \n",
    "    # What is in the files:\n",
    "    df = (\n",
    "        spark.read.csv(logfc_file, sep=' ', header=True)\n",
    "    )\n",
    "\n",
    "    print(f'Number of rows in the logFC dataset: {df.count()}')\n",
    "    \n",
    "    columns = df.columns[4:]\n",
    "\n",
    "    # Parsing the schema to infer cell lines and parameters:\n",
    "    cell_lines = set('_'.join(x.split('_')[:-1]) for x in columns)\n",
    "    fields = set(x.split('_')[-1] for x in columns)\n",
    "    \n",
    "    print(f'Number of identified cell lines: {len(cell_lines)}')\n",
    "    print(f'Fields: {\",\".join(fields)}')\n",
    "\n",
    "    # Generating \"un-pivot\" expression:\n",
    "    unpivot_expression = f'''stack({len(cell_lines)}, {\", \".join([f\"'{x}', {x}\" for x in cell_lines])} ) as (cellLineName, cellLineData)'''\n",
    "\n",
    "    # Generating expressions to create the full struct object for each cell line:\n",
    "    expressions = map(lambda cell_line: (cell_line, struct([col(f'{cell_line}_{x}').cast(FloatType()).alias(x) for x in fields])), cell_lines)\n",
    "\n",
    "    # Applying map on the dataframe:\n",
    "    res_df = reduce(lambda DF,value: DF.withColumn(*value) , expressions, df)\n",
    "    \n",
    "    # Melting the dataset:\n",
    "    melted_df = (\n",
    "        res_df\n",
    "        \n",
    "        # Unpivot:\n",
    "        .select('id', 'Note1', 'Note2', expr(unpivot_expression))\n",
    "\n",
    "        # Applyting p-value and fdr filters following Emre's suggestion:\n",
    "        .filter((col('cellLineData.p-value') <= 0.05) & (col('cellLineData.fdr') <= 0.25))\n",
    "\n",
    "        # Extracting the real model id:\n",
    "        .select(\n",
    "            'id', 'cellLineName', \n",
    "            col('cellLineData.lfc').alias('phenotypicConsequenceLogFoldChange'),\n",
    "            col('cellLineData.p-value').alias('phenotypicConsequencePValue'),\n",
    "            col('cellLineData.fdr').alias('phenotypicConsequenceFDR')\n",
    "        )\n",
    "        .persist()\n",
    "    )\n",
    "    \n",
    "    # Get results:\n",
    "    print(f'Number of rows in the filtered melted dataset: {melted_df.count()}')\n",
    "    print('Schema of the dataset: ')\n",
    "    print(melted_df.printSchema())\n",
    "    \n",
    "    return melted_df\n",
    "\n",
    "\n",
    "def parse_gemini_file(gemini_file):\n",
    "    '''\n",
    "    Reads GEMINI data, parses headers/cell lines and returns a pyspark dataframe\n",
    "    \n",
    "    Standard header: SIDM00778_R39704_strong_FDR\n",
    "    Parsed to: \n",
    "        * cell line: \"SIDM00778_R39704\"\n",
    "        * field: \"FDR\"\n",
    "        \n",
    "    Schema:\n",
    "        root\n",
    "         |-- id: string (nullable = true)\n",
    "         |-- cellLineName: string (nullable = true)\n",
    "         |-- geneticInteractionMethod: string (nullable = false)\n",
    "         |-- geneticInteractionScore: float (nullable = true)\n",
    "         |-- geneticInteractionPValue: float (nullable = true)\n",
    "         |-- geneticInteractionFDR: float (nullable = true)\n",
    "    '''\n",
    "        # What is in the files:\n",
    "    df = (\n",
    "        spark.read.csv(gemini_file, sep=' ', header=True)\n",
    "    )\n",
    "\n",
    "    print(f'Number of rows in the GEMINI dataset: {df.count()}')\n",
    "    \n",
    "    columns = df.columns[3:]\n",
    "\n",
    "    # Parsing the schema to infer cell lines and parameters:\n",
    "    cell_lines = set('_'.join(x.replace('_strong', '').split('_')[:-1]) for x in columns)\n",
    "    fields = set(x.split('_')[-1] for x in columns)\n",
    "\n",
    "    print(f'Number of identified cell lines: {len(cell_lines)}')\n",
    "    print(f'Fields: {\",\".join(fields)}')\n",
    "\n",
    "    # Generating \"un-pivot\" expression:\n",
    "    unpivot_expression = f'''stack({len(cell_lines)}, {\", \".join([f\"'{x}', {x}\" for x in cell_lines])} ) as (cellLineName, cellLineData)'''\n",
    "\n",
    "    # Generating expressions to create the full struct object for each cell line:\n",
    "    expressions = map(lambda cell_line: (cell_line, struct([col(f'{cell_line}_strong_{x}').cast(FloatType()).alias(x) for x in fields])), cell_lines)\n",
    "\n",
    "    # Applying map on the dataframe:\n",
    "    res_df = reduce(lambda DF,value: DF.withColumn(*value) , expressions, df)\n",
    "    \n",
    "    # Melting the dataset:\n",
    "    melted_df = (\n",
    "        res_df\n",
    "\n",
    "        # Applyting p-value and fdr filters following Emre's suggestion:\n",
    "        .select('Gene_Pair', expr(unpivot_expression))\n",
    "        .withColumn('id', regexp_replace(col('Gene_Pair'), ';', '~'))\n",
    "\n",
    "        # Selecting and renaming columns:\n",
    "        .select(\n",
    "            'id', 'cellLineName',\n",
    "            lit('gemini').alias('geneticInteractionMethod'),\n",
    "            col('cellLineData.score').alias('geneticInteractionScore'),\n",
    "            col('cellLineData.pval').alias('geneticInteractionPValue'),\n",
    "            col('cellLineData.FDR').alias('geneticInteractionFDR')\n",
    "        )\n",
    "        .persist()\n",
    "    )\n",
    "    \n",
    "    # Get results:\n",
    "    print(f'Number of rows in the melted dataset: {melted_df.count()}')\n",
    "    print('Schema of the dataset: ')\n",
    "    print(melted_df.printSchema())\n",
    "    \n",
    "    return melted_df\n",
    "\n",
    "\n",
    "lfc_melted = parse_logfc_file(LogFC_file)\n",
    "gemini_melted_df = parse_gemini_file(Gemini_file)\n",
    "\n"
   ]
  },
  {
   "cell_type": "code",
   "execution_count": 330,
   "id": "b1bb6a60",
   "metadata": {
    "ExecuteTime": {
     "end_time": "2021-10-20T13:05:53.591294Z",
     "start_time": "2021-10-20T13:05:48.433227Z"
    }
   },
   "outputs": [
    {
     "name": "stdout",
     "output_type": "stream",
     "text": [
      "-RECORD 0----------------------------------------------------------------------------------\n",
      " cellType                           | SIDM00049                                            \n",
      " geneticInteractionMethod           | gemini                                               \n",
      " geneticInteractionScore            | 2.191241                                             \n",
      " geneticInteractionPValue           | 7.607547E-4                                          \n",
      " geneticInteractionFDR              | 0.031387564                                          \n",
      " phenotypicConsequenceLogFoldChange | -2.1679                                              \n",
      " phenotypicConsequencePValue        | 0.010476                                             \n",
      " phenotypicConsequenceFDR           | 0.129803                                             \n",
      " diseaseFromSource                  | Colorectal Carcinoma                                 \n",
      " diseaseCellLines                   | [{SIDM00049, DiFi, Large Intestine, UBERON_0000059}] \n",
      " targetFromSourceId                 | ABCB1                                                \n",
      " interactingTargetFromSourceId      | MAP2K2                                               \n",
      " datatypeId                         | ot_partner                                           \n",
      " datasourceId                       | encore                                               \n",
      " projectId                          | OTAR2062                                             \n",
      " diseaseFromSourceMappedId          | EFO_1001951                                          \n",
      "only showing top 1 row\n",
      "\n",
      "root\n",
      " |-- cellType: string (nullable = true)\n",
      " |-- geneticInteractionMethod: string (nullable = false)\n",
      " |-- geneticInteractionScore: float (nullable = true)\n",
      " |-- geneticInteractionPValue: float (nullable = true)\n",
      " |-- geneticInteractionFDR: float (nullable = true)\n",
      " |-- phenotypicConsequenceLogFoldChange: float (nullable = true)\n",
      " |-- phenotypicConsequencePValue: float (nullable = true)\n",
      " |-- phenotypicConsequenceFDR: float (nullable = true)\n",
      " |-- diseaseFromSource: string (nullable = true)\n",
      " |-- diseaseCellLines: array (nullable = true)\n",
      " |    |-- element: struct (containsNull = false)\n",
      " |    |    |-- id: string (nullable = true)\n",
      " |    |    |-- name: string (nullable = true)\n",
      " |    |    |-- tissue: string (nullable = true)\n",
      " |    |    |-- tissueId: string (nullable = true)\n",
      " |-- targetFromSourceId: string (nullable = true)\n",
      " |-- interactingTargetFromSourceId: string (nullable = true)\n",
      " |-- datatypeId: string (nullable = false)\n",
      " |-- datasourceId: string (nullable = false)\n",
      " |-- projectId: string (nullable = false)\n",
      " |-- diseaseFromSourceMappedId: string (nullable = true)\n",
      "\n"
     ]
    },
    {
     "data": {
      "text/plain": [
       "86616"
      ]
     },
     "execution_count": 330,
     "metadata": {},
     "output_type": "execute_result"
    }
   ],
   "source": [
    "merged = (\n",
    "    \n",
    "    # Merging GEMINI and FLC data into a single dataframe:\n",
    "    gemini_melted_df\n",
    "    .join(broadcast(lfc_melted.orderBy(col('id'))), on=['id', 'cellLineName'], how='inner')\n",
    "    \n",
    "    # Processing true cell line identifier:\n",
    "    .withColumn('model_id', split(col('cellLineName'), '_').getItem(0))\n",
    "    \n",
    "    # Joining with cell line data:\n",
    "    .join(model_list, on='model_id', how='left')\n",
    "    \n",
    "    # Parsing/exploding gene names:\n",
    "    .withColumn('id', parse_targets(col('id')))\n",
    "    .select('*', explode(col('id')).alias('genes'))\n",
    "    .select('*', col('genes.*'))\n",
    "    .drop('id', 'genes')\n",
    "    \n",
    "    # Adding some literals specific for this type of evidence:\n",
    "    .withColumn('datatypeId', lit('ot_partner'))\n",
    "    .withColumn('datasourceId', lit('encore'))\n",
    "    .withColumn('projectId', lit('OTAR2062'))\n",
    "    \n",
    "    # Map disease to efo:\n",
    "    .withColumn('diseaseFromSourceMappedId', mapping_disease[col('diseaseFromSource')])\n",
    "    \n",
    "    # Removing duplications:\n",
    "    .drop('cellLineName')\n",
    "    .distinct()\n",
    "    \n",
    "    # Renaming columns:\n",
    "    .withColumnRenamed('model_id', 'cellType')\n",
    ")\n",
    "\n",
    "merged.show(1, vertical=True, truncate=False)\n",
    "merged.printSchema()\n",
    "merged.count() # 105_354 -> with distinct: 86_616"
   ]
  },
  {
   "cell_type": "code",
   "execution_count": 331,
   "id": "95652aca",
   "metadata": {
    "ExecuteTime": {
     "end_time": "2021-10-20T13:06:05.121555Z",
     "start_time": "2021-10-20T13:06:01.346350Z"
    },
    "scrolled": false
   },
   "outputs": [],
   "source": [
    "# Re-order columns and save data:\n",
    "(\n",
    "    merged\n",
    "    .select(\n",
    "        # General fields:\n",
    "        'datatypeId', 'datasourceId', 'projectId',\n",
    "        \n",
    "        # Target related fields:\n",
    "        'targetFromSourceId', 'interactingTargetFromSourceId',\n",
    "        \n",
    "        # Disease related fields:\n",
    "        'diseaseFromSource', 'diseaseFromSourceMappedId',\n",
    "        \n",
    "        # Cell related fields:\n",
    "        'diseaseCellLines', 'cellType',\n",
    "        \n",
    "        # CRISPR related fields:\n",
    "        'phenotypicConsequenceLogFoldChange', 'phenotypicConsequenceFDR', 'phenotypicConsequencePValue',\n",
    "        'geneticInteractionMethod', 'geneticInteractionScore', 'geneticInteractionPValue', 'geneticInteractionFDR'\n",
    "    )\n",
    "    .coalesce(1)\n",
    "#     .printSchema()\n",
    "    .write.format('json').mode('overwrite').option('compression', 'gzip')\n",
    "    .save('encore_test_2021-10-20')\n",
    ")"
   ]
  },
  {
   "cell_type": "code",
   "execution_count": 335,
   "id": "4939c957",
   "metadata": {
    "ExecuteTime": {
     "end_time": "2021-10-20T13:09:44.386240Z",
     "start_time": "2021-10-20T13:09:41.123372Z"
    }
   },
   "outputs": [
    {
     "data": {
      "text/plain": [
       "<AxesSubplot:>"
      ]
     },
     "execution_count": 335,
     "metadata": {},
     "output_type": "execute_result"
    },
    {
     "data": {
      "image/png": "[encoded data removed]",
      "text/plain": [
       "<Figure size 432x288 with 1 Axes>"
      ]
     },
     "metadata": {
      "needs_background": "light"
     },
     "output_type": "display_data"
    }
   ],
   "source": [
    "merged.select('geneticInteractionPValue').toPandas().geneticInteractionPValue.hist()"
   ]
  },
  {
   "cell_type": "code",
   "execution_count": 1,
   "id": "3ebcaea7",
   "metadata": {
    "ExecuteTime": {
     "end_time": "2021-10-25T09:03:26.813764Z",
     "start_time": "2021-10-25T09:03:21.707246Z"
    }
   },
   "outputs": [],
   "source": [
    "from functools import reduce\n",
    "import pandas as pd\n",
    "from pyspark.sql.functions import col, udf, struct, lit, split, regexp_replace, create_map\n",
    "from pyspark.sql.types import FloatType, ArrayType, StructType, StructField\n",
    "from pyspark.sql import SparkSession\n",
    "from pyspark.conf import SparkConf\n",
    "from itertools import chain\n",
    "\n",
    "\n",
    "# establish spark connection\n",
    "sparkConf = (\n",
    "    SparkConf()\n",
    "    .set('spark.driver.memory', '15g')\n",
    "    .set('spark.executor.memory', '15g')\n",
    "    .set('spark.driver.maxResultSize', '0')\n",
    ")\n",
    "spark = (\n",
    "    SparkSession.builder\n",
    "    .config(conf=sparkConf)\n",
    "    .master('local[*]')\n",
    "    .getOrCreate()\n",
    ")\n",
    "\n",
    "\n"
   ]
  },
  {
   "cell_type": "code",
   "execution_count": 2,
   "id": "6cdc2f65",
   "metadata": {
    "ExecuteTime": {
     "end_time": "2021-10-25T09:03:46.094699Z",
     "start_time": "2021-10-25T09:03:42.288851Z"
    }
   },
   "outputs": [],
   "source": [
    "df = (spark.read.json('encore_test_2021-10-20')).persist()"
   ]
  },
  {
   "cell_type": "code",
   "execution_count": 3,
   "id": "3b20ef73",
   "metadata": {
    "ExecuteTime": {
     "end_time": "2021-10-25T09:03:50.081228Z",
     "start_time": "2021-10-25T09:03:48.160855Z"
    }
   },
   "outputs": [
    {
     "data": {
      "text/plain": [
       "86616"
      ]
     },
     "execution_count": 3,
     "metadata": {},
     "output_type": "execute_result"
    }
   ],
   "source": [
    "df.count()"
   ]
  },
  {
   "cell_type": "code",
   "execution_count": 4,
   "id": "a0f4007f",
   "metadata": {
    "ExecuteTime": {
     "end_time": "2021-10-25T09:03:55.033170Z",
     "start_time": "2021-10-25T09:03:55.027622Z"
    }
   },
   "outputs": [
    {
     "name": "stdout",
     "output_type": "stream",
     "text": [
      "root\n",
      " |-- cellType: string (nullable = true)\n",
      " |-- datasourceId: string (nullable = true)\n",
      " |-- datatypeId: string (nullable = true)\n",
      " |-- diseaseCellLines: array (nullable = true)\n",
      " |    |-- element: struct (containsNull = true)\n",
      " |    |    |-- id: string (nullable = true)\n",
      " |    |    |-- name: string (nullable = true)\n",
      " |    |    |-- tissue: string (nullable = true)\n",
      " |    |    |-- tissueId: string (nullable = true)\n",
      " |-- diseaseFromSource: string (nullable = true)\n",
      " |-- diseaseFromSourceMappedId: string (nullable = true)\n",
      " |-- geneticInteractionFDR: double (nullable = true)\n",
      " |-- geneticInteractionMethod: string (nullable = true)\n",
      " |-- geneticInteractionPValue: double (nullable = true)\n",
      " |-- geneticInteractionScore: double (nullable = true)\n",
      " |-- interactingTargetFromSourceId: string (nullable = true)\n",
      " |-- phenotypicConsequenceFDR: double (nullable = true)\n",
      " |-- phenotypicConsequenceLogFoldChange: double (nullable = true)\n",
      " |-- phenotypicConsequencePValue: double (nullable = true)\n",
      " |-- projectId: string (nullable = true)\n",
      " |-- targetFromSourceId: string (nullable = true)\n",
      "\n"
     ]
    }
   ],
   "source": [
    "df.printSchema()"
   ]
  },
  {
   "cell_type": "code",
   "execution_count": 3,
   "id": "bc78b3d3",
   "metadata": {
    "ExecuteTime": {
     "end_time": "2021-11-15T19:06:20.049051Z",
     "start_time": "2021-11-15T19:06:20.042177Z"
    }
   },
   "outputs": [
    {
     "name": "stdout",
     "output_type": "stream",
     "text": [
      "query CrisprQuery($ensemblId: String!, $efoId: String!, $size: Int!) {\n",
      "  disease(efoId: $efoId) {\n",
      "    id\n",
      "    evidences(ensemblIds: [$ensemblId], enableIndirect: true, datasourceIds: [\"crispr\"], size: $size) {\n",
      "      rows {\n",
      "        disease {\n",
      "          id\n",
      "          name\n",
      "          __typename\n",
      "        }\n",
      "        diseaseCellLines\n",
      "        diseaseFromSource\n",
      "        resourceScore\n",
      "        literature\n",
      "        __typename\n",
      "      }\n",
      "      __typename\n",
      "    }\n",
      "    __typename\n",
      "  }\n",
      "}\n",
      "\"\n"
     ]
    }
   ],
   "source": [
    "print('''query CrisprQuery($ensemblId: String!, $efoId: String!, $size: Int!) {\\n  disease(efoId: $efoId) {\\n    id\\n    evidences(ensemblIds: [$ensemblId], enableIndirect: true, datasourceIds: [\\\"crispr\\\"], size: $size) {\\n      rows {\\n        disease {\\n          id\\n          name\\n          __typename\\n        }\\n        diseaseCellLines\\n        diseaseFromSource\\n        resourceScore\\n        literature\\n        __typename\\n      }\\n      __typename\\n    }\\n    __typename\\n  }\\n}\\n\"''')"
   ]
  },
  {
   "cell_type": "code",
   "execution_count": 4,
   "id": "84401324",
   "metadata": {
    "ExecuteTime": {
     "end_time": "2021-11-19T11:18:09.671520Z",
     "start_time": "2021-11-19T11:18:09.660569Z"
    }
   },
   "outputs": [
    {
     "data": {
      "text/plain": [
       "'       '"
      ]
     },
     "execution_count": 4,
     "metadata": {},
     "output_type": "execute_result"
    }
   ],
   "source": [
    "length = 7\n",
    "string = ' ' * length\n"
   ]
  },
  {
   "cell_type": "code",
   "execution_count": null,
   "id": "34bfb0f1",
   "metadata": {},
   "outputs": [],
   "source": []
  }
 ],
 "metadata": {
  "kernelspec": {
   "display_name": "Python 3",
   "language": "python",
   "name": "python3"
  },
  "language_info": {
   "codemirror_mode": {
    "name": "ipython",
    "version": 3
   },
   "file_extension": ".py",
   "mimetype": "text/x-python",
   "name": "python",
   "nbconvert_exporter": "python",
   "pygments_lexer": "ipython3",
   "version": "3.9.5"
  }
 },
 "nbformat": 4,
 "nbformat_minor": 5
}
