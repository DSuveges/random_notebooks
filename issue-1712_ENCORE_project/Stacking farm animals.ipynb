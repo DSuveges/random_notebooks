{
 "cells": [
  {
   "cell_type": "code",
   "execution_count": 1,
   "id": "7f21282d",
   "metadata": {
    "ExecuteTime": {
     "end_time": "2022-01-17T16:34:14.655670Z",
     "start_time": "2022-01-17T16:34:10.342797Z"
    }
   },
   "outputs": [],
   "source": [
    "from functools import reduce\n",
    "import pandas as pd\n",
    "from pyspark.sql.functions import  *\n",
    "from pyspark.sql import SparkSession\n",
    "\n",
    "# establish spark connection\n",
    "spark = (\n",
    "    SparkSession.builder\n",
    "    .master('local[*]')\n",
    "    .getOrCreate()\n",
    ")"
   ]
  },
  {
   "cell_type": "markdown",
   "id": "0539341b",
   "metadata": {},
   "source": [
    "### Case 1\n",
    "\n",
    "Simple columns, one column per category"
   ]
  },
  {
   "cell_type": "code",
   "execution_count": 2,
   "id": "ea10f6a4",
   "metadata": {
    "ExecuteTime": {
     "end_time": "2022-01-17T16:34:18.083478Z",
     "start_time": "2022-01-17T16:34:14.659382Z"
    }
   },
   "outputs": [
    {
     "name": "stdout",
     "output_type": "stream",
     "text": [
      "+------+-----------+-----------+-----------+\n",
      "|animal|      voice|farm1_count|farm2_count|\n",
      "+------+-----------+-----------+-----------+\n",
      "|   cat|      meaow|          1|          1|\n",
      "|   dog|  bark-bark|          1|          1|\n",
      "| chick|cheep cheep|         12|         22|\n",
      "+------+-----------+-----------+-----------+\n",
      "\n"
     ]
    }
   ],
   "source": [
    "# Generate pandas dataframe\n",
    "pdf = pd.DataFrame({\n",
    "    'animal': ['cat', 'dog', 'chick'],\n",
    "    'voice': ['meaow', 'bark-bark', 'cheep cheep'],\n",
    "    \n",
    "    # Data from farm 1\n",
    "    'farm1_count': [1, 1, 12],\n",
    "    \n",
    "    # Data from farm 2\n",
    "    'farm2_count': [1, 1, 22],\n",
    "})\n",
    "\n",
    "# Convert to spark:\n",
    "df = spark.createDataFrame(pdf)\n",
    "df.show()"
   ]
  },
  {
   "cell_type": "code",
   "execution_count": 3,
   "id": "0664b7a8",
   "metadata": {
    "ExecuteTime": {
     "end_time": "2022-01-17T16:34:18.610139Z",
     "start_time": "2022-01-17T16:34:18.086698Z"
    }
   },
   "outputs": [
    {
     "name": "stdout",
     "output_type": "stream",
     "text": [
      "+------+-----------+-----+-----+\n",
      "|animal|      voice| farm|count|\n",
      "+------+-----------+-----+-----+\n",
      "|   cat|      meaow|farm1|    1|\n",
      "|   cat|      meaow|farm2|    1|\n",
      "|   dog|  bark-bark|farm1|    1|\n",
      "|   dog|  bark-bark|farm2|    1|\n",
      "| chick|cheep cheep|farm1|   12|\n",
      "| chick|cheep cheep|farm2|   22|\n",
      "+------+-----------+-----+-----+\n",
      "\n"
     ]
    }
   ],
   "source": [
    "unpivot_expression = '''stack(2, 'farm1', farm1_count, 'farm2', farm2_count) as (farm, count)'''\n",
    "\n",
    "(\n",
    "    df\n",
    "    .select('animal', 'voice', expr(unpivot_expression))\n",
    "    .show()\n",
    ")"
   ]
  },
  {
   "cell_type": "markdown",
   "id": "cecde234",
   "metadata": {},
   "source": [
    "### Case 2\n",
    "\n",
    "Multiple columns per farm. Still hardcoded changes. We want to melt the table by farms. Getting columns for `count` and `leg_count`."
   ]
  },
  {
   "cell_type": "code",
   "execution_count": 4,
   "id": "4d66bc91",
   "metadata": {
    "ExecuteTime": {
     "end_time": "2022-01-17T16:34:18.845369Z",
     "start_time": "2022-01-17T16:34:18.612964Z"
    }
   },
   "outputs": [
    {
     "name": "stdout",
     "output_type": "stream",
     "text": [
      "+------+-----------+-----------+----------------+-----------+----------------+\n",
      "|animal|      voice|farm1_count|farm1_legs_count|farm2_count|farm2_legs_count|\n",
      "+------+-----------+-----------+----------------+-----------+----------------+\n",
      "|   cat|      meaow|          1|               4|          1|               4|\n",
      "|   dog|  bark-bark|          1|               4|          1|               4|\n",
      "| chick|cheep cheep|         12|              24|         22|              44|\n",
      "+------+-----------+-----------+----------------+-----------+----------------+\n",
      "\n"
     ]
    }
   ],
   "source": [
    "# Generate pandas dataframe\n",
    "pdf = pd.DataFrame({\n",
    "    'animal': ['cat', 'dog', 'chick'],\n",
    "    'voice': ['meaow', 'bark-bark', 'cheep cheep'],\n",
    "    \n",
    "    # Data from farm 1\n",
    "    'farm1_count': [1, 1, 12],\n",
    "    'farm1_legs_count': [4, 4, 24],\n",
    "    \n",
    "    # Data from farm 2\n",
    "    'farm2_count': [1, 1, 22],\n",
    "    'farm2_legs_count': [4, 4, 44],\n",
    "})\n",
    "\n",
    "# Convert to spark:\n",
    "df = spark.createDataFrame(pdf)\n",
    "df.show()\n"
   ]
  },
  {
   "cell_type": "code",
   "execution_count": 5,
   "id": "20c8d58d",
   "metadata": {
    "ExecuteTime": {
     "end_time": "2022-01-17T16:34:19.245625Z",
     "start_time": "2022-01-17T16:34:18.847637Z"
    }
   },
   "outputs": [
    {
     "name": "stdout",
     "output_type": "stream",
     "text": [
      "+------+-----------+-----+-----+----------+\n",
      "|animal|      voice| farm|count|legs_count|\n",
      "+------+-----------+-----+-----+----------+\n",
      "|   cat|      meaow|farm1|    1|         4|\n",
      "|   cat|      meaow|farm2|    1|         4|\n",
      "|   dog|  bark-bark|farm1|    1|         4|\n",
      "|   dog|  bark-bark|farm2|    1|         4|\n",
      "| chick|cheep cheep|farm1|   12|        24|\n",
      "| chick|cheep cheep|farm2|   22|        44|\n",
      "+------+-----------+-----+-----+----------+\n",
      "\n"
     ]
    }
   ],
   "source": [
    "# Two new colums are created: \"farm\" and \"data\":\n",
    "# * The farm column contains the farm labels: farm1 or farm2\n",
    "# * The data column contains the struct with columns belonging to a given farm\n",
    "unpivot_expression = '''stack(2, 'farm1', farm1, 'farm2', farm2) as (farm, data)'''\n",
    "\n",
    "(\n",
    "    df\n",
    "    \n",
    "    # Collecting the data for farm1 into a struct called farm1:\n",
    "    .withColumn('farm1', struct(\n",
    "        col('farm1_count').alias('count'), \n",
    "        col('farm1_legs_count').alias('legs_count'))\n",
    "    )\n",
    "\n",
    "    # Collecting the data for farm2 into a struct called farm2:\n",
    "    .withColumn('farm2', struct(\n",
    "        col('farm2_count').alias('count'), \n",
    "        col('farm2_legs_count').alias('legs_count'))\n",
    "    )\n",
    "    \n",
    "    # Stack data:\n",
    "    .select('animal', 'voice', expr(unpivot_expression))\n",
    "    \n",
    "    # Explode struct:\n",
    "    .select('*', 'data.*')\n",
    "    .drop('data')\n",
    "\n",
    "    .show()\n",
    ")"
   ]
  },
  {
   "cell_type": "markdown",
   "id": "cd2ba4a0",
   "metadata": {
    "ExecuteTime": {
     "end_time": "2021-10-13T13:48:33.931085Z",
     "start_time": "2021-10-13T13:48:33.926450Z"
    }
   },
   "source": [
    "In the above example, the columns belonging to the same farm are pulled together into a struct. \n",
    "Then these n columns of structs are then melted into a single column.\n",
    "\n",
    "Then the structs are unpacked."
   ]
  },
  {
   "cell_type": "markdown",
   "id": "99dc0fd0",
   "metadata": {},
   "source": [
    "### Case 3\n",
    "\n",
    "3 farms are present in the dataset:"
   ]
  },
  {
   "cell_type": "code",
   "execution_count": 6,
   "id": "236f0ebe",
   "metadata": {
    "ExecuteTime": {
     "end_time": "2022-01-17T16:34:19.482296Z",
     "start_time": "2022-01-17T16:34:19.248166Z"
    }
   },
   "outputs": [
    {
     "name": "stdout",
     "output_type": "stream",
     "text": [
      "+------+-----------+-----------+----------------+------------------+-----------+----------------+------------------+-----------+----------------+------------------+\n",
      "|animal|      voice|farm1_count|farm1_legs_count|farm1_has_feathers|farm2_count|farm2_legs_count|farm2_has_feathers|farm3_count|farm3_legs_count|farm3_has_feathers|\n",
      "+------+-----------+-----------+----------------+------------------+-----------+----------------+------------------+-----------+----------------+------------------+\n",
      "|   cat|      meaow|          1|               4|             false|          1|               4|             false|          2|               8|             false|\n",
      "|   dog|  bark-bark|          1|               4|             false|          1|               4|             false|          5|              20|             false|\n",
      "| chick|cheep cheep|         12|              24|              true|         22|              44|              true|          2|               4|              true|\n",
      "+------+-----------+-----------+----------------+------------------+-----------+----------------+------------------+-----------+----------------+------------------+\n",
      "\n"
     ]
    }
   ],
   "source": [
    "# Generate pandas dataframe\n",
    "pdf = pd.DataFrame({\n",
    "    'animal': ['cat', 'dog', 'chick'],\n",
    "    'voice': ['meaow', 'bark-bark', 'cheep cheep'],\n",
    "    \n",
    "    # Data from farm 1\n",
    "    'farm1_count': [1, 1, 12],\n",
    "    'farm1_legs_count': [4, 4, 24],\n",
    "    'farm1_has_feathers': [False, False, True],\n",
    "    \n",
    "    # Data from farm 2\n",
    "    'farm2_count': [1, 1, 22],\n",
    "    'farm2_legs_count': [4, 4, 44],\n",
    "    'farm2_has_feathers': [False, False, True],\n",
    "    \n",
    "    # Data from farm 3\n",
    "    'farm3_count': [2, 5, 2],\n",
    "    'farm3_legs_count': [8, 20, 4],\n",
    "    'farm3_has_feathers': [False, False, True],\n",
    "})\n",
    "\n",
    "# Convert to spark:\n",
    "df = spark.createDataFrame(pdf)\n",
    "df.show()"
   ]
  },
  {
   "cell_type": "code",
   "execution_count": 7,
   "id": "576e6720",
   "metadata": {
    "ExecuteTime": {
     "end_time": "2022-01-17T16:34:19.835304Z",
     "start_time": "2022-01-17T16:34:19.485546Z"
    }
   },
   "outputs": [
    {
     "name": "stdout",
     "output_type": "stream",
     "text": [
      "+------+-----------+-----+-----+----------+------------+\n",
      "|animal|      voice| farm|count|legs_count|has_feathers|\n",
      "+------+-----------+-----+-----+----------+------------+\n",
      "|   cat|      meaow|farm1|    1|         4|       false|\n",
      "|   cat|      meaow|farm2|    1|         4|       false|\n",
      "|   cat|      meaow|farm3|    2|         8|       false|\n",
      "|   dog|  bark-bark|farm1|    1|         4|       false|\n",
      "|   dog|  bark-bark|farm2|    1|         4|       false|\n",
      "|   dog|  bark-bark|farm3|    5|        20|       false|\n",
      "| chick|cheep cheep|farm1|   12|        24|        true|\n",
      "| chick|cheep cheep|farm2|   22|        44|        true|\n",
      "| chick|cheep cheep|farm3|    2|         4|        true|\n",
      "+------+-----------+-----+-----+----------+------------+\n",
      "\n"
     ]
    }
   ],
   "source": [
    "farms = ['farm1', 'farm2', 'farm3'] # This can be inferred from schema\n",
    "columns = ['count', 'legs_count', 'has_feathers'] # This can be inferred from schema\n",
    "\n",
    "# Generating \"unpivot\" expression:\n",
    "unpivot_expression = f'''stack({len(farms)}, {\", \".join([f\"'{x}', {x}\" for x in farms])} ) as (farm, data)'''\n",
    "\n",
    "# Generating expressions to create the full struct for each farm:\n",
    "expressions = map(lambda farm: (farm, struct([col(f'{farm}_{x}').alias(x) for x in columns])), farms)\n",
    "\n",
    "# Applying map on the dataframe:\n",
    "res_df = reduce(lambda DF,value: DF.withColumn(*value) , expressions, df)\n",
    "\n",
    "(\n",
    "    res_df\n",
    "    .select('animal', 'voice', expr(unpivot_expression))\n",
    "    .select('*', 'data.*')\n",
    "    .drop('data')\n",
    "    .show()\n",
    ")"
   ]
  },
  {
   "cell_type": "code",
   "execution_count": 14,
   "id": "b47e4e81",
   "metadata": {
    "ExecuteTime": {
     "end_time": "2022-01-17T20:04:52.179073Z",
     "start_time": "2022-01-17T20:04:52.007773Z"
    }
   },
   "outputs": [
    {
     "name": "stdout",
     "output_type": "stream",
     "text": [
      "-RECORD 0---------------------------\n",
      " animal             | cat           \n",
      " voice              | meaow         \n",
      " farm1_count        | 1             \n",
      " farm1_legs_count   | 4             \n",
      " farm1_has_feathers | false         \n",
      " farm2_count        | 1             \n",
      " farm2_legs_count   | 4             \n",
      " farm2_has_feathers | false         \n",
      " farm3_count        | 2             \n",
      " farm3_legs_count   | 8             \n",
      " farm3_has_feathers | false         \n",
      " farm1              | {1, 4, false} \n",
      " farm2              | {1, 4, false} \n",
      " farm3              | {2, 8, false} \n",
      "only showing top 1 row\n",
      "\n"
     ]
    }
   ],
   "source": [
    "res_df.show(1, vertical=True, truncate=False)"
   ]
  },
  {
   "cell_type": "code",
   "execution_count": 19,
   "id": "cd65f4db",
   "metadata": {
    "ExecuteTime": {
     "end_time": "2021-10-15T20:51:11.225706Z",
     "start_time": "2021-10-15T20:51:11.220575Z"
    }
   },
   "outputs": [
    {
     "data": {
      "text/plain": [
       "array([['L', 'H', 'D'],\n",
       "       ['K', 'G', 'C'],\n",
       "       ['J', 'F', 'B']], dtype='<U1')"
      ]
     },
     "execution_count": 19,
     "metadata": {},
     "output_type": "execute_result"
    }
   ],
   "source": [
    "np.fliplr(np.rot90(betuk))[:-1]\n",
    "# np.fliplr(betuk)"
   ]
  },
  {
   "cell_type": "code",
   "execution_count": 16,
   "id": "bf8057cf",
   "metadata": {
    "ExecuteTime": {
     "end_time": "2022-01-18T11:04:20.252551Z",
     "start_time": "2022-01-18T11:04:19.969570Z"
    }
   },
   "outputs": [
    {
     "name": "stdout",
     "output_type": "stream",
     "text": [
      "+-----+--------+-------+\n",
      "| gene|    role|species|\n",
      "+-----+--------+-------+\n",
      "| EGFR|  cancer|  human|\n",
      "| MYO6|deafness|  human|\n",
      "|ERBB3|  cancer|  human|\n",
      "+-----+--------+-------+\n",
      "\n"
     ]
    }
   ],
   "source": [
    "df = spark.createDataFrame([{\n",
    "    \"gene\": \"EGFR\",\n",
    "    \"species\": \"human\",\n",
    "    \"role\": \"cancer\"\n",
    "},\n",
    "{\n",
    "    \"gene\": \"MYO6\",\n",
    "    \"species\": \"human\",\n",
    "    \"role\": \"deafness\"\n",
    "},\n",
    "{\n",
    "    \"gene\": \"ERBB3\",\n",
    "    \"species\": \"human\",\n",
    "    \"role\": \"cancer\"\n",
    "}]).persist()\n",
    "\n",
    "df.show()"
   ]
  },
  {
   "cell_type": "code",
   "execution_count": 32,
   "id": "84a643fd",
   "metadata": {
    "ExecuteTime": {
     "end_time": "2022-01-18T11:51:32.262985Z",
     "start_time": "2022-01-18T11:51:32.003119Z"
    }
   },
   "outputs": [
    {
     "data": {
      "text/plain": [
       "'ENSG00000196586'"
      ]
     },
     "execution_count": 32,
     "metadata": {},
     "output_type": "execute_result"
    }
   ],
   "source": [
    "import requests\n",
    "\n",
    "\n",
    "def get_id(symbol):\n",
    "    try:\n",
    "        response = requests.get(f'https://rest.ensembl.org/lookup/symbol/homo_sapiens/{symbol}?content-type=application/json')\n",
    "        data = response.json()\n",
    "        return data['id']\n",
    "    except:\n",
    "        return None\n",
    "\n",
    "\n",
    "get_id('MYO6')"
   ]
  },
  {
   "cell_type": "code",
   "execution_count": 39,
   "id": "de01abbc",
   "metadata": {
    "ExecuteTime": {
     "end_time": "2022-01-18T15:29:20.212901Z",
     "start_time": "2022-01-18T15:29:18.705938Z"
    },
    "scrolled": false
   },
   "outputs": [
    {
     "data": {
      "text/html": [
       "<div>\n",
       "<style scoped>\n",
       "    .dataframe tbody tr th:only-of-type {\n",
       "        vertical-align: middle;\n",
       "    }\n",
       "\n",
       "    .dataframe tbody tr th {\n",
       "        vertical-align: top;\n",
       "    }\n",
       "\n",
       "    .dataframe thead th {\n",
       "        text-align: right;\n",
       "    }\n",
       "</style>\n",
       "<table border=\"1\" class=\"dataframe\">\n",
       "  <thead>\n",
       "    <tr style=\"text-align: right;\">\n",
       "      <th></th>\n",
       "      <th>gene</th>\n",
       "      <th>role</th>\n",
       "      <th>species</th>\n",
       "      <th>geneId</th>\n",
       "    </tr>\n",
       "  </thead>\n",
       "  <tbody>\n",
       "    <tr>\n",
       "      <th>0</th>\n",
       "      <td>EGFR</td>\n",
       "      <td>cancer</td>\n",
       "      <td>human</td>\n",
       "      <td>ENSG00000146648</td>\n",
       "    </tr>\n",
       "    <tr>\n",
       "      <th>1</th>\n",
       "      <td>MYO6</td>\n",
       "      <td>deafness</td>\n",
       "      <td>human</td>\n",
       "      <td>ENSG00000196586</td>\n",
       "    </tr>\n",
       "    <tr>\n",
       "      <th>2</th>\n",
       "      <td>ERBB3</td>\n",
       "      <td>cancer</td>\n",
       "      <td>human</td>\n",
       "      <td>ENSG00000065361</td>\n",
       "    </tr>\n",
       "  </tbody>\n",
       "</table>\n",
       "</div>"
      ],
      "text/plain": [
       "    gene      role species           geneId\n",
       "0   EGFR    cancer   human  ENSG00000146648\n",
       "1   MYO6  deafness   human  ENSG00000196586\n",
       "2  ERBB3    cancer   human  ENSG00000065361"
      ]
     },
     "execution_count": 39,
     "metadata": {},
     "output_type": "execute_result"
    }
   ],
   "source": [
    "def get_id(symbol):\n",
    "    try:\n",
    "        response = requests.get(f'https://rest.ensembl.org/lookup/symbol/homo_sapiens/{symbol}?content-type=application/json')\n",
    "        data = response.json()\n",
    "        return data['id']\n",
    "    except:\n",
    "        return None\n",
    "\n",
    "\n",
    "(\n",
    "    spark.createDataFrame([{\n",
    "        \"gene\": \"EGFR\",\n",
    "        \"species\": \"human\",\n",
    "        \"role\": \"cancer\"\n",
    "    },\n",
    "    {\n",
    "        \"gene\": \"MYO6\",\n",
    "        \"species\": \"human\",\n",
    "        \"role\": \"deafness\"\n",
    "    },\n",
    "    {\n",
    "        \"gene\": \"ERBB3\",\n",
    "        \"species\": \"human\",\n",
    "        \"role\": \"cancer\"\n",
    "    }])\n",
    "    .toPandas()\n",
    "    .assign(geneId= lambda x: x.gene.apply(get_id))\n",
    ")\n"
   ]
  },
  {
   "cell_type": "code",
   "execution_count": 40,
   "id": "d1c572ca",
   "metadata": {
    "ExecuteTime": {
     "end_time": "2022-01-18T16:05:31.313387Z",
     "start_time": "2022-01-18T16:05:31.307391Z"
    }
   },
   "outputs": [
    {
     "ename": "IndentationError",
     "evalue": "expected an indented block (<ipython-input-40-eed49d14567e>, line 10)",
     "output_type": "error",
     "traceback": [
      "\u001b[0;36m  File \u001b[0;32m\"<ipython-input-40-eed49d14567e>\"\u001b[0;36m, line \u001b[0;32m10\u001b[0m\n\u001b[0;31m    res = requests.get(url, data=body, headers=headers)\u001b[0m\n\u001b[0m    ^\u001b[0m\n\u001b[0;31mIndentationError\u001b[0m\u001b[0;31m:\u001b[0m expected an indented block\n"
     ]
    }
   ],
   "source": [
    "def executeRestApi(verb, url, headers, body):\n",
    "    #\n",
    "    headers = {\n",
    "    'content-type': \"application/json\"\n",
    "    }\n",
    "    res = None\n",
    "    # Make API request, get response object back, create dataframe from above schema.\n",
    "    try:\n",
    "        if verb == \"get\":\n",
    "        res = requests.get(url, data=body, headers=headers)\n",
    "        else:\n",
    "        res = requests.post(url, data=body, headers=headers)\n",
    "    except Exception as e:\n",
    "        return e\n",
    "    if res != None and res.status_code == 200:\n",
    "        return json.loads(res.text)\n",
    "    return None"
   ]
  },
  {
   "cell_type": "code",
   "execution_count": 41,
   "id": "1db18f2a",
   "metadata": {
    "ExecuteTime": {
     "end_time": "2022-01-18T16:05:38.650628Z",
     "start_time": "2022-01-18T16:05:38.507322Z"
    }
   },
   "outputs": [
    {
     "data": {
      "text/html": [
       "<div>\n",
       "<style scoped>\n",
       "    .dataframe tbody tr th:only-of-type {\n",
       "        vertical-align: middle;\n",
       "    }\n",
       "\n",
       "    .dataframe tbody tr th {\n",
       "        vertical-align: top;\n",
       "    }\n",
       "\n",
       "    .dataframe thead th {\n",
       "        text-align: right;\n",
       "    }\n",
       "</style>\n",
       "<table border=\"1\" class=\"dataframe\">\n",
       "  <thead>\n",
       "    <tr style=\"text-align: right;\">\n",
       "      <th></th>\n",
       "      <th>gene</th>\n",
       "      <th>role</th>\n",
       "      <th>species</th>\n",
       "    </tr>\n",
       "  </thead>\n",
       "  <tbody>\n",
       "    <tr>\n",
       "      <th>0</th>\n",
       "      <td>EGFR</td>\n",
       "      <td>cancer</td>\n",
       "      <td>human</td>\n",
       "    </tr>\n",
       "    <tr>\n",
       "      <th>1</th>\n",
       "      <td>MYO6</td>\n",
       "      <td>deafness</td>\n",
       "      <td>human</td>\n",
       "    </tr>\n",
       "    <tr>\n",
       "      <th>2</th>\n",
       "      <td>ERBB3</td>\n",
       "      <td>cancer</td>\n",
       "      <td>human</td>\n",
       "    </tr>\n",
       "  </tbody>\n",
       "</table>\n",
       "</div>"
      ],
      "text/plain": [
       "    gene      role species\n",
       "0   EGFR    cancer   human\n",
       "1   MYO6  deafness   human\n",
       "2  ERBB3    cancer   human"
      ]
     },
     "execution_count": 41,
     "metadata": {},
     "output_type": "execute_result"
    }
   ],
   "source": [
    "spark.createDataFrame([{\n",
    "        \"gene\": \"EGFR\",\n",
    "        \"species\": \"human\",\n",
    "        \"role\": \"cancer\"\n",
    "    },\n",
    "    {\n",
    "        \"gene\": \"MYO6\",\n",
    "        \"species\": \"human\",\n",
    "        \"role\": \"deafness\"\n",
    "    },\n",
    "    {\n",
    "        \"gene\": \"ERBB3\",\n",
    "        \"species\": \"human\",\n",
    "        \"role\": \"cancer\"\n",
    "    }]).toPandas()"
   ]
  },
  {
   "cell_type": "code",
   "execution_count": 42,
   "id": "d112fda7",
   "metadata": {
    "ExecuteTime": {
     "end_time": "2022-01-18T16:18:36.905179Z",
     "start_time": "2022-01-18T16:18:36.682536Z"
    }
   },
   "outputs": [
    {
     "data": {
      "text/plain": [
       "['3rar']"
      ]
     },
     "execution_count": 42,
     "metadata": {},
     "output_type": "execute_result"
    }
   ],
   "source": [
    "import requests\n",
    "\n",
    "def get_pdb(code: str)-> str:\n",
    "    URL = f'https://www.ebi.ac.uk/pdbe/api/pdb/compound/in_pdb/{code}'\n",
    "    response = requests.get(URL)\n",
    "    try:\n",
    "        data = response.json()\n",
    "        return data[code]\n",
    "    except:\n",
    "        return None\n",
    "    \n",
    "    \n",
    "get_pdb('IAN')"
   ]
  },
  {
   "cell_type": "code",
   "execution_count": 46,
   "id": "1be376ef",
   "metadata": {
    "ExecuteTime": {
     "end_time": "2022-01-18T16:25:20.525667Z",
     "start_time": "2022-01-18T16:25:19.716520Z"
    }
   },
   "outputs": [
    {
     "data": {
      "text/html": [
       "<div>\n",
       "<style scoped>\n",
       "    .dataframe tbody tr th:only-of-type {\n",
       "        vertical-align: middle;\n",
       "    }\n",
       "\n",
       "    .dataframe tbody tr th {\n",
       "        vertical-align: top;\n",
       "    }\n",
       "\n",
       "    .dataframe thead th {\n",
       "        text-align: right;\n",
       "    }\n",
       "</style>\n",
       "<table border=\"1\" class=\"dataframe\">\n",
       "  <thead>\n",
       "    <tr style=\"text-align: right;\">\n",
       "      <th></th>\n",
       "      <th>id</th>\n",
       "      <th>pdb</th>\n",
       "    </tr>\n",
       "  </thead>\n",
       "  <tbody>\n",
       "    <tr>\n",
       "      <th>0</th>\n",
       "      <td>IAN</td>\n",
       "      <td>3rar</td>\n",
       "    </tr>\n",
       "    <tr>\n",
       "      <th>1</th>\n",
       "      <td>AIN</td>\n",
       "      <td>1oxr</td>\n",
       "    </tr>\n",
       "    <tr>\n",
       "      <th>1</th>\n",
       "      <td>AIN</td>\n",
       "      <td>1tgm</td>\n",
       "    </tr>\n",
       "    <tr>\n",
       "      <th>1</th>\n",
       "      <td>AIN</td>\n",
       "      <td>2qqt</td>\n",
       "    </tr>\n",
       "    <tr>\n",
       "      <th>1</th>\n",
       "      <td>AIN</td>\n",
       "      <td>3gcl</td>\n",
       "    </tr>\n",
       "    <tr>\n",
       "      <th>1</th>\n",
       "      <td>AIN</td>\n",
       "      <td>3iaz</td>\n",
       "    </tr>\n",
       "    <tr>\n",
       "      <th>1</th>\n",
       "      <td>AIN</td>\n",
       "      <td>4nsb</td>\n",
       "    </tr>\n",
       "    <tr>\n",
       "      <th>1</th>\n",
       "      <td>AIN</td>\n",
       "      <td>6mqf</td>\n",
       "    </tr>\n",
       "  </tbody>\n",
       "</table>\n",
       "</div>"
      ],
      "text/plain": [
       "    id   pdb\n",
       "0  IAN  3rar\n",
       "1  AIN  1oxr\n",
       "1  AIN  1tgm\n",
       "1  AIN  2qqt\n",
       "1  AIN  3gcl\n",
       "1  AIN  3iaz\n",
       "1  AIN  4nsb\n",
       "1  AIN  6mqf"
      ]
     },
     "execution_count": 46,
     "metadata": {},
     "output_type": "execute_result"
    }
   ],
   "source": [
    "(\n",
    "    spark.createDataFrame([{\"id\": \"IAN\"}, {\"id\": \"AIN\"}])\n",
    "    .toPandas()\n",
    "    .assign(pdb = lambda x: x['id'].apply(get_pdb))\n",
    "    .explode('pdb')\n",
    ")"
   ]
  },
  {
   "cell_type": "code",
   "execution_count": null,
   "id": "decdc002",
   "metadata": {},
   "outputs": [],
   "source": []
  }
 ],
 "metadata": {
  "kernelspec": {
   "display_name": "Python 3",
   "language": "python",
   "name": "python3"
  },
  "language_info": {
   "codemirror_mode": {
    "name": "ipython",
    "version": 3
   },
   "file_extension": ".py",
   "mimetype": "text/x-python",
   "name": "python",
   "nbconvert_exporter": "python",
   "pygments_lexer": "ipython3",
   "version": "3.9.5"
  }
 },
 "nbformat": 4,
 "nbformat_minor": 5
}
