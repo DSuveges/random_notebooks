{
 "cells": [
  {
   "cell_type": "code",
   "execution_count": 78,
   "id": "7f21282d",
   "metadata": {
    "ExecuteTime": {
     "end_time": "2021-10-13T15:24:16.499555Z",
     "start_time": "2021-10-13T15:24:16.494861Z"
    }
   },
   "outputs": [],
   "source": [
    "from functools import reduce\n",
    "import pandas as pd\n",
    "from pyspark.sql.functions import  *\n",
    "from pyspark.sql import SparkSession\n",
    "\n",
    "# establish spark connection\n",
    "spark = (\n",
    "    SparkSession.builder\n",
    "    .master('local[*]')\n",
    "    .getOrCreate()\n",
    ")"
   ]
  },
  {
   "cell_type": "markdown",
   "id": "0539341b",
   "metadata": {},
   "source": [
    "### Case 1\n",
    "\n",
    "Simple columns, one column per category"
   ]
  },
  {
   "cell_type": "code",
   "execution_count": 79,
   "id": "ea10f6a4",
   "metadata": {
    "ExecuteTime": {
     "end_time": "2021-10-13T15:24:17.348878Z",
     "start_time": "2021-10-13T15:24:17.222304Z"
    }
   },
   "outputs": [
    {
     "name": "stdout",
     "output_type": "stream",
     "text": [
      "+------+-----------+-----------+-----------+\n",
      "|animal|      voice|farm1_count|farm2_count|\n",
      "+------+-----------+-----------+-----------+\n",
      "|   cat|      meaow|          1|          1|\n",
      "|   dog|  bark-bark|          1|          1|\n",
      "| chick|cheep cheep|         12|         22|\n",
      "+------+-----------+-----------+-----------+\n",
      "\n"
     ]
    }
   ],
   "source": [
    "# Generate pandas dataframe\n",
    "pdf = pd.DataFrame({\n",
    "    'animal': ['cat', 'dog', 'chick'],\n",
    "    'voice': ['meaow', 'bark-bark', 'cheep cheep'],\n",
    "    \n",
    "    # Data from farm 1\n",
    "    'farm1_count': [1, 1, 12],\n",
    "    \n",
    "    # Data from farm 2\n",
    "    'farm2_count': [1, 1, 22],\n",
    "})\n",
    "\n",
    "# Convert to spark:\n",
    "df = spark.createDataFrame(pdf)\n",
    "df.show()"
   ]
  },
  {
   "cell_type": "code",
   "execution_count": 80,
   "id": "0664b7a8",
   "metadata": {
    "ExecuteTime": {
     "end_time": "2021-10-13T15:24:17.845652Z",
     "start_time": "2021-10-13T15:24:17.744500Z"
    }
   },
   "outputs": [
    {
     "name": "stdout",
     "output_type": "stream",
     "text": [
      "+------+-----------+-----+-----+\n",
      "|animal|      voice| farm|count|\n",
      "+------+-----------+-----+-----+\n",
      "|   cat|      meaow|farm1|    1|\n",
      "|   cat|      meaow|farm2|    1|\n",
      "|   dog|  bark-bark|farm1|    1|\n",
      "|   dog|  bark-bark|farm2|    1|\n",
      "| chick|cheep cheep|farm1|   12|\n",
      "| chick|cheep cheep|farm2|   22|\n",
      "+------+-----------+-----+-----+\n",
      "\n"
     ]
    }
   ],
   "source": [
    "unpivot_expression = '''stack(2, 'farm1', farm1_count, 'farm2', farm2_count) as (farm, count)'''\n",
    "\n",
    "(\n",
    "    df\n",
    "    .select('animal', 'voice', expr(unpivot_expression))\n",
    "    .show()\n",
    ")"
   ]
  },
  {
   "cell_type": "markdown",
   "id": "cecde234",
   "metadata": {},
   "source": [
    "### Case 2\n",
    "\n",
    "Multiple columns per farm. Still hardcoded changes. We want to melt the table by farms. Getting columns for `count` and `leg_count`."
   ]
  },
  {
   "cell_type": "code",
   "execution_count": 81,
   "id": "4d66bc91",
   "metadata": {
    "ExecuteTime": {
     "end_time": "2021-10-13T15:24:18.861902Z",
     "start_time": "2021-10-13T15:24:18.750671Z"
    }
   },
   "outputs": [
    {
     "name": "stdout",
     "output_type": "stream",
     "text": [
      "+------+-----------+-----------+----------------+-----------+----------------+\n",
      "|animal|      voice|farm1_count|farm1_legs_count|farm2_count|farm2_legs_count|\n",
      "+------+-----------+-----------+----------------+-----------+----------------+\n",
      "|   cat|      meaow|          1|               4|          1|               4|\n",
      "|   dog|  bark-bark|          1|               4|          1|               4|\n",
      "| chick|cheep cheep|         12|              24|         22|              44|\n",
      "+------+-----------+-----------+----------------+-----------+----------------+\n",
      "\n"
     ]
    }
   ],
   "source": [
    "# Generate pandas dataframe\n",
    "pdf = pd.DataFrame({\n",
    "    'animal': ['cat', 'dog', 'chick'],\n",
    "    'voice': ['meaow', 'bark-bark', 'cheep cheep'],\n",
    "    \n",
    "    # Data from farm 1\n",
    "    'farm1_count': [1, 1, 12],\n",
    "    'farm1_legs_count': [4, 4, 24],\n",
    "    \n",
    "    # Data from farm 2\n",
    "    'farm2_count': [1, 1, 22],\n",
    "    'farm2_legs_count': [4, 4, 44],\n",
    "})\n",
    "\n",
    "# Convert to spark:\n",
    "df = spark.createDataFrame(pdf)\n",
    "df.show()\n"
   ]
  },
  {
   "cell_type": "code",
   "execution_count": 85,
   "id": "20c8d58d",
   "metadata": {
    "ExecuteTime": {
     "end_time": "2021-10-13T15:24:36.734362Z",
     "start_time": "2021-10-13T15:24:36.575260Z"
    }
   },
   "outputs": [
    {
     "name": "stdout",
     "output_type": "stream",
     "text": [
      "+------+-----------+-----+-----+----------+\n",
      "|animal|      voice| farm|count|legs_count|\n",
      "+------+-----------+-----+-----+----------+\n",
      "|   cat|      meaow|farm1|    1|         4|\n",
      "|   cat|      meaow|farm2|    1|         4|\n",
      "|   dog|  bark-bark|farm1|    1|         4|\n",
      "|   dog|  bark-bark|farm2|    1|         4|\n",
      "| chick|cheep cheep|farm1|   12|        24|\n",
      "| chick|cheep cheep|farm2|   22|        44|\n",
      "+------+-----------+-----+-----+----------+\n",
      "\n"
     ]
    }
   ],
   "source": [
    "# Two new colums are created: \"farm\" and \"data\":\n",
    "# * The farm column contains the farm labels: farm1 or farm2\n",
    "# * The data column contains the struct with columns belonging to a given farm\n",
    "unpivot_expression = '''stack(2, 'farm1', farm1, 'farm2', farm2) as (farm, data)'''\n",
    "\n",
    "(\n",
    "    df\n",
    "    \n",
    "    # Collecting the data for farm1 into a struct called farm1:\n",
    "    .withColumn('farm1', struct(\n",
    "        col('farm1_count').alias('count'), \n",
    "        col('farm1_legs_count').alias('legs_count'))\n",
    "    )\n",
    "\n",
    "    # Collecting the data for farm2 into a struct called farm2:\n",
    "    .withColumn('farm2', struct(\n",
    "        col('farm2_count').alias('count'), \n",
    "        col('farm2_legs_count').alias('legs_count'))\n",
    "    )\n",
    "    \n",
    "    # Stack data:\n",
    "    .select('animal', 'voice', expr(unpivot_expression))\n",
    "    \n",
    "    # Explode struct:\n",
    "    .select('*', 'data.*')\n",
    "    .drop('data')\n",
    "\n",
    "    .show()\n",
    ")"
   ]
  },
  {
   "cell_type": "markdown",
   "id": "cd2ba4a0",
   "metadata": {
    "ExecuteTime": {
     "end_time": "2021-10-13T13:48:33.931085Z",
     "start_time": "2021-10-13T13:48:33.926450Z"
    }
   },
   "source": [
    "In the above example, the columns belonging to the same farm are pulled together into a struct. \n",
    "Then these n columns of structs are then melted into a single column.\n",
    "\n",
    "Then the structs are unpacked."
   ]
  },
  {
   "cell_type": "markdown",
   "id": "99dc0fd0",
   "metadata": {},
   "source": [
    "### Case 3\n",
    "\n",
    "3 farms are present in the dataset:"
   ]
  },
  {
   "cell_type": "code",
   "execution_count": 83,
   "id": "236f0ebe",
   "metadata": {
    "ExecuteTime": {
     "end_time": "2021-10-13T15:24:20.298394Z",
     "start_time": "2021-10-13T15:24:20.192641Z"
    }
   },
   "outputs": [
    {
     "name": "stdout",
     "output_type": "stream",
     "text": [
      "+------+-----------+-----------+----------------+------------------+-----------+----------------+------------------+-----------+----------------+------------------+\n",
      "|animal|      voice|farm1_count|farm1_legs_count|farm1_has_feathers|farm2_count|farm2_legs_count|farm2_has_feathers|farm3_count|farm3_legs_count|farm3_has_feathers|\n",
      "+------+-----------+-----------+----------------+------------------+-----------+----------------+------------------+-----------+----------------+------------------+\n",
      "|   cat|      meaow|          1|               4|             false|          1|               4|             false|          2|               8|             false|\n",
      "|   dog|  bark-bark|          1|               4|             false|          1|               4|             false|          5|              20|             false|\n",
      "| chick|cheep cheep|         12|              24|              true|         22|              44|              true|          2|               4|              true|\n",
      "+------+-----------+-----------+----------------+------------------+-----------+----------------+------------------+-----------+----------------+------------------+\n",
      "\n"
     ]
    }
   ],
   "source": [
    "# Generate pandas dataframe\n",
    "pdf = pd.DataFrame({\n",
    "    'animal': ['cat', 'dog', 'chick'],\n",
    "    'voice': ['meaow', 'bark-bark', 'cheep cheep'],\n",
    "    \n",
    "    # Data from farm 1\n",
    "    'farm1_count': [1, 1, 12],\n",
    "    'farm1_legs_count': [4, 4, 24],\n",
    "    'farm1_has_feathers': [False, False, True],\n",
    "    \n",
    "    # Data from farm 2\n",
    "    'farm2_count': [1, 1, 22],\n",
    "    'farm2_legs_count': [4, 4, 44],\n",
    "    'farm2_has_feathers': [False, False, True],\n",
    "    \n",
    "    # Data from farm 3\n",
    "    'farm3_count': [2, 5, 2],\n",
    "    'farm3_legs_count': [8, 20, 4],\n",
    "    'farm3_has_feathers': [False, False, True],\n",
    "})\n",
    "\n",
    "# Convert to spark:\n",
    "df = spark.createDataFrame(pdf)\n",
    "df.show()"
   ]
  },
  {
   "cell_type": "code",
   "execution_count": 84,
   "id": "576e6720",
   "metadata": {
    "ExecuteTime": {
     "end_time": "2021-10-13T15:24:21.523103Z",
     "start_time": "2021-10-13T15:24:21.372241Z"
    }
   },
   "outputs": [
    {
     "name": "stdout",
     "output_type": "stream",
     "text": [
      "+------+-----------+-----+-----+----------+------------+\n",
      "|animal|      voice| farm|count|legs_count|has_feathers|\n",
      "+------+-----------+-----+-----+----------+------------+\n",
      "|   cat|      meaow|farm1|    1|         4|       false|\n",
      "|   cat|      meaow|farm2|    1|         4|       false|\n",
      "|   cat|      meaow|farm3|    2|         8|       false|\n",
      "|   dog|  bark-bark|farm1|    1|         4|       false|\n",
      "|   dog|  bark-bark|farm2|    1|         4|       false|\n",
      "|   dog|  bark-bark|farm3|    5|        20|       false|\n",
      "| chick|cheep cheep|farm1|   12|        24|        true|\n",
      "| chick|cheep cheep|farm2|   22|        44|        true|\n",
      "| chick|cheep cheep|farm3|    2|         4|        true|\n",
      "+------+-----------+-----+-----+----------+------------+\n",
      "\n"
     ]
    }
   ],
   "source": [
    "farms = ['farm1', 'farm2', 'farm3'] # This can be inferred from schema\n",
    "columns = ['count', 'legs_count', 'has_feathers'] # This can be inferred from schema\n",
    "\n",
    "# Generating \"unpivot\" expression:\n",
    "unpivot_expression = f'''stack({len(farms)}, {\", \".join([f\"'{x}', {x}\" for x in farms])} ) as (farm, data)'''\n",
    "\n",
    "# Generating expressions to create the full struct for each farm:\n",
    "expressions = map(lambda farm: (farm, struct([col(f'{farm}_{x}').alias(x) for x in columns])), farms)\n",
    "\n",
    "# Applying map on the dataframe:\n",
    "res_df = reduce(lambda DF,value: DF.withColumn(*value) , expressions, df)\n",
    "\n",
    "(\n",
    "    res_df\n",
    "    .select('animal', 'voice', expr(unpivot_expression))\n",
    "    .select('*', 'data.*')\n",
    "    .drop('data')\n",
    "    .show()\n",
    ")"
   ]
  },
  {
   "cell_type": "code",
   "execution_count": 11,
   "id": "b47e4e81",
   "metadata": {
    "ExecuteTime": {
     "end_time": "2021-10-15T20:45:26.562656Z",
     "start_time": "2021-10-15T20:45:26.555406Z"
    }
   },
   "outputs": [
    {
     "data": {
      "text/plain": [
       "array([['A', 'B', 'C', 'D'],\n",
       "       ['E', 'F', 'G', 'H'],\n",
       "       ['I', 'J', 'K', 'L']], dtype='<U1')"
      ]
     },
     "execution_count": 11,
     "metadata": {},
     "output_type": "execute_result"
    }
   ],
   "source": [
    "import numpy as np\n",
    "\n",
    "betuk = np.array([x for x in 'abcdefghijkl'.upper()]).reshape((3, 4))\n",
    "betuk"
   ]
  },
  {
   "cell_type": "code",
   "execution_count": 19,
   "id": "cd65f4db",
   "metadata": {
    "ExecuteTime": {
     "end_time": "2021-10-15T20:51:11.225706Z",
     "start_time": "2021-10-15T20:51:11.220575Z"
    }
   },
   "outputs": [
    {
     "data": {
      "text/plain": [
       "array([['L', 'H', 'D'],\n",
       "       ['K', 'G', 'C'],\n",
       "       ['J', 'F', 'B']], dtype='<U1')"
      ]
     },
     "execution_count": 19,
     "metadata": {},
     "output_type": "execute_result"
    }
   ],
   "source": [
    "np.fliplr(np.rot90(betuk))[:-1]\n",
    "# np.fliplr(betuk)"
   ]
  },
  {
   "cell_type": "code",
   "execution_count": null,
   "id": "bf8057cf",
   "metadata": {},
   "outputs": [],
   "source": []
  }
 ],
 "metadata": {
  "kernelspec": {
   "display_name": "Python 3",
   "language": "python",
   "name": "python3"
  },
  "language_info": {
   "codemirror_mode": {
    "name": "ipython",
    "version": 3
   },
   "file_extension": ".py",
   "mimetype": "text/x-python",
   "name": "python",
   "nbconvert_exporter": "python",
   "pygments_lexer": "ipython3",
   "version": "3.9.5"
  }
 },
 "nbformat": 4,
 "nbformat_minor": 5
}
