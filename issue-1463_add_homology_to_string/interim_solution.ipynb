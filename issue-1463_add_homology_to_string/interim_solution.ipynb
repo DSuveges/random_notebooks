{
 "cells": [
  {
   "cell_type": "code",
   "execution_count": 1,
   "metadata": {
    "ExecuteTime": {
     "end_time": "2021-04-14T11:59:16.326838Z",
     "start_time": "2021-04-14T11:59:15.496842Z"
    }
   },
   "outputs": [],
   "source": [
    "import json\n",
    "import pandas as pd\n",
    "\n",
    "\n",
    "\n",
    "string_detailed = '/Users/dsuveges/project_data/interactions/string_input/9606.protein.links.detailed.v11.0.txt.gz'\n",
    "string_full = '/Users/dsuveges/project_data/interactions/string_input/9606.protein.links.full.v11.0.txt.gz'"
   ]
  },
  {
   "cell_type": "code",
   "execution_count": null,
   "metadata": {},
   "outputs": [],
   "source": [
    "\n",
    "\n",
    "class StringInteractions(object):\n",
    "    \"\"\"\n",
    "    main interface of the StringInteractions module.\n",
    "    * Manages the flow of accessing data from various sources + mapping\n",
    "    * Manages the formatting of the resulting data accomodating the json schema\n",
    "    \"\"\"\n",
    "\n",
    "    def __init__(self, yaml_dict):\n",
    "        self.download = DownloadResource(PIS_OUTPUT_INTERACTIONS)\n",
    "        self.gs_output_dir = yaml_dict.gs_output_dir\n",
    "        self.output_folder = PIS_OUTPUT_INTERACTIONS\n",
    "        self.yaml = yaml_dict\n",
    "        self.string_url = yaml_dict.string_info.uri\n",
    "        self.score_limit = yaml_dict.string_info.score_threshold\n",
    "        self.ensembl_gtf_url = yaml_dict.string_info.additional_resouces.ensembl_ftp\n",
    "        self.network_json_schema_url = yaml_dict.string_info.additional_resouces.network_json_schema.url\n",
    "        self.output_string = yaml_dict.string_info.output_string\n",
    "        self.output_protein_mapping = yaml_dict.string_info.additional_resouces.ensembl_ftp.output_protein_mapping\n",
    "        self.list_files_downloaded = {}\n",
    "\n",
    "\n",
    "    def getStringResources(self):\n",
    "        # Fetch string network data and generate evidence json:\n",
    "        ensembl_protein_mapping = self.get_ensembl_protein_mapping()\n",
    "        self.list_files_downloaded[ensembl_protein_mapping] = {'resource': self.ensembl_gtf_url.resource,\n",
    "                                                      'gs_output_dir': self.gs_output_dir }\n",
    "        string_file = self.fetch_data()\n",
    "        self.list_files_downloaded[string_file] = {'resource': self.yaml.string_info.resource,\n",
    "                                                  'gs_output_dir': self.gs_output_dir }\n",
    "\n",
    "        return self.list_files_downloaded\n",
    "\n",
    "\n",
    "    def get_ensembl_protein_mapping(self):\n",
    "        ensembl_file = self.download.ftp_download(self.ensembl_gtf_url)\n",
    "        return ensembl_file\n",
    "\n",
    "    def fetch_data(self):\n",
    "\n",
    "        # Initialize fetch object:\n",
    "        string = PrepareStringData(self.string_url, score_limit=self.score_limit)\n",
    "\n",
    "        # Fetch network data:\n",
    "        string.fetch_network_data()\n",
    "\n",
    "        # Adding species information:\n",
    "        string.map_organism()\n",
    "\n",
    "        self.network_data = string.get_data()\n",
    "\n",
    "        stringEntries = self.generate_json()\n",
    "\n",
    "        output_file = self.output_folder+'/'+replace_suffix(self.output_string)\n",
    "\n",
    "        logging.info('Saving table to: .... ' + output_file)\n",
    "\n",
    "        # Save gzipped json file:\n",
    "        with gzip.open(output_file, \"wt\") as f:\n",
    "            stringEntries.apply(lambda x: f.write(str(x)+'\\n'))\n",
    "\n",
    "        return output_file\n",
    "\n",
    "\n",
    "    def generate_json(self):\n",
    "\n",
    "        sjg = StringJsonGenerator(self.network_json_schema_url)\n",
    "\n",
    "        # Generate json objects:\n",
    "        json_objects = self.network_data.apply(sjg.generate_network_object, axis=1)\n",
    "\n",
    "        return json_objects\n",
    "    \n",
    "    "
   ]
  }
 ],
 "metadata": {
  "kernelspec": {
   "display_name": "Python 3",
   "language": "python",
   "name": "python3"
  },
  "language_info": {
   "codemirror_mode": {
    "name": "ipython",
    "version": 3
   },
   "file_extension": ".py",
   "mimetype": "text/x-python",
   "name": "python",
   "nbconvert_exporter": "python",
   "pygments_lexer": "ipython3",
   "version": "3.9.5"
  }
 },
 "nbformat": 4,
 "nbformat_minor": 4
}
