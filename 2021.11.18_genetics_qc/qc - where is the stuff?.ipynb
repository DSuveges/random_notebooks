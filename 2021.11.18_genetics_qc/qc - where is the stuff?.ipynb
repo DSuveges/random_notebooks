{
 "cells": [
  {
   "cell_type": "markdown",
   "id": "7ccd89a1",
   "metadata": {},
   "source": [
    "# QC of Genetics Portal Evidence\n",
    "\n",
    "## Findings\n",
    "\n",
    "1. There are 75 studies in the 21.11 dataset which used to have efo identifiers, but they don't have anymore. Two of these are GCST identifiers, probably the implicated studies the genetics team already knows about. Rest of the list are FINNGEN and UKBB studies, with weird trait categories. This discrepancy leads to dropping 8k evidence. \n",
    "    * Verify the reasoning behind the mappings.\n",
    "    * Was it only the ambiguity of the mapping? Or the nature of the studied trait? \n",
    "2. In the unfiltered evidence set (l2g threshold == 0), there are 627,835 evidence from 18,031 studies. When applying the l2g >= 0.05 cutoff, the number of studies dropped to 17,359. So because of the l2g threshold, we are losing only 672 studies.\n",
    "3. When compared to the Genetics Portal evidence set from the 21.09 release, I have found due to missing studies, only 147 evidence from 26 studies were lost. These 26 studies are missing from the unfiltered dataset. When the l2g threshold is applied the number of missing studies were 178 with 1788 evidence.\n",
    "4. However, when looking at the disease/study/target/variant set, the overlap is poorer. 65k of the old evidence set could not be found in the new dataset completely, when applied a 0.05 <= l2g threshold on the new dataset, the number of missing evidence was 139,518\n",
    "5. We can say the reason is probably the changing landscape of gene assignment, so we are expecting a better agreement on the study-efo-variant space. However 18,478 (~7.8%) were not found in the new dataset, which is 21,855 (9%) after applying the l2g filter on the new dataset."
   ]
  },
  {
   "cell_type": "markdown",
   "id": "4990d805",
   "metadata": {},
   "source": [
    "Running parser on the new data:\n",
    "\n",
    "### Creating cluster\n",
    "\n",
    "```bash\n",
    "gcloud dataproc clusters create \\\n",
    "  genetics-evidence-generation \\\n",
    "  --image-version=1.4 \\\n",
    "  --properties=spark:spark.debug.maxToStringFields=100,spark:spark.executor.cores=31,spark:spark.executor.instances=1 \\\n",
    "  --master-machine-type=n1-standard-32 \\\n",
    "  --master-boot-disk-size=1TB \\\n",
    "  --zone=europe-west1-d \\\n",
    "  --single-node \\\n",
    "  --max-idle=15m \\\n",
    "  --region=europe-west1 \\\n",
    "  --project=open-targets-genetics-dev\n",
    "```\n",
    "\n",
    "### Running for release `21.11`\n",
    "\n",
    "\n",
    "```bash\n",
    "# Set Genetics Portal envidence source files:\n",
    "export TAG='21.11_nofilter'\n",
    "\n",
    "L2G_FILE=\"gs://genetics-portal-dev-data/21.10/outputs/l2g\"\n",
    "STUDY_FILE=\"gs://genetics-portal-dev-data/21.10/outputs/lut/study-index\"\n",
    "TOPLOCI_FILE=\"gs://genetics-portal-dev-data/21.10/inputs/v2d/toploci.parquet\"\n",
    "VARIANTINDEX=\"gs://genetics-portal-dev-data/21.10/inputs/variant-annotation/190129/variant-annotation.parquet\"\n",
    "ECO_CODES=\"gs://genetics-portal-dev-data/21.10/inputs/lut/vep_consequences.tsv\"\n",
    "\n",
    "\n",
    "OUT_FILE=\"gs://genetics-portal-analysis/l2g-platform-export/data/genetics_portal-${TAG}.parquet\"\n",
    "SCRIPT_DIR='/Users/dsuveges/repositories/evidence_datasource_parsers/'\n",
    "```\n",
    "\n",
    "```bash\n",
    "gcloud dataproc jobs submit pyspark \\\n",
    "  --cluster=genetics-evidence-generation \\\n",
    "  --project=open-targets-genetics-dev \\\n",
    "  --region=europe-west1 \\\n",
    "  ${SCRIPT_DIR}/modules/GeneticsPortal.py -- \\\n",
    "  --locus2gene ${L2G_FILE} \\\n",
    "  --toploci ${TOPLOCI_FILE} \\\n",
    "  --study ${STUDY_FILE} \\\n",
    "  --variantIndex ${VARIANTINDEX}  \\\n",
    "  --ecoCodes ${ECO_CODES} \\\n",
    "  --threshold 0 \\\n",
    "  --outputFile ${OUT_FILE}\n",
    "```\n",
    "\n",
    "Move file:\n",
    "\n",
    "```bash\n",
    "gsutil cp -r ${OUT_FILE} .\n",
    "\n",
    "```\n",
    "\n",
    "Copy old evidence files used for the 21.09 release:\n",
    "\n",
    "```bash\n",
    "gsutil cp -r gs://open-targets-pre-data-releases/21.09.5/input/evidence-files/genetics-portal-evidences-2021-06-21  .\n",
    "```"
   ]
  },
  {
   "cell_type": "code",
   "execution_count": 123,
   "id": "a56635b5",
   "metadata": {
    "ExecuteTime": {
     "end_time": "2021-11-21T22:53:14.660795Z",
     "start_time": "2021-11-21T22:53:14.644581Z"
    }
   },
   "outputs": [],
   "source": [
    "new_data = '/Users/dsuveges/repositories/evidence_datasource_parsers/genetics_portal-21.11_nofilter.parquet'\n",
    "old_data = '/Users/dsuveges/repositories/evidence_datasource_parsers/genetics_portal-2021-06-21/'\n",
    "\n",
    "from pyspark.sql.functions import (\n",
    "    col, udf, struct, lit, split, regexp_replace, create_map, min as spark_min, max as spark_max,\n",
    "    count\n",
    ")\n",
    "from pyspark.sql.types import FloatType, ArrayType, StructType, StructField\n",
    "from pyspark.sql import SparkSession\n",
    "from pyspark.conf import SparkConf\n",
    "from itertools import chain\n",
    "\n",
    "\n",
    "# for heatmap:\n",
    "import numpy as np\n",
    "import seaborn as sns\n",
    "import matplotlib.pylab as plt\n",
    "\n",
    "# establish spark connection\n",
    "sparkConf = (\n",
    "    SparkConf()\n",
    "    .set('spark.driver.memory', '15g')\n",
    "    .set('spark.executor.memory', '15g')\n",
    "    .set('spark.driver.maxResultSize', '0')\n",
    ")\n",
    "spark = (\n",
    "    SparkSession.builder\n",
    "    .config(conf=sparkConf)\n",
    "    .master('local[*]')\n",
    "    .getOrCreate()\n",
    ")\n"
   ]
  },
  {
   "cell_type": "code",
   "execution_count": 9,
   "id": "e920324d",
   "metadata": {
    "ExecuteTime": {
     "end_time": "2021-11-19T14:14:07.136244Z",
     "start_time": "2021-11-19T14:14:06.935178Z"
    }
   },
   "outputs": [],
   "source": [
    "new_df = (\n",
    "    spark.read.parquet(new_data)\n",
    "    .select('diseaseFromSourceMappedId', 'targetFromSourceId', 'variantId', 'studyId', 'resourceScore')\n",
    "    .withColumn('release', lit('21.11'))\n",
    "    .persist()\n",
    ")"
   ]
  },
  {
   "cell_type": "code",
   "execution_count": 54,
   "id": "c1039c24",
   "metadata": {
    "ExecuteTime": {
     "end_time": "2021-11-21T21:46:44.578566Z",
     "start_time": "2021-11-21T21:46:42.965378Z"
    }
   },
   "outputs": [
    {
     "name": "stdout",
     "output_type": "stream",
     "text": [
      "Evidence count\n",
      "Unfiltered: 3379045\n",
      "Filtered: 627835\n",
      "\n",
      "Study count\n",
      "Unfiltered: 18031\n",
      "Filtered: 17359\n"
     ]
    }
   ],
   "source": [
    "print('Evidence count')\n",
    "print(f'Unfiltered: {new_df.count()}')\n",
    "print(f'Filtered: {new_df.filter(col(\"resourceScore\") >= 0.05).count()}')\n",
    "\n",
    "print('\\nStudy count')\n",
    "print(f'Unfiltered: {new_df.select(col(\"studyId\")).distinct().count()}')\n",
    "print(f'Filtered: {new_df.filter(col(\"resourceScore\") >= 0.05).select(col(\"studyId\")).distinct().count()}')"
   ]
  },
  {
   "cell_type": "code",
   "execution_count": 13,
   "id": "3d766700",
   "metadata": {
    "ExecuteTime": {
     "end_time": "2021-11-19T14:30:57.761488Z",
     "start_time": "2021-11-19T14:30:55.701620Z"
    }
   },
   "outputs": [],
   "source": [
    "old_df = (\n",
    "    spark.read.json(old_data)\n",
    "    .select('diseaseFromSourceMappedId', 'targetFromSourceId', 'variantId', 'studyId', 'resourceScore')\n",
    "    .withColumn('release', lit('21.09'))\n",
    "    .withColumnRenamed('resourceScore', 'resourceScore_old')\n",
    "    .persist()\n",
    ")"
   ]
  },
  {
   "cell_type": "code",
   "execution_count": 14,
   "id": "25ff91ef",
   "metadata": {
    "ExecuteTime": {
     "end_time": "2021-11-19T14:30:58.664094Z",
     "start_time": "2021-11-19T14:30:57.763159Z"
    }
   },
   "outputs": [
    {
     "data": {
      "text/plain": [
       "635033"
      ]
     },
     "execution_count": 14,
     "metadata": {},
     "output_type": "execute_result"
    }
   ],
   "source": [
    "old_df.count()"
   ]
  },
  {
   "cell_type": "markdown",
   "id": "a609338d",
   "metadata": {},
   "source": [
    "Is there any study in the new set, without EFO, that used to have EFO?"
   ]
  },
  {
   "cell_type": "code",
   "execution_count": 27,
   "id": "665fb6ad",
   "metadata": {
    "ExecuteTime": {
     "end_time": "2021-11-19T15:02:43.095454Z",
     "start_time": "2021-11-19T15:02:38.722413Z"
    }
   },
   "outputs": [
    {
     "name": "stdout",
     "output_type": "stream",
     "text": [
      "+----------------------------------------------------------+-------------------------+---------------+\n",
      "|studyId                                                   |diseaseFromSourceMappedId|old_disease    |\n",
      "+----------------------------------------------------------+-------------------------+---------------+\n",
      "|SAIGE_202                                                 |null                     |EFO_0001642    |\n",
      "|SAIGE_695_4                                               |null                     |MONDO_0004670  |\n",
      "|SAIGE_240                                                 |null                     |EFO_0004283    |\n",
      "|NEALE2_23101_raw                                          |null                     |EFO_0004995    |\n",
      "|FINNGEN_R5_Z21_DESEN_ALLERGE                              |null                     |NCIT_C15262    |\n",
      "|NEALE2_30290_raw                                          |null                     |EFO_0007986    |\n",
      "|NEALE2_30520_raw                                          |null                     |HP_0012598     |\n",
      "|SAIGE_361                                                 |null                     |EFO_0005773    |\n",
      "|SAIGE_740_9                                               |null                     |EFO_0002506    |\n",
      "|NEALE2_1488_raw                                           |null                     |EFO_0008111    |\n",
      "|NEALE2_1980                                               |null                     |EFO_0005230    |\n",
      "|FINNGEN_R5_Z21_PRESENCE_CARDIAC_VASCULAR_IMPLANTNTS_GRAFTS|null                     |NCIT_C41075    |\n",
      "|SAIGE_401_1                                               |null                     |EFO_0000537    |\n",
      "|SAIGE_575_6                                               |null                     |EFO_0003832    |\n",
      "|SAIGE_939                                                 |null                     |EFO_0005319    |\n",
      "|SAIGE_191_1                                               |null                     |EFO_0000326    |\n",
      "|NEALE2_2030                                               |null                     |EFO_0009595    |\n",
      "|SAIGE_737                                                 |null                     |EFO_0004273    |\n",
      "|FINNGEN_R5_I9_REVACS_EXNONE                               |null                     |NCIT_C119202   |\n",
      "|SAIGE_038_1                                               |null                     |MONDO_0021678  |\n",
      "|NEALE2_22506_113                                          |null                     |EFO_0004318    |\n",
      "|SAIGE_244_4                                               |null                     |EFO_0004705    |\n",
      "|NEALE2_20127_raw                                          |null                     |EFO_0007660    |\n",
      "|NEALE2_1458                                               |null                     |EFO_0008111    |\n",
      "|SAIGE_574_2                                               |null                     |MONDO_0002887  |\n",
      "|NEALE2_100580                                             |null                     |EFO_0007878    |\n",
      "|FINNGEN_R5_R18_SYMPTOMS_SIGNS_INVOLVI_EMOTIONAL_STATE     |null                     |NCIT_C114900   |\n",
      "|SAIGE_362_29                                              |null                     |EFO_0001365    |\n",
      "|FINNGEN_R5_K11_TOOTH_DEV                                  |null                     |NCIT_C143876   |\n",
      "|FINNGEN_R5_R18_ABNORMAL_FINDI_EXAMI_BLOOD_WO_DIAGNOSIS    |null                     |NCIT_C35553    |\n",
      "|SAIGE_362                                                 |null                     |EFO_0003839    |\n",
      "|NEALE2_1438_raw                                           |null                     |EFO_0008111    |\n",
      "|SAIGE_698                                                 |null                     |HP_0000989     |\n",
      "|NEALE2_100520                                             |null                     |EFO_0008111    |\n",
      "|GCST011401                                                |null                     |EFO_0000305    |\n",
      "|NEALE2_30300_raw                                          |null                     |EFO_0007986    |\n",
      "|SAIGE_573_5                                               |null                     |HP_0000952     |\n",
      "|SAIGE_229                                                 |null                     |EFO_0002422    |\n",
      "|NEALE2_22506_114                                          |null                     |EFO_0004318    |\n",
      "|SAIGE_451_2                                               |null                     |EFO_1001395    |\n",
      "|SAIGE_451_2                                               |null                     |HP_0004418     |\n",
      "|FINNGEN_R5_Z21_PRESENCE_OTH_FUNCTIONAL_IMPLANTNTS         |null                     |NCIT_C41075    |\n",
      "|SAIGE_315                                                 |null                     |HP_0001263     |\n",
      "|SAIGE_599_2                                               |null                     |HP_0000016     |\n",
      "|SAIGE_041_2                                               |null                     |EFO_1001476    |\n",
      "|NEALE2_1249                                               |null                     |EFO_0004319    |\n",
      "|NEALE2_1239                                               |null                     |EFO_0004318    |\n",
      "|FINNGEN_R5_ST19_MALTR_SYNDR                               |null                     |NCIT_C176713   |\n",
      "|NEALE2_6151_5                                             |null                     |EFO_0009515    |\n",
      "|SAIGE_260_6                                               |null                     |EFO_0004215    |\n",
      "|NEALE2_1408                                               |null                     |EFO_0008111    |\n",
      "|NEALE2_22506_111                                          |null                     |EFO_0004318    |\n",
      "|FINNGEN_R5_I9_REVASC                                      |null                     |NCIT_C119202   |\n",
      "|NEALE2_30230                                              |null                     |EFO_0005047    |\n",
      "|NEALE2_6151_1                                             |null                     |EFO_0009615    |\n",
      "|NEALE2_6151_1                                             |null                     |EFO_0009512    |\n",
      "|SAIGE_454_1                                               |null                     |HP_0002619     |\n",
      "|SAIGE_272                                                 |null                     |Orphanet_309005|\n",
      "|FINNGEN_R5_I9_REVASC_EXNONE                               |null                     |NCIT_C119202   |\n",
      "|GCST011402                                                |null                     |EFO_0000305    |\n",
      "|NEALE2_2010                                               |null                     |NCIT_C74532    |\n",
      "|SAIGE_531                                                 |null                     |HP_0004398     |\n",
      "|GCST011401_2                                              |null                     |EFO_0000305    |\n",
      "|SAIGE_696                                                 |null                     |EFO_0000676    |\n",
      "|SAIGE_575_8                                               |null                     |EFO_0009534    |\n",
      "|NEALE2_100013_raw                                         |null                     |EFO_0004620    |\n",
      "|SAIGE_189_21                                              |null                     |EFO_0000292    |\n",
      "|SAIGE_250_23                                              |null                     |EFO_0001360    |\n",
      "|SAIGE_286_12                                              |null                     |Orphanet_98434 |\n",
      "|GCST006949                                                |null                     |NCIT_C74532    |\n",
      "|FINNGEN_R5_R18_SENILITY                                   |null                     |NCIT_C34524    |\n",
      "|NEALE2_6151_4                                             |null                     |EFO_0003902    |\n",
      "|GCST011402_2                                              |null                     |EFO_0000305    |\n",
      "|NEALE2_20116_0                                            |null                     |EFO_0004318    |\n",
      "+----------------------------------------------------------+-------------------------+---------------+\n",
      "\n"
     ]
    }
   ],
   "source": [
    "(\n",
    "    new_df\n",
    "    .filter(col('diseaseFromSourceMappedId').isNull())\n",
    "    .select('diseaseFromSourceMappedId', 'studyId')\n",
    "    .distinct()\n",
    "    .join(\n",
    "        (\n",
    "            old_df\n",
    "            .filter(col('diseaseFromSourceMappedId').isNotNull())\n",
    "            .select(col('diseaseFromSourceMappedId').alias('old_disease'), 'studyId')\n",
    "            .distinct()\n",
    "        ), on='studyId', how='inner')\n",
    "#     .count()\n",
    "    .show(100, truncate=False)\n",
    ")"
   ]
  },
  {
   "cell_type": "code",
   "execution_count": 20,
   "id": "d9159204",
   "metadata": {
    "ExecuteTime": {
     "end_time": "2021-11-19T14:58:09.849520Z",
     "start_time": "2021-11-19T14:58:09.475158Z"
    }
   },
   "outputs": [
    {
     "name": "stdout",
     "output_type": "stream",
     "text": [
      "+------------------+\n",
      "|targetFromSourceId|\n",
      "+------------------+\n",
      "|   ENSG00000137338|\n",
      "|   ENSG00000112337|\n",
      "|   ENSG00000197279|\n",
      "|   ENSG00000010704|\n",
      "|   ENSG00000180573|\n",
      "|   ENSG00000112343|\n",
      "|   ENSG00000096654|\n",
      "|   ENSG00000180596|\n",
      "|   ENSG00000185130|\n",
      "|   ENSG00000124610|\n",
      "|   ENSG00000137185|\n",
      "|   ENSG00000168131|\n",
      "|   ENSG00000124568|\n",
      "|   ENSG00000198315|\n",
      "+------------------+\n",
      "\n"
     ]
    }
   ],
   "source": [
    "(\n",
    "    old_df\n",
    "    .filter(col('studyId') =='SAIGE_695_4')\n",
    "    .select('targetFromSourceId')\n",
    "    .distinct()\n",
    "    .show()\n",
    ")"
   ]
  },
  {
   "cell_type": "code",
   "execution_count": 22,
   "id": "6950dd2a",
   "metadata": {
    "ExecuteTime": {
     "end_time": "2021-11-19T15:00:20.750089Z",
     "start_time": "2021-11-19T15:00:20.097376Z"
    }
   },
   "outputs": [
    {
     "name": "stdout",
     "output_type": "stream",
     "text": [
      "+------------------+-------------------------+--------------------+--------------+\n",
      "|targetFromSourceId|diseaseFromSourceMappedId|       resourceScore|     variantId|\n",
      "+------------------+-------------------------+--------------------+--------------+\n",
      "|   ENSG00000124568|                     null|  0.0514032244682312|6_25769380_G_C|\n",
      "|   ENSG00000137338|                     null|0.057079605758190155|6_27846899_A_G|\n",
      "|   ENSG00000168131|                     null|  0.0694759339094162|6_27846899_A_G|\n",
      "|   ENSG00000185130|                     null|  0.1946474313735962|6_27846899_A_G|\n",
      "|   ENSG00000233822|                     null| 0.08230216801166534|6_27846899_A_G|\n",
      "|   ENSG00000146039|                     null|  0.0857049822807312|6_25769380_G_C|\n",
      "|   ENSG00000180573|                     null|  0.1071556955575943|6_25769380_G_C|\n",
      "|   ENSG00000112337|                     null| 0.22847461700439453|6_25769380_G_C|\n",
      "|   ENSG00000124610|                     null| 0.08196471631526947|6_25769380_G_C|\n",
      "|   ENSG00000112343|                     null| 0.16439850628376007|6_25769380_G_C|\n",
      "|   ENSG00000010704|                     null|  0.0561237595975399|6_25769380_G_C|\n",
      "+------------------+-------------------------+--------------------+--------------+\n",
      "\n"
     ]
    }
   ],
   "source": [
    "(\n",
    "    new_df\n",
    "    .filter(col('studyId') =='SAIGE_695_4')\n",
    "    .filter(col('resourceScore') >= 0.05)\n",
    "    .select('targetFromSourceId', 'diseaseFromSourceMappedId', 'resourceScore', 'variantId')\n",
    "    .distinct()\n",
    "    .show()\n",
    ")"
   ]
  },
  {
   "cell_type": "code",
   "execution_count": 24,
   "id": "ba128ac8",
   "metadata": {
    "ExecuteTime": {
     "end_time": "2021-11-19T15:00:37.058385Z",
     "start_time": "2021-11-19T15:00:36.694194Z"
    }
   },
   "outputs": [
    {
     "name": "stdout",
     "output_type": "stream",
     "text": [
      "+------------------+-------------------------+--------------------+--------------+\n",
      "|targetFromSourceId|diseaseFromSourceMappedId|   resourceScore_old|     variantId|\n",
      "+------------------+-------------------------+--------------------+--------------+\n",
      "|   ENSG00000096654|            MONDO_0004670| 0.05934744328260422|6_27846899_A_G|\n",
      "|   ENSG00000124610|            MONDO_0004670| 0.09076076745986938|6_25769380_G_C|\n",
      "|   ENSG00000112337|            MONDO_0004670|  0.2199445515871048|6_25769380_G_C|\n",
      "|   ENSG00000010704|            MONDO_0004670| 0.07372410595417023|6_25769380_G_C|\n",
      "|   ENSG00000180596|            MONDO_0004670|0.054590966552495956|6_25769380_G_C|\n",
      "|   ENSG00000197279|            MONDO_0004670| 0.05814579874277115|6_27846899_A_G|\n",
      "|   ENSG00000124568|            MONDO_0004670|0.059311188757419586|6_25769380_G_C|\n",
      "|   ENSG00000137338|            MONDO_0004670| 0.07066993415355682|6_27846899_A_G|\n",
      "|   ENSG00000180573|            MONDO_0004670| 0.09729931503534317|6_25769380_G_C|\n",
      "|   ENSG00000185130|            MONDO_0004670| 0.12141959369182587|6_27846899_A_G|\n",
      "|   ENSG00000168131|            MONDO_0004670| 0.07444729655981064|6_27846899_A_G|\n",
      "|   ENSG00000112343|            MONDO_0004670| 0.10739456862211227|6_25769380_G_C|\n",
      "|   ENSG00000198315|            MONDO_0004670| 0.05369184538722038|6_27846899_A_G|\n",
      "|   ENSG00000137185|            MONDO_0004670| 0.05745462700724602|6_27846899_A_G|\n",
      "+------------------+-------------------------+--------------------+--------------+\n",
      "\n"
     ]
    }
   ],
   "source": [
    "(\n",
    "    old_df\n",
    "    .filter(col('studyId') =='SAIGE_695_4')\n",
    "    .filter(col('resourceScore') >= 0.05)\n",
    "    .select('targetFromSourceId', 'diseaseFromSourceMappedId', 'resourceScore_old', 'variantId')\n",
    "    .distinct()\n",
    "    .show()\n",
    ")k "
   ]
  },
  {
   "cell_type": "markdown",
   "id": "52e29aea",
   "metadata": {},
   "source": [
    "### Are there lost studies?\n",
    "\n",
    "* Let's take all the new studies, how many of them have no associations above the l2g cutoff?"
   ]
  },
  {
   "cell_type": "code",
   "execution_count": 37,
   "id": "636cc2aa",
   "metadata": {
    "ExecuteTime": {
     "end_time": "2021-11-21T20:42:45.387636Z",
     "start_time": "2021-11-21T20:42:44.897655Z"
    }
   },
   "outputs": [
    {
     "name": "stdout",
     "output_type": "stream",
     "text": [
      "+-----------------+--------------------+\n",
      "|          studyId|       min_l2g_score|\n",
      "+-----------------+--------------------+\n",
      "|       GCST006993|0.036080799996852875|\n",
      "|       GCST003381| 0.04202813655138016|\n",
      "|       GCST003723| 0.03896152600646019|\n",
      "|       GCST003830|0.027043016627430916|\n",
      "|     GCST90002330| 0.02011059783399105|\n",
      "|     GCST90026213|0.023423319682478905|\n",
      "|NEALE2_20003_1189|0.033882319927215576|\n",
      "|   GCST011427_509| 0.04131009057164192|\n",
      "|   GCST005650_236|0.020931528881192207|\n",
      "|       GCST007055|0.038793694227933884|\n",
      "|     GCST005498_2|0.045617688447237015|\n",
      "|       GCST004553| 0.04202813655138016|\n",
      "|   GCST011427_405|0.020421117544174194|\n",
      "|     GCST002466_3|0.027632499113678932|\n",
      "|       GCST007952|0.026811346411705017|\n",
      "|     GCST006584_3|0.020399658009409904|\n",
      "|     GCST90014054| 0.04202813655138016|\n",
      "|       GCST005486|0.045617688447237015|\n",
      "|    GCST012353_27|0.018399110063910484|\n",
      "|       GCST011570|0.020900540053844452|\n",
      "+-----------------+--------------------+\n",
      "only showing top 20 rows\n",
      "\n"
     ]
    }
   ],
   "source": [
    "(\n",
    "    new_df\n",
    "    .groupBy('studyId')\n",
    "    .agg(\n",
    "        spark_max(col('resourceScore')).alias('min_l2g_score')\n",
    "    )\n",
    "    .filter(col('min_l2g_score') <= 0.05)\n",
    "    .show()\n",
    "#     .count() # 672\n",
    ")\n"
   ]
  },
  {
   "cell_type": "markdown",
   "id": "5bc89882",
   "metadata": {},
   "source": [
    "How about the old dataset:"
   ]
  },
  {
   "cell_type": "code",
   "execution_count": 61,
   "id": "82609872",
   "metadata": {
    "ExecuteTime": {
     "end_time": "2021-11-21T21:55:36.467651Z",
     "start_time": "2021-11-21T21:55:35.867964Z"
    }
   },
   "outputs": [
    {
     "name": "stdout",
     "output_type": "stream",
     "text": [
      "Number of studies in the old dataset: 16429\n"
     ]
    }
   ],
   "source": [
    "print(f'Number of studies in the old dataset: {old_df.select(\"studyId\").distinct().count()}')"
   ]
  },
  {
   "cell_type": "code",
   "execution_count": 62,
   "id": "c7620ebf",
   "metadata": {
    "ExecuteTime": {
     "end_time": "2021-11-21T21:56:54.222061Z",
     "start_time": "2021-11-21T21:56:50.865396Z"
    }
   },
   "outputs": [
    {
     "name": "stdout",
     "output_type": "stream",
     "text": [
      "Studies found in the old dataset, but not in the new:\n",
      "26\n",
      "Studies found in the old dataset, but not in the new AFTER applying l2g threshold:\n",
      "178\n"
     ]
    }
   ],
   "source": [
    "print('Studies found in the old dataset, but not in the new:')\n",
    "print(\n",
    "    old_study_list\n",
    "    .join(new_df, on='studyId', how='leftanti')\n",
    "    .select('studyId')\n",
    "    .distinct()\n",
    "    .count()\n",
    ")\n",
    "\n",
    "print('Studies found in the old dataset, but not in the new AFTER applying l2g threshold:')\n",
    "print(\n",
    "    old_study_list\n",
    "    .join(new_df.filter(col('resourceScore') >= 0.05), on='studyId', how='leftanti')\n",
    "    .select('studyId')\n",
    "    .distinct()\n",
    "    .count()\n",
    ")"
   ]
  },
  {
   "cell_type": "code",
   "execution_count": 52,
   "id": "ea291627",
   "metadata": {
    "ExecuteTime": {
     "end_time": "2021-11-21T21:36:07.422836Z",
     "start_time": "2021-11-21T21:36:04.431557Z"
    }
   },
   "outputs": [
    {
     "name": "stdout",
     "output_type": "stream",
     "text": [
      "Number of missing associations: 147\n",
      "Number of missing studies: 26\n",
      "Number of missing associations: 1788\n",
      "Number of missing studies: 178\n"
     ]
    }
   ],
   "source": [
    "old_missing_studies = (\n",
    "    old_df\n",
    "    .join(new_df.select('studyId').distinct(), on='studyId', how='left_anti')\n",
    "    .persist()\n",
    ")\n",
    "\n",
    "print(f'Number of missing associations: {old_missing_studies.count()}')\n",
    "print(f'Number of missing studies: {old_missing_studies.select(\"studyId\").distinct().count()}')\n",
    "\n",
    "old_missing_studies = (\n",
    "    old_df\n",
    "    .join(new_df.filter(col('resourceScore') >= 0.05).select('studyId').distinct(), on='studyId', how='left_anti')\n",
    "    .persist()\n",
    ")\n",
    "\n",
    "print(f'Number of missing associations: {old_missing_studies.count()}')\n",
    "print(f'Number of missing studies: {old_missing_studies.select(\"studyId\").distinct().count()}')\n"
   ]
  },
  {
   "cell_type": "markdown",
   "id": "c4a10023",
   "metadata": {},
   "source": [
    "### How about the overlap of evidence?\n",
    "\n",
    "1. Let's see how well the `study`-`variant`-`gene`-`mapped disease` cuadruplet overlap."
   ]
  },
  {
   "cell_type": "code",
   "execution_count": 75,
   "id": "c8d1f3a5",
   "metadata": {
    "ExecuteTime": {
     "end_time": "2021-11-21T22:09:27.611665Z",
     "start_time": "2021-11-21T22:09:24.886239Z"
    }
   },
   "outputs": [
    {
     "name": "stdout",
     "output_type": "stream",
     "text": [
      "+-------+---------+------------------+-------------------------+-----+\n",
      "|studyId|variantId|targetFromSourceId|diseaseFromSourceMappedId|count|\n",
      "+-------+---------+------------------+-------------------------+-----+\n",
      "+-------+---------+------------------+-------------------------+-----+\n",
      "\n"
     ]
    }
   ],
   "source": [
    "(\n",
    "    old_df\n",
    "    .groupBy('studyId', 'variantId', 'targetFromSourceId', 'diseaseFromSourceMappedId')\n",
    "    .agg(\n",
    "        count(col('diseaseFromSourceMappedId')).alias('count')\n",
    "    )\n",
    "    .filter(col('count') > 1)\n",
    "    .show()\n",
    "#     .count() # 635033, 587588\n",
    ")"
   ]
  },
  {
   "cell_type": "code",
   "execution_count": 77,
   "id": "b4280523",
   "metadata": {
    "ExecuteTime": {
     "end_time": "2021-11-21T22:15:18.472453Z",
     "start_time": "2021-11-21T22:15:14.290108Z"
    }
   },
   "outputs": [
    {
     "name": "stdout",
     "output_type": "stream",
     "text": [
      "Missing evidence that could be found in the old, but not in the new dataset (unfiltered):\n",
      "67677\n",
      "Missing evidence that could be found in the old, but not in the new dataset, with 0.05 l2g filter:\n",
      "139518\n"
     ]
    }
   ],
   "source": [
    "print('Missing evidence that could be found in the old, but not in the new dataset (unfiltered):')\n",
    "print(\n",
    "    old_df\n",
    "    .join(\n",
    "        new_df,\n",
    "        on=['studyId', 'variantId', 'targetFromSourceId', 'diseaseFromSourceMappedId'],\n",
    "        how='left_anti'\n",
    "    )\n",
    "    .count()\n",
    ")\n",
    "\n",
    "\n",
    "print('Missing evidence that could be found in the old, but not in the new dataset, with 0.05 l2g filter:')\n",
    "print(\n",
    "    old_df\n",
    "    .join(\n",
    "        new_df.filter(col('resourceScore') >= 0.05),\n",
    "        on=['studyId', 'variantId', 'targetFromSourceId', 'diseaseFromSourceMappedId'],\n",
    "        how='left_anti'\n",
    "    )\n",
    "    .count()\n",
    "\n",
    ")"
   ]
  },
  {
   "cell_type": "code",
   "execution_count": 79,
   "id": "f5ea4ec2",
   "metadata": {
    "ExecuteTime": {
     "end_time": "2021-11-21T22:21:52.959541Z",
     "start_time": "2021-11-21T22:21:47.811851Z"
    }
   },
   "outputs": [
    {
     "name": "stdout",
     "output_type": "stream",
     "text": [
      "Number of unique study/efo/variant in the old filtered dataset:\n",
      "237823\n",
      "Missing study/efo/variant that could be found in the old, but not in the new dataset (unfiltered):\n",
      "18478\n",
      "Missing study/efo/variant that could be found in the old, but not in the new dataset, with 0.05 l2g filter:\n",
      "21855\n"
     ]
    }
   ],
   "source": [
    "print('Number of unique study/efo/variant in the old filtered dataset:')\n",
    "print(\n",
    "    old_df\n",
    "    .select('studyId', 'variantId', 'diseaseFromSourceMappedId')\n",
    "    .distinct()\n",
    "    .count()\n",
    ")\n",
    "\n",
    "print('Missing study/efo/variant that could be found in the old, but not in the new dataset (unfiltered):')\n",
    "print(\n",
    "    old_df\n",
    "    .join(\n",
    "        new_df,\n",
    "        on=['studyId', 'variantId', 'diseaseFromSourceMappedId'],\n",
    "        how='left_anti'\n",
    "    )\n",
    "    .select('studyId', 'variantId', 'diseaseFromSourceMappedId')\n",
    "    .distinct()\n",
    "    .count()\n",
    ")\n",
    "\n",
    "\n",
    "print('Missing study/efo/variant that could be found in the old, but not in the new dataset, with 0.05 l2g filter:')\n",
    "print(\n",
    "    old_df\n",
    "    .join(\n",
    "        new_df.filter(col('resourceScore') >= 0.05),\n",
    "        on=['studyId', 'variantId', 'diseaseFromSourceMappedId'],\n",
    "        how='left_anti'\n",
    "    )\n",
    "    .select('studyId', 'variantId', 'diseaseFromSourceMappedId')\n",
    "    .distinct()\n",
    "    .count()\n",
    ")"
   ]
  },
  {
   "cell_type": "code",
   "execution_count": 176,
   "id": "f817e26e",
   "metadata": {
    "ExecuteTime": {
     "end_time": "2021-11-23T11:22:25.510351Z",
     "start_time": "2021-11-23T11:22:25.504543Z"
    }
   },
   "outputs": [
    {
     "name": "stdout",
     "output_type": "stream",
     "text": [
      "[100, 144, 196, 256, 324, 400, 484, 576, 676, 784, 900]\n"
     ]
    },
    {
     "data": {
      "text/plain": [
       "1024"
      ]
     },
     "execution_count": 176,
     "metadata": {},
     "output_type": "execute_result"
    }
   ],
   "source": [
    "szamok=[]\n",
    "\n",
    "i=1\n",
    "\n",
    "limit = 1000\n",
    "\n",
    "\n",
    "for i in range(limit):\n",
    "\n",
    "    num = i*i\n",
    "\n",
    "    if (num < 1000 and num > 99):\n",
    "\n",
    "        if (num % 2 == 0):\n",
    "\n",
    "            szamok.append(num)\n",
    "\n",
    "\n",
    "print(szamok)\n",
    "    "
   ]
  },
  {
   "cell_type": "code",
   "execution_count": 81,
   "id": "9807f5a3",
   "metadata": {
    "ExecuteTime": {
     "end_time": "2021-11-21T22:25:13.692472Z",
     "start_time": "2021-11-21T22:25:12.093358Z"
    }
   },
   "outputs": [
    {
     "name": "stdout",
     "output_type": "stream",
     "text": [
      "+--------------------+---------------+-------------------------+------------------+--------------------+-------+\n",
      "|             studyId|      variantId|diseaseFromSourceMappedId|targetFromSourceId|   resourceScore_old|release|\n",
      "+--------------------+---------------+-------------------------+------------------+--------------------+-------+\n",
      "|FINNGEN_R5_I9_REV...|14_99613860_G_A|             NCIT_C119202|   ENSG00000205476|  0.6799333095550537|  21.09|\n",
      "|FINNGEN_R5_I9_REV...|14_99613860_G_A|             NCIT_C119202|   ENSG00000182218| 0.07965509593486786|  21.09|\n",
      "|          GCST001894| 1_22113027_T_C|              EFO_0001065|   ENSG00000070831|  0.2539219260215759|  21.09|\n",
      "|          GCST001894| 1_22113027_T_C|              EFO_0001065|   ENSG00000142789| 0.05682019889354706|  21.09|\n",
      "|          GCST001894| 1_22113027_T_C|              EFO_0001065|   ENSG00000162552|  0.1197814866900444|  21.09|\n",
      "|          GCST003800| 4_89500202_T_C|              EFO_0004247|   ENSG00000145335| 0.24158529937267303|  21.09|\n",
      "|          GCST003800| 4_89500202_T_C|              EFO_0004247|   ENSG00000138722|0.060141682624816895|  21.09|\n",
      "|          GCST003800| 4_89500202_T_C|              EFO_0004247|   ENSG00000185477|  0.6117886900901794|  21.09|\n",
      "|        GCST004559_4|18_60192330_C_A|              EFO_0008002|   ENSG00000141682|  0.0522703155875206|  21.09|\n",
      "|        GCST004559_4|18_60192330_C_A|              EFO_0008002|   ENSG00000166603|  0.6529108881950378|  21.09|\n",
      "|        GCST004559_4|18_60192330_C_A|              EFO_0008002|   ENSG00000183287| 0.06945677101612091|  21.09|\n",
      "|        GCST004562_2|1_118321979_T_G|              EFO_0008002|   ENSG00000196505| 0.07320521771907806|  21.09|\n",
      "|        GCST004562_2|1_118321979_T_G|              EFO_0008002|   ENSG00000155761|  0.7318779826164246|  21.09|\n",
      "|        GCST004562_2|1_118321979_T_G|              EFO_0008002|   ENSG00000065183|0.057890113443136215|  21.09|\n",
      "|       GCST005650_18|14_67509105_A_C|              EFO_0003884|   ENSG00000198133|  0.8313818573951721|  21.09|\n",
      "|       GCST005650_18|14_67509105_A_C|              EFO_0003884|   ENSG00000054690|  0.3571528196334839|  21.09|\n",
      "|       GCST005650_18|14_67509105_A_C|              EFO_0003884|   ENSG00000100558|0.052609480917453766|  21.09|\n",
      "|       GCST005650_68|11_61785208_G_T|              EFO_0003884|   ENSG00000221968|  0.0651230737566948|  21.09|\n",
      "|       GCST005650_68|11_61785208_G_T|              EFO_0003884|   ENSG00000124920| 0.09752305597066879|  21.09|\n",
      "|       GCST005650_68|11_61785208_G_T|              EFO_0003884|   ENSG00000134825| 0.11641380935907364|  21.09|\n",
      "+--------------------+---------------+-------------------------+------------------+--------------------+-------+\n",
      "only showing top 20 rows\n",
      "\n"
     ]
    }
   ],
   "source": [
    "(\n",
    "    old_df\n",
    "    .join(\n",
    "        new_df,\n",
    "        on=['studyId', 'variantId', 'diseaseFromSourceMappedId'],\n",
    "        how='left_anti'\n",
    "    )\n",
    "    .distinct()\n",
    "    .show()\n",
    ")"
   ]
  },
  {
   "cell_type": "code",
   "execution_count": 167,
   "id": "17fcd754",
   "metadata": {
    "ExecuteTime": {
     "end_time": "2021-11-22T09:08:36.785958Z",
     "start_time": "2021-11-22T09:08:25.739303Z"
    }
   },
   "outputs": [],
   "source": [
    "dots = (\n",
    "    new_df\n",
    "    .join(\n",
    "        old_df,\n",
    "        on=['studyId', 'variantId', 'targetFromSourceId', 'diseaseFromSourceMappedId'],\n",
    "        how='inner'\n",
    "    )\n",
    "    .select('resourceScore', 'resourceScore_old')\n",
    "    .toPandas()\n",
    ")\n",
    "\n",
    "# Initializing a large matrix with zeroes:\n",
    "heatmap = np.zeros((21,21))\n",
    "\n",
    "# Function to get the bin for a given l2g score value:\n",
    "rounding = lambda value: int(value*20)\n",
    "\n",
    "# Collate data and fill in the matrix with the count:\n",
    "for i, value in (\n",
    "    dots\n",
    "    .apply(lambda row: (rounding(row['resourceScore']), rounding(row['resourceScore_old'])), axis=1)\n",
    "    .value_counts()\n",
    "    .iteritems()\n",
    "):\n",
    "    heatmap[i[0],i[1]] = value\n",
    "    \n",
    "    \n",
    "    "
   ]
  },
  {
   "cell_type": "code",
   "execution_count": 171,
   "id": "74f9e40a",
   "metadata": {
    "ExecuteTime": {
     "end_time": "2021-11-22T09:09:57.147941Z",
     "start_time": "2021-11-22T09:09:56.933682Z"
    }
   },
   "outputs": [
    {
     "data": {
      "image/png": "[encoded data removed]",
      "text/plain": [
       "<Figure size 432x288 with 2 Axes>"
      ]
     },
     "metadata": {
      "needs_background": "light"
     },
     "output_type": "display_data"
    }
   ],
   "source": [
    "# Let's see the correlation between the two l2g scores:\n",
    "ax = sns.heatmap(heatmap, cmap='BuPu')\n",
    "ax.invert_yaxis()\n",
    "plt.show()"
   ]
  },
  {
   "cell_type": "code",
   "execution_count": 177,
   "id": "b021db4d",
   "metadata": {
    "ExecuteTime": {
     "end_time": "2021-11-23T15:40:45.966409Z",
     "start_time": "2021-11-23T15:40:45.494623Z"
    }
   },
   "outputs": [],
   "source": [
    "jun_release = (\n",
    "    spark.read.parquet('/Users/dsuveges/repositories/evidence_datasource_parsers/sourceId=ot_genetics_portal')\n",
    "    .persist()\n",
    ")"
   ]
  },
  {
   "cell_type": "code",
   "execution_count": 202,
   "id": "713b3820",
   "metadata": {
    "ExecuteTime": {
     "end_time": "2021-11-24T08:56:49.259557Z",
     "start_time": "2021-11-24T08:56:49.075988Z"
    }
   },
   "outputs": [],
   "source": [
    "ids = [ \"8749cf8b8049b5c057a8c0db94df6bbee2939aca\",\n",
    "  \"3119b2d2014fbfd1fd01316d0f6142a3594c9016\",\n",
    "  \"f14f8d90aadef3d3e2dac3e59e60041c16469ada\",\n",
    "  \"ee02c534efbe62c375b20031731434b8e0ace6f5\",\n",
    "  \"a6205a714fc214028da83d49844fa78b5d314747\",\n",
    "  \"118b5399cf177fe3f561bfb2db923e74e9ed955a\",\n",
    "  \"8933565c58a559211c7608c74cf637c86bf2b4eb\",\n",
    "  \"faefe2b314e7ae8ff4826abf61c9de4769ff0a9b\",\n",
    "  \"73abe7759dadbf364ebb1a36d24f1295aabdb14d\",\n",
    "  \"8330242285263ad95f9d2ca6e17c6b2d003b6194\",\n",
    "  \"704adc21a55ba19c6a0d8af5b9d57b383467f57e\",\n",
    "  \"d05736f8a5e6c73a49544eef37232d266a8a5190\",\n",
    "  \"023e38c23630993c7d9ca5311fb9069c848143e4\",\n",
    "  \"5359d20098660e21c936eb570e960a30f3101014\",\n",
    "  \"0e4c03b87eee7392b5d20af7671dfcf1ec23dc29\",\n",
    "  \"f489cb20f9c14f7f5b0d20b2f4fe84b4894dae41\",\n",
    "  \"9e8cd860b6710ed02b50d71bde225715d0d46b1a\",\n",
    "  \"c0f01d3d181edea34a74767f7a2833b42417559a\",\n",
    "  \"64315e283e863757f35bcaa1e2e3ec51bc31b14d\",\n",
    "  \"27d8d81cf7f16df1d6ca8525da83dec4c4c08bad\",\n",
    "  \"de8fa16235762bb19957235e0eb296cdd144e66e\",\n",
    "  \"dd58a6c038759b4196ffe40b47434a8d83324986\",\n",
    "  \"25846d4ca6372cd1498549cd96cb48cdfa4af9b2\",\n",
    "  \"8733bf832613b264498592470ac77cfbccdb3ca4\",\n",
    "  \"9fddd0b4fa7a95241ea84f6d6d27ff3d5679d17e\",\n",
    "  \"c321785ac4230aadcc5439f1d7d5d1affb49a745\",\n",
    "  \"878e886f968b7d7c3946145002756d64fefdd9fd\",\n",
    "  \"1c2cdeb814d4718f7ee8dfad53cc6bbfa1d4421d\",\n",
    "  \"4ce53dac2689a3e11f20994d6a7d38dbfa4061ca\",\n",
    "  \"dc61c2d4c891321493d43fa63992d14688f17d06\",\n",
    "  \"5542cb87d94c6133534796e972979d7711170495\",\n",
    "  \"d94e15e1a7747fdd69ed54b8f0c048e50f32bf49\",\n",
    "  \"edbef3a8cf9162d2739c8d389f42b30798fdec9d\",\n",
    "  \"0c2f8bbfe09ffbbea25258d316ef28ef92da9504\",\n",
    "  \"a87a986544353b7a8abf627f9eb093ee5c02ded3\",\n",
    "  \"5f7e8dc3b35a8e9ba4bf28df1d86616f33a1990a\",\n",
    "  \"5d299af185fb48c28b532bc936efbeedc114fc3e\",\n",
    "  \"f3ccbfe053da4cb4c5a6c38d38d76aece8e35cf8\",\n",
    "  \"5c517c7fa57c221a79af5059905ff7290c6d3dd2\",\n",
    "  \"65864157682ae2df7673136b09d61eadfa166d72\",\n",
    "  \"a3e36b23f2479a2e1f1b7278228a142b1c8079ff\",\n",
    "  \"662a6f83168af6c808e39dfeed6ec1ca92af6fd7\",\n",
    "  \"78383a3bf5aa9ccbfb1d99d1ba1afc3b78b1610c\",\n",
    "  \"9076ad5d0d989bebd371ad392c0ecb51f4b2b6ff\",\n",
    "  \"0c753eac81ebb247860c93955de8af8bf51195fb\",\n",
    "  \"3e6be78f66551bb2179af90d0c9edb6dfa6bf14c\",\n",
    "  \"54c41c981f9fe954e6fbb2a19b00b59b77ac845d\",\n",
    "  \"97c658b4830646222e213c746581799223606a63\",\n",
    "  \"cd3e04306925c354e42d529219c356804b80b779\",\n",
    "  \"033d80b213fb837fb5025fca0d4065cab32823c8\",\n",
    "  \"b641de83f54a7134500a5cbd1bd26f79d2e63199\",\n",
    "  \"2d81614d2e2d78b9b9c8a0c9a5f9eb74ce0c94bf\",\n",
    "  \"f8bdd5f466b460fe785d178020c52e8d200bf10c\",\n",
    "  \"d1b80add9cafbdd0d34981b6de9f232686a984cc\",\n",
    "  \"7330e3105c2632d3ed08932b9f5671e502de83ec\",\n",
    "  \"a0a3938eee60fc87c7770e6cab9ae357833390ee\",\n",
    "  \"5413f7095fe837be5d2bb7bef3943825ab80f9e5\",\n",
    "  \"b5c8e8e267268237da85c495818b1615dfeb1dd8\"]\n",
    "\n",
    "problematic_row = (\n",
    "    jun_release\n",
    "    .filter(col('id').isin(ids))\n",
    "    .select(\n",
    "        col('targetId').alias('target'), \n",
    "        col('diseaseFromSourceMappedId').alias('disease'),\n",
    "        col('oddsRatio').alias('OR'),\n",
    "        col('oddsRatioConfidenceIntervalLower').alias('OR_low'),\n",
    "        col('oddsRatioConfidenceIntervalUpper').alias('OR_up'),\n",
    "        col('beta').alias('beta'),\n",
    "        col('betaConfidenceIntervalLower').alias('beta_low'),\n",
    "        col('betaConfidenceIntervalUpper').alias('beta_up'),\n",
    "        col('pValueExponent').alias('pv_exp'),\n",
    "        col('pValueMantissa').alias('pv_mantissa')\n",
    "    )\n",
    "    .persist()\n",
    "#     .show(100, truncate=False)\n",
    ")"
   ]
  },
  {
   "cell_type": "code",
   "execution_count": 203,
   "id": "3e9f503a",
   "metadata": {
    "ExecuteTime": {
     "end_time": "2021-11-24T08:58:27.422718Z",
     "start_time": "2021-11-24T08:58:27.376759Z"
    }
   },
   "outputs": [
    {
     "ename": "AnalysisException",
     "evalue": "\nAggregate/Window/Generate expressions are not valid in where clause of the query.\nExpression in where clause: [(`OR_up` = max(`OR_up`))]\nInvalid expressions: [max(`OR_up`)];\nFilter (OR_up#37759 = max(OR_up#37759))\n+- Project [targetId#18361 AS target#37755, diseaseFromSourceMappedId#18384 AS disease#37756, oddsRatio#18392 AS OR#37757, oddsRatioConfidenceIntervalLower#18393 AS OR_low#37758, oddsRatioConfidenceIntervalUpper#18394 AS OR_up#37759, beta#18364 AS beta#37760, betaConfidenceIntervalLower#18365 AS beta_low#37761, betaConfidenceIntervalUpper#18366 AS beta_up#37762, pValueExponent#18395L AS pv_exp#37763L, pValueMantissa#18396 AS pv_mantissa#37764]\n   +- Filter id#18424 IN (8749cf8b8049b5c057a8c0db94df6bbee2939aca,3119b2d2014fbfd1fd01316d0f6142a3594c9016,f14f8d90aadef3d3e2dac3e59e60041c16469ada,ee02c534efbe62c375b20031731434b8e0ace6f5,a6205a714fc214028da83d49844fa78b5d314747,118b5399cf177fe3f561bfb2db923e74e9ed955a,8933565c58a559211c7608c74cf637c86bf2b4eb,faefe2b314e7ae8ff4826abf61c9de4769ff0a9b,73abe7759dadbf364ebb1a36d24f1295aabdb14d,8330242285263ad95f9d2ca6e17c6b2d003b6194,704adc21a55ba19c6a0d8af5b9d57b383467f57e,d05736f8a5e6c73a49544eef37232d266a8a5190,023e38c23630993c7d9ca5311fb9069c848143e4,5359d20098660e21c936eb570e960a30f3101014,0e4c03b87eee7392b5d20af7671dfcf1ec23dc29,f489cb20f9c14f7f5b0d20b2f4fe84b4894dae41,9e8cd860b6710ed02b50d71bde225715d0d46b1a,c0f01d3d181edea34a74767f7a2833b42417559a,64315e283e863757f35bcaa1e2e3ec51bc31b14d,27d8d81cf7f16df1d6ca8525da83dec4c4c08bad,de8fa16235762bb19957235e0eb296cdd144e66e,dd58a6c038759b4196ffe40b47434a8d83324986,25846d4ca6372cd1498549cd96cb48cdfa4af9b2,8733bf832613b264498592470ac77cfbccdb3ca4,9fddd0b4fa7a95241ea84f6d6d27ff3d5679d17e,c321785ac4230aadcc5439f1d7d5d1affb49a745,878e886f968b7d7c3946145002756d64fefdd9fd,1c2cdeb814d4718f7ee8dfad53cc6bbfa1d4421d,4ce53dac2689a3e11f20994d6a7d38dbfa4061ca,dc61c2d4c891321493d43fa63992d14688f17d06,5542cb87d94c6133534796e972979d7711170495,d94e15e1a7747fdd69ed54b8f0c048e50f32bf49,edbef3a8cf9162d2739c8d389f42b30798fdec9d,0c2f8bbfe09ffbbea25258d316ef28ef92da9504,a87a986544353b7a8abf627f9eb093ee5c02ded3,5f7e8dc3b35a8e9ba4bf28df1d86616f33a1990a,5d299af185fb48c28b532bc936efbeedc114fc3e,f3ccbfe053da4cb4c5a6c38d38d76aece8e35cf8,5c517c7fa57c221a79af5059905ff7290c6d3dd2,65864157682ae2df7673136b09d61eadfa166d72,a3e36b23f2479a2e1f1b7278228a142b1c8079ff,662a6f83168af6c808e39dfeed6ec1ca92af6fd7,78383a3bf5aa9ccbfb1d99d1ba1afc3b78b1610c,9076ad5d0d989bebd371ad392c0ecb51f4b2b6ff,0c753eac81ebb247860c93955de8af8bf51195fb,3e6be78f66551bb2179af90d0c9edb6dfa6bf14c,54c41c981f9fe954e6fbb2a19b00b59b77ac845d,97c658b4830646222e213c746581799223606a63,cd3e04306925c354e42d529219c356804b80b779,033d80b213fb837fb5025fca0d4065cab32823c8,b641de83f54a7134500a5cbd1bd26f79d2e63199,2d81614d2e2d78b9b9c8a0c9a5f9eb74ce0c94bf,f8bdd5f466b460fe785d178020c52e8d200bf10c,d1b80add9cafbdd0d34981b6de9f232686a984cc,7330e3105c2632d3ed08932b9f5671e502de83ec,a0a3938eee60fc87c7770e6cab9ae357833390ee,5413f7095fe837be5d2bb7bef3943825ab80f9e5,b5c8e8e267268237da85c495818b1615dfeb1dd8)\n      +- Relation[datasourceId#18360,targetId#18361,alleleOrigins#18362,allelicRequirements#18363,beta#18364,betaConfidenceIntervalLower#18365,betaConfidenceIntervalUpper#18366,biologicalModelAllelicComposition#18367,biologicalModelGeneticBackground#18368,biologicalModelId#18369,biosamplesFromSource#18370,clinicalPhase#18371L,clinicalSignificances#18372,clinicalStatus#18373,cohortDescription#18374,cohortId#18375,cohortPhenotypes#18376,cohortShortName#18377,confidence#18378,contrast#18379,datatypeId#18380,diseaseCellLines#18381,diseaseFromSource#18382,diseaseFromSourceId#18383,... 42 more fields] parquet\n",
     "output_type": "error",
     "traceback": [
      "\u001b[0;31m---------------------------------------------------------------------------\u001b[0m",
      "\u001b[0;31mAnalysisException\u001b[0m                         Traceback (most recent call last)",
      "\u001b[0;32m<ipython-input-203-628a36c72c97>\u001b[0m in \u001b[0;36m<module>\u001b[0;34m\u001b[0m\n\u001b[1;32m      1\u001b[0m (\n\u001b[0;32m----> 2\u001b[0;31m     \u001b[0mproblematic_row\u001b[0m\u001b[0;34m\u001b[0m\u001b[0;34m\u001b[0m\u001b[0m\n\u001b[0m\u001b[1;32m      3\u001b[0m     \u001b[0;34m.\u001b[0m\u001b[0mfilter\u001b[0m\u001b[0;34m(\u001b[0m\u001b[0mcol\u001b[0m\u001b[0;34m(\u001b[0m\u001b[0;34m'OR_up'\u001b[0m\u001b[0;34m)\u001b[0m \u001b[0;34m==\u001b[0m \u001b[0mspark_max\u001b[0m\u001b[0;34m(\u001b[0m\u001b[0mcol\u001b[0m\u001b[0;34m(\u001b[0m\u001b[0;34m'OR_up'\u001b[0m\u001b[0;34m)\u001b[0m\u001b[0;34m)\u001b[0m\u001b[0;34m)\u001b[0m\u001b[0;34m\u001b[0m\u001b[0;34m\u001b[0m\u001b[0m\n\u001b[1;32m      4\u001b[0m     \u001b[0;34m.\u001b[0m\u001b[0mshow\u001b[0m\u001b[0;34m(\u001b[0m\u001b[0;34m)\u001b[0m\u001b[0;34m\u001b[0m\u001b[0;34m\u001b[0m\u001b[0m\n\u001b[1;32m      5\u001b[0m )\n",
      "\u001b[0;32m~/opt/anaconda3/envs/jupyter3.9/lib/python3.9/site-packages/pyspark/sql/dataframe.py\u001b[0m in \u001b[0;36mfilter\u001b[0;34m(self, condition)\u001b[0m\n\u001b[1;32m   1715\u001b[0m             \u001b[0mjdf\u001b[0m \u001b[0;34m=\u001b[0m \u001b[0mself\u001b[0m\u001b[0;34m.\u001b[0m\u001b[0m_jdf\u001b[0m\u001b[0;34m.\u001b[0m\u001b[0mfilter\u001b[0m\u001b[0;34m(\u001b[0m\u001b[0mcondition\u001b[0m\u001b[0;34m)\u001b[0m\u001b[0;34m\u001b[0m\u001b[0;34m\u001b[0m\u001b[0m\n\u001b[1;32m   1716\u001b[0m         \u001b[0;32melif\u001b[0m \u001b[0misinstance\u001b[0m\u001b[0;34m(\u001b[0m\u001b[0mcondition\u001b[0m\u001b[0;34m,\u001b[0m \u001b[0mColumn\u001b[0m\u001b[0;34m)\u001b[0m\u001b[0;34m:\u001b[0m\u001b[0;34m\u001b[0m\u001b[0;34m\u001b[0m\u001b[0m\n\u001b[0;32m-> 1717\u001b[0;31m             \u001b[0mjdf\u001b[0m \u001b[0;34m=\u001b[0m \u001b[0mself\u001b[0m\u001b[0;34m.\u001b[0m\u001b[0m_jdf\u001b[0m\u001b[0;34m.\u001b[0m\u001b[0mfilter\u001b[0m\u001b[0;34m(\u001b[0m\u001b[0mcondition\u001b[0m\u001b[0;34m.\u001b[0m\u001b[0m_jc\u001b[0m\u001b[0;34m)\u001b[0m\u001b[0;34m\u001b[0m\u001b[0;34m\u001b[0m\u001b[0m\n\u001b[0m\u001b[1;32m   1718\u001b[0m         \u001b[0;32melse\u001b[0m\u001b[0;34m:\u001b[0m\u001b[0;34m\u001b[0m\u001b[0;34m\u001b[0m\u001b[0m\n\u001b[1;32m   1719\u001b[0m             \u001b[0;32mraise\u001b[0m \u001b[0mTypeError\u001b[0m\u001b[0;34m(\u001b[0m\u001b[0;34m\"condition should be string or Column\"\u001b[0m\u001b[0;34m)\u001b[0m\u001b[0;34m\u001b[0m\u001b[0;34m\u001b[0m\u001b[0m\n",
      "\u001b[0;32m~/opt/anaconda3/envs/jupyter3.9/lib/python3.9/site-packages/py4j/java_gateway.py\u001b[0m in \u001b[0;36m__call__\u001b[0;34m(self, *args)\u001b[0m\n\u001b[1;32m   1307\u001b[0m \u001b[0;34m\u001b[0m\u001b[0m\n\u001b[1;32m   1308\u001b[0m         \u001b[0manswer\u001b[0m \u001b[0;34m=\u001b[0m \u001b[0mself\u001b[0m\u001b[0;34m.\u001b[0m\u001b[0mgateway_client\u001b[0m\u001b[0;34m.\u001b[0m\u001b[0msend_command\u001b[0m\u001b[0;34m(\u001b[0m\u001b[0mcommand\u001b[0m\u001b[0;34m)\u001b[0m\u001b[0;34m\u001b[0m\u001b[0;34m\u001b[0m\u001b[0m\n\u001b[0;32m-> 1309\u001b[0;31m         return_value = get_return_value(\n\u001b[0m\u001b[1;32m   1310\u001b[0m             answer, self.gateway_client, self.target_id, self.name)\n\u001b[1;32m   1311\u001b[0m \u001b[0;34m\u001b[0m\u001b[0m\n",
      "\u001b[0;32m~/opt/anaconda3/envs/jupyter3.9/lib/python3.9/site-packages/pyspark/sql/utils.py\u001b[0m in \u001b[0;36mdeco\u001b[0;34m(*a, **kw)\u001b[0m\n\u001b[1;32m    115\u001b[0m                 \u001b[0;31m# Hide where the exception came from that shows a non-Pythonic\u001b[0m\u001b[0;34m\u001b[0m\u001b[0;34m\u001b[0m\u001b[0;34m\u001b[0m\u001b[0m\n\u001b[1;32m    116\u001b[0m                 \u001b[0;31m# JVM exception message.\u001b[0m\u001b[0;34m\u001b[0m\u001b[0;34m\u001b[0m\u001b[0;34m\u001b[0m\u001b[0m\n\u001b[0;32m--> 117\u001b[0;31m                 \u001b[0;32mraise\u001b[0m \u001b[0mconverted\u001b[0m \u001b[0;32mfrom\u001b[0m \u001b[0;32mNone\u001b[0m\u001b[0;34m\u001b[0m\u001b[0;34m\u001b[0m\u001b[0m\n\u001b[0m\u001b[1;32m    118\u001b[0m             \u001b[0;32melse\u001b[0m\u001b[0;34m:\u001b[0m\u001b[0;34m\u001b[0m\u001b[0;34m\u001b[0m\u001b[0m\n\u001b[1;32m    119\u001b[0m                 \u001b[0;32mraise\u001b[0m\u001b[0;34m\u001b[0m\u001b[0;34m\u001b[0m\u001b[0m\n",
      "\u001b[0;31mAnalysisException\u001b[0m: \nAggregate/Window/Generate expressions are not valid in where clause of the query.\nExpression in where clause: [(`OR_up` = max(`OR_up`))]\nInvalid expressions: [max(`OR_up`)];\nFilter (OR_up#37759 = max(OR_up#37759))\n+- Project [targetId#18361 AS target#37755, diseaseFromSourceMappedId#18384 AS disease#37756, oddsRatio#18392 AS OR#37757, oddsRatioConfidenceIntervalLower#18393 AS OR_low#37758, oddsRatioConfidenceIntervalUpper#18394 AS OR_up#37759, beta#18364 AS beta#37760, betaConfidenceIntervalLower#18365 AS beta_low#37761, betaConfidenceIntervalUpper#18366 AS beta_up#37762, pValueExponent#18395L AS pv_exp#37763L, pValueMantissa#18396 AS pv_mantissa#37764]\n   +- Filter id#18424 IN (8749cf8b8049b5c057a8c0db94df6bbee2939aca,3119b2d2014fbfd1fd01316d0f6142a3594c9016,f14f8d90aadef3d3e2dac3e59e60041c16469ada,ee02c534efbe62c375b20031731434b8e0ace6f5,a6205a714fc214028da83d49844fa78b5d314747,118b5399cf177fe3f561bfb2db923e74e9ed955a,8933565c58a559211c7608c74cf637c86bf2b4eb,faefe2b314e7ae8ff4826abf61c9de4769ff0a9b,73abe7759dadbf364ebb1a36d24f1295aabdb14d,8330242285263ad95f9d2ca6e17c6b2d003b6194,704adc21a55ba19c6a0d8af5b9d57b383467f57e,d05736f8a5e6c73a49544eef37232d266a8a5190,023e38c23630993c7d9ca5311fb9069c848143e4,5359d20098660e21c936eb570e960a30f3101014,0e4c03b87eee7392b5d20af7671dfcf1ec23dc29,f489cb20f9c14f7f5b0d20b2f4fe84b4894dae41,9e8cd860b6710ed02b50d71bde225715d0d46b1a,c0f01d3d181edea34a74767f7a2833b42417559a,64315e283e863757f35bcaa1e2e3ec51bc31b14d,27d8d81cf7f16df1d6ca8525da83dec4c4c08bad,de8fa16235762bb19957235e0eb296cdd144e66e,dd58a6c038759b4196ffe40b47434a8d83324986,25846d4ca6372cd1498549cd96cb48cdfa4af9b2,8733bf832613b264498592470ac77cfbccdb3ca4,9fddd0b4fa7a95241ea84f6d6d27ff3d5679d17e,c321785ac4230aadcc5439f1d7d5d1affb49a745,878e886f968b7d7c3946145002756d64fefdd9fd,1c2cdeb814d4718f7ee8dfad53cc6bbfa1d4421d,4ce53dac2689a3e11f20994d6a7d38dbfa4061ca,dc61c2d4c891321493d43fa63992d14688f17d06,5542cb87d94c6133534796e972979d7711170495,d94e15e1a7747fdd69ed54b8f0c048e50f32bf49,edbef3a8cf9162d2739c8d389f42b30798fdec9d,0c2f8bbfe09ffbbea25258d316ef28ef92da9504,a87a986544353b7a8abf627f9eb093ee5c02ded3,5f7e8dc3b35a8e9ba4bf28df1d86616f33a1990a,5d299af185fb48c28b532bc936efbeedc114fc3e,f3ccbfe053da4cb4c5a6c38d38d76aece8e35cf8,5c517c7fa57c221a79af5059905ff7290c6d3dd2,65864157682ae2df7673136b09d61eadfa166d72,a3e36b23f2479a2e1f1b7278228a142b1c8079ff,662a6f83168af6c808e39dfeed6ec1ca92af6fd7,78383a3bf5aa9ccbfb1d99d1ba1afc3b78b1610c,9076ad5d0d989bebd371ad392c0ecb51f4b2b6ff,0c753eac81ebb247860c93955de8af8bf51195fb,3e6be78f66551bb2179af90d0c9edb6dfa6bf14c,54c41c981f9fe954e6fbb2a19b00b59b77ac845d,97c658b4830646222e213c746581799223606a63,cd3e04306925c354e42d529219c356804b80b779,033d80b213fb837fb5025fca0d4065cab32823c8,b641de83f54a7134500a5cbd1bd26f79d2e63199,2d81614d2e2d78b9b9c8a0c9a5f9eb74ce0c94bf,f8bdd5f466b460fe785d178020c52e8d200bf10c,d1b80add9cafbdd0d34981b6de9f232686a984cc,7330e3105c2632d3ed08932b9f5671e502de83ec,a0a3938eee60fc87c7770e6cab9ae357833390ee,5413f7095fe837be5d2bb7bef3943825ab80f9e5,b5c8e8e267268237da85c495818b1615dfeb1dd8)\n      +- Relation[datasourceId#18360,targetId#18361,alleleOrigins#18362,allelicRequirements#18363,beta#18364,betaConfidenceIntervalLower#18365,betaConfidenceIntervalUpper#18366,biologicalModelAllelicComposition#18367,biologicalModelGeneticBackground#18368,biologicalModelId#18369,biosamplesFromSource#18370,clinicalPhase#18371L,clinicalSignificances#18372,clinicalStatus#18373,cohortDescription#18374,cohortId#18375,cohortPhenotypes#18376,cohortShortName#18377,confidence#18378,contrast#18379,datatypeId#18380,diseaseCellLines#18381,diseaseFromSource#18382,diseaseFromSourceId#18383,... 42 more fields] parquet\n"
     ]
    }
   ],
   "source": [
    "(\n",
    "    problematic_row\n",
    "    .filter(col('OR_up') == spark_max(col('OR_up')))\n",
    "    .show()\n",
    ")"
   ]
  },
  {
   "cell_type": "code",
   "execution_count": 184,
   "id": "a6805de4",
   "metadata": {
    "ExecuteTime": {
     "end_time": "2021-11-23T16:25:37.679341Z",
     "start_time": "2021-11-23T16:25:37.673891Z"
    }
   },
   "outputs": [
    {
     "data": {
      "text/plain": [
       "0.4444444444444444"
      ]
     },
     "execution_count": 184,
     "metadata": {},
     "output_type": "execute_result"
    }
   ],
   "source": [
    "n, p = 2, 1/3\n"
   ]
  },
  {
   "cell_type": "code",
   "execution_count": 193,
   "id": "6ff96e58",
   "metadata": {
    "ExecuteTime": {
     "end_time": "2021-11-23T18:01:30.642770Z",
     "start_time": "2021-11-23T18:01:30.625846Z"
    }
   },
   "outputs": [
    {
     "data": {
      "text/plain": [
       "['0.667, 0.333',\n",
       " '0.444, 0.444, 0.111',\n",
       " '0.296, 0.444, 0.222, 0.037',\n",
       " '0.198, 0.395, 0.296, 0.099, 0.012',\n",
       " '0.132, 0.329, 0.329, 0.165, 0.041, 0.004',\n",
       " '0.088, 0.263, 0.329, 0.219, 0.082, 0.016, 0.001',\n",
       " '0.059, 0.205, 0.307, 0.256, 0.128, 0.038, 0.006, 0.0',\n",
       " '0.039, 0.156, 0.273, 0.273, 0.171, 0.068, 0.017, 0.002, 0.0',\n",
       " '0.026, 0.117, 0.234, 0.273, 0.205, 0.102, 0.034, 0.007, 0.001, 0.0',\n",
       " '0.017, 0.087, 0.195, 0.26, 0.228, 0.137, 0.057, 0.016, 0.003, 0.0, 0.0']"
      ]
     },
     "execution_count": 193,
     "metadata": {},
     "output_type": "execute_result"
    }
   ],
   "source": [
    "from scipy.stats import binom\n",
    "max_dobas = 10\n",
    "[', '.join([str(round(binom.pmf(k, n, p), 3)) for k in range(n+1)]) for n in range(1,max_dobas + 1)]"
   ]
  },
  {
   "cell_type": "code",
   "execution_count": 195,
   "id": "30257bd7",
   "metadata": {
    "ExecuteTime": {
     "end_time": "2021-11-23T18:02:37.138771Z",
     "start_time": "2021-11-23T18:02:37.126035Z"
    }
   },
   "outputs": [
    {
     "name": "stdout",
     "output_type": "stream",
     "text": [
      "0.667, 0.333\n",
      "0.444, 0.444, 0.111\n",
      "0.296, 0.444, 0.222, 0.037\n",
      "0.198, 0.395, 0.296, 0.099, 0.012\n",
      "0.132, 0.329, 0.329, 0.165, 0.041, 0.004\n",
      "0.088, 0.263, 0.329, 0.219, 0.082, 0.016, 0.001\n",
      "0.059, 0.205, 0.307, 0.256, 0.128, 0.038, 0.006, 0.0\n",
      "0.039, 0.156, 0.273, 0.273, 0.171, 0.068, 0.017, 0.002, 0.0\n",
      "0.026, 0.117, 0.234, 0.273, 0.205, 0.102, 0.034, 0.007, 0.001, 0.0\n",
      "0.017, 0.087, 0.195, 0.26, 0.228, 0.137, 0.057, 0.016, 0.003, 0.0, 0.0\n"
     ]
    }
   ],
   "source": [
    "print(\"\\n\".join([', '.join([str(round(binom.pmf(k, n, p), 3)) for k in range(n+1)]) for n in range(1,max_dobas + 1)]))"
   ]
  },
  {
   "cell_type": "code",
   "execution_count": 199,
   "id": "95f26226",
   "metadata": {
    "ExecuteTime": {
     "end_time": "2021-11-23T19:25:15.607280Z",
     "start_time": "2021-11-23T19:25:15.602360Z"
    }
   },
   "outputs": [
    {
     "data": {
      "text/plain": [
       "[243, 367, 729]"
      ]
     },
     "execution_count": 199,
     "metadata": {},
     "output_type": "execute_result"
    }
   ],
   "source": [
    "a=[342, 763, 927]\n",
    "\n",
    "[int(str(x)[::-1]) for x in a]"
   ]
  },
  {
   "cell_type": "code",
   "execution_count": null,
   "id": "f131307c",
   "metadata": {},
   "outputs": [],
   "source": []
  }
 ],
 "metadata": {
  "kernelspec": {
   "display_name": "Python 3",
   "language": "python",
   "name": "python3"
  },
  "language_info": {
   "codemirror_mode": {
    "name": "ipython",
    "version": 3
   },
   "file_extension": ".py",
   "mimetype": "text/x-python",
   "name": "python",
   "nbconvert_exporter": "python",
   "pygments_lexer": "ipython3",
   "version": "3.9.5"
  }
 },
 "nbformat": 4,
 "nbformat_minor": 5
}
