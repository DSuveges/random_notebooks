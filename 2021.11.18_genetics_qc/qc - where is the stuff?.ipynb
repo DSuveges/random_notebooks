{
 "cells": [
  {
   "cell_type": "markdown",
   "id": "e3d205b9",
   "metadata": {},
   "source": [
    "# QC of Genetics Portal Evidence\n",
    "\n",
    "## Findings\n",
    "\n",
    "1. There are 75 studies in the 21.11 dataset which used to have efo identifiers, but they don't have anymore. Two of these are GCST identifiers, probably the implicated studies the genetics team already knows about. Rest of the list are FINNGEN and UKBB studies, with weird trait categories. This discrepancy leads to dropping 8k evidence. \n",
    "    * Verify the reasoning behind the mappings.\n",
    "    * Was it only the ambiguity of the mapping? Or the nature of the studied trait? \n",
    "2. In the unfiltered evidence set (l2g threshold == 0), there are 627,835 evidence from 18,031 studies. When applying the l2g >= 0.05 cutoff, the number of studies dropped to 17,359. So because of the l2g threshold, we are losing only 672 studies.\n",
    "3. When compared to the Genetics Portal evidence set from the 21.09 release, I have found due to missing studies, only 147 evidence from 26 studies were lost. These 26 studies are missing from the unfiltered dataset. When the l2g threshold is applied the number of missing studies were 178 with 1788 evidence.\n",
    "4. "
   ]
  },
  {
   "cell_type": "markdown",
   "id": "eb54c9af",
   "metadata": {},
   "source": [
    "Running parser on the new data:\n",
    "\n",
    "### Creating cluster\n",
    "\n",
    "```bash\n",
    "gcloud dataproc clusters create \\\n",
    "  genetics-evidence-generation \\\n",
    "  --image-version=1.4 \\\n",
    "  --properties=spark:spark.debug.maxToStringFields=100,spark:spark.executor.cores=31,spark:spark.executor.instances=1 \\\n",
    "  --master-machine-type=n1-standard-32 \\\n",
    "  --master-boot-disk-size=1TB \\\n",
    "  --zone=europe-west1-d \\\n",
    "  --single-node \\\n",
    "  --max-idle=15m \\\n",
    "  --region=europe-west1 \\\n",
    "  --project=open-targets-genetics-dev\n",
    "```\n",
    "\n",
    "### Running for release `21.11`\n",
    "\n",
    "\n",
    "```bash\n",
    "# Set Genetics Portal envidence source files:\n",
    "export TAG='21.11_nofilter'\n",
    "\n",
    "L2G_FILE=\"gs://genetics-portal-dev-data/21.10/outputs/l2g\"\n",
    "STUDY_FILE=\"gs://genetics-portal-dev-data/21.10/outputs/lut/study-index\"\n",
    "TOPLOCI_FILE=\"gs://genetics-portal-dev-data/21.10/inputs/v2d/toploci.parquet\"\n",
    "VARIANTINDEX=\"gs://genetics-portal-dev-data/21.10/inputs/variant-annotation/190129/variant-annotation.parquet\"\n",
    "ECO_CODES=\"gs://genetics-portal-dev-data/21.10/inputs/lut/vep_consequences.tsv\"\n",
    "\n",
    "\n",
    "OUT_FILE=\"gs://genetics-portal-analysis/l2g-platform-export/data/genetics_portal-${TAG}.parquet\"\n",
    "SCRIPT_DIR='/Users/dsuveges/repositories/evidence_datasource_parsers/'\n",
    "```\n",
    "\n",
    "```bash\n",
    "gcloud dataproc jobs submit pyspark \\\n",
    "  --cluster=genetics-evidence-generation \\\n",
    "  --project=open-targets-genetics-dev \\\n",
    "  --region=europe-west1 \\\n",
    "  ${SCRIPT_DIR}/modules/GeneticsPortal.py -- \\\n",
    "  --locus2gene ${L2G_FILE} \\\n",
    "  --toploci ${TOPLOCI_FILE} \\\n",
    "  --study ${STUDY_FILE} \\\n",
    "  --variantIndex ${VARIANTINDEX}  \\\n",
    "  --ecoCodes ${ECO_CODES} \\\n",
    "  --threshold 0 \\\n",
    "  --outputFile ${OUT_FILE}\n",
    "```\n",
    "\n",
    "Move file:\n",
    "\n",
    "```bash\n",
    "gsutil cp -r ${OUT_FILE} .\n",
    "\n",
    "```\n",
    "\n",
    "Copy old evidence files used for the 21.09 release:\n",
    "\n",
    "```bash\n",
    "gsutil cp -r gs://open-targets-pre-data-releases/21.09.5/input/evidence-files/genetics-portal-evidences-2021-06-21  .\n",
    "```"
   ]
  },
  {
   "cell_type": "code",
   "execution_count": 32,
   "id": "ae7275b1",
   "metadata": {
    "ExecuteTime": {
     "end_time": "2021-11-21T20:40:34.571088Z",
     "start_time": "2021-11-21T20:40:34.556500Z"
    }
   },
   "outputs": [],
   "source": [
    "new_data = '/Users/dsuveges/repositories/evidence_datasource_parsers/genetics_portal-21.11_nofilter.parquet'\n",
    "old_data = '/Users/dsuveges/repositories/evidence_datasource_parsers/genetics_portal-2021-06-21/'\n",
    "\n",
    "from pyspark.sql.functions import (\n",
    "    col, udf, struct, lit, split, regexp_replace, create_map, min as spark_min, max as spark_max\n",
    ")\n",
    "from pyspark.sql.types import FloatType, ArrayType, StructType, StructField\n",
    "from pyspark.sql import SparkSession\n",
    "from pyspark.conf import SparkConf\n",
    "from itertools import chain\n",
    "\n",
    "\n",
    "# establish spark connection\n",
    "sparkConf = (\n",
    "    SparkConf()\n",
    "    .set('spark.driver.memory', '15g')\n",
    "    .set('spark.executor.memory', '15g')\n",
    "    .set('spark.driver.maxResultSize', '0')\n",
    ")\n",
    "spark = (\n",
    "    SparkSession.builder\n",
    "    .config(conf=sparkConf)\n",
    "    .master('local[*]')\n",
    "    .getOrCreate()\n",
    ")\n"
   ]
  },
  {
   "cell_type": "code",
   "execution_count": 9,
   "id": "49e15c2b",
   "metadata": {
    "ExecuteTime": {
     "end_time": "2021-11-19T14:14:07.136244Z",
     "start_time": "2021-11-19T14:14:06.935178Z"
    }
   },
   "outputs": [],
   "source": [
    "new_df = (\n",
    "    spark.read.parquet(new_data)\n",
    "    .select('diseaseFromSourceMappedId', 'targetFromSourceId', 'variantId', 'studyId', 'resourceScore')\n",
    "    .withColumn('release', lit('21.11'))\n",
    "    .persist()\n",
    ")"
   ]
  },
  {
   "cell_type": "code",
   "execution_count": 54,
   "id": "cf29b3ab",
   "metadata": {
    "ExecuteTime": {
     "end_time": "2021-11-21T21:46:44.578566Z",
     "start_time": "2021-11-21T21:46:42.965378Z"
    }
   },
   "outputs": [
    {
     "name": "stdout",
     "output_type": "stream",
     "text": [
      "Evidence count\n",
      "Unfiltered: 3379045\n",
      "Filtered: 627835\n",
      "\n",
      "Study count\n",
      "Unfiltered: 18031\n",
      "Filtered: 17359\n"
     ]
    }
   ],
   "source": [
    "print('Evidence count')\n",
    "print(f'Unfiltered: {new_df.count()}')\n",
    "print(f'Filtered: {new_df.filter(col(\"resourceScore\") >= 0.05).count()}')\n",
    "\n",
    "print('\\nStudy count')\n",
    "print(f'Unfiltered: {new_df.select(col(\"studyId\")).distinct().count()}')\n",
    "print(f'Filtered: {new_df.filter(col(\"resourceScore\") >= 0.05).select(col(\"studyId\")).distinct().count()}')"
   ]
  },
  {
   "cell_type": "code",
   "execution_count": 13,
   "id": "6bf7f514",
   "metadata": {
    "ExecuteTime": {
     "end_time": "2021-11-19T14:30:57.761488Z",
     "start_time": "2021-11-19T14:30:55.701620Z"
    }
   },
   "outputs": [],
   "source": [
    "old_df = (\n",
    "    spark.read.json(old_data)\n",
    "    .select('diseaseFromSourceMappedId', 'targetFromSourceId', 'variantId', 'studyId', 'resourceScore')\n",
    "    .withColumn('release', lit('21.09'))\n",
    "    .withColumnRenamed('resourceScore', 'resourceScore_old')\n",
    "    .persist()\n",
    ")"
   ]
  },
  {
   "cell_type": "code",
   "execution_count": 14,
   "id": "78e13867",
   "metadata": {
    "ExecuteTime": {
     "end_time": "2021-11-19T14:30:58.664094Z",
     "start_time": "2021-11-19T14:30:57.763159Z"
    }
   },
   "outputs": [
    {
     "data": {
      "text/plain": [
       "635033"
      ]
     },
     "execution_count": 14,
     "metadata": {},
     "output_type": "execute_result"
    }
   ],
   "source": [
    "old_df.count()"
   ]
  },
  {
   "cell_type": "markdown",
   "id": "abe98d67",
   "metadata": {},
   "source": [
    "Is there any study in the new set, without EFO, that used to have EFO?"
   ]
  },
  {
   "cell_type": "code",
   "execution_count": 27,
   "id": "6ab35dc1",
   "metadata": {
    "ExecuteTime": {
     "end_time": "2021-11-19T15:02:43.095454Z",
     "start_time": "2021-11-19T15:02:38.722413Z"
    }
   },
   "outputs": [
    {
     "name": "stdout",
     "output_type": "stream",
     "text": [
      "+----------------------------------------------------------+-------------------------+---------------+\n",
      "|studyId                                                   |diseaseFromSourceMappedId|old_disease    |\n",
      "+----------------------------------------------------------+-------------------------+---------------+\n",
      "|SAIGE_202                                                 |null                     |EFO_0001642    |\n",
      "|SAIGE_695_4                                               |null                     |MONDO_0004670  |\n",
      "|SAIGE_240                                                 |null                     |EFO_0004283    |\n",
      "|NEALE2_23101_raw                                          |null                     |EFO_0004995    |\n",
      "|FINNGEN_R5_Z21_DESEN_ALLERGE                              |null                     |NCIT_C15262    |\n",
      "|NEALE2_30290_raw                                          |null                     |EFO_0007986    |\n",
      "|NEALE2_30520_raw                                          |null                     |HP_0012598     |\n",
      "|SAIGE_361                                                 |null                     |EFO_0005773    |\n",
      "|SAIGE_740_9                                               |null                     |EFO_0002506    |\n",
      "|NEALE2_1488_raw                                           |null                     |EFO_0008111    |\n",
      "|NEALE2_1980                                               |null                     |EFO_0005230    |\n",
      "|FINNGEN_R5_Z21_PRESENCE_CARDIAC_VASCULAR_IMPLANTNTS_GRAFTS|null                     |NCIT_C41075    |\n",
      "|SAIGE_401_1                                               |null                     |EFO_0000537    |\n",
      "|SAIGE_575_6                                               |null                     |EFO_0003832    |\n",
      "|SAIGE_939                                                 |null                     |EFO_0005319    |\n",
      "|SAIGE_191_1                                               |null                     |EFO_0000326    |\n",
      "|NEALE2_2030                                               |null                     |EFO_0009595    |\n",
      "|SAIGE_737                                                 |null                     |EFO_0004273    |\n",
      "|FINNGEN_R5_I9_REVACS_EXNONE                               |null                     |NCIT_C119202   |\n",
      "|SAIGE_038_1                                               |null                     |MONDO_0021678  |\n",
      "|NEALE2_22506_113                                          |null                     |EFO_0004318    |\n",
      "|SAIGE_244_4                                               |null                     |EFO_0004705    |\n",
      "|NEALE2_20127_raw                                          |null                     |EFO_0007660    |\n",
      "|NEALE2_1458                                               |null                     |EFO_0008111    |\n",
      "|SAIGE_574_2                                               |null                     |MONDO_0002887  |\n",
      "|NEALE2_100580                                             |null                     |EFO_0007878    |\n",
      "|FINNGEN_R5_R18_SYMPTOMS_SIGNS_INVOLVI_EMOTIONAL_STATE     |null                     |NCIT_C114900   |\n",
      "|SAIGE_362_29                                              |null                     |EFO_0001365    |\n",
      "|FINNGEN_R5_K11_TOOTH_DEV                                  |null                     |NCIT_C143876   |\n",
      "|FINNGEN_R5_R18_ABNORMAL_FINDI_EXAMI_BLOOD_WO_DIAGNOSIS    |null                     |NCIT_C35553    |\n",
      "|SAIGE_362                                                 |null                     |EFO_0003839    |\n",
      "|NEALE2_1438_raw                                           |null                     |EFO_0008111    |\n",
      "|SAIGE_698                                                 |null                     |HP_0000989     |\n",
      "|NEALE2_100520                                             |null                     |EFO_0008111    |\n",
      "|GCST011401                                                |null                     |EFO_0000305    |\n",
      "|NEALE2_30300_raw                                          |null                     |EFO_0007986    |\n",
      "|SAIGE_573_5                                               |null                     |HP_0000952     |\n",
      "|SAIGE_229                                                 |null                     |EFO_0002422    |\n",
      "|NEALE2_22506_114                                          |null                     |EFO_0004318    |\n",
      "|SAIGE_451_2                                               |null                     |EFO_1001395    |\n",
      "|SAIGE_451_2                                               |null                     |HP_0004418     |\n",
      "|FINNGEN_R5_Z21_PRESENCE_OTH_FUNCTIONAL_IMPLANTNTS         |null                     |NCIT_C41075    |\n",
      "|SAIGE_315                                                 |null                     |HP_0001263     |\n",
      "|SAIGE_599_2                                               |null                     |HP_0000016     |\n",
      "|SAIGE_041_2                                               |null                     |EFO_1001476    |\n",
      "|NEALE2_1249                                               |null                     |EFO_0004319    |\n",
      "|NEALE2_1239                                               |null                     |EFO_0004318    |\n",
      "|FINNGEN_R5_ST19_MALTR_SYNDR                               |null                     |NCIT_C176713   |\n",
      "|NEALE2_6151_5                                             |null                     |EFO_0009515    |\n",
      "|SAIGE_260_6                                               |null                     |EFO_0004215    |\n",
      "|NEALE2_1408                                               |null                     |EFO_0008111    |\n",
      "|NEALE2_22506_111                                          |null                     |EFO_0004318    |\n",
      "|FINNGEN_R5_I9_REVASC                                      |null                     |NCIT_C119202   |\n",
      "|NEALE2_30230                                              |null                     |EFO_0005047    |\n",
      "|NEALE2_6151_1                                             |null                     |EFO_0009615    |\n",
      "|NEALE2_6151_1                                             |null                     |EFO_0009512    |\n",
      "|SAIGE_454_1                                               |null                     |HP_0002619     |\n",
      "|SAIGE_272                                                 |null                     |Orphanet_309005|\n",
      "|FINNGEN_R5_I9_REVASC_EXNONE                               |null                     |NCIT_C119202   |\n",
      "|GCST011402                                                |null                     |EFO_0000305    |\n",
      "|NEALE2_2010                                               |null                     |NCIT_C74532    |\n",
      "|SAIGE_531                                                 |null                     |HP_0004398     |\n",
      "|GCST011401_2                                              |null                     |EFO_0000305    |\n",
      "|SAIGE_696                                                 |null                     |EFO_0000676    |\n",
      "|SAIGE_575_8                                               |null                     |EFO_0009534    |\n",
      "|NEALE2_100013_raw                                         |null                     |EFO_0004620    |\n",
      "|SAIGE_189_21                                              |null                     |EFO_0000292    |\n",
      "|SAIGE_250_23                                              |null                     |EFO_0001360    |\n",
      "|SAIGE_286_12                                              |null                     |Orphanet_98434 |\n",
      "|GCST006949                                                |null                     |NCIT_C74532    |\n",
      "|FINNGEN_R5_R18_SENILITY                                   |null                     |NCIT_C34524    |\n",
      "|NEALE2_6151_4                                             |null                     |EFO_0003902    |\n",
      "|GCST011402_2                                              |null                     |EFO_0000305    |\n",
      "|NEALE2_20116_0                                            |null                     |EFO_0004318    |\n",
      "+----------------------------------------------------------+-------------------------+---------------+\n",
      "\n"
     ]
    }
   ],
   "source": [
    "(\n",
    "    new_df\n",
    "    .filter(col('diseaseFromSourceMappedId').isNull())\n",
    "    .select('diseaseFromSourceMappedId', 'studyId')\n",
    "    .distinct()\n",
    "    .join(\n",
    "        (\n",
    "            old_df\n",
    "            .filter(col('diseaseFromSourceMappedId').isNotNull())\n",
    "            .select(col('diseaseFromSourceMappedId').alias('old_disease'), 'studyId')\n",
    "            .distinct()\n",
    "        ), on='studyId', how='inner')\n",
    "#     .count()\n",
    "    .show(100, truncate=False)\n",
    ")"
   ]
  },
  {
   "cell_type": "code",
   "execution_count": 20,
   "id": "c385c7fc",
   "metadata": {
    "ExecuteTime": {
     "end_time": "2021-11-19T14:58:09.849520Z",
     "start_time": "2021-11-19T14:58:09.475158Z"
    }
   },
   "outputs": [
    {
     "name": "stdout",
     "output_type": "stream",
     "text": [
      "+------------------+\n",
      "|targetFromSourceId|\n",
      "+------------------+\n",
      "|   ENSG00000137338|\n",
      "|   ENSG00000112337|\n",
      "|   ENSG00000197279|\n",
      "|   ENSG00000010704|\n",
      "|   ENSG00000180573|\n",
      "|   ENSG00000112343|\n",
      "|   ENSG00000096654|\n",
      "|   ENSG00000180596|\n",
      "|   ENSG00000185130|\n",
      "|   ENSG00000124610|\n",
      "|   ENSG00000137185|\n",
      "|   ENSG00000168131|\n",
      "|   ENSG00000124568|\n",
      "|   ENSG00000198315|\n",
      "+------------------+\n",
      "\n"
     ]
    }
   ],
   "source": [
    "(\n",
    "    old_df\n",
    "    .filter(col('studyId') =='SAIGE_695_4')\n",
    "    .select('targetFromSourceId')\n",
    "    .distinct()\n",
    "    .show()\n",
    ")"
   ]
  },
  {
   "cell_type": "code",
   "execution_count": 22,
   "id": "e6200c8d",
   "metadata": {
    "ExecuteTime": {
     "end_time": "2021-11-19T15:00:20.750089Z",
     "start_time": "2021-11-19T15:00:20.097376Z"
    }
   },
   "outputs": [
    {
     "name": "stdout",
     "output_type": "stream",
     "text": [
      "+------------------+-------------------------+--------------------+--------------+\n",
      "|targetFromSourceId|diseaseFromSourceMappedId|       resourceScore|     variantId|\n",
      "+------------------+-------------------------+--------------------+--------------+\n",
      "|   ENSG00000124568|                     null|  0.0514032244682312|6_25769380_G_C|\n",
      "|   ENSG00000137338|                     null|0.057079605758190155|6_27846899_A_G|\n",
      "|   ENSG00000168131|                     null|  0.0694759339094162|6_27846899_A_G|\n",
      "|   ENSG00000185130|                     null|  0.1946474313735962|6_27846899_A_G|\n",
      "|   ENSG00000233822|                     null| 0.08230216801166534|6_27846899_A_G|\n",
      "|   ENSG00000146039|                     null|  0.0857049822807312|6_25769380_G_C|\n",
      "|   ENSG00000180573|                     null|  0.1071556955575943|6_25769380_G_C|\n",
      "|   ENSG00000112337|                     null| 0.22847461700439453|6_25769380_G_C|\n",
      "|   ENSG00000124610|                     null| 0.08196471631526947|6_25769380_G_C|\n",
      "|   ENSG00000112343|                     null| 0.16439850628376007|6_25769380_G_C|\n",
      "|   ENSG00000010704|                     null|  0.0561237595975399|6_25769380_G_C|\n",
      "+------------------+-------------------------+--------------------+--------------+\n",
      "\n"
     ]
    }
   ],
   "source": [
    "(\n",
    "    new_df\n",
    "    .filter(col('studyId') =='SAIGE_695_4')\n",
    "    .filter(col('resourceScore') >= 0.05)\n",
    "    .select('targetFromSourceId', 'diseaseFromSourceMappedId', 'resourceScore', 'variantId')\n",
    "    .distinct()\n",
    "    .show()\n",
    ")"
   ]
  },
  {
   "cell_type": "code",
   "execution_count": 24,
   "id": "9edd48bf",
   "metadata": {
    "ExecuteTime": {
     "end_time": "2021-11-19T15:00:37.058385Z",
     "start_time": "2021-11-19T15:00:36.694194Z"
    }
   },
   "outputs": [
    {
     "name": "stdout",
     "output_type": "stream",
     "text": [
      "+------------------+-------------------------+--------------------+--------------+\n",
      "|targetFromSourceId|diseaseFromSourceMappedId|   resourceScore_old|     variantId|\n",
      "+------------------+-------------------------+--------------------+--------------+\n",
      "|   ENSG00000096654|            MONDO_0004670| 0.05934744328260422|6_27846899_A_G|\n",
      "|   ENSG00000124610|            MONDO_0004670| 0.09076076745986938|6_25769380_G_C|\n",
      "|   ENSG00000112337|            MONDO_0004670|  0.2199445515871048|6_25769380_G_C|\n",
      "|   ENSG00000010704|            MONDO_0004670| 0.07372410595417023|6_25769380_G_C|\n",
      "|   ENSG00000180596|            MONDO_0004670|0.054590966552495956|6_25769380_G_C|\n",
      "|   ENSG00000197279|            MONDO_0004670| 0.05814579874277115|6_27846899_A_G|\n",
      "|   ENSG00000124568|            MONDO_0004670|0.059311188757419586|6_25769380_G_C|\n",
      "|   ENSG00000137338|            MONDO_0004670| 0.07066993415355682|6_27846899_A_G|\n",
      "|   ENSG00000180573|            MONDO_0004670| 0.09729931503534317|6_25769380_G_C|\n",
      "|   ENSG00000185130|            MONDO_0004670| 0.12141959369182587|6_27846899_A_G|\n",
      "|   ENSG00000168131|            MONDO_0004670| 0.07444729655981064|6_27846899_A_G|\n",
      "|   ENSG00000112343|            MONDO_0004670| 0.10739456862211227|6_25769380_G_C|\n",
      "|   ENSG00000198315|            MONDO_0004670| 0.05369184538722038|6_27846899_A_G|\n",
      "|   ENSG00000137185|            MONDO_0004670| 0.05745462700724602|6_27846899_A_G|\n",
      "+------------------+-------------------------+--------------------+--------------+\n",
      "\n"
     ]
    }
   ],
   "source": [
    "(\n",
    "    old_df\n",
    "    .filter(col('studyId') =='SAIGE_695_4')\n",
    "    .filter(col('resourceScore') >= 0.05)\n",
    "    .select('targetFromSourceId', 'diseaseFromSourceMappedId', 'resourceScore_old', 'variantId')\n",
    "    .distinct()\n",
    "    .show()\n",
    ")k "
   ]
  },
  {
   "cell_type": "markdown",
   "id": "367c680f",
   "metadata": {},
   "source": [
    "### Are there lost studies?\n",
    "\n",
    "* Let's take all the new studies, how many of them have no associations above the l2g cutoff?"
   ]
  },
  {
   "cell_type": "code",
   "execution_count": 37,
   "id": "2a672b72",
   "metadata": {
    "ExecuteTime": {
     "end_time": "2021-11-21T20:42:45.387636Z",
     "start_time": "2021-11-21T20:42:44.897655Z"
    }
   },
   "outputs": [
    {
     "name": "stdout",
     "output_type": "stream",
     "text": [
      "+-----------------+--------------------+\n",
      "|          studyId|       min_l2g_score|\n",
      "+-----------------+--------------------+\n",
      "|       GCST006993|0.036080799996852875|\n",
      "|       GCST003381| 0.04202813655138016|\n",
      "|       GCST003723| 0.03896152600646019|\n",
      "|       GCST003830|0.027043016627430916|\n",
      "|     GCST90002330| 0.02011059783399105|\n",
      "|     GCST90026213|0.023423319682478905|\n",
      "|NEALE2_20003_1189|0.033882319927215576|\n",
      "|   GCST011427_509| 0.04131009057164192|\n",
      "|   GCST005650_236|0.020931528881192207|\n",
      "|       GCST007055|0.038793694227933884|\n",
      "|     GCST005498_2|0.045617688447237015|\n",
      "|       GCST004553| 0.04202813655138016|\n",
      "|   GCST011427_405|0.020421117544174194|\n",
      "|     GCST002466_3|0.027632499113678932|\n",
      "|       GCST007952|0.026811346411705017|\n",
      "|     GCST006584_3|0.020399658009409904|\n",
      "|     GCST90014054| 0.04202813655138016|\n",
      "|       GCST005486|0.045617688447237015|\n",
      "|    GCST012353_27|0.018399110063910484|\n",
      "|       GCST011570|0.020900540053844452|\n",
      "+-----------------+--------------------+\n",
      "only showing top 20 rows\n",
      "\n"
     ]
    }
   ],
   "source": [
    "(\n",
    "    new_df\n",
    "    .groupBy('studyId')\n",
    "    .agg(\n",
    "        spark_max(col('resourceScore')).alias('min_l2g_score')\n",
    "    )\n",
    "    .filter(col('min_l2g_score') <= 0.05)\n",
    "    .show()\n",
    "#     .count() # 672\n",
    ")\n"
   ]
  },
  {
   "cell_type": "markdown",
   "id": "2e1b015a",
   "metadata": {},
   "source": [
    "How about the old dataset:"
   ]
  },
  {
   "cell_type": "code",
   "execution_count": 61,
   "id": "23d0fbb4",
   "metadata": {
    "ExecuteTime": {
     "end_time": "2021-11-21T21:55:36.467651Z",
     "start_time": "2021-11-21T21:55:35.867964Z"
    }
   },
   "outputs": [
    {
     "name": "stdout",
     "output_type": "stream",
     "text": [
      "Number of studies in the old dataset: 16429\n"
     ]
    }
   ],
   "source": [
    "print(f'Number of studies in the old dataset: {old_df.select(\"studyId\").distinct().count()}')"
   ]
  },
  {
   "cell_type": "code",
   "execution_count": 62,
   "id": "d93109af",
   "metadata": {
    "ExecuteTime": {
     "end_time": "2021-11-21T21:56:54.222061Z",
     "start_time": "2021-11-21T21:56:50.865396Z"
    }
   },
   "outputs": [
    {
     "name": "stdout",
     "output_type": "stream",
     "text": [
      "Studies found in the old dataset, but not in the new:\n",
      "26\n",
      "Studies found in the old dataset, but not in the new AFTER applying l2g threshold:\n",
      "178\n"
     ]
    }
   ],
   "source": [
    "print('Studies found in the old dataset, but not in the new:')\n",
    "print(\n",
    "    old_study_list\n",
    "    .join(new_df, on='studyId', how='leftanti')\n",
    "    .select('studyId')\n",
    "    .distinct()\n",
    "    .count()\n",
    ")\n",
    "\n",
    "print('Studies found in the old dataset, but not in the new AFTER applying l2g threshold:')\n",
    "print(\n",
    "    old_study_list\n",
    "    .join(new_df.filter(col('resourceScore') >= 0.05), on='studyId', how='leftanti')\n",
    "    .select('studyId')\n",
    "    .distinct()\n",
    "    .count()\n",
    ")"
   ]
  },
  {
   "cell_type": "code",
   "execution_count": 52,
   "id": "64dfb953",
   "metadata": {
    "ExecuteTime": {
     "end_time": "2021-11-21T21:36:07.422836Z",
     "start_time": "2021-11-21T21:36:04.431557Z"
    }
   },
   "outputs": [
    {
     "name": "stdout",
     "output_type": "stream",
     "text": [
      "Number of missing associations: 147\n",
      "Number of missing studies: 26\n",
      "Number of missing associations: 1788\n",
      "Number of missing studies: 178\n"
     ]
    }
   ],
   "source": [
    "old_missing_studies = (\n",
    "    old_df\n",
    "    .join(new_df.select('studyId').distinct(), on='studyId', how='left_anti')\n",
    "    .persist()\n",
    ")\n",
    "\n",
    "print(f'Number of missing associations: {old_missing_studies.count()}')\n",
    "print(f'Number of missing studies: {old_missing_studies.select(\"studyId\").distinct().count()}')\n",
    "\n",
    "old_missing_studies = (\n",
    "    old_df\n",
    "    .join(new_df.filter(col('resourceScore') >= 0.05).select('studyId').distinct(), on='studyId', how='left_anti')\n",
    "    .persist()\n",
    ")\n",
    "\n",
    "print(f'Number of missing associations: {old_missing_studies.count()}')\n",
    "print(f'Number of missing studies: {old_missing_studies.select(\"studyId\").distinct().count()}')\n"
   ]
  },
  {
   "cell_type": "code",
   "execution_count": null,
   "id": "190cc98c",
   "metadata": {},
   "outputs": [],
   "source": []
  }
 ],
 "metadata": {
  "kernelspec": {
   "display_name": "Python 3",
   "language": "python",
   "name": "python3"
  },
  "language_info": {
   "codemirror_mode": {
    "name": "ipython",
    "version": 3
   },
   "file_extension": ".py",
   "mimetype": "text/x-python",
   "name": "python",
   "nbconvert_exporter": "python",
   "pygments_lexer": "ipython3",
   "version": "3.9.5"
  }
 },
 "nbformat": 4,
 "nbformat_minor": 5
}
