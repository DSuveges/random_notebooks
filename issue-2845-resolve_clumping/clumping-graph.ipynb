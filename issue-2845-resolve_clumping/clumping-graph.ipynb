{
 "cells": [
  {
   "cell_type": "code",
   "execution_count": 11,
   "metadata": {},
   "outputs": [
    {
     "name": "stderr",
     "output_type": "stream",
     "text": [
      "23/02/01 14:07:53 WARN org.apache.spark.SparkContext: Spark is not running in local mode, therefore the checkpoint directory must not be on the local filesystem. Directory '<pwd_output>' appears to be on the local filesystem.\n"
     ]
    },
    {
     "name": "stdout",
     "output_type": "stream",
     "text": [
      "+-------+---------+-----------+\n",
      "|studyId|variantId|explainedBy|\n",
      "+-------+---------+-----------+\n",
      "|     s1|       v1|         v1|\n",
      "|     s1|       v2|         v2|\n",
      "|     s1|       v3|         v1|\n",
      "|     s1|       v4|         v1|\n",
      "|     s1|       v5|         v3|\n",
      "|     s1|       v6|         v3|\n",
      "|     s1|       v6|         v2|\n",
      "|     s1|       v7|         v7|\n",
      "|     s1|       v8|         v7|\n",
      "|     s1|       v9|         v5|\n",
      "+-------+---------+-----------+\n",
      "\n",
      "+-------+---+---------+\n",
      "|studyId| id| leadType|\n",
      "+-------+---+---------+\n",
      "|     s1| v3|explained|\n",
      "|     s1| v4|explained|\n",
      "|     s1| v6|explained|\n",
      "|     s1| v2|     root|\n",
      "|     s1| v8|explained|\n",
      "|     s1| v1|     root|\n",
      "|     s1| v7|     root|\n",
      "|     s1| v9|explained|\n",
      "|     s1| v5|explained|\n",
      "+-------+---+---------+\n",
      "\n",
      "+---+---+--------+\n",
      "|src|dst|edgeType|\n",
      "+---+---+--------+\n",
      "| v6| v2|explains|\n",
      "| v9| v5|explains|\n",
      "| v2| v2|explains|\n",
      "| v5| v3|explains|\n",
      "| v8| v7|explains|\n",
      "| v7| v7|explains|\n",
      "| v6| v3|explains|\n",
      "| v4| v1|explains|\n",
      "| v3| v1|explains|\n",
      "| v1| v1|explains|\n",
      "+---+---+--------+\n",
      "\n"
     ]
    }
   ],
   "source": [
    "from pyspark.sql import SparkSession, functions as f, types as t, Column, DataFrame\n",
    "from pyspark.sql.window import Window\n",
    "from graphframes import GraphFrame\n",
    "\n",
    "spark = SparkSession.builder.getOrCreate()\n",
    "\n",
    "# GraphFrames needs this:\n",
    "spark.sparkContext.setCheckpointDir('<pwd_output>')\n",
    "\n",
    "\n",
    "data = [\n",
    "    ('s1', 'v1', 'v1'),\n",
    "    ('s1', 'v2', 'v2'),\n",
    "    ('s1', 'v3', 'v1'),\n",
    "    ('s1', 'v4', 'v1'),\n",
    "    ('s1', 'v5', 'v3'),\n",
    "    ('s1', 'v6', 'v3'),\n",
    "    ('s1', 'v6', 'v2'),\n",
    "    ('s1', 'v7', 'v7'),\n",
    "    ('s1', 'v8', 'v7'),\n",
    "    ('s1', 'v9', 'v5'),\n",
    "]\n",
    "\n",
    "colnames = ['studyId', 'variantId', 'explainedBy']\n",
    "\n",
    "df = spark.createDataFrame(data, colnames).persist()\n",
    "df.show()\n",
    "\n",
    "\n",
    "# Convert to vertices:\n",
    "nodes = (\n",
    "    df\n",
    "    .select(\n",
    "        'studyId',\n",
    "        f.col('variantId').alias('id'),\n",
    "        f.when(f.col('variantId') == f.col('explainedBy'), 'root').otherwise('explained').alias('leadType')\n",
    "    )\n",
    "    .distinct()\n",
    "    .persist()\n",
    ")\n",
    "nodes.show()\n",
    "\n",
    "\n",
    "# Convert to edges (more significant points to less significant):\n",
    "edges = (\n",
    "    df\n",
    "    .select(\n",
    "        f.col('variantId').alias('src'),\n",
    "        f.col('explainedBy').alias('dst'),\n",
    "        f.lit('explains').alias('edgeType')\n",
    "    )\n",
    "    .distinct()\n",
    "    .persist()\n",
    ")\n",
    "edges.show()\n",
    "\n",
    "graph = GraphFrame(nodes, edges)"
   ]
  },
  {
   "cell_type": "code",
   "execution_count": 13,
   "metadata": {},
   "outputs": [
    {
     "name": "stdout",
     "output_type": "stream",
     "text": [
      "+-------------------+------------------+--------------+\n",
      "|               from|                e0|            to|\n",
      "+-------------------+------------------+--------------+\n",
      "|{s1, v3, explained}|{v3, v1, explains}|{s1, v1, root}|\n",
      "|{s1, v4, explained}|{v4, v1, explains}|{s1, v1, root}|\n",
      "|{s1, v6, explained}|{v6, v2, explains}|{s1, v2, root}|\n",
      "|{s1, v8, explained}|{v8, v7, explains}|{s1, v7, root}|\n",
      "+-------------------+------------------+--------------+\n",
      "\n"
     ]
    }
   ],
   "source": [
    "\n",
    "paths = graph.bfs('leadType == \"explained\"', 'leadType == \"root\"', maxPathLength=30)\n",
    "paths.show(100)"
   ]
  },
  {
   "cell_type": "code",
   "execution_count": 19,
   "metadata": {},
   "outputs": [
    {
     "name": "stderr",
     "output_type": "stream",
     "text": [
      "23/02/01 14:56:36 WARN org.apache.spark.sql.execution.CacheManager: Asked to cache already cached data.\n",
      "23/02/01 14:56:36 WARN org.apache.spark.sql.execution.CacheManager: Asked to cache already cached data.\n",
      "23/02/01 14:56:36 WARN org.apache.spark.sql.execution.CacheManager: Asked to cache already cached data.\n",
      "23/02/01 14:56:36 WARN org.apache.spark.sql.execution.CacheManager: Asked to cache already cached data.\n",
      "23/02/01 14:56:36 WARN org.apache.spark.sql.execution.CacheManager: Asked to cache already cached data.\n",
      "23/02/01 14:56:37 WARN org.apache.spark.sql.execution.CacheManager: Asked to cache already cached data.\n",
      "23/02/01 14:56:37 WARN org.apache.spark.sql.execution.CacheManager: Asked to cache already cached data.\n",
      "23/02/01 14:56:37 WARN org.apache.spark.sql.execution.CacheManager: Asked to cache already cached data.\n",
      "                                                                                \r"
     ]
    },
    {
     "name": "stdout",
     "output_type": "stream",
     "text": [
      "+-------+---+---------+------------+-----------+\n",
      "|studyId| id| leadType|   component|explainedBy|\n",
      "+-------+---+---------+------------+-----------+\n",
      "|     s1| v4|explained|309237645312|   [v2, v1]|\n",
      "|     s1| v2|     root|309237645312|   [v2, v1]|\n",
      "|     s1| v5|explained|309237645312|   [v2, v1]|\n",
      "|     s1| v3|explained|309237645312|   [v2, v1]|\n",
      "|     s1| v6|explained|309237645312|   [v2, v1]|\n",
      "|     s1| v1|     root|309237645312|   [v2, v1]|\n",
      "|     s1| v9|explained|309237645312|   [v2, v1]|\n",
      "|     s1| v7|     root|206158430208|       [v7]|\n",
      "|     s1| v8|explained|206158430208|       [v7]|\n",
      "+-------+---+---------+------------+-----------+\n",
      "\n"
     ]
    }
   ],
   "source": [
    "(\n",
    "    graph\n",
    "    .connectedComponents()\n",
    "    .withColumn(\n",
    "        'explainedBy',\n",
    "        f.collect_set(f.when(f.col('leadType') =='root', f.col('id'))).over(Window.partitionBy('component'))\n",
    "    )\n",
    "    .show()\n",
    ")"
   ]
  },
  {
   "cell_type": "code",
   "execution_count": 23,
   "metadata": {},
   "outputs": [
    {
     "name": "stderr",
     "output_type": "stream",
     "text": [
      "[Stage 1116:==================================================>   (16 + 1) / 17]\r"
     ]
    },
    {
     "name": "stdout",
     "output_type": "stream",
     "text": [
      "+----------+----------------+--------------+--------------+--------------------+---------+--------------------+\n",
      "|   studyId|       variantId|pValueMantissa|pValueExponent|        tagVariantId|R_overall|      qualityControl|\n",
      "+----------+----------------+--------------+--------------+--------------------+---------+--------------------+\n",
      "|GCST004860|10_119029751_G_C|           6.0|            -6|    10_119112913_G_A|-0.789116|[Subsignificant p...|\n",
      "|GCST004860|10_119134504_C_T|           6.0|            -6|    10_119029218_G_A|-0.789984|[Subsignificant p...|\n",
      "|GCST004860|10_119064457_T_C|           2.0|            -7|10_119044943_CTTT...| 0.847645|[Subsignificant p...|\n",
      "|GCST004860| X_107370118_A_G|           2.0|            -7|     X_107363685_T_G| 0.818858|[Subsignificant p...|\n",
      "|GCST004860| X_107370118_A_G|           2.0|            -7|    X_107149542_CA_C| 0.745002|[Subsignificant p...|\n",
      "|GCST004860| X_107370118_A_G|           2.0|            -7|     X_107107919_A_G|  0.73615|[Subsignificant p...|\n",
      "|GCST004860| X_107370118_A_G|           2.0|            -7|     X_107408907_G_C| 0.725248|[Subsignificant p...|\n",
      "|GCST004860| 15_69857219_C_T|           8.0|            -6|     15_69877594_T_C| 0.755547|[Subsignificant p...|\n",
      "|GCST004860|  1_15410646_G_A|           6.0|            -6|      1_15375938_C_T| 0.761827|[Subsignificant p...|\n",
      "|GCST004860| X_106585073_C_T|           8.0|            -6|     X_107161940_T_G|  0.87271|[Subsignificant p...|\n",
      "|GCST004860|10_119025482_G_T|           7.0|            -6|    10_119029218_G_A| 0.799814|[Subsignificant p...|\n",
      "|GCST004860|10_119025482_G_T|           7.0|            -6|    10_119068783_G_C| 0.770287|[Subsignificant p...|\n",
      "|GCST004860|10_119025482_G_T|           7.0|            -6|    10_119104427_C_A|-0.716737|[Subsignificant p...|\n",
      "|GCST004860| X_107289163_G_C|           2.0|            -8|     X_107155425_G_A| 0.912979|[Palindrome allel...|\n",
      "|GCST004860| X_107289163_G_C|           2.0|            -8|     X_107060786_G_A| 0.893824|[Palindrome allel...|\n",
      "|GCST004860| X_107289163_G_C|           2.0|            -8|     X_107329405_A_G| 0.882586|[Palindrome allel...|\n",
      "|GCST004860| X_107289163_G_C|           2.0|            -8|    X_107056899_G_GA| 0.801232|[Palindrome allel...|\n",
      "|GCST004860| 16_75188108_G_C|           5.0|            -6|     16_75186365_C_T| 0.942803|[Subsignificant p...|\n",
      "|GCST004860| 7_142652944_A_G|           6.0|            -7|     7_142666075_A_G|  0.94088|[Subsignificant p...|\n",
      "|GCST004860| 7_142652944_A_G|           6.0|            -7|     7_142666532_T_G| 0.939227|[Subsignificant p...|\n",
      "+----------+----------------+--------------+--------------+--------------------+---------+--------------------+\n",
      "only showing top 20 rows\n",
      "\n"
     ]
    },
    {
     "name": "stderr",
     "output_type": "stream",
     "text": [
      "                                                                                \r"
     ]
    }
   ],
   "source": [
    "study = ''\n",
    "ld_set = spark.read.parquet(\"gs://genetics_etl_python_playground/XX.XX/output/python_etl/parquet/pics_credible_set_not_clumped/\")\n",
    "# ld_set.show()\n",
    "\n",
    "\n",
    "dataset = (\n",
    "    ld_set\n",
    "    .select('studyId', 'variantId', 'pValueMantissa', 'pValueExponent', 'tagVariantId', 'R_overall', 'qualityControl')\n",
    "    .distinct()\n",
    "    .filter(f.col('studyId') == 'GCST004860')\n",
    "    .persist()\n",
    ")\n",
    "\n",
    "dataset.show()"
   ]
  },
  {
   "cell_type": "code",
   "execution_count": 3,
   "metadata": {},
   "outputs": [
    {
     "name": "stderr",
     "output_type": "stream",
     "text": [
      "23/02/06 16:25:10 WARN org.apache.spark.sql.execution.CacheManager: Asked to cache already cached data.\n"
     ]
    },
    {
     "name": "stdout",
     "output_type": "stream",
     "text": [
      "-RECORD 0---------------------------------------\n",
      " chromosome          | 1                        \n",
      " position            | 4255144                  \n",
      " referenceAllele     | G                        \n",
      " alternateAllele     | T                        \n",
      " variantId           | 1_4255144_G_T            \n",
      " studyId             | GCST000082               \n",
      " pValueMantissa      | 8.0                      \n",
      " pValueExponent      | -6                       \n",
      " beta                | null                     \n",
      " beta_ci_lower       | null                     \n",
      " beta_ci_upper       | null                     \n",
      " odds_ratio          | null                     \n",
      " odds_ratio_ci_lower | null                     \n",
      " odds_ratio_ci_upper | null                     \n",
      " qualityControl      | [Subsignificant p-value] \n",
      "only showing top 1 row\n",
      "\n"
     ]
    },
    {
     "name": "stderr",
     "output_type": "stream",
     "text": [
      "[Stage 17:=============================>                            (2 + 2) / 4]\r"
     ]
    },
    {
     "name": "stdout",
     "output_type": "stream",
     "text": [
      "+-------------------------------------+\n",
      "|QC                                   |\n",
      "+-------------------------------------+\n",
      "|Composite association                |\n",
      "|Variant inconsistency                |\n",
      "|No mapping in GnomAd                 |\n",
      "|Palindrome alleles - cannot harmonize|\n",
      "|Incomplete genomic mapping           |\n",
      "|Ambiguous association                |\n",
      "|Subsignificant p-value               |\n",
      "+-------------------------------------+\n",
      "\n"
     ]
    },
    {
     "name": "stderr",
     "output_type": "stream",
     "text": [
      "                                                                                \r"
     ]
    }
   ],
   "source": [
    "from pyspark.sql import SparkSession, functions as f, types as t, Column, DataFrame\n",
    "from pyspark.sql.window import Window\n",
    "\n",
    "spark = SparkSession.builder.getOrCreate()\n",
    "associations = spark.read.parquet('gs://genetics_etl_python_playground/XX.XX/output/python_etl/parquet/gwas_catalog_associations/').persist()\n",
    "associations.show(1, False, True)\n",
    "\n",
    "(\n",
    "    associations\n",
    "    .select(f.explode('qualityControl').alias('QC'))\n",
    "    .distinct()\n",
    "    .show(1000, truncate=False)\n",
    ")"
   ]
  },
  {
   "cell_type": "code",
   "execution_count": 9,
   "metadata": {},
   "outputs": [
    {
     "name": "stdout",
     "output_type": "stream",
     "text": [
      "+------------+--------------+----------+--------+--------------+--------------+\n",
      "|studyId     |variantId     |chromosome|position|pValueMantissa|pValueExponent|\n",
      "+------------+--------------+----------+--------+--------------+--------------+\n",
      "|GCST001356  |rs2070676     |null      |null    |1.0           |-7            |\n",
      "|GCST002337  |kgp20555366   |null      |null    |3.0           |-6            |\n",
      "|GCST002337  |kgp6466428    |null      |null    |6.0           |-7            |\n",
      "|GCST002594_1|chr6:7026945  |null      |null    |8.0           |-6            |\n",
      "|GCST002927  |chr17:43704790|null      |null    |6.0           |-6            |\n",
      "+------------+--------------+----------+--------+--------------+--------------+\n",
      "only showing top 5 rows\n",
      "\n"
     ]
    }
   ],
   "source": [
    "(\n",
    "    associations\n",
    "    .filter(f.array_contains(f.col('qualityControl'), 'Incomplete genomic mapping'))\n",
    "    .select('studyId', 'variantId', 'chromosome','position', 'pValueMantissa', 'pValueExponent')\n",
    "    .show(5, truncate=False)\n",
    ")"
   ]
  },
  {
   "cell_type": "code",
   "execution_count": 36,
   "metadata": {},
   "outputs": [
    {
     "data": {
      "text/plain": [
       "702"
      ]
     },
     "execution_count": 36,
     "metadata": {},
     "output_type": "execute_result"
    }
   ],
   "source": [
    "(\n",
    "    associations\n",
    "    .filter(\n",
    "        f.array_contains(f.col('qualityControl'), 'Ambiguous association')\n",
    "        & (~f.array_contains(f.col('qualityControl'),'No mapping in GnomAd'))\n",
    "    )\n",
    "    .select('studyId', 'variantId', 'chromosome','position', 'pValueMantissa', 'pValueExponent')\n",
    "    # .show(40, truncate=False)\n",
    "    .count()\n",
    ")"
   ]
  },
  {
   "cell_type": "code",
   "execution_count": 31,
   "metadata": {},
   "outputs": [
    {
     "name": "stdout",
     "output_type": "stream",
     "text": [
      "+-------------+---------------+----------+---------+---------------+---------------+\n",
      "|studyId      |variantId      |chromosome|position |referenceAllele|alternateAllele|\n",
      "+-------------+---------------+----------+---------+---------------+---------------+\n",
      "|GCST000618_4 |5_91003406_G_C |5         |91003406 |G              |C              |\n",
      "|GCST000703   |12_4497002_T_A |12        |4497002  |T              |A              |\n",
      "|GCST000712   |6_20687890_T_A |6         |20687890 |T              |A              |\n",
      "|GCST001308_2 |2_14257928_G_C |2         |14257928 |G              |C              |\n",
      "|GCST001356   |20_46604118_T_A|20        |46604118 |T              |A              |\n",
      "|GCST001524_1 |9_26208859_G_C |9         |26208859 |G              |C              |\n",
      "|GCST001848_17|5_157388755_G_C|5         |157388755|G              |C              |\n",
      "|GCST001850_7 |12_13367062_G_C|12        |13367062 |G              |C              |\n",
      "|GCST002221   |1_234722850_A_T|1         |234722850|A              |T              |\n",
      "|GCST002500   |16_4205179_G_C |16        |4205179  |G              |C              |\n",
      "+-------------+---------------+----------+---------+---------------+---------------+\n",
      "only showing top 10 rows\n",
      "\n"
     ]
    }
   ],
   "source": [
    "(\n",
    "    associations\n",
    "    .filter(\n",
    "        f.array_contains(f.col('qualityControl'), 'Palindrome alleles - cannot harmonize') \n",
    "    )\n",
    "    .select('studyId', 'variantId', 'chromosome','position', 'referenceAllele', 'alternateAllele')\n",
    "    .show(10, truncate=False)\n",
    "    # .count()\n",
    ")"
   ]
  },
  {
   "cell_type": "code",
   "execution_count": 39,
   "metadata": {},
   "outputs": [
    {
     "name": "stderr",
     "output_type": "stream",
     "text": [
      "[Stage 74:>                                                         (0 + 1) / 1]\r"
     ]
    },
    {
     "name": "stdout",
     "output_type": "stream",
     "text": [
      "+----------+--------------------+------------+--------+---------------+---------------+--------------+--------------+----------+-------------------+--------------------+----------+-------------------+-------------------+--------------------+------------+---------+-------+--------+-------------+--------------------+--------------------+\n",
      "|chromosome|           variantId|     studyId|position|referenceAllele|alternateAllele|pValueMantissa|pValueExponent|      beta|      beta_ci_lower|       beta_ci_upper|odds_ratio|odds_ratio_ci_lower|odds_ratio_ci_upper|      qualityControl|tagVariantId|R_overall|pics_mu|pics_std|pics_postprob|pics_95_perc_credset|pics_99_perc_credset|\n",
      "+----------+--------------------+------------+--------+---------------+---------------+--------------+--------------+----------+-------------------+--------------------+----------+-------------------+-------------------+--------------------+------------+---------+-------+--------+-------------+--------------------+--------------------+\n",
      "|      null|       Chr11:5232745|  GCST000069|    null|           null|           null|           2.0|           -38|      null|               null|                null|      10.2|  7.179475623667157| 14.491309038926445|[Incomplete genom...|        null|     null|   null|    null|         null|               false|               false|\n",
      "|      null|            rs652722|  GCST001415|    null|           null|           null|           8.0|            -8|      2.75|  1.745738661840661|  3.7542613381593393|      null|               null|               null|[Subsignificant p...|        null|     null|   null|    null|         null|               false|               false|\n",
      "|      null|      chr3:130947635|  GCST001585|    null|           null|           null|           5.0|            -7|     2.299| 1.4025098382971843|  3.1954901617028155|      null|               null|               null|[Subsignificant p...|        null|     null|   null|    null|         null|               false|               false|\n",
      "|      null|         kgp18237904|  GCST002337|    null|           null|           null|           6.0|            -6|      null|               null|                null|      null|               null|               null|[Subsignificant p...|        null|     null|   null|    null|         null|               false|               false|\n",
      "|      null|            rs766432|GCST002536_1|    null|           null|           null|           3.0|           -10|      null|               null|                null|      null|               null|               null|[Incomplete genom...|        null|     null|   null|    null|         null|               false|               false|\n",
      "|      null|           rs7267348|  GCST002539|    null|           null|           null|           5.0|            -8|      null|               null|                null| 1.0672358| 1.0425561649755755| 1.0924996571559515|[Incomplete genom...|        null|     null|   null|    null|         null|               false|               false|\n",
      "|      null|      chr11:20955053|  GCST002589|    null|           null|           null|           2.0|            -6|   -0.8951|-1.2641804645514294| -0.5260195354485706|      null|               null|               null|[Subsignificant p...|        null|     null|   null|    null|         null|               false|               false|\n",
      "|      null|       chr3:16865013|  GCST002589|    null|           null|           null|           8.0|            -7|    1.3092| 0.7892727694123485|  1.8291272305876514|      null|               null|               null|[Subsignificant p...|        null|     null|   null|    null|         null|               false|               false|\n",
      "|      null|       chr8:37485751|  GCST002932|    null|           null|           null|           4.0|            -6|    -0.419|-0.5970897600170411|-0.24091023998295893|      null|               null|               null|[Subsignificant p...|        null|     null|   null|    null|         null|               false|               false|\n",
      "|      null|       chr2:66586934|  GCST002934|    null|           null|           null|           8.0|            -7|    -0.236|-0.3297235154435424|-0.14227648455645756|      null|               null|               null|[Subsignificant p...|        null|     null|   null|    null|         null|               false|               false|\n",
      "|      null|      chr12:55411303|  GCST002935|    null|           null|           null|           1.0|            -6|      1.16| 0.6952068427097934|  1.6247931572902066|      null|               null|               null|[Subsignificant p...|        null|     null|   null|    null|         null|               false|               false|\n",
      "|      null|      chr4:148303054|  GCST002935|    null|           null|           null|           2.0|            -6|      1.07|  0.628802260004436|   1.511197739995564|      null|               null|               null|[Subsignificant p...|        null|     null|   null|    null|         null|               false|               false|\n",
      "|      null|rs8073077; rs1048...|  GCST002960|    null|           null|           null|           7.0|            -6|      null|               null|                null|      1.44|  1.228258991484925| 1.6882432893840131|[Subsignificant p...|        null|     null|   null|    null|         null|               false|               false|\n",
      "|      null|           rs1509378|  GCST003048|    null|           null|           null|           2.0|            -7|      null|               null|                null|      1.06| 1.0369702220905128| 1.0835412397232038|[Subsignificant p...|        null|     null|   null|    null|         null|               false|               false|\n",
      "|      null|         kgp10698118|  GCST003239|    null|           null|           null|           1.0|            -6|    -0.046|-0.0644314527890944| -0.0275685472109056|      null|               null|               null|[Subsignificant p...|        null|     null|   null|    null|         null|               false|               false|\n",
      "|      null|      HLA-DQB1*02:02|  GCST003251|    null|           null|           null|           9.0|            -6|      null|               null|                null|      1.66| 1.3272144700201673|  2.076228117041346|[Subsignificant p...|        null|     null|   null|    null|         null|               false|               false|\n",
      "|      null|          rs12191877|  GCST003270|    null|           null|           null|           2.0|           -99|      null|               null|                null|     2.416| 2.3072460636140075| 2.5298801424140236|[Incomplete genom...|        null|     null|   null|    null|         null|               false|               false|\n",
      "|      null|      chr5:103538711|  GCST003487|    null|           null|           null|           9.0|            -6|   0.01521|0.00849552721439642| 0.02192447278560358|      null|               null|               null|[Subsignificant p...|        null|     null|   null|    null|         null|               false|               false|\n",
      "|      null|      chr16:64525400|  GCST003783|    null|           null|           null|           9.0|            -6|      null|               null|                null|      1.97| 1.4604064978676474| 2.6574108001207444|[Subsignificant p...|        null|     null|   null|    null|         null|               false|               false|\n",
      "|      null|      chr3:184090266|  GCST004603|    null|           null|           null|           7.0|           -65|0.06210831|0.05886538781418322| 0.06535123218581679|      null|               null|               null|[Incomplete genom...|        null|     null|   null|    null|         null|               false|               false|\n",
      "+----------+--------------------+------------+--------+---------------+---------------+--------------+--------------+----------+-------------------+--------------------+----------+-------------------+-------------------+--------------------+------------+---------+-------+--------+-------------+--------------------+--------------------+\n",
      "only showing top 20 rows\n",
      "\n"
     ]
    },
    {
     "name": "stderr",
     "output_type": "stream",
     "text": [
      "                                                                                \r"
     ]
    }
   ],
   "source": [
    "ld = spark.read.parquet('gs://genetics_etl_python_playground/XX.XX/output/python_etl/parquet/pics_credible_set_clumped/').persist()\n",
    "ld.show()"
   ]
  },
  {
   "cell_type": "code",
   "execution_count": 42,
   "metadata": {},
   "outputs": [
    {
     "name": "stderr",
     "output_type": "stream",
     "text": [
      "[Stage 81:===================================================>    (11 + 1) / 12]\r"
     ]
    },
    {
     "name": "stdout",
     "output_type": "stream",
     "text": [
      "+-------------------------------------+\n",
      "|col                                  |\n",
      "+-------------------------------------+\n",
      "|Composite association                |\n",
      "|Variant inconsistency                |\n",
      "|No mapping in GnomAd                 |\n",
      "|Palindrome alleles - cannot harmonize|\n",
      "|Incomplete genomic mapping           |\n",
      "|Association explained                |\n",
      "|Ambiguous association                |\n",
      "|Credible set not resolved            |\n",
      "|Subsignificant p-value               |\n",
      "+-------------------------------------+\n",
      "\n"
     ]
    },
    {
     "name": "stderr",
     "output_type": "stream",
     "text": [
      "                                                                                \r"
     ]
    }
   ],
   "source": [
    "(\n",
    "    ld\n",
    "    .select(f.explode('qualityControl').alias('col'))\n",
    "    .withColumn('col', f.when(f.col('col').startswith('Association explained'),'Association explained').otherwise(f.col('col')))    \n",
    "    .distinct()\n",
    "    .show(10, truncate=False)\n",
    ")"
   ]
  },
  {
   "cell_type": "code",
   "execution_count": 44,
   "metadata": {},
   "outputs": [
    {
     "name": "stderr",
     "output_type": "stream",
     "text": [
      "                                                                                \r"
     ]
    },
    {
     "data": {
      "text/plain": [
       "281972"
      ]
     },
     "execution_count": 44,
     "metadata": {},
     "output_type": "execute_result"
    }
   ],
   "source": [
    "(\n",
    "    ld\n",
    "    .filter(\n",
    "        f.col('tagVariantId').isNotNull() & ~f.array_contains(f.col('qualityControl'), 'Subsignificant p-value')\n",
    "    )\n",
    "    .select('studyId', 'variantId')\n",
    "    .distinct()\n",
    "    .count()\n",
    ")"
   ]
  },
  {
   "cell_type": "code",
   "execution_count": null,
   "metadata": {},
   "outputs": [],
   "source": []
  }
 ],
 "metadata": {
  "kernelspec": {
   "display_name": "Python 3",
   "language": "python",
   "name": "python3"
  },
  "language_info": {
   "codemirror_mode": {
    "name": "ipython",
    "version": 3
   },
   "file_extension": ".py",
   "mimetype": "text/x-python",
   "name": "python",
   "nbconvert_exporter": "python",
   "pygments_lexer": "ipython3",
   "version": "3.8.15 | packaged by conda-forge | (default, Nov 22 2022, 08:46:39) \n[GCC 10.4.0]"
  },
  "orig_nbformat": 4,
  "vscode": {
   "interpreter": {
    "hash": "de3a7304373a2ed386fe951c9137ef8d6c9c0656a76027db0e908c100510c9c7"
   }
  }
 },
 "nbformat": 4,
 "nbformat_minor": 2
}
