{
 "cells": [
  {
   "cell_type": "code",
   "execution_count": 1,
   "metadata": {
    "ExecuteTime": {
     "end_time": "2020-11-27T20:40:55.069940Z",
     "start_time": "2020-11-27T20:40:54.079308Z"
    }
   },
   "outputs": [
    {
     "data": {
      "text/html": [
       "<div>\n",
       "<style scoped>\n",
       "    .dataframe tbody tr th:only-of-type {\n",
       "        vertical-align: middle;\n",
       "    }\n",
       "\n",
       "    .dataframe tbody tr th {\n",
       "        vertical-align: top;\n",
       "    }\n",
       "\n",
       "    .dataframe thead th {\n",
       "        text-align: right;\n",
       "    }\n",
       "</style>\n",
       "<table border=\"1\" class=\"dataframe\">\n",
       "  <thead>\n",
       "    <tr style=\"text-align: right;\">\n",
       "      <th></th>\n",
       "      <th>ctype</th>\n",
       "      <th>gene</th>\n",
       "      <th>mut.freq.dataset</th>\n",
       "      <th>pathway</th>\n",
       "      <th>mut.freq.in.path</th>\n",
       "      <th>SLAPEnrichPval</th>\n",
       "      <th>FDR %</th>\n",
       "      <th>logOdds</th>\n",
       "      <th>ExcCo</th>\n",
       "    </tr>\n",
       "  </thead>\n",
       "  <tbody>\n",
       "    <tr>\n",
       "      <th>0</th>\n",
       "      <td>ALL</td>\n",
       "      <td>ACIN1</td>\n",
       "      <td>0.826</td>\n",
       "      <td>R-HSA-141444: Apoptosis</td>\n",
       "      <td>6.25</td>\n",
       "      <td>0.002650</td>\n",
       "      <td>2.300</td>\n",
       "      <td>0.330</td>\n",
       "      <td>100.0</td>\n",
       "    </tr>\n",
       "    <tr>\n",
       "      <th>1</th>\n",
       "      <td>ALL</td>\n",
       "      <td>ACIN1</td>\n",
       "      <td>0.826</td>\n",
       "      <td>R-HSA-8849472: Programmed Cell Death</td>\n",
       "      <td>6.25</td>\n",
       "      <td>0.004370</td>\n",
       "      <td>3.000</td>\n",
       "      <td>0.300</td>\n",
       "      <td>100.0</td>\n",
       "    </tr>\n",
       "    <tr>\n",
       "      <th>2</th>\n",
       "      <td>ALL</td>\n",
       "      <td>ACTR1A</td>\n",
       "      <td>0.826</td>\n",
       "      <td>R-HSA-167161: Immune System</td>\n",
       "      <td>1.16</td>\n",
       "      <td>0.000812</td>\n",
       "      <td>1.300</td>\n",
       "      <td>0.088</td>\n",
       "      <td>59.0</td>\n",
       "    </tr>\n",
       "    <tr>\n",
       "      <th>3</th>\n",
       "      <td>ALL</td>\n",
       "      <td>ADAR</td>\n",
       "      <td>0.826</td>\n",
       "      <td>R-HSA-2894862: Cytokine Signaling in Immune sy...</td>\n",
       "      <td>1.79</td>\n",
       "      <td>0.000017</td>\n",
       "      <td>0.068</td>\n",
       "      <td>0.200</td>\n",
       "      <td>89.0</td>\n",
       "    </tr>\n",
       "    <tr>\n",
       "      <th>4</th>\n",
       "      <td>ALL</td>\n",
       "      <td>ADAR</td>\n",
       "      <td>0.826</td>\n",
       "      <td>R-HSA-167161: Immune System</td>\n",
       "      <td>1.16</td>\n",
       "      <td>0.000812</td>\n",
       "      <td>1.300</td>\n",
       "      <td>0.088</td>\n",
       "      <td>59.0</td>\n",
       "    </tr>\n",
       "  </tbody>\n",
       "</table>\n",
       "</div>"
      ],
      "text/plain": [
       "  ctype    gene  mut.freq.dataset  \\\n",
       "0   ALL   ACIN1             0.826   \n",
       "1   ALL   ACIN1             0.826   \n",
       "2   ALL  ACTR1A             0.826   \n",
       "3   ALL    ADAR             0.826   \n",
       "4   ALL    ADAR             0.826   \n",
       "\n",
       "                                             pathway  mut.freq.in.path  \\\n",
       "0                            R-HSA-141444: Apoptosis              6.25   \n",
       "1               R-HSA-8849472: Programmed Cell Death              6.25   \n",
       "2                        R-HSA-167161: Immune System              1.16   \n",
       "3  R-HSA-2894862: Cytokine Signaling in Immune sy...              1.79   \n",
       "4                        R-HSA-167161: Immune System              1.16   \n",
       "\n",
       "   SLAPEnrichPval  FDR %  logOdds  ExcCo  \n",
       "0        0.002650  2.300    0.330  100.0  \n",
       "1        0.004370  3.000    0.300  100.0  \n",
       "2        0.000812  1.300    0.088   59.0  \n",
       "3        0.000017  0.068    0.200   89.0  \n",
       "4        0.000812  1.300    0.088   59.0  "
      ]
     },
     "execution_count": 1,
     "metadata": {},
     "output_type": "execute_result"
    }
   ],
   "source": [
    "import pandas as pd\n",
    "\n",
    "df = pd.read_csv('/Users/dsuveges/repositories/evidence_datasource_parsers/resources/slapenrich_opentargets.tsv', sep='\\t')\n",
    "df.head()"
   ]
  },
  {
   "cell_type": "code",
   "execution_count": 5,
   "metadata": {
    "ExecuteTime": {
     "end_time": "2020-11-27T20:42:29.375340Z",
     "start_time": "2020-11-27T20:42:29.332173Z"
    }
   },
   "outputs": [
    {
     "data": {
      "text/plain": [
       "array(['ADCY1', 'ADCY2', 'ADCY3', 'ADCY4', 'ADCY5', 'ADCY6', 'ADCY7',\n",
       "       'ADCY8', 'ADCY9', 'ADCYAP1R1'], dtype=object)"
      ]
     },
     "execution_count": 5,
     "metadata": {},
     "output_type": "execute_result"
    }
   ],
   "source": [
    "df.gene.loc[df.gene.str.startswith('ADCY')].unique()"
   ]
  },
  {
   "cell_type": "code",
   "execution_count": 6,
   "metadata": {
    "ExecuteTime": {
     "end_time": "2020-11-27T21:15:19.672467Z",
     "start_time": "2020-11-27T21:15:19.648869Z"
    }
   },
   "outputs": [
    {
     "data": {
      "text/plain": [
       "90431"
      ]
     },
     "execution_count": 6,
     "metadata": {},
     "output_type": "execute_result"
    }
   ],
   "source": [
    "len(df)"
   ]
  },
  {
   "cell_type": "code",
   "execution_count": null,
   "metadata": {},
   "outputs": [],
   "source": []
  }
 ],
 "metadata": {
  "kernelspec": {
   "display_name": "Python 3",
   "language": "python",
   "name": "python3"
  },
  "language_info": {
   "codemirror_mode": {
    "name": "ipython",
    "version": 3
   },
   "file_extension": ".py",
   "mimetype": "text/x-python",
   "name": "python",
   "nbconvert_exporter": "python",
   "pygments_lexer": "ipython3",
   "version": "3.6.10"
  }
 },
 "nbformat": 4,
 "nbformat_minor": 4
}
