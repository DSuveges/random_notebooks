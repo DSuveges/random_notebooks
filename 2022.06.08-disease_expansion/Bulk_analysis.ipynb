{
 "cells": [
  {
   "cell_type": "markdown",
   "id": "113ee3c3",
   "metadata": {},
   "source": [
    "# Bulk data process\n",
    "\n",
    "1. Read associations\n",
    "2. Drop all mouse evidence\n",
    "3. Group by associations\n",
    "4. Calculate harmonic sum to get association score\n",
    "5. Annotate disease if haematologically relevant or not\n",
    "\n",
    "\n",
    "## For stats\n",
    "\n",
    "1. Get a relevant set of genes from reactome\n",
    "2. Generate an equivalent set of genes by random\n",
    "\n",
    "## Stats\n",
    "\n",
    "1. Apply score threshold for association -> Get average count of hematological diseases\n",
    "2. Apply score threshold for association -> for each gene, compare median association for every vs. hematological traits. -> calculate average\n",
    "3. "
   ]
  },
  {
   "cell_type": "code",
   "execution_count": 3,
   "id": "0f1bef24",
   "metadata": {
    "ExecuteTime": {
     "end_time": "2022-07-05T06:39:12.749499Z",
     "start_time": "2022-07-05T06:39:11.461055Z"
    }
   },
   "outputs": [
    {
     "name": "stdout",
     "output_type": "stream",
     "text": [
      "-rw-r--r--  1 dsuveges  384566875   2.4M 24 Jun 11:17 diseases_efo.json\n"
     ]
    },
    {
     "name": "stderr",
     "output_type": "stream",
     "text": [
      "--2022-07-05 07:39:11--  https://platform.opentargets.org/data/ontology/efo_json/diseases_efo.jsonl\n",
      "Resolving platform.opentargets.org (platform.opentargets.org)... 35.201.119.159\n",
      "Connecting to platform.opentargets.org (platform.opentargets.org)|35.201.119.159|:443... connected.\n",
      "HTTP request sent, awaiting response... 200 OK\n",
      "Length: 2541582 (2.4M) [application/octet-stream]\n",
      "Saving to: ‘diseases_efo.json’\n",
      "\n",
      "     0K .......... .......... .......... .......... ..........  2% 4.86M 0s\n",
      "    50K .......... .......... .......... .......... ..........  4% 3.50M 1s\n",
      "   100K .......... .......... .......... .......... ..........  6% 1.18M 1s\n",
      "   150K .......... .......... .......... .......... ..........  8% 38.7M 1s\n",
      "   200K .......... .......... .......... .......... .......... 10% 43.2M 1s\n",
      "   250K .......... .......... .......... .......... .......... 12% 7.16M 1s\n",
      "   300K .......... .......... .......... .......... .......... 14% 10.1M 0s\n",
      "   350K .......... .......... .......... .......... .......... 16% 2.72M 1s\n",
      "   400K .......... .......... .......... .......... .......... 18% 1.59M 1s\n",
      "   450K .......... .......... .......... .......... .......... 20% 34.8M 1s\n",
      "   500K .......... .......... .......... .......... .......... 22% 6.75M 0s\n",
      "   550K .......... .......... .......... .......... .......... 24% 8.31M 0s\n",
      "   600K .......... .......... .......... .......... .......... 26% 2.53M 0s\n",
      "   650K .......... .......... .......... .......... .......... 28% 1.83M 0s\n",
      "   700K .......... .......... .......... .......... .......... 30% 25.4M 0s\n",
      "   750K .......... .......... .......... .......... .......... 32% 8.12M 0s\n",
      "   800K .......... .......... .......... .......... .......... 34% 6.41M 0s\n",
      "   850K .......... .......... .......... .......... .......... 36% 3.08M 0s\n",
      "   900K .......... .......... .......... .......... .......... 38% 5.53M 0s\n",
      "   950K .......... .......... .......... .......... .......... 40% 3.45M 0s\n",
      "  1000K .......... .......... .......... .......... .......... 42% 3.12M 0s\n",
      "  1050K .......... .......... .......... .......... .......... 44% 4.47M 0s\n",
      "  1100K .......... .......... .......... .......... .......... 46% 3.32M 0s\n",
      "  1150K .......... .......... .......... .......... .......... 48% 5.10M 0s\n",
      "  1200K .......... .......... .......... .......... .......... 50% 2.18M 0s\n",
      "  1250K .......... .......... .......... .......... .......... 52% 43.2M 0s\n",
      "  1300K .......... .......... .......... .......... .......... 54% 4.01M 0s\n",
      "  1350K .......... .......... .......... .......... .......... 56% 2.93M 0s\n",
      "  1400K .......... .......... .......... .......... .......... 58% 3.84M 0s\n",
      "  1450K .......... .......... .......... .......... .......... 60% 2.44M 0s\n",
      "  1500K .......... .......... .......... .......... .......... 62% 23.8M 0s\n",
      "  1550K .......... .......... .......... .......... .......... 64% 4.32M 0s\n",
      "  1600K .......... .......... .......... .......... .......... 66% 3.37M 0s\n",
      "  1650K .......... .......... .......... .......... .......... 68% 5.15M 0s\n",
      "  1700K .......... .......... .......... .......... .......... 70% 3.16M 0s\n",
      "  1750K .......... .......... .......... .......... .......... 72% 5.07M 0s\n",
      "  1800K .......... .......... .......... .......... .......... 74% 2.87M 0s\n",
      "  1850K .......... .......... .......... .......... .......... 76% 4.28M 0s\n",
      "  1900K .......... .......... .......... .......... .......... 78% 4.84M 0s\n",
      "  1950K .......... .......... .......... .......... .......... 80% 3.92M 0s\n",
      "  2000K .......... .......... .......... .......... .......... 82% 4.30M 0s\n",
      "  2050K .......... .......... .......... .......... .......... 84% 4.43M 0s\n",
      "  2100K .......... .......... .......... .......... .......... 86% 4.31M 0s\n",
      "  2150K .......... .......... .......... .......... .......... 88% 4.08M 0s\n",
      "  2200K .......... .......... .......... .......... .......... 90% 1.84M 0s\n",
      "  2250K .......... .......... .......... .......... .......... 92% 15.8M 0s\n",
      "  2300K .......... .......... .......... .......... .......... 94% 4.44M 0s\n",
      "  2350K .......... .......... .......... .......... .......... 96% 3.10M 0s\n",
      "  2400K .......... .......... .......... .......... .......... 98% 9.52M 0s\n",
      "  2450K .......... .......... .......... ..                   100% 5.97M=0.6s\n",
      "\n",
      "2022-07-05 07:39:12 (4.01 MB/s) - ‘diseases_efo.json’ saved [2541582/2541582]\n",
      "\n"
     ]
    }
   ],
   "source": [
    "%%bash \n",
    "\n",
    "\n",
    "# Fetching associations from google:\n",
    "gsutil cp -r gs://open-targets-data-releases/22.06/output/etl/parquet/associationByDatatypeDirect /Users/dsuveges/project_data/\n",
    "gsutil cp -r gs://open-targets-data-releases/22.06/output/etl/parquet/targets /Users/dsuveges/project_data/\n",
    "\n",
    "# The same data can be found on ftp: ftp://ftp.ebi.ac.uk/pub/databases/opentargets/platform/22.06/output/etl/parquet\n",
    "\n",
    "# Fetching efo dataset from the platform:\n",
    "wget https://platform.opentargets.org/data/ontology/efo_json/diseases_efo.jsonl -O diseases_efo.json\n",
    "\n",
    "ls -lah *json"
   ]
  },
  {
   "cell_type": "code",
   "execution_count": 125,
   "id": "64a1cc70",
   "metadata": {
    "ExecuteTime": {
     "end_time": "2022-07-06T07:11:45.608173Z",
     "start_time": "2022-07-06T07:11:45.471104Z"
    }
   },
   "outputs": [],
   "source": [
    "from statistics import median\n",
    "\n",
    "import pyspark.sql\n",
    "import pyspark.sql.types as t\n",
    "import pyspark.sql.functions as f\n",
    "from pyspark.sql.window import Window\n",
    "\n",
    "\n",
    "global spark\n",
    "\n",
    "spark = (\n",
    "    pyspark.sql.SparkSession\n",
    "   .builder\n",
    "   .master(\"local[*]\")\n",
    "   .getOrCreate()\n",
    ")\n",
    "   \n",
    "@f.udf(t.FloatType())\n",
    "def harmonic_sum(data: list, scale_factor: float = 1, cap: float = None) -> float:\n",
    "    \"\"\"\n",
    "    Returns an harmonic sum for the data passed\n",
    "    Args:\n",
    "        data (list): list of floats to compute the harmonic sum from\n",
    "        scale_factor (float): a scaling factor to multiply to each datapoint. Defaults to 1\n",
    "        cap (float): if not None, never return an harmonic sum higher than the cap value.\n",
    "    Returns:\n",
    "        harmonic_sum (float): the harmonic sum of the data passed\n",
    "    \"\"\"\n",
    "\n",
    "    data.sort(reverse=True)\n",
    "    harmonic_sum = sum(s / ((i+1) ** scale_factor) for i, s in enumerate(data))\n",
    "    \n",
    "    # Applying cap:\n",
    "    if cap is not None and harmonic_sum > cap:\n",
    "        return cap\n",
    "      \n",
    "    return harmonic_sum\n",
    "\n",
    "# An UDF to calculate median:\n",
    "median_udf = f.udf(lambda l: median(l), t.FloatType())\n",
    "\n",
    "association_dataset = '/Users/dsuveges/project_data/associationByDatatypeDirect'\n",
    "disease_dataset = '/Users/dsuveges/project/random_notebooks/2022.06.08-disease_expansion/diseases_efo.json'"
   ]
  },
  {
   "cell_type": "markdown",
   "id": "07a07a75",
   "metadata": {},
   "source": [
    "### Processing disease table\n",
    "\n",
    "1. Reading json into spark table.\n",
    "2. Exploding parent table.\n",
    "3. Annotate each disease if the disease or the parent is haematologically relevant\n",
    "4. Aggregate annotation for each disease."
   ]
  },
  {
   "cell_type": "code",
   "execution_count": 128,
   "id": "b13dccdb",
   "metadata": {
    "ExecuteTime": {
     "end_time": "2022-07-06T07:15:50.643341Z",
     "start_time": "2022-07-06T07:15:49.880703Z"
    }
   },
   "outputs": [
    {
     "data": {
      "text/plain": [
       "1411"
      ]
     },
     "execution_count": 128,
     "metadata": {},
     "output_type": "execute_result"
    }
   ],
   "source": [
    "relevant_disease_pattern = ['immuno', 'hemato', 'hemo', 'blood', 'bleed']\n",
    "\n",
    "\n",
    "disease_raw = (\n",
    "    spark.read.json(disease_dataset)\n",
    "    .withColumnRenamed('id', 'diseaseId')\n",
    "    .withColumnRenamed('name', 'diseaseLabel')\n",
    "    .persist()\n",
    ")\n",
    "\n",
    "annotated_diseases = (\n",
    "    disease_raw\n",
    "    # Exploding parent column:\n",
    "    .select('diseaseId', 'diseaseLabel', f.explode_outer('parentIds').alias('parentId'))\n",
    "    \n",
    "    # Get parent disease names:\n",
    "    .join(\n",
    "        (\n",
    "            disease_raw\n",
    "            .withColumnRenamed('diseaseId', 'parentId')\n",
    "            .withColumnRenamed('diseaseLabel', 'parentLabel')\n",
    "            .drop('parentIds')\n",
    "        ), on='parentId', how='left')\n",
    "    \n",
    "    # Check if disease name OR parent name is relevant:\n",
    "    .withColumn(\n",
    "        'isRelevant',\n",
    "        f.when(f.col('diseaseLabel').rlike('|'.join(relevant_disease_pattern)), True)\n",
    "        .when(f.col('parentLabel').rlike('|'.join(relevant_disease_pattern)), True)\n",
    "        .otherwise(False)\n",
    "    )\n",
    "    \n",
    "    # Aggregating by disease, check if at least one parent is relevant:\n",
    "    .groupBy('diseaseId', 'diseaseLabel')\n",
    "    .agg(\n",
    "        f.expr(\"any(isRelevant)\").alias('isRelevant')\n",
    "    )\n",
    "    .withColumn(\n",
    "        'isRelevant',\n",
    "        f.when(f.col('isRelevant') == True, 'relevant')\n",
    "        .otherwise('not_relevant')\n",
    "    )\n",
    "    .persist()\n",
    ")\n",
    "\n",
    "annotated_diseases.filter(f.col('isRelevant') == 'relevant').count()\n"
   ]
  },
  {
   "cell_type": "markdown",
   "id": "3f92fac0",
   "metadata": {},
   "source": [
    "### Reading targets\n",
    "\n",
    "1. Read parquet and select columns"
   ]
  },
  {
   "cell_type": "code",
   "execution_count": 58,
   "id": "755cf670",
   "metadata": {
    "ExecuteTime": {
     "end_time": "2022-07-05T08:26:37.188957Z",
     "start_time": "2022-07-05T08:26:37.044090Z"
    }
   },
   "outputs": [],
   "source": [
    "targets = (\n",
    "    spark.read.parquet('/Users/dsuveges/project_data/targets')\n",
    "    .select(\n",
    "        f.col('id').alias('targetId'),\n",
    "        f.col('approvedSymbol').alias('targetSymbol'),\n",
    "        f.col('approvedName').alias('targetName')\n",
    "    )\n",
    "    .persist()\n",
    ")"
   ]
  },
  {
   "cell_type": "markdown",
   "id": "8cf03a51",
   "metadata": {},
   "source": [
    "### Processing associations\n",
    "\n",
    "1. Read assoction file\n",
    "2. Drop animal model data\n",
    "3. Aggregating associations\n",
    "4. Calcualte harmonic sum\n",
    "5. Join disease info\n",
    "6. Join target info"
   ]
  },
  {
   "cell_type": "code",
   "execution_count": 54,
   "id": "2e8623cb",
   "metadata": {
    "ExecuteTime": {
     "end_time": "2022-07-05T08:23:25.320179Z",
     "start_time": "2022-07-05T08:23:21.617920Z"
    }
   },
   "outputs": [
    {
     "name": "stdout",
     "output_type": "stream",
     "text": [
      "Number of all associations: 2120908\n",
      "Number of associations supported by sources not including mouse: 1614569\n"
     ]
    }
   ],
   "source": [
    "print(f'Number of all associations: {spark.read.parquet(association_dataset).select(\"diseaseId\", \"targetId\").distinct().count()}')\n",
    "\n",
    "no_animal_associations = (\n",
    "    spark.read.parquet(association_dataset)\n",
    "    .filter(f.col('datatypeId') != 'animal_model')\n",
    "    .select(\"diseaseId\", \"targetId\").distinct()\n",
    ")\n",
    "\n",
    "print(f'Number of associations supported by sources not including mouse: {no_animal_associations.count()}')\n"
   ]
  },
  {
   "cell_type": "code",
   "execution_count": 130,
   "id": "54b91451",
   "metadata": {
    "ExecuteTime": {
     "end_time": "2022-07-06T07:20:26.648107Z",
     "start_time": "2022-07-06T07:19:33.735559Z"
    }
   },
   "outputs": [
    {
     "name": "stdout",
     "output_type": "stream",
     "text": [
      "+---------------+----------+-------------+--------------------+------------+------------+--------------------+\n",
      "|       targetId| diseaseId|overall_score|        diseaseLabel|  isRelevant|targetSymbol|          targetName|\n",
      "+---------------+----------+-------------+--------------------+------------+------------+--------------------+\n",
      "|ENSG00000113749|DOID_10718| 0.0121586155|          giardiasis|not_relevant|        HRH2|histamine recepto...|\n",
      "|ENSG00000120937|DOID_13406|  0.018237924|pulmonary sarcoid...|not_relevant|        NPPB|natriuretic pepti...|\n",
      "|ENSG00000066427| DOID_7551| 0.0121586155|           gonorrhea|not_relevant|       ATXN3|            ataxin 3|\n",
      "|ENSG00000095739| DOID_7551|   0.03039654|           gonorrhea|not_relevant|       BAMBI|BMP and activin m...|\n",
      "|ENSG00000102755| DOID_7551|   0.18691845|           gonorrhea|not_relevant|        FLT1|fms related recep...|\n",
      "|ENSG00000103335| DOID_7551|    0.5912127|           gonorrhea|not_relevant|      PIEZO1|piezo type mechan...|\n",
      "|ENSG00000106004| DOID_7551|    0.6392139|           gonorrhea|not_relevant|       HOXA5|         homeobox A5|\n",
      "|ENSG00000116132| DOID_7551|   0.41379485|           gonorrhea|not_relevant|       PRRX1|paired related ho...|\n",
      "|ENSG00000118046| DOID_7551|   0.58841276|           gonorrhea|not_relevant|       STK11|serine/threonine ...|\n",
      "|ENSG00000121060| DOID_7551|   0.46363166|           gonorrhea|not_relevant|      TRIM25|tripartite motif ...|\n",
      "|ENSG00000130770| DOID_7551|   0.24317232|           gonorrhea|not_relevant|     ATP5IF1|ATP synthase inhi...|\n",
      "|ENSG00000137752| DOID_7551|   0.21351543|           gonorrhea|not_relevant|       CASP1|           caspase 1|\n",
      "|ENSG00000147133| DOID_7551|  0.018237924|           gonorrhea|not_relevant|        TAF1|TATA-box binding ...|\n",
      "|ENSG00000149806| DOID_7551|   0.03647585|           gonorrhea|not_relevant|         FAU|FAU ubiquitin lik...|\n",
      "|ENSG00000154370| DOID_7551|    0.2310137|           gonorrhea|not_relevant|      TRIM11|tripartite motif ...|\n",
      "|ENSG00000158941| DOID_7551|   0.05471377|           gonorrhea|not_relevant|       CCAR2|cell cycle and ap...|\n",
      "|ENSG00000163629| DOID_7551|   0.03039654|           gonorrhea|not_relevant|      PTPN13|protein tyrosine ...|\n",
      "|ENSG00000167081| DOID_7551|    0.5838669|           gonorrhea|not_relevant|        PBX3|      PBX homeobox 3|\n",
      "|ENSG00000169714| DOID_7551| 0.0121586155|           gonorrhea|not_relevant|        CNBP|CCHC-type zinc fi...|\n",
      "|ENSG00000173267| DOID_7551|    0.2978861|           gonorrhea|not_relevant|        SNCG|     synuclein gamma|\n",
      "+---------------+----------+-------------+--------------------+------------+------------+--------------------+\n",
      "only showing top 20 rows\n",
      "\n"
     ]
    }
   ],
   "source": [
    "assoc_df = (\n",
    "    # Reading associations:\n",
    "    spark.read.parquet(association_dataset)\n",
    "    \n",
    "    # Dropping all animal model data:\n",
    "    .filter(f.col('datatypeId') != 'animal_model')\n",
    "    \n",
    "    # aggregating by association and calculate overall score:\n",
    "    .groupBy('diseaseId', 'targetId')\n",
    "    .agg(harmonic_sum(f.collect_list(f.col('score'))).alias('overall_score'))\n",
    "    \n",
    "    # Joining with diseases and disease annotation.\n",
    "    .join(annotated_diseases, on='diseaseId')\n",
    "    \n",
    "    # Joining with target annotation:\n",
    "    .join(targets, on='targetId', how='left')\n",
    "    .persist()\n",
    ")\n",
    "\n",
    "# How does it look like:\n",
    "assoc_df.show()\n",
    "\n",
    "# Saving data in a partitioned parquet:\n",
    "assoc_df.write.mode('overwrite').parquet('Associations_w_disease_annot')\n",
    "\n",
    "# Saving data in a single tsv file:\n",
    "assoc_df.toPandas().to_csv('annotated_associations.tsv.gz', sep='\\t', compression='infer', index=False)"
   ]
  },
  {
   "cell_type": "markdown",
   "id": "2a92a29d",
   "metadata": {
    "ExecuteTime": {
     "end_time": "2022-07-05T08:30:02.892843Z",
     "start_time": "2022-07-05T08:29:25.491496Z"
    }
   },
   "source": [
    "## Analysis"
   ]
  },
  {
   "cell_type": "code",
   "execution_count": 131,
   "id": "60a15805",
   "metadata": {
    "ExecuteTime": {
     "end_time": "2022-07-06T07:20:49.415594Z",
     "start_time": "2022-07-06T07:20:26.651557Z"
    }
   },
   "outputs": [
    {
     "data": {
      "text/plain": [
       "23738"
      ]
     },
     "execution_count": 131,
     "metadata": {},
     "output_type": "execute_result"
    }
   ],
   "source": [
    "aggregated_associations = (\n",
    "    assoc_df\n",
    "    \n",
    "    # Applying a filter based on the overall score: \n",
    "    # iteratively we can adjust this to make sure we are not too stringent\n",
    "    .filter(\n",
    "        (f.col('overall_score') >= 0.1)\n",
    "    )\n",
    "    \n",
    "    # Grouping data by target and the relevance flag:\n",
    "    .groupby('targetId', 'targetName', 'targetSymbol')\n",
    "    .pivot('isRelevant')\n",
    "    .agg(\n",
    "        f.max(f.col('overall_score')).alias('max'),\n",
    "        f.mean(f.col('overall_score')).alias('mean_score'),\n",
    "        f.count(f.col('overall_score')).alias('disease_count'),\n",
    "        median_udf(f.collect_list(f.col('overall_score'))).alias('median_score'),\n",
    "    )\n",
    "    .persist()\n",
    ")\n",
    "\n",
    "aggregated_associations.count()"
   ]
  },
  {
   "cell_type": "code",
   "execution_count": 132,
   "id": "818ea3d1",
   "metadata": {
    "ExecuteTime": {
     "end_time": "2022-07-06T07:23:04.784754Z",
     "start_time": "2022-07-06T07:23:03.874466Z"
    }
   },
   "outputs": [],
   "source": [
    "(\n",
    "    aggregated_associations\n",
    "    .toPandas()\n",
    "    .to_csv('aggregated_associations.tsv.gz', sep='\\t', index=False)\n",
    ")"
   ]
  },
  {
   "cell_type": "code",
   "execution_count": null,
   "id": "2029a05b",
   "metadata": {},
   "outputs": [],
   "source": []
  }
 ],
 "metadata": {
  "kernelspec": {
   "display_name": "Python 3",
   "language": "python",
   "name": "python3"
  },
  "language_info": {
   "codemirror_mode": {
    "name": "ipython",
    "version": 3
   },
   "file_extension": ".py",
   "mimetype": "text/x-python",
   "name": "python",
   "nbconvert_exporter": "python",
   "pygments_lexer": "ipython3",
   "version": "3.9.5"
  }
 },
 "nbformat": 4,
 "nbformat_minor": 5
}
