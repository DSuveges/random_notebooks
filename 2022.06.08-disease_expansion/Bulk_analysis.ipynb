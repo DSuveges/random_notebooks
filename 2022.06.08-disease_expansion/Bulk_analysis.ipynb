{
 "cells": [
  {
   "cell_type": "markdown",
   "id": "15ac1b32",
   "metadata": {},
   "source": [
    "# Bulk data process\n",
    "\n",
    "1. Read associations\n",
    "2. Drop all mouse evidence\n",
    "3. Group by associations\n",
    "4. Calculate harmonic sum to get association score\n",
    "5. Annotate disease if haematologically relevant or not\n",
    "\n",
    "\n",
    "## For stats\n",
    "\n",
    "1. Get a relevant set of genes from reactome\n",
    "2. Generate an equivalent set of genes by random\n",
    "\n",
    "## Stats\n",
    "\n",
    "1. Apply score threshold for association -> Get average count of hematological diseases\n",
    "2. Apply score threshold for association -> for each gene, compare median association for every vs. hematological traits. -> calculate average\n",
    "3. "
   ]
  },
  {
   "cell_type": "code",
   "execution_count": 1,
   "id": "b2fd6569",
   "metadata": {
    "ExecuteTime": {
     "end_time": "2022-08-22T21:15:07.111199Z",
     "start_time": "2022-08-22T21:14:11.815476Z"
    },
    "scrolled": true
   },
   "outputs": [
    {
     "name": "stdout",
     "output_type": "stream",
     "text": [
      "-rw-r--r--  1 dsuveges  384566875   2.4M 24 Jun 11:17 diseases_efo.json\n"
     ]
    },
    {
     "name": "stderr",
     "output_type": "stream",
     "text": [
      "Copying gs://open-targets-data-releases/22.06/output/etl/parquet/associationByDatatypeDirect/_SUCCESS...\n",
      "/ [0 files][    0.0 B/    0.0 B]                                                \r",
      "/ [1 files][    0.0 B/    0.0 B]                                                \r",
      "Copying gs://open-targets-data-releases/22.06/output/etl/parquet/associationByDatatypeDirect/part-00000-8d9107f6-e36d-4d36-a4ed-66c4c59bc87d-c000.snappy.parquet...\n",
      "/ [1 files][    0.0 B/149.2 KiB]                                                \r",
      "/ [1 files][149.2 KiB/149.2 KiB]                                                \r",
      "-\r",
      "- [2 files][149.2 KiB/149.2 KiB]                                                \r",
      "Copying gs://open-targets-data-releases/22.06/output/etl/parquet/associationByDatatypeDirect/part-00001-8d9107f6-e36d-4d36-a4ed-66c4c59bc87d-c000.snappy.parquet...\n",
      "- [2 files][149.2 KiB/389.6 KiB]                                                \r",
      "- [3 files][389.6 KiB/389.6 KiB]                                                \r",
      "Copying gs://open-targets-data-releases/22.06/output/etl/parquet/associationByDatatypeDirect/part-00002-8d9107f6-e36d-4d36-a4ed-66c4c59bc87d-c000.snappy.parquet...\n",
      "- [3 files][389.6 KiB/416.3 KiB]                                                \r",
      "- [4 files][416.3 KiB/416.3 KiB]                                                \r\n",
      "==> NOTE: You are performing a sequence of gsutil operations that may\n",
      "run significantly faster if you instead use gsutil -m cp ... Please\n",
      "see the -m section under \"gsutil help options\" for further information\n",
      "about when gsutil -m can be advantageous.\n",
      "\n",
      "Copying gs://open-targets-data-releases/22.06/output/etl/parquet/associationByDatatypeDirect/part-00003-8d9107f6-e36d-4d36-a4ed-66c4c59bc87d-c000.snappy.parquet...\n",
      "- [4 files][416.3 KiB/564.3 KiB]                                                \r",
      "\\\r",
      "\\ [5 files][564.3 KiB/564.3 KiB]                                                \r",
      "Copying gs://open-targets-data-releases/22.06/output/etl/parquet/associationByDatatypeDirect/part-00004-8d9107f6-e36d-4d36-a4ed-66c4c59bc87d-c000.snappy.parquet...\n",
      "\\ [5 files][564.3 KiB/696.9 KiB]                                                \r",
      "\\ [6 files][696.9 KiB/696.9 KiB]                                                \r",
      "Copying gs://open-targets-data-releases/22.06/output/etl/parquet/associationByDatatypeDirect/part-00005-8d9107f6-e36d-4d36-a4ed-66c4c59bc87d-c000.snappy.parquet...\n",
      "\\ [6 files][696.9 KiB/829.3 KiB]                                                \r",
      "\\ [7 files][829.3 KiB/829.3 KiB]                                                \r",
      "Copying gs://open-targets-data-releases/22.06/output/etl/parquet/associationByDatatypeDirect/part-00006-8d9107f6-e36d-4d36-a4ed-66c4c59bc87d-c000.snappy.parquet...\n",
      "\\ [7 files][829.3 KiB/951.5 KiB]                                                \r",
      "|\r",
      "| [8 files][951.5 KiB/951.5 KiB]                                                \r",
      "Copying gs://open-targets-data-releases/22.06/output/etl/parquet/associationByDatatypeDirect/part-00007-8d9107f6-e36d-4d36-a4ed-66c4c59bc87d-c000.snappy.parquet...\n",
      "| [8 files][951.5 KiB/  1.1 MiB]                                                \r",
      "| [9 files][  1.1 MiB/  1.1 MiB]                                                \r",
      "Copying gs://open-targets-data-releases/22.06/output/etl/parquet/associationByDatatypeDirect/part-00008-8d9107f6-e36d-4d36-a4ed-66c4c59bc87d-c000.snappy.parquet...\n",
      "| [9 files][  1.1 MiB/  1.3 MiB]                                                \r",
      "| [10 files][  1.3 MiB/  1.3 MiB]                                               \r",
      "Copying gs://open-targets-data-releases/22.06/output/etl/parquet/associationByDatatypeDirect/part-00009-8d9107f6-e36d-4d36-a4ed-66c4c59bc87d-c000.snappy.parquet...\n",
      "| [10 files][  1.3 MiB/  1.3 MiB]                                               \r",
      "| [10 files][  1.3 MiB/  1.3 MiB]                                               \r",
      "/\r",
      "/ [11 files][  1.3 MiB/  1.3 MiB]                                               \r",
      "Copying gs://open-targets-data-releases/22.06/output/etl/parquet/associationByDatatypeDirect/part-00010-8d9107f6-e36d-4d36-a4ed-66c4c59bc87d-c000.snappy.parquet...\n",
      "/ [11 files][  1.3 MiB/  1.5 MiB]                                               \r",
      "/ [12 files][  1.5 MiB/  1.5 MiB]                                               \r",
      "Copying gs://open-targets-data-releases/22.06/output/etl/parquet/associationByDatatypeDirect/part-00011-8d9107f6-e36d-4d36-a4ed-66c4c59bc87d-c000.snappy.parquet...\n",
      "/ [12 files][  1.5 MiB/  1.6 MiB]                                               \r",
      "/ [13 files][  1.6 MiB/  1.6 MiB]                                               \r",
      "Copying gs://open-targets-data-releases/22.06/output/etl/parquet/associationByDatatypeDirect/part-00012-8d9107f6-e36d-4d36-a4ed-66c4c59bc87d-c000.snappy.parquet...\n",
      "/ [13 files][  1.6 MiB/  1.7 MiB]                                               \r",
      "/ [14 files][  1.7 MiB/  1.7 MiB]                                               \r",
      "Copying gs://open-targets-data-releases/22.06/output/etl/parquet/associationByDatatypeDirect/part-00013-8d9107f6-e36d-4d36-a4ed-66c4c59bc87d-c000.snappy.parquet...\n",
      "/ [14 files][  1.7 MiB/  1.8 MiB]                                               \r",
      "-\r",
      "- [15 files][  1.8 MiB/  1.8 MiB]                                               \r",
      "Copying gs://open-targets-data-releases/22.06/output/etl/parquet/associationByDatatypeDirect/part-00014-8d9107f6-e36d-4d36-a4ed-66c4c59bc87d-c000.snappy.parquet...\n",
      "- [15 files][  1.8 MiB/  2.0 MiB]                                               \r",
      "- [16 files][  2.0 MiB/  2.0 MiB]                                               \r",
      "Copying gs://open-targets-data-releases/22.06/output/etl/parquet/associationByDatatypeDirect/part-00015-8d9107f6-e36d-4d36-a4ed-66c4c59bc87d-c000.snappy.parquet...\n",
      "- [16 files][  2.0 MiB/  2.1 MiB]                                               \r",
      "- [17 files][  2.1 MiB/  2.1 MiB]                                               \r",
      "Copying gs://open-targets-data-releases/22.06/output/etl/parquet/associationByDatatypeDirect/part-00016-8d9107f6-e36d-4d36-a4ed-66c4c59bc87d-c000.snappy.parquet...\n",
      "- [17 files][  2.1 MiB/  2.2 MiB]                                               \r",
      "\\\r",
      "\\ [18 files][  2.2 MiB/  2.2 MiB]                                               \r",
      "Copying gs://open-targets-data-releases/22.06/output/etl/parquet/associationByDatatypeDirect/part-00017-8d9107f6-e36d-4d36-a4ed-66c4c59bc87d-c000.snappy.parquet...\n",
      "\\ [18 files][  2.2 MiB/  2.3 MiB]                                               \r",
      "\\ [19 files][  2.3 MiB/  2.3 MiB]                                               \r",
      "Copying gs://open-targets-data-releases/22.06/output/etl/parquet/associationByDatatypeDirect/part-00018-8d9107f6-e36d-4d36-a4ed-66c4c59bc87d-c000.snappy.parquet...\n",
      "\\ [19 files][  2.3 MiB/  2.5 MiB]                                               \r",
      "\\ [20 files][  2.5 MiB/  2.5 MiB]                                               \r",
      "Copying gs://open-targets-data-releases/22.06/output/etl/parquet/associationByDatatypeDirect/part-00019-8d9107f6-e36d-4d36-a4ed-66c4c59bc87d-c000.snappy.parquet...\n",
      "\\ [20 files][  2.5 MiB/  2.6 MiB]                                               \r",
      "|\r",
      "| [21 files][  2.6 MiB/  2.6 MiB]                                               \r",
      "Copying gs://open-targets-data-releases/22.06/output/etl/parquet/associationByDatatypeDirect/part-00020-8d9107f6-e36d-4d36-a4ed-66c4c59bc87d-c000.snappy.parquet...\n",
      "| [21 files][  2.6 MiB/  2.7 MiB]                                               \r",
      "| [22 files][  2.7 MiB/  2.7 MiB]                                               \r",
      "Copying gs://open-targets-data-releases/22.06/output/etl/parquet/associationByDatatypeDirect/part-00021-8d9107f6-e36d-4d36-a4ed-66c4c59bc87d-c000.snappy.parquet...\n",
      "| [22 files][  2.7 MiB/  2.9 MiB]                                               \r",
      "| [23 files][  2.9 MiB/  2.9 MiB]                                               \r",
      "Copying gs://open-targets-data-releases/22.06/output/etl/parquet/associationByDatatypeDirect/part-00022-8d9107f6-e36d-4d36-a4ed-66c4c59bc87d-c000.snappy.parquet...\n",
      "| [23 files][  2.9 MiB/  3.1 MiB]                                               \r",
      "/\r",
      "/ [24 files][  3.1 MiB/  3.1 MiB]                                               \r",
      "Copying gs://open-targets-data-releases/22.06/output/etl/parquet/associationByDatatypeDirect/part-00023-8d9107f6-e36d-4d36-a4ed-66c4c59bc87d-c000.snappy.parquet...\n",
      "/ [24 files][  3.1 MiB/  3.2 MiB]                                               \r",
      "/ [25 files][  3.2 MiB/  3.2 MiB]                                               \r",
      "Copying gs://open-targets-data-releases/22.06/output/etl/parquet/associationByDatatypeDirect/part-00024-8d9107f6-e36d-4d36-a4ed-66c4c59bc87d-c000.snappy.parquet...\n",
      "/ [25 files][  3.2 MiB/  3.2 MiB]                                               \r",
      "/ [26 files][  3.2 MiB/  3.2 MiB]                                               \r",
      "Copying gs://open-targets-data-releases/22.06/output/etl/parquet/associationByDatatypeDirect/part-00025-8d9107f6-e36d-4d36-a4ed-66c4c59bc87d-c000.snappy.parquet...\n",
      "/ [26 files][  3.2 MiB/  3.4 MiB]                                               \r",
      "/ [27 files][  3.4 MiB/  3.4 MiB]                                               \r",
      "Copying gs://open-targets-data-releases/22.06/output/etl/parquet/associationByDatatypeDirect/part-00026-8d9107f6-e36d-4d36-a4ed-66c4c59bc87d-c000.snappy.parquet...\n",
      "/ [27 files][  3.4 MiB/  3.6 MiB]                                               \r",
      "-\r",
      "- [28 files][  3.6 MiB/  3.6 MiB]                                               \r",
      "Copying gs://open-targets-data-releases/22.06/output/etl/parquet/associationByDatatypeDirect/part-00027-8d9107f6-e36d-4d36-a4ed-66c4c59bc87d-c000.snappy.parquet...\n",
      "- [28 files][  3.6 MiB/  3.7 MiB]                                               \r",
      "- [29 files][  3.7 MiB/  3.7 MiB]                                               \r",
      "Copying gs://open-targets-data-releases/22.06/output/etl/parquet/associationByDatatypeDirect/part-00028-8d9107f6-e36d-4d36-a4ed-66c4c59bc87d-c000.snappy.parquet...\n",
      "- [29 files][  3.7 MiB/  3.8 MiB]                                               \r",
      "- [30 files][  3.8 MiB/  3.8 MiB]                                               \r",
      "Copying gs://open-targets-data-releases/22.06/output/etl/parquet/associationByDatatypeDirect/part-00029-8d9107f6-e36d-4d36-a4ed-66c4c59bc87d-c000.snappy.parquet...\n",
      "- [30 files][  3.8 MiB/  3.9 MiB]                                               \r",
      "\\\r",
      "\\ [31 files][  3.9 MiB/  3.9 MiB]                                               \r",
      "Copying gs://open-targets-data-releases/22.06/output/etl/parquet/associationByDatatypeDirect/part-00030-8d9107f6-e36d-4d36-a4ed-66c4c59bc87d-c000.snappy.parquet...\n",
      "\\ [31 files][  3.9 MiB/  4.0 MiB]                                               \r",
      "\\ [32 files][  4.0 MiB/  4.0 MiB]                                               \r",
      "Copying gs://open-targets-data-releases/22.06/output/etl/parquet/associationByDatatypeDirect/part-00031-8d9107f6-e36d-4d36-a4ed-66c4c59bc87d-c000.snappy.parquet...\n",
      "\\ [32 files][  4.0 MiB/  4.2 MiB]                                               \r",
      "\\ [33 files][  4.2 MiB/  4.2 MiB]                                               \r",
      "Copying gs://open-targets-data-releases/22.06/output/etl/parquet/associationByDatatypeDirect/part-00032-8d9107f6-e36d-4d36-a4ed-66c4c59bc87d-c000.snappy.parquet...\n",
      "\\ [33 files][  4.2 MiB/  4.3 MiB]                                               \r",
      "\\ [34 files][  4.3 MiB/  4.3 MiB]                                               \r",
      "Copying gs://open-targets-data-releases/22.06/output/etl/parquet/associationByDatatypeDirect/part-00033-8d9107f6-e36d-4d36-a4ed-66c4c59bc87d-c000.snappy.parquet...\n",
      "\\ [34 files][  4.3 MiB/  4.4 MiB]                                               \r",
      "|\r",
      "| [35 files][  4.4 MiB/  4.4 MiB]                                               \r",
      "Copying gs://open-targets-data-releases/22.06/output/etl/parquet/associationByDatatypeDirect/part-00034-8d9107f6-e36d-4d36-a4ed-66c4c59bc87d-c000.snappy.parquet...\n",
      "| [35 files][  4.4 MiB/  4.5 MiB]                                               \r",
      "| [36 files][  4.5 MiB/  4.5 MiB]                                               \r",
      "Copying gs://open-targets-data-releases/22.06/output/etl/parquet/associationByDatatypeDirect/part-00035-8d9107f6-e36d-4d36-a4ed-66c4c59bc87d-c000.snappy.parquet...\n",
      "| [36 files][  4.5 MiB/  4.6 MiB]                                               \r",
      "| [37 files][  4.6 MiB/  4.6 MiB]                                               \r",
      "Copying gs://open-targets-data-releases/22.06/output/etl/parquet/associationByDatatypeDirect/part-00036-8d9107f6-e36d-4d36-a4ed-66c4c59bc87d-c000.snappy.parquet...\n",
      "| [37 files][  4.6 MiB/  4.7 MiB]                                               \r",
      "/\r",
      "/ [38 files][  4.7 MiB/  4.7 MiB]                                               \r",
      "Copying gs://open-targets-data-releases/22.06/output/etl/parquet/associationByDatatypeDirect/part-00037-8d9107f6-e36d-4d36-a4ed-66c4c59bc87d-c000.snappy.parquet...\n",
      "/ [38 files][  4.7 MiB/  4.9 MiB]                                               \r",
      "/ [39 files][  4.9 MiB/  4.9 MiB]                                               \r",
      "Copying gs://open-targets-data-releases/22.06/output/etl/parquet/associationByDatatypeDirect/part-00038-8d9107f6-e36d-4d36-a4ed-66c4c59bc87d-c000.snappy.parquet...\n",
      "/ [39 files][  4.9 MiB/  5.0 MiB]                                               \r",
      "/ [40 files][  5.0 MiB/  5.0 MiB]                                               \r",
      "Copying gs://open-targets-data-releases/22.06/output/etl/parquet/associationByDatatypeDirect/part-00039-8d9107f6-e36d-4d36-a4ed-66c4c59bc87d-c000.snappy.parquet...\n",
      "/ [40 files][  5.0 MiB/  5.1 MiB]                                               \r",
      "-\r",
      "- [41 files][  5.1 MiB/  5.1 MiB]                                               \r",
      "Copying gs://open-targets-data-releases/22.06/output/etl/parquet/associationByDatatypeDirect/part-00040-8d9107f6-e36d-4d36-a4ed-66c4c59bc87d-c000.snappy.parquet...\n",
      "- [41 files][  5.1 MiB/  5.2 MiB]  628.8 KiB/s                                  \r",
      "- [42 files][  5.2 MiB/  5.2 MiB]  628.1 KiB/s                                  \r",
      "Copying gs://open-targets-data-releases/22.06/output/etl/parquet/associationByDatatypeDirect/part-00041-8d9107f6-e36d-4d36-a4ed-66c4c59bc87d-c000.snappy.parquet...\n",
      "- [42 files][  5.2 MiB/  5.3 MiB]  628.1 KiB/s                                  \r",
      "- [43 files][  5.3 MiB/  5.3 MiB]  639.6 KiB/s                                  \r",
      "Copying gs://open-targets-data-releases/22.06/output/etl/parquet/associationByDatatypeDirect/part-00042-8d9107f6-e36d-4d36-a4ed-66c4c59bc87d-c000.snappy.parquet...\n",
      "- [43 files][  5.3 MiB/  5.4 MiB]  639.6 KiB/s                                  \r",
      "- [44 files][  5.4 MiB/  5.4 MiB]  630.8 KiB/s                                  \r",
      "Copying gs://open-targets-data-releases/22.06/output/etl/parquet/associationByDatatypeDirect/part-00043-8d9107f6-e36d-4d36-a4ed-66c4c59bc87d-c000.snappy.parquet...\n",
      "- [44 files][  5.4 MiB/  5.6 MiB]  630.8 KiB/s                                  \r",
      "\\\r",
      "\\ [45 files][  5.6 MiB/  5.6 MiB]  639.2 KiB/s                                  \r",
      "Copying gs://open-targets-data-releases/22.06/output/etl/parquet/associationByDatatypeDirect/part-00044-8d9107f6-e36d-4d36-a4ed-66c4c59bc87d-c000.snappy.parquet...\n",
      "\\ [45 files][  5.6 MiB/  5.7 MiB]  639.2 KiB/s                                  \r",
      "\\ [46 files][  5.7 MiB/  5.7 MiB]  630.3 KiB/s                                  \r",
      "Copying gs://open-targets-data-releases/22.06/output/etl/parquet/associationByDatatypeDirect/part-00045-8d9107f6-e36d-4d36-a4ed-66c4c59bc87d-c000.snappy.parquet...\n",
      "\\ [46 files][  5.7 MiB/  5.8 MiB]  630.3 KiB/s                                  \r",
      "\\ [47 files][  5.8 MiB/  5.8 MiB]  627.7 KiB/s                                  \r",
      "Copying gs://open-targets-data-releases/22.06/output/etl/parquet/associationByDatatypeDirect/part-00046-8d9107f6-e36d-4d36-a4ed-66c4c59bc87d-c000.snappy.parquet...\n",
      "\\ [47 files][  5.8 MiB/  5.9 MiB]  627.7 KiB/s                                  \r",
      "|\r",
      "| [48 files][  5.9 MiB/  5.9 MiB]  606.1 KiB/s                                  \r",
      "Copying gs://open-targets-data-releases/22.06/output/etl/parquet/associationByDatatypeDirect/part-00047-8d9107f6-e36d-4d36-a4ed-66c4c59bc87d-c000.snappy.parquet...\n",
      "| [48 files][  5.9 MiB/  6.1 MiB]  606.1 KiB/s                                  \r",
      "| [49 files][  6.1 MiB/  6.1 MiB]  609.6 KiB/s                                  \r",
      "Copying gs://open-targets-data-releases/22.06/output/etl/parquet/associationByDatatypeDirect/part-00048-8d9107f6-e36d-4d36-a4ed-66c4c59bc87d-c000.snappy.parquet...\n",
      "| [49 files][  6.1 MiB/  6.2 MiB]  609.6 KiB/s                                  \r",
      "| [50 files][  6.2 MiB/  6.2 MiB]  618.3 KiB/s                                  \r",
      "Copying gs://open-targets-data-releases/22.06/output/etl/parquet/associationByDatatypeDirect/part-00049-8d9107f6-e36d-4d36-a4ed-66c4c59bc87d-c000.snappy.parquet...\n",
      "| [50 files][  6.2 MiB/  6.3 MiB]  618.3 KiB/s                                  \r",
      "| [51 files][  6.3 MiB/  6.3 MiB]  632.4 KiB/s                                  \r",
      "Copying gs://open-targets-data-releases/22.06/output/etl/parquet/associationByDatatypeDirect/part-00050-8d9107f6-e36d-4d36-a4ed-66c4c59bc87d-c000.snappy.parquet...\n",
      "| [51 files][  6.3 MiB/  6.4 MiB]  633.0 KiB/s                                  \r",
      "/\r",
      "/ [52 files][  6.4 MiB/  6.4 MiB]  624.0 KiB/s                                  \r",
      "Copying gs://open-targets-data-releases/22.06/output/etl/parquet/associationByDatatypeDirect/part-00051-8d9107f6-e36d-4d36-a4ed-66c4c59bc87d-c000.snappy.parquet...\n",
      "/ [52 files][  6.4 MiB/  6.6 MiB]  624.5 KiB/s                                  \r",
      "/ [53 files][  6.6 MiB/  6.6 MiB]  617.1 KiB/s                                  \r",
      "Copying gs://open-targets-data-releases/22.06/output/etl/parquet/associationByDatatypeDirect/part-00052-8d9107f6-e36d-4d36-a4ed-66c4c59bc87d-c000.snappy.parquet...\n",
      "/ [53 files][  6.6 MiB/  6.7 MiB]  617.1 KiB/s                                  \r",
      "/ [54 files][  6.7 MiB/  6.7 MiB]  614.7 KiB/s                                  \r",
      "Copying gs://open-targets-data-releases/22.06/output/etl/parquet/associationByDatatypeDirect/part-00053-8d9107f6-e36d-4d36-a4ed-66c4c59bc87d-c000.snappy.parquet...\n",
      "/ [54 files][  6.7 MiB/  6.8 MiB]  615.2 KiB/s                                  \r",
      "/ [55 files][  6.8 MiB/  6.8 MiB]  620.8 KiB/s                                  \r",
      "Copying gs://open-targets-data-releases/22.06/output/etl/parquet/associationByDatatypeDirect/part-00054-8d9107f6-e36d-4d36-a4ed-66c4c59bc87d-c000.snappy.parquet...\n",
      "/ [55 files][  6.8 MiB/  6.9 MiB]  620.8 KiB/s                                  \r",
      "-\r",
      "- [56 files][  6.9 MiB/  6.9 MiB]  632.5 KiB/s                                  \r",
      "Copying gs://open-targets-data-releases/22.06/output/etl/parquet/associationByDatatypeDirect/part-00055-8d9107f6-e36d-4d36-a4ed-66c4c59bc87d-c000.snappy.parquet...\n",
      "- [56 files][  6.9 MiB/  7.1 MiB]  632.5 KiB/s                                  \r",
      "- [57 files][  7.1 MiB/  7.1 MiB]  628.8 KiB/s                                  \r",
      "Copying gs://open-targets-data-releases/22.06/output/etl/parquet/associationByDatatypeDirect/part-00056-8d9107f6-e36d-4d36-a4ed-66c4c59bc87d-c000.snappy.parquet...\n",
      "- [57 files][  7.1 MiB/  7.2 MiB]  628.8 KiB/s                                  \r",
      "- [58 files][  7.2 MiB/  7.2 MiB]  631.7 KiB/s                                  \r",
      "Copying gs://open-targets-data-releases/22.06/output/etl/parquet/associationByDatatypeDirect/part-00057-8d9107f6-e36d-4d36-a4ed-66c4c59bc87d-c000.snappy.parquet...\n",
      "- [58 files][  7.2 MiB/  7.4 MiB]  631.7 KiB/s                                  \r",
      "- [59 files][  7.4 MiB/  7.4 MiB]  651.3 KiB/s                                  \r",
      "Copying gs://open-targets-data-releases/22.06/output/etl/parquet/associationByDatatypeDirect/part-00058-8d9107f6-e36d-4d36-a4ed-66c4c59bc87d-c000.snappy.parquet...\n",
      "- [59 files][  7.4 MiB/  7.5 MiB]  651.3 KiB/s                                  \r",
      "\\\r",
      "\\ [60 files][  7.5 MiB/  7.5 MiB]  658.0 KiB/s                                  \r",
      "Copying gs://open-targets-data-releases/22.06/output/etl/parquet/associationByDatatypeDirect/part-00059-8d9107f6-e36d-4d36-a4ed-66c4c59bc87d-c000.snappy.parquet...\n",
      "\\ [60 files][  7.5 MiB/  7.7 MiB]  658.0 KiB/s                                  \r",
      "\\ [61 files][  7.7 MiB/  7.7 MiB]  652.2 KiB/s                                  \r",
      "Copying gs://open-targets-data-releases/22.06/output/etl/parquet/associationByDatatypeDirect/part-00060-8d9107f6-e36d-4d36-a4ed-66c4c59bc87d-c000.snappy.parquet...\n",
      "\\ [61 files][  7.7 MiB/  7.8 MiB]  652.2 KiB/s                                  \r",
      "\\ [62 files][  7.8 MiB/  7.8 MiB]  663.3 KiB/s                                  \r",
      "Copying gs://open-targets-data-releases/22.06/output/etl/parquet/associationByDatatypeDirect/part-00061-8d9107f6-e36d-4d36-a4ed-66c4c59bc87d-c000.snappy.parquet...\n",
      "\\ [62 files][  7.8 MiB/  8.0 MiB]  663.3 KiB/s                                  \r",
      "|\r",
      "| [63 files][  8.0 MiB/  8.0 MiB]  669.8 KiB/s                                  \r",
      "Copying gs://open-targets-data-releases/22.06/output/etl/parquet/associationByDatatypeDirect/part-00062-8d9107f6-e36d-4d36-a4ed-66c4c59bc87d-c000.snappy.parquet...\n",
      "| [63 files][  8.0 MiB/  8.1 MiB]  669.8 KiB/s                                  \r",
      "| [64 files][  8.1 MiB/  8.1 MiB]  672.7 KiB/s                                  \r",
      "Copying gs://open-targets-data-releases/22.06/output/etl/parquet/associationByDatatypeDirect/part-00063-8d9107f6-e36d-4d36-a4ed-66c4c59bc87d-c000.snappy.parquet...\n",
      "| [64 files][  8.1 MiB/  8.3 MiB]  672.7 KiB/s                                  \r",
      "| [65 files][  8.3 MiB/  8.3 MiB]  687.3 KiB/s                                  \r",
      "Copying gs://open-targets-data-releases/22.06/output/etl/parquet/associationByDatatypeDirect/part-00064-8d9107f6-e36d-4d36-a4ed-66c4c59bc87d-c000.snappy.parquet...\n",
      "| [65 files][  8.3 MiB/  8.4 MiB]  687.3 KiB/s                                  \r",
      "/\r",
      "/ [66 files][  8.4 MiB/  8.4 MiB]  695.7 KiB/s                                  \r",
      "Copying gs://open-targets-data-releases/22.06/output/etl/parquet/associationByDatatypeDirect/part-00065-8d9107f6-e36d-4d36-a4ed-66c4c59bc87d-c000.snappy.parquet...\n",
      "/ [66 files][  8.4 MiB/  8.6 MiB]  695.7 KiB/s                                  \r",
      "/ [67 files][  8.6 MiB/  8.6 MiB]  696.1 KiB/s                                  \r",
      "Copying gs://open-targets-data-releases/22.06/output/etl/parquet/associationByDatatypeDirect/part-00066-8d9107f6-e36d-4d36-a4ed-66c4c59bc87d-c000.snappy.parquet...\n",
      "/ [67 files][  8.6 MiB/  8.7 MiB]  696.1 KiB/s                                  \r",
      "/ [68 files][  8.7 MiB/  8.7 MiB]  696.0 KiB/s                                  \r",
      "Copying gs://open-targets-data-releases/22.06/output/etl/parquet/associationByDatatypeDirect/part-00067-8d9107f6-e36d-4d36-a4ed-66c4c59bc87d-c000.snappy.parquet...\n",
      "/ [68 files][  8.7 MiB/  8.9 MiB]  696.0 KiB/s                                  \r",
      "-\r",
      "- [69 files][  8.9 MiB/  8.9 MiB]  711.5 KiB/s                                  \r",
      "Copying gs://open-targets-data-releases/22.06/output/etl/parquet/associationByDatatypeDirect/part-00068-8d9107f6-e36d-4d36-a4ed-66c4c59bc87d-c000.snappy.parquet...\n",
      "- [69 files][  8.9 MiB/  9.0 MiB]  711.5 KiB/s                                  \r",
      "- [70 files][  9.0 MiB/  9.0 MiB]  707.8 KiB/s                                  \r",
      "Copying gs://open-targets-data-releases/22.06/output/etl/parquet/associationByDatatypeDirect/part-00069-8d9107f6-e36d-4d36-a4ed-66c4c59bc87d-c000.snappy.parquet...\n",
      "- [70 files][  9.0 MiB/  9.2 MiB]  707.8 KiB/s                                  \r",
      "- [71 files][  9.2 MiB/  9.2 MiB]  716.1 KiB/s                                  \r",
      "Copying gs://open-targets-data-releases/22.06/output/etl/parquet/associationByDatatypeDirect/part-00070-8d9107f6-e36d-4d36-a4ed-66c4c59bc87d-c000.snappy.parquet...\n",
      "- [71 files][  9.2 MiB/  9.3 MiB]  716.1 KiB/s                                  \r",
      "\\\r",
      "\\ [72 files][  9.3 MiB/  9.3 MiB]  716.3 KiB/s                                  \r",
      "Copying gs://open-targets-data-releases/22.06/output/etl/parquet/associationByDatatypeDirect/part-00071-8d9107f6-e36d-4d36-a4ed-66c4c59bc87d-c000.snappy.parquet...\n",
      "\\ [72 files][  9.3 MiB/  9.5 MiB]  716.3 KiB/s                                  \r",
      "\\ [73 files][  9.5 MiB/  9.5 MiB]  724.7 KiB/s                                  \r",
      "Copying gs://open-targets-data-releases/22.06/output/etl/parquet/associationByDatatypeDirect/part-00072-8d9107f6-e36d-4d36-a4ed-66c4c59bc87d-c000.snappy.parquet...\n",
      "\\ [73 files][  9.5 MiB/  9.6 MiB]  724.7 KiB/s                                  \r",
      "\\ [73 files][  9.6 MiB/  9.6 MiB]  588.8 KiB/s                                  \r",
      "|\r",
      "| [74 files][  9.6 MiB/  9.6 MiB]  588.7 KiB/s                                  \r",
      "Copying gs://open-targets-data-releases/22.06/output/etl/parquet/associationByDatatypeDirect/part-00073-8d9107f6-e36d-4d36-a4ed-66c4c59bc87d-c000.snappy.parquet...\n",
      "| [74 files][  9.6 MiB/  9.7 MiB]  588.7 KiB/s                                  \r",
      "| [75 files][  9.7 MiB/  9.7 MiB]  590.5 KiB/s                                  \r",
      "Copying gs://open-targets-data-releases/22.06/output/etl/parquet/associationByDatatypeDirect/part-00074-8d9107f6-e36d-4d36-a4ed-66c4c59bc87d-c000.snappy.parquet...\n",
      "| [75 files][  9.7 MiB/  9.8 MiB]  583.7 KiB/s                                  \r",
      "| [76 files][  9.8 MiB/  9.8 MiB]  585.8 KiB/s                                  \r",
      "Copying gs://open-targets-data-releases/22.06/output/etl/parquet/associationByDatatypeDirect/part-00075-8d9107f6-e36d-4d36-a4ed-66c4c59bc87d-c000.snappy.parquet...\n",
      "| [76 files][  9.8 MiB/ 10.0 MiB]  585.8 KiB/s                                  \r",
      "/\r",
      "/ [77 files][ 10.0 MiB/ 10.0 MiB]  576.4 KiB/s                                  \r",
      "Copying gs://open-targets-data-releases/22.06/output/etl/parquet/associationByDatatypeDirect/part-00076-8d9107f6-e36d-4d36-a4ed-66c4c59bc87d-c000.snappy.parquet...\n",
      "/ [77 files][ 10.0 MiB/ 10.1 MiB]  576.4 KiB/s                                  \r",
      "/ [78 files][ 10.1 MiB/ 10.1 MiB]  565.4 KiB/s                                  \r",
      "Copying gs://open-targets-data-releases/22.06/output/etl/parquet/associationByDatatypeDirect/part-00077-8d9107f6-e36d-4d36-a4ed-66c4c59bc87d-c000.snappy.parquet...\n",
      "/ [78 files][ 10.1 MiB/ 10.2 MiB]  565.4 KiB/s                                  \r",
      "/ [79 files][ 10.2 MiB/ 10.2 MiB]  551.0 KiB/s                                  \r",
      "Copying gs://open-targets-data-releases/22.06/output/etl/parquet/associationByDatatypeDirect/part-00078-8d9107f6-e36d-4d36-a4ed-66c4c59bc87d-c000.snappy.parquet...\n",
      "/ [79 files][ 10.2 MiB/ 10.4 MiB]  551.0 KiB/s                                  \r",
      "-\r",
      "- [80 files][ 10.4 MiB/ 10.4 MiB]  550.3 KiB/s                                  \r",
      "Copying gs://open-targets-data-releases/22.06/output/etl/parquet/associationByDatatypeDirect/part-00079-8d9107f6-e36d-4d36-a4ed-66c4c59bc87d-c000.snappy.parquet...\n",
      "- [80 files][ 10.4 MiB/ 10.5 MiB]  545.8 KiB/s                                  \r",
      "- [81 files][ 10.5 MiB/ 10.5 MiB]  547.1 KiB/s                                  \r",
      "Copying gs://open-targets-data-releases/22.06/output/etl/parquet/associationByDatatypeDirect/part-00080-8d9107f6-e36d-4d36-a4ed-66c4c59bc87d-c000.snappy.parquet...\n",
      "- [81 files][ 10.5 MiB/ 10.6 MiB]  547.5 KiB/s                                  \r",
      "- [82 files][ 10.6 MiB/ 10.6 MiB]  542.4 KiB/s                                  \r",
      "Copying gs://open-targets-data-releases/22.06/output/etl/parquet/associationByDatatypeDirect/part-00081-8d9107f6-e36d-4d36-a4ed-66c4c59bc87d-c000.snappy.parquet...\n",
      "- [82 files][ 10.6 MiB/ 10.7 MiB]  542.4 KiB/s                                  \r",
      "- [83 files][ 10.7 MiB/ 10.7 MiB]  536.1 KiB/s                                  \r",
      "Copying gs://open-targets-data-releases/22.06/output/etl/parquet/associationByDatatypeDirect/part-00082-8d9107f6-e36d-4d36-a4ed-66c4c59bc87d-c000.snappy.parquet...\n",
      "- [83 files][ 10.7 MiB/ 10.9 MiB]  536.1 KiB/s                                  \r",
      "\\\r",
      "\\ [84 files][ 10.9 MiB/ 10.9 MiB]  537.4 KiB/s                                  \r",
      "Copying gs://open-targets-data-releases/22.06/output/etl/parquet/associationByDatatypeDirect/part-00083-8d9107f6-e36d-4d36-a4ed-66c4c59bc87d-c000.snappy.parquet...\n",
      "\\ [84 files][ 10.9 MiB/ 11.0 MiB]  537.4 KiB/s                                  \r",
      "\\ [85 files][ 11.0 MiB/ 11.0 MiB]  538.2 KiB/s                                  \r",
      "Copying gs://open-targets-data-releases/22.06/output/etl/parquet/associationByDatatypeDirect/part-00084-8d9107f6-e36d-4d36-a4ed-66c4c59bc87d-c000.snappy.parquet...\n",
      "\\ [85 files][ 11.0 MiB/ 11.2 MiB]  538.2 KiB/s                                  \r",
      "\\ [86 files][ 11.2 MiB/ 11.2 MiB]  515.4 KiB/s                                  \r",
      "Copying gs://open-targets-data-releases/22.06/output/etl/parquet/associationByDatatypeDirect/part-00085-8d9107f6-e36d-4d36-a4ed-66c4c59bc87d-c000.snappy.parquet...\n",
      "\\ [86 files][ 11.2 MiB/ 11.3 MiB]  515.4 KiB/s                                  \r",
      "|\r",
      "| [87 files][ 11.3 MiB/ 11.3 MiB]  504.0 KiB/s                                  \r",
      "Copying gs://open-targets-data-releases/22.06/output/etl/parquet/associationByDatatypeDirect/part-00086-8d9107f6-e36d-4d36-a4ed-66c4c59bc87d-c000.snappy.parquet...\n",
      "| [87 files][ 11.3 MiB/ 11.5 MiB]  504.0 KiB/s                                  \r",
      "| [88 files][ 11.5 MiB/ 11.5 MiB]  507.0 KiB/s                                  \r",
      "Copying gs://open-targets-data-releases/22.06/output/etl/parquet/associationByDatatypeDirect/part-00087-8d9107f6-e36d-4d36-a4ed-66c4c59bc87d-c000.snappy.parquet...\n",
      "| [88 files][ 11.5 MiB/ 11.6 MiB]  507.0 KiB/s                                  \r",
      "| [89 files][ 11.6 MiB/ 11.6 MiB]  508.0 KiB/s                                  \r",
      "Copying gs://open-targets-data-releases/22.06/output/etl/parquet/associationByDatatypeDirect/part-00088-8d9107f6-e36d-4d36-a4ed-66c4c59bc87d-c000.snappy.parquet...\n",
      "| [89 files][ 11.6 MiB/ 11.7 MiB]  508.0 KiB/s                                  \r",
      "| [90 files][ 11.7 MiB/ 11.7 MiB]  504.6 KiB/s                                  \r",
      "Copying gs://open-targets-data-releases/22.06/output/etl/parquet/associationByDatatypeDirect/part-00089-8d9107f6-e36d-4d36-a4ed-66c4c59bc87d-c000.snappy.parquet...\n",
      "| [90 files][ 11.7 MiB/ 11.8 MiB]  504.6 KiB/s                                  \r",
      "/\r",
      "/ [91 files][ 11.8 MiB/ 11.8 MiB]  500.2 KiB/s                                  \r",
      "Copying gs://open-targets-data-releases/22.06/output/etl/parquet/associationByDatatypeDirect/part-00090-8d9107f6-e36d-4d36-a4ed-66c4c59bc87d-c000.snappy.parquet...\n",
      "/ [91 files][ 11.8 MiB/ 12.0 MiB]  500.2 KiB/s                                  \r",
      "/ [92 files][ 12.0 MiB/ 12.0 MiB]  640.4 KiB/s                                  \r",
      "Copying gs://open-targets-data-releases/22.06/output/etl/parquet/associationByDatatypeDirect/part-00091-8d9107f6-e36d-4d36-a4ed-66c4c59bc87d-c000.snappy.parquet...\n",
      "/ [92 files][ 12.0 MiB/ 12.1 MiB]  640.4 KiB/s                                  \r",
      "-\r",
      "- [93 files][ 12.1 MiB/ 12.1 MiB]  635.7 KiB/s                                  \r",
      "Copying gs://open-targets-data-releases/22.06/output/etl/parquet/associationByDatatypeDirect/part-00092-8d9107f6-e36d-4d36-a4ed-66c4c59bc87d-c000.snappy.parquet...\n",
      "- [93 files][ 12.1 MiB/ 12.2 MiB]  635.7 KiB/s                                  \r",
      "- [94 files][ 12.2 MiB/ 12.2 MiB]  642.3 KiB/s                                  \r",
      "Copying gs://open-targets-data-releases/22.06/output/etl/parquet/associationByDatatypeDirect/part-00093-8d9107f6-e36d-4d36-a4ed-66c4c59bc87d-c000.snappy.parquet...\n",
      "- [94 files][ 12.2 MiB/ 12.4 MiB]  642.3 KiB/s                                  \r",
      "- [95 files][ 12.4 MiB/ 12.4 MiB]  634.3 KiB/s                                  \r",
      "Copying gs://open-targets-data-releases/22.06/output/etl/parquet/associationByDatatypeDirect/part-00094-8d9107f6-e36d-4d36-a4ed-66c4c59bc87d-c000.snappy.parquet...\n",
      "- [95 files][ 12.4 MiB/ 12.5 MiB]  634.3 KiB/s                                  \r",
      "\\\r",
      "\\ [96 files][ 12.5 MiB/ 12.5 MiB]  641.8 KiB/s                                  \r",
      "Copying gs://open-targets-data-releases/22.06/output/etl/parquet/associationByDatatypeDirect/part-00095-8d9107f6-e36d-4d36-a4ed-66c4c59bc87d-c000.snappy.parquet...\n",
      "\\ [96 files][ 12.5 MiB/ 12.6 MiB]  641.8 KiB/s                                  \r",
      "\\ [97 files][ 12.6 MiB/ 12.6 MiB]  641.1 KiB/s                                  \r",
      "Copying gs://open-targets-data-releases/22.06/output/etl/parquet/associationByDatatypeDirect/part-00096-8d9107f6-e36d-4d36-a4ed-66c4c59bc87d-c000.snappy.parquet...\n",
      "\\ [97 files][ 12.6 MiB/ 12.8 MiB]  641.1 KiB/s                                  \r",
      "\\ [98 files][ 12.8 MiB/ 12.8 MiB]  644.7 KiB/s                                  \r",
      "Copying gs://open-targets-data-releases/22.06/output/etl/parquet/associationByDatatypeDirect/part-00097-8d9107f6-e36d-4d36-a4ed-66c4c59bc87d-c000.snappy.parquet...\n",
      "\\ [98 files][ 12.8 MiB/ 12.8 MiB]  644.7 KiB/s                                  \r",
      "\\ [99 files][ 12.8 MiB/ 12.8 MiB]  631.9 KiB/s                                  \r",
      "Copying gs://open-targets-data-releases/22.06/output/etl/parquet/associationByDatatypeDirect/part-00098-8d9107f6-e36d-4d36-a4ed-66c4c59bc87d-c000.snappy.parquet...\n",
      "\\ [99 files][ 12.8 MiB/ 12.9 MiB]  631.9 KiB/s                                  \r",
      "|\r",
      "| [100 files][ 12.9 MiB/ 12.9 MiB]  619.1 KiB/s                                 \r",
      "Copying gs://open-targets-data-releases/22.06/output/etl/parquet/associationByDatatypeDirect/part-00099-8d9107f6-e36d-4d36-a4ed-66c4c59bc87d-c000.snappy.parquet...\n",
      "| [100 files][ 12.9 MiB/ 13.0 MiB]  619.1 KiB/s                                 \r",
      "| [101 files][ 13.0 MiB/ 13.0 MiB]  614.0 KiB/s                                 \r",
      "Copying gs://open-targets-data-releases/22.06/output/etl/parquet/associationByDatatypeDirect/part-00100-8d9107f6-e36d-4d36-a4ed-66c4c59bc87d-c000.snappy.parquet...\n",
      "| [101 files][ 13.0 MiB/ 13.1 MiB]  614.0 KiB/s                                 \r",
      "| [102 files][ 13.1 MiB/ 13.1 MiB]  610.6 KiB/s                                 \r",
      "Copying gs://open-targets-data-releases/22.06/output/etl/parquet/associationByDatatypeDirect/part-00101-8d9107f6-e36d-4d36-a4ed-66c4c59bc87d-c000.snappy.parquet...\n",
      "| [102 files][ 13.1 MiB/ 13.2 MiB]  610.6 KiB/s                                 \r",
      "| [103 files][ 13.2 MiB/ 13.2 MiB]  609.1 KiB/s                                 \r",
      "Copying gs://open-targets-data-releases/22.06/output/etl/parquet/associationByDatatypeDirect/part-00102-8d9107f6-e36d-4d36-a4ed-66c4c59bc87d-c000.snappy.parquet...\n",
      "| [103 files][ 13.2 MiB/ 13.3 MiB]  609.1 KiB/s                                 \r",
      "/\r",
      "/ [104 files][ 13.3 MiB/ 13.3 MiB]  601.3 KiB/s                                 \r",
      "Copying gs://open-targets-data-releases/22.06/output/etl/parquet/associationByDatatypeDirect/part-00103-8d9107f6-e36d-4d36-a4ed-66c4c59bc87d-c000.snappy.parquet...\n",
      "/ [104 files][ 13.3 MiB/ 13.4 MiB]  601.3 KiB/s                                 \r",
      "/ [105 files][ 13.4 MiB/ 13.4 MiB]  602.1 KiB/s                                 \r",
      "Copying gs://open-targets-data-releases/22.06/output/etl/parquet/associationByDatatypeDirect/part-00104-8d9107f6-e36d-4d36-a4ed-66c4c59bc87d-c000.snappy.parquet...\n",
      "/ [105 files][ 13.4 MiB/ 13.5 MiB]  602.1 KiB/s                                 \r",
      "/ [106 files][ 13.5 MiB/ 13.5 MiB]  602.2 KiB/s                                 \r",
      "Copying gs://open-targets-data-releases/22.06/output/etl/parquet/associationByDatatypeDirect/part-00105-8d9107f6-e36d-4d36-a4ed-66c4c59bc87d-c000.snappy.parquet...\n",
      "/ [106 files][ 13.5 MiB/ 13.6 MiB]  602.2 KiB/s                                 \r",
      "/ [107 files][ 13.6 MiB/ 13.6 MiB]  597.5 KiB/s                                 \r",
      "Copying gs://open-targets-data-releases/22.06/output/etl/parquet/associationByDatatypeDirect/part-00106-8d9107f6-e36d-4d36-a4ed-66c4c59bc87d-c000.snappy.parquet...\n",
      "/ [107 files][ 13.6 MiB/ 13.7 MiB]  597.5 KiB/s                                 \r",
      "-\r",
      "- [108 files][ 13.7 MiB/ 13.7 MiB]  589.6 KiB/s                                 \r",
      "Copying gs://open-targets-data-releases/22.06/output/etl/parquet/associationByDatatypeDirect/part-00107-8d9107f6-e36d-4d36-a4ed-66c4c59bc87d-c000.snappy.parquet...\n",
      "- [108 files][ 13.7 MiB/ 13.8 MiB]  589.6 KiB/s                                 \r",
      "- [109 files][ 13.8 MiB/ 13.8 MiB]  583.3 KiB/s                                 \r",
      "Copying gs://open-targets-data-releases/22.06/output/etl/parquet/associationByDatatypeDirect/part-00108-8d9107f6-e36d-4d36-a4ed-66c4c59bc87d-c000.snappy.parquet...\n",
      "- [109 files][ 13.8 MiB/ 13.9 MiB]  583.3 KiB/s                                 \r",
      "- [110 files][ 13.9 MiB/ 13.9 MiB]  601.4 KiB/s                                 \r",
      "Copying gs://open-targets-data-releases/22.06/output/etl/parquet/associationByDatatypeDirect/part-00109-8d9107f6-e36d-4d36-a4ed-66c4c59bc87d-c000.snappy.parquet...\n",
      "- [110 files][ 13.9 MiB/ 14.0 MiB]  601.4 KiB/s                                 \r",
      "- [111 files][ 14.0 MiB/ 14.0 MiB]  600.5 KiB/s                                 \r",
      "Copying gs://open-targets-data-releases/22.06/output/etl/parquet/associationByDatatypeDirect/part-00110-8d9107f6-e36d-4d36-a4ed-66c4c59bc87d-c000.snappy.parquet...\n",
      "- [111 files][ 14.0 MiB/ 14.2 MiB]  600.5 KiB/s                                 \r",
      "\\\r",
      "\\ [112 files][ 14.2 MiB/ 14.2 MiB]  601.2 KiB/s                                 \r",
      "Copying gs://open-targets-data-releases/22.06/output/etl/parquet/associationByDatatypeDirect/part-00111-8d9107f6-e36d-4d36-a4ed-66c4c59bc87d-c000.snappy.parquet...\n",
      "\\ [112 files][ 14.2 MiB/ 14.2 MiB]  601.2 KiB/s                                 \r",
      "\\ [113 files][ 14.2 MiB/ 14.2 MiB]  589.7 KiB/s                                 \r",
      "Copying gs://open-targets-data-releases/22.06/output/etl/parquet/associationByDatatypeDirect/part-00112-8d9107f6-e36d-4d36-a4ed-66c4c59bc87d-c000.snappy.parquet...\n",
      "\\ [113 files][ 14.2 MiB/ 14.4 MiB]  589.7 KiB/s                                 \r",
      "\\ [114 files][ 14.4 MiB/ 14.4 MiB]  581.4 KiB/s                                 \r",
      "Copying gs://open-targets-data-releases/22.06/output/etl/parquet/associationByDatatypeDirect/part-00113-8d9107f6-e36d-4d36-a4ed-66c4c59bc87d-c000.snappy.parquet...\n",
      "\\ [114 files][ 14.4 MiB/ 14.5 MiB]  581.4 KiB/s                                 \r",
      "\\ [115 files][ 14.5 MiB/ 14.5 MiB]  587.2 KiB/s                                 \r",
      "Copying gs://open-targets-data-releases/22.06/output/etl/parquet/associationByDatatypeDirect/part-00114-8d9107f6-e36d-4d36-a4ed-66c4c59bc87d-c000.snappy.parquet...\n",
      "\\ [115 files][ 14.5 MiB/ 14.6 MiB]  587.2 KiB/s                                 \r",
      "|\r",
      "| [116 files][ 14.6 MiB/ 14.6 MiB]  583.6 KiB/s                                 \r",
      "Copying gs://open-targets-data-releases/22.06/output/etl/parquet/associationByDatatypeDirect/part-00115-8d9107f6-e36d-4d36-a4ed-66c4c59bc87d-c000.snappy.parquet...\n",
      "| [116 files][ 14.6 MiB/ 14.7 MiB]  583.6 KiB/s                                 \r",
      "| [117 files][ 14.7 MiB/ 14.7 MiB]  575.7 KiB/s                                 \r",
      "Copying gs://open-targets-data-releases/22.06/output/etl/parquet/associationByDatatypeDirect/part-00116-8d9107f6-e36d-4d36-a4ed-66c4c59bc87d-c000.snappy.parquet...\n",
      "| [117 files][ 14.7 MiB/ 14.8 MiB]  575.7 KiB/s                                 \r",
      "| [118 files][ 14.8 MiB/ 14.8 MiB]  576.5 KiB/s                                 \r",
      "Copying gs://open-targets-data-releases/22.06/output/etl/parquet/associationByDatatypeDirect/part-00117-8d9107f6-e36d-4d36-a4ed-66c4c59bc87d-c000.snappy.parquet...\n",
      "| [118 files][ 14.8 MiB/ 14.9 MiB]  576.5 KiB/s                                 \r",
      "| [119 files][ 14.9 MiB/ 14.9 MiB]  573.5 KiB/s                                 \r",
      "Copying gs://open-targets-data-releases/22.06/output/etl/parquet/associationByDatatypeDirect/part-00118-8d9107f6-e36d-4d36-a4ed-66c4c59bc87d-c000.snappy.parquet...\n",
      "| [119 files][ 14.9 MiB/ 15.0 MiB]  573.5 KiB/s                                 \r",
      "/\r",
      "/ [120 files][ 15.0 MiB/ 15.0 MiB]  567.1 KiB/s                                 \r",
      "Copying gs://open-targets-data-releases/22.06/output/etl/parquet/associationByDatatypeDirect/part-00119-8d9107f6-e36d-4d36-a4ed-66c4c59bc87d-c000.snappy.parquet...\n",
      "/ [120 files][ 15.0 MiB/ 15.1 MiB]  567.1 KiB/s                                 \r",
      "/ [121 files][ 15.1 MiB/ 15.1 MiB]  574.2 KiB/s                                 \r",
      "Copying gs://open-targets-data-releases/22.06/output/etl/parquet/associationByDatatypeDirect/part-00120-8d9107f6-e36d-4d36-a4ed-66c4c59bc87d-c000.snappy.parquet...\n",
      "/ [121 files][ 15.1 MiB/ 15.2 MiB]  574.2 KiB/s                                 \r",
      "/ [122 files][ 15.2 MiB/ 15.2 MiB]  565.4 KiB/s                                 \r",
      "Copying gs://open-targets-data-releases/22.06/output/etl/parquet/associationByDatatypeDirect/part-00121-8d9107f6-e36d-4d36-a4ed-66c4c59bc87d-c000.snappy.parquet...\n",
      "/ [122 files][ 15.2 MiB/ 15.3 MiB]  565.4 KiB/s                                 \r",
      "-\r",
      "- [123 files][ 15.3 MiB/ 15.3 MiB]  560.7 KiB/s                                 \r",
      "Copying gs://open-targets-data-releases/22.06/output/etl/parquet/associationByDatatypeDirect/part-00122-8d9107f6-e36d-4d36-a4ed-66c4c59bc87d-c000.snappy.parquet...\n",
      "- [123 files][ 15.3 MiB/ 15.4 MiB]  560.7 KiB/s                                 \r",
      "- [124 files][ 15.4 MiB/ 15.4 MiB]  555.8 KiB/s                                 \r",
      "Copying gs://open-targets-data-releases/22.06/output/etl/parquet/associationByDatatypeDirect/part-00123-8d9107f6-e36d-4d36-a4ed-66c4c59bc87d-c000.snappy.parquet...\n",
      "- [124 files][ 15.4 MiB/ 15.5 MiB]  555.8 KiB/s                                 \r",
      "- [125 files][ 15.5 MiB/ 15.5 MiB]  559.8 KiB/s                                 \r",
      "Copying gs://open-targets-data-releases/22.06/output/etl/parquet/associationByDatatypeDirect/part-00124-8d9107f6-e36d-4d36-a4ed-66c4c59bc87d-c000.snappy.parquet...\n",
      "- [125 files][ 15.5 MiB/ 15.6 MiB]  559.8 KiB/s                                 \r",
      "- [126 files][ 15.6 MiB/ 15.6 MiB]  574.2 KiB/s                                 \r",
      "Copying gs://open-targets-data-releases/22.06/output/etl/parquet/associationByDatatypeDirect/part-00125-8d9107f6-e36d-4d36-a4ed-66c4c59bc87d-c000.snappy.parquet...\n",
      "- [126 files][ 15.6 MiB/ 15.7 MiB]  574.2 KiB/s                                 \r",
      "\\\r",
      "\\ [127 files][ 15.7 MiB/ 15.7 MiB]  573.9 KiB/s                                 \r",
      "Copying gs://open-targets-data-releases/22.06/output/etl/parquet/associationByDatatypeDirect/part-00126-8d9107f6-e36d-4d36-a4ed-66c4c59bc87d-c000.snappy.parquet...\n",
      "\\ [127 files][ 15.7 MiB/ 15.8 MiB]  573.9 KiB/s                                 \r",
      "\\ [128 files][ 15.8 MiB/ 15.8 MiB]  570.7 KiB/s                                 \r",
      "Copying gs://open-targets-data-releases/22.06/output/etl/parquet/associationByDatatypeDirect/part-00127-8d9107f6-e36d-4d36-a4ed-66c4c59bc87d-c000.snappy.parquet...\n",
      "\\ [128 files][ 15.8 MiB/ 16.0 MiB]  570.7 KiB/s                                 \r",
      "\\ [129 files][ 16.0 MiB/ 16.0 MiB]  585.8 KiB/s                                 \r",
      "Copying gs://open-targets-data-releases/22.06/output/etl/parquet/associationByDatatypeDirect/part-00128-8d9107f6-e36d-4d36-a4ed-66c4c59bc87d-c000.snappy.parquet...\n",
      "\\ [129 files][ 16.0 MiB/ 16.1 MiB]  585.8 KiB/s                                 \r",
      "|\r",
      "| [130 files][ 16.1 MiB/ 16.1 MiB]  581.8 KiB/s                                 \r",
      "Copying gs://open-targets-data-releases/22.06/output/etl/parquet/associationByDatatypeDirect/part-00129-8d9107f6-e36d-4d36-a4ed-66c4c59bc87d-c000.snappy.parquet...\n",
      "| [130 files][ 16.1 MiB/ 16.2 MiB]  581.8 KiB/s                                 \r",
      "| [131 files][ 16.2 MiB/ 16.2 MiB]  580.8 KiB/s                                 \r",
      "Copying gs://open-targets-data-releases/22.06/output/etl/parquet/associationByDatatypeDirect/part-00130-8d9107f6-e36d-4d36-a4ed-66c4c59bc87d-c000.snappy.parquet...\n",
      "| [131 files][ 16.2 MiB/ 16.3 MiB]  580.8 KiB/s                                 \r",
      "| [132 files][ 16.3 MiB/ 16.3 MiB]  582.9 KiB/s                                 \r",
      "Copying gs://open-targets-data-releases/22.06/output/etl/parquet/associationByDatatypeDirect/part-00131-8d9107f6-e36d-4d36-a4ed-66c4c59bc87d-c000.snappy.parquet...\n",
      "| [132 files][ 16.3 MiB/ 16.5 MiB]  582.9 KiB/s                                 \r",
      "| [133 files][ 16.5 MiB/ 16.5 MiB]  589.3 KiB/s                                 \r",
      "Copying gs://open-targets-data-releases/22.06/output/etl/parquet/associationByDatatypeDirect/part-00132-8d9107f6-e36d-4d36-a4ed-66c4c59bc87d-c000.snappy.parquet...\n",
      "| [133 files][ 16.5 MiB/ 16.6 MiB]  589.3 KiB/s                                 \r",
      "/\r",
      "/ [134 files][ 16.6 MiB/ 16.6 MiB]  592.5 KiB/s                                 \r",
      "Copying gs://open-targets-data-releases/22.06/output/etl/parquet/associationByDatatypeDirect/part-00133-8d9107f6-e36d-4d36-a4ed-66c4c59bc87d-c000.snappy.parquet...\n",
      "/ [134 files][ 16.6 MiB/ 16.7 MiB]  592.5 KiB/s                                 \r",
      "/ [135 files][ 16.7 MiB/ 16.7 MiB]  596.5 KiB/s                                 \r",
      "Copying gs://open-targets-data-releases/22.06/output/etl/parquet/associationByDatatypeDirect/part-00134-8d9107f6-e36d-4d36-a4ed-66c4c59bc87d-c000.snappy.parquet...\n",
      "/ [135 files][ 16.7 MiB/ 16.8 MiB]  596.5 KiB/s                                 \r",
      "/ [136 files][ 16.8 MiB/ 16.8 MiB]  598.0 KiB/s                                 \r",
      "Copying gs://open-targets-data-releases/22.06/output/etl/parquet/associationByDatatypeDirect/part-00135-8d9107f6-e36d-4d36-a4ed-66c4c59bc87d-c000.snappy.parquet...\n",
      "/ [136 files][ 16.8 MiB/ 16.9 MiB]  598.0 KiB/s                                 \r",
      "/ [137 files][ 16.9 MiB/ 16.9 MiB]  597.2 KiB/s                                 \r",
      "Copying gs://open-targets-data-releases/22.06/output/etl/parquet/associationByDatatypeDirect/part-00136-8d9107f6-e36d-4d36-a4ed-66c4c59bc87d-c000.snappy.parquet...\n",
      "/ [137 files][ 16.9 MiB/ 17.0 MiB]  597.2 KiB/s                                 \r",
      "-\r",
      "- [138 files][ 17.0 MiB/ 17.0 MiB]  592.8 KiB/s                                 \r",
      "Copying gs://open-targets-data-releases/22.06/output/etl/parquet/associationByDatatypeDirect/part-00137-8d9107f6-e36d-4d36-a4ed-66c4c59bc87d-c000.snappy.parquet...\n",
      "- [138 files][ 17.0 MiB/ 17.1 MiB]  592.8 KiB/s                                 \r",
      "- [139 files][ 17.1 MiB/ 17.1 MiB]  602.7 KiB/s                                 \r",
      "Copying gs://open-targets-data-releases/22.06/output/etl/parquet/associationByDatatypeDirect/part-00138-8d9107f6-e36d-4d36-a4ed-66c4c59bc87d-c000.snappy.parquet...\n",
      "- [139 files][ 17.1 MiB/ 17.2 MiB]  602.7 KiB/s                                 \r",
      "- [140 files][ 17.2 MiB/ 17.2 MiB]  601.9 KiB/s                                 \r",
      "Copying gs://open-targets-data-releases/22.06/output/etl/parquet/associationByDatatypeDirect/part-00139-8d9107f6-e36d-4d36-a4ed-66c4c59bc87d-c000.snappy.parquet...\n",
      "- [140 files][ 17.2 MiB/ 17.3 MiB]  601.9 KiB/s                                 \r",
      "- [141 files][ 17.3 MiB/ 17.3 MiB]  594.0 KiB/s                                 \r",
      "Copying gs://open-targets-data-releases/22.06/output/etl/parquet/associationByDatatypeDirect/part-00140-8d9107f6-e36d-4d36-a4ed-66c4c59bc87d-c000.snappy.parquet...\n",
      "- [141 files][ 17.3 MiB/ 17.4 MiB]  594.0 KiB/s                                 \r",
      "\\\r",
      "\\ [142 files][ 17.4 MiB/ 17.4 MiB]  592.6 KiB/s                                 \r",
      "Copying gs://open-targets-data-releases/22.06/output/etl/parquet/associationByDatatypeDirect/part-00141-8d9107f6-e36d-4d36-a4ed-66c4c59bc87d-c000.snappy.parquet...\n",
      "\\ [142 files][ 17.4 MiB/ 17.6 MiB]  592.6 KiB/s                                 \r",
      "\\ [143 files][ 17.6 MiB/ 17.6 MiB]  597.8 KiB/s                                 \r",
      "Copying gs://open-targets-data-releases/22.06/output/etl/parquet/associationByDatatypeDirect/part-00142-8d9107f6-e36d-4d36-a4ed-66c4c59bc87d-c000.snappy.parquet...\n",
      "\\ [143 files][ 17.6 MiB/ 17.7 MiB]  597.8 KiB/s                                 \r",
      "\\ [144 files][ 17.7 MiB/ 17.7 MiB]  598.6 KiB/s                                 \r",
      "Copying gs://open-targets-data-releases/22.06/output/etl/parquet/associationByDatatypeDirect/part-00143-8d9107f6-e36d-4d36-a4ed-66c4c59bc87d-c000.snappy.parquet...\n",
      "\\ [144 files][ 17.7 MiB/ 17.8 MiB]  598.6 KiB/s                                 \r",
      "\\ [145 files][ 17.8 MiB/ 17.8 MiB]  606.3 KiB/s                                 \r",
      "Copying gs://open-targets-data-releases/22.06/output/etl/parquet/associationByDatatypeDirect/part-00144-8d9107f6-e36d-4d36-a4ed-66c4c59bc87d-c000.snappy.parquet...\n",
      "\\ [145 files][ 17.8 MiB/ 17.9 MiB]  606.3 KiB/s                                 \r",
      "|\r",
      "| [146 files][ 17.9 MiB/ 17.9 MiB]  599.4 KiB/s                                 \r",
      "Copying gs://open-targets-data-releases/22.06/output/etl/parquet/associationByDatatypeDirect/part-00145-8d9107f6-e36d-4d36-a4ed-66c4c59bc87d-c000.snappy.parquet...\n",
      "| [146 files][ 17.9 MiB/ 18.0 MiB]  599.4 KiB/s                                 \r",
      "| [147 files][ 18.0 MiB/ 18.0 MiB]  596.4 KiB/s                                 \r",
      "Copying gs://open-targets-data-releases/22.06/output/etl/parquet/associationByDatatypeDirect/part-00146-8d9107f6-e36d-4d36-a4ed-66c4c59bc87d-c000.snappy.parquet...\n",
      "| [147 files][ 18.0 MiB/ 18.1 MiB]  596.4 KiB/s                                 \r",
      "| [148 files][ 18.1 MiB/ 18.1 MiB]  600.8 KiB/s                                 \r",
      "Copying gs://open-targets-data-releases/22.06/output/etl/parquet/associationByDatatypeDirect/part-00147-8d9107f6-e36d-4d36-a4ed-66c4c59bc87d-c000.snappy.parquet...\n",
      "| [148 files][ 18.1 MiB/ 18.2 MiB]  600.8 KiB/s                                 \r",
      "| [149 files][ 18.2 MiB/ 18.2 MiB]  602.0 KiB/s                                 \r",
      "Copying gs://open-targets-data-releases/22.06/output/etl/parquet/associationByDatatypeDirect/part-00148-8d9107f6-e36d-4d36-a4ed-66c4c59bc87d-c000.snappy.parquet...\n",
      "| [149 files][ 18.2 MiB/ 18.3 MiB]  602.0 KiB/s                                 \r",
      "/\r",
      "/ [150 files][ 18.3 MiB/ 18.3 MiB]  602.0 KiB/s                                 \r",
      "Copying gs://open-targets-data-releases/22.06/output/etl/parquet/associationByDatatypeDirect/part-00149-8d9107f6-e36d-4d36-a4ed-66c4c59bc87d-c000.snappy.parquet...\n",
      "/ [150 files][ 18.3 MiB/ 18.4 MiB]  602.0 KiB/s                                 \r",
      "/ [151 files][ 18.4 MiB/ 18.4 MiB]  605.4 KiB/s                                 \r",
      "Copying gs://open-targets-data-releases/22.06/output/etl/parquet/associationByDatatypeDirect/part-00150-8d9107f6-e36d-4d36-a4ed-66c4c59bc87d-c000.snappy.parquet...\n",
      "/ [151 files][ 18.4 MiB/ 18.5 MiB]  605.4 KiB/s                                 \r",
      "/ [152 files][ 18.5 MiB/ 18.5 MiB]  606.2 KiB/s                                 \r",
      "Copying gs://open-targets-data-releases/22.06/output/etl/parquet/associationByDatatypeDirect/part-00151-8d9107f6-e36d-4d36-a4ed-66c4c59bc87d-c000.snappy.parquet...\n",
      "/ [152 files][ 18.5 MiB/ 18.6 MiB]  606.2 KiB/s                                 \r",
      "/ [152 files][ 18.6 MiB/ 18.6 MiB]  349.9 KiB/s                                 \r",
      "-\r",
      "- [153 files][ 18.6 MiB/ 18.6 MiB]  349.8 KiB/s                                 \r",
      "Copying gs://open-targets-data-releases/22.06/output/etl/parquet/associationByDatatypeDirect/part-00152-8d9107f6-e36d-4d36-a4ed-66c4c59bc87d-c000.snappy.parquet...\n",
      "- [153 files][ 18.6 MiB/ 18.7 MiB]  349.8 KiB/s                                 \r",
      "- [153 files][ 18.7 MiB/ 18.7 MiB]  239.2 KiB/s                                 \r",
      "\\\r",
      "\\ [154 files][ 18.7 MiB/ 18.7 MiB]  239.1 KiB/s                                 \r",
      "Copying gs://open-targets-data-releases/22.06/output/etl/parquet/associationByDatatypeDirect/part-00153-8d9107f6-e36d-4d36-a4ed-66c4c59bc87d-c000.snappy.parquet...\n",
      "\\ [154 files][ 18.7 MiB/ 18.8 MiB]  239.1 KiB/s                                 \r",
      "\\ [155 files][ 18.8 MiB/ 18.8 MiB]  238.3 KiB/s                                 \r",
      "Copying gs://open-targets-data-releases/22.06/output/etl/parquet/associationByDatatypeDirect/part-00154-8d9107f6-e36d-4d36-a4ed-66c4c59bc87d-c000.snappy.parquet...\n",
      "\\ [155 files][ 18.8 MiB/ 18.9 MiB]  238.3 KiB/s                                 \r",
      "\\ [155 files][ 18.9 MiB/ 18.9 MiB]  112.8 KiB/s                                 \r",
      "|\r",
      "| [156 files][ 18.9 MiB/ 18.9 MiB]  112.8 KiB/s                                 \r",
      "Copying gs://open-targets-data-releases/22.06/output/etl/parquet/associationByDatatypeDirect/part-00155-8d9107f6-e36d-4d36-a4ed-66c4c59bc87d-c000.snappy.parquet...\n",
      "| [156 files][ 18.9 MiB/ 19.0 MiB]  112.8 KiB/s                                 \r",
      "| [157 files][ 19.0 MiB/ 19.0 MiB]  107.9 KiB/s                                 \r",
      "Copying gs://open-targets-data-releases/22.06/output/etl/parquet/associationByDatatypeDirect/part-00156-8d9107f6-e36d-4d36-a4ed-66c4c59bc87d-c000.snappy.parquet...\n",
      "| [157 files][ 19.0 MiB/ 19.1 MiB]  107.9 KiB/s                                 \r",
      "| [157 files][ 19.1 MiB/ 19.1 MiB]  136.1 KiB/s                                 \r",
      "/\r",
      "/ [158 files][ 19.1 MiB/ 19.1 MiB]  136.1 KiB/s                                 \r",
      "Copying gs://open-targets-data-releases/22.06/output/etl/parquet/associationByDatatypeDirect/part-00157-8d9107f6-e36d-4d36-a4ed-66c4c59bc87d-c000.snappy.parquet...\n",
      "/ [158 files][ 19.1 MiB/ 19.2 MiB]  136.1 KiB/s                                 \r",
      "/ [158 files][ 19.2 MiB/ 19.2 MiB]   66.3 KiB/s                                 \r",
      "-\r",
      "- [159 files][ 19.2 MiB/ 19.2 MiB]   66.3 KiB/s                                 \r",
      "Copying gs://open-targets-data-releases/22.06/output/etl/parquet/associationByDatatypeDirect/part-00158-8d9107f6-e36d-4d36-a4ed-66c4c59bc87d-c000.snappy.parquet...\n",
      "- [159 files][ 19.2 MiB/ 19.3 MiB]   66.3 KiB/s                                 \r",
      "- [159 files][ 19.3 MiB/ 19.3 MiB]   49.2 KiB/s                                 \r",
      "\\\r",
      "\\ [160 files][ 19.3 MiB/ 19.3 MiB]   49.2 KiB/s                                 \r",
      "Copying gs://open-targets-data-releases/22.06/output/etl/parquet/associationByDatatypeDirect/part-00159-8d9107f6-e36d-4d36-a4ed-66c4c59bc87d-c000.snappy.parquet...\n",
      "\\ [160 files][ 19.3 MiB/ 19.4 MiB]   49.2 KiB/s                                 \r",
      "\\ [161 files][ 19.4 MiB/ 19.4 MiB]   94.8 KiB/s                                 \r",
      "Copying gs://open-targets-data-releases/22.06/output/etl/parquet/associationByDatatypeDirect/part-00160-8d9107f6-e36d-4d36-a4ed-66c4c59bc87d-c000.snappy.parquet...\n",
      "\\ [161 files][ 19.4 MiB/ 19.6 MiB]   94.8 KiB/s                                 \r",
      "\\ [162 files][ 19.6 MiB/ 19.6 MiB]  130.7 KiB/s                                 \r",
      "Copying gs://open-targets-data-releases/22.06/output/etl/parquet/associationByDatatypeDirect/part-00161-8d9107f6-e36d-4d36-a4ed-66c4c59bc87d-c000.snappy.parquet...\n",
      "\\ [162 files][ 19.6 MiB/ 19.7 MiB]  130.7 KiB/s                                 \r",
      "\\ [163 files][ 19.7 MiB/ 19.7 MiB]  167.4 KiB/s                                 \r",
      "Copying gs://open-targets-data-releases/22.06/output/etl/parquet/associationByDatatypeDirect/part-00162-8d9107f6-e36d-4d36-a4ed-66c4c59bc87d-c000.snappy.parquet...\n",
      "\\ [163 files][ 19.7 MiB/ 19.9 MiB]  167.4 KiB/s                                 \r",
      "|\r",
      "| [164 files][ 19.9 MiB/ 19.9 MiB]  221.8 KiB/s                                 \r",
      "Copying gs://open-targets-data-releases/22.06/output/etl/parquet/associationByDatatypeDirect/part-00163-8d9107f6-e36d-4d36-a4ed-66c4c59bc87d-c000.snappy.parquet...\n",
      "| [164 files][ 19.9 MiB/ 19.9 MiB]  221.8 KiB/s                                 \r",
      "| [165 files][ 19.9 MiB/ 19.9 MiB]  231.2 KiB/s                                 \r",
      "Copying gs://open-targets-data-releases/22.06/output/etl/parquet/associationByDatatypeDirect/part-00164-8d9107f6-e36d-4d36-a4ed-66c4c59bc87d-c000.snappy.parquet...\n",
      "| [165 files][ 19.9 MiB/ 20.0 MiB]  231.2 KiB/s                                 \r",
      "| [166 files][ 20.0 MiB/ 20.0 MiB]  253.0 KiB/s                                 \r",
      "Copying gs://open-targets-data-releases/22.06/output/etl/parquet/associationByDatatypeDirect/part-00165-8d9107f6-e36d-4d36-a4ed-66c4c59bc87d-c000.snappy.parquet...\n",
      "| [166 files][ 20.0 MiB/ 20.2 MiB]  253.0 KiB/s                                 \r",
      "| [167 files][ 20.2 MiB/ 20.2 MiB]  275.5 KiB/s                                 \r",
      "Copying gs://open-targets-data-releases/22.06/output/etl/parquet/associationByDatatypeDirect/part-00166-8d9107f6-e36d-4d36-a4ed-66c4c59bc87d-c000.snappy.parquet...\n",
      "| [167 files][ 20.2 MiB/ 20.3 MiB]  275.5 KiB/s                                 \r",
      "/\r",
      "/ [168 files][ 20.3 MiB/ 20.3 MiB]  293.0 KiB/s                                 \r",
      "Copying gs://open-targets-data-releases/22.06/output/etl/parquet/associationByDatatypeDirect/part-00167-8d9107f6-e36d-4d36-a4ed-66c4c59bc87d-c000.snappy.parquet...\n",
      "/ [168 files][ 20.3 MiB/ 20.4 MiB]  293.0 KiB/s                                 \r",
      "/ [169 files][ 20.4 MiB/ 20.4 MiB]  314.6 KiB/s                                 \r",
      "Copying gs://open-targets-data-releases/22.06/output/etl/parquet/associationByDatatypeDirect/part-00168-8d9107f6-e36d-4d36-a4ed-66c4c59bc87d-c000.snappy.parquet...\n",
      "/ [169 files][ 20.4 MiB/ 20.5 MiB]  314.6 KiB/s                                 \r",
      "/ [170 files][ 20.5 MiB/ 20.5 MiB]  324.6 KiB/s                                 \r",
      "Copying gs://open-targets-data-releases/22.06/output/etl/parquet/associationByDatatypeDirect/part-00169-8d9107f6-e36d-4d36-a4ed-66c4c59bc87d-c000.snappy.parquet...\n",
      "/ [170 files][ 20.5 MiB/ 20.6 MiB]  324.6 KiB/s                                 \r",
      "/ [171 files][ 20.6 MiB/ 20.6 MiB]  341.6 KiB/s                                 \r",
      "Copying gs://open-targets-data-releases/22.06/output/etl/parquet/associationByDatatypeDirect/part-00170-8d9107f6-e36d-4d36-a4ed-66c4c59bc87d-c000.snappy.parquet...\n",
      "/ [171 files][ 20.6 MiB/ 20.8 MiB]  341.6 KiB/s                                 \r",
      "-\r",
      "- [172 files][ 20.8 MiB/ 20.8 MiB]  357.4 KiB/s                                 \r",
      "Copying gs://open-targets-data-releases/22.06/output/etl/parquet/associationByDatatypeDirect/part-00171-8d9107f6-e36d-4d36-a4ed-66c4c59bc87d-c000.snappy.parquet...\n",
      "- [172 files][ 20.8 MiB/ 20.9 MiB]  357.4 KiB/s                                 \r",
      "- [173 files][ 20.9 MiB/ 20.9 MiB]  369.6 KiB/s                                 \r",
      "Copying gs://open-targets-data-releases/22.06/output/etl/parquet/associationByDatatypeDirect/part-00172-8d9107f6-e36d-4d36-a4ed-66c4c59bc87d-c000.snappy.parquet...\n",
      "- [173 files][ 20.9 MiB/ 21.0 MiB]  369.6 KiB/s                                 \r",
      "- [174 files][ 21.0 MiB/ 21.0 MiB]  375.9 KiB/s                                 \r",
      "Copying gs://open-targets-data-releases/22.06/output/etl/parquet/associationByDatatypeDirect/part-00173-8d9107f6-e36d-4d36-a4ed-66c4c59bc87d-c000.snappy.parquet...\n",
      "- [174 files][ 21.0 MiB/ 21.1 MiB]  375.9 KiB/s                                 \r",
      "- [175 files][ 21.1 MiB/ 21.1 MiB]  386.0 KiB/s                                 \r",
      "Copying gs://open-targets-data-releases/22.06/output/etl/parquet/associationByDatatypeDirect/part-00174-8d9107f6-e36d-4d36-a4ed-66c4c59bc87d-c000.snappy.parquet...\n",
      "- [175 files][ 21.1 MiB/ 21.2 MiB]  386.0 KiB/s                                 \r",
      "\\\r",
      "\\ [176 files][ 21.2 MiB/ 21.2 MiB]  653.7 KiB/s                                 \r",
      "Copying gs://open-targets-data-releases/22.06/output/etl/parquet/associationByDatatypeDirect/part-00175-8d9107f6-e36d-4d36-a4ed-66c4c59bc87d-c000.snappy.parquet...\n",
      "\\ [176 files][ 21.2 MiB/ 21.3 MiB]  653.7 KiB/s                                 \r",
      "\\ [177 files][ 21.3 MiB/ 21.3 MiB]  644.0 KiB/s                                 \r",
      "Copying gs://open-targets-data-releases/22.06/output/etl/parquet/associationByDatatypeDirect/part-00176-8d9107f6-e36d-4d36-a4ed-66c4c59bc87d-c000.snappy.parquet...\n",
      "\\ [177 files][ 21.3 MiB/ 21.5 MiB]  644.0 KiB/s                                 \r",
      "\\ [178 files][ 21.5 MiB/ 21.5 MiB]  645.9 KiB/s                                 \r",
      "Copying gs://open-targets-data-releases/22.06/output/etl/parquet/associationByDatatypeDirect/part-00177-8d9107f6-e36d-4d36-a4ed-66c4c59bc87d-c000.snappy.parquet...\n",
      "\\ [178 files][ 21.5 MiB/ 21.6 MiB]  645.9 KiB/s                                 \r",
      "|\r",
      "| [179 files][ 21.6 MiB/ 21.6 MiB]  646.1 KiB/s                                 \r",
      "Copying gs://open-targets-data-releases/22.06/output/etl/parquet/associationByDatatypeDirect/part-00178-8d9107f6-e36d-4d36-a4ed-66c4c59bc87d-c000.snappy.parquet...\n",
      "| [179 files][ 21.6 MiB/ 21.7 MiB]  646.1 KiB/s                                 \r",
      "| [180 files][ 21.7 MiB/ 21.7 MiB]  650.0 KiB/s                                 \r",
      "Copying gs://open-targets-data-releases/22.06/output/etl/parquet/associationByDatatypeDirect/part-00179-8d9107f6-e36d-4d36-a4ed-66c4c59bc87d-c000.snappy.parquet...\n",
      "| [180 files][ 21.7 MiB/ 21.8 MiB]  650.0 KiB/s                                 \r",
      "| [181 files][ 21.8 MiB/ 21.8 MiB]  649.6 KiB/s                                 \r",
      "Copying gs://open-targets-data-releases/22.06/output/etl/parquet/associationByDatatypeDirect/part-00180-8d9107f6-e36d-4d36-a4ed-66c4c59bc87d-c000.snappy.parquet...\n",
      "| [181 files][ 21.8 MiB/ 21.9 MiB]  649.6 KiB/s                                 \r",
      "| [182 files][ 21.9 MiB/ 21.9 MiB]  649.7 KiB/s                                 \r",
      "Copying gs://open-targets-data-releases/22.06/output/etl/parquet/associationByDatatypeDirect/part-00181-8d9107f6-e36d-4d36-a4ed-66c4c59bc87d-c000.snappy.parquet...\n",
      "| [182 files][ 21.9 MiB/ 22.0 MiB]  649.7 KiB/s                                 \r",
      "/\r",
      "/ [183 files][ 22.0 MiB/ 22.0 MiB]  644.6 KiB/s                                 \r",
      "Copying gs://open-targets-data-releases/22.06/output/etl/parquet/associationByDatatypeDirect/part-00182-8d9107f6-e36d-4d36-a4ed-66c4c59bc87d-c000.snappy.parquet...\n",
      "/ [183 files][ 22.0 MiB/ 22.1 MiB]  644.6 KiB/s                                 \r",
      "/ [184 files][ 22.1 MiB/ 22.1 MiB]  646.9 KiB/s                                 \r",
      "Copying gs://open-targets-data-releases/22.06/output/etl/parquet/associationByDatatypeDirect/part-00183-8d9107f6-e36d-4d36-a4ed-66c4c59bc87d-c000.snappy.parquet...\n",
      "/ [184 files][ 22.1 MiB/ 22.3 MiB]  646.9 KiB/s                                 \r",
      "/ [185 files][ 22.3 MiB/ 22.3 MiB]  651.7 KiB/s                                 \r",
      "Copying gs://open-targets-data-releases/22.06/output/etl/parquet/associationByDatatypeDirect/part-00184-8d9107f6-e36d-4d36-a4ed-66c4c59bc87d-c000.snappy.parquet...\n",
      "/ [185 files][ 22.3 MiB/ 22.4 MiB]  651.7 KiB/s                                 \r",
      "/ [186 files][ 22.4 MiB/ 22.4 MiB]  648.8 KiB/s                                 \r",
      "Copying gs://open-targets-data-releases/22.06/output/etl/parquet/associationByDatatypeDirect/part-00185-8d9107f6-e36d-4d36-a4ed-66c4c59bc87d-c000.snappy.parquet...\n",
      "/ [186 files][ 22.4 MiB/ 22.5 MiB]  648.8 KiB/s                                 \r",
      "-\r",
      "- [187 files][ 22.5 MiB/ 22.5 MiB]  635.4 KiB/s                                 \r",
      "Copying gs://open-targets-data-releases/22.06/output/etl/parquet/associationByDatatypeDirect/part-00186-8d9107f6-e36d-4d36-a4ed-66c4c59bc87d-c000.snappy.parquet...\n",
      "- [187 files][ 22.5 MiB/ 22.6 MiB]  635.4 KiB/s                                 \r",
      "- [188 files][ 22.6 MiB/ 22.6 MiB]  638.2 KiB/s                                 \r",
      "Copying gs://open-targets-data-releases/22.06/output/etl/parquet/associationByDatatypeDirect/part-00187-8d9107f6-e36d-4d36-a4ed-66c4c59bc87d-c000.snappy.parquet...\n",
      "- [188 files][ 22.6 MiB/ 22.7 MiB]  638.2 KiB/s                                 \r",
      "- [189 files][ 22.7 MiB/ 22.7 MiB]  633.6 KiB/s                                 \r",
      "Copying gs://open-targets-data-releases/22.06/output/etl/parquet/associationByDatatypeDirect/part-00188-8d9107f6-e36d-4d36-a4ed-66c4c59bc87d-c000.snappy.parquet...\n",
      "- [189 files][ 22.7 MiB/ 22.9 MiB]  633.6 KiB/s                                 \r",
      "- [190 files][ 22.9 MiB/ 22.9 MiB]  624.2 KiB/s                                 \r",
      "Copying gs://open-targets-data-releases/22.06/output/etl/parquet/associationByDatatypeDirect/part-00189-8d9107f6-e36d-4d36-a4ed-66c4c59bc87d-c000.snappy.parquet...\n",
      "- [190 files][ 22.9 MiB/ 23.0 MiB]  624.2 KiB/s                                 \r",
      "\\\r",
      "\\ [191 files][ 23.0 MiB/ 23.0 MiB]  632.8 KiB/s                                 \r",
      "Copying gs://open-targets-data-releases/22.06/output/etl/parquet/associationByDatatypeDirect/part-00190-8d9107f6-e36d-4d36-a4ed-66c4c59bc87d-c000.snappy.parquet...\n",
      "\\ [191 files][ 23.0 MiB/ 23.1 MiB]  632.8 KiB/s                                 \r",
      "\\ [192 files][ 23.1 MiB/ 23.1 MiB]  637.2 KiB/s                                 \r",
      "Copying gs://open-targets-data-releases/22.06/output/etl/parquet/associationByDatatypeDirect/part-00191-8d9107f6-e36d-4d36-a4ed-66c4c59bc87d-c000.snappy.parquet...\n",
      "\\ [192 files][ 23.1 MiB/ 23.2 MiB]  637.2 KiB/s                                 \r",
      "\\ [193 files][ 23.2 MiB/ 23.2 MiB]  636.8 KiB/s                                 \r",
      "Copying gs://open-targets-data-releases/22.06/output/etl/parquet/associationByDatatypeDirect/part-00192-8d9107f6-e36d-4d36-a4ed-66c4c59bc87d-c000.snappy.parquet...\n",
      "\\ [193 files][ 23.2 MiB/ 23.3 MiB]  636.8 KiB/s                                 \r",
      "\\ [194 files][ 23.3 MiB/ 23.3 MiB]  632.1 KiB/s                                 \r",
      "Copying gs://open-targets-data-releases/22.06/output/etl/parquet/associationByDatatypeDirect/part-00193-8d9107f6-e36d-4d36-a4ed-66c4c59bc87d-c000.snappy.parquet...\n",
      "\\ [194 files][ 23.3 MiB/ 23.4 MiB]  632.1 KiB/s                                 \r",
      "|\r",
      "| [195 files][ 23.4 MiB/ 23.4 MiB]  632.1 KiB/s                                 \r",
      "Copying gs://open-targets-data-releases/22.06/output/etl/parquet/associationByDatatypeDirect/part-00194-8d9107f6-e36d-4d36-a4ed-66c4c59bc87d-c000.snappy.parquet...\n",
      "| [195 files][ 23.4 MiB/ 23.6 MiB]  632.1 KiB/s                                 \r",
      "| [196 files][ 23.6 MiB/ 23.6 MiB]  638.6 KiB/s                                 \r",
      "Copying gs://open-targets-data-releases/22.06/output/etl/parquet/associationByDatatypeDirect/part-00195-8d9107f6-e36d-4d36-a4ed-66c4c59bc87d-c000.snappy.parquet...\n",
      "| [196 files][ 23.6 MiB/ 23.7 MiB]  638.6 KiB/s                                 \r",
      "| [197 files][ 23.7 MiB/ 23.7 MiB]  635.6 KiB/s                                 \r",
      "Copying gs://open-targets-data-releases/22.06/output/etl/parquet/associationByDatatypeDirect/part-00196-8d9107f6-e36d-4d36-a4ed-66c4c59bc87d-c000.snappy.parquet...\n",
      "| [197 files][ 23.7 MiB/ 23.8 MiB]  635.6 KiB/s                                 \r",
      "| [198 files][ 23.8 MiB/ 23.8 MiB]  626.4 KiB/s                                 \r",
      "Copying gs://open-targets-data-releases/22.06/output/etl/parquet/associationByDatatypeDirect/part-00197-8d9107f6-e36d-4d36-a4ed-66c4c59bc87d-c000.snappy.parquet...\n",
      "| [198 files][ 23.8 MiB/ 23.9 MiB]  626.4 KiB/s                                 \r",
      "/\r",
      "/ [199 files][ 23.9 MiB/ 23.9 MiB]  623.1 KiB/s                                 \r",
      "Copying gs://open-targets-data-releases/22.06/output/etl/parquet/associationByDatatypeDirect/part-00198-8d9107f6-e36d-4d36-a4ed-66c4c59bc87d-c000.snappy.parquet...\n",
      "/ [199 files][ 23.9 MiB/ 24.0 MiB]  623.1 KiB/s                                 \r",
      "/ [200 files][ 24.0 MiB/ 24.0 MiB]  630.5 KiB/s                                 \r",
      "Copying gs://open-targets-data-releases/22.06/output/etl/parquet/associationByDatatypeDirect/part-00199-8d9107f6-e36d-4d36-a4ed-66c4c59bc87d-c000.snappy.parquet...\n",
      "/ [200 files][ 24.0 MiB/ 24.1 MiB]  630.5 KiB/s                                 \r",
      "/ [201 files][ 24.1 MiB/ 24.1 MiB]  629.5 KiB/s                                 \r\n",
      "==> NOTE: You are performing a sequence of gsutil operations that may\n",
      "run significantly faster if you instead use gsutil -m cp ... Please\n",
      "see the -m section under \"gsutil help options\" for further information\n",
      "about when gsutil -m can be advantageous.\n",
      "\n",
      "\n",
      "Operation completed over 201 objects/24.1 MiB.                                   \n"
     ]
    }
   ],
   "source": [
    "%%bash \n",
    "\n",
    "\n",
    "# Fetching associations from google:\n",
    "gsutil cp -r gs://open-targets-data-releases/22.06/output/etl/parquet/associationByDatatypeDirect /Users/dsuveges/project_data/\n",
    "# gsutil cp -r gs://open-targets-data-releases/22.06/output/etl/parquet/targets /Users/dsuveges/project_data/\n",
    "\n",
    "# The same data can be found on ftp: ftp://ftp.ebi.ac.uk/pub/databases/opentargets/platform/22.06/output/etl/parquet\n",
    "\n",
    "# Fetching efo dataset from the platform:\n",
    "# wget https://platform.opentargets.org/data/ontology/efo_json/diseases_efo.jsonl -O diseases_efo.json\n",
    "\n",
    "ls -lah *json"
   ]
  },
  {
   "cell_type": "code",
   "execution_count": 1,
   "id": "590f9e66",
   "metadata": {
    "ExecuteTime": {
     "end_time": "2022-07-12T10:07:53.755723Z",
     "start_time": "2022-07-12T10:07:49.513231Z"
    }
   },
   "outputs": [],
   "source": [
    "from statistics import median\n",
    "\n",
    "import pyspark.sql\n",
    "import pyspark.sql.types as t\n",
    "import pyspark.sql.functions as f\n",
    "from pyspark.sql.window import Window\n",
    "\n",
    "\n",
    "spark = (\n",
    "    pyspark.sql.SparkSession\n",
    "   .builder\n",
    "   .master(\"local[*]\")\n",
    "   .getOrCreate()\n",
    ")\n",
    "   \n",
    "@f.udf(t.FloatType())\n",
    "def harmonic_sum(data: list, scale_factor: float = 1, cap: float = None) -> float:\n",
    "    \"\"\"\n",
    "    Returns an harmonic sum for the data passed\n",
    "    Args:\n",
    "        data (list): list of floats to compute the harmonic sum from\n",
    "        scale_factor (float): a scaling factor to multiply to each datapoint. Defaults to 1\n",
    "        cap (float): if not None, never return an harmonic sum higher than the cap value.\n",
    "    Returns:\n",
    "        harmonic_sum (float): the harmonic sum of the data passed\n",
    "    \"\"\"\n",
    "\n",
    "    data.sort(reverse=True)\n",
    "    harmonic_sum = sum(s / ((i+1) ** scale_factor) for i, s in enumerate(data))\n",
    "    \n",
    "    # Applying cap:\n",
    "    if cap is not None and harmonic_sum > cap:\n",
    "        return cap\n",
    "      \n",
    "    return harmonic_sum\n",
    "\n",
    "# An UDF to calculate median:\n",
    "median_udf = f.udf(lambda l: median([x for x in l if x >= 1]), t.FloatType())\n",
    "\n",
    "association_dataset = '/Users/dsuveges/project_data/associationByDatatypeDirect'\n",
    "disease_dataset = '/Users/dsuveges/project/random_notebooks/2022.06.08-disease_expansion/diseases_efo.json'"
   ]
  },
  {
   "cell_type": "markdown",
   "id": "6e3ecac2",
   "metadata": {},
   "source": [
    "### Processing disease table\n",
    "\n",
    "1. Reading json into spark table.\n",
    "2. Exploding parent table.\n",
    "3. Annotate each disease if the disease or the parent is haematologically relevant\n",
    "4. Aggregate annotation for each disease."
   ]
  },
  {
   "cell_type": "code",
   "execution_count": 128,
   "id": "dd81978a",
   "metadata": {
    "ExecuteTime": {
     "end_time": "2022-07-06T07:15:50.643341Z",
     "start_time": "2022-07-06T07:15:49.880703Z"
    }
   },
   "outputs": [
    {
     "data": {
      "text/plain": [
       "1411"
      ]
     },
     "execution_count": 128,
     "metadata": {},
     "output_type": "execute_result"
    }
   ],
   "source": [
    "relevant_disease_pattern = ['immuno', 'hemato', 'hemo', 'blood', 'bleed']\n",
    "\n",
    "\n",
    "disease_raw = (\n",
    "    spark.read.json(disease_dataset)\n",
    "    .withColumnRenamed('id', 'diseaseId')\n",
    "    .withColumnRenamed('name', 'diseaseLabel')\n",
    "    .persist()\n",
    ")\n",
    "\n",
    "annotated_diseases = (\n",
    "    disease_raw\n",
    "    # Exploding parent column:\n",
    "    .select('diseaseId', 'diseaseLabel', f.explode_outer('parentIds').alias('parentId'))\n",
    "    \n",
    "    # Get parent disease names:\n",
    "    .join(\n",
    "        (\n",
    "            disease_raw\n",
    "            .withColumnRenamed('diseaseId', 'parentId')\n",
    "            .withColumnRenamed('diseaseLabel', 'parentLabel')\n",
    "            .drop('parentIds')\n",
    "        ), on='parentId', how='left')\n",
    "    \n",
    "    # Check if disease name OR parent name is relevant:\n",
    "    .withColumn(\n",
    "        'isRelevant',\n",
    "        f.when(f.col('diseaseLabel').rlike('|'.join(relevant_disease_pattern)), True)\n",
    "        .when(f.col('parentLabel').rlike('|'.join(relevant_disease_pattern)), True)\n",
    "        .otherwise(False)\n",
    "    )\n",
    "    \n",
    "    # Aggregating by disease, check if at least one parent is relevant:\n",
    "    .groupBy('diseaseId', 'diseaseLabel')\n",
    "    .agg(\n",
    "        f.expr(\"any(isRelevant)\").alias('isRelevant')\n",
    "    )\n",
    "    .withColumn(\n",
    "        'isRelevant',\n",
    "        f.when(f.col('isRelevant') == True, 'relevant')\n",
    "        .otherwise('not_relevant')\n",
    "    )\n",
    "    .persist()\n",
    ")\n",
    "\n",
    "annotated_diseases.filter(f.col('isRelevant') == 'relevant').count()\n"
   ]
  },
  {
   "cell_type": "markdown",
   "id": "6b1d967c",
   "metadata": {},
   "source": [
    "### Reading targets\n",
    "\n",
    "1. Read parquet and select columns"
   ]
  },
  {
   "cell_type": "code",
   "execution_count": 58,
   "id": "fc673249",
   "metadata": {
    "ExecuteTime": {
     "end_time": "2022-07-05T08:26:37.188957Z",
     "start_time": "2022-07-05T08:26:37.044090Z"
    }
   },
   "outputs": [],
   "source": [
    "targets = (\n",
    "    spark.read.parquet('/Users/dsuveges/project_data/targets')\n",
    "    .select(\n",
    "        f.col('id').alias('targetId'),\n",
    "        f.col('approvedSymbol').alias('targetSymbol'),\n",
    "        f.col('approvedName').alias('targetName')\n",
    "    )\n",
    "    .persist()\n",
    ")"
   ]
  },
  {
   "cell_type": "markdown",
   "id": "5b010e35",
   "metadata": {},
   "source": [
    "### Processing associations\n",
    "\n",
    "1. Read assoction file\n",
    "2. Drop animal model data\n",
    "3. Aggregating associations\n",
    "4. Calcualte harmonic sum\n",
    "5. Join disease info\n",
    "6. Join target info"
   ]
  },
  {
   "cell_type": "code",
   "execution_count": 54,
   "id": "9ba110f9",
   "metadata": {
    "ExecuteTime": {
     "end_time": "2022-07-05T08:23:25.320179Z",
     "start_time": "2022-07-05T08:23:21.617920Z"
    }
   },
   "outputs": [
    {
     "name": "stdout",
     "output_type": "stream",
     "text": [
      "Number of all associations: 2120908\n",
      "Number of associations supported by sources not including mouse: 1614569\n"
     ]
    }
   ],
   "source": [
    "print(f'Number of all associations: {spark.read.parquet(association_dataset).select(\"diseaseId\", \"targetId\").distinct().count()}')\n",
    "\n",
    "no_animal_associations = (\n",
    "    spark.read.parquet(association_dataset)\n",
    "    .filter(f.col('datatypeId') != 'animal_model')\n",
    "    .select(\"diseaseId\", \"targetId\").distinct()\n",
    ")\n",
    "\n",
    "print(f'Number of associations supported by sources not including mouse: {no_animal_associations.count()}')\n"
   ]
  },
  {
   "cell_type": "code",
   "execution_count": 130,
   "id": "e2f1cbe8",
   "metadata": {
    "ExecuteTime": {
     "end_time": "2022-07-06T07:20:26.648107Z",
     "start_time": "2022-07-06T07:19:33.735559Z"
    }
   },
   "outputs": [
    {
     "name": "stdout",
     "output_type": "stream",
     "text": [
      "+---------------+----------+-------------+--------------------+------------+------------+--------------------+\n",
      "|       targetId| diseaseId|overall_score|        diseaseLabel|  isRelevant|targetSymbol|          targetName|\n",
      "+---------------+----------+-------------+--------------------+------------+------------+--------------------+\n",
      "|ENSG00000113749|DOID_10718| 0.0121586155|          giardiasis|not_relevant|        HRH2|histamine recepto...|\n",
      "|ENSG00000120937|DOID_13406|  0.018237924|pulmonary sarcoid...|not_relevant|        NPPB|natriuretic pepti...|\n",
      "|ENSG00000066427| DOID_7551| 0.0121586155|           gonorrhea|not_relevant|       ATXN3|            ataxin 3|\n",
      "|ENSG00000095739| DOID_7551|   0.03039654|           gonorrhea|not_relevant|       BAMBI|BMP and activin m...|\n",
      "|ENSG00000102755| DOID_7551|   0.18691845|           gonorrhea|not_relevant|        FLT1|fms related recep...|\n",
      "|ENSG00000103335| DOID_7551|    0.5912127|           gonorrhea|not_relevant|      PIEZO1|piezo type mechan...|\n",
      "|ENSG00000106004| DOID_7551|    0.6392139|           gonorrhea|not_relevant|       HOXA5|         homeobox A5|\n",
      "|ENSG00000116132| DOID_7551|   0.41379485|           gonorrhea|not_relevant|       PRRX1|paired related ho...|\n",
      "|ENSG00000118046| DOID_7551|   0.58841276|           gonorrhea|not_relevant|       STK11|serine/threonine ...|\n",
      "|ENSG00000121060| DOID_7551|   0.46363166|           gonorrhea|not_relevant|      TRIM25|tripartite motif ...|\n",
      "|ENSG00000130770| DOID_7551|   0.24317232|           gonorrhea|not_relevant|     ATP5IF1|ATP synthase inhi...|\n",
      "|ENSG00000137752| DOID_7551|   0.21351543|           gonorrhea|not_relevant|       CASP1|           caspase 1|\n",
      "|ENSG00000147133| DOID_7551|  0.018237924|           gonorrhea|not_relevant|        TAF1|TATA-box binding ...|\n",
      "|ENSG00000149806| DOID_7551|   0.03647585|           gonorrhea|not_relevant|         FAU|FAU ubiquitin lik...|\n",
      "|ENSG00000154370| DOID_7551|    0.2310137|           gonorrhea|not_relevant|      TRIM11|tripartite motif ...|\n",
      "|ENSG00000158941| DOID_7551|   0.05471377|           gonorrhea|not_relevant|       CCAR2|cell cycle and ap...|\n",
      "|ENSG00000163629| DOID_7551|   0.03039654|           gonorrhea|not_relevant|      PTPN13|protein tyrosine ...|\n",
      "|ENSG00000167081| DOID_7551|    0.5838669|           gonorrhea|not_relevant|        PBX3|      PBX homeobox 3|\n",
      "|ENSG00000169714| DOID_7551| 0.0121586155|           gonorrhea|not_relevant|        CNBP|CCHC-type zinc fi...|\n",
      "|ENSG00000173267| DOID_7551|    0.2978861|           gonorrhea|not_relevant|        SNCG|     synuclein gamma|\n",
      "+---------------+----------+-------------+--------------------+------------+------------+--------------------+\n",
      "only showing top 20 rows\n",
      "\n"
     ]
    }
   ],
   "source": [
    "assoc_df = (\n",
    "    # Reading associations:\n",
    "    spark.read.parquet(association_dataset)\n",
    "\n",
    "    # Dropping all animal model data:\n",
    "    .filter(f.col('datatypeId') != 'animal_model')\n",
    "\n",
    "    # aggregating by association and calculate overall score:\n",
    "    .groupBy('diseaseId', 'targetId')\n",
    "    .agg(harmonic_sum(f.collect_list(f.col('score'))).alias('overall_score'))\n",
    "\n",
    "    # Joining with diseases and disease annotation.\n",
    "    .join(annotated_diseases, on='diseaseId')\n",
    "    \n",
    "    # Joining with target annotation:\n",
    "    .join(targets, on='targetId', how='left')\n",
    "    .persist()\n",
    ")\n",
    "\n",
    "# How does it look like:\n",
    "assoc_df.show()\n",
    "\n",
    "# Saving data in a partitioned parquet:\n",
    "assoc_df.write.mode('overwrite').parquet('Associations_w_disease_annot')\n",
    "\n",
    "# Saving data in a single tsv file:\n",
    "assoc_df.toPandas().to_csv('annotated_associations.tsv.gz', sep='\\t', compression='infer', index=False)"
   ]
  },
  {
   "cell_type": "markdown",
   "id": "19f86b2f",
   "metadata": {
    "ExecuteTime": {
     "end_time": "2022-07-05T08:30:02.892843Z",
     "start_time": "2022-07-05T08:29:25.491496Z"
    }
   },
   "source": [
    "## Analysis"
   ]
  },
  {
   "cell_type": "code",
   "execution_count": 131,
   "id": "7ba00a21",
   "metadata": {
    "ExecuteTime": {
     "end_time": "2022-07-06T07:20:49.415594Z",
     "start_time": "2022-07-06T07:20:26.651557Z"
    }
   },
   "outputs": [
    {
     "data": {
      "text/plain": [
       "23738"
      ]
     },
     "execution_count": 131,
     "metadata": {},
     "output_type": "execute_result"
    }
   ],
   "source": [
    "aggregated_associations = (\n",
    "    assoc_df\n",
    "    \n",
    "    # Applying a filter based on the overall score: \n",
    "    # iteratively we can adjust this to make sure we are not too stringent\n",
    "    .filter(\n",
    "        (f.col('overall_score') >= 0.1)\n",
    "    )\n",
    "    \n",
    "    # Grouping data by target and the relevance flag:\n",
    "    .groupby('targetId', 'targetName', 'targetSymbol')\n",
    "    .pivot('isRelevant')\n",
    "    .agg(\n",
    "        f.max(f.col('overall_score')).alias('max'),\n",
    "        f.mean(f.col('overall_score')).alias('mean_score'),\n",
    "        f.count(f.col('overall_score')).alias('disease_count'),\n",
    "        median_udf(f.collect_list(f.col('overall_score'))).alias('median_score'),\n",
    "    )\n",
    "    .persist()\n",
    ")\n",
    "\n",
    "aggregated_associations.count()\n",
    "\n",
    "# Saving data in in tsv:\n",
    "(\n",
    "    aggregated_associations\n",
    "    .toPandas()\n",
    "    .to_csv('aggregated_associations.tsv.gz', sep='\\t', index=False)\n",
    ")"
   ]
  },
  {
   "cell_type": "code",
   "execution_count": 135,
   "id": "09f9dd03",
   "metadata": {
    "ExecuteTime": {
     "end_time": "2022-07-06T17:14:58.704847Z",
     "start_time": "2022-07-06T17:14:58.257625Z"
    }
   },
   "outputs": [
    {
     "name": "stdout",
     "output_type": "stream",
     "text": [
      "-RECORD 0------------------------------------------\n",
      " targetId                   | ENSG00000088986      \n",
      " targetName                 | dynein light chai... \n",
      " targetSymbol               | DYNLL1               \n",
      " not_relevant_max           | 0.918321             \n",
      " not_relevant_mean_score    | 0.32031524001524364  \n",
      " not_relevant_disease_count | 29                   \n",
      " not_relevant_median_score  | 0.21566625           \n",
      " relevant_max               | 0.33030993           \n",
      " relevant_mean_score        | 0.23655396550893784  \n",
      " relevant_disease_count     | 5                    \n",
      " relevant_median_score      | 0.2565868            \n",
      "\n"
     ]
    }
   ],
   "source": [
    "aggregated_associations.filter(f.col('targetSymbol') == 'DYNLL1').show(vertical=True)"
   ]
  },
  {
   "cell_type": "code",
   "execution_count": 136,
   "id": "2d8c9ade",
   "metadata": {
    "ExecuteTime": {
     "end_time": "2022-07-06T17:16:38.680277Z",
     "start_time": "2022-07-06T17:16:37.848820Z"
    }
   },
   "outputs": [
    {
     "name": "stdout",
     "output_type": "stream",
     "text": [
      "Number of targets: 23738\n",
      "Number of targets with blood related diseases: 11186\n"
     ]
    }
   ],
   "source": [
    "print(f'Number of targets: {aggregated_associations.count()}')\n",
    "print(f'Number of targets with blood related diseases: {aggregated_associations.filter(f.col(\"relevant_disease_count\")>0).count()}')\n",
    "\n"
   ]
  },
  {
   "cell_type": "code",
   "execution_count": 144,
   "id": "feea37f5",
   "metadata": {
    "ExecuteTime": {
     "end_time": "2022-07-06T17:21:38.103773Z",
     "start_time": "2022-07-06T17:21:37.675306Z"
    }
   },
   "outputs": [
    {
     "data": {
      "text/plain": [
       "<AxesSubplot:>"
      ]
     },
     "execution_count": 144,
     "metadata": {},
     "output_type": "execute_result"
    },
    {
     "data": {
      "image/png": "[encoded data removed]",
      "text/plain": [
       "<Figure size 432x288 with 1 Axes>"
      ]
     },
     "metadata": {
      "needs_background": "light"
     },
     "output_type": "display_data"
    }
   ],
   "source": [
    "(\n",
    "    aggregated_associations\n",
    "    .filter(f.col(\"relevant_disease_count\")>0)\n",
    "    .withColumn('diseaseRatio', f.col('relevant_disease_count')/f.col('not_relevant_disease_count'))\n",
    "    .select('diseaseRatio')\n",
    "    .toPandas().diseaseRatio\n",
    "    .hist(bins=20)\n",
    ")"
   ]
  },
  {
   "cell_type": "code",
   "execution_count": 145,
   "id": "77b6b30a",
   "metadata": {
    "ExecuteTime": {
     "end_time": "2022-07-06T17:21:55.895881Z",
     "start_time": "2022-07-06T17:21:55.363843Z"
    }
   },
   "outputs": [
    {
     "data": {
      "text/plain": [
       "<AxesSubplot:>"
      ]
     },
     "execution_count": 145,
     "metadata": {},
     "output_type": "execute_result"
    },
    {
     "data": {
      "image/png": "[encoded data removed]",
      "text/plain": [
       "<Figure size 432x288 with 1 Axes>"
      ]
     },
     "metadata": {
      "needs_background": "light"
     },
     "output_type": "display_data"
    }
   ],
   "source": [
    "(\n",
    "    aggregated_associations\n",
    "    .filter(f.col(\"relevant_disease_count\")>0)\n",
    "    .toPandas().relevant_disease_count\n",
    "    .hist(bins=20)\n",
    ")"
   ]
  },
  {
   "cell_type": "code",
   "execution_count": 149,
   "id": "6bc985ea",
   "metadata": {
    "ExecuteTime": {
     "end_time": "2022-07-06T17:24:55.077992Z",
     "start_time": "2022-07-06T17:24:54.538814Z"
    }
   },
   "outputs": [
    {
     "name": "stdout",
     "output_type": "stream",
     "text": [
      "+-------+----------------------+---------------------+\n",
      "|summary|relevant_disease_count|relevant_median_score|\n",
      "+-------+----------------------+---------------------+\n",
      "|  count|                 11186|                11186|\n",
      "|   mean|    3.6915787591632396|   0.2960715356427592|\n",
      "| stddev|     4.202942396095931|  0.16069814713459626|\n",
      "|    min|                     1|          0.100007325|\n",
      "|    max|                    69|            1.2845116|\n",
      "+-------+----------------------+---------------------+\n",
      "\n"
     ]
    }
   ],
   "source": [
    "(\n",
    "    aggregated_associations\n",
    "    .filter(f.col(\"relevant_disease_count\")>0)\n",
    "    .select('relevant_disease_count', 'relevant_median_score')\n",
    "    .describe()\n",
    "    .show()\n",
    ")"
   ]
  },
  {
   "cell_type": "code",
   "execution_count": 175,
   "id": "edf982ed",
   "metadata": {
    "ExecuteTime": {
     "end_time": "2022-07-06T17:50:23.438911Z",
     "start_time": "2022-07-06T17:50:21.536614Z"
    }
   },
   "outputs": [
    {
     "name": "stdout",
     "output_type": "stream",
     "text": [
      "Number of blood related genes: 295\n",
      "Number of randomly selected genes: 295\n"
     ]
    }
   ],
   "source": [
    "blood_related_genes = (\n",
    "    spark.read.parquet('/Users/dsuveges/project_data/targets')\n",
    "    .withColumn('functionDescription', f.explode('functionDescriptions'))\n",
    "    .filter(f.col('functionDescription').rlike(r'blood|erythro|hemato|haemo'))\n",
    "    .select('approvedSymbol')\n",
    "    .withColumnRenamed('approvedSymbol', 'targetSymbol')\n",
    "    .distinct()\n",
    "    .sample(0.5)\n",
    "    .persist()\n",
    ")\n",
    "\n",
    "random_genes = (\n",
    "    spark.read.parquet('/Users/dsuveges/project_data/targets')\n",
    "    .select('approvedSymbol')\n",
    "    .withColumnRenamed('approvedSymbol', 'targetSymbol')\n",
    "    .sample(0.5)\n",
    "    .limit(blood_related_genes.count())\n",
    "    .persist()\n",
    ")\n",
    "\n",
    "print(f'Number of blood related genes: {blood_related_genes.count()}')\n",
    "print(f'Number of randomly selected genes: {random_genes.count()}')"
   ]
  },
  {
   "cell_type": "code",
   "execution_count": 180,
   "id": "a1c5b27b",
   "metadata": {
    "ExecuteTime": {
     "end_time": "2022-07-06T17:51:27.736290Z",
     "start_time": "2022-07-06T17:51:27.047161Z"
    }
   },
   "outputs": [
    {
     "data": {
      "text/plain": [
       "577"
      ]
     },
     "execution_count": 180,
     "metadata": {},
     "output_type": "execute_result"
    }
   ],
   "source": [
    "# Extract annotations for blood releated genes:\n",
    "blood_annotated = (\n",
    "    aggregated_associations\n",
    "    .join(blood_related_genes, on='targetSymbol')\n",
    "    .withColumn('source', f.lit('blood'))\n",
    ")\n",
    "\n",
    "# Extract annotation for the other gene set:\n",
    "random_annotated = (\n",
    "    aggregated_associations\n",
    "    .join(random_genes, on='targetSymbol')\n",
    "    .withColumn('source', f.lit('random'))\n",
    ")\n",
    "\n",
    "# Take union of the two sets:\n",
    "combined_dataset = (\n",
    "    blood_annotated\n",
    "    .union(random_annotated)\n",
    "    .persist()\n",
    ")\n",
    "\n",
    "combined_dataset.count()"
   ]
  },
  {
   "cell_type": "code",
   "execution_count": 218,
   "id": "7fe778a3",
   "metadata": {
    "ExecuteTime": {
     "end_time": "2022-07-07T08:41:54.601747Z",
     "start_time": "2022-07-07T08:41:52.710965Z"
    }
   },
   "outputs": [
    {
     "ename": "PythonException",
     "evalue": "\n  An exception was thrown from the Python worker. Please see the stack trace below.\nTraceback (most recent call last):\n  File \"/Users/dsuveges/opt/anaconda3/envs/jupyter3.9/lib/python3.9/site-packages/pyspark/python/lib/pyspark.zip/pyspark/worker.py\", line 604, in main\n    process()\n  File \"/Users/dsuveges/opt/anaconda3/envs/jupyter3.9/lib/python3.9/site-packages/pyspark/python/lib/pyspark.zip/pyspark/worker.py\", line 596, in process\n    serializer.dump_stream(out_iter, outfile)\n  File \"/Users/dsuveges/opt/anaconda3/envs/jupyter3.9/lib/python3.9/site-packages/pyspark/python/lib/pyspark.zip/pyspark/serializers.py\", line 211, in dump_stream\n    self.serializer.dump_stream(self._batched(iterator), stream)\n  File \"/Users/dsuveges/opt/anaconda3/envs/jupyter3.9/lib/python3.9/site-packages/pyspark/python/lib/pyspark.zip/pyspark/serializers.py\", line 132, in dump_stream\n    for obj in iterator:\n  File \"/Users/dsuveges/opt/anaconda3/envs/jupyter3.9/lib/python3.9/site-packages/pyspark/python/lib/pyspark.zip/pyspark/serializers.py\", line 200, in _batched\n    for item in iterator:\n  File \"/Users/dsuveges/opt/anaconda3/envs/jupyter3.9/lib/python3.9/site-packages/pyspark/python/lib/pyspark.zip/pyspark/worker.py\", line 450, in mapper\n    result = tuple(f(*[a[o] for o in arg_offsets]) for (arg_offsets, f) in udfs)\n  File \"/Users/dsuveges/opt/anaconda3/envs/jupyter3.9/lib/python3.9/site-packages/pyspark/python/lib/pyspark.zip/pyspark/worker.py\", line 450, in <genexpr>\n    result = tuple(f(*[a[o] for o in arg_offsets]) for (arg_offsets, f) in udfs)\n  File \"/Users/dsuveges/opt/anaconda3/envs/jupyter3.9/lib/python3.9/site-packages/pyspark/python/lib/pyspark.zip/pyspark/worker.py\", line 85, in <lambda>\n    return lambda *a: f(*a)\n  File \"/Users/dsuveges/opt/anaconda3/envs/jupyter3.9/lib/python3.9/site-packages/pyspark/python/lib/pyspark.zip/pyspark/util.py\", line 73, in wrapper\n    return f(*args, **kwargs)\n  File \"<ipython-input-217-fd6e94f69a68>\", line 40, in <lambda>\n  File \"/Users/dsuveges/opt/anaconda3/envs/jupyter3.9/lib/python3.9/statistics.py\", line 430, in median\n    raise StatisticsError(\"no median for empty data\")\nstatistics.StatisticsError: no median for empty data\n",
     "output_type": "error",
     "traceback": [
      "\u001b[0;31m---------------------------------------------------------------------------\u001b[0m",
      "\u001b[0;31mPythonException\u001b[0m                           Traceback (most recent call last)",
      "\u001b[0;32m<ipython-input-218-aa3af8204cff>\u001b[0m in \u001b[0;36m<module>\u001b[0;34m\u001b[0m\n\u001b[1;32m     23\u001b[0m \u001b[0;31m# )\u001b[0m\u001b[0;34m\u001b[0m\u001b[0;34m\u001b[0m\u001b[0;34m\u001b[0m\u001b[0m\n\u001b[1;32m     24\u001b[0m \u001b[0;34m\u001b[0m\u001b[0m\n\u001b[0;32m---> 25\u001b[0;31m \u001b[0mstats\u001b[0m\u001b[0;34m.\u001b[0m\u001b[0mshow\u001b[0m\u001b[0;34m(\u001b[0m\u001b[0;34m)\u001b[0m\u001b[0;34m\u001b[0m\u001b[0;34m\u001b[0m\u001b[0m\n\u001b[0m",
      "\u001b[0;32m~/opt/anaconda3/envs/jupyter3.9/lib/python3.9/site-packages/pyspark/sql/dataframe.py\u001b[0m in \u001b[0;36mshow\u001b[0;34m(self, n, truncate, vertical)\u001b[0m\n\u001b[1;32m    482\u001b[0m         \"\"\"\n\u001b[1;32m    483\u001b[0m         \u001b[0;32mif\u001b[0m \u001b[0misinstance\u001b[0m\u001b[0;34m(\u001b[0m\u001b[0mtruncate\u001b[0m\u001b[0;34m,\u001b[0m \u001b[0mbool\u001b[0m\u001b[0;34m)\u001b[0m \u001b[0;32mand\u001b[0m \u001b[0mtruncate\u001b[0m\u001b[0;34m:\u001b[0m\u001b[0;34m\u001b[0m\u001b[0;34m\u001b[0m\u001b[0m\n\u001b[0;32m--> 484\u001b[0;31m             \u001b[0mprint\u001b[0m\u001b[0;34m(\u001b[0m\u001b[0mself\u001b[0m\u001b[0;34m.\u001b[0m\u001b[0m_jdf\u001b[0m\u001b[0;34m.\u001b[0m\u001b[0mshowString\u001b[0m\u001b[0;34m(\u001b[0m\u001b[0mn\u001b[0m\u001b[0;34m,\u001b[0m \u001b[0;36m20\u001b[0m\u001b[0;34m,\u001b[0m \u001b[0mvertical\u001b[0m\u001b[0;34m)\u001b[0m\u001b[0;34m)\u001b[0m\u001b[0;34m\u001b[0m\u001b[0;34m\u001b[0m\u001b[0m\n\u001b[0m\u001b[1;32m    485\u001b[0m         \u001b[0;32melse\u001b[0m\u001b[0;34m:\u001b[0m\u001b[0;34m\u001b[0m\u001b[0;34m\u001b[0m\u001b[0m\n\u001b[1;32m    486\u001b[0m             \u001b[0mprint\u001b[0m\u001b[0;34m(\u001b[0m\u001b[0mself\u001b[0m\u001b[0;34m.\u001b[0m\u001b[0m_jdf\u001b[0m\u001b[0;34m.\u001b[0m\u001b[0mshowString\u001b[0m\u001b[0;34m(\u001b[0m\u001b[0mn\u001b[0m\u001b[0;34m,\u001b[0m \u001b[0mint\u001b[0m\u001b[0;34m(\u001b[0m\u001b[0mtruncate\u001b[0m\u001b[0;34m)\u001b[0m\u001b[0;34m,\u001b[0m \u001b[0mvertical\u001b[0m\u001b[0;34m)\u001b[0m\u001b[0;34m)\u001b[0m\u001b[0;34m\u001b[0m\u001b[0;34m\u001b[0m\u001b[0m\n",
      "\u001b[0;32m~/opt/anaconda3/envs/jupyter3.9/lib/python3.9/site-packages/py4j/java_gateway.py\u001b[0m in \u001b[0;36m__call__\u001b[0;34m(self, *args)\u001b[0m\n\u001b[1;32m   1302\u001b[0m \u001b[0;34m\u001b[0m\u001b[0m\n\u001b[1;32m   1303\u001b[0m         \u001b[0manswer\u001b[0m \u001b[0;34m=\u001b[0m \u001b[0mself\u001b[0m\u001b[0;34m.\u001b[0m\u001b[0mgateway_client\u001b[0m\u001b[0;34m.\u001b[0m\u001b[0msend_command\u001b[0m\u001b[0;34m(\u001b[0m\u001b[0mcommand\u001b[0m\u001b[0;34m)\u001b[0m\u001b[0;34m\u001b[0m\u001b[0;34m\u001b[0m\u001b[0m\n\u001b[0;32m-> 1304\u001b[0;31m         return_value = get_return_value(\n\u001b[0m\u001b[1;32m   1305\u001b[0m             answer, self.gateway_client, self.target_id, self.name)\n\u001b[1;32m   1306\u001b[0m \u001b[0;34m\u001b[0m\u001b[0m\n",
      "\u001b[0;32m~/opt/anaconda3/envs/jupyter3.9/lib/python3.9/site-packages/pyspark/sql/utils.py\u001b[0m in \u001b[0;36mdeco\u001b[0;34m(*a, **kw)\u001b[0m\n\u001b[1;32m    115\u001b[0m                 \u001b[0;31m# Hide where the exception came from that shows a non-Pythonic\u001b[0m\u001b[0;34m\u001b[0m\u001b[0;34m\u001b[0m\u001b[0;34m\u001b[0m\u001b[0m\n\u001b[1;32m    116\u001b[0m                 \u001b[0;31m# JVM exception message.\u001b[0m\u001b[0;34m\u001b[0m\u001b[0;34m\u001b[0m\u001b[0;34m\u001b[0m\u001b[0m\n\u001b[0;32m--> 117\u001b[0;31m                 \u001b[0;32mraise\u001b[0m \u001b[0mconverted\u001b[0m \u001b[0;32mfrom\u001b[0m \u001b[0;32mNone\u001b[0m\u001b[0;34m\u001b[0m\u001b[0;34m\u001b[0m\u001b[0m\n\u001b[0m\u001b[1;32m    118\u001b[0m             \u001b[0;32melse\u001b[0m\u001b[0;34m:\u001b[0m\u001b[0;34m\u001b[0m\u001b[0;34m\u001b[0m\u001b[0m\n\u001b[1;32m    119\u001b[0m                 \u001b[0;32mraise\u001b[0m\u001b[0;34m\u001b[0m\u001b[0;34m\u001b[0m\u001b[0m\n",
      "\u001b[0;31mPythonException\u001b[0m: \n  An exception was thrown from the Python worker. Please see the stack trace below.\nTraceback (most recent call last):\n  File \"/Users/dsuveges/opt/anaconda3/envs/jupyter3.9/lib/python3.9/site-packages/pyspark/python/lib/pyspark.zip/pyspark/worker.py\", line 604, in main\n    process()\n  File \"/Users/dsuveges/opt/anaconda3/envs/jupyter3.9/lib/python3.9/site-packages/pyspark/python/lib/pyspark.zip/pyspark/worker.py\", line 596, in process\n    serializer.dump_stream(out_iter, outfile)\n  File \"/Users/dsuveges/opt/anaconda3/envs/jupyter3.9/lib/python3.9/site-packages/pyspark/python/lib/pyspark.zip/pyspark/serializers.py\", line 211, in dump_stream\n    self.serializer.dump_stream(self._batched(iterator), stream)\n  File \"/Users/dsuveges/opt/anaconda3/envs/jupyter3.9/lib/python3.9/site-packages/pyspark/python/lib/pyspark.zip/pyspark/serializers.py\", line 132, in dump_stream\n    for obj in iterator:\n  File \"/Users/dsuveges/opt/anaconda3/envs/jupyter3.9/lib/python3.9/site-packages/pyspark/python/lib/pyspark.zip/pyspark/serializers.py\", line 200, in _batched\n    for item in iterator:\n  File \"/Users/dsuveges/opt/anaconda3/envs/jupyter3.9/lib/python3.9/site-packages/pyspark/python/lib/pyspark.zip/pyspark/worker.py\", line 450, in mapper\n    result = tuple(f(*[a[o] for o in arg_offsets]) for (arg_offsets, f) in udfs)\n  File \"/Users/dsuveges/opt/anaconda3/envs/jupyter3.9/lib/python3.9/site-packages/pyspark/python/lib/pyspark.zip/pyspark/worker.py\", line 450, in <genexpr>\n    result = tuple(f(*[a[o] for o in arg_offsets]) for (arg_offsets, f) in udfs)\n  File \"/Users/dsuveges/opt/anaconda3/envs/jupyter3.9/lib/python3.9/site-packages/pyspark/python/lib/pyspark.zip/pyspark/worker.py\", line 85, in <lambda>\n    return lambda *a: f(*a)\n  File \"/Users/dsuveges/opt/anaconda3/envs/jupyter3.9/lib/python3.9/site-packages/pyspark/python/lib/pyspark.zip/pyspark/util.py\", line 73, in wrapper\n    return f(*args, **kwargs)\n  File \"<ipython-input-217-fd6e94f69a68>\", line 40, in <lambda>\n  File \"/Users/dsuveges/opt/anaconda3/envs/jupyter3.9/lib/python3.9/statistics.py\", line 430, in median\n    raise StatisticsError(\"no median for empty data\")\nstatistics.StatisticsError: no median for empty data\n"
     ]
    }
   ],
   "source": [
    "median_udf = f.udf(lambda l: median([x for x in l if x >= 1]), t.FloatType())\n",
    "\n",
    "stats = (\n",
    "    combined_dataset\n",
    "    .groupBy('source')\n",
    "    .agg(\n",
    "        median_udf(f.collect_list(f.col('relevant_median_score'))).alias('median-relevant-median-score'),\n",
    "        median_udf(f.collect_list(f.col('not_relevant_median_score'))).alias('median-not-relevant-median-score'),\n",
    "        median_udf(f.collect_list(f.col('relevant_disease_count'))).alias('median-relevant-disease-count'),\n",
    "        median_udf(f.collect_list(f.col('not_relevant_disease_count'))).alias('median-not-relevant-disease-count')\n",
    "\n",
    "    )\n",
    "    .persist()\n",
    ")\n",
    "\n",
    "\n",
    "# unpivot_expression = '''stack(2, 'farm1', farm1_count, 'farm2', farm2_count) as (farm, count)'''\n",
    "\n",
    "# unpivot_expression = '''stack(2, 'farm1', farm1_count, 'farm2', farm2_count) as (farm, count)'''\n",
    "\n",
    "# (\n",
    "#     df\n",
    "#     .select('animal', 'voice', expr(unpivot_expression))\n",
    "#     .show()\n",
    "# )\n",
    "\n",
    "stats.show()"
   ]
  },
  {
   "cell_type": "code",
   "execution_count": 235,
   "id": "b3d6f621",
   "metadata": {
    "ExecuteTime": {
     "end_time": "2022-07-07T08:53:47.306042Z",
     "start_time": "2022-07-07T08:53:47.284057Z"
    }
   },
   "outputs": [
    {
     "ename": "TypeError",
     "evalue": "percentile_approx() missing 1 required positional argument: 'percentage'",
     "output_type": "error",
     "traceback": [
      "\u001b[0;31m---------------------------------------------------------------------------\u001b[0m",
      "\u001b[0;31mTypeError\u001b[0m                                 Traceback (most recent call last)",
      "\u001b[0;32m<ipython-input-235-78aafb2c6190>\u001b[0m in \u001b[0;36m<module>\u001b[0;34m\u001b[0m\n\u001b[1;32m      6\u001b[0m     \u001b[0;34m.\u001b[0m\u001b[0mgroupby\u001b[0m\u001b[0;34m(\u001b[0m\u001b[0;34m'source'\u001b[0m\u001b[0;34m)\u001b[0m\u001b[0;34m\u001b[0m\u001b[0;34m\u001b[0m\u001b[0m\n\u001b[1;32m      7\u001b[0m     .agg(\n\u001b[0;32m----> 8\u001b[0;31m         \u001b[0mf\u001b[0m\u001b[0;34m.\u001b[0m\u001b[0mpercentile_approx\u001b[0m\u001b[0;34m(\u001b[0m\u001b[0mf\u001b[0m\u001b[0;34m.\u001b[0m\u001b[0mcollect_list\u001b[0m\u001b[0;34m(\u001b[0m\u001b[0;34m'relevant_disease_count'\u001b[0m\u001b[0;34m)\u001b[0m\u001b[0;34m)\u001b[0m\u001b[0;34m.\u001b[0m\u001b[0malias\u001b[0m\u001b[0;34m(\u001b[0m\u001b[0;34m'y'\u001b[0m\u001b[0;34m)\u001b[0m\u001b[0;34m,\u001b[0m\u001b[0;34m\u001b[0m\u001b[0;34m\u001b[0m\u001b[0m\n\u001b[0m\u001b[1;32m      9\u001b[0m         \u001b[0mf\u001b[0m\u001b[0;34m.\u001b[0m\u001b[0mcollect_list\u001b[0m\u001b[0;34m(\u001b[0m\u001b[0;34m'relevant_disease_count'\u001b[0m\u001b[0;34m)\u001b[0m\u001b[0;34m.\u001b[0m\u001b[0malias\u001b[0m\u001b[0;34m(\u001b[0m\u001b[0;34m'x'\u001b[0m\u001b[0;34m)\u001b[0m\u001b[0;34m\u001b[0m\u001b[0;34m\u001b[0m\u001b[0m\n\u001b[1;32m     10\u001b[0m     )\n",
      "\u001b[0;31mTypeError\u001b[0m: percentile_approx() missing 1 required positional argument: 'percentage'"
     ]
    }
   ],
   "source": [
    "median_udf = f.udf(lambda l: median([x for x in l if x >= 1]), t.FloatType())\n",
    "\n",
    "\n",
    "(\n",
    "    combined_dataset\n",
    "    .groupby('source')\n",
    "    .agg(\n",
    "        f.percentile_approx(f.collect_list('relevant_disease_count')).alias('y'),\n",
    "        f.collect_list('relevant_disease_count').alias('x')\n",
    "    )\n",
    "    .show()\n",
    ")\n",
    "# median(l)"
   ]
  },
  {
   "cell_type": "code",
   "execution_count": 264,
   "id": "ef867a12",
   "metadata": {
    "ExecuteTime": {
     "end_time": "2022-07-08T08:36:36.631607Z",
     "start_time": "2022-07-08T08:36:36.619747Z"
    }
   },
   "outputs": [
    {
     "data": {
      "text/plain": [
       "[[10, 20], [6, 4323], [12, 32, 12], [342]]"
      ]
     },
     "execution_count": 264,
     "metadata": {},
     "output_type": "execute_result"
    }
   ],
   "source": [
    "from functools import partial\n",
    "\n",
    "l = [10, 20, 6, 4323, 12, 32, 12, 342]\n",
    "bp = [2, 4, 7]\n",
    "\n",
    "[l[b[0]:b[1]] for b in zip([0] + bp, bp + [len(l)])]\n"
   ]
  },
  {
   "cell_type": "code",
   "execution_count": 242,
   "id": "0460aee1",
   "metadata": {
    "ExecuteTime": {
     "end_time": "2022-07-07T11:02:46.031911Z",
     "start_time": "2022-07-07T11:02:46.015782Z"
    }
   },
   "outputs": [
    {
     "ename": "IndexError",
     "evalue": "tuple index out of range",
     "output_type": "error",
     "traceback": [
      "\u001b[0;31m---------------------------------------------------------------------------\u001b[0m",
      "\u001b[0;31mIndexError\u001b[0m                                Traceback (most recent call last)",
      "\u001b[0;32m<ipython-input-242-fc9b0bbe8b1d>\u001b[0m in \u001b[0;36m<module>\u001b[0;34m\u001b[0m\n\u001b[0;32m----> 1\u001b[0;31m \u001b[0mreduce\u001b[0m\u001b[0;34m(\u001b[0m\u001b[0;32mlambda\u001b[0m \u001b[0mb\u001b[0m\u001b[0;34m,\u001b[0m \u001b[0ml\u001b[0m\u001b[0;34m:\u001b[0m \u001b[0ml\u001b[0m\u001b[0;34m[\u001b[0m\u001b[0mb\u001b[0m\u001b[0;34m[\u001b[0m\u001b[0;36m0\u001b[0m\u001b[0;34m]\u001b[0m\u001b[0;34m:\u001b[0m\u001b[0mb\u001b[0m\u001b[0;34m[\u001b[0m\u001b[0;36m1\u001b[0m\u001b[0;34m]\u001b[0m\u001b[0;34m]\u001b[0m\u001b[0;34m,\u001b[0m \u001b[0mzip\u001b[0m\u001b[0;34m(\u001b[0m\u001b[0;34m[\u001b[0m\u001b[0;36m0\u001b[0m\u001b[0;34m]\u001b[0m\u001b[0;34m+\u001b[0m\u001b[0mbreak_points\u001b[0m\u001b[0;34m,\u001b[0m \u001b[0mbreak_points\u001b[0m \u001b[0;34m+\u001b[0m \u001b[0;34m[\u001b[0m\u001b[0mlen\u001b[0m\u001b[0;34m(\u001b[0m\u001b[0ml\u001b[0m\u001b[0;34m)\u001b[0m\u001b[0;34m]\u001b[0m\u001b[0;34m)\u001b[0m\u001b[0;34m)\u001b[0m\u001b[0;34m\u001b[0m\u001b[0;34m\u001b[0m\u001b[0m\n\u001b[0m",
      "\u001b[0;32m<ipython-input-242-fc9b0bbe8b1d>\u001b[0m in \u001b[0;36m<lambda>\u001b[0;34m(b, l)\u001b[0m\n\u001b[0;32m----> 1\u001b[0;31m \u001b[0mreduce\u001b[0m\u001b[0;34m(\u001b[0m\u001b[0;32mlambda\u001b[0m \u001b[0mb\u001b[0m\u001b[0;34m,\u001b[0m \u001b[0ml\u001b[0m\u001b[0;34m:\u001b[0m \u001b[0ml\u001b[0m\u001b[0;34m[\u001b[0m\u001b[0mb\u001b[0m\u001b[0;34m[\u001b[0m\u001b[0;36m0\u001b[0m\u001b[0;34m]\u001b[0m\u001b[0;34m:\u001b[0m\u001b[0mb\u001b[0m\u001b[0;34m[\u001b[0m\u001b[0;36m1\u001b[0m\u001b[0;34m]\u001b[0m\u001b[0;34m]\u001b[0m\u001b[0;34m,\u001b[0m \u001b[0mzip\u001b[0m\u001b[0;34m(\u001b[0m\u001b[0;34m[\u001b[0m\u001b[0;36m0\u001b[0m\u001b[0;34m]\u001b[0m\u001b[0;34m+\u001b[0m\u001b[0mbreak_points\u001b[0m\u001b[0;34m,\u001b[0m \u001b[0mbreak_points\u001b[0m \u001b[0;34m+\u001b[0m \u001b[0;34m[\u001b[0m\u001b[0mlen\u001b[0m\u001b[0;34m(\u001b[0m\u001b[0ml\u001b[0m\u001b[0;34m)\u001b[0m\u001b[0;34m]\u001b[0m\u001b[0;34m)\u001b[0m\u001b[0;34m)\u001b[0m\u001b[0;34m\u001b[0m\u001b[0;34m\u001b[0m\u001b[0m\n\u001b[0m",
      "\u001b[0;31mIndexError\u001b[0m: tuple index out of range"
     ]
    }
   ],
   "source": [
    "\n",
    "\n",
    "reduce(lambda b, l: l[b[0]:b[1]], zip([0]+break_points, break_points + [len(l)]))"
   ]
  },
  {
   "cell_type": "code",
   "execution_count": 244,
   "id": "eb9c7241",
   "metadata": {
    "ExecuteTime": {
     "end_time": "2022-07-08T08:26:46.158426Z",
     "start_time": "2022-07-08T08:26:45.940782Z"
    }
   },
   "outputs": [],
   "source": [
    "?partial"
   ]
  },
  {
   "cell_type": "code",
   "execution_count": 247,
   "id": "f96c2d7c",
   "metadata": {
    "ExecuteTime": {
     "end_time": "2022-07-08T08:30:51.770235Z",
     "start_time": "2022-07-08T08:30:51.764226Z"
    }
   },
   "outputs": [],
   "source": [
    "x = partial(lambda l, b: l[b[0]:b[1]], l=l )"
   ]
  },
  {
   "cell_type": "code",
   "execution_count": 250,
   "id": "a76c0bbb",
   "metadata": {
    "ExecuteTime": {
     "end_time": "2022-07-08T08:31:18.611985Z",
     "start_time": "2022-07-08T08:31:18.578283Z"
    }
   },
   "outputs": [
    {
     "ename": "TypeError",
     "evalue": "<lambda>() got multiple values for argument 'l'",
     "output_type": "error",
     "traceback": [
      "\u001b[0;31m---------------------------------------------------------------------------\u001b[0m",
      "\u001b[0;31mTypeError\u001b[0m                                 Traceback (most recent call last)",
      "\u001b[0;32m<ipython-input-250-d135e66dd989>\u001b[0m in \u001b[0;36m<module>\u001b[0;34m\u001b[0m\n\u001b[0;32m----> 1\u001b[0;31m \u001b[0;34m[\u001b[0m\u001b[0mb\u001b[0m \u001b[0;32mfor\u001b[0m \u001b[0mb\u001b[0m \u001b[0;32min\u001b[0m \u001b[0mmap\u001b[0m\u001b[0;34m(\u001b[0m\u001b[0mx\u001b[0m\u001b[0;34m,\u001b[0m \u001b[0mzip\u001b[0m\u001b[0;34m(\u001b[0m\u001b[0;34m[\u001b[0m\u001b[0;36m0\u001b[0m\u001b[0;34m]\u001b[0m\u001b[0;34m+\u001b[0m\u001b[0mbreak_points\u001b[0m\u001b[0;34m,\u001b[0m \u001b[0mbreak_points\u001b[0m \u001b[0;34m+\u001b[0m \u001b[0;34m[\u001b[0m\u001b[0mlen\u001b[0m\u001b[0;34m(\u001b[0m\u001b[0ml\u001b[0m\u001b[0;34m)\u001b[0m\u001b[0;34m]\u001b[0m\u001b[0;34m)\u001b[0m\u001b[0;34m)\u001b[0m\u001b[0;34m]\u001b[0m\u001b[0;34m\u001b[0m\u001b[0;34m\u001b[0m\u001b[0m\n\u001b[0m",
      "\u001b[0;32m<ipython-input-250-d135e66dd989>\u001b[0m in \u001b[0;36m<listcomp>\u001b[0;34m(.0)\u001b[0m\n\u001b[0;32m----> 1\u001b[0;31m \u001b[0;34m[\u001b[0m\u001b[0mb\u001b[0m \u001b[0;32mfor\u001b[0m \u001b[0mb\u001b[0m \u001b[0;32min\u001b[0m \u001b[0mmap\u001b[0m\u001b[0;34m(\u001b[0m\u001b[0mx\u001b[0m\u001b[0;34m,\u001b[0m \u001b[0mzip\u001b[0m\u001b[0;34m(\u001b[0m\u001b[0;34m[\u001b[0m\u001b[0;36m0\u001b[0m\u001b[0;34m]\u001b[0m\u001b[0;34m+\u001b[0m\u001b[0mbreak_points\u001b[0m\u001b[0;34m,\u001b[0m \u001b[0mbreak_points\u001b[0m \u001b[0;34m+\u001b[0m \u001b[0;34m[\u001b[0m\u001b[0mlen\u001b[0m\u001b[0;34m(\u001b[0m\u001b[0ml\u001b[0m\u001b[0;34m)\u001b[0m\u001b[0;34m]\u001b[0m\u001b[0;34m)\u001b[0m\u001b[0;34m)\u001b[0m\u001b[0;34m]\u001b[0m\u001b[0;34m\u001b[0m\u001b[0;34m\u001b[0m\u001b[0m\n\u001b[0m",
      "\u001b[0;31mTypeError\u001b[0m: <lambda>() got multiple values for argument 'l'"
     ]
    }
   ],
   "source": [
    "[b for b in map(x, zip([0]+break_points, break_points + [len(l)]))]"
   ]
  },
  {
   "cell_type": "code",
   "execution_count": 262,
   "id": "de3b4b94",
   "metadata": {
    "ExecuteTime": {
     "end_time": "2022-07-08T08:35:17.974021Z",
     "start_time": "2022-07-08T08:35:17.966060Z"
    }
   },
   "outputs": [
    {
     "data": {
      "text/plain": [
       "[[10, 20], [6, 4323], [12, 32, 12], [342]]"
      ]
     },
     "execution_count": 262,
     "metadata": {},
     "output_type": "execute_result"
    }
   ],
   "source": [
    "[l[b[0]:b[1]] for b in zip([0]+break_points, break_points + [len(l)])]\n"
   ]
  },
  {
   "cell_type": "code",
   "execution_count": 261,
   "id": "f884436f",
   "metadata": {
    "ExecuteTime": {
     "end_time": "2022-07-08T08:34:28.743579Z",
     "start_time": "2022-07-08T08:34:28.728864Z"
    }
   },
   "outputs": [
    {
     "ename": "TypeError",
     "evalue": "'int' object is not subscriptable",
     "output_type": "error",
     "traceback": [
      "\u001b[0;31m---------------------------------------------------------------------------\u001b[0m",
      "\u001b[0;31mTypeError\u001b[0m                                 Traceback (most recent call last)",
      "\u001b[0;32m<ipython-input-261-4b69df7286d2>\u001b[0m in \u001b[0;36m<module>\u001b[0;34m\u001b[0m\n\u001b[0;32m----> 1\u001b[0;31m \u001b[0mlist\u001b[0m\u001b[0;34m(\u001b[0m\u001b[0mmap\u001b[0m\u001b[0;34m(\u001b[0m\u001b[0;32mlambda\u001b[0m \u001b[0ml\u001b[0m\u001b[0;34m,\u001b[0m \u001b[0mb\u001b[0m\u001b[0;34m:\u001b[0m \u001b[0ml\u001b[0m\u001b[0;34m[\u001b[0m\u001b[0mb\u001b[0m\u001b[0;34m[\u001b[0m\u001b[0;36m0\u001b[0m\u001b[0;34m]\u001b[0m\u001b[0;34m:\u001b[0m\u001b[0mb\u001b[0m\u001b[0;34m[\u001b[0m\u001b[0;36m1\u001b[0m\u001b[0;34m]\u001b[0m\u001b[0;34m]\u001b[0m\u001b[0;34m,\u001b[0m \u001b[0mb\u001b[0m\u001b[0;34m,\u001b[0m \u001b[0ml\u001b[0m\u001b[0;34m)\u001b[0m\u001b[0;34m)\u001b[0m\u001b[0;34m\u001b[0m\u001b[0;34m\u001b[0m\u001b[0m\n\u001b[0m",
      "\u001b[0;32m<ipython-input-261-4b69df7286d2>\u001b[0m in \u001b[0;36m<lambda>\u001b[0;34m(l, b)\u001b[0m\n\u001b[0;32m----> 1\u001b[0;31m \u001b[0mlist\u001b[0m\u001b[0;34m(\u001b[0m\u001b[0mmap\u001b[0m\u001b[0;34m(\u001b[0m\u001b[0;32mlambda\u001b[0m \u001b[0ml\u001b[0m\u001b[0;34m,\u001b[0m \u001b[0mb\u001b[0m\u001b[0;34m:\u001b[0m \u001b[0ml\u001b[0m\u001b[0;34m[\u001b[0m\u001b[0mb\u001b[0m\u001b[0;34m[\u001b[0m\u001b[0;36m0\u001b[0m\u001b[0;34m]\u001b[0m\u001b[0;34m:\u001b[0m\u001b[0mb\u001b[0m\u001b[0;34m[\u001b[0m\u001b[0;36m1\u001b[0m\u001b[0;34m]\u001b[0m\u001b[0;34m]\u001b[0m\u001b[0;34m,\u001b[0m \u001b[0mb\u001b[0m\u001b[0;34m,\u001b[0m \u001b[0ml\u001b[0m\u001b[0;34m)\u001b[0m\u001b[0;34m)\u001b[0m\u001b[0;34m\u001b[0m\u001b[0;34m\u001b[0m\u001b[0m\n\u001b[0m",
      "\u001b[0;31mTypeError\u001b[0m: 'int' object is not subscriptable"
     ]
    }
   ],
   "source": [
    "list(map(lambda l, b: , b, l))"
   ]
  },
  {
   "cell_type": "code",
   "execution_count": 3,
   "id": "7ba3b3be",
   "metadata": {
    "ExecuteTime": {
     "end_time": "2022-07-12T10:16:21.532450Z",
     "start_time": "2022-07-12T10:16:21.521873Z"
    }
   },
   "outputs": [
    {
     "data": {
      "text/plain": [
       "pyspark.sql.session.SparkSession"
      ]
     },
     "execution_count": 3,
     "metadata": {},
     "output_type": "execute_result"
    }
   ],
   "source": [
    "type(spark)"
   ]
  },
  {
   "cell_type": "code",
   "execution_count": 2,
   "id": "5efda3c5",
   "metadata": {
    "ExecuteTime": {
     "end_time": "2022-07-12T10:07:57.114113Z",
     "start_time": "2022-07-12T10:07:57.108584Z"
    }
   },
   "outputs": [
    {
     "name": "stdout",
     "output_type": "stream",
     "text": [
      "3.1.2\n"
     ]
    }
   ],
   "source": [
    "def test():\n",
    "    print(spark.version)\n",
    "    \n",
    "test()"
   ]
  },
  {
   "cell_type": "code",
   "execution_count": null,
   "id": "f804923b",
   "metadata": {},
   "outputs": [],
   "source": []
  }
 ],
 "metadata": {
  "kernelspec": {
   "display_name": "Python 3",
   "language": "python",
   "name": "python3"
  },
  "language_info": {
   "codemirror_mode": {
    "name": "ipython",
    "version": 3
   },
   "file_extension": ".py",
   "mimetype": "text/x-python",
   "name": "python",
   "nbconvert_exporter": "python",
   "pygments_lexer": "ipython3",
   "version": "3.9.5"
  }
 },
 "nbformat": 4,
 "nbformat_minor": 5
}
