{
 "cells": [
  {
   "cell_type": "code",
   "execution_count": 1,
   "id": "88c034c1",
   "metadata": {
    "ExecuteTime": {
     "end_time": "2022-06-28T10:14:00.871983Z",
     "start_time": "2022-06-28T10:13:59.521452Z"
    },
    "code_folding": [
     3
    ]
   },
   "outputs": [
    {
     "name": "stdout",
     "output_type": "stream",
     "text": [
      "Number of diseases associated with hematology/immununology: 539\n"
     ]
    }
   ],
   "source": [
    "import pandas as pd\n",
    "import requests\n",
    "\n",
    "def fetch_from_graphql(target_id: str) -> pd.DataFrame:\n",
    "    \"\"\"Fetching associations from OT graphql API based on ensembl gene Id\"\"\"\n",
    "\n",
    "    # Checking if the target is indeed an ensembl gene id:\n",
    "    assert target_id.startswith('ENSG'), \"Target Id must be an ensembl gene id\"\n",
    "\n",
    "    # QueryURL:\n",
    "    query_url = 'https://api.platform.opentargets.org/api/v4/graphql'\n",
    "\n",
    "    # Qery string:\n",
    "    query = {\n",
    "        \"operationName\": \"TargetAssociationsQuery\",\n",
    "        \"variables\": {\n",
    "            \"ensemblId\": target_id,\n",
    "            \"index\": 0,\n",
    "            \"size\": 10000,\n",
    "            \"sortBy\": \"score\",\n",
    "            \"filter\": \"\",\n",
    "            \"aggregationFilters\": []\n",
    "        },\n",
    "        \"query\": \"\"\"\n",
    "            query TargetAssociationsQuery($ensemblId: String!, $index: Int!, $size: Int!, $filter: String, $sortBy: String!, $aggregationFilters: [AggregationFilter!]) {\n",
    "                target(ensemblId: $ensemblId) {\n",
    "                    id\n",
    "                    approvedSymbol\n",
    "                    approvedName\n",
    "                    associatedDiseases(page: {index: $index, size: $size}, orderByScore: $sortBy, BFilter: $filter, aggregationFilters: $aggregationFilters) {\n",
    "                        count\n",
    "                        rows {\n",
    "                            disease {\n",
    "                                id\n",
    "                                name\n",
    "                                ancestors\n",
    "                            }\n",
    "                            score\n",
    "                            datatypeScores {\n",
    "                                componentId: id\n",
    "                                score\n",
    "                            }\n",
    "                        }\n",
    "                    }\n",
    "                }\n",
    "            }\n",
    "        \"\"\"\n",
    "    }\n",
    "\n",
    "    data = requests.post(query_url, json=query).json()  # This part is not partcularly rubust.\n",
    "    return data\n",
    "\n",
    "\n",
    "# This is a linearized version of our ontology:\n",
    "## It is important to note this file accounts for only parent terms!\n",
    "efos = 'https://platform.opentargets.org/data/ontology/efo_json/diseases_efo.jsonl'\n",
    "\n",
    "# These strings will be looked for in the parent names:\n",
    "relevant_disease_pattern = ['immuno', 'hemato', 'hemo']\n",
    "\n",
    "# Fetching disease ontology:\n",
    "diseases = (\n",
    "    pd.read_json(efos, lines=True)\n",
    "    .drop('parentIds', axis=1)\n",
    "    .rename(columns={'id': 'diseaseId', 'name': 'diseaseName'})\n",
    "    \n",
    "    # Filtering for diseases for interest:\n",
    "    .loc[lambda df: df.diseaseName.str.lower().str.contains('|'.join(relevant_disease_pattern))]\n",
    ")\n",
    "\n",
    "\n",
    "print(f'Number of diseases associated with hematology/immununology: {len(diseases)}')\n"
   ]
  },
  {
   "cell_type": "code",
   "execution_count": 7,
   "id": "c2d882a3",
   "metadata": {
    "ExecuteTime": {
     "end_time": "2022-06-28T10:19:39.085535Z",
     "start_time": "2022-06-28T10:19:38.911371Z"
    }
   },
   "outputs": [],
   "source": [
    "target = 'ENSG00000115977'\n",
    "\n",
    "# Fetching associations for a given target:\n",
    "data = fetch_from_graphql(target)\n"
   ]
  },
  {
   "cell_type": "code",
   "execution_count": 8,
   "id": "bb2d5457",
   "metadata": {
    "ExecuteTime": {
     "end_time": "2022-06-28T10:20:03.743613Z",
     "start_time": "2022-06-28T10:20:03.683329Z"
    }
   },
   "outputs": [
    {
     "name": "stdout",
     "output_type": "stream",
     "text": [
      "Number of associated diseases for ENSG00000115977: 80\n"
     ]
    },
    {
     "data": {
      "text/html": [
       "<div>\n",
       "<style scoped>\n",
       "    .dataframe tbody tr th:only-of-type {\n",
       "        vertical-align: middle;\n",
       "    }\n",
       "\n",
       "    .dataframe tbody tr th {\n",
       "        vertical-align: top;\n",
       "    }\n",
       "\n",
       "    .dataframe thead th {\n",
       "        text-align: right;\n",
       "    }\n",
       "</style>\n",
       "<table border=\"1\" class=\"dataframe\">\n",
       "  <thead>\n",
       "    <tr style=\"text-align: right;\">\n",
       "      <th></th>\n",
       "      <th>score</th>\n",
       "      <th>targetSymbol</th>\n",
       "      <th>targetName</th>\n",
       "      <th>targetId</th>\n",
       "      <th>diseaseId</th>\n",
       "      <th>diseaseName</th>\n",
       "      <th>diseaseAncestorName</th>\n",
       "      <th>affected_pathway</th>\n",
       "      <th>literature</th>\n",
       "      <th>rna_expression</th>\n",
       "      <th>animal_model</th>\n",
       "      <th>somatic_mutation</th>\n",
       "      <th>known_drug</th>\n",
       "      <th>genetic_association</th>\n",
       "    </tr>\n",
       "  </thead>\n",
       "  <tbody>\n",
       "    <tr>\n",
       "      <th>0</th>\n",
       "      <td>0.392863</td>\n",
       "      <td>AAK1</td>\n",
       "      <td>AP2 associated kinase 1</td>\n",
       "      <td>ENSG00000115977</td>\n",
       "      <td>EFO_0004509</td>\n",
       "      <td>hemoglobin measurement</td>\n",
       "      <td>[hematological measurement, hemoglobin measure...</td>\n",
       "      <td>0.0</td>\n",
       "      <td>0.000000</td>\n",
       "      <td>0.0</td>\n",
       "      <td>0</td>\n",
       "      <td>0</td>\n",
       "      <td>0</td>\n",
       "      <td>0.646230</td>\n",
       "    </tr>\n",
       "    <tr>\n",
       "      <th>1</th>\n",
       "      <td>0.388156</td>\n",
       "      <td>AAK1</td>\n",
       "      <td>AP2 associated kinase 1</td>\n",
       "      <td>ENSG00000115977</td>\n",
       "      <td>EFO_0004348</td>\n",
       "      <td>hematocrit</td>\n",
       "      <td>[hematological measurement, hematocrit]</td>\n",
       "      <td>0.0</td>\n",
       "      <td>0.000000</td>\n",
       "      <td>0.0</td>\n",
       "      <td>0</td>\n",
       "      <td>0</td>\n",
       "      <td>0</td>\n",
       "      <td>0.638488</td>\n",
       "    </tr>\n",
       "    <tr>\n",
       "      <th>2</th>\n",
       "      <td>0.238560</td>\n",
       "      <td>AAK1</td>\n",
       "      <td>AP2 associated kinase 1</td>\n",
       "      <td>ENSG00000115977</td>\n",
       "      <td>EFO_0004305</td>\n",
       "      <td>erythrocyte count</td>\n",
       "      <td>[hematological measurement]</td>\n",
       "      <td>0.0</td>\n",
       "      <td>0.000000</td>\n",
       "      <td>0.0</td>\n",
       "      <td>0</td>\n",
       "      <td>0</td>\n",
       "      <td>0</td>\n",
       "      <td>0.392413</td>\n",
       "    </tr>\n",
       "    <tr>\n",
       "      <th>3</th>\n",
       "      <td>0.205843</td>\n",
       "      <td>AAK1</td>\n",
       "      <td>AP2 associated kinase 1</td>\n",
       "      <td>ENSG00000115977</td>\n",
       "      <td>EFO_0007978</td>\n",
       "      <td>red blood cell density measurement</td>\n",
       "      <td>[hematological measurement]</td>\n",
       "      <td>0.0</td>\n",
       "      <td>0.000000</td>\n",
       "      <td>0.0</td>\n",
       "      <td>0</td>\n",
       "      <td>0</td>\n",
       "      <td>0</td>\n",
       "      <td>0.338596</td>\n",
       "    </tr>\n",
       "    <tr>\n",
       "      <th>4</th>\n",
       "      <td>0.001478</td>\n",
       "      <td>AAK1</td>\n",
       "      <td>AP2 associated kinase 1</td>\n",
       "      <td>ENSG00000115977</td>\n",
       "      <td>EFO_0000403</td>\n",
       "      <td>diffuse large B-cell lymphoma</td>\n",
       "      <td>[hematopoietic and lymphoid system neoplasm, t...</td>\n",
       "      <td>0.0</td>\n",
       "      <td>0.012159</td>\n",
       "      <td>0.0</td>\n",
       "      <td>0</td>\n",
       "      <td>0</td>\n",
       "      <td>0</td>\n",
       "      <td>0.000000</td>\n",
       "    </tr>\n",
       "  </tbody>\n",
       "</table>\n",
       "</div>"
      ],
      "text/plain": [
       "      score targetSymbol               targetName         targetId  \\\n",
       "0  0.392863         AAK1  AP2 associated kinase 1  ENSG00000115977   \n",
       "1  0.388156         AAK1  AP2 associated kinase 1  ENSG00000115977   \n",
       "2  0.238560         AAK1  AP2 associated kinase 1  ENSG00000115977   \n",
       "3  0.205843         AAK1  AP2 associated kinase 1  ENSG00000115977   \n",
       "4  0.001478         AAK1  AP2 associated kinase 1  ENSG00000115977   \n",
       "\n",
       "     diseaseId                         diseaseName  \\\n",
       "0  EFO_0004509              hemoglobin measurement   \n",
       "1  EFO_0004348                          hematocrit   \n",
       "2  EFO_0004305                   erythrocyte count   \n",
       "3  EFO_0007978  red blood cell density measurement   \n",
       "4  EFO_0000403       diffuse large B-cell lymphoma   \n",
       "\n",
       "                                 diseaseAncestorName  affected_pathway  \\\n",
       "0  [hematological measurement, hemoglobin measure...               0.0   \n",
       "1            [hematological measurement, hematocrit]               0.0   \n",
       "2                        [hematological measurement]               0.0   \n",
       "3                        [hematological measurement]               0.0   \n",
       "4  [hematopoietic and lymphoid system neoplasm, t...               0.0   \n",
       "\n",
       "   literature  rna_expression  animal_model  somatic_mutation  known_drug  \\\n",
       "0    0.000000             0.0             0                 0           0   \n",
       "1    0.000000             0.0             0                 0           0   \n",
       "2    0.000000             0.0             0                 0           0   \n",
       "3    0.000000             0.0             0                 0           0   \n",
       "4    0.012159             0.0             0                 0           0   \n",
       "\n",
       "   genetic_association  \n",
       "0             0.646230  \n",
       "1             0.638488  \n",
       "2             0.392413  \n",
       "3             0.338596  \n",
       "4             0.000000  "
      ]
     },
     "execution_count": 8,
     "metadata": {},
     "output_type": "execute_result"
    }
   ],
   "source": [
    "raw_associations = (\n",
    "    pd.DataFrame(data['data']['target']['associatedDiseases']['rows'])\n",
    "    .assign(\n",
    "        # Adding target columns:\n",
    "        targetSymbol=data['data']['target']['approvedSymbol'],\n",
    "        targetName=data['data']['target']['approvedName'],\n",
    "        targetId=data['data']['target']['id'],\n",
    "        # Parsing disease id:\n",
    "        diseaseId=lambda df: df.disease.apply(lambda x: x['id']),\n",
    "        # Parsing disease name:\n",
    "        diseaseName=lambda df: df.disease.apply(lambda x: x['name']),\n",
    "        # Parsing ancestors:\n",
    "        diseaseAncestors=lambda df: df.apply(lambda row: row['disease']['ancestors'] + [row['diseaseId']], axis=1)\n",
    "    )\n",
    ")\n",
    "print(f'Number of associated diseases for {target}: {len(raw_associations)}')\n",
    "\n",
    "\n",
    "# We select only those associated diseases, where at least any of the ancestors is in our disease of interest list:\n",
    "associated_diseases = (\n",
    "    raw_associations[['diseaseId', 'diseaseAncestors']]\n",
    "    .explode('diseaseAncestors')\n",
    "    .merge(diseases.rename(columns={'diseaseId': 'diseaseAncestors', 'diseaseName': 'diseaseAncestorName'}), on='diseaseAncestors')\n",
    "    .groupby('diseaseId')\n",
    "    .agg({\n",
    "        'diseaseAncestorName': lambda diseasenames: list(set(diseasenames)),\n",
    "    })\n",
    "    .reset_index()\n",
    ")\n",
    "\n",
    "##\n",
    "## Parsing data type scores expecting all datatypes \n",
    "##\n",
    "\n",
    "# List of all data types:\n",
    "data_types = [\n",
    "    'affected_pathway',\n",
    "    'literature',\n",
    "    'rna_expression',\n",
    "    'animal_model',\n",
    "    'somatic_mutation',\n",
    "    'known_drug',\n",
    "    'genetic_association'\n",
    "]\n",
    "\n",
    "def getword(data_types: list, data_type: str) -> float:\n",
    "    \"\"\"Returning the data_type score for a given data_type\"\"\"\n",
    "    for x in data_types:\n",
    "        if x['componentId'] == data_type:\n",
    "            return x['score']\n",
    "        \n",
    "    return None\n",
    "\n",
    "# Expressions to generate column for each datatype with the value of the datatype score:\n",
    "kwarg = {data_type: eval(f'lambda df: df.datatypeScores.apply(getword, args=(\"{data_type}\", ))') for data_type in data_types}\n",
    "\n",
    "# Applying expression:\n",
    "datatypes = (\n",
    "    raw_associations\n",
    "    .assign(**kwarg)\n",
    "    .fillna(0)\n",
    "    .drop(['disease', 'datatypeScores', 'diseaseName', 'diseaseAncestors', 'score', 'targetName', 'targetId', 'targetSymbol'], axis=1)\n",
    ")\n",
    "\n",
    "filtered_associations = (\n",
    "    raw_associations\n",
    "    # Filtering associations by disease of interest:\n",
    "    .merge(associated_diseases, on='diseaseId', how='inner')\n",
    "    \n",
    "    # Joining with datatype scores:\n",
    "    .merge(datatypes, on='diseaseId', how='left')\n",
    "\n",
    "    # Select and order columns:\n",
    "    .drop(['disease', 'datatypeScores', 'diseaseAncestors', 'disease'], axis=1)\n",
    ")\n",
    "\n",
    "\n",
    "filtered_associations.head()\n"
   ]
  },
  {
   "cell_type": "code",
   "execution_count": 9,
   "id": "d19f148a",
   "metadata": {
    "ExecuteTime": {
     "end_time": "2022-06-28T10:32:19.982209Z",
     "start_time": "2022-06-28T10:32:19.979555Z"
    }
   },
   "outputs": [],
   "source": [
    "# List of all data types:\n",
    "data_types = [\n",
    "    'affected_pathway',\n",
    "    'literature',\n",
    "    'rna_expression',\n",
    "    'animal_model',\n",
    "    'somatic_mutation',\n",
    "    'known_drug',\n",
    "    'genetic_association'\n",
    "]\n"
   ]
  },
  {
   "cell_type": "code",
   "execution_count": 10,
   "id": "f04ea16c",
   "metadata": {
    "ExecuteTime": {
     "end_time": "2022-06-28T10:32:27.450463Z",
     "start_time": "2022-06-28T10:32:27.447333Z"
    }
   },
   "outputs": [],
   "source": [
    "# Expressions to generate column for each datatype with the value of the datatype score:\n",
    "kwarg = {data_type: eval(f'lambda df: df.datatypeScores.apply(getword, args=(\"{data_type}\", ))') for data_type in data_types}\n"
   ]
  },
  {
   "cell_type": "code",
   "execution_count": 11,
   "id": "fb52330a",
   "metadata": {
    "ExecuteTime": {
     "end_time": "2022-06-28T10:32:32.013403Z",
     "start_time": "2022-06-28T10:32:32.007995Z"
    }
   },
   "outputs": [
    {
     "data": {
      "text/plain": [
       "{'affected_pathway': <function __main__.<lambda>(df)>,\n",
       " 'literature': <function __main__.<lambda>(df)>,\n",
       " 'rna_expression': <function __main__.<lambda>(df)>,\n",
       " 'animal_model': <function __main__.<lambda>(df)>,\n",
       " 'somatic_mutation': <function __main__.<lambda>(df)>,\n",
       " 'known_drug': <function __main__.<lambda>(df)>,\n",
       " 'genetic_association': <function __main__.<lambda>(df)>}"
      ]
     },
     "execution_count": 11,
     "metadata": {},
     "output_type": "execute_result"
    }
   ],
   "source": [
    "\n",
    "kwarg"
   ]
  },
  {
   "cell_type": "code",
   "execution_count": 12,
   "id": "dcf154d8",
   "metadata": {
    "ExecuteTime": {
     "end_time": "2022-06-28T10:36:49.869491Z",
     "start_time": "2022-06-28T10:36:49.268234Z"
    }
   },
   "outputs": [
    {
     "data": {
      "text/html": [
       "<div>\n",
       "<style scoped>\n",
       "    .dataframe tbody tr th:only-of-type {\n",
       "        vertical-align: middle;\n",
       "    }\n",
       "\n",
       "    .dataframe tbody tr th {\n",
       "        vertical-align: top;\n",
       "    }\n",
       "\n",
       "    .dataframe thead th {\n",
       "        text-align: right;\n",
       "    }\n",
       "</style>\n",
       "<table border=\"1\" class=\"dataframe\">\n",
       "  <thead>\n",
       "    <tr style=\"text-align: right;\">\n",
       "      <th></th>\n",
       "      <th>diseaseId</th>\n",
       "      <th>targetId</th>\n",
       "      <th>datatypeId</th>\n",
       "      <th>score</th>\n",
       "      <th>evidenceCount</th>\n",
       "    </tr>\n",
       "  </thead>\n",
       "  <tbody>\n",
       "    <tr>\n",
       "      <th>0</th>\n",
       "      <td>DOID_0050890</td>\n",
       "      <td>ENSG00000006128</td>\n",
       "      <td>literature</td>\n",
       "      <td>0.018238</td>\n",
       "      <td>1</td>\n",
       "    </tr>\n",
       "    <tr>\n",
       "      <th>1</th>\n",
       "      <td>DOID_0050890</td>\n",
       "      <td>ENSG00000006210</td>\n",
       "      <td>literature</td>\n",
       "      <td>0.018238</td>\n",
       "      <td>1</td>\n",
       "    </tr>\n",
       "    <tr>\n",
       "      <th>2</th>\n",
       "      <td>DOID_0050890</td>\n",
       "      <td>ENSG00000007952</td>\n",
       "      <td>literature</td>\n",
       "      <td>0.028743</td>\n",
       "      <td>14</td>\n",
       "    </tr>\n",
       "    <tr>\n",
       "      <th>3</th>\n",
       "      <td>DOID_0050890</td>\n",
       "      <td>ENSG00000010256</td>\n",
       "      <td>literature</td>\n",
       "      <td>0.030397</td>\n",
       "      <td>1</td>\n",
       "    </tr>\n",
       "    <tr>\n",
       "      <th>4</th>\n",
       "      <td>DOID_0050890</td>\n",
       "      <td>ENSG00000010610</td>\n",
       "      <td>literature</td>\n",
       "      <td>0.044075</td>\n",
       "      <td>2</td>\n",
       "    </tr>\n",
       "  </tbody>\n",
       "</table>\n",
       "</div>"
      ],
      "text/plain": [
       "      diseaseId         targetId  datatypeId     score  evidenceCount\n",
       "0  DOID_0050890  ENSG00000006128  literature  0.018238              1\n",
       "1  DOID_0050890  ENSG00000006210  literature  0.018238              1\n",
       "2  DOID_0050890  ENSG00000007952  literature  0.028743             14\n",
       "3  DOID_0050890  ENSG00000010256  literature  0.030397              1\n",
       "4  DOID_0050890  ENSG00000010610  literature  0.044075              2"
      ]
     },
     "execution_count": 12,
     "metadata": {},
     "output_type": "execute_result"
    }
   ],
   "source": [
    "(\n",
    "    pd.read_json('ftp://ftp.ebi.ac.uk/pub/databases/opentargets/platform/22.06/output/etl/json/associationByDatatypeDirect/part-00000-81370132-3091-40ee-90c1-5d8e641953c3-c000.json', lines=True)\n",
    "    .head()\n",
    ")"
   ]
  },
  {
   "cell_type": "code",
   "execution_count": 13,
   "id": "6601dd8a",
   "metadata": {
    "ExecuteTime": {
     "end_time": "2022-07-05T14:12:30.130974Z",
     "start_time": "2022-07-05T14:12:29.687099Z"
    }
   },
   "outputs": [
    {
     "ename": "NameError",
     "evalue": "name 'file_list' is not defined",
     "output_type": "error",
     "traceback": [
      "\u001b[0;31m---------------------------------------------------------------------------\u001b[0m",
      "\u001b[0;31mNameError\u001b[0m                                 Traceback (most recent call last)",
      "\u001b[0;32m<ipython-input-13-4a0b8085efa0>\u001b[0m in \u001b[0;36m<module>\u001b[0;34m\u001b[0m\n\u001b[1;32m      1\u001b[0m \u001b[0;32mfrom\u001b[0m \u001b[0mfunctools\u001b[0m \u001b[0;32mimport\u001b[0m \u001b[0mreduce\u001b[0m\u001b[0;34m\u001b[0m\u001b[0;34m\u001b[0m\u001b[0m\n\u001b[1;32m      2\u001b[0m \u001b[0;34m\u001b[0m\u001b[0m\n\u001b[0;32m----> 3\u001b[0;31m \u001b[0mdataframes\u001b[0m \u001b[0;34m=\u001b[0m \u001b[0;34m[\u001b[0m\u001b[0mspark\u001b[0m\u001b[0;34m.\u001b[0m\u001b[0mread\u001b[0m\u001b[0;34m.\u001b[0m\u001b[0mcsv\u001b[0m\u001b[0;34m(\u001b[0m\u001b[0mf\u001b[0m\u001b[0;34m)\u001b[0m\u001b[0;34m.\u001b[0m\u001b[0mwithcolumn\u001b[0m\u001b[0;34m(\u001b[0m\u001b[0;34m'file'\u001b[0m\u001b[0;34m,\u001b[0m \u001b[0mf\u001b[0m\u001b[0;34m.\u001b[0m\u001b[0mlit\u001b[0m\u001b[0;34m(\u001b[0m\u001b[0mf\u001b[0m\u001b[0;34m)\u001b[0m\u001b[0;34m)\u001b[0m\u001b[0;34m.\u001b[0m\u001b[0mpersist\u001b[0m\u001b[0;34m(\u001b[0m\u001b[0;34m)\u001b[0m \u001b[0;32mfor\u001b[0m \u001b[0mf\u001b[0m \u001b[0;32min\u001b[0m \u001b[0mfile_list\u001b[0m\u001b[0;34m]\u001b[0m\u001b[0;34m\u001b[0m\u001b[0;34m\u001b[0m\u001b[0m\n\u001b[0m\u001b[1;32m      4\u001b[0m \u001b[0mconcatenated\u001b[0m \u001b[0;34m=\u001b[0m \u001b[0mreduce\u001b[0m\u001b[0;34m(\u001b[0m\u001b[0;32mlambda\u001b[0m \u001b[0mdf1\u001b[0m\u001b[0;34m,\u001b[0m \u001b[0mdf2\u001b[0m\u001b[0;34m:\u001b[0m \u001b[0mdf1\u001b[0m\u001b[0;34m.\u001b[0m\u001b[0munionby\u001b[0m\u001b[0;34m(\u001b[0m\u001b[0mdf2\u001b[0m\u001b[0;34m)\u001b[0m\u001b[0;34m,\u001b[0m \u001b[0mdataframes\u001b[0m\u001b[0;34m)\u001b[0m\u001b[0;34m\u001b[0m\u001b[0;34m\u001b[0m\u001b[0m\n",
      "\u001b[0;31mNameError\u001b[0m: name 'file_list' is not defined"
     ]
    }
   ],
   "source": [
    "from functools import reduce\n",
    "\n",
    "dataframes = [spark.read.csv(f).withcolumn('file', f.lit(f)).persist() for f in file_list]\n",
    "concatenated = reduce(lambda df1, df2: df1.unionByName(df2, allowMissingColumns=True), dataframes)"
   ]
  },
  {
   "cell_type": "code",
   "execution_count": 14,
   "id": "0a11b7a1",
   "metadata": {
    "ExecuteTime": {
     "end_time": "2022-07-08T09:41:50.828014Z",
     "start_time": "2022-07-08T09:41:50.713523Z"
    }
   },
   "outputs": [
    {
     "data": {
      "text/plain": [
       "[[10, 20], [6, 4323], [12, 32, 12], [342]]"
      ]
     },
     "execution_count": 14,
     "metadata": {},
     "output_type": "execute_result"
    }
   ],
   "source": [
    "l = [10, 20, 6, 4323, 12, 32, 12, 342]\n",
    "\n",
    "bp = [2, 4, 7]\n",
    "\n",
    "\n",
    "[l[b[0]:b[1]] for b in zip([0] + bp, bp + [len(l)])]"
   ]
  },
  {
   "cell_type": "code",
   "execution_count": 24,
   "id": "dc7903d8",
   "metadata": {
    "ExecuteTime": {
     "end_time": "2022-07-08T10:33:26.038337Z",
     "start_time": "2022-07-08T10:33:26.021652Z"
    }
   },
   "outputs": [
    {
     "ename": "AssertionError",
     "evalue": "Reported trait (POCOK | kutya), contains invalid character.",
     "output_type": "error",
     "traceback": [
      "\u001b[0;31m---------------------------------------------------------------------------\u001b[0m",
      "\u001b[0;31mAssertionError\u001b[0m                            Traceback (most recent call last)",
      "\u001b[0;32m<ipython-input-24-ab4358e70ec4>\u001b[0m in \u001b[0;36m<module>\u001b[0;34m\u001b[0m\n\u001b[1;32m     25\u001b[0m \u001b[0;34m\u001b[0m\u001b[0m\n\u001b[1;32m     26\u001b[0m \u001b[0;34m\u001b[0m\u001b[0m\n\u001b[0;32m---> 27\u001b[0;31m \u001b[0mmake_trait_reported_string\u001b[0m\u001b[0;34m(\u001b[0m\u001b[0;34m'POCOK | kutya'\u001b[0m\u001b[0;34m)\u001b[0m\u001b[0;34m\u001b[0m\u001b[0;34m\u001b[0m\u001b[0m\n\u001b[0m",
      "\u001b[0;32m<ipython-input-24-ab4358e70ec4>\u001b[0m in \u001b[0;36mmake_trait_reported_string\u001b[0;34m(s_raw)\u001b[0m\n\u001b[1;32m      8\u001b[0m \u001b[0;34m\u001b[0m\u001b[0m\n\u001b[1;32m      9\u001b[0m     \u001b[0;31m# Assert no \"|\" in trait name\u001b[0m\u001b[0;34m\u001b[0m\u001b[0;34m\u001b[0m\u001b[0;34m\u001b[0m\u001b[0m\n\u001b[0;32m---> 10\u001b[0;31m     \u001b[0;32massert\u001b[0m \u001b[0;34m\"|\"\u001b[0m \u001b[0;32mnot\u001b[0m \u001b[0;32min\u001b[0m \u001b[0ms_raw\u001b[0m\u001b[0;34m,\u001b[0m \u001b[0;34mf\"Reported trait ({s_raw}), contains invalid character.\"\u001b[0m\u001b[0;34m\u001b[0m\u001b[0;34m\u001b[0m\u001b[0m\n\u001b[0m\u001b[1;32m     11\u001b[0m \u001b[0;34m\u001b[0m\u001b[0m\n\u001b[1;32m     12\u001b[0m     \u001b[0;31m# Split prefix\u001b[0m\u001b[0;34m\u001b[0m\u001b[0;34m\u001b[0m\u001b[0;34m\u001b[0m\u001b[0m\n",
      "\u001b[0;31mAssertionError\u001b[0m: Reported trait (POCOK | kutya), contains invalid character."
     ]
    }
   ],
   "source": [
    "import re\n",
    "\n",
    "def make_trait_reported_string(s_raw):\n",
    "    '''Takes the raw trait name and outputs transformed name'''\n",
    "\n",
    "    # Replace any double spaces with single\n",
    "    s_raw = re.sub(r' +', r' ', s_raw)\n",
    "\n",
    "    # Assert no \"|\" in trait name\n",
    "    assert \"|\" not in s_raw, f\"Reported trait ({s_raw}), contains invalid character.\"\n",
    "\n",
    "    # Split prefix\n",
    "    parts = s_raw.split(': ', 1)\n",
    "\n",
    "    # Move prefix to end if exists\n",
    "    if len(parts) == 2:\n",
    "        trait = \" | \".join([parts[1], parts[0]])\n",
    "    else:\n",
    "        trait = s_raw\n",
    "\n",
    "    # Capitalise the first letter\n",
    "    trait = trait.capitalize()\n",
    "\n",
    "    return trait\n",
    "\n",
    "\n",
    "make_trait_reported_string('POCOK | kutya')"
   ]
  },
  {
   "cell_type": "code",
   "execution_count": 26,
   "id": "00fd3ce1",
   "metadata": {
    "ExecuteTime": {
     "end_time": "2022-07-08T11:10:48.651071Z",
     "start_time": "2022-07-08T11:10:48.643622Z"
    }
   },
   "outputs": [
    {
     "data": {
      "text/plain": [
       "'out_dir/interval/fantom5/andersson2014/12/data.parquet'"
      ]
     },
     "execution_count": 26,
     "metadata": {},
     "output_type": "execute_result"
    }
   ],
   "source": [
    " '{out_dir}/{data_type}/{exp_type}/{source}/{version}/data.parquet'.format(\n",
    "    out_dir='out_dir',\n",
    "    data_type='interval',\n",
    "    exp_type='fantom5',\n",
    "    source='andersson2014',\n",
    "    version=12,\n",
    "    cell_type='aggregate')"
   ]
  },
  {
   "cell_type": "code",
   "execution_count": 27,
   "id": "6ff0f3cf",
   "metadata": {
    "ExecuteTime": {
     "end_time": "2022-07-12T10:07:01.919673Z",
     "start_time": "2022-07-12T10:07:01.676133Z"
    }
   },
   "outputs": [
    {
     "ename": "NameError",
     "evalue": "name 'spark' is not defined",
     "output_type": "error",
     "traceback": [
      "\u001b[0;31m---------------------------------------------------------------------------\u001b[0m",
      "\u001b[0;31mNameError\u001b[0m                                 Traceback (most recent call last)",
      "\u001b[0;32m<ipython-input-27-ddfbef905b5a>\u001b[0m in \u001b[0;36m<module>\u001b[0;34m\u001b[0m\n\u001b[0;32m----> 1\u001b[0;31m \u001b[0mspark\u001b[0m\u001b[0;34m.\u001b[0m\u001b[0mversion\u001b[0m\u001b[0;34m\u001b[0m\u001b[0;34m\u001b[0m\u001b[0m\n\u001b[0m",
      "\u001b[0;31mNameError\u001b[0m: name 'spark' is not defined"
     ]
    }
   ],
   "source": [
    "spark.version"
   ]
  },
  {
   "cell_type": "code",
   "execution_count": 28,
   "id": "8cf82d94",
   "metadata": {
    "ExecuteTime": {
     "end_time": "2022-07-12T18:03:00.995898Z",
     "start_time": "2022-07-12T18:02:52.399287Z"
    }
   },
   "outputs": [
    {
     "data": {
      "text/html": [
       "<div>\n",
       "<style scoped>\n",
       "    .dataframe tbody tr th:only-of-type {\n",
       "        vertical-align: middle;\n",
       "    }\n",
       "\n",
       "    .dataframe tbody tr th {\n",
       "        vertical-align: top;\n",
       "    }\n",
       "\n",
       "    .dataframe thead th {\n",
       "        text-align: right;\n",
       "    }\n",
       "</style>\n",
       "<table border=\"1\" class=\"dataframe\">\n",
       "  <thead>\n",
       "    <tr style=\"text-align: right;\">\n",
       "      <th></th>\n",
       "      <th>DATE ADDED TO CATALOG</th>\n",
       "      <th>PUBMEDID</th>\n",
       "      <th>FIRST AUTHOR</th>\n",
       "      <th>DATE</th>\n",
       "      <th>JOURNAL</th>\n",
       "      <th>LINK</th>\n",
       "      <th>STUDY</th>\n",
       "      <th>DISEASE/TRAIT</th>\n",
       "      <th>INITIAL SAMPLE SIZE</th>\n",
       "      <th>REPLICATION SAMPLE SIZE</th>\n",
       "      <th>PLATFORM [SNPS PASSING QC]</th>\n",
       "      <th>ASSOCIATION COUNT</th>\n",
       "      <th>MAPPED_TRAIT</th>\n",
       "      <th>MAPPED_TRAIT_URI</th>\n",
       "      <th>STUDY ACCESSION</th>\n",
       "      <th>GENOTYPING TECHNOLOGY</th>\n",
       "    </tr>\n",
       "  </thead>\n",
       "  <tbody>\n",
       "    <tr>\n",
       "      <th>0</th>\n",
       "      <td>2017-07-10</td>\n",
       "      <td>28416818</td>\n",
       "      <td>Christophersen IE</td>\n",
       "      <td>2017-04-17</td>\n",
       "      <td>Nat Genet</td>\n",
       "      <td>www.ncbi.nlm.nih.gov/pubmed/28416818</td>\n",
       "      <td>Large-scale analyses of common and rare varian...</td>\n",
       "      <td>Atrial fibrillation</td>\n",
       "      <td>15,979 European ancestry cases, 102,776 Europe...</td>\n",
       "      <td>8,180 Japanese ancestry cases, 28,612 Japanese...</td>\n",
       "      <td>Affymetrix, Illumina [11795432] (imputed)</td>\n",
       "      <td>10</td>\n",
       "      <td>atrial fibrillation</td>\n",
       "      <td>http://www.ebi.ac.uk/efo/EFO_0000275</td>\n",
       "      <td>GCST004295</td>\n",
       "      <td>Genome-wide genotyping array</td>\n",
       "    </tr>\n",
       "    <tr>\n",
       "      <th>1</th>\n",
       "      <td>2017-07-10</td>\n",
       "      <td>28416818</td>\n",
       "      <td>Christophersen IE</td>\n",
       "      <td>2017-04-17</td>\n",
       "      <td>Nat Genet</td>\n",
       "      <td>www.ncbi.nlm.nih.gov/pubmed/28416818</td>\n",
       "      <td>Large-scale analyses of common and rare varian...</td>\n",
       "      <td>Atrial fibrillation</td>\n",
       "      <td>15,979 European ancestry cases, 102,776 Europe...</td>\n",
       "      <td>3,666 cases, 139,852 controls</td>\n",
       "      <td>Affymetrix, Illumina [11795432] (imputed)</td>\n",
       "      <td>8</td>\n",
       "      <td>atrial fibrillation</td>\n",
       "      <td>http://www.ebi.ac.uk/efo/EFO_0000275</td>\n",
       "      <td>GCST004296</td>\n",
       "      <td>Genome-wide genotyping array</td>\n",
       "    </tr>\n",
       "    <tr>\n",
       "      <th>2</th>\n",
       "      <td>2017-07-10</td>\n",
       "      <td>28416818</td>\n",
       "      <td>Christophersen IE</td>\n",
       "      <td>2017-04-17</td>\n",
       "      <td>Nat Genet</td>\n",
       "      <td>www.ncbi.nlm.nih.gov/pubmed/28416818</td>\n",
       "      <td>Large-scale analyses of common and rare varian...</td>\n",
       "      <td>Atrial fibrillation</td>\n",
       "      <td>15,979 European ancestry cases, 102,776 Europe...</td>\n",
       "      <td>NaN</td>\n",
       "      <td>Affymetrix, Illumina [11795432] (imputed)</td>\n",
       "      <td>20</td>\n",
       "      <td>atrial fibrillation</td>\n",
       "      <td>http://www.ebi.ac.uk/efo/EFO_0000275</td>\n",
       "      <td>GCST004297</td>\n",
       "      <td>Genome-wide genotyping array</td>\n",
       "    </tr>\n",
       "    <tr>\n",
       "      <th>3</th>\n",
       "      <td>2017-07-10</td>\n",
       "      <td>28416818</td>\n",
       "      <td>Christophersen IE</td>\n",
       "      <td>2017-04-17</td>\n",
       "      <td>Nat Genet</td>\n",
       "      <td>www.ncbi.nlm.nih.gov/pubmed/28416818</td>\n",
       "      <td>Large-scale analyses of common and rare varian...</td>\n",
       "      <td>Atrial fibrillation</td>\n",
       "      <td>837 Japanese ancestry cases, 3,293 Japanese co...</td>\n",
       "      <td>8,180 Japanese ancestry cases, 28,612 Japanese...</td>\n",
       "      <td>Affymetrix, Illumina [11795432] (imputed)</td>\n",
       "      <td>1</td>\n",
       "      <td>atrial fibrillation</td>\n",
       "      <td>http://www.ebi.ac.uk/efo/EFO_0000275</td>\n",
       "      <td>GCST004298</td>\n",
       "      <td>Genome-wide genotyping array</td>\n",
       "    </tr>\n",
       "    <tr>\n",
       "      <th>4</th>\n",
       "      <td>2017-07-10</td>\n",
       "      <td>28416818</td>\n",
       "      <td>Christophersen IE</td>\n",
       "      <td>2017-04-17</td>\n",
       "      <td>Nat Genet</td>\n",
       "      <td>www.ncbi.nlm.nih.gov/pubmed/28416818</td>\n",
       "      <td>Large-scale analyses of common and rare varian...</td>\n",
       "      <td>Atrial fibrillation</td>\n",
       "      <td>641 African American cases, 5,234 African Amer...</td>\n",
       "      <td>447 African American cases, 442 African Americ...</td>\n",
       "      <td>Affymetrix, Illumina [11795432] (imputed)</td>\n",
       "      <td>1</td>\n",
       "      <td>atrial fibrillation</td>\n",
       "      <td>http://www.ebi.ac.uk/efo/EFO_0000275</td>\n",
       "      <td>GCST004299</td>\n",
       "      <td>Genome-wide genotyping array</td>\n",
       "    </tr>\n",
       "  </tbody>\n",
       "</table>\n",
       "</div>"
      ],
      "text/plain": [
       "  DATE ADDED TO CATALOG  PUBMEDID       FIRST AUTHOR        DATE    JOURNAL  \\\n",
       "0            2017-07-10  28416818  Christophersen IE  2017-04-17  Nat Genet   \n",
       "1            2017-07-10  28416818  Christophersen IE  2017-04-17  Nat Genet   \n",
       "2            2017-07-10  28416818  Christophersen IE  2017-04-17  Nat Genet   \n",
       "3            2017-07-10  28416818  Christophersen IE  2017-04-17  Nat Genet   \n",
       "4            2017-07-10  28416818  Christophersen IE  2017-04-17  Nat Genet   \n",
       "\n",
       "                                   LINK  \\\n",
       "0  www.ncbi.nlm.nih.gov/pubmed/28416818   \n",
       "1  www.ncbi.nlm.nih.gov/pubmed/28416818   \n",
       "2  www.ncbi.nlm.nih.gov/pubmed/28416818   \n",
       "3  www.ncbi.nlm.nih.gov/pubmed/28416818   \n",
       "4  www.ncbi.nlm.nih.gov/pubmed/28416818   \n",
       "\n",
       "                                               STUDY        DISEASE/TRAIT  \\\n",
       "0  Large-scale analyses of common and rare varian...  Atrial fibrillation   \n",
       "1  Large-scale analyses of common and rare varian...  Atrial fibrillation   \n",
       "2  Large-scale analyses of common and rare varian...  Atrial fibrillation   \n",
       "3  Large-scale analyses of common and rare varian...  Atrial fibrillation   \n",
       "4  Large-scale analyses of common and rare varian...  Atrial fibrillation   \n",
       "\n",
       "                                 INITIAL SAMPLE SIZE  \\\n",
       "0  15,979 European ancestry cases, 102,776 Europe...   \n",
       "1  15,979 European ancestry cases, 102,776 Europe...   \n",
       "2  15,979 European ancestry cases, 102,776 Europe...   \n",
       "3  837 Japanese ancestry cases, 3,293 Japanese co...   \n",
       "4  641 African American cases, 5,234 African Amer...   \n",
       "\n",
       "                             REPLICATION SAMPLE SIZE  \\\n",
       "0  8,180 Japanese ancestry cases, 28,612 Japanese...   \n",
       "1                      3,666 cases, 139,852 controls   \n",
       "2                                                NaN   \n",
       "3  8,180 Japanese ancestry cases, 28,612 Japanese...   \n",
       "4  447 African American cases, 442 African Americ...   \n",
       "\n",
       "                  PLATFORM [SNPS PASSING QC]  ASSOCIATION COUNT  \\\n",
       "0  Affymetrix, Illumina [11795432] (imputed)                 10   \n",
       "1  Affymetrix, Illumina [11795432] (imputed)                  8   \n",
       "2  Affymetrix, Illumina [11795432] (imputed)                 20   \n",
       "3  Affymetrix, Illumina [11795432] (imputed)                  1   \n",
       "4  Affymetrix, Illumina [11795432] (imputed)                  1   \n",
       "\n",
       "          MAPPED_TRAIT                      MAPPED_TRAIT_URI STUDY ACCESSION  \\\n",
       "0  atrial fibrillation  http://www.ebi.ac.uk/efo/EFO_0000275      GCST004295   \n",
       "1  atrial fibrillation  http://www.ebi.ac.uk/efo/EFO_0000275      GCST004296   \n",
       "2  atrial fibrillation  http://www.ebi.ac.uk/efo/EFO_0000275      GCST004297   \n",
       "3  atrial fibrillation  http://www.ebi.ac.uk/efo/EFO_0000275      GCST004298   \n",
       "4  atrial fibrillation  http://www.ebi.ac.uk/efo/EFO_0000275      GCST004299   \n",
       "\n",
       "          GENOTYPING TECHNOLOGY  \n",
       "0  Genome-wide genotyping array  \n",
       "1  Genome-wide genotyping array  \n",
       "2  Genome-wide genotyping array  \n",
       "3  Genome-wide genotyping array  \n",
       "4  Genome-wide genotyping array  "
      ]
     },
     "execution_count": 28,
     "metadata": {},
     "output_type": "execute_result"
    }
   ],
   "source": [
    "(\n",
    "    pd.read_csv('https://www.ebi.ac.uk/gwas/api/search/downloads/studies_alternative', sep='\\t', row)\n",
    "    .head()\n",
    ")"
   ]
  },
  {
   "cell_type": "code",
   "execution_count": null,
   "id": "34f474d1",
   "metadata": {},
   "outputs": [],
   "source": []
  }
 ],
 "metadata": {
  "interpreter": {
   "hash": "6eb93e76e5101c2dfab7ddcfab3376f850803e0e70c1a51b6672872994e4dd68"
  },
  "kernelspec": {
   "display_name": "Python 3",
   "language": "python",
   "name": "python3"
  },
  "language_info": {
   "codemirror_mode": {
    "name": "ipython",
    "version": 3
   },
   "file_extension": ".py",
   "mimetype": "text/x-python",
   "name": "python",
   "nbconvert_exporter": "python",
   "pygments_lexer": "ipython3",
   "version": "3.9.5"
  }
 },
 "nbformat": 4,
 "nbformat_minor": 5
}
