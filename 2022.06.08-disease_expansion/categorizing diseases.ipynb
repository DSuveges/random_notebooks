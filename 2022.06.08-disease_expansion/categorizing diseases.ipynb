{
 "cells": [
  {
   "cell_type": "markdown",
   "id": "315ef362",
   "metadata": {},
   "source": [
    "# IMPC - round #3\n",
    "\n",
    "We are defining a disease relevant if:\n",
    "- A descendant of hemotologic diseases (`EFO_0005803`), these diseases will be categorized as `D`.\n",
    "- A descendant of hemotological measurement (`EFO_0004503`), these diseases will be categorized as `M`.\n",
    "- Ad secendant of Abnormality of the blood and blood-forming tissues (`HP_0001871`) these diseases will be categorized as `P`.\n",
    "\n",
    "This table will be joined with associations, then stratified by EFO term categories. Then the report is generated as usual.\n"
   ]
  },
  {
   "cell_type": "code",
   "execution_count": 80,
   "id": "b82b40e7",
   "metadata": {
    "ExecuteTime": {
     "end_time": "2022-08-25T14:46:43.045422Z",
     "start_time": "2022-08-25T14:46:43.023203Z"
    },
    "code_folding": []
   },
   "outputs": [],
   "source": [
    "from statistics import median\n",
    "from functools import reduce \n",
    "\n",
    "from pyspark.sql import dataframe\n",
    "import pyspark.sql\n",
    "import pyspark.sql.types as t\n",
    "import pyspark.sql.functions as f\n",
    "from pyspark.sql.window import Window\n",
    "from pyspark.conf import SparkConf\n",
    "\n",
    "spark_conf = (\n",
    "    SparkConf()\n",
    "    .set(\"spark.driver.memory\", \"10g\")\n",
    "    .set(\"spark.executor.memory\", \"10g\")\n",
    "    .set(\"spark.driver.maxResultSize\", \"0\")\n",
    "    .set(\"spark.debug.maxToStringFields\", \"2000\")\n",
    "    .set(\"spark.sql.execution.arrow.maxRecordsPerBatch\", \"500000\")\n",
    "    .set(\"spark.driver.bindAddress\", \"127.0.0.1\")\n",
    ")\n",
    "spark = (\n",
    "    pyspark.sql.SparkSession.builder.config(conf=spark_conf)\n",
    "    .master(\"local[*]\")\n",
    "    .getOrCreate()\n",
    ")\n",
    "   \n",
    "disease_dataset = '/Users/dsuveges/project_data/diseases_22.06'\n",
    "association_data_nomuse = '/Users/dsuveges/project_data/nmm/associationByOverallDirect'\n",
    "association_data = '/Users/dsuveges/project_data/associationByOverallDirect'\n",
    "target_data = '/Users/dsuveges/project_data/targets'\n"
   ]
  },
  {
   "cell_type": "markdown",
   "id": "253c1a43",
   "metadata": {},
   "source": [
    "## Processing disease index\n",
    "\n",
    "1. Get list of diseases that we will use as root terms\n",
    "2. Read disease index\n",
    "3. Filter for the above root terms, explode to all terms while keeping track of the source\n",
    "4. Join with original disease set\n",
    "5. Save annotated disease set as tsv."
   ]
  },
  {
   "cell_type": "code",
   "execution_count": 47,
   "id": "a2e2d306",
   "metadata": {
    "ExecuteTime": {
     "end_time": "2022-08-25T13:59:51.872140Z",
     "start_time": "2022-08-25T13:59:50.837543Z"
    }
   },
   "outputs": [
    {
     "data": {
      "text/plain": [
       "1319"
      ]
     },
     "execution_count": 47,
     "metadata": {},
     "output_type": "execute_result"
    }
   ],
   "source": [
    "\n",
    "# Create a dataframe with the relevant disease identifiers and the corresponding category label:\n",
    "category_of_interest = spark.createDataFrame([\n",
    "    {'id': 'EFO_0005803', 'category': 'D'}, # hemotologic diseases \n",
    "    {'id': 'EFO_0004503', 'category': 'M'}, # hemotological measurement\n",
    "    {'id': 'HP_0001871',  'category': 'P'}  # Abnormality of the blood and blood-forming tissues\n",
    "])\n",
    "\n",
    "# Relevant diseases are all descendants of the above terms:\n",
    "relevant_diseases = (\n",
    "    spark.read.parquet(disease_dataset)\n",
    "    \n",
    "    # Extract the relevant rows from the disease index:\n",
    "    .join(category_of_interest, on='id', how='right')\n",
    "    \n",
    "    # Adding terms to descendats, this step is required otherwise the three root terms would not be annotated as relevant:\n",
    "    .withColumn('descendants', f.array_union(f.col('descendants'), f.array(f.col('id'))))\n",
    "    \n",
    "    # Extract descendants:\n",
    "    .select('category', f.explode('descendants').alias('id'))\n",
    "    \n",
    "    # Grouping by disease id -> get a list of categories the disease is annotated with:\n",
    "    .groupby('id')\n",
    "    .agg(f.collect_set('category').alias('category'))\n",
    "    .persist()\n",
    ")\n",
    "\n",
    "# Join the disease index with the above generated list:\n",
    "annotated_diseases = (\n",
    "    spark.read.parquet(disease_dataset)\n",
    "    .join(relevant_diseases, on='id', how='left')\n",
    "    .select(\n",
    "        f.col('id').alias('diseaseId'),\n",
    "        f.col('name').alias('diseaseName'),\n",
    "        f.col('category')\n",
    "    )\n",
    "    .withColumn('isRelevant', f.when(f.col('category').isNotNull(), True).otherwise(False))\n",
    "    .persist()\n",
    ")\n",
    "\n",
    "# Saving data:\n",
    "annotated_diseases.toPandas.to_csv('annotated_diseases.tsv', sep='\\t', index=False)"
   ]
  },
  {
   "cell_type": "markdown",
   "id": "9bd6e591",
   "metadata": {},
   "source": [
    "## Processing gene dataset\n",
    "\n",
    "1. Read parquet\n",
    "2. Select/rename columns"
   ]
  },
  {
   "cell_type": "code",
   "execution_count": null,
   "id": "a17ad919",
   "metadata": {},
   "outputs": [],
   "source": [
    "# Read targets:\n",
    "targets = (\n",
    "    spark.read.parquet(target_data)\n",
    "    .select(\n",
    "        f.col('id').alias('targetId'),\n",
    "        f.col('approvedSymbol').alias('targetSymbol'),\n",
    "        f.col('approvedName').alias('targetName')\n",
    "    )\n",
    "    .persist()\n",
    ")"
   ]
  },
  {
   "cell_type": "markdown",
   "id": "1187836d",
   "metadata": {},
   "source": [
    "## Processing association dataset\n",
    "\n",
    "Association souce:\n",
    "- Overall **driect** association from Platform release `22.06`\n",
    "- Overall **driect** association from Platform release `22.06`, where the weight of mouse models is set to 0.\n",
    "\n",
    "By setting the weight of the scoring to zero provides two purposes\n",
    "1. Allows removing associatinos which only provided by mouse models.\n",
    "2. Allows assessing the importance of evidence provided by the available animal models.\n",
    "\n",
    "**Logic**:\n",
    "1. Read both files.\n",
    "2. Join the two files together, based on the difference of the scores provide a flag indicating if the association is given by **ONLY** mouse models, has **NO** moouse models OR **YES** where mouse models + other datasources are also available.\n",
    "3. Join with gene data.\n",
    "4. Join with disease data"
   ]
  },
  {
   "cell_type": "code",
   "execution_count": 51,
   "id": "8e956c7f",
   "metadata": {
    "ExecuteTime": {
     "end_time": "2022-08-25T14:22:16.458349Z",
     "start_time": "2022-08-25T14:22:11.678763Z"
    }
   },
   "outputs": [
    {
     "name": "stdout",
     "output_type": "stream",
     "text": [
      "Processing Nullified mouse\n",
      "\tNumber of associations: 2120908\n",
      "\tNumber of genes: 29221\n",
      "\tNumber of diseases: 16578\n",
      "Processing Standard\n",
      "\tNumber of associations: 2120908\n",
      "\tNumber of genes: 29221\n",
      "\tNumber of diseases: 16578\n"
     ]
    }
   ],
   "source": [
    "# Reading association dataset where the mouse model weight is 0:\n",
    "assoc_nomouse = spark.read.parquet(association_data_nomuse).persist()\n",
    "\n",
    "# Reading normal dataset:\n",
    "assoc = spark.read.parquet(association_data).persist()\n",
    "\n",
    "def QC_df(df: dataframe, dataset: str) -> None:\n",
    "    print(f'Processing {dataset}')\n",
    "    print(f'\\tNumber of associations: {df.count()}')\n",
    "    print(f'\\tNumber of genes: {df.select(\"targetId\").distinct().count()}')\n",
    "    print(f'\\tNumber of diseases: {df.select(\"diseaseId\").distinct().count()}')\n",
    "    \n",
    "    \n",
    "QC_df(assoc_nomouse, 'Nullified mouse')\n",
    "QC_df(assoc, 'Standard')"
   ]
  },
  {
   "cell_type": "markdown",
   "id": "b14e6509",
   "metadata": {},
   "source": [
    "All looks good, all the numbers are matching. Great."
   ]
  },
  {
   "cell_type": "code",
   "execution_count": 82,
   "id": "5fd09bec",
   "metadata": {
    "ExecuteTime": {
     "end_time": "2022-08-25T14:50:06.473209Z",
     "start_time": "2022-08-25T14:50:06.241646Z"
    },
    "scrolled": false
   },
   "outputs": [
    {
     "name": "stdout",
     "output_type": "stream",
     "text": [
      "+---------------+------------+--------------------+---------+-----------+----------+--------+--------------+--------------------+\n",
      "|       targetId|targetSymbol|          targetName|diseaseId|diseaseName|isRelevant|category|evidenceSource|               score|\n",
      "+---------------+------------+--------------------+---------+-----------+----------+--------+--------------+--------------------+\n",
      "|ENSG00000066427|       ATXN3|            ataxin 3|DOID_7551|  gonorrhea|     false|    null|      no mouse|0.001478319418738...|\n",
      "|ENSG00000095739|       BAMBI|BMP and activin m...|DOID_7551|  gonorrhea|     false|    null|      no mouse|0.003695798546847...|\n",
      "|ENSG00000102755|        FLT1|fms related recep...|DOID_7551|  gonorrhea|     false|    null|      no mouse| 0.02272669719741127|\n",
      "|ENSG00000103335|      PIEZO1|piezo type mechan...|DOID_7551|  gonorrhea|     false|    null|      no mouse|  0.0718832817361745|\n",
      "|ENSG00000106004|       HOXA5|         homeobox A5|DOID_7551|  gonorrhea|     false|    null|      no mouse| 0.07771956360807042|\n",
      "|ENSG00000116132|       PRRX1|paired related ho...|DOID_7551|  gonorrhea|     false|    null|      no mouse|0.050311726906794425|\n",
      "|ENSG00000118046|       STK11|serine/threonine ...|DOID_7551|  gonorrhea|     false|    null|      no mouse| 0.07154284505483824|\n",
      "|ENSG00000121060|      TRIM25|tripartite motif ...|DOID_7551|  gonorrhea|     false|    null|      no mouse| 0.05637119394649159|\n",
      "|ENSG00000130770|     ATP5IF1|ATP synthase inhi...|DOID_7551|  gonorrhea|     false|    null|      no mouse|0.029566388374776147|\n",
      "|ENSG00000137752|       CASP1|           caspase 1|DOID_7551|  gonorrhea|     false|    null|      no mouse|0.025960520925902404|\n",
      "|ENSG00000147133|        TAF1|TATA-box binding ...|DOID_7551|  gonorrhea|     false|    null|      no mouse|0.002217479128108...|\n",
      "|ENSG00000149806|         FAU|FAU ubiquitin lik...|DOID_7551|  gonorrhea|     false|    null|      no mouse|0.004434958256216421|\n",
      "|ENSG00000154370|      TRIM11|tripartite motif ...|DOID_7551|  gonorrhea|     false|    null|      no mouse|0.028088068956037337|\n",
      "|ENSG00000158941|       CCAR2|cell cycle and ap...|DOID_7551|  gonorrhea|     false|    null|      no mouse|0.006652437384324633|\n",
      "|ENSG00000163629|      PTPN13|protein tyrosine ...|DOID_7551|  gonorrhea|     false|    null|      no mouse|0.003695798546847...|\n",
      "|ENSG00000167081|        PBX3|      PBX homeobox 3|DOID_7551|  gonorrhea|     false|    null|      no mouse| 0.07099013042068647|\n",
      "|ENSG00000169714|        CNBP|CCHC-type zinc fi...|DOID_7551|  gonorrhea|     false|    null|      no mouse|0.001478319418738...|\n",
      "|ENSG00000173267|        SNCG|     synuclein gamma|DOID_7551|  gonorrhea|     false|    null|      no mouse| 0.03621882575910077|\n",
      "|ENSG00000187531|       SIRT7|           sirtuin 7|DOID_7551|  gonorrhea|     false|    null|      no mouse|0.009239496367117545|\n",
      "|ENSG00000197535|       MYO5A|           myosin VA|DOID_7551|  gonorrhea|     false|    null|      no mouse|0.023653110699820918|\n",
      "+---------------+------------+--------------------+---------+-----------+----------+--------+--------------+--------------------+\n",
      "only showing top 20 rows\n",
      "\n"
     ]
    },
    {
     "ename": "TypeError",
     "evalue": "csv() got an unexpected keyword argument 'codec'",
     "output_type": "error",
     "traceback": [
      "\u001b[0;31m---------------------------------------------------------------------------\u001b[0m",
      "\u001b[0;31mTypeError\u001b[0m                                 Traceback (most recent call last)",
      "\u001b[0;32m<ipython-input-82-107e210957be>\u001b[0m in \u001b[0;36m<module>\u001b[0;34m\u001b[0m\n\u001b[1;32m     50\u001b[0m \u001b[0;31m# Saving data:\u001b[0m\u001b[0;34m\u001b[0m\u001b[0;34m\u001b[0m\u001b[0;34m\u001b[0m\u001b[0m\n\u001b[1;32m     51\u001b[0m (\n\u001b[0;32m---> 52\u001b[0;31m     \u001b[0mannotated_associations\u001b[0m\u001b[0;34m\u001b[0m\u001b[0;34m\u001b[0m\u001b[0m\n\u001b[0m\u001b[1;32m     53\u001b[0m     \u001b[0;34m.\u001b[0m\u001b[0mwithColumn\u001b[0m\u001b[0;34m(\u001b[0m\u001b[0;34m'category'\u001b[0m\u001b[0;34m,\u001b[0m \u001b[0mf\u001b[0m\u001b[0;34m.\u001b[0m\u001b[0mconcat_ws\u001b[0m\u001b[0;34m(\u001b[0m\u001b[0;34m','\u001b[0m\u001b[0;34m,\u001b[0m \u001b[0mf\u001b[0m\u001b[0;34m.\u001b[0m\u001b[0mcol\u001b[0m\u001b[0;34m(\u001b[0m\u001b[0;34m'category'\u001b[0m\u001b[0;34m)\u001b[0m\u001b[0;34m)\u001b[0m\u001b[0;34m)\u001b[0m\u001b[0;34m\u001b[0m\u001b[0;34m\u001b[0m\u001b[0m\n\u001b[1;32m     54\u001b[0m     \u001b[0;34m.\u001b[0m\u001b[0mwrite\u001b[0m\u001b[0;34m.\u001b[0m\u001b[0mcsv\u001b[0m\u001b[0;34m(\u001b[0m\u001b[0;34m'annotated_associations.tsv.gz'\u001b[0m\u001b[0;34m,\u001b[0m \u001b[0msep\u001b[0m\u001b[0;34m=\u001b[0m\u001b[0;34m'\\t'\u001b[0m\u001b[0;34m,\u001b[0m \u001b[0mcodec\u001b[0m\u001b[0;34m=\u001b[0m\u001b[0;34m\"gzip\"\u001b[0m\u001b[0;34m)\u001b[0m\u001b[0;34m\u001b[0m\u001b[0;34m\u001b[0m\u001b[0m\n",
      "\u001b[0;31mTypeError\u001b[0m: csv() got an unexpected keyword argument 'codec'"
     ]
    }
   ],
   "source": [
    "# +---------------+-------+\n",
    "# | evidenceSource|  count|\n",
    "# +---------------+-------+\n",
    "# |     mouse only| 506339|\n",
    "# |mouse and other|  16954|\n",
    "# |       no mouse|1597615|\n",
    "# +---------------+-------+\n",
    "\n",
    "\n",
    "annotated_associations = (\n",
    "    # Small formatting in the original association dataset:\n",
    "    assoc_nomouse\n",
    "    \n",
    "    # Joing with the nullified dataset:\n",
    "    .join(assoc.withColumnRenamed('score', 'old_score'), on=['diseaseId', 'targetId'], how='inner')\n",
    "    \n",
    "    # Generate a flag from where the score is coming from:\n",
    "    .withColumn(\n",
    "        'evidenceSource',\n",
    "        f.when(f.col('score') == 0.0, f.lit('mouse only'))\n",
    "        .when(f.col('score') == f.col('old_score'), f.lit('no mouse'))\n",
    "        .otherwise(f.lit('mouse and other'))\n",
    "    )\n",
    "    \n",
    "    # Join with targets:\n",
    "    .join(targets, on='targetId', how='left')\n",
    "    \n",
    "    # Join with diseasese:\n",
    "    .join(annotated_diseases, on='diseaseId', how='left')\n",
    "    \n",
    "    # Select and order columns:\n",
    "    .select(\n",
    "        'targetId', \n",
    "        'targetSymbol', \n",
    "        'targetName', \n",
    "        'diseaseId', \n",
    "        'diseaseName', \n",
    "        'isRelevant', \n",
    "        'category',\n",
    "        'evidenceSource',\n",
    "        'score'\n",
    "    )\n",
    "\n",
    "    .persist()\n",
    ")\n",
    "\n",
    "# Let's see what we have:\n",
    "annotated_associations.show()\n",
    "\n",
    "# Saving data:\n",
    "(\n",
    "    annotated_associations\n",
    "    .withColumn('category', f.concat_ws(',', f.col('category')))\n",
    "    .write.csv('annotated_associations.tsv.gz', sep='\\t', codec=\"gzip\")\n",
    ")    \n",
    "# Print number of associations with different evidence source categories:\n",
    "(\n",
    "    annotated_associations\n",
    "    .groupby('evidenceSource')\n",
    "    .agg(\n",
    "        f.count(f.col('targetId')).alias('associationCount'),\n",
    "        f.first(f.col('targetId')).alias('targetExample'),\n",
    "        f.first(f.col('diseaseId')).alias('diseaseExample')\n",
    "    )\n",
    "    .show()\n",
    ")"
   ]
  },
  {
   "cell_type": "markdown",
   "id": "d369fbeb",
   "metadata": {
    "ExecuteTime": {
     "end_time": "2022-08-25T11:11:36.231714Z",
     "start_time": "2022-08-25T11:11:30.278831Z"
    }
   },
   "source": [
    "### Association by evidence source categories\n",
    "\n",
    "* Mouse only: 506k unique disease/target pairs. Example: [ENSG00000158163/MONDO_0009148](https://platform.opentargets.org/evidence/ENSG00000158163/MONDO_0009148)\n",
    "* Mouse and other: 16k unique disease/target pairs. Example: [ENSG00000163646/MONDO_0016485](https://platform.opentargets.org/evidence/ENSG00000163646/MONDO_0016485)\n",
    "* No mouse: 1.6M unique disease/target pairs. Example: [ENSG00000066427/DOID_7551](https://platform.opentargets.org/evidence/ENSG00000066427/DOID_7551)\n",
    "\n",
    "\n",
    "```\n",
    "+---------------+----------------+---------------+---------------+\n",
    "| evidenceSource|associationCount| example_target|example_disease|\n",
    "+---------------+----------------+---------------+---------------+\n",
    "|     mouse only|          506339|ENSG00000158163|  MONDO_0009148|\n",
    "|mouse and other|           16954|ENSG00000163646|  MONDO_0016485|\n",
    "|       no mouse|         1597615|ENSG00000066427|      DOID_7551|\n",
    "+---------------+----------------+---------------+---------------+\n",
    "```"
   ]
  },
  {
   "cell_type": "code",
   "execution_count": 32,
   "id": "74379534",
   "metadata": {
    "ExecuteTime": {
     "end_time": "2022-08-25T11:05:17.272944Z",
     "start_time": "2022-08-25T11:05:16.516805Z"
    }
   },
   "outputs": [
    {
     "name": "stdout",
     "output_type": "stream",
     "text": [
      "+-----------+--------------------+--------+----------+\n",
      "|  diseaseId|         diseaseName|category|isRelevant|\n",
      "+-----------+--------------------+--------+----------+\n",
      "|  DOID_7551|           gonorrhea|    null|     false|\n",
      "|EFO_0004254|membranous glomer...|    null|     false|\n",
      "|EFO_0005189|respiratory quotient|    null|     false|\n",
      "|EFO_0005853|response to silic...|    null|     false|\n",
      "|EFO_0006317|response to thiop...|    null|     false|\n",
      "|EFO_0007229|      cryptococcosis|    null|     false|\n",
      "|EFO_0007391|Nematoda infectio...|    null|     false|\n",
      "|EFO_0008080|cerebrospinal flu...|    null|     false|\n",
      "|EFO_0008167|interleukin 1 Rec...|    null|     false|\n",
      "|EFO_0008181|interleukin 23 re...|    null|     false|\n",
      "|EFO_0009960|atypical femoral ...|    null|     false|\n",
      "|EFO_0010586|    CD40 measurement|    null|     false|\n",
      "|EFO_0010717|            afebrile|    null|     false|\n",
      "|EFO_0010977|macrovascular com...|    null|     false|\n",
      "|EFO_0011044|BMI-adjusted neck...|    null|     false|\n",
      "|EFO_0020045|prostaglandins me...|    null|     false|\n",
      "|EFO_0020110|14-3-3 protein si...|    null|     false|\n",
      "|EFO_0020628|periostin measure...|    null|     false|\n",
      "|EFO_0020658|proliferation-ass...|    null|     false|\n",
      "|EFO_0020661|proteasome activa...|    null|     false|\n",
      "+-----------+--------------------+--------+----------+\n",
      "only showing top 20 rows\n",
      "\n"
     ]
    }
   ],
   "source": [
    "annotated_diseases.show()"
   ]
  },
  {
   "cell_type": "code",
   "execution_count": null,
   "id": "c56e7202",
   "metadata": {},
   "outputs": [],
   "source": []
  }
 ],
 "metadata": {
  "kernelspec": {
   "display_name": "Python 3",
   "language": "python",
   "name": "python3"
  },
  "language_info": {
   "codemirror_mode": {
    "name": "ipython",
    "version": 3
   },
   "file_extension": ".py",
   "mimetype": "text/x-python",
   "name": "python",
   "nbconvert_exporter": "python",
   "pygments_lexer": "ipython3",
   "version": "3.9.5"
  }
 },
 "nbformat": 4,
 "nbformat_minor": 5
}
