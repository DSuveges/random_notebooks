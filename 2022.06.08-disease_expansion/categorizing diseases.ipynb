{
 "cells": [
  {
   "cell_type": "markdown",
   "id": "68facc22",
   "metadata": {},
   "source": [
    "# IMPC - round #3\n",
    "\n",
    "We are defining a disease relevant if:\n",
    "- A descendant of hemotologic diseases (`EFO_0005803`), these diseases will be categorized as `D`.\n",
    "- A descendant of hemotological measurement (`EFO_0004503`), these diseases will be categorized as `M`.\n",
    "- Ad secendant of Abnormality of the blood and blood-forming tissues (`HP_0001871`) these diseases will be categorized as `P`.\n",
    "\n",
    "This table will be joined with associations, then stratified by EFO term categories. Then the report is generated as usual.\n"
   ]
  },
  {
   "cell_type": "code",
   "execution_count": 108,
   "id": "75ae6535",
   "metadata": {
    "ExecuteTime": {
     "end_time": "2022-08-25T15:50:22.716503Z",
     "start_time": "2022-08-25T15:50:22.685403Z"
    },
    "code_folding": []
   },
   "outputs": [],
   "source": [
    "from statistics import median\n",
    "from functools import reduce \n",
    "\n",
    "from pyspark.sql import dataframe\n",
    "import pyspark.sql\n",
    "import pyspark.sql.types as t\n",
    "import pyspark.sql.functions as f\n",
    "from pyspark.sql.window import Window\n",
    "from pyspark.conf import SparkConf\n",
    "\n",
    "spark_conf = (\n",
    "    SparkConf()\n",
    "    .set(\"spark.driver.memory\", \"10g\")\n",
    "    .set(\"spark.executor.memory\", \"10g\")\n",
    "    .set(\"spark.driver.maxResultSize\", \"0\")\n",
    "    .set(\"spark.debug.maxToStringFields\", \"2000\")\n",
    "    .set(\"spark.sql.execution.arrow.maxRecordsPerBatch\", \"500000\")\n",
    "    .set(\"spark.driver.bindAddress\", \"127.0.0.1\")\n",
    ")\n",
    "spark = (\n",
    "    pyspark.sql.SparkSession.builder.config(conf=spark_conf)\n",
    "    .master(\"local[*]\")\n",
    "    .getOrCreate()\n",
    ")\n",
    "\n",
    "# Datasets path:\n",
    "disease_dataset = '/Users/dsuveges/project_data/diseases_22.06'\n",
    "association_data_nomuse = '/Users/dsuveges/project_data/nmm/associationByOverallDirect'\n",
    "association_data = '/Users/dsuveges/project_data/associationByOverallDirect'\n",
    "target_data = '/Users/dsuveges/project_data/targets'\n",
    "\n",
    "# Create a dataframe with the relevant disease identifiers and the corresponding category label:\n",
    "category_of_interest = spark.createDataFrame([\n",
    "    {'id': 'EFO_0005803', 'category': 'D'}, # hemotologic diseases \n",
    "    {'id': 'EFO_0004503', 'category': 'M'}, # hemotological measurement\n",
    "    {'id': 'HP_0001871',  'category': 'P'}  # Abnormality of the blood and blood-forming tissues\n",
    "])\n",
    "\n",
    "# This filter is applied on the association score before doing aggregation. \n",
    "# A large number of associations have very low score, which might be noise.\n",
    "score_threshold = 0.1"
   ]
  },
  {
   "cell_type": "markdown",
   "id": "866dd1e7",
   "metadata": {},
   "source": [
    "## Processing disease index\n",
    "\n",
    "1. Get list of diseases that we will use as root terms\n",
    "2. Read disease index\n",
    "3. Filter for the above root terms, explode to all terms while keeping track of the source\n",
    "4. Join with original disease set\n",
    "5. Save annotated disease set as tsv."
   ]
  },
  {
   "cell_type": "code",
   "execution_count": 86,
   "id": "7bbdcb5f",
   "metadata": {
    "ExecuteTime": {
     "end_time": "2022-08-25T14:54:00.977135Z",
     "start_time": "2022-08-25T14:53:59.447552Z"
    }
   },
   "outputs": [],
   "source": [
    "# Relevant diseases are all descendants of the above terms:\n",
    "relevant_diseases = (\n",
    "    spark.read.parquet(disease_dataset)\n",
    "    \n",
    "    # Extract the relevant rows from the disease index:\n",
    "    .join(category_of_interest, on='id', how='right')\n",
    "    \n",
    "    # Adding terms to descendats, this step is required otherwise the three root terms would not be annotated as relevant:\n",
    "    .withColumn('descendants', f.array_union(f.col('descendants'), f.array(f.col('id'))))\n",
    "    \n",
    "    # Extract descendants:\n",
    "    .select('category', f.explode('descendants').alias('id'))\n",
    "    \n",
    "    # Grouping by disease id -> get a list of categories the disease is annotated with:\n",
    "    .groupby('id')\n",
    "    .agg(f.collect_set('category').alias('category'))\n",
    "    .persist()\n",
    ")\n",
    "\n",
    "# Join the disease index with the above generated list:\n",
    "annotated_diseases = (\n",
    "    spark.read.parquet(disease_dataset)\n",
    "    .join(relevant_diseases, on='id', how='left')\n",
    "    .select(\n",
    "        f.col('id').alias('diseaseId'),\n",
    "        f.col('name').alias('diseaseName'),\n",
    "        f.col('category')\n",
    "    )\n",
    "    .withColumn('isRelevant', f.when(f.col('category').isNotNull(), True).otherwise(False))\n",
    "    .persist()\n",
    ")\n",
    "\n",
    "# Saving data:\n",
    "annotated_diseases.toPandas().to_csv('annotated_diseases.tsv', sep='\\t', index=False)"
   ]
  },
  {
   "cell_type": "markdown",
   "id": "3256d611",
   "metadata": {},
   "source": [
    "## Processing gene dataset\n",
    "\n",
    "1. Read parquet\n",
    "2. Select/rename columns"
   ]
  },
  {
   "cell_type": "code",
   "execution_count": 87,
   "id": "739154b1",
   "metadata": {
    "ExecuteTime": {
     "end_time": "2022-08-25T14:54:02.878240Z",
     "start_time": "2022-08-25T14:54:02.765829Z"
    }
   },
   "outputs": [],
   "source": [
    "# Read targets:\n",
    "targets = (\n",
    "    spark.read.parquet(target_data)\n",
    "    .select(\n",
    "        f.col('id').alias('targetId'),\n",
    "        f.col('approvedSymbol').alias('targetSymbol'),\n",
    "        f.col('approvedName').alias('targetName')\n",
    "    )\n",
    "    .persist()\n",
    ")"
   ]
  },
  {
   "cell_type": "markdown",
   "id": "1bd1e7d8",
   "metadata": {},
   "source": [
    "## Processing association dataset\n",
    "\n",
    "Association souce:\n",
    "- Overall **driect** association from Platform release `22.06`\n",
    "- Overall **driect** association from Platform release `22.06`, where the weight of mouse models is set to 0.\n",
    "\n",
    "By setting the weight of the scoring to zero provides two purposes\n",
    "1. Allows removing associatinos which only provided by mouse models.\n",
    "2. Allows assessing the importance of evidence provided by the available animal models.\n",
    "\n",
    "**Logic**:\n",
    "1. Read both files.\n",
    "2. Join the two files together, based on the difference of the scores provide a flag indicating if the association is given by **ONLY** mouse models, has **NO** moouse models OR **YES** where mouse models + other datasources are also available.\n",
    "3. Join with gene data.\n",
    "4. Join with disease data"
   ]
  },
  {
   "cell_type": "code",
   "execution_count": 88,
   "id": "a00eb712",
   "metadata": {
    "ExecuteTime": {
     "end_time": "2022-08-25T14:54:07.647258Z",
     "start_time": "2022-08-25T14:54:03.846176Z"
    }
   },
   "outputs": [
    {
     "name": "stdout",
     "output_type": "stream",
     "text": [
      "Processing Nullified mouse\n",
      "\tNumber of associations: 2120908\n",
      "\tNumber of genes: 29221\n",
      "\tNumber of diseases: 16578\n",
      "Processing Standard\n",
      "\tNumber of associations: 2120908\n",
      "\tNumber of genes: 29221\n",
      "\tNumber of diseases: 16578\n"
     ]
    }
   ],
   "source": [
    "# Reading association dataset where the mouse model weight is 0:\n",
    "assoc_nomouse = spark.read.parquet(association_data_nomuse).persist()\n",
    "\n",
    "# Reading normal dataset:\n",
    "assoc = spark.read.parquet(association_data).persist()\n",
    "\n",
    "def QC_df(df: dataframe, dataset: str) -> None:\n",
    "    print(f'Processing {dataset}')\n",
    "    print(f'\\tNumber of associations: {df.count()}')\n",
    "    print(f'\\tNumber of genes: {df.select(\"targetId\").distinct().count()}')\n",
    "    print(f'\\tNumber of diseases: {df.select(\"diseaseId\").distinct().count()}')\n",
    "    \n",
    "    \n",
    "QC_df(assoc_nomouse, 'Nullified mouse')\n",
    "QC_df(assoc, 'Standard')"
   ]
  },
  {
   "cell_type": "markdown",
   "id": "9397abdc",
   "metadata": {},
   "source": [
    "All looks good, all the numbers are matching. Great."
   ]
  },
  {
   "cell_type": "code",
   "execution_count": 90,
   "id": "db8408cb",
   "metadata": {
    "ExecuteTime": {
     "end_time": "2022-08-25T15:03:16.275564Z",
     "start_time": "2022-08-25T15:03:01.255684Z"
    },
    "scrolled": false
   },
   "outputs": [
    {
     "name": "stdout",
     "output_type": "stream",
     "text": [
      "+---------------+------------+--------------------+----------+--------------------+----------+--------+--------------+--------------------+\n",
      "|       targetId|targetSymbol|          targetName| diseaseId|         diseaseName|isRelevant|category|evidenceSource|               score|\n",
      "+---------------+------------+--------------------+----------+--------------------+----------+--------+--------------+--------------------+\n",
      "|ENSG00000113749|        HRH2|histamine recepto...|DOID_10718|          giardiasis|     false|    null|      no mouse|0.001478319418738...|\n",
      "|ENSG00000120937|        NPPB|natriuretic pepti...|DOID_13406|pulmonary sarcoid...|     false|    null|      no mouse|0.002217479128108...|\n",
      "|ENSG00000066427|       ATXN3|            ataxin 3| DOID_7551|           gonorrhea|     false|    null|      no mouse|0.001478319418738...|\n",
      "|ENSG00000095739|       BAMBI|BMP and activin m...| DOID_7551|           gonorrhea|     false|    null|      no mouse|0.003695798546847...|\n",
      "|ENSG00000102755|        FLT1|fms related recep...| DOID_7551|           gonorrhea|     false|    null|      no mouse| 0.02272669719741127|\n",
      "|ENSG00000103335|      PIEZO1|piezo type mechan...| DOID_7551|           gonorrhea|     false|    null|      no mouse|  0.0718832817361745|\n",
      "|ENSG00000106004|       HOXA5|         homeobox A5| DOID_7551|           gonorrhea|     false|    null|      no mouse| 0.07771956360807042|\n",
      "|ENSG00000116132|       PRRX1|paired related ho...| DOID_7551|           gonorrhea|     false|    null|      no mouse|0.050311726906794425|\n",
      "|ENSG00000118046|       STK11|serine/threonine ...| DOID_7551|           gonorrhea|     false|    null|      no mouse| 0.07154284505483824|\n",
      "|ENSG00000121060|      TRIM25|tripartite motif ...| DOID_7551|           gonorrhea|     false|    null|      no mouse| 0.05637119394649159|\n",
      "|ENSG00000130770|     ATP5IF1|ATP synthase inhi...| DOID_7551|           gonorrhea|     false|    null|      no mouse|0.029566388374776147|\n",
      "|ENSG00000137752|       CASP1|           caspase 1| DOID_7551|           gonorrhea|     false|    null|      no mouse|0.025960520925902404|\n",
      "|ENSG00000147133|        TAF1|TATA-box binding ...| DOID_7551|           gonorrhea|     false|    null|      no mouse|0.002217479128108...|\n",
      "|ENSG00000149806|         FAU|FAU ubiquitin lik...| DOID_7551|           gonorrhea|     false|    null|      no mouse|0.004434958256216421|\n",
      "|ENSG00000154370|      TRIM11|tripartite motif ...| DOID_7551|           gonorrhea|     false|    null|      no mouse|0.028088068956037337|\n",
      "|ENSG00000158941|       CCAR2|cell cycle and ap...| DOID_7551|           gonorrhea|     false|    null|      no mouse|0.006652437384324633|\n",
      "|ENSG00000163629|      PTPN13|protein tyrosine ...| DOID_7551|           gonorrhea|     false|    null|      no mouse|0.003695798546847...|\n",
      "|ENSG00000167081|        PBX3|      PBX homeobox 3| DOID_7551|           gonorrhea|     false|    null|      no mouse| 0.07099013042068647|\n",
      "|ENSG00000169714|        CNBP|CCHC-type zinc fi...| DOID_7551|           gonorrhea|     false|    null|      no mouse|0.001478319418738...|\n",
      "|ENSG00000173267|        SNCG|     synuclein gamma| DOID_7551|           gonorrhea|     false|    null|      no mouse| 0.03621882575910077|\n",
      "+---------------+------------+--------------------+----------+--------------------+----------+--------+--------------+--------------------+\n",
      "only showing top 20 rows\n",
      "\n",
      "+---------------+----------------+---------------+--------------+\n",
      "| evidenceSource|associationCount|  targetExample|diseaseExample|\n",
      "+---------------+----------------+---------------+--------------+\n",
      "|     mouse only|          506339|ENSG00000149177|   EFO_0000174|\n",
      "|mouse and other|           16954|ENSG00000144802|   EFO_0000274|\n",
      "|       no mouse|         1597615|ENSG00000113749|    DOID_10718|\n",
      "+---------------+----------------+---------------+--------------+\n",
      "\n"
     ]
    }
   ],
   "source": [
    "# +---------------+-------+\n",
    "# | evidenceSource|  count|\n",
    "# +---------------+-------+\n",
    "# |     mouse only| 506339|\n",
    "# |mouse and other|  16954|\n",
    "# |       no mouse|1597615|\n",
    "# +---------------+-------+\n",
    "\n",
    "\n",
    "annotated_associations = (\n",
    "    # Small formatting in the original association dataset:\n",
    "    assoc_nomouse\n",
    "    \n",
    "    # Joing with the nullified dataset:\n",
    "    .join(assoc.withColumnRenamed('score', 'old_score'), on=['diseaseId', 'targetId'], how='inner')\n",
    "    \n",
    "    # Generate a flag from where the score is coming from:\n",
    "    .withColumn(\n",
    "        'evidenceSource',\n",
    "        f.when(f.col('score') == 0.0, f.lit('mouse only'))\n",
    "        .when(f.col('score') == f.col('old_score'), f.lit('no mouse'))\n",
    "        .otherwise(f.lit('mouse and other'))\n",
    "    )\n",
    "    \n",
    "    # Join with targets:\n",
    "    .join(targets, on='targetId', how='left')\n",
    "    \n",
    "    # Join with diseasese:\n",
    "    .join(annotated_diseases, on='diseaseId', how='left')\n",
    "    \n",
    "    # Select and order columns:\n",
    "    .select(\n",
    "        'targetId', \n",
    "        'targetSymbol', \n",
    "        'targetName', \n",
    "        'diseaseId', \n",
    "        'diseaseName', \n",
    "        'isRelevant', \n",
    "        'category',\n",
    "        'evidenceSource',\n",
    "        'score'\n",
    "    )\n",
    "\n",
    "    .persist()\n",
    ")\n",
    "\n",
    "# Let's see what we have:\n",
    "annotated_associations.show()\n",
    "\n",
    "# Saving data:\n",
    "(\n",
    "    annotated_associations\n",
    "    .withColumn('category', f.concat_ws(',', f.col('category')))\n",
    "    .write.option(\"compression\", \"gzip\").mode('overwrite')\n",
    "    .csv('annotated_associations.tsv.gz', sep='\\t')\n",
    ")    \n",
    "# Print number of associations with different evidence source categories:\n",
    "(\n",
    "    annotated_associations\n",
    "    .groupby('evidenceSource')\n",
    "    .agg(\n",
    "        f.count(f.col('targetId')).alias('associationCount'),\n",
    "        f.first(f.col('targetId')).alias('targetExample'),\n",
    "        f.first(f.col('diseaseId')).alias('diseaseExample')\n",
    "    )\n",
    "    .show()\n",
    ")"
   ]
  },
  {
   "cell_type": "markdown",
   "id": "08480da5",
   "metadata": {
    "ExecuteTime": {
     "end_time": "2022-08-25T11:11:36.231714Z",
     "start_time": "2022-08-25T11:11:30.278831Z"
    }
   },
   "source": [
    "### Association by evidence source categories\n",
    "\n",
    "* Mouse only: 506k unique disease/target pairs. Example: [ENSG00000158163/MONDO_0009148](https://platform.opentargets.org/evidence/ENSG00000158163/MONDO_0009148)\n",
    "* Mouse and other: 16k unique disease/target pairs. Example: [ENSG00000163646/MONDO_0016485](https://platform.opentargets.org/evidence/ENSG00000163646/MONDO_0016485)\n",
    "* No mouse: 1.6M unique disease/target pairs. Example: [ENSG00000066427/DOID_7551](https://platform.opentargets.org/evidence/ENSG00000066427/DOID_7551)\n",
    "\n",
    "\n",
    "```\n",
    "+---------------+----------------+---------------+---------------+\n",
    "| evidenceSource|associationCount| example_target|example_disease|\n",
    "+---------------+----------------+---------------+---------------+\n",
    "|     mouse only|          506339|ENSG00000158163|  MONDO_0009148|\n",
    "|mouse and other|           16954|ENSG00000163646|  MONDO_0016485|\n",
    "|       no mouse|         1597615|ENSG00000066427|      DOID_7551|\n",
    "+---------------+----------------+---------------+---------------+\n",
    "```\n"
   ]
  },
  {
   "cell_type": "code",
   "execution_count": 101,
   "id": "f930da22",
   "metadata": {
    "ExecuteTime": {
     "end_time": "2022-08-25T15:13:28.732103Z",
     "start_time": "2022-08-25T15:13:24.941494Z"
    }
   },
   "outputs": [
    {
     "name": "stdout",
     "output_type": "stream",
     "text": [
      "+---------------+------------------+-------------------+\n",
      "| evidenceSource|             false|               true|\n",
      "+---------------+------------------+-------------------+\n",
      "|     mouse only| 0.891201349293655|0.10879865070634497|\n",
      "|mouse and other|0.8629232039636664| 0.1370767960363336|\n",
      "|       no mouse|0.8874196849679052|0.11258031503209472|\n",
      "+---------------+------------------+-------------------+\n",
      "\n"
     ]
    }
   ],
   "source": [
    "# Windowing through all associations:\n",
    "windowSpec  = Window.partitionBy('evidenceSource')\n",
    "\n",
    "\n",
    "(\n",
    "    annotated_associations\n",
    "    .groupBy(['evidenceSource', 'isRelevant'])\n",
    "    .count()\n",
    "    .withColumn('totalCount', f.sum(f.col('count')).over(windowSpec))\n",
    "    .withColumn('relevantRatio', f.col('count') / f.col('totalCount'))\n",
    "    .groupBy('evidenceSource')\n",
    "    .pivot('isRelevant')\n",
    "    .agg(f.first('relevantRatio'))\n",
    "    .show()\n",
    ")"
   ]
  },
  {
   "cell_type": "code",
   "execution_count": 106,
   "id": "87e0c754",
   "metadata": {
    "ExecuteTime": {
     "end_time": "2022-08-25T15:44:23.547858Z",
     "start_time": "2022-08-25T15:44:23.480871Z"
    }
   },
   "outputs": [
    {
     "name": "stdout",
     "output_type": "stream",
     "text": [
      "-rw-r--r--  1 dsuveges  EBI\\Domain Users    40M 25 Aug 16:34 associations.tsv.gz\n",
      "targetId         targetSymbol  targetName     diseaseId    diseaseName                   isRelevant  category  evidenceSource  score\n",
      "ENSG00000000003  TSPAN6        tetraspanin 6  EFO_0000191  MALT lymphoma                 true        D         no mouse        0.0016822343198886617\n",
      "ENSG00000000003  TSPAN6        tetraspanin 6  EFO_0000199  oral squamous cell carcinoma  false       \"\"        no mouse        0.011471758689413145\n",
      "ENSG00000000003  TSPAN6        tetraspanin 6  EFO_0000272  astrocytoma                   false       \"\"        no mouse        0.019967162095029956\n",
      "ENSG00000000003  TSPAN6        tetraspanin 6  EFO_0000305  breast carcinoma              false       \"\"        no mouse        0.0064369608307752735\n",
      "ENSG00000000003  TSPAN6        tetraspanin 6  EFO_0000311  cancer                        false       \"\"        no mouse        0.0027718489101352635\n",
      "ENSG00000000003  TSPAN6        tetraspanin 6  EFO_0000400  diabetes mellitus             false       \"\"        no mouse        0.0027718489101352635\n",
      "ENSG00000000003  TSPAN6        tetraspanin 6  EFO_0000519  glioblastoma multiforme       false       \"\"        no mouse        0.017053009810654426\n",
      "ENSG00000000003  TSPAN6        tetraspanin 6  EFO_0000571  lung adenocarcinoma           false       \"\"        no mouse        0.008961414975669053\n",
      "ENSG00000000003  TSPAN6        tetraspanin 6  EFO_0000616  neoplasm                      false       \"\"        no mouse        0.0014783194187388074\n"
     ]
    }
   ],
   "source": [
    "%%bash\n",
    "\n",
    "# Concatenating partitions:\n",
    "cat <(head -n1 header.tsv) \\\n",
    "    <(gzcat annotated_associations.tsv.gz/part*gz | sort ) \\\n",
    "    | gzip > associations.tsv.gz\n",
    "    \n",
    "ls -lah associations.tsv.gz\n",
    "gzcat associations.tsv.gz | head | column -t -s$'\\t'"
   ]
  },
  {
   "cell_type": "markdown",
   "id": "8f20c609",
   "metadata": {
    "ExecuteTime": {
     "end_time": "2022-08-25T15:32:10.574154Z",
     "start_time": "2022-08-25T15:32:10.497707Z"
    }
   },
   "source": [
    "## Aggregating associations\n",
    "\n",
    "1. "
   ]
  },
  {
   "cell_type": "code",
   "execution_count": 109,
   "id": "3b960a84",
   "metadata": {
    "ExecuteTime": {
     "end_time": "2022-08-25T15:50:59.484060Z",
     "start_time": "2022-08-25T15:50:58.466511Z"
    }
   },
   "outputs": [
    {
     "name": "stdout",
     "output_type": "stream",
     "text": [
      "2120908\n",
      "318970\n"
     ]
    }
   ],
   "source": [
    "print(annotated_associations.count())\n",
    "print(annotated_associations.filter(f.col('score') >= score_threshold).count())"
   ]
  },
  {
   "cell_type": "code",
   "execution_count": 113,
   "id": "4d090567",
   "metadata": {
    "ExecuteTime": {
     "end_time": "2022-08-25T16:03:48.402964Z",
     "start_time": "2022-08-25T16:03:06.608334Z"
    }
   },
   "outputs": [],
   "source": [
    "median_udf = f.udf(lambda l: median([x for x in l if x >= 1]), t.FloatType())\n",
    "    \n",
    "\n",
    "overall = (\n",
    "    annotated_associations\n",
    "    \n",
    "    # Applying a filter based on the overall score: \n",
    "    .filter(f.col('score') >= score_threshold) # 2_120_908 -> 318_970\n",
    "    \n",
    "    # Grouping data by target and the relevance flag:\n",
    "    .groupby('targetId', 'targetName', 'targetSymbol')\n",
    "    .pivot('isRelevant')\n",
    "    .agg(\n",
    "        f.max(f.col('score')).alias('max'),\n",
    "        f.mean(f.col('score')).alias('mean_score'),\n",
    "        f.count(f.col('score')).alias('disease_count'),\n",
    "        f.percentile_approx(f.col('score'), 0.5).alias('median_score'),\n",
    "    )\n",
    "    .persist()\n",
    ")\n",
    "\n",
    "relevant_only = (\n",
    "    annotated_associations\n",
    "    \n",
    "    # Consider only relevant associations\n",
    "    .filter(\n",
    "        (f.col('score') >= score_threshold) &\n",
    "        (f.col('isRelevant') == True)\n",
    "    )\n",
    "    \n",
    "    # Exploding category:\n",
    "    .withColumn('category', f.explode(f.col('category')))\n",
    "    \n",
    "    # Grouping data by target and the relevance flag:\n",
    "    .groupby('targetId')\n",
    "    .pivot('category')\n",
    "    .agg(\n",
    "        f.max(f.col('score')).alias('max'),\n",
    "        f.mean(f.col('score')).alias('mean_score'),\n",
    "        f.count(f.col('score')).alias('disease_count'),\n",
    "        f.percentile_approx(f.col('score'), 0.5).alias('median_score'),\n",
    "    )\n",
    "    .persist()\n",
    ")\n",
    "\n",
    "total_aggregated = (\n",
    "    overall\n",
    "    .join(relevant_only, on='targetId', how='inner')\n",
    "    .persist()\n",
    ")\n",
    "\n",
    "# Save data:\n",
    "(\n",
    "    total_aggregated\n",
    "    .toPandas()\n",
    "    .to_csv('total_aggregated.tsv.gz', sep='\\t', index=False)\n",
    ")\n",
    "\n",
    "# # Saving data in in tsv:\n",
    "# (\n",
    "#     aggregated_associations\n",
    "#     .toPandas()\n",
    "#     .to_csv('aggregated_associations.tsv.gz', sep='\\t', index=False)\n",
    "# )"
   ]
  },
  {
   "cell_type": "code",
   "execution_count": 115,
   "id": "f5ed3621",
   "metadata": {
    "ExecuteTime": {
     "end_time": "2022-08-25T16:12:32.998807Z",
     "start_time": "2022-08-25T16:12:32.786780Z"
    }
   },
   "outputs": [
    {
     "name": "stdout",
     "output_type": "stream",
     "text": [
      "-RECORD 0------------------------------------------------\n",
      " targetId            | ENSG00000059588                   \n",
      " targetName          | TAR (HIV-1) RNA binding protein 1 \n",
      " targetSymbol        | TARBP1                            \n",
      " false_max           | 0.18097984754923946               \n",
      " false_mean_score    | 0.16803272455800783               \n",
      " false_disease_count | 2                                 \n",
      " false_median_score  | 0.15508560156677617               \n",
      " true_max            | 0.2596941743177079                \n",
      " true_mean_score     | 0.2596941743177079                \n",
      " true_disease_count  | 1                                 \n",
      " true_median_score   | 0.2596941743177079                \n",
      " D_max               | null                              \n",
      " D_mean_score        | null                              \n",
      " D_disease_count     | null                              \n",
      " D_median_score      | null                              \n",
      " M_max               | 0.2596941743177079                \n",
      " M_mean_score        | 0.2596941743177079                \n",
      " M_disease_count     | 1                                 \n",
      " M_median_score      | 0.2596941743177079                \n",
      " P_max               | null                              \n",
      " P_mean_score        | null                              \n",
      " P_disease_count     | null                              \n",
      " P_median_score      | null                              \n",
      "only showing top 1 row\n",
      "\n"
     ]
    }
   ],
   "source": [
    "total_aggregated.show(1, False, True)"
   ]
  },
  {
   "cell_type": "code",
   "execution_count": null,
   "id": "5a08f38b",
   "metadata": {},
   "outputs": [],
   "source": []
  }
 ],
 "metadata": {
  "kernelspec": {
   "display_name": "Python 3",
   "language": "python",
   "name": "python3"
  },
  "language_info": {
   "codemirror_mode": {
    "name": "ipython",
    "version": 3
   },
   "file_extension": ".py",
   "mimetype": "text/x-python",
   "name": "python",
   "nbconvert_exporter": "python",
   "pygments_lexer": "ipython3",
   "version": "3.9.5"
  }
 },
 "nbformat": 4,
 "nbformat_minor": 5
}
