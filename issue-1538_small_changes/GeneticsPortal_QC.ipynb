{
 "cells": [
  {
   "cell_type": "code",
   "execution_count": 59,
   "metadata": {
    "ExecuteTime": {
     "end_time": "2021-06-10T18:52:06.286923Z",
     "start_time": "2021-06-10T18:52:06.283410Z"
    }
   },
   "outputs": [],
   "source": [
    "from pyspark.sql import SparkSession\n",
    "from pyspark.sql.functions import split, col, udf, lit\n",
    "from pyspark.sql import Row\n",
    "from pyspark.sql.types import StringType, IntegerType, TimestampType, StructType\n",
    "\n",
    "# establish spark connection\n",
    "spark = (\n",
    "    SparkSession.builder\n",
    "    .master('local[*]')\n",
    "    .getOrCreate()\n",
    ")\n",
    "\n",
    "geneticsPortal='/Users/dsuveges/repositories/evidence_datasource_parsers/genetics_portal-2021-06-10.json.gz'\n",
    "\n",
    "geneticsPortal_df = (\n",
    "    spark.read.json(geneticsPortal)\n",
    "    .persist()\n",
    ")\n",
    "\n",
    "# Show the first two entries:\n",
    "geneticsPortal_df.show(2, vertical=True, truncate=False)"
   ]
  },
  {
   "cell_type": "code",
   "execution_count": 2,
   "metadata": {
    "ExecuteTime": {
     "end_time": "2021-06-10T15:55:05.485949Z",
     "start_time": "2021-06-10T15:55:02.373925Z"
    }
   },
   "outputs": [
    {
     "data": {
      "text/plain": [
       "632693"
      ]
     },
     "execution_count": 2,
     "metadata": {},
     "output_type": "execute_result"
    }
   ],
   "source": [
    "geneticsPortal_df.count()"
   ]
  },
  {
   "cell_type": "code",
   "execution_count": 4,
   "metadata": {
    "ExecuteTime": {
     "end_time": "2021-06-10T15:56:14.615405Z",
     "start_time": "2021-06-10T15:56:13.406803Z"
    }
   },
   "outputs": [
    {
     "data": {
      "text/plain": [
       "16429"
      ]
     },
     "execution_count": 4,
     "metadata": {},
     "output_type": "execute_result"
    }
   ],
   "source": [
    "geneticsPortal_df.select('studyId').distinct().count()"
   ]
  },
  {
   "cell_type": "code",
   "execution_count": 7,
   "metadata": {
    "ExecuteTime": {
     "end_time": "2021-06-10T17:01:15.822457Z",
     "start_time": "2021-06-10T17:01:15.673631Z"
    }
   },
   "outputs": [
    {
     "data": {
      "text/plain": [
       "20426"
      ]
     },
     "execution_count": 7,
     "metadata": {},
     "output_type": "execute_result"
    }
   ],
   "source": [
    "y = (\n",
    "    geneticsPortal_df\n",
    "    .filter(col('diseaseFromSourceMappedId').isNull())\n",
    "    .count()\n",
    ")\n",
    "\n",
    "y"
   ]
  },
  {
   "cell_type": "code",
   "execution_count": 6,
   "metadata": {
    "ExecuteTime": {
     "end_time": "2021-06-10T16:48:49.381477Z",
     "start_time": "2021-06-10T16:48:48.390354Z"
    }
   },
   "outputs": [
    {
     "data": {
      "text/plain": [
       "3176"
      ]
     },
     "execution_count": 6,
     "metadata": {},
     "output_type": "execute_result"
    }
   ],
   "source": [
    "(\n",
    "    geneticsPortal_df\n",
    "    .filter(col('diseaseFromSourceMappedId').isNotNull())\n",
    "    .select('diseaseFromSourceMappedId')\n",
    "    .distinct()\n",
    "    .count()\n",
    ")"
   ]
  },
  {
   "cell_type": "code",
   "execution_count": 12,
   "metadata": {
    "ExecuteTime": {
     "end_time": "2021-06-10T17:16:01.075682Z",
     "start_time": "2021-06-10T17:15:56.220606Z"
    },
    "code_folding": [
     14,
     23,
     30,
     39,
     47
    ]
   },
   "outputs": [
    {
     "data": {
      "text/plain": [
       "{'Association count': 220402,\n",
       " 'Study count': 16429,\n",
       " 'Target count': 18183,\n",
       " 'Variant count': 107002,\n",
       " 'Disease count': 3176,\n",
       " 'Evidence with unmapped diseases': 20426,\n",
       " 'Unmapped diseases': 1,\n",
       " 'GWAS association': 220402}"
      ]
     },
     "execution_count": 12,
     "metadata": {},
     "output_type": "execute_result"
    }
   ],
   "source": [
    "data = {\n",
    "    # # associations\n",
    "    \"Association count\": geneticsPortal_df.count(),\n",
    "    \n",
    "    # # study\n",
    "    \"Study count\": geneticsPortal_df.select('studyId').distinct().count(),\n",
    "    \n",
    "    # # target\n",
    "    \"Target count\":  geneticsPortal_df.select('targetFromSourceId').distinct().count(),\n",
    "    \n",
    "    # # target\n",
    "    \"Variant count\":  geneticsPortal_df.select('variantId').distinct().count(),\n",
    "    \n",
    "    # # disease\n",
    "    \"Disease count\": (\n",
    "        geneticsPortal_df\n",
    "        .filter(col('diseaseFromSourceMappedId').isNotNull())\n",
    "        .select('diseaseFromSourceMappedId')\n",
    "        .distinct()\n",
    "        .count()\n",
    "    ),\n",
    "    \n",
    "    # # Associations without EFO identifiers:\n",
    "    \"Evidence with unmapped diseases\": (\n",
    "        geneticsPortal_df\n",
    "        .filter(col('diseaseFromSourceMappedId').isNull())\n",
    "        .count()\n",
    "    ),\n",
    "    \n",
    "    # # Associations without EFO identifiers:\n",
    "    \"Unmapped diseases\": (\n",
    "        geneticsPortal_df\n",
    "        .filter(col('diseaseFromSourceMappedId').isNull())\n",
    "        .select('diseaseFromSource')\n",
    "        .distinct()\n",
    "        .count()\n",
    "    ),\n",
    "    \n",
    "    # # association\n",
    "    \"Association count\": (\n",
    "        geneticsPortal_df\n",
    "        .select('studyId', 'variantId')\n",
    "        .distinct()\n",
    "        .count()\n",
    "    ),\n",
    "\n",
    "    # # GWAS association (study_id/variant)\n",
    "    \"GWAS association\": (\n",
    "        geneticsPortal_df\n",
    "        .select('studyId', 'variantId')\n",
    "        .distinct()\n",
    "        .count()\n",
    "    )\n",
    "}\n",
    "\n",
    "data"
   ]
  },
  {
   "cell_type": "code",
   "execution_count": 30,
   "metadata": {
    "ExecuteTime": {
     "end_time": "2021-06-10T17:53:44.172507Z",
     "start_time": "2021-06-10T17:52:43.895172Z"
    }
   },
   "outputs": [
    {
     "name": "stdout",
     "output_type": "stream",
     "text": [
      "/Users/dsuveges/project_data/ot/evidence_input/21.04/geneticsprotal/genetics_portal_evidence_2021.04.13/\n",
      "/Users/dsuveges/repositories/evidence_datasource_parsers/genetics_portal-2021-06-10.json.gz\n"
     ]
    },
    {
     "data": {
      "text/plain": [
       "{'old_evidence': {'Association count': 135721,\n",
       "  'Study count': 11038,\n",
       "  'Target count': 17300,\n",
       "  'Variant count': 71498,\n",
       "  'Disease count': 2291,\n",
       "  'Evidence with unmapped diseases': 0,\n",
       "  'Unmapped diseases': 0,\n",
       "  'GWAS association': 135721},\n",
       " 'new_evidence': {'Association count': 220402,\n",
       "  'Study count': 16429,\n",
       "  'Target count': 18183,\n",
       "  'Variant count': 107002,\n",
       "  'Disease count': 3176,\n",
       "  'Evidence with unmapped diseases': 20426,\n",
       "  'Unmapped diseases': 1,\n",
       "  'GWAS association': 220402}}"
      ]
     },
     "execution_count": 30,
     "metadata": {},
     "output_type": "execute_result"
    }
   ],
   "source": [
    "\n",
    "evidence_files = {\n",
    "    'old_evidence': '/Users/dsuveges/project_data/ot/evidence_input/21.04/geneticsprotal/genetics_portal_evidence_2021.04.13/',\n",
    "    'new_evidence': '/Users/dsuveges/repositories/evidence_datasource_parsers/genetics_portal-2021-06-10.json.gz'\n",
    "}\n",
    "\n",
    "\n",
    "all_data = {}\n",
    "\n",
    "for label, file in evidence_files.items():\n",
    "    print(file)\n",
    "    geneticsPortal_df = (\n",
    "        spark.read.json(file)\n",
    "        .persist()\n",
    "    )\n",
    "    \n",
    "    data = {\n",
    "        # # associations\n",
    "        \"Association count\": geneticsPortal_df.count(),\n",
    "\n",
    "        # # study\n",
    "        \"Study count\": geneticsPortal_df.select('studyId').distinct().count(),\n",
    "\n",
    "        # # target\n",
    "        \"Target count\":  geneticsPortal_df.select('targetFromSourceId').distinct().count(),\n",
    "\n",
    "        # # target\n",
    "        \"Variant count\":  geneticsPortal_df.select('variantId').distinct().count(),\n",
    "\n",
    "        # # disease\n",
    "        \"Disease count\": (\n",
    "            geneticsPortal_df\n",
    "            .filter(col('diseaseFromSourceMappedId').isNotNull())\n",
    "            .select('diseaseFromSourceMappedId')\n",
    "            .distinct()\n",
    "            .count()\n",
    "        ),\n",
    "\n",
    "        # # Associations without EFO identifiers:\n",
    "        \"Evidence with unmapped diseases\": (\n",
    "            geneticsPortal_df\n",
    "            .filter(col('diseaseFromSourceMappedId').isNull())\n",
    "            .count()\n",
    "        ),\n",
    "\n",
    "        # # Associations without EFO identifiers:\n",
    "        \"Unmapped diseases\": (\n",
    "            geneticsPortal_df\n",
    "            .filter(col('diseaseFromSourceMappedId').isNull())\n",
    "            .select('diseaseFromSource')\n",
    "            .distinct()\n",
    "            .count()\n",
    "        ),\n",
    "\n",
    "        # # association\n",
    "        \"Association count\": (\n",
    "            geneticsPortal_df\n",
    "            .select('studyId', 'variantId')\n",
    "            .distinct()\n",
    "            .count()\n",
    "        ),\n",
    "\n",
    "        # # GWAS association (study_id/variant)\n",
    "        \"GWAS association\": (\n",
    "            geneticsPortal_df\n",
    "            .select('studyId', 'variantId')\n",
    "            .distinct()\n",
    "            .count()\n",
    "        )\n",
    "    }\n",
    "    \n",
    "    all_data[label] = data\n",
    "\n",
    "all_data"
   ]
  },
  {
   "cell_type": "code",
   "execution_count": 33,
   "metadata": {
    "ExecuteTime": {
     "end_time": "2021-06-10T17:54:48.217650Z",
     "start_time": "2021-06-10T17:54:48.207421Z"
    }
   },
   "outputs": [
    {
     "name": "stdout",
     "output_type": "stream",
     "text": [
      "|                                 |   old_evidence |   new_evidence |\n",
      "|:--------------------------------|---------------:|---------------:|\n",
      "| Association count               |         135721 |         220402 |\n",
      "| Study count                     |          11038 |          16429 |\n",
      "| Target count                    |          17300 |          18183 |\n",
      "| Variant count                   |          71498 |         107002 |\n",
      "| Disease count                   |           2291 |           3176 |\n",
      "| Evidence with unmapped diseases |              0 |          20426 |\n",
      "| Unmapped diseases               |              0 |              1 |\n",
      "| GWAS association                |         135721 |         220402 |\n"
     ]
    }
   ],
   "source": [
    "import pandas as pd \n",
    "\n",
    "print(pd.DataFrame(all_data).to_markdown())"
   ]
  },
  {
   "cell_type": "code",
   "execution_count": 23,
   "metadata": {
    "ExecuteTime": {
     "end_time": "2021-06-10T17:47:15.657839Z",
     "start_time": "2021-06-10T17:47:15.654819Z"
    }
   },
   "outputs": [
    {
     "data": {
      "text/plain": [
       "'/Users/dsuveges/project_data/ot_genetics/cicaful8.parquet'"
      ]
     },
     "execution_count": 23,
     "metadata": {},
     "output_type": "execute_result"
    }
   ],
   "source": [
    "evidence"
   ]
  },
  {
   "cell_type": "code",
   "execution_count": 56,
   "metadata": {
    "ExecuteTime": {
     "end_time": "2021-06-10T18:19:57.233954Z",
     "start_time": "2021-06-10T18:19:56.255473Z"
    }
   },
   "outputs": [
    {
     "name": "stdout",
     "output_type": "stream",
     "text": [
      "+------------+-----+\n",
      "|  study_stem|count|\n",
      "+------------+-----+\n",
      "|  GCST011378|    1|\n",
      "|      NEALE2|  256|\n",
      "|       SAIGE|   50|\n",
      "|     FINNGEN|    7|\n",
      "|  GCST010653|    1|\n",
      "|GCST90013791|    1|\n",
      "|  GCST010729|    1|\n",
      "+------------+-----+\n",
      "\n"
     ]
    }
   ],
   "source": [
    "(\n",
    "    geneticsPortal_df\n",
    "    .filter(\n",
    "        col('diseaseFromSourceMappedId').isNull()\n",
    "    )\n",
    "    .select(col('studyId')) #,col('diseaseFromSourceMappedId'), col('diseaseFromSource'))\n",
    "    .distinct()\n",
    "    .withColumn('study_stem', split(col('studyId'), '_').getItem(0))\n",
    "    .groupby(col('study_stem'))\n",
    "    .count()\n",
    "    .show()\n",
    ")"
   ]
  },
  {
   "cell_type": "code",
   "execution_count": 82,
   "metadata": {
    "ExecuteTime": {
     "end_time": "2021-06-10T20:49:19.438340Z",
     "start_time": "2021-06-10T20:49:19.409044Z"
    }
   },
   "outputs": [
    {
     "ename": "NameError",
     "evalue": "name 'regexp_extract_all' is not defined",
     "output_type": "error",
     "traceback": [
      "\u001b[0;31m---------------------------------------------------------------------------\u001b[0m",
      "\u001b[0;31mNameError\u001b[0m                                 Traceback (most recent call last)",
      "\u001b[0;32m<ipython-input-82-d2a1da8fa388>\u001b[0m in \u001b[0;36m<module>\u001b[0;34m\u001b[0m\n\u001b[1;32m     10\u001b[0m     \u001b[0mspark\u001b[0m\u001b[0;34m\u001b[0m\u001b[0;34m\u001b[0m\u001b[0m\n\u001b[1;32m     11\u001b[0m     \u001b[0;34m.\u001b[0m\u001b[0mcreateDataFrame\u001b[0m\u001b[0;34m(\u001b[0m\u001b[0mRow\u001b[0m\u001b[0;34m(\u001b[0m\u001b[0;34m**\u001b[0m\u001b[0mx\u001b[0m\u001b[0;34m)\u001b[0m \u001b[0;32mfor\u001b[0m \u001b[0mx\u001b[0m \u001b[0;32min\u001b[0m \u001b[0mmylist\u001b[0m\u001b[0;34m)\u001b[0m\u001b[0;34m\u001b[0m\u001b[0;34m\u001b[0m\u001b[0m\n\u001b[0;32m---> 12\u001b[0;31m     \u001b[0;34m.\u001b[0m\u001b[0mwithColumn\u001b[0m\u001b[0;34m(\u001b[0m\u001b[0;34m'words'\u001b[0m\u001b[0;34m,\u001b[0m  \u001b[0mregexp_extract_all\u001b[0m\u001b[0;34m(\u001b[0m\u001b[0mcol\u001b[0m\u001b[0;34m(\u001b[0m\u001b[0;34m'extra_label'\u001b[0m\u001b[0;34m)\u001b[0m\u001b[0;34m,\u001b[0m \u001b[0;34mr'(\\D+)'\u001b[0m\u001b[0;34m,\u001b[0m \u001b[0;36m0\u001b[0m\u001b[0;34m)\u001b[0m\u001b[0;34m)\u001b[0m\u001b[0;34m\u001b[0m\u001b[0;34m\u001b[0m\u001b[0m\n\u001b[0m\u001b[1;32m     13\u001b[0m \u001b[0;31m#     .filte%colorscol('extra_label').rlike(r'lett'))\u001b[0m\u001b[0;34m\u001b[0m\u001b[0;34m\u001b[0m\u001b[0;34m\u001b[0m\u001b[0m\n\u001b[1;32m     14\u001b[0m     \u001b[0;34m.\u001b[0m\u001b[0mwithColumn\u001b[0m\u001b[0;34m(\u001b[0m\u001b[0;34m'phenotype'\u001b[0m\u001b[0;34m,\u001b[0m \u001b[0mregexp_replace\u001b[0m\u001b[0;34m(\u001b[0m\u001b[0mcol\u001b[0m\u001b[0;34m(\u001b[0m\u001b[0;34m'extra_label'\u001b[0m\u001b[0;34m)\u001b[0m\u001b[0;34m,\u001b[0m \u001b[0;34mr'[^0-9a-zA-Z -]'\u001b[0m\u001b[0;34m,\u001b[0m \u001b[0;34m''\u001b[0m\u001b[0;34m)\u001b[0m\u001b[0;34m)\u001b[0m\u001b[0;34m\u001b[0m\u001b[0;34m\u001b[0m\u001b[0m\n",
      "\u001b[0;31mNameError\u001b[0m: name 'regexp_extract_all' is not defined"
     ]
    }
   ],
   "source": [
    "from pyspark.sql.functions import regexp_extract, regexp_replace, substring\n",
    "\n",
    "mylist = [\n",
    "    {\"type_activity_id\":1,\"type_activity_name\":\"xxx\", 'extra_label': 'cirmos23cica23523hajj'},\n",
    "    {\"type_activity_id\":2,\"type_activity_name\":\"yyy\", 'extra_label': '- hova232lett2325a'},\n",
    "    {\"type_activity_id\":3,\"type_activity_name\":\"zzz\", 'extra_label': 'vaj'}\n",
    "]\n",
    "\n",
    "(\n",
    "    spark\n",
    "    .createDataFrame(Row(**x) for x in mylist)\n",
    "    .withColumn('words',  regexp_extract_all(col('extra_label'), r'(\\D+)', 0))\n",
    "#     .filte%colorscol('extra_label').rlike(r'lett'))\n",
    "    .withColumn('phenotype', regexp_replace(col('extra_label'), r'[^0-9a-zA-Z -]', ''))\n",
    "    .show()\n",
    ")"
   ]
  },
  {
   "cell_type": "code",
   "execution_count": 90,
   "metadata": {
    "ExecuteTime": {
     "end_time": "2021-06-10T21:00:09.878385Z",
     "start_time": "2021-06-10T21:00:09.716829Z"
    }
   },
   "outputs": [
    {
     "name": "stdout",
     "output_type": "stream",
     "text": [
      "+-------+------+------+\n",
      "|   name|gender|salary|\n",
      "+-------+------+------+\n",
      "|  James|     M| 60000|\n",
      "|Michael|     M| 70000|\n",
      "| Robert|  null|400000|\n",
      "|  Maria|     F|500000|\n",
      "|    Jen|      |  null|\n",
      "+-------+------+------+\n",
      "\n",
      "+-------+------+------+----------+\n",
      "|   name|gender|salary|new_gender|\n",
      "+-------+------+------+----------+\n",
      "|  James|     M| 60000|      Male|\n",
      "|Michael|     M| 70000|      Male|\n",
      "| Robert|  null|400000|      null|\n",
      "|  Maria|     F|500000|    Female|\n",
      "|    Jen|      |  null|      null|\n",
      "+-------+------+------+----------+\n",
      "\n"
     ]
    }
   ],
   "source": [
    "data = [(\"James\",\"M\",60000), (\"Michael\",\"M\",70000),\n",
    "        (\"Robert\",None,400000), (\"Maria\",\"F\",500000),\n",
    "        (\"Jen\",\"\",None)]\n",
    "\n",
    "columns = [\"name\",\"gender\",\"salary\"]\n",
    "df = spark.createDataFrame(data = data, schema = columns)\n",
    "df.show()\n",
    "\n",
    "#Using When otherwise\n",
    "from pyspark.sql.functions import when,col\n",
    "df2 = df.withColumn(\"new_gender\", when(df.gender == \"M\",\"Male\")\n",
    "                                 .when(df.gender == \"F\",\"Female\")\n",
    "                                 .when(df.gender.isNull(), None)\n",
    "                                 .otherwise(None))\n",
    "df2.show()\n"
   ]
  },
  {
   "cell_type": "code",
   "execution_count": 97,
   "metadata": {
    "ExecuteTime": {
     "end_time": "2021-06-11T10:22:28.772664Z",
     "start_time": "2021-06-11T10:22:27.419717Z"
    }
   },
   "outputs": [
    {
     "name": "stdout",
     "output_type": "stream",
     "text": [
      "+--------+-----+\n",
      "|isMapped|count|\n",
      "+--------+-----+\n",
      "|      No|    7|\n",
      "|     Yes| 1221|\n",
      "+--------+-----+\n",
      "\n"
     ]
    }
   ],
   "source": [
    "(\n",
    "    geneticsPortal_df\n",
    "    .filter(col('studyId').rlike('FINNGEN'))\n",
    "    .withColumn('isMapped', \n",
    "                when(col('diseaseFromSourceMappedId').isNotNull(), 'Yes')\n",
    "                .otherwise('No')\n",
    "     )\n",
    "    .select('studyId', 'isMapped')\n",
    "    .distinct()\n",
    "    .groupby(col('isMapped'))\n",
    "    .count()\n",
    "    .show()\n",
    ")"
   ]
  },
  {
   "cell_type": "code",
   "execution_count": 100,
   "metadata": {
    "ExecuteTime": {
     "end_time": "2021-06-11T10:27:14.795639Z",
     "start_time": "2021-06-11T10:27:14.252777Z"
    }
   },
   "outputs": [
    {
     "name": "stdout",
     "output_type": "stream",
     "text": [
      "+--------------------------------------------------------------------------+-------------------------+-------------------------------+\n",
      "|diseaseFromSource                                                         |diseaseFromSourceMappedId|studyId                        |\n",
      "+--------------------------------------------------------------------------+-------------------------+-------------------------------+\n",
      "|Cardiomyopathy                                                            |EFO_0000318              |FINNGEN_R5_I9_CARDMYO          |\n",
      "|Other acquired deformities of musculoskeletal system and connective tissue|EFO_0009676              |FINNGEN_R5_M13_DEFORMACQ       |\n",
      "|Reactive arthropathies                                                    |EFO_0007460              |FINNGEN_R5_M13_REACTARTH       |\n",
      "|Type 1 diabetes with renal complications                                  |EFO_0004996              |FINNGEN_R5_E4_DM1REN           |\n",
      "|Valgus deformity, not elsewhere classified                                |HP_0008081               |FINNGEN_R5_M13_VALGUS          |\n",
      "|Gilbert syndrome                                                          |EFO_0005556              |FINNGEN_R5_E4_GILBERT          |\n",
      "|Erectile dysfunction                                                      |EFO_0004234              |FINNGEN_R5_ERECTILE_DYSFUNCTION|\n",
      "|Glaucoma, exfoliation                                                     |EFO_0004235              |FINNGEN_R5_H7_GLAUCOMA_XFG     |\n",
      "|Pulmonary embolism                                                        |EFO_0003827              |FINNGEN_R5_I9_PULMEMB          |\n",
      "|Interstitial lung disease                                                 |EFO_0004244              |FINNGEN_R5_ILD                 |\n",
      "+--------------------------------------------------------------------------+-------------------------+-------------------------------+\n",
      "only showing top 10 rows\n",
      "\n"
     ]
    }
   ],
   "source": [
    "(\n",
    "    geneticsPortal_df\n",
    "    .filter(\n",
    "        col('studyId').rlike('FINNGEN') &\n",
    "        col('diseaseFromSourceMappedId').isNotNull()\n",
    "    )\n",
    "    .select('diseaseFromSource', 'diseaseFromSourceMappedId', 'studyId')\n",
    "    .distinct()\n",
    "    .show(10, truncate=False)\n",
    ")"
   ]
  },
  {
   "cell_type": "code",
   "execution_count": 103,
   "metadata": {
    "ExecuteTime": {
     "end_time": "2021-06-11T10:35:43.826537Z",
     "start_time": "2021-06-11T10:35:43.098582Z"
    }
   },
   "outputs": [
    {
     "data": {
      "text/plain": [
       "5492"
      ]
     },
     "execution_count": 103,
     "metadata": {},
     "output_type": "execute_result"
    }
   ],
   "source": [
    "(\n",
    "    geneticsPortal_df\n",
    "    .filter(\n",
    "        col('studyId').rlike('FINNGEN') &\n",
    "        col('diseaseFromSourceMappedId').isNotNull()\n",
    "    )\n",
    "    .select('studyId', 'variantID')\n",
    "    .distinct()\n",
    "    .count()\n",
    ")"
   ]
  },
  {
   "cell_type": "code",
   "execution_count": 104,
   "metadata": {
    "ExecuteTime": {
     "end_time": "2021-06-11T10:37:03.957776Z",
     "start_time": "2021-06-11T10:37:03.571099Z"
    }
   },
   "outputs": [
    {
     "name": "stdout",
     "output_type": "stream",
     "text": [
      "+-----------------+-------------------------+--------------------------------+\n",
      "|diseaseFromSource|diseaseFromSourceMappedId|studyId                         |\n",
      "+-----------------+-------------------------+--------------------------------+\n",
      "|null             |null                     |FINNGEN_R5_AB1_SEPSIS           |\n",
      "|null             |null                     |FINNGEN_R5_LUNG_TRANSPLANTATION |\n",
      "|null             |null                     |FINNGEN_R5_M13_ARTHROSIS_INCLAVO|\n",
      "|null             |null                     |FINNGEN_R5_H7_BULLKERATOPATHY   |\n",
      "|null             |null                     |FINNGEN_R5_K11_REIMB_202        |\n",
      "|null             |null                     |FINNGEN_R5_R18_SENILITY         |\n",
      "|null             |null                     |FINNGEN_R5_I9_HEARTFAIL_AND_CHD |\n",
      "+-----------------+-------------------------+--------------------------------+\n",
      "\n"
     ]
    }
   ],
   "source": [
    "(\n",
    "    geneticsPortal_df\n",
    "    .filter(\n",
    "        col('studyId').rlike('FINNGEN') &\n",
    "        col('diseaseFromSourceMappedId').isNull()\n",
    "    )\n",
    "    .select('diseaseFromSource', 'diseaseFromSourceMappedId', 'studyId')\n",
    "    .distinct()\n",
    "    .show(10, truncate=False)\n",
    ")"
   ]
  },
  {
   "cell_type": "code",
   "execution_count": 107,
   "metadata": {
    "ExecuteTime": {
     "end_time": "2021-06-11T10:57:04.672390Z",
     "start_time": "2021-06-11T10:57:04.483610Z"
    }
   },
   "outputs": [
    {
     "name": "stdout",
     "output_type": "stream",
     "text": [
      "+-------------------+\n",
      "|max(pValueExponent)|\n",
      "+-------------------+\n",
      "|                 -8|\n",
      "+-------------------+\n",
      "\n"
     ]
    }
   ],
   "source": [
    "from pyspark.sql.functions import max as py_max\n",
    "\n",
    "(\n",
    "    geneticsPortal_df\n",
    "    .agg({'pValueExponent': 'max'}).show()\n",
    "    \n",
    ")\n",
    "\n",
    "# geneticsPortal_df.show(1, vertical=True, truncate=False)"
   ]
  },
  {
   "cell_type": "code",
   "execution_count": 110,
   "metadata": {
    "ExecuteTime": {
     "end_time": "2021-06-11T10:57:42.507657Z",
     "start_time": "2021-06-11T10:57:42.503344Z"
    }
   },
   "outputs": [
    {
     "data": {
      "text/plain": [
       "'3.0.0'"
      ]
     },
     "execution_count": 110,
     "metadata": {},
     "output_type": "execute_result"
    }
   ],
   "source": [
    "spark.version"
   ]
  },
  {
   "cell_type": "code",
   "execution_count": null,
   "metadata": {},
   "outputs": [],
   "source": []
  }
 ],
 "metadata": {
  "kernelspec": {
   "display_name": "Python 3",
   "language": "python",
   "name": "python3"
  },
  "language_info": {
   "codemirror_mode": {
    "name": "ipython",
    "version": 3
   },
   "file_extension": ".py",
   "mimetype": "text/x-python",
   "name": "python",
   "nbconvert_exporter": "python",
   "pygments_lexer": "ipython3",
   "version": "3.6.10"
  },
  "toc": {
   "base_numbering": 1,
   "nav_menu": {},
   "number_sections": true,
   "sideBar": true,
   "skip_h1_title": false,
   "title_cell": "Table of Contents",
   "title_sidebar": "Contents",
   "toc_cell": false,
   "toc_position": {},
   "toc_section_display": true,
   "toc_window_display": false
  }
 },
 "nbformat": 4,
 "nbformat_minor": 4
}
