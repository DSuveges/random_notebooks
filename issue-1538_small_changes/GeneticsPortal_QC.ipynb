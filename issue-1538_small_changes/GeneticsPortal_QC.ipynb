{
 "cells": [
  {
   "cell_type": "code",
   "execution_count": 23,
   "metadata": {
    "ExecuteTime": {
     "end_time": "2021-06-18T15:47:45.406616Z",
     "start_time": "2021-06-18T15:47:45.401150Z"
    }
   },
   "outputs": [],
   "source": [
    "from pyspark.sql import SparkSession\n",
    "from pyspark.sql.functions import split, col, udf, lit, count, size, regexp_extract\n",
    "from pyspark.sql import Row\n",
    "from pyspark.sql.types import StringType, IntegerType, TimestampType, StructType\n",
    "\n",
    "# establish spark connection\n",
    "spark = (\n",
    "    SparkSession.builder\n",
    "    .master('local[*]')\n",
    "    .getOrCreate()\n",
    ")\n",
    "\n",
    "geneticsPortal='/Users/dsuveges/repositories/evidence_datasource_parsers/genetics_portal-2021-06-10.json.gz'\n",
    "\n"
   ]
  },
  {
   "cell_type": "code",
   "execution_count": 8,
   "metadata": {
    "ExecuteTime": {
     "end_time": "2021-06-18T14:58:00.179466Z",
     "start_time": "2021-06-18T14:57:20.131546Z"
    }
   },
   "outputs": [
    {
     "name": "stdout",
     "output_type": "stream",
     "text": [
      "/Users/dsuveges/repositories/evidence_datasource_parsers/genetics_portal-2021-06-18/\n"
     ]
    },
    {
     "data": {
      "text/plain": [
       "{'new_evidence 06.18': {'Evidence count': 635033,\n",
       "  'Association count': 279578,\n",
       "  'Study count': 16429,\n",
       "  'Target count': 18193,\n",
       "  'Variant count': 107017,\n",
       "  'Disease count': 3130,\n",
       "  'Evidence with unmapped diseases': 20519,\n",
       "  'Studies with unmapped diseases': 322,\n",
       "  'GWAS association': 220437}}"
      ]
     },
     "execution_count": 8,
     "metadata": {},
     "output_type": "execute_result"
    }
   ],
   "source": [
    "\n",
    "evidence_files = {\n",
    "#     'old_evidence': '/Users/dsuveges/project_data/ot/evidence_input/21.04/geneticsprotal/genetics_portal_evidence_2021.04.13/',\n",
    "#     #'new_evidence 06.10': '/Users/dsuveges/repositories/evidence_datasource_parsers/genetics_portal-2021-06-10.json.gz',\n",
    "#     'new_evidence 06.17': '/Users/dsuveges/repositories/evidence_datasource_parsers/genetics_portal-2021-06-17/',\n",
    "    'new_evidence 06.18': '/Users/dsuveges/repositories/evidence_datasource_parsers/genetics_portal-2021-06-18/'\n",
    "}\n",
    "\n",
    "\n",
    "all_data = {}\n",
    "\n",
    "for label, file in evidence_files.items():\n",
    "    geneticsPortal_df = None\n",
    "    print(file)\n",
    "    geneticsPortal_df = (\n",
    "        spark.read.json(file)\n",
    "        .persist()\n",
    "    )\n",
    "    \n",
    "    data = {\n",
    "        # # associations\n",
    "        \"Evidence count\": geneticsPortal_df.count(),\n",
    "        \n",
    "        # \n",
    "        'Association count': (\n",
    "            geneticsPortal_df\n",
    "            .filter(col('diseaseFromSourceMappedId').isNotNull())\n",
    "            .select('diseaseFromSourceMappedId', 'targetFromSourceId')\n",
    "            .distinct()\n",
    "            .count()\n",
    "        ),\n",
    "        \n",
    "        # # study\n",
    "        \"Study count\": geneticsPortal_df.select('studyId').distinct().count(),\n",
    "\n",
    "        # # target\n",
    "        \"Target count\":  geneticsPortal_df.select('targetFromSourceId').distinct().count(),\n",
    "\n",
    "        # # target\n",
    "        \"Variant count\":  geneticsPortal_df.select('variantId').distinct().count(),\n",
    "\n",
    "        # # disease\n",
    "        \"Disease count\": (\n",
    "            geneticsPortal_df\n",
    "            .filter(col('diseaseFromSourceMappedId').isNotNull())\n",
    "            .select('diseaseFromSourceMappedId')\n",
    "            .distinct()\n",
    "            .count()\n",
    "        ),\n",
    "\n",
    "        # # Evidence without EFO identifiers:\n",
    "        \"Evidence with unmapped diseases\": (\n",
    "            geneticsPortal_df\n",
    "            .filter(col('diseaseFromSourceMappedId').isNull())\n",
    "            .count()\n",
    "        ),\n",
    "\n",
    "        \n",
    "        ## Studies without EFO identifiers:\n",
    "        \"Studies with unmapped diseases\": (\n",
    "            geneticsPortal_df\n",
    "            .filter(col('diseaseFromSourceMappedId').isNull())\n",
    "            .select('studyId')\n",
    "            .distinct()\n",
    "            .count()\n",
    "        ),\n",
    "\n",
    "        # # GWAS association (study_id/variant)\n",
    "        \"GWAS association\": (\n",
    "            geneticsPortal_df\n",
    "            .select('studyId', 'variantId')\n",
    "            .distinct()\n",
    "            .count()\n",
    "        )\n",
    "        \n",
    "        # # GWAS association (study_id/variant)\n",
    "#         \"min. l2g score\": (\n",
    "#             geneticsPortal_df\n",
    "#             .select('studyId', 'variantId')\n",
    "#             .distinct()\n",
    "#             .count()\n",
    "#         )\n",
    "    }\n",
    "    \n",
    "    all_data[label] = data\n",
    "\n",
    "all_data"
   ]
  },
  {
   "cell_type": "code",
   "execution_count": 9,
   "metadata": {
    "ExecuteTime": {
     "end_time": "2021-06-18T14:58:00.187142Z",
     "start_time": "2021-06-18T14:58:00.181844Z"
    }
   },
   "outputs": [
    {
     "name": "stdout",
     "output_type": "stream",
     "text": [
      "|                                 |   new_evidence 06.18 |\n",
      "|:--------------------------------|---------------------:|\n",
      "| Association count               |               279578 |\n",
      "| Disease count                   |                 3130 |\n",
      "| Evidence count                  |               635033 |\n",
      "| Evidence with unmapped diseases |                20519 |\n",
      "| GWAS association                |               220437 |\n",
      "| Studies with unmapped diseases  |                  322 |\n",
      "| Study count                     |                16429 |\n",
      "| Target count                    |                18193 |\n",
      "| Variant count                   |               107017 |\n"
     ]
    }
   ],
   "source": [
    "import pandas as pd \n",
    "\n",
    "print(pd.DataFrame(all_data).to_markdown())"
   ]
  },
  {
   "cell_type": "code",
   "execution_count": null,
   "metadata": {
    "ExecuteTime": {
     "end_time": "2021-06-10T17:47:15.657839Z",
     "start_time": "2021-06-10T17:47:15.654819Z"
    }
   },
   "outputs": [],
   "source": [
    "evidence"
   ]
  },
  {
   "cell_type": "code",
   "execution_count": 12,
   "metadata": {
    "ExecuteTime": {
     "end_time": "2021-06-17T11:58:05.289021Z",
     "start_time": "2021-06-17T11:58:05.012365Z"
    }
   },
   "outputs": [
    {
     "name": "stdout",
     "output_type": "stream",
     "text": [
      "+-----------------------------------------------------------+\n",
      "|studyId                                                    |\n",
      "+-----------------------------------------------------------+\n",
      "|FINNGEN_R5_Z21_PROBL_RELATED_LIFE_M_DIFFICULTY             |\n",
      "|FINNGEN_R5_AB1_SEPSIS                                      |\n",
      "|FINNGEN_R5_Z21_PROBL_RELATED_CARE__DEPENDENCY              |\n",
      "|FINNGEN_R5_Z21_ANKLE_FOOT                                  |\n",
      "|FINNGEN_R5_Z21_NEED_IMMUNI_OTH_SINGLE_VIRAL_DISEA          |\n",
      "|FINNGEN_R5_Z21_PRESENCE_OTH_DEVICES                        |\n",
      "|FINNGEN_R5_Z21_PROCREATIVE_MANAG                           |\n",
      "|FINNGEN_R5_M13_ARTHROSIS_INCLAVO                           |\n",
      "|FINNGEN_R5_Z21_FIT_ADJ_OTH_DEVICES                         |\n",
      "|FINNGEN_R5_H7_BULLKERATOPATHY                              |\n",
      "|FINNGEN_R5_M13_ATLOAXSUBLUX                                |\n",
      "|FINNGEN_R5_ST19_INJURY_BLOOD_VESSE_WRIST_HAND_LEVEL        |\n",
      "|FINNGEN_R5_K11_REIMB_202                                   |\n",
      "|FINNGEN_R5_ST19_MALTR_SYNDR                                |\n",
      "|FINNGEN_R5_Z21_FOLLOW__EXAM_TREAT_CONDI_OTH_MALIG_NEOPLASMS|\n",
      "|FINNGEN_R5_CD2_PRIMARY_LYMPHOID_HEMATOPOIETIC              |\n",
      "|FINNGEN_R5_R18_SENILITY                                    |\n",
      "|FINNGEN_R5_I9_HEARTFAIL_AND_CHD                            |\n",
      "+-----------------------------------------------------------+\n",
      "\n"
     ]
    }
   ],
   "source": [
    "# geneticsPortal_df = (\n",
    "#     spark.read.json('/Users/dsuveges/repositories/evidence_datasource_parsers/genetics_portal-2021-06-17/')\n",
    "#     .persist()\n",
    "# )\n",
    "\n",
    "(\n",
    "    geneticsPortal_df\n",
    "    .filter(\n",
    "        col('diseaseFromSourceMappedId').isNull()\n",
    "        & col('studyId').rlike('FINN')\n",
    "    )\n",
    "    .select(col('studyId'))\n",
    "    .distinct()\n",
    "    .show(truncate=False)\n",
    ")"
   ]
  },
  {
   "cell_type": "code",
   "execution_count": null,
   "metadata": {},
   "outputs": [],
   "source": [
    "(\n",
    "    geneticsPortal_df\n",
    "    .filter(\n",
    "        col('diseaseFromSourceMappedId').isNotNull()\n",
    "        & ~col('studyId').rlike('FINN')\n",
    "    )\n",
    "    .select(col('studyId'))\n",
    "    .distinct()\n",
    "    .show()\n",
    ")"
   ]
  },
  {
   "cell_type": "code",
   "execution_count": 17,
   "metadata": {
    "ExecuteTime": {
     "end_time": "2021-06-17T13:59:03.881745Z",
     "start_time": "2021-06-17T13:59:01.434317Z"
    }
   },
   "outputs": [],
   "source": [
    "studies = (\n",
    "    spark.read.json('/Users/dsuveges/repositories/evidence_datasource_parsers/study-index')\n",
    "    .persist()\n",
    ")"
   ]
  },
  {
   "cell_type": "code",
   "execution_count": 43,
   "metadata": {
    "ExecuteTime": {
     "end_time": "2021-06-17T15:08:44.857860Z",
     "start_time": "2021-06-17T15:08:44.750677Z"
    }
   },
   "outputs": [
    {
     "name": "stdout",
     "output_type": "stream",
     "text": [
      "(0 rows)\n",
      "\n"
     ]
    }
   ],
   "source": [
    "(\n",
    "    studies\n",
    "    .filter(col('study_id').rlike('FINNGEN_R5_H7_BULL'))\n",
    "    .show(vertical=True, truncate=False)\n",
    ")"
   ]
  },
  {
   "cell_type": "code",
   "execution_count": 31,
   "metadata": {
    "ExecuteTime": {
     "end_time": "2021-06-17T14:06:29.900373Z",
     "start_time": "2021-06-17T14:06:29.519327Z"
    }
   },
   "outputs": [
    {
     "data": {
      "text/plain": [
       "138"
      ]
     },
     "execution_count": 31,
     "metadata": {},
     "output_type": "execute_result"
    }
   ],
   "source": [
    "(\n",
    "    studies\n",
    "    .filter(col('study_id').rlike('FINNGEN') & (size(col('trait_efos')) == 0))\n",
    "    .distinct()\n",
    "    .count()\n",
    "#     .show(vertical=True, truncate=False)\n",
    ")"
   ]
  },
  {
   "cell_type": "code",
   "execution_count": 36,
   "metadata": {
    "ExecuteTime": {
     "end_time": "2021-06-17T14:27:17.089089Z",
     "start_time": "2021-06-17T14:27:16.885919Z"
    }
   },
   "outputs": [
    {
     "name": "stdout",
     "output_type": "stream",
     "text": [
      "-RECORD 0-------------------------------------------------------\n",
      " ancestry_initial     | [European=198179.0]                     \n",
      " ancestry_replication | []                                      \n",
      " has_sumstats         | true                                    \n",
      " n_cases              | 4609                                    \n",
      " n_initial            | 198179                                  \n",
      " n_replication        | 0                                       \n",
      " num_assoc_loci       | 1                                       \n",
      " pmid                 | null                                    \n",
      " pub_author           | FINNGEN_R5                              \n",
      " pub_date             | 2018-03-01                              \n",
      " pub_journal          | null                                    \n",
      " pub_title            | null                                    \n",
      " source               | FINNGEN                                 \n",
      " study_id             | FINNGEN_R5_Z21_FIT_ADJ_OTH_DEVICES      \n",
      " trait_category       | null                                    \n",
      " trait_efos           | []                                      \n",
      " trait_reported       | Fitting and adjustment of other devices \n",
      "only showing top 1 row\n",
      "\n"
     ]
    }
   ],
   "source": [
    "study_list = [\n",
    "    \"FINNGEN_R5_Z21_PROBL_RELATED_LIFE_M_DIFFICULTY\",\n",
    "    \"FINNGEN_R5_AB1_SEPSIS\",\n",
    "    \"FINNGEN_R5_Z21_PROBL_RELATED_CARE__DEPENDENCY\",\n",
    "    \"FINNGEN_R5_Z21_ANKLE_FOOT\",\n",
    "    \"FINNGEN_R5_Z21_NEED_IMMUNI_OTH_SINGLE_VIRAL_DISEA\",\n",
    "    \"FINNGEN_R5_Z21_PRESENCE_OTH_DEVICES\",\n",
    "    \"FINNGEN_R5_Z21_PROCREATIVE_MANAG\",\n",
    "    \"FINNGEN_R5_M13_ARTHROSIS_INCLAVO\",\n",
    "    \"FINNGEN_R5_Z21_FIT_ADJ_OTH_DEVICES\",\n",
    "    \"FINNGEN_R5_H7_BULLKERATOPATHY\",\n",
    "    \"FINNGEN_R5_M13_ATLOAXSUBLUX\",\n",
    "    \"FINNGEN_R5_ST19_INJURY_BLOOD_VESSE_WRIST_HAND_LEVEL\",\n",
    "    \"FINNGEN_R5_K11_REIMB_202\",\n",
    "    \"FINNGEN_R5_ST19_MALTR_SYNDR\",\n",
    "    \"FINNGEN_R5_Z21_FOLLOW__EXAM_TREAT_CONDI_OTH_MALIG_NEOPLASMS\",\n",
    "    \"FINNGEN_R5_CD2_PRIMARY_LYMPHOID_HEMATOPOIETIC\",\n",
    "    \"FINNGEN_R5_R18_SENILITY\",\n",
    "    \"FINNGEN_R5_I9_HEARTFAIL_AND_CHD\"\n",
    "]\n",
    "(\n",
    "    studies\n",
    "    .filter(studies.study_id.isin(study_list))\n",
    "    .distinct()\n",
    "    .show(1, vertical=True, truncate=False)\n",
    ")"
   ]
  },
  {
   "cell_type": "code",
   "execution_count": 34,
   "metadata": {
    "ExecuteTime": {
     "end_time": "2021-06-17T14:23:08.286315Z",
     "start_time": "2021-06-17T14:23:07.464225Z"
    }
   },
   "outputs": [
    {
     "data": {
      "text/plain": [
       "33758"
      ]
     },
     "execution_count": 34,
     "metadata": {},
     "output_type": "execute_result"
    }
   ],
   "source": [
    "(\n",
    "    studies\n",
    "    .distinct()\n",
    "    .count()\n",
    ")"
   ]
  },
  {
   "cell_type": "code",
   "execution_count": 48,
   "metadata": {
    "ExecuteTime": {
     "end_time": "2021-06-18T14:42:53.448233Z",
     "start_time": "2021-06-18T14:42:19.163083Z"
    }
   },
   "outputs": [],
   "source": [
    "geneticsPortal_df = (\n",
    "    spark.read.json('/Users/dsuveges/repositories/evidence_datasource_parsers/genetics_portal-2021-06-18/')\n",
    "    .persist()\n",
    ")\n"
   ]
  },
  {
   "cell_type": "code",
   "execution_count": 13,
   "metadata": {
    "ExecuteTime": {
     "end_time": "2021-06-18T15:23:41.395357Z",
     "start_time": "2021-06-18T15:23:41.282944Z"
    }
   },
   "outputs": [
    {
     "data": {
      "text/plain": [
       "0"
      ]
     },
     "execution_count": 13,
     "metadata": {},
     "output_type": "execute_result"
    }
   ],
   "source": [
    "(\n",
    "    geneticsPortal_df\n",
    "    .filter(\n",
    "        col('diseaseFromSourceMappedId').isNotNull()\n",
    "        & col('diseaseFromSource').isNull()\n",
    "    )\n",
    "    .count()\n",
    ")"
   ]
  },
  {
   "cell_type": "code",
   "execution_count": 14,
   "metadata": {
    "ExecuteTime": {
     "end_time": "2021-06-18T15:25:17.743264Z",
     "start_time": "2021-06-18T15:25:17.547628Z"
    }
   },
   "outputs": [
    {
     "name": "stdout",
     "output_type": "stream",
     "text": [
      "-RECORD 0-----------------------------------------------------------------------------\n",
      " beta                             | -0.0291                                           \n",
      " betaConfidenceIntervalLower      | -0.0380660341860385                               \n",
      " betaConfidenceIntervalUpper      | -0.0201339658139614                               \n",
      " datasourceId                     | ot_genetics_portal                                \n",
      " datatypeId                       | genetic_association                               \n",
      " diseaseFromSource                | Type 2 diabetes                                   \n",
      " diseaseFromSourceMappedId        | EFO_0001360                                       \n",
      " literature                       | [32541925]                                        \n",
      " oddsRatio                        | null                                              \n",
      " oddsRatioConfidenceIntervalLower | null                                              \n",
      " oddsRatioConfidenceIntervalUpper | null                                              \n",
      " pValueExponent                   | -10                                               \n",
      " pValueMantissa                   | 2.0                                               \n",
      " projectId                        | GCST                                              \n",
      " publicationFirstAuthor           | Vujkovic M                                        \n",
      " publicationYear                  | 2020                                              \n",
      " resourceScore                    | 0.21906712651252747                               \n",
      " studyId                          | GCST010555                                        \n",
      " studySampleSize                  | 1114458                                           \n",
      " targetFromSourceId               | ENSG00000095485                                   \n",
      " variantFunctionalConsequenceId   | SO_0001628                                        \n",
      " variantId                        | 10_100152307_T_C                                  \n",
      " variantRsId                      | rs2862954                                         \n",
      "-RECORD 1-----------------------------------------------------------------------------\n",
      " beta                             | null                                              \n",
      " betaConfidenceIntervalLower      | null                                              \n",
      " betaConfidenceIntervalUpper      | null                                              \n",
      " datasourceId                     | ot_genetics_portal                                \n",
      " datatypeId                       | genetic_association                               \n",
      " diseaseFromSource                | Spherical equivalent or myopia (age of diagnosis) \n",
      " diseaseFromSourceMappedId        | EFO_0004847                                       \n",
      " literature                       | [29808027]                                        \n",
      " oddsRatio                        | null                                              \n",
      " oddsRatioConfidenceIntervalLower | null                                              \n",
      " oddsRatioConfidenceIntervalUpper | null                                              \n",
      " pValueExponent                   | -8                                                \n",
      " pValueMantissa                   | 5.0                                               \n",
      " projectId                        | GCST                                              \n",
      " publicationFirstAuthor           | Tedja MS                                          \n",
      " publicationYear                  | 2018                                              \n",
      " resourceScore                    | 0.7446841597557068                                \n",
      " studyId                          | GCST006291                                        \n",
      " studySampleSize                  | 170420                                            \n",
      " targetFromSourceId               | ENSG00000107821                                   \n",
      " variantFunctionalConsequenceId   | SO_0001583                                        \n",
      " variantId                        | 10_101064592_G_C                                  \n",
      " variantRsId                      | rs807037                                          \n",
      "only showing top 2 rows\n",
      "\n"
     ]
    }
   ],
   "source": [
    "(\n",
    "    geneticsPortal_df\n",
    "    .filter(\n",
    "        col('projectId') == 'GCST'\n",
    "    )\n",
    "    .show(2, vertical=True, truncate=False)\n",
    ")"
   ]
  },
  {
   "cell_type": "code",
   "execution_count": 45,
   "metadata": {
    "ExecuteTime": {
     "end_time": "2021-06-18T15:55:32.595789Z",
     "start_time": "2021-06-18T15:55:31.476696Z"
    }
   },
   "outputs": [
    {
     "name": "stdout",
     "output_type": "stream",
     "text": [
      "+---------+-----+\n",
      "|projectId|count|\n",
      "+---------+-----+\n",
      "|    NEALE|  256|\n",
      "|    SAIGE|   50|\n",
      "|  FINNGEN|   13|\n",
      "|     GCST|    3|\n",
      "+---------+-----+\n",
      "\n"
     ]
    }
   ],
   "source": [
    "pattern = r\"^([A-Z]+)\"\n",
    "(\n",
    "    geneticsPortal_df\n",
    "    .filter(\n",
    "        col('diseaseFromSourceMappedId').isNull()\n",
    "    )\n",
    "    .withColumn('projectId', regexp_extract(col(\"studyId\"), pattern, 1))\n",
    "    .select('studyId', 'projectId')\n",
    "    .distinct()\n",
    "    .groupby('projectId')\n",
    "    .count()\n",
    "    .show()\n",
    ")"
   ]
  },
  {
   "cell_type": "code",
   "execution_count": 47,
   "metadata": {
    "ExecuteTime": {
     "end_time": "2021-06-18T15:58:28.398993Z",
     "start_time": "2021-06-18T15:58:28.101022Z"
    }
   },
   "outputs": [
    {
     "name": "stdout",
     "output_type": "stream",
     "text": [
      "+-----------------------------------------------------------+\n",
      "|studyId                                                    |\n",
      "+-----------------------------------------------------------+\n",
      "|FINNGEN_R5_Z21_PROBL_RELATED_LIFE_M_DIFFICULTY             |\n",
      "|FINNGEN_R5_Z21_PROBL_RELATED_CARE__DEPENDENCY              |\n",
      "|FINNGEN_R5_Z21_ANKLE_FOOT                                  |\n",
      "|FINNGEN_R5_Z21_NEED_IMMUNI_OTH_SINGLE_VIRAL_DISEA          |\n",
      "|FINNGEN_R5_Z21_PRESENCE_OTH_DEVICES                        |\n",
      "|FINNGEN_R5_Z21_PROCREATIVE_MANAG                           |\n",
      "|FINNGEN_R5_Z21_FIT_ADJ_OTH_DEVICES                         |\n",
      "|FINNGEN_R5_M13_ATLOAXSUBLUX                                |\n",
      "|FINNGEN_R5_ST19_INJURY_BLOOD_VESSE_WRIST_HAND_LEVEL        |\n",
      "|FINNGEN_R5_K11_REIMB_202                                   |\n",
      "|FINNGEN_R5_ST19_MALTR_SYNDR                                |\n",
      "|FINNGEN_R5_Z21_FOLLOW__EXAM_TREAT_CONDI_OTH_MALIG_NEOPLASMS|\n",
      "|FINNGEN_R5_CD2_PRIMARY_LYMPHOID_HEMATOPOIETIC              |\n",
      "+-----------------------------------------------------------+\n",
      "\n"
     ]
    }
   ],
   "source": [
    "(\n",
    "    geneticsPortal_df\n",
    "    .filter(\n",
    "        (col('diseaseFromSourceMappedId').isNull())\n",
    "        &(col('studyId').rlike('FINNGEN'))\n",
    "    )\n",
    "    .select('studyId')\n",
    "    .distinct()\n",
    "    .show(20, truncate=False)\n",
    ")"
   ]
  },
  {
   "cell_type": "code",
   "execution_count": 51,
   "metadata": {
    "ExecuteTime": {
     "end_time": "2021-06-18T16:22:30.795582Z",
     "start_time": "2021-06-18T16:22:30.536273Z"
    }
   },
   "outputs": [
    {
     "name": "stdout",
     "output_type": "stream",
     "text": [
      "+---------------+\n",
      "|studyId        |\n",
      "+---------------+\n",
      "|SAIGE_735_2    |\n",
      "|NEALE2_2110    |\n",
      "|NEALE2_1150_2  |\n",
      "|SAIGE_270_3    |\n",
      "|NEALE2_6143_1  |\n",
      "|NEALE2_4277    |\n",
      "|NEALE2_6149_100|\n",
      "|NEALE2_20551_3 |\n",
      "|NEALE2_5983_raw|\n",
      "|NEALE2_20552_1 |\n",
      "|NEALE2_1797    |\n",
      "|NEALE2_924     |\n",
      "|NEALE2_41219_1 |\n",
      "|NEALE2_3637    |\n",
      "|NEALE2_5001    |\n",
      "|SAIGE_350_1    |\n",
      "|NEALE2_6158_2  |\n",
      "|NEALE2_4990    |\n",
      "|NEALE2_20526   |\n",
      "|SAIGE_516_1    |\n",
      "+---------------+\n",
      "only showing top 20 rows\n",
      "\n"
     ]
    }
   ],
   "source": [
    "(\n",
    "    geneticsPortal_df\n",
    "    .filter(\n",
    "        col('projectId').isNull()\n",
    "    )\n",
    "    .select('studyId')\n",
    "    .distinct()\n",
    "    .show(20, truncate=False)\n",
    ")"
   ]
  },
  {
   "cell_type": "code",
   "execution_count": null,
   "metadata": {},
   "outputs": [],
   "source": []
  }
 ],
 "metadata": {
  "kernelspec": {
   "display_name": "Python 3",
   "language": "python",
   "name": "python3"
  },
  "language_info": {
   "codemirror_mode": {
    "name": "ipython",
    "version": 3
   },
   "file_extension": ".py",
   "mimetype": "text/x-python",
   "name": "python",
   "nbconvert_exporter": "python",
   "pygments_lexer": "ipython3",
   "version": "3.6.10"
  },
  "toc": {
   "base_numbering": 1,
   "nav_menu": {},
   "number_sections": true,
   "sideBar": true,
   "skip_h1_title": false,
   "title_cell": "Table of Contents",
   "title_sidebar": "Contents",
   "toc_cell": false,
   "toc_position": {},
   "toc_section_display": true,
   "toc_window_display": false
  }
 },
 "nbformat": 4,
 "nbformat_minor": 4
}
