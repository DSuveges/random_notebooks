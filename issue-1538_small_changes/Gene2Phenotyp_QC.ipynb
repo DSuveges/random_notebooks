{
 "cells": [
  {
   "cell_type": "code",
   "execution_count": 55,
   "metadata": {
    "ExecuteTime": {
     "end_time": "2021-06-15T20:14:55.007971Z",
     "start_time": "2021-06-15T20:14:54.754781Z"
    }
   },
   "outputs": [
    {
     "name": "stdout",
     "output_type": "stream",
     "text": [
      "diseaseFromSource\tdiseaseFromSourceId\tdiseaseFromSourceMappedId\n",
      "JOUBERT SYNDROME TYPE 5\t610188\tnull\n",
      "MICROPHTHALMIA SYNDROMIC TYPE 9\t601186\tOrphanet_2470\n",
      "CONGENITAL DISORDERS OF GLYCOSYLATION\t612379\tOrphanet_137\n",
      "HYPOMYELINATION WITH ATROPHY OF THE BASAL GANGLIA AND CEREBELLUM\tNo disease mim\tnull\n",
      "FRUCTOSE 1,6 BISPHOSPHATASE DEFICIENCY\t229700\tOrphanet_348\n",
      "MEIER-GORLIN SYNDROME 4\t613804\tOrphanet_2554\n",
      "SHWACHMAN-DIAMOND SYNDROME\t260400\tOrphanet_811\n",
      "FANCONI ANEMIA COMPLEMENTATION GROUP P\t613951\tMONDO_0013499\n",
      "FANCONI ANEMIA, COMPLEMENTATION GROUP F\t603467\tOrphanet_121719\n"
     ]
    }
   ],
   "source": [
    "%%bash\n",
    "\n",
    "\n",
    "old='/Users/dsuveges/repositories/evidence_datasource_parsers/gene2phenotype-2021-06-08.json.gz'\n",
    "new='/Users/dsuveges/repositories/evidence_datasource_parsers/output/gene2phenotype-2021-06-15.json.gz/*json.gz'\n",
    "\n",
    "\n",
    "cat <( echo -e \"diseaseFromSource\\tdiseaseFromSourceId\\tdiseaseFromSourceMappedId\") \\\n",
    "    <( gzcat $old | jq -r '\"\\(.diseaseFromSource)\\t\\(.diseaseFromSourceId)\\t\\(.diseaseFromSourceMappedId)\"') > old.tsv\n",
    "    \n",
    "cat <( echo -e \"diseaseFromSource\\tdiseaseFromSourceMappedId\") \\\n",
    "    <( gzcat $new | jq -r '\"\\(.diseaseFromSource)\\t\\(.diseaseFromSourceMappedId)\"') > new.tsv\n",
    "    \n",
    "\n",
    "grep -v Orphanet_314381 old.tsv | sponge old.tsv\n",
    "grep -v Orphanet_314381 new.tsv | sponge new.tsv\n",
    "\n",
    "head old.tsv"
   ]
  },
  {
   "cell_type": "code",
   "execution_count": 56,
   "metadata": {
    "ExecuteTime": {
     "end_time": "2021-06-15T20:15:22.696375Z",
     "start_time": "2021-06-15T20:15:22.643015Z"
    }
   },
   "outputs": [],
   "source": [
    "import pandas as pd\n",
    "\n",
    "\n",
    "old_df = pd.read_csv('old.tsv', sep='\\t').drop_duplicates()\n",
    "new_df = pd.read_csv('new.tsv', sep='\\t').drop_duplicates()\n",
    "merged = old_df.merge(new_df, on='diseaseFromSource', how='outer')"
   ]
  },
  {
   "cell_type": "code",
   "execution_count": 57,
   "metadata": {
    "ExecuteTime": {
     "end_time": "2021-06-15T20:15:24.085045Z",
     "start_time": "2021-06-15T20:15:24.074988Z"
    }
   },
   "outputs": [
    {
     "data": {
      "text/plain": [
       "60"
      ]
     },
     "execution_count": 57,
     "metadata": {},
     "output_type": "execute_result"
    }
   ],
   "source": [
    "unmapped = merged.loc[merged.diseaseFromSourceMappedId_x.notna() & merged.diseaseFromSourceMappedId_y.isna()]\n",
    "len(unmapped)"
   ]
  },
  {
   "cell_type": "code",
   "execution_count": 39,
   "metadata": {
    "ExecuteTime": {
     "end_time": "2021-06-15T19:10:25.245327Z",
     "start_time": "2021-06-15T19:10:22.977684Z"
    },
    "code_folding": [
     2
    ]
   },
   "outputs": [
    {
     "name": "stderr",
     "output_type": "stream",
     "text": [
      "INFO     - ontoma.downloaders - ZOOMA to EFO mappings - Parsed 3663 rows\n",
      "INFO     - ontoma.downloaders - OMIM to EFO mappings - Parsed 8561 rows\n"
     ]
    }
   ],
   "source": [
    "import ontoma\n",
    "\n",
    "class disease_map(object):\n",
    "\n",
    "    def __init__(self):\n",
    "        self.ontoma = ontoma.interface.OnToma()\n",
    "\n",
    "    def map_disease(self, disease_name, omim_id):\n",
    "        logging.info(f\"Mapping '{disease_name}'\")\n",
    "\n",
    "        # Search disease name using OnToma and accept perfect matches\n",
    "        ontoma_mapping = self.ontoma.find_term(disease_name, verbose=True)\n",
    "\n",
    "        # If there's some mapping available:\n",
    "        if ontoma_mapping:\n",
    "\n",
    "            # Extracting term if no action is required:\n",
    "            if ontoma_mapping['action'] is None:\n",
    "                return ontoma_mapping\n",
    "\n",
    "            # When there is an exact match, but action is required:\n",
    "            elif ontoma_mapping['quality'] == \"match\":\n",
    "\n",
    "                # Match in HP or ORDO, check if there is a match in MONDO too. If so, give preference to MONDO hit\n",
    "                mondo_mapping = self.search_mondo(disease_name)\n",
    "\n",
    "                if mondo_mapping:\n",
    "                    # Mondo mapping good - return\n",
    "                    if mondo_mapping['exact']:\n",
    "                        return mondo_mapping\n",
    "                    # Mondo mapping bad - return ontoma\n",
    "                    else:\n",
    "                        return ontoma_mapping\n",
    "                else:\n",
    "                    # Mondo mapping bad - return ontoma\n",
    "                    return ontoma_mapping\n",
    "\n",
    "            else:\n",
    "                # OnToma fuzzy match. First check if the mapping term has a xref to the OMIM id. \n",
    "                # If not, check in MONDO and if there is not match ignore evidence and report disease\n",
    "                if self.ontoma.get_efo_from_xref(f\"OMIM:{omim_id}\"):\n",
    "                    for efo_xref in self.ontoma.get_efo_from_xref(f\"OMIM:{omim_id}\"):\n",
    "                        # Extract EFO id from OnToma results\n",
    "                        efo_id = ontoma_mapping['term'].split('/')[-1].replace('_', ':')\n",
    "\n",
    "                        if efo_id == efo_xref['id']:\n",
    "                            return ontoma_mapping\n",
    "\n",
    "                # xref search didn't work, try MONDO as the last resort\n",
    "                mondo_mapping = self.search_mondo(disease_name)\n",
    "                if mondo_mapping:\n",
    "                    if mondo_mapping['exact']:\n",
    "                        return mondo_mapping\n",
    "                    else:\n",
    "                        return None\n",
    "                else:\n",
    "                    # Record the unmapped disease\n",
    "                    return None\n",
    "\n",
    "        else:\n",
    "            # No match in EFO, HP or ORDO\n",
    "            mondo_mapping = self.search_mondo(disease_name)\n",
    "            if mondo_mapping:\n",
    "                if mondo_mapping['exact']:\n",
    "                    return mondo_mapping\n",
    "                else:\n",
    "                    return None\n",
    "            else:\n",
    "                return None\n",
    "\n",
    "    def search_mondo(self, disease_name):\n",
    "\n",
    "        disease_name = disease_name.lower()\n",
    "\n",
    "        # mondo_lookup works like a dictionary lookup so if disease is not in there it raises and error instead of returning `None`\n",
    "        try:\n",
    "            mondo_term = self.ontoma.mondo_lookup(disease_name)\n",
    "            return {\n",
    "                'id': mondo_term, \n",
    "                'name': self.ontoma.get_mondo_label(mondo_term),\n",
    "                'exact': True\n",
    "            }\n",
    "        except KeyError as e:\n",
    "            exact_ols_mondo = self.ontoma._ols.besthit(disease_name,\n",
    "                                                       ontology=['mondo'], field_list=['iri', 'label'], exact=True)\n",
    "\n",
    "            if exact_ols_mondo:\n",
    "                return {'term': exact_ols_mondo['iri'], 'name': exact_ols_mondo['label'], 'exact':True}\n",
    "\n",
    "            else:\n",
    "                ols_mondo = self.ontoma._ols.besthit(disease_name,\n",
    "                                                     ontology=['mondo'],\n",
    "                                                     field_list=['iri', 'label'],\n",
    "                                                     bytype='class')\n",
    "                if ols_mondo:\n",
    "                    return {'term': ols_mondo['iri'], 'name': ols_mondo['label'], 'exact': False}\n",
    "                else:\n",
    "                    return None\n",
    "                \n",
    "                \n",
    "dm = disease_map()"
   ]
  },
  {
   "cell_type": "code",
   "execution_count": 43,
   "metadata": {
    "ExecuteTime": {
     "end_time": "2021-06-15T19:12:06.176429Z",
     "start_time": "2021-06-15T19:11:48.090259Z"
    }
   },
   "outputs": [
    {
     "name": "stderr",
     "output_type": "stream",
     "text": [
      "INFO     - ontoma.interface - EFO OBO parsed. Size: 26999 nodes\n",
      "INFO:ontoma.interface:EFO OBO parsed. Size: 26999 nodes\n",
      "INFO     - ontoma.interface - Parsed 125341 Name to EFO mapping \n",
      "INFO:ontoma.interface:Parsed 125341 Name to EFO mapping \n",
      "INFO     - ontoma.interface - Found http://www.orpha.net/ORDO/Orphanet_2470 for MICROPHTHALMIA SYNDROMIC TYPE 9 from EFO OBO - match - None\n",
      "INFO:ontoma.interface:Found http://www.orpha.net/ORDO/Orphanet_2470 for MICROPHTHALMIA SYNDROMIC TYPE 9 from EFO OBO - match - None\n"
     ]
    },
    {
     "data": {
      "text/plain": [
       "{'term': 'http://www.orpha.net/ORDO/Orphanet_2470',\n",
       " 'label': 'Matthew-Wood syndrome',\n",
       " 'source': 'EFO OBO',\n",
       " 'quality': 'match',\n",
       " 'action': None}"
      ]
     },
     "execution_count": 43,
     "metadata": {},
     "output_type": "execute_result"
    }
   ],
   "source": [
    "dm.map_disease('MICROPHTHALMIA SYNDROMIC TYPE 9', '601186')"
   ]
  },
  {
   "cell_type": "code",
   "execution_count": 42,
   "metadata": {
    "ExecuteTime": {
     "end_time": "2021-06-15T19:11:46.966474Z",
     "start_time": "2021-06-15T19:11:46.963268Z"
    }
   },
   "outputs": [],
   "source": [
    "import logging"
   ]
  },
  {
   "cell_type": "code",
   "execution_count": 52,
   "metadata": {
    "ExecuteTime": {
     "end_time": "2021-06-15T19:34:10.327156Z",
     "start_time": "2021-06-15T19:34:10.320971Z"
    }
   },
   "outputs": [],
   "source": [
    "def map_disease(row):\n",
    "    label = row['diseaseFromSource']\n",
    "    disease_id = row['diseaseFromSourceId']\n",
    "    lookup = dm.map_disease(label, disease_id)\n",
    "    if lookup:\n",
    "        try:\n",
    "            return lookup['term'].split('/')[-1]\n",
    "        except Exception as e:\n",
    "            print(lookup)\n",
    "    else:\n",
    "        return None"
   ]
  },
  {
   "cell_type": "code",
   "execution_count": 53,
   "metadata": {
    "ExecuteTime": {
     "end_time": "2021-06-15T19:34:12.560893Z",
     "start_time": "2021-06-15T19:34:12.550756Z"
    }
   },
   "outputs": [
    {
     "ename": "TypeError",
     "evalue": "map_disease() takes 1 positional argument but 2 were given",
     "output_type": "error",
     "traceback": [
      "\u001b[0;31m---------------------------------------------------------------------------\u001b[0m",
      "\u001b[0;31mTypeError\u001b[0m                                 Traceback (most recent call last)",
      "\u001b[0;32m<ipython-input-53-94ea2c98a734>\u001b[0m in \u001b[0;36m<module>\u001b[0;34m\u001b[0m\n\u001b[0;32m----> 1\u001b[0;31m \u001b[0mmap_disease\u001b[0m\u001b[0;34m(\u001b[0m\u001b[0;34m'MICROPHTHALMIA SYNDROMIC TYPE 9'\u001b[0m\u001b[0;34m,\u001b[0m \u001b[0;34m'601186'\u001b[0m\u001b[0;34m)\u001b[0m\u001b[0;34m\u001b[0m\u001b[0;34m\u001b[0m\u001b[0m\n\u001b[0m",
      "\u001b[0;31mTypeError\u001b[0m: map_disease() takes 1 positional argument but 2 were given"
     ]
    }
   ],
   "source": [
    "map_disease('MICROPHTHALMIA SYNDROMIC TYPE 9', '601186')"
   ]
  },
  {
   "cell_type": "code",
   "execution_count": 54,
   "metadata": {
    "ExecuteTime": {
     "end_time": "2021-06-15T19:34:14.699809Z",
     "start_time": "2021-06-15T19:34:13.870552Z"
    }
   },
   "outputs": [
    {
     "name": "stderr",
     "output_type": "stream",
     "text": [
      "INFO     - ontoma.interface - Found http://www.orpha.net/ORDO/Orphanet_2470 for MICROPHTHALMIA SYNDROMIC TYPE 9 from EFO OBO - match - None\n",
      "INFO:ontoma.interface:Found http://www.orpha.net/ORDO/Orphanet_2470 for MICROPHTHALMIA SYNDROMIC TYPE 9 from EFO OBO - match - None\n",
      "INFO     - ontoma.interface - Found http://www.orpha.net/ORDO/Orphanet_137 for CONGENITAL DISORDERS OF GLYCOSYLATION from EFO OBO - match - None\n",
      "INFO:ontoma.interface:Found http://www.orpha.net/ORDO/Orphanet_137 for CONGENITAL DISORDERS OF GLYCOSYLATION from EFO OBO - match - None\n",
      "INFO     - ontoma.interface - Found http://www.orpha.net/ORDO/Orphanet_2554 for MEIER-GORLIN SYNDROME 4 from OT Zooma Mappings - match - None\n",
      "INFO:ontoma.interface:Found http://www.orpha.net/ORDO/Orphanet_2554 for MEIER-GORLIN SYNDROME 4 from OT Zooma Mappings - match - None\n",
      "INFO     - ontoma.interface - Found http://www.orpha.net/ORDO/Orphanet_811 for SHWACHMAN-DIAMOND SYNDROME from OT Zooma Mappings - match - None\n",
      "INFO:ontoma.interface:Found http://www.orpha.net/ORDO/Orphanet_811 for SHWACHMAN-DIAMOND SYNDROME from OT Zooma Mappings - match - None\n",
      "INFO     - ontoma.interface - Found http://purl.obolibrary.org/obo/MONDO_0013499 for FANCONI ANEMIA COMPLEMENTATION GROUP P from OLS API EFO lookup - match - None\n",
      "INFO:ontoma.interface:Found http://purl.obolibrary.org/obo/MONDO_0013499 for FANCONI ANEMIA COMPLEMENTATION GROUP P from OLS API EFO lookup - match - None\n"
     ]
    },
    {
     "data": {
      "text/plain": [
       "1    Orphanet_2470\n",
       "2     Orphanet_137\n",
       "5    Orphanet_2554\n",
       "6     Orphanet_811\n",
       "7    MONDO_0013499\n",
       "dtype: object"
      ]
     },
     "execution_count": 54,
     "metadata": {},
     "output_type": "execute_result"
    }
   ],
   "source": [
    "(\n",
    "    unmapped\n",
    "    .head()\n",
    "    .apply(map_disease,axis=1)\n",
    ")"
   ]
  },
  {
   "cell_type": "code",
   "execution_count": 51,
   "metadata": {
    "ExecuteTime": {
     "end_time": "2021-06-15T19:33:51.382660Z",
     "start_time": "2021-06-15T19:33:51.374325Z"
    }
   },
   "outputs": [
    {
     "data": {
      "text/html": [
       "<div>\n",
       "<style scoped>\n",
       "    .dataframe tbody tr th:only-of-type {\n",
       "        vertical-align: middle;\n",
       "    }\n",
       "\n",
       "    .dataframe tbody tr th {\n",
       "        vertical-align: top;\n",
       "    }\n",
       "\n",
       "    .dataframe thead th {\n",
       "        text-align: right;\n",
       "    }\n",
       "</style>\n",
       "<table border=\"1\" class=\"dataframe\">\n",
       "  <thead>\n",
       "    <tr style=\"text-align: right;\">\n",
       "      <th></th>\n",
       "      <th>diseaseFromSource</th>\n",
       "      <th>diseaseFromSourceId</th>\n",
       "      <th>diseaseFromSourceMappedId_x</th>\n",
       "      <th>diseaseFromSourceMappedId_y</th>\n",
       "    </tr>\n",
       "  </thead>\n",
       "  <tbody>\n",
       "    <tr>\n",
       "      <th>1</th>\n",
       "      <td>MICROPHTHALMIA SYNDROMIC TYPE 9</td>\n",
       "      <td>601186</td>\n",
       "      <td>Orphanet_2470</td>\n",
       "      <td>NaN</td>\n",
       "    </tr>\n",
       "    <tr>\n",
       "      <th>2</th>\n",
       "      <td>CONGENITAL DISORDERS OF GLYCOSYLATION</td>\n",
       "      <td>612379</td>\n",
       "      <td>Orphanet_137</td>\n",
       "      <td>NaN</td>\n",
       "    </tr>\n",
       "    <tr>\n",
       "      <th>5</th>\n",
       "      <td>MEIER-GORLIN SYNDROME 4</td>\n",
       "      <td>613804</td>\n",
       "      <td>Orphanet_2554</td>\n",
       "      <td>NaN</td>\n",
       "    </tr>\n",
       "    <tr>\n",
       "      <th>6</th>\n",
       "      <td>SHWACHMAN-DIAMOND SYNDROME</td>\n",
       "      <td>260400</td>\n",
       "      <td>Orphanet_811</td>\n",
       "      <td>NaN</td>\n",
       "    </tr>\n",
       "    <tr>\n",
       "      <th>7</th>\n",
       "      <td>FANCONI ANEMIA COMPLEMENTATION GROUP P</td>\n",
       "      <td>613951</td>\n",
       "      <td>MONDO_0013499</td>\n",
       "      <td>NaN</td>\n",
       "    </tr>\n",
       "  </tbody>\n",
       "</table>\n",
       "</div>"
      ],
      "text/plain": [
       "                        diseaseFromSource diseaseFromSourceId  \\\n",
       "1         MICROPHTHALMIA SYNDROMIC TYPE 9              601186   \n",
       "2   CONGENITAL DISORDERS OF GLYCOSYLATION              612379   \n",
       "5                 MEIER-GORLIN SYNDROME 4              613804   \n",
       "6              SHWACHMAN-DIAMOND SYNDROME              260400   \n",
       "7  FANCONI ANEMIA COMPLEMENTATION GROUP P              613951   \n",
       "\n",
       "  diseaseFromSourceMappedId_x diseaseFromSourceMappedId_y  \n",
       "1               Orphanet_2470                         NaN  \n",
       "2                Orphanet_137                         NaN  \n",
       "5               Orphanet_2554                         NaN  \n",
       "6                Orphanet_811                         NaN  \n",
       "7               MONDO_0013499                         NaN  "
      ]
     },
     "execution_count": 51,
     "metadata": {},
     "output_type": "execute_result"
    }
   ],
   "source": [
    "unmapped.head()"
   ]
  },
  {
   "cell_type": "code",
   "execution_count": 75,
   "metadata": {
    "ExecuteTime": {
     "end_time": "2021-06-15T21:49:31.921433Z",
     "start_time": "2021-06-15T21:49:31.910159Z"
    }
   },
   "outputs": [],
   "source": [
    "import pandas as pd \n",
    "\n",
    "class FetchFromFtp(object):\n",
    "\n",
    "    \"\"\"\n",
    "    This class is to retrieve the association table from the most recent GWAS Catalog release.\n",
    "    Expects the ftp host address.\n",
    "\n",
    "    It also returns the release date.\n",
    "    \"\"\"\n",
    "\n",
    "    def __init__(self, url):\n",
    "        self.FTP_HOST = url\n",
    "\n",
    "        # Initialize connection and go to folder:\n",
    "        self.ftps = ftplib.FTP_TLS(self.FTP_HOST)\n",
    "        self.ftps.login()\n",
    "\n",
    "    def fetch_file_list(self, path):\n",
    "        # Get list of files and the date of modification:\n",
    "        files = []\n",
    "        self.ftp.cwd(path)\n",
    "        self.ftp.dir(files.append)\n",
    "\n",
    "        files = [' '.join(x.split()[8:]) for x in files]\n",
    "\n",
    "        return files\n",
    "\n",
    "    def fetch_last_update_date(self, path):\n",
    "        \"\"\"\n",
    "        This function returns the date of the most recently modified file.\n",
    "        \"\"\"\n",
    "\n",
    "        # Get list of files and the date of modification:\n",
    "        files = []\n",
    "        self.ftp.cwd(path)\n",
    "        self.ftp.dir(files.append)\n",
    "\n",
    "        # Get all dates:\n",
    "        dates = [' '.join(x.split()[5:8]) for x in files]\n",
    "        dates_parsed = [parser.parse(x) for x in dates]\n",
    "\n",
    "        release_date = max(dates_parsed)\n",
    "        return release_date.strftime('%Y-%m-%d')\n",
    "\n",
    "    def fetch_file(self, path, file):\n",
    "        sio = io.BytesIO()\n",
    "\n",
    "        def handle_binary(more_data):\n",
    "            sio.write(more_data)\n",
    "\n",
    "        self.ftp.retrbinary(f\"RETR {path}/{file}\", handle_binary)\n",
    "        sio.seek(0)  # Go back to the start\n",
    "        zippy = gzip.GzipFile(fileobj=sio)\n",
    "        return zippy\n",
    "\n",
    "    def fetch_tsv(self, path, file, skiprows=None, header='infer'):\n",
    "        self.tsv_data = pd.read_csv(\n",
    "            f'sftp://{self.FTP_HOST}/{path}/{file}',\n",
    "            sep='\\t', dtype=str, skiprows=skiprows, header=header\n",
    "        )\n",
    "\n",
    "    def close_connection(self):\n",
    "        self.ftp.close()\n"
   ]
  },
  {
   "cell_type": "code",
   "execution_count": 78,
   "metadata": {
    "ExecuteTime": {
     "end_time": "2021-06-16T08:37:45.845606Z",
     "start_time": "2021-06-16T08:37:45.796337Z"
    }
   },
   "outputs": [
    {
     "ename": "TypeError",
     "evalue": "__init__() got an unexpected keyword argument 'user'",
     "output_type": "error",
     "traceback": [
      "\u001b[0;31m---------------------------------------------------------------------------\u001b[0m",
      "\u001b[0;31mTypeError\u001b[0m                                 Traceback (most recent call last)",
      "\u001b[0;32m<ipython-input-78-eb9c662620a5>\u001b[0m in \u001b[0;36m<module>\u001b[0;34m\u001b[0m\n\u001b[0;32m----> 1\u001b[0;31m \u001b[0mf\u001b[0m \u001b[0;34m=\u001b[0m \u001b[0mFetchFromFtp\u001b[0m\u001b[0;34m(\u001b[0m\u001b[0;34m'ftp.ebi.ac.uk'\u001b[0m\u001b[0;34m,\u001b[0m \u001b[0muser\u001b[0m\u001b[0;34m=\u001b[0m\u001b[0;34m''\u001b[0m\u001b[0;34m,\u001b[0m \u001b[0mpasswd\u001b[0m\u001b[0;34m=\u001b[0m\u001b[0;34m''\u001b[0m\u001b[0;34m)\u001b[0m\u001b[0;34m\u001b[0m\u001b[0;34m\u001b[0m\u001b[0m\n\u001b[0m",
      "\u001b[0;31mTypeError\u001b[0m: __init__() got an unexpected keyword argument 'user'"
     ]
    }
   ],
   "source": [
    "f = FetchFromFtp('ftp.ebi.ac.uk')"
   ]
  },
  {
   "cell_type": "code",
   "execution_count": 74,
   "metadata": {
    "ExecuteTime": {
     "end_time": "2021-06-15T21:48:48.655059Z",
     "start_time": "2021-06-15T21:48:48.617401Z"
    }
   },
   "outputs": [
    {
     "ename": "error_perm",
     "evalue": "530 Please login with USER and PASS.",
     "output_type": "error",
     "traceback": [
      "\u001b[0;31m---------------------------------------------------------------------------\u001b[0m",
      "\u001b[0;31merror_perm\u001b[0m                                Traceback (most recent call last)",
      "\u001b[0;32m<ipython-input-74-457bdcb45211>\u001b[0m in \u001b[0;36m<module>\u001b[0;34m\u001b[0m\n\u001b[0;32m----> 1\u001b[0;31m \u001b[0mf\u001b[0m\u001b[0;34m.\u001b[0m\u001b[0mfetch_file_list\u001b[0m\u001b[0;34m(\u001b[0m\u001b[0;34m'/pub/databases/gencode/Gencode_human'\u001b[0m\u001b[0;34m)\u001b[0m\u001b[0;34m\u001b[0m\u001b[0;34m\u001b[0m\u001b[0m\n\u001b[0m",
      "\u001b[0;32m<ipython-input-70-7fb8823730a2>\u001b[0m in \u001b[0;36mfetch_file_list\u001b[0;34m(self, path)\u001b[0m\n\u001b[1;32m     19\u001b[0m         \u001b[0;31m# Get list of files and the date of modification:\u001b[0m\u001b[0;34m\u001b[0m\u001b[0;34m\u001b[0m\u001b[0;34m\u001b[0m\u001b[0m\n\u001b[1;32m     20\u001b[0m         \u001b[0mfiles\u001b[0m \u001b[0;34m=\u001b[0m \u001b[0;34m[\u001b[0m\u001b[0;34m]\u001b[0m\u001b[0;34m\u001b[0m\u001b[0;34m\u001b[0m\u001b[0m\n\u001b[0;32m---> 21\u001b[0;31m         \u001b[0mself\u001b[0m\u001b[0;34m.\u001b[0m\u001b[0mftp\u001b[0m\u001b[0;34m.\u001b[0m\u001b[0mcwd\u001b[0m\u001b[0;34m(\u001b[0m\u001b[0mpath\u001b[0m\u001b[0;34m)\u001b[0m\u001b[0;34m\u001b[0m\u001b[0;34m\u001b[0m\u001b[0m\n\u001b[0m\u001b[1;32m     22\u001b[0m         \u001b[0mself\u001b[0m\u001b[0;34m.\u001b[0m\u001b[0mftp\u001b[0m\u001b[0;34m.\u001b[0m\u001b[0mdir\u001b[0m\u001b[0;34m(\u001b[0m\u001b[0mfiles\u001b[0m\u001b[0;34m.\u001b[0m\u001b[0mappend\u001b[0m\u001b[0;34m)\u001b[0m\u001b[0;34m\u001b[0m\u001b[0;34m\u001b[0m\u001b[0m\n\u001b[1;32m     23\u001b[0m \u001b[0;34m\u001b[0m\u001b[0m\n",
      "\u001b[0;32m~/opt/anaconda3/envs/jupyter/lib/python3.6/ftplib.py\u001b[0m in \u001b[0;36mcwd\u001b[0;34m(self, dirname)\u001b[0m\n\u001b[1;32m    629\u001b[0m             \u001b[0mdirname\u001b[0m \u001b[0;34m=\u001b[0m \u001b[0;34m'.'\u001b[0m  \u001b[0;31m# does nothing, but could return error\u001b[0m\u001b[0;34m\u001b[0m\u001b[0;34m\u001b[0m\u001b[0m\n\u001b[1;32m    630\u001b[0m         \u001b[0mcmd\u001b[0m \u001b[0;34m=\u001b[0m \u001b[0;34m'CWD '\u001b[0m \u001b[0;34m+\u001b[0m \u001b[0mdirname\u001b[0m\u001b[0;34m\u001b[0m\u001b[0;34m\u001b[0m\u001b[0m\n\u001b[0;32m--> 631\u001b[0;31m         \u001b[0;32mreturn\u001b[0m \u001b[0mself\u001b[0m\u001b[0;34m.\u001b[0m\u001b[0mvoidcmd\u001b[0m\u001b[0;34m(\u001b[0m\u001b[0mcmd\u001b[0m\u001b[0;34m)\u001b[0m\u001b[0;34m\u001b[0m\u001b[0;34m\u001b[0m\u001b[0m\n\u001b[0m\u001b[1;32m    632\u001b[0m \u001b[0;34m\u001b[0m\u001b[0m\n\u001b[1;32m    633\u001b[0m     \u001b[0;32mdef\u001b[0m \u001b[0msize\u001b[0m\u001b[0;34m(\u001b[0m\u001b[0mself\u001b[0m\u001b[0;34m,\u001b[0m \u001b[0mfilename\u001b[0m\u001b[0;34m)\u001b[0m\u001b[0;34m:\u001b[0m\u001b[0;34m\u001b[0m\u001b[0;34m\u001b[0m\u001b[0m\n",
      "\u001b[0;32m~/opt/anaconda3/envs/jupyter/lib/python3.6/ftplib.py\u001b[0m in \u001b[0;36mvoidcmd\u001b[0;34m(self, cmd)\u001b[0m\n\u001b[1;32m    276\u001b[0m         \u001b[0;34m\"\"\"Send a command and expect a response beginning with '2'.\"\"\"\u001b[0m\u001b[0;34m\u001b[0m\u001b[0;34m\u001b[0m\u001b[0m\n\u001b[1;32m    277\u001b[0m         \u001b[0mself\u001b[0m\u001b[0;34m.\u001b[0m\u001b[0mputcmd\u001b[0m\u001b[0;34m(\u001b[0m\u001b[0mcmd\u001b[0m\u001b[0;34m)\u001b[0m\u001b[0;34m\u001b[0m\u001b[0;34m\u001b[0m\u001b[0m\n\u001b[0;32m--> 278\u001b[0;31m         \u001b[0;32mreturn\u001b[0m \u001b[0mself\u001b[0m\u001b[0;34m.\u001b[0m\u001b[0mvoidresp\u001b[0m\u001b[0;34m(\u001b[0m\u001b[0;34m)\u001b[0m\u001b[0;34m\u001b[0m\u001b[0;34m\u001b[0m\u001b[0m\n\u001b[0m\u001b[1;32m    279\u001b[0m \u001b[0;34m\u001b[0m\u001b[0m\n\u001b[1;32m    280\u001b[0m     \u001b[0;32mdef\u001b[0m \u001b[0msendport\u001b[0m\u001b[0;34m(\u001b[0m\u001b[0mself\u001b[0m\u001b[0;34m,\u001b[0m \u001b[0mhost\u001b[0m\u001b[0;34m,\u001b[0m \u001b[0mport\u001b[0m\u001b[0;34m)\u001b[0m\u001b[0;34m:\u001b[0m\u001b[0;34m\u001b[0m\u001b[0;34m\u001b[0m\u001b[0m\n",
      "\u001b[0;32m~/opt/anaconda3/envs/jupyter/lib/python3.6/ftplib.py\u001b[0m in \u001b[0;36mvoidresp\u001b[0;34m(self)\u001b[0m\n\u001b[1;32m    249\u001b[0m     \u001b[0;32mdef\u001b[0m \u001b[0mvoidresp\u001b[0m\u001b[0;34m(\u001b[0m\u001b[0mself\u001b[0m\u001b[0;34m)\u001b[0m\u001b[0;34m:\u001b[0m\u001b[0;34m\u001b[0m\u001b[0;34m\u001b[0m\u001b[0m\n\u001b[1;32m    250\u001b[0m         \u001b[0;34m\"\"\"Expect a response beginning with '2'.\"\"\"\u001b[0m\u001b[0;34m\u001b[0m\u001b[0;34m\u001b[0m\u001b[0m\n\u001b[0;32m--> 251\u001b[0;31m         \u001b[0mresp\u001b[0m \u001b[0;34m=\u001b[0m \u001b[0mself\u001b[0m\u001b[0;34m.\u001b[0m\u001b[0mgetresp\u001b[0m\u001b[0;34m(\u001b[0m\u001b[0;34m)\u001b[0m\u001b[0;34m\u001b[0m\u001b[0;34m\u001b[0m\u001b[0m\n\u001b[0m\u001b[1;32m    252\u001b[0m         \u001b[0;32mif\u001b[0m \u001b[0mresp\u001b[0m\u001b[0;34m[\u001b[0m\u001b[0;34m:\u001b[0m\u001b[0;36m1\u001b[0m\u001b[0;34m]\u001b[0m \u001b[0;34m!=\u001b[0m \u001b[0;34m'2'\u001b[0m\u001b[0;34m:\u001b[0m\u001b[0;34m\u001b[0m\u001b[0;34m\u001b[0m\u001b[0m\n\u001b[1;32m    253\u001b[0m             \u001b[0;32mraise\u001b[0m \u001b[0merror_reply\u001b[0m\u001b[0;34m(\u001b[0m\u001b[0mresp\u001b[0m\u001b[0;34m)\u001b[0m\u001b[0;34m\u001b[0m\u001b[0;34m\u001b[0m\u001b[0m\n",
      "\u001b[0;32m~/opt/anaconda3/envs/jupyter/lib/python3.6/ftplib.py\u001b[0m in \u001b[0;36mgetresp\u001b[0;34m(self)\u001b[0m\n\u001b[1;32m    244\u001b[0m             \u001b[0;32mraise\u001b[0m \u001b[0merror_temp\u001b[0m\u001b[0;34m(\u001b[0m\u001b[0mresp\u001b[0m\u001b[0;34m)\u001b[0m\u001b[0;34m\u001b[0m\u001b[0;34m\u001b[0m\u001b[0m\n\u001b[1;32m    245\u001b[0m         \u001b[0;32mif\u001b[0m \u001b[0mc\u001b[0m \u001b[0;34m==\u001b[0m \u001b[0;34m'5'\u001b[0m\u001b[0;34m:\u001b[0m\u001b[0;34m\u001b[0m\u001b[0;34m\u001b[0m\u001b[0m\n\u001b[0;32m--> 246\u001b[0;31m             \u001b[0;32mraise\u001b[0m \u001b[0merror_perm\u001b[0m\u001b[0;34m(\u001b[0m\u001b[0mresp\u001b[0m\u001b[0;34m)\u001b[0m\u001b[0;34m\u001b[0m\u001b[0;34m\u001b[0m\u001b[0m\n\u001b[0m\u001b[1;32m    247\u001b[0m         \u001b[0;32mraise\u001b[0m \u001b[0merror_proto\u001b[0m\u001b[0;34m(\u001b[0m\u001b[0mresp\u001b[0m\u001b[0;34m)\u001b[0m\u001b[0;34m\u001b[0m\u001b[0;34m\u001b[0m\u001b[0m\n\u001b[1;32m    248\u001b[0m \u001b[0;34m\u001b[0m\u001b[0m\n",
      "\u001b[0;31merror_perm\u001b[0m: 530 Please login with USER and PASS."
     ]
    }
   ],
   "source": [
    "f.fetch_file_list('/pub/databases/gencode/Gencode_human')"
   ]
  },
  {
   "cell_type": "code",
   "execution_count": 80,
   "metadata": {
    "ExecuteTime": {
     "end_time": "2021-06-16T08:38:12.521728Z",
     "start_time": "2021-06-16T08:38:12.502197Z"
    }
   },
   "outputs": [],
   "source": [
    "ftps = ftplib.FTP_TLS('ftp.ebi.ac.uk', user=None, passwd=None)\n",
    "ftps."
   ]
  },
  {
   "cell_type": "code",
   "execution_count": null,
   "metadata": {},
   "outputs": [],
   "source": []
  }
 ],
 "metadata": {
  "kernelspec": {
   "display_name": "Python 3",
   "language": "python",
   "name": "python3"
  },
  "language_info": {
   "codemirror_mode": {
    "name": "ipython",
    "version": 3
   },
   "file_extension": ".py",
   "mimetype": "text/x-python",
   "name": "python",
   "nbconvert_exporter": "python",
   "pygments_lexer": "ipython3",
   "version": "3.6.10"
  }
 },
 "nbformat": 4,
 "nbformat_minor": 4
}
