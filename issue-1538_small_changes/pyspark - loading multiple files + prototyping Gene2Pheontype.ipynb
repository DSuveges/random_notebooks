{
 "cells": [
  {
   "cell_type": "code",
   "execution_count": 24,
   "metadata": {
    "ExecuteTime": {
     "end_time": "2021-06-10T08:34:37.887459Z",
     "start_time": "2021-06-10T08:34:28.269524Z"
    }
   },
   "outputs": [
    {
     "name": "stdout",
     "output_type": "stream",
     "text": [
      "-RECORD 0----------------------------------------------------------------\n",
      " datasourceId                   | gene2phenotype                         \n",
      " datatypeId                     | genetic_literature                     \n",
      " targetFromSourceId             | HMX1                                   \n",
      " diseaseFromSource              | OCULOAURICULAR SYNDROME                \n",
      " diseaseFromSourceId            | 612109                                 \n",
      " confidence                     | probable                               \n",
      " studyId                        | DD                                     \n",
      " literature                     | [18423520]                             \n",
      " allelicRequirements            | [biallelic]                            \n",
      " variantFunctionalConsequenceId | SO_0002054                             \n",
      "-RECORD 1----------------------------------------------------------------\n",
      " datasourceId                   | gene2phenotype                         \n",
      " datatypeId                     | genetic_literature                     \n",
      " targetFromSourceId             | SLX4                                   \n",
      " diseaseFromSource              | FANCONI ANEMIA COMPLEMENTATION GROUP P \n",
      " diseaseFromSourceId            | 613951                                 \n",
      " confidence                     | confirmed                              \n",
      " studyId                        | DD                                     \n",
      " literature                     | [21240275, 21240277]                   \n",
      " allelicRequirements            | [biallelic]                            \n",
      " variantFunctionalConsequenceId | SO_0002054                             \n",
      "only showing top 2 rows\n",
      "\n"
     ]
    }
   ],
   "source": [
    "from pyspark.sql import SparkSession\n",
    "from pyspark.sql.functions import split, col, udf, lit\n",
    "from pyspark.sql.types import StringType, IntegerType, TimestampType, StructType\n",
    "\n",
    "# establish spark connection\n",
    "spark = (\n",
    "    SparkSession.builder\n",
    "    .master('local[*]')\n",
    "    .getOrCreate()\n",
    ")\n",
    "\n",
    "G2P_mutationCsq2functionalCsq = {\n",
    "    'loss of function': 'SO_0002054',  # loss_of_function_variant\n",
    "    'all missense/in frame': 'SO_0001650',  # inframe_variant\n",
    "    'uncertain': 'SO_0002220',  # function_uncertain_variant\n",
    "    'activating': 'SO_0002053',  # gain_of_function_variant\n",
    "    'dominant negative': 'SO_0002052',  # dominant_negative_variant\n",
    "    '': None,\n",
    "    'gain of function': 'SO_0002053',  # gain_of_function_variant\n",
    "    'cis-regulatory or promotor mutation': 'SO_0001566',  # regulatory_region_variant\n",
    "    '5_prime or 3_prime UTR mutation': 'SO_0001622',  # UTR_variant\n",
    "    'increased gene dosage': 'SO_0001911',  # copy_number_increase\n",
    "    'part of contiguous gene duplication': 'SO_1000173'  # tandem_duplication\n",
    "}\n",
    "\n",
    "def translate(mapping):\n",
    "    def translate_(col):\n",
    "        return mapping.get(col)\n",
    "    return udf(translate_, StringType())\n",
    "\n",
    "\n",
    "\n",
    "# List of INTOGen files:\n",
    "intogen_files = [\n",
    "    '/Users/dsuveges/repositories/evidence_datasource_parsers/resources/CancerG2P.csv.gz',\n",
    "    '/Users/dsuveges/repositories/evidence_datasource_parsers/resources/DDG2P.csv.gz',\n",
    "    '/Users/dsuveges/repositories/evidence_datasource_parsers/resources/EyeG2P.csv.gz',\n",
    "    '/Users/dsuveges/repositories/evidence_datasource_parsers/resources/SkinG2P.csv.gz'\n",
    "]\n",
    "\n",
    "\n",
    "# Specify schema -> this schema is applied for all INTOGen files:\n",
    "intogen_schema = (\n",
    "    StructType()\n",
    "    .add('gene_symbol', StringType())\n",
    "    .add('gene_mim', IntegerType())\n",
    "    .add('disease_name', StringType())\n",
    "    .add('disease_mim', StringType())\n",
    "    .add('DDD_category', StringType())\n",
    "    .add('allelic_requirement_list', StringType())\n",
    "    .add('mutation_consequence', StringType())\n",
    "    .add('phenotype_list', StringType())\n",
    "    .add('organ_specificity_list', StringType())\n",
    "    .add('pmid_list', StringType())\n",
    "    .add('panel', StringType())\n",
    "    .add('prev_symbol_list', StringType())\n",
    "    .add('hgnc_id', IntegerType())\n",
    "    .add('gene_disease_entry_date', TimestampType())\n",
    ")\n",
    "\n",
    "# Load all files for one go:\n",
    "intogen_data = (\n",
    "    spark.read.csv(intogen_files, schema=intogen_schema, enforceSchema=True, header=True)\n",
    "    \n",
    "    # Split pubmed IDs to list:\n",
    "    .withColumn('literature', split(col('pmid_list'), ';'))\n",
    "    \n",
    "    # Split phenotypes:\n",
    "    .withColumn('phenotypes', split(col('phenotype_list'), ';'))\n",
    "    \n",
    "    # Split organ specificity:\n",
    "    .withColumn('organ_specificities', split(col('organ_specificity_list'), ';'))\n",
    "    \n",
    "    # Split allelic requirements:\n",
    "    .withColumn('allelicRequirements', split(col('allelic_requirement_list'), ';'))\n",
    "     \n",
    ")\n",
    "\n",
    "evidence_df = (\n",
    "    intogen_data\n",
    "    \n",
    "    # Renaming columns:\n",
    "    .withColumnRenamed('gene_symbol', 'targetFromSourceId')\n",
    "    .withColumnRenamed('disease_mim', 'diseaseFromSourceId')\n",
    "    .withColumnRenamed('disease_name', 'diseaseFromSource')\n",
    "    .withColumnRenamed('panel', 'studyId')\n",
    "    .withColumnRenamed('DDD_category', 'confidence')\n",
    "    \n",
    "    # Map functional consequences:\n",
    "    .withColumn(\"variantFunctionalConsequenceId\", translate(G2P_mutationCsq2functionalCsq)(\"mutation_consequence\"))\n",
    "   \n",
    "    # Adding literature columns:\n",
    "    .withColumn('datasourceId', lit('gene2phenotype'))\n",
    "    .withColumn('datatypeId', lit('genetic_literature'))\n",
    "    \n",
    "    # Selecting relevant columns:\n",
    "    .select(\n",
    "        'datasourceId', 'datatypeId', 'targetFromSourceId', 'diseaseFromSource',\n",
    "        'diseaseFromSourceId', 'confidence', 'studyId', 'literature', \n",
    "        'allelicRequirements', 'variantFunctionalConsequenceId'\n",
    "    )\n",
    ")\n",
    "\n",
    "\n",
    "\n",
    "evidence_df.show(2, vertical=True, truncate=False)\n",
    "\n"
   ]
  },
  {
   "cell_type": "code",
   "execution_count": 28,
   "metadata": {
    "ExecuteTime": {
     "end_time": "2021-05-16T07:38:53.842455Z",
     "start_time": "2021-05-16T07:38:53.724966Z"
    }
   },
   "outputs": [
    {
     "name": "stdout",
     "output_type": "stream",
     "text": [
      "(0 rows)\n",
      "\n"
     ]
    }
   ],
   "source": [
    "intogen_data.filter(\n",
    "    F.col('mutation_consequence').isNotNull() & \n",
    "    F.col('variantFunctionalConsequenceId').isNull()).show(20, vertical=True, truncate=False)"
   ]
  },
  {
   "cell_type": "code",
   "execution_count": 34,
   "metadata": {
    "ExecuteTime": {
     "end_time": "2021-05-16T08:42:45.766319Z",
     "start_time": "2021-05-16T08:42:45.657915Z"
    }
   },
   "outputs": [
    {
     "name": "stdout",
     "output_type": "stream",
     "text": [
      "-RECORD 0--------------------------------------------------------------------------------------------------------------------------------------------------------------------------------------------------\n",
      " gene_symbol                    | ERBB3                                                                                                                                                                    \n",
      " gene_mim                       | 190151                                                                                                                                                                   \n",
      " disease_name                   | LETHAL CONGENITAL CONTRACTURE SYNDROME TYPE 2                                                                                                                            \n",
      " disease_mim                    | 607598                                                                                                                                                                   \n",
      " DDD_category                   | possible                                                                                                                                                                 \n",
      " allelic_requirement_list       | biallelic                                                                                                                                                                \n",
      " mutation_consequence           | uncertain                                                                                                                                                                \n",
      " phenotype_list                 | HP:0000007;HP:0000126;HP:0002304;HP:0000347;HP:0001629;HP:0003202;HP:0002878;HP:0000969;HP:0007964;HP:0001558;HP:0001561;HP:0002804;HP:0001644;HP:0011003                \n",
      " organ_specificity_list         | Skeleton;Spinal cord/Peripheral nerves                                                                                                                                   \n",
      " pmid_list                      | null                                                                                                                                                                     \n",
      " panel                          | DD                                                                                                                                                                       \n",
      " prev_symbol_list               | LCCS2                                                                                                                                                                    \n",
      " hgnc_id                        | 3431                                                                                                                                                                     \n",
      " gene_disease_entry_date        | 2015-07-22 16:15:12                                                                                                                                                      \n",
      " literature                     | null                                                                                                                                                                     \n",
      " phenotypes                     | [HP:0000007, HP:0000126, HP:0002304, HP:0000347, HP:0001629, HP:0003202, HP:0002878, HP:0000969, HP:0007964, HP:0001558, HP:0001561, HP:0002804, HP:0001644, HP:0011003] \n",
      " organ_specificities            | [Skeleton, Spinal cord/Peripheral nerves]                                                                                                                                \n",
      " allelicRequirements            | [biallelic]                                                                                                                                                              \n",
      " variantFunctionalConsequenceId | SO_0002220                                                                                                                                                               \n",
      "-RECORD 1--------------------------------------------------------------------------------------------------------------------------------------------------------------------------------------------------\n",
      " gene_symbol                    | ERBB3                                                                                                                                                                    \n",
      " gene_mim                       | 190151                                                                                                                                                                   \n",
      " disease_name                   | Hirschprung disease with intestinal pseudo-obstruction                                                                                                                   \n",
      " disease_mim                    | No disease mim                                                                                                                                                           \n",
      " DDD_category                   | probable                                                                                                                                                                 \n",
      " allelic_requirement_list       | biallelic                                                                                                                                                                \n",
      " mutation_consequence           | all missense/in frame                                                                                                                                                    \n",
      " phenotype_list                 | HP:0004389;HP:0002251                                                                                                                                                    \n",
      " organ_specificity_list         | GI tract                                                                                                                                                                 \n",
      " pmid_list                      | null                                                                                                                                                                     \n",
      " panel                          | DD                                                                                                                                                                       \n",
      " prev_symbol_list               | LCCS2                                                                                                                                                                    \n",
      " hgnc_id                        | 3431                                                                                                                                                                     \n",
      " gene_disease_entry_date        | 2018-11-06 10:35:38                                                                                                                                                      \n",
      " literature                     | null                                                                                                                                                                     \n",
      " phenotypes                     | [HP:0004389, HP:0002251]                                                                                                                                                 \n",
      " organ_specificities            | [GI tract]                                                                                                                                                               \n",
      " allelicRequirements            | [biallelic]                                                                                                                                                              \n",
      " variantFunctionalConsequenceId | SO_0001650                                                                                                                                                               \n",
      "-RECORD 2--------------------------------------------------------------------------------------------------------------------------------------------------------------------------------------------------\n",
      " gene_symbol                    | ERBB3                                                                                                                                                                    \n",
      " gene_mim                       | 190151                                                                                                                                                                   \n",
      " disease_name                   | LETHAL CONGENITAL CONTRACTURE SYNDROME TYPE 2                                                                                                                            \n",
      " disease_mim                    | 607598                                                                                                                                                                   \n",
      " DDD_category                   | probable                                                                                                                                                                 \n",
      " allelic_requirement_list       | biallelic                                                                                                                                                                \n",
      " mutation_consequence           | uncertain                                                                                                                                                                \n",
      " phenotype_list                 | HP:0000126;HP:0000007;HP:0002304;HP:0001629;HP:0000347;HP:0003202;HP:0002878;HP:0000969;HP:0007964;HP:0001561;HP:0001558;HP:0002804;HP:0001644;HP:0011003                \n",
      " organ_specificity_list         | Spinal cord/Peripheral nerves;Skeleton;Eye: Vitreous;Eye: Retina;Eye: Physiology;Heart/Cardiovasculature/Lymphatic                                                       \n",
      " pmid_list                      | 17701904                                                                                                                                                                 \n",
      " panel                          | Eye                                                                                                                                                                      \n",
      " prev_symbol_list               | LCCS2                                                                                                                                                                    \n",
      " hgnc_id                        | 3431                                                                                                                                                                     \n",
      " gene_disease_entry_date        | 2018-06-03 17:33:49                                                                                                                                                      \n",
      " literature                     | [17701904]                                                                                                                                                               \n",
      " phenotypes                     | [HP:0000126, HP:0000007, HP:0002304, HP:0001629, HP:0000347, HP:0003202, HP:0002878, HP:0000969, HP:0007964, HP:0001561, HP:0001558, HP:0002804, HP:0001644, HP:0011003] \n",
      " organ_specificities            | [Spinal cord/Peripheral nerves, Skeleton, Eye: Vitreous, Eye: Retina, Eye: Physiology, Heart/Cardiovasculature/Lymphatic]                                                \n",
      " allelicRequirements            | [biallelic]                                                                                                                                                              \n",
      " variantFunctionalConsequenceId | SO_0002220                                                                                                                                                               \n",
      "\n"
     ]
    }
   ],
   "source": [
    "(\n",
    "    intogen_data\n",
    "    .filter( F.col('hgnc_id')=='3431')\n",
    "    .show(vertical=True, truncate=False)\n",
    ")"
   ]
  },
  {
   "cell_type": "code",
   "execution_count": 49,
   "metadata": {
    "ExecuteTime": {
     "end_time": "2021-05-16T21:17:58.490336Z",
     "start_time": "2021-05-16T21:17:58.487083Z"
    }
   },
   "outputs": [],
   "source": [
    "import ontoma"
   ]
  },
  {
   "cell_type": "code",
   "execution_count": 50,
   "metadata": {
    "ExecuteTime": {
     "end_time": "2021-05-16T21:18:16.409329Z",
     "start_time": "2021-05-16T21:17:58.766260Z"
    }
   },
   "outputs": [
    {
     "name": "stderr",
     "output_type": "stream",
     "text": [
      "INFO     - ontoma.downloaders - ZOOMA to EFO mappings - Parsed 3663 rows\n",
      "INFO     - ontoma.downloaders - OMIM to EFO mappings - Parsed 8561 rows\n",
      "INFO     - ontoma.interface - EFO OBO parsed. Size: 26947 nodes\n",
      "INFO     - ontoma.interface - Parsed 125463 Name to EFO mapping \n",
      "INFO     - ontoma.interface - Found http://www.orpha.net/ORDO/Orphanet_157962 for OCULOAURICULAR SYNDROME from EFO OBO - match - None\n"
     ]
    },
    {
     "data": {
      "text/plain": [
       "{'term': 'http://www.orpha.net/ORDO/Orphanet_157962',\n",
       " 'label': 'Oculoauricular syndrome, Schorderet type',\n",
       " 'source': 'EFO OBO',\n",
       " 'quality': 'match',\n",
       " 'action': None}"
      ]
     },
     "execution_count": 50,
     "metadata": {},
     "output_type": "execute_result"
    }
   ],
   "source": [
    "ont_obj = ontoma.interface.OnToma()\n",
    "\n",
    "disease_name = \"OCULOAURICULAR SYNDROME\"\n",
    "\n",
    "ont_obj.find_term(disease_name, verbose=True)"
   ]
  },
  {
   "cell_type": "code",
   "execution_count": null,
   "metadata": {
    "code_folding": [
     7
    ]
   },
   "outputs": [],
   "source": [
    "disease_term = None\n",
    "\n",
    "\n",
    "# Get ontoma mapping:\n",
    "ontoma_mapping = ont_obj.find_term(disease_name, verbose=True)\n",
    "\n",
    "# If something returned:\n",
    "if ontoma_mapping:\n",
    "    \n",
    "    # \n",
    "    if ontoma_mapping['action'] is None:\n",
    "        disease_term = ontoma_mapping['label']\n",
    "    \n",
    "    # Mactch found:\n",
    "    elif ontoma_mapping['quality'] == 'match':\n",
    "        \n",
    "        # Match in HP or ORDO, check if there is a match in MONDO too. If so, give preference to MONDO hit\n",
    "        mondo_mapping = self.search_mondo(disease_name)\n",
    "        if mondo_mapping:\n",
    "            if mondo_mapping['exact']:\n",
    "                logging.info(f\"Using MONDO match\")\n",
    "                return mondo_mapping\n",
    "            else:\n",
    "                logging.info(f\"No exact matches in MONDO, using OnToma results\")\n",
    "                return {'id': ontoma_mapping['term'], 'name': ontoma_mapping['label']}\n",
    "        else:\n",
    "            logging.info(f\"No match in MONDO, using OnToma results\")\n",
    "            return {'id': ontoma_mapping['term'], 'name': ontoma_mapping['label']} "
   ]
  },
  {
   "cell_type": "code",
   "execution_count": 111,
   "metadata": {
    "ExecuteTime": {
     "end_time": "2021-06-11T01:53:48.805354Z",
     "start_time": "2021-06-11T01:53:06.590010Z"
    },
    "code_folding": []
   },
   "outputs": [
    {
     "name": "stderr",
     "output_type": "stream",
     "text": [
      "INFO     - ontoma.downloaders - ZOOMA to EFO mappings - Parsed 3663 rows\n",
      "INFO:ontoma.downloaders:ZOOMA to EFO mappings - Parsed 3663 rows\n",
      "INFO     - ontoma.downloaders - OMIM to EFO mappings - Parsed 8561 rows\n",
      "INFO:ontoma.downloaders:OMIM to EFO mappings - Parsed 8561 rows\n"
     ]
    },
    {
     "name": "stdout",
     "output_type": "stream",
     "text": [
      "+--------------------+-------------------+-------------------------+\n",
      "|   diseaseFromSource|diseaseFromSourceId|diseaseFromSourceMappedId|\n",
      "+--------------------+-------------------+-------------------------+\n",
      "|SPLIT HAND AND FO...|             220600|                     null|\n",
      "|SEVERE COBBLESTON...|             615041|                     null|\n",
      "|   PFEIFFER SYNDROME|             101600|             Orphanet_710|\n",
      "|CONGENITAL ICHTHY...|     No disease mim|          Orphanet_183435|\n",
      "|MENTAL RETARDATIO...|             613192|                     null|\n",
      "|MENTAL RETARDATIO...|             612621|                     null|\n",
      "|MUCOPOLYSACCHARID...|             253000|          Orphanet_309297|\n",
      "|Severe Infantile ...|     No disease mim|                     null|\n",
      "|Retinitis pigment...|             613767|             Orphanet_791|\n",
      "|    Oguchi disease-2|             613411|           Orphanet_75382|\n",
      "+--------------------+-------------------+-------------------------+\n",
      "\n"
     ]
    }
   ],
   "source": [
    "import logging\n",
    "\n",
    "class disease_map(object):\n",
    "    \n",
    "    def __init__(self):\n",
    "        self.ontoma = ontoma.interface.OnToma()\n",
    "\n",
    "    def map_disease(self, disease_name, omim_id):\n",
    "        logging.info(f\"Mapping '{disease_name}'\")\n",
    "\n",
    "        # Search disease name using OnToma and accept perfect matches\n",
    "        ontoma_mapping = self.ontoma.find_term(disease_name, verbose=True)\n",
    "        \n",
    "        # If there's some mapping available:\n",
    "        if ontoma_mapping:\n",
    "            \n",
    "            # Extracting term if no action is required:\n",
    "            if ontoma_mapping['action'] is None:\n",
    "                return ontoma_mapping\n",
    "                \n",
    "            # When there is an exact match, but action is required:\n",
    "            elif ontoma_mapping['quality'] == \"match\":\n",
    "                \n",
    "                # Match in HP or ORDO, check if there is a match in MONDO too. If so, give preference to MONDO hit\n",
    "                mondo_mapping = self.search_mondo(disease_name)\n",
    "                \n",
    "                if mondo_mapping:\n",
    "                    # Mondo mapping good - return\n",
    "                    if mondo_mapping['exact']:\n",
    "                        return mondo_mapping\n",
    "                    # Mondo mapping bad - return ontoma\n",
    "                    else:\n",
    "                        return ontoma_mapping \n",
    "                else:\n",
    "                    # Mondo mapping bad - return ontoma\n",
    "                    return ontoma_mapping\n",
    "\n",
    "            else:\n",
    "                # OnToma fuzzy match. First check if the mapping term has a xref to the OMIM id. \n",
    "                # If not, check in MONDO and if there is not match ignore evidence and report disease\n",
    "                if self.ontoma.get_efo_from_xref(f\"OMIM:{omim_id}\"):\n",
    "                    for efo_xref in self.ontoma.get_efo_from_xref(f\"OMIM:{omim_id}\"):\n",
    "                        # Extract EFO id from OnToma results\n",
    "                        efo_id = ontoma_mapping['term'].split('/')[-1].replace('_', ':')\n",
    "\n",
    "                        if efo_id == efo_xref['id']:\n",
    "                            return ontoma_mapping\n",
    "\n",
    "                # xref search didn't work, try MONDO as the last resort\n",
    "                mondo_mapping = self.search_mondo(disease_name)\n",
    "                if mondo_mapping:\n",
    "                    if mondo_mapping['exact']:\n",
    "                        return mondo_mapping\n",
    "                    else:\n",
    "                        return None\n",
    "                else:\n",
    "                    # Record the unmapped disease\n",
    "                    return None\n",
    "\n",
    "        else:\n",
    "            # No match in EFO, HP or ORDO\n",
    "            mondo_mapping = self.search_mondo(disease_name)\n",
    "            if mondo_mapping:\n",
    "                if mondo_mapping['exact']:\n",
    "                    return mondo_mapping\n",
    "                else:\n",
    "                    return None\n",
    "            else:\n",
    "                return None\n",
    "\n",
    "            \n",
    "    def search_mondo(self, disease_name):\n",
    "\n",
    "        disease_name = disease_name.lower()\n",
    "\n",
    "        # mondo_lookup works like a dictionary lookup so if disease is not in there it raises and error instead of returning `None`\n",
    "        try:\n",
    "            mondo_term = self.ontoma.mondo_lookup(disease_name)\n",
    "            return {\n",
    "                'id': mondo_term, \n",
    "                'name': self.ontoma.get_mondo_label(mondo_term), \n",
    "                'exact': True\n",
    "            }\n",
    "        except KeyError as e:\n",
    "            exact_ols_mondo = self.ontoma._ols.besthit(disease_name, ontology=['mondo'], field_list=['iri', 'label'], exact=True)\n",
    "            \n",
    "            if exact_ols_mondo:\n",
    "                return {'term': exact_ols_mondo['iri'], 'name': exact_ols_mondo['label'], 'exact':True}\n",
    "            \n",
    "            else:\n",
    "                ols_mondo = self.ontoma._ols.besthit(disease_name,\n",
    "                                                     ontology=['mondo'],\n",
    "                                                     field_list=['iri', 'label'],\n",
    "                                                     bytype='class')\n",
    "                if ols_mondo:\n",
    "                    return {'term': ols_mondo['iri'], 'name': ols_mondo['label'], 'exact': False}\n",
    "                else:\n",
    "                    return None\n",
    "\n",
    "\n",
    "dm_obj = disease_map()\n",
    "\n",
    "\n",
    "# UDF to look up EFO mappings:\n",
    "@udf(StringType())\n",
    "def map_disease(label, disease_id):\n",
    "    lookup = dm_obj.map_disease(label, disease_id)\n",
    "    if lookup:\n",
    "        return lookup['term'].split('/')[-1]\n",
    "    else:\n",
    "        return None\n",
    "    \n",
    "diseases = (\n",
    "    evidence_df\n",
    "    .select('diseaseFromSource', 'diseaseFromSourceId')\n",
    "    .distinct()\n",
    "    .limit(10)\n",
    "    .withColumn('diseaseFromSourceMappedId', map_disease(col('diseaseFromSource'), col('diseaseFromSourceId')))\n",
    "    .persist()\n",
    ")\n",
    "\n",
    "diseases.s"
   ]
  },
  {
   "cell_type": "code",
   "execution_count": 82,
   "metadata": {
    "ExecuteTime": {
     "end_time": "2021-06-11T01:24:28.640218Z",
     "start_time": "2021-06-11T01:24:21.482189Z"
    }
   },
   "outputs": [
    {
     "name": "stdout",
     "output_type": "stream",
     "text": [
      "+--------------------+-------------------+-------------------------+\n",
      "|   diseaseFromSource|diseaseFromSourceId|diseaseFromSourceMappedId|\n",
      "+--------------------+-------------------+-------------------------+\n",
      "|SPLIT HAND AND FO...|             220600|                     null|\n",
      "|SEVERE COBBLESTON...|             615041|                     null|\n",
      "|   PFEIFFER SYNDROME|             101600|                     null|\n",
      "|CONGENITAL ICHTHY...|     No disease mim|                     null|\n",
      "|MENTAL RETARDATIO...|             613192|                     null|\n",
      "|MENTAL RETARDATIO...|             612621|                     null|\n",
      "|MUCOPOLYSACCHARID...|             253000|                     null|\n",
      "|Severe Infantile ...|     No disease mim|                     null|\n",
      "|Retinitis pigment...|             613767|                     null|\n",
      "|    Oguchi disease-2|             613411|                     null|\n",
      "+--------------------+-------------------+-------------------------+\n",
      "\n"
     ]
    }
   ],
   "source": [
    "diseases = (\n",
    "    evidence_df\n",
    "    .select('diseaseFromSource', 'diseaseFromSourceId')\n",
    "    .distinct()\n",
    "    .limit(10)\n",
    "    .withColumn('diseaseFromSourceMappedId', map_disease(col('diseaseFromSource'), col('diseaseFromSourceId')))\n",
    "    .persist()\n",
    ")\n",
    "\n",
    "\n",
    "diseases.show()"
   ]
  },
  {
   "cell_type": "code",
   "execution_count": 48,
   "metadata": {
    "ExecuteTime": {
     "end_time": "2021-06-10T22:32:25.520056Z",
     "start_time": "2021-06-10T22:32:25.516644Z"
    }
   },
   "outputs": [],
   "source": [
    "@udf(StringType())\n",
    "def map_disease(label, disease_id):\n",
    "    lookup = dm_obj.map_disease(label, disease_id)\n",
    "    if lookup:\n",
    "        return lookup['id'].split('/')[-1]\n",
    "    else:\n",
    "        return None\n",
    "    \n"
   ]
  },
  {
   "cell_type": "code",
   "execution_count": 113,
   "metadata": {
    "ExecuteTime": {
     "end_time": "2021-06-12T17:41:55.359886Z",
     "start_time": "2021-06-12T17:41:17.181544Z"
    }
   },
   "outputs": [
    {
     "name": "stdout",
     "output_type": "stream",
     "text": [
      "220600\n",
      "615041\n",
      "101600\n",
      "No disease mim\n",
      "613192\n",
      "612621\n",
      "253000\n",
      "No disease mim\n",
      "613767\n",
      "613411\n"
     ]
    }
   ],
   "source": [
    "mapped_diseases = (\n",
    "    diseases\n",
    "    .limit(10)\n",
    "    .withColumn('diseaseFromSourceMappedId', map_disease(col('diseaseFromSource'), col('diseaseFromSourceId')))\n",
    "    .persist()\n",
    ")\n",
    "\n",
    "for i, row in mapped_diseases.toPandas().iterrows():\n",
    "    print(row['diseaseFromSourceId'])"
   ]
  },
  {
   "cell_type": "code",
   "execution_count": 114,
   "metadata": {
    "ExecuteTime": {
     "end_time": "2021-06-12T17:42:06.791596Z",
     "start_time": "2021-06-12T17:42:06.755576Z"
    }
   },
   "outputs": [
    {
     "name": "stdout",
     "output_type": "stream",
     "text": [
      "220600\n",
      "615041\n",
      "101600\n",
      "No disease mim\n",
      "613192\n",
      "612621\n",
      "253000\n",
      "No disease mim\n",
      "613767\n",
      "613411\n"
     ]
    }
   ],
   "source": [
    "for _, row in mapped_diseases.toPandas().iterrows():\n",
    "    print(row['diseaseFromSourceId'])"
   ]
  }
 ],
 "metadata": {
  "kernelspec": {
   "display_name": "Python 3",
   "language": "python",
   "name": "python3"
  },
  "language_info": {
   "codemirror_mode": {
    "name": "ipython",
    "version": 3
   },
   "file_extension": ".py",
   "mimetype": "text/x-python",
   "name": "python",
   "nbconvert_exporter": "python",
   "pygments_lexer": "ipython3",
   "version": "3.6.10"
  },
  "toc": {
   "base_numbering": 1,
   "nav_menu": {},
   "number_sections": true,
   "sideBar": true,
   "skip_h1_title": false,
   "title_cell": "Table of Contents",
   "title_sidebar": "Contents",
   "toc_cell": false,
   "toc_position": {},
   "toc_section_display": true,
   "toc_window_display": false
  }
 },
 "nbformat": 4,
 "nbformat_minor": 4
}
