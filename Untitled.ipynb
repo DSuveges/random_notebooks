{
 "cells": [
  {
   "cell_type": "code",
   "execution_count": 4,
   "metadata": {
    "ExecuteTime": {
     "end_time": "2021-04-19T11:38:34.836575Z",
     "start_time": "2021-04-19T11:38:34.832551Z"
    }
   },
   "outputs": [],
   "source": [
    "import logging\n",
    "import requests\n",
    "import re\n",
    "import sys\n",
    "import os \n",
    "\n",
    "from requests.adapters import HTTPAdapter\n",
    "from requests.packages.urllib3.util.retry import Retry\n",
    "\n",
    "import time\n",
    "from bs4 import BeautifulSoup, UnicodeDammit\n",
    "\n",
    "from faker import Faker\n"
   ]
  },
  {
   "cell_type": "code",
   "execution_count": 244,
   "metadata": {
    "ExecuteTime": {
     "end_time": "2021-04-23T00:20:38.335297Z",
     "start_time": "2021-04-23T00:20:36.668995Z"
    },
    "code_folding": [
     36,
     44,
     57,
     75,
     99
    ]
   },
   "outputs": [
    {
     "name": "stdout",
     "output_type": "stream",
     "text": [
      "URL type: photo\n",
      "Base URL: https://www.imagefap.com\n",
      "Gallery name: Violet:_Petite_cutie_strips_out_of_jeans_[Blue_Eyes]\n",
      "Gallery URL: https://www.imagefap.com/gallery.php?gid=9453495\n",
      "Successfully created the directory /Users/dsuveges/project/random_notebooks/Violet:_Petite_cutie_strips_out_of_jeans_[Blue_Eyes]\n"
     ]
    }
   ],
   "source": [
    "class gallery_retrieval(object):\n",
    "    \n",
    "    \n",
    "    def __init__(self, url):\n",
    "        \n",
    "        # What url is this:\n",
    "        url_type = self.what_url_is_this(url)\n",
    "        self.base_url = url.rsplit('/', 3)[0]\n",
    "        \n",
    "        # Get things done:\n",
    "        first_page_soup = self.fetch_url(url)\n",
    "        self.gallery_name = get_gallery_name(first_page_soup)\n",
    "        self.gallery_folder = os.path.join(os.getcwd(), self.gallery_name)\n",
    "        \n",
    "        # Based on the url type we need to get the gallery url:\n",
    "        self.gallery_url = url if url_type == 'gallery' else self.get_gallery_url(first_page_soup)\n",
    "        \n",
    "        print(f'URL type: {url_type}')\n",
    "        print(f'Base URL: {base_url}')\n",
    "        print(f'Gallery name: {self.gallery_name}')\n",
    "        print(f'Gallery URL: {self.gallery_url}')\n",
    "        \n",
    "        # Initialize empty list for image urls:\n",
    "        self.image_urls = []\n",
    "        \n",
    "        self.get_image_urls_from_gallery(self.gallery_url)\n",
    "        \n",
    "        # Create gallery:\n",
    "        try:\n",
    "            os.makedirs(self.gallery_folder, exist_ok = True)\n",
    "        except OSError:\n",
    "            print (\"Creation of the directory %s failed\" % self.gallery_folder)\n",
    "        else:\n",
    "            print (\"Successfully created the directory %s\" % self.gallery_folder)\n",
    "        \n",
    "      \n",
    "    def fetch_all_photos(self):\n",
    "        return 1\n",
    "    \n",
    "    @staticmethod\n",
    "    def get_gallery_url(soup):\n",
    "        return [x.get('href') for x in soup.findAll('a') if '/gallery.php?' in x.get('href')][0]\n",
    "        \n",
    "    @staticmethod\n",
    "    def what_url_is_this(url):\n",
    "        '''\n",
    "        Classifying urls to 'gallery', 'photo' or 'other'\n",
    "        '''\n",
    "\n",
    "        if re.match('https:\\/\\/www\\.image.+pictures\\/\\d+\\/.+', url):\n",
    "            return 'gallery'\n",
    "        elif re.match('https:\\/\\/www\\.image.+photo\\/\\d+', url):\n",
    "            return 'photo'\n",
    "        else:\n",
    "            return 'other'\n",
    "\n",
    "    @staticmethod\n",
    "    def fetch_url(url):\n",
    "        '''\n",
    "        fethc the provided url and returns a soup object\n",
    "        '''\n",
    "        response = requests.get(url)\n",
    "\n",
    "        # Returned html document:\n",
    "        html = response.text\n",
    "\n",
    "        # Html encoded into utf8:\n",
    "        uhtml = UnicodeDammit(html)\n",
    "\n",
    "        # Creating soup:\n",
    "        soup = BeautifulSoup(uhtml.unicode_markup, features=\"html.parser\")\n",
    "\n",
    "        return soup\n",
    "    \n",
    "    @staticmethod\n",
    "    def get_gallery_name(soup):\n",
    "        '''\n",
    "        From a soup object, parsed gallery name is returned.\n",
    "        Not 100% perfect: in theory it could fail, but haven't\n",
    "        seen any galleries breaking.\n",
    "        '''\n",
    "\n",
    "        # Finding relevant td-s:\n",
    "        tds = [td for td in soup.findAll('td') if 'Uploaded' in td.text and not td.find('td')]\n",
    "\n",
    "        title = ''\n",
    "\n",
    "        # This might fail, but will test if something has been found:\n",
    "        for td in tds:\n",
    "            try:\n",
    "                title += [x for x in tds[0].text.split('\\n') if x != ''][0]\n",
    "            except:\n",
    "                continue\n",
    "\n",
    "        if title == '':\n",
    "            title = None\n",
    "        else:\n",
    "            title = title.replace(' ', '_')\n",
    "    \n",
    "    def get_image_urls_from_gallery(self, gallery_url):\n",
    "        \"\"\"\n",
    "        Based on a soup of a gellery page, we get a parsable url:\n",
    "        \"\"\"\n",
    "        \n",
    "        # Fetch gallery:\n",
    "        soup = self.fetch_url(gallery_url)\n",
    "        \n",
    "        # Collect all urls on the first page:\n",
    "        for a in soup.findAll('a'):\n",
    "            if a.find('img') and a.get('href').startswith('/photo'):\n",
    "                \n",
    "                # Adding completed URL to the list:\n",
    "                self.image_urls.append(f\"{self.base_url}{a.get('href')}\")\n",
    "        \n",
    "        # Is there a next page:\n",
    "        next_page_urls = [a.get('href') for a in soup.findAll('a') if a.text == ':: next ::']\n",
    "        \n",
    "        if len(next_page_urls) > 0:\n",
    "            next_page_url = f'{self.gallery_url}{next_page_urls[0]}'\n",
    "            self.get_image_urls_from_gallery(next_page_url)\n",
    "    \n",
    "    def save_images(self):\n",
    "        '''\n",
    "        This function downloads all image pages and saves relevant metadata + saves photo\n",
    "        '''\n",
    "        print('Fetching images...', end = '')\n",
    "        for image_url in self.image_urls:\n",
    "            \n",
    "            # Fetch data:\n",
    "            soup = self.fetch_url(image_url)\n",
    "            \n",
    "            # Extract image id:\n",
    "            image_id = re.search('\\/photo\\/(\\d+)', image_url).group(1)\n",
    "            \n",
    "            # Extract image name:\n",
    "            image_name = soup.find('title').text.split('rn Pic ')[0][:-3]\n",
    "            \n",
    "            # Extract image url:\n",
    "            image_links = [img.get('src') for img in soup.findAll('img') if img.get('src') and '/images/full' in img.get('src')]\n",
    "            if len(image_links) == 0:\n",
    "                print(f'Failed to find image url for this page: {image_url}')\n",
    "                continue\n",
    "            \n",
    "            # Save image\n",
    "            image_data = requests.get(image_links[0])\n",
    "            with open(f'{self.gallery_folder}/{image_name}', 'wb') as image_file:\n",
    "                image_file.write(image_data.content)\n",
    "                \n",
    "            print('.', end = '')\n",
    "        \n",
    "# gr = gallery_retrieval('https://www.imagefap.com/pictures/390765/Amateur-Strike-Again%21-22')    # gallery\n",
    "# gr = gallery_retrieval('https://www.imagefap.com/photo/2060212603/?pgid=&gid=2789739&page=0') # picture\n",
    "# gr = gallery_retrieval('https://www.imagefap.com/pictures/9453495/Violet-Petite-cutie-strips-out-of-jeans-%5BBlue-Eyes%5D') # gallery\n",
    "gr = gallery_retrieval('https://www.imagefap.com/photo/1585417929/') # photo\n",
    "\n"
   ]
  },
  {
   "cell_type": "code",
   "execution_count": 245,
   "metadata": {
    "ExecuteTime": {
     "end_time": "2021-04-23T00:23:30.632575Z",
     "start_time": "2021-04-23T00:20:48.943509Z"
    },
    "scrolled": false
   },
   "outputs": [
    {
     "name": "stdout",
     "output_type": "stream",
     "text": [
      "Fetching images.............................................................................................................................."
     ]
    }
   ],
   "source": [
    "gr.save_images()"
   ]
  },
  {
   "cell_type": "code",
   "execution_count": 169,
   "metadata": {
    "ExecuteTime": {
     "end_time": "2021-04-22T22:18:05.461059Z",
     "start_time": "2021-04-22T22:18:05.178806Z"
    }
   },
   "outputs": [],
   "source": [
    "\n",
    "url = 'https://www.imagefap.com/photo/1684190954/?pgid=&gid=8420383&page=0#38'\n",
    "soup = fetch_url(url)\n",
    "soup.find('div', _class='slideshow')\n"
   ]
  },
  {
   "cell_type": "code",
   "execution_count": 182,
   "metadata": {
    "ExecuteTime": {
     "end_time": "2021-04-22T22:30:55.705020Z",
     "start_time": "2021-04-22T22:30:55.486180Z"
    }
   },
   "outputs": [],
   "source": [
    "gallery_url = 'https://www.imagefap.com/pictures/8724883/wife-bisexual-woman-swing-couple-oral-blowjob-ass-1'\n",
    "\n",
    "soup = fetch_url(gallery_url)"
   ]
  },
  {
   "cell_type": "code",
   "execution_count": 185,
   "metadata": {
    "ExecuteTime": {
     "end_time": "2021-04-22T22:35:10.147212Z",
     "start_time": "2021-04-22T22:35:10.139002Z"
    }
   },
   "outputs": [
    {
     "data": {
      "text/plain": [
       "['/photo/360894076/?pgid=&gid=8724883&page=0',\n",
       " '/photo/117813974/?pgid=&gid=8724883&page=0',\n",
       " '/photo/1199163290/?pgid=&gid=8724883&page=0',\n",
       " '/photo/341278414/?pgid=&gid=8724883&page=0',\n",
       " '/photo/921124432/?pgid=&gid=8724883&page=0',\n",
       " '/photo/325939700/?pgid=&gid=8724883&page=0',\n",
       " '/photo/934341260/?pgid=&gid=8724883&page=0',\n",
       " '/photo/1713872469/?pgid=&gid=8724883&page=0',\n",
       " '/photo/1431521971/?pgid=&gid=8724883&page=0',\n",
       " '/photo/884350586/?pgid=&gid=8724883&page=0',\n",
       " '/photo/2121117270/?pgid=&gid=8724883&page=0',\n",
       " '/photo/1569406567/?pgid=&gid=8724883&page=0',\n",
       " '/photo/1677538498/?pgid=&gid=8724883&page=0',\n",
       " '/photo/2131442903/?pgid=&gid=8724883&page=0',\n",
       " '/photo/2115945624/?pgid=&gid=8724883&page=0',\n",
       " '/photo/1616470083/?pgid=&gid=8724883&page=0',\n",
       " '/photo/617837806/?pgid=&gid=8724883&page=0',\n",
       " '/photo/1081567058/?pgid=&gid=8724883&page=0',\n",
       " '/photo/38794906/?pgid=&gid=8724883&page=0',\n",
       " '/photo/1288684627/?pgid=&gid=8724883&page=0',\n",
       " '/photo/1329314726/?pgid=&gid=8724883&page=0',\n",
       " '/photo/1960259644/?pgid=&gid=8724883&page=0',\n",
       " '/photo/1816423493/?pgid=&gid=8724883&page=0',\n",
       " '/photo/1086734246/?pgid=&gid=8724883&page=0']"
      ]
     },
     "execution_count": 185,
     "metadata": {},
     "output_type": "execute_result"
    }
   ],
   "source": [
    "[a.get('href') for a in soup.findAll('a') if a.find('img') and a.get('href').startswith('/photo')]"
   ]
  },
  {
   "cell_type": "code",
   "execution_count": 200,
   "metadata": {
    "ExecuteTime": {
     "end_time": "2021-04-22T23:12:57.586279Z",
     "start_time": "2021-04-22T23:12:57.580287Z"
    }
   },
   "outputs": [
    {
     "data": {
      "text/plain": [
       "{'?gid=8724883&page=1&view=0'}"
      ]
     },
     "execution_count": 200,
     "metadata": {},
     "output_type": "execute_result"
    }
   ],
   "source": [
    "[a.get('href') for a in soup.findAll('a') if a.text == ':: next ::']\n"
   ]
  },
  {
   "cell_type": "code",
   "execution_count": 208,
   "metadata": {
    "ExecuteTime": {
     "end_time": "2021-04-22T23:55:24.194136Z",
     "start_time": "2021-04-22T23:55:23.969916Z"
    }
   },
   "outputs": [],
   "source": [
    "image_url = 'https://www.imagefap.com/photo/118569449/?pgid=&gid=9453495&page=0'\n",
    "\n",
    "soup = fetch_url(image_url)\n",
    "\n"
   ]
  },
  {
   "cell_type": "code",
   "execution_count": 234,
   "metadata": {
    "ExecuteTime": {
     "end_time": "2021-04-23T00:13:03.110645Z",
     "start_time": "2021-04-23T00:13:03.102081Z"
    }
   },
   "outputs": [
    {
     "data": {
      "text/plain": [
       "[]"
      ]
     },
     "execution_count": 234,
     "metadata": {},
     "output_type": "execute_result"
    }
   ],
   "source": [
    "image_links = [a.get('href') for a in soup.findAll('a') if a.find('img') and a.get('href').startswith('/photo')]\n",
    "image_links"
   ]
  },
  {
   "cell_type": "code",
   "execution_count": 240,
   "metadata": {
    "ExecuteTime": {
     "end_time": "2021-04-23T00:17:19.442251Z",
     "start_time": "2021-04-23T00:17:19.438136Z"
    }
   },
   "outputs": [],
   "source": [
    "il = [img.get('src') for img in soup.findAll('img') if img.get('src') and '/images/full' in img.get('src')]"
   ]
  },
  {
   "cell_type": "code",
   "execution_count": 243,
   "metadata": {
    "ExecuteTime": {
     "end_time": "2021-04-23T00:18:17.470703Z",
     "start_time": "2021-04-23T00:18:16.668102Z"
    }
   },
   "outputs": [],
   "source": [
    "image_data = requests.get(il[0])\n",
    "with open('cicaful.jpg', 'wb') as image:\n",
    "    image.write(image_data.content)"
   ]
  },
  {
   "cell_type": "code",
   "execution_count": 248,
   "metadata": {
    "ExecuteTime": {
     "end_time": "2021-04-23T14:17:30.174184Z",
     "start_time": "2021-04-23T14:17:27.860237Z"
    }
   },
   "outputs": [
    {
     "name": "stdout",
     "output_type": "stream",
     "text": [
      "Spark version:  3.0.0\n"
     ]
    }
   ],
   "source": [
    "import pyspark.sql\n",
    "from pyspark.sql.types import *\n",
    "from pyspark.sql.functions import *\n",
    "from pyspark import SparkContext\n",
    "import re\n",
    "\n",
    "global spark\n",
    "\n",
    "# SparkContext.setSystemProperty('spark.executor.memory', '20g')\n",
    "\n",
    "spark = (pyspark.sql.SparkSession\n",
    "    .builder\n",
    "    .appName(\"phenodigm_parser\")\n",
    "    .config(\"spark.executor.memory\", '10g')\n",
    "     .config(\"spark.driver.bindAddress\", \"localhost\")\n",
    "    .config(\"spark.driver.memory\", '10g')\n",
    "    .getOrCreate()\n",
    ")\n",
    "\n",
    "#   \n",
    "\n",
    "\n",
    "print('Spark version: ', spark.version)\n"
   ]
  },
  {
   "cell_type": "code",
   "execution_count": 249,
   "metadata": {
    "ExecuteTime": {
     "end_time": "2021-04-23T14:18:28.514619Z",
     "start_time": "2021-04-23T14:18:25.141402Z"
    }
   },
   "outputs": [],
   "source": [
    "target_file = '/Users/dsuveges/project_data/ot/target_index/targets'\n",
    "tdf=(\n",
    "    spark.read.parquet(target_file)\n",
    "    .persist()\n",
    ")"
   ]
  },
  {
   "cell_type": "code",
   "execution_count": 255,
   "metadata": {
    "ExecuteTime": {
     "end_time": "2021-04-23T14:20:30.688954Z",
     "start_time": "2021-04-23T14:20:30.108282Z"
    }
   },
   "outputs": [],
   "source": [
    "(\n",
    "    tdf\n",
    "    .filter(col('approvedSymbol') == 'ABI1')\n",
    "    .select(col('hallMarks'))\n",
    "    .write.json('cicaful.json')\n",
    "    \n",
    ")"
   ]
  },
  {
   "cell_type": "code",
   "execution_count": 257,
   "metadata": {
    "ExecuteTime": {
     "end_time": "2021-04-23T14:20:54.600788Z",
     "start_time": "2021-04-23T14:20:54.540330Z"
    },
    "scrolled": false
   },
   "outputs": [
    {
     "name": "stdout",
     "output_type": "stream",
     "text": [
      "{\n",
      "  \"hallMarks\": {\n",
      "    \"attributes\": [\n",
      "      {\n",
      "        \"pmid\": 16025998,\n",
      "        \"attribute_name\": \"role in cancer\",\n",
      "        \"description\": \"TSG\"\n",
      "      },\n",
      "      {\n",
      "        \"pmid\": 9694699,\n",
      "        \"attribute_name\": \"role in cancer\",\n",
      "        \"description\": \"fusion\"\n",
      "      },\n",
      "      {\n",
      "        \"pmid\": 23552839,\n",
      "        \"attribute_name\": \"role in cancer\",\n",
      "        \"description\": \"TSG\"\n",
      "      },\n",
      "      {\n",
      "        \"pmid\": 9694699,\n",
      "        \"attribute_name\": \"fusion partner\",\n",
      "        \"description\": \"KMT2A\"\n",
      "      },\n",
      "      {\n",
      "        \"pmid\": 23552839,\n",
      "        \"attribute_name\": \"mouse model\",\n",
      "        \"description\": \"development of prostatic intraepithelial neoplasia was observed in 8-month-old Abi1 knockout mice, but no progression beyond PIN was observed in mice as old as 12 months\"\n",
      "      },\n",
      "      {\n",
      "        \"pmid\": 28339046,\n",
      "        \"attribute_name\": \"role in cancer\",\n",
      "        \"description\": \"oncogene\"\n",
      "      }\n",
      "    ],\n",
      "    \"cancer_hallmarks\": [\n",
      "      {\n",
      "        \"pmid\": 28339046,\n",
      "        \"description\": \"overexpression of ABI1 increases and KD decreases cell proliferation\",\n",
      "        \"label\": \"proliferative signalling\",\n",
      "        \"promote\": true,\n",
      "        \"suppress\": false\n",
      "      },\n",
      "      {\n",
      "        \"pmid\": 28339046,\n",
      "        \"description\": \"overexpression of ABI1 increases and KD decreases cell migration and invasion \",\n",
      "        \"label\": \"invasion and metastasis\",\n",
      "        \"promote\": true,\n",
      "        \"suppress\": false\n",
      "      },\n",
      "      {\n",
      "        \"pmid\": 9010225,\n",
      "        \"description\": \"fibroblasts overexpressing e3B1 have reduced growth compared to matched controls \",\n",
      "        \"label\": \"suppression of growth\",\n",
      "        \"promote\": true,\n",
      "        \"suppress\": false\n",
      "      },\n",
      "      {\n",
      "        \"pmid\": 18453543,\n",
      "        \"description\": \"KD inhibits the Bcr-Abl-stimulated abnormal cytoskeleton remodeling and Bcr-Abl-stimulated cell adhesion and migration on fibronectin-coated surfaces\",\n",
      "        \"label\": \"invasion and metastasis\",\n",
      "        \"promote\": true,\n",
      "        \"suppress\": false\n",
      "      },\n",
      "      {\n",
      "        \"pmid\": 26473374,\n",
      "        \"description\": \"loss of the Abi1 gene enhances the Crk Tyr251 Abl axis to promote aggressive behavior in tumor cells\",\n",
      "        \"label\": \"invasion and metastasis\",\n",
      "        \"promote\": false,\n",
      "        \"suppress\": true\n",
      "      },\n",
      "      {\n",
      "        \"pmid\": 24913355,\n",
      "        \"description\": \"promotes tumour cell adhesion, extracellular matrix degradation and invasion\",\n",
      "        \"label\": \"invasion and metastasis\",\n",
      "        \"promote\": true,\n",
      "        \"suppress\": false\n",
      "      },\n",
      "      {\n",
      "        \"pmid\": 17951403,\n",
      "        \"description\": \"KD decreases invasiveness and migration ability and decreases adhesion on collagen IV\",\n",
      "        \"label\": \"invasion and metastasis\",\n",
      "        \"promote\": true,\n",
      "        \"suppress\": false\n",
      "      },\n",
      "      {\n",
      "        \"pmid\": 17951403,\n",
      "        \"description\": \"KD decreases cell proliferation\",\n",
      "        \"label\": \"proliferative signalling\",\n",
      "        \"promote\": true,\n",
      "        \"suppress\": false\n",
      "      }\n",
      "    ],\n",
      "    \"function_summary\": [\n",
      "      {\n",
      "        \"pmid\": 9694699,\n",
      "        \"description\": \"Abl-interacting adaptor protein\"\n",
      "      },\n",
      "      {\n",
      "        \"pmid\": 10499589,\n",
      "        \"description\": \"participates in the transduction of signals from Ras to Rac\"\n",
      "      }\n",
      "    ]\n",
      "  }\n",
      "}\n"
     ]
    }
   ],
   "source": [
    "%%bash\n",
    "\n",
    "cat cicaful.json/*json | jq"
   ]
  },
  {
   "cell_type": "code",
   "execution_count": 261,
   "metadata": {
    "ExecuteTime": {
     "end_time": "2021-04-24T18:21:31.663972Z",
     "start_time": "2021-04-24T18:21:31.526090Z"
    }
   },
   "outputs": [],
   "source": [
    "import requests\n",
    "import json\n",
    "from faker import Faker\n",
    "from random import randint, choice\n",
    "import time\n",
    "\n",
    "# Initialize a localized faker:\n",
    "fake = Faker('en_GB')"
   ]
  },
  {
   "cell_type": "code",
   "execution_count": 262,
   "metadata": {
    "ExecuteTime": {
     "end_time": "2021-04-24T18:21:41.099958Z",
     "start_time": "2021-04-24T18:21:41.092271Z"
    }
   },
   "outputs": [
    {
     "data": {
      "text/plain": [
       "'4548251852346782'"
      ]
     },
     "execution_count": 262,
     "metadata": {},
     "output_type": "execute_result"
    }
   ],
   "source": [
    "fake.credit_card_number(card_type='visa')"
   ]
  },
  {
   "cell_type": "code",
   "execution_count": 280,
   "metadata": {
    "ExecuteTime": {
     "end_time": "2021-04-24T18:49:28.925066Z",
     "start_time": "2021-04-24T18:49:26.544399Z"
    }
   },
   "outputs": [],
   "source": [
    "import requests\n",
    "\n",
    "\n",
    "url = 'https://parcelforce-uk.com/delivery?tracking=EA584319218AF'\n",
    "\n",
    "headers = {'User-Agent': 'Mozilla/5.0 (Macintosh; Intel Mac OS X 10_10_1) AppleWebKit/537.36 (KHTML, like Gecko) Chrome/39.0.2171.95 Safari/537.36'}\n",
    "\n",
    "response = requests.get(url, headers=headers)\n",
    "\n"
   ]
  },
  {
   "cell_type": "code",
   "execution_count": 282,
   "metadata": {
    "ExecuteTime": {
     "end_time": "2021-04-24T18:49:48.735264Z",
     "start_time": "2021-04-24T18:49:48.731168Z"
    }
   },
   "outputs": [
    {
     "data": {
      "text/plain": [
       "'PHPSESSID=74a3ec5fee129975666dd604026a5458; path=/'"
      ]
     },
     "execution_count": 282,
     "metadata": {},
     "output_type": "execute_result"
    }
   ],
   "source": [
    "response.headers['set-cookie']"
   ]
  },
  {
   "cell_type": "code",
   "execution_count": 1,
   "metadata": {
    "ExecuteTime": {
     "end_time": "2021-05-13T08:45:09.709650Z",
     "start_time": "2021-05-13T08:45:00.993589Z"
    }
   },
   "outputs": [
    {
     "data": {
      "text/plain": [
       "0"
      ]
     },
     "execution_count": 1,
     "metadata": {},
     "output_type": "execute_result"
    }
   ],
   "source": [
    "files = '/Users/dsuveges/project_data/interaction_fix/fix-interactions-parquet/interactionEvidence/'\n",
    "\n",
    "from pyspark.sql import SparkSession\n",
    "import pyspark.sql.functions as F\n",
    "\n",
    "# establish spark connection\n",
    "spark = (\n",
    "    SparkSession.builder\n",
    "    .master('local[*]')\n",
    "    .getOrCreate()\n",
    ")\n",
    "\n",
    "(\n",
    "    spark.read.parquet(files)\n",
    "    .select(F.col('targetB'), F.col('targetA'))\n",
    "    .filter(F.col('targetB').isNull() | F.col('targetA').isNull())\n",
    "    .count()\n",
    ")\n"
   ]
  },
  {
   "cell_type": "code",
   "execution_count": 3,
   "metadata": {
    "ExecuteTime": {
     "end_time": "2021-05-13T08:48:35.247300Z",
     "start_time": "2021-05-13T08:48:35.081692Z"
    }
   },
   "outputs": [
    {
     "name": "stdout",
     "output_type": "stream",
     "text": [
      "root\n",
      " |-- interactionTypeMiIdentifier: string (nullable = true)\n",
      " |-- targetB: string (nullable = true)\n",
      " |-- evidenceScore: double (nullable = true)\n",
      " |-- intBBiologicalRole: string (nullable = true)\n",
      " |-- interactionResources: struct (nullable = true)\n",
      " |    |-- databaseVersion: string (nullable = true)\n",
      " |    |-- sourceDatabase: string (nullable = true)\n",
      " |-- participantDetectionMethodB: array (nullable = true)\n",
      " |    |-- element: struct (containsNull = true)\n",
      " |    |    |-- miIdentifier: string (nullable = true)\n",
      " |    |    |-- shortName: string (nullable = true)\n",
      " |-- expansionMethodShortName: string (nullable = true)\n",
      " |-- interactionDetectionMethodShortName: string (nullable = true)\n",
      " |-- intA: string (nullable = true)\n",
      " |-- intBSource: string (nullable = true)\n",
      " |-- participantDetectionMethodA: array (nullable = true)\n",
      " |    |-- element: struct (containsNull = true)\n",
      " |    |    |-- miIdentifier: string (nullable = true)\n",
      " |    |    |-- shortName: string (nullable = true)\n",
      " |-- speciesB: struct (nullable = true)\n",
      " |    |-- mnemonic: string (nullable = true)\n",
      " |    |-- scientificName: string (nullable = true)\n",
      " |    |-- taxonId: long (nullable = true)\n",
      " |-- interactionIdentifier: string (nullable = true)\n",
      " |-- hostOrganismScientificName: string (nullable = true)\n",
      " |-- speciesA: struct (nullable = true)\n",
      " |    |-- mnemonic: string (nullable = true)\n",
      " |    |-- scientificName: string (nullable = true)\n",
      " |    |-- taxonId: long (nullable = true)\n",
      " |-- intASource: string (nullable = true)\n",
      " |-- intB: string (nullable = true)\n",
      " |-- pubmedId: string (nullable = true)\n",
      " |-- intABiologicalRole: string (nullable = true)\n",
      " |-- interactionScore: double (nullable = true)\n",
      " |-- hostOrganismTaxId: long (nullable = true)\n",
      " |-- expansionMethodMiIdentifier: string (nullable = true)\n",
      " |-- targetA: string (nullable = true)\n",
      " |-- interactionTypeShortName: string (nullable = true)\n",
      " |-- interactionDetectionMethodMiIdentifier: string (nullable = true)\n",
      "\n"
     ]
    }
   ],
   "source": [
    "(\n",
    "    spark.read.parquet(files)\n",
    "    .printSchema()\n",
    ")"
   ]
  },
  {
   "cell_type": "code",
   "execution_count": 4,
   "metadata": {
    "ExecuteTime": {
     "end_time": "2021-05-14T09:02:24.587602Z",
     "start_time": "2021-05-14T09:02:24.481620Z"
    }
   },
   "outputs": [
    {
     "name": "stdout",
     "output_type": "stream",
     "text": [
      "/Users/dsuveges/project/random_notebooks\n"
     ]
    }
   ],
   "source": [
    "%%bash\n",
    "\n",
    "mkdir \n"
   ]
  },
  {
   "cell_type": "code",
   "execution_count": null,
   "metadata": {},
   "outputs": [],
   "source": []
  }
 ],
 "metadata": {
  "kernelspec": {
   "display_name": "Python 3",
   "language": "python",
   "name": "python3"
  },
  "language_info": {
   "codemirror_mode": {
    "name": "ipython",
    "version": 3
   },
   "file_extension": ".py",
   "mimetype": "text/x-python",
   "name": "python",
   "nbconvert_exporter": "python",
   "pygments_lexer": "ipython3",
   "version": "3.6.10"
  }
 },
 "nbformat": 4,
 "nbformat_minor": 4
}
