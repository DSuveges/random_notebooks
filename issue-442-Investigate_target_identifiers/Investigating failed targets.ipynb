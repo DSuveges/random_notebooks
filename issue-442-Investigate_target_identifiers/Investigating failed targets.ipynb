{
 "cells": [
  {
   "cell_type": "code",
   "execution_count": 6,
   "metadata": {
    "ExecuteTime": {
     "end_time": "2021-05-27T13:23:15.779875Z",
     "start_time": "2021-05-27T13:23:15.759802Z"
    }
   },
   "outputs": [
    {
     "data": {
      "text/html": [
       "<div>\n",
       "<style scoped>\n",
       "    .dataframe tbody tr th:only-of-type {\n",
       "        vertical-align: middle;\n",
       "    }\n",
       "\n",
       "    .dataframe tbody tr th {\n",
       "        vertical-align: top;\n",
       "    }\n",
       "\n",
       "    .dataframe thead th {\n",
       "        text-align: right;\n",
       "    }\n",
       "</style>\n",
       "<table border=\"1\" class=\"dataframe\">\n",
       "  <thead>\n",
       "    <tr style=\"text-align: right;\">\n",
       "      <th></th>\n",
       "      <th>targetFromSourceId</th>\n",
       "      <th>datasourceIds</th>\n",
       "      <th>evidenceCount</th>\n",
       "    </tr>\n",
       "  </thead>\n",
       "  <tbody>\n",
       "    <tr>\n",
       "      <th>2</th>\n",
       "      <td>ENSG00000269881</td>\n",
       "      <td>[ot_genetics_portal, expression_atlas]</td>\n",
       "      <td>48</td>\n",
       "    </tr>\n",
       "    <tr>\n",
       "      <th>3</th>\n",
       "      <td>ENSG00000130489</td>\n",
       "      <td>[ot_genetics_portal, expression_atlas]</td>\n",
       "      <td>45</td>\n",
       "    </tr>\n",
       "    <tr>\n",
       "      <th>4</th>\n",
       "      <td>ENSG00000254462</td>\n",
       "      <td>[ot_genetics_portal]</td>\n",
       "      <td>43</td>\n",
       "    </tr>\n",
       "    <tr>\n",
       "      <th>5</th>\n",
       "      <td>ENSG00000283932</td>\n",
       "      <td>[ot_genetics_portal]</td>\n",
       "      <td>42</td>\n",
       "    </tr>\n",
       "    <tr>\n",
       "      <th>6</th>\n",
       "      <td>ENSG00000278272</td>\n",
       "      <td>[ot_genetics_portal, expression_atlas]</td>\n",
       "      <td>36</td>\n",
       "    </tr>\n",
       "  </tbody>\n",
       "</table>\n",
       "</div>"
      ],
      "text/plain": [
       "  targetFromSourceId                           datasourceIds  evidenceCount\n",
       "2    ENSG00000269881  [ot_genetics_portal, expression_atlas]             48\n",
       "3    ENSG00000130489  [ot_genetics_portal, expression_atlas]             45\n",
       "4    ENSG00000254462                    [ot_genetics_portal]             43\n",
       "5    ENSG00000283932                    [ot_genetics_portal]             42\n",
       "6    ENSG00000278272  [ot_genetics_portal, expression_atlas]             36"
      ]
     },
     "execution_count": 6,
     "metadata": {},
     "output_type": "execute_result"
    }
   ],
   "source": [
    "import json\n",
    "import pandas as pd \n",
    "\n",
    "\n",
    "failed_targets = (\n",
    "    pd.read_csv('failed_targets.tsv', sep='\\t')\n",
    "    .drop('unnamed', axis=1)\n",
    "    .loc[ lambda x: x['datasourceIds'].apply(lambda y: 'ot_genetics_portal' in y)]\n",
    ")\n",
    "failed_targets.head()"
   ]
  },
  {
   "cell_type": "code",
   "execution_count": 11,
   "metadata": {
    "ExecuteTime": {
     "end_time": "2021-05-27T13:25:30.900552Z",
     "start_time": "2021-05-27T13:25:30.895496Z"
    }
   },
   "outputs": [
    {
     "name": "stdout",
     "output_type": "stream",
     "text": [
      "Number of targets: 39\n",
      "Number of failing evidence: 551\n",
      "List of gene ids: \n",
      "ENSG00000269881\n",
      "ENSG00000130489\n",
      "ENSG00000254462\n",
      "ENSG00000283932\n",
      "ENSG00000278272\n",
      "ENSG00000270898\n",
      "ENSG00000278500\n",
      "ENSG00000261833\n",
      "ENSG00000274267\n",
      "ENSG00000204683\n",
      "ENSG00000285258\n",
      "ENSG00000267545\n",
      "ENSG00000286169\n",
      "ENSG00000263264\n",
      "ENSG00000181013\n",
      "ENSG00000243444\n",
      "ENSG00000241978\n",
      "ENSG00000268861\n",
      "ENSG00000183729\n",
      "ENSG00000260300\n",
      "ENSG00000130723\n",
      "ENSG00000286094\n",
      "ENSG00000183791\n",
      "ENSG00000284041\n",
      "ENSG00000267697\n",
      "ENSG00000213865\n",
      "ENSG00000274897\n",
      "ENSG00000285441\n",
      "ENSG00000260869\n",
      "ENSG00000277669\n",
      "ENSG00000213029\n",
      "ENSG00000281028\n",
      "ENSG00000274744\n",
      "ENSG00000262621\n",
      "ENSG00000278674\n",
      "ENSG00000272949\n",
      "ENSG00000286261\n",
      "ENSG00000277726\n",
      "ENSG00000255863\n"
     ]
    }
   ],
   "source": [
    "print(f'Number of targets: {len(failed_targets)}')\n",
    "print(f'Number of failing evidence: {failed_targets.evidenceCount.sum()}')\n",
    "print('List of gene ids: \\n' + '\\n'.join(failed_targets.targetFromSourceId.tolist()))"
   ]
  },
  {
   "cell_type": "markdown",
   "metadata": {},
   "source": [
    "The above list is submitted to Ensembl id mapping tool to get some information on id history: https://www.ensembl.org/Homo_sapiens/Tools/IDMapper"
   ]
  },
  {
   "cell_type": "code",
   "execution_count": 14,
   "metadata": {
    "ExecuteTime": {
     "end_time": "2021-05-27T13:45:26.630207Z",
     "start_time": "2021-05-27T13:45:26.590749Z"
    }
   },
   "outputs": [],
   "source": [
    "%%bash \n",
    "\n",
    "cat <(echo -e \"Ensembl_gene_id\\tstatus\\tversion\") \\\n",
    "    <(grep retired mapped_ids.txt | awk '{OFS=\"\\t\"}{print $1, $2, $3}')  \\\n",
    "    > retired_ids.tsv"
   ]
  },
  {
   "cell_type": "code",
   "execution_count": 42,
   "metadata": {
    "ExecuteTime": {
     "end_time": "2021-05-27T14:00:33.550576Z",
     "start_time": "2021-05-27T14:00:33.533495Z"
    }
   },
   "outputs": [
    {
     "name": "stdout",
     "output_type": "stream",
     "text": [
      "    status  version          gene_id\n",
      "0  retired       97  ENSG00000269881\n",
      "1  retired       97  ENSG00000130489\n",
      "2  retired       99  ENSG00000254462\n",
      "3  retired       97  ENSG00000283932\n",
      "4  retired       97  ENSG00000278272\n",
      "Number of unique gene ids: 39\n",
      "Earliest release: 97\n",
      "Releases when ids got retired:\n",
      "97     16\n",
      "98      5\n",
      "99      1\n",
      "100     3\n",
      "101     8\n",
      "102     2\n",
      "103     4\n",
      "Name: version, dtype: int64\n"
     ]
    }
   ],
   "source": [
    "retired_df = (\n",
    "    pd.read_csv('retired_ids.tsv', sep='\\t')\n",
    "    .assign(\n",
    "        gene_id= lambda x: x['Ensembl_gene_id'].str.split('.').apply(lambda z: z[0]),\n",
    "        status= lambda x: x['status'].str.replace(r'[<>,]', ''),\n",
    "        version= lambda x: x['version'].str.replace(',', '').astype(int)\n",
    "    )\n",
    "    .drop('Ensembl_gene_id', axis=1)\n",
    ")\n",
    "print(retired_df.head())\n",
    "print(f'Number of unique gene ids: {len(retired_df.gene_id.unique())}')\n",
    "print(f'Earliest release: {retired_df.version.min()}')\n",
    "print('Releases when ids got retired:')\n",
    "print(retired_df[\"version\"].value_counts().sort_index())"
   ]
  },
  {
   "cell_type": "code",
   "execution_count": 35,
   "metadata": {
    "ExecuteTime": {
     "end_time": "2021-05-27T13:55:13.302258Z",
     "start_time": "2021-05-27T13:55:13.293367Z"
    }
   },
   "outputs": [
    {
     "data": {
      "text/html": [
       "<div>\n",
       "<style scoped>\n",
       "    .dataframe tbody tr th:only-of-type {\n",
       "        vertical-align: middle;\n",
       "    }\n",
       "\n",
       "    .dataframe tbody tr th {\n",
       "        vertical-align: top;\n",
       "    }\n",
       "\n",
       "    .dataframe thead th {\n",
       "        text-align: right;\n",
       "    }\n",
       "</style>\n",
       "<table border=\"1\" class=\"dataframe\">\n",
       "  <thead>\n",
       "    <tr style=\"text-align: right;\">\n",
       "      <th></th>\n",
       "      <th>targetFromSourceId</th>\n",
       "      <th>datasourceIds</th>\n",
       "      <th>evidenceCount</th>\n",
       "    </tr>\n",
       "  </thead>\n",
       "  <tbody>\n",
       "    <tr>\n",
       "      <th>2</th>\n",
       "      <td>ENSG00000269881</td>\n",
       "      <td>[ot_genetics_portal, expression_atlas]</td>\n",
       "      <td>48</td>\n",
       "    </tr>\n",
       "    <tr>\n",
       "      <th>3</th>\n",
       "      <td>ENSG00000130489</td>\n",
       "      <td>[ot_genetics_portal, expression_atlas]</td>\n",
       "      <td>45</td>\n",
       "    </tr>\n",
       "    <tr>\n",
       "      <th>4</th>\n",
       "      <td>ENSG00000254462</td>\n",
       "      <td>[ot_genetics_portal]</td>\n",
       "      <td>43</td>\n",
       "    </tr>\n",
       "    <tr>\n",
       "      <th>5</th>\n",
       "      <td>ENSG00000283932</td>\n",
       "      <td>[ot_genetics_portal]</td>\n",
       "      <td>42</td>\n",
       "    </tr>\n",
       "    <tr>\n",
       "      <th>6</th>\n",
       "      <td>ENSG00000278272</td>\n",
       "      <td>[ot_genetics_portal, expression_atlas]</td>\n",
       "      <td>36</td>\n",
       "    </tr>\n",
       "  </tbody>\n",
       "</table>\n",
       "</div>"
      ],
      "text/plain": [
       "  targetFromSourceId                           datasourceIds  evidenceCount\n",
       "2    ENSG00000269881  [ot_genetics_portal, expression_atlas]             48\n",
       "3    ENSG00000130489  [ot_genetics_portal, expression_atlas]             45\n",
       "4    ENSG00000254462                    [ot_genetics_portal]             43\n",
       "5    ENSG00000283932                    [ot_genetics_portal]             42\n",
       "6    ENSG00000278272  [ot_genetics_portal, expression_atlas]             36"
      ]
     },
     "execution_count": 35,
     "metadata": {},
     "output_type": "execute_result"
    }
   ],
   "source": [
    "failed_targets.head()"
   ]
  },
  {
   "cell_type": "code",
   "execution_count": 48,
   "metadata": {
    "ExecuteTime": {
     "end_time": "2021-05-27T14:14:31.466032Z",
     "start_time": "2021-05-27T14:14:31.446154Z"
    }
   },
   "outputs": [
    {
     "name": "stdout",
     "output_type": "stream",
     "text": [
      "| targetFromSourceId   |   evidenceCount | status   |   version |\n",
      "|:---------------------|----------------:|:---------|----------:|\n",
      "| ENSG00000269881      |              48 | retired  |        97 |\n",
      "| ENSG00000130489      |              45 | retired  |        97 |\n",
      "| ENSG00000254462      |              43 | retired  |        99 |\n",
      "| ENSG00000283932      |              42 | retired  |        97 |\n",
      "| ENSG00000278272      |              36 | retired  |        97 |\n",
      "| ENSG00000270898      |              34 | retired  |        97 |\n",
      "| ENSG00000278500      |              32 | retired  |        97 |\n",
      "| ENSG00000261833      |              23 | retired  |        97 |\n",
      "| ENSG00000274267      |              22 | retired  |        97 |\n",
      "| ENSG00000204683      |              20 | retired  |       101 |\n",
      "| ENSG00000285258      |              20 | retired  |       100 |\n",
      "| ENSG00000267545      |              20 | retired  |        97 |\n",
      "| ENSG00000286169      |              18 | retired  |       102 |\n",
      "| ENSG00000263264      |              17 | retired  |       103 |\n",
      "| ENSG00000181013      |              14 | retired  |        98 |\n",
      "| ENSG00000243444      |              14 | retired  |        98 |\n",
      "| ENSG00000241978      |              13 | retired  |        98 |\n",
      "| ENSG00000268861      |              13 | retired  |       103 |\n",
      "| ENSG00000183729      |              11 | retired  |       101 |\n",
      "| ENSG00000260300      |               8 | retired  |        98 |\n",
      "| ENSG00000130723      |               8 | retired  |       103 |\n",
      "| ENSG00000286094      |               6 | retired  |       101 |\n",
      "| ENSG00000183791      |               5 | retired  |       101 |\n",
      "| ENSG00000284041      |               5 | retired  |        97 |\n",
      "| ENSG00000267697      |               5 | retired  |       100 |\n",
      "| ENSG00000213865      |               4 | retired  |        97 |\n",
      "| ENSG00000274897      |               4 | retired  |       101 |\n",
      "| ENSG00000285441      |               3 | retired  |       101 |\n",
      "| ENSG00000260869      |               2 | retired  |        97 |\n",
      "| ENSG00000277669      |               2 | retired  |        97 |\n",
      "| ENSG00000213029      |               2 | retired  |       100 |\n",
      "| ENSG00000281028      |               2 | retired  |        97 |\n",
      "| ENSG00000274744      |               2 | retired  |       101 |\n",
      "| ENSG00000262621      |               2 | retired  |        98 |\n",
      "| ENSG00000278674      |               2 | retired  |       101 |\n",
      "| ENSG00000272949      |               1 | retired  |        97 |\n",
      "| ENSG00000286261      |               1 | retired  |       102 |\n",
      "| ENSG00000277726      |               1 | retired  |       103 |\n",
      "| ENSG00000255863      |               1 | retired  |        97 |\n"
     ]
    }
   ],
   "source": [
    "failed_w_status = (\n",
    "    failed_targets\n",
    "    .merge(retired_df, left_on='targetFromSourceId', right_on='gene_id', how='outer', indicator=True)\n",
    "    .drop(['datasourceIds', 'gene_id', '_merge'], axis=1)\n",
    ")\n",
    "\n",
    "print(failed_w_status.to_markdown(index=False))"
   ]
  },
  {
   "cell_type": "markdown",
   "metadata": {},
   "source": [
    "So, the question is, where this data built in? Based on a quick check I identified a config for a snakefile where the input gene set is coded in the [V2G repo](https://github.com/opentargets/genetics-v2g-data/blob/539b18597bf08eab017d523ce7378cca517e967e/configs/config.yaml#L9)\n",
    "\n",
    "Checking this out:"
   ]
  },
  {
   "cell_type": "code",
   "execution_count": null,
   "metadata": {
    "ExecuteTime": {
     "end_time": "2021-05-27T14:10:20.666996Z",
     "start_time": "2021-05-27T14:10:19.920026Z"
    }
   },
   "outputs": [],
   "source": [
    "%%bash\n",
    "\n",
    "\n",
    "gsutil cp -r gs://genetics-portal-input/luts/19.06_gene_symbol_synonym_map.json ."
   ]
  },
  {
   "cell_type": "code",
   "execution_count": 52,
   "metadata": {
    "ExecuteTime": {
     "end_time": "2021-05-27T14:17:29.457317Z",
     "start_time": "2021-05-27T14:17:28.918519Z"
    }
   },
   "outputs": [
    {
     "name": "stdout",
     "output_type": "stream",
     "text": [
      "| targetFromSourceId   |   evidenceCount | status   |   version | gene_name   |   gene_chrom |   gene_start |   gene_end |\n",
      "|:---------------------|----------------:|:---------|----------:|:------------|-------------:|-------------:|-----------:|\n",
      "| ENSG00000269881      |              48 | retired  |        97 | AC004754.1  |           16 |       249547 |     269943 |\n",
      "| ENSG00000130489      |              45 | retired  |        97 | SCO2        |           22 |     50523568 |   50525606 |\n",
      "| ENSG00000254462      |              43 | retired  |        99 | TMX2-CTNND1 |           11 |     57712605 |   57791586 |\n",
      "| ENSG00000283932      |              42 | retired  |        97 | AL121722.1  |           20 |     22560553 |   22584261 |\n",
      "| ENSG00000278272      |              36 | retired  |        97 | HIST1H3C    |            6 |     26045411 |   26045821 |\n",
      "| ENSG00000270898      |              34 | retired  |        97 | GPR75-ASB3  |            2 |     53670293 |   53860160 |\n",
      "| ENSG00000278500      |              32 | retired  |        97 | AC009336.2  |            2 |    176151085 |  176173097 |\n",
      "| ENSG00000261833      |              23 | retired  |        97 | AC104151.1  |           16 |     76553417 |   76819624 |\n",
      "| ENSG00000274267      |              22 | retired  |        97 | HIST1H3B    |            6 |     26031650 |   26032060 |\n",
      "| ENSG00000204683      |              20 | retired  |       101 | C10orf113   |           10 |     21125763 |   21146559 |\n",
      "| ENSG00000285258      |              20 | retired  |       100 | ATXN7       |            3 |     63864557 |   64003462 |\n",
      "| ENSG00000267545      |              20 | retired  |        97 | AC005779.2  |           19 |     45179822 |   45202444 |\n",
      "| ENSG00000286169      |              18 | retired  |       102 | AHRR        |            5 |       271670 |     438291 |\n",
      "| ENSG00000263264      |              17 | retired  |       103 | AC119396.1  |           19 |      7348943 |    7383385 |\n",
      "| ENSG00000181013      |              14 | retired  |        98 | C17orf47    |           17 |     58541587 |   58544368 |\n",
      "| ENSG00000243444      |              14 | retired  |        98 | PALM2       |            9 |    109640788 |  109951476 |\n",
      "| ENSG00000241978      |              13 | retired  |        98 | AKAP2       |            9 |    110048598 |  110172512 |\n",
      "| ENSG00000268861      |              13 | retired  |       103 | AC008878.3  |           19 |      7382834 |    7472477 |\n",
      "| ENSG00000183729      |              11 | retired  |       101 | NPBWR1      |            8 |     52938431 |   52941117 |\n",
      "| ENSG00000260300      |               8 | retired  |        98 | AC009119.2  |           16 |     83908132 |   83951445 |\n",
      "| ENSG00000130723      |               8 | retired  |       103 | PRRC2B      |            9 |    131373636 |  131500197 |\n",
      "| ENSG00000286094      |               6 | retired  |       101 | AC026740.3  |            5 |       716808 |     766919 |\n",
      "| ENSG00000183791      |               5 | retired  |       101 | ELOA3       |           18 |     47028202 |   47030078 |\n",
      "| ENSG00000284041      |               5 | retired  |        97 | AC073111.3  |            7 |    150368790 |  150396915 |\n",
      "| ENSG00000267697      |               5 | retired  |       100 | LUZP6       |            7 |    135927274 |  135927450 |\n",
      "| ENSG00000213865      |               4 | retired  |        97 | C8orf44     |            8 |     66667615 |   66685564 |\n",
      "| ENSG00000274897      |               4 | retired  |       101 | PANO1       |           11 |       797511 |     799185 |\n",
      "| ENSG00000285441      |               3 | retired  |       101 | SOD2        |            6 |    159679119 |  159762529 |\n",
      "| ENSG00000260869      |               2 | retired  |        97 | AC002310.4  |           16 |     30534227 |   30558279 |\n",
      "| ENSG00000277669      |               2 | retired  |        97 | AC009086.2  |           16 |     29663279 |   29695144 |\n",
      "| ENSG00000213029      |               2 | retired  |       100 | SPHAR       |            1 |    229304857 |  229305504 |\n",
      "| ENSG00000281028      |               2 | retired  |        97 | AC104662.2  |            4 |     25160663 |   25277306 |\n",
      "| ENSG00000274744      |               2 | retired  |       101 | ELOA3D      |           18 |     46962768 |   46964408 |\n",
      "| ENSG00000262621      |               2 | retired  |        98 | AC025283.2  |           16 |      3382113 |    3397745 |\n",
      "| ENSG00000278674      |               2 | retired  |       101 | ELOA3B      |           18 |     47022287 |   47023927 |\n",
      "| ENSG00000272949      |               1 | retired  |        97 | AC093668.2  |            7 |    102483344 |  102543764 |\n",
      "| ENSG00000286261      |               1 | retired  |       102 | AC022137.3  |           19 |     53431984 |   53461862 |\n",
      "| ENSG00000277726      |               1 | retired  |       103 | AL109811.3  |            1 |     11012662 |   11030528 |\n",
      "| ENSG00000255863      |               1 | retired  |        97 | AC073610.2  |           12 |     48921963 |   48939663 |\n"
     ]
    }
   ],
   "source": [
    "gene_data = (\n",
    "    pd.read_json('19.06_gene_symbol_synonym_map.json', orient='records', lines=True)\n",
    ")\n",
    "\n",
    "print(\n",
    "    failed_w_status.merge(gene_data, left_on='targetFromSourceId', right_on='gene_id', how='left')\n",
    "    .drop(['gene_id', 'gene_synonyms'], axis=1)\n",
    "    .to_markdown(index=False)\n",
    ")"
   ]
  },
  {
   "cell_type": "markdown",
   "metadata": {},
   "source": [
    "Update from Jeremy:\n",
    "\n",
    "```\n",
    "It's worth noting that there may be other locations where a specific version of the gene mapping has been used. E.g. this is in Miguel's config file:\n",
    "\n",
    "ensembl {\n",
    "lut = ${input}\"/lut/homo_sapiens_core_96_38_genes.json\"\n",
    "}\n",
    "\n",
    "It's located here:\n",
    "gs://genetics-portal-data/lut/homo_sapiens_core_96_38_genes.json\n",
    "\n",
    "This file is also used in the L2G pipeline:\n",
    "https://github.com/opentargets/genetics-l2g-scoring/blob/master/1_feature_engineering/1_prepare_inputs.py\n",
    "```"
   ]
  },
  {
   "cell_type": "code",
   "execution_count": null,
   "metadata": {},
   "outputs": [],
   "source": [
    "%%bash\n",
    "\n",
    "# Fetching the above file from the bucket:\n",
    "gsutil cp -r gs://genetics-portal-data/lut/homo_sapiens_core_96_38_genes.json .\n"
   ]
  },
  {
   "cell_type": "code",
   "execution_count": 53,
   "metadata": {
    "ExecuteTime": {
     "end_time": "2021-05-27T20:30:59.373311Z",
     "start_time": "2021-05-27T20:30:58.764572Z"
    }
   },
   "outputs": [
    {
     "data": {
      "text/html": [
       "<div>\n",
       "<style scoped>\n",
       "    .dataframe tbody tr th:only-of-type {\n",
       "        vertical-align: middle;\n",
       "    }\n",
       "\n",
       "    .dataframe tbody tr th {\n",
       "        vertical-align: top;\n",
       "    }\n",
       "\n",
       "    .dataframe thead th {\n",
       "        text-align: right;\n",
       "    }\n",
       "</style>\n",
       "<table border=\"1\" class=\"dataframe\">\n",
       "  <thead>\n",
       "    <tr style=\"text-align: right;\">\n",
       "      <th></th>\n",
       "      <th>gene_id</th>\n",
       "      <th>gene_name</th>\n",
       "      <th>chr</th>\n",
       "      <th>tss</th>\n",
       "      <th>start</th>\n",
       "      <th>end</th>\n",
       "    </tr>\n",
       "  </thead>\n",
       "  <tbody>\n",
       "    <tr>\n",
       "      <th>0</th>\n",
       "      <td>ENSG00000223972</td>\n",
       "      <td>DDX11L1</td>\n",
       "      <td>1</td>\n",
       "      <td>11869</td>\n",
       "      <td>11869</td>\n",
       "      <td>14409</td>\n",
       "    </tr>\n",
       "    <tr>\n",
       "      <th>1</th>\n",
       "      <td>ENSG00000227232</td>\n",
       "      <td>WASH7P</td>\n",
       "      <td>1</td>\n",
       "      <td>29570</td>\n",
       "      <td>14404</td>\n",
       "      <td>29570</td>\n",
       "    </tr>\n",
       "    <tr>\n",
       "      <th>2</th>\n",
       "      <td>ENSG00000278267</td>\n",
       "      <td>MIR6859-1</td>\n",
       "      <td>1</td>\n",
       "      <td>17436</td>\n",
       "      <td>17369</td>\n",
       "      <td>17436</td>\n",
       "    </tr>\n",
       "    <tr>\n",
       "      <th>3</th>\n",
       "      <td>ENSG00000243485</td>\n",
       "      <td>MIR1302-2HG</td>\n",
       "      <td>1</td>\n",
       "      <td>29554</td>\n",
       "      <td>29554</td>\n",
       "      <td>31109</td>\n",
       "    </tr>\n",
       "    <tr>\n",
       "      <th>4</th>\n",
       "      <td>ENSG00000284332</td>\n",
       "      <td>MIR1302-2</td>\n",
       "      <td>1</td>\n",
       "      <td>30366</td>\n",
       "      <td>30366</td>\n",
       "      <td>30503</td>\n",
       "    </tr>\n",
       "  </tbody>\n",
       "</table>\n",
       "</div>"
      ],
      "text/plain": [
       "           gene_id    gene_name chr    tss  start    end\n",
       "0  ENSG00000223972      DDX11L1   1  11869  11869  14409\n",
       "1  ENSG00000227232       WASH7P   1  29570  14404  29570\n",
       "2  ENSG00000278267    MIR6859-1   1  17436  17369  17436\n",
       "3  ENSG00000243485  MIR1302-2HG   1  29554  29554  31109\n",
       "4  ENSG00000284332    MIR1302-2   1  30366  30366  30503"
      ]
     },
     "execution_count": 53,
     "metadata": {},
     "output_type": "execute_result"
    }
   ],
   "source": [
    "# Reding as dataframe:\n",
    "gene_set = (\n",
    "    pd.read_json('homo_sapiens_core_96_38_genes.json',orient='records', lines=True)\n",
    "    .drop(['description', 'biotype', 'fwdstrand', 'exons'], axis=1)\n",
    ")\n",
    "\n",
    "gene_set.head()"
   ]
  },
  {
   "cell_type": "code",
   "execution_count": 57,
   "metadata": {
    "ExecuteTime": {
     "end_time": "2021-05-27T20:32:12.109427Z",
     "start_time": "2021-05-27T20:32:12.040350Z"
    }
   },
   "outputs": [
    {
     "name": "stdout",
     "output_type": "stream",
     "text": [
      "|    | targetFromSourceId   |   evidenceCount | status   |   version | gene_name   |   chr |\n",
      "|---:|:---------------------|----------------:|:---------|----------:|:------------|------:|\n",
      "|  0 | ENSG00000269881      |              48 | retired  |        97 | AC004754.1  |    16 |\n",
      "|  1 | ENSG00000130489      |              45 | retired  |        97 | SCO2        |    22 |\n",
      "|  2 | ENSG00000254462      |              43 | retired  |        99 | TMX2-CTNND1 |    11 |\n",
      "|  3 | ENSG00000283932      |              42 | retired  |        97 | AL121722.1  |    20 |\n",
      "|  4 | ENSG00000278272      |              36 | retired  |        97 | HIST1H3C    |     6 |\n",
      "|  5 | ENSG00000270898      |              34 | retired  |        97 | GPR75-ASB3  |     2 |\n",
      "|  6 | ENSG00000278500      |              32 | retired  |        97 | AC009336.2  |     2 |\n",
      "|  7 | ENSG00000261833      |              23 | retired  |        97 | AC104151.1  |    16 |\n",
      "|  8 | ENSG00000274267      |              22 | retired  |        97 | HIST1H3B    |     6 |\n",
      "|  9 | ENSG00000204683      |              20 | retired  |       101 | C10orf113   |    10 |\n",
      "| 10 | ENSG00000285258      |              20 | retired  |       100 | ATXN7       |     3 |\n",
      "| 11 | ENSG00000267545      |              20 | retired  |        97 | AC005779.2  |    19 |\n",
      "| 12 | ENSG00000286169      |              18 | retired  |       102 | AHRR        |     5 |\n",
      "| 13 | ENSG00000263264      |              17 | retired  |       103 | AC119396.1  |    19 |\n",
      "| 14 | ENSG00000181013      |              14 | retired  |        98 | C17orf47    |    17 |\n",
      "| 15 | ENSG00000243444      |              14 | retired  |        98 | PALM2       |     9 |\n",
      "| 16 | ENSG00000241978      |              13 | retired  |        98 | AKAP2       |     9 |\n",
      "| 17 | ENSG00000268861      |              13 | retired  |       103 | AC008878.3  |    19 |\n",
      "| 18 | ENSG00000183729      |              11 | retired  |       101 | NPBWR1      |     8 |\n",
      "| 19 | ENSG00000260300      |               8 | retired  |        98 | AC009119.2  |    16 |\n",
      "| 20 | ENSG00000130723      |               8 | retired  |       103 | PRRC2B      |     9 |\n",
      "| 21 | ENSG00000286094      |               6 | retired  |       101 | AC026740.3  |     5 |\n",
      "| 22 | ENSG00000183791      |               5 | retired  |       101 | ELOA3       |    18 |\n",
      "| 23 | ENSG00000284041      |               5 | retired  |        97 | AC073111.3  |     7 |\n",
      "| 24 | ENSG00000267697      |               5 | retired  |       100 | LUZP6       |     7 |\n",
      "| 25 | ENSG00000213865      |               4 | retired  |        97 | C8orf44     |     8 |\n",
      "| 26 | ENSG00000274897      |               4 | retired  |       101 | PANO1       |    11 |\n",
      "| 27 | ENSG00000285441      |               3 | retired  |       101 | SOD2        |     6 |\n",
      "| 28 | ENSG00000260869      |               2 | retired  |        97 | AC002310.4  |    16 |\n",
      "| 29 | ENSG00000277669      |               2 | retired  |        97 | AC009086.2  |    16 |\n",
      "| 30 | ENSG00000213029      |               2 | retired  |       100 | SPHAR       |     1 |\n",
      "| 31 | ENSG00000281028      |               2 | retired  |        97 | AC104662.2  |     4 |\n",
      "| 32 | ENSG00000274744      |               2 | retired  |       101 | ELOA3D      |    18 |\n",
      "| 33 | ENSG00000262621      |               2 | retired  |        98 | AC025283.2  |    16 |\n",
      "| 34 | ENSG00000278674      |               2 | retired  |       101 | ELOA3B      |    18 |\n",
      "| 35 | ENSG00000272949      |               1 | retired  |        97 | AC093668.2  |     7 |\n",
      "| 36 | ENSG00000286261      |               1 | retired  |       102 | AC022137.3  |    19 |\n",
      "| 37 | ENSG00000277726      |               1 | retired  |       103 | AL109811.3  |     1 |\n",
      "| 38 | ENSG00000255863      |               1 | retired  |        97 | AC073610.2  |    12 |\n"
     ]
    }
   ],
   "source": [
    "print(\n",
    "    failed_w_status.merge(gene_set, left_on='targetFromSourceId', right_on='gene_id', how='left')\n",
    "    .drop(['gene_id', 'tss', 'start', 'end'], axis=1)\n",
    "    .to_markdown()\n",
    ")"
   ]
  },
  {
   "cell_type": "code",
   "execution_count": null,
   "metadata": {},
   "outputs": [],
   "source": []
  }
 ],
 "metadata": {
  "kernelspec": {
   "display_name": "Python 3",
   "language": "python",
   "name": "python3"
  },
  "language_info": {
   "codemirror_mode": {
    "name": "ipython",
    "version": 3
   },
   "file_extension": ".py",
   "mimetype": "text/x-python",
   "name": "python",
   "nbconvert_exporter": "python",
   "pygments_lexer": "ipython3",
   "version": "3.6.10"
  },
  "toc": {
   "base_numbering": 1,
   "nav_menu": {},
   "number_sections": true,
   "sideBar": true,
   "skip_h1_title": false,
   "title_cell": "Table of Contents",
   "title_sidebar": "Contents",
   "toc_cell": false,
   "toc_position": {},
   "toc_section_display": true,
   "toc_window_display": false
  }
 },
 "nbformat": 4,
 "nbformat_minor": 4
}
