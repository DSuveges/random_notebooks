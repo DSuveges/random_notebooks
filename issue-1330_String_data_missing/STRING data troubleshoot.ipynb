{
 "cells": [
  {
   "cell_type": "markdown",
   "metadata": {},
   "source": [
    "# Troubleshooting missing String data\n",
    "\n",
    "\n",
    "[It has been identified](https://github.com/opentargets/platform/issues/1330) that `experiments` fields are missing from the GraphQL data. \n",
    "\n",
    "* String API [response](https://string-db.org/cgi/network?taskId=b6xg4PlcNVGm)\n",
    "* OT GraphQL [response](https://api-beta-dot-open-targets-eu-dev.appspot.com/api/v4/graphql/browser?query=%7B%0A%20%20target(ensemblId%3A%20%22ENSG00000111640%22)%20%7B%0A%20%20%20%20approvedSymbol%0A%20%20%20%20interactions(sourceDatabase%3A%20%22string%22)%20%7B%0A%20%20%20%20%20%20count%0A%20%20%20%20%20%20rows%20%7B%0A%20%20%20%20%20%20%20%20intA%0A%20%20%20%20%20%20%20%20intB%0A%20%20%20%20%20%20%20%20targetA%20%7B%0A%20%20%20%20%20%20%20%20%20%20id%0A%20%20%20%20%20%20%20%20%20%20approvedSymbol%0A%20%20%20%20%20%20%20%20%7D%0A%20%20%20%20%20%20%20%20targetB%20%7B%0A%20%20%20%20%20%20%20%20%20%20id%0A%20%20%20%20%20%20%20%20%20%20approvedSymbol%0A%20%20%20%20%20%20%20%20%7D%0A%20%20%20%20%20%20%20%20evidences%20%7B%0A%20%20%20%20%20%20%20%20%20%20interactionDetectionMethodShortName%0A%20%20%20%20%20%20%20%20%20%20interactionDetectionMethodMiIdentifier%0A%20%20%20%20%20%20%20%20%20%20evidenceScore%0A%20%20%20%20%20%20%20%20%20%20interactionScore%0A%20%20%20%20%20%20%20%20%7D%0A%20%20%20%20%20%20%7D%0A%20%20%20%20%7D%0A%20%20%7D%0A%7D%0A)\n",
    "\n",
    "What the hell???\n",
    "\n",
    "1. Check the input file from [platform input support](https://github.com/opentargets/platform-input-support/blob/master/config.yaml)\n",
    "2. Find [String DB](https://stringdb-static.org/download/protein.links.detailed.v11.0/9606.protein.links.detailed.v11.0.txt.gz) file."
   ]
  },
  {
   "cell_type": "code",
   "execution_count": 4,
   "metadata": {
    "ExecuteTime": {
     "end_time": "2021-01-21T17:01:08.167488Z",
     "start_time": "2021-01-21T17:01:07.963497Z"
    }
   },
   "outputs": [
    {
     "name": "stdout",
     "output_type": "stream",
     "text": [
      "protein1 protein2 neighborhood fusion cooccurence coexpression experimental database textmining combined_score\n",
      "9606.ENSP00000000233 9606.ENSP00000272298 0 0 332 62 181 0 125 490\n",
      "9606.ENSP00000000233 9606.ENSP00000253401 0 0 0 0 186 0 56 198\n",
      "9606.ENSP00000000233 9606.ENSP00000401445 0 0 0 0 159 0 0 159\n",
      "9606.ENSP00000000233 9606.ENSP00000418915 0 0 0 61 158 0 542 606\n",
      "9606.ENSP00000000233 9606.ENSP00000327801 0 0 0 88 78 0 89 167\n",
      "9606.ENSP00000000233 9606.ENSP00000466298 0 0 0 141 131 0 98 267\n",
      "9606.ENSP00000000233 9606.ENSP00000232564 0 0 0 62 171 0 56 201\n",
      "9606.ENSP00000000233 9606.ENSP00000393379 0 0 0 61 131 0 43 150\n",
      "9606.ENSP00000000233 9606.ENSP00000371253 0 0 0 61 0 0 224 240\n"
     ]
    }
   ],
   "source": [
    "%%bash\n",
    "\n",
    "curl -s https://stringdb-static.org/download/protein.links.detailed.v11.0/9606.protein.links.detailed.v11.0.txt.gz | gzcat | head"
   ]
  },
  {
   "cell_type": "markdown",
   "metadata": {},
   "source": [
    "So the column is in the input file. What happens with it in the platform input support?\n",
    "\n",
    "**Solution:** The column header is different from what the script is expecting... \n",
    "\n",
    "```python\n",
    "    # The following STRING channels can be mapped to detection methods on MI onotology:\n",
    "    detection_method_mapping = {\n",
    "        'coexpression': {'name': 'coexpression', 'mi_id': 'MI:2231'},\n",
    "        'coexpression_transferred': {'name': 'coexpression_transferred', 'mi_id': ''},\n",
    "        'neighborhood': {'name': 'neighborhood', 'mi_id': 'MI:0057'},\n",
    "        'neighborhood_transferred': {'name': 'neighborhood_transferred', 'mi_id': ''},\n",
    "        'fusion': {'name': 'fusion', 'mi_id': 'MI:0036'},\n",
    "        'homology': {'name': 'homology', 'mi_id': 'MI:2163'},\n",
    "        'experiments': {'name': 'experiments', 'mi_id': 'MI:0591'},\n",
    "        'experiments_transferred': {'name': 'experiments_transferred', 'mi_id': ''},\n",
    "        'cooccurence': {'name': 'cooccurence', 'mi_id': 'MI:2231'},\n",
    "        'database': {'name': 'database', 'mi_id': ''},\n",
    "        'database_transferred': {'name': 'database_transferred', 'mi_id': ''},\n",
    "        'textmining': {'name': 'textmining', 'mi_id': 'MI:0110'},\n",
    "        'textmining_transferred': {'name': 'textmining_transferred', 'mi_id': ''},\n",
    "    }\n",
    "```\n",
    "\n",
    "It says `experiment` instead of `experimental`. Holy shit."
   ]
  },
  {
   "cell_type": "code",
   "execution_count": null,
   "metadata": {},
   "outputs": [],
   "source": []
  }
 ],
 "metadata": {
  "kernelspec": {
   "display_name": "Python 3",
   "language": "python",
   "name": "python3"
  },
  "language_info": {
   "codemirror_mode": {
    "name": "ipython",
    "version": 3
   },
   "file_extension": ".py",
   "mimetype": "text/x-python",
   "name": "python",
   "nbconvert_exporter": "python",
   "pygments_lexer": "ipython3",
   "version": "3.6.10"
  }
 },
 "nbformat": 4,
 "nbformat_minor": 4
}
