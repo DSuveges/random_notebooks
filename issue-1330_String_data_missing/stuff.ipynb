{
 "cells": [
  {
   "cell_type": "code",
   "execution_count": 1,
   "metadata": {
    "ExecuteTime": {
     "end_time": "2021-04-13T14:11:01.616023Z",
     "start_time": "2021-04-13T14:11:01.611728Z"
    }
   },
   "outputs": [],
   "source": [
    "prior = 0.041\n",
    "\n",
    "def compute_prior_away(score, prior):\n",
    "\n",
    "    if score < prior: score = prior\n",
    "    score_no_prior = (score - prior) / (1 - prior)\n",
    "\n",
    "    return score_no_prior\n"
   ]
  },
  {
   "cell_type": "code",
   "execution_count": 2,
   "metadata": {
    "ExecuteTime": {
     "end_time": "2021-04-13T14:14:34.909591Z",
     "start_time": "2021-04-13T14:14:34.904887Z"
    }
   },
   "outputs": [],
   "source": [
    "line = '9606.ENSP00000000233 9606.ENSP00000314615 0 0 0 0 0 61 63 0 262 900 0 473 317 971'\n",
    "\n",
    "l = line.split()\n",
    "\n",
    "(protein1, protein2,\n",
    " neighborhood, neighborhood_transferred,\n",
    " fusion, cooccurrence,\n",
    " homology,\n",
    " coexpression, coexpression_transferred,\n",
    " experiments, experiments_transferred,\n",
    " database, database_transferred,\n",
    " textmining, textmining_transferred,\n",
    " initial_combined) = l"
   ]
  },
  {
   "cell_type": "code",
   "execution_count": 3,
   "metadata": {
    "ExecuteTime": {
     "end_time": "2021-04-13T14:15:01.345030Z",
     "start_time": "2021-04-13T14:15:01.338776Z"
    }
   },
   "outputs": [],
   "source": [
    "neighborhood = float(neighborhood) / 1000\n",
    "neighborhood_transferred = float(neighborhood_transferred) / 1000\n",
    "fusion = float(fusion) / 1000\n",
    "cooccurrence =  float(cooccurrence) / 1000\n",
    "homology = float(homology) / 1000\n",
    "coexpression = float(coexpression) / 1000\n",
    "coexpression_transferred = float(coexpression_transferred) / 1000\n",
    "experiments = float(experiments) / 1000\n",
    "experiments_transferred = float(experiments_transferred) / 1000\n",
    "database = float(database) / 1000\n",
    "database_transferred = float(database_transferred) / 1000\n",
    "textmining = float(textmining) / 1000\n",
    "textmining_transferred = float(textmining_transferred) / 1000\n",
    "initial_combined = int(initial_combined)"
   ]
  },
  {
   "cell_type": "code",
   "execution_count": 4,
   "metadata": {
    "ExecuteTime": {
     "end_time": "2021-04-13T14:15:11.245637Z",
     "start_time": "2021-04-13T14:15:11.240750Z"
    }
   },
   "outputs": [],
   "source": [
    "neighborhood_prior_corrected                 = compute_prior_away (neighborhood, prior)             \n",
    "neighborhood_transferred_prior_corrected     = compute_prior_away (neighborhood_transferred, prior) \n",
    "fusion_prior_corrected                       = compute_prior_away (fusion, prior)             \n",
    "cooccurrence_prior_corrected                 = compute_prior_away (cooccurrence, prior)           \n",
    "coexpression_prior_corrected                 = compute_prior_away (coexpression, prior)            \n",
    "coexpression_transferred_prior_corrected     = compute_prior_away (coexpression_transferred, prior) \n",
    "experiments_prior_corrected                  = compute_prior_away (experiments, prior)   \n",
    "experiments_transferred_prior_corrected      = compute_prior_away (experiments_transferred, prior) \n",
    "database_prior_corrected                     = compute_prior_away (database, prior)      \n",
    "database_transferred_prior_corrected         = compute_prior_away (database_transferred, prior)\n",
    "textmining_prior_corrected                   = compute_prior_away (textmining, prior)            \n",
    "textmining_transferred_prior_corrected       = compute_prior_away (textmining_transferred, prior) "
   ]
  },
  {
   "cell_type": "code",
   "execution_count": 17,
   "metadata": {
    "ExecuteTime": {
     "end_time": "2021-04-13T14:51:32.940060Z",
     "start_time": "2021-04-13T14:51:32.935188Z"
    }
   },
   "outputs": [],
   "source": [
    "neighborhood_both_prior_corrected = 1.0 - (1.0 - neighborhood_prior_corrected) * (1.0 - neighborhood_transferred_prior_corrected)\n",
    "coexpression_both_prior_corrected = 1.0 - (1.0 - coexpression_prior_corrected) * (1.0 - coexpression_transferred_prior_corrected)\n",
    "experiments_both_prior_corrected = 1.0 - (1.0 - experiments_prior_corrected) * (1.0 - experiments_transferred_prior_corrected)\n",
    "database_both_prior_corrected = 1.0 - (1.0 - database_prior_corrected) * (1.0 - database_transferred_prior_corrected)\n",
    "textmining_both_prior_corrected = 1.0 - (1.0 - textmining_prior_corrected) * (1.0 - textmining_transferred_prior_corrected)\n",
    "\n",
    "## now, do the homology correction on cooccurrence and textmining:\n",
    "\n",
    "cooccurrence_prior_homology_corrected = cooccurrence_prior_corrected * (1.0 - homology)\n",
    "textmining_both_prior_homology_corrected = textmining_both_prior_corrected * (1.0 - homology)"
   ]
  },
  {
   "cell_type": "code",
   "execution_count": 8,
   "metadata": {
    "ExecuteTime": {
     "end_time": "2021-04-13T14:16:25.374368Z",
     "start_time": "2021-04-13T14:16:25.370215Z"
    }
   },
   "outputs": [],
   "source": [
    "combined_score_one_minus = (\n",
    "    (1.0 - neighborhood_both_prior_corrected) *\n",
    "    (1.0 - fusion_prior_corrected) *\n",
    "    (1.0 - cooccurrence_prior_homology_corrected) *\n",
    "    (1.0 - coexpression_both_prior_corrected) *\n",
    "    (1.0 - experiments_both_prior_corrected) *\n",
    "    (1.0 - database_both_prior_corrected) *\n",
    "    (1.0 - textmining_both_prior_homology_corrected) ) \n",
    "\n",
    "## and lastly, do the 1 - conversion again, and put back the prior *exactly once*\n",
    "\n",
    "combined_score = (1.0 - combined_score_one_minus)            ## 1- conversion\n",
    "combined_score *= (1.0 - prior)                              ## scale down\n",
    "combined_score += prior"
   ]
  },
  {
   "cell_type": "code",
   "execution_count": 10,
   "metadata": {
    "ExecuteTime": {
     "end_time": "2021-04-13T14:16:52.732958Z",
     "start_time": "2021-04-13T14:16:52.727387Z"
    }
   },
   "outputs": [
    {
     "data": {
      "text/plain": [
       "971"
      ]
     },
     "execution_count": 10,
     "metadata": {},
     "output_type": "execute_result"
    }
   ],
   "source": [
    "combined_score = int(combined_score * 1000)\n",
    "combined_score"
   ]
  },
  {
   "cell_type": "code",
   "execution_count": 13,
   "metadata": {
    "ExecuteTime": {
     "end_time": "2021-04-13T14:22:19.590645Z",
     "start_time": "2021-04-13T14:22:19.586314Z"
    }
   },
   "outputs": [
    {
     "data": {
      "text/plain": [
       "82"
      ]
     },
     "execution_count": 13,
     "metadata": {},
     "output_type": "execute_result"
    }
   ],
   "source": [
    "coexpression_both_prior_corrected *= (1.0 - prior) \n",
    "coexpression_both_prior_corrected += prior\n",
    "coexpression_both_prior_corrected = int(coexpression_both_prior_corrected * 1000)\n",
    "coexpression_both_prior_corrected"
   ]
  },
  {
   "cell_type": "code",
   "execution_count": 29,
   "metadata": {
    "ExecuteTime": {
     "end_time": "2021-04-13T21:15:36.087132Z",
     "start_time": "2021-04-13T21:15:36.082347Z"
    }
   },
   "outputs": [
    {
     "data": {
      "text/plain": [
       "0.08254118873826904"
      ]
     },
     "execution_count": 29,
     "metadata": {},
     "output_type": "execute_result"
    }
   ],
   "source": [
    "coexpression = 0.061\n",
    "coexpression_transferred = 0.063\n",
    "\n",
    "p = 0.041\n",
    "\n",
    "c = (p+x*y -y - x)/(p-1)\n",
    "\n",
    "c"
   ]
  },
  {
   "cell_type": "code",
   "execution_count": 30,
   "metadata": {
    "ExecuteTime": {
     "end_time": "2021-04-14T00:10:28.433273Z",
     "start_time": "2021-04-14T00:10:22.676119Z"
    }
   },
   "outputs": [
    {
     "name": "stdout",
     "output_type": "stream",
     "text": [
      "Spark version:  3.0.0\n"
     ]
    }
   ],
   "source": [
    "import pyspark.sql\n",
    "from pyspark.sql.types import *\n",
    "from pyspark.sql.functions import *\n",
    "from pyspark import SparkContext\n",
    "import re\n",
    "\n",
    "global spark\n",
    "\n",
    "# SparkContext.setSystemProperty('spark.executor.memory', '20g')\n",
    "\n",
    "spark = (pyspark.sql.SparkSession\n",
    "    .builder\n",
    "    .appName(\"phenodigm_parser\")\n",
    "    .config(\"spark.executor.memory\", '10g')\n",
    "     .config(\"spark.driver.bindAddress\", \"localhost\")\n",
    "    .config(\"spark.driver.memory\", '10g')\n",
    "    .getOrCreate()\n",
    ")\n",
    "\n",
    "#   \n",
    "\n",
    "\n",
    "print('Spark version: ', spark.version)\n"
   ]
  },
  {
   "cell_type": "code",
   "execution_count": 47,
   "metadata": {
    "ExecuteTime": {
     "end_time": "2021-04-14T08:47:10.168020Z",
     "start_time": "2021-04-14T08:47:09.976152Z"
    }
   },
   "outputs": [
    {
     "name": "stdout",
     "output_type": "stream",
     "text": [
      "root\n",
      " |-- pmid: integer (nullable = true)\n",
      " |-- isMapped: boolean (nullable = true)\n",
      " |-- type: string (nullable = true)\n",
      "\n"
     ]
    }
   ],
   "source": [
    "(\n",
    "    spark.read.parquet('/Users/dsuveges/Downloads/literature_20210413_cooccurrences_part-00001-553ab579-cf6b-460b-831e-326370e14b90-c000.snappy.parquet')\n",
    "    .filter(\n",
    "        (col('type')=='GP-DS') &\n",
    "        (col('isMapped') == True) & \n",
    "        (col('pmid').isNotNull())\n",
    "    )\n",
    "    .select(col('pmid'), col('isMapped'), col('type'))\n",
    "    .printSchema()\n",
    ")"
   ]
  },
  {
   "cell_type": "code",
   "execution_count": null,
   "metadata": {},
   "outputs": [],
   "source": []
  }
 ],
 "metadata": {
  "kernelspec": {
   "display_name": "Python 3",
   "language": "python",
   "name": "python3"
  },
  "language_info": {
   "codemirror_mode": {
    "name": "ipython",
    "version": 3
   },
   "file_extension": ".py",
   "mimetype": "text/x-python",
   "name": "python",
   "nbconvert_exporter": "python",
   "pygments_lexer": "ipython3",
   "version": "3.9.5"
  }
 },
 "nbformat": 4,
 "nbformat_minor": 4
}
