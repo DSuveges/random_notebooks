{
 "cells": [
  {
   "cell_type": "markdown",
   "id": "4eb96cdb",
   "metadata": {},
   "source": [
    "# Mapping drugs to structures to genes\n",
    "\n",
    "Function of the script:\n",
    "* Reading molecule index\n",
    "* Joining molecule index with pdbe dataset by inchi key -> ligand identifier is now provided\n",
    "* Extract pdb-ligand mapping from API\n",
    "* Explode pdb column \n",
    "* join with chain identifier\n",
    "\n",
    "\n",
    "\n",
    "Input:\n",
    "* OT molecule index\n",
    "* Some dataset for mapping inchi keys to pdb ligands\n",
    "* SIFTS dataset to map pdb chains to target identifier\n",
    "\n"
   ]
  },
  {
   "cell_type": "code",
   "execution_count": 9,
   "id": "0f0282f0",
   "metadata": {
    "ExecuteTime": {
     "end_time": "2022-03-30T12:44:27.561653Z",
     "start_time": "2022-03-30T12:44:27.553533Z"
    }
   },
   "outputs": [],
   "source": [
    "import json\n",
    "from json import JSONDecodeError\n",
    "\n",
    "import requests\n",
    "from functools import reduce\n",
    "import pandas as pd\n",
    "from pyspark.sql.functions import (\n",
    "    col, udf, struct, lit, split, expr, collect_set, struct, \n",
    "    regexp_replace, min as pyspark_min, explode, when,\n",
    "    array_contains, count, first, element_at, size, sum as pyspark_sum\n",
    ")\n",
    "from pyspark.sql.types import FloatType, ArrayType, StructType, StructField, BooleanType, StringType\n",
    "from pyspark.sql import SparkSession\n",
    "from collections import defaultdict\n",
    "\n",
    "# establish spark connection\n",
    "spark = (\n",
    "    SparkSession.builder\n",
    "    .master('local[*]')\n",
    "    .getOrCreate()\n",
    ")\n",
    "\n",
    "def get_structure(pdb_compound_id: str) -> list:\n",
    "    \"\"\"Fetching structure identifiers from PDBkb REST API\n",
    "\n",
    "    Args:\n",
    "        pdb_compound_id: string, a single compound identifier\n",
    "    Returns:\n",
    "        List of PDB structure identifiers where the compound can be found\n",
    "    \"\"\"\n",
    "    url = f'https://www.ebi.ac.uk/pdbe/api/pdb/compound/in_pdb/{pdb_compound_id}'\n",
    "    response = requests.get(url)\n",
    "    try:\n",
    "        data = response.json()\n",
    "        return data[pdb_compound_id]\n",
    "    except JSONDecodeError:\n",
    "        print(f'Failed to return structures to: {pdb_compound_id}')\n",
    "        if len(response.json()) == 0:\n",
    "            return []\n",
    "    except KeyError:\n",
    "        print(f'Empty data was returned for: {pdb_compound_id}')\n",
    "        return []\n",
    "\n",
    "molecule_index = '/Users/dsuveges/project_data/molecule/'\n",
    "unichem_map = '/Users/dsuveges/Downloads/src1src3.txt'\n",
    "chain_map = '/Users/dsuveges/project/random_notebooks/issue-1891_extracting_drug-ligand_complex/pdb_chain_ensembl.csv'\n",
    "pdb_chem_file = '/Users/dsuveges/project/random_notebooks/issue-1891_extracting_drug-ligand_complex/components_inchikeys.csv'\n"
   ]
  },
  {
   "cell_type": "markdown",
   "id": "33e6ad18",
   "metadata": {},
   "source": [
    "## Generate molecule table\n",
    "\n",
    "1. Reading molecule index\n",
    "2. Reading pubchem file and join by InchiKey\n",
    "3. Mapping compound identifier using pdb API"
   ]
  },
  {
   "cell_type": "code",
   "execution_count": 10,
   "id": "b68cd42a",
   "metadata": {
    "ExecuteTime": {
     "end_time": "2022-03-30T12:56:41.496693Z",
     "start_time": "2022-03-30T12:44:28.362700Z"
    },
    "scrolled": false
   },
   "outputs": [
    {
     "name": "stdout",
     "output_type": "stream",
     "text": [
      "12594\n",
      "36500\n",
      "Empty data was returned for: 1ZT\n",
      "Empty data was returned for: 3IH\n",
      "Empty data was returned for: 3KV\n",
      "Empty data was returned for: 3SA\n",
      "Empty data was returned for: 53P\n",
      "Empty data was returned for: 6LG\n",
      "Empty data was returned for: 72Q\n",
      "Empty data was returned for: 9HE\n",
      "Empty data was returned for: AA3\n",
      "Empty data was returned for: ABG\n",
      "Empty data was returned for: ACX\n",
      "Empty data was returned for: ATG\n",
      "Empty data was returned for: ATW\n",
      "Empty data was returned for: B4M\n",
      "Empty data was returned for: B7D\n",
      "Empty data was returned for: BA4\n",
      "Empty data was returned for: BCD\n",
      "Empty data was returned for: BTP\n",
      "Empty data was returned for: C4C\n",
      "Empty data was returned for: CHA\n",
      "Empty data was returned for: COR\n",
      "Empty data was returned for: CSE\n",
      "Empty data was returned for: CSW\n",
      "Empty data was returned for: CTO\n",
      "Empty data was returned for: CXN\n",
      "Empty data was returned for: DB0\n",
      "Empty data was returned for: DMR\n",
      "Empty data was returned for: DR2\n",
      "Empty data was returned for: DR5\n",
      "Empty data was returned for: ECT\n",
      "Empty data was returned for: EGG\n",
      "Empty data was returned for: EHN\n",
      "Empty data was returned for: FOZ\n",
      "Empty data was returned for: FRR\n",
      "Empty data was returned for: G25\n",
      "Empty data was returned for: GUD\n",
      "Empty data was returned for: HSF\n",
      "Empty data was returned for: I6P\n",
      "Empty data was returned for: IAB\n",
      "Empty data was returned for: IOH\n",
      "Empty data was returned for: IOX\n",
      "Empty data was returned for: IP3\n",
      "Empty data was returned for: L0H\n",
      "Empty data was returned for: LAT\n",
      "Empty data was returned for: LIG\n",
      "Empty data was returned for: LT4\n",
      "Empty data was returned for: MEG\n",
      "Empty data was returned for: MJQ\n",
      "Empty data was returned for: MLR\n",
      "Empty data was returned for: MXL\n",
      "Empty data was returned for: N9S\n",
      "Empty data was returned for: NLC\n",
      "Empty data was returned for: NTO\n",
      "Empty data was returned for: OWL\n",
      "Empty data was returned for: PG7\n",
      "Empty data was returned for: PLE\n",
      "Empty data was returned for: QB4\n",
      "Empty data was returned for: QND\n",
      "Empty data was returned for: QPS\n",
      "Empty data was returned for: SAP\n",
      "Empty data was returned for: SCR\n",
      "Empty data was returned for: SUC\n",
      "Empty data was returned for: TDG\n",
      "Empty data was returned for: TDP\n",
      "Empty data was returned for: TNR\n",
      "Empty data was returned for: TRE\n",
      "Empty data was returned for: TSO\n",
      "Empty data was returned for: TZO\n",
      "Empty data was returned for: W9T\n",
      "Empty data was returned for: XAO\n",
      "3752\n",
      "+--------------------+-------------+--------------------+--------------------+--------------------+---------------+--------------------+\n",
      "|            inchiKey|    chembl_id|                name|       linkedTargets|      linkedDiseases|pdb_compound_id|    pdb_structure_id|\n",
      "+--------------------+-------------+--------------------+--------------------+--------------------+---------------+--------------------+\n",
      "|SJWOFBVBNFLWLP-UH...| CHEMBL382127|(1-Phenylcyclopen...|                null|                null|            007|              [2bua]|\n",
      "|OEVYDSSAPNIURZ-AE...| CHEMBL381806|        CHEMBL381806|                null|                null|            008|              [2buc]|\n",
      "|WVDDGKGOMKODPV-UH...|    CHEMBL720|      BENZYL ALCOHOL|                null|                null|            010|[2amq, 2hob, 2q6f...|\n",
      "|CJBJHOAVZSMMDJ-HE...|   CHEMBL1323|           DARUNAVIR|                null|                null|            017|[1t3r, 1t7i, 2f80...|\n",
      "|YVPGZQLRPAGKLA-UH...|CHEMBL1738699|               N6022|                null|                null|            022|              [3qj5]|\n",
      "|RXDVFLTWXCTCEX-UH...| CHEMBL243940|        CHEMBL243940|                null|                null|            024|              [2qbs]|\n",
      "|IJEGNOYPWRBKAE-UH...|  CHEMBL55264|         CHEMBL55264|                null|                null|            028|              [2z50]|\n",
      "|GPXBXXGIAQBQNI-UH...|CHEMBL1229517|         VEMURAFENIB|{[ENSG00000157764...|{[EFO_0000616, EF...|            032|  [3og7, 4rzv, 5hes]|\n",
      "|UMMYTDJYDSTEMB-UH...|CHEMBL1213083|       CHEMBL1213083|                null|                null|            039|        [2chw, 2wxf]|\n",
      "|ZYQXEVJIFYIBHZ-UH...|CHEMBL1614725|             TAK-285|{[ENSG00000146648...|  {[EFO_0000311], 1}|            03P|  [3poz, 3rcd, 3w2o]|\n",
      "|MQIMZDXIAHJKQP-UH...| CHEMBL450940|          PRINABEREL|{[ENSG00000140009...|{[EFO_0001065, HP...|            041|  [1x7b, 6qy7, 6qy8]|\n",
      "|MMIJMYOYKAKQPN-UH...| CHEMBL478524|        CHEMBL478524|                null|                null|            047|              [2pjl]|\n",
      "|TVZGACDUOSZQKY-LB...| CHEMBL376180|         AMINOPTERIN|                null|                null|            04J|        [4kn1, 4ky4]|\n",
      "|XZRYCTLOGNCQDG-UH...|CHEMBL1229525|       CHEMBL1229525|                null|                null|            057|              [3fqh]|\n",
      "|XEDHVZKDSYZQBF-UH...|CHEMBL3039520|          LASMIDITAN|{[ENSG00000179097...|{[EFO_0003890, EF...|            05X|              [7exd]|\n",
      "|JFHROPTYMMSOLG-UH...| CHEMBL570015|          GSK-256066|{[ENSG00000065989...|{[EFO_0000270, EF...|            066|              [3gwt]|\n",
      "|QADPYRIHXKWUSV-UH...|CHEMBL1852688|        INFIGRATINIB|{[ENSG00000066468...|{[EFO_0000616, Or...|            07J|              [3tt0]|\n",
      "|QICPQLFMWYQJGX-SF...| CHEMBL305178|        CHEMBL305178|                null|                null|            084|              [1ouk]|\n",
      "|JLKIGFTWXXRPMT-UH...|    CHEMBL443|    SULFAMETHOXAZOLE|                null|                null|            08D|  [3tzf, 6y08, 6ysx]|\n",
      "|VREFGVBLTWBCJP-UH...|    CHEMBL661|          ALPRAZOLAM|{[ENSG00000182256...|{[EFO_0004262, EF...|            08H|        [3u5j, 6huo]|\n",
      "+--------------------+-------------+--------------------+--------------------+--------------------+---------------+--------------------+\n",
      "only showing top 20 rows\n",
      "\n"
     ]
    }
   ],
   "source": [
    "# Reading and processing the molecule dataframe:\n",
    "molecules_df = (\n",
    "    spark.read.parquet(molecule_index)\n",
    "    .select(\n",
    "        col('id').alias('chembl_id'), 'inchiKey',\n",
    "        'name', 'linkedTargets', 'linkedDiseases')\n",
    ")\n",
    "\n",
    "print(molecules_df.count())\n",
    "\n",
    "# Reading the unichem map: => Instead Unichem, we use different dataset.\n",
    "# unichem_df = (\n",
    "#     spark.read.csv(unichem_map, sep='\\t', header=True)\n",
    "#     .withColumnRenamed('From src:\\'1\\'', 'chembl_id')\n",
    "#     .withColumnRenamed('To src:\\'3\\'', 'pdb_compound_id')\n",
    "# )\n",
    "\n",
    "pdb_chem_df = (\n",
    "    spark.read.csv(pdb_chem_file, sep=',', header=True)\n",
    "    .withColumnRenamed('InChIKey', 'inchiKey')\n",
    "    .withColumnRenamed('CCD_ID', 'pdb_compound_id')\n",
    ")\n",
    "\n",
    "print(pdb_chem_df.count())\n",
    "\n",
    "# Joined unichem with OT molecules + map compounds to structures:\n",
    "molecules_w_pdb = spark.createDataFrame(\n",
    "    molecules_df\n",
    "    \n",
    "    # Joining dataset with compound identifier:\n",
    "    .join(pdb_chem_df, on='inchiKey', how='inner')\n",
    "    \n",
    "    # Convert dataset to pandas:\n",
    "    .toPandas()\n",
    "    \n",
    "    # Map compound identifiers to structures:\n",
    "    .assign(pdb_structure_id = lambda df: df.pdb_compound_id.apply(get_structure))\n",
    ")\n",
    "\n",
    "print(molecules_w_pdb.count())\n",
    "molecules_w_pdb.show()"
   ]
  },
  {
   "cell_type": "markdown",
   "id": "8775f10c",
   "metadata": {},
   "source": [
    "## Mapping chains to genes\n",
    "\n",
    "1. Reading pdb2chain file.\n",
    "2. Join with the above generated dataset.\n",
    "3. Save file as json."
   ]
  },
  {
   "cell_type": "code",
   "execution_count": 29,
   "id": "ab7a1239",
   "metadata": {
    "ExecuteTime": {
     "end_time": "2022-03-30T13:16:59.830761Z",
     "start_time": "2022-03-30T13:16:59.310811Z"
    }
   },
   "outputs": [
    {
     "data": {
      "text/plain": [
       "26585"
      ]
     },
     "execution_count": 29,
     "metadata": {},
     "output_type": "execute_result"
    }
   ],
   "source": [
    "# Reading file wiht chain map to ensembl gene identifier:\n",
    "pdb_chain_to_gene = (\n",
    "    spark.read.csv(chain_map, sep=',', header=True, comment='#')\n",
    "    .select(\n",
    "        col('PDB').alias('pdb_structure_id'), \n",
    "        col('GENE_ID').alias('ensembl_gene_id'),\n",
    "        col('CHAIN').alias('chain_id'),\n",
    "        col('SP_PRIMARY').alias('uniprot')\n",
    "    )\n",
    "    .distinct()\n",
    "    .persist()\n",
    ")\n",
    "\n",
    "gene_mapped_structures = (\n",
    "    molecules_w_pdb\n",
    "    \n",
    "    # Explode the pdb structure column and aggregate by compound: \n",
    "    .select(\n",
    "        'pdb_compound_id', \n",
    "        explode(col('pdb_structure_id')).alias('pdb_structure_id')\n",
    "    )\n",
    "    .groupby('pdb_structure_id')\n",
    "    .agg(collect_set(col('pdb_compound_id')).alias('compound_ids'))\n",
    "    \n",
    "    # Joining with genes by pdb_structure id:\n",
    "    .join(pdb_chain_to_gene, on='pdb_structure_id', how='left')\n",
    "    .filter(col('ensembl_gene_id').rlike('ENSG\\d+'))\n",
    "    \n",
    "    # Reorganizing the dataset:\n",
    "    .groupby('pdb_structure_id')\n",
    "    .agg(\n",
    "        collect_set(struct(\n",
    "            col('ensembl_gene_id'),\n",
    "            col('chain_id'),\n",
    "            col('uniprot')\n",
    "        )).alias('chains'),\n",
    "        first(col('compound_ids')).alias('compound_ids')\n",
    "    )\n",
    "    .persist()\n",
    ")\n",
    "\n",
    "gene_mapped_structures.count()"
   ]
  },
  {
   "cell_type": "markdown",
   "id": "434d4a3e",
   "metadata": {},
   "source": [
    "### Filter out unwanted compounds\n",
    "\n",
    "1. Fetch data from `https://zhanggroup.org/BioLiP/ligand_list`\n",
    "2. Explode compound\n",
    "3. Do antijoin"
   ]
  },
  {
   "cell_type": "code",
   "execution_count": 50,
   "id": "d09ea8f0",
   "metadata": {
    "ExecuteTime": {
     "end_time": "2022-03-30T14:57:02.395219Z",
     "start_time": "2022-03-30T14:56:59.573980Z"
    }
   },
   "outputs": [
    {
     "name": "stdout",
     "output_type": "stream",
     "text": [
      "+-----------+----------------+--------------------+--------------+\n",
      "|compound_id|pdb_structure_id|              chains|  compound_ids|\n",
      "+-----------+----------------+--------------------+--------------+\n",
      "|        AS4|            2aa2|[{ENSG00000151623...|    [AS4, GOL]|\n",
      "|        AS4|            6hgj|[{ENSG00000196136...|    [EDO, AS4]|\n",
      "|        CCK|            3e3b|[{ENSG00000070770...|         [CCK]|\n",
      "|        CCK|            3at4|[{ENSG00000101266...|         [CCK]|\n",
      "|        CK9|            2a0c|[{ENSG00000123374...|         [CK9]|\n",
      "|        CRS|            4gbc|[{ENSG00000254647...|     [CRS, ZN]|\n",
      "|        CRS|            1zeh|[{ENSG00000254647...|     [CRS, ZN]|\n",
      "|        CRS|            4gbi|[{ENSG00000254647...|     [CRS, ZN]|\n",
      "|        CRS|            4gbl|[{ENSG00000254647...|     [CRS, ZN]|\n",
      "|        CRS|            6gnq|[{ENSG00000254647...|[EDO, CRS, ZN]|\n",
      "|        CRS|            1uz9|[{ENSG00000254647...|     [CRS, ZN]|\n",
      "|        CRS|            4gbk|[{ENSG00000254647...|     [CRS, ZN]|\n",
      "|        CRS|            1ev3|[{ENSG00000254647...|     [CRS, ZN]|\n",
      "|        CRS|            6nwv|[{ENSG00000254647...|[GOL, CRS, ZN]|\n",
      "|        CRS|            2omg|[{ENSG00000254647...|[URE, CRS, ZN]|\n",
      "|        CRS|            4gbn|[{ENSG00000254647...|     [CRS, ZN]|\n",
      "|        CRS|            1ev6|[{ENSG00000254647...|     [CRS, ZN]|\n",
      "|        JA9|            7eri|[{ENSG00000118271...|         [JA9]|\n",
      "|        6Q5|            5k3m|[{ENSG00000143365...|         [6Q5]|\n",
      "|        7KD|            5mah|[{ENSG00000165304...|    [GOL, 7KD]|\n",
      "+-----------+----------------+--------------------+--------------+\n",
      "only showing top 20 rows\n",
      "\n"
     ]
    }
   ],
   "source": [
    "excluded_compounds = spark.createDataFrame(\n",
    "    pd.read_csv('https://zhanggroup.org/BioLiP/ligand_list', header=None)\n",
    "    .rename(columns=({0: 'compound_id'}))\n",
    "    .astype(str)\n",
    ").persist()\n",
    "\n",
    "# exploded, no filter: 38633\n",
    "# exploded, filtered: 21750\n",
    "(\n",
    "    gene_mapped_structures\n",
    "    .withColumn('compound_id', explode(col('compound_ids')))\n",
    "    .join(excluded_compounds, on='compound_id', how='left_anti')\n",
    "    .show()\n",
    ")"
   ]
  },
  {
   "cell_type": "code",
   "execution_count": 33,
   "id": "d8580a51",
   "metadata": {
    "ExecuteTime": {
     "end_time": "2022-03-30T13:17:44.234878Z",
     "start_time": "2022-03-30T13:17:39.381306Z"
    }
   },
   "outputs": [],
   "source": [
    "(\n",
    "    gene_mapped_structures\n",
    "    .write.mode('overwrite').json('gene_mapped_structures.json')\n",
    ")"
   ]
  },
  {
   "cell_type": "code",
   "execution_count": null,
   "id": "7f21dc9f",
   "metadata": {},
   "outputs": [],
   "source": []
  },
  {
   "cell_type": "code",
   "execution_count": null,
   "id": "79616ff8",
   "metadata": {},
   "outputs": [],
   "source": []
  },
  {
   "cell_type": "code",
   "execution_count": null,
   "id": "0b92042f",
   "metadata": {},
   "outputs": [],
   "source": []
  },
  {
   "cell_type": "code",
   "execution_count": 34,
   "id": "9d1e0f36",
   "metadata": {
    "ExecuteTime": {
     "end_time": "2022-03-30T13:17:47.445570Z",
     "start_time": "2022-03-30T13:17:47.285040Z"
    }
   },
   "outputs": [
    {
     "name": "stdout",
     "output_type": "stream",
     "text": [
      "   26585\n"
     ]
    }
   ],
   "source": [
    "%%bash\n",
    "\n",
    "cat gene_mapped_structures.json/*json | gzip > gene_mapped_structures.json.gz\n",
    "\n",
    "gzcat gene_mapped_structures.json.gz | wc -l"
   ]
  },
  {
   "cell_type": "code",
   "execution_count": 17,
   "id": "e5766a64",
   "metadata": {
    "ExecuteTime": {
     "end_time": "2022-03-30T13:02:05.725005Z",
     "start_time": "2022-03-30T13:01:55.648500Z"
    },
    "scrolled": false
   },
   "outputs": [
    {
     "name": "stdout",
     "output_type": "stream",
     "text": [
      "-RECORD 0-----------------------------\n",
      " pdb_compound_id  | 1FL               \n",
      " pdb_structure_id | 6e78              \n",
      " ensembl_gene_id  | [ENSG00000118271] \n",
      "only showing top 1 row\n",
      "\n"
     ]
    }
   ],
   "source": [
    "# Reading file wiht chain map to ensembl gene identifier:\n",
    "pdb_chain_to_gene = (\n",
    "    spark.read.csv(chain_map, sep=',', header=True, comment='#')\n",
    "    .select(\n",
    "        col('PDB').alias('pdb_structure_id'), \n",
    "        col('GENE_ID').alias('ensembl_gene_id')\n",
    "    )\n",
    "    .distinct()\n",
    "    .persist()\n",
    ")\n",
    "\n",
    "structure_to_genes = (\n",
    "    molecules_w_pdb\n",
    "    .select(col('pdb_compound_id'), explode(col('pdb_structure_id')).alias('pdb_structure_id'))\n",
    "    .join(pdb_chain_to_gene, on='pdb_structure_id', how='left')\n",
    "    .distinct()\n",
    "    .groupBy(['pdb_compound_id', 'pdb_structure_id'])\n",
    "    .agg(collect_set(col('ensembl_gene_id')).alias('ensembl_gene_id'))\n",
    "    .persist()\n",
    ")\n",
    "\n",
    "(\n",
    "    structure_to_genes\n",
    "    .show(1, False, True)\n",
    ")"
   ]
  },
  {
   "cell_type": "code",
   "execution_count": 67,
   "id": "6013393b",
   "metadata": {
    "ExecuteTime": {
     "end_time": "2022-02-26T19:16:02.940668Z",
     "start_time": "2022-02-26T19:16:01.981629Z"
    }
   },
   "outputs": [
    {
     "name": "stderr",
     "output_type": "stream",
     "text": [
      "                                                                                \r"
     ]
    },
    {
     "data": {
      "text/plain": [
       "2670"
      ]
     },
     "execution_count": 67,
     "metadata": {},
     "output_type": "execute_result"
    }
   ],
   "source": [
    "(\n",
    "    structure_to_genes\n",
    "    .filter(size(col('ensembl_gene_id')) > 0)\n",
    "    .withColumnRenamed('pdb_compound_id', 'CCD_id')\n",
    "    .groupBy('CCD_id')\n",
    "    .agg(collect_set(col('pdb_structure_id')).alias('structures_not_in_sifts'))\n",
    "#     .show(truncate=False)\n",
    "    .count()\n",
    ")"
   ]
  },
  {
   "cell_type": "code",
   "execution_count": 4,
   "id": "74e4663c",
   "metadata": {
    "ExecuteTime": {
     "end_time": "2022-03-30T12:40:21.418989Z",
     "start_time": "2022-03-30T12:40:21.397877Z"
    }
   },
   "outputs": [
    {
     "name": "stderr",
     "output_type": "stream",
     "text": [
      "gzcat: can't stat: annotated_molecules.json.gz/*gz (annotated_molecules.json.gz/*gz.gz): No such file or directory\n"
     ]
    }
   ],
   "source": [
    "%%bash\n",
    "\n",
    "gzcat annotated_molecules.json.gz/*gz | head \n",
    " "
   ]
  },
  {
   "cell_type": "code",
   "execution_count": 115,
   "id": "3006a81e",
   "metadata": {
    "ExecuteTime": {
     "end_time": "2022-02-26T19:38:15.656292Z",
     "start_time": "2022-02-26T19:38:14.435433Z"
    }
   },
   "outputs": [],
   "source": [
    "annotated_molecules.write.json('annotated_molecules.json.gz')"
   ]
  },
  {
   "cell_type": "code",
   "execution_count": 1,
   "id": "65cba7a3",
   "metadata": {
    "ExecuteTime": {
     "end_time": "2022-02-26T21:42:31.144756Z",
     "start_time": "2022-02-26T21:42:30.995885Z"
    }
   },
   "outputs": [
    {
     "ename": "NameError",
     "evalue": "name 'annotated_molecules' is not defined",
     "output_type": "error",
     "traceback": [
      "\u001b[0;31m---------------------------------------------------------------------------\u001b[0m",
      "\u001b[0;31mNameError\u001b[0m                                 Traceback (most recent call last)",
      "\u001b[0;32m/var/folders/gr/q7cf7ljx2ss8b5cgvycxn9yxz2wxjr/T/ipykernel_20877/4163365044.py\u001b[0m in \u001b[0;36m<cell line: 2>\u001b[0;34m()\u001b[0m\n\u001b[1;32m      1\u001b[0m (\n\u001b[0;32m----> 2\u001b[0;31m     \u001b[0mannotated_molecules\u001b[0m\u001b[0;34m\u001b[0m\u001b[0;34m\u001b[0m\u001b[0m\n\u001b[0m\u001b[1;32m      3\u001b[0m     \u001b[0;34m.\u001b[0m\u001b[0mfilter\u001b[0m\u001b[0;34m(\u001b[0m\u001b[0mcol\u001b[0m\u001b[0;34m(\u001b[0m\u001b[0;34m'chembl_id'\u001b[0m\u001b[0;34m)\u001b[0m \u001b[0;34m==\u001b[0m \u001b[0;34m'CHEMBL3353410'\u001b[0m\u001b[0;34m)\u001b[0m\u001b[0;34m\u001b[0m\u001b[0;34m\u001b[0m\u001b[0m\n\u001b[1;32m      4\u001b[0m     \u001b[0;34m.\u001b[0m\u001b[0mshow\u001b[0m\u001b[0;34m(\u001b[0m\u001b[0;34m)\u001b[0m\u001b[0;34m\u001b[0m\u001b[0;34m\u001b[0m\u001b[0m\n\u001b[1;32m      5\u001b[0m )\n",
      "\u001b[0;31mNameError\u001b[0m: name 'annotated_molecules' is not defined"
     ]
    }
   ],
   "source": [
    "(\n",
    "    annotated_molecules\n",
    "    .filter(col('chembl_id') == 'CHEMBL3353410')\n",
    "    .show()\n",
    ")"
   ]
  },
  {
   "cell_type": "markdown",
   "id": "f85cd7a1",
   "metadata": {},
   "source": [
    "# Testing targets using sifts\n",
    "\n",
    "Data fetched from: [/pub/databases/msd/sifts/flatfiles/csv](/pub/databases/msd/sifts/flatfiles/csv)"
   ]
  },
  {
   "cell_type": "code",
   "execution_count": 6,
   "id": "aa274715",
   "metadata": {
    "ExecuteTime": {
     "end_time": "2022-03-30T12:41:46.399130Z",
     "start_time": "2022-03-30T12:41:43.687635Z"
    }
   },
   "outputs": [
    {
     "name": "stdout",
     "output_type": "stream",
     "text": [
      "  215134\n",
      "# 2022/02/20 - 18:52 | PDB: 07.22 | UniProt: 2022.01\n",
      "PDB,CHAIN,SP_PRIMARY,GENE_ID,TRANSCRIPT_ID,TRANSLATION_ID,EXON_ID\n",
      "10gs,A,P09211,ENSG00000084207,ENST00000398606,ENSP00000381607,ENSE00003491308\n",
      "10gs,A,P09211,ENSG00000084207,ENST00000398606,ENSP00000381607,ENSE00003514541\n",
      "10gs,A,P09211,ENSG00000084207,ENST00000398606,ENSP00000381607,ENSE00003556693\n",
      "10gs,A,P09211,ENSG00000084207,ENST00000398606,ENSP00000381607,ENSE00003615072\n",
      "10gs,A,P09211,ENSG00000084207,ENST00000398606,ENSP00000381607,ENSE00003750846\n",
      "10gs,A,P09211,ENSG00000084207,ENST00000398606,ENSP00000381607,ENSE00003822108\n",
      "10gs,B,P09211,ENSG00000084207,ENST00000398606,ENSP00000381607,ENSE00003491308\n",
      "10gs,B,P09211,ENSG00000084207,ENST00000398606,ENSP00000381607,ENSE00003514541\n"
     ]
    }
   ],
   "source": [
    "%%bash\n",
    "\n",
    "\n",
    "# gzcat pdb_chain_ensembl.csv.gz | wc -l  #  /pub/databases/msd/sifts/flatfiles/flatfiles/csv\n",
    "# wc -l pdb_chain_ensembl.csv #  /pub/databases/msd/sifts/flatfiles/csv\n",
    "\n",
    "cut -f1,2 -d, pdb_chain_ensembl.csv | sort -u | wc -l\n",
    "# head pdb_chain_ensembl.csv\n",
    "\n",
    "cat pdb_chain_ensembl.csv | head"
   ]
  },
  {
   "cell_type": "code",
   "execution_count": 32,
   "id": "9520dd86",
   "metadata": {},
   "outputs": [
    {
     "name": "stdout",
     "output_type": "stream",
     "text": [
      "+-------------+--------------------+-----------------+-----------+---------------+\n",
      "|    chembl_id|            inchiKey|             name|compound_id|pdb_compound_id|\n",
      "+-------------+--------------------+-----------------+-----------+---------------+\n",
      "| CHEMBL110458|LXBIFEVIBLOUGU-DP...|       MIGALASTAT|        DGJ|            DGJ|\n",
      "|CHEMBL1169388|RTHCYVBBDHJXIQ-IN...|   (S)-Fluoxetine|        SFX|            SFX|\n",
      "|CHEMBL1173055|HMABYWSNWIZPAG-UH...|        RUCAPARIB|        RPB|            RPB|\n",
      "|CHEMBL1231606|GHQCCHWTDLTMJT-UH...|    CHEMBL1231606|        C4F|            C4F|\n",
      "|CHEMBL1232381|AUTOLBMXDDTRRT-JG...|    CHEMBL1232381|        DTB|            DTB|\n",
      "|CHEMBL1234354|XDLYKKIQACFMJG-WK...|      PF-04691502|        ML9|            ML9|\n",
      "|CHEMBL1236282|OTVAEFIXJLOWRX-NX...|    THIAMPHENICOL|        TH8|            TH8|\n",
      "|   CHEMBL1515|PMRYVIKBURPHAH-UH...|      METHIMAZOLE|        MMZ|            MMZ|\n",
      "|   CHEMBL1560|FAKRSMQSSFJEIM-RQ...|        CAPTOPRIL|        X8Z|            X8Z|\n",
      "|  CHEMBL15844|SIKJAQJRHWYJAI-UH...|           INDOLE|        IND|            IND|\n",
      "|  CHEMBL16081|DLFVBJFMPXGRIB-UH...|        ACETAMIDE|        ACM|            ACM|\n",
      "|   CHEMBL1622|OVBPIULPVIDEAO-LB...|       FOLIC ACID|        FOL|            FOL|\n",
      "|    CHEMBL176|SKKLOUVUUNMCJE-FQ...|      BEKANAMYCIN|        9CS|            9CS|\n",
      "|CHEMBL1789941|HFNKQEVNSGCOJV-OA...|      RUXOLITINIB|        RXT|            RXT|\n",
      "|CHEMBL1956285|OIZSVTOIBNSVOS-UH...|          DSM-265|        D65|            D65|\n",
      "|CHEMBL2107333|LDCRTTXIJACKKU-ON...|DIMETHYL FUMARATE|        EOU|            EOU|\n",
      "| CHEMBL227711|HSCJRCZFDFQWRP-NY...|     CHEMBL227711|        UFM|            UFM|\n",
      "| CHEMBL260091|FQYBTYFKOHPWQT-VG...|         CHIR-090|        C90|            C90|\n",
      "| CHEMBL265502|FIAFUQMPZJWCLV-UH...|          SURAMIN|        SVR|            SVR|\n",
      "| CHEMBL280998|YCIMNLLNPGFGHC-UH...|         CATECHOL|        CAQ|            CAQ|\n",
      "+-------------+--------------------+-----------------+-----------+---------------+\n",
      "only showing top 20 rows\n",
      "\n"
     ]
    }
   ],
   "source": [
    "# Reading and processing the molecule dataframe\n",
    "id_map = (\n",
    "    spark.read.csv('components_inchikeys.csv', sep=',', header=True)\n",
    "    .select(\n",
    "        col('CCD_ID').alias('compound_id'),\n",
    "        col('InChIKey').alias('inchiKey')\n",
    "    )\n",
    ")\n",
    "\n",
    "# Reading the unichem map:\n",
    "unichem_df = (\n",
    "    spark.read.csv(unichem_map, sep='\\t', header=True)\n",
    "    .withColumnRenamed('From src:\\'1\\'', 'chembl_id')\n",
    "    .withColumnRenamed('To src:\\'3\\'', 'pdb_compound_id')\n",
    ")\n",
    "\n",
    "\n",
    "\n",
    "molecules = (\n",
    "    # Reading molecule index:\n",
    "    spark.read.parquet(molecule_index)\n",
    "    .select(\n",
    "        col('id').alias('chembl_id'),\n",
    "        col('inchiKey'), col('name')\n",
    "    )\n",
    "    \n",
    "    # Join with pdbChem data by inchiKey:\n",
    "    .join(id_map, on='inchiKey', how='left')\n",
    "    \n",
    "    # Join with unichem data by chembl_id:\n",
    "    .join(unichem_df, on='chembl_id', how='left')\n",
    "    \n",
    "    # Filtering for molecules that can be mapped by unichem OR pdbChem:\n",
    "    .filter(\n",
    "        col('compound_id').isNotNull() | col('pdb_compound_id').isNotNull()\n",
    "    )\n",
    "    .persist()\n",
    ")\n",
    "\n",
    "molecules.show()"
   ]
  },
  {
   "cell_type": "code",
   "execution_count": 33,
   "id": "7238e960",
   "metadata": {},
   "outputs": [
    {
     "data": {
      "text/plain": [
       "3806"
      ]
     },
     "execution_count": 33,
     "metadata": {},
     "output_type": "execute_result"
    }
   ],
   "source": [
    "molecules.count()"
   ]
  },
  {
   "cell_type": "code",
   "execution_count": 23,
   "id": "6d4a54c7",
   "metadata": {},
   "outputs": [
    {
     "name": "stdout",
     "output_type": "stream",
     "text": [
      "+-----------+--------------------+\n",
      "|compound_id|            inchiKey|\n",
      "+-----------+--------------------+\n",
      "|        000|CXHHBNMLPJOKQD-UH...|\n",
      "|        001|NBYCDVVSYOMFMS-VM...|\n",
      "|        002|MWZOULASPWUGJJ-NF...|\n",
      "|        003|NNZDBCPMOOEFTE-UH...|\n",
      "|        004|ZGUNAGUHMKGQNY-ZE...|\n",
      "|        005|LDSJMFGYNFIFRK-IU...|\n",
      "|        006|KKTYZYHUPKXLPL-RI...|\n",
      "|        007|SJWOFBVBNFLWLP-UH...|\n",
      "|        008|OEVYDSSAPNIURZ-AE...|\n",
      "|        009|DCJGHBWTJFHQCR-UE...|\n",
      "|        00A|RVDNKWBGRIIRML-XN...|\n",
      "|        00B|PMQQFSDIECYOQV-SC...|\n",
      "|        00C|XVOYSCVBGLVSOL-UW...|\n",
      "|        00D|DXSUORGKJZADET-RX...|\n",
      "|        00E|VIWZVFVJPXTXPA-UH...|\n",
      "|        00F|SMNGNHRXUGKQDP-MW...|\n",
      "|        00G|NSZDJRLPCLOQAM-UH...|\n",
      "|        00H|CZMVVDBXWOZCRC-SN...|\n",
      "|        00I|XRFHGJLVHMSQFX-IZ...|\n",
      "|        00J|LGXVKMDGSIWEHL-UH...|\n",
      "+-----------+--------------------+\n",
      "only showing top 20 rows\n",
      "\n"
     ]
    }
   ],
   "source": [
    "id_map.show()"
   ]
  },
  {
   "cell_type": "code",
   "execution_count": 27,
   "id": "a5582e85",
   "metadata": {},
   "outputs": [
    {
     "name": "stdout",
     "output_type": "stream",
     "text": [
      "+-----------+-------------+--------------------+\n",
      "|compound_id|    chembl_id|            inchiKey|\n",
      "+-----------+-------------+--------------------+\n",
      "|        000|         null|CXHHBNMLPJOKQD-UH...|\n",
      "|        001|         null|NBYCDVVSYOMFMS-VM...|\n",
      "|        002|         null|MWZOULASPWUGJJ-NF...|\n",
      "|        003| CHEMBL401874|NNZDBCPMOOEFTE-UH...|\n",
      "|        004| CHEMBL378605|ZGUNAGUHMKGQNY-ZE...|\n",
      "|        005| CHEMBL302932|LDSJMFGYNFIFRK-IU...|\n",
      "|        006| CHEMBL231522|KKTYZYHUPKXLPL-RI...|\n",
      "|        007| CHEMBL382127|SJWOFBVBNFLWLP-UH...|\n",
      "|        008| CHEMBL381806|OEVYDSSAPNIURZ-AE...|\n",
      "|        009| CHEMBL406317|DCJGHBWTJFHQCR-UE...|\n",
      "|        00A|         null|RVDNKWBGRIIRML-XN...|\n",
      "|        00B|CHEMBL1229504|PMQQFSDIECYOQV-SC...|\n",
      "|        00C|         null|XVOYSCVBGLVSOL-UW...|\n",
      "|        00D|         null|DXSUORGKJZADET-RX...|\n",
      "|        00E|         null|VIWZVFVJPXTXPA-UH...|\n",
      "|        00F|         null|SMNGNHRXUGKQDP-MW...|\n",
      "|        00G|         null|NSZDJRLPCLOQAM-UH...|\n",
      "|        00H|         null|CZMVVDBXWOZCRC-SN...|\n",
      "|        00I|         null|XRFHGJLVHMSQFX-IZ...|\n",
      "|        00J|         null|LGXVKMDGSIWEHL-UH...|\n",
      "+-----------+-------------+--------------------+\n",
      "only showing top 20 rows\n",
      "\n"
     ]
    }
   ],
   "source": [
    "# Reading the unichem map:\n",
    "unichem_df = (\n",
    "    spark.read.csv(unichem_map, sep='\\t', header=True)\n",
    "    .withColumnRenamed('From src:\\'1\\'', 'chembl_id')\n",
    "    .withColumnRenamed('To src:\\'3\\'', 'compound_id')\n",
    "    .join(id_map, on='compound_id', how='outer')\n",
    ")\n",
    "\n",
    "unichem_df.show()"
   ]
  },
  {
   "cell_type": "code",
   "execution_count": 34,
   "id": "bb2f3074",
   "metadata": {},
   "outputs": [
    {
     "data": {
      "text/plain": [
       "3806"
      ]
     },
     "execution_count": 34,
     "metadata": {},
     "output_type": "execute_result"
    }
   ],
   "source": [
    "molecules = (\n",
    "    # Reading molecule index:\n",
    "    spark.read.parquet(molecule_index)\n",
    "    .select(\n",
    "        col('id').alias('chembl_id'),\n",
    "        col('inchiKey'), col('name')\n",
    "    )\n",
    "    .persist()\n",
    ")\n",
    "\n",
    "\n",
    "im = (\n",
    "    molecules\n",
    "    .join(id_map, on='inchiKey')\n",
    ")\n",
    "\n",
    "um = (\n",
    "    molecules\n",
    "    .join(unichem_df, on='chembl_id')\n",
    ")\n",
    "\n",
    "(\n",
    "    im.join(um, on='chembl_id', how='outer')\n",
    "    .count()\n",
    ")"
   ]
  },
  {
   "cell_type": "code",
   "execution_count": null,
   "id": "9aad60eb",
   "metadata": {
    "ExecuteTime": {
     "start_time": "2022-03-15T15:35:49.828Z"
    }
   },
   "outputs": [],
   "source": [
    "%%bash\n",
    "\n",
    "ls -lah"
   ]
  },
  {
   "cell_type": "code",
   "execution_count": null,
   "id": "8392688a",
   "metadata": {},
   "outputs": [],
   "source": []
  }
 ],
 "metadata": {
  "kernelspec": {
   "display_name": "Python 3",
   "language": "python",
   "name": "python3"
  },
  "language_info": {
   "codemirror_mode": {
    "name": "ipython",
    "version": 3
   },
   "file_extension": ".py",
   "mimetype": "text/x-python",
   "name": "python",
   "nbconvert_exporter": "python",
   "pygments_lexer": "ipython3",
   "version": "3.9.5"
  }
 },
 "nbformat": 4,
 "nbformat_minor": 5
}
