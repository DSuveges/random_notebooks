{
 "cells": [
  {
   "cell_type": "code",
   "execution_count": 59,
   "metadata": {
    "ExecuteTime": {
     "end_time": "2021-02-18T23:44:38.337724Z",
     "start_time": "2021-02-18T23:44:38.324602Z"
    }
   },
   "outputs": [],
   "source": [
    "import pandas as pd\n",
    "import json\n",
    "import gzip\n",
    "import math\n",
    "\n",
    "# Evidence data:\n",
    "evidence_file = '/Users/dsuveges/repositories/evidence_datasource_parsers/resources/sysbio_evidence-31-01-2019.tsv'\n",
    "evidence_df = pd.read_csv(evidence_file, sep='\\t')\n",
    "\n",
    "# Publication info:\n",
    "publication_file = '/Users/dsuveges/repositories/evidence_datasource_parsers/resources/sysbio_publication_info_nov2018.tsv'\n",
    "publication_df = pd.read_csv(publication_file, sep='\\t')"
   ]
  },
  {
   "cell_type": "code",
   "execution_count": 2,
   "metadata": {
    "ExecuteTime": {
     "end_time": "2021-02-18T19:58:53.115591Z",
     "start_time": "2021-02-18T19:58:53.094487Z"
    }
   },
   "outputs": [
    {
     "data": {
      "text/html": [
       "<div>\n",
       "<style scoped>\n",
       "    .dataframe tbody tr th:only-of-type {\n",
       "        vertical-align: middle;\n",
       "    }\n",
       "\n",
       "    .dataframe tbody tr th {\n",
       "        vertical-align: top;\n",
       "    }\n",
       "\n",
       "    .dataframe thead th {\n",
       "        text-align: right;\n",
       "    }\n",
       "</style>\n",
       "<table border=\"1\" class=\"dataframe\">\n",
       "  <thead>\n",
       "    <tr style=\"text-align: right;\">\n",
       "      <th></th>\n",
       "      <th>pmid</th>\n",
       "      <th>gene_set_name</th>\n",
       "      <th>target_id</th>\n",
       "      <th>disease_id</th>\n",
       "      <th>disease_name</th>\n",
       "      <th>score</th>\n",
       "    </tr>\n",
       "  </thead>\n",
       "  <tbody>\n",
       "    <tr>\n",
       "      <th>0</th>\n",
       "      <td>28892060</td>\n",
       "      <td>Intestine Key Driver Genes</td>\n",
       "      <td>CD53</td>\n",
       "      <td>http://www.ebi.ac.uk/efo/EFO_0003767</td>\n",
       "      <td>Inflammatory bowel disease</td>\n",
       "      <td>0.083370</td>\n",
       "    </tr>\n",
       "    <tr>\n",
       "      <th>1</th>\n",
       "      <td>28892060</td>\n",
       "      <td>Intestine Key Driver Genes</td>\n",
       "      <td>RHOH</td>\n",
       "      <td>http://www.ebi.ac.uk/efo/EFO_0003767</td>\n",
       "      <td>Inflammatory bowel disease</td>\n",
       "      <td>0.116733</td>\n",
       "    </tr>\n",
       "    <tr>\n",
       "      <th>2</th>\n",
       "      <td>28892060</td>\n",
       "      <td>Intestine Key Driver Genes</td>\n",
       "      <td>DOCK2</td>\n",
       "      <td>http://www.ebi.ac.uk/efo/EFO_0003767</td>\n",
       "      <td>Inflammatory bowel disease</td>\n",
       "      <td>0.122212</td>\n",
       "    </tr>\n",
       "    <tr>\n",
       "      <th>3</th>\n",
       "      <td>28892060</td>\n",
       "      <td>Intestine Key Driver Genes</td>\n",
       "      <td>FGR</td>\n",
       "      <td>http://www.ebi.ac.uk/efo/EFO_0003767</td>\n",
       "      <td>Inflammatory bowel disease</td>\n",
       "      <td>0.132903</td>\n",
       "    </tr>\n",
       "    <tr>\n",
       "      <th>4</th>\n",
       "      <td>28892060</td>\n",
       "      <td>Intestine Key Driver Genes</td>\n",
       "      <td>NCKAP1L</td>\n",
       "      <td>http://www.ebi.ac.uk/efo/EFO_0003767</td>\n",
       "      <td>Inflammatory bowel disease</td>\n",
       "      <td>0.130997</td>\n",
       "    </tr>\n",
       "  </tbody>\n",
       "</table>\n",
       "</div>"
      ],
      "text/plain": [
       "       pmid               gene_set_name target_id  \\\n",
       "0  28892060  Intestine Key Driver Genes      CD53   \n",
       "1  28892060  Intestine Key Driver Genes      RHOH   \n",
       "2  28892060  Intestine Key Driver Genes     DOCK2   \n",
       "3  28892060  Intestine Key Driver Genes       FGR   \n",
       "4  28892060  Intestine Key Driver Genes   NCKAP1L   \n",
       "\n",
       "                             disease_id                disease_name     score  \n",
       "0  http://www.ebi.ac.uk/efo/EFO_0003767  Inflammatory bowel disease  0.083370  \n",
       "1  http://www.ebi.ac.uk/efo/EFO_0003767  Inflammatory bowel disease  0.116733  \n",
       "2  http://www.ebi.ac.uk/efo/EFO_0003767  Inflammatory bowel disease  0.122212  \n",
       "3  http://www.ebi.ac.uk/efo/EFO_0003767  Inflammatory bowel disease  0.132903  \n",
       "4  http://www.ebi.ac.uk/efo/EFO_0003767  Inflammatory bowel disease  0.130997  "
      ]
     },
     "execution_count": 2,
     "metadata": {},
     "output_type": "execute_result"
    }
   ],
   "source": [
    "evidence_df.head()"
   ]
  },
  {
   "cell_type": "code",
   "execution_count": 12,
   "metadata": {
    "ExecuteTime": {
     "end_time": "2021-02-18T20:04:55.920787Z",
     "start_time": "2021-02-18T20:04:55.902911Z"
    }
   },
   "outputs": [],
   "source": [
    "# Merging publication with evidence data:\n",
    "merged = evidence_df.merge(publication_df.drop('pmid', axis=1), on='gene_set_name', how='outer', indicator=True)\n",
    "\n",
    "# Checking if merging worked just fine:\n",
    "if len(merged.loc[merged._merge != 'both']) != 0:\n",
    "    print(f'{len(merged.loc[merged._merge != \"both\"])} rows could not be joined.')\n",
    "    print(merged.loc[merged._merge != \"both\"])"
   ]
  },
  {
   "cell_type": "code",
   "execution_count": 7,
   "metadata": {
    "ExecuteTime": {
     "end_time": "2021-02-18T19:59:56.040934Z",
     "start_time": "2021-02-18T19:59:56.037209Z"
    }
   },
   "outputs": [
    {
     "data": {
      "text/plain": [
       "6"
      ]
     },
     "execution_count": 7,
     "metadata": {},
     "output_type": "execute_result"
    }
   ],
   "source": [
    "len(publication_df)"
   ]
  },
  {
   "cell_type": "code",
   "execution_count": 57,
   "metadata": {
    "ExecuteTime": {
     "end_time": "2021-02-18T23:42:17.494653Z",
     "start_time": "2021-02-18T23:42:17.490240Z"
    }
   },
   "outputs": [
    {
     "data": {
      "text/plain": [
       "array(['p-value', 'rank', nan], dtype=object)"
      ]
     },
     "execution_count": 57,
     "metadata": {},
     "output_type": "execute_result"
    }
   ],
   "source": [
    "publication_df.score_type.unique()"
   ]
  },
  {
   "cell_type": "code",
   "execution_count": 9,
   "metadata": {
    "ExecuteTime": {
     "end_time": "2021-02-18T20:00:57.420371Z",
     "start_time": "2021-02-18T20:00:57.415779Z"
    }
   },
   "outputs": [
    {
     "data": {
      "text/plain": [
       "array(['Intestine Key Driver Genes',\n",
       "       'Macrophage-specific Key Driver Genes',\n",
       "       'Key causal regulators of LOAD-related microglia modules in all brain regions',\n",
       "       'Key causal regulators of top 20 LOAD-related modules in the prefrontal cortex',\n",
       "       'Key Drivers of CHD Causal Module',\n",
       "       'Genes prioritised from module m109'], dtype=object)"
      ]
     },
     "execution_count": 9,
     "metadata": {},
     "output_type": "execute_result"
    }
   ],
   "source": []
  },
  {
   "cell_type": "code",
   "execution_count": 78,
   "metadata": {
    "ExecuteTime": {
     "end_time": "2021-02-19T00:41:43.108107Z",
     "start_time": "2021-02-19T00:41:43.100362Z"
    }
   },
   "outputs": [],
   "source": [
    "def renormalize(n, start_range, new_range = [0.5,1]):\n",
    "    \"\"\"\n",
    "    A function to scale a value from a given range to a new range.\n",
    "    \n",
    "    Apply the function f(x) to n using and old (start_range) and a new range\n",
    "    where f(x) = (dNewRange / dOldRange * (n - old_range_lower_bound)) + new_lower\n",
    "    \"\"\"\n",
    "    \n",
    "    delta1 = start_range[1] - start_range[0]\n",
    "    delta2 = new_range[1] - new_range[0]\n",
    "    \n",
    "    max_new_range = max(new_range)\n",
    "    min_new_range = min(new_range)\n",
    "\n",
    "    if delta1 or delta2:\n",
    "        try:\n",
    "            normalized = (delta2 * (n - start_range[0]) / delta1) + new_range[0]\n",
    "        except ZeroDivisionError:\n",
    "            normalized = new_range[0]\n",
    "    else:\n",
    "        normalized = n\n",
    "    \n",
    "    # The formula results in values slightly smaller and larger than the boundaries of the new range\n",
    "    if normalized > max_new_range:\n",
    "        return max_new_range\n",
    "    \n",
    "    elif normalized < min_new_range:\n",
    "        return min_new_range\n",
    "\n",
    "    return round(normalized,4)\n",
    "\n",
    "\n",
    "def generate_score(row):\n",
    "    \"\"\"\n",
    "    Score generation depends on the score type.\n",
    "    \"\"\"\n",
    "    score_type = row['score_type']\n",
    "    score = row['score']\n",
    "    min_score = row['min_score']\n",
    "    max_score = row['max_score']\n",
    "    \n",
    "    if score_type == 'p-value':\n",
    "        parsed_score = renormalize(math.log10(score), [math.log10(max_score), math.log10(min_score)])\n",
    "    elif score_type == 'rank':\n",
    "        parsed_score = renormalize(score, [min_score, max_score])\n",
    "    else:\n",
    "        parsed_score = 0.75\n",
    "        \n",
    "    return parsed_score\n"
   ]
  },
  {
   "cell_type": "code",
   "execution_count": 67,
   "metadata": {
    "ExecuteTime": {
     "end_time": "2021-02-18T23:46:23.131274Z",
     "start_time": "2021-02-18T23:46:23.099711Z"
    }
   },
   "outputs": [
    {
     "data": {
      "text/html": [
       "<div>\n",
       "<style scoped>\n",
       "    .dataframe tbody tr th:only-of-type {\n",
       "        vertical-align: middle;\n",
       "    }\n",
       "\n",
       "    .dataframe tbody tr th {\n",
       "        vertical-align: top;\n",
       "    }\n",
       "\n",
       "    .dataframe thead th {\n",
       "        text-align: right;\n",
       "    }\n",
       "</style>\n",
       "<table border=\"1\" class=\"dataframe\">\n",
       "  <thead>\n",
       "    <tr style=\"text-align: right;\">\n",
       "      <th></th>\n",
       "      <th>pmid</th>\n",
       "      <th>gene_set_name</th>\n",
       "      <th>target_id</th>\n",
       "      <th>disease_id</th>\n",
       "      <th>disease_name</th>\n",
       "      <th>score</th>\n",
       "      <th>method</th>\n",
       "      <th>score_type</th>\n",
       "      <th>min_score</th>\n",
       "      <th>max_score</th>\n",
       "      <th>_merge</th>\n",
       "      <th>resourceScore</th>\n",
       "    </tr>\n",
       "  </thead>\n",
       "  <tbody>\n",
       "    <tr>\n",
       "      <th>0</th>\n",
       "      <td>28892060</td>\n",
       "      <td>Intestine Key Driver Genes</td>\n",
       "      <td>CD53</td>\n",
       "      <td>http://www.ebi.ac.uk/efo/EFO_0003767</td>\n",
       "      <td>Inflammatory bowel disease</td>\n",
       "      <td>0.083370</td>\n",
       "      <td>Genomic (GWAS, eQTL and cis-regulatory element...</td>\n",
       "      <td>rank</td>\n",
       "      <td>0.0834</td>\n",
       "      <td>0.981</td>\n",
       "      <td>both</td>\n",
       "      <td>0.5000</td>\n",
       "    </tr>\n",
       "    <tr>\n",
       "      <th>1</th>\n",
       "      <td>28892060</td>\n",
       "      <td>Intestine Key Driver Genes</td>\n",
       "      <td>RHOH</td>\n",
       "      <td>http://www.ebi.ac.uk/efo/EFO_0003767</td>\n",
       "      <td>Inflammatory bowel disease</td>\n",
       "      <td>0.116733</td>\n",
       "      <td>Genomic (GWAS, eQTL and cis-regulatory element...</td>\n",
       "      <td>rank</td>\n",
       "      <td>0.0834</td>\n",
       "      <td>0.981</td>\n",
       "      <td>both</td>\n",
       "      <td>0.5186</td>\n",
       "    </tr>\n",
       "    <tr>\n",
       "      <th>2</th>\n",
       "      <td>28892060</td>\n",
       "      <td>Intestine Key Driver Genes</td>\n",
       "      <td>DOCK2</td>\n",
       "      <td>http://www.ebi.ac.uk/efo/EFO_0003767</td>\n",
       "      <td>Inflammatory bowel disease</td>\n",
       "      <td>0.122212</td>\n",
       "      <td>Genomic (GWAS, eQTL and cis-regulatory element...</td>\n",
       "      <td>rank</td>\n",
       "      <td>0.0834</td>\n",
       "      <td>0.981</td>\n",
       "      <td>both</td>\n",
       "      <td>0.5216</td>\n",
       "    </tr>\n",
       "    <tr>\n",
       "      <th>3</th>\n",
       "      <td>28892060</td>\n",
       "      <td>Intestine Key Driver Genes</td>\n",
       "      <td>FGR</td>\n",
       "      <td>http://www.ebi.ac.uk/efo/EFO_0003767</td>\n",
       "      <td>Inflammatory bowel disease</td>\n",
       "      <td>0.132903</td>\n",
       "      <td>Genomic (GWAS, eQTL and cis-regulatory element...</td>\n",
       "      <td>rank</td>\n",
       "      <td>0.0834</td>\n",
       "      <td>0.981</td>\n",
       "      <td>both</td>\n",
       "      <td>0.5276</td>\n",
       "    </tr>\n",
       "    <tr>\n",
       "      <th>4</th>\n",
       "      <td>28892060</td>\n",
       "      <td>Intestine Key Driver Genes</td>\n",
       "      <td>NCKAP1L</td>\n",
       "      <td>http://www.ebi.ac.uk/efo/EFO_0003767</td>\n",
       "      <td>Inflammatory bowel disease</td>\n",
       "      <td>0.130997</td>\n",
       "      <td>Genomic (GWAS, eQTL and cis-regulatory element...</td>\n",
       "      <td>rank</td>\n",
       "      <td>0.0834</td>\n",
       "      <td>0.981</td>\n",
       "      <td>both</td>\n",
       "      <td>0.5265</td>\n",
       "    </tr>\n",
       "  </tbody>\n",
       "</table>\n",
       "</div>"
      ],
      "text/plain": [
       "       pmid               gene_set_name target_id  \\\n",
       "0  28892060  Intestine Key Driver Genes      CD53   \n",
       "1  28892060  Intestine Key Driver Genes      RHOH   \n",
       "2  28892060  Intestine Key Driver Genes     DOCK2   \n",
       "3  28892060  Intestine Key Driver Genes       FGR   \n",
       "4  28892060  Intestine Key Driver Genes   NCKAP1L   \n",
       "\n",
       "                             disease_id                disease_name     score  \\\n",
       "0  http://www.ebi.ac.uk/efo/EFO_0003767  Inflammatory bowel disease  0.083370   \n",
       "1  http://www.ebi.ac.uk/efo/EFO_0003767  Inflammatory bowel disease  0.116733   \n",
       "2  http://www.ebi.ac.uk/efo/EFO_0003767  Inflammatory bowel disease  0.122212   \n",
       "3  http://www.ebi.ac.uk/efo/EFO_0003767  Inflammatory bowel disease  0.132903   \n",
       "4  http://www.ebi.ac.uk/efo/EFO_0003767  Inflammatory bowel disease  0.130997   \n",
       "\n",
       "                                              method score_type  min_score  \\\n",
       "0  Genomic (GWAS, eQTL and cis-regulatory element...       rank     0.0834   \n",
       "1  Genomic (GWAS, eQTL and cis-regulatory element...       rank     0.0834   \n",
       "2  Genomic (GWAS, eQTL and cis-regulatory element...       rank     0.0834   \n",
       "3  Genomic (GWAS, eQTL and cis-regulatory element...       rank     0.0834   \n",
       "4  Genomic (GWAS, eQTL and cis-regulatory element...       rank     0.0834   \n",
       "\n",
       "   max_score _merge  resourceScore  \n",
       "0      0.981   both         0.5000  \n",
       "1      0.981   both         0.5186  \n",
       "2      0.981   both         0.5216  \n",
       "3      0.981   both         0.5276  \n",
       "4      0.981   both         0.5265  "
      ]
     },
     "execution_count": 67,
     "metadata": {},
     "output_type": "execute_result"
    }
   ],
   "source": [
    "def generate_score(row):\n",
    "    \"\"\"\n",
    "    Score generation depends on the score type.\n",
    "    \"\"\"\n",
    "    score_type = row['score_type']\n",
    "    score = row['score']\n",
    "    min_score = row['min_score']\n",
    "    max_score = row['max_score']\n",
    "    \n",
    "    if score_type == 'p-value':\n",
    "        parsed_score = renormalize(math.log10(score), [math.log10(max_score), math.log10(min_score)], [0.5, 1])\n",
    "    elif score_type == 'rank':\n",
    "        parsed_score = renormalize(score, [min_score, max_score], [0.5, 1])\n",
    "    else:\n",
    "        parsed_score = 0.75\n",
    "        \n",
    "    return parsed_score\n",
    "                                                    \n",
    "\n",
    "\n",
    "\n",
    "merged['resourceScore'] = merged.apply(generate_score, axis=1)\n",
    "merged.head()"
   ]
  },
  {
   "cell_type": "code",
   "execution_count": 77,
   "metadata": {
    "ExecuteTime": {
     "end_time": "2021-02-19T00:24:44.564819Z",
     "start_time": "2021-02-19T00:24:44.542846Z"
    }
   },
   "outputs": [],
   "source": [
    "out_file = 'cicaful.json.gz'\n",
    "# Updating dataframe:\n",
    "(\n",
    "    merged\n",
    "    .assign(diseaseFromSourceMappedId = merged.disease_id.apply(lambda x: x.split('/')[-1]),\n",
    "            datasourceId = 'sysbio',\n",
    "            datatypeId = 'affected_pathway',\n",
    "            literature = merged.pmid.apply(lambda x: [x]),\n",
    "            pathways = merged.gene_set_name.apply(lambda x: [{'name': x}])\n",
    "           )\n",
    "    .rename(columns={\n",
    "        'target_id': 'targetFromSourceId',\n",
    "        'disease_name': 'diseaseFromSource',\n",
    "        'method': 'studyOverview'\n",
    "    })\n",
    "    .drop(['_merge', 'max_score', 'min_score', 'score_type', 'score', 'disease_id', 'pmid','gene_set_name'], axis=1)\n",
    "    .to_json(out_file, compression='gzip', orient='records', lines=True)\n",
    ")"
   ]
  },
  {
   "cell_type": "code",
   "execution_count": 72,
   "metadata": {
    "ExecuteTime": {
     "end_time": "2021-02-19T00:09:25.768950Z",
     "start_time": "2021-02-19T00:09:25.763165Z"
    }
   },
   "outputs": [
    {
     "data": {
      "text/plain": [
       "['http:', '', 'www.ebi.ac.uk', 'efo', 'EFO_0003767']"
      ]
     },
     "execution_count": 72,
     "metadata": {},
     "output_type": "execute_result"
    }
   ],
   "source": [
    "merged.disease_id.str.split('/')"
   ]
  },
  {
   "cell_type": "code",
   "execution_count": 73,
   "metadata": {
    "ExecuteTime": {
     "end_time": "2021-02-19T00:16:57.109450Z",
     "start_time": "2021-02-19T00:16:57.096036Z"
    }
   },
   "outputs": [
    {
     "data": {
      "text/html": [
       "<div>\n",
       "<style scoped>\n",
       "    .dataframe tbody tr th:only-of-type {\n",
       "        vertical-align: middle;\n",
       "    }\n",
       "\n",
       "    .dataframe tbody tr th {\n",
       "        vertical-align: top;\n",
       "    }\n",
       "\n",
       "    .dataframe thead th {\n",
       "        text-align: right;\n",
       "    }\n",
       "</style>\n",
       "<table border=\"1\" class=\"dataframe\">\n",
       "  <thead>\n",
       "    <tr style=\"text-align: right;\">\n",
       "      <th></th>\n",
       "      <th>gene_set_name</th>\n",
       "      <th>target_id</th>\n",
       "      <th>disease_name</th>\n",
       "      <th>method</th>\n",
       "      <th>resourceScore</th>\n",
       "    </tr>\n",
       "  </thead>\n",
       "  <tbody>\n",
       "    <tr>\n",
       "      <th>0</th>\n",
       "      <td>Intestine Key Driver Genes</td>\n",
       "      <td>CD53</td>\n",
       "      <td>Inflammatory bowel disease</td>\n",
       "      <td>Genomic (GWAS, eQTL and cis-regulatory element...</td>\n",
       "      <td>0.5000</td>\n",
       "    </tr>\n",
       "    <tr>\n",
       "      <th>1</th>\n",
       "      <td>Intestine Key Driver Genes</td>\n",
       "      <td>RHOH</td>\n",
       "      <td>Inflammatory bowel disease</td>\n",
       "      <td>Genomic (GWAS, eQTL and cis-regulatory element...</td>\n",
       "      <td>0.5186</td>\n",
       "    </tr>\n",
       "    <tr>\n",
       "      <th>2</th>\n",
       "      <td>Intestine Key Driver Genes</td>\n",
       "      <td>DOCK2</td>\n",
       "      <td>Inflammatory bowel disease</td>\n",
       "      <td>Genomic (GWAS, eQTL and cis-regulatory element...</td>\n",
       "      <td>0.5216</td>\n",
       "    </tr>\n",
       "    <tr>\n",
       "      <th>3</th>\n",
       "      <td>Intestine Key Driver Genes</td>\n",
       "      <td>FGR</td>\n",
       "      <td>Inflammatory bowel disease</td>\n",
       "      <td>Genomic (GWAS, eQTL and cis-regulatory element...</td>\n",
       "      <td>0.5276</td>\n",
       "    </tr>\n",
       "    <tr>\n",
       "      <th>4</th>\n",
       "      <td>Intestine Key Driver Genes</td>\n",
       "      <td>NCKAP1L</td>\n",
       "      <td>Inflammatory bowel disease</td>\n",
       "      <td>Genomic (GWAS, eQTL and cis-regulatory element...</td>\n",
       "      <td>0.5265</td>\n",
       "    </tr>\n",
       "    <tr>\n",
       "      <th>...</th>\n",
       "      <td>...</td>\n",
       "      <td>...</td>\n",
       "      <td>...</td>\n",
       "      <td>...</td>\n",
       "      <td>...</td>\n",
       "    </tr>\n",
       "    <tr>\n",
       "      <th>406</th>\n",
       "      <td>Genes prioritised from module m109</td>\n",
       "      <td>SKI</td>\n",
       "      <td>Cognitive decline</td>\n",
       "      <td>Data from 478 participants of Religious Order ...</td>\n",
       "      <td>0.7500</td>\n",
       "    </tr>\n",
       "    <tr>\n",
       "      <th>407</th>\n",
       "      <td>Genes prioritised from module m109</td>\n",
       "      <td>SMAD7</td>\n",
       "      <td>Cognitive decline</td>\n",
       "      <td>Data from 478 participants of Religious Order ...</td>\n",
       "      <td>0.7500</td>\n",
       "    </tr>\n",
       "    <tr>\n",
       "      <th>408</th>\n",
       "      <td>Genes prioritised from module m109</td>\n",
       "      <td>TCF7L1</td>\n",
       "      <td>Cognitive decline</td>\n",
       "      <td>Data from 478 participants of Religious Order ...</td>\n",
       "      <td>0.7500</td>\n",
       "    </tr>\n",
       "    <tr>\n",
       "      <th>409</th>\n",
       "      <td>Genes prioritised from module m109</td>\n",
       "      <td>TMEM184B</td>\n",
       "      <td>Cognitive decline</td>\n",
       "      <td>Data from 478 participants of Religious Order ...</td>\n",
       "      <td>0.7500</td>\n",
       "    </tr>\n",
       "    <tr>\n",
       "      <th>410</th>\n",
       "      <td>Genes prioritised from module m109</td>\n",
       "      <td>ZBTB7B</td>\n",
       "      <td>Cognitive decline</td>\n",
       "      <td>Data from 478 participants of Religious Order ...</td>\n",
       "      <td>0.7500</td>\n",
       "    </tr>\n",
       "  </tbody>\n",
       "</table>\n",
       "<p>411 rows × 5 columns</p>\n",
       "</div>"
      ],
      "text/plain": [
       "                          gene_set_name target_id                disease_name  \\\n",
       "0            Intestine Key Driver Genes      CD53  Inflammatory bowel disease   \n",
       "1            Intestine Key Driver Genes      RHOH  Inflammatory bowel disease   \n",
       "2            Intestine Key Driver Genes     DOCK2  Inflammatory bowel disease   \n",
       "3            Intestine Key Driver Genes       FGR  Inflammatory bowel disease   \n",
       "4            Intestine Key Driver Genes   NCKAP1L  Inflammatory bowel disease   \n",
       "..                                  ...       ...                         ...   \n",
       "406  Genes prioritised from module m109       SKI           Cognitive decline   \n",
       "407  Genes prioritised from module m109     SMAD7           Cognitive decline   \n",
       "408  Genes prioritised from module m109    TCF7L1           Cognitive decline   \n",
       "409  Genes prioritised from module m109  TMEM184B           Cognitive decline   \n",
       "410  Genes prioritised from module m109    ZBTB7B           Cognitive decline   \n",
       "\n",
       "                                                method  resourceScore  \n",
       "0    Genomic (GWAS, eQTL and cis-regulatory element...         0.5000  \n",
       "1    Genomic (GWAS, eQTL and cis-regulatory element...         0.5186  \n",
       "2    Genomic (GWAS, eQTL and cis-regulatory element...         0.5216  \n",
       "3    Genomic (GWAS, eQTL and cis-regulatory element...         0.5276  \n",
       "4    Genomic (GWAS, eQTL and cis-regulatory element...         0.5265  \n",
       "..                                                 ...            ...  \n",
       "406  Data from 478 participants of Religious Order ...         0.7500  \n",
       "407  Data from 478 participants of Religious Order ...         0.7500  \n",
       "408  Data from 478 participants of Religious Order ...         0.7500  \n",
       "409  Data from 478 participants of Religious Order ...         0.7500  \n",
       "410  Data from 478 participants of Religious Order ...         0.7500  \n",
       "\n",
       "[411 rows x 5 columns]"
      ]
     },
     "execution_count": 73,
     "metadata": {},
     "output_type": "execute_result"
    }
   ],
   "source": []
  },
  {
   "cell_type": "code",
   "execution_count": null,
   "metadata": {},
   "outputs": [],
   "source": []
  }
 ],
 "metadata": {
  "kernelspec": {
   "display_name": "Python 3",
   "language": "python",
   "name": "python3"
  },
  "language_info": {
   "codemirror_mode": {
    "name": "ipython",
    "version": 3
   },
   "file_extension": ".py",
   "mimetype": "text/x-python",
   "name": "python",
   "nbconvert_exporter": "python",
   "pygments_lexer": "ipython3",
   "version": "3.6.10"
  }
 },
 "nbformat": 4,
 "nbformat_minor": 4
}
