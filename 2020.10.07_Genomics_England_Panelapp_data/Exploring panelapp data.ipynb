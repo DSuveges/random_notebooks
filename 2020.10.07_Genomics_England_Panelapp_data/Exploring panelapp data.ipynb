{
 "cells": [
  {
   "cell_type": "markdown",
   "metadata": {},
   "source": [
    "# Exploring the first release of the panelapp data\n",
    "\n",
    "\n",
    "Made available on: 2020.10.01\n",
    "\n",
    "\n",
    "**Conclusions:**\n",
    "\n",
    "* Number of total assoc: 60k\n",
    "* NUmber of significant assoc: 42K (panel version > 1.0 & green or amber)\n",
    "* 1k of the sigificant assoc is missing phenotypes\n",
    "* 48k total phenotypes (~1.2 phenotype per assoc)\n",
    "* 27k unique terms.\n",
    "* Out of 100 randomly selected phenotypes 96 could be mapped, 13 with exact match."
   ]
  },
  {
   "cell_type": "code",
   "execution_count": 7,
   "metadata": {
    "ExecuteTime": {
     "end_time": "2020-10-06T23:02:48.031622Z",
     "start_time": "2020-10-06T23:02:47.621744Z"
    }
   },
   "outputs": [
    {
     "name": "stdout",
     "output_type": "stream",
     "text": [
      "number of associations: 60772\n",
      "number of significant associations: 42371\n",
      "number of genes in the signif set: 4002\n"
     ]
    }
   ],
   "source": [
    "import json \n",
    "import pandas as pd\n",
    "import gzip\n",
    "\n",
    "panelapp_file = '/Users/dsuveges/project/evidences/All_genes_20200928-1959.tsv'\n",
    "\n",
    "panelapp_df = pd.read_csv(panelapp_file, sep='\\t')\n",
    "print(f'number of associations: {len(panelapp_df)}')\n",
    "\n",
    "# The data needs to be filterd for the following criteria:\n",
    "# 1. panel version >= 1.0\n",
    "# 2. association is green or amber\n",
    "\n",
    "panelapp_signif = panelapp_df.loc[(panelapp_df['Panel Version'] >= 1) &\n",
    "                                 ((panelapp_df['List'] == 'green') |\n",
    "                                 (panelapp_df['List'] == 'amber'))]\n",
    "print(f'number of significant associations: {len(panelapp_signif)}')\n",
    "print(f'number of genes in the signif set: {len(panelapp_signif[\"EnsemblId(GRch38)\"].unique())}')\n"
   ]
  },
  {
   "cell_type": "markdown",
   "metadata": {
    "ExecuteTime": {
     "end_time": "2020-10-06T23:00:50.189148Z",
     "start_time": "2020-10-06T23:00:50.166279Z"
    }
   },
   "source": [
    "### What about the phenotypes?"
   ]
  },
  {
   "cell_type": "code",
   "execution_count": 21,
   "metadata": {
    "ExecuteTime": {
     "end_time": "2020-10-06T23:09:00.762832Z",
     "start_time": "2020-10-06T23:09:00.756019Z"
    }
   },
   "outputs": [
    {
     "name": "stdout",
     "output_type": "stream",
     "text": [
      "Missing phenotypes annotation: 1072\n"
     ]
    }
   ],
   "source": [
    "# Significant associations with no phenotypes:\n",
    "print(f'Missing phenotypes annotation: {len(panelapp_signif.loc[panelapp_signif.Phenotypes.isna()])}')\n"
   ]
  },
  {
   "cell_type": "code",
   "execution_count": 29,
   "metadata": {
    "ExecuteTime": {
     "end_time": "2020-10-06T23:13:27.127986Z",
     "start_time": "2020-10-06T23:13:27.036034Z"
    }
   },
   "outputs": [
    {
     "name": "stdout",
     "output_type": "stream",
     "text": [
      "Total number of phenotype terms: 48446\n",
      "number of unique phenotype terms: 27173\n"
     ]
    }
   ],
   "source": [
    "# Containers for phenotypes;\n",
    "phenotypes = []\n",
    "\n",
    "# Filter out unique set of phenotypes:\n",
    "phenotype_series = pd.Series(\n",
    "    panelapp_df.\n",
    "    loc[~panelapp_df.Phenotypes.isna()]\n",
    "    .Phenotypes\n",
    "    .unique()\n",
    ")\n",
    "\n",
    "# Add phenotypes:\n",
    "phenotype_series.apply(lambda x: [phenotypes.append(y) for y in x.split(';') if isinstance(x, str)])\n",
    "\n",
    "print(f'Total number of phenotype terms: {len(phenotypes)}')\n",
    "print(f'number of unique phenotype terms: {len(set(phenotypes))}')"
   ]
  },
  {
   "cell_type": "code",
   "execution_count": 33,
   "metadata": {
    "ExecuteTime": {
     "end_time": "2020-10-06T23:16:14.918622Z",
     "start_time": "2020-10-06T23:16:12.830541Z"
    }
   },
   "outputs": [
    {
     "name": "stderr",
     "output_type": "stream",
     "text": [
      "INFO     - ontoma.downloaders - ZOOMA to EFO mappings - Parsed 3666 rows\n",
      "INFO     - ontoma.downloaders - OMIM to EFO mappings - Parsed 8215 rows\n"
     ]
    }
   ],
   "source": [
    "# from ontoma import OnToma\n",
    "import random\n",
    "\n",
    "\n",
    "otmap = OnToma()"
   ]
  },
  {
   "cell_type": "code",
   "execution_count": 54,
   "metadata": {
    "ExecuteTime": {
     "end_time": "2020-10-06T23:26:47.734798Z",
     "start_time": "2020-10-06T23:25:59.414821Z"
    },
    "scrolled": false
   },
   "outputs": [
    {
     "name": "stderr",
     "output_type": "stream",
     "text": [
      "WARNING  - ontoma.interface - Found http://www.ebi.ac.uk/efo/EFO_0002508 for 616710 from OLS API EFO lookup - fuzzy - check if valid\n",
      "INFO     - ontoma.interface - Found http://www.orpha.net/ORDO/Orphanet_183660 for SCID from OLS API EFO lookup - match - None\n",
      "WARNING  - ontoma.interface - Found http://www.orpha.net/ORDO/Orphanet_811 for Shwachman-Diamond syndrome, 260400 from OLS API EFO lookup - fuzzy - check if valid\n",
      "WARNING  - ontoma.interface - Found http://www.ebi.ac.uk/efo/EFO_1000952 for Glycogen storage disease type VI, Hers (Glycogen storage disorders) from OLS API EFO lookup - fuzzy - check if valid\n",
      "WARNING  - ontoma.interface - Found http://www.orpha.net/ORDO/Orphanet_417 for Transient Neonatal Hyperparathyroidism from OLS API EFO lookup - fuzzy - check if valid\n",
      "WARNING  - ontoma.interface - Found http://www.orpha.net/ORDO/Orphanet_397937 for Polyglucosan body myopathy 1 with or without immunodeficiency MIM#615895 from OLS API EFO lookup - fuzzy - check if valid\n",
      "WARNING  - ontoma.interface - Found http://www.orpha.net/ORDO/Orphanet_2462 for Shprintzen-Goldberg syndrome (182212) from OLS API EFO lookup - fuzzy - check if valid\n",
      "WARNING  - ontoma.interface - Found http://www.orpha.net/ORDO/Orphanet_217023 for Infections, glomerulonephritis, atypical hemolytic-uremic syndrome with GOF mutations from OLS API EFO lookup - fuzzy - check if valid\n",
      "WARNING  - ontoma.interface - Found http://www.ebi.ac.uk/efo/EFO_0009041 for OrphaNet ORPHA124 from OLS API EFO lookup - fuzzy - check if valid\n",
      "WARNING  - ontoma.interface - Found http://www.orpha.net/ORDO/Orphanet_564 for Meckel syndrome 6, 612284 from OLS API EFO lookup - fuzzy - check if valid\n",
      "WARNING  - ontoma.interface - Found http://www.orpha.net/ORDO/Orphanet_68356 for Leukodystrophy hypomyelinating 18, MIM 618404) from OLS API EFO lookup - fuzzy - check if valid\n",
      "WARNING  - ontoma.interface - Found http://www.orpha.net/ORDO/Orphanet_2117 for Hartsfield syndrome (615465) from OLS API EFO lookup - fuzzy - check if valid\n",
      "ERROR    - ontoma.interface - Could not find *any* term for string: Neurodevelopmental disorder with absent language and variable seizures, 618707\n",
      "WARNING  - ontoma.interface - Found http://www.orpha.net/ORDO/Orphanet_139507 for 112266 Mild to moderate iron overload from OLS API EFO lookup - fuzzy - check if valid\n",
      "WARNING  - ontoma.interface - Found http://www.ebi.ac.uk/efo/EFO_0005878 for CD3e deficiency from OLS API EFO lookup - fuzzy - check if valid\n",
      "WARNING  - ontoma.interface - Found http://www.orpha.net/ORDO/Orphanet_163937 for Mental retardation and microcephaly with pontine and cerebellar hypoplasia, 300749FG syndrome 4, 300422Mental retardation, with or without nystagmus, 300422 from OLS API EFO lookup - fuzzy - check if valid\n",
      "WARNING  - ontoma.interface - Found http://www.orpha.net/ORDO/Orphanet_226292 for CONGENITAL HYPOTHYROIDISM NON-GOITROUS TYPE 2 218700 from OLS API EFO lookup - fuzzy - check if valid\n",
      "WARNING  - ontoma.interface - Found http://www.orpha.net/ORDO/Orphanet_3250 for SYMPHALANGISM PROXIMAL SYNDROME 185800 from OLS API EFO lookup - fuzzy - check if valid\n",
      "WARNING  - ontoma.interface - Found http://purl.obolibrary.org/obo/GO_0010468 for Required for mitochondrial gene expression  (Mitochondrial respiratory chain disorders (caused by nuclear variants only)) from OLS API EFO lookup - fuzzy - check if valid\n",
      "ERROR    - ontoma.interface - Could not find *any* term for string: Defects in intrinsic and innate immunity\n",
      "WARNING  - ontoma.interface - Found http://www.orpha.net/ORDO/Orphanet_77293 for Niemann-Pick disease, type B 607616 from OLS API EFO lookup - fuzzy - check if valid\n",
      "WARNING  - ontoma.interface - Found http://www.ebi.ac.uk/efo/EFO_0000253 for Amyotrophic Lateral Sclerosis, Dominant from OLS API EFO lookup - fuzzy - check if valid\n",
      "WARNING  - ontoma.interface - Found http://www.orpha.net/ORDO/Orphanet_308400 for Molybdenum cofactor deficiency C from OLS API EFO lookup - fuzzy - check if valid\n",
      "WARNING  - ontoma.interface - Found http://www.orpha.net/ORDO/Orphanet_590 for Myasthenic syndrome, congenital, 14, with tubular aggregates 616228 from OLS API EFO lookup - fuzzy - check if valid\n",
      "INFO     - ontoma.interface - Found http://www.ebi.ac.uk/efo/EFO_0000378 for Coronary artery disease from EFO OBO - match - None\n",
      "INFO     - ontoma.interface - Found http://purl.obolibrary.org/obo/HP_0002353 for EEG abnormality from Zooma API lookup - match - None\n",
      "WARNING  - ontoma.interface - Found http://purl.obolibrary.org/obo/MONDO_0100016 for early-onset dystonia from OLS API EFO lookup - fuzzy - check if valid\n",
      "WARNING  - ontoma.interface - Found http://www.orpha.net/ORDO/Orphanet_567 for 22q11.2 deletion syndrome, Orphanet:567 (includes developmental delay) from OLS API EFO lookup - fuzzy - check if valid\n",
      "WARNING  - ontoma.interface - Found http://www.orpha.net/ORDO/Orphanet_65284 for Thiamine metabolism dysfunction syndrome 2 (biotin- or thiamine-responsive encephalopathy type 2) 607483 from OLS API EFO lookup - fuzzy - check if valid\n",
      "WARNING  - ontoma.interface - Found http://www.orpha.net/ORDO/Orphanet_209981 for new type of IRIDA from OLS API EFO lookup - fuzzy - check if valid\n",
      "WARNING  - ontoma.interface - Found http://www.orpha.net/ORDO/Orphanet_79333 for COG7-CDG 300171 from OLS API EFO lookup - fuzzy - check if valid\n",
      "INFO     - ontoma.interface - Found http://www.orpha.net/ORDO/Orphanet_68380 for Mitochondrial Diseases from OT Zooma Mappings - match - None\n",
      "WARNING  - ontoma.interface - Found http://www.ebi.ac.uk/efo/EFO_0000274 for Autoantibodies common, chronic skin ulcers, eczema, infections from OLS API EFO lookup - fuzzy - check if valid\n",
      "WARNING  - ontoma.interface - Found http://www.ebi.ac.uk/efo/EFO_0005546 for Congenital disorder of glycosylation, type Ig, 607143 from OLS API EFO lookup - fuzzy - check if valid\n",
      "WARNING  - ontoma.ols - Term was found but ancestor lookup returned an empty response: {'_links': {'self': {'href': 'https://www.ebi.ac.uk/ols/api/ontologies/efo/terms/http%253A%252F%252Fidentifiers.org%252Fmedgen%252FC2986691/ancestors'}}, 'page': {'size': 20, 'totalElements': 0, 'totalPages': 0, 'number': 0}}\n",
      "WARNING  - ontoma.interface - Found http://purl.obolibrary.org/obo/MONDO_0000159 for Inherited Bone Marrow Failure Syndromes from OLS API EFO lookup - fuzzy - check if valid\n",
      "WARNING  - ontoma.interface - Found http://www.ebi.ac.uk/efo/EFO_0009156 for Mental retardation, autosomal dominant 48, 617751 from OLS API EFO lookup - fuzzy - check if valid\n",
      "WARNING  - ontoma.interface - Found http://www.orpha.net/ORDO/Orphanet_1475 for Papillorenal syndrome (120330) from OLS API EFO lookup - fuzzy - check if valid\n",
      "ERROR    - ontoma.interface - Could not find *any* term for string: ?Immunodeficiency 37, 616098\n",
      "WARNING  - ontoma.interface - Found http://www.orpha.net/ORDO/Orphanet_247378 for Not associated with SARS-CoV susceptibility from OLS API EFO lookup - fuzzy - check if valid\n",
      "WARNING  - ontoma.interface - Found http://www.ebi.ac.uk/efo/EFO_1001083 for Somatic follicular and papillary thyroid carcinomas   from OLS API EFO lookup - fuzzy - check if valid\n",
      "WARNING  - ontoma.interface - Found http://www.orpha.net/ORDO/Orphanet_3463 for WOLFRAM SYNDROME 2, 604928 from OLS API EFO lookup - fuzzy - check if valid\n",
      "WARNING  - ontoma.interface - Found http://purl.obolibrary.org/obo/MONDO_0014863 for Macrocephaly, dysmorphic facies, and psychomotor retardation, 617011 from OLS API EFO lookup - fuzzy - check if valid\n",
      "WARNING  - ontoma.interface - Found http://www.orpha.net/ORDO/Orphanet_90349 for Cutis laxa, autosomal recessive, type IIIB, 614438 from OLS API EFO lookup - fuzzy - check if valid\n",
      "WARNING  - ontoma.interface - Found http://www.orpha.net/ORDO/Orphanet_356978 for Combined D-2- and L-2-hydroxyglutaric aciduria, 615182 from OLS API EFO lookup - fuzzy - check if valid\n",
      "WARNING  - ontoma.interface - Found http://www.orpha.net/ORDO/Orphanet_2598 for 613561 Myopathy, lactic acidosis, and sideroblastic anemia 2 from OLS API EFO lookup - fuzzy - check if valid\n",
      "INFO     - ontoma.interface - Found http://www.orpha.net/ORDO/Orphanet_313838 for CEREBRORETINAL MICROANGIOPATHY WITH CALCIFICATIONS AND CYSTS from EFO OBO - match - None\n",
      "WARNING  - ontoma.interface - Found http://www.orpha.net/ORDO/Orphanet_79243 for Pyruvate dehydrogenase E1-alpha deficiency, 312170 from OLS API EFO lookup - fuzzy - check if valid\n"
     ]
    },
    {
     "name": "stderr",
     "output_type": "stream",
     "text": [
      "WARNING  - ontoma.interface - Found http://purl.obolibrary.org/obo/MONDO_0007415 for Complex IV Mitochondrial respiratory chain disorders caused by nuclear variants only from OLS API EFO lookup - fuzzy - check if valid\n",
      "INFO     - ontoma.interface - Found http://purl.obolibrary.org/obo/HP_0001263 for Global developmental delay from Zooma API lookup - match - None\n",
      "ERROR    - ontoma.interface - Could not find *any* term for string: Erythremias, beta-\n",
      "WARNING  - ontoma.interface - Found http://www.ebi.ac.uk/efo/EFO_0007821 for [Hair morphology 1, hair thickness], 612630 -3 from OLS API EFO lookup - fuzzy - check if valid\n",
      "WARNING  - ontoma.interface - Found http://www.orpha.net/ORDO/Orphanet_1475 for Papillorenal syndrome, AR from OLS API EFO lookup - fuzzy - check if valid\n",
      "WARNING  - ontoma.interface - Found http://www.orpha.net/ORDO/Orphanet_500 for LEOPARD syndrome 2 611554 from OLS API EFO lookup - fuzzy - check if valid\n",
      "WARNING  - ontoma.interface - Found http://www.ebi.ac.uk/efo/EFO_0009145 for Muscular dystrophy-dystroglycanopathy (limb-girdle), type C, 9, 613818 from OLS API EFO lookup - fuzzy - check if valid\n",
      "WARNING  - ontoma.interface - Found http://www.orpha.net/ORDO/Orphanet_827 for Stargardt Disease, Dominant from OLS API EFO lookup - fuzzy - check if valid\n",
      "WARNING  - ontoma.interface - Found http://www.ebi.ac.uk/efo/EFO_0009135 for Complex IV (Mitochondrial respiratory chain disorders (caused by nuclear variants only), OXPHOS assembly factors) from OLS API EFO lookup - fuzzy - check if valid\n",
      "WARNING  - ontoma.interface - Found http://www.orpha.net/ORDO/Orphanet_564 for Meckel syndrome 13 617562 from OLS API EFO lookup - fuzzy - check if valid\n",
      "WARNING  - ontoma.interface - Found http://www.ebi.ac.uk/efo/EFO_1001981 for  Beta-1,4-galactosyltransferase 1 deficiency (Disorders of multiple glycosylation and other glycosylation pathways) from OLS API EFO lookup - fuzzy - check if valid\n",
      "WARNING  - ontoma.interface - Found http://www.ebi.ac.uk/efo/EFO_0000676 for Psoriasis 2, 602723 from OLS API EFO lookup - fuzzy - check if valid\n",
      "WARNING  - ontoma.interface - Found http://www.orpha.net/ORDO/Orphanet_63 for  (originally on Alport syndrome gene panel) from OLS API EFO lookup - fuzzy - check if valid\n",
      "INFO     - ontoma.interface - Found http://www.orpha.net/ORDO/Orphanet_79401 for Epidermolysis Bullosa Simplex, Ogna Type from OT Zooma Mappings - match - None\n",
      "WARNING  - ontoma.interface - Found http://purl.obolibrary.org/obo/MONDO_0100157 for   (originally on the Imerslund-Grasbeck syndrome gene panel) from OLS API EFO lookup - fuzzy - check if valid\n",
      "WARNING  - ontoma.interface - Found http://www.orpha.net/ORDO/Orphanet_702 for Pelizaeus-Merzbacher disease 312080 from OLS API EFO lookup - fuzzy - check if valid\n",
      "WARNING  - ontoma.interface - Found http://purl.obolibrary.org/obo/MONDO_0020768 for #304500:Deafness, X-linked 1 from OLS API EFO lookup - fuzzy - check if valid\n",
      "WARNING  - ontoma.interface - Found http://www.orpha.net/ORDO/Orphanet_970 for Neuropathy, hereditary sensory, type IIC, 614213, AR from OLS API EFO lookup - fuzzy - check if valid\n",
      "WARNING  - ontoma.interface - Found http://www.orpha.net/ORDO/Orphanet_363454 for PROXIMAL SPINAL MUSCULAR ATROPHY WITH AUTOSOMAL-DOMINANT INHERITANCE from OLS API EFO lookup - fuzzy - check if valid\n",
      "INFO     - ontoma.interface - Found http://www.orpha.net/ORDO/Orphanet_325004 for CANDLE syndrome from OLS API EFO lookup - match - None\n",
      "WARNING  - ontoma.interface - Found http://www.orpha.net/ORDO/Orphanet_169085 for Thrombocytopenia with small platelets, recurrent bacterial and viral infections, bloody diarrhea, eczema, lymphoma, autoimmune disease, IgA nephropathy, vasculitis from OLS API EFO lookup - fuzzy - check if valid\n",
      "WARNING  - ontoma.interface - Found http://purl.obolibrary.org/obo/MONDO_0009063 for Ciliopathy genes associated with cystic kidney disease from OLS API EFO lookup - fuzzy - check if valid\n",
      "WARNING  - ontoma.interface - Found http://www.orpha.net/ORDO/Orphanet_294415 for Renal-hepatic-pancreatic dysplasia 2, 615415 from OLS API EFO lookup - fuzzy - check if valid\n",
      "WARNING  - ontoma.interface - Found http://www.orpha.net/ORDO/Orphanet_35173 for  Conradi Huenermann: Chondrodysplasia punctata from OLS API EFO lookup - fuzzy - check if valid\n",
      "WARNING  - ontoma.interface - Found http://www.orpha.net/ORDO/Orphanet_3319 for 604498 Thrombocytopenia, congenital amegakaryocytic from OLS API EFO lookup - fuzzy - check if valid\n",
      "WARNING  - ontoma.interface - Found http://www.ebi.ac.uk/efo/EFO_0008133 for Plasma fibronectin deficiency, 614101 from OLS API EFO lookup - fuzzy - check if valid\n",
      "WARNING  - ontoma.interface - Found http://www.orpha.net/ORDO/Orphanet_331244 for childhood-onset antibody defects from OLS API EFO lookup - fuzzy - check if valid\n",
      "WARNING  - ontoma.interface - Found http://www.orpha.net/ORDO/Orphanet_90797 for Androgen insensitivity, 300068Spinal and bulbar muscular atrophy of Kennedy, 313200Androgen insensitivity, partial, with or without breast cancer, 312300{Prostate cancer, susceptibility to}, 176807Hypospadias 1, X-linked, 300633 from OLS API EFO lookup - fuzzy - check if valid\n",
      "WARNING  - ontoma.interface - Found http://www.orpha.net/ORDO/Orphanet_77259 for Gaucher disease, type I, 230800 from OLS API EFO lookup - fuzzy - check if valid\n",
      "WARNING  - ontoma.interface - Found http://www.orpha.net/ORDO/Orphanet_98699 for Combined immunodeficiencies with associated or syndromic features from OLS API EFO lookup - fuzzy - check if valid\n",
      "WARNING  - ontoma.interface - Found http://www.orpha.net/ORDO/Orphanet_137 for  GDP-Man:Dol-P mannosyltransferase deficiency (Disorders of multiple glycosylation and other glycosylation pathways) from OLS API EFO lookup - fuzzy - check if valid\n",
      "WARNING  - ontoma.interface - Found http://www.orpha.net/ORDO/Orphanet_88616 for AUTOSOMAL- RECESSIVE INTELLECTUAL DISABILITY MRT5 611091 from OLS API EFO lookup - fuzzy - check if valid\n",
      "WARNING  - ontoma.interface - Found http://purl.obolibrary.org/obo/MONDO_0000214 for Hypermanganesemia with dystonia 1\t613280 from OLS API EFO lookup - fuzzy - check if valid\n",
      "INFO     - ontoma.interface - Found http://www.orpha.net/ORDO/Orphanet_1775 for Dyskeratosis congenita, autosomal recessive 4 from OT Zooma Mappings - match - None\n",
      "INFO     - ontoma.interface - Found http://purl.obolibrary.org/obo/HP_0001760 for Abnormality of the foot from Zooma API lookup - match - None\n",
      "WARNING  - ontoma.interface - Found http://www.orpha.net/ORDO/Orphanet_308425 for Methylmalonyl-CoA epimerase deficiency, 251120 from OLS API EFO lookup - fuzzy - check if valid\n",
      "WARNING  - ontoma.interface - Found http://www.orpha.net/ORDO/Orphanet_255210 for HHH syndrome (Urea cycle disorders and inherited hyperammonaemias) from OLS API EFO lookup - fuzzy - check if valid\n",
      "WARNING  - ontoma.interface - Found http://purl.obolibrary.org/obo/HP_0001915 for Features triggered by EBV infection, HLH, aplastic anemia, low iNKT cells, lymphoma from OLS API EFO lookup - fuzzy - check if valid\n",
      "WARNING  - ontoma.interface - Found http://www.orpha.net/ORDO/Orphanet_156 for Carnitine transporter deficiency (Disorders of carnitine transport and the carnitine cycle) from OLS API EFO lookup - fuzzy - check if valid\n",
      "WARNING  - ontoma.interface - Found http://purl.obolibrary.org/obo/MONDO_0000476 for childhood-onset generalized dystonia from OLS API EFO lookup - fuzzy - check if valid\n",
      "INFO     - ontoma.interface - Found http://www.orpha.net/ORDO/Orphanet_2396 for Encephalocraniocutaneous lipomatosis from EFO OBO - match - None\n",
      "INFO     - ontoma.interface - Found http://www.orpha.net/ORDO/Orphanet_912 for ZELLWEGER SYNDROME from OT Zooma Mappings - match - None\n",
      "INFO     - ontoma.interface - Found http://www.orpha.net/ORDO/Orphanet_100031 for hypoplastic amelogenesis imperfecta from EFO OBO - match - None\n",
      "WARNING  - ontoma.interface - Found http://www.orpha.net/ORDO/Orphanet_171695 for Parkinson disease 15, autosomal recessive, 260300 from OLS API EFO lookup - fuzzy - check if valid\n",
      "WARNING  - ontoma.interface - Found http://www.orpha.net/ORDO/Orphanet_1662 for Restrictive dermopathy, lethal 275210 from OLS API EFO lookup - fuzzy - check if valid\n",
      "WARNING  - ontoma.interface - Found http://www.ebi.ac.uk/efo/EFO_0010567 for tetraparesis from OLS API EFO lookup - fuzzy - check if valid\n"
     ]
    },
    {
     "name": "stderr",
     "output_type": "stream",
     "text": [
      "WARNING  - ontoma.interface - Found http://www.orpha.net/ORDO/Orphanet_324588 for  Myokymia from OLS API EFO lookup - fuzzy - check if valid\n",
      "WARNING  - ontoma.interface - Found http://www.ebi.ac.uk/efo/EFO_0002430 for Myelofibrosis, somatic, 254450 from OLS API EFO lookup - fuzzy - check if valid\n",
      "WARNING  - ontoma.interface - Found http://www.orpha.net/ORDO/Orphanet_324588 for Familial dyskinesia 606703 from OLS API EFO lookup - fuzzy - check if valid\n",
      "WARNING  - ontoma.interface - Found http://purl.obolibrary.org/obo/MONDO_0024464 for Septooptic dysplasia, 182230Pituitary hormone deficiency, combined, 5, 182230Growth hormone deficiency with pituitary anomalies, 182230 from OLS API EFO lookup - fuzzy - check if valid\n",
      "WARNING  - ontoma.interface - Found http://www.orpha.net/ORDO/Orphanet_207 for Craniosynostosis, nonspecific Crouzon syndrome 123500 from OLS API EFO lookup - fuzzy - check if valid\n",
      "WARNING  - ontoma.interface - Found http://purl.obolibrary.org/obo/MONDO_0001700 for Megaloblastic anemia-1, Finnish type, 261100 from OLS API EFO lookup - fuzzy - check if valid\n",
      "WARNING  - ontoma.interface - Found http://www.orpha.net/ORDO/Orphanet_3156 for Senior-Loken syndrome 5 609254 from OLS API EFO lookup - fuzzy - check if valid\n"
     ]
    },
    {
     "name": "stdout",
     "output_type": "stream",
     "text": [
      "mapping found for 96 terms.\n",
      "exact match found for 13\n"
     ]
    }
   ],
   "source": [
    "mappings = []\n",
    "for phenotype in random.sample(phenotypes, 100):\n",
    "    mappings.append(otmap.find_term(phenotype,verbose=True))\n",
    "\n",
    "mappings_df = pd.DataFrame([x for x in mappings if x is not None ])\n",
    "print(f'mapping found for {len(mappings_df)} terms.')\n",
    "print(f'exact match found for {len(mappings_df.loc[mappings_df.quality == \"match\"])}')"
   ]
  },
  {
   "cell_type": "code",
   "execution_count": 56,
   "metadata": {
    "ExecuteTime": {
     "end_time": "2020-10-07T09:15:18.673626Z",
     "start_time": "2020-10-07T09:15:18.666633Z"
    }
   },
   "outputs": [
    {
     "data": {
      "text/plain": [
       "Index(['Symbol', 'Panel Id', 'Panel Name', 'Panel Version', 'Panel Status',\n",
       "       'List', 'Sources', 'Mode of inheritance', 'Mode of pathogenicity',\n",
       "       'Tags', 'EnsemblId(GRch37)', 'EnsemblId(GRch38)', 'HGNC', 'Biotype',\n",
       "       'Phenotypes', 'GeneLocation((GRch37)', 'GeneLocation((GRch38)',\n",
       "       'Panel Types', 'Super Panel Id', 'Super Panel Name',\n",
       "       'Super Panel Version'],\n",
       "      dtype='object')"
      ]
     },
     "execution_count": 56,
     "metadata": {},
     "output_type": "execute_result"
    }
   ],
   "source": [
    "panelapp_df.columns"
   ]
  },
  {
   "cell_type": "code",
   "execution_count": null,
   "metadata": {},
   "outputs": [],
   "source": []
  }
 ],
 "metadata": {
  "kernelspec": {
   "display_name": "Python 3",
   "language": "python",
   "name": "python3"
  },
  "language_info": {
   "codemirror_mode": {
    "name": "ipython",
    "version": 3
   },
   "file_extension": ".py",
   "mimetype": "text/x-python",
   "name": "python",
   "nbconvert_exporter": "python",
   "pygments_lexer": "ipython3",
   "version": "3.6.10"
  }
 },
 "nbformat": 4,
 "nbformat_minor": 4
}
