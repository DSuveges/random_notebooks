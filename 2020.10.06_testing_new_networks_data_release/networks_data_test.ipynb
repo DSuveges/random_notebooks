{
 "cells": [
  {
   "cell_type": "markdown",
   "metadata": {},
   "source": [
    "## Tesing networks data - Release date: 2020.10.06\n",
    "\n",
    "**Conclusions:**\n",
    "* 408k rows in the json file.\n",
    "* 746k evidence\n",
    "* 169 associations does not have interactor B.\n",
    "* 406k unique interaction - ~1.7k duplicates!\n",
    "* Duplication due to annotation of different organism to the same uniprot id. (that's the only reason for duplications - all non-human)\n",
    "* 24 different biological roles - 87 pariwise combinations.\n",
    "* For 95% of the interaction no biological role is specified for the interactors. 66 of the pairs are represented by less than 10 interactions.\n",
    "\n",
    "\n",
    "\n",
    "\n",
    "\n",
    "\n",
    "\n",
    "## Workflow:"
   ]
  },
  {
   "cell_type": "code",
   "execution_count": 20,
   "metadata": {
    "ExecuteTime": {
     "end_time": "2020-10-06T13:04:31.101334Z",
     "start_time": "2020-10-06T13:04:30.507633Z"
    }
   },
   "outputs": [
    {
     "name": "stdout",
     "output_type": "stream",
     "text": [
      "  408127\n"
     ]
    }
   ],
   "source": [
    "%%bash \n",
    "\n",
    "\n",
    "curl -s ftp://ftp.ebi.ac.uk/pub/databases/intact/various/ot_graphdb/2020-10-05/data/interactor_pair_interactions.json \\\n",
    "    | gzip > /Users/dsuveges/project/evidences/2020.10.06.interactor_pair_interactions.json.gz\n",
    "    \n",
    "gzcat /Users/dsuveges/project/evidences/2020.10.06.interactor_pair_interactions.json.gz | wc -l"
   ]
  },
  {
   "cell_type": "code",
   "execution_count": 101,
   "metadata": {
    "ExecuteTime": {
     "end_time": "2020-10-06T20:56:41.127025Z",
     "start_time": "2020-10-06T20:56:05.722245Z"
    }
   },
   "outputs": [
    {
     "name": "stdout",
     "output_type": "stream",
     "text": [
      "Number of evidence: 746474\n",
      "Number of interactions: 408128\n",
      "Number of unique interactions: 406311\n"
     ]
    }
   ],
   "source": [
    "import json\n",
    "import pandas as pd\n",
    "import gzip\n",
    "\n",
    "intact_file = '/Users/dsuveges/project/evidences/2020.10.06.interactor_pair_interactions.json.gz'\n",
    "\n",
    "parsed_interaction_data = []\n",
    "parsed_evidence_data = []\n",
    "\n",
    "# OPen file and read line by line, extract info, build dataframe\n",
    "with gzip.open(intact_file) as f:\n",
    "    for row in f:\n",
    "        data = json.loads(row)\n",
    "        \n",
    "        # \n",
    "        interaction_data = {\n",
    "            'int_A_id': data['interactorA']['id'],\n",
    "            'int_A_source': data['interactorA'][\"id_source\"],\n",
    "            'int_A_organism': data['interactorA'][\"organism\"]['mnemonic'],\n",
    "            'int_A_biological_role': data['interactorA'][\"biological_role\"],\n",
    "            'source': data['source_info']['source_database'],\n",
    "            'causal': data['interaction']['causal_interaction']\n",
    "        }\n",
    "        \n",
    "        try:\n",
    "            interaction_data.update({\n",
    "                'int_B_id': data['interactorB']['id'],\n",
    "                'int_B_source': data['interactorB'][\"id_source\"],\n",
    "                'int_B_organism': data['interactorB'][\"organism\"]['mnemonic'],\n",
    "                'int_B_biological_role': data['interactorB'][\"biological_role\"],\n",
    "            })\n",
    "        except:\n",
    "            interaction_data.update({\n",
    "                'int_B_id': None,\n",
    "                'int_B_source':None,\n",
    "                'int_B_organism': None\n",
    "            })\n",
    "            \n",
    "        # Adding interaction to list:\n",
    "        parsed_interaction_data.append(interaction_data)\n",
    "        \n",
    "        # Extract evidence data:\n",
    "        for evidence in data['interaction']['evidence']:\n",
    "            evidnece_data = {\n",
    "                'pmid': evidence['pubmed_id'],\n",
    "                'interaction_type': evidence['interaction_type_short_name'],\n",
    "                'interaction_id': evidence['interaction_identifier'],\n",
    "                'interaction_detection_method': f\"{evidence['interaction_detection_method_short_name']} ({evidence['interaction_detection_method_mi_identifier']})\"\n",
    "            }\n",
    "            \n",
    "            # Adding participant detection methods:\n",
    "            if isinstance(evidence['participant_detection_method_A'], list):\n",
    "                evidnece_data['participant_detection_method_A'] = [f'{x[\"short_name\"]} ({x[\"mi_identifier\"]})' for x in evidence['participant_detection_method_A']]\n",
    "            if isinstance(evidence['participant_detection_method_B'], list):\n",
    "                evidnece_data['participant_detection_method_B'] = [f'{x[\"short_name\"]} ({x[\"mi_identifier\"]})' for x in evidence['participant_detection_method_B']]\n",
    "            \n",
    "            evidnece_data.update(interaction_data)\n",
    "            parsed_evidence_data.append(evidnece_data)\n",
    "            \n",
    "intact_interaction_df = pd.DataFrame(parsed_interaction_data)\n",
    "intact_evidence_df = pd.DataFrame(parsed_evidence_data)\n",
    "\n",
    "# These fields define a unique interaction:\n",
    "uniqueness_columns  = [\"int_A_id\",\n",
    "                       \"int_B_id\",\n",
    "                       \"int_A_biological_role\",\n",
    "                       \"int_B_biological_role\",\n",
    "                       \"source\",\n",
    "                       \"causal\"]\n",
    "\n",
    "print(f'Number of evidence: {len(intact_evidence_df)}')\n",
    "print(f'Number of interactions: {len(intact_interaction_df)}')\n",
    "print(f'Number of unique interactions: {len(intact_interaction_df[uniqueness_columns].drop_duplicates())}')\n"
   ]
  },
  {
   "cell_type": "markdown",
   "metadata": {
    "ExecuteTime": {
     "end_time": "2020-10-06T13:54:37.811634Z",
     "start_time": "2020-10-06T13:54:36.992865Z"
    }
   },
   "source": [
    "How many of the interactions have missing interactor b?"
   ]
  },
  {
   "cell_type": "code",
   "execution_count": 104,
   "metadata": {
    "ExecuteTime": {
     "end_time": "2020-10-06T20:59:20.830165Z",
     "start_time": "2020-10-06T20:59:20.717345Z"
    }
   },
   "outputs": [
    {
     "name": "stdout",
     "output_type": "stream",
     "text": [
      "Number of associations with missing B interactor: 169\n",
      "Number of associations non-null direction: 0\n",
      "Number of homomeric associations: 7405\n"
     ]
    }
   ],
   "source": [
    "print(f'Number of associations with missing B interactor: {len(intact_interaction_df.loc[intact_interaction_df.int_B_id.isna()])}')\n",
    "print(f'Number of associations non-null direction: {len(intact_interaction_df.loc[~intact_interaction_df.causal.isna()])}')\n",
    "print(f'Number of homomeric associations: {len(intact_interaction_df.loc[intact_interaction_df.int_B_id == intact_interaction_df.int_A_id])}')\n"
   ]
  },
  {
   "cell_type": "markdown",
   "metadata": {},
   "source": [
    "### Duplication\n",
    "\n",
    "There is an other souce of duplication. Apparently the organism annotation of the interactor can be ambigious. It leads to explosion of the interaction object."
   ]
  },
  {
   "cell_type": "code",
   "execution_count": 55,
   "metadata": {
    "ExecuteTime": {
     "end_time": "2020-10-06T14:40:03.224121Z",
     "start_time": "2020-10-06T14:40:03.125983Z"
    }
   },
   "outputs": [
    {
     "data": {
      "text/html": [
       "<div>\n",
       "<style scoped>\n",
       "    .dataframe tbody tr th:only-of-type {\n",
       "        vertical-align: middle;\n",
       "    }\n",
       "\n",
       "    .dataframe tbody tr th {\n",
       "        vertical-align: top;\n",
       "    }\n",
       "\n",
       "    .dataframe thead th {\n",
       "        text-align: right;\n",
       "    }\n",
       "</style>\n",
       "<table border=\"1\" class=\"dataframe\">\n",
       "  <thead>\n",
       "    <tr style=\"text-align: right;\">\n",
       "      <th></th>\n",
       "      <th>int_A_id</th>\n",
       "      <th>int_B_id</th>\n",
       "      <th>int_A_organism</th>\n",
       "      <th>int_B_organism</th>\n",
       "    </tr>\n",
       "  </thead>\n",
       "  <tbody>\n",
       "    <tr>\n",
       "      <th>406992</th>\n",
       "      <td>Q99IB8</td>\n",
       "      <td>Q99IB8</td>\n",
       "      <td>Hepatitis C virus genotype 2a</td>\n",
       "      <td>Hepatitis C virus genotype 2a</td>\n",
       "    </tr>\n",
       "    <tr>\n",
       "      <th>406993</th>\n",
       "      <td>Q99IB8</td>\n",
       "      <td>Q99IB8</td>\n",
       "      <td>Hepatitis C virus genotype 2a</td>\n",
       "      <td>hcvjf</td>\n",
       "    </tr>\n",
       "    <tr>\n",
       "      <th>406994</th>\n",
       "      <td>Q99IB8</td>\n",
       "      <td>Q99IB8</td>\n",
       "      <td>hcvjf</td>\n",
       "      <td>Hepatitis C virus genotype 2a</td>\n",
       "    </tr>\n",
       "    <tr>\n",
       "      <th>406995</th>\n",
       "      <td>Q99IB8</td>\n",
       "      <td>Q99IB8</td>\n",
       "      <td>hcvjf</td>\n",
       "      <td>hcvjf</td>\n",
       "    </tr>\n",
       "  </tbody>\n",
       "</table>\n",
       "</div>"
      ],
      "text/plain": [
       "       int_A_id int_B_id                 int_A_organism  \\\n",
       "406992   Q99IB8   Q99IB8  Hepatitis C virus genotype 2a   \n",
       "406993   Q99IB8   Q99IB8  Hepatitis C virus genotype 2a   \n",
       "406994   Q99IB8   Q99IB8                          hcvjf   \n",
       "406995   Q99IB8   Q99IB8                          hcvjf   \n",
       "\n",
       "                       int_B_organism  \n",
       "406992  Hepatitis C virus genotype 2a  \n",
       "406993                          hcvjf  \n",
       "406994  Hepatitis C virus genotype 2a  \n",
       "406995                          hcvjf  "
      ]
     },
     "execution_count": 55,
     "metadata": {},
     "output_type": "execute_result"
    }
   ],
   "source": [
    "columns  = [\"int_A_id\",\n",
    "           \"int_B_id\",\n",
    "           \"int_A_organism\",\n",
    "           \"int_B_organism\"]\n",
    "intact_interaction_df.loc[\n",
    "    (intact_interaction_df.int_A_id == 'Q99IB8') &\n",
    "    (intact_interaction_df.int_B_id == 'Q99IB8'),\n",
    "    columns\n",
    "]"
   ]
  },
  {
   "cell_type": "code",
   "execution_count": 53,
   "metadata": {
    "ExecuteTime": {
     "end_time": "2020-10-06T14:07:39.432668Z",
     "start_time": "2020-10-06T14:00:10.720877Z"
    }
   },
   "outputs": [
    {
     "name": "stderr",
     "output_type": "stream",
     "text": [
      "1817it [07:27,  4.06it/s]\n"
     ]
    }
   ],
   "source": [
    "from tqdm import tqdm\n",
    "\n",
    "for index, row in tqdm(intact_interaction_df.loc[intact_interaction_df[uniqueness_columns].duplicated()].iterrows()):\n",
    "    m = intact_interaction_df.loc[\n",
    "        (intact_interaction_df.int_A_id == row['int_A_id']) &\n",
    "        (intact_interaction_df.int_B_id == row['int_B_id']) &\n",
    "        (intact_interaction_df.int_A_biological_role == row['int_A_biological_role']) &\n",
    "        (intact_interaction_df.int_B_biological_role == row['int_B_biological_role']) &\n",
    "        (intact_interaction_df.source == row['source'])\n",
    "    ]\n",
    "    \n",
    "    if (len(m.int_A_organism) == 1) & (len(m.int_B_organism) == 1):\n",
    "        print(m)"
   ]
  },
  {
   "cell_type": "code",
   "execution_count": 110,
   "metadata": {
    "ExecuteTime": {
     "end_time": "2020-10-06T21:06:21.288936Z",
     "start_time": "2020-10-06T21:06:20.651654Z"
    }
   },
   "outputs": [
    {
     "name": "stderr",
     "output_type": "stream",
     "text": [
      "  0%|          | 0/1625 [00:00<?, ?it/s]\n"
     ]
    }
   ],
   "source": [
    "for (fields), group in tqdm(intact_interaction_df.loc[intact_interaction_df[uniqueness_columns].duplicated(keep=False)].groupby(uniqueness_columns)):\n",
    "    if (len(group.int_A_organism) == 1) & (len(group.int_B_organism) == 1):\n",
    "        print(group)\n"
   ]
  },
  {
   "cell_type": "markdown",
   "metadata": {},
   "source": [
    "That's good. The above loop indicated all the duplications are due exclusively to the organism annotation.\n",
    "\n",
    "\n",
    "Extract a sample set of the json lines with duplicated entries:"
   ]
  },
  {
   "cell_type": "code",
   "execution_count": 114,
   "metadata": {
    "ExecuteTime": {
     "end_time": "2020-10-06T21:29:05.517115Z",
     "start_time": "2020-10-06T21:29:00.401842Z"
    }
   },
   "outputs": [
    {
     "name": "stdout",
     "output_type": "stream",
     "text": [
      "       6 duplicated_entries.json\n",
      "{\n",
      "  \"taxon_id\": 11320,\n",
      "  \"mnemonic\": \"9infa\",\n",
      "  \"scientific_name\": \"Influenza A virus\"\n",
      "}\n",
      "{\n",
      "  \"taxon_id\": 211044,\n",
      "  \"mnemonic\": \"i34a1\",\n",
      "  \"scientific_name\": \"Influenza A virus (strain A/Puerto Rico/8/1934 H1N1)\"\n",
      "}\n"
     ]
    }
   ],
   "source": [
    "%%bash\n",
    "\n",
    "# There are 6 rows of duplicates we extract:\n",
    "gzcat /Users/dsuveges/project/evidences/2020.10.06.interactor_pair_interactions.json.gz \\\n",
    "    | perl -lane 'print $_ if $. >= 704 and $. <= 709' \\\n",
    "    | head > duplicated_entries.json\n",
    "\n",
    "wc -l duplicated_entries.json\n",
    "\n",
    "head -n2 duplicated_entries.json | jq '.interactorB.organism'"
   ]
  },
  {
   "cell_type": "markdown",
   "metadata": {},
   "source": [
    "### Exploring biological roles\n",
    "\n",
    "\n",
    "* filter out rows where the interactor b is null\n",
    "* select biological roles for both partner\n"
   ]
  },
  {
   "cell_type": "code",
   "execution_count": 62,
   "metadata": {
    "ExecuteTime": {
     "end_time": "2020-10-06T15:25:30.696321Z",
     "start_time": "2020-10-06T15:25:30.248362Z"
    }
   },
   "outputs": [
    {
     "name": "stdout",
     "output_type": "stream",
     "text": [
      "87\n"
     ]
    }
   ],
   "source": [
    "biological_roles = (\n",
    "    intact_interaction_df\n",
    "    .loc[~intact_interaction_df.int_B_biological_role.isna(),['int_A_biological_role','int_B_biological_role']]\n",
    "    .value_counts()\n",
    ")\n",
    "\n",
    "print(len(biological_roles))"
   ]
  },
  {
   "cell_type": "code",
   "execution_count": 87,
   "metadata": {
    "ExecuteTime": {
     "end_time": "2020-10-06T17:17:52.565289Z",
     "start_time": "2020-10-06T17:17:52.511734Z"
    }
   },
   "outputs": [
    {
     "name": "stdout",
     "output_type": "stream",
     "text": [
      "{'phosphate donor', 'acceptor', 'proton acceptor', 'self', 'proton donor', 'inhibitor', 'phosphate acceptor', 'enzyme', 'putative self', 'stimulator', 'electron donor', 'electron acceptor', 'regulator target', 'photon donor', 'biological role', 'unspecified role', 'competitor', 'regulator', 'enzyme target', 'ancillary', 'cofactor', 'enzyme regulator', 'donor', 'photon acceptor'}\n",
      "24\n"
     ]
    },
    {
     "data": {
      "text/plain": [
       "int_A_biological_role  int_B_biological_role\n",
       "stimulator             unspecified role         10\n",
       "phosphate donor        phosphate acceptor       10\n",
       "enzyme                 competitor               10\n",
       "putative self          putative self             9\n",
       "unspecified role       putative self             9\n",
       "                                                ..\n",
       "enzyme                 phosphate acceptor        1\n",
       "regulator              regulator                 1\n",
       "                       unspecified role          1\n",
       "phosphate donor        phosphate donor           1\n",
       "phosphate acceptor     enzyme                    1\n",
       "Length: 66, dtype: int64"
      ]
     },
     "execution_count": 87,
     "metadata": {},
     "output_type": "execute_result"
    }
   ],
   "source": [
    "biol_roles = []\n",
    "    \n",
    "for role in biological_roles.index:\n",
    "    biol_roles.append(role[0])\n",
    "    biol_roles.append(role[1])\n",
    "    \n",
    "print(set(biol_roles))\n",
    "print(len(set(biol_roles)))\n",
    "biological_roles.loc[biological_roles <= 10]\n",
    "\n"
   ]
  },
  {
   "cell_type": "markdown",
   "metadata": {
    "ExecuteTime": {
     "end_time": "2020-10-06T15:33:04.056152Z",
     "start_time": "2020-10-06T15:33:04.035341Z"
    }
   },
   "source": [
    "### Exploring interaction detection method\n"
   ]
  },
  {
   "cell_type": "code",
   "execution_count": 118,
   "metadata": {
    "ExecuteTime": {
     "end_time": "2020-10-06T21:41:44.949569Z",
     "start_time": "2020-10-06T21:41:44.132864Z"
    }
   },
   "outputs": [
    {
     "name": "stdout",
     "output_type": "stream",
     "text": [
      "Number of methods: 214\n",
      "Number of unique method labels: 214\n",
      "Number of unique method ids: 214\n"
     ]
    }
   ],
   "source": [
    "det_methods = intact_evidence_df.interaction_detection_method.unique()\n",
    "\n",
    "det_methods.sort()\n",
    "print(f'Number of methods: {len(det_methods)}')\n",
    "print(f'Number of unique method labels: {len(set([x.split(\"(MI\")[0] for x in det_methods]))}')\n",
    "print(f'Number of unique method ids: {len(set([x.split(\" (MI\")[1] for x in det_methods]))}')\n",
    "\n"
   ]
  },
  {
   "cell_type": "code",
   "execution_count": 128,
   "metadata": {
    "ExecuteTime": {
     "end_time": "2020-10-06T21:46:28.623060Z",
     "start_time": "2020-10-06T21:46:25.535907Z"
    }
   },
   "outputs": [
    {
     "name": "stdout",
     "output_type": "stream",
     "text": [
      "746474\n"
     ]
    },
    {
     "data": {
      "text/plain": [
       "746474"
      ]
     },
     "execution_count": 128,
     "metadata": {},
     "output_type": "execute_result"
    }
   ],
   "source": [
    "print(len(intact_evidence_df))\n",
    "len(intact_evidence_df.drop(['participant_detection_method_A','participant_detection_method_B'], axis=1).drop_duplicates())"
   ]
  },
  {
   "cell_type": "code",
   "execution_count": 127,
   "metadata": {
    "ExecuteTime": {
     "end_time": "2020-10-06T21:46:19.840037Z",
     "start_time": "2020-10-06T21:46:15.818857Z"
    }
   },
   "outputs": [],
   "source": [
    "intact_evidence_df['participant_detection_method_A_json'] = intact_evidence_df['participant_detection_method_A'].apply(json.dumps)\n",
    "intact_evidence_df['participant_detection_method_B_json'] = intact_evidence_df['participant_detection_method_B'].apply(json.dumps)\n",
    "\n",
    "\n"
   ]
  },
  {
   "cell_type": "code",
   "execution_count": 124,
   "metadata": {
    "ExecuteTime": {
     "end_time": "2020-10-06T21:44:11.818035Z",
     "start_time": "2020-10-06T21:44:11.344883Z"
    }
   },
   "outputs": [
    {
     "data": {
      "text/html": [
       "<div>\n",
       "<style scoped>\n",
       "    .dataframe tbody tr th:only-of-type {\n",
       "        vertical-align: middle;\n",
       "    }\n",
       "\n",
       "    .dataframe tbody tr th {\n",
       "        vertical-align: top;\n",
       "    }\n",
       "\n",
       "    .dataframe thead th {\n",
       "        text-align: right;\n",
       "    }\n",
       "</style>\n",
       "<table border=\"1\" class=\"dataframe\">\n",
       "  <thead>\n",
       "    <tr style=\"text-align: right;\">\n",
       "      <th></th>\n",
       "      <th>pmid</th>\n",
       "      <th>interaction_type</th>\n",
       "      <th>interaction_id</th>\n",
       "      <th>interaction_detection_method</th>\n",
       "      <th>int_A_id</th>\n",
       "      <th>int_A_source</th>\n",
       "      <th>int_A_organism</th>\n",
       "      <th>int_A_biological_role</th>\n",
       "      <th>source</th>\n",
       "      <th>causal</th>\n",
       "      <th>int_B_id</th>\n",
       "      <th>int_B_source</th>\n",
       "      <th>int_B_organism</th>\n",
       "      <th>int_B_biological_role</th>\n",
       "    </tr>\n",
       "  </thead>\n",
       "  <tbody>\n",
       "    <tr>\n",
       "      <th>0</th>\n",
       "      <td>24835392</td>\n",
       "      <td>direct interaction</td>\n",
       "      <td>EBI-12684777</td>\n",
       "      <td>elisa (MI:0411)</td>\n",
       "      <td>A0A024A2C9</td>\n",
       "      <td>uniprotkb</td>\n",
       "      <td>haeif</td>\n",
       "      <td>unspecified role</td>\n",
       "      <td>intact</td>\n",
       "      <td>None</td>\n",
       "      <td>P08603-2</td>\n",
       "      <td>uniprotkb</td>\n",
       "      <td>human</td>\n",
       "      <td>unspecified role</td>\n",
       "    </tr>\n",
       "    <tr>\n",
       "      <th>1</th>\n",
       "      <td>32296183</td>\n",
       "      <td>physical association</td>\n",
       "      <td>EBI-24521810</td>\n",
       "      <td>validated two hybrid (MI:1356)</td>\n",
       "      <td>A0A024R0L9</td>\n",
       "      <td>uniprotkb</td>\n",
       "      <td>human</td>\n",
       "      <td>unspecified role</td>\n",
       "      <td>intact</td>\n",
       "      <td>None</td>\n",
       "      <td>Q93062-3</td>\n",
       "      <td>uniprotkb</td>\n",
       "      <td>human</td>\n",
       "      <td>unspecified role</td>\n",
       "    </tr>\n",
       "    <tr>\n",
       "      <th>2</th>\n",
       "      <td>32296183</td>\n",
       "      <td>physical association</td>\n",
       "      <td>EBI-23426250</td>\n",
       "      <td>two hybrid array (MI:0397)</td>\n",
       "      <td>A0A024R0L9</td>\n",
       "      <td>uniprotkb</td>\n",
       "      <td>human</td>\n",
       "      <td>unspecified role</td>\n",
       "      <td>intact</td>\n",
       "      <td>None</td>\n",
       "      <td>Q93062-3</td>\n",
       "      <td>uniprotkb</td>\n",
       "      <td>human</td>\n",
       "      <td>unspecified role</td>\n",
       "    </tr>\n",
       "    <tr>\n",
       "      <th>3</th>\n",
       "      <td>32296183</td>\n",
       "      <td>physical association</td>\n",
       "      <td>EBI-23201216</td>\n",
       "      <td>two hybrid prey pooling approach (MI:1112)</td>\n",
       "      <td>A0A024R0L9</td>\n",
       "      <td>uniprotkb</td>\n",
       "      <td>human</td>\n",
       "      <td>unspecified role</td>\n",
       "      <td>intact</td>\n",
       "      <td>None</td>\n",
       "      <td>Q93062-3</td>\n",
       "      <td>uniprotkb</td>\n",
       "      <td>human</td>\n",
       "      <td>unspecified role</td>\n",
       "    </tr>\n",
       "    <tr>\n",
       "      <th>4</th>\n",
       "      <td>17353931</td>\n",
       "      <td>physical association</td>\n",
       "      <td>EBI-1081478</td>\n",
       "      <td>anti bait coip (MI:0006)</td>\n",
       "      <td>A0A024R493</td>\n",
       "      <td>uniprotkb</td>\n",
       "      <td>human</td>\n",
       "      <td>unspecified role</td>\n",
       "      <td>intact</td>\n",
       "      <td>None</td>\n",
       "      <td>Q07283</td>\n",
       "      <td>uniprotkb</td>\n",
       "      <td>human</td>\n",
       "      <td>unspecified role</td>\n",
       "    </tr>\n",
       "  </tbody>\n",
       "</table>\n",
       "</div>"
      ],
      "text/plain": [
       "       pmid      interaction_type interaction_id  \\\n",
       "0  24835392    direct interaction   EBI-12684777   \n",
       "1  32296183  physical association   EBI-24521810   \n",
       "2  32296183  physical association   EBI-23426250   \n",
       "3  32296183  physical association   EBI-23201216   \n",
       "4  17353931  physical association    EBI-1081478   \n",
       "\n",
       "                 interaction_detection_method    int_A_id int_A_source  \\\n",
       "0                             elisa (MI:0411)  A0A024A2C9    uniprotkb   \n",
       "1              validated two hybrid (MI:1356)  A0A024R0L9    uniprotkb   \n",
       "2                  two hybrid array (MI:0397)  A0A024R0L9    uniprotkb   \n",
       "3  two hybrid prey pooling approach (MI:1112)  A0A024R0L9    uniprotkb   \n",
       "4                    anti bait coip (MI:0006)  A0A024R493    uniprotkb   \n",
       "\n",
       "  int_A_organism int_A_biological_role  source causal  int_B_id int_B_source  \\\n",
       "0          haeif      unspecified role  intact   None  P08603-2    uniprotkb   \n",
       "1          human      unspecified role  intact   None  Q93062-3    uniprotkb   \n",
       "2          human      unspecified role  intact   None  Q93062-3    uniprotkb   \n",
       "3          human      unspecified role  intact   None  Q93062-3    uniprotkb   \n",
       "4          human      unspecified role  intact   None    Q07283    uniprotkb   \n",
       "\n",
       "  int_B_organism int_B_biological_role  \n",
       "0          human      unspecified role  \n",
       "1          human      unspecified role  \n",
       "2          human      unspecified role  \n",
       "3          human      unspecified role  \n",
       "4          human      unspecified role  "
      ]
     },
     "execution_count": 124,
     "metadata": {},
     "output_type": "execute_result"
    }
   ],
   "source": [
    "intact_evidence_df.drop([], axis=1).head()"
   ]
  },
  {
   "cell_type": "code",
   "execution_count": null,
   "metadata": {},
   "outputs": [],
   "source": []
  }
 ],
 "metadata": {
  "kernelspec": {
   "display_name": "Python 3",
   "language": "python",
   "name": "python3"
  },
  "language_info": {
   "codemirror_mode": {
    "name": "ipython",
    "version": 3
   },
   "file_extension": ".py",
   "mimetype": "text/x-python",
   "name": "python",
   "nbconvert_exporter": "python",
   "pygments_lexer": "ipython3",
   "version": "3.6.10"
  }
 },
 "nbformat": 4,
 "nbformat_minor": 4
}
