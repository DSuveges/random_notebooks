{
 "cells": [
  {
   "cell_type": "markdown",
   "id": "207cf6a9",
   "metadata": {},
   "source": [
    "# New Gene2Phenotype dataset\n",
    "\n",
    "Comparing dataset for changes in schema:\n",
    "\n",
    "* New dataset: `https://www.ebi.ac.uk/gene2phenotype/downloads` \n",
    "* Old dataset: `gs://otar000-evidence_input/Gene2Phenotype/data_files`"
   ]
  },
  {
   "cell_type": "code",
   "execution_count": 2,
   "id": "1f725f46",
   "metadata": {
    "ExecuteTime": {
     "end_time": "2021-12-10T13:44:03.985084Z",
     "start_time": "2021-12-10T13:43:54.674169Z"
    }
   },
   "outputs": [
    {
     "name": "stdout",
     "output_type": "stream",
     "text": [
      "total 920\n",
      "drwxr-xr-x  6 dsuveges  384566875   192B 10 Dec 13:42 .\n",
      "drwxr-xr-x  4 dsuveges  384566875   128B 10 Dec 13:42 ..\n",
      "-rw-r--r--  1 dsuveges  384566875   8.7K 10 Dec 13:43 CancerG2P.csv.gz\n",
      "-rw-r--r--  1 dsuveges  384566875   219K 10 Dec 13:43 DDG2P.csv.gz\n",
      "-rw-r--r--  1 dsuveges  384566875    70K 10 Dec 13:43 EyeG2P.csv.gz\n",
      "-rw-r--r--  1 dsuveges  384566875    53K 10 Dec 13:43 SkinG2P.csv.gz\n",
      "Fetching: CancerG2P\n",
      "Fetching: DDG2P\n",
      "Fetching: EyeG2P\n",
      "Fetching: SkinG2P\n",
      "total 720\n",
      "drwxr-xr-x  6 dsuveges  384566875   192B 10 Dec 13:44 .\n",
      "drwxr-xr-x  4 dsuveges  384566875   128B 10 Dec 13:42 ..\n",
      "-rw-r--r--  1 dsuveges  384566875   8.8K 10 Dec 13:43 CancerG2P-2021-11-02.csv.gz\n",
      "-rw-r--r--  1 dsuveges  384566875   218K 10 Dec 13:44 DDG2P-2021-11-02.csv.gz\n",
      "-rw-r--r--  1 dsuveges  384566875    70K 10 Dec 13:44 EyeG2P-2021-11-02.csv.gz\n",
      "-rw-r--r--  1 dsuveges  384566875    54K 10 Dec 13:44 SkinG2P-2021-11-02.csv.gz\n"
     ]
    },
    {
     "name": "stderr",
     "output_type": "stream",
     "text": [
      "--2021-12-10 13:43:54--  https://www.ebi.ac.uk/gene2phenotype/downloads/CancerG2P.csv.gz\n",
      "Resolving www.ebi.ac.uk (www.ebi.ac.uk)... 193.62.193.80\n",
      "Connecting to www.ebi.ac.uk (www.ebi.ac.uk)|193.62.193.80|:443... connected.\n",
      "HTTP request sent, awaiting response... 200 OK\n",
      "Length: 8933 (8.7K) [application/zip]\n",
      "Saving to: ‘/Users/dsuveges/project_data/gene2phenotype/new/CancerG2P.csv.gz’\n",
      "\n",
      "     0K ........                                              100% 40.6M=0s\n",
      "\n",
      "2021-12-10 13:43:55 (40.6 MB/s) - ‘/Users/dsuveges/project_data/gene2phenotype/new/CancerG2P.csv.gz’ saved [8933/8933]\n",
      "\n",
      "--2021-12-10 13:43:55--  https://www.ebi.ac.uk/gene2phenotype/downloads/DDG2P.csv.gz\n",
      "Resolving www.ebi.ac.uk (www.ebi.ac.uk)... 193.62.193.80\n",
      "Connecting to www.ebi.ac.uk (www.ebi.ac.uk)|193.62.193.80|:443... connected.\n",
      "HTTP request sent, awaiting response... 200 OK\n",
      "Length: 224653 (219K) [application/zip]\n",
      "Saving to: ‘/Users/dsuveges/project_data/gene2phenotype/new/DDG2P.csv.gz’\n",
      "\n",
      "     0K .......... .......... .......... .......... .......... 22% 1.36M 0s\n",
      "    50K .......... .......... .......... .......... .......... 45% 2.10M 0s\n",
      "   100K .......... .......... .......... .......... .......... 68% 2.56M 0s\n",
      "   150K .......... .......... .......... .......... .......... 91% 2.39M 0s\n",
      "   200K .......... .........                                  100% 96.6M=0.1s\n",
      "\n",
      "2021-12-10 13:43:55 (2.16 MB/s) - ‘/Users/dsuveges/project_data/gene2phenotype/new/DDG2P.csv.gz’ saved [224653/224653]\n",
      "\n",
      "--2021-12-10 13:43:55--  https://www.ebi.ac.uk/gene2phenotype/downloads/EyeG2P.csv.gz\n",
      "Resolving www.ebi.ac.uk (www.ebi.ac.uk)... 193.62.193.80\n",
      "Connecting to www.ebi.ac.uk (www.ebi.ac.uk)|193.62.193.80|:443... connected.\n",
      "HTTP request sent, awaiting response... 200 OK\n",
      "Length: 71554 (70K) [application/zip]\n",
      "Saving to: ‘/Users/dsuveges/project_data/gene2phenotype/new/EyeG2P.csv.gz’\n",
      "\n",
      "     0K .......... .......... .......... .......... .......... 71% 1.44M 0s\n",
      "    50K .......... .........                                  100% 20.4M=0.03s\n",
      "\n",
      "2021-12-10 13:43:56 (1.96 MB/s) - ‘/Users/dsuveges/project_data/gene2phenotype/new/EyeG2P.csv.gz’ saved [71554/71554]\n",
      "\n",
      "--2021-12-10 13:43:56--  https://www.ebi.ac.uk/gene2phenotype/downloads/SkinG2P.csv.gz\n",
      "Resolving www.ebi.ac.uk (www.ebi.ac.uk)... 193.62.193.80\n",
      "Connecting to www.ebi.ac.uk (www.ebi.ac.uk)|193.62.193.80|:443... connected.\n",
      "HTTP request sent, awaiting response... 200 OK\n",
      "Length: 53943 (53K) [application/zip]\n",
      "Saving to: ‘/Users/dsuveges/project_data/gene2phenotype/new/SkinG2P.csv.gz’\n",
      "\n",
      "     0K .......... .......... .......... .......... .......... 94% 1.08M 0s\n",
      "    50K ..                                                    100% 53.6K=0.05s\n",
      "\n",
      "2021-12-10 13:43:56 (1.14 MB/s) - ‘/Users/dsuveges/project_data/gene2phenotype/new/SkinG2P.csv.gz’ saved [53943/53943]\n",
      "\n",
      "Copying gs://otar000-evidence_input/Gene2Phenotype/data_files/CancerG2P-2021-11-02.csv.gz...\n",
      "/ [0 files][    0.0 B/  8.8 KiB]                                                \r",
      "/ [1 files][  8.8 KiB/  8.8 KiB]                                                \r\n",
      "Operation completed over 1 objects/8.8 KiB.                                      \n",
      "Copying gs://otar000-evidence_input/Gene2Phenotype/data_files/DDG2P-2021-11-02.csv.gz...\n",
      "/ [0 files][    0.0 B/217.7 KiB]                                                \r",
      "/ [1 files][217.7 KiB/217.7 KiB]                                                \r\n",
      "Operation completed over 1 objects/217.7 KiB.                                    \n",
      "Copying gs://otar000-evidence_input/Gene2Phenotype/data_files/EyeG2P-2021-11-02.csv.gz...\n",
      "/ [0 files][    0.0 B/ 70.4 KiB]                                                \r",
      "/ [1 files][ 70.4 KiB/ 70.4 KiB]                                                \r\n",
      "Operation completed over 1 objects/70.4 KiB.                                     \n",
      "Copying gs://otar000-evidence_input/Gene2Phenotype/data_files/SkinG2P-2021-11-02.csv.gz...\n",
      "/ [0 files][    0.0 B/ 53.8 KiB]                                                \r",
      "/ [1 files][ 53.8 KiB/ 53.8 KiB]                                                \r\n",
      "Operation completed over 1 objects/53.8 KiB.                                     \n"
     ]
    }
   ],
   "source": [
    "%%bash\n",
    "\n",
    "NEWDIR='/Users/dsuveges/project_data/gene2phenotype/new'\n",
    "OLDDIR='/Users/dsuveges/project_data/gene2phenotype/old'\n",
    "\n",
    "mkdir -p ${NEWDIR}\n",
    "mkdir -p ${OLDDIR}\n",
    "\n",
    "\n",
    "# Fetching new dataset:\n",
    "wget https://www.ebi.ac.uk/gene2phenotype/downloads/CancerG2P.csv.gz -O ${NEWDIR}/CancerG2P.csv.gz\n",
    "wget https://www.ebi.ac.uk/gene2phenotype/downloads/DDG2P.csv.gz -O ${NEWDIR}/DDG2P.csv.gz\n",
    "wget https://www.ebi.ac.uk/gene2phenotype/downloads/EyeG2P.csv.gz -O ${NEWDIR}/EyeG2P.csv.gz\n",
    "wget https://www.ebi.ac.uk/gene2phenotype/downloads/SkinG2P.csv.gz -O ${NEWDIR}/SkinG2P.csv.gz\n",
    "\n",
    "ls -lah ${NEWDIR}\n",
    "\n",
    "# Fetching old data:\n",
    "for dataset in CancerG2P DDG2P EyeG2P SkinG2P; do\n",
    "    echo \"Fetching: ${dataset}\"\n",
    "    gsutil cp -r gs://otar000-evidence_input/Gene2Phenotype/data_files/${dataset}-2021-11-02.csv.gz ${OLDDIR}\n",
    "done\n",
    "\n",
    "ls -lah ${OLDDIR}\n"
   ]
  },
  {
   "cell_type": "code",
   "execution_count": 30,
   "id": "f79c5c83",
   "metadata": {
    "ExecuteTime": {
     "end_time": "2021-12-14T04:26:35.140516Z",
     "start_time": "2021-12-14T04:26:35.116698Z"
    }
   },
   "outputs": [],
   "source": [
    "from pyspark.sql.functions import (\n",
    "    col, udf, struct, lit, split, regexp_replace, create_map, min as spark_min, max as spark_max,\n",
    "    count, sum as spar_sum, explode, when\n",
    ")\n",
    "from pyspark.sql.types import (\n",
    "    FloatType, ArrayType, StructType, StructField, StringType, IntegerType, TimestampType\n",
    ")\n",
    "from pyspark.sql import SparkSession\n",
    "from pyspark.conf import SparkConf\n",
    "from itertools import chain\n",
    "\n",
    "\n",
    "# for heatmap:\n",
    "import numpy as np\n",
    "import seaborn as sns\n",
    "import matplotlib.pylab as plt\n",
    "\n",
    "# establish spark connection\n",
    "sparkConf = (\n",
    "    SparkConf()\n",
    "    .set('spark.driver.memory', '15g')\n",
    "    .set('spark.executor.memory', '15g')\n",
    "    .set('spark.driver.maxResultSize', '0')\n",
    ")\n",
    "spark = (\n",
    "    SparkSession.builder\n",
    "    .config(conf=sparkConf)\n",
    "    .master('local[*]')\n",
    "    .getOrCreate()\n",
    ")"
   ]
  },
  {
   "cell_type": "code",
   "execution_count": 9,
   "id": "c4046d49",
   "metadata": {
    "ExecuteTime": {
     "end_time": "2021-12-10T13:53:56.744092Z",
     "start_time": "2021-12-10T13:53:55.632868Z"
    },
    "scrolled": false
   },
   "outputs": [
    {
     "name": "stdout",
     "output_type": "stream",
     "text": [
      "looking at the schema of CancerG2P\n",
      "OPpening old dataset:\n",
      "root\n",
      " |-- gene symbol: string (nullable = true)\n",
      " |-- gene mim: string (nullable = true)\n",
      " |-- disease name: string (nullable = true)\n",
      " |-- disease mim: string (nullable = true)\n",
      " |-- DDD category: string (nullable = true)\n",
      " |-- allelic requirement: string (nullable = true)\n",
      " |-- mutation consequence: string (nullable = true)\n",
      " |-- phenotypes: string (nullable = true)\n",
      " |-- organ specificity list: string (nullable = true)\n",
      " |-- pmids: string (nullable = true)\n",
      " |-- panel: string (nullable = true)\n",
      " |-- prev symbols: string (nullable = true)\n",
      " |-- hgnc id: string (nullable = true)\n",
      " |-- gene disease pair entry date: string (nullable = true)\n",
      "\n",
      "None\n",
      "OPpening new dataset:\n",
      "root\n",
      " |-- gene symbol: string (nullable = true)\n",
      " |-- gene mim: string (nullable = true)\n",
      " |-- disease name: string (nullable = true)\n",
      " |-- disease mim: string (nullable = true)\n",
      " |-- confidence category: string (nullable = true)\n",
      " |-- allelic requirement: string (nullable = true)\n",
      " |-- mutation consequence: string (nullable = true)\n",
      " |-- phenotypes: string (nullable = true)\n",
      " |-- organ specificity list: string (nullable = true)\n",
      " |-- pmids: string (nullable = true)\n",
      " |-- panel: string (nullable = true)\n",
      " |-- prev symbols: string (nullable = true)\n",
      " |-- hgnc id: string (nullable = true)\n",
      " |-- gene disease pair entry date: string (nullable = true)\n",
      " |-- cross cutting modifier: string (nullable = true)\n",
      " |-- mutation consequence flag: string (nullable = true)\n",
      "\n",
      "None\n",
      "looking at the schema of DDG2P\n",
      "OPpening old dataset:\n",
      "root\n",
      " |-- gene symbol: string (nullable = true)\n",
      " |-- gene mim: string (nullable = true)\n",
      " |-- disease name: string (nullable = true)\n",
      " |-- disease mim: string (nullable = true)\n",
      " |-- DDD category: string (nullable = true)\n",
      " |-- allelic requirement: string (nullable = true)\n",
      " |-- mutation consequence: string (nullable = true)\n",
      " |-- phenotypes: string (nullable = true)\n",
      " |-- organ specificity list: string (nullable = true)\n",
      " |-- pmids: string (nullable = true)\n",
      " |-- panel: string (nullable = true)\n",
      " |-- prev symbols: string (nullable = true)\n",
      " |-- hgnc id: string (nullable = true)\n",
      " |-- gene disease pair entry date: string (nullable = true)\n",
      "\n",
      "None\n",
      "OPpening new dataset:\n",
      "root\n",
      " |-- gene symbol: string (nullable = true)\n",
      " |-- gene mim: string (nullable = true)\n",
      " |-- disease name: string (nullable = true)\n",
      " |-- disease mim: string (nullable = true)\n",
      " |-- confidence category: string (nullable = true)\n",
      " |-- allelic requirement: string (nullable = true)\n",
      " |-- mutation consequence: string (nullable = true)\n",
      " |-- phenotypes: string (nullable = true)\n",
      " |-- organ specificity list: string (nullable = true)\n",
      " |-- pmids: string (nullable = true)\n",
      " |-- panel: string (nullable = true)\n",
      " |-- prev symbols: string (nullable = true)\n",
      " |-- hgnc id: string (nullable = true)\n",
      " |-- gene disease pair entry date: string (nullable = true)\n",
      " |-- cross cutting modifier: string (nullable = true)\n",
      " |-- mutation consequence flag: string (nullable = true)\n",
      "\n",
      "None\n",
      "looking at the schema of EyeG2P\n",
      "OPpening old dataset:\n",
      "root\n",
      " |-- gene symbol: string (nullable = true)\n",
      " |-- gene mim: string (nullable = true)\n",
      " |-- disease name: string (nullable = true)\n",
      " |-- disease mim: string (nullable = true)\n",
      " |-- DDD category: string (nullable = true)\n",
      " |-- allelic requirement: string (nullable = true)\n",
      " |-- mutation consequence: string (nullable = true)\n",
      " |-- phenotypes: string (nullable = true)\n",
      " |-- organ specificity list: string (nullable = true)\n",
      " |-- pmids: string (nullable = true)\n",
      " |-- panel: string (nullable = true)\n",
      " |-- prev symbols: string (nullable = true)\n",
      " |-- hgnc id: string (nullable = true)\n",
      " |-- gene disease pair entry date: string (nullable = true)\n",
      "\n",
      "None\n",
      "OPpening new dataset:\n",
      "root\n",
      " |-- gene symbol: string (nullable = true)\n",
      " |-- gene mim: string (nullable = true)\n",
      " |-- disease name: string (nullable = true)\n",
      " |-- disease mim: string (nullable = true)\n",
      " |-- confidence category: string (nullable = true)\n",
      " |-- allelic requirement: string (nullable = true)\n",
      " |-- mutation consequence: string (nullable = true)\n",
      " |-- phenotypes: string (nullable = true)\n",
      " |-- organ specificity list: string (nullable = true)\n",
      " |-- pmids: string (nullable = true)\n",
      " |-- panel: string (nullable = true)\n",
      " |-- prev symbols: string (nullable = true)\n",
      " |-- hgnc id: string (nullable = true)\n",
      " |-- gene disease pair entry date: string (nullable = true)\n",
      " |-- cross cutting modifier: string (nullable = true)\n",
      " |-- mutation consequence flag: string (nullable = true)\n",
      "\n",
      "None\n",
      "looking at the schema of SkinG2P\n",
      "OPpening old dataset:\n",
      "root\n",
      " |-- gene symbol: string (nullable = true)\n",
      " |-- gene mim: string (nullable = true)\n",
      " |-- disease name: string (nullable = true)\n",
      " |-- disease mim: string (nullable = true)\n",
      " |-- DDD category: string (nullable = true)\n",
      " |-- allelic requirement: string (nullable = true)\n",
      " |-- mutation consequence: string (nullable = true)\n",
      " |-- phenotypes: string (nullable = true)\n",
      " |-- organ specificity list: string (nullable = true)\n",
      " |-- pmids: string (nullable = true)\n",
      " |-- panel: string (nullable = true)\n",
      " |-- prev symbols: string (nullable = true)\n",
      " |-- hgnc id: string (nullable = true)\n",
      " |-- gene disease pair entry date: string (nullable = true)\n",
      "\n",
      "None\n",
      "OPpening new dataset:\n",
      "root\n",
      " |-- gene symbol: string (nullable = true)\n",
      " |-- gene mim: string (nullable = true)\n",
      " |-- disease name: string (nullable = true)\n",
      " |-- disease mim: string (nullable = true)\n",
      " |-- confidence category: string (nullable = true)\n",
      " |-- allelic requirement: string (nullable = true)\n",
      " |-- mutation consequence: string (nullable = true)\n",
      " |-- phenotypes: string (nullable = true)\n",
      " |-- organ specificity list: string (nullable = true)\n",
      " |-- pmids: string (nullable = true)\n",
      " |-- panel: string (nullable = true)\n",
      " |-- prev symbols: string (nullable = true)\n",
      " |-- hgnc id: string (nullable = true)\n",
      " |-- gene disease pair entry date: string (nullable = true)\n",
      " |-- cross cutting modifier: string (nullable = true)\n",
      " |-- mutation consequence flag: string (nullable = true)\n",
      "\n",
      "None\n"
     ]
    }
   ],
   "source": [
    "file_types = [\"CancerG2P\", \"DDG2P\", \"EyeG2P\", \"SkinG2P\"]\n",
    "paths = {\n",
    "    'old': '/Users/dsuveges/project_data/gene2phenotype/old/{}-2021-11-02.csv.gz',\n",
    "    'new': '/Users/dsuveges/project_data/gene2phenotype/new/{}.csv.gz',\n",
    "}\n",
    "for file_type in file_types:\n",
    "    print(f'looking at the schema of {file_type}')\n",
    "    for key, value in paths.items():\n",
    "        print(f'Opening {key} dataset:')\n",
    "        print(spark.read.csv(value.format(file_type), header=True).printSchema())\n"
   ]
  },
  {
   "cell_type": "code",
   "execution_count": 10,
   "id": "be73dd21",
   "metadata": {
    "ExecuteTime": {
     "end_time": "2021-12-13T13:24:41.582401Z",
     "start_time": "2021-12-13T13:24:40.732026Z"
    }
   },
   "outputs": [
    {
     "name": "stdout",
     "output_type": "stream",
     "text": [
      "-RECORD 0--------------------------------------------------------------------------------------------------------------------------------------------------------------------------------------------\n",
      " gene symbol                  | RAB27A                                                                                                                                                               \n",
      " gene mim                     | 603868                                                                                                                                                               \n",
      " disease name                 | Griscelli Type 2                                                                                                                                                     \n",
      " disease mim                  | No disease mim                                                                                                                                                       \n",
      " DDD category                 | confirmed                                                                                                                                                            \n",
      " allelic requirement          | biallelic                                                                                                                                                            \n",
      " mutation consequence         | loss of function                                                                                                                                                     \n",
      " phenotypes                   | HP:0002715;HP:0002344;HP:0002218;HP:0001010;HP:0001574;HP:0001939;HP:0001317;HP:0000707;HP:0002220;HP:0001008;HP:0003011;HP:0002718;HP:0002972;HP:0001250;HP:0001257 \n",
      " organ specificity list       | Bone Marrow/Immune;Skin;Brain/Cognition;Hair/Nails                                                                                                                   \n",
      " pmids                        | 12058346                                                                                                                                                             \n",
      " panel                        | Skin                                                                                                                                                                 \n",
      " prev symbols                 | null                                                                                                                                                                 \n",
      " hgnc id                      | 9766                                                                                                                                                                 \n",
      " gene disease pair entry date | 2018-07-05 15:56:45                                                                                                                                                  \n",
      "only showing top 1 row\n",
      "\n",
      "None\n",
      "-RECORD 0---------------------------------------------------------------------------------------------------------------------------------------------------------------------------------------------------------------------------------------------------------------------------------------------------------------------------------------------------------------------------------------\n",
      " gene symbol                  | NTRK1                                                                                                                                                                                                                                                                                                                                                           \n",
      " gene mim                     | 191315                                                                                                                                                                                                                                                                                                                                                          \n",
      " disease name                 | CONGENITAL INSENSITIVITY TO PAIN WITH ANHIDROSIS                                                                                                                                                                                                                                                                                                                \n",
      " disease mim                  | 256800                                                                                                                                                                                                                                                                                                                                                          \n",
      " confidence category          | definitive                                                                                                                                                                                                                                                                                                                                                      \n",
      " allelic requirement          | biallelic_autosomal                                                                                                                                                                                                                                                                                                                                             \n",
      " mutation consequence         | absent gene product                                                                                                                                                                                                                                                                                                                                             \n",
      " phenotypes                   | HP:0007021;HP:0005307;HP:0001939;HP:0001626;HP:0000478;HP:0002459;HP:0000712;HP:0000752;HP:0004782;HP:0000924;HP:0001226;HP:0040064;HP:0007759;HP:0002164;HP:0002754;HP:0003549;HP:0002821;HP:0007249;HP:0001954;HP:0000491;HP:0001249;HP:0000559;HP:0001263;HP:0001574;HP:0000970;HP:0000495;HP:0000742;HP:0002715;HP:0000007;HP:0003593;HP:0000707;HP:0008404 \n",
      " organ specificity list       | Bone Marrow/Immune;Skeleton;Spinal cord/Peripheral nerves;Eye;Skin;Endocrine/Metabolic;Hair/Nails;Brain/Cognition;Heart/Cardiovasculature/Lymphatic                                                                                                                                                                                                             \n",
      " pmids                        | 10982191;8696348;8145823;10233776;10861667;10330344;10090906;19250380                                                                                                                                                                                                                                                                                           \n",
      " panel                        | Skin                                                                                                                                                                                                                                                                                                                                                            \n",
      " prev symbols                 | null                                                                                                                                                                                                                                                                                                                                                            \n",
      " hgnc id                      | 8031                                                                                                                                                                                                                                                                                                                                                            \n",
      " gene disease pair entry date | 2017-09-01 16:19:16                                                                                                                                                                                                                                                                                                                                             \n",
      " cross cutting modifier       | null                                                                                                                                                                                                                                                                                                                                                            \n",
      " mutation consequence flag    | null                                                                                                                                                                                                                                                                                                                                                            \n",
      "only showing top 1 row\n",
      "\n",
      "None\n"
     ]
    }
   ],
   "source": [
    "old_skin = (\n",
    "    spark.read.csv('/Users/dsuveges/project_data/gene2phenotype/old/SkinG2P-2021-11-02.csv.gz', header=True)\n",
    "    .persist()\n",
    ")\n",
    "\n",
    "new_skin = (\n",
    "    spark.read.csv('/Users/dsuveges/project_data/gene2phenotype/new/SkinG2P.csv.gz', header=True)\n",
    "    .persist()\n",
    ")\n",
    "\n",
    "print(old_skin.show(1, vertical=True, truncate=False))\n",
    "print(new_skin.show(1, vertical=True, truncate=False))"
   ]
  },
  {
   "cell_type": "markdown",
   "id": "ce238b21",
   "metadata": {
    "ExecuteTime": {
     "end_time": "2021-12-13T13:18:44.614362Z",
     "start_time": "2021-12-13T13:18:44.609410Z"
    }
   },
   "source": [
    "### Fields:\n",
    "\n",
    "| Old | New | Description |\n",
    "|:----|:----|:------------|\n",
    "|gene symbol | gene symbol | HGNC gene symbol | \n",
    "|gene mim | gene mim | gene identifier in the OMIM database |\n",
    "|disease name | disease name| disease name in the OMIM database |\n",
    "|disease mim | disease mim | disease identifier in the OMIM database |\n",
    "|DDD category | confidence category | confidence category of the annotation |\n",
    "|allelic requirement | allelic requirement | allelic requirement | \n",
    "|mutation consequence | mutation consequence | consequence |\n",
    "|phenotypes | phenotypes | list of phenotype annotations in the human phenotypes onotology |\n",
    "|organ specificity list| organ specificity list| |\n",
    "|pmids | pmids | list of pmids |\n",
    "| panel | panel | |\n",
    "|prev symbols | prev symbols | |\n",
    "|hgnc id | hgnc id | gene identifier in the hgnc database |\n",
    "|gene disease pair entry date | gene disease pair entry date ||\n",
    "| | cross cutting modifier |\n",
    "| | mutation consequence flag |\n",
    "\n",
    "\n",
    "* `cross cutting modifier`: only six different evidence has this annotation in the skin dataset.\n",
    "    * `requires heterozygosity`:\n",
    "    * `typically mosaic `:\n",
    "    * `imprinted`:\n",
    "* `mutation consequence flag`: 343 non-null rows,\n",
    "    * `restricted repertoire of mutations`"
   ]
  },
  {
   "cell_type": "code",
   "execution_count": 18,
   "id": "e53d8812",
   "metadata": {
    "ExecuteTime": {
     "end_time": "2021-12-13T14:45:24.710346Z",
     "start_time": "2021-12-13T14:45:23.899844Z"
    }
   },
   "outputs": [
    {
     "name": "stdout",
     "output_type": "stream",
     "text": [
      "+-----------+--------+--------------------+--------------+-------------------+--------------------+--------------------+--------------------+----------------------+--------------------+-----+-----------------+-------+----------------------------+----------------------+-------------------------+\n",
      "|gene symbol|gene mim|        disease name|   disease mim|confidence category| allelic requirement|mutation consequence|          phenotypes|organ specificity list|               pmids|panel|     prev symbols|hgnc id|gene disease pair entry date|cross cutting modifier|mutation consequence flag|\n",
      "+-----------+--------+--------------------+--------------+-------------------+--------------------+--------------------+--------------------+----------------------+--------------------+-----+-----------------+-------+----------------------------+----------------------+-------------------------+\n",
      "|       PTEN|  601728|    PROTEUS SYNDROME|        176920|         definitive|monoallelic_autos...| absent gene product|HP:0000256;HP:000...|  Skin;Skeleton;Bra...|12471211;16704655...| Skin|         BZS;MHAM|   9588|         2017-09-01 16:19:16|      typically mosaic|                     null|\n",
      "|      EFNB1|  300035|CRANIOFRONTONASAL...|        304110|         definitive|   monoallelic_X_het| absent gene product|HP:0001809;HP:000...|         Face;Skeleton|15124102;16685650...| Skin|       EPLG2;CFNS|   3226|         2017-09-01 16:19:15|  requires heterozy...|                     null|\n",
      "|      UBE3A|  601623|   ANGELMAN SYNDROME|        105830|         definitive|monoallelic_autos...| absent gene product|HP:0005469;HP:000...|  Spinal cord/Perip...|8988171;1338769;7...| Skin|   HPVE6A;EPVE6AP|  12496|         2017-09-01 16:19:16|             imprinted|                     null|\n",
      "|      SNRPN|  182279|Prader-Willi synd...|No disease mim|         definitive|monoallelic_autos...| absent gene product|HP:0001385;HP:000...|  Skeleton;GI tract...|    28554868;8723064| Skin|             PWCR|  11164|         2019-09-16 15:47:02|             imprinted|                     null|\n",
      "|        FAS|  134637|Autoimmune lympho...|No disease mim|         definitive|monoallelic_autos...|altered gene prod...|                null|  Bone Marrow/Immun...|8929361;10709732;...| Skin|APT1;FAS1;TNFRSF6|  11920|         2021-01-12 14:51:41|      typically mosaic|     restricted repert...|\n",
      "|       GNAS|  139320|MCCUNE-ALBRIGHT S...|No disease mim|         definitive|monoallelic_autos...|altered gene prod...|HP:0002893;HP:001...|  Skeleton;GI tract...|     1594625;1944469| Skin|            GNAS1|   4392|         2019-09-16 15:47:06|      typically mosaic|     restricted repert...|\n",
      "+-----------+--------+--------------------+--------------+-------------------+--------------------+--------------------+--------------------+----------------------+--------------------+-----+-----------------+-------+----------------------------+----------------------+-------------------------+\n",
      "\n"
     ]
    }
   ],
   "source": [
    "(\n",
    "    new_skin\n",
    "    .filter(col('cross cutting modifier').isNotNull())\n",
    "    .distinct()\n",
    "    .show()\n",
    ")"
   ]
  },
  {
   "cell_type": "code",
   "execution_count": 24,
   "id": "e81f3e43",
   "metadata": {
    "ExecuteTime": {
     "end_time": "2021-12-13T14:53:28.188282Z",
     "start_time": "2021-12-13T14:53:27.935524Z"
    }
   },
   "outputs": [
    {
     "name": "stdout",
     "output_type": "stream",
     "text": [
      "+----------------------------------+\n",
      "|mutation consequence flag         |\n",
      "+----------------------------------+\n",
      "|restricted repertoire of mutations|\n",
      "+----------------------------------+\n",
      "\n"
     ]
    }
   ],
   "source": [
    "(\n",
    "    new_skin\n",
    "    .filter(col('mutation consequence flag').isNotNull())\n",
    "    .select(col('mutation consequence flag'))\n",
    "    .distinct()\n",
    "#     .count()\n",
    "    .show(truncate=False)\n",
    ")"
   ]
  },
  {
   "cell_type": "markdown",
   "id": "6e708535",
   "metadata": {},
   "source": [
    "### Rebuilding the evidence parser \n",
    "\n",
    "Let's see how the data can be loaded into a single dataframe:\n"
   ]
  },
  {
   "cell_type": "code",
   "execution_count": 43,
   "id": "1b83c356",
   "metadata": {
    "ExecuteTime": {
     "end_time": "2021-12-14T04:31:18.555353Z",
     "start_time": "2021-12-14T04:31:18.246561Z"
    }
   },
   "outputs": [
    {
     "name": "stdout",
     "output_type": "stream",
     "text": [
      "3898\n",
      "root\n",
      " |-- gene symbol: string (nullable = true)\n",
      " |-- gene mim: integer (nullable = true)\n",
      " |-- disease name: string (nullable = true)\n",
      " |-- disease mim: string (nullable = true)\n",
      " |-- confidence category: string (nullable = true)\n",
      " |-- allelic requirement: string (nullable = true)\n",
      " |-- mutation consequence: string (nullable = true)\n",
      " |-- phenotypes: string (nullable = true)\n",
      " |-- organ specificity list: string (nullable = true)\n",
      " |-- pmids: string (nullable = true)\n",
      " |-- panel: string (nullable = true)\n",
      " |-- prev symbols: string (nullable = true)\n",
      " |-- hgnc id: integer (nullable = true)\n",
      " |-- gene disease pair entry date: timestamp (nullable = true)\n",
      " |-- cross cutting modifier: string (nullable = true)\n",
      " |-- mutation consequence flag: string (nullable = true)\n",
      "\n"
     ]
    }
   ],
   "source": [
    "gene2phenotype_schema = (\n",
    "    StructType()\n",
    "    .add('gene symbol', StringType())\n",
    "    .add('gene mim', IntegerType())\n",
    "    .add('disease name', StringType())\n",
    "    .add('disease mim', StringType())\n",
    "    .add('confidence category', StringType())\n",
    "    .add('allelic requirement', StringType())\n",
    "    .add('mutation consequence', StringType())\n",
    "    .add('phenotypes', StringType())\n",
    "    .add('organ specificity list', StringType())\n",
    "    .add('pmids', StringType())\n",
    "    .add('panel', StringType())\n",
    "    .add('prev symbols', StringType())\n",
    "    .add('hgnc id', IntegerType())\n",
    "    .add('gene disease pair entry date', TimestampType())\n",
    "    .add('cross cutting modifier', StringType())\n",
    "    .add('mutation consequence flag', StringType())\n",
    ")\n",
    "\n",
    "full_df = (\n",
    "    spark.read.csv(\n",
    "        [paths['new'].format(file_type) for file_type in file_types], \n",
    "        schema=gene2phenotype_schema, enforceSchema=True, header=True\n",
    "    )\n",
    "    .persist()\n",
    ")\n",
    "\n",
    "print(full_df.count())\n",
    "full_df.printSchema()"
   ]
  },
  {
   "cell_type": "markdown",
   "id": "bca7179e",
   "metadata": {},
   "source": [
    "* `mutation consequence flag`: 343 non-null rows, 2 differet unique values\n",
    "* `cross cutting modifier`: 32 non-null rows, 4 unique values"
   ]
  },
  {
   "cell_type": "code",
   "execution_count": 51,
   "id": "fed72bd6",
   "metadata": {
    "ExecuteTime": {
     "end_time": "2021-12-14T04:35:17.043145Z",
     "start_time": "2021-12-14T04:35:16.929011Z"
    }
   },
   "outputs": [
    {
     "data": {
      "text/plain": [
       "32"
      ]
     },
     "execution_count": 51,
     "metadata": {},
     "output_type": "execute_result"
    }
   ],
   "source": [
    "(\n",
    "    full_df\n",
    "    .filter(col('cross cutting modifier').isNotNull())\n",
    "    .select('cross cutting modifier')\n",
    "#     .distinct()\n",
    "#     .show(truncate=False)\n",
    "    .count()\n",
    "#     .show(1, vertical=True, truncate=False)\n",
    ")"
   ]
  },
  {
   "cell_type": "code",
   "execution_count": 60,
   "id": "525ee42f",
   "metadata": {
    "ExecuteTime": {
     "end_time": "2021-12-14T04:45:43.545924Z",
     "start_time": "2021-12-14T04:45:43.497062Z"
    }
   },
   "outputs": [
    {
     "name": "stdout",
     "output_type": "stream",
     "text": [
      "\"gene symbol\"\n",
      "\"gene mim\"\n",
      "\"disease name\"\n",
      "\"disease mim\"\n",
      "\"confidence category\"\n",
      "\"allelic requirement\"\n",
      "\"mutation consequence\"\n",
      "phenotypes\n",
      "\"organ specificity list\"\n",
      "pmids\n",
      "panel\n",
      "\"prev symbols\"\n",
      "\"hgnc id\"\n",
      "\"gene disease pair entry date\"\n",
      "\"cross cutting modifier\"\n",
      "\"mutation consequence flag\"\r\n"
     ]
    }
   ],
   "source": [
    "%%bash \n",
    "\n",
    "\n",
    "gzcat /Users/dsuveges/project_data/gene2phenotype/new/CancerG2P.csv.gz | head -n1 | tr \",\" \"\\n\" \n",
    "\n",
    "\n",
    "# zgrep \"Confidence value flag\" /Users/dsuveges/project_data/gene2phenotype/new/*gz"
   ]
  },
  {
   "cell_type": "code",
   "execution_count": 65,
   "id": "4fb4d561",
   "metadata": {
    "ExecuteTime": {
     "end_time": "2021-12-14T04:46:43.998371Z",
     "start_time": "2021-12-14T04:46:43.633458Z"
    }
   },
   "outputs": [
    {
     "name": "stdout",
     "output_type": "stream",
     "text": [
      "+-------------------+\n",
      "|confidence category|\n",
      "+-------------------+\n",
      "|definitive         |\n",
      "|both RD and IF     |\n",
      "|strong             |\n",
      "|limited            |\n",
      "+-------------------+\n",
      "\n"
     ]
    }
   ],
   "source": [
    "(\n",
    "    full_df\n",
    "    .filter(col('confidence category').isNotNull())\n",
    "    .select('confidence category')\n",
    "    .distinct()\n",
    "    .show(truncate=False)\n",
    "#     .count()\n",
    "#     .show(1, vertical=True, truncate=False)\n",
    ")"
   ]
  },
  {
   "cell_type": "code",
   "execution_count": null,
   "id": "d9b9ed74",
   "metadata": {},
   "outputs": [],
   "source": []
  }
 ],
 "metadata": {
  "kernelspec": {
   "display_name": "Python 3",
   "language": "python",
   "name": "python3"
  },
  "language_info": {
   "codemirror_mode": {
    "name": "ipython",
    "version": 3
   },
   "file_extension": ".py",
   "mimetype": "text/x-python",
   "name": "python",
   "nbconvert_exporter": "python",
   "pygments_lexer": "ipython3",
   "version": "3.9.5"
  },
  "notify_time": "5"
 },
 "nbformat": 4,
 "nbformat_minor": 5
}
