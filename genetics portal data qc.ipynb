{
 "cells": [
  {
   "cell_type": "code",
   "execution_count": 2,
   "metadata": {
    "ExecuteTime": {
     "end_time": "2021-06-21T19:59:28.087151Z",
     "start_time": "2021-06-21T19:58:51.040232Z"
    }
   },
   "outputs": [
    {
     "name": "stdout",
     "output_type": "stream",
     "text": [
      "-RECORD 0-----------------------------------------------------------------------------\n",
      " beta                             | -0.0291                                           \n",
      " betaConfidenceIntervalLower      | -0.0380660341860385                               \n",
      " betaConfidenceIntervalUpper      | -0.0201339658139614                               \n",
      " datasourceId                     | ot_genetics_portal                                \n",
      " datatypeId                       | genetic_association                               \n",
      " diseaseFromSource                | Type 2 diabetes                                   \n",
      " diseaseFromSourceMappedId        | EFO_0001360                                       \n",
      " literature                       | [32541925]                                        \n",
      " oddsRatio                        | null                                              \n",
      " oddsRatioConfidenceIntervalLower | null                                              \n",
      " oddsRatioConfidenceIntervalUpper | null                                              \n",
      " pValueExponent                   | -10                                               \n",
      " pValueMantissa                   | 2.0                                               \n",
      " projectId                        | GCST                                              \n",
      " publicationFirstAuthor           | Vujkovic M                                        \n",
      " publicationYear                  | 2020                                              \n",
      " resourceScore                    | 0.21906712651252747                               \n",
      " studyId                          | GCST010555                                        \n",
      " studySampleSize                  | 1114458                                           \n",
      " targetFromSourceId               | ENSG00000095485                                   \n",
      " variantFunctionalConsequenceId   | SO_0001628                                        \n",
      " variantId                        | 10_100152307_T_C                                  \n",
      " variantRsId                      | rs2862954                                         \n",
      "-RECORD 1-----------------------------------------------------------------------------\n",
      " beta                             | null                                              \n",
      " betaConfidenceIntervalLower      | null                                              \n",
      " betaConfidenceIntervalUpper      | null                                              \n",
      " datasourceId                     | ot_genetics_portal                                \n",
      " datatypeId                       | genetic_association                               \n",
      " diseaseFromSource                | Spherical equivalent or myopia (age of diagnosis) \n",
      " diseaseFromSourceMappedId        | EFO_0004847                                       \n",
      " literature                       | [29808027]                                        \n",
      " oddsRatio                        | null                                              \n",
      " oddsRatioConfidenceIntervalLower | null                                              \n",
      " oddsRatioConfidenceIntervalUpper | null                                              \n",
      " pValueExponent                   | -8                                                \n",
      " pValueMantissa                   | 5.0                                               \n",
      " projectId                        | GCST                                              \n",
      " publicationFirstAuthor           | Tedja MS                                          \n",
      " publicationYear                  | 2018                                              \n",
      " resourceScore                    | 0.7446841597557068                                \n",
      " studyId                          | GCST006291                                        \n",
      " studySampleSize                  | 170420                                            \n",
      " targetFromSourceId               | ENSG00000107821                                   \n",
      " variantFunctionalConsequenceId   | SO_0001583                                        \n",
      " variantId                        | 10_101064592_G_C                                  \n",
      " variantRsId                      | rs807037                                          \n",
      "only showing top 2 rows\n",
      "\n"
     ]
    }
   ],
   "source": [
    "from pyspark.sql import SparkSession\n",
    "from pyspark.sql.functions import split, col, udf, lit, size\n",
    "from pyspark.sql.types import StringType, IntegerType, TimestampType, StructType\n",
    "\n",
    "# establish spark connection\n",
    "spark = (\n",
    "    SparkSession.builder\n",
    "    .master('local[*]')\n",
    "    .getOrCreate()\n",
    ")\n",
    "\n",
    "\n",
    "geneticsportal_data = '/Users/dsuveges/repositories/evidence_datasource_parsers/genetics_portal-2021-06-21/'\n",
    "\n",
    "genetics_df = (\n",
    "    spark.read.json(geneticsportal_data)\n",
    "    .persist()\n",
    ")\n",
    "\n",
    "genetics_df.show(2, vertical=True, truncate=False)"
   ]
  },
  {
   "cell_type": "code",
   "execution_count": 3,
   "metadata": {
    "ExecuteTime": {
     "end_time": "2021-06-21T20:00:09.500334Z",
     "start_time": "2021-06-21T20:00:02.593165Z"
    }
   },
   "outputs": [
    {
     "name": "stdout",
     "output_type": "stream",
     "text": [
      "Number of evidence: 635033\n",
      "Number of disease mapped: 3134\n",
      "Number of targets: 18193\n",
      "Number of associations: 287095\n",
      "Number of studies: 16429\n"
     ]
    }
   ],
   "source": [
    "print(f'Number of evidence: {genetics_df.count()}')\n",
    "print(f'Number of disease mapped: {genetics_df.select(\"diseaseFromSourceMappedId\").distinct().count()}')\n",
    "print(f'Number of targets: {genetics_df.select(\"targetFromSourceId\").distinct().count()}')\n",
    "print(f'Number of associations: {genetics_df.select(\"targetFromSourceId\", \"diseaseFromSourceMappedId\").distinct().count()}')\n",
    "print(f'Number of studies: {genetics_df.select(\"studyId\").distinct().count()}')\n"
   ]
  },
  {
   "cell_type": "code",
   "execution_count": 6,
   "metadata": {
    "ExecuteTime": {
     "end_time": "2021-06-21T20:01:14.165608Z",
     "start_time": "2021-06-21T20:01:14.003128Z"
    }
   },
   "outputs": [
    {
     "data": {
      "text/plain": [
       "20501"
      ]
     },
     "execution_count": 6,
     "metadata": {},
     "output_type": "execute_result"
    }
   ],
   "source": [
    "(\n",
    "    genetics_df\n",
    "    .filter(col('diseaseFromSourceMappedId').isNull())\n",
    "    .count()\n",
    ")"
   ]
  },
  {
   "cell_type": "code",
   "execution_count": 9,
   "metadata": {
    "ExecuteTime": {
     "end_time": "2021-06-21T20:06:50.822331Z",
     "start_time": "2021-06-21T20:06:50.678486Z"
    }
   },
   "outputs": [
    {
     "data": {
      "text/plain": [
       "20501"
      ]
     },
     "execution_count": 9,
     "metadata": {},
     "output_type": "execute_result"
    }
   ],
   "source": [
    "(\n",
    "    genetics_df\n",
    "    .filter(col('projectId').isNull())\n",
    "    .count()\n",
    ")"
   ]
  },
  {
   "cell_type": "code",
   "execution_count": null,
   "metadata": {},
   "outputs": [],
   "source": []
  }
 ],
 "metadata": {
  "kernelspec": {
   "display_name": "Python 3",
   "language": "python",
   "name": "python3"
  },
  "language_info": {
   "codemirror_mode": {
    "name": "ipython",
    "version": 3
   },
   "file_extension": ".py",
   "mimetype": "text/x-python",
   "name": "python",
   "nbconvert_exporter": "python",
   "pygments_lexer": "ipython3",
   "version": "3.6.10"
  }
 },
 "nbformat": 4,
 "nbformat_minor": 4
}
