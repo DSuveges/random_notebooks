{
 "cells": [
  {
   "cell_type": "code",
   "execution_count": 1,
   "metadata": {
    "ExecuteTime": {
     "end_time": "2020-11-04T09:56:18.244674Z",
     "start_time": "2020-11-04T09:56:16.824277Z"
    }
   },
   "outputs": [],
   "source": [
    "import pandas as pd\n",
    "import requests\n",
    "import json\n",
    "import gzip\n",
    "import time\n",
    "\n",
    "# Reading identifiers that are missing:\n",
    "missingIDsFile = 'unmatch.txt.gz'\n",
    "\n",
    "missinIds = []\n",
    "with gzip.open(missingIDsFile, 'rt') as f:\n",
    "    for row in f:\n",
    "        missinIds.append(row.replace('\"','').strip())\n",
    "        \n",
    "missingIds_df = pd.DataFrame({'missing_IDs': missinIds})\n",
    "id_sample = (\n",
    "    missingIds_df\n",
    "    .loc[(~missingIds_df.missing_IDs.str.contains('-'))]\n",
    "    .sample(500)\n",
    "    .missing_IDs\n",
    ")\n",
    "\n"
   ]
  },
  {
   "cell_type": "markdown",
   "metadata": {
    "ExecuteTime": {
     "end_time": "2020-11-02T23:09:00.838045Z",
     "start_time": "2020-11-02T23:09:00.831172Z"
    }
   },
   "source": [
    "## Fetching data from uniprot for the sample"
   ]
  },
  {
   "cell_type": "code",
   "execution_count": 3,
   "metadata": {
    "ExecuteTime": {
     "end_time": "2020-11-04T13:06:28.578846Z",
     "start_time": "2020-11-04T13:03:23.398303Z"
    }
   },
   "outputs": [
    {
     "name": "stdout",
     "output_type": "stream",
     "text": [
      "19964\n",
      "   type        id trembl_id  organism\n",
      "0  EMBL  AF212302    Q997F2  121791.0\n",
      "1  EMBL  AY029768    Q997F2  121791.0\n",
      "2  EMBL  AY029767    Q997F2  121791.0\n",
      "3  EMBL  AF376747    Q997F2  121791.0\n",
      "4  EMBL  AJ564621    Q997F2  121791.0\n",
      "Index(['type', 'id', 'trembl_id', 'organism'], dtype='object')\n"
     ]
    }
   ],
   "source": [
    "def get_uniprot_data(uniprot_id):\n",
    "    uniprotUrl = 'https://www.ebi.ac.uk/proteins/api/proteins'\n",
    "\n",
    "    try:\n",
    "        data = requests.get(f'{uniprotUrl}/{uniprot_id}').json()\n",
    "    except:\n",
    "        return None\n",
    "\n",
    "    sequence = data['sequence']['sequence']\n",
    "    \n",
    "    db_ref = pd.DataFrame(data['dbReferences'])[['type','id']]\n",
    "    db_ref.loc[len(db_ref)] = ['sequence', sequence]\n",
    "    db_ref['trembl_id'] = uniprot_id\n",
    "    db_ref['organism'] = data['organism']['taxonomy']\n",
    "    \n",
    "    # Adding sequence:\n",
    "    \n",
    "    return db_ref\n",
    "\n",
    "\n",
    "target_df = pd.DataFrame(columns=['type','id','trembl_id'])\n",
    "for x in id_sample:\n",
    "    response = get_uniprot_data(x)\n",
    "    if isinstance(response,pd.DataFrame):\n",
    "        target_df = target_df.append(response)\n",
    "\n",
    "\n",
    "target_df.reset_index(drop=True)\n",
    "print(len(target_df))\n",
    "print(target_df.head())\n",
    "print(target_df.columns)"
   ]
  },
  {
   "cell_type": "code",
   "execution_count": 22,
   "metadata": {
    "ExecuteTime": {
     "end_time": "2020-11-04T13:55:16.796425Z",
     "start_time": "2020-11-04T13:55:16.784038Z"
    }
   },
   "outputs": [],
   "source": [
    "# Subsetting human ids only:\n",
    "human_ids = target_df.loc[target_df.organism==9606].trembl_id.unique().tolist()\n",
    "\n",
    "# Saving human proteins:\n",
    "with open('batch.fasta', 'wt') as o:\n",
    "    target_df.loc[(target_df.type == 'sequence') & (target_df.trembl_id.isin(human_ids))].apply(lambda row: o.write(f\">{row['trembl_id']}\\n{row['id']}\\n\"), axis=1)\n",
    "\n",
    "\n"
   ]
  },
  {
   "cell_type": "markdown",
   "metadata": {
    "ExecuteTime": {
     "end_time": "2020-11-03T00:47:27.991540Z",
     "start_time": "2020-11-03T00:47:27.981056Z"
    }
   },
   "source": [
    "## Setting up blast\n",
    "\n",
    "Downloading all human reference protein sequence as fasta:\n",
    "```\n",
    "https://www.uniprot.org/uniprot/?query=*&fil=organism%3A%22Homo+sapiens+%28Human%29+%5B9606%5D%22+AND+reviewed%3Ayes\n",
    "```\n",
    "\n",
    "Installing blast using conda:\n",
    "```\n",
    "conda install -c bioconda blast\n",
    "```\n",
    "\n",
    "Building local blast database:\n",
    "\n",
    "```\n",
    "makeblastdb -in ./uniprot_blast_seed.fasta -dbtype prot\n",
    "```\n",
    "\n",
    "output:\n",
    "\n",
    "```\n",
    "Adding sequences from FASTA; added 42373 sequences in 1.25296 seconds.\n",
    "```\n",
    "\n"
   ]
  },
  {
   "cell_type": "code",
   "execution_count": 11,
   "metadata": {
    "ExecuteTime": {
     "end_time": "2020-11-04T13:50:09.804226Z",
     "start_time": "2020-11-04T13:50:09.791307Z"
    }
   },
   "outputs": [],
   "source": [
    "from Bio.Blast.Applications import NcbiblastpCommandline"
   ]
  },
  {
   "cell_type": "code",
   "execution_count": 23,
   "metadata": {
    "ExecuteTime": {
     "end_time": "2020-11-04T13:55:31.280036Z",
     "start_time": "2020-11-04T13:55:22.293856Z"
    }
   },
   "outputs": [
    {
     "name": "stdout",
     "output_type": "stream",
     "text": [
      "blastp -out blastout.tsv -outfmt 6 -query batch.fasta -db uniprot_db -evalue 1e-10\n"
     ]
    }
   ],
   "source": [
    "inputFile = \"batch.fasta\"\n",
    "uniprotDb = \"uniprot_db\"\n",
    "eValueThreshold = 1e-10\n",
    "\n",
    "from Bio.Blast.Applications import NcbiblastpCommandline\n",
    "blast_output_file='blastout.tsv'\n",
    "\n",
    "from Bio.Blast.Applications import NcbiblastpCommandline\n",
    "cline = NcbiblastpCommandline(\n",
    "    query=inputFile, \n",
    "    db=uniprotDb,outfmt=6, \n",
    "out=blast_output_file, evalue= eValueThreshold)\n",
    "print(cline)\n",
    "stdt, stdr= cline()"
   ]
  },
  {
   "cell_type": "code",
   "execution_count": 17,
   "metadata": {
    "ExecuteTime": {
     "end_time": "2020-11-04T13:53:52.486614Z",
     "start_time": "2020-11-04T13:53:52.476794Z"
    }
   },
   "outputs": [],
   "source": [
    "seq = '>test seq\\n' + target_df.loc[target_df.type == 'sequence','id'].iloc[1]"
   ]
  },
  {
   "cell_type": "code",
   "execution_count": 24,
   "metadata": {
    "ExecuteTime": {
     "end_time": "2020-11-04T13:55:31.294924Z",
     "start_time": "2020-11-04T13:55:31.283152Z"
    }
   },
   "outputs": [
    {
     "data": {
      "text/plain": [
       "17"
      ]
     },
     "execution_count": 24,
     "metadata": {},
     "output_type": "execute_result"
    }
   ],
   "source": [
    "blast_out_df = pd.read_csv('blastout.tsv', sep='\\t', header=None, index_col=False, names=['qseqid','sseqid','pident','length','mismatch'])\n",
    "len(blast_out_df.qseqid.unique())\n"
   ]
  },
  {
   "cell_type": "code",
   "execution_count": 29,
   "metadata": {
    "ExecuteTime": {
     "end_time": "2020-11-04T14:04:30.358983Z",
     "start_time": "2020-11-04T14:04:30.353531Z"
    }
   },
   "outputs": [
    {
     "data": {
      "text/plain": [
       "16"
      ]
     },
     "execution_count": 29,
     "metadata": {},
     "output_type": "execute_result"
    }
   ],
   "source": [
    "len(blast_out_df.loc[blast_out_df.pident > 90].qseqid.unique())"
   ]
  },
  {
   "cell_type": "code",
   "execution_count": 95,
   "metadata": {
    "ExecuteTime": {
     "end_time": "2020-11-03T11:47:39.776340Z",
     "start_time": "2020-11-03T11:47:39.732808Z"
    }
   },
   "outputs": [],
   "source": [
    "    "
   ]
  },
  {
   "cell_type": "code",
   "execution_count": 94,
   "metadata": {
    "ExecuteTime": {
     "end_time": "2020-11-03T11:47:17.446394Z",
     "start_time": "2020-11-03T11:47:17.431168Z"
    }
   },
   "outputs": [
    {
     "data": {
      "text/html": [
       "<div>\n",
       "<style scoped>\n",
       "    .dataframe tbody tr th:only-of-type {\n",
       "        vertical-align: middle;\n",
       "    }\n",
       "\n",
       "    .dataframe tbody tr th {\n",
       "        vertical-align: top;\n",
       "    }\n",
       "\n",
       "    .dataframe thead th {\n",
       "        text-align: right;\n",
       "    }\n",
       "</style>\n",
       "<table border=\"1\" class=\"dataframe\">\n",
       "  <thead>\n",
       "    <tr style=\"text-align: right;\">\n",
       "      <th></th>\n",
       "      <th>type</th>\n",
       "      <th>id</th>\n",
       "      <th>trembl_id</th>\n",
       "    </tr>\n",
       "  </thead>\n",
       "  <tbody>\n",
       "    <tr>\n",
       "      <th>30</th>\n",
       "      <td>sequence</td>\n",
       "      <td>MSLPHLSLADARNLHLAAQGLLNKPRRRASLEDIPATISRMSLLQI...</td>\n",
       "      <td>P75843</td>\n",
       "    </tr>\n",
       "    <tr>\n",
       "      <th>100</th>\n",
       "      <td>sequence</td>\n",
       "      <td>MSKKPGGPGKSRAVNMLKRGMPRVLSLIGLKRAMLSLIDGKGPIRF...</td>\n",
       "      <td>Q8JU44</td>\n",
       "    </tr>\n",
       "    <tr>\n",
       "      <th>51</th>\n",
       "      <td>sequence</td>\n",
       "      <td>MLSQIAICIWVESTAILQDCQRALSADRYQLQVCESGEMLLEYAQT...</td>\n",
       "      <td>Q79PF6</td>\n",
       "    </tr>\n",
       "    <tr>\n",
       "      <th>37</th>\n",
       "      <td>sequence</td>\n",
       "      <td>MQNAVIYQPVQIEYLKKTSDLFSEQQLADSFVLIFHLKGNGYISIG...</td>\n",
       "      <td>P40408</td>\n",
       "    </tr>\n",
       "    <tr>\n",
       "      <th>19</th>\n",
       "      <td>sequence</td>\n",
       "      <td>MESSAKRKMDPDNPDEGPSSKVPRPETPVTKATTFLQTMLRKEVNS...</td>\n",
       "      <td>P03169</td>\n",
       "    </tr>\n",
       "    <tr>\n",
       "      <th>...</th>\n",
       "      <td>...</td>\n",
       "      <td>...</td>\n",
       "      <td>...</td>\n",
       "    </tr>\n",
       "    <tr>\n",
       "      <th>19</th>\n",
       "      <td>sequence</td>\n",
       "      <td>MVYSDKRIRKPAIRRSWLKRREKSDRTLRGQEDFVEVDWDVALDLV...</td>\n",
       "      <td>Q8CZY0</td>\n",
       "    </tr>\n",
       "    <tr>\n",
       "      <th>46</th>\n",
       "      <td>sequence</td>\n",
       "      <td>MTAQPQTLKIRRPDDWHIHLRDDEMLSTVLPYTSEVFARAIVMPNL...</td>\n",
       "      <td>Q8ZFU4</td>\n",
       "    </tr>\n",
       "    <tr>\n",
       "      <th>6</th>\n",
       "      <td>sequence</td>\n",
       "      <td>MHFRVTGEWNGEPFNRVIEAENINDCYDHWMIWAQIAHADVTNIRI...</td>\n",
       "      <td>C6ZCU7</td>\n",
       "    </tr>\n",
       "    <tr>\n",
       "      <th>3</th>\n",
       "      <td>sequence</td>\n",
       "      <td>MHSLFFEEPEPSGFGSSGQSSSLLAPDSPRPSTSQVQGPLHVHTPT...</td>\n",
       "      <td>P88948</td>\n",
       "    </tr>\n",
       "    <tr>\n",
       "      <th>38</th>\n",
       "      <td>sequence</td>\n",
       "      <td>MGARASVLSGGELDRWEKIRLRPGGKKKYKLKHIVWASRELERFAV...</td>\n",
       "      <td>P03348</td>\n",
       "    </tr>\n",
       "  </tbody>\n",
       "</table>\n",
       "<p>491 rows × 3 columns</p>\n",
       "</div>"
      ],
      "text/plain": [
       "         type                                                 id trembl_id\n",
       "30   sequence  MSLPHLSLADARNLHLAAQGLLNKPRRRASLEDIPATISRMSLLQI...    P75843\n",
       "100  sequence  MSKKPGGPGKSRAVNMLKRGMPRVLSLIGLKRAMLSLIDGKGPIRF...    Q8JU44\n",
       "51   sequence  MLSQIAICIWVESTAILQDCQRALSADRYQLQVCESGEMLLEYAQT...    Q79PF6\n",
       "37   sequence  MQNAVIYQPVQIEYLKKTSDLFSEQQLADSFVLIFHLKGNGYISIG...    P40408\n",
       "19   sequence  MESSAKRKMDPDNPDEGPSSKVPRPETPVTKATTFLQTMLRKEVNS...    P03169\n",
       "..        ...                                                ...       ...\n",
       "19   sequence  MVYSDKRIRKPAIRRSWLKRREKSDRTLRGQEDFVEVDWDVALDLV...    Q8CZY0\n",
       "46   sequence  MTAQPQTLKIRRPDDWHIHLRDDEMLSTVLPYTSEVFARAIVMPNL...    Q8ZFU4\n",
       "6    sequence  MHFRVTGEWNGEPFNRVIEAENINDCYDHWMIWAQIAHADVTNIRI...    C6ZCU7\n",
       "3    sequence  MHSLFFEEPEPSGFGSSGQSSSLLAPDSPRPSTSQVQGPLHVHTPT...    P88948\n",
       "38   sequence  MGARASVLSGGELDRWEKIRLRPGGKKKYKLKHIVWASRELERFAV...    P03348\n",
       "\n",
       "[491 rows x 3 columns]"
      ]
     },
     "execution_count": 94,
     "metadata": {},
     "output_type": "execute_result"
    }
   ],
   "source": [
    "target_df.loc[target_df.type == 'sequence']"
   ]
  },
  {
   "cell_type": "code",
   "execution_count": 122,
   "metadata": {
    "ExecuteTime": {
     "end_time": "2020-11-03T15:58:12.723051Z",
     "start_time": "2020-11-03T15:58:12.716236Z"
    }
   },
   "outputs": [
    {
     "data": {
      "text/plain": [
       "36"
      ]
     },
     "execution_count": 122,
     "metadata": {},
     "output_type": "execute_result"
    }
   ],
   "source": [
    "len(blast_out_df.loc[blast_out_df.pident > 90].qseqid.unique())\n"
   ]
  },
  {
   "cell_type": "code",
   "execution_count": 8,
   "metadata": {
    "ExecuteTime": {
     "end_time": "2020-11-04T13:49:16.362258Z",
     "start_time": "2020-11-04T13:49:15.396916Z"
    }
   },
   "outputs": [
    {
     "data": {
      "text/html": [
       "<div>\n",
       "<style scoped>\n",
       "    .dataframe tbody tr th:only-of-type {\n",
       "        vertical-align: middle;\n",
       "    }\n",
       "\n",
       "    .dataframe tbody tr th {\n",
       "        vertical-align: top;\n",
       "    }\n",
       "\n",
       "    .dataframe thead th {\n",
       "        text-align: right;\n",
       "    }\n",
       "</style>\n",
       "<table border=\"1\" class=\"dataframe\">\n",
       "  <thead>\n",
       "    <tr style=\"text-align: right;\">\n",
       "      <th></th>\n",
       "      <th>Cluster ID</th>\n",
       "      <th>Unnamed: 1</th>\n",
       "      <th>Cluster name</th>\n",
       "      <th>Size</th>\n",
       "      <th>Cluster members</th>\n",
       "      <th>Organisms</th>\n",
       "      <th>Length</th>\n",
       "      <th>Identity</th>\n",
       "    </tr>\n",
       "  </thead>\n",
       "  <tbody>\n",
       "    <tr>\n",
       "      <th>0</th>\n",
       "      <td>UniRef90_Q6MZZ7-2</td>\n",
       "      <td>partially reviewed and UniParc</td>\n",
       "      <td>Cluster: Isoform 2 of Calpain-13</td>\n",
       "      <td>4</td>\n",
       "      <td>Q6MZZ7-2; A0A2J8K0E9; A0A2J8VNG3; UPI000DC1A1AE</td>\n",
       "      <td>Homo sapiens (Human); Pan troglodytes (Chimpan...</td>\n",
       "      <td>423</td>\n",
       "      <td>90%</td>\n",
       "    </tr>\n",
       "    <tr>\n",
       "      <th>1</th>\n",
       "      <td>UniRef90_P15907</td>\n",
       "      <td>partially reviewed and UniParc</td>\n",
       "      <td>Cluster: Beta-galactoside alpha-2,6-sialyltran...</td>\n",
       "      <td>51</td>\n",
       "      <td>P15907; C9JH16; C9JVK7; P15907-2; A0A6D2WUU6; ...</td>\n",
       "      <td>Homo sapiens (Human); Pan troglodytes (Chimpan...</td>\n",
       "      <td>406</td>\n",
       "      <td>90%</td>\n",
       "    </tr>\n",
       "    <tr>\n",
       "      <th>2</th>\n",
       "      <td>UniRef90_UPI0007DC7430</td>\n",
       "      <td>UniParc</td>\n",
       "      <td>Cluster: inactive heparanase-2 isoform X4</td>\n",
       "      <td>1</td>\n",
       "      <td>UPI0007DC7430</td>\n",
       "      <td>Homo sapiens (Human)</td>\n",
       "      <td>441</td>\n",
       "      <td>90%</td>\n",
       "    </tr>\n",
       "    <tr>\n",
       "      <th>3</th>\n",
       "      <td>UniRef90_Q4G148</td>\n",
       "      <td>partially reviewed and UniParc</td>\n",
       "      <td>Cluster: Glucoside xylosyltransferase 1</td>\n",
       "      <td>32</td>\n",
       "      <td>Q4G148; H2RCX7; A0A6D2YBP6; A0A2R8ZJB2; G3RQC4...</td>\n",
       "      <td>Homo sapiens (Human); Pan troglodytes (Chimpan...</td>\n",
       "      <td>440</td>\n",
       "      <td>90%</td>\n",
       "    </tr>\n",
       "    <tr>\n",
       "      <th>4</th>\n",
       "      <td>UniRef90_A0A1D5QV24</td>\n",
       "      <td>partially reviewed and UniParc</td>\n",
       "      <td>Cluster: Uncharacterized protein</td>\n",
       "      <td>7</td>\n",
       "      <td>A0A1D5QV24; A0A0A6YYK5; Q9BT81-2; G7N0I4; L8HQ...</td>\n",
       "      <td>Macaca mulatta (Rhesus macaque); Homo sapiens ...</td>\n",
       "      <td>440</td>\n",
       "      <td>90%</td>\n",
       "    </tr>\n",
       "  </tbody>\n",
       "</table>\n",
       "</div>"
      ],
      "text/plain": [
       "               Cluster ID                      Unnamed: 1  \\\n",
       "0       UniRef90_Q6MZZ7-2  partially reviewed and UniParc   \n",
       "1         UniRef90_P15907  partially reviewed and UniParc   \n",
       "2  UniRef90_UPI0007DC7430                         UniParc   \n",
       "3         UniRef90_Q4G148  partially reviewed and UniParc   \n",
       "4     UniRef90_A0A1D5QV24  partially reviewed and UniParc   \n",
       "\n",
       "                                        Cluster name  Size  \\\n",
       "0                   Cluster: Isoform 2 of Calpain-13     4   \n",
       "1  Cluster: Beta-galactoside alpha-2,6-sialyltran...    51   \n",
       "2          Cluster: inactive heparanase-2 isoform X4     1   \n",
       "3            Cluster: Glucoside xylosyltransferase 1    32   \n",
       "4                   Cluster: Uncharacterized protein     7   \n",
       "\n",
       "                                     Cluster members  \\\n",
       "0    Q6MZZ7-2; A0A2J8K0E9; A0A2J8VNG3; UPI000DC1A1AE   \n",
       "1  P15907; C9JH16; C9JVK7; P15907-2; A0A6D2WUU6; ...   \n",
       "2                                      UPI0007DC7430   \n",
       "3  Q4G148; H2RCX7; A0A6D2YBP6; A0A2R8ZJB2; G3RQC4...   \n",
       "4  A0A1D5QV24; A0A0A6YYK5; Q9BT81-2; G7N0I4; L8HQ...   \n",
       "\n",
       "                                           Organisms  Length Identity  \n",
       "0  Homo sapiens (Human); Pan troglodytes (Chimpan...     423      90%  \n",
       "1  Homo sapiens (Human); Pan troglodytes (Chimpan...     406      90%  \n",
       "2                               Homo sapiens (Human)     441      90%  \n",
       "3  Homo sapiens (Human); Pan troglodytes (Chimpan...     440      90%  \n",
       "4  Macaca mulatta (Rhesus macaque); Homo sapiens ...     440      90%  "
      ]
     },
     "execution_count": 8,
     "metadata": {},
     "output_type": "execute_result"
    }
   ],
   "source": [
    "uniref_df = pd.read_csv('/Users/dsuveges/Downloads/uniref-identity_0.9+taxonomy__Homo+sapiens+(Human)+[9606]_.tab.gz', sep='\\t')\n",
    "uniref_df.head()"
   ]
  },
  {
   "cell_type": "code",
   "execution_count": 9,
   "metadata": {
    "ExecuteTime": {
     "end_time": "2020-11-04T13:49:18.449843Z",
     "start_time": "2020-11-04T13:49:16.364740Z"
    }
   },
   "outputs": [],
   "source": [
    "uniref_df = (\n",
    "    uniref_df\n",
    "    .assign(member_array = uniref_df['Cluster members'].apply(lambda x: x.split(';')))\n",
    "    .explode('member_array')\n",
    ")"
   ]
  },
  {
   "cell_type": "code",
   "execution_count": 110,
   "metadata": {
    "ExecuteTime": {
     "end_time": "2020-11-03T15:17:59.964766Z",
     "start_time": "2020-11-03T15:17:59.553606Z"
    }
   },
   "outputs": [
    {
     "data": {
      "text/plain": [
       "0         [Q6MZZ7-2,  A0A2J8K0E9,  A0A2J8VNG3,  UPI000DC...\n",
       "1         [P15907,  C9JH16,  C9JVK7,  P15907-2,  A0A6D2W...\n",
       "2                                           [UPI0007DC7430]\n",
       "3         [Q4G148,  H2RCX7,  A0A6D2YBP6,  A0A2R8ZJB2,  G...\n",
       "4         [A0A1D5QV24,  A0A0A6YYK5,  Q9BT81-2,  G7N0I4, ...\n",
       "                                ...                        \n",
       "114154          [F8WEG4,  F8WEU0,  A0A087WZQ3,  A0A087WTC0]\n",
       "114155                                         [A0A494C0W8]\n",
       "114156                                             [Q9UJV7]\n",
       "114157    [Q5HYL7,  Q5EB63,  A0A024RA01,  Q5HYL7-2,  A0A...\n",
       "114158    [F5H0R6,  A0A2J8V1K1,  A0A2J8PZH7,  UPI0008F49...\n",
       "Name: Cluster members, Length: 114159, dtype: object"
      ]
     },
     "execution_count": 110,
     "metadata": {},
     "output_type": "execute_result"
    }
   ],
   "source": []
  },
  {
   "cell_type": "code",
   "execution_count": 114,
   "metadata": {
    "ExecuteTime": {
     "end_time": "2020-11-03T15:34:30.630978Z",
     "start_time": "2020-11-03T15:34:30.617481Z"
    }
   },
   "outputs": [
    {
     "data": {
      "text/html": [
       "<div>\n",
       "<style scoped>\n",
       "    .dataframe tbody tr th:only-of-type {\n",
       "        vertical-align: middle;\n",
       "    }\n",
       "\n",
       "    .dataframe tbody tr th {\n",
       "        vertical-align: top;\n",
       "    }\n",
       "\n",
       "    .dataframe thead th {\n",
       "        text-align: right;\n",
       "    }\n",
       "</style>\n",
       "<table border=\"1\" class=\"dataframe\">\n",
       "  <thead>\n",
       "    <tr style=\"text-align: right;\">\n",
       "      <th></th>\n",
       "      <th>Cluster ID</th>\n",
       "      <th>Unnamed: 1</th>\n",
       "      <th>Cluster name</th>\n",
       "      <th>Size</th>\n",
       "      <th>Cluster members</th>\n",
       "      <th>Organisms</th>\n",
       "      <th>Length</th>\n",
       "      <th>Identity</th>\n",
       "      <th>member_array</th>\n",
       "    </tr>\n",
       "  </thead>\n",
       "  <tbody>\n",
       "    <tr>\n",
       "      <th>0</th>\n",
       "      <td>UniRef90_Q6MZZ7-2</td>\n",
       "      <td>partially reviewed and UniParc</td>\n",
       "      <td>Cluster: Isoform 2 of Calpain-13</td>\n",
       "      <td>4</td>\n",
       "      <td>Q6MZZ7-2; A0A2J8K0E9; A0A2J8VNG3; UPI000DC1A1AE</td>\n",
       "      <td>Homo sapiens (Human); Pan troglodytes (Chimpan...</td>\n",
       "      <td>423</td>\n",
       "      <td>90%</td>\n",
       "      <td>Q6MZZ7-2</td>\n",
       "    </tr>\n",
       "    <tr>\n",
       "      <th>0</th>\n",
       "      <td>UniRef90_Q6MZZ7-2</td>\n",
       "      <td>partially reviewed and UniParc</td>\n",
       "      <td>Cluster: Isoform 2 of Calpain-13</td>\n",
       "      <td>4</td>\n",
       "      <td>Q6MZZ7-2; A0A2J8K0E9; A0A2J8VNG3; UPI000DC1A1AE</td>\n",
       "      <td>Homo sapiens (Human); Pan troglodytes (Chimpan...</td>\n",
       "      <td>423</td>\n",
       "      <td>90%</td>\n",
       "      <td>A0A2J8K0E9</td>\n",
       "    </tr>\n",
       "    <tr>\n",
       "      <th>0</th>\n",
       "      <td>UniRef90_Q6MZZ7-2</td>\n",
       "      <td>partially reviewed and UniParc</td>\n",
       "      <td>Cluster: Isoform 2 of Calpain-13</td>\n",
       "      <td>4</td>\n",
       "      <td>Q6MZZ7-2; A0A2J8K0E9; A0A2J8VNG3; UPI000DC1A1AE</td>\n",
       "      <td>Homo sapiens (Human); Pan troglodytes (Chimpan...</td>\n",
       "      <td>423</td>\n",
       "      <td>90%</td>\n",
       "      <td>A0A2J8VNG3</td>\n",
       "    </tr>\n",
       "    <tr>\n",
       "      <th>0</th>\n",
       "      <td>UniRef90_Q6MZZ7-2</td>\n",
       "      <td>partially reviewed and UniParc</td>\n",
       "      <td>Cluster: Isoform 2 of Calpain-13</td>\n",
       "      <td>4</td>\n",
       "      <td>Q6MZZ7-2; A0A2J8K0E9; A0A2J8VNG3; UPI000DC1A1AE</td>\n",
       "      <td>Homo sapiens (Human); Pan troglodytes (Chimpan...</td>\n",
       "      <td>423</td>\n",
       "      <td>90%</td>\n",
       "      <td>UPI000DC1A1AE</td>\n",
       "    </tr>\n",
       "    <tr>\n",
       "      <th>1</th>\n",
       "      <td>UniRef90_P15907</td>\n",
       "      <td>partially reviewed and UniParc</td>\n",
       "      <td>Cluster: Beta-galactoside alpha-2,6-sialyltran...</td>\n",
       "      <td>51</td>\n",
       "      <td>P15907; C9JH16; C9JVK7; P15907-2; A0A6D2WUU6; ...</td>\n",
       "      <td>Homo sapiens (Human); Pan troglodytes (Chimpan...</td>\n",
       "      <td>406</td>\n",
       "      <td>90%</td>\n",
       "      <td>P15907</td>\n",
       "    </tr>\n",
       "  </tbody>\n",
       "</table>\n",
       "</div>"
      ],
      "text/plain": [
       "          Cluster ID                      Unnamed: 1  \\\n",
       "0  UniRef90_Q6MZZ7-2  partially reviewed and UniParc   \n",
       "0  UniRef90_Q6MZZ7-2  partially reviewed and UniParc   \n",
       "0  UniRef90_Q6MZZ7-2  partially reviewed and UniParc   \n",
       "0  UniRef90_Q6MZZ7-2  partially reviewed and UniParc   \n",
       "1    UniRef90_P15907  partially reviewed and UniParc   \n",
       "\n",
       "                                        Cluster name  Size  \\\n",
       "0                   Cluster: Isoform 2 of Calpain-13     4   \n",
       "0                   Cluster: Isoform 2 of Calpain-13     4   \n",
       "0                   Cluster: Isoform 2 of Calpain-13     4   \n",
       "0                   Cluster: Isoform 2 of Calpain-13     4   \n",
       "1  Cluster: Beta-galactoside alpha-2,6-sialyltran...    51   \n",
       "\n",
       "                                     Cluster members  \\\n",
       "0    Q6MZZ7-2; A0A2J8K0E9; A0A2J8VNG3; UPI000DC1A1AE   \n",
       "0    Q6MZZ7-2; A0A2J8K0E9; A0A2J8VNG3; UPI000DC1A1AE   \n",
       "0    Q6MZZ7-2; A0A2J8K0E9; A0A2J8VNG3; UPI000DC1A1AE   \n",
       "0    Q6MZZ7-2; A0A2J8K0E9; A0A2J8VNG3; UPI000DC1A1AE   \n",
       "1  P15907; C9JH16; C9JVK7; P15907-2; A0A6D2WUU6; ...   \n",
       "\n",
       "                                           Organisms  Length Identity  \\\n",
       "0  Homo sapiens (Human); Pan troglodytes (Chimpan...     423      90%   \n",
       "0  Homo sapiens (Human); Pan troglodytes (Chimpan...     423      90%   \n",
       "0  Homo sapiens (Human); Pan troglodytes (Chimpan...     423      90%   \n",
       "0  Homo sapiens (Human); Pan troglodytes (Chimpan...     423      90%   \n",
       "1  Homo sapiens (Human); Pan troglodytes (Chimpan...     406      90%   \n",
       "\n",
       "     member_array  \n",
       "0        Q6MZZ7-2  \n",
       "0      A0A2J8K0E9  \n",
       "0      A0A2J8VNG3  \n",
       "0   UPI000DC1A1AE  \n",
       "1          P15907  "
      ]
     },
     "execution_count": 114,
     "metadata": {},
     "output_type": "execute_result"
    }
   ],
   "source": [
    "uniref_df.head()"
   ]
  },
  {
   "cell_type": "code",
   "execution_count": 10,
   "metadata": {
    "ExecuteTime": {
     "end_time": "2020-11-04T13:49:37.178122Z",
     "start_time": "2020-11-04T13:49:37.005443Z"
    }
   },
   "outputs": [
    {
     "data": {
      "text/html": [
       "<div>\n",
       "<style scoped>\n",
       "    .dataframe tbody tr th:only-of-type {\n",
       "        vertical-align: middle;\n",
       "    }\n",
       "\n",
       "    .dataframe tbody tr th {\n",
       "        vertical-align: top;\n",
       "    }\n",
       "\n",
       "    .dataframe thead th {\n",
       "        text-align: right;\n",
       "    }\n",
       "</style>\n",
       "<table border=\"1\" class=\"dataframe\">\n",
       "  <thead>\n",
       "    <tr style=\"text-align: right;\">\n",
       "      <th></th>\n",
       "      <th>Cluster ID</th>\n",
       "      <th>Unnamed: 1</th>\n",
       "      <th>Cluster name</th>\n",
       "      <th>Size</th>\n",
       "      <th>Cluster members</th>\n",
       "      <th>Organisms</th>\n",
       "      <th>Length</th>\n",
       "      <th>Identity</th>\n",
       "      <th>member_array</th>\n",
       "    </tr>\n",
       "  </thead>\n",
       "  <tbody>\n",
       "    <tr>\n",
       "      <th>837</th>\n",
       "      <td>UniRef90_O95681</td>\n",
       "      <td>unreviewed</td>\n",
       "      <td>Cluster: Tenascin-X (Fragment)</td>\n",
       "      <td>1</td>\n",
       "      <td>O95681</td>\n",
       "      <td>Homo sapiens (Human)</td>\n",
       "      <td>423</td>\n",
       "      <td>90%</td>\n",
       "      <td>O95681</td>\n",
       "    </tr>\n",
       "    <tr>\n",
       "      <th>1436</th>\n",
       "      <td>UniRef90_A0A140VK41</td>\n",
       "      <td>partially reviewed and UniParc</td>\n",
       "      <td>Cluster: Ribose-phosphate diphosphokinase</td>\n",
       "      <td>14</td>\n",
       "      <td>A0A140VK41; F6U0X8; K7D407; I0FJ99; A0A2K6P908...</td>\n",
       "      <td>Homo sapiens (Human); Macaca mulatta (Rhesus m...</td>\n",
       "      <td>321</td>\n",
       "      <td>90%</td>\n",
       "      <td>A0A140VK41</td>\n",
       "    </tr>\n",
       "    <tr>\n",
       "      <th>5277</th>\n",
       "      <td>UniRef90_Q96CW7</td>\n",
       "      <td>unreviewed</td>\n",
       "      <td>Cluster: C4orf42 protein</td>\n",
       "      <td>4</td>\n",
       "      <td>Q96CW7; Q4W5N5; A0A2I3SZI4; A0A2R8ZJ19</td>\n",
       "      <td>Homo sapiens (Human); Pan troglodytes (Chimpan...</td>\n",
       "      <td>91</td>\n",
       "      <td>90%</td>\n",
       "      <td>Q96CW7</td>\n",
       "    </tr>\n",
       "    <tr>\n",
       "      <th>67805</th>\n",
       "      <td>UniRef90_P79483</td>\n",
       "      <td>partially reviewed and UniParc</td>\n",
       "      <td>Cluster: HLA class II histocompatibility antig...</td>\n",
       "      <td>428</td>\n",
       "      <td>P79483; A0A4D6G1L1; A0A223G198; A0A223G1D2; A0...</td>\n",
       "      <td>Homo sapiens (Human); Macaca mulatta (Rhesus m...</td>\n",
       "      <td>266</td>\n",
       "      <td>90%</td>\n",
       "      <td>P79483</td>\n",
       "    </tr>\n",
       "  </tbody>\n",
       "</table>\n",
       "</div>"
      ],
      "text/plain": [
       "                Cluster ID                      Unnamed: 1  \\\n",
       "837        UniRef90_O95681                      unreviewed   \n",
       "1436   UniRef90_A0A140VK41  partially reviewed and UniParc   \n",
       "5277       UniRef90_Q96CW7                      unreviewed   \n",
       "67805      UniRef90_P79483  partially reviewed and UniParc   \n",
       "\n",
       "                                            Cluster name  Size  \\\n",
       "837                       Cluster: Tenascin-X (Fragment)     1   \n",
       "1436           Cluster: Ribose-phosphate diphosphokinase    14   \n",
       "5277                            Cluster: C4orf42 protein     4   \n",
       "67805  Cluster: HLA class II histocompatibility antig...   428   \n",
       "\n",
       "                                         Cluster members  \\\n",
       "837                                               O95681   \n",
       "1436   A0A140VK41; F6U0X8; K7D407; I0FJ99; A0A2K6P908...   \n",
       "5277              Q96CW7; Q4W5N5; A0A2I3SZI4; A0A2R8ZJ19   \n",
       "67805  P79483; A0A4D6G1L1; A0A223G198; A0A223G1D2; A0...   \n",
       "\n",
       "                                               Organisms  Length Identity  \\\n",
       "837                                 Homo sapiens (Human)     423      90%   \n",
       "1436   Homo sapiens (Human); Macaca mulatta (Rhesus m...     321      90%   \n",
       "5277   Homo sapiens (Human); Pan troglodytes (Chimpan...      91      90%   \n",
       "67805  Homo sapiens (Human); Macaca mulatta (Rhesus m...     266      90%   \n",
       "\n",
       "      member_array  \n",
       "837         O95681  \n",
       "1436    A0A140VK41  \n",
       "5277        Q96CW7  \n",
       "67805       P79483  "
      ]
     },
     "execution_count": 10,
     "metadata": {},
     "output_type": "execute_result"
    }
   ],
   "source": [
    "uniref_df.loc[uniref_df.member_array.isin(human_ids.tolist())]"
   ]
  },
  {
   "cell_type": "code",
   "execution_count": 120,
   "metadata": {
    "ExecuteTime": {
     "end_time": "2020-11-03T15:47:25.774014Z",
     "start_time": "2020-11-03T15:47:25.766322Z"
    }
   },
   "outputs": [
    {
     "data": {
      "text/plain": [
       "0         100008588\n",
       "1         100147744\n",
       "2        A0A024A2C9\n",
       "3        A0A024B7W1\n",
       "4        A0A024QZR3\n",
       "            ...    \n",
       "19750        X5D7A4\n",
       "19751        X5D7U3\n",
       "19752        X5D8V5\n",
       "19753        X5DNE0\n",
       "19754        X5HMX4\n",
       "Name: missing_IDs, Length: 19755, dtype: object"
      ]
     },
     "execution_count": 120,
     "metadata": {},
     "output_type": "execute_result"
    }
   ],
   "source": [
    "missingIds_df.missing_IDs\n"
   ]
  },
  {
   "cell_type": "code",
   "execution_count": null,
   "metadata": {},
   "outputs": [],
   "source": []
  }
 ],
 "metadata": {
  "kernelspec": {
   "display_name": "Python 3",
   "language": "python",
   "name": "python3"
  },
  "language_info": {
   "codemirror_mode": {
    "name": "ipython",
    "version": 3
   },
   "file_extension": ".py",
   "mimetype": "text/x-python",
   "name": "python",
   "nbconvert_exporter": "python",
   "pygments_lexer": "ipython3",
   "version": "3.6.10"
  }
 },
 "nbformat": 4,
 "nbformat_minor": 4
}
