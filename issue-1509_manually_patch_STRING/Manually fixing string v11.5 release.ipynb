{
 "cells": [
  {
   "cell_type": "markdown",
   "id": "11a97f08",
   "metadata": {},
   "source": [
    "Original, unpatched:\n",
    "\n",
    "```\n",
    "protein1              protein2              neighborhood  fusion  cooccurence  coexpression  experimental  database  textmining  combined_score\n",
    "9606.ENSP00000000233  9606.ENSP00000272298  0             0       332          62            181           0         125         490\n",
    "9606.ENSP00000000233  9606.ENSP00000253401  0             0       0            0             186           0         56          198\n",
    "9606.ENSP00000000233  9606.ENSP00000401445  0             0       0            0             159           0         0           159\n",
    "9606.ENSP00000000233  9606.ENSP00000418915  0             0       0            61            158           0         542         606\n",
    "9606.ENSP00000000233  9606.ENSP00000327801  0             0       0            88            78            0         89          167\n",
    "9606.ENSP00000000233  9606.ENSP00000466298  0             0       0            141           131           0         98          267\n",
    "9606.ENSP00000000233  9606.ENSP00000232564  0             0       0            62            171           0         56          201\n",
    "9606.ENSP00000000233  9606.ENSP00000393379  0             0       0            61            131           0         43          150\n",
    "9606.ENSP00000000233  9606.ENSP00000371253  0             0       0            61            0             0         224         240`\n",
    "```\n",
    "\n",
    "Patched:\n",
    "\n",
    "```\n",
    "protein1              protein2              neighborhood  fusion  cooccurence  coexpression  experimental  database  textmining  combined_score  homology\n",
    "9606.ENSP00000000233  9606.ENSP00000272298  0             0       332          62            181           0         125         490             0\n",
    "9606.ENSP00000000233  9606.ENSP00000253401  0             0       0            0             186           0         56          198             0\n",
    "9606.ENSP00000000233  9606.ENSP00000401445  0             0       0            0             159           0         0           159             0\n",
    "9606.ENSP00000000233  9606.ENSP00000418915  0             0       0            61            158           0         542         606             0\n",
    "9606.ENSP00000000233  9606.ENSP00000327801  0             0       0            88            78            0         89          167             0\n",
    "9606.ENSP00000000233  9606.ENSP00000466298  0             0       0            141           131           0         98          267             0\n",
    "9606.ENSP00000000233  9606.ENSP00000232564  0             0       0            62            171           0         56          201             0\n",
    "9606.ENSP00000000233  9606.ENSP00000393379  0             0       0            61            131           0         43          150             0\n",
    "9606.ENSP00000000233  9606.ENSP00000371253  0             0       0            61            0             0         224         240             0\n",
    "```\n",
    "\n",
    "Everything is the same, except we have an extra column called `homology` this is not in the original file:\n",
    "\n",
    "```\n",
    "https://stringdb-static.org/download/protein.links.detailed.v11.0/9606.protein.links.detailed.v11.0.txt.gz\n",
    "```\n",
    "\n",
    "Instead it is fetched from a different file:\n",
    "\n",
    "```\n",
    "\n",
    "```"
   ]
  },
  {
   "cell_type": "code",
   "execution_count": 7,
   "id": "6cc619fc",
   "metadata": {
    "ExecuteTime": {
     "end_time": "2021-11-08T16:01:45.764259Z",
     "start_time": "2021-11-08T16:00:20.760900Z"
    }
   },
   "outputs": [
    {
     "name": "stdout",
     "output_type": "stream",
     "text": [
      "Number of pairs in the \"detailed\" dataset: 11759454\n",
      "               protein1              protein2  neighborhood  fusion  cooccurence  coexpression  experimental  database  textmining  combined_score\n",
      "0  9606.ENSP00000000233  9606.ENSP00000272298             0       0          332            62           181         0         125             490\n",
      "1  9606.ENSP00000000233  9606.ENSP00000253401             0       0            0             0           186         0          56             198\n",
      "2  9606.ENSP00000000233  9606.ENSP00000401445             0       0            0             0           159         0           0             159\n",
      "3  9606.ENSP00000000233  9606.ENSP00000418915             0       0            0            61           158         0         542             606\n",
      "4  9606.ENSP00000000233  9606.ENSP00000327801             0       0            0            88            78         0          89             167\n",
      "Number of pairs in the \"full\" dataset: 11759454\n",
      "               protein1              protein2  homology\n",
      "0  9606.ENSP00000000233  9606.ENSP00000272298         0\n",
      "1  9606.ENSP00000000233  9606.ENSP00000253401         0\n",
      "2  9606.ENSP00000000233  9606.ENSP00000401445         0\n",
      "3  9606.ENSP00000000233  9606.ENSP00000418915         0\n",
      "4  9606.ENSP00000000233  9606.ENSP00000327801         0\n"
     ]
    }
   ],
   "source": [
    "import requests\n",
    "import json\n",
    "import pandas as pd \n",
    "import gzip \n",
    "\n",
    "# Reading 'detailed' dataset:\n",
    "detailed_url = 'https://stringdb-static.org/download/protein.links.detailed.v11.0/9606.protein.links.detailed.v11.0.txt.gz'\n",
    "detailed_df = pd.read_csv(detailed_url, sep=' ', header=0, compression='infer')\n",
    "print(f'Number of pairs in the \"detailed\" dataset: {len(detailed_df)}')\n",
    "print(detailed_df.head())\n",
    "\n",
    "# Reading 'full' dataset:\n",
    "full_url = 'https://stringdb-static.org/download/protein.links.full.v11.0/9606.protein.links.full.v11.0.txt.gz'\n",
    "full_df = (\n",
    "    pd.read_csv(full_url, sep=' ', header=0, compression='infer')\n",
    "    [['protein1', 'protein2', 'homology']]\n",
    ")\n",
    "\n",
    "print(f'Number of pairs in the \"full\" dataset: {len(full_df)}')\n",
    "print(full_df.head())\n",
    "\n",
    "## Joining the two dataset:\n",
    "merged_df = (\n",
    "    detailed_df\n",
    "    .merge(full_df, on=['protein1', 'protein2'], how='left')\n",
    ")\n",
    "\n",
    "# Number of pairs in the merged dataset: 11_759_454 <- 11_759_455\n",
    "print(f'Number of pairs in the merged dataset: {len(merged_df)}')\n",
    "\n",
    "# Saving data:\n",
    "merged_df.to_csv('9606.protein.links.full_w_homology.v11.5.txt.gz', sep=' ', index=False, compression='infer')\n",
    "\n"
   ]
  },
  {
   "cell_type": "code",
   "execution_count": 13,
   "id": "0ef584f8",
   "metadata": {
    "ExecuteTime": {
     "end_time": "2021-11-08T16:19:03.863917Z",
     "start_time": "2021-11-08T16:16:35.765191Z"
    }
   },
   "outputs": [],
   "source": [
    "merged_df.to_csv('9606.protein.links.full_w_homology.v11.5.txt.gz', sep=' ', index=False, compression='infer')"
   ]
  },
  {
   "cell_type": "code",
   "execution_count": 14,
   "id": "e6c4d04a",
   "metadata": {
    "ExecuteTime": {
     "end_time": "2021-11-08T16:19:04.598256Z",
     "start_time": "2021-11-08T16:19:04.508564Z"
    }
   },
   "outputs": [
    {
     "name": "stdout",
     "output_type": "stream",
     "text": [
      "protein1 protein2 neighborhood fusion cooccurence coexpression experimental database textmining combined_score homology\n",
      "9606.ENSP00000000233 9606.ENSP00000272298 0 0 332 62 181 0 125 490 0\n",
      "9606.ENSP00000000233 9606.ENSP00000253401 0 0 0 0 186 0 56 198 0\n",
      "9606.ENSP00000000233 9606.ENSP00000401445 0 0 0 0 159 0 0 159 0\n",
      "9606.ENSP00000000233 9606.ENSP00000418915 0 0 0 61 158 0 542 606 0\n",
      "9606.ENSP00000000233 9606.ENSP00000327801 0 0 0 88 78 0 89 167 0\n",
      "9606.ENSP00000000233 9606.ENSP00000466298 0 0 0 141 131 0 98 267 0\n",
      "9606.ENSP00000000233 9606.ENSP00000232564 0 0 0 62 171 0 56 201 0\n",
      "9606.ENSP00000000233 9606.ENSP00000393379 0 0 0 61 131 0 43 150 0\n",
      "9606.ENSP00000000233 9606.ENSP00000371253 0 0 0 61 0 0 224 240 0\n"
     ]
    }
   ],
   "source": [
    "%%bash\n",
    "\n",
    "gzcat 9606.protein.links.full_w_homology.v11.5.txt.gz | head "
   ]
  },
  {
   "cell_type": "code",
   "execution_count": 15,
   "id": "d50307db",
   "metadata": {
    "ExecuteTime": {
     "end_time": "2021-11-08T16:20:07.746255Z",
     "start_time": "2021-11-08T16:19:59.924881Z"
    }
   },
   "outputs": [
    {
     "name": "stderr",
     "output_type": "stream",
     "text": [
      "Copying file://9606.protein.links.full_w_homology.v11.5.txt.gz [Content-Type=text/plain]...\n",
      "/ [0 files][    0.0 B/106.3 MiB]                                                \r",
      "-\r",
      "- [0 files][ 24.5 MiB/106.3 MiB]                                                \r",
      "\\\r",
      "|\r",
      "| [0 files][ 55.2 MiB/106.3 MiB]                                                \r",
      "/\r",
      "-\r",
      "- [0 files][ 84.0 MiB/106.3 MiB]                                                \r",
      "\\\r",
      "\\ [1 files][106.3 MiB/106.3 MiB]                                                \r\n",
      "Operation completed over 1 objects/106.3 MiB.                                    \n"
     ]
    }
   ],
   "source": [
    "%%bash\n",
    "\n",
    "gsutil cp -r 9606.protein.links.full_w_homology.v11.5.txt.gz gs://ot-team/dsuveges/interactions"
   ]
  },
  {
   "cell_type": "code",
   "execution_count": 2,
   "id": "7d30d48e",
   "metadata": {
    "ExecuteTime": {
     "end_time": "2021-11-09T11:42:42.736596Z",
     "start_time": "2021-11-09T11:42:42.732330Z"
    }
   },
   "outputs": [],
   "source": [
    "import os\n",
    "from psutil import virtual_memory\n",
    "import tempfile\n",
    "\n",
    "\n",
    "def detect_spark_memory_limit():\n",
    "    \"\"\"Spark does not automatically use all available memory on a machine. When working on large datasets, this may\n",
    "    cause Java heap space errors, even though there is plenty of RAM available. To fix this, we detect the total amount\n",
    "    of physical memory and allow Spark to use (almost) all of it.\"\"\"\n",
    "    mem_gib = virtual_memory().total >> 30\n",
    "    return int(mem_gib * 0.9)"
   ]
  },
  {
   "cell_type": "code",
   "execution_count": 3,
   "id": "c15d386a",
   "metadata": {
    "ExecuteTime": {
     "end_time": "2021-11-09T11:42:50.791505Z",
     "start_time": "2021-11-09T11:42:50.783715Z"
    }
   },
   "outputs": [
    {
     "data": {
      "text/plain": [
       "14"
      ]
     },
     "execution_count": 3,
     "metadata": {},
     "output_type": "execute_result"
    }
   ],
   "source": [
    "detect_spark_memory_limit()"
   ]
  }
 ],
 "metadata": {
  "kernelspec": {
   "display_name": "Python 3",
   "language": "python",
   "name": "python3"
  },
  "language_info": {
   "codemirror_mode": {
    "name": "ipython",
    "version": 3
   },
   "file_extension": ".py",
   "mimetype": "text/x-python",
   "name": "python",
   "nbconvert_exporter": "python",
   "pygments_lexer": "ipython3",
   "version": "3.9.5"
  }
 },
 "nbformat": 4,
 "nbformat_minor": 5
}
