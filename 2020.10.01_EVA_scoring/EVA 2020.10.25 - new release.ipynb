{
 "cells": [
  {
   "cell_type": "code",
   "execution_count": 170,
   "metadata": {
    "ExecuteTime": {
     "end_time": "2020-10-26T14:54:37.861504Z",
     "start_time": "2020-10-26T14:54:37.857391Z"
    }
   },
   "outputs": [
    {
     "data": {
      "text/html": [
       "<style>.container { width:100% !important; }</style>"
      ],
      "text/plain": [
       "<IPython.core.display.HTML object>"
      ]
     },
     "metadata": {},
     "output_type": "display_data"
    }
   ],
   "source": [
    "from IPython.core.display import display, HTML\n",
    "display(HTML(\"<style>.container { width:100% !important; }</style>\"))"
   ]
  },
  {
   "cell_type": "code",
   "execution_count": 131,
   "metadata": {
    "ExecuteTime": {
     "end_time": "2020-10-26T14:00:14.670487Z",
     "start_time": "2020-10-26T14:00:14.652486Z"
    }
   },
   "outputs": [],
   "source": [
    "import pandas as pd\n",
    "import numpy as np\n",
    "import json\n",
    "from sklearn.ensemble import RandomForestClassifier\n",
    "from sklearn.metrics import roc_curve\n",
    "from sklearn.metrics import roc_auc_score\n",
    "from matplotlib import pyplot\n",
    "import gzip \n",
    "import tqdm\n",
    "import requests\n",
    "\n",
    "\n",
    "def harmonic_sum(data, scale_factor=1, cap=None):\n",
    "    \"\"\"\n",
    "    Returns an harmonic sum for the data passed\n",
    "    Args:\n",
    "        data (list): list of floats to compute the harmonic sum from\n",
    "        scale_factor (float): a scaling factor to multiply to each datapoint. Defaults to 1\n",
    "        cap (float): if not None, never return an harmonic sum higher than the cap value.\n",
    "    Returns:\n",
    "        harmonic_sum (float): the harmonic sum of the data passed\n",
    "    \"\"\"\n",
    "    \n",
    "    if isinstance(data, pd.Series):\n",
    "    \n",
    "    data.sort(reverse=True)\n",
    "    harmonic_sum = sum(s / ((i+1) ** scale_factor) for i, s in enumerate(data))\n",
    "    \n",
    "    # Applying cap:\n",
    "    if cap is not None and harmonic_sum > cap:\n",
    "        return cap\n",
    "      \n",
    "    return harmonic_sum\n",
    "\n",
    "\n",
    "def add_missing_efo(efo_ids):\n",
    "    missing_efo_map = {}\n",
    "    for efo_id in efo_ids:\n",
    "        url = f'https://www.ebi.ac.uk/ols/api/terms?short_form={efo_id}'\n",
    "        r = requests.get(url)\n",
    "        data = r.json()\n",
    "\n",
    "        missing_efo_map[efo_id] = data['_embedded']['terms'][0]['label']\n",
    "\n",
    "    return missing_efo_map\n",
    "        \n",
    "\n",
    "def add_missing_genes(genes):\n",
    "    missing_gene_map = {}\n",
    "    for ensembl_id in genes:\n",
    "        r = requests.get(f'http://rest.ensembl.org/lookup/id/{ensembl_id}?content-type=application/json;expand=0')\n",
    "        missing_gene_map[ensembl_id] = r.json()['display_name']\n",
    "        \n",
    "    return missing_gene_map\n",
    "\n",
    "\n",
    "def so_lookup(so_term):\n",
    "    '''\n",
    "    Function to do the OLS lookup, returns with the label.\n",
    "    '''\n",
    "    \n",
    "    url = f'https://www.ebi.ac.uk/ols/api/terms?short_form={so_term}'\n",
    "    r = requests.get(url)\n",
    "    data = r.json()\n",
    "\n",
    "    return data['_embedded']['terms'][0]['label']\n",
    "    \n",
    "\n",
    "def read_eva_evidences(source_file):\n",
    "    \n",
    "    parsed_data = []\n",
    "\n",
    "    with gzip.open(source_file) as f:\n",
    "        for line in f:\n",
    "            data = json.loads(line)\n",
    "            evidence = {\n",
    "                'type': data['type'],\n",
    "                'target': data['unique_association_fields']['gene'],\n",
    "                'disease': data['unique_association_fields']['phenotype'].split('/')[-1],\n",
    "                'rsid': data['unique_association_fields']['variant_id'],\n",
    "                'clinvar_acces': data['unique_association_fields']['clinvarAccession'],   \n",
    "            }\n",
    "\n",
    "            if data['type'] == 'genetic_association':\n",
    "                evidence.update({\n",
    "                    'score': data['evidence']['variant2disease']['resource_score']['value'],\n",
    "                    'star': data['evidence']['variant2disease']['clinvar_rating']['star_rating'],\n",
    "                    'review_status': data['evidence']['variant2disease']['clinvar_rating']['review_status'],\n",
    "                    'clinical_significance': data['evidence']['variant2disease']['clinical_significance'],\n",
    "                    'so_code':  data['evidence']['gene2variant']['functional_consequence'].split('/')[-1],\n",
    "                })\n",
    "\n",
    "            elif data['type'] == 'somatic_mutation':\n",
    "                evidence.update({\n",
    "                    'score': data['evidence']['resource_score']['value'],\n",
    "                    'star': data['evidence']['clinvar_rating']['star_rating'],\n",
    "                    'review_status': data['evidence']['clinvar_rating']['review_status'],\n",
    "                    'clinical_significance': data['evidence']['clinical_significance'],\n",
    "                    'so_code': data['evidence']['known_mutations'][0]['functional_consequence'].split('/')[-1],\n",
    "                })\n",
    "            parsed_data.append(evidence)\n",
    "\n",
    "    return pd.DataFrame(parsed_data)\n",
    "                    \n"
   ]
  },
  {
   "cell_type": "code",
   "execution_count": 21,
   "metadata": {
    "ExecuteTime": {
     "end_time": "2020-10-26T02:24:30.797525Z",
     "start_time": "2020-10-26T02:23:35.060075Z"
    }
   },
   "outputs": [
    {
     "name": "stderr",
     "output_type": "stream",
     "text": [
      "100%|██████████| 25/25 [00:04<00:00,  6.12it/s]\n"
     ]
    }
   ],
   "source": [
    "# The new eva data:\n",
    "eva_file = '/Users/dsuveges/project/evidences/cttv012-2020-10-21.json.gz'\n",
    "eva = read_eva_evidences(eva_file)\n",
    "\n",
    "# The gene data:\n",
    "gene_id_map_df = pd.read_csv('gene_id_map.tsv.gz', sep='\\t')\n",
    "eva = eva.merge(gene_id_map_df, how='left', left_on='target', right_on='gene_id')\n",
    "\n",
    "# Get non-mapped gene names:\n",
    "gene_id_map = add_missing_genes(eva.loc[eva.symbol.isna()].target.unique())\n",
    "eva['symbol'] = eva.apply(lambda row: row['symbol'] if not isinstance(row['symbol'], float) else gene_id_map[row['target']], axis=1)\n",
    "\n",
    "# Generating a lookup dictionary for consequences:\n",
    "so_lookup_table = {x:so_lookup(x) for x in tqdm.tqdm(eva.so_code.unique())}\n",
    "\n",
    "# Adding consequence label:\n",
    "eva['consequence'] = eva.so_code.apply(lambda so_term: so_lookup_table[so_term])\n",
    "\n",
    "# Adding disease labels:\n",
    "efo_map_df = pd.read_csv('efo_id_map.tsv.gz', sep='\\t')\n",
    "eva = eva.merge(efo_map_df, how='left', left_on='disease', right_on='efo_id')\n",
    "\n",
    "# Updating missing EFOs:\n",
    "efo_mapping = add_missing_efo(eva.loc[eva.label.isna()].disease.unique())\n",
    "eva['label'] = eva.apply(lambda row: row['label'] if not isinstance(row['label'], float) else efo_mapping[row['disease']], axis=1)\n",
    "\n",
    "# Saving table:\n",
    "eva.to_csv('2020.10.27_eva.tsv.gz', sep='\\t', index=False, compression='infer')\n"
   ]
  },
  {
   "cell_type": "markdown",
   "metadata": {},
   "source": [
    "### Evidence types "
   ]
  },
  {
   "cell_type": "code",
   "execution_count": 68,
   "metadata": {
    "ExecuteTime": {
     "end_time": "2020-10-26T09:34:45.236461Z",
     "start_time": "2020-10-26T09:34:44.095841Z"
    }
   },
   "outputs": [
    {
     "name": "stdout",
     "output_type": "stream",
     "text": [
      "Number of somatic associations: 1820\n",
      "Number of genetic associations: 28412\n",
      "Number of overlapping associations: 272\n"
     ]
    }
   ],
   "source": [
    "som_assoc = eva.loc[eva.type == 'somatic_mutation',['target','disease','type']].drop_duplicates()\n",
    "gen_assoc = eva.loc[eva.type == 'genetic_association',['target','disease','type']].drop_duplicates()\n",
    "merged_assoc = som_assoc.merge(gen_assoc, on=['target','disease'], how='outer',indicator=True)\n",
    "\n",
    "print(f'Number of somatic associations: {len(som_assoc)}')\n",
    "print(f'Number of genetic associations: {len(gen_assoc)}')\n",
    "overlapping_assoc = len(merged_assoc.loc[merged_assoc._merge == 'both'])\n",
    "print(f'Number of overlapping associations: {overlapping_assoc}')\n"
   ]
  },
  {
   "cell_type": "markdown",
   "metadata": {
    "ExecuteTime": {
     "end_time": "2020-10-26T04:10:19.040923Z",
     "start_time": "2020-10-26T04:10:08.975968Z"
    }
   },
   "source": [
    "# Reading and adding positive controls"
   ]
  },
  {
   "cell_type": "code",
   "execution_count": 49,
   "metadata": {
    "ExecuteTime": {
     "end_time": "2020-10-26T04:12:33.656253Z",
     "start_time": "2020-10-26T04:12:33.611895Z"
    }
   },
   "outputs": [
    {
     "name": "stdout",
     "output_type": "stream",
     "text": [
      "Number of entries in pharmaproject: 22947\n",
      "Number of disease/target associations pair: 22947\n",
      "            target  approved      disease\n",
      "0  ENSG00000119535     False  EFO_1001255\n",
      "1  ENSG00000151617     False  EFO_1000014\n",
      "2  ENSG00000012779     False  EFO_0003894\n",
      "3  ENSG00000026508     False  EFO_0003894\n",
      "4  ENSG00000057252     False  EFO_0003894\n"
     ]
    }
   ],
   "source": [
    "pharma_project_file = '/Users/dsuveges/project/issue-1166_benchmarking_clingen_evidences/abbvie_pharmaprojects_2018_mapped.csv'\n",
    "\n",
    "# Reading pharmaproject file as dataframe:\n",
    "pharma_df = pd.read_csv(pharma_project_file)\n",
    "\n",
    "# Renaming columns for easy handling:\n",
    "pharma_df.rename(columns={\n",
    "    'ensembl_id': 'target',\n",
    "    'id': 'disease',\n",
    "    'lApprovedUS.EU': 'approved'\n",
    "}, inplace=True)\n",
    "\n",
    "print(f'Number of entries in pharmaproject: {len(pharma_df)}')\n",
    "print(f'Number of disease/target associations pair: {len(pharma_df[[\"target\",\"disease\"]].drop_duplicates())}')\n",
    "print(pharma_df.head())"
   ]
  },
  {
   "cell_type": "code",
   "execution_count": 52,
   "metadata": {
    "ExecuteTime": {
     "end_time": "2020-10-26T04:13:39.026432Z",
     "start_time": "2020-10-26T04:13:32.570900Z"
    }
   },
   "outputs": [
    {
     "name": "stdout",
     "output_type": "stream",
     "text": [
      "rows: 32570\n",
      "unique associations: 20289\n",
      "rows: 20289\n",
      "unique associations: 20289\n",
      "            target        disease  assoc_score\n",
      "0  ENSG00000000938    EFO_0000668     1.138000\n",
      "1  ENSG00000000938  Orphanet_1359     1.500000\n",
      "2  ENSG00000000971    EFO_0000546     0.978000\n",
      "3  ENSG00000000971    EFO_0001365     2.085433\n",
      "4  ENSG00000000971    EFO_0003768     0.640000\n"
     ]
    },
    {
     "data": {
      "text/plain": [
       "<matplotlib.axes._subplots.AxesSubplot at 0x7fe4a6da1048>"
      ]
     },
     "execution_count": 52,
     "metadata": {},
     "output_type": "execute_result"
    },
    {
     "data": {
      "image/png": "[encoded data removed]",
      "text/plain": [
       "<Figure size 432x288 with 1 Axes>"
      ]
     },
     "metadata": {
      "needs_background": "light"
     },
     "output_type": "display_data"
    }
   ],
   "source": [
    "literature_df = pd.read_parquet('/Users/dsuveges/project/evidences/20.06_evidence_data.filtered.parquet')\n",
    "literature_df.rename(columns={\n",
    "    'efo_code': 'disease',\n",
    "    'gene_id': 'target'\n",
    "}, inplace=True)\n",
    "\n",
    "# Applying score threshold:\n",
    "literature_df = literature_df.loc[literature_df.assoc_score >= 0.6]\n",
    "\n",
    "print(f'rows: {len(literature_df)}')\n",
    "print(f'unique associations: {len(literature_df[[\"disease\",\"target\"]].drop_duplicates())}')\n",
    "\n",
    "\n",
    "summed_data = []\n",
    "\n",
    "for (target, disease), group in literature_df.groupby(['target', 'disease']):\n",
    "    summed_data.append({\n",
    "        'target': target,\n",
    "        'disease': disease,\n",
    "        'assoc_score': harmonic_sum(group.assoc_score.tolist())\n",
    "    }) \n",
    "\n",
    "literature_assoc = pd.DataFrame(summed_data)\n",
    "\n",
    "print(f'rows: {len(literature_assoc)}')\n",
    "print(f'unique associations: {len(literature_assoc[[\"disease\",\"target\"]].drop_duplicates())}')\n",
    "print(literature_assoc.head())\n",
    "literature_assoc.assoc_score.hist()\n"
   ]
  },
  {
   "cell_type": "code",
   "execution_count": 92,
   "metadata": {
    "ExecuteTime": {
     "end_time": "2020-10-26T10:35:07.031672Z",
     "start_time": "2020-10-26T10:35:06.984870Z"
    }
   },
   "outputs": [
    {
     "name": "stdout",
     "output_type": "stream",
     "text": [
      "Number of associations found in both positive sets: 1314\n"
     ]
    }
   ],
   "source": [
    "merged_poscon = literature_assoc.merge(pharma_df, how='outer', on=['disease','target'], indicator=True)\n",
    "print(f'Number of associations found in both positive sets: {len(merged_poscon.loc[merged_poscon._merge == \"both\"])}')"
   ]
  },
  {
   "cell_type": "markdown",
   "metadata": {
    "ExecuteTime": {
     "end_time": "2020-10-26T04:24:23.281383Z",
     "start_time": "2020-10-26T04:24:23.259744Z"
    }
   },
   "source": [
    "# Adding positive controls to eva data"
   ]
  },
  {
   "cell_type": "code",
   "execution_count": 93,
   "metadata": {
    "ExecuteTime": {
     "end_time": "2020-10-26T10:35:09.481523Z",
     "start_time": "2020-10-26T10:35:09.477401Z"
    }
   },
   "outputs": [],
   "source": [
    "# Renaming columns in the merged list:\n",
    "merged_poscon_updated = merged_poscon.rename(columns={'assoc_score': 'literature', 'approved': 'pharmaproject'})\n",
    "\n",
    "# Update colum values:"
   ]
  },
  {
   "cell_type": "code",
   "execution_count": 94,
   "metadata": {
    "ExecuteTime": {
     "end_time": "2020-10-26T10:35:13.631775Z",
     "start_time": "2020-10-26T10:35:11.469527Z"
    }
   },
   "outputs": [],
   "source": [
    "# Literature: setting all non-na values to true:\n",
    "merged_poscon_updated.loc[~merged_poscon_updated.literature.isna(),'literature'] = True\n",
    "\n",
    "# New column of the approved associations:\n",
    "merged_poscon_updated.loc[merged_poscon_updated.pharmaproject == True,'pharmaproject_approved'] = True\n",
    "\n",
    "# Pharmaproject: set all non-na values to true:\n",
    "merged_poscon_updated.loc[~merged_poscon_updated.pharmaproject.isna(),'pharmaproject'] = True\n",
    "\n",
    "# Merging with the eva data:\n",
    "eva_poscon_merge = eva.merge(merged_poscon_updated[['target','disease','literature','pharmaproject','pharmaproject_approved']], on=['target','disease'], how='left')\n",
    "\n",
    "# Update values:\n",
    "eva_poscon_merge.loc[eva_poscon_merge.literature.isna(),'literature'] = False\n",
    "eva_poscon_merge.loc[eva_poscon_merge.pharmaproject.isna(),'pharmaproject'] = False\n",
    "eva_poscon_merge.loc[eva_poscon_merge.pharmaproject_approved.isna(),'pharmaproject_approved'] = False\n",
    "\n",
    "# Generate combined positive control list:\n",
    "eva_poscon_merge['poscon'] = False\n",
    "eva_poscon_merge.loc[eva_poscon_merge.pharmaproject | eva_poscon_merge.literature, 'poscon'] = True\n"
   ]
  },
  {
   "cell_type": "code",
   "execution_count": 95,
   "metadata": {
    "ExecuteTime": {
     "end_time": "2020-10-26T10:35:13.867118Z",
     "start_time": "2020-10-26T10:35:13.634498Z"
    }
   },
   "outputs": [
    {
     "name": "stdout",
     "output_type": "stream",
     "text": [
      "NUmber of poscon evidence: 41755\n",
      "NUmber of poscon association: 557\n",
      "NUmber of literature poscon evidence: 33396\n",
      "NUmber of literature poscon association: 325\n",
      "NUmber of pharmaproject poscon evidence: 12301\n",
      "NUmber of pharmaproject poscon association: 310\n",
      "NUmber of pharmaproject approved poscon evidence: 5799\n",
      "NUmber of pharmaproject approved poscon association: 50\n"
     ]
    }
   ],
   "source": [
    "pharmap_poscon = eva_poscon_merge.loc[eva_poscon_merge.pharmaproject]\n",
    "pharmap_poscon_approved = eva_poscon_merge.loc[eva_poscon_merge.pharmaproject_approved]\n",
    "literature_poscon = eva_poscon_merge.loc[eva_poscon_merge.literature]\n",
    "all_poscon = eva_poscon_merge.loc[eva_poscon_merge.poscon]\n",
    "\n",
    "print(f\"NUmber of poscon evidence: {len(all_poscon)}\")\n",
    "print(f\"NUmber of poscon association: {len(all_poscon[['disease','target']].drop_duplicates())}\")\n",
    "print(f\"NUmber of literature poscon evidence: {len(literature_poscon)}\")\n",
    "print(f\"NUmber of literature poscon association: {len(literature_poscon[['disease','target']].drop_duplicates())}\")\n",
    "print(f\"NUmber of pharmaproject poscon evidence: {len(pharmap_poscon)}\")\n",
    "print(f\"NUmber of pharmaproject poscon association: {len(pharmap_poscon[['disease','target']].drop_duplicates())}\")\n",
    "print(f\"NUmber of pharmaproject approved poscon evidence: {len(pharmap_poscon_approved)}\")\n",
    "print(f\"NUmber of pharmaproject approved poscon association: {len(pharmap_poscon_approved[['disease','target']].drop_duplicates())}\")"
   ]
  },
  {
   "cell_type": "markdown",
   "metadata": {
    "ExecuteTime": {
     "end_time": "2020-10-26T10:35:13.899910Z",
     "start_time": "2020-10-26T10:35:13.870208Z"
    }
   },
   "source": [
    "# Weight 1: number of evidence\n",
    "\n",
    "The number of evidence is highly correlated with the probablilty of a disease/target association is a positive. Calculating ROC if the association score would be the number of evidence"
   ]
  },
  {
   "cell_type": "code",
   "execution_count": 135,
   "metadata": {
    "ExecuteTime": {
     "end_time": "2020-10-26T14:01:31.314120Z",
     "start_time": "2020-10-26T14:01:29.291148Z"
    }
   },
   "outputs": [],
   "source": [
    "# Grouping eva dataframe by disease and target and get the length for each group\n",
    "s = eva_poscon_merge.groupby(['disease','target']).apply(len)\n",
    "s.name = 'evidence_count'\n",
    "\n",
    "# Grouping eva dataframe to get disease/target positive control list:\n",
    "poscon = eva_poscon_merge.groupby(['disease','target', 'poscon']).poscon.agg(any).droplevel(2)\n",
    "poscon.name = 'positive_control'\n",
    "\n",
    "# Merge two lists together:\n",
    "evidence_count = pd.concat([s,poscon], axis=1)"
   ]
  },
  {
   "cell_type": "code",
   "execution_count": 136,
   "metadata": {
    "ExecuteTime": {
     "end_time": "2020-10-26T14:01:32.027334Z",
     "start_time": "2020-10-26T14:01:31.882458Z"
    }
   },
   "outputs": [
    {
     "data": {
      "text/plain": [
       "<matplotlib.legend.Legend at 0x7fe4bed9c860>"
      ]
     },
     "execution_count": 136,
     "metadata": {},
     "output_type": "execute_result"
    },
    {
     "data": {
      "image/png": "[encoded data removed]",
      "text/plain": [
       "<Figure size 432x288 with 1 Axes>"
      ]
     },
     "metadata": {
      "needs_background": "light"
     },
     "output_type": "display_data"
    }
   ],
   "source": [
    "# Variant count only:\n",
    "fpr_varcnt, tpr_varcnt, thresholds = roc_curve(evidence_count.positive_control, evidence_count.evidence_count)\n",
    "auc_varcnt = roc_auc_score(evidence_count.positive_control, evidence_count.evidence_count)\n",
    "\n",
    "# Draw baseline:\n",
    "pyplot.plot([x/100 for x in range(1,100,1)], [x/100 for x in range(1,100,1)], linestyle='--', label=f'baseline')\n",
    "\n",
    "# Calculated curves:\n",
    "pyplot.plot(fpr_varcnt, tpr_varcnt, marker='.', markersize = 1, label=f'reference ({auc_varcnt:.2})') # variant count\n",
    "\n",
    "# axis labels\n",
    "pyplot.xlabel('False Positive Rate')\n",
    "pyplot.ylabel('True Positive Rate')\n",
    "\n",
    "# Add legend:\n",
    "pyplot.legend()"
   ]
  },
  {
   "cell_type": "markdown",
   "metadata": {
    "ExecuteTime": {
     "end_time": "2020-10-26T13:23:02.885099Z",
     "start_time": "2020-10-26T13:23:02.858143Z"
    }
   },
   "source": [
    "# Weighting variant consequence "
   ]
  },
  {
   "cell_type": "code",
   "execution_count": 151,
   "metadata": {
    "ExecuteTime": {
     "end_time": "2020-10-26T14:10:28.539857Z",
     "start_time": "2020-10-26T14:10:28.251989Z"
    }
   },
   "outputs": [
    {
     "data": {
      "text/html": [
       "<div>\n",
       "<style scoped>\n",
       "    .dataframe tbody tr th:only-of-type {\n",
       "        vertical-align: middle;\n",
       "    }\n",
       "\n",
       "    .dataframe tbody tr th {\n",
       "        vertical-align: top;\n",
       "    }\n",
       "\n",
       "    .dataframe thead th {\n",
       "        text-align: right;\n",
       "    }\n",
       "</style>\n",
       "<table border=\"1\" class=\"dataframe\">\n",
       "  <thead>\n",
       "    <tr style=\"text-align: right;\">\n",
       "      <th></th>\n",
       "      <th>target</th>\n",
       "      <th>disease</th>\n",
       "      <th>consequence</th>\n",
       "      <th>poscon</th>\n",
       "      <th>review_status</th>\n",
       "      <th>consequence_weighted</th>\n",
       "      <th>review_weighted</th>\n",
       "    </tr>\n",
       "  </thead>\n",
       "  <tbody>\n",
       "    <tr>\n",
       "      <th>0</th>\n",
       "      <td>ENSG00000154803</td>\n",
       "      <td>Orphanet_2903</td>\n",
       "      <td>frameshift_variant</td>\n",
       "      <td>False</td>\n",
       "      <td>no assertion criteria provided</td>\n",
       "      <td>0.95</td>\n",
       "      <td>0.285714</td>\n",
       "    </tr>\n",
       "    <tr>\n",
       "      <th>1</th>\n",
       "      <td>ENSG00000103197</td>\n",
       "      <td>Orphanet_805</td>\n",
       "      <td>frameshift_variant</td>\n",
       "      <td>False</td>\n",
       "      <td>no assertion provided</td>\n",
       "      <td>0.95</td>\n",
       "      <td>0.142857</td>\n",
       "    </tr>\n",
       "    <tr>\n",
       "      <th>2</th>\n",
       "      <td>ENSG00000103197</td>\n",
       "      <td>Orphanet_805</td>\n",
       "      <td>frameshift_variant</td>\n",
       "      <td>False</td>\n",
       "      <td>no assertion provided</td>\n",
       "      <td>0.95</td>\n",
       "      <td>0.142857</td>\n",
       "    </tr>\n",
       "    <tr>\n",
       "      <th>3</th>\n",
       "      <td>ENSG00000103197</td>\n",
       "      <td>Orphanet_805</td>\n",
       "      <td>inframe_deletion</td>\n",
       "      <td>False</td>\n",
       "      <td>no assertion provided</td>\n",
       "      <td>0.70</td>\n",
       "      <td>0.142857</td>\n",
       "    </tr>\n",
       "    <tr>\n",
       "      <th>4</th>\n",
       "      <td>ENSG00000129422</td>\n",
       "      <td>EFO_0002950</td>\n",
       "      <td>splice_acceptor_variant</td>\n",
       "      <td>False</td>\n",
       "      <td>no assertion provided</td>\n",
       "      <td>0.95</td>\n",
       "      <td>0.142857</td>\n",
       "    </tr>\n",
       "  </tbody>\n",
       "</table>\n",
       "</div>"
      ],
      "text/plain": [
       "            target        disease              consequence  poscon  \\\n",
       "0  ENSG00000154803  Orphanet_2903       frameshift_variant   False   \n",
       "1  ENSG00000103197   Orphanet_805       frameshift_variant   False   \n",
       "2  ENSG00000103197   Orphanet_805       frameshift_variant   False   \n",
       "3  ENSG00000103197   Orphanet_805         inframe_deletion   False   \n",
       "4  ENSG00000129422    EFO_0002950  splice_acceptor_variant   False   \n",
       "\n",
       "                    review_status  consequence_weighted  review_weighted  \n",
       "0  no assertion criteria provided                  0.95         0.285714  \n",
       "1           no assertion provided                  0.95         0.142857  \n",
       "2           no assertion provided                  0.95         0.142857  \n",
       "3           no assertion provided                  0.70         0.142857  \n",
       "4           no assertion provided                  0.95         0.142857  "
      ]
     },
     "execution_count": 151,
     "metadata": {},
     "output_type": "execute_result"
    }
   ],
   "source": [
    "eva_consequences_order_map = {\n",
    "    'downstream_gene_variant': 0.6,\n",
    "    'upstream_gene_variant': 0.6,\n",
    "    'intron_variant': 0.65,\n",
    "    'non_coding_transcript_exon_variant': 0.65,\n",
    "    '3_prime_UTR_variant': 0.65,\n",
    "    '5_prime_UTR_variant': 0.65,\n",
    "    'mature_miRNA_variant': 0.65,\n",
    "    'coding_sequence_variant': 0.95,\n",
    "    'synonymous_variant': 0.65,\n",
    "    'stop_retained_variant': 0.65,\n",
    "    'incomplete_terminal_codon_variant': 0.9,\n",
    "    'splice_region_variant': 0.9,\n",
    "    'protein_altering_variant': 0.7,\n",
    "    'missense_variant': 0.7,\n",
    "    'inframe_deletion': 0.7,\n",
    "    'inframe_insertion': 0.7,\n",
    "    'start_lost': 0.95,\n",
    "    'stop_lost': 0.9,\n",
    "    'frameshift_variant': 0.95,\n",
    "    'stop_gained': 0.95,\n",
    "    'splice_donor_variant': 0.95,\n",
    "    'splice_acceptor_variant': 0.95,\n",
    "    'trinucleotide_repeat_expansion': 1,\n",
    "    'short_tandem_repeat_expansion': 1,\n",
    "    'transcript_ablation':1\n",
    "}\n",
    "\n",
    "# Review status is an ordinal variable. Mapping to numbers:\n",
    "review_status_order_map = {\n",
    "    'no assertion provided': 1/7,\n",
    "    'no assertion criteria provided': 2/7,\n",
    "    'criteria provided, conflicting interpretations': 3/7,\n",
    "    'criteria provided, single submitter': 4/7,\n",
    "    'criteria provided, multiple submitters, no conflicts': 5/7,\n",
    "    'reviewed by expert panel': 6/7,\n",
    "    'practice guideline': 7/7\n",
    "}\n",
    "\n",
    "clinical_significance_mapping = {\n",
    "    'association not found': 0,  \n",
    "    'benign': 0,\n",
    "    'not provided': 0,\n",
    "    'uncertain significance': 0.01,    \n",
    "    'likely benign': 0.2,    \n",
    "    'conflicting interpretations of pathogenicity': 0.3,   \n",
    "    'other': 0.3,\n",
    "    'association': 0.5,\n",
    "    'drug response': 1,\n",
    "    'protective':1,\n",
    "    'affects': 0.7,\n",
    "    'likely pathogenic' : 0.8,\n",
    "    'risk factor': 0.8,\n",
    "    'pathogenic' : 1,\n",
    "}\n",
    "\n",
    "simplified_evid = eva_poscon_merge[['target','disease','consequence','poscon','review_status']].copy()\n",
    "simplified_evid['consequence_weighted'] = simplified_evid.consequence.map(eva_consequences_order_map)\n",
    "simplified_evid['review_weighted'] = simplified_evid.review_status.map(review_status_order_map)\n",
    "\n",
    "simplified_evid.head()"
   ]
  },
  {
   "cell_type": "code",
   "execution_count": 154,
   "metadata": {
    "ExecuteTime": {
     "end_time": "2020-10-26T14:10:45.999608Z",
     "start_time": "2020-10-26T14:10:44.506251Z"
    }
   },
   "outputs": [],
   "source": [
    "# Grouping eva dataframe by disease and target and get the length for each group\n",
    "cons_weight = simplified_evid.groupby(['disease','target']).consequence_weighted.agg(harmonic_sum)\n",
    "cons_weight.name = 'consequence_weighted'\n",
    "\n",
    "# Grouping eva dataframe to get disease/target positive control list:\n",
    "poscon = simplified_evid.groupby(['disease','target', 'poscon']).poscon.agg(any).droplevel(2)\n",
    "poscon.name = 'positive_control'\n",
    "\n",
    "# Merge two lists together:\n",
    "consequence_weighted = pd.concat([cons_weight,poscon], axis=1)\n"
   ]
  },
  {
   "cell_type": "code",
   "execution_count": 155,
   "metadata": {
    "ExecuteTime": {
     "end_time": "2020-10-26T14:10:46.164832Z",
     "start_time": "2020-10-26T14:10:46.002038Z"
    }
   },
   "outputs": [
    {
     "data": {
      "text/plain": [
       "<matplotlib.legend.Legend at 0x7fe423b53358>"
      ]
     },
     "execution_count": 155,
     "metadata": {},
     "output_type": "execute_result"
    },
    {
     "data": {
      "image/png": "[encoded data removed]",
      "text/plain": [
       "<Figure size 432x288 with 1 Axes>"
      ]
     },
     "metadata": {
      "needs_background": "light"
     },
     "output_type": "display_data"
    }
   ],
   "source": [
    "# Variant count only:\n",
    "fpr_varcnt, tpr_varcnt, thresholds = roc_curve(evidence_count.positive_control, evidence_count.evidence_count)\n",
    "auc_varcnt = roc_auc_score(evidence_count.positive_control, evidence_count.evidence_count)\n",
    "\n",
    "# Weighted consequences:\n",
    "fpr_cons_weight, tpr_cons_weight, thresholds = roc_curve(consequence_weighted.positive_control, consequence_weighted.consequence_weighted)\n",
    "auc_cons_weight = roc_auc_score(consequence_weighted.positive_control, consequence_weighted.consequence_weighted)\n",
    "\n",
    "\n",
    "# Draw baseline:\n",
    "pyplot.plot([x/100 for x in range(1,100,1)], [x/100 for x in range(1,100,1)], linestyle='--', label=f'baseline')\n",
    "\n",
    "# Calculated curves:\n",
    "pyplot.plot(fpr_varcnt, tpr_varcnt, marker='.', markersize = 1, label=f'Evidence count ({auc_varcnt:.2})') # variant count\n",
    "pyplot.plot(fpr_cons_weight, tpr_cons_weight, marker='.', markersize = 1, label=f'Weighted consequence ({auc_cons_weight:.2})') # weighted consequence\n",
    "\n",
    "\n",
    "# axis labels\n",
    "pyplot.xlabel('False Positive Rate')\n",
    "pyplot.ylabel('True Positive Rate')\n",
    "\n",
    "# Add legend:\n",
    "pyplot.legend()"
   ]
  },
  {
   "cell_type": "code",
   "execution_count": 160,
   "metadata": {
    "ExecuteTime": {
     "end_time": "2020-10-26T14:12:48.800848Z",
     "start_time": "2020-10-26T14:12:48.459393Z"
    }
   },
   "outputs": [
    {
     "data": {
      "text/plain": [
       "<matplotlib.legend.Legend at 0x7fe4993d9b38>"
      ]
     },
     "execution_count": 160,
     "metadata": {},
     "output_type": "execute_result"
    },
    {
     "data": {
      "image/png": "[encoded data removed]",
      "text/plain": [
       "<Figure size 432x288 with 1 Axes>"
      ]
     },
     "metadata": {
      "needs_background": "light"
     },
     "output_type": "display_data"
    }
   ],
   "source": [
    "# Weighted consequences:\n",
    "fpr_cons_weight, tpr_cons_weight, thresholds = roc_curve(simplified_evid.poscon, simplified_evid.consequence_weighted)\n",
    "auc_cons_weight = roc_auc_score(simplified_evid.poscon, simplified_evid.consequence_weighted)\n",
    "\n",
    "\n",
    "# Draw baseline:\n",
    "pyplot.plot([x/100 for x in range(1,100,1)], [x/100 for x in range(1,100,1)], linestyle='--', label=f'baseline')\n",
    "\n",
    "# Calculated curves:\n",
    "pyplot.plot(fpr_cons_weight, tpr_cons_weight, marker='.', markersize = 1, label=f'Weighted consequence ({auc_cons_weight:.2})') # weighted consequence\n",
    "\n",
    "\n",
    "# axis labels\n",
    "pyplot.xlabel('False Positive Rate')\n",
    "pyplot.ylabel('True Positive Rate')\n",
    "\n",
    "# Add legend:\n",
    "pyplot.legend()"
   ]
  },
  {
   "cell_type": "code",
   "execution_count": 157,
   "metadata": {
    "ExecuteTime": {
     "end_time": "2020-10-26T14:11:51.286413Z",
     "start_time": "2020-10-26T14:11:51.275050Z"
    }
   },
   "outputs": [
    {
     "data": {
      "text/html": [
       "<div>\n",
       "<style scoped>\n",
       "    .dataframe tbody tr th:only-of-type {\n",
       "        vertical-align: middle;\n",
       "    }\n",
       "\n",
       "    .dataframe tbody tr th {\n",
       "        vertical-align: top;\n",
       "    }\n",
       "\n",
       "    .dataframe thead th {\n",
       "        text-align: right;\n",
       "    }\n",
       "</style>\n",
       "<table border=\"1\" class=\"dataframe\">\n",
       "  <thead>\n",
       "    <tr style=\"text-align: right;\">\n",
       "      <th></th>\n",
       "      <th>target</th>\n",
       "      <th>disease</th>\n",
       "      <th>consequence</th>\n",
       "      <th>poscon</th>\n",
       "      <th>review_status</th>\n",
       "      <th>consequence_weighted</th>\n",
       "      <th>review_weighted</th>\n",
       "    </tr>\n",
       "  </thead>\n",
       "  <tbody>\n",
       "    <tr>\n",
       "      <th>0</th>\n",
       "      <td>ENSG00000154803</td>\n",
       "      <td>Orphanet_2903</td>\n",
       "      <td>frameshift_variant</td>\n",
       "      <td>False</td>\n",
       "      <td>no assertion criteria provided</td>\n",
       "      <td>0.95</td>\n",
       "      <td>0.285714</td>\n",
       "    </tr>\n",
       "    <tr>\n",
       "      <th>1</th>\n",
       "      <td>ENSG00000103197</td>\n",
       "      <td>Orphanet_805</td>\n",
       "      <td>frameshift_variant</td>\n",
       "      <td>False</td>\n",
       "      <td>no assertion provided</td>\n",
       "      <td>0.95</td>\n",
       "      <td>0.142857</td>\n",
       "    </tr>\n",
       "    <tr>\n",
       "      <th>2</th>\n",
       "      <td>ENSG00000103197</td>\n",
       "      <td>Orphanet_805</td>\n",
       "      <td>frameshift_variant</td>\n",
       "      <td>False</td>\n",
       "      <td>no assertion provided</td>\n",
       "      <td>0.95</td>\n",
       "      <td>0.142857</td>\n",
       "    </tr>\n",
       "    <tr>\n",
       "      <th>3</th>\n",
       "      <td>ENSG00000103197</td>\n",
       "      <td>Orphanet_805</td>\n",
       "      <td>inframe_deletion</td>\n",
       "      <td>False</td>\n",
       "      <td>no assertion provided</td>\n",
       "      <td>0.70</td>\n",
       "      <td>0.142857</td>\n",
       "    </tr>\n",
       "    <tr>\n",
       "      <th>4</th>\n",
       "      <td>ENSG00000129422</td>\n",
       "      <td>EFO_0002950</td>\n",
       "      <td>splice_acceptor_variant</td>\n",
       "      <td>False</td>\n",
       "      <td>no assertion provided</td>\n",
       "      <td>0.95</td>\n",
       "      <td>0.142857</td>\n",
       "    </tr>\n",
       "  </tbody>\n",
       "</table>\n",
       "</div>"
      ],
      "text/plain": [
       "            target        disease              consequence  poscon  \\\n",
       "0  ENSG00000154803  Orphanet_2903       frameshift_variant   False   \n",
       "1  ENSG00000103197   Orphanet_805       frameshift_variant   False   \n",
       "2  ENSG00000103197   Orphanet_805       frameshift_variant   False   \n",
       "3  ENSG00000103197   Orphanet_805         inframe_deletion   False   \n",
       "4  ENSG00000129422    EFO_0002950  splice_acceptor_variant   False   \n",
       "\n",
       "                    review_status  consequence_weighted  review_weighted  \n",
       "0  no assertion criteria provided                  0.95         0.285714  \n",
       "1           no assertion provided                  0.95         0.142857  \n",
       "2           no assertion provided                  0.95         0.142857  \n",
       "3           no assertion provided                  0.70         0.142857  \n",
       "4           no assertion provided                  0.95         0.142857  "
      ]
     },
     "execution_count": 157,
     "metadata": {},
     "output_type": "execute_result"
    }
   ],
   "source": [
    "simplified_evid.head()"
   ]
  },
  {
   "cell_type": "markdown",
   "metadata": {},
   "source": [
    "# Weighting by review status"
   ]
  },
  {
   "cell_type": "code",
   "execution_count": 163,
   "metadata": {
    "ExecuteTime": {
     "end_time": "2020-10-26T14:28:48.090517Z",
     "start_time": "2020-10-26T14:28:46.617985Z"
    }
   },
   "outputs": [],
   "source": [
    "# Grouping eva dataframe by disease and target and get the length for each group\n",
    "rew_weight = simplified_evid.groupby(['disease','target']).review_weighted.agg(harmonic_sum)\n",
    "rew_weight.name = 'review_status_weighted'\n",
    "\n",
    "# Grouping eva dataframe to get disease/target positive control list:\n",
    "poscon = simplified_evid.groupby(['disease','target', 'poscon']).poscon.agg(any).droplevel(2)\n",
    "poscon.name = 'positive_control'\n",
    "\n",
    "# Merge two lists together:\n",
    "review_status_weighted = pd.concat([rew_weight,poscon], axis=1)\n"
   ]
  },
  {
   "cell_type": "code",
   "execution_count": 164,
   "metadata": {
    "ExecuteTime": {
     "end_time": "2020-10-26T14:29:22.990160Z",
     "start_time": "2020-10-26T14:29:22.798495Z"
    }
   },
   "outputs": [
    {
     "data": {
      "text/plain": [
       "<matplotlib.legend.Legend at 0x7fe430174c50>"
      ]
     },
     "execution_count": 164,
     "metadata": {},
     "output_type": "execute_result"
    },
    {
     "data": {
      "image/png": "[encoded data removed]",
      "text/plain": [
       "<Figure size 432x288 with 1 Axes>"
      ]
     },
     "metadata": {
      "needs_background": "light"
     },
     "output_type": "display_data"
    }
   ],
   "source": [
    "# Variant count only:\n",
    "fpr_varcnt, tpr_varcnt, thresholds = roc_curve(evidence_count.positive_control, evidence_count.evidence_count)\n",
    "auc_varcnt = roc_auc_score(evidence_count.positive_control, evidence_count.evidence_count)\n",
    "\n",
    "# Weighted consequences:\n",
    "fpr_cons_weight, tpr_cons_weight, thresholds = roc_curve(consequence_weighted.positive_control, consequence_weighted.consequence_weighted)\n",
    "auc_cons_weight = roc_auc_score(consequence_weighted.positive_control, consequence_weighted.consequence_weighted)\n",
    "\n",
    "# Weighted review status:\n",
    "fpr_review_stat, tpr_review_stat, thresholds = roc_curve(review_status_weighted.positive_control, review_status_weighted.review_status_weighted)\n",
    "auc_review_stat = roc_auc_score(review_status_weighted.positive_control, review_status_weighted.review_status_weighted)\n",
    "\n",
    "\n",
    "# Draw baseline:\n",
    "pyplot.plot([x/100 for x in range(1,100,1)], [x/100 for x in range(1,100,1)], linestyle='--', label=f'baseline')\n",
    "\n",
    "# Calculated curves:\n",
    "pyplot.plot(fpr_varcnt, tpr_varcnt, marker='.', markersize = 1, label=f'Evidence count ({auc_varcnt:.2})') # variant count\n",
    "pyplot.plot(fpr_cons_weight, tpr_cons_weight, marker='.', markersize = 1, label=f'Weighted consequence ({auc_cons_weight:.2})') # weighted consequence\n",
    "pyplot.plot(fpr_review_stat, tpr_review_stat, marker='.', markersize = 1, label=f'Weighted review status ({auc_review_stat:.2})') # weighted consequence\n",
    "\n",
    "\n",
    "# axis labels\n",
    "pyplot.xlabel('False Positive Rate')\n",
    "pyplot.ylabel('True Positive Rate')\n",
    "\n",
    "# Add legend:\n",
    "pyplot.legend()"
   ]
  },
  {
   "cell_type": "code",
   "execution_count": 165,
   "metadata": {
    "ExecuteTime": {
     "end_time": "2020-10-26T14:32:22.944488Z",
     "start_time": "2020-10-26T14:32:22.410426Z"
    }
   },
   "outputs": [
    {
     "data": {
      "text/plain": [
       "<matplotlib.legend.Legend at 0x7fe48b0da9e8>"
      ]
     },
     "execution_count": 165,
     "metadata": {},
     "output_type": "execute_result"
    },
    {
     "data": {
      "image/png": "[encoded data removed]",
      "text/plain": [
       "<Figure size 432x288 with 1 Axes>"
      ]
     },
     "metadata": {
      "needs_background": "light"
     },
     "output_type": "display_data"
    }
   ],
   "source": [
    "# Weighted consequences:\n",
    "fpr_cons_weight, tpr_cons_weight, thresholds = roc_curve(simplified_evid.poscon, simplified_evid.consequence_weighted)\n",
    "auc_cons_weight = roc_auc_score(simplified_evid.poscon, simplified_evid.consequence_weighted)\n",
    "\n",
    "# Weighted review status:\n",
    "fpr_rev, tpr_rev, thresholds = roc_curve(simplified_evid.poscon, simplified_evid.review_weighted)\n",
    "auc_rev = roc_auc_score(simplified_evid.poscon, simplified_evid.review_weighted)\n",
    "\n",
    "\n",
    "# Draw baseline:\n",
    "pyplot.plot([x/100 for x in range(1,100,1)], [x/100 for x in range(1,100,1)], linestyle='--', label=f'baseline')\n",
    "\n",
    "# Calculated curves:\n",
    "pyplot.plot(fpr_cons_weight, tpr_cons_weight, marker='.', markersize = 1, label=f'Weighted consequence ({auc_cons_weight:.2})') # weighted consequence\n",
    "pyplot.plot(fpr_rev, tpr_rev, marker='.', markersize = 1, label=f'Weighted review status ({auc_rev:.2})') # weighted consequence\n",
    "\n",
    "\n",
    "# axis labels\n",
    "pyplot.xlabel('False Positive Rate')\n",
    "pyplot.ylabel('True Positive Rate')\n",
    "\n",
    "# Add legend:\n",
    "\n",
    "pyplot.legend()"
   ]
  },
  {
   "cell_type": "markdown",
   "metadata": {},
   "source": [
    "# Weighting by clinical significance\n",
    "\n",
    "## 1. Manually assign weights to terms\n"
   ]
  },
  {
   "cell_type": "code",
   "execution_count": 167,
   "metadata": {
    "ExecuteTime": {
     "end_time": "2020-10-26T14:51:49.619479Z",
     "start_time": "2020-10-26T14:51:48.833231Z"
    }
   },
   "outputs": [
    {
     "data": {
      "text/html": [
       "<div>\n",
       "<style scoped>\n",
       "    .dataframe tbody tr th:only-of-type {\n",
       "        vertical-align: middle;\n",
       "    }\n",
       "\n",
       "    .dataframe tbody tr th {\n",
       "        vertical-align: top;\n",
       "    }\n",
       "\n",
       "    .dataframe thead th {\n",
       "        text-align: right;\n",
       "    }\n",
       "</style>\n",
       "<table border=\"1\" class=\"dataframe\">\n",
       "  <thead>\n",
       "    <tr style=\"text-align: right;\">\n",
       "      <th></th>\n",
       "      <th>target</th>\n",
       "      <th>disease</th>\n",
       "      <th>consequence</th>\n",
       "      <th>poscon</th>\n",
       "      <th>review_status</th>\n",
       "      <th>consequence_weighted</th>\n",
       "      <th>review_weighted</th>\n",
       "      <th>clinical_significance_weighted</th>\n",
       "    </tr>\n",
       "  </thead>\n",
       "  <tbody>\n",
       "    <tr>\n",
       "      <th>0</th>\n",
       "      <td>ENSG00000154803</td>\n",
       "      <td>Orphanet_2903</td>\n",
       "      <td>frameshift_variant</td>\n",
       "      <td>False</td>\n",
       "      <td>no assertion criteria provided</td>\n",
       "      <td>0.95</td>\n",
       "      <td>0.285714</td>\n",
       "      <td>1.0</td>\n",
       "    </tr>\n",
       "    <tr>\n",
       "      <th>1</th>\n",
       "      <td>ENSG00000103197</td>\n",
       "      <td>Orphanet_805</td>\n",
       "      <td>frameshift_variant</td>\n",
       "      <td>False</td>\n",
       "      <td>no assertion provided</td>\n",
       "      <td>0.95</td>\n",
       "      <td>0.142857</td>\n",
       "      <td>0.0</td>\n",
       "    </tr>\n",
       "    <tr>\n",
       "      <th>2</th>\n",
       "      <td>ENSG00000103197</td>\n",
       "      <td>Orphanet_805</td>\n",
       "      <td>frameshift_variant</td>\n",
       "      <td>False</td>\n",
       "      <td>no assertion provided</td>\n",
       "      <td>0.95</td>\n",
       "      <td>0.142857</td>\n",
       "      <td>0.0</td>\n",
       "    </tr>\n",
       "    <tr>\n",
       "      <th>3</th>\n",
       "      <td>ENSG00000103197</td>\n",
       "      <td>Orphanet_805</td>\n",
       "      <td>inframe_deletion</td>\n",
       "      <td>False</td>\n",
       "      <td>no assertion provided</td>\n",
       "      <td>0.70</td>\n",
       "      <td>0.142857</td>\n",
       "      <td>0.0</td>\n",
       "    </tr>\n",
       "    <tr>\n",
       "      <th>4</th>\n",
       "      <td>ENSG00000129422</td>\n",
       "      <td>EFO_0002950</td>\n",
       "      <td>splice_acceptor_variant</td>\n",
       "      <td>False</td>\n",
       "      <td>no assertion provided</td>\n",
       "      <td>0.95</td>\n",
       "      <td>0.142857</td>\n",
       "      <td>0.0</td>\n",
       "    </tr>\n",
       "  </tbody>\n",
       "</table>\n",
       "</div>"
      ],
      "text/plain": [
       "            target        disease              consequence  poscon  \\\n",
       "0  ENSG00000154803  Orphanet_2903       frameshift_variant   False   \n",
       "1  ENSG00000103197   Orphanet_805       frameshift_variant   False   \n",
       "2  ENSG00000103197   Orphanet_805       frameshift_variant   False   \n",
       "3  ENSG00000103197   Orphanet_805         inframe_deletion   False   \n",
       "4  ENSG00000129422    EFO_0002950  splice_acceptor_variant   False   \n",
       "\n",
       "                    review_status  consequence_weighted  review_weighted  \\\n",
       "0  no assertion criteria provided                  0.95         0.285714   \n",
       "1           no assertion provided                  0.95         0.142857   \n",
       "2           no assertion provided                  0.95         0.142857   \n",
       "3           no assertion provided                  0.70         0.142857   \n",
       "4           no assertion provided                  0.95         0.142857   \n",
       "\n",
       "   clinical_significance_weighted  \n",
       "0                             1.0  \n",
       "1                             0.0  \n",
       "2                             0.0  \n",
       "3                             0.0  \n",
       "4                             0.0  "
      ]
     },
     "execution_count": 167,
     "metadata": {},
     "output_type": "execute_result"
    }
   ],
   "source": [
    "clinical_significance_mapping = {\n",
    "    'association not found': 0,  \n",
    "    'benign': 0,\n",
    "    'not provided': 0,\n",
    "    'uncertain significance': 0,    \n",
    "    'likely benign': 0.2,    \n",
    "    'conflicting interpretations of pathogenicity': 0.3,   \n",
    "    'other': 0.3,\n",
    "    'association': 0.5,\n",
    "    'drug response': 0.5,\n",
    "    'protective':0.5,\n",
    "    'affects': 0.7,\n",
    "    'likely pathogenic' : 0.8,\n",
    "    'risk factor': 0.8,\n",
    "    'pathogenic' : 1,\n",
    "}\n",
    "\n",
    "simplified_evid['clinical_significance_weighted'] = eva.clinical_significance.apply(lambda y: max([x for x in map(lambda x: clinical_significance_mapping[x], y)]))\n",
    "simplified_evid.head()"
   ]
  },
  {
   "cell_type": "code",
   "execution_count": 168,
   "metadata": {
    "ExecuteTime": {
     "end_time": "2020-10-26T14:53:50.977853Z",
     "start_time": "2020-10-26T14:53:49.472311Z"
    }
   },
   "outputs": [],
   "source": [
    "# Grouping eva dataframe by disease and target and get the length for each group\n",
    "rew_weight = simplified_evid.groupby(['disease','target']).clinical_significance_weighted.agg(harmonic_sum)\n",
    "rew_weight.name = 'clinical_significance_weighted'\n",
    "\n",
    "# Grouping eva dataframe to get disease/target positive control list:\n",
    "poscon = simplified_evid.groupby(['disease','target', 'poscon']).poscon.agg(any).droplevel(2)\n",
    "poscon.name = 'positive_control'\n",
    "\n",
    "# Merge two lists together:\n",
    "clinical_significance_weighted = pd.concat([rew_weight,poscon], axis=1)\n"
   ]
  },
  {
   "cell_type": "code",
   "execution_count": 172,
   "metadata": {
    "ExecuteTime": {
     "end_time": "2020-10-26T14:56:37.640007Z",
     "start_time": "2020-10-26T14:56:37.410243Z"
    }
   },
   "outputs": [
    {
     "data": {
      "text/plain": [
       "<matplotlib.legend.Legend at 0x7fe4908d0cc0>"
      ]
     },
     "execution_count": 172,
     "metadata": {},
     "output_type": "execute_result"
    },
    {
     "data": {
      "image/png": "[encoded data removed]",
      "text/plain": [
       "<Figure size 432x288 with 1 Axes>"
      ]
     },
     "metadata": {
      "needs_background": "light"
     },
     "output_type": "display_data"
    }
   ],
   "source": [
    "# Variant count only:\n",
    "fpr_varcnt, tpr_varcnt, thresholds = roc_curve(evidence_count.positive_control, evidence_count.evidence_count)\n",
    "auc_varcnt = roc_auc_score(evidence_count.positive_control, evidence_count.evidence_count)\n",
    "\n",
    "# Weighted consequences:\n",
    "fpr_cons_weight, tpr_cons_weight, thresholds = roc_curve(consequence_weighted.positive_control, consequence_weighted.consequence_weighted)\n",
    "auc_cons_weight = roc_auc_score(consequence_weighted.positive_control, consequence_weighted.consequence_weighted)\n",
    "\n",
    "# Weighted review status:\n",
    "fpr_review_stat, tpr_review_stat, thresholds = roc_curve(review_status_weighted.positive_control, review_status_weighted.review_status_weighted)\n",
    "auc_review_stat = roc_auc_score(review_status_weighted.positive_control, review_status_weighted.review_status_weighted)\n",
    "\n",
    "# Weighted clinical significance:\n",
    "fpr_clin_sig, tpr_clin_sig, thresholds = roc_curve(clinical_significance_weighted.positive_control, clinical_significance_weighted.clinical_significance_weighted)\n",
    "auc_clin_sig = roc_auc_score(clinical_significance_weighted.positive_control, clinical_significance_weighted.clinical_significance_weighted)\n",
    "\n",
    "\n",
    "# Draw baseline:\n",
    "pyplot.plot([x/100 for x in range(1,100,1)], [x/100 for x in range(1,100,1)], linestyle='--', label=f'baseline')\n",
    "\n",
    "# Calculated curves:\n",
    "pyplot.plot(fpr_varcnt, tpr_varcnt, marker='.', markersize = 1, label=f'Evidence count ({auc_varcnt:.2})') # variant count\n",
    "pyplot.plot(fpr_cons_weight, tpr_cons_weight, marker='.', markersize = 1, label=f'Weighted consequence ({auc_cons_weight:.2})') # weighted consequence\n",
    "pyplot.plot(fpr_review_stat, tpr_review_stat, marker='.', markersize = 1, label=f'Weighted review status ({auc_review_stat:.2})') # weighted consequence\n",
    "pyplot.plot(fpr_clin_sig, tpr_clin_sig, marker='.', markersize = 1, label=f'Weighted clinical significance ({auc_clin_sig:.2})') # weighted consequence\n",
    "\n",
    "\n",
    "# axis labels\n",
    "pyplot.xlabel('False Positive Rate')\n",
    "pyplot.ylabel('True Positive Rate')\n",
    "\n",
    "# Add legend:\n",
    "pyplot.legend()"
   ]
  },
  {
   "cell_type": "code",
   "execution_count": 173,
   "metadata": {
    "ExecuteTime": {
     "end_time": "2020-10-26T15:00:16.826829Z",
     "start_time": "2020-10-26T15:00:16.081748Z"
    }
   },
   "outputs": [
    {
     "data": {
      "text/plain": [
       "<matplotlib.legend.Legend at 0x7fe49631cf98>"
      ]
     },
     "execution_count": 173,
     "metadata": {},
     "output_type": "execute_result"
    },
    {
     "data": {
      "image/png": "[encoded data removed]",
      "text/plain": [
       "<Figure size 432x288 with 1 Axes>"
      ]
     },
     "metadata": {
      "needs_background": "light"
     },
     "output_type": "display_data"
    }
   ],
   "source": [
    "# Weighted consequences:\n",
    "fpr_cons_weight, tpr_cons_weight, thresholds = roc_curve(simplified_evid.poscon, simplified_evid.consequence_weighted)\n",
    "auc_cons_weight = roc_auc_score(simplified_evid.poscon, simplified_evid.consequence_weighted)\n",
    "\n",
    "# Weighted review status:\n",
    "fpr_rev, tpr_rev, thresholds = roc_curve(simplified_evid.poscon, simplified_evid.review_weighted)\n",
    "auc_rev = roc_auc_score(simplified_evid.poscon, simplified_evid.review_weighted)\n",
    "\n",
    "\n",
    "# Weighted clinical significance:\n",
    "fpr_clin_sig, tpr_clin_sig, thresholds = roc_curve(simplified_evid.poscon, simplified_evid.clinical_significance_weighted)\n",
    "auc_clin_sig = roc_auc_score(simplified_evid.poscon, simplified_evid.clinical_significance_weighted)\n",
    "\n",
    "# Draw baseline:\n",
    "pyplot.plot([x/100 for x in range(1,100,1)], [x/100 for x in range(1,100,1)], linestyle='--', label=f'baseline')\n",
    "\n",
    "# Calculated curves:\n",
    "pyplot.plot(fpr_cons_weight, tpr_cons_weight, marker='.', markersize = 1, label=f'Weighted consequence ({auc_cons_weight:.2})') # weighted consequence\n",
    "pyplot.plot(fpr_rev, tpr_rev, marker='.', markersize = 1, label=f'Weighted review status ({auc_rev:.2})') # weighted consequence\n",
    "pyplot.plot(fpr_clin_sig, tpr_clin_sig, marker='.', markersize = 1, label=f'clinical_significance_weighted ({auc_clin_sig:.2})') # weighted consequence\n",
    "\n",
    "\n",
    "# axis labels\n",
    "pyplot.xlabel('False Positive Rate')\n",
    "pyplot.ylabel('True Positive Rate')\n",
    "\n",
    "# Add legend:\n",
    "\n",
    "pyplot.legend()"
   ]
  },
  {
   "cell_type": "markdown",
   "metadata": {},
   "source": [
    "## 2. Optimize clinical significance weights"
   ]
  },
  {
   "cell_type": "code",
   "execution_count": 202,
   "metadata": {
    "ExecuteTime": {
     "end_time": "2020-10-26T15:18:44.055248Z",
     "start_time": "2020-10-26T15:18:37.185243Z"
    }
   },
   "outputs": [
    {
     "data": {
      "text/html": [
       "<div>\n",
       "<style scoped>\n",
       "    .dataframe tbody tr th:only-of-type {\n",
       "        vertical-align: middle;\n",
       "    }\n",
       "\n",
       "    .dataframe tbody tr th {\n",
       "        vertical-align: top;\n",
       "    }\n",
       "\n",
       "    .dataframe thead th {\n",
       "        text-align: right;\n",
       "    }\n",
       "</style>\n",
       "<table border=\"1\" class=\"dataframe\">\n",
       "  <thead>\n",
       "    <tr style=\"text-align: right;\">\n",
       "      <th></th>\n",
       "      <th>target</th>\n",
       "      <th>disease</th>\n",
       "      <th>poscon</th>\n",
       "      <th>clinical_significance</th>\n",
       "      <th>clin_sig_affects</th>\n",
       "      <th>clin_sig_association</th>\n",
       "      <th>clin_sig_association not found</th>\n",
       "      <th>clin_sig_benign</th>\n",
       "      <th>clin_sig_conflicting interpretations of pathogenicity</th>\n",
       "      <th>clin_sig_drug response</th>\n",
       "      <th>clin_sig_likely benign</th>\n",
       "      <th>clin_sig_likely pathogenic</th>\n",
       "      <th>clin_sig_not provided</th>\n",
       "      <th>clin_sig_other</th>\n",
       "      <th>clin_sig_pathogenic</th>\n",
       "      <th>clin_sig_protective</th>\n",
       "      <th>clin_sig_risk factor</th>\n",
       "      <th>clin_sig_uncertain significance</th>\n",
       "    </tr>\n",
       "  </thead>\n",
       "  <tbody>\n",
       "    <tr>\n",
       "      <th>150</th>\n",
       "      <td>ENSG00000110711</td>\n",
       "      <td>EFO_1000478</td>\n",
       "      <td>False</td>\n",
       "      <td>[likely pathogenic, pathogenic]</td>\n",
       "      <td>0</td>\n",
       "      <td>0</td>\n",
       "      <td>0</td>\n",
       "      <td>0</td>\n",
       "      <td>0</td>\n",
       "      <td>0</td>\n",
       "      <td>0</td>\n",
       "      <td>1</td>\n",
       "      <td>0</td>\n",
       "      <td>0</td>\n",
       "      <td>1</td>\n",
       "      <td>0</td>\n",
       "      <td>0</td>\n",
       "      <td>0</td>\n",
       "    </tr>\n",
       "    <tr>\n",
       "      <th>151</th>\n",
       "      <td>ENSG00000110711</td>\n",
       "      <td>EFO_1000478</td>\n",
       "      <td>False</td>\n",
       "      <td>[likely pathogenic, pathogenic]</td>\n",
       "      <td>0</td>\n",
       "      <td>0</td>\n",
       "      <td>0</td>\n",
       "      <td>0</td>\n",
       "      <td>0</td>\n",
       "      <td>0</td>\n",
       "      <td>0</td>\n",
       "      <td>1</td>\n",
       "      <td>0</td>\n",
       "      <td>0</td>\n",
       "      <td>1</td>\n",
       "      <td>0</td>\n",
       "      <td>0</td>\n",
       "      <td>0</td>\n",
       "    </tr>\n",
       "    <tr>\n",
       "      <th>1633</th>\n",
       "      <td>ENSG00000119899</td>\n",
       "      <td>Orphanet_309334</td>\n",
       "      <td>False</td>\n",
       "      <td>[likely pathogenic, pathogenic]</td>\n",
       "      <td>0</td>\n",
       "      <td>0</td>\n",
       "      <td>0</td>\n",
       "      <td>0</td>\n",
       "      <td>0</td>\n",
       "      <td>0</td>\n",
       "      <td>0</td>\n",
       "      <td>1</td>\n",
       "      <td>0</td>\n",
       "      <td>0</td>\n",
       "      <td>1</td>\n",
       "      <td>0</td>\n",
       "      <td>0</td>\n",
       "      <td>0</td>\n",
       "    </tr>\n",
       "    <tr>\n",
       "      <th>2084</th>\n",
       "      <td>ENSG00000156709</td>\n",
       "      <td>Orphanet_139583</td>\n",
       "      <td>False</td>\n",
       "      <td>[likely pathogenic, pathogenic]</td>\n",
       "      <td>0</td>\n",
       "      <td>0</td>\n",
       "      <td>0</td>\n",
       "      <td>0</td>\n",
       "      <td>0</td>\n",
       "      <td>0</td>\n",
       "      <td>0</td>\n",
       "      <td>1</td>\n",
       "      <td>0</td>\n",
       "      <td>0</td>\n",
       "      <td>1</td>\n",
       "      <td>0</td>\n",
       "      <td>0</td>\n",
       "      <td>0</td>\n",
       "    </tr>\n",
       "    <tr>\n",
       "      <th>2085</th>\n",
       "      <td>ENSG00000156709</td>\n",
       "      <td>Orphanet_139583</td>\n",
       "      <td>False</td>\n",
       "      <td>[likely pathogenic, pathogenic]</td>\n",
       "      <td>0</td>\n",
       "      <td>0</td>\n",
       "      <td>0</td>\n",
       "      <td>0</td>\n",
       "      <td>0</td>\n",
       "      <td>0</td>\n",
       "      <td>0</td>\n",
       "      <td>1</td>\n",
       "      <td>0</td>\n",
       "      <td>0</td>\n",
       "      <td>1</td>\n",
       "      <td>0</td>\n",
       "      <td>0</td>\n",
       "      <td>0</td>\n",
       "    </tr>\n",
       "  </tbody>\n",
       "</table>\n",
       "</div>"
      ],
      "text/plain": [
       "               target          disease  poscon  \\\n",
       "150   ENSG00000110711      EFO_1000478   False   \n",
       "151   ENSG00000110711      EFO_1000478   False   \n",
       "1633  ENSG00000119899  Orphanet_309334   False   \n",
       "2084  ENSG00000156709  Orphanet_139583   False   \n",
       "2085  ENSG00000156709  Orphanet_139583   False   \n",
       "\n",
       "                clinical_significance  clin_sig_affects  clin_sig_association  \\\n",
       "150   [likely pathogenic, pathogenic]                 0                     0   \n",
       "151   [likely pathogenic, pathogenic]                 0                     0   \n",
       "1633  [likely pathogenic, pathogenic]                 0                     0   \n",
       "2084  [likely pathogenic, pathogenic]                 0                     0   \n",
       "2085  [likely pathogenic, pathogenic]                 0                     0   \n",
       "\n",
       "      clin_sig_association not found  clin_sig_benign  \\\n",
       "150                                0                0   \n",
       "151                                0                0   \n",
       "1633                               0                0   \n",
       "2084                               0                0   \n",
       "2085                               0                0   \n",
       "\n",
       "      clin_sig_conflicting interpretations of pathogenicity  \\\n",
       "150                                                   0       \n",
       "151                                                   0       \n",
       "1633                                                  0       \n",
       "2084                                                  0       \n",
       "2085                                                  0       \n",
       "\n",
       "      clin_sig_drug response  clin_sig_likely benign  \\\n",
       "150                        0                       0   \n",
       "151                        0                       0   \n",
       "1633                       0                       0   \n",
       "2084                       0                       0   \n",
       "2085                       0                       0   \n",
       "\n",
       "      clin_sig_likely pathogenic  clin_sig_not provided  clin_sig_other  \\\n",
       "150                            1                      0               0   \n",
       "151                            1                      0               0   \n",
       "1633                           1                      0               0   \n",
       "2084                           1                      0               0   \n",
       "2085                           1                      0               0   \n",
       "\n",
       "      clin_sig_pathogenic  clin_sig_protective  clin_sig_risk factor  \\\n",
       "150                     1                    0                     0   \n",
       "151                     1                    0                     0   \n",
       "1633                    1                    0                     0   \n",
       "2084                    1                    0                     0   \n",
       "2085                    1                    0                     0   \n",
       "\n",
       "      clin_sig_uncertain significance  \n",
       "150                                 0  \n",
       "151                                 0  \n",
       "1633                                0  \n",
       "2084                                0  \n",
       "2085                                0  "
      ]
     },
     "execution_count": 202,
     "metadata": {},
     "output_type": "execute_result"
    }
   ],
   "source": [
    "# Get unique clinical significance values:\n",
    "clin_sig = eva_poscon_merge[['target','disease','poscon','clinical_significance']].copy()\n",
    "clin_sig['clinical_signif'] = clin_sig.clinical_significance.apply(lambda x: x[0] if len(x) == 1 else None)\n",
    "\n",
    "# Generate dummy features from clinical significance values:\n",
    "clin_sig = pd.get_dummies(clin_sig, prefix='clin_sig', columns=['clinical_signif'])\n",
    "\n",
    "# Update dummy columns were more then one clinical significance value is available:\n",
    "for i, row in clin_sig.loc[clin_sig.clinical_significance.apply(lambda x: True if len(x)>1 else False)].iterrows():\n",
    "    for sig_val in row['clinical_significance']:\n",
    "        clin_sig.loc[i,f'clin_sig_{sig_val}'] = 1\n",
    "        \n",
    "        \n",
    "clin_sig.loc[clin_sig.clinical_significance.apply(lambda x: True if len(x)>1 else False)].head()"
   ]
  },
  {
   "cell_type": "code",
   "execution_count": 204,
   "metadata": {
    "ExecuteTime": {
     "end_time": "2020-10-26T15:19:12.577656Z",
     "start_time": "2020-10-26T15:18:56.568850Z"
    }
   },
   "outputs": [
    {
     "name": "stdout",
     "output_type": "stream",
     "text": [
      "Extract weights...\n",
      "clin_sig_affects                                         0.002393\n",
      "clin_sig_association                                     0.000809\n",
      "clin_sig_association not found                           0.000057\n",
      "clin_sig_benign                                          0.096594\n",
      "clin_sig_conflicting interpretations of pathogenicity    0.006570\n",
      "clin_sig_drug response                                   0.002241\n",
      "clin_sig_likely benign                                   0.031695\n",
      "clin_sig_likely pathogenic                               0.635208\n",
      "clin_sig_not provided                                    0.020524\n",
      "clin_sig_other                                           0.026147\n",
      "clin_sig_pathogenic                                      0.064453\n",
      "clin_sig_protective                                      0.007841\n",
      "clin_sig_risk factor                                     0.026260\n",
      "clin_sig_uncertain significance                          0.079207\n",
      "dtype: float64\n"
     ]
    }
   ],
   "source": [
    "# Build classifier:\n",
    "rf = RandomForestClassifier()\n",
    "columns = [x for x in clin_sig.columns if 'clin_sig_' in x]\n",
    "rf.fit(clin_sig[columns],clin_sig.poscon)  \n",
    "\n",
    "# Extracting weight:\n",
    "print('Extract weights...')\n",
    "weight_series = pd.Series(rf.feature_importances_, index=columns)\n",
    "print(weight_series)\n",
    "\n"
   ]
  },
  {
   "cell_type": "code",
   "execution_count": 205,
   "metadata": {
    "ExecuteTime": {
     "end_time": "2020-10-26T15:19:32.229062Z",
     "start_time": "2020-10-26T15:19:26.482394Z"
    }
   },
   "outputs": [],
   "source": [
    "# Updating all values with weights:\n",
    "for col,weight in weight_series.iteritems():\n",
    "    clin_sig[col] = clin_sig[col]*weight\n",
    "    \n",
    "clin_sig['weighted_clin_sig'] = clin_sig[columns].apply(max, axis=1)"
   ]
  },
  {
   "cell_type": "code",
   "execution_count": 206,
   "metadata": {
    "ExecuteTime": {
     "end_time": "2020-10-26T15:20:01.988065Z",
     "start_time": "2020-10-26T15:20:00.473254Z"
    }
   },
   "outputs": [
    {
     "data": {
      "text/html": [
       "<div>\n",
       "<style scoped>\n",
       "    .dataframe tbody tr th:only-of-type {\n",
       "        vertical-align: middle;\n",
       "    }\n",
       "\n",
       "    .dataframe tbody tr th {\n",
       "        vertical-align: top;\n",
       "    }\n",
       "\n",
       "    .dataframe thead th {\n",
       "        text-align: right;\n",
       "    }\n",
       "</style>\n",
       "<table border=\"1\" class=\"dataframe\">\n",
       "  <thead>\n",
       "    <tr style=\"text-align: right;\">\n",
       "      <th></th>\n",
       "      <th></th>\n",
       "      <th>clin_sig</th>\n",
       "      <th>positive_control</th>\n",
       "    </tr>\n",
       "    <tr>\n",
       "      <th>disease</th>\n",
       "      <th>target</th>\n",
       "      <th></th>\n",
       "      <th></th>\n",
       "    </tr>\n",
       "  </thead>\n",
       "  <tbody>\n",
       "    <tr>\n",
       "      <th rowspan=\"5\" valign=\"top\">EFO_0000095</th>\n",
       "      <th>ENSG00000010671</th>\n",
       "      <td>0.020524</td>\n",
       "      <td>True</td>\n",
       "    </tr>\n",
       "    <tr>\n",
       "      <th>ENSG00000082898</th>\n",
       "      <td>1.164549</td>\n",
       "      <td>True</td>\n",
       "    </tr>\n",
       "    <tr>\n",
       "      <th>ENSG00000087365</th>\n",
       "      <td>0.952813</td>\n",
       "      <td>False</td>\n",
       "    </tr>\n",
       "    <tr>\n",
       "      <th>ENSG00000109670</th>\n",
       "      <td>1.860505</td>\n",
       "      <td>False</td>\n",
       "    </tr>\n",
       "    <tr>\n",
       "      <th>ENSG00000115524</th>\n",
       "      <td>1.556261</td>\n",
       "      <td>True</td>\n",
       "    </tr>\n",
       "  </tbody>\n",
       "</table>\n",
       "</div>"
      ],
      "text/plain": [
       "                             clin_sig  positive_control\n",
       "disease     target                                     \n",
       "EFO_0000095 ENSG00000010671  0.020524              True\n",
       "            ENSG00000082898  1.164549              True\n",
       "            ENSG00000087365  0.952813             False\n",
       "            ENSG00000109670  1.860505             False\n",
       "            ENSG00000115524  1.556261              True"
      ]
     },
     "execution_count": 206,
     "metadata": {},
     "output_type": "execute_result"
    }
   ],
   "source": [
    "# Grouping eva dataframe by disease and target and get the length for each group\n",
    "weighted_clin_sig = clin_sig.groupby(['disease','target']).weighted_clin_sig.agg(harmonic_sum)\n",
    "weighted_clin_sig.name = 'clin_sig'\n",
    "\n",
    "# Grouping eva dataframe to get disease/target positive control list:\n",
    "poscon = clin_sig.groupby(['disease','target', 'poscon']).poscon.agg(any).droplevel(2)\n",
    "poscon.name = 'positive_control'\n",
    "\n",
    "# Merge two lists together:\n",
    "weighted_clin_sig = pd.concat([weighted_clin_sig,poscon], axis=1)\n",
    "weighted_clin_sig.head()"
   ]
  },
  {
   "cell_type": "code",
   "execution_count": 208,
   "metadata": {
    "ExecuteTime": {
     "end_time": "2020-10-26T15:22:48.567282Z",
     "start_time": "2020-10-26T15:22:48.344791Z"
    }
   },
   "outputs": [
    {
     "data": {
      "text/plain": [
       "<matplotlib.legend.Legend at 0x7fe495173630>"
      ]
     },
     "execution_count": 208,
     "metadata": {},
     "output_type": "execute_result"
    },
    {
     "data": {
      "image/png": "[encoded data removed]",
      "text/plain": [
       "<Figure size 432x288 with 1 Axes>"
      ]
     },
     "metadata": {
      "needs_background": "light"
     },
     "output_type": "display_data"
    }
   ],
   "source": [
    "# Variant count only:\n",
    "fpr_varcnt, tpr_varcnt, thresholds = roc_curve(evidence_count.positive_control, evidence_count.evidence_count)\n",
    "auc_varcnt = roc_auc_score(evidence_count.positive_control, evidence_count.evidence_count)\n",
    "\n",
    "# Weighted consequences:\n",
    "fpr_cons_weight, tpr_cons_weight, thresholds = roc_curve(consequence_weighted.positive_control, consequence_weighted.consequence_weighted)\n",
    "auc_cons_weight = roc_auc_score(consequence_weighted.positive_control, consequence_weighted.consequence_weighted)\n",
    "\n",
    "# Weighted clinical significance:\n",
    "fpr_clin_sig, tpr_clin_sig, thresholds = roc_curve(clinical_significance_weighted.positive_control, clinical_significance_weighted.clinical_significance_weighted)\n",
    "auc_clin_sig = roc_auc_score(clinical_significance_weighted.positive_control, clinical_significance_weighted.clinical_significance_weighted)\n",
    "\n",
    "# optimized clinical significance:\n",
    "fpr_clin_opt, tpr_clin_opt, thresholds = roc_curve(weighted_clin_sig.positive_control, weighted_clin_sig.clin_sig)\n",
    "auc_clin_opt = roc_auc_score(weighted_clin_sig.positive_control, weighted_clin_sig.clin_sig)\n",
    "\n",
    "\n",
    "# Draw baseline:\n",
    "pyplot.plot([x/100 for x in range(1,100,1)], [x/100 for x in range(1,100,1)], linestyle='--', label=f'baseline')\n",
    "\n",
    "# Calculated curves:\n",
    "pyplot.plot(fpr_varcnt, tpr_varcnt, marker='.', markersize = 1, label=f'Evidence count ({auc_varcnt:.2})') # variant count\n",
    "pyplot.plot(fpr_cons_weight, tpr_cons_weight, marker='.', markersize = 1, label=f'Weighted consequence ({auc_cons_weight:.2})') # weighted consequence\n",
    "pyplot.plot(fpr_clin_sig, tpr_clin_sig, marker='.', markersize = 1, label=f'Weighted clinical significance ({auc_clin_sig:.2})') # weighted consequence\n",
    "pyplot.plot(fpr_clin_opt, tpr_clin_opt, marker='.', markersize = 1, label=f'Optimized clinical significance ({auc_clin_opt:.2})') # weighted consequence\n",
    "\n",
    "\n",
    "# axis labels\n",
    "pyplot.xlabel('False Positive Rate')\n",
    "pyplot.ylabel('True Positive Rate')\n",
    "\n",
    "# Add legend:\n",
    "pyplot.legend()"
   ]
  },
  {
   "cell_type": "code",
   "execution_count": 212,
   "metadata": {
    "ExecuteTime": {
     "end_time": "2020-10-26T15:26:00.160100Z",
     "start_time": "2020-10-26T15:25:59.411972Z"
    }
   },
   "outputs": [
    {
     "data": {
      "text/plain": [
       "<matplotlib.legend.Legend at 0x7fe48d1096d8>"
      ]
     },
     "execution_count": 212,
     "metadata": {},
     "output_type": "execute_result"
    },
    {
     "data": {
      "image/png": "[encoded data removed]",
      "text/plain": [
       "<Figure size 432x288 with 1 Axes>"
      ]
     },
     "metadata": {
      "needs_background": "light"
     },
     "output_type": "display_data"
    }
   ],
   "source": [
    "# Weighted consequences:\n",
    "fpr_cons_weight, tpr_cons_weight, thresholds = roc_curve(simplified_evid.poscon, simplified_evid.consequence_weighted)\n",
    "auc_cons_weight = roc_auc_score(simplified_evid.poscon, simplified_evid.consequence_weighted)\n",
    "\n",
    "# Weighted clinical significance:\n",
    "fpr_clin_opt, tpr_clin_opt, thresholds = roc_curve(clin_sig.poscon, clin_sig.weighted_clin_sig)\n",
    "auc_clin_opt = roc_auc_score(clin_sig.poscon, clin_sig.weighted_clin_sig)\n",
    "\n",
    "# Weighted clinical significance:\n",
    "fpr_clin_sig, tpr_clin_sig, thresholds = roc_curve(simplified_evid.poscon, simplified_evid.clinical_significance_weighted)\n",
    "auc_clin_sig = roc_auc_score(simplified_evid.poscon, simplified_evid.clinical_significance_weighted)\n",
    "\n",
    "# Draw baseline:\n",
    "pyplot.plot([x/100 for x in range(1,100,1)], [x/100 for x in range(1,100,1)], linestyle='--', label=f'baseline')\n",
    "\n",
    "# Calculated curves:\n",
    "pyplot.plot(fpr_cons_weight, tpr_cons_weight, marker='.', markersize = 1, label=f'Weighted consequence ({auc_cons_weight:.2})') # weighted consequence\n",
    "pyplot.plot(fpr_clin_opt, tpr_clin_opt, marker='.', markersize = 1, label=f'Optimized clinical significance ({auc_clin_opt:.2})') # weighted consequence\n",
    "pyplot.plot(fpr_clin_sig, tpr_clin_sig, marker='.', markersize = 1, label=f'clinical_significance_weighted ({auc_clin_sig:.2})') # weighted consequence\n",
    "\n",
    "\n",
    "# axis labels\n",
    "pyplot.xlabel('False Positive Rate')\n",
    "pyplot.ylabel('True Positive Rate')\n",
    "\n",
    "# Add legend:\n",
    "\n",
    "pyplot.legend()"
   ]
  },
  {
   "cell_type": "markdown",
   "metadata": {
    "ExecuteTime": {
     "end_time": "2020-10-26T15:25:00.660336Z",
     "start_time": "2020-10-26T15:25:00.641120Z"
    }
   },
   "source": [
    "# Combining all scores - random forest to get weights"
   ]
  },
  {
   "cell_type": "code",
   "execution_count": 224,
   "metadata": {
    "ExecuteTime": {
     "end_time": "2020-10-26T15:47:28.944805Z",
     "start_time": "2020-10-26T15:47:12.487760Z"
    }
   },
   "outputs": [
    {
     "name": "stdout",
     "output_type": "stream",
     "text": [
      "Extract weights...\n",
      "consequence_weighted               0.170692\n",
      "review_weighted                    0.361356\n",
      "clinical_significance_optimized    0.467952\n",
      "dtype: float64\n"
     ]
    }
   ],
   "source": [
    "# Combining into new dataframe:\n",
    "simplified_evid['clinical_significance_optimized'] = clin_sig.weighted_clin_sig\n",
    "\n",
    "# Build classifier:\n",
    "rf = RandomForestClassifier()\n",
    "columns = ['consequence_weighted','review_weighted','clinical_significance_optimized']\n",
    "rf.fit(simplified_evid[columns],simplified_evid.poscon)  \n",
    "\n",
    "# Extracting weight:\n",
    "print('Extract weights...')\n",
    "weight_series = pd.Series(rf.feature_importances_, index=columns)\n",
    "print(weight_series)\n",
    "\n"
   ]
  },
  {
   "cell_type": "code",
   "execution_count": 235,
   "metadata": {
    "ExecuteTime": {
     "end_time": "2020-10-28T13:13:46.862290Z",
     "start_time": "2020-10-28T13:13:38.836741Z"
    }
   },
   "outputs": [
    {
     "ename": "KeyboardInterrupt",
     "evalue": "",
     "output_type": "error",
     "traceback": [
      "\u001b[0;31m---------------------------------------------------------------------------\u001b[0m",
      "\u001b[0;31mKeyboardInterrupt\u001b[0m                         Traceback (most recent call last)",
      "\u001b[0;32m<ipython-input-235-b91fc7a9d265>\u001b[0m in \u001b[0;36m<module>\u001b[0;34m\u001b[0m\n\u001b[1;32m      8\u001b[0m \u001b[0;34m\u001b[0m\u001b[0m\n\u001b[1;32m      9\u001b[0m \u001b[0;34m\u001b[0m\u001b[0m\n\u001b[0;32m---> 10\u001b[0;31m \u001b[0msimplified_evid\u001b[0m\u001b[0;34m[\u001b[0m\u001b[0;34m'evidence_score'\u001b[0m\u001b[0;34m]\u001b[0m \u001b[0;34m=\u001b[0m \u001b[0msimplified_evid\u001b[0m\u001b[0;34m.\u001b[0m\u001b[0mapply\u001b[0m\u001b[0;34m(\u001b[0m\u001b[0mcalculate_evidence_score\u001b[0m\u001b[0;34m,\u001b[0m \u001b[0maxis\u001b[0m\u001b[0;34m=\u001b[0m\u001b[0;36m1\u001b[0m\u001b[0;34m)\u001b[0m\u001b[0;34m\u001b[0m\u001b[0;34m\u001b[0m\u001b[0m\n\u001b[0m\u001b[1;32m     11\u001b[0m \u001b[0msimplified_evid\u001b[0m\u001b[0;34m.\u001b[0m\u001b[0mhead\u001b[0m\u001b[0;34m(\u001b[0m\u001b[0;34m)\u001b[0m\u001b[0;34m\u001b[0m\u001b[0;34m\u001b[0m\u001b[0m\n",
      "\u001b[0;32m~/opt/anaconda3/envs/jupyter/lib/python3.6/site-packages/pandas/core/frame.py\u001b[0m in \u001b[0;36mapply\u001b[0;34m(self, func, axis, raw, result_type, args, **kwds)\u001b[0m\n\u001b[1;32m   7539\u001b[0m             \u001b[0mkwds\u001b[0m\u001b[0;34m=\u001b[0m\u001b[0mkwds\u001b[0m\u001b[0;34m,\u001b[0m\u001b[0;34m\u001b[0m\u001b[0;34m\u001b[0m\u001b[0m\n\u001b[1;32m   7540\u001b[0m         )\n\u001b[0;32m-> 7541\u001b[0;31m         \u001b[0;32mreturn\u001b[0m \u001b[0mop\u001b[0m\u001b[0;34m.\u001b[0m\u001b[0mget_result\u001b[0m\u001b[0;34m(\u001b[0m\u001b[0;34m)\u001b[0m\u001b[0;34m\u001b[0m\u001b[0;34m\u001b[0m\u001b[0m\n\u001b[0m\u001b[1;32m   7542\u001b[0m \u001b[0;34m\u001b[0m\u001b[0m\n\u001b[1;32m   7543\u001b[0m     \u001b[0;32mdef\u001b[0m \u001b[0mapplymap\u001b[0m\u001b[0;34m(\u001b[0m\u001b[0mself\u001b[0m\u001b[0;34m,\u001b[0m \u001b[0mfunc\u001b[0m\u001b[0;34m)\u001b[0m \u001b[0;34m->\u001b[0m \u001b[0;34m\"DataFrame\"\u001b[0m\u001b[0;34m:\u001b[0m\u001b[0;34m\u001b[0m\u001b[0;34m\u001b[0m\u001b[0m\n",
      "\u001b[0;32m~/opt/anaconda3/envs/jupyter/lib/python3.6/site-packages/pandas/core/apply.py\u001b[0m in \u001b[0;36mget_result\u001b[0;34m(self)\u001b[0m\n\u001b[1;32m    178\u001b[0m             \u001b[0;32mreturn\u001b[0m \u001b[0mself\u001b[0m\u001b[0;34m.\u001b[0m\u001b[0mapply_raw\u001b[0m\u001b[0;34m(\u001b[0m\u001b[0;34m)\u001b[0m\u001b[0;34m\u001b[0m\u001b[0;34m\u001b[0m\u001b[0m\n\u001b[1;32m    179\u001b[0m \u001b[0;34m\u001b[0m\u001b[0m\n\u001b[0;32m--> 180\u001b[0;31m         \u001b[0;32mreturn\u001b[0m \u001b[0mself\u001b[0m\u001b[0;34m.\u001b[0m\u001b[0mapply_standard\u001b[0m\u001b[0;34m(\u001b[0m\u001b[0;34m)\u001b[0m\u001b[0;34m\u001b[0m\u001b[0;34m\u001b[0m\u001b[0m\n\u001b[0m\u001b[1;32m    181\u001b[0m \u001b[0;34m\u001b[0m\u001b[0m\n\u001b[1;32m    182\u001b[0m     \u001b[0;32mdef\u001b[0m \u001b[0mapply_empty_result\u001b[0m\u001b[0;34m(\u001b[0m\u001b[0mself\u001b[0m\u001b[0;34m)\u001b[0m\u001b[0;34m:\u001b[0m\u001b[0;34m\u001b[0m\u001b[0;34m\u001b[0m\u001b[0m\n",
      "\u001b[0;32m~/opt/anaconda3/envs/jupyter/lib/python3.6/site-packages/pandas/core/apply.py\u001b[0m in \u001b[0;36mapply_standard\u001b[0;34m(self)\u001b[0m\n\u001b[1;32m    253\u001b[0m \u001b[0;34m\u001b[0m\u001b[0m\n\u001b[1;32m    254\u001b[0m     \u001b[0;32mdef\u001b[0m \u001b[0mapply_standard\u001b[0m\u001b[0;34m(\u001b[0m\u001b[0mself\u001b[0m\u001b[0;34m)\u001b[0m\u001b[0;34m:\u001b[0m\u001b[0;34m\u001b[0m\u001b[0;34m\u001b[0m\u001b[0m\n\u001b[0;32m--> 255\u001b[0;31m         \u001b[0mresults\u001b[0m\u001b[0;34m,\u001b[0m \u001b[0mres_index\u001b[0m \u001b[0;34m=\u001b[0m \u001b[0mself\u001b[0m\u001b[0;34m.\u001b[0m\u001b[0mapply_series_generator\u001b[0m\u001b[0;34m(\u001b[0m\u001b[0;34m)\u001b[0m\u001b[0;34m\u001b[0m\u001b[0;34m\u001b[0m\u001b[0m\n\u001b[0m\u001b[1;32m    256\u001b[0m \u001b[0;34m\u001b[0m\u001b[0m\n\u001b[1;32m    257\u001b[0m         \u001b[0;31m# wrap results\u001b[0m\u001b[0;34m\u001b[0m\u001b[0;34m\u001b[0m\u001b[0;34m\u001b[0m\u001b[0m\n",
      "\u001b[0;32m~/opt/anaconda3/envs/jupyter/lib/python3.6/site-packages/pandas/core/apply.py\u001b[0m in \u001b[0;36mapply_series_generator\u001b[0;34m(self)\u001b[0m\n\u001b[1;32m    282\u001b[0m                 \u001b[0;32mfor\u001b[0m \u001b[0mi\u001b[0m\u001b[0;34m,\u001b[0m \u001b[0mv\u001b[0m \u001b[0;32min\u001b[0m \u001b[0menumerate\u001b[0m\u001b[0;34m(\u001b[0m\u001b[0mseries_gen\u001b[0m\u001b[0;34m)\u001b[0m\u001b[0;34m:\u001b[0m\u001b[0;34m\u001b[0m\u001b[0;34m\u001b[0m\u001b[0m\n\u001b[1;32m    283\u001b[0m                     \u001b[0;31m# ignore SettingWithCopy here in case the user mutates\u001b[0m\u001b[0;34m\u001b[0m\u001b[0;34m\u001b[0m\u001b[0;34m\u001b[0m\u001b[0m\n\u001b[0;32m--> 284\u001b[0;31m                     \u001b[0mresults\u001b[0m\u001b[0;34m[\u001b[0m\u001b[0mi\u001b[0m\u001b[0;34m]\u001b[0m \u001b[0;34m=\u001b[0m \u001b[0mself\u001b[0m\u001b[0;34m.\u001b[0m\u001b[0mf\u001b[0m\u001b[0;34m(\u001b[0m\u001b[0mv\u001b[0m\u001b[0;34m)\u001b[0m\u001b[0;34m\u001b[0m\u001b[0;34m\u001b[0m\u001b[0m\n\u001b[0m\u001b[1;32m    285\u001b[0m                     \u001b[0;32mif\u001b[0m \u001b[0misinstance\u001b[0m\u001b[0;34m(\u001b[0m\u001b[0mresults\u001b[0m\u001b[0;34m[\u001b[0m\u001b[0mi\u001b[0m\u001b[0;34m]\u001b[0m\u001b[0;34m,\u001b[0m \u001b[0mABCSeries\u001b[0m\u001b[0;34m)\u001b[0m\u001b[0;34m:\u001b[0m\u001b[0;34m\u001b[0m\u001b[0;34m\u001b[0m\u001b[0m\n\u001b[1;32m    286\u001b[0m                         \u001b[0;31m# If we have a view on v, we need to make a copy because\u001b[0m\u001b[0;34m\u001b[0m\u001b[0;34m\u001b[0m\u001b[0;34m\u001b[0m\u001b[0m\n",
      "\u001b[0;32m<ipython-input-235-b91fc7a9d265>\u001b[0m in \u001b[0;36mcalculate_evidence_score\u001b[0;34m(row)\u001b[0m\n\u001b[1;32m      3\u001b[0m     \u001b[0mscore\u001b[0m \u001b[0;34m=\u001b[0m \u001b[0;36m0\u001b[0m\u001b[0;34m\u001b[0m\u001b[0;34m\u001b[0m\u001b[0m\n\u001b[1;32m      4\u001b[0m     \u001b[0;32mfor\u001b[0m \u001b[0mcol\u001b[0m \u001b[0;32min\u001b[0m \u001b[0mcolumns\u001b[0m\u001b[0;34m:\u001b[0m\u001b[0;34m\u001b[0m\u001b[0;34m\u001b[0m\u001b[0m\n\u001b[0;32m----> 5\u001b[0;31m         \u001b[0mscore\u001b[0m \u001b[0;34m+=\u001b[0m \u001b[0mrow\u001b[0m\u001b[0;34m[\u001b[0m\u001b[0mcol\u001b[0m\u001b[0;34m]\u001b[0m\u001b[0;34m*\u001b[0m\u001b[0mweight_series\u001b[0m\u001b[0;34m[\u001b[0m\u001b[0mcol\u001b[0m\u001b[0;34m]\u001b[0m\u001b[0;34m\u001b[0m\u001b[0;34m\u001b[0m\u001b[0m\n\u001b[0m\u001b[1;32m      6\u001b[0m \u001b[0;34m\u001b[0m\u001b[0m\n\u001b[1;32m      7\u001b[0m     \u001b[0;32mreturn\u001b[0m \u001b[0mscore\u001b[0m\u001b[0;34m\u001b[0m\u001b[0;34m\u001b[0m\u001b[0m\n",
      "\u001b[0;32m~/opt/anaconda3/envs/jupyter/lib/python3.6/site-packages/pandas/core/series.py\u001b[0m in \u001b[0;36m__getitem__\u001b[0;34m(self, key)\u001b[0m\n\u001b[1;32m    873\u001b[0m \u001b[0;34m\u001b[0m\u001b[0m\n\u001b[1;32m    874\u001b[0m         \u001b[0mkey_is_scalar\u001b[0m \u001b[0;34m=\u001b[0m \u001b[0mis_scalar\u001b[0m\u001b[0;34m(\u001b[0m\u001b[0mkey\u001b[0m\u001b[0;34m)\u001b[0m\u001b[0;34m\u001b[0m\u001b[0;34m\u001b[0m\u001b[0m\n\u001b[0;32m--> 875\u001b[0;31m         \u001b[0;32mif\u001b[0m \u001b[0misinstance\u001b[0m\u001b[0;34m(\u001b[0m\u001b[0mkey\u001b[0m\u001b[0;34m,\u001b[0m \u001b[0;34m(\u001b[0m\u001b[0mlist\u001b[0m\u001b[0;34m,\u001b[0m \u001b[0mtuple\u001b[0m\u001b[0;34m)\u001b[0m\u001b[0;34m)\u001b[0m\u001b[0;34m:\u001b[0m\u001b[0;34m\u001b[0m\u001b[0;34m\u001b[0m\u001b[0m\n\u001b[0m\u001b[1;32m    876\u001b[0m             \u001b[0mkey\u001b[0m \u001b[0;34m=\u001b[0m \u001b[0munpack_1tuple\u001b[0m\u001b[0;34m(\u001b[0m\u001b[0mkey\u001b[0m\u001b[0;34m)\u001b[0m\u001b[0;34m\u001b[0m\u001b[0;34m\u001b[0m\u001b[0m\n\u001b[1;32m    877\u001b[0m \u001b[0;34m\u001b[0m\u001b[0m\n",
      "\u001b[0;31mKeyboardInterrupt\u001b[0m: "
     ]
    }
   ],
   "source": [
    "# Generate evidence score:\n",
    "def calculate_evidence_score(row):\n",
    "    score = 0\n",
    "    for col in columns:\n",
    "        score += row[col]*weight_series[col]\n",
    "        \n",
    "    return score\n",
    "\n",
    "\n",
    "simplified_evid['evidence_score'] = simplified_evid.apply(calculate_evidence_score, axis=1)\n",
    "simplified_evid.head()"
   ]
  },
  {
   "cell_type": "code",
   "execution_count": 226,
   "metadata": {
    "ExecuteTime": {
     "end_time": "2020-10-26T15:54:40.942860Z",
     "start_time": "2020-10-26T15:54:39.299554Z"
    }
   },
   "outputs": [
    {
     "data": {
      "text/plain": [
       "disease      target         \n",
       "EFO_0000095  ENSG00000010671    0.180711\n",
       "             ENSG00000082898    0.953289\n",
       "             ENSG00000087365    0.779964\n",
       "             ENSG00000109670    1.522993\n",
       "             ENSG00000115524    1.273941\n",
       "Name: combined_scores, dtype: float64"
      ]
     },
     "execution_count": 226,
     "metadata": {},
     "output_type": "execute_result"
    }
   ],
   "source": [
    "# Grouping eva dataframe by disease and target and get the length for each group\n",
    "combined_scores = simplified_evid.groupby(['disease','target']).combined_score.agg(harmonic_sum)\n",
    "combined_scores.name = 'combined_scores'\n",
    "\n",
    "# Grouping eva dataframe to get disease/target positive control list:\n",
    "poscon = simplified_evid.groupby(['disease','target', 'poscon']).poscon.agg(any).droplevel(2)\n",
    "poscon.name = 'positive_control'\n",
    "\n",
    "# Merge two lists together:\n",
    "combined_scores_df = pd.concat([combined_scores,poscon], axis=1)\n",
    "combined_scores.head()"
   ]
  },
  {
   "cell_type": "code",
   "execution_count": 227,
   "metadata": {
    "ExecuteTime": {
     "end_time": "2020-10-26T15:56:01.369931Z",
     "start_time": "2020-10-26T15:56:01.039986Z"
    }
   },
   "outputs": [
    {
     "data": {
      "text/plain": [
       "<matplotlib.legend.Legend at 0x7fe4c16de860>"
      ]
     },
     "execution_count": 227,
     "metadata": {},
     "output_type": "execute_result"
    },
    {
     "data": {
      "image/png": "[encoded data removed]",
      "text/plain": [
       "<Figure size 432x288 with 1 Axes>"
      ]
     },
     "metadata": {
      "needs_background": "light"
     },
     "output_type": "display_data"
    }
   ],
   "source": [
    "# Variant count only:\n",
    "fpr_varcnt, tpr_varcnt, thresholds = roc_curve(evidence_count.positive_control, evidence_count.evidence_count)\n",
    "auc_varcnt = roc_auc_score(evidence_count.positive_control, evidence_count.evidence_count)\n",
    "\n",
    "# Weighted consequences:\n",
    "fpr_cons_weight, tpr_cons_weight, thresholds = roc_curve(consequence_weighted.positive_control, consequence_weighted.consequence_weighted)\n",
    "auc_cons_weight = roc_auc_score(consequence_weighted.positive_control, consequence_weighted.consequence_weighted)\n",
    "\n",
    "# Weighted clinical significance:\n",
    "fpr_clin_sig, tpr_clin_sig, thresholds = roc_curve(clinical_significance_weighted.positive_control, clinical_significance_weighted.clinical_significance_weighted)\n",
    "auc_clin_sig = roc_auc_score(clinical_significance_weighted.positive_control, clinical_significance_weighted.clinical_significance_weighted)\n",
    "\n",
    "# optimized clinical significance:\n",
    "fpr_clin_opt, tpr_clin_opt, thresholds = roc_curve(weighted_clin_sig.positive_control, weighted_clin_sig.clin_sig)\n",
    "auc_clin_opt = roc_auc_score(weighted_clin_sig.positive_control, weighted_clin_sig.clin_sig)\n",
    "\n",
    "# combined scores:\n",
    "fpr_com, tpr_com, thresholds = roc_curve(combined_scores_df.positive_control, combined_scores_df.combined_scores)\n",
    "auc_com = roc_auc_score(combined_scores_df.positive_control, combined_scores_df.combined_scores)\n",
    "\n",
    "\n",
    "# Draw baseline:\n",
    "pyplot.plot([x/100 for x in range(1,100,1)], [x/100 for x in range(1,100,1)], linestyle='--', label=f'baseline')\n",
    "\n",
    "# Calculated curves:\n",
    "pyplot.plot(fpr_varcnt, tpr_varcnt, marker='.', markersize = 1, label=f'Evidence count ({auc_varcnt:.2})') # variant count\n",
    "pyplot.plot(fpr_cons_weight, tpr_cons_weight, marker='.', markersize = 1, label=f'Weighted consequence ({auc_cons_weight:.2})') # weighted consequence\n",
    "pyplot.plot(fpr_clin_sig, tpr_clin_sig, marker='.', markersize = 1, label=f'Weighted clinical significance ({auc_clin_sig:.2})') # weighted consequence\n",
    "pyplot.plot(fpr_clin_opt, tpr_clin_opt, marker='.', markersize = 1, label=f'Optimized clinical significance ({auc_clin_opt:.2})') # weighted consequence\n",
    "pyplot.plot(fpr_com, tpr_com, marker='.', markersize = 1, label=f'combined scores ({auc_com:.2})') # weighted consequence\n",
    "\n",
    "\n",
    "# axis labels\n",
    "pyplot.xlabel('False Positive Rate')\n",
    "pyplot.ylabel('True Positive Rate')\n",
    "\n",
    "# Add legend:\n",
    "pyplot.legend()"
   ]
  },
  {
   "cell_type": "code",
   "execution_count": 229,
   "metadata": {
    "ExecuteTime": {
     "end_time": "2020-10-26T16:58:27.787247Z",
     "start_time": "2020-10-26T16:58:27.774306Z"
    }
   },
   "outputs": [
    {
     "data": {
      "text/html": [
       "<div>\n",
       "<style scoped>\n",
       "    .dataframe tbody tr th:only-of-type {\n",
       "        vertical-align: middle;\n",
       "    }\n",
       "\n",
       "    .dataframe tbody tr th {\n",
       "        vertical-align: top;\n",
       "    }\n",
       "\n",
       "    .dataframe thead th {\n",
       "        text-align: right;\n",
       "    }\n",
       "</style>\n",
       "<table border=\"1\" class=\"dataframe\">\n",
       "  <thead>\n",
       "    <tr style=\"text-align: right;\">\n",
       "      <th></th>\n",
       "      <th>target</th>\n",
       "      <th>disease</th>\n",
       "      <th>consequence</th>\n",
       "      <th>poscon</th>\n",
       "      <th>review_status</th>\n",
       "      <th>consequence_weighted</th>\n",
       "      <th>review_weighted</th>\n",
       "      <th>clinical_significance_weighted</th>\n",
       "      <th>clinical_significance_optimized</th>\n",
       "      <th>combined_score</th>\n",
       "    </tr>\n",
       "  </thead>\n",
       "  <tbody>\n",
       "    <tr>\n",
       "      <th>0</th>\n",
       "      <td>ENSG00000154803</td>\n",
       "      <td>Orphanet_2903</td>\n",
       "      <td>frameshift_variant</td>\n",
       "      <td>False</td>\n",
       "      <td>no assertion criteria provided</td>\n",
       "      <td>0.95</td>\n",
       "      <td>0.285714</td>\n",
       "      <td>1.0</td>\n",
       "      <td>0.064453</td>\n",
       "      <td>0.295563</td>\n",
       "    </tr>\n",
       "    <tr>\n",
       "      <th>1</th>\n",
       "      <td>ENSG00000103197</td>\n",
       "      <td>Orphanet_805</td>\n",
       "      <td>frameshift_variant</td>\n",
       "      <td>False</td>\n",
       "      <td>no assertion provided</td>\n",
       "      <td>0.95</td>\n",
       "      <td>0.142857</td>\n",
       "      <td>0.0</td>\n",
       "      <td>0.020524</td>\n",
       "      <td>0.223384</td>\n",
       "    </tr>\n",
       "    <tr>\n",
       "      <th>2</th>\n",
       "      <td>ENSG00000103197</td>\n",
       "      <td>Orphanet_805</td>\n",
       "      <td>frameshift_variant</td>\n",
       "      <td>False</td>\n",
       "      <td>no assertion provided</td>\n",
       "      <td>0.95</td>\n",
       "      <td>0.142857</td>\n",
       "      <td>0.0</td>\n",
       "      <td>0.020524</td>\n",
       "      <td>0.223384</td>\n",
       "    </tr>\n",
       "    <tr>\n",
       "      <th>3</th>\n",
       "      <td>ENSG00000103197</td>\n",
       "      <td>Orphanet_805</td>\n",
       "      <td>inframe_deletion</td>\n",
       "      <td>False</td>\n",
       "      <td>no assertion provided</td>\n",
       "      <td>0.70</td>\n",
       "      <td>0.142857</td>\n",
       "      <td>0.0</td>\n",
       "      <td>0.020524</td>\n",
       "      <td>0.180711</td>\n",
       "    </tr>\n",
       "    <tr>\n",
       "      <th>4</th>\n",
       "      <td>ENSG00000129422</td>\n",
       "      <td>EFO_0002950</td>\n",
       "      <td>splice_acceptor_variant</td>\n",
       "      <td>False</td>\n",
       "      <td>no assertion provided</td>\n",
       "      <td>0.95</td>\n",
       "      <td>0.142857</td>\n",
       "      <td>0.0</td>\n",
       "      <td>0.020524</td>\n",
       "      <td>0.223384</td>\n",
       "    </tr>\n",
       "  </tbody>\n",
       "</table>\n",
       "</div>"
      ],
      "text/plain": [
       "            target        disease              consequence  poscon  \\\n",
       "0  ENSG00000154803  Orphanet_2903       frameshift_variant   False   \n",
       "1  ENSG00000103197   Orphanet_805       frameshift_variant   False   \n",
       "2  ENSG00000103197   Orphanet_805       frameshift_variant   False   \n",
       "3  ENSG00000103197   Orphanet_805         inframe_deletion   False   \n",
       "4  ENSG00000129422    EFO_0002950  splice_acceptor_variant   False   \n",
       "\n",
       "                    review_status  consequence_weighted  review_weighted  \\\n",
       "0  no assertion criteria provided                  0.95         0.285714   \n",
       "1           no assertion provided                  0.95         0.142857   \n",
       "2           no assertion provided                  0.95         0.142857   \n",
       "3           no assertion provided                  0.70         0.142857   \n",
       "4           no assertion provided                  0.95         0.142857   \n",
       "\n",
       "   clinical_significance_weighted  clinical_significance_optimized  \\\n",
       "0                             1.0                         0.064453   \n",
       "1                             0.0                         0.020524   \n",
       "2                             0.0                         0.020524   \n",
       "3                             0.0                         0.020524   \n",
       "4                             0.0                         0.020524   \n",
       "\n",
       "   combined_score  \n",
       "0        0.295563  \n",
       "1        0.223384  \n",
       "2        0.223384  \n",
       "3        0.180711  \n",
       "4        0.223384  "
      ]
     },
     "execution_count": 229,
     "metadata": {},
     "output_type": "execute_result"
    }
   ],
   "source": [
    "simplified_evid.head()"
   ]
  },
  {
   "cell_type": "code",
   "execution_count": 233,
   "metadata": {
    "ExecuteTime": {
     "end_time": "2020-10-28T09:56:57.661587Z",
     "start_time": "2020-10-28T09:56:57.624144Z"
    }
   },
   "outputs": [
    {
     "data": {
      "text/html": [
       "<div>\n",
       "<style scoped>\n",
       "    .dataframe tbody tr th:only-of-type {\n",
       "        vertical-align: middle;\n",
       "    }\n",
       "\n",
       "    .dataframe tbody tr th {\n",
       "        vertical-align: top;\n",
       "    }\n",
       "\n",
       "    .dataframe thead th {\n",
       "        text-align: right;\n",
       "    }\n",
       "</style>\n",
       "<table border=\"1\" class=\"dataframe\">\n",
       "  <thead>\n",
       "    <tr style=\"text-align: right;\">\n",
       "      <th></th>\n",
       "      <th>type</th>\n",
       "      <th>target</th>\n",
       "      <th>disease</th>\n",
       "      <th>rsid</th>\n",
       "      <th>clinvar_acces</th>\n",
       "      <th>score</th>\n",
       "      <th>star</th>\n",
       "      <th>review_status</th>\n",
       "      <th>clinical_significance</th>\n",
       "      <th>so_code</th>\n",
       "      <th>gene_id</th>\n",
       "      <th>symbol</th>\n",
       "      <th>consequence</th>\n",
       "      <th>efo_id</th>\n",
       "      <th>label</th>\n",
       "      <th>literature</th>\n",
       "      <th>pharmaproject</th>\n",
       "      <th>pharmaproject_approved</th>\n",
       "      <th>poscon</th>\n",
       "    </tr>\n",
       "  </thead>\n",
       "  <tbody>\n",
       "    <tr>\n",
       "      <th>0</th>\n",
       "      <td>genetic_association</td>\n",
       "      <td>ENSG00000154803</td>\n",
       "      <td>Orphanet_2903</td>\n",
       "      <td>rs886037610</td>\n",
       "      <td>RCV000003542</td>\n",
       "      <td>1.000000e-07</td>\n",
       "      <td>0</td>\n",
       "      <td>no assertion criteria provided</td>\n",
       "      <td>[pathogenic]</td>\n",
       "      <td>SO_0001589</td>\n",
       "      <td>ENSG00000154803</td>\n",
       "      <td>FLCN</td>\n",
       "      <td>frameshift_variant</td>\n",
       "      <td>Orphanet_2903</td>\n",
       "      <td>Familial spontaneous pneumothorax</td>\n",
       "      <td>False</td>\n",
       "      <td>False</td>\n",
       "      <td>False</td>\n",
       "      <td>False</td>\n",
       "    </tr>\n",
       "    <tr>\n",
       "      <th>1</th>\n",
       "      <td>genetic_association</td>\n",
       "      <td>ENSG00000103197</td>\n",
       "      <td>Orphanet_805</td>\n",
       "      <td>rs137854012</td>\n",
       "      <td>RCV000042664</td>\n",
       "      <td>1.000000e-07</td>\n",
       "      <td>0</td>\n",
       "      <td>no assertion provided</td>\n",
       "      <td>[not provided]</td>\n",
       "      <td>SO_0001589</td>\n",
       "      <td>ENSG00000103197</td>\n",
       "      <td>TSC2</td>\n",
       "      <td>frameshift_variant</td>\n",
       "      <td>Orphanet_805</td>\n",
       "      <td>Tuberous sclerosis</td>\n",
       "      <td>False</td>\n",
       "      <td>False</td>\n",
       "      <td>False</td>\n",
       "      <td>False</td>\n",
       "    </tr>\n",
       "    <tr>\n",
       "      <th>2</th>\n",
       "      <td>genetic_association</td>\n",
       "      <td>ENSG00000103197</td>\n",
       "      <td>Orphanet_805</td>\n",
       "      <td>rs137854007</td>\n",
       "      <td>RCV000042927</td>\n",
       "      <td>1.000000e-07</td>\n",
       "      <td>0</td>\n",
       "      <td>no assertion provided</td>\n",
       "      <td>[not provided]</td>\n",
       "      <td>SO_0001589</td>\n",
       "      <td>ENSG00000103197</td>\n",
       "      <td>TSC2</td>\n",
       "      <td>frameshift_variant</td>\n",
       "      <td>Orphanet_805</td>\n",
       "      <td>Tuberous sclerosis</td>\n",
       "      <td>False</td>\n",
       "      <td>False</td>\n",
       "      <td>False</td>\n",
       "      <td>False</td>\n",
       "    </tr>\n",
       "    <tr>\n",
       "      <th>3</th>\n",
       "      <td>genetic_association</td>\n",
       "      <td>ENSG00000103197</td>\n",
       "      <td>Orphanet_805</td>\n",
       "      <td>rs397515245</td>\n",
       "      <td>RCV000055557</td>\n",
       "      <td>1.000000e-07</td>\n",
       "      <td>0</td>\n",
       "      <td>no assertion provided</td>\n",
       "      <td>[not provided]</td>\n",
       "      <td>SO_0001822</td>\n",
       "      <td>ENSG00000103197</td>\n",
       "      <td>TSC2</td>\n",
       "      <td>inframe_deletion</td>\n",
       "      <td>Orphanet_805</td>\n",
       "      <td>Tuberous sclerosis</td>\n",
       "      <td>False</td>\n",
       "      <td>False</td>\n",
       "      <td>False</td>\n",
       "      <td>False</td>\n",
       "    </tr>\n",
       "    <tr>\n",
       "      <th>4</th>\n",
       "      <td>genetic_association</td>\n",
       "      <td>ENSG00000129422</td>\n",
       "      <td>EFO_0002950</td>\n",
       "      <td>rs1554507029</td>\n",
       "      <td>RCV000161533</td>\n",
       "      <td>1.000000e-07</td>\n",
       "      <td>0</td>\n",
       "      <td>no assertion provided</td>\n",
       "      <td>[not provided]</td>\n",
       "      <td>SO_0001574</td>\n",
       "      <td>ENSG00000129422</td>\n",
       "      <td>MTUS1</td>\n",
       "      <td>splice_acceptor_variant</td>\n",
       "      <td>EFO_0002950</td>\n",
       "      <td>pregnancy</td>\n",
       "      <td>False</td>\n",
       "      <td>False</td>\n",
       "      <td>False</td>\n",
       "      <td>False</td>\n",
       "    </tr>\n",
       "  </tbody>\n",
       "</table>\n",
       "</div>"
      ],
      "text/plain": [
       "                  type           target        disease          rsid  \\\n",
       "0  genetic_association  ENSG00000154803  Orphanet_2903   rs886037610   \n",
       "1  genetic_association  ENSG00000103197   Orphanet_805   rs137854012   \n",
       "2  genetic_association  ENSG00000103197   Orphanet_805   rs137854007   \n",
       "3  genetic_association  ENSG00000103197   Orphanet_805   rs397515245   \n",
       "4  genetic_association  ENSG00000129422    EFO_0002950  rs1554507029   \n",
       "\n",
       "  clinvar_acces         score  star                   review_status  \\\n",
       "0  RCV000003542  1.000000e-07     0  no assertion criteria provided   \n",
       "1  RCV000042664  1.000000e-07     0           no assertion provided   \n",
       "2  RCV000042927  1.000000e-07     0           no assertion provided   \n",
       "3  RCV000055557  1.000000e-07     0           no assertion provided   \n",
       "4  RCV000161533  1.000000e-07     0           no assertion provided   \n",
       "\n",
       "  clinical_significance     so_code          gene_id symbol  \\\n",
       "0          [pathogenic]  SO_0001589  ENSG00000154803   FLCN   \n",
       "1        [not provided]  SO_0001589  ENSG00000103197   TSC2   \n",
       "2        [not provided]  SO_0001589  ENSG00000103197   TSC2   \n",
       "3        [not provided]  SO_0001822  ENSG00000103197   TSC2   \n",
       "4        [not provided]  SO_0001574  ENSG00000129422  MTUS1   \n",
       "\n",
       "               consequence         efo_id                              label  \\\n",
       "0       frameshift_variant  Orphanet_2903  Familial spontaneous pneumothorax   \n",
       "1       frameshift_variant   Orphanet_805                 Tuberous sclerosis   \n",
       "2       frameshift_variant   Orphanet_805                 Tuberous sclerosis   \n",
       "3         inframe_deletion   Orphanet_805                 Tuberous sclerosis   \n",
       "4  splice_acceptor_variant    EFO_0002950                          pregnancy   \n",
       "\n",
       "  literature pharmaproject pharmaproject_approved  poscon  \n",
       "0      False         False                  False   False  \n",
       "1      False         False                  False   False  \n",
       "2      False         False                  False   False  \n",
       "3      False         False                  False   False  \n",
       "4      False         False                  False   False  "
      ]
     },
     "execution_count": 233,
     "metadata": {},
     "output_type": "execute_result"
    }
   ],
   "source": [
    "eva_poscon_merge.head()"
   ]
  },
  {
   "cell_type": "code",
   "execution_count": 234,
   "metadata": {
    "ExecuteTime": {
     "end_time": "2020-10-28T09:57:10.578007Z",
     "start_time": "2020-10-28T09:57:08.191307Z"
    }
   },
   "outputs": [],
   "source": [
    "eva_poscon_merge.to_parquet('EVA_processed_2020.10.25.parquet')"
   ]
  },
  {
   "cell_type": "code",
   "execution_count": null,
   "metadata": {},
   "outputs": [],
   "source": [
    "import ~.repositorGenomePlo"
   ]
  }
 ],
 "metadata": {
  "kernelspec": {
   "display_name": "Python 3",
   "language": "python",
   "name": "python3"
  },
  "language_info": {
   "codemirror_mode": {
    "name": "ipython",
    "version": 3
   },
   "file_extension": ".py",
   "mimetype": "text/x-python",
   "name": "python",
   "nbconvert_exporter": "python",
   "pygments_lexer": "ipython3",
   "version": "3.6.10"
  }
 },
 "nbformat": 4,
 "nbformat_minor": 4
}
