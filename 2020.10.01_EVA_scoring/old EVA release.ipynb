{
 "cells": [
  {
   "cell_type": "markdown",
   "metadata": {},
   "source": [
    "# Old EVA relasese\n",
    "\n",
    "\n",
    "Things to find out:\n",
    "\n",
    "- [x] Number of evidence\n",
    "- [x] Number of associatin\n",
    "- [x] Number of positive controls recovered\n",
    "- [X] ROC of scores."
   ]
  },
  {
   "cell_type": "code",
   "execution_count": 10,
   "metadata": {
    "ExecuteTime": {
     "end_time": "2020-11-09T02:43:27.347460Z",
     "start_time": "2020-11-09T02:43:22.965510Z"
    }
   },
   "outputs": [
    {
     "name": "stdout",
     "output_type": "stream",
     "text": [
      "                  type           target          disease         rsid  \\\n",
      "0  genetic_association  ENSG00000151150  Orphanet_356996  rs730882195   \n",
      "1  genetic_association  ENSG00000046604      EFO_0000318  rs794728100   \n",
      "2  genetic_association  ENSG00000055118      EFO_0004269  rs794728490   \n",
      "3  genetic_association  ENSG00000008086      EFO_0003756  rs202153551   \n",
      "4  genetic_association  ENSG00000198947      EFO_0003756  rs754765424   \n",
      "\n",
      "  clinvar_acces         score clinical_significance     so_code  \n",
      "0  RCV000162096  1.000000e-07     Likely pathogenic  SO_0001583  \n",
      "1  RCV000181253  1.000000e-07            Pathogenic  SO_0001589  \n",
      "2  RCV000182041  1.000000e-07     Likely pathogenic  SO_0001583  \n",
      "3  RCV000754670  1.000000e-07     Likely pathogenic  SO_0001587  \n",
      "4  RCV000754679  1.000000e-07     Likely pathogenic  SO_0001583  \n",
      "genetic_association    107847\n",
      "somatic_mutation         8176\n",
      "Name: type, dtype: int64\n"
     ]
    }
   ],
   "source": [
    "import json\n",
    "import gzip\n",
    "import pandas as pd\n",
    "import requests\n",
    "\n",
    "\n",
    "# Parsing EVA data:\n",
    "eva_file = '/Users/dsuveges/project/evidences/EVA/cttv012-01-09-2020_AD_manually_corrected.json.gz'\n",
    "\n",
    "parsed_data = []\n",
    "\n",
    "with gzip.open(eva_file, 'r') as f:\n",
    "    for line in f:\n",
    "        data = json.loads(line)\n",
    "        evidence = {\n",
    "            'type': data['type'],\n",
    "            'target': data['unique_association_fields']['gene'],\n",
    "            'disease': data['unique_association_fields']['phenotype'].split('/')[-1],\n",
    "            'rsid': data['unique_association_fields']['variant_id'],\n",
    "            'clinvar_acces': data['unique_association_fields']['clinvarAccession'],   \n",
    "        }\n",
    "        \n",
    "        if data['type'] == 'genetic_association':\n",
    "            evidence.update({\n",
    "                'score': data['evidence']['variant2disease']['resource_score']['value'],\n",
    "                'clinical_significance': data['evidence']['variant2disease']['clinical_significance'],\n",
    "                'so_code':  data['evidence']['gene2variant']['functional_consequence'].split('/')[-1],\n",
    "            })\n",
    "            \n",
    "        elif data['type'] == 'somatic_mutation':\n",
    "            evidence.update({\n",
    "                'score': data['evidence']['resource_score']['value'],\n",
    "                'clinical_significance': data['evidence']['clinical_significance'],\n",
    "                'so_code':  data['evidence']['known_mutations'][0]['functional_consequence'].split('/')[-1],\n",
    "            })\n",
    "        parsed_data.append(evidence)\n",
    "\n",
    "eva_df = pd.DataFrame(parsed_data)\n",
    "print(eva_df.head())\n",
    "print(eva_df.type.value_counts())\n"
   ]
  },
  {
   "cell_type": "code",
   "execution_count": 11,
   "metadata": {
    "ExecuteTime": {
     "end_time": "2020-11-09T02:45:53.362538Z",
     "start_time": "2020-11-09T02:45:53.254724Z"
    }
   },
   "outputs": [
    {
     "name": "stdout",
     "output_type": "stream",
     "text": [
      "Assoc count in genetic_association: 11510\n",
      "Assoc count in somatic_mutation: 1035\n"
     ]
    }
   ],
   "source": [
    "for t, group in eva_df.groupby('type'):\n",
    "    print(f'Assoc count in {t}: {len(group[[\"target\",\"disease\"]].drop_duplicates())}')\n",
    "    \n"
   ]
  },
  {
   "cell_type": "markdown",
   "metadata": {},
   "source": [
    "## Adding positive controls:"
   ]
  },
  {
   "cell_type": "code",
   "execution_count": 12,
   "metadata": {
    "ExecuteTime": {
     "end_time": "2020-11-09T02:49:36.449761Z",
     "start_time": "2020-11-09T02:49:36.414600Z"
    }
   },
   "outputs": [
    {
     "name": "stdout",
     "output_type": "stream",
     "text": [
      "Number of entries in pharmaproject: 22947\n",
      "Number of disease/target associations pair: 22947\n",
      "            target  approved      disease\n",
      "0  ENSG00000119535     False  EFO_1001255\n",
      "1  ENSG00000151617     False  EFO_1000014\n",
      "2  ENSG00000012779     False  EFO_0003894\n",
      "3  ENSG00000026508     False  EFO_0003894\n",
      "4  ENSG00000057252     False  EFO_0003894\n"
     ]
    }
   ],
   "source": [
    "pharma_project_file = '/Users/dsuveges/project/issue-1166_benchmarking_clingen_evidences/abbvie_pharmaprojects_2018_mapped.csv'\n",
    "\n",
    "# Reading pharmaproject file as dataframe:\n",
    "pharma_df = pd.read_csv(pharma_project_file)\n",
    "\n",
    "# Renaming columns for easy handling:\n",
    "pharma_df.rename(columns={\n",
    "    'ensembl_id': 'target',\n",
    "    'id': 'disease',\n",
    "    'lApprovedUS.EU': 'approved'\n",
    "}, inplace=True)\n",
    "\n",
    "print(f'Number of entries in pharmaproject: {len(pharma_df)}')\n",
    "print(f'Number of disease/target associations pair: {len(pharma_df[[\"target\",\"disease\"]].drop_duplicates())}')\n",
    "print(pharma_df.head())\n",
    "\n",
    "\n"
   ]
  },
  {
   "cell_type": "code",
   "execution_count": 16,
   "metadata": {
    "ExecuteTime": {
     "end_time": "2020-11-09T02:50:42.425192Z",
     "start_time": "2020-11-09T02:50:37.807323Z"
    }
   },
   "outputs": [
    {
     "name": "stdout",
     "output_type": "stream",
     "text": [
      "rows: 32570\n",
      "unique associations: 20289\n",
      "rows: 20289\n",
      "unique associations: 20289\n"
     ]
    }
   ],
   "source": [
    "literature_df = pd.read_parquet('/Users/dsuveges/project/evidences/20.06_evidence_data.filtered.parquet')\n",
    "literature_df.rename(columns={\n",
    "    'efo_code': 'disease',\n",
    "    'gene_id': 'target'\n",
    "}, inplace=True)\n",
    "\n",
    "# Applying score threshold:\n",
    "literature_df = literature_df.loc[literature_df.assoc_score >= 0.6]\n",
    "\n",
    "print(f'rows: {len(literature_df)}')\n",
    "print(f'unique associations: {len(literature_df[[\"disease\",\"target\"]].drop_duplicates())}')\n",
    "\n",
    "\n",
    "summed_data = []\n",
    "\n",
    "for (target, disease), group in literature_df.groupby(['target', 'disease']):\n",
    "    summed_data.append({\n",
    "        'target': target,\n",
    "        'disease': disease,\n",
    "    }) \n",
    "\n",
    "literature_assoc = pd.DataFrame(summed_data)\n",
    "\n",
    "print(f'rows: {len(literature_assoc)}')\n",
    "print(f'unique associations: {len(literature_assoc[[\"disease\",\"target\"]].drop_duplicates())}')\n"
   ]
  },
  {
   "cell_type": "code",
   "execution_count": 23,
   "metadata": {
    "ExecuteTime": {
     "end_time": "2020-11-09T02:58:05.826476Z",
     "start_time": "2020-11-09T02:58:05.581993Z"
    }
   },
   "outputs": [
    {
     "name": "stdout",
     "output_type": "stream",
     "text": [
      "pharma_project               21633\n",
      "literature                   18975\n",
      "pharma_project+literature     1314\n",
      "Name: poscon_source, dtype: int64\n"
     ]
    }
   ],
   "source": [
    "poscon = (\n",
    "    pharma_df\n",
    "    .merge(literature_assoc, on=['target','disease'], how='outer', indicator=True)\n",
    "    .rename(columns={'_merge':'poscon_source'})\n",
    ")\n",
    "\n",
    "poscon.poscon_source = (\n",
    "    poscon\n",
    "    .poscon_source\n",
    "    .apply(lambda x: 'pharma_project' if x == 'left_only' else 'literature' if x == 'right_only' else 'pharma_project+literature')\n",
    ")\n",
    "\n",
    "print(poscon.poscon_source.value_counts())\n",
    "\n",
    "poscon.to_csv('/Users/dsuveges/project/evidences/positive_controls.tsv.gz', sep='\\t', index=False, compression='infer')\n"
   ]
  },
  {
   "cell_type": "code",
   "execution_count": 22,
   "metadata": {
    "ExecuteTime": {
     "end_time": "2020-11-09T02:57:13.786294Z",
     "start_time": "2020-11-09T02:57:13.771606Z"
    }
   },
   "outputs": [
    {
     "name": "stdout",
     "output_type": "stream",
     "text": [
      "41922\n",
      "41922\n"
     ]
    }
   ],
   "source": [
    "print(len(poscon[['target', 'disease']]))\n",
    "print(len(poscon[['target', 'disease']].drop_duplicates()))"
   ]
  },
  {
   "cell_type": "markdown",
   "metadata": {},
   "source": [
    "### Merging EVA with positive controls:"
   ]
  },
  {
   "cell_type": "code",
   "execution_count": 25,
   "metadata": {
    "ExecuteTime": {
     "end_time": "2020-11-09T03:01:28.321374Z",
     "start_time": "2020-11-09T03:01:28.108588Z"
    }
   },
   "outputs": [
    {
     "name": "stdout",
     "output_type": "stream",
     "text": [
      "9196\n",
      "416\n"
     ]
    }
   ],
   "source": [
    "eva_merged = eva_df.merge(poscon, on=['target','disease'], how='left')\n",
    "print(len(eva_merged.loc[eva_merged.poscon_source.notna()]))\n",
    "print(len(eva_merged.loc[eva_merged.poscon_source.notna(),['target','disease']].drop_duplicates()))\n",
    "\n",
    "\n"
   ]
  },
  {
   "cell_type": "code",
   "execution_count": 27,
   "metadata": {
    "ExecuteTime": {
     "end_time": "2020-11-09T03:02:19.699575Z",
     "start_time": "2020-11-09T03:02:19.670746Z"
    }
   },
   "outputs": [
    {
     "data": {
      "text/plain": [
       "Pathogenic           79473\n",
       "Likely pathogenic    35959\n",
       "drug response          277\n",
       "association            172\n",
       "Affects                112\n",
       "protective              30\n",
       "Name: clinical_significance, dtype: int64"
      ]
     },
     "execution_count": 27,
     "metadata": {},
     "output_type": "execute_result"
    }
   ],
   "source": [
    "eva_merged.clinical_significance.value_counts()"
   ]
  },
  {
   "cell_type": "markdown",
   "metadata": {},
   "source": [
    "# Let's see how the score performs "
   ]
  },
  {
   "cell_type": "code",
   "execution_count": 29,
   "metadata": {
    "ExecuteTime": {
     "end_time": "2020-11-09T08:38:11.275827Z",
     "start_time": "2020-11-09T08:38:11.266912Z"
    }
   },
   "outputs": [
    {
     "data": {
      "text/plain": [
       "Index(['type', 'target', 'disease', 'rsid', 'clinvar_acces', 'score',\n",
       "       'clinical_significance', 'so_code'],\n",
       "      dtype='object')"
      ]
     },
     "execution_count": 29,
     "metadata": {},
     "output_type": "execute_result"
    }
   ],
   "source": [
    "eva_df.columns"
   ]
  },
  {
   "cell_type": "code",
   "execution_count": 38,
   "metadata": {
    "ExecuteTime": {
     "end_time": "2020-11-09T09:58:38.283274Z",
     "start_time": "2020-11-09T09:58:36.905847Z"
    }
   },
   "outputs": [
    {
     "data": {
      "text/html": [
       "<div>\n",
       "<style scoped>\n",
       "    .dataframe tbody tr th:only-of-type {\n",
       "        vertical-align: middle;\n",
       "    }\n",
       "\n",
       "    .dataframe tbody tr th {\n",
       "        vertical-align: top;\n",
       "    }\n",
       "\n",
       "    .dataframe thead th {\n",
       "        text-align: right;\n",
       "    }\n",
       "</style>\n",
       "<table border=\"1\" class=\"dataframe\">\n",
       "  <thead>\n",
       "    <tr style=\"text-align: right;\">\n",
       "      <th></th>\n",
       "      <th>type</th>\n",
       "      <th>target</th>\n",
       "      <th>disease</th>\n",
       "      <th>rsid</th>\n",
       "      <th>clinvar_acces</th>\n",
       "      <th>score</th>\n",
       "      <th>clinical_significance</th>\n",
       "      <th>so_code</th>\n",
       "      <th>approved</th>\n",
       "      <th>poscon_source</th>\n",
       "      <th>consequence</th>\n",
       "    </tr>\n",
       "  </thead>\n",
       "  <tbody>\n",
       "    <tr>\n",
       "      <th>0</th>\n",
       "      <td>genetic_association</td>\n",
       "      <td>ENSG00000151150</td>\n",
       "      <td>Orphanet_356996</td>\n",
       "      <td>rs730882195</td>\n",
       "      <td>RCV000162096</td>\n",
       "      <td>1.000000e-07</td>\n",
       "      <td>Likely pathogenic</td>\n",
       "      <td>SO_0001583</td>\n",
       "      <td>NaN</td>\n",
       "      <td>NaN</td>\n",
       "      <td>missense_variant</td>\n",
       "    </tr>\n",
       "    <tr>\n",
       "      <th>1</th>\n",
       "      <td>genetic_association</td>\n",
       "      <td>ENSG00000046604</td>\n",
       "      <td>EFO_0000318</td>\n",
       "      <td>rs794728100</td>\n",
       "      <td>RCV000181253</td>\n",
       "      <td>1.000000e-07</td>\n",
       "      <td>Pathogenic</td>\n",
       "      <td>SO_0001589</td>\n",
       "      <td>NaN</td>\n",
       "      <td>NaN</td>\n",
       "      <td>frameshift_variant</td>\n",
       "    </tr>\n",
       "    <tr>\n",
       "      <th>2</th>\n",
       "      <td>genetic_association</td>\n",
       "      <td>ENSG00000055118</td>\n",
       "      <td>EFO_0004269</td>\n",
       "      <td>rs794728490</td>\n",
       "      <td>RCV000182041</td>\n",
       "      <td>1.000000e-07</td>\n",
       "      <td>Likely pathogenic</td>\n",
       "      <td>SO_0001583</td>\n",
       "      <td>True</td>\n",
       "      <td>pharma_project</td>\n",
       "      <td>missense_variant</td>\n",
       "    </tr>\n",
       "    <tr>\n",
       "      <th>3</th>\n",
       "      <td>genetic_association</td>\n",
       "      <td>ENSG00000008086</td>\n",
       "      <td>EFO_0003756</td>\n",
       "      <td>rs202153551</td>\n",
       "      <td>RCV000754670</td>\n",
       "      <td>1.000000e-07</td>\n",
       "      <td>Likely pathogenic</td>\n",
       "      <td>SO_0001587</td>\n",
       "      <td>NaN</td>\n",
       "      <td>NaN</td>\n",
       "      <td>stop_gained</td>\n",
       "    </tr>\n",
       "    <tr>\n",
       "      <th>4</th>\n",
       "      <td>genetic_association</td>\n",
       "      <td>ENSG00000198947</td>\n",
       "      <td>EFO_0003756</td>\n",
       "      <td>rs754765424</td>\n",
       "      <td>RCV000754679</td>\n",
       "      <td>1.000000e-07</td>\n",
       "      <td>Likely pathogenic</td>\n",
       "      <td>SO_0001583</td>\n",
       "      <td>NaN</td>\n",
       "      <td>NaN</td>\n",
       "      <td>missense_variant</td>\n",
       "    </tr>\n",
       "  </tbody>\n",
       "</table>\n",
       "</div>"
      ],
      "text/plain": [
       "                  type           target          disease         rsid  \\\n",
       "0  genetic_association  ENSG00000151150  Orphanet_356996  rs730882195   \n",
       "1  genetic_association  ENSG00000046604      EFO_0000318  rs794728100   \n",
       "2  genetic_association  ENSG00000055118      EFO_0004269  rs794728490   \n",
       "3  genetic_association  ENSG00000008086      EFO_0003756  rs202153551   \n",
       "4  genetic_association  ENSG00000198947      EFO_0003756  rs754765424   \n",
       "\n",
       "  clinvar_acces         score clinical_significance     so_code approved  \\\n",
       "0  RCV000162096  1.000000e-07     Likely pathogenic  SO_0001583      NaN   \n",
       "1  RCV000181253  1.000000e-07            Pathogenic  SO_0001589      NaN   \n",
       "2  RCV000182041  1.000000e-07     Likely pathogenic  SO_0001583     True   \n",
       "3  RCV000754670  1.000000e-07     Likely pathogenic  SO_0001587      NaN   \n",
       "4  RCV000754679  1.000000e-07     Likely pathogenic  SO_0001583      NaN   \n",
       "\n",
       "    poscon_source         consequence  \n",
       "0             NaN    missense_variant  \n",
       "1             NaN  frameshift_variant  \n",
       "2  pharma_project    missense_variant  \n",
       "3             NaN         stop_gained  \n",
       "4             NaN    missense_variant  "
      ]
     },
     "execution_count": 38,
     "metadata": {},
     "output_type": "execute_result"
    }
   ],
   "source": [
    "import requests\n",
    "\n",
    "def so_lookup(so_term):\n",
    "    '''\n",
    "    Function to do the OLS lookup, returns with the label.\n",
    "    '''\n",
    "    \n",
    "    url = f'https://www.ebi.ac.uk/ols/api/terms?short_form={so_term}'\n",
    "    r = requests.get(url)\n",
    "    data = r.json()\n",
    "\n",
    "    return data['_embedded']['terms'][0]['label']\n",
    "    \n",
    "# Generating a lookup dictionary:\n",
    "so_lookup_table = {x:so_lookup(x) for x in eva_df.so_code.unique()}\n",
    "\n",
    "# Adding consequence label:\n",
    "eva_merged['consequence'] = eva_merged.so_code.map(so_lookup_table)\n",
    "eva_merged.head()"
   ]
  },
  {
   "cell_type": "code",
   "execution_count": 39,
   "metadata": {
    "ExecuteTime": {
     "end_time": "2020-11-09T09:58:55.984718Z",
     "start_time": "2020-11-09T09:58:55.956749Z"
    }
   },
   "outputs": [
    {
     "data": {
      "text/html": [
       "<div>\n",
       "<style scoped>\n",
       "    .dataframe tbody tr th:only-of-type {\n",
       "        vertical-align: middle;\n",
       "    }\n",
       "\n",
       "    .dataframe tbody tr th {\n",
       "        vertical-align: top;\n",
       "    }\n",
       "\n",
       "    .dataframe thead th {\n",
       "        text-align: right;\n",
       "    }\n",
       "</style>\n",
       "<table border=\"1\" class=\"dataframe\">\n",
       "  <thead>\n",
       "    <tr style=\"text-align: right;\">\n",
       "      <th></th>\n",
       "      <th>type</th>\n",
       "      <th>target</th>\n",
       "      <th>disease</th>\n",
       "      <th>rsid</th>\n",
       "      <th>clinvar_acces</th>\n",
       "      <th>score</th>\n",
       "      <th>clinical_significance</th>\n",
       "      <th>so_code</th>\n",
       "      <th>approved</th>\n",
       "      <th>poscon_source</th>\n",
       "      <th>consequence</th>\n",
       "      <th>consequence_score</th>\n",
       "    </tr>\n",
       "  </thead>\n",
       "  <tbody>\n",
       "    <tr>\n",
       "      <th>0</th>\n",
       "      <td>genetic_association</td>\n",
       "      <td>ENSG00000151150</td>\n",
       "      <td>Orphanet_356996</td>\n",
       "      <td>rs730882195</td>\n",
       "      <td>RCV000162096</td>\n",
       "      <td>1.000000e-07</td>\n",
       "      <td>Likely pathogenic</td>\n",
       "      <td>SO_0001583</td>\n",
       "      <td>NaN</td>\n",
       "      <td>NaN</td>\n",
       "      <td>missense_variant</td>\n",
       "      <td>0.70</td>\n",
       "    </tr>\n",
       "    <tr>\n",
       "      <th>1</th>\n",
       "      <td>genetic_association</td>\n",
       "      <td>ENSG00000046604</td>\n",
       "      <td>EFO_0000318</td>\n",
       "      <td>rs794728100</td>\n",
       "      <td>RCV000181253</td>\n",
       "      <td>1.000000e-07</td>\n",
       "      <td>Pathogenic</td>\n",
       "      <td>SO_0001589</td>\n",
       "      <td>NaN</td>\n",
       "      <td>NaN</td>\n",
       "      <td>frameshift_variant</td>\n",
       "      <td>0.95</td>\n",
       "    </tr>\n",
       "    <tr>\n",
       "      <th>2</th>\n",
       "      <td>genetic_association</td>\n",
       "      <td>ENSG00000055118</td>\n",
       "      <td>EFO_0004269</td>\n",
       "      <td>rs794728490</td>\n",
       "      <td>RCV000182041</td>\n",
       "      <td>1.000000e-07</td>\n",
       "      <td>Likely pathogenic</td>\n",
       "      <td>SO_0001583</td>\n",
       "      <td>True</td>\n",
       "      <td>pharma_project</td>\n",
       "      <td>missense_variant</td>\n",
       "      <td>0.70</td>\n",
       "    </tr>\n",
       "    <tr>\n",
       "      <th>3</th>\n",
       "      <td>genetic_association</td>\n",
       "      <td>ENSG00000008086</td>\n",
       "      <td>EFO_0003756</td>\n",
       "      <td>rs202153551</td>\n",
       "      <td>RCV000754670</td>\n",
       "      <td>1.000000e-07</td>\n",
       "      <td>Likely pathogenic</td>\n",
       "      <td>SO_0001587</td>\n",
       "      <td>NaN</td>\n",
       "      <td>NaN</td>\n",
       "      <td>stop_gained</td>\n",
       "      <td>0.95</td>\n",
       "    </tr>\n",
       "    <tr>\n",
       "      <th>4</th>\n",
       "      <td>genetic_association</td>\n",
       "      <td>ENSG00000198947</td>\n",
       "      <td>EFO_0003756</td>\n",
       "      <td>rs754765424</td>\n",
       "      <td>RCV000754679</td>\n",
       "      <td>1.000000e-07</td>\n",
       "      <td>Likely pathogenic</td>\n",
       "      <td>SO_0001583</td>\n",
       "      <td>NaN</td>\n",
       "      <td>NaN</td>\n",
       "      <td>missense_variant</td>\n",
       "      <td>0.70</td>\n",
       "    </tr>\n",
       "  </tbody>\n",
       "</table>\n",
       "</div>"
      ],
      "text/plain": [
       "                  type           target          disease         rsid  \\\n",
       "0  genetic_association  ENSG00000151150  Orphanet_356996  rs730882195   \n",
       "1  genetic_association  ENSG00000046604      EFO_0000318  rs794728100   \n",
       "2  genetic_association  ENSG00000055118      EFO_0004269  rs794728490   \n",
       "3  genetic_association  ENSG00000008086      EFO_0003756  rs202153551   \n",
       "4  genetic_association  ENSG00000198947      EFO_0003756  rs754765424   \n",
       "\n",
       "  clinvar_acces         score clinical_significance     so_code approved  \\\n",
       "0  RCV000162096  1.000000e-07     Likely pathogenic  SO_0001583      NaN   \n",
       "1  RCV000181253  1.000000e-07            Pathogenic  SO_0001589      NaN   \n",
       "2  RCV000182041  1.000000e-07     Likely pathogenic  SO_0001583     True   \n",
       "3  RCV000754670  1.000000e-07     Likely pathogenic  SO_0001587      NaN   \n",
       "4  RCV000754679  1.000000e-07     Likely pathogenic  SO_0001583      NaN   \n",
       "\n",
       "    poscon_source         consequence  consequence_score  \n",
       "0             NaN    missense_variant               0.70  \n",
       "1             NaN  frameshift_variant               0.95  \n",
       "2  pharma_project    missense_variant               0.70  \n",
       "3             NaN         stop_gained               0.95  \n",
       "4             NaN    missense_variant               0.70  "
      ]
     },
     "execution_count": 39,
     "metadata": {},
     "output_type": "execute_result"
    }
   ],
   "source": [
    "# \n",
    "eva_consequences_order_map = {\n",
    "    'downstream_gene_variant': 0.6,\n",
    "    'upstream_gene_variant': 0.6,\n",
    "    'intron_variant': 0.65,\n",
    "    'non_coding_transcript_exon_variant': 0.65,\n",
    "    '3_prime_UTR_variant': 0.65,\n",
    "    '5_prime_UTR_variant': 0.65,\n",
    "    'mature_miRNA_variant': 0.65,\n",
    "    'synonymous_variant': 0.65,\n",
    "    'stop_retained_variant': 0.65,    \n",
    "    \n",
    "    'coding_sequence_variant': 0.95,\n",
    "    'incomplete_terminal_codon_variant': 0.9,\n",
    "    'splice_region_variant': 0.95,\n",
    "    'protein_altering_variant': 0.7,\n",
    "    'missense_variant': 0.7,\n",
    "    'inframe_deletion': 0.7,\n",
    "    'inframe_insertion': 0.7,\n",
    "    \n",
    "    'start_lost': 0.95,\n",
    "    'stop_lost': 0.9,\n",
    "    'frameshift_variant': 0.95,\n",
    "    'stop_gained': 0.95,\n",
    "    'splice_donor_variant': 0.95,\n",
    "    'splice_acceptor_variant': 0.95,\n",
    "    'trinucleotide_repeat_expansion': 1,\n",
    "    'short_tandem_repeat_expansion': 1,\n",
    "    'transcript_ablation': 1\n",
    "}\n",
    "\n",
    "eva_merged['consequence_score'] = eva_merged.consequence.map(eva_consequences_order_map)\n",
    "eva_merged.head()"
   ]
  },
  {
   "cell_type": "code",
   "execution_count": 47,
   "metadata": {
    "ExecuteTime": {
     "end_time": "2020-11-09T11:11:19.206191Z",
     "start_time": "2020-11-09T11:11:17.954170Z"
    }
   },
   "outputs": [],
   "source": [
    "import pandas as pd\n",
    "import numpy as np\n",
    "import json\n",
    "from sklearn.ensemble import RandomForestClassifier\n",
    "from sklearn.metrics import roc_curve\n",
    "from sklearn.metrics import roc_auc_score\n",
    "from matplotlib import pyplot\n",
    "import gzip \n",
    "import tqdm\n",
    "import requests\n",
    "\n",
    "def harmonic_sum(data, scale_factor=1, cap=None):\n",
    "    \"\"\"\n",
    "    Returns an harmonic sum for the data passed\n",
    "    Args:\n",
    "        data (list): list of floats to compute the harmonic sum from\n",
    "        scale_factor (float): a scaling factor to multiply to each datapoint. Defaults to 1\n",
    "        cap (float): if not None, never return an harmonic sum higher than the cap value.\n",
    "    Returns:\n",
    "        harmonic_sum (float): the harmonic sum of the data passed\n",
    "    \"\"\"\n",
    "    \n",
    "    if isinstance(data, pd.Series):\n",
    "        data = data.tolist()\n",
    "\n",
    "    data.sort(reverse=True)\n",
    "    harmonic_sum = sum(s / ((i+1) ** scale_factor) for i, s in enumerate(data))\n",
    "    \n",
    "    # Applying cap:\n",
    "    if cap is not None and harmonic_sum > cap:\n",
    "        return cap\n",
    "      \n",
    "    return harmonic_sum\n",
    "\n",
    "\n",
    "def add_missing_efo(efo_ids):\n",
    "    missing_efo_map = {}\n",
    "    for efo_id in efo_ids:\n",
    "        url = f'https://www.ebi.ac.uk/ols/api/terms?short_form={efo_id}'\n",
    "        r = requests.get(url)\n",
    "        data = r.json()\n",
    "\n",
    "        missing_efo_map[efo_id] = data['_embedded']['terms'][0]['label']\n",
    "\n",
    "    return missing_efo_map\n",
    "        \n",
    "\n",
    "def add_missing_genes(genes):\n",
    "    missing_gene_map = {}\n",
    "    for ensembl_id in genes:\n",
    "        r = requests.get(f'http://rest.ensembl.org/lookup/id/{ensembl_id}?content-type=application/json;expand=0')\n",
    "        missing_gene_map[ensembl_id] = r.json()['display_name']\n",
    "        \n",
    "    return missing_gene_map\n",
    "\n",
    "\n",
    "def so_lookup(so_term):\n",
    "    '''\n",
    "    Function to do the OLS lookup, returns with the label.\n",
    "    '''\n",
    "    \n",
    "    url = f'https://www.ebi.ac.uk/ols/api/terms?short_form={so_term}'\n",
    "    r = requests.get(url)\n",
    "    data = r.json()\n",
    "\n",
    "    return data['_embedded']['terms'][0]['label']\n",
    "    \n",
    "\n",
    "def read_eva_evidences(source_file):\n",
    "    \n",
    "    parsed_data = []\n",
    "\n",
    "    with gzip.open(source_file) as f:\n",
    "        for line in f:\n",
    "            data = json.loads(line)\n",
    "            evidence = {\n",
    "                'type': data['type'],\n",
    "                'target': data['unique_association_fields']['gene'],\n",
    "                'disease': data['unique_association_fields']['phenotype'].split('/')[-1],\n",
    "                'rsid': data['unique_association_fields']['variant_id'],\n",
    "                'clinvar_acces': data['unique_association_fields']['clinvarAccession'],   \n",
    "            }\n",
    "\n",
    "            if data['type'] == 'genetic_association':\n",
    "                evidence.update({\n",
    "                    'score': data['evidence']['variant2disease']['resource_score']['value'],\n",
    "                    'star': data['evidence']['variant2disease']['clinvar_rating']['star_rating'],\n",
    "                    'review_status': data['evidence']['variant2disease']['clinvar_rating']['review_status'],\n",
    "                    'clinical_significance': data['evidence']['variant2disease']['clinical_significance'],\n",
    "                    'so_code':  data['evidence']['gene2variant']['functional_consequence'].split('/')[-1],\n",
    "                })\n",
    "\n",
    "            elif data['type'] == 'somatic_mutation':\n",
    "                evidence.update({\n",
    "                    'score': data['evidence']['resource_score']['value'],\n",
    "                    'star': data['evidence']['clinvar_rating']['star_rating'],\n",
    "                    'review_status': data['evidence']['clinvar_rating']['review_status'],\n",
    "                    'clinical_significance': data['evidence']['clinical_significance'],\n",
    "                    'so_code': data['evidence']['known_mutations'][0]['functional_consequence'].split('/')[-1],\n",
    "                })\n",
    "            parsed_data.append(evidence)\n",
    "\n",
    "    return pd.DataFrame(parsed_data)\n",
    "\n",
    "\n",
    "##\n",
    "## Function to get evidence score based on a set of weights:\n",
    "##\n",
    "def calculate_evidence_score(row, weights):\n",
    "    \"\"\"\n",
    "    Based on the weights of the given clumns the evidence sore is calcualted as follows:\n",
    "    sum[1->i](wi*di)\n",
    "    \"\"\"\n",
    "    \n",
    "    # Generate evidence score:\n",
    "    score = 0\n",
    "    for col in weights.index:\n",
    "        score += row[col] * weights[col]\n",
    "\n",
    "    return score\n",
    "\n",
    "##\n",
    "## calculating auc and enrichment for plotting:\n",
    "##\n",
    "def calculate_auc(association_score):\n",
    "    \n",
    "    # calculate auc:\n",
    "    fpr, tp, thresholds = roc_curve(association_score.poscon, association_score.association_score)\n",
    "    auc = roc_auc_score(association_score.poscon, association_score.association_score)\n",
    "\n",
    "    # Calculate enrichment:\n",
    "    top_n = len(association_score.loc[association_score.poscon])\n",
    "\n",
    "    recovery = (\n",
    "        association_score\n",
    "        .sort_values('association_score', ascending=False)\n",
    "        .head(top_n)\n",
    "        .query('poscon == True')\n",
    "        .association_score\n",
    "        .size\n",
    "    )\n",
    "\n",
    "    enrichment = len(association_score) * recovery / top_n ** 2\n",
    "\n",
    "    return {\n",
    "        'fpr': fpr,\n",
    "        'tpr': tp,\n",
    "        'auc': auc,\n",
    "        'recovery': recovery,\n",
    "        'enrichment': enrichment\n",
    "    }\n",
    "\n",
    "##\n",
    "## Plot ROC curve for many tests\n",
    "##\n",
    "def plot_auc_all(results):\n",
    "\n",
    "    # Draw baseline:\n",
    "    pyplot.plot([x/100 for x in range(1,100,1)], [x/100 for x in range(1,100,1)], linestyle='--', label=f'baseline')\n",
    "\n",
    "    # Calculated curves:\n",
    "    for label, data in results.items():\n",
    "        pyplot.plot(data['fpr'], data['tpr'], marker='.', markersize = 1, label=f'{label} (auc:{data[\"auc\"]:.2}, enr:{data[\"enrichment\"]:.2}x)') # variant count\n",
    "\n",
    "    # axis labels\n",
    "    pyplot.xlabel('False Positive Rate')\n",
    "    pyplot.ylabel('True Positive Rate')\n",
    "\n",
    "    # Add legend:\n",
    "    pyplot.legend(bbox_to_anchor=(1, 1))\n",
    "\n",
    "##\n",
    "## Running the classifier are calculate parameters:\n",
    "##\n",
    "def get_fit_parameters(df, columns):\n",
    "\n",
    "    # Build classifier:\n",
    "    if len(columns) > 1:\n",
    "        rf = RandomForestClassifier(class_weight='balanced')\n",
    "        rf.fit(df[columns],df.poscon)  \n",
    "\n",
    "        # Extracting weight:\n",
    "        print('Extract weights...')\n",
    "        weight_series = pd.Series(rf.feature_importances_, index=columns)\n",
    "        print(weight_series.sort_values())\n",
    "\n",
    "        # Combining evidence score in to association score:\n",
    "        association_score = (\n",
    "            df\n",
    "            .set_index(['disease', 'target'])\n",
    "            .apply(calculate_evidence_score, args=(weight_series,), axis=1)\n",
    "            .groupby(['target','disease'])\n",
    "            .apply(harmonic_sum)\n",
    "            .rename('association_score')\n",
    "            .to_frame()\n",
    "            .merge(df[['target','disease','poscon']].drop_duplicates(), on=['target','disease'], how='left')\n",
    "        )\n",
    "    else:\n",
    "        association_score = (\n",
    "            df\n",
    "            .groupby(['target','disease'])\n",
    "            [columns[0]]\n",
    "            .apply(harmonic_sum)\n",
    "            .rename('association_score')\n",
    "            .to_frame()\n",
    "            .merge(df[['target','disease','poscon']].drop_duplicates(), on=['target','disease'], how='left')\n",
    "        )\n",
    "\n",
    "    return calculate_auc(association_score)    \n",
    "\n",
    "\n",
    "\n",
    "##\n",
    "## Hot-one ecode set of columns\n",
    "##\n",
    "def hot1(df, columns, prefix):\n",
    "\n",
    "    # Get unique clinical significance values:\n",
    "    feature_df = df[['target','disease','poscon'] + columns].copy()\n",
    "\n",
    "    # Generate dummy features from clinical significance values:\n",
    "    feature_df = pd.get_dummies(feature_df, prefix=prefix, columns=columns)\n",
    "\n",
    "    cols = [x for x in feature_df.columns if f'{prefix}_' in x]\n",
    "    return  get_fit_parameters(feature_df, cols)\n",
    "\n",
    "    # Generate dummy features from clinical significance values:\n",
    "    clin_sig_split = pd.get_dummies(clin_sig_split, prefix='clin_sig', columns=['clinical_signif'])\n",
    "\n",
    "    # Update dummy columns were more then one clinical significance value is available:\n",
    "    for i, row in clin_sig_split.loc[clin_sig_split.clinical_significance.apply(lambda x: True if len(x)>1 else False)].iterrows():\n",
    "        for sig_val in row['clinical_significance']:\n",
    "            clin_sig_split.loc[i,f'clin_sig_{sig_val}'] = 1"
   ]
  },
  {
   "cell_type": "code",
   "execution_count": 45,
   "metadata": {
    "ExecuteTime": {
     "end_time": "2020-11-09T11:09:57.119516Z",
     "start_time": "2020-11-09T11:09:57.087407Z"
    }
   },
   "outputs": [
    {
     "data": {
      "text/html": [
       "<div>\n",
       "<style scoped>\n",
       "    .dataframe tbody tr th:only-of-type {\n",
       "        vertical-align: middle;\n",
       "    }\n",
       "\n",
       "    .dataframe tbody tr th {\n",
       "        vertical-align: top;\n",
       "    }\n",
       "\n",
       "    .dataframe thead th {\n",
       "        text-align: right;\n",
       "    }\n",
       "</style>\n",
       "<table border=\"1\" class=\"dataframe\">\n",
       "  <thead>\n",
       "    <tr style=\"text-align: right;\">\n",
       "      <th></th>\n",
       "      <th>type</th>\n",
       "      <th>target</th>\n",
       "      <th>disease</th>\n",
       "      <th>rsid</th>\n",
       "      <th>clinvar_acces</th>\n",
       "      <th>score</th>\n",
       "      <th>clinical_significance</th>\n",
       "      <th>so_code</th>\n",
       "      <th>approved</th>\n",
       "      <th>poscon_source</th>\n",
       "      <th>consequence</th>\n",
       "      <th>consequence_score</th>\n",
       "      <th>poscon</th>\n",
       "    </tr>\n",
       "  </thead>\n",
       "  <tbody>\n",
       "    <tr>\n",
       "      <th>0</th>\n",
       "      <td>genetic_association</td>\n",
       "      <td>ENSG00000151150</td>\n",
       "      <td>Orphanet_356996</td>\n",
       "      <td>rs730882195</td>\n",
       "      <td>RCV000162096</td>\n",
       "      <td>1.000000e-07</td>\n",
       "      <td>Likely pathogenic</td>\n",
       "      <td>SO_0001583</td>\n",
       "      <td>NaN</td>\n",
       "      <td>NaN</td>\n",
       "      <td>missense_variant</td>\n",
       "      <td>0.70</td>\n",
       "      <td>False</td>\n",
       "    </tr>\n",
       "    <tr>\n",
       "      <th>1</th>\n",
       "      <td>genetic_association</td>\n",
       "      <td>ENSG00000046604</td>\n",
       "      <td>EFO_0000318</td>\n",
       "      <td>rs794728100</td>\n",
       "      <td>RCV000181253</td>\n",
       "      <td>1.000000e-07</td>\n",
       "      <td>Pathogenic</td>\n",
       "      <td>SO_0001589</td>\n",
       "      <td>NaN</td>\n",
       "      <td>NaN</td>\n",
       "      <td>frameshift_variant</td>\n",
       "      <td>0.95</td>\n",
       "      <td>False</td>\n",
       "    </tr>\n",
       "    <tr>\n",
       "      <th>2</th>\n",
       "      <td>genetic_association</td>\n",
       "      <td>ENSG00000055118</td>\n",
       "      <td>EFO_0004269</td>\n",
       "      <td>rs794728490</td>\n",
       "      <td>RCV000182041</td>\n",
       "      <td>1.000000e-07</td>\n",
       "      <td>Likely pathogenic</td>\n",
       "      <td>SO_0001583</td>\n",
       "      <td>True</td>\n",
       "      <td>pharma_project</td>\n",
       "      <td>missense_variant</td>\n",
       "      <td>0.70</td>\n",
       "      <td>True</td>\n",
       "    </tr>\n",
       "    <tr>\n",
       "      <th>3</th>\n",
       "      <td>genetic_association</td>\n",
       "      <td>ENSG00000008086</td>\n",
       "      <td>EFO_0003756</td>\n",
       "      <td>rs202153551</td>\n",
       "      <td>RCV000754670</td>\n",
       "      <td>1.000000e-07</td>\n",
       "      <td>Likely pathogenic</td>\n",
       "      <td>SO_0001587</td>\n",
       "      <td>NaN</td>\n",
       "      <td>NaN</td>\n",
       "      <td>stop_gained</td>\n",
       "      <td>0.95</td>\n",
       "      <td>False</td>\n",
       "    </tr>\n",
       "    <tr>\n",
       "      <th>4</th>\n",
       "      <td>genetic_association</td>\n",
       "      <td>ENSG00000198947</td>\n",
       "      <td>EFO_0003756</td>\n",
       "      <td>rs754765424</td>\n",
       "      <td>RCV000754679</td>\n",
       "      <td>1.000000e-07</td>\n",
       "      <td>Likely pathogenic</td>\n",
       "      <td>SO_0001583</td>\n",
       "      <td>NaN</td>\n",
       "      <td>NaN</td>\n",
       "      <td>missense_variant</td>\n",
       "      <td>0.70</td>\n",
       "      <td>False</td>\n",
       "    </tr>\n",
       "  </tbody>\n",
       "</table>\n",
       "</div>"
      ],
      "text/plain": [
       "                  type           target          disease         rsid  \\\n",
       "0  genetic_association  ENSG00000151150  Orphanet_356996  rs730882195   \n",
       "1  genetic_association  ENSG00000046604      EFO_0000318  rs794728100   \n",
       "2  genetic_association  ENSG00000055118      EFO_0004269  rs794728490   \n",
       "3  genetic_association  ENSG00000008086      EFO_0003756  rs202153551   \n",
       "4  genetic_association  ENSG00000198947      EFO_0003756  rs754765424   \n",
       "\n",
       "  clinvar_acces         score clinical_significance     so_code approved  \\\n",
       "0  RCV000162096  1.000000e-07     Likely pathogenic  SO_0001583      NaN   \n",
       "1  RCV000181253  1.000000e-07            Pathogenic  SO_0001589      NaN   \n",
       "2  RCV000182041  1.000000e-07     Likely pathogenic  SO_0001583     True   \n",
       "3  RCV000754670  1.000000e-07     Likely pathogenic  SO_0001587      NaN   \n",
       "4  RCV000754679  1.000000e-07     Likely pathogenic  SO_0001583      NaN   \n",
       "\n",
       "    poscon_source         consequence  consequence_score  poscon  \n",
       "0             NaN    missense_variant               0.70   False  \n",
       "1             NaN  frameshift_variant               0.95   False  \n",
       "2  pharma_project    missense_variant               0.70    True  \n",
       "3             NaN         stop_gained               0.95   False  \n",
       "4             NaN    missense_variant               0.70   False  "
      ]
     },
     "execution_count": 45,
     "metadata": {},
     "output_type": "execute_result"
    }
   ],
   "source": [
    "eva_merged['poscon'] = eva_merged.poscon_source.apply(lambda x: True if isinstance(x, str) else False)\n",
    "eva_merged.poscon.fillna(False, inplace=True)\n",
    "eva_merged.head()"
   ]
  },
  {
   "cell_type": "code",
   "execution_count": null,
   "metadata": {},
   "outputs": [],
   "source": []
  },
  {
   "cell_type": "code",
   "execution_count": 48,
   "metadata": {
    "ExecuteTime": {
     "end_time": "2020-11-09T11:11:22.216790Z",
     "start_time": "2020-11-09T11:11:20.952279Z"
    }
   },
   "outputs": [
    {
     "data": {
      "image/png": "[encoded data removed]",
      "text/plain": [
       "<Figure size 432x288 with 1 Axes>"
      ]
     },
     "metadata": {
      "needs_background": "light"
     },
     "output_type": "display_data"
    }
   ],
   "source": [
    "# hot1(db, columns, prefix)\n",
    "results = {}\n",
    "\n",
    "# baseline:\n",
    "columns = ['baseline']\n",
    "results['evid count'] = get_fit_parameters(eva_merged.assign(baseline=1),columns)\n",
    "\n",
    "# review status - simple weighted:\n",
    "results['consequence_score'] = get_fit_parameters(eva_merged, ['consequence_score'])\n",
    "       \n",
    "plot_auc_all(results)"
   ]
  },
  {
   "cell_type": "code",
   "execution_count": 49,
   "metadata": {
    "ExecuteTime": {
     "end_time": "2020-11-09T14:02:04.793566Z",
     "start_time": "2020-11-09T14:02:04.789843Z"
    }
   },
   "outputs": [
    {
     "data": {
      "text/plain": [
       "'1.1.0'"
      ]
     },
     "execution_count": 49,
     "metadata": {},
     "output_type": "execute_result"
    }
   ],
   "source": [
    "pd.__version__"
   ]
  },
  {
   "cell_type": "code",
   "execution_count": null,
   "metadata": {},
   "outputs": [],
   "source": []
  }
 ],
 "metadata": {
  "kernelspec": {
   "display_name": "Python 3",
   "language": "python",
   "name": "python3"
  },
  "language_info": {
   "codemirror_mode": {
    "name": "ipython",
    "version": 3
   },
   "file_extension": ".py",
   "mimetype": "text/x-python",
   "name": "python",
   "nbconvert_exporter": "python",
   "pygments_lexer": "ipython3",
   "version": "3.6.10"
  }
 },
 "nbformat": 4,
 "nbformat_minor": 4
}
