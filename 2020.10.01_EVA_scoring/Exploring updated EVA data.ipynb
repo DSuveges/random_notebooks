{
 "cells": [
  {
   "cell_type": "code",
   "execution_count": 1,
   "metadata": {
    "ExecuteTime": {
     "end_time": "2020-10-14T00:20:31.450979Z",
     "start_time": "2020-10-14T00:20:04.484194Z"
    }
   },
   "outputs": [
    {
     "name": "stdout",
     "output_type": "stream",
     "text": [
      "574097\n",
      "                  type           target        disease          rsid  \\\n",
      "0  genetic_association  ENSG00000154803  Orphanet_2903   rs886037610   \n",
      "1  genetic_association  ENSG00000186832  Orphanet_2337  rs1555573633   \n",
      "2  genetic_association  ENSG00000103197   Orphanet_805   rs137854012   \n",
      "3  genetic_association  ENSG00000103197   Orphanet_805   rs137854420   \n",
      "4  genetic_association  ENSG00000103197   Orphanet_805   rs137854007   \n",
      "\n",
      "  clinvar_acces         score  star                   review_status  \\\n",
      "0  RCV000003542  1.000000e-07     0  no assertion criteria provided   \n",
      "1  RCV000015714  1.000000e-07     0  no assertion criteria provided   \n",
      "2  RCV000042664  1.000000e-07     0           no assertion provided   \n",
      "3  RCV000042684  1.000000e-07     0           no assertion provided   \n",
      "4  RCV000042927  1.000000e-07     0           no assertion provided   \n",
      "\n",
      "  clinical_significance     so_code  \n",
      "0          [pathogenic]  SO_0001589  \n",
      "1          [pathogenic]  SO_0001818  \n",
      "2        [not provided]  SO_0001589  \n",
      "3        [not provided]  SO_0001589  \n",
      "4        [not provided]  SO_0001589  \n"
     ]
    }
   ],
   "source": [
    "import json\n",
    "import gzip\n",
    "import pandas as pd\n",
    "\n",
    "source_file = '/Users/dsuveges/project/evidences/updated_eva/cttv012-20200928-test2.json.gz'\n",
    "\n",
    "parsed_data = []\n",
    "\n",
    "with gzip.open(source_file) as f:\n",
    "    for line in f:\n",
    "        data = json.loads(line)\n",
    "        evidence = {\n",
    "            'type': data['type'],\n",
    "            'target': data['unique_association_fields']['gene'],\n",
    "            'disease': data['unique_association_fields']['phenotype'].split('/')[-1],\n",
    "            'rsid': data['unique_association_fields']['variant_id'],\n",
    "            'clinvar_acces': data['unique_association_fields']['clinvarAccession'],   \n",
    "        }\n",
    "        \n",
    "        if data['type'] == 'genetic_association':\n",
    "            evidence.update({\n",
    "                'score': data['evidence']['variant2disease']['resource_score']['value'],\n",
    "                'star': data['evidence']['variant2disease']['clinvar_rating']['star_rating'],\n",
    "                'clinical_significance': data['evidence']['variant2disease']['clinical_significance'],\n",
    "                'so_code':  data['evidence']['gene2variant']['functional_consequence'].split('/')[-1],\n",
    "            })\n",
    "            \n",
    "        elif data['type'] == 'somatic_mutation':\n",
    "            evidence.update({\n",
    "                'score': data['evidence']['resource_score']['value'],\n",
    "                'star': data['evidence']['clinvar_rating']['star_rating'],\n",
    "                'review_status': data['evidence']['clinvar_rating']['review_status'],\n",
    "                'clinical_significance': data['evidence']['clinical_significance'],\n",
    "                'so_code':  data['evidence']['known_mutations'][0]['functional_consequence'].split('/')[-1],\n",
    "            })\n",
    "        parsed_data.append(evidence)\n",
    "\n",
    "eva_df = pd.DataFrame(parsed_data)\n",
    "print(len(eva_df))\n",
    "print(eva_df.head())"
   ]
  },
  {
   "cell_type": "markdown",
   "metadata": {},
   "source": [
    "### Sequence Onotology lookup\n",
    "\n",
    "Consequences of the variants are recorded as SO codes only. To get a better idea what's going on, these values needs to be looked up on OLS to get the corresponding label."
   ]
  },
  {
   "cell_type": "code",
   "execution_count": 2,
   "metadata": {
    "ExecuteTime": {
     "end_time": "2020-10-14T00:20:57.048506Z",
     "start_time": "2020-10-14T00:20:52.241941Z"
    }
   },
   "outputs": [],
   "source": [
    "import requests\n",
    "\n",
    "\n",
    "def so_lookup(so_term):\n",
    "    '''\n",
    "    Function to do the OLS lookup, returns with the label.\n",
    "    '''\n",
    "    \n",
    "    url = f'https://www.ebi.ac.uk/ols/api/terms?short_form={so_term}'\n",
    "    r = requests.get(url)\n",
    "    data = r.json()\n",
    "\n",
    "    return data['_embedded']['terms'][0]['label']\n",
    "    \n",
    "# Generating a lookup dictionary:\n",
    "so_lookup_table = {x:so_lookup(x) for x in eva_df.so_code.unique()}\n",
    "\n",
    "# Adding consequence label:\n",
    "eva_df['consequence'] = eva_df.so_code.apply(lambda so_term: so_lookup_table[so_term])\n",
    "\n",
    "# Saving downloaded consequence terms:\n",
    "with open('consequence_terms.json', 'w') as f:\n",
    "    json.dump(so_lookup_table, f)    "
   ]
  },
  {
   "cell_type": "code",
   "execution_count": 3,
   "metadata": {
    "ExecuteTime": {
     "end_time": "2020-10-14T00:21:02.324709Z",
     "start_time": "2020-10-14T00:21:01.635146Z"
    }
   },
   "outputs": [
    {
     "data": {
      "text/plain": [
       "<matplotlib.axes._subplots.AxesSubplot at 0x7f9178c76b00>"
      ]
     },
     "execution_count": 3,
     "metadata": {},
     "output_type": "execute_result"
    },
    {
     "data": {
      "image/png": "[encoded data removed]",
      "text/plain": [
       "<Figure size 432x288 with 1 Axes>"
      ]
     },
     "metadata": {
      "needs_background": "light"
     },
     "output_type": "display_data"
    }
   ],
   "source": [
    "import math\n",
    "\n",
    "eva_df.consequence.value_counts().apply(lambda x: math.log10(x)).plot(kind = 'barh')\n"
   ]
  },
  {
   "cell_type": "code",
   "execution_count": 38,
   "metadata": {
    "ExecuteTime": {
     "end_time": "2020-10-02T01:23:00.050214Z",
     "start_time": "2020-10-02T01:23:00.046314Z"
    }
   },
   "outputs": [
    {
     "data": {
      "text/plain": [
       "Index(['type', 'target', 'disease', 'rsid', 'clinvar_acces', 'score', 'star',\n",
       "       'review_status', 'clinical_significance', 'so_code', 'consequence'],\n",
       "      dtype='object')"
      ]
     },
     "execution_count": 38,
     "metadata": {},
     "output_type": "execute_result"
    }
   ],
   "source": [
    "eva_df.columns"
   ]
  },
  {
   "cell_type": "code",
   "execution_count": 40,
   "metadata": {
    "ExecuteTime": {
     "end_time": "2020-10-02T01:24:22.388054Z",
     "start_time": "2020-10-02T01:24:22.283604Z"
    }
   },
   "outputs": [
    {
     "data": {
      "text/plain": [
       "<matplotlib.axes._subplots.AxesSubplot at 0x7ff0a19f4470>"
      ]
     },
     "execution_count": 40,
     "metadata": {},
     "output_type": "execute_result"
    },
    {
     "data": {
      "image/png": "[encoded data removed]",
      "text/plain": [
       "<Figure size 432x288 with 1 Axes>"
      ]
     },
     "metadata": {
      "needs_background": "light"
     },
     "output_type": "display_data"
    }
   ],
   "source": [
    "eva_df.star.value_counts().plot(kind = 'barh')"
   ]
  },
  {
   "cell_type": "code",
   "execution_count": 42,
   "metadata": {
    "ExecuteTime": {
     "end_time": "2020-10-02T01:24:40.504705Z",
     "start_time": "2020-10-02T01:24:39.969476Z"
    }
   },
   "outputs": [
    {
     "data": {
      "text/plain": [
       "<matplotlib.axes._subplots.AxesSubplot at 0x7ff0c5b4a358>"
      ]
     },
     "execution_count": 42,
     "metadata": {},
     "output_type": "execute_result"
    },
    {
     "data": {
      "image/png": "[encoded data removed]",
      "text/plain": [
       "<Figure size 432x288 with 1 Axes>"
      ]
     },
     "metadata": {
      "needs_background": "light"
     },
     "output_type": "display_data"
    }
   ],
   "source": [
    "eva_df.review_status.value_counts().plot(kind = 'barh')"
   ]
  },
  {
   "cell_type": "code",
   "execution_count": 43,
   "metadata": {
    "ExecuteTime": {
     "end_time": "2020-10-02T01:26:24.542099Z",
     "start_time": "2020-10-02T01:26:23.757031Z"
    }
   },
   "outputs": [
    {
     "data": {
      "text/plain": [
       "<matplotlib.axes._subplots.AxesSubplot at 0x7ff0c5a1cdd8>"
      ]
     },
     "execution_count": 43,
     "metadata": {},
     "output_type": "execute_result"
    },
    {
     "data": {
      "image/png": "[encoded data removed]",
      "text/plain": [
       "<Figure size 432x288 with 1 Axes>"
      ]
     },
     "metadata": {
      "needs_background": "light"
     },
     "output_type": "display_data"
    }
   ],
   "source": [
    "eva_df.clinical_significance.value_counts().plot(kind = 'barh')"
   ]
  },
  {
   "cell_type": "code",
   "execution_count": 49,
   "metadata": {
    "ExecuteTime": {
     "end_time": "2020-10-02T12:12:39.933360Z",
     "start_time": "2020-10-02T12:12:39.748085Z"
    }
   },
   "outputs": [
    {
     "data": {
      "text/html": [
       "<div>\n",
       "<style scoped>\n",
       "    .dataframe tbody tr th:only-of-type {\n",
       "        vertical-align: middle;\n",
       "    }\n",
       "\n",
       "    .dataframe tbody tr th {\n",
       "        vertical-align: top;\n",
       "    }\n",
       "\n",
       "    .dataframe thead th {\n",
       "        text-align: right;\n",
       "    }\n",
       "</style>\n",
       "<table border=\"1\" class=\"dataframe\">\n",
       "  <thead>\n",
       "    <tr style=\"text-align: right;\">\n",
       "      <th></th>\n",
       "      <th>type</th>\n",
       "      <th>target</th>\n",
       "      <th>disease</th>\n",
       "      <th>rsid</th>\n",
       "      <th>clinvar_acces</th>\n",
       "      <th>score</th>\n",
       "      <th>star</th>\n",
       "      <th>review_status</th>\n",
       "      <th>clinical_significance</th>\n",
       "      <th>so_code</th>\n",
       "      <th>consequence</th>\n",
       "    </tr>\n",
       "  </thead>\n",
       "  <tbody>\n",
       "    <tr>\n",
       "      <th>1236</th>\n",
       "      <td>genetic_association</td>\n",
       "      <td>ENSG00000119899</td>\n",
       "      <td>Orphanet_309334</td>\n",
       "      <td>rs386833993</td>\n",
       "      <td>RCV000049970</td>\n",
       "      <td>1.000000e-07</td>\n",
       "      <td>2</td>\n",
       "      <td>criteria provided, multiple submitters, no con...</td>\n",
       "      <td>[likely pathogenic, pathogenic]</td>\n",
       "      <td>SO_0001587</td>\n",
       "      <td>stop_gained</td>\n",
       "    </tr>\n",
       "    <tr>\n",
       "      <th>3046</th>\n",
       "      <td>genetic_association</td>\n",
       "      <td>ENSG00000026103</td>\n",
       "      <td>Orphanet_3261</td>\n",
       "      <td>rs1564696849</td>\n",
       "      <td>RCV000695507</td>\n",
       "      <td>1.000000e-07</td>\n",
       "      <td>2</td>\n",
       "      <td>criteria provided, multiple submitters, no con...</td>\n",
       "      <td>[likely pathogenic, pathogenic]</td>\n",
       "      <td>SO_0001575</td>\n",
       "      <td>splice_donor_variant</td>\n",
       "    </tr>\n",
       "    <tr>\n",
       "      <th>3886</th>\n",
       "      <td>genetic_association</td>\n",
       "      <td>ENSG00000136160</td>\n",
       "      <td>Orphanet_897</td>\n",
       "      <td>rs768126403</td>\n",
       "      <td>RCV000721946</td>\n",
       "      <td>1.000000e-07</td>\n",
       "      <td>0</td>\n",
       "      <td>no assertion criteria provided</td>\n",
       "      <td>[likely pathogenic, pathogenic]</td>\n",
       "      <td>SO_0001587</td>\n",
       "      <td>stop_gained</td>\n",
       "    </tr>\n",
       "    <tr>\n",
       "      <th>4137</th>\n",
       "      <td>genetic_association</td>\n",
       "      <td>ENSG00000137700</td>\n",
       "      <td>Orphanet_79259</td>\n",
       "      <td>rs121908978</td>\n",
       "      <td>RCV000007345</td>\n",
       "      <td>1.000000e-07</td>\n",
       "      <td>2</td>\n",
       "      <td>criteria provided, multiple submitters, no con...</td>\n",
       "      <td>[likely pathogenic, pathogenic]</td>\n",
       "      <td>SO_0001583</td>\n",
       "      <td>missense_variant</td>\n",
       "    </tr>\n",
       "    <tr>\n",
       "      <th>4153</th>\n",
       "      <td>genetic_association</td>\n",
       "      <td>ENSG00000137700</td>\n",
       "      <td>Orphanet_79259</td>\n",
       "      <td>rs781784543</td>\n",
       "      <td>RCV000169082</td>\n",
       "      <td>1.000000e-07</td>\n",
       "      <td>2</td>\n",
       "      <td>criteria provided, multiple submitters, no con...</td>\n",
       "      <td>[likely pathogenic, pathogenic]</td>\n",
       "      <td>SO_0001587</td>\n",
       "      <td>stop_gained</td>\n",
       "    </tr>\n",
       "    <tr>\n",
       "      <th>...</th>\n",
       "      <td>...</td>\n",
       "      <td>...</td>\n",
       "      <td>...</td>\n",
       "      <td>...</td>\n",
       "      <td>...</td>\n",
       "      <td>...</td>\n",
       "      <td>...</td>\n",
       "      <td>...</td>\n",
       "      <td>...</td>\n",
       "      <td>...</td>\n",
       "      <td>...</td>\n",
       "    </tr>\n",
       "    <tr>\n",
       "      <th>566079</th>\n",
       "      <td>genetic_association</td>\n",
       "      <td>ENSG00000138376</td>\n",
       "      <td>Orphanet_227535</td>\n",
       "      <td>rs150354152</td>\n",
       "      <td>RCV001086278</td>\n",
       "      <td>1.000000e-07</td>\n",
       "      <td>2</td>\n",
       "      <td>criteria provided, multiple submitters, no con...</td>\n",
       "      <td>[benign, likely benign]</td>\n",
       "      <td>SO_0001819</td>\n",
       "      <td>synonymous_variant</td>\n",
       "    </tr>\n",
       "    <tr>\n",
       "      <th>566270</th>\n",
       "      <td>genetic_association</td>\n",
       "      <td>ENSG00000046604</td>\n",
       "      <td>Orphanet_247</td>\n",
       "      <td>rs370509593</td>\n",
       "      <td>RCV001087023</td>\n",
       "      <td>1.000000e-07</td>\n",
       "      <td>2</td>\n",
       "      <td>criteria provided, multiple submitters, no con...</td>\n",
       "      <td>[benign, likely benign]</td>\n",
       "      <td>SO_0001583</td>\n",
       "      <td>missense_variant</td>\n",
       "    </tr>\n",
       "    <tr>\n",
       "      <th>566605</th>\n",
       "      <td>genetic_association</td>\n",
       "      <td>ENSG00000164190</td>\n",
       "      <td>Orphanet_199</td>\n",
       "      <td>rs142923613</td>\n",
       "      <td>RCV001088813</td>\n",
       "      <td>1.000000e-07</td>\n",
       "      <td>2</td>\n",
       "      <td>criteria provided, multiple submitters, no con...</td>\n",
       "      <td>[benign, likely benign]</td>\n",
       "      <td>SO_0001583</td>\n",
       "      <td>missense_variant</td>\n",
       "    </tr>\n",
       "    <tr>\n",
       "      <th>570522</th>\n",
       "      <td>genetic_association</td>\n",
       "      <td>ENSG00000134571</td>\n",
       "      <td>EFO_0000318</td>\n",
       "      <td>rs397516083</td>\n",
       "      <td>RCV001170203</td>\n",
       "      <td>1.000000e-07</td>\n",
       "      <td>2</td>\n",
       "      <td>criteria provided, multiple submitters, no con...</td>\n",
       "      <td>[likely pathogenic, pathogenic]</td>\n",
       "      <td>SO_0001627</td>\n",
       "      <td>intron_variant</td>\n",
       "    </tr>\n",
       "    <tr>\n",
       "      <th>571196</th>\n",
       "      <td>genetic_association</td>\n",
       "      <td>ENSG00000130164</td>\n",
       "      <td>EFO_0004911</td>\n",
       "      <td>rs11547917</td>\n",
       "      <td>RCV001179372</td>\n",
       "      <td>1.000000e-07</td>\n",
       "      <td>2</td>\n",
       "      <td>criteria provided, multiple submitters, no con...</td>\n",
       "      <td>[likely pathogenic, pathogenic]</td>\n",
       "      <td>SO_0001583</td>\n",
       "      <td>missense_variant</td>\n",
       "    </tr>\n",
       "  </tbody>\n",
       "</table>\n",
       "<p>6373 rows × 11 columns</p>\n",
       "</div>"
      ],
      "text/plain": [
       "                       type           target          disease          rsid  \\\n",
       "1236    genetic_association  ENSG00000119899  Orphanet_309334   rs386833993   \n",
       "3046    genetic_association  ENSG00000026103    Orphanet_3261  rs1564696849   \n",
       "3886    genetic_association  ENSG00000136160     Orphanet_897   rs768126403   \n",
       "4137    genetic_association  ENSG00000137700   Orphanet_79259   rs121908978   \n",
       "4153    genetic_association  ENSG00000137700   Orphanet_79259   rs781784543   \n",
       "...                     ...              ...              ...           ...   \n",
       "566079  genetic_association  ENSG00000138376  Orphanet_227535   rs150354152   \n",
       "566270  genetic_association  ENSG00000046604     Orphanet_247   rs370509593   \n",
       "566605  genetic_association  ENSG00000164190     Orphanet_199   rs142923613   \n",
       "570522  genetic_association  ENSG00000134571      EFO_0000318   rs397516083   \n",
       "571196  genetic_association  ENSG00000130164      EFO_0004911    rs11547917   \n",
       "\n",
       "       clinvar_acces         score  star  \\\n",
       "1236    RCV000049970  1.000000e-07     2   \n",
       "3046    RCV000695507  1.000000e-07     2   \n",
       "3886    RCV000721946  1.000000e-07     0   \n",
       "4137    RCV000007345  1.000000e-07     2   \n",
       "4153    RCV000169082  1.000000e-07     2   \n",
       "...              ...           ...   ...   \n",
       "566079  RCV001086278  1.000000e-07     2   \n",
       "566270  RCV001087023  1.000000e-07     2   \n",
       "566605  RCV001088813  1.000000e-07     2   \n",
       "570522  RCV001170203  1.000000e-07     2   \n",
       "571196  RCV001179372  1.000000e-07     2   \n",
       "\n",
       "                                            review_status  \\\n",
       "1236    criteria provided, multiple submitters, no con...   \n",
       "3046    criteria provided, multiple submitters, no con...   \n",
       "3886                       no assertion criteria provided   \n",
       "4137    criteria provided, multiple submitters, no con...   \n",
       "4153    criteria provided, multiple submitters, no con...   \n",
       "...                                                   ...   \n",
       "566079  criteria provided, multiple submitters, no con...   \n",
       "566270  criteria provided, multiple submitters, no con...   \n",
       "566605  criteria provided, multiple submitters, no con...   \n",
       "570522  criteria provided, multiple submitters, no con...   \n",
       "571196  criteria provided, multiple submitters, no con...   \n",
       "\n",
       "                  clinical_significance     so_code           consequence  \n",
       "1236    [likely pathogenic, pathogenic]  SO_0001587           stop_gained  \n",
       "3046    [likely pathogenic, pathogenic]  SO_0001575  splice_donor_variant  \n",
       "3886    [likely pathogenic, pathogenic]  SO_0001587           stop_gained  \n",
       "4137    [likely pathogenic, pathogenic]  SO_0001583      missense_variant  \n",
       "4153    [likely pathogenic, pathogenic]  SO_0001587           stop_gained  \n",
       "...                                 ...         ...                   ...  \n",
       "566079          [benign, likely benign]  SO_0001819    synonymous_variant  \n",
       "566270          [benign, likely benign]  SO_0001583      missense_variant  \n",
       "566605          [benign, likely benign]  SO_0001583      missense_variant  \n",
       "570522  [likely pathogenic, pathogenic]  SO_0001627        intron_variant  \n",
       "571196  [likely pathogenic, pathogenic]  SO_0001583      missense_variant  \n",
       "\n",
       "[6373 rows x 11 columns]"
      ]
     },
     "execution_count": 49,
     "metadata": {},
     "output_type": "execute_result"
    }
   ],
   "source": [
    "eva_df.loc[ eva_df.clinical_significance.apply(lambda x: len(x) > 1) ]"
   ]
  },
  {
   "cell_type": "code",
   "execution_count": 4,
   "metadata": {
    "ExecuteTime": {
     "end_time": "2020-10-14T00:21:15.187516Z",
     "start_time": "2020-10-14T00:21:14.943310Z"
    }
   },
   "outputs": [
    {
     "data": {
      "text/plain": [
       "0         None\n",
       "1         None\n",
       "2         None\n",
       "3         None\n",
       "4         None\n",
       "          ... \n",
       "574092    None\n",
       "574093    None\n",
       "574094    None\n",
       "574095    None\n",
       "574096    None\n",
       "Name: clinical_significance, Length: 574097, dtype: object"
      ]
     },
     "execution_count": 4,
     "metadata": {},
     "output_type": "execute_result"
    }
   ],
   "source": [
    "\n",
    "def add_significnace(x):\n",
    "    for y in x:\n",
    "        clin_significance.add(y)\n",
    "        \n",
    "clin_significance = set()\n",
    "eva_df.clinical_significance.apply(add_significnace)\n",
    "\n"
   ]
  },
  {
   "cell_type": "code",
   "execution_count": 119,
   "metadata": {
    "ExecuteTime": {
     "end_time": "2020-10-05T16:34:13.738287Z",
     "start_time": "2020-10-05T16:34:13.496162Z"
    }
   },
   "outputs": [
    {
     "data": {
      "text/plain": [
       "<matplotlib.axes._subplots.AxesSubplot at 0x7ff0c52003c8>"
      ]
     },
     "execution_count": 119,
     "metadata": {},
     "output_type": "execute_result"
    },
    {
     "data": {
      "image/png": "[encoded data removed]",
      "text/plain": [
       "<Figure size 432x288 with 1 Axes>"
      ]
     },
     "metadata": {
      "needs_background": "light"
     },
     "output_type": "display_data"
    }
   ],
   "source": [
    "# clin_sign_counts = pd.Series(np.zeros(len(clin_significance)), index=clin_significance)\n",
    "\n",
    "def add_count(x):\n",
    "    for y in x:\n",
    "        clin_sign_counts.loc[y] += 1 \n",
    "        \n",
    "# eva_df.clinical_significance.apply(add_count)\n",
    "clin_sign_counts.sort_values().plot(kind = 'barh')"
   ]
  },
  {
   "cell_type": "markdown",
   "metadata": {},
   "source": [
    "## Disease ontology lookup\n",
    "\n",
    "\n",
    "For some region the disese labels are also not included in the evidence string. \n",
    "\n",
    "Generating from the full evidence file:\n",
    "\n",
    "```bash\n",
    "cat \\\n",
    "    <(echo -e \"efo_id\\tlabel\" ) \\\n",
    "    <(gzcat 20.06_evidence_data.json.gz | jq -r '\"\\(.disease.id)\\t\\(.disease.efo_info.label)\"' | sort -u ) \\\n",
    "    | gzip \\\n",
    "    > efo_id_map.tsv.gz\n",
    "```"
   ]
  },
  {
   "cell_type": "code",
   "execution_count": 5,
   "metadata": {
    "ExecuteTime": {
     "end_time": "2020-10-14T00:21:40.204686Z",
     "start_time": "2020-10-14T00:21:39.492911Z"
    }
   },
   "outputs": [],
   "source": [
    "efo_map_df = pd.read_csv('efo_id_map.tsv.gz', sep='\\t')\n",
    "eva_df = eva_df.merge(efo_map_df, how='left', left_on='disease', right_on='efo_id')"
   ]
  },
  {
   "cell_type": "markdown",
   "metadata": {},
   "source": [
    "## Gene symbol lookup\n",
    "\n",
    "Gene symbols are also not included in the evidence string. \n",
    "\n",
    "```bash\n",
    "cat \\\n",
    "    <(echo -e \"gene_id\\tsymbol\" ) \\\n",
    "    <(gzcat 20.06_evidence_data.json.gz | jq -r '\"\\(.target.id)\\t\\(.target.gene_info.symbol)\"' | sort -u ) \\\n",
    "    | gzip \\\n",
    "    > gene_id_map.tsv.gz\n",
    "```"
   ]
  },
  {
   "cell_type": "code",
   "execution_count": 6,
   "metadata": {
    "ExecuteTime": {
     "end_time": "2020-10-14T00:21:47.963069Z",
     "start_time": "2020-10-14T00:21:47.546868Z"
    }
   },
   "outputs": [],
   "source": [
    "gene_id_map_df = pd.read_csv('gene_id_map.tsv.gz', sep='\\t')\n",
    "eva_df = eva_df.merge(gene_id_map_df, how='left', left_on='target', right_on='gene_id')"
   ]
  },
  {
   "cell_type": "code",
   "execution_count": 7,
   "metadata": {
    "ExecuteTime": {
     "end_time": "2020-10-14T00:21:56.291081Z",
     "start_time": "2020-10-14T00:21:48.077182Z"
    }
   },
   "outputs": [],
   "source": [
    "eva_df['clinical_significance'] = eva_df.clinical_significance.apply(lambda x: json.dumps(x))\n",
    "eva_df.to_csv('updated_eva.tsv.gz', compression='infer', index=False, sep='\\t')"
   ]
  },
  {
   "cell_type": "code",
   "execution_count": 83,
   "metadata": {
    "ExecuteTime": {
     "end_time": "2020-10-02T20:39:08.868965Z",
     "start_time": "2020-10-02T20:39:06.103035Z"
    }
   },
   "outputs": [],
   "source": [
    "# eva_df.drop(['gene_id', 'symbol'], axis =1 , inplace=True)\n",
    "import requests\n",
    "\n",
    "missing_gene_map = {}\n",
    "for ensembl_id in eva_df.loc[eva_df.symbol.isna()].target.unique():\n",
    "    r = requests.get(f'http://rest.ensembl.org/lookup/id/{ensembl_id}?content-type=application/json;expand=0')\n",
    "    missing_gene_map[ensembl_id] = r.json()['display_name']"
   ]
  },
  {
   "cell_type": "code",
   "execution_count": 96,
   "metadata": {
    "ExecuteTime": {
     "end_time": "2020-10-02T20:49:41.436619Z",
     "start_time": "2020-10-02T20:49:35.368758Z"
    }
   },
   "outputs": [],
   "source": [
    "eva_df['symbol'] = eva_df.apply(lambda row: row['symbol'] if not isinstance(row['symbol'], float) else missing_gene_map[row['target']], axis=1)\n",
    "\n"
   ]
  },
  {
   "cell_type": "code",
   "execution_count": 91,
   "metadata": {
    "ExecuteTime": {
     "end_time": "2020-10-02T20:44:12.614046Z",
     "start_time": "2020-10-02T20:44:12.527140Z"
    }
   },
   "outputs": [],
   "source": [
    "?isinstance"
   ]
  },
  {
   "cell_type": "code",
   "execution_count": 103,
   "metadata": {
    "ExecuteTime": {
     "end_time": "2020-10-02T21:02:18.093943Z",
     "start_time": "2020-10-02T21:02:05.770597Z"
    }
   },
   "outputs": [],
   "source": [
    "missing_efo_map = {}\n",
    "for efo_id in eva_df.loc[eva_df.label.isna()].disease.unique():\n",
    "    url = f'https://www.ebi.ac.uk/ols/api/terms?short_form={efo_id}'\n",
    "    r = requests.get(url)\n",
    "    data = r.json()\n",
    "\n",
    "    missing_efo_map[efo_id] = data['_embedded']['terms'][0]['label']\n"
   ]
  },
  {
   "cell_type": "code",
   "execution_count": 104,
   "metadata": {
    "ExecuteTime": {
     "end_time": "2020-10-02T21:03:21.323441Z",
     "start_time": "2020-10-02T21:03:15.426629Z"
    }
   },
   "outputs": [],
   "source": [
    "eva_df['label'] = eva_df.apply(lambda row: row['label'] if not isinstance(row['label'], float) else missing_efo_map[row['disease']], axis=1)\n"
   ]
  },
  {
   "cell_type": "code",
   "execution_count": 106,
   "metadata": {
    "ExecuteTime": {
     "end_time": "2020-10-02T21:13:25.794699Z",
     "start_time": "2020-10-02T21:13:25.761589Z"
    }
   },
   "outputs": [
    {
     "data": {
      "text/html": [
       "<div>\n",
       "<style scoped>\n",
       "    .dataframe tbody tr th:only-of-type {\n",
       "        vertical-align: middle;\n",
       "    }\n",
       "\n",
       "    .dataframe tbody tr th {\n",
       "        vertical-align: top;\n",
       "    }\n",
       "\n",
       "    .dataframe thead th {\n",
       "        text-align: right;\n",
       "    }\n",
       "</style>\n",
       "<table border=\"1\" class=\"dataframe\">\n",
       "  <thead>\n",
       "    <tr style=\"text-align: right;\">\n",
       "      <th></th>\n",
       "      <th>type</th>\n",
       "      <th>target</th>\n",
       "      <th>disease</th>\n",
       "      <th>rsid</th>\n",
       "      <th>clinvar_acces</th>\n",
       "      <th>score</th>\n",
       "      <th>star</th>\n",
       "      <th>review_status</th>\n",
       "      <th>clinical_significance</th>\n",
       "      <th>so_code</th>\n",
       "      <th>consequence</th>\n",
       "      <th>efo_id</th>\n",
       "      <th>label</th>\n",
       "      <th>gene_id</th>\n",
       "      <th>symbol</th>\n",
       "    </tr>\n",
       "  </thead>\n",
       "  <tbody>\n",
       "  </tbody>\n",
       "</table>\n",
       "</div>"
      ],
      "text/plain": [
       "Empty DataFrame\n",
       "Columns: [type, target, disease, rsid, clinvar_acces, score, star, review_status, clinical_significance, so_code, consequence, efo_id, label, gene_id, symbol]\n",
       "Index: []"
      ]
     },
     "execution_count": 106,
     "metadata": {},
     "output_type": "execute_result"
    }
   ],
   "source": [
    "eva_df.loc[eva_df['symbol'].isna()]"
   ]
  }
 ],
 "metadata": {
  "kernelspec": {
   "display_name": "Python 3",
   "language": "python",
   "name": "python3"
  },
  "language_info": {
   "codemirror_mode": {
    "name": "ipython",
    "version": 3
   },
   "file_extension": ".py",
   "mimetype": "text/x-python",
   "name": "python",
   "nbconvert_exporter": "python",
   "pygments_lexer": "ipython3",
   "version": "3.6.10"
  }
 },
 "nbformat": 4,
 "nbformat_minor": 4
}
