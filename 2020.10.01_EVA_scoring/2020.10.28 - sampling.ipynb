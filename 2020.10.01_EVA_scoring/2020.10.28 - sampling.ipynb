{
 "cells": [
  {
   "cell_type": "code",
   "execution_count": 2,
   "metadata": {
    "ExecuteTime": {
     "end_time": "2020-11-04T22:19:14.980187Z",
     "start_time": "2020-11-04T22:19:14.976162Z"
    }
   },
   "outputs": [
    {
     "data": {
      "text/html": [
       "<style>.container { width:90% !important; }</style>"
      ],
      "text/plain": [
       "<IPython.core.display.HTML object>"
      ]
     },
     "metadata": {},
     "output_type": "display_data"
    }
   ],
   "source": [
    "from IPython.core.display import display, HTML\n",
    "display(HTML(\"<style>.container { width:90% !important; }</style>\"))"
   ]
  },
  {
   "cell_type": "code",
   "execution_count": 4,
   "metadata": {
    "ExecuteTime": {
     "end_time": "2020-10-28T09:41:02.359861Z",
     "start_time": "2020-10-28T09:41:02.343300Z"
    },
    "code_folding": []
   },
   "outputs": [],
   "source": [
    "import pandas as pd\n",
    "import numpy as np\n",
    "import json\n",
    "from sklearn.ensemble import RandomForestClassifier\n",
    "from sklearn.metrics import roc_curve\n",
    "from sklearn.metrics import roc_auc_score\n",
    "from matplotlib import pyplot\n",
    "import gzip \n",
    "import tqdm\n",
    "import requests\n",
    "\n",
    "\n",
    "def harmonic_sum(data, scale_factor=1, cap=None):\n",
    "    \"\"\"\n",
    "    Returns an harmonic sum for the data passed\n",
    "    Args:\n",
    "        data (list): list of floats to compute the harmonic sum from\n",
    "        scale_factor (float): a scaling factor to multiply to each datapoint. Defaults to 1\n",
    "        cap (float): if not None, never return an harmonic sum higher than the cap value.\n",
    "    Returns:\n",
    "        harmonic_sum (float): the harmonic sum of the data passed\n",
    "    \"\"\"\n",
    "    \n",
    "    if isinstance(data, pd.Series):\n",
    "        data = data.tolist()\n",
    "    \n",
    "    data.sort(reverse=True)\n",
    "    harmonic_sum = sum(s / ((i+1) ** scale_factor) for i, s in enumerate(data))\n",
    "    \n",
    "    # Applying cap:\n",
    "    if cap is not None and harmonic_sum > cap:\n",
    "        return cap\n",
    "      \n",
    "    return harmonic_sum\n",
    "\n",
    "\n",
    "def add_missing_efo(efo_ids):\n",
    "    missing_efo_map = {}\n",
    "    for efo_id in efo_ids:\n",
    "        url = f'https://www.ebi.ac.uk/ols/api/terms?short_form={efo_id}'\n",
    "        r = requests.get(url)\n",
    "        data = r.json()\n",
    "\n",
    "        missing_efo_map[efo_id] = data['_embedded']['terms'][0]['label']\n",
    "\n",
    "    return missing_efo_map\n",
    "        \n",
    "\n",
    "def add_missing_genes(genes):\n",
    "    missing_gene_map = {}\n",
    "    for ensembl_id in genes:\n",
    "        r = requests.get(f'http://rest.ensembl.org/lookup/id/{ensembl_id}?content-type=application/json;expand=0')\n",
    "        missing_gene_map[ensembl_id] = r.json()['display_name']\n",
    "        \n",
    "    return missing_gene_map\n",
    "\n",
    "\n",
    "def so_lookup(so_term):\n",
    "    '''\n",
    "    Function to do the OLS lookup, returns with the label.\n",
    "    '''\n",
    "    \n",
    "    url = f'https://www.ebi.ac.uk/ols/api/terms?short_form={so_term}'\n",
    "    r = requests.get(url)\n",
    "    data = r.json()\n",
    "\n",
    "    return data['_embedded']['terms'][0]['label']\n",
    "    \n",
    "\n",
    "def read_eva_evidences(source_file):\n",
    "    \n",
    "    parsed_data = []\n",
    "\n",
    "    with gzip.open(source_file) as f:\n",
    "        for line in f:\n",
    "            data = json.loads(line)\n",
    "            evidence = {\n",
    "                'type': data['type'],\n",
    "                'target': data['unique_association_fields']['gene'],\n",
    "                'disease': data['unique_association_fields']['phenotype'].split('/')[-1],\n",
    "                'rsid': data['unique_association_fields']['variant_id'],\n",
    "                'clinvar_acces': data['unique_association_fields']['clinvarAccession'],   \n",
    "            }\n",
    "\n",
    "            if data['type'] == 'genetic_association':\n",
    "                evidence.update({\n",
    "                    'score': data['evidence']['variant2disease']['resource_score']['value'],\n",
    "                    'star': data['evidence']['variant2disease']['clinvar_rating']['star_rating'],\n",
    "                    'review_status': data['evidence']['variant2disease']['clinvar_rating']['review_status'],\n",
    "                    'clinical_significance': data['evidence']['variant2disease']['clinical_significance'],\n",
    "                    'so_code':  data['evidence']['gene2variant']['functional_consequence'].split('/')[-1],\n",
    "                })\n",
    "\n",
    "            elif data['type'] == 'somatic_mutation':\n",
    "                evidence.update({\n",
    "                    'score': data['evidence']['resource_score']['value'],\n",
    "                    'star': data['evidence']['clinvar_rating']['star_rating'],\n",
    "                    'review_status': data['evidence']['clinvar_rating']['review_status'],\n",
    "                    'clinical_significance': data['evidence']['clinical_significance'],\n",
    "                    'so_code': data['evidence']['known_mutations'][0]['functional_consequence'].split('/')[-1],\n",
    "                })\n",
    "            parsed_data.append(evidence)\n",
    "\n",
    "    return pd.DataFrame(parsed_data)\n",
    "\n",
    "\n"
   ]
  },
  {
   "cell_type": "code",
   "execution_count": 52,
   "metadata": {
    "ExecuteTime": {
     "end_time": "2020-10-28T15:40:11.262546Z",
     "start_time": "2020-10-28T15:40:04.605638Z"
    }
   },
   "outputs": [
    {
     "data": {
      "text/html": [
       "<div>\n",
       "<style scoped>\n",
       "    .dataframe tbody tr th:only-of-type {\n",
       "        vertical-align: middle;\n",
       "    }\n",
       "\n",
       "    .dataframe tbody tr th {\n",
       "        vertical-align: top;\n",
       "    }\n",
       "\n",
       "    .dataframe thead th {\n",
       "        text-align: right;\n",
       "    }\n",
       "</style>\n",
       "<table border=\"1\" class=\"dataframe\">\n",
       "  <thead>\n",
       "    <tr style=\"text-align: right;\">\n",
       "      <th></th>\n",
       "      <th>target</th>\n",
       "      <th>disease</th>\n",
       "      <th>consequence</th>\n",
       "      <th>poscon</th>\n",
       "      <th>review_status</th>\n",
       "      <th>consequence_weighted</th>\n",
       "      <th>review_weighted</th>\n",
       "      <th>clin_sig_weighted</th>\n",
       "    </tr>\n",
       "  </thead>\n",
       "  <tbody>\n",
       "    <tr>\n",
       "      <th>0</th>\n",
       "      <td>ENSG00000154803</td>\n",
       "      <td>Orphanet_2903</td>\n",
       "      <td>frameshift_variant</td>\n",
       "      <td>False</td>\n",
       "      <td>no assertion criteria provided</td>\n",
       "      <td>0.95</td>\n",
       "      <td>0.285714</td>\n",
       "      <td>1.0</td>\n",
       "    </tr>\n",
       "    <tr>\n",
       "      <th>1</th>\n",
       "      <td>ENSG00000103197</td>\n",
       "      <td>Orphanet_805</td>\n",
       "      <td>frameshift_variant</td>\n",
       "      <td>False</td>\n",
       "      <td>no assertion provided</td>\n",
       "      <td>0.95</td>\n",
       "      <td>0.142857</td>\n",
       "      <td>0.0</td>\n",
       "    </tr>\n",
       "    <tr>\n",
       "      <th>2</th>\n",
       "      <td>ENSG00000103197</td>\n",
       "      <td>Orphanet_805</td>\n",
       "      <td>frameshift_variant</td>\n",
       "      <td>False</td>\n",
       "      <td>no assertion provided</td>\n",
       "      <td>0.95</td>\n",
       "      <td>0.142857</td>\n",
       "      <td>0.0</td>\n",
       "    </tr>\n",
       "    <tr>\n",
       "      <th>3</th>\n",
       "      <td>ENSG00000103197</td>\n",
       "      <td>Orphanet_805</td>\n",
       "      <td>inframe_deletion</td>\n",
       "      <td>False</td>\n",
       "      <td>no assertion provided</td>\n",
       "      <td>0.70</td>\n",
       "      <td>0.142857</td>\n",
       "      <td>0.0</td>\n",
       "    </tr>\n",
       "    <tr>\n",
       "      <th>4</th>\n",
       "      <td>ENSG00000129422</td>\n",
       "      <td>EFO_0002950</td>\n",
       "      <td>splice_acceptor_variant</td>\n",
       "      <td>False</td>\n",
       "      <td>no assertion provided</td>\n",
       "      <td>0.95</td>\n",
       "      <td>0.142857</td>\n",
       "      <td>0.0</td>\n",
       "    </tr>\n",
       "  </tbody>\n",
       "</table>\n",
       "</div>"
      ],
      "text/plain": [
       "            target        disease              consequence  poscon  \\\n",
       "0  ENSG00000154803  Orphanet_2903       frameshift_variant   False   \n",
       "1  ENSG00000103197   Orphanet_805       frameshift_variant   False   \n",
       "2  ENSG00000103197   Orphanet_805       frameshift_variant   False   \n",
       "3  ENSG00000103197   Orphanet_805         inframe_deletion   False   \n",
       "4  ENSG00000129422    EFO_0002950  splice_acceptor_variant   False   \n",
       "\n",
       "                    review_status  consequence_weighted  review_weighted  \\\n",
       "0  no assertion criteria provided                  0.95         0.285714   \n",
       "1           no assertion provided                  0.95         0.142857   \n",
       "2           no assertion provided                  0.95         0.142857   \n",
       "3           no assertion provided                  0.70         0.142857   \n",
       "4           no assertion provided                  0.95         0.142857   \n",
       "\n",
       "   clin_sig_weighted  \n",
       "0                1.0  \n",
       "1                0.0  \n",
       "2                0.0  \n",
       "3                0.0  \n",
       "4                0.0  "
      ]
     },
     "execution_count": 52,
     "metadata": {},
     "output_type": "execute_result"
    }
   ],
   "source": [
    "eva = pd.read_parquet('EVA_processed_2020.10.25.parquet')\n",
    "\n",
    "\n",
    "eva_consequences_order_map = {\n",
    "    'downstream_gene_variant': 0.6,\n",
    "    'upstream_gene_variant': 0.6,\n",
    "    'intron_variant': 0.65,\n",
    "    'non_coding_transcript_exon_variant': 0.65,\n",
    "    '3_prime_UTR_variant': 0.65,\n",
    "    '5_prime_UTR_variant': 0.65,\n",
    "    'mature_miRNA_variant': 0.65,\n",
    "    'coding_sequence_variant': 0.95,\n",
    "    'synonymous_variant': 0.65,\n",
    "    'stop_retained_variant': 0.65,\n",
    "    'incomplete_terminal_codon_variant': 0.9,\n",
    "    'splice_region_variant': 0.9,\n",
    "    'protein_altering_variant': 0.7,\n",
    "    'missense_variant': 0.7,\n",
    "    'inframe_deletion': 0.7,\n",
    "    'inframe_insertion': 0.7,\n",
    "    'start_lost': 0.95,\n",
    "    'stop_lost': 0.9,\n",
    "    'frameshift_variant': 0.95,\n",
    "    'stop_gained': 0.95,\n",
    "    'splice_donor_variant': 0.95,\n",
    "    'splice_acceptor_variant': 0.95,\n",
    "    'trinucleotide_repeat_expansion': 1,\n",
    "    'short_tandem_repeat_expansion': 1,\n",
    "    'transcript_ablation':1\n",
    "}\n",
    "\n",
    "# Review status is an ordinal variable. Mapping to numbers:\n",
    "review_status_order_map = {\n",
    "    'no assertion provided': 1/7,\n",
    "    'no assertion criteria provided': 2/7,\n",
    "    'criteria provided, conflicting interpretations': 3/7,\n",
    "    'criteria provided, single submitter': 4/7,\n",
    "    'criteria provided, multiple submitters, no conflicts': 5/7,\n",
    "    'reviewed by expert panel': 6/7,\n",
    "    'practice guideline': 7/7\n",
    "}\n",
    "\n",
    "clinical_significance_mapping = {\n",
    "    'association not found': 0,  \n",
    "    'benign': 0,\n",
    "    'not provided': 0,\n",
    "    'uncertain significance': 0.01,    \n",
    "    'likely benign': 0.2,    \n",
    "    'conflicting interpretations of pathogenicity': 0.5,   \n",
    "    'other': 0.3,\n",
    "    'association': 1,\n",
    "    'drug response': 1,\n",
    "    'protective':1,\n",
    "    'affects': 0.7,\n",
    "    'likely pathogenic' : 0.8,\n",
    "    'risk factor': 0.8,\n",
    "    'pathogenic' : 1,\n",
    "}\n",
    "\n",
    "# Subsetting eva dataframe:\n",
    "simplified_evid = eva[['target','disease','consequence','poscon','review_status']].copy()\n",
    "\n",
    "# Generate weights for consequence terms:\n",
    "simplified_evid['consequence_weighted'] = simplified_evid.consequence.map(eva_consequences_order_map)\n",
    "\n",
    "# Generate weights for review status:\n",
    "simplified_evid['review_weighted'] = simplified_evid.review_status.map(review_status_order_map)\n",
    "\n",
    "# Generate weight for clinical significance:\n",
    "simplified_evid['clin_sig_weighted'] = eva.clinical_significance.apply(lambda x: np.max([clinical_significance_mapping[y] for y in x]))\n",
    "\n",
    "simplified_evid.head()"
   ]
  },
  {
   "cell_type": "code",
   "execution_count": 36,
   "metadata": {
    "ExecuteTime": {
     "end_time": "2020-10-28T13:29:23.334043Z",
     "start_time": "2020-10-28T13:29:23.066024Z"
    }
   },
   "outputs": [
    {
     "data": {
      "text/plain": [
       "459305"
      ]
     },
     "execution_count": 36,
     "metadata": {},
     "output_type": "execute_result"
    }
   ],
   "source": [
    "##\n",
    "## Sampling dataframe:\n",
    "##\n",
    "\n",
    "pos_sample_size = len(simplified_evid.loc[simplified_evid.poscon])\n",
    "negative_upsampled = simplified_evid.loc[simplified_evid.poscon].sample(10*pos_sample_size, replace=True)\n",
    "df = pd.concat([simplified_evid.loc[simplified_evid.poscon].copy(), negative_upsampled])\n",
    "len(df)"
   ]
  },
  {
   "cell_type": "code",
   "execution_count": 46,
   "metadata": {
    "ExecuteTime": {
     "end_time": "2020-10-28T13:32:02.511890Z",
     "start_time": "2020-10-28T13:32:02.507509Z"
    }
   },
   "outputs": [
    {
     "data": {
      "text/plain": [
       "41755"
      ]
     },
     "execution_count": 46,
     "metadata": {},
     "output_type": "execute_result"
    }
   ],
   "source": [
    "pos_sample_size"
   ]
  },
  {
   "cell_type": "code",
   "execution_count": null,
   "metadata": {},
   "outputs": [],
   "source": []
  },
  {
   "cell_type": "code",
   "execution_count": 53,
   "metadata": {
    "ExecuteTime": {
     "end_time": "2020-10-28T15:40:34.747296Z",
     "start_time": "2020-10-28T15:40:18.812532Z"
    }
   },
   "outputs": [
    {
     "name": "stdout",
     "output_type": "stream",
     "text": [
      "Extract weights...\n",
      "consequence_weighted    0.205899\n",
      "review_weighted         0.391467\n",
      "clin_sig_weighted       0.402634\n",
      "dtype: float64\n"
     ]
    }
   ],
   "source": [
    "# Build classifier:\n",
    "rf = RandomForestClassifier(class_weight='balanced')\n",
    "columns = ['consequence_weighted', 'review_weighted', 'clin_sig_weighted']\n",
    "rf.fit(simplified_evid[columns],simplified_evid.poscon)  \n",
    "\n",
    "# Extracting weight:\n",
    "print('Extract weights...')\n",
    "weight_series = pd.Series(rf.feature_importances_, index=columns)\n",
    "print(weight_series)\n"
   ]
  },
  {
   "cell_type": "code",
   "execution_count": 54,
   "metadata": {
    "ExecuteTime": {
     "end_time": "2020-10-28T15:40:58.558887Z",
     "start_time": "2020-10-28T15:40:40.745244Z"
    }
   },
   "outputs": [
    {
     "data": {
      "text/html": [
       "<div>\n",
       "<style scoped>\n",
       "    .dataframe tbody tr th:only-of-type {\n",
       "        vertical-align: middle;\n",
       "    }\n",
       "\n",
       "    .dataframe tbody tr th {\n",
       "        vertical-align: top;\n",
       "    }\n",
       "\n",
       "    .dataframe thead th {\n",
       "        text-align: right;\n",
       "    }\n",
       "</style>\n",
       "<table border=\"1\" class=\"dataframe\">\n",
       "  <thead>\n",
       "    <tr style=\"text-align: right;\">\n",
       "      <th></th>\n",
       "      <th>target</th>\n",
       "      <th>disease</th>\n",
       "      <th>consequence</th>\n",
       "      <th>poscon</th>\n",
       "      <th>review_status</th>\n",
       "      <th>consequence_weighted</th>\n",
       "      <th>review_weighted</th>\n",
       "      <th>clin_sig_weighted</th>\n",
       "      <th>evidence_score</th>\n",
       "    </tr>\n",
       "  </thead>\n",
       "  <tbody>\n",
       "    <tr>\n",
       "      <th>0</th>\n",
       "      <td>ENSG00000154803</td>\n",
       "      <td>Orphanet_2903</td>\n",
       "      <td>frameshift_variant</td>\n",
       "      <td>False</td>\n",
       "      <td>no assertion criteria provided</td>\n",
       "      <td>0.95</td>\n",
       "      <td>0.285714</td>\n",
       "      <td>1.0</td>\n",
       "      <td>0.710086</td>\n",
       "    </tr>\n",
       "    <tr>\n",
       "      <th>1</th>\n",
       "      <td>ENSG00000103197</td>\n",
       "      <td>Orphanet_805</td>\n",
       "      <td>frameshift_variant</td>\n",
       "      <td>False</td>\n",
       "      <td>no assertion provided</td>\n",
       "      <td>0.95</td>\n",
       "      <td>0.142857</td>\n",
       "      <td>0.0</td>\n",
       "      <td>0.251528</td>\n",
       "    </tr>\n",
       "    <tr>\n",
       "      <th>2</th>\n",
       "      <td>ENSG00000103197</td>\n",
       "      <td>Orphanet_805</td>\n",
       "      <td>frameshift_variant</td>\n",
       "      <td>False</td>\n",
       "      <td>no assertion provided</td>\n",
       "      <td>0.95</td>\n",
       "      <td>0.142857</td>\n",
       "      <td>0.0</td>\n",
       "      <td>0.251528</td>\n",
       "    </tr>\n",
       "    <tr>\n",
       "      <th>3</th>\n",
       "      <td>ENSG00000103197</td>\n",
       "      <td>Orphanet_805</td>\n",
       "      <td>inframe_deletion</td>\n",
       "      <td>False</td>\n",
       "      <td>no assertion provided</td>\n",
       "      <td>0.70</td>\n",
       "      <td>0.142857</td>\n",
       "      <td>0.0</td>\n",
       "      <td>0.200053</td>\n",
       "    </tr>\n",
       "    <tr>\n",
       "      <th>4</th>\n",
       "      <td>ENSG00000129422</td>\n",
       "      <td>EFO_0002950</td>\n",
       "      <td>splice_acceptor_variant</td>\n",
       "      <td>False</td>\n",
       "      <td>no assertion provided</td>\n",
       "      <td>0.95</td>\n",
       "      <td>0.142857</td>\n",
       "      <td>0.0</td>\n",
       "      <td>0.251528</td>\n",
       "    </tr>\n",
       "  </tbody>\n",
       "</table>\n",
       "</div>"
      ],
      "text/plain": [
       "            target        disease              consequence  poscon  \\\n",
       "0  ENSG00000154803  Orphanet_2903       frameshift_variant   False   \n",
       "1  ENSG00000103197   Orphanet_805       frameshift_variant   False   \n",
       "2  ENSG00000103197   Orphanet_805       frameshift_variant   False   \n",
       "3  ENSG00000103197   Orphanet_805         inframe_deletion   False   \n",
       "4  ENSG00000129422    EFO_0002950  splice_acceptor_variant   False   \n",
       "\n",
       "                    review_status  consequence_weighted  review_weighted  \\\n",
       "0  no assertion criteria provided                  0.95         0.285714   \n",
       "1           no assertion provided                  0.95         0.142857   \n",
       "2           no assertion provided                  0.95         0.142857   \n",
       "3           no assertion provided                  0.70         0.142857   \n",
       "4           no assertion provided                  0.95         0.142857   \n",
       "\n",
       "   clin_sig_weighted  evidence_score  \n",
       "0                1.0        0.710086  \n",
       "1                0.0        0.251528  \n",
       "2                0.0        0.251528  \n",
       "3                0.0        0.200053  \n",
       "4                0.0        0.251528  "
      ]
     },
     "execution_count": 54,
     "metadata": {},
     "output_type": "execute_result"
    }
   ],
   "source": [
    "# Generate evidence score:\n",
    "def calculate_evidence_score(row):\n",
    "    score = 0\n",
    "    for col in columns:\n",
    "        score += row[col]*weight_series[col]\n",
    "        \n",
    "    return score\n",
    "\n",
    "simplified_evid['evidence_score'] = simplified_evid.apply(calculate_evidence_score, axis=1)\n",
    "simplified_evid.head()"
   ]
  },
  {
   "cell_type": "code",
   "execution_count": 55,
   "metadata": {
    "ExecuteTime": {
     "end_time": "2020-10-28T15:40:59.685244Z",
     "start_time": "2020-10-28T15:40:58.561311Z"
    }
   },
   "outputs": [
    {
     "data": {
      "text/plain": [
       "<matplotlib.legend.Legend at 0x7ff95f98e400>"
      ]
     },
     "execution_count": 55,
     "metadata": {},
     "output_type": "execute_result"
    },
    {
     "data": {
      "image/png": "[encoded data removed]",
      "text/plain": [
       "<Figure size 432x288 with 1 Axes>"
      ]
     },
     "metadata": {
      "needs_background": "light"
     },
     "output_type": "display_data"
    }
   ],
   "source": [
    "combined_scores = simplified_evid.groupby(['disease','target']).evidence_score.agg(harmonic_sum)\n",
    "combined_scores.name = 'combined_scores'\n",
    "\n",
    "# Grouping eva dataframe to get disease/target positive control list:\n",
    "poscon = simplified_evid.groupby(['disease','target', 'poscon']).poscon.agg(any).droplevel(2)\n",
    "poscon.name = 'positive_control'\n",
    "\n",
    "# Merge two lists together:\n",
    "combined_scores_df = pd.concat([combined_scores,poscon], axis=1)\n",
    "combined_scores.head()\n",
    "\n",
    "auc_varcnt = roc_auc_score(combined_scores_df.positive_control, combined_scores_df.combined_scores)\n",
    "fpr_varcnt, tpr_varcnt, thresholds = roc_curve(combined_scores_df.positive_control, combined_scores_df.combined_scores)\n",
    "\n",
    "# Draw baseline:\n",
    "pyplot.plot([x/100 for x in range(1,100,1)], [x/100 for x in range(1,100,1)], linestyle='--', label=f'baseline')\n",
    "\n",
    "# Calculated curves:\n",
    "pyplot.plot(fpr_varcnt, tpr_varcnt, marker='.', markersize = 1, label=f'Evidence count ({auc_varcnt:.2})') # variant count\n",
    "\n",
    "# axis labels\n",
    "pyplot.xlabel('False Positive Rate')\n",
    "pyplot.ylabel('True Positive Rate')\n",
    "\n",
    "# Add legend:\n",
    "pyplot.legend()\n"
   ]
  },
  {
   "cell_type": "code",
   "execution_count": 59,
   "metadata": {
    "ExecuteTime": {
     "end_time": "2020-10-28T15:42:57.628073Z",
     "start_time": "2020-10-28T15:42:57.608766Z"
    }
   },
   "outputs": [
    {
     "data": {
      "text/plain": [
       "557"
      ]
     },
     "execution_count": 59,
     "metadata": {},
     "output_type": "execute_result"
    }
   ],
   "source": [
    "len(combined_scores_df.loc[combined_scores_df.positive_control==1])"
   ]
  },
  {
   "cell_type": "code",
   "execution_count": 62,
   "metadata": {
    "ExecuteTime": {
     "end_time": "2020-10-30T14:39:55.737991Z",
     "start_time": "2020-10-30T14:39:55.693148Z"
    }
   },
   "outputs": [],
   "source": [
    "df = pd.DataFrame({\n",
    "    'target':['t1','t2','t3','t4'],\n",
    "    'disease':['d1','d2','d3','d4'],\n",
    "    'phenotypes':['p1','p2;p3','p1;p3;p4','p4;p5']\n",
    "})"
   ]
  },
  {
   "cell_type": "code",
   "execution_count": 65,
   "metadata": {
    "ExecuteTime": {
     "end_time": "2020-10-30T14:41:04.174791Z",
     "start_time": "2020-10-30T14:41:04.114130Z"
    }
   },
   "outputs": [
    {
     "data": {
      "text/html": [
       "<div>\n",
       "<style scoped>\n",
       "    .dataframe tbody tr th:only-of-type {\n",
       "        vertical-align: middle;\n",
       "    }\n",
       "\n",
       "    .dataframe tbody tr th {\n",
       "        vertical-align: top;\n",
       "    }\n",
       "\n",
       "    .dataframe thead th {\n",
       "        text-align: right;\n",
       "    }\n",
       "</style>\n",
       "<table border=\"1\" class=\"dataframe\">\n",
       "  <thead>\n",
       "    <tr style=\"text-align: right;\">\n",
       "      <th></th>\n",
       "      <th>target</th>\n",
       "      <th>disease</th>\n",
       "      <th>phenotypes</th>\n",
       "      <th>phenotype_list</th>\n",
       "    </tr>\n",
       "  </thead>\n",
       "  <tbody>\n",
       "    <tr>\n",
       "      <th>0</th>\n",
       "      <td>t1</td>\n",
       "      <td>d1</td>\n",
       "      <td>p1</td>\n",
       "      <td>p1</td>\n",
       "    </tr>\n",
       "    <tr>\n",
       "      <th>1</th>\n",
       "      <td>t2</td>\n",
       "      <td>d2</td>\n",
       "      <td>p2;p3</td>\n",
       "      <td>p2</td>\n",
       "    </tr>\n",
       "    <tr>\n",
       "      <th>1</th>\n",
       "      <td>t2</td>\n",
       "      <td>d2</td>\n",
       "      <td>p2;p3</td>\n",
       "      <td>p3</td>\n",
       "    </tr>\n",
       "    <tr>\n",
       "      <th>2</th>\n",
       "      <td>t3</td>\n",
       "      <td>d3</td>\n",
       "      <td>p1;p3;p4</td>\n",
       "      <td>p1</td>\n",
       "    </tr>\n",
       "    <tr>\n",
       "      <th>2</th>\n",
       "      <td>t3</td>\n",
       "      <td>d3</td>\n",
       "      <td>p1;p3;p4</td>\n",
       "      <td>p3</td>\n",
       "    </tr>\n",
       "    <tr>\n",
       "      <th>2</th>\n",
       "      <td>t3</td>\n",
       "      <td>d3</td>\n",
       "      <td>p1;p3;p4</td>\n",
       "      <td>p4</td>\n",
       "    </tr>\n",
       "    <tr>\n",
       "      <th>3</th>\n",
       "      <td>t4</td>\n",
       "      <td>d4</td>\n",
       "      <td>p4;p5</td>\n",
       "      <td>p4</td>\n",
       "    </tr>\n",
       "    <tr>\n",
       "      <th>3</th>\n",
       "      <td>t4</td>\n",
       "      <td>d4</td>\n",
       "      <td>p4;p5</td>\n",
       "      <td>p5</td>\n",
       "    </tr>\n",
       "  </tbody>\n",
       "</table>\n",
       "</div>"
      ],
      "text/plain": [
       "  target disease phenotypes phenotype_list\n",
       "0     t1      d1         p1             p1\n",
       "1     t2      d2      p2;p3             p2\n",
       "1     t2      d2      p2;p3             p3\n",
       "2     t3      d3   p1;p3;p4             p1\n",
       "2     t3      d3   p1;p3;p4             p3\n",
       "2     t3      d3   p1;p3;p4             p4\n",
       "3     t4      d4      p4;p5             p4\n",
       "3     t4      d4      p4;p5             p5"
      ]
     },
     "execution_count": 65,
     "metadata": {},
     "output_type": "execute_result"
    }
   ],
   "source": [
    "(\n",
    "    df\n",
    "    .assign(phenotype_list = df.phenotypes.str.split(';'))\n",
    "    .explode('phenotype_list')\n",
    ")\n",
    "\n"
   ]
  },
  {
   "cell_type": "code",
   "execution_count": null,
   "metadata": {},
   "outputs": [],
   "source": []
  }
 ],
 "metadata": {
  "kernelspec": {
   "display_name": "Python 3",
   "language": "python",
   "name": "python3"
  },
  "language_info": {
   "codemirror_mode": {
    "name": "ipython",
    "version": 3
   },
   "file_extension": ".py",
   "mimetype": "text/x-python",
   "name": "python",
   "nbconvert_exporter": "python",
   "pygments_lexer": "ipython3",
   "version": "3.6.10"
  }
 },
 "nbformat": 4,
 "nbformat_minor": 4
}
