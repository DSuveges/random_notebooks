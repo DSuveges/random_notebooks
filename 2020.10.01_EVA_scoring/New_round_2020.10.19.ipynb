{
 "cells": [
  {
   "cell_type": "markdown",
   "metadata": {},
   "source": [
    "# use literature + pharmaproject\n",
    "\n"
   ]
  },
  {
   "cell_type": "code",
   "execution_count": 64,
   "metadata": {
    "ExecuteTime": {
     "end_time": "2020-10-20T16:27:22.863041Z",
     "start_time": "2020-10-20T16:27:22.857441Z"
    }
   },
   "outputs": [
    {
     "data": {
      "text/html": [
       "<style>.container { width:100% !important; }</style>"
      ],
      "text/plain": [
       "<IPython.core.display.HTML object>"
      ]
     },
     "metadata": {},
     "output_type": "display_data"
    }
   ],
   "source": [
    "from IPython.core.display import display, HTML\n",
    "display(HTML(\"<style>.container { width:100% !important; }</style>\"))"
   ]
  },
  {
   "cell_type": "code",
   "execution_count": 1,
   "metadata": {
    "ExecuteTime": {
     "end_time": "2020-10-19T08:23:52.761854Z",
     "start_time": "2020-10-19T08:23:50.935459Z"
    }
   },
   "outputs": [],
   "source": [
    "import pandas as pd \n",
    "import json\n",
    "from sklearn.ensemble import RandomForestClassifier\n",
    "from sklearn.metrics import roc_curve\n",
    "from sklearn.metrics import roc_auc_score\n",
    "from matplotlib import pyplot\n",
    "\n",
    "\n",
    "def harmonic_sum(data, scale_factor=1, cap=None):\n",
    "    \"\"\"\n",
    "    Returns an harmonic sum for the data passed\n",
    "    Args:\n",
    "        data (list): list of floats to compute the harmonic sum from\n",
    "        scale_factor (float): a scaling factor to multiply to each datapoint. Defaults to 1\n",
    "        cap (float): if not None, never return an harmonic sum higher than the cap value.\n",
    "    Returns:\n",
    "        harmonic_sum (float): the harmonic sum of the data passed\n",
    "    \"\"\"\n",
    "    \n",
    "    data.sort(reverse=True)\n",
    "    harmonic_sum = sum(s / ((i+1) ** scale_factor) for i, s in enumerate(data))\n",
    "    \n",
    "    # Applying cap:\n",
    "    if cap is not None and harmonic_sum > cap:\n",
    "        return cap\n",
    "      \n",
    "    return harmonic_sum\n",
    "\n",
    "def scaling_vectors(array, target_min=0, target_max=1):\n",
    "    '''\n",
    "    Linear scaling of an array between two targets\n",
    "    '''\n",
    "\n",
    "    array_max = array.max()\n",
    "    array_min = array.min()\n",
    "\n",
    "    scaled = []\n",
    "\n",
    "    for value in array:\n",
    "        fract = (value - array_min)/(array_max - array_min)\n",
    "        scaled.append((target_max - target_min)*fract + target_min)\n",
    "\n",
    "    return np.array(scaled)\n"
   ]
  },
  {
   "cell_type": "code",
   "execution_count": 2,
   "metadata": {
    "ExecuteTime": {
     "end_time": "2020-10-19T08:26:15.791920Z",
     "start_time": "2020-10-19T08:26:05.906649Z"
    }
   },
   "outputs": [
    {
     "name": "stderr",
     "output_type": "stream",
     "text": [
      "/Users/dsuveges/opt/anaconda3/envs/jupyter/lib/python3.6/site-packages/pandas/core/generic.py:5159: SettingWithCopyWarning: \n",
      "A value is trying to be set on a copy of a slice from a DataFrame.\n",
      "Try using .loc[row_indexer,col_indexer] = value instead\n",
      "\n",
      "See the caveats in the documentation: https://pandas.pydata.org/pandas-docs/stable/user_guide/indexing.html#returning-a-view-versus-a-copy\n",
      "  self[name] = value\n"
     ]
    },
    {
     "name": "stdout",
     "output_type": "stream",
     "text": [
      "Number of entries in eva: 574097\n",
      "Number of disease/target associations pair: 21548\n",
      "Number of entries in pharmaproject: 22947\n",
      "Number of disease/target associations pair: 22947\n",
      "rows: 32570\n",
      "unique associations: 20289\n",
      "rows: 20289\n",
      "unique associations: 20289\n"
     ]
    }
   ],
   "source": [
    "##\n",
    "## EVA Read data:\n",
    "##\n",
    "eva_df = pd.read_csv('updated_eva.tsv.gz', compression='infer', sep='\\t')\n",
    "eva = eva_df[['target','disease','star','review_status','clinical_significance','consequence']]\n",
    "eva.clinical_significance = eva.clinical_significance.apply(lambda x: json.loads(x))\n",
    "\n",
    "\n",
    "print(f'Number of entries in eva: {len(eva)}')\n",
    "print(f'Number of disease/target associations pair: {len(eva[[\"target\",\"disease\"]].drop_duplicates())}')\n",
    "\n",
    "##\n",
    "## Read PharmaProject data:\n",
    "##\n",
    "\n",
    "# Reading pharmaproject file as dataframe:\n",
    "pharma_df = pd.read_csv('/Users/dsuveges/project/issue-1166_benchmarking_clingen_evidences/abbvie_pharmaprojects_2018_mapped.csv')\n",
    "\n",
    "# Renaming columns for easy handling:\n",
    "pharma_df.rename(columns={\n",
    "    'ensembl_id': 'target',\n",
    "    'id': 'disease',\n",
    "    'lApprovedUS.EU': 'approved'\n",
    "}, inplace=True)\n",
    "\n",
    "print(f'Number of entries in pharmaproject: {len(pharma_df)}')\n",
    "print(f'Number of disease/target associations pair: {len(pharma_df[[\"target\",\"disease\"]].drop_duplicates())}')\n",
    "\n",
    "##\n",
    "## Read literature data:\n",
    "##\n",
    "literature_df = pd.read_parquet('/Users/dsuveges/project/evidences/20.06_evidence_data.filtered.parquet')\n",
    "literature_df.rename(columns={\n",
    "    'efo_code': 'disease',\n",
    "    'gene_id': 'target'\n",
    "}, inplace=True)\n",
    "\n",
    "# Applying score threshold:\n",
    "literature_df = literature_df.loc[literature_df.assoc_score >= 0.6]\n",
    "\n",
    "print(f'rows: {len(literature_df)}')\n",
    "print(f'unique associations: {len(literature_df[[\"disease\",\"target\"]].drop_duplicates())}')\n",
    "\n",
    "\n",
    "summed_data = []\n",
    "for (target, disease), group in literature_df.groupby(['target', 'disease']):\n",
    "    summed_data.append({\n",
    "        'target': target,\n",
    "        'disease': disease,\n",
    "        'assoc_score': harmonic_sum(group.assoc_score.tolist())\n",
    "    }) \n",
    "\n",
    "literature_assoc = pd.DataFrame(summed_data)\n",
    "\n",
    "print(f'rows: {len(literature_assoc)}')\n",
    "print(f'unique associations: {len(literature_assoc[[\"disease\",\"target\"]].drop_duplicates())}')\n",
    "\n",
    "\n"
   ]
  },
  {
   "cell_type": "code",
   "execution_count": 57,
   "metadata": {
    "ExecuteTime": {
     "end_time": "2020-10-20T13:34:20.213088Z",
     "start_time": "2020-10-20T13:34:16.571596Z"
    }
   },
   "outputs": [
    {
     "name": "stderr",
     "output_type": "stream",
     "text": [
      "/Users/dsuveges/opt/anaconda3/envs/jupyter/lib/python3.6/site-packages/pandas/core/generic.py:5159: SettingWithCopyWarning: \n",
      "A value is trying to be set on a copy of a slice from a DataFrame.\n",
      "Try using .loc[row_indexer,col_indexer] = value instead\n",
      "\n",
      "See the caveats in the documentation: https://pandas.pydata.org/pandas-docs/stable/user_guide/indexing.html#returning-a-view-versus-a-copy\n",
      "  self[name] = value\n"
     ]
    }
   ],
   "source": [
    "\n",
    "##\n",
    "## Merging EVA and all positive controls together:\n",
    "##\n",
    "\n",
    "# Pharmaproject data:\n",
    "pharma_assoc = pharma_df.copy()\n",
    "pharma_assoc['approved'] = True\n",
    "\n",
    "# Literature data:\n",
    "lit_assoc = literature_df[['target','disease']].drop_duplicates()\n",
    "lit_assoc['literature_poscon'] = True\n",
    "\n",
    "# Get overlapping positive controls + EVA associations:\n",
    "overlap_df = eva_df[['target', 'disease']].drop_duplicates().merge(pharma_assoc, on=['disease','target'], how='left')\n",
    "overlap_df = overlap_df.merge(lit_assoc, on=['disease','target'], how='left')\n",
    "overlap_df['positive_control'] = overlap_df.apply(lambda row: True if row['literature_poscon'] == True or row['approved'] == True else False,axis=1)\n",
    "\n",
    "# Gererate a subset of table + merge with positive controls:\n",
    "eva = eva_df[['target','disease','star','review_status','clinical_significance','consequence']]\n",
    "eva.clinical_significance = eva.clinical_significance.apply(lambda x: json.loads(x))\n",
    "eva = eva.merge(overlap_df[['target','disease','positive_control']], on=['target','disease'], how='left')\n"
   ]
  },
  {
   "cell_type": "markdown",
   "metadata": {
    "ExecuteTime": {
     "end_time": "2020-10-19T08:34:45.943600Z",
     "start_time": "2020-10-19T08:34:44.328379Z"
    }
   },
   "source": [
    "# ROC - variant consequences only.\n",
    "\n",
    "* For scoring variant consequences we use the old weights. \n",
    "* Then association scores are calculated. \n",
    "* Then ROC calaculated against all positive controls"
   ]
  },
  {
   "cell_type": "code",
   "execution_count": 58,
   "metadata": {
    "ExecuteTime": {
     "end_time": "2020-10-20T13:34:25.624531Z",
     "start_time": "2020-10-20T13:34:22.512271Z"
    }
   },
   "outputs": [
    {
     "data": {
      "text/html": [
       "<div>\n",
       "<style scoped>\n",
       "    .dataframe tbody tr th:only-of-type {\n",
       "        vertical-align: middle;\n",
       "    }\n",
       "\n",
       "    .dataframe tbody tr th {\n",
       "        vertical-align: top;\n",
       "    }\n",
       "\n",
       "    .dataframe thead th {\n",
       "        text-align: right;\n",
       "    }\n",
       "</style>\n",
       "<table border=\"1\" class=\"dataframe\">\n",
       "  <thead>\n",
       "    <tr style=\"text-align: right;\">\n",
       "      <th></th>\n",
       "      <th>target</th>\n",
       "      <th>disease</th>\n",
       "      <th>positive_control</th>\n",
       "      <th>variant_consequence</th>\n",
       "    </tr>\n",
       "  </thead>\n",
       "  <tbody>\n",
       "    <tr>\n",
       "      <th>0</th>\n",
       "      <td>ENSG00000000419</td>\n",
       "      <td>Orphanet_137</td>\n",
       "      <td>False</td>\n",
       "      <td>3.881014</td>\n",
       "    </tr>\n",
       "    <tr>\n",
       "      <th>1</th>\n",
       "      <td>ENSG00000000971</td>\n",
       "      <td>EFO_0001365</td>\n",
       "      <td>True</td>\n",
       "      <td>3.856524</td>\n",
       "    </tr>\n",
       "    <tr>\n",
       "      <th>2</th>\n",
       "      <td>ENSG00000000971</td>\n",
       "      <td>EFO_0003884</td>\n",
       "      <td>False</td>\n",
       "      <td>0.950000</td>\n",
       "    </tr>\n",
       "    <tr>\n",
       "      <th>3</th>\n",
       "      <td>ENSG00000000971</td>\n",
       "      <td>EFO_1001155</td>\n",
       "      <td>False</td>\n",
       "      <td>3.960965</td>\n",
       "    </tr>\n",
       "    <tr>\n",
       "      <th>4</th>\n",
       "      <td>ENSG00000000971</td>\n",
       "      <td>Orphanet_200421</td>\n",
       "      <td>False</td>\n",
       "      <td>2.425278</td>\n",
       "    </tr>\n",
       "  </tbody>\n",
       "</table>\n",
       "</div>"
      ],
      "text/plain": [
       "            target          disease  positive_control  variant_consequence\n",
       "0  ENSG00000000419     Orphanet_137             False             3.881014\n",
       "1  ENSG00000000971      EFO_0001365              True             3.856524\n",
       "2  ENSG00000000971      EFO_0003884             False             0.950000\n",
       "3  ENSG00000000971      EFO_1001155             False             3.960965\n",
       "4  ENSG00000000971  Orphanet_200421             False             2.425278"
      ]
     },
     "execution_count": 58,
     "metadata": {},
     "output_type": "execute_result"
    }
   ],
   "source": [
    "eva_consequences_order_map = {'downstream_gene_variant': 0.6,\n",
    " 'upstream_gene_variant': 0.6,\n",
    " 'intron_variant': 0.65,\n",
    " 'non_coding_transcript_exon_variant': 0.65,\n",
    " '3_prime_UTR_variant': 0.65,\n",
    " '5_prime_UTR_variant': 0.65,\n",
    " 'mature_miRNA_variant': 0.65,\n",
    " 'coding_sequence_variant': 0.95,\n",
    " 'synonymous_variant': 0.65,\n",
    " 'stop_retained_variant': 0.65,\n",
    " 'incomplete_terminal_codon_variant': 0.9,\n",
    " 'splice_region_variant': 0.9,\n",
    " 'protein_altering_variant': 0.7,\n",
    " 'missense_variant': 0.7,\n",
    " 'inframe_deletion': 0.7,\n",
    " 'inframe_insertion': 0.7,\n",
    " 'start_lost': 0.95,\n",
    " 'stop_lost': 0.9,\n",
    " 'frameshift_variant': 0.95,\n",
    " 'stop_gained': 0.95,\n",
    " 'splice_donor_variant': 0.95,\n",
    " 'splice_acceptor_variant': 0.95,\n",
    " 'trinucleotide_repeat_expansion': 1,\n",
    " 'short_tandem_repeat_expansion': 1}\n",
    "\n",
    "old_evidence_score = eva[['target','disease','consequence','positive_control']].copy()\n",
    "old_evidence_score['consequence_weight'] = old_evidence_score.consequence.map(eva_consequences_order_map)\n",
    "\n",
    "##\n",
    "## Get association score:\n",
    "##\n",
    "summed_data = []\n",
    "for (target, disease), group in old_evidence_score.groupby(['target', 'disease']):\n",
    "    summed_data.append({\n",
    "        'target': target,\n",
    "        'disease': disease,\n",
    "        'positive_control': group.positive_control.tolist()[0],\n",
    "        'variant_consequence': harmonic_sum(group.consequence_weight.tolist())\n",
    "    }) \n",
    "    \n",
    "association_scores = pd.DataFrame(summed_data)\n",
    "association_scores.head()"
   ]
  },
  {
   "cell_type": "code",
   "execution_count": 59,
   "metadata": {
    "ExecuteTime": {
     "end_time": "2020-10-20T13:34:25.814831Z",
     "start_time": "2020-10-20T13:34:25.627417Z"
    }
   },
   "outputs": [
    {
     "data": {
      "text/plain": [
       "<matplotlib.legend.Legend at 0x7fd448d92c50>"
      ]
     },
     "execution_count": 59,
     "metadata": {},
     "output_type": "execute_result"
    },
    {
     "data": {
      "image/png": "[encoded data removed]",
      "text/plain": [
       "<Figure size 432x288 with 1 Axes>"
      ]
     },
     "metadata": {
      "needs_background": "light"
     },
     "output_type": "display_data"
    }
   ],
   "source": [
    "# Variant consequence based scores:\n",
    "fpr_var, tpr_var, thresholds = roc_curve(association_scores.positive_control, association_scores.variant_consequence)\n",
    "auc_var = roc_auc_score(association_scores.positive_control, association_scores.variant_consequence)\n",
    "\n",
    "\n",
    "# Draw baseline:\n",
    "pyplot.plot([x/100 for x in range(1,100,1)], [x/100 for x in range(1,100,1)], linestyle='--', label=f'baseline')\n",
    "\n",
    "# Calculated curves:\n",
    "pyplot.plot(fpr_var, tpr_var, marker='.', markersize = 1, label=f'variant consequence only ({auc_var:.2})') # reference\n",
    "\n",
    "# axis labels\n",
    "pyplot.xlabel('False Positive Rate')\n",
    "pyplot.ylabel('True Positive Rate')\n",
    "\n",
    "# Add legend:\n",
    "pyplot.legend()"
   ]
  },
  {
   "cell_type": "code",
   "execution_count": 60,
   "metadata": {
    "ExecuteTime": {
     "end_time": "2020-10-20T13:35:29.504035Z",
     "start_time": "2020-10-20T13:35:29.490927Z"
    }
   },
   "outputs": [
    {
     "data": {
      "text/plain": [
       "(36, 2.8688165680473374)"
      ]
     },
     "execution_count": 60,
     "metadata": {},
     "output_type": "execute_result"
    }
   ],
   "source": [
    "\n",
    "# Get enrichment: \n",
    "def get_poscon_enrichment(df, col_header):\n",
    "    '''\n",
    "    get enrichment and hit counts.\n",
    "    '''\n",
    "    poscon_count = len(df.loc[df.positive_control])\n",
    "    top_n = df.sort_values([col_header], ascending=False).head(poscon_count)\n",
    "    hits = len(top_n.loc[top_n.positive_control])\n",
    "    expected = poscon_count / len(df) * poscon_count\n",
    "    enrichment = hits / expected \n",
    "    return (hits, enrichment)\n",
    "    \n",
    "get_poscon_enrichment(association_scores, 'variant_consequence')\n"
   ]
  },
  {
   "cell_type": "code",
   "execution_count": 34,
   "metadata": {
    "ExecuteTime": {
     "end_time": "2020-10-19T12:20:58.126602Z",
     "start_time": "2020-10-19T12:20:58.122953Z"
    }
   },
   "outputs": [
    {
     "data": {
      "text/plain": [
       "Index(['target', 'disease', 'positive_control', 'variant_consequence'], dtype='object')"
      ]
     },
     "execution_count": 34,
     "metadata": {},
     "output_type": "execute_result"
    }
   ],
   "source": [
    "association_scores.columns"
   ]
  },
  {
   "cell_type": "markdown",
   "metadata": {},
   "source": [
    "# ROC \n",
    "\n"
   ]
  },
  {
   "cell_type": "code",
   "execution_count": 101,
   "metadata": {
    "ExecuteTime": {
     "end_time": "2020-10-21T14:05:57.247593Z",
     "start_time": "2020-10-21T14:05:44.042436Z"
    }
   },
   "outputs": [
    {
     "name": "stdout",
     "output_type": "stream",
     "text": [
      "Running estimator...\n",
      "Extract weights...\n",
      "consequence_weighted    0.267255\n",
      "review_weighted         0.732745\n",
      "dtype: float64\n",
      "Scaling reivew status\n",
      "Scaling variant consequences...\n",
      "Combining scores\n",
      "            target          disease  positive_control  simplified  rev_stat\n",
      "0  ENSG00000000419     Orphanet_137             False    0.461025  2.809237\n",
      "1  ENSG00000000971      EFO_0001365              True    0.427189  2.719519\n",
      "2  ENSG00000000971      EFO_0003884             False    0.105531  0.571429\n",
      "3  ENSG00000000971      EFO_1001155             False    0.432297  2.938070\n",
      "4  ENSG00000000971  Orphanet_200421             False    0.216400  1.360658\n",
      "(36, 2.8688165680473374)\n",
      "(34, 2.7094378698224855)\n",
      "(36, 2.8688165680473374)\n"
     ]
    }
   ],
   "source": [
    "\n",
    "\n",
    "eva_consequences_order_map = {\n",
    "    'downstream_gene_variant': 0.6,\n",
    "    'upstream_gene_variant': 0.6,\n",
    "    'intron_variant': 0.65,\n",
    "    'non_coding_transcript_exon_variant': 0.65,\n",
    "    '3_prime_UTR_variant': 0.65,\n",
    "    '5_prime_UTR_variant': 0.65,\n",
    "    'mature_miRNA_variant': 0.65,\n",
    "    'coding_sequence_variant': 0.95,\n",
    "    'synonymous_variant': 0.65,\n",
    "    'stop_retained_variant': 0.65,\n",
    "    'incomplete_terminal_codon_variant': 0.9,\n",
    "    'splice_region_variant': 0.9,\n",
    "    'protein_altering_variant': 0.7,\n",
    "    'missense_variant': 0.7,\n",
    "    'inframe_deletion': 0.7,\n",
    "    'inframe_insertion': 0.7,\n",
    "    'start_lost': 0.95,\n",
    "    'stop_lost': 0.9,\n",
    "    'frameshift_variant': 0.95,\n",
    "    'stop_gained': 0.95,\n",
    "    'splice_donor_variant': 0.95,\n",
    "    'splice_acceptor_variant': 0.95,\n",
    "    'trinucleotide_repeat_expansion': 1,\n",
    "    'short_tandem_repeat_expansion': 1\n",
    "}\n",
    "\n",
    "# Review status is an ordinal variable. Mapping to numbers:\n",
    "review_status_order_map = {\n",
    "    'no assertion provided': 1/7,\n",
    "    'no assertion criteria provided': 2/7,\n",
    "    'criteria provided, conflicting interpretations': 3/7,\n",
    "    'criteria provided, single submitter': 4/7,\n",
    "    'criteria provided, multiple submitters, no conflicts': 5/7,\n",
    "    'reviewed by expert panel': 6/7,\n",
    "    'practice guideline': 7/7\n",
    "}\n",
    "\n",
    "clinical_significance_mapping = {\n",
    "    'association not found': 0    \n",
    "    'benign': 0,\n",
    "    'not provided': 0,\n",
    "    'uncertain significance': 0,    \n",
    "    'likely benign': 0.2,    \n",
    "    'conflicting interpretations of pathogenicity': 0.3,   \n",
    "    'other': 0.3,\n",
    "    'association': 0.5,\n",
    "    'drug response': 0.5,\n",
    "    'protective':0.5,\n",
    "    'affects': 0.7,\n",
    "    'likely pathogenic' : 0.8,\n",
    "    'risk factor': 0.8,\n",
    "    'pathogenic' : 1,\n",
    "}\n",
    "\n",
    "simplified_evid = eva[['target','disease','consequence','positive_control','review_status']].copy()\n",
    "simplified_evid['consequence_weighted'] = simplified.consequence.map(eva_consequences_order_map)\n",
    "simplified_evid['review_weighted'] = simplified.review_status.map(review_status_order_map)\n",
    "\n",
    "##\n",
    "## Run estimator:\n",
    "##\n",
    "print('Running estimator...')\n",
    "rf = RandomForestClassifier()\n",
    "columns = ['consequence_weighted','review_weighted']\n",
    "rf.fit(simplified_evid[columns],simplified_evid.positive_control)    \n",
    "\n",
    "# Extracting weight:\n",
    "print('Extract weights...')\n",
    "weight_series = pd.Series(rf.feature_importances_, index=columns)\n",
    "print(weight_series)\n",
    "\n",
    "##\n",
    "## Scaling review status \n",
    "##\n",
    "print('Scaling reivew status')    \n",
    "simplified_evid['simplified_review_weighted'] = weight_series['review_weighted'] * simplified_evid['review_weighted']\n",
    "\n",
    "##\n",
    "## Scaling variant consequences:\n",
    "##\n",
    "print('Scaling variant consequences...')\n",
    "simplified_evid['simplified_consequence_weighted'] = weight_series['consequence_weighted'] * simplified_evid['consequence_weighted']\n",
    "\n"
   ]
  },
  {
   "cell_type": "code",
   "execution_count": 126,
   "metadata": {
    "ExecuteTime": {
     "end_time": "2020-10-21T14:26:14.847445Z",
     "start_time": "2020-10-21T14:26:09.507099Z"
    }
   },
   "outputs": [
    {
     "name": "stdout",
     "output_type": "stream",
     "text": [
      "Scaling reivew status\n",
      "Scaling variant consequences...\n",
      "Combining scores\n",
      "            target          disease  positive_control  simplified  rev_stat  \\\n",
      "0  ENSG00000000419     Orphanet_137             False    3.061347  2.809237   \n",
      "1  ENSG00000000971      EFO_0001365              True    3.019755  2.719519   \n",
      "2  ENSG00000000971      EFO_0003884             False    0.671447  0.571429   \n",
      "3  ENSG00000000971      EFO_1001155             False    3.117236  2.938070   \n",
      "4  ENSG00000000971  Orphanet_200421             False    1.625418  1.360658   \n",
      "\n",
      "   clin_sig  \n",
      "0  2.774043  \n",
      "1  1.976146  \n",
      "2  0.800000  \n",
      "3  2.221858  \n",
      "4  2.717857  \n",
      "(36, 2.8688165680473374)\n",
      "(36, 2.8688165680473374)\n",
      "(36, 2.8688165680473374)\n",
      "(56, 4.462603550295858)\n"
     ]
    }
   ],
   "source": [
    "\n",
    "\n",
    "##\n",
    "## Scaling review status \n",
    "##\n",
    "print('Scaling reivew status')    \n",
    "simplified_evid['simplified_review_weighted'] = weight_series['review_weighted'] * 1 # simplified_evid['review_weighted']\n",
    "\n",
    "##\n",
    "## Scaling variant consequences:\n",
    "##\n",
    "print('Scaling variant consequences...')\n",
    "simplified_evid['simplified_consequence_weighted'] = weight_series['consequence_weighted'] * 1 # simplified_evid['consequence_weighted']\n",
    "\n",
    "\n",
    "\n",
    "##\n",
    "## Combine all weights and scale:\n",
    "##\n",
    "print('Combining scores')    \n",
    "simplified_evid['simplified'] = simplified_consequence_weighted + simplified_review_weighted\n",
    "\n",
    "\n",
    "##\n",
    "## Scaling clinical significance:\n",
    "##\n",
    "simplified_evid['clinical_significance_weighted'] = eva.clinical_significance.apply(lambda y: max([x for x in map(lambda x: clinical_significance_mapping[x], y)]))\n",
    "\n",
    "##\n",
    "## Get association score:\n",
    "##\n",
    "summed_data = []\n",
    "for (target, disease), group in simplified_evid.groupby(['target', 'disease']):\n",
    "    summed_data.append({\n",
    "        'target': target,\n",
    "        'disease': disease,\n",
    "        'positive_control': group.positive_control.tolist()[0],\n",
    "        'simplified': harmonic_sum(group.simplified.tolist()),\n",
    "        'rev_stat': harmonic_sum(group.review_weighted.tolist()),\n",
    "        'clin_sig': harmonic_sum(group.clinical_significance_weighted.tolist())\n",
    "    }) \n",
    "    \n",
    "simplified_assoc = pd.DataFrame(summed_data)    \n",
    "print(simplified_assoc.head())\n",
    "print(get_poscon_enrichment(association_scores, 'variant_consequence'))\n",
    "print(get_poscon_enrichment(simplified_assoc, 'simplified'))\n",
    "print(get_poscon_enrichment(simplified_assoc, 'rev_stat'))\n",
    "print(get_poscon_enrichment(simplified_assoc, 'clin_sig'))\n"
   ]
  },
  {
   "cell_type": "code",
   "execution_count": 127,
   "metadata": {
    "ExecuteTime": {
     "end_time": "2020-10-21T14:27:39.033643Z",
     "start_time": "2020-10-21T14:27:38.822829Z"
    }
   },
   "outputs": [
    {
     "name": "stdout",
     "output_type": "stream",
     "text": [
      "(36, 2.8688165680473374)\n"
     ]
    },
    {
     "data": {
      "text/plain": [
       "<matplotlib.legend.Legend at 0x7fd45a1269e8>"
      ]
     },
     "execution_count": 127,
     "metadata": {},
     "output_type": "execute_result"
    },
    {
     "data": {
      "image/png": "[encoded data removed]",
      "text/plain": [
       "<Figure size 432x288 with 1 Axes>"
      ]
     },
     "metadata": {
      "needs_background": "light"
     },
     "output_type": "display_data"
    }
   ],
   "source": [
    "print(get_poscon_enrichment(simplified_assoc, 'simplified'))\n",
    "\n",
    "# Variant consequence based scores:\n",
    "fpr_var, tpr_var, thresholds = roc_curve(association_scores.positive_control, association_scores.variant_consequence)\n",
    "\n",
    "# Scores based on reiview status:\n",
    "fpr_rev, tpr_rev, thresholds = roc_curve(simplified_assoc.positive_control, simplified_assoc.rev_stat)\n",
    "auc_rev = roc_auc_score(simplified_assoc.positive_control, simplified_assoc.rev_stat)\n",
    "\n",
    "# Scores based on variant consequences + review status:\n",
    "fpr_sim, tpr_sim, thresholds = roc_curve(simplified_assoc.positive_control, simplified_assoc.simplified)\n",
    "auc_sim = roc_auc_score(simplified_assoc.positive_control, simplified_assoc.simplified)\n",
    "\n",
    "# Scores based on clinical significance:\n",
    "fpr_clin, tpr_clin, thresholds = roc_curve(simplified_assoc.positive_control, simplified_assoc.clin_sig)\n",
    "auc_clin = roc_auc_score(simplified_assoc.positive_control, simplified_assoc.clin_sig)\n",
    "\n",
    "\n",
    "\n",
    "# Draw baseline:\n",
    "pyplot.plot([x/100 for x in range(1,100,1)], [x/100 for x in range(1,100,1)], linestyle='--', label=f'baseline')\n",
    "\n",
    "# Calculated curves:\n",
    "pyplot.plot(fpr_var, tpr_var, marker='.', markersize = 1, label=f'variant consequence only ({auc_var:.2})') # reference\n",
    "pyplot.plot(fpr_rev, tpr_rev, marker='.', markersize = 1, label=f'review status only ({auc_rev:.2})') # reference\n",
    "pyplot.plot(fpr_sim, tpr_sim, marker='.', markersize = 1, label=f'simplified ({auc_sim:.2})') # reference\n",
    "pyplot.plot(fpr_clin, tpr_clin, marker='.', markersize = 1, label=f'clinical signficance ({auc_clin:.2})') # reference\n",
    "\n",
    "\n",
    "# axis labels\n",
    "pyplot.xlabel('False Positive Rate')\n",
    "pyplot.ylabel('True Positive Rate')\n",
    "\n",
    "# Add legend:\n",
    "pyplot.legend()\n"
   ]
  },
  {
   "cell_type": "code",
   "execution_count": 108,
   "metadata": {
    "ExecuteTime": {
     "end_time": "2020-10-21T14:11:56.934910Z",
     "start_time": "2020-10-21T14:11:56.672293Z"
    }
   },
   "outputs": [
    {
     "data": {
      "text/plain": [
       "[None,\n",
       " 'likely pathogenic',\n",
       " 'pathogenic',\n",
       " 'benign',\n",
       " 'affects',\n",
       " 'other',\n",
       " 'risk factor',\n",
       " 'conflicting interpretations of pathogenicity',\n",
       " 'likely benign',\n",
       " 'association']"
      ]
     },
     "execution_count": 108,
     "metadata": {},
     "output_type": "execute_result"
    }
   ],
   "source": [
    "eva.clinical_significance.apply(lambda x: x[0] if len(x) > 1 else None).unique().tolist()"
   ]
  },
  {
   "cell_type": "markdown",
   "metadata": {},
   "source": [
    "## clinical significance + review status + consequence"
   ]
  },
  {
   "cell_type": "code",
   "execution_count": 134,
   "metadata": {
    "ExecuteTime": {
     "end_time": "2020-10-21T14:35:06.097239Z",
     "start_time": "2020-10-21T14:34:55.348638Z"
    }
   },
   "outputs": [
    {
     "name": "stdout",
     "output_type": "stream",
     "text": [
      "Extract weights...\n",
      "consequence_weighted              0.165398\n",
      "review_weighted                   0.329977\n",
      "clinical_significance_weighted    0.504626\n",
      "dtype: float64\n"
     ]
    }
   ],
   "source": [
    "columns = ['consequence_weighted','review_weighted', 'clinical_significance_weighted']\n",
    "rf.fit(simplified_evid[columns],simplified_evid.positive_control)    \n",
    "\n",
    "# Extracting weight:\n",
    "print('Extract weights...')\n",
    "weight_series = pd.Series(rf.feature_importances_, index=columns)\n",
    "print(weight_series)\n",
    "\n",
    "\n"
   ]
  },
  {
   "cell_type": "code",
   "execution_count": 139,
   "metadata": {
    "ExecuteTime": {
     "end_time": "2020-10-21T14:40:49.929826Z",
     "start_time": "2020-10-21T14:40:30.695096Z"
    }
   },
   "outputs": [
    {
     "name": "stdout",
     "output_type": "stream",
     "text": [
      "            target          disease  positive_control  simplified  rev_stat  \\\n",
      "0  ENSG00000000419     Orphanet_137             False    3.061347  2.809237   \n",
      "1  ENSG00000000971      EFO_0001365              True    3.019755  2.719519   \n",
      "2  ENSG00000000971      EFO_0003884             False    0.671447  0.571429   \n",
      "3  ENSG00000000971      EFO_1001155             False    3.117236  2.938070   \n",
      "4  ENSG00000000971  Orphanet_200421             False    1.625418  1.360658   \n",
      "\n",
      "   clin_sig  combined_score  \n",
      "0  2.774043        2.814928  \n",
      "1  1.976146        2.374554  \n",
      "2  0.800000        0.749386  \n",
      "3  2.221858        2.481634  \n",
      "4  2.717857        2.162958  \n",
      "(36, 2.8688165680473374)\n",
      "(36, 2.8688165680473374)\n",
      "(36, 2.8688165680473374)\n",
      "(56, 4.462603550295858)\n",
      "(46, 3.6657100591715976)\n"
     ]
    }
   ],
   "source": [
    "def calculate_score(row):\n",
    "    score = 0\n",
    "    for col in columns:\n",
    "        score += weight_series[col] * row[col]\n",
    "        \n",
    "    return(score)\n",
    "\n",
    "simplified_evid['combined_score'] = simplified_evid.apply(calculate_score, axis=1)\n",
    "\n",
    "\n",
    "summed_data = []\n",
    "for (target, disease), group in simplified_evid.groupby(['target', 'disease']):\n",
    "    summed_data.append({\n",
    "        'target': target,\n",
    "        'disease': disease,\n",
    "        'positive_control': group.positive_control.tolist()[0],\n",
    "        'simplified': harmonic_sum(group.simplified.tolist()),\n",
    "        'rev_stat': harmonic_sum(group.review_weighted.tolist()),\n",
    "        'clin_sig': harmonic_sum(group.clinical_significance_weighted.tolist()),\n",
    "        'combined_score': harmonic_sum(group.combined_score.tolist()),\n",
    "    }) \n",
    "    \n",
    "simplified_assoc = pd.DataFrame(summed_data)    \n",
    "print(simplified_assoc.head())\n",
    "print(get_poscon_enrichment(association_scores, 'variant_consequence'))\n",
    "print(get_poscon_enrichment(simplified_assoc, 'simplified'))\n",
    "print(get_poscon_enrichment(simplified_assoc, 'rev_stat'))\n",
    "print(get_poscon_enrichment(simplified_assoc, 'clin_sig'))\n",
    "print(get_poscon_enrichment(simplified_assoc, 'combined_score'))"
   ]
  },
  {
   "cell_type": "code",
   "execution_count": 140,
   "metadata": {
    "ExecuteTime": {
     "end_time": "2020-10-21T14:42:18.412534Z",
     "start_time": "2020-10-21T14:42:18.185093Z"
    }
   },
   "outputs": [
    {
     "data": {
      "text/plain": [
       "<matplotlib.legend.Legend at 0x7fd44b2559e8>"
      ]
     },
     "execution_count": 140,
     "metadata": {},
     "output_type": "execute_result"
    },
    {
     "data": {
      "image/png": "[encoded data removed]",
      "text/plain": [
       "<Figure size 432x288 with 1 Axes>"
      ]
     },
     "metadata": {
      "needs_background": "light"
     },
     "output_type": "display_data"
    }
   ],
   "source": [
    "# Variant consequence based scores:\n",
    "fpr_var, tpr_var, thresholds = roc_curve(association_scores.positive_control, association_scores.variant_consequence)\n",
    "\n",
    "# Scores based on reiview status:\n",
    "fpr_rev, tpr_rev, thresholds = roc_curve(simplified_assoc.positive_control, simplified_assoc.rev_stat)\n",
    "auc_rev = roc_auc_score(simplified_assoc.positive_control, simplified_assoc.rev_stat)\n",
    "\n",
    "# Scores based on variant consequences + review status:\n",
    "fpr_sim, tpr_sim, thresholds = roc_curve(simplified_assoc.positive_control, simplified_assoc.simplified)\n",
    "auc_sim = roc_auc_score(simplified_assoc.positive_control, simplified_assoc.simplified)\n",
    "\n",
    "# Scores based on clinical significance:\n",
    "fpr_clin, tpr_clin, thresholds = roc_curve(simplified_assoc.positive_control, simplified_assoc.clin_sig)\n",
    "auc_clin = roc_auc_score(simplified_assoc.positive_control, simplified_assoc.clin_sig)\n",
    "\n",
    "# Combined scores based on all features:\n",
    "fpr_com, tpr_com, thresholds = roc_curve(simplified_assoc.positive_control, simplified_assoc.combined_score)\n",
    "auc_com = roc_auc_score(simplified_assoc.positive_control, simplified_assoc.combined_score)\n",
    "\n",
    "# Draw baseline:\n",
    "pyplot.plot([x/100 for x in range(1,100,1)], [x/100 for x in range(1,100,1)], linestyle='--', label=f'baseline')\n",
    "\n",
    "# Calculated curves:\n",
    "pyplot.plot(fpr_var, tpr_var, marker='.', markersize = 1, label=f'variant consequence only ({auc_var:.2})') # reference\n",
    "pyplot.plot(fpr_rev, tpr_rev, marker='.', markersize = 1, label=f'review status only ({auc_rev:.2})') # reference\n",
    "pyplot.plot(fpr_sim, tpr_sim, marker='.', markersize = 1, label=f'simplified ({auc_sim:.2})') # reference\n",
    "pyplot.plot(fpr_clin, tpr_clin, marker='.', markersize = 1, label=f'clinical signficance ({auc_clin:.2})') # reference\n",
    "pyplot.plot(fpr_com, tpr_com, marker='.', markersize = 1, label=f'all features ({auc_com:.2})') # reference\n",
    "\n",
    "# axis labels\n",
    "pyplot.xlabel('False Positive Rate')\n",
    "pyplot.ylabel('True Positive Rate')\n",
    "\n",
    "# Add legend:\n",
    "pyplot.legend()"
   ]
  },
  {
   "cell_type": "markdown",
   "metadata": {},
   "source": [
    "# Categorcal clinical significance"
   ]
  },
  {
   "cell_type": "code",
   "execution_count": 153,
   "metadata": {
    "ExecuteTime": {
     "end_time": "2020-10-21T15:08:13.521624Z",
     "start_time": "2020-10-21T15:08:08.232949Z"
    }
   },
   "outputs": [
    {
     "data": {
      "text/html": [
       "<div>\n",
       "<style scoped>\n",
       "    .dataframe tbody tr th:only-of-type {\n",
       "        vertical-align: middle;\n",
       "    }\n",
       "\n",
       "    .dataframe tbody tr th {\n",
       "        vertical-align: top;\n",
       "    }\n",
       "\n",
       "    .dataframe thead th {\n",
       "        text-align: right;\n",
       "    }\n",
       "</style>\n",
       "<table border=\"1\" class=\"dataframe\">\n",
       "  <thead>\n",
       "    <tr style=\"text-align: right;\">\n",
       "      <th></th>\n",
       "      <th>target</th>\n",
       "      <th>disease</th>\n",
       "      <th>positive_control</th>\n",
       "      <th>clinical_significance</th>\n",
       "      <th>clin_sig_affects</th>\n",
       "      <th>clin_sig_association</th>\n",
       "      <th>clin_sig_association not found</th>\n",
       "      <th>clin_sig_benign</th>\n",
       "      <th>clin_sig_conflicting interpretations of pathogenicity</th>\n",
       "      <th>clin_sig_drug response</th>\n",
       "      <th>clin_sig_likely benign</th>\n",
       "      <th>clin_sig_likely pathogenic</th>\n",
       "      <th>clin_sig_not provided</th>\n",
       "      <th>clin_sig_other</th>\n",
       "      <th>clin_sig_pathogenic</th>\n",
       "      <th>clin_sig_protective</th>\n",
       "      <th>clin_sig_risk factor</th>\n",
       "      <th>clin_sig_uncertain significance</th>\n",
       "    </tr>\n",
       "  </thead>\n",
       "  <tbody>\n",
       "    <tr>\n",
       "      <th>1236</th>\n",
       "      <td>ENSG00000119899</td>\n",
       "      <td>Orphanet_309334</td>\n",
       "      <td>False</td>\n",
       "      <td>[likely pathogenic, pathogenic]</td>\n",
       "      <td>0</td>\n",
       "      <td>0</td>\n",
       "      <td>0</td>\n",
       "      <td>0</td>\n",
       "      <td>0</td>\n",
       "      <td>0</td>\n",
       "      <td>0</td>\n",
       "      <td>1</td>\n",
       "      <td>0</td>\n",
       "      <td>0</td>\n",
       "      <td>1</td>\n",
       "      <td>0</td>\n",
       "      <td>0</td>\n",
       "      <td>0</td>\n",
       "    </tr>\n",
       "    <tr>\n",
       "      <th>3046</th>\n",
       "      <td>ENSG00000026103</td>\n",
       "      <td>Orphanet_3261</td>\n",
       "      <td>False</td>\n",
       "      <td>[likely pathogenic, pathogenic]</td>\n",
       "      <td>0</td>\n",
       "      <td>0</td>\n",
       "      <td>0</td>\n",
       "      <td>0</td>\n",
       "      <td>0</td>\n",
       "      <td>0</td>\n",
       "      <td>0</td>\n",
       "      <td>1</td>\n",
       "      <td>0</td>\n",
       "      <td>0</td>\n",
       "      <td>1</td>\n",
       "      <td>0</td>\n",
       "      <td>0</td>\n",
       "      <td>0</td>\n",
       "    </tr>\n",
       "    <tr>\n",
       "      <th>3886</th>\n",
       "      <td>ENSG00000136160</td>\n",
       "      <td>Orphanet_897</td>\n",
       "      <td>False</td>\n",
       "      <td>[likely pathogenic, pathogenic]</td>\n",
       "      <td>0</td>\n",
       "      <td>0</td>\n",
       "      <td>0</td>\n",
       "      <td>0</td>\n",
       "      <td>0</td>\n",
       "      <td>0</td>\n",
       "      <td>0</td>\n",
       "      <td>1</td>\n",
       "      <td>0</td>\n",
       "      <td>0</td>\n",
       "      <td>1</td>\n",
       "      <td>0</td>\n",
       "      <td>0</td>\n",
       "      <td>0</td>\n",
       "    </tr>\n",
       "    <tr>\n",
       "      <th>4137</th>\n",
       "      <td>ENSG00000137700</td>\n",
       "      <td>Orphanet_79259</td>\n",
       "      <td>False</td>\n",
       "      <td>[likely pathogenic, pathogenic]</td>\n",
       "      <td>0</td>\n",
       "      <td>0</td>\n",
       "      <td>0</td>\n",
       "      <td>0</td>\n",
       "      <td>0</td>\n",
       "      <td>0</td>\n",
       "      <td>0</td>\n",
       "      <td>1</td>\n",
       "      <td>0</td>\n",
       "      <td>0</td>\n",
       "      <td>1</td>\n",
       "      <td>0</td>\n",
       "      <td>0</td>\n",
       "      <td>0</td>\n",
       "    </tr>\n",
       "    <tr>\n",
       "      <th>4153</th>\n",
       "      <td>ENSG00000137700</td>\n",
       "      <td>Orphanet_79259</td>\n",
       "      <td>False</td>\n",
       "      <td>[likely pathogenic, pathogenic]</td>\n",
       "      <td>0</td>\n",
       "      <td>0</td>\n",
       "      <td>0</td>\n",
       "      <td>0</td>\n",
       "      <td>0</td>\n",
       "      <td>0</td>\n",
       "      <td>0</td>\n",
       "      <td>1</td>\n",
       "      <td>0</td>\n",
       "      <td>0</td>\n",
       "      <td>1</td>\n",
       "      <td>0</td>\n",
       "      <td>0</td>\n",
       "      <td>0</td>\n",
       "    </tr>\n",
       "  </tbody>\n",
       "</table>\n",
       "</div>"
      ],
      "text/plain": [
       "               target          disease  positive_control  \\\n",
       "1236  ENSG00000119899  Orphanet_309334             False   \n",
       "3046  ENSG00000026103    Orphanet_3261             False   \n",
       "3886  ENSG00000136160     Orphanet_897             False   \n",
       "4137  ENSG00000137700   Orphanet_79259             False   \n",
       "4153  ENSG00000137700   Orphanet_79259             False   \n",
       "\n",
       "                clinical_significance  clin_sig_affects  clin_sig_association  \\\n",
       "1236  [likely pathogenic, pathogenic]                 0                     0   \n",
       "3046  [likely pathogenic, pathogenic]                 0                     0   \n",
       "3886  [likely pathogenic, pathogenic]                 0                     0   \n",
       "4137  [likely pathogenic, pathogenic]                 0                     0   \n",
       "4153  [likely pathogenic, pathogenic]                 0                     0   \n",
       "\n",
       "      clin_sig_association not found  clin_sig_benign  \\\n",
       "1236                               0                0   \n",
       "3046                               0                0   \n",
       "3886                               0                0   \n",
       "4137                               0                0   \n",
       "4153                               0                0   \n",
       "\n",
       "      clin_sig_conflicting interpretations of pathogenicity  \\\n",
       "1236                                                  0       \n",
       "3046                                                  0       \n",
       "3886                                                  0       \n",
       "4137                                                  0       \n",
       "4153                                                  0       \n",
       "\n",
       "      clin_sig_drug response  clin_sig_likely benign  \\\n",
       "1236                       0                       0   \n",
       "3046                       0                       0   \n",
       "3886                       0                       0   \n",
       "4137                       0                       0   \n",
       "4153                       0                       0   \n",
       "\n",
       "      clin_sig_likely pathogenic  clin_sig_not provided  clin_sig_other  \\\n",
       "1236                           1                      0               0   \n",
       "3046                           1                      0               0   \n",
       "3886                           1                      0               0   \n",
       "4137                           1                      0               0   \n",
       "4153                           1                      0               0   \n",
       "\n",
       "      clin_sig_pathogenic  clin_sig_protective  clin_sig_risk factor  \\\n",
       "1236                    1                    0                     0   \n",
       "3046                    1                    0                     0   \n",
       "3886                    1                    0                     0   \n",
       "4137                    1                    0                     0   \n",
       "4153                    1                    0                     0   \n",
       "\n",
       "      clin_sig_uncertain significance  \n",
       "1236                                0  \n",
       "3046                                0  \n",
       "3886                                0  \n",
       "4137                                0  \n",
       "4153                                0  "
      ]
     },
     "execution_count": 153,
     "metadata": {},
     "output_type": "execute_result"
    }
   ],
   "source": [
    "# Get unique clinical significance values:\n",
    "clin_sig = eva[['target','disease','positive_control','clinical_significance']].copy()\n",
    "clin_sig['clinical_signif'] = clin_sig.clinical_significance.apply(lambda x: x[0] if len(x) == 1 else None)\n",
    "\n",
    "# Generate dummy features from clinical significance values:\n",
    "clin_sig = pd.get_dummies(clin_sig, prefix='clin_sig', columns=['clinical_signif'])\n",
    "\n",
    "# Update dummy columns were more then one clinical significance value is available:\n",
    "for i, row in clin_sig.loc[clin_sig.clinical_significance.apply(lambda x: True if len(x)>1 else False)].iterrows():\n",
    "    for sig_val in row['clinical_significance']:\n",
    "        clin_sig.loc[i,f'clin_sig_{sig_val}'] = 1\n",
    "        \n",
    "        \n",
    "clin_sig.loc[clin_sig.clinical_significance.apply(lambda x: True if len(x)>1 else False)].head()"
   ]
  },
  {
   "cell_type": "code",
   "execution_count": 154,
   "metadata": {
    "ExecuteTime": {
     "end_time": "2020-10-21T15:10:00.450448Z",
     "start_time": "2020-10-21T15:09:49.078130Z"
    }
   },
   "outputs": [
    {
     "data": {
      "text/plain": [
       "RandomForestClassifier()"
      ]
     },
     "execution_count": 154,
     "metadata": {},
     "output_type": "execute_result"
    }
   ],
   "source": [
    "rf = RandomForestClassifier()\n",
    "columns = [x for x in clin_sig.columns if 'clin_sig_' in x]\n",
    "rf.fit(clin_sig[columns],clin_sig.positive_control)  "
   ]
  },
  {
   "cell_type": "code",
   "execution_count": 155,
   "metadata": {
    "ExecuteTime": {
     "end_time": "2020-10-21T15:10:11.923193Z",
     "start_time": "2020-10-21T15:10:11.910969Z"
    },
    "scrolled": true
   },
   "outputs": [
    {
     "name": "stdout",
     "output_type": "stream",
     "text": [
      "Extract weights...\n",
      "clin_sig_affects                                         0.001758\n",
      "clin_sig_association                                     0.000556\n",
      "clin_sig_association not found                           0.000039\n",
      "clin_sig_benign                                          0.089109\n",
      "clin_sig_conflicting interpretations of pathogenicity    0.006099\n",
      "clin_sig_drug response                                   0.002320\n",
      "clin_sig_likely benign                                   0.034340\n",
      "clin_sig_likely pathogenic                               0.671123\n",
      "clin_sig_not provided                                    0.003051\n",
      "clin_sig_other                                           0.028692\n",
      "clin_sig_pathogenic                                      0.067636\n",
      "clin_sig_protective                                      0.006018\n",
      "clin_sig_risk factor                                     0.022178\n",
      "clin_sig_uncertain significance                          0.067081\n",
      "dtype: float64\n"
     ]
    }
   ],
   "source": [
    "# Extracting weight:\n",
    "print('Extract weights...')\n",
    "weight_series = pd.Series(rf.feature_importances_, index=columns)\n",
    "print(weight_series)"
   ]
  },
  {
   "cell_type": "code",
   "execution_count": 156,
   "metadata": {
    "ExecuteTime": {
     "end_time": "2020-10-21T15:13:37.787106Z",
     "start_time": "2020-10-21T15:12:41.755836Z"
    }
   },
   "outputs": [
    {
     "data": {
      "text/plain": [
       "0         0.067636\n",
       "1         0.067636\n",
       "2         0.003051\n",
       "3         0.003051\n",
       "4         0.003051\n",
       "            ...   \n",
       "574092    0.067636\n",
       "574093    0.089109\n",
       "574094    0.067081\n",
       "574095    0.671123\n",
       "574096    0.067636\n",
       "Name: combined_score, Length: 574097, dtype: float64"
      ]
     },
     "execution_count": 156,
     "metadata": {},
     "output_type": "execute_result"
    }
   ],
   "source": [
    "def calculate_score(row):\n",
    "    score = 0\n",
    "    for col in columns:\n",
    "        score += weight_series[col] * row[col]\n",
    "        \n",
    "    return(score)\n",
    "\n",
    "clin_sig['combined_score'] = clin_sig[columns].apply(calculate_score, axis=1)\n",
    "clin_sig.combined_score"
   ]
  },
  {
   "cell_type": "code",
   "execution_count": 158,
   "metadata": {
    "ExecuteTime": {
     "end_time": "2020-10-21T15:15:34.999986Z",
     "start_time": "2020-10-21T15:15:31.470057Z"
    }
   },
   "outputs": [
    {
     "name": "stdout",
     "output_type": "stream",
     "text": [
      "            target          disease  positive_control  clin_sig_score\n",
      "0  ENSG00000000419     Orphanet_137             False        0.328024\n",
      "1  ENSG00000000971      EFO_0001365              True        0.398059\n",
      "2  ENSG00000000971      EFO_0003884             False        0.671123\n",
      "3  ENSG00000000971      EFO_1001155             False        0.387301\n",
      "4  ENSG00000000971  Orphanet_200421             False        0.197987\n",
      "(54, 4.303224852071006)\n"
     ]
    }
   ],
   "source": [
    "summed_data = []\n",
    "for (target, disease), group in clin_sig.groupby(['target', 'disease']):\n",
    "    summed_data.append({\n",
    "        'target': target,\n",
    "        'disease': disease,\n",
    "        'positive_control': group.positive_control.tolist()[0],\n",
    "        'clin_sig_score': harmonic_sum(group.combined_score.tolist()),\n",
    "    }) \n",
    "    \n",
    "clin_sig_assoc = pd.DataFrame(summed_data)    \n",
    "print(clin_sig_assoc.head())\n",
    "print(get_poscon_enrichment(clin_sig_assoc, 'clin_sig_score'))"
   ]
  },
  {
   "cell_type": "code",
   "execution_count": 160,
   "metadata": {
    "ExecuteTime": {
     "end_time": "2020-10-21T15:18:07.239845Z",
     "start_time": "2020-10-21T15:18:07.033288Z"
    }
   },
   "outputs": [
    {
     "data": {
      "text/plain": [
       "<matplotlib.legend.Legend at 0x7fd99b590470>"
      ]
     },
     "execution_count": 160,
     "metadata": {},
     "output_type": "execute_result"
    },
    {
     "data": {
      "image/png": "[encoded data removed]",
      "text/plain": [
       "<Figure size 432x288 with 1 Axes>"
      ]
     },
     "metadata": {
      "needs_background": "light"
     },
     "output_type": "display_data"
    }
   ],
   "source": [
    "# Variant consequence based scores:\n",
    "fpr_var, tpr_var, thresholds = roc_curve(association_scores.positive_control, association_scores.variant_consequence)\n",
    "\n",
    "# Scores based on reiview status:\n",
    "fpr_rev, tpr_rev, thresholds = roc_curve(simplified_assoc.positive_control, simplified_assoc.rev_stat)\n",
    "auc_rev = roc_auc_score(simplified_assoc.positive_control, simplified_assoc.rev_stat)\n",
    "\n",
    "# Scores based on clinical significance:\n",
    "fpr_clin, tpr_clin, thresholds = roc_curve(simplified_assoc.positive_control, simplified_assoc.clin_sig)\n",
    "auc_clin = roc_auc_score(simplified_assoc.positive_control, simplified_assoc.clin_sig)\n",
    "\n",
    "# Combined scores based on all improved clinical signif:\n",
    "fpr_com, tpr_com, thresholds = roc_curve(clin_sig_assoc.positive_control, clin_sig_assoc.clin_sig_score)\n",
    "auc_com = roc_auc_score(clin_sig_assoc.positive_control, clin_sig_assoc.clin_sig_score)\n",
    "\n",
    "# Draw baseline:\n",
    "pyplot.plot([x/100 for x in range(1,100,1)], [x/100 for x in range(1,100,1)], linestyle='--', label=f'baseline')\n",
    "\n",
    "# Calculated curves:\n",
    "pyplot.plot(fpr_var, tpr_var, marker='.', markersize = 1, label=f'variant consequence only ({auc_var:.2})') # reference\n",
    "pyplot.plot(fpr_clin, tpr_clin, marker='.', markersize = 1, label=f'clinical signficance ({auc_clin:.2})') # reference\n",
    "pyplot.plot(fpr_com, tpr_com, marker='.', markersize = 1, label=f'clinical signficance optimized ({auc_com:.2})') # reference\n",
    "\n",
    "# axis labels\n",
    "pyplot.xlabel('False Positive Rate')\n",
    "pyplot.ylabel('True Positive Rate')\n",
    "\n",
    "# Add legend:\n",
    "pyplot.legend()"
   ]
  },
  {
   "cell_type": "markdown",
   "metadata": {},
   "source": [
    "# Combining evidence\n",
    "\n",
    "\n",
    "In the following section we pull evidence together and came upwith something"
   ]
  },
  {
   "cell_type": "code",
   "execution_count": 208,
   "metadata": {
    "ExecuteTime": {
     "end_time": "2020-10-22T08:54:49.824737Z",
     "start_time": "2020-10-22T08:54:33.542495Z"
    }
   },
   "outputs": [
    {
     "data": {
      "text/html": [
       "<div>\n",
       "<style scoped>\n",
       "    .dataframe tbody tr th:only-of-type {\n",
       "        vertical-align: middle;\n",
       "    }\n",
       "\n",
       "    .dataframe tbody tr th {\n",
       "        vertical-align: top;\n",
       "    }\n",
       "\n",
       "    .dataframe thead th {\n",
       "        text-align: right;\n",
       "    }\n",
       "</style>\n",
       "<table border=\"1\" class=\"dataframe\">\n",
       "  <thead>\n",
       "    <tr style=\"text-align: right;\">\n",
       "      <th></th>\n",
       "      <th>disease</th>\n",
       "      <th>target</th>\n",
       "      <th>flag</th>\n",
       "      <th>len</th>\n",
       "      <th>positive_control</th>\n",
       "      <th>max_consequence</th>\n",
       "      <th>max_review</th>\n",
       "      <th>max_clin_sig</th>\n",
       "      <th>mean_consequence</th>\n",
       "      <th>mean_review</th>\n",
       "      <th>mean_clin_sig</th>\n",
       "    </tr>\n",
       "  </thead>\n",
       "  <tbody>\n",
       "    <tr>\n",
       "      <th>0</th>\n",
       "      <td>EFO_0000095</td>\n",
       "      <td>ENSG00000010671</td>\n",
       "      <td>True</td>\n",
       "      <td>1</td>\n",
       "      <td>True</td>\n",
       "      <td>0.7</td>\n",
       "      <td>0.142857</td>\n",
       "      <td>0.0</td>\n",
       "      <td>0.7</td>\n",
       "      <td>0.142857</td>\n",
       "      <td>0.0</td>\n",
       "    </tr>\n",
       "    <tr>\n",
       "      <th>1</th>\n",
       "      <td>EFO_0000095</td>\n",
       "      <td>ENSG00000082898</td>\n",
       "      <td>True</td>\n",
       "      <td>3</td>\n",
       "      <td>True</td>\n",
       "      <td>0.7</td>\n",
       "      <td>0.285714</td>\n",
       "      <td>0.8</td>\n",
       "      <td>0.7</td>\n",
       "      <td>0.285714</td>\n",
       "      <td>0.8</td>\n",
       "    </tr>\n",
       "    <tr>\n",
       "      <th>2</th>\n",
       "      <td>EFO_0000095</td>\n",
       "      <td>ENSG00000087365</td>\n",
       "      <td>False</td>\n",
       "      <td>2</td>\n",
       "      <td>False</td>\n",
       "      <td>0.7</td>\n",
       "      <td>0.285714</td>\n",
       "      <td>0.8</td>\n",
       "      <td>0.7</td>\n",
       "      <td>0.285714</td>\n",
       "      <td>0.8</td>\n",
       "    </tr>\n",
       "    <tr>\n",
       "      <th>3</th>\n",
       "      <td>EFO_0000095</td>\n",
       "      <td>ENSG00000109670</td>\n",
       "      <td>False</td>\n",
       "      <td>10</td>\n",
       "      <td>False</td>\n",
       "      <td>0.7</td>\n",
       "      <td>0.285714</td>\n",
       "      <td>0.8</td>\n",
       "      <td>0.7</td>\n",
       "      <td>0.285714</td>\n",
       "      <td>0.8</td>\n",
       "    </tr>\n",
       "    <tr>\n",
       "      <th>4</th>\n",
       "      <td>EFO_0000095</td>\n",
       "      <td>ENSG00000115524</td>\n",
       "      <td>True</td>\n",
       "      <td>6</td>\n",
       "      <td>True</td>\n",
       "      <td>0.7</td>\n",
       "      <td>0.285714</td>\n",
       "      <td>0.8</td>\n",
       "      <td>0.7</td>\n",
       "      <td>0.285714</td>\n",
       "      <td>0.8</td>\n",
       "    </tr>\n",
       "  </tbody>\n",
       "</table>\n",
       "</div>"
      ],
      "text/plain": [
       "       disease           target   flag  len  positive_control  \\\n",
       "0  EFO_0000095  ENSG00000010671   True    1              True   \n",
       "1  EFO_0000095  ENSG00000082898   True    3              True   \n",
       "2  EFO_0000095  ENSG00000087365  False    2             False   \n",
       "3  EFO_0000095  ENSG00000109670  False   10             False   \n",
       "4  EFO_0000095  ENSG00000115524   True    6              True   \n",
       "\n",
       "   max_consequence  max_review  max_clin_sig  mean_consequence  mean_review  \\\n",
       "0              0.7    0.142857           0.0               0.7     0.142857   \n",
       "1              0.7    0.285714           0.8               0.7     0.285714   \n",
       "2              0.7    0.285714           0.8               0.7     0.285714   \n",
       "3              0.7    0.285714           0.8               0.7     0.285714   \n",
       "4              0.7    0.285714           0.8               0.7     0.285714   \n",
       "\n",
       "   mean_clin_sig  \n",
       "0            0.0  \n",
       "1            0.8  \n",
       "2            0.8  \n",
       "3            0.8  \n",
       "4            0.8  "
      ]
     },
     "execution_count": 208,
     "metadata": {},
     "output_type": "execute_result"
    }
   ],
   "source": [
    "summary = []\n",
    "for (disease,target), group in simplified_evid.groupby(['disease','target']):\n",
    "    summary.append({\n",
    "        'disease': disease,\n",
    "        'target': target,\n",
    "        'flag': group.positive_control.to_list()[0],\n",
    "        'len': len(group),\n",
    "        'positive_control': group.positive_control.to_list()[0],\n",
    "        'max_consequence': group.consequence_weighted.max(),\n",
    "        'max_review': group.review_weighted.max(),\n",
    "        'max_clin_sig': group.clinical_significance_weighted.max(),\n",
    "        'mean_consequence': group.consequence_weighted.mean(),\n",
    "        'mean_review': group.review_weighted.mean(),\n",
    "        'mean_clin_sig': group.clinical_significance_weighted.mean(),\n",
    "    })\n",
    "    \n",
    "    \n",
    "assoc_summary = pd.DataFrame(summary)\n",
    "assoc_summary.head()"
   ]
  },
  {
   "cell_type": "code",
   "execution_count": 179,
   "metadata": {
    "ExecuteTime": {
     "end_time": "2020-10-21T15:53:57.850086Z",
     "start_time": "2020-10-21T15:53:57.832978Z"
    }
   },
   "outputs": [
    {
     "name": "stdout",
     "output_type": "stream",
     "text": [
      "True max_consequence: 0.8016346153846152\n",
      "False max_consequence: 0.817146186037664\n",
      "True mean_consequence: 0.7280341700448539\n",
      "False mean_consequence: 0.7610190363997776\n",
      "True max_review: 0.4467032967032966\n",
      "False max_review: 0.5099527161064159\n",
      "True mean_review: 0.39085908966756083\n",
      "False mean_review: 0.4795598971767369\n",
      "True max_clin_sig: 0.7973076923076924\n",
      "False max_clin_sig: 0.6658978504850676\n",
      "True mean_clin_sig: 0.5686533625696805\n",
      "False mean_clin_sig: 0.4955421417864254\n"
     ]
    }
   ],
   "source": [
    "for feature in ['consequence','review','clin_sig']:\n",
    "    for stat in ['max', 'mean']:\n",
    "        for value in [True, False]:\n",
    "            x = assoc_summary.loc[assoc_summary.flag == value, f'{stat}_{feature}'].mean()\n",
    "            print (f'{value} {stat}_{feature}: {x}')"
   ]
  },
  {
   "cell_type": "code",
   "execution_count": 212,
   "metadata": {
    "ExecuteTime": {
     "end_time": "2020-10-22T08:59:56.376780Z",
     "start_time": "2020-10-22T08:59:56.160129Z"
    }
   },
   "outputs": [
    {
     "data": {
      "text/plain": [
       "<matplotlib.legend.Legend at 0x7fd489026240>"
      ]
     },
     "execution_count": 212,
     "metadata": {},
     "output_type": "execute_result"
    },
    {
     "data": {
      "image/png": "[encoded data removed]",
      "text/plain": [
       "<Figure size 432x288 with 1 Axes>"
      ]
     },
     "metadata": {
      "needs_background": "light"
     },
     "output_type": "display_data"
    }
   ],
   "source": [
    "# Variant consequence based scores:\n",
    "fpr_var, tpr_var, thresholds = roc_curve(association_scores.positive_control, association_scores.variant_consequence)\n",
    "\n",
    "# Scores based on reiview status:\n",
    "fpr_rev, tpr_rev, thresholds = roc_curve(simplified_assoc.positive_control, simplified_assoc.rev_stat)\n",
    "auc_rev = roc_auc_score(simplified_assoc.positive_control, simplified_assoc.rev_stat)\n",
    "\n",
    "# Scores based on clinical significance:\n",
    "fpr_clin, tpr_clin, thresholds = roc_curve(simplified_assoc.positive_control, simplified_assoc.clin_sig)\n",
    "auc_clin = roc_auc_score(simplified_assoc.positive_control, simplified_assoc.clin_sig)\n",
    "\n",
    "# Combined scores based on all improved clinical signif:\n",
    "fpr_com, tpr_com, thresholds = roc_curve(clin_sig_assoc.positive_control, clin_sig_assoc.clin_sig_score)\n",
    "auc_com = roc_auc_score(clin_sig_assoc.positive_control, clin_sig_assoc.clin_sig_score)\n",
    "\n",
    "# score based on evidence count:\n",
    "fpr_evc, tpr_evc, thresholds = roc_curve(assoc_summary.positive_control, assoc_summary.len)\n",
    "auc_evc = roc_auc_score(assoc_summary.positive_control, assoc_summary.len)\n",
    "\n",
    "# Draw baseline:\n",
    "pyplot.plot([x/100 for x in range(1,100,1)], [x/100 for x in range(1,100,1)], linestyle='--', label=f'baseline')\n",
    "\n",
    "# Calculated curves:\n",
    "pyplot.plot(fpr_var, tpr_var, marker='.', markersize = 1, label=f'variant consequence only ({auc_var:.2})') # reference\n",
    "pyplot.plot(fpr_clin, tpr_clin, marker='.', markersize = 1, label=f'clinical signficance ({auc_clin:.2})') # reference\n",
    "pyplot.plot(fpr_com, tpr_com, marker='.', markersize = 1, label=f'clinical signficance optimized ({auc_com:.2})') # reference\n",
    "pyplot.plot(fpr_evc, tpr_evc, marker='.', markersize = 1, label=f'evidence count ({auc_evc:.2})') # reference\n",
    "\n",
    "# axis labels\n",
    "pyplot.xlabel('False Positive Rate')\n",
    "pyplot.ylabel('True Positive Rate')\n",
    "\n",
    "# Add legend:\n",
    "pyplot.legend()"
   ]
  },
  {
   "cell_type": "code",
   "execution_count": 200,
   "metadata": {
    "ExecuteTime": {
     "end_time": "2020-10-21T22:37:59.668243Z",
     "start_time": "2020-10-21T22:37:20.170060Z"
    }
   },
   "outputs": [
    {
     "data": {
      "text/html": [
       "<div>\n",
       "<style scoped>\n",
       "    .dataframe tbody tr th:only-of-type {\n",
       "        vertical-align: middle;\n",
       "    }\n",
       "\n",
       "    .dataframe tbody tr th {\n",
       "        vertical-align: top;\n",
       "    }\n",
       "\n",
       "    .dataframe thead th {\n",
       "        text-align: right;\n",
       "    }\n",
       "</style>\n",
       "<table border=\"1\" class=\"dataframe\">\n",
       "  <thead>\n",
       "    <tr style=\"text-align: right;\">\n",
       "      <th></th>\n",
       "      <th>ensemblID</th>\n",
       "      <th>start</th>\n",
       "      <th>chr</th>\n",
       "      <th>end</th>\n",
       "      <th>name</th>\n",
       "    </tr>\n",
       "  </thead>\n",
       "  <tbody>\n",
       "    <tr>\n",
       "      <th>0</th>\n",
       "      <td>ENSG00000275852</td>\n",
       "      <td>58003904</td>\n",
       "      <td>20</td>\n",
       "      <td>58004648</td>\n",
       "      <td>LINC01742</td>\n",
       "    </tr>\n",
       "    <tr>\n",
       "      <th>1</th>\n",
       "      <td>ENSG00000224440</td>\n",
       "      <td>146814106</td>\n",
       "      <td>X</td>\n",
       "      <td>146814726</td>\n",
       "      <td>CXorf51A</td>\n",
       "    </tr>\n",
       "    <tr>\n",
       "      <th>2</th>\n",
       "      <td>ENSG00000276974</td>\n",
       "      <td>54703952</td>\n",
       "      <td>CHR_HSCHR19KIR_ABC08_AB_HAP_T_P_CTG3_1</td>\n",
       "      <td>54704235</td>\n",
       "      <td>AC245128.12</td>\n",
       "    </tr>\n",
       "    <tr>\n",
       "      <th>3</th>\n",
       "      <td>ENSG00000261140</td>\n",
       "      <td>2569043</td>\n",
       "      <td>16</td>\n",
       "      <td>2571936</td>\n",
       "      <td>AC093525.4</td>\n",
       "    </tr>\n",
       "    <tr>\n",
       "      <th>4</th>\n",
       "      <td>ENSG00000236211</td>\n",
       "      <td>130273908</td>\n",
       "      <td>2</td>\n",
       "      <td>130275449</td>\n",
       "      <td>MTCO1P7</td>\n",
       "    </tr>\n",
       "  </tbody>\n",
       "</table>\n",
       "</div>"
      ],
      "text/plain": [
       "         ensemblID      start                                     chr  \\\n",
       "0  ENSG00000275852   58003904                                      20   \n",
       "1  ENSG00000224440  146814106                                       X   \n",
       "2  ENSG00000276974   54703952  CHR_HSCHR19KIR_ABC08_AB_HAP_T_P_CTG3_1   \n",
       "3  ENSG00000261140    2569043                                      16   \n",
       "4  ENSG00000236211  130273908                                       2   \n",
       "\n",
       "         end         name  \n",
       "0   58004648    LINC01742  \n",
       "1  146814726     CXorf51A  \n",
       "2   54704235  AC245128.12  \n",
       "3    2571936   AC093525.4  \n",
       "4  130275449      MTCO1P7  "
      ]
     },
     "execution_count": 200,
     "metadata": {},
     "output_type": "execute_result"
    }
   ],
   "source": [
    "parsed = []\n",
    "\n",
    "with open('/Users/dsuveges/repositories/ot_covid19/temp/raw_files/ensembl.json') as f:\n",
    "    for row in f:\n",
    "        data = json.loads(row)\n",
    "        parsed.append({\n",
    "            'ensemblID': data['id'],\n",
    "            'start': data['start'],\n",
    "            'chr': data['seq_region_name'],\n",
    "            'end': data['end'],\n",
    "            'name': data['name']\n",
    "        })\n",
    "        \n",
    "genes_df = pd.DataFrame(parsed)\n",
    "genes_df.head()"
   ]
  },
  {
   "cell_type": "code",
   "execution_count": 205,
   "metadata": {
    "ExecuteTime": {
     "end_time": "2020-10-22T08:52:48.263557Z",
     "start_time": "2020-10-22T08:52:48.227518Z"
    }
   },
   "outputs": [
    {
     "data": {
      "text/html": [
       "<div>\n",
       "<style scoped>\n",
       "    .dataframe tbody tr th:only-of-type {\n",
       "        vertical-align: middle;\n",
       "    }\n",
       "\n",
       "    .dataframe tbody tr th {\n",
       "        vertical-align: top;\n",
       "    }\n",
       "\n",
       "    .dataframe thead th {\n",
       "        text-align: right;\n",
       "    }\n",
       "</style>\n",
       "<table border=\"1\" class=\"dataframe\">\n",
       "  <thead>\n",
       "    <tr style=\"text-align: right;\">\n",
       "      <th></th>\n",
       "      <th>target</th>\n",
       "      <th>disease</th>\n",
       "      <th>consequence</th>\n",
       "      <th>positive_control</th>\n",
       "      <th>review_status</th>\n",
       "      <th>consequence_weighted</th>\n",
       "      <th>review_weighted</th>\n",
       "      <th>simplified_review_weighted</th>\n",
       "      <th>simplified_consequence_weighted</th>\n",
       "      <th>simplified</th>\n",
       "      <th>clinical_significance_weighted</th>\n",
       "      <th>combined_score</th>\n",
       "    </tr>\n",
       "  </thead>\n",
       "  <tbody>\n",
       "    <tr>\n",
       "      <th>0</th>\n",
       "      <td>ENSG00000154803</td>\n",
       "      <td>Orphanet_2903</td>\n",
       "      <td>frameshift_variant</td>\n",
       "      <td>False</td>\n",
       "      <td>no assertion criteria provided</td>\n",
       "      <td>0.95</td>\n",
       "      <td>0.285714</td>\n",
       "      <td>0.732745</td>\n",
       "      <td>0.267255</td>\n",
       "      <td>0.461219</td>\n",
       "      <td>1.0</td>\n",
       "      <td>0.756032</td>\n",
       "    </tr>\n",
       "    <tr>\n",
       "      <th>1</th>\n",
       "      <td>ENSG00000186832</td>\n",
       "      <td>Orphanet_2337</td>\n",
       "      <td>protein_altering_variant</td>\n",
       "      <td>False</td>\n",
       "      <td>no assertion criteria provided</td>\n",
       "      <td>0.70</td>\n",
       "      <td>0.285714</td>\n",
       "      <td>0.732745</td>\n",
       "      <td>0.267255</td>\n",
       "      <td>0.395169</td>\n",
       "      <td>1.0</td>\n",
       "      <td>0.714683</td>\n",
       "    </tr>\n",
       "    <tr>\n",
       "      <th>2</th>\n",
       "      <td>ENSG00000103197</td>\n",
       "      <td>Orphanet_805</td>\n",
       "      <td>frameshift_variant</td>\n",
       "      <td>False</td>\n",
       "      <td>no assertion provided</td>\n",
       "      <td>0.95</td>\n",
       "      <td>0.142857</td>\n",
       "      <td>0.732745</td>\n",
       "      <td>0.267255</td>\n",
       "      <td>0.356105</td>\n",
       "      <td>0.0</td>\n",
       "      <td>0.204267</td>\n",
       "    </tr>\n",
       "    <tr>\n",
       "      <th>3</th>\n",
       "      <td>ENSG00000103197</td>\n",
       "      <td>Orphanet_805</td>\n",
       "      <td>frameshift_variant</td>\n",
       "      <td>False</td>\n",
       "      <td>no assertion provided</td>\n",
       "      <td>0.95</td>\n",
       "      <td>0.142857</td>\n",
       "      <td>0.732745</td>\n",
       "      <td>0.267255</td>\n",
       "      <td>0.356105</td>\n",
       "      <td>0.0</td>\n",
       "      <td>0.204267</td>\n",
       "    </tr>\n",
       "    <tr>\n",
       "      <th>4</th>\n",
       "      <td>ENSG00000103197</td>\n",
       "      <td>Orphanet_805</td>\n",
       "      <td>frameshift_variant</td>\n",
       "      <td>False</td>\n",
       "      <td>no assertion provided</td>\n",
       "      <td>0.95</td>\n",
       "      <td>0.142857</td>\n",
       "      <td>0.732745</td>\n",
       "      <td>0.267255</td>\n",
       "      <td>0.356105</td>\n",
       "      <td>0.0</td>\n",
       "      <td>0.204267</td>\n",
       "    </tr>\n",
       "  </tbody>\n",
       "</table>\n",
       "</div>"
      ],
      "text/plain": [
       "            target        disease               consequence  positive_control  \\\n",
       "0  ENSG00000154803  Orphanet_2903        frameshift_variant             False   \n",
       "1  ENSG00000186832  Orphanet_2337  protein_altering_variant             False   \n",
       "2  ENSG00000103197   Orphanet_805        frameshift_variant             False   \n",
       "3  ENSG00000103197   Orphanet_805        frameshift_variant             False   \n",
       "4  ENSG00000103197   Orphanet_805        frameshift_variant             False   \n",
       "\n",
       "                    review_status  consequence_weighted  review_weighted  \\\n",
       "0  no assertion criteria provided                  0.95         0.285714   \n",
       "1  no assertion criteria provided                  0.70         0.285714   \n",
       "2           no assertion provided                  0.95         0.142857   \n",
       "3           no assertion provided                  0.95         0.142857   \n",
       "4           no assertion provided                  0.95         0.142857   \n",
       "\n",
       "   simplified_review_weighted  simplified_consequence_weighted  simplified  \\\n",
       "0                    0.732745                         0.267255    0.461219   \n",
       "1                    0.732745                         0.267255    0.395169   \n",
       "2                    0.732745                         0.267255    0.356105   \n",
       "3                    0.732745                         0.267255    0.356105   \n",
       "4                    0.732745                         0.267255    0.356105   \n",
       "\n",
       "   clinical_significance_weighted  combined_score  \n",
       "0                             1.0        0.756032  \n",
       "1                             1.0        0.714683  \n",
       "2                             0.0        0.204267  \n",
       "3                             0.0        0.204267  \n",
       "4                             0.0        0.204267  "
      ]
     },
     "execution_count": 205,
     "metadata": {},
     "output_type": "execute_result"
    }
   ],
   "source": [
    "simplified_evid.head()"
   ]
  },
  {
   "cell_type": "code",
   "execution_count": 214,
   "metadata": {
    "ExecuteTime": {
     "end_time": "2020-10-22T09:01:09.081655Z",
     "start_time": "2020-10-22T09:01:09.077037Z"
    }
   },
   "outputs": [
    {
     "name": "stdout",
     "output_type": "stream",
     "text": [
      "clin_sig_association not found                           0.000039\n",
      "clin_sig_association                                     0.000556\n",
      "clin_sig_affects                                         0.001758\n",
      "clin_sig_drug response                                   0.002320\n",
      "clin_sig_not provided                                    0.003051\n",
      "clin_sig_protective                                      0.006018\n",
      "clin_sig_conflicting interpretations of pathogenicity    0.006099\n",
      "clin_sig_risk factor                                     0.022178\n",
      "clin_sig_other                                           0.028692\n",
      "clin_sig_likely benign                                   0.034340\n",
      "clin_sig_uncertain significance                          0.067081\n",
      "clin_sig_pathogenic                                      0.067636\n",
      "clin_sig_benign                                          0.089109\n",
      "clin_sig_likely pathogenic                               0.671123\n",
      "dtype: float64\n"
     ]
    }
   ],
   "source": [
    "print(weight_series.sort_values())"
   ]
  },
  {
   "cell_type": "code",
   "execution_count": 224,
   "metadata": {
    "ExecuteTime": {
     "end_time": "2020-10-22T12:28:27.132525Z",
     "start_time": "2020-10-22T12:28:26.924398Z"
    }
   },
   "outputs": [
    {
     "data": {
      "text/html": [
       "<div>\n",
       "<style scoped>\n",
       "    .dataframe tbody tr th:only-of-type {\n",
       "        vertical-align: middle;\n",
       "    }\n",
       "\n",
       "    .dataframe tbody tr th {\n",
       "        vertical-align: top;\n",
       "    }\n",
       "\n",
       "    .dataframe thead th {\n",
       "        text-align: right;\n",
       "    }\n",
       "</style>\n",
       "<table border=\"1\" class=\"dataframe\">\n",
       "  <thead>\n",
       "    <tr style=\"text-align: right;\">\n",
       "      <th></th>\n",
       "      <th>score</th>\n",
       "      <th>counts</th>\n",
       "    </tr>\n",
       "  </thead>\n",
       "  <tbody>\n",
       "    <tr>\n",
       "      <th>clin_sig_affects</th>\n",
       "      <td>0.001758</td>\n",
       "      <td>121</td>\n",
       "    </tr>\n",
       "    <tr>\n",
       "      <th>clin_sig_association</th>\n",
       "      <td>0.000556</td>\n",
       "      <td>172</td>\n",
       "    </tr>\n",
       "    <tr>\n",
       "      <th>clin_sig_association not found</th>\n",
       "      <td>0.000039</td>\n",
       "      <td>3</td>\n",
       "    </tr>\n",
       "    <tr>\n",
       "      <th>clin_sig_benign</th>\n",
       "      <td>0.089109</td>\n",
       "      <td>72207</td>\n",
       "    </tr>\n",
       "    <tr>\n",
       "      <th>clin_sig_conflicting interpretations of pathogenicity</th>\n",
       "      <td>0.006099</td>\n",
       "      <td>7715</td>\n",
       "    </tr>\n",
       "    <tr>\n",
       "      <th>clin_sig_drug response</th>\n",
       "      <td>0.002320</td>\n",
       "      <td>284</td>\n",
       "    </tr>\n",
       "    <tr>\n",
       "      <th>clin_sig_likely benign</th>\n",
       "      <td>0.034340</td>\n",
       "      <td>88063</td>\n",
       "    </tr>\n",
       "    <tr>\n",
       "      <th>clin_sig_likely pathogenic</th>\n",
       "      <td>0.671123</td>\n",
       "      <td>39005</td>\n",
       "    </tr>\n",
       "    <tr>\n",
       "      <th>clin_sig_not provided</th>\n",
       "      <td>0.003051</td>\n",
       "      <td>6025</td>\n",
       "    </tr>\n",
       "    <tr>\n",
       "      <th>clin_sig_other</th>\n",
       "      <td>0.028692</td>\n",
       "      <td>2126</td>\n",
       "    </tr>\n",
       "    <tr>\n",
       "      <th>clin_sig_pathogenic</th>\n",
       "      <td>0.067636</td>\n",
       "      <td>87957</td>\n",
       "    </tr>\n",
       "    <tr>\n",
       "      <th>clin_sig_protective</th>\n",
       "      <td>0.006018</td>\n",
       "      <td>29</td>\n",
       "    </tr>\n",
       "    <tr>\n",
       "      <th>clin_sig_risk factor</th>\n",
       "      <td>0.022178</td>\n",
       "      <td>353</td>\n",
       "    </tr>\n",
       "    <tr>\n",
       "      <th>clin_sig_uncertain significance</th>\n",
       "      <td>0.067081</td>\n",
       "      <td>263664</td>\n",
       "    </tr>\n",
       "  </tbody>\n",
       "</table>\n",
       "</div>"
      ],
      "text/plain": [
       "                                                       score  counts\n",
       "clin_sig_affects                                    0.001758     121\n",
       "clin_sig_association                                0.000556     172\n",
       "clin_sig_association not found                      0.000039       3\n",
       "clin_sig_benign                                     0.089109   72207\n",
       "clin_sig_conflicting interpretations of pathoge...  0.006099    7715\n",
       "clin_sig_drug response                              0.002320     284\n",
       "clin_sig_likely benign                              0.034340   88063\n",
       "clin_sig_likely pathogenic                          0.671123   39005\n",
       "clin_sig_not provided                               0.003051    6025\n",
       "clin_sig_other                                      0.028692    2126\n",
       "clin_sig_pathogenic                                 0.067636   87957\n",
       "clin_sig_protective                                 0.006018      29\n",
       "clin_sig_risk factor                                0.022178     353\n",
       "clin_sig_uncertain significance                     0.067081  263664"
      ]
     },
     "execution_count": 224,
     "metadata": {},
     "output_type": "execute_result"
    }
   ],
   "source": [
    "clin_sig_df = pd.DataFrame(weight_series, columns=['score'])\n",
    "clin_sig_df['counts'] = clin_sig_df.score.apply(lambda x: len(clin_sig.loc[clin_sig.combined_score == x]))\n",
    "clin_sig_df"
   ]
  },
  {
   "cell_type": "code",
   "execution_count": 231,
   "metadata": {
    "ExecuteTime": {
     "end_time": "2020-10-22T21:01:22.068056Z",
     "start_time": "2020-10-22T21:01:21.909028Z"
    }
   },
   "outputs": [
    {
     "data": {
      "text/plain": [
       "[<matplotlib.lines.Line2D at 0x7fd4726b7d68>]"
      ]
     },
     "execution_count": 231,
     "metadata": {},
     "output_type": "execute_result"
    },
    {
     "data": {
      "image/png": "[encoded data removed]",
      "text/plain": [
       "<Figure size 432x288 with 1 Axes>"
      ]
     },
     "metadata": {
      "needs_background": "light"
     },
     "output_type": "display_data"
    }
   ],
   "source": [
    "import matplotlib.pyplot as plt\n",
    "plt.plot(clin_sig_df.score.tolist(), clin_sig_df.counts.tolist(), 'ro')"
   ]
  },
  {
   "cell_type": "code",
   "execution_count": 216,
   "metadata": {
    "ExecuteTime": {
     "end_time": "2020-10-22T09:38:04.131419Z",
     "start_time": "2020-10-22T09:38:03.956733Z"
    }
   },
   "outputs": [
    {
     "data": {
      "text/html": [
       "<div>\n",
       "<style scoped>\n",
       "    .dataframe tbody tr th:only-of-type {\n",
       "        vertical-align: middle;\n",
       "    }\n",
       "\n",
       "    .dataframe tbody tr th {\n",
       "        vertical-align: top;\n",
       "    }\n",
       "\n",
       "    .dataframe thead th {\n",
       "        text-align: right;\n",
       "    }\n",
       "</style>\n",
       "<table border=\"1\" class=\"dataframe\">\n",
       "  <thead>\n",
       "    <tr style=\"text-align: right;\">\n",
       "      <th></th>\n",
       "      <th>chrom</th>\n",
       "      <th>pos</th>\n",
       "      <th>ref</th>\n",
       "      <th>alt</th>\n",
       "      <th>gene_id</th>\n",
       "      <th>study_id</th>\n",
       "      <th>y_proba_full_model</th>\n",
       "      <th>pval_mantissa</th>\n",
       "      <th>pval_exponent</th>\n",
       "      <th>odds_ratio</th>\n",
       "      <th>...</th>\n",
       "      <th>pub_date</th>\n",
       "      <th>pub_author</th>\n",
       "      <th>trait_reported</th>\n",
       "      <th>sample_size</th>\n",
       "      <th>efo</th>\n",
       "      <th>most_severe_csq</th>\n",
       "      <th>csq_arr</th>\n",
       "      <th>most_severe_gene_csq</th>\n",
       "      <th>consequence_link</th>\n",
       "      <th>rsid</th>\n",
       "    </tr>\n",
       "  </thead>\n",
       "  <tbody>\n",
       "    <tr>\n",
       "      <th>391</th>\n",
       "      <td>1</td>\n",
       "      <td>86272676</td>\n",
       "      <td>T</td>\n",
       "      <td>C</td>\n",
       "      <td>ENSG00000171502</td>\n",
       "      <td>NEALE2_5097_raw</td>\n",
       "      <td>0.420986</td>\n",
       "      <td>3.51000</td>\n",
       "      <td>-11</td>\n",
       "      <td>NaN</td>\n",
       "      <td>...</td>\n",
       "      <td>2018-08-01</td>\n",
       "      <td>UKB Neale v2</td>\n",
       "      <td>6mm weak meridian (left)</td>\n",
       "      <td>65551</td>\n",
       "      <td>EFO_0007814</td>\n",
       "      <td>None</td>\n",
       "      <td>None</td>\n",
       "      <td>intergenic_variant</td>\n",
       "      <td>http://purl.obolibrary.org/obo/SO_0001628</td>\n",
       "      <td>None</td>\n",
       "    </tr>\n",
       "    <tr>\n",
       "      <th>392</th>\n",
       "      <td>1</td>\n",
       "      <td>86272676</td>\n",
       "      <td>T</td>\n",
       "      <td>C</td>\n",
       "      <td>ENSG00000171502</td>\n",
       "      <td>NEALE2_5099_raw</td>\n",
       "      <td>0.387763</td>\n",
       "      <td>3.14700</td>\n",
       "      <td>-11</td>\n",
       "      <td>NaN</td>\n",
       "      <td>...</td>\n",
       "      <td>2018-08-01</td>\n",
       "      <td>UKB Neale v2</td>\n",
       "      <td>3mm weak meridian (right)</td>\n",
       "      <td>75410</td>\n",
       "      <td>EFO_0007814</td>\n",
       "      <td>None</td>\n",
       "      <td>None</td>\n",
       "      <td>intergenic_variant</td>\n",
       "      <td>http://purl.obolibrary.org/obo/SO_0001628</td>\n",
       "      <td>None</td>\n",
       "    </tr>\n",
       "    <tr>\n",
       "      <th>393</th>\n",
       "      <td>1</td>\n",
       "      <td>86272676</td>\n",
       "      <td>T</td>\n",
       "      <td>C</td>\n",
       "      <td>ENSG00000171502</td>\n",
       "      <td>NEALE2_5098_raw</td>\n",
       "      <td>0.452493</td>\n",
       "      <td>2.85420</td>\n",
       "      <td>-11</td>\n",
       "      <td>NaN</td>\n",
       "      <td>...</td>\n",
       "      <td>2018-08-01</td>\n",
       "      <td>UKB Neale v2</td>\n",
       "      <td>6mm weak meridian (right)</td>\n",
       "      <td>66256</td>\n",
       "      <td>EFO_0007814</td>\n",
       "      <td>None</td>\n",
       "      <td>None</td>\n",
       "      <td>intergenic_variant</td>\n",
       "      <td>http://purl.obolibrary.org/obo/SO_0001628</td>\n",
       "      <td>None</td>\n",
       "    </tr>\n",
       "    <tr>\n",
       "      <th>394</th>\n",
       "      <td>1</td>\n",
       "      <td>86272676</td>\n",
       "      <td>T</td>\n",
       "      <td>C</td>\n",
       "      <td>ENSG00000171502</td>\n",
       "      <td>NEALE2_5134_raw</td>\n",
       "      <td>0.626174</td>\n",
       "      <td>6.26670</td>\n",
       "      <td>-11</td>\n",
       "      <td>NaN</td>\n",
       "      <td>...</td>\n",
       "      <td>2018-08-01</td>\n",
       "      <td>UKB Neale v2</td>\n",
       "      <td>6mm strong meridian (left)</td>\n",
       "      <td>65551</td>\n",
       "      <td>EFO_0007814</td>\n",
       "      <td>None</td>\n",
       "      <td>None</td>\n",
       "      <td>intergenic_variant</td>\n",
       "      <td>http://purl.obolibrary.org/obo/SO_0001628</td>\n",
       "      <td>None</td>\n",
       "    </tr>\n",
       "    <tr>\n",
       "      <th>395</th>\n",
       "      <td>1</td>\n",
       "      <td>86272676</td>\n",
       "      <td>T</td>\n",
       "      <td>C</td>\n",
       "      <td>ENSG00000171502</td>\n",
       "      <td>NEALE2_5132_raw</td>\n",
       "      <td>0.416063</td>\n",
       "      <td>1.43300</td>\n",
       "      <td>-12</td>\n",
       "      <td>NaN</td>\n",
       "      <td>...</td>\n",
       "      <td>2018-08-01</td>\n",
       "      <td>UKB Neale v2</td>\n",
       "      <td>3mm strong meridian (right)</td>\n",
       "      <td>75410</td>\n",
       "      <td>EFO_0007814</td>\n",
       "      <td>None</td>\n",
       "      <td>None</td>\n",
       "      <td>intergenic_variant</td>\n",
       "      <td>http://purl.obolibrary.org/obo/SO_0001628</td>\n",
       "      <td>None</td>\n",
       "    </tr>\n",
       "    <tr>\n",
       "      <th>...</th>\n",
       "      <td>...</td>\n",
       "      <td>...</td>\n",
       "      <td>...</td>\n",
       "      <td>...</td>\n",
       "      <td>...</td>\n",
       "      <td>...</td>\n",
       "      <td>...</td>\n",
       "      <td>...</td>\n",
       "      <td>...</td>\n",
       "      <td>...</td>\n",
       "      <td>...</td>\n",
       "      <td>...</td>\n",
       "      <td>...</td>\n",
       "      <td>...</td>\n",
       "      <td>...</td>\n",
       "      <td>...</td>\n",
       "      <td>...</td>\n",
       "      <td>...</td>\n",
       "      <td>...</td>\n",
       "      <td>...</td>\n",
       "      <td>...</td>\n",
       "    </tr>\n",
       "    <tr>\n",
       "      <th>1931022</th>\n",
       "      <td>8</td>\n",
       "      <td>26385620</td>\n",
       "      <td>A</td>\n",
       "      <td>G</td>\n",
       "      <td>ENSG00000240694</td>\n",
       "      <td>NEALE2_30200_raw</td>\n",
       "      <td>0.036840</td>\n",
       "      <td>1.37214</td>\n",
       "      <td>-9</td>\n",
       "      <td>NaN</td>\n",
       "      <td>...</td>\n",
       "      <td>2018-08-01</td>\n",
       "      <td>UKB Neale v2</td>\n",
       "      <td>Neutrophill percentage</td>\n",
       "      <td>349861</td>\n",
       "      <td>EFO_0007990</td>\n",
       "      <td>None</td>\n",
       "      <td>None</td>\n",
       "      <td>intergenic_variant</td>\n",
       "      <td>http://purl.obolibrary.org/obo/SO_0001628</td>\n",
       "      <td>None</td>\n",
       "    </tr>\n",
       "    <tr>\n",
       "      <th>1931023</th>\n",
       "      <td>8</td>\n",
       "      <td>26385620</td>\n",
       "      <td>A</td>\n",
       "      <td>G</td>\n",
       "      <td>ENSG00000240694</td>\n",
       "      <td>GCST004621</td>\n",
       "      <td>0.037920</td>\n",
       "      <td>8.79500</td>\n",
       "      <td>-19</td>\n",
       "      <td>NaN</td>\n",
       "      <td>...</td>\n",
       "      <td>2016-11-17</td>\n",
       "      <td>Astle WJ</td>\n",
       "      <td>Red cell distribution width</td>\n",
       "      <td>171529</td>\n",
       "      <td>EFO_0005192</td>\n",
       "      <td>None</td>\n",
       "      <td>None</td>\n",
       "      <td>intergenic_variant</td>\n",
       "      <td>http://purl.obolibrary.org/obo/SO_0001628</td>\n",
       "      <td>None</td>\n",
       "    </tr>\n",
       "    <tr>\n",
       "      <th>1931024</th>\n",
       "      <td>8</td>\n",
       "      <td>26385620</td>\n",
       "      <td>A</td>\n",
       "      <td>G</td>\n",
       "      <td>ENSG00000092964</td>\n",
       "      <td>NEALE2_30180_raw</td>\n",
       "      <td>0.046167</td>\n",
       "      <td>2.74443</td>\n",
       "      <td>-9</td>\n",
       "      <td>NaN</td>\n",
       "      <td>...</td>\n",
       "      <td>2018-08-01</td>\n",
       "      <td>UKB Neale v2</td>\n",
       "      <td>Lymphocyte percentage</td>\n",
       "      <td>349861</td>\n",
       "      <td>EFO_0007993</td>\n",
       "      <td>None</td>\n",
       "      <td>None</td>\n",
       "      <td>intergenic_variant</td>\n",
       "      <td>http://purl.obolibrary.org/obo/SO_0001628</td>\n",
       "      <td>None</td>\n",
       "    </tr>\n",
       "    <tr>\n",
       "      <th>1931025</th>\n",
       "      <td>8</td>\n",
       "      <td>26385620</td>\n",
       "      <td>A</td>\n",
       "      <td>G</td>\n",
       "      <td>ENSG00000092964</td>\n",
       "      <td>NEALE2_30200_raw</td>\n",
       "      <td>0.044397</td>\n",
       "      <td>1.37214</td>\n",
       "      <td>-9</td>\n",
       "      <td>NaN</td>\n",
       "      <td>...</td>\n",
       "      <td>2018-08-01</td>\n",
       "      <td>UKB Neale v2</td>\n",
       "      <td>Neutrophill percentage</td>\n",
       "      <td>349861</td>\n",
       "      <td>EFO_0007990</td>\n",
       "      <td>None</td>\n",
       "      <td>None</td>\n",
       "      <td>intergenic_variant</td>\n",
       "      <td>http://purl.obolibrary.org/obo/SO_0001628</td>\n",
       "      <td>None</td>\n",
       "    </tr>\n",
       "    <tr>\n",
       "      <th>1931026</th>\n",
       "      <td>8</td>\n",
       "      <td>26385620</td>\n",
       "      <td>A</td>\n",
       "      <td>G</td>\n",
       "      <td>ENSG00000092964</td>\n",
       "      <td>GCST004621</td>\n",
       "      <td>0.046310</td>\n",
       "      <td>8.79500</td>\n",
       "      <td>-19</td>\n",
       "      <td>NaN</td>\n",
       "      <td>...</td>\n",
       "      <td>2016-11-17</td>\n",
       "      <td>Astle WJ</td>\n",
       "      <td>Red cell distribution width</td>\n",
       "      <td>171529</td>\n",
       "      <td>EFO_0005192</td>\n",
       "      <td>None</td>\n",
       "      <td>None</td>\n",
       "      <td>intergenic_variant</td>\n",
       "      <td>http://purl.obolibrary.org/obo/SO_0001628</td>\n",
       "      <td>None</td>\n",
       "    </tr>\n",
       "  </tbody>\n",
       "</table>\n",
       "<p>12792 rows × 23 columns</p>\n",
       "</div>"
      ],
      "text/plain": [
       "        chrom       pos ref alt          gene_id          study_id  \\\n",
       "391         1  86272676   T   C  ENSG00000171502   NEALE2_5097_raw   \n",
       "392         1  86272676   T   C  ENSG00000171502   NEALE2_5099_raw   \n",
       "393         1  86272676   T   C  ENSG00000171502   NEALE2_5098_raw   \n",
       "394         1  86272676   T   C  ENSG00000171502   NEALE2_5134_raw   \n",
       "395         1  86272676   T   C  ENSG00000171502   NEALE2_5132_raw   \n",
       "...       ...       ...  ..  ..              ...               ...   \n",
       "1931022     8  26385620   A   G  ENSG00000240694  NEALE2_30200_raw   \n",
       "1931023     8  26385620   A   G  ENSG00000240694        GCST004621   \n",
       "1931024     8  26385620   A   G  ENSG00000092964  NEALE2_30180_raw   \n",
       "1931025     8  26385620   A   G  ENSG00000092964  NEALE2_30200_raw   \n",
       "1931026     8  26385620   A   G  ENSG00000092964        GCST004621   \n",
       "\n",
       "         y_proba_full_model  pval_mantissa  pval_exponent  odds_ratio  ...  \\\n",
       "391                0.420986        3.51000            -11         NaN  ...   \n",
       "392                0.387763        3.14700            -11         NaN  ...   \n",
       "393                0.452493        2.85420            -11         NaN  ...   \n",
       "394                0.626174        6.26670            -11         NaN  ...   \n",
       "395                0.416063        1.43300            -12         NaN  ...   \n",
       "...                     ...            ...            ...         ...  ...   \n",
       "1931022            0.036840        1.37214             -9         NaN  ...   \n",
       "1931023            0.037920        8.79500            -19         NaN  ...   \n",
       "1931024            0.046167        2.74443             -9         NaN  ...   \n",
       "1931025            0.044397        1.37214             -9         NaN  ...   \n",
       "1931026            0.046310        8.79500            -19         NaN  ...   \n",
       "\n",
       "           pub_date    pub_author               trait_reported sample_size  \\\n",
       "391      2018-08-01  UKB Neale v2     6mm weak meridian (left)       65551   \n",
       "392      2018-08-01  UKB Neale v2    3mm weak meridian (right)       75410   \n",
       "393      2018-08-01  UKB Neale v2    6mm weak meridian (right)       66256   \n",
       "394      2018-08-01  UKB Neale v2   6mm strong meridian (left)       65551   \n",
       "395      2018-08-01  UKB Neale v2  3mm strong meridian (right)       75410   \n",
       "...             ...           ...                          ...         ...   \n",
       "1931022  2018-08-01  UKB Neale v2       Neutrophill percentage      349861   \n",
       "1931023  2016-11-17      Astle WJ  Red cell distribution width      171529   \n",
       "1931024  2018-08-01  UKB Neale v2        Lymphocyte percentage      349861   \n",
       "1931025  2018-08-01  UKB Neale v2       Neutrophill percentage      349861   \n",
       "1931026  2016-11-17      Astle WJ  Red cell distribution width      171529   \n",
       "\n",
       "                 efo most_severe_csq  csq_arr most_severe_gene_csq  \\\n",
       "391      EFO_0007814            None     None   intergenic_variant   \n",
       "392      EFO_0007814            None     None   intergenic_variant   \n",
       "393      EFO_0007814            None     None   intergenic_variant   \n",
       "394      EFO_0007814            None     None   intergenic_variant   \n",
       "395      EFO_0007814            None     None   intergenic_variant   \n",
       "...              ...             ...      ...                  ...   \n",
       "1931022  EFO_0007990            None     None   intergenic_variant   \n",
       "1931023  EFO_0005192            None     None   intergenic_variant   \n",
       "1931024  EFO_0007993            None     None   intergenic_variant   \n",
       "1931025  EFO_0007990            None     None   intergenic_variant   \n",
       "1931026  EFO_0005192            None     None   intergenic_variant   \n",
       "\n",
       "                                  consequence_link  rsid  \n",
       "391      http://purl.obolibrary.org/obo/SO_0001628  None  \n",
       "392      http://purl.obolibrary.org/obo/SO_0001628  None  \n",
       "393      http://purl.obolibrary.org/obo/SO_0001628  None  \n",
       "394      http://purl.obolibrary.org/obo/SO_0001628  None  \n",
       "395      http://purl.obolibrary.org/obo/SO_0001628  None  \n",
       "...                                            ...   ...  \n",
       "1931022  http://purl.obolibrary.org/obo/SO_0001628  None  \n",
       "1931023  http://purl.obolibrary.org/obo/SO_0001628  None  \n",
       "1931024  http://purl.obolibrary.org/obo/SO_0001628  None  \n",
       "1931025  http://purl.obolibrary.org/obo/SO_0001628  None  \n",
       "1931026  http://purl.obolibrary.org/obo/SO_0001628  None  \n",
       "\n",
       "[12792 rows x 23 columns]"
      ]
     },
     "execution_count": 216,
     "metadata": {},
     "output_type": "execute_result"
    }
   ],
   "source": [
    "genetics_df.loc[genetics_df.rsid.isna()]"
   ]
  },
  {
   "cell_type": "code",
   "execution_count": null,
   "metadata": {},
   "outputs": [],
   "source": []
  }
 ],
 "metadata": {
  "kernelspec": {
   "display_name": "Python 3",
   "language": "python",
   "name": "python3"
  },
  "language_info": {
   "codemirror_mode": {
    "name": "ipython",
    "version": 3
   },
   "file_extension": ".py",
   "mimetype": "text/x-python",
   "name": "python",
   "nbconvert_exporter": "python",
   "pygments_lexer": "ipython3",
   "version": "3.6.10"
  }
 },
 "nbformat": 4,
 "nbformat_minor": 4
}
