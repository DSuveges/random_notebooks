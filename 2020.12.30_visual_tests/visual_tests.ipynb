{
 "cells": [
  {
   "cell_type": "markdown",
   "metadata": {},
   "source": [
    "# Test\n"
   ]
  },
  {
   "cell_type": "code",
   "execution_count": 34,
   "metadata": {
    "ExecuteTime": {
     "end_time": "2021-01-02T00:09:51.460302Z",
     "start_time": "2021-01-02T00:09:51.397249Z"
    }
   },
   "outputs": [
    {
     "name": "stdout",
     "output_type": "stream",
     "text": [
      "Number of projects all together: 167\n",
      "\n",
      "The following rows are having missingness and will be deleted:\n",
      "Empty DataFrame\n",
      "Columns: [project, type, contract_value, profit]\n",
      "Index: []\n",
      "Number of projects after removing missing values: 167\n",
      "\n",
      "The following rows have matching contract values and profit values:\n",
      "Empty DataFrame\n",
      "Columns: [project, type, contract_value, profit]\n",
      "Index: []\n",
      "\n",
      "\n",
      "Number of projects left: 167\n"
     ]
    }
   ],
   "source": [
    "import pandas as pd\n",
    "import matplotlib.pyplot as plt\n",
    "\n",
    "# read data:\n",
    "df = pd.read_excel('Bioassay_profit.xlsx')\n",
    "\n",
    "# Rename columns:\n",
    "df.rename(columns={\n",
    "    'Project Code': 'project',\n",
    "    'Project Type': 'type',\n",
    "    'Date Completed\\n(e.g. report sent)': 'date',\n",
    "    'Bioassay Contract Value ($)*': 'contract_value',\n",
    "    'Profit ($)': 'profit'\n",
    "}, inplace=True)\n",
    "\n",
    "\n",
    "# Set types:\n",
    "df.contract_value = df.contract_value.astype(float)\n",
    "df.profit = df.profit.astype(float)\n",
    "\n",
    "print(f'Number of projects all together: {len(df)}')\n",
    "print('\\nThe following rows are having missingness and will be deleted:')\n",
    "print(df.loc[(df.contract_value.isna()) \n",
    "            | (df.profit.isna()) \n",
    "            | (df.contract_value == 0)].drop(['date'], axis=1).sort_values(['type']))\n",
    "\n",
    "# Remove missing values: \n",
    "df = df.loc[(df.contract_value.notna()) \n",
    "            & (df.profit.notna()) \n",
    "            & (df.contract_value > 0)]\n",
    "\n",
    "print(f'Number of projects after removing missing values: {len(df)}')\n",
    "print('\\nThe following rows have matching contract values and profit values:')\n",
    "print(df.loc[df.contract_value == df.profit].drop(['date'], axis=1).sort_values(['type']))\n",
    "\n",
    "# Remove rows where the contract value is equal to the profit:\n",
    "df = df.loc[df.contract_value != df.profit]\n",
    "\n",
    "print(f'\\n\\nNumber of projects left: {len(df)}')\n",
    "\n",
    "# Convert date to year:\n",
    "df['year'] = df.date.dt.year\n",
    "\n",
    "# Adding labels for each project type:\n",
    "project_types = df.type.unique().tolist()\n",
    "project_types.sort()\n",
    "df['type_index'] = df.type.apply(lambda x: project_types.index(x))\n",
    "\n",
    "\n",
    "# How \"expensive is the profit? - tells the ratio of the profit/contract value.\"\n",
    "df['cost'] = df.contract_value - df.profit\n",
    "df['profit_cost'] = df.apply(lambda row: row['profit']/row['cost'] if row['profit'] > 0 else None, axis=1)\n",
    "\n",
    "df.to_csv('cleaned_profit.tsv', sep='\\t', index=False, na_rep='NAN')"
   ]
  },
  {
   "cell_type": "code",
   "execution_count": 14,
   "metadata": {
    "ExecuteTime": {
     "end_time": "2021-01-01T22:47:53.916836Z",
     "start_time": "2021-01-01T22:47:53.838184Z"
    }
   },
   "outputs": [
    {
     "data": {
      "image/png": "[encoded data removed]",
      "text/plain": [
       "<Figure size 936x432 with 1 Axes>"
      ]
     },
     "metadata": {
      "needs_background": "light"
     },
     "output_type": "display_data"
    }
   ],
   "source": [
    "\n",
    "# Drawing project profit:\n",
    "plt.figure(figsize=(13,6))\n",
    "ax = plt.scatter(df.type_index, df.profit)\n",
    "plt.box(False)\n",
    "plt.axis('off')\n",
    "plt.show()\n"
   ]
  },
  {
   "cell_type": "code",
   "execution_count": 20,
   "metadata": {
    "ExecuteTime": {
     "end_time": "2021-01-02T00:05:30.398882Z",
     "start_time": "2021-01-02T00:05:30.389384Z"
    }
   },
   "outputs": [
    {
     "data": {
      "text/plain": [
       "project                         YRD01\n",
       "type                         Fc assay\n",
       "date              2019-06-19 00:00:00\n",
       "contract_value                  16705\n",
       "profit                        3085.49\n",
       "cost                          13619.5\n",
       "profit_cost                  0.226549\n",
       "type_index                          4\n",
       "Name: 57, dtype: object"
      ]
     },
     "execution_count": 20,
     "metadata": {},
     "output_type": "execute_result"
    }
   ],
   "source": [
    "df.iloc[57]"
   ]
  },
  {
   "cell_type": "code",
   "execution_count": 16,
   "metadata": {
    "ExecuteTime": {
     "end_time": "2021-01-01T22:48:20.742475Z",
     "start_time": "2021-01-01T22:48:20.156124Z"
    }
   },
   "outputs": [
    {
     "name": "stderr",
     "output_type": "stream",
     "text": [
      "/Users/dsuveges/opt/anaconda3/envs/jupyter/lib/python3.6/site-packages/rpy2/robjects/pandas2ri.py:17: FutureWarning: pandas.core.index is deprecated and will be removed in a future version.  The public classes are available in the top-level namespace.\n",
      "  from pandas.core.index import Index as PandasIndex\n"
     ]
    }
   ],
   "source": [
    "%load_ext rpy2.ipython"
   ]
  },
  {
   "cell_type": "code",
   "execution_count": 39,
   "metadata": {
    "ExecuteTime": {
     "end_time": "2021-01-02T00:11:30.065016Z",
     "start_time": "2021-01-02T00:11:30.053574Z"
    }
   },
   "outputs": [
    {
     "data": {
      "text/plain": [
       "  project        type       date contract_value   profit year type_index\n",
       "1   OPD02   Other FFS 2018-03-22        18200.0  -6177.6 2018          8\n",
       "2   ASL02   Other FFS 2018-04-19        20956.0 -10751.0 2018          8\n",
       "3  DIU100   Other FFS 2018-04-20       137280.0  47086.0 2018          8\n",
       "4   FAR07   Other FFS 2018-04-27        51980.5  12043.2 2018          8\n",
       "5   FAR14   Other FFS 2018-07-12        20813.0   1990.3 2018          8\n",
       "6  CRT100 ADC Testing 2018-07-16        15340.0   4270.5 2018          0\n",
       "     cost         profit_cost\n",
       "1 24377.6                 NAN\n",
       "2 31707.0                 NAN\n",
       "3 90194.0  0.5220524646872298\n",
       "4 39937.3  0.3015526838319064\n",
       "5 18822.7 0.10573934663996128\n",
       "6 11069.5  0.3857897827363476\n"
      ]
     },
     "metadata": {},
     "output_type": "display_data"
    }
   ],
   "source": [
    "%%R \n",
    "\n",
    "df = read.table('cleaned_profit.tsv', sep='\\t', header=TRUE, comment.char = \"%\")\n",
    "\n",
    "print(head(df))"
   ]
  },
  {
   "cell_type": "code",
   "execution_count": 280,
   "metadata": {
    "ExecuteTime": {
     "end_time": "2021-01-02T02:18:10.243467Z",
     "start_time": "2021-01-02T02:18:10.235103Z"
    }
   },
   "outputs": [],
   "source": [
    "%%R -w 700 -h 600\n",
    "\n",
    "get_color_gradient = function(profit_values){\n",
    "    colfunc_gain = colorRampPalette(c(\"white\",\"cornflowerblue\"))\n",
    "    colfunc_loss = colorRampPalette(c(\"white\", \"firebrick\"))\n",
    "\n",
    "    profit_min = min(profit_values, na.rm=TRUE)\n",
    "    profit_max = max(profit_values, na.rm=TRUE)\n",
    "    \n",
    "    col_values = c()\n",
    "    counter = 0\n",
    "    for (profit in profit_values){\n",
    "        if (is.na(profit)){\n",
    "            col_values = append(col_values, NA)\n",
    "        }\n",
    "        else{\n",
    "            if(profit >= 0){\n",
    "                col_values = append(col_values, colfunc_gain(100)[ceiling(100*profit/profit_max)])\n",
    "            }\n",
    "            else{\n",
    "                col_values = append(col_values, colfunc_loss(100)[ceiling(100*profit/profit_min)])                \n",
    "            }\n",
    "        }\n",
    "        counter = counter + 1\n",
    "    }\n",
    "    return (col_values)\n",
    "}\n",
    "               \n",
    "\n",
    "plot_project_type_profit = function(d, plot_label){\n",
    "\n",
    "    # Get list of all project types:\n",
    "    project_types = unique(df[,c('type','type_index')])\n",
    "    project_types = project_types[order(project_types$type_index),]\n",
    "\n",
    "    # Aggregate profit:\n",
    "    agg = aggregate(profit~type, d, sum)\n",
    "\n",
    "    # Merge aggregate with all project types:\n",
    "    agg = merge(agg, project_types, by = \"type\", all = TRUE)\n",
    "\n",
    "    # Setting colors\n",
    "    agg['col'] = ifelse(agg$profit > 0,\n",
    "        adjustcolor('cornflowerblue', alpha.f = 0.5),\n",
    "        adjustcolor('firebrick', alpha.f = 0.5))\n",
    "\n",
    "    # Get parameters:\n",
    "    b = barplot(agg$profit, plot=FALSE)\n",
    "    agg['xpos'] = b\n",
    "\n",
    "    # get x/y pairs:\n",
    "    points = merge(d[,c(\"type\",\"profit\")], agg[,c(\"type\",\"xpos\")], by = \"type\", all = TRUE)\n",
    "\n",
    "    # Generating colors based on \n",
    "    # points['col'] = get_color_gradient(points$profit)\n",
    "    points['col'] = ifelse(points$profit>0,\n",
    "       adjustcolor('cornflowerblue', alpha.f = 0.5),\n",
    "        adjustcolor('firebrick', alpha.f = 0.5))\n",
    "\n",
    "    ##\n",
    "    ## Setting up plotting area:\n",
    "    ##\n",
    "    pdf(sprintf(\"project_type_profit_%s.pdf\", plot_label))\n",
    "    par(mar=c(1,5.5,3.1,2.1), mfrow = c(2,1))\n",
    "\n",
    "    plot(points$xpos, points$profit,, xlab='', ylab='', cex.lab=1.3,col='white',\n",
    "         xlim=c(0,max(points$xpos)),axes=FALSE,\n",
    "        xaxt='n',las=2, main=plot_label)\n",
    "    axis(2, las=2)\n",
    "    mtext('Profit/project', side=2, line=4.2, cex=1.2)\n",
    "\n",
    "    # Adding horizontal line at 0 profit:\n",
    "    abline(h=0, col='red')\n",
    "\n",
    "\n",
    "    points(points$xpos, points$profit, pch=21, cex=1.4, bg=points$col)\n",
    "\n",
    "    # Adding barchart:\n",
    "    par(mar=c(7,5.5,0.5,2.1))\n",
    "    barplot(agg$profit, las =2,xaxs=\"r\", xlim=c(0,max(points$xpos)), col=agg$col)\n",
    "    mtext('Sum Profit', side=2, line=4.2, cex=1.2)\n",
    "\n",
    "    mtext(agg$type, side=1, line=1, cex=0.9, at=agg$xpos, las=2)\n",
    "    dev.off()\n",
    "    \n",
    "}"
   ]
  },
  {
   "cell_type": "code",
   "execution_count": 284,
   "metadata": {
    "ExecuteTime": {
     "end_time": "2021-01-02T02:19:30.702446Z",
     "start_time": "2021-01-02T02:19:30.656035Z"
    }
   },
   "outputs": [],
   "source": [
    "%%R\n",
    "\n",
    "# Plotting all data:\n",
    "plot_project_type_profit(df, 'full')\n",
    "\n",
    "# Generate plot for all years:\n",
    "for( year in unique(df$year)){\n",
    "    plot_project_type_profit(df[df$year == year,],year)\n",
    "}"
   ]
  },
  {
   "cell_type": "code",
   "execution_count": 247,
   "metadata": {
    "ExecuteTime": {
     "end_time": "2021-01-02T02:01:44.874840Z",
     "start_time": "2021-01-02T02:01:44.865838Z"
    }
   },
   "outputs": [
    {
     "data": {
      "text/plain": [
       "              type     profit type_index       col xpos\n",
       "1      ADC Testing  50333.594          0 #6495ED80  0.7\n",
       "2      CLD Support   2145.156          1 #6495ED80  1.9\n",
       "3  Cytokine Screen  24060.450          2 #6495ED80  3.1\n",
       "4             DC:T  26836.500          3 #6495ED80  4.3\n",
       "5         Fc assay  57225.950          4 #6495ED80  5.5\n",
       "6      Formulation  37965.985          5 #6495ED80  6.7\n",
       "7        In silico 187207.850          6 #6495ED80  7.9\n",
       "8            MAPPs 180983.200          7 #6495ED80  9.1\n",
       "9        Other FFS 111447.977          8 #6495ED80 10.3\n",
       "10       Other FTE  83042.714          9 #6495ED80 11.5\n",
       "11      Pre-Screen         NA         10      <NA> 12.7\n",
       "12            TCEM 114215.100         11 #6495ED80 13.9\n",
       "13     Time Course 145502.215         12 #6495ED80 15.1\n"
      ]
     },
     "metadata": {},
     "output_type": "display_data"
    }
   ],
   "source": [
    "%%R\n",
    "\n",
    "\n",
    "\n",
    "agg"
   ]
  },
  {
   "cell_type": "code",
   "execution_count": 94,
   "metadata": {
    "ExecuteTime": {
     "end_time": "2021-01-02T00:42:53.544335Z",
     "start_time": "2021-01-02T00:42:53.537091Z"
    }
   },
   "outputs": [
    {
     "data": {
      "text/plain": [
       "[1] 13\n"
      ]
     },
     "metadata": {},
     "output_type": "display_data"
    }
   ],
   "source": [
    "%%R\n",
    "\n",
    "length(b)"
   ]
  },
  {
   "cell_type": "code",
   "execution_count": null,
   "metadata": {},
   "outputs": [],
   "source": []
  }
 ],
 "metadata": {
  "kernelspec": {
   "display_name": "Python 3",
   "language": "python",
   "name": "python3"
  },
  "language_info": {
   "codemirror_mode": {
    "name": "ipython",
    "version": 3
   },
   "file_extension": ".py",
   "mimetype": "text/x-python",
   "name": "python",
   "nbconvert_exporter": "python",
   "pygments_lexer": "ipython3",
   "version": "3.6.10"
  }
 },
 "nbformat": 4,
 "nbformat_minor": 4
}
