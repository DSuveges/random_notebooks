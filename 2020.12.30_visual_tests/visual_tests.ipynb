{
 "cells": [
  {
   "cell_type": "markdown",
   "metadata": {},
   "source": [
    "# Test\n"
   ]
  },
  {
   "cell_type": "code",
   "execution_count": 34,
   "metadata": {
    "ExecuteTime": {
     "end_time": "2021-01-02T00:09:51.460302Z",
     "start_time": "2021-01-02T00:09:51.397249Z"
    }
   },
   "outputs": [
    {
     "name": "stdout",
     "output_type": "stream",
     "text": [
      "Number of projects all together: 167\n",
      "\n",
      "The following rows are having missingness and will be deleted:\n",
      "Empty DataFrame\n",
      "Columns: [project, type, contract_value, profit]\n",
      "Index: []\n",
      "Number of projects after removing missing values: 167\n",
      "\n",
      "The following rows have matching contract values and profit values:\n",
      "Empty DataFrame\n",
      "Columns: [project, type, contract_value, profit]\n",
      "Index: []\n",
      "\n",
      "\n",
      "Number of projects left: 167\n"
     ]
    }
   ],
   "source": [
    "import pandas as pd\n",
    "import matplotlib.pyplot as plt\n",
    "\n",
    "# read data:\n",
    "df = pd.read_excel('Bioassay_profit.xlsx')\n",
    "\n",
    "# Rename columns:\n",
    "df.rename(columns={\n",
    "    'Project Code': 'project',\n",
    "    'Project Type': 'type',\n",
    "    'Date Completed\\n(e.g. report sent)': 'date',\n",
    "    'Bioassay Contract Value ($)*': 'contract_value',\n",
    "    'Profit ($)': 'profit'\n",
    "}, inplace=True)\n",
    "\n",
    "\n",
    "# Set types:\n",
    "df.contract_value = df.contract_value.astype(float)\n",
    "df.profit = df.profit.astype(float)\n",
    "\n",
    "print(f'Number of projects all together: {len(df)}')\n",
    "print('\\nThe following rows are having missingness and will be deleted:')\n",
    "print(df.loc[(df.contract_value.isna()) \n",
    "            | (df.profit.isna()) \n",
    "            | (df.contract_value == 0)].drop(['date'], axis=1).sort_values(['type']))\n",
    "\n",
    "# Remove missing values: \n",
    "df = df.loc[(df.contract_value.notna()) \n",
    "            & (df.profit.notna()) \n",
    "            & (df.contract_value > 0)]\n",
    "\n",
    "print(f'Number of projects after removing missing values: {len(df)}')\n",
    "print('\\nThe following rows have matching contract values and profit values:')\n",
    "print(df.loc[df.contract_value == df.profit].drop(['date'], axis=1).sort_values(['type']))\n",
    "\n",
    "# Remove rows where the contract value is equal to the profit:\n",
    "df = df.loc[df.contract_value != df.profit]\n",
    "\n",
    "print(f'\\n\\nNumber of projects left: {len(df)}')\n",
    "\n",
    "# Convert date to year:\n",
    "df['year'] = df.date.dt.year\n",
    "\n",
    "# Adding labels for each project type:\n",
    "project_types = df.type.unique().tolist()\n",
    "project_types.sort()\n",
    "df['type_index'] = df.type.apply(lambda x: project_types.index(x))\n",
    "\n",
    "\n",
    "# How \"expensive is the profit? - tells the ratio of the profit/contract value.\"\n",
    "df['cost'] = df.contract_value - df.profit\n",
    "df['profit_cost'] = df.apply(lambda row: row['profit']/row['cost'] if row['profit'] > 0 else None, axis=1)\n",
    "\n",
    "df.to_csv('cleaned_profit.tsv', sep='\\t', index=False, na_rep='NAN')"
   ]
  },
  {
   "cell_type": "code",
   "execution_count": 14,
   "metadata": {
    "ExecuteTime": {
     "end_time": "2021-01-01T22:47:53.916836Z",
     "start_time": "2021-01-01T22:47:53.838184Z"
    }
   },
   "outputs": [
    {
     "data": {
      "image/png": "[encoded data removed]",
      "text/plain": [
       "<Figure size 936x432 with 1 Axes>"
      ]
     },
     "metadata": {
      "needs_background": "light"
     },
     "output_type": "display_data"
    }
   ],
   "source": [
    "\n",
    "# Drawing project profit:\n",
    "plt.figure(figsize=(13,6))\n",
    "ax = plt.scatter(df.type_index, df.profit)\n",
    "plt.box(False)\n",
    "plt.axis('off')\n",
    "plt.show()\n"
   ]
  },
  {
   "cell_type": "code",
   "execution_count": 16,
   "metadata": {
    "ExecuteTime": {
     "end_time": "2021-01-01T22:48:20.742475Z",
     "start_time": "2021-01-01T22:48:20.156124Z"
    }
   },
   "outputs": [
    {
     "name": "stderr",
     "output_type": "stream",
     "text": [
      "/Users/dsuveges/opt/anaconda3/envs/jupyter/lib/python3.6/site-packages/rpy2/robjects/pandas2ri.py:17: FutureWarning: pandas.core.index is deprecated and will be removed in a future version.  The public classes are available in the top-level namespace.\n",
      "  from pandas.core.index import Index as PandasIndex\n"
     ]
    }
   ],
   "source": [
    "%load_ext rpy2.ipython"
   ]
  },
  {
   "cell_type": "code",
   "execution_count": 295,
   "metadata": {
    "ExecuteTime": {
     "end_time": "2021-01-02T02:56:38.192261Z",
     "start_time": "2021-01-02T02:56:38.182019Z"
    }
   },
   "outputs": [
    {
     "data": {
      "text/plain": [
       "  project        type       date contract_value   profit year type_index\n",
       "1   OPD02   Other FFS 2018-03-22        18200.0  -6177.6 2018          8\n",
       "2   ASL02   Other FFS 2018-04-19        20956.0 -10751.0 2018          8\n",
       "3  DIU100   Other FFS 2018-04-20       137280.0  47086.0 2018          8\n",
       "4   FAR07   Other FFS 2018-04-27        51980.5  12043.2 2018          8\n",
       "5   FAR14   Other FFS 2018-07-12        20813.0   1990.3 2018          8\n",
       "6  CRT100 ADC Testing 2018-07-16        15340.0   4270.5 2018          0\n",
       "     cost         profit_cost\n",
       "1 24377.6                 NAN\n",
       "2 31707.0                 NAN\n",
       "3 90194.0  0.5220524646872298\n",
       "4 39937.3  0.3015526838319064\n",
       "5 18822.7 0.10573934663996128\n",
       "6 11069.5  0.3857897827363476\n"
      ]
     },
     "metadata": {},
     "output_type": "display_data"
    }
   ],
   "source": [
    "%%R \n",
    "\n",
    "df = read.table('cleaned_profit.tsv', sep='\\t', header=TRUE, \n",
    "                comment.char = \"%\", stringsAsFactors=FALSE, as.is=TRUE)\n",
    "\n",
    "print(head(df))"
   ]
  },
  {
   "cell_type": "code",
   "execution_count": 280,
   "metadata": {
    "ExecuteTime": {
     "end_time": "2021-01-02T02:18:10.243467Z",
     "start_time": "2021-01-02T02:18:10.235103Z"
    },
    "code_folding": [
     2
    ]
   },
   "outputs": [],
   "source": [
    "%%R -w 700 -h 600\n",
    "\n",
    "get_color_gradient = function(profit_values){\n",
    "    colfunc_gain = colorRampPalette(c(\"white\",\"cornflowerblue\"))\n",
    "    colfunc_loss = colorRampPalette(c(\"white\", \"firebrick\"))\n",
    "\n",
    "    profit_min = min(profit_values, na.rm=TRUE)\n",
    "    profit_max = max(profit_values, na.rm=TRUE)\n",
    "    \n",
    "    col_values = c()\n",
    "    counter = 0\n",
    "    for (profit in profit_values){\n",
    "        if (is.na(profit)){\n",
    "            col_values = append(col_values, NA)\n",
    "        }\n",
    "        else{\n",
    "            if(profit >= 0){\n",
    "                col_values = append(col_values, colfunc_gain(100)[ceiling(100*profit/profit_max)])\n",
    "            }\n",
    "            else{\n",
    "                col_values = append(col_values, colfunc_loss(100)[ceiling(100*profit/profit_min)])                \n",
    "            }\n",
    "        }\n",
    "        counter = counter + 1\n",
    "    }\n",
    "    return (col_values)\n",
    "}\n",
    "               \n",
    "\n",
    "plot_project_type_profit = function(d, plot_label){\n",
    "\n",
    "    # Get list of all project types:\n",
    "    project_types = unique(df[,c('type','type_index')])\n",
    "    project_types = project_types[order(project_types$type_index),]\n",
    "\n",
    "    # Aggregate profit:\n",
    "    agg = aggregate(profit~type, d, sum)\n",
    "\n",
    "    # Merge aggregate with all project types:\n",
    "    agg = merge(agg, project_types, by = \"type\", all = TRUE)\n",
    "\n",
    "    # Setting colors\n",
    "    agg['col'] = ifelse(agg$profit > 0,\n",
    "        adjustcolor('cornflowerblue', alpha.f = 0.5),\n",
    "        adjustcolor('firebrick', alpha.f = 0.5))\n",
    "\n",
    "    # Get parameters:\n",
    "    b = barplot(agg$profit, plot=FALSE)\n",
    "    agg['xpos'] = b\n",
    "\n",
    "    # get x/y pairs:\n",
    "    points = merge(d[,c(\"type\",\"profit\")], agg[,c(\"type\",\"xpos\")], by = \"type\", all = TRUE)\n",
    "\n",
    "    # Generating colors based on \n",
    "    # points['col'] = get_color_gradient(points$profit)\n",
    "    points['col'] = ifelse(points$profit>0,\n",
    "       adjustcolor('cornflowerblue', alpha.f = 0.5),\n",
    "        adjustcolor('firebrick', alpha.f = 0.5))\n",
    "\n",
    "    ##\n",
    "    ## Setting up plotting area:\n",
    "    ##\n",
    "    pdf(sprintf(\"project_type_profit_%s.pdf\", plot_label))\n",
    "    par(mar=c(1,5.5,3.1,2.1), mfrow = c(2,1))\n",
    "\n",
    "    plot(points$xpos, points$profit,, xlab='', ylab='', cex.lab=1.3,col='white',\n",
    "         xlim=c(0,max(points$xpos)),axes=FALSE,\n",
    "        xaxt='n',las=2, main=plot_label)\n",
    "    axis(2, las=2)\n",
    "    mtext('Profit/project', side=2, line=4.2, cex=1.2)\n",
    "\n",
    "    # Adding horizontal line at 0 profit:\n",
    "    abline(h=0, col='red')\n",
    "\n",
    "\n",
    "    points(points$xpos, points$profit, pch=21, cex=1.4, bg=points$col)\n",
    "\n",
    "    # Adding barchart:\n",
    "    par(mar=c(7,5.5,0.5,2.1))\n",
    "    barplot(agg$profit, las =2,xaxs=\"r\", xlim=c(0,max(points$xpos)), col=agg$col)\n",
    "    mtext('Sum Profit', side=2, line=4.2, cex=1.2)\n",
    "\n",
    "    mtext(agg$type, side=1, line=1, cex=0.9, at=agg$xpos, las=2)\n",
    "    dev.off()\n",
    "    \n",
    "}\n",
    "\n",
    "# \n",
    "df[\"profit_cost\"] = df$profit / df$cost\n",
    "\n",
    "# Plotting all data:\n",
    "plot_project_type_profit(df, 'full')\n",
    "\n",
    "# Generate plot for all years:\n",
    "for( year in unique(df$year)){\n",
    "    plot_project_type_profit(df[df$year == year,],year)\n",
    "}\n",
    "\n",
    "\n"
   ]
  },
  {
   "cell_type": "code",
   "execution_count": 337,
   "metadata": {
    "ExecuteTime": {
     "end_time": "2021-01-02T21:18:27.914834Z",
     "start_time": "2021-01-02T21:18:27.878809Z"
    }
   },
   "outputs": [
    {
     "data": {
      "image/png": "[encoded data removed]"
     },
     "metadata": {},
     "output_type": "display_data"
    }
   ],
   "source": [
    "%%R -w 700\n",
    "df = read.table('cleaned_profit.tsv', sep='\\t', header=TRUE, \n",
    "                comment.char = \"%\", stringsAsFactors=FALSE, as.is=TRUE)\n",
    "\n",
    "df$profit_cost = as.numeric(df$profit_cost)\n",
    "plot(x= as.numeric(rownames(df)),y=df$profit_cost, col=adjustcolor('firebrick', alpha=0.5) , pch=16, cex=2)\n",
    "# df$profit_cost"
   ]
  },
  {
   "cell_type": "code",
   "execution_count": 376,
   "metadata": {
    "ExecuteTime": {
     "end_time": "2021-01-02T23:40:04.293040Z",
     "start_time": "2021-01-02T23:40:04.180597Z"
    }
   },
   "outputs": [],
   "source": [
    "%%R -w 700\n",
    "\n",
    "# year = 2020\n",
    "# d = df[df$year == year,]\n",
    "# plot_label = year\n",
    "\n",
    "plot_profit_cost = function(d, plot_label){\n",
    "    # Get list of all project types:\n",
    "    project_types = unique(df[,c('type','type_index')])\n",
    "    project_types = project_types[order(project_types$type_index),]\n",
    "\n",
    "    # Aggregate profit:\n",
    "    agg = aggregate(profit_cost~type, d, median)\n",
    "\n",
    "    # Merge aggregate with all project types:\n",
    "    agg = merge(agg, project_types, by = \"type\", all = TRUE)\n",
    "\n",
    "    # Setting colors\n",
    "    agg['col'] = ifelse(agg$profit_cost > 0,\n",
    "        adjustcolor('cornflowerblue', alpha.f = 0.5),\n",
    "        adjustcolor('firebrick', alpha.f = 0.5))\n",
    "\n",
    "    # Get parameters:\n",
    "    b = barplot(agg$profit_cost, plot=FALSE)\n",
    "    agg['xpos'] = b\n",
    "\n",
    "    # get x/y pairs:\n",
    "    points = merge(d[,c(\"type\",\"profit_cost\", \"profit\")], agg[,c(\"type\",\"xpos\")], by = \"type\", all = TRUE)\n",
    "    points[\"point_size\"] = (abs(points$profit) / max(abs(df$profit), rm.na=TRUE))*5+1\n",
    "\n",
    "    # Generating colors based on \n",
    "    # points['col'] = get_color_gradient(points$profit)\n",
    "    points['col'] = ifelse(points$profit_cost>0,\n",
    "       adjustcolor('cornflowerblue', alpha.f = 0.5),\n",
    "        adjustcolor('firebrick', alpha.f = 0.5))\n",
    "    points = points[order(points$point_size),]\n",
    "\n",
    "    ##\n",
    "    ## Setting up plotting area:\n",
    "    ##\n",
    "    pdf(sprintf(\"project_type_profit_cost_%s.pdf\", plot_label))\n",
    "    par(mar=c(2,5.5,3.1,2.1), mfrow = c(2,1))\n",
    "\n",
    "    plot(points$xpos, points$profit_cost,, xlab='', ylab='', cex.lab=1.3,col='white',\n",
    "         xlim=c(0,max(points$xpos)),axes=FALSE,\n",
    "        xaxt='n',las=2, main=plot_label)\n",
    "    axis(2, las=2)\n",
    "    mtext('profit/cost', side=2, line=4.2, cex=1.2)\n",
    "\n",
    "    # Adding horizontal line at 0 profit:\n",
    "    abline(h=0, col='red')\n",
    "\n",
    "\n",
    "    points(points$xpos, points$profit_cost, pch=21, cex=points$point_size, bg=points$col)\n",
    "\n",
    "    # Adding barchart:\n",
    "    par(mar=c(7,5.5,0.5,2.1))\n",
    "    barplot(agg$profit_cost, las =2,xaxs=\"r\", xlim=c(0,max(points$xpos)), col=agg$col)\n",
    "    mtext('Median profit/cost', side=2, line=4.2, cex=1.2)\n",
    "\n",
    "    mtext(agg$type, side=1, line=1, cex=0.9, at=agg$xpos, las=2)\n",
    "    dev.off()\n",
    "}\n",
    "\n",
    "\n",
    "# Plotting all data:\n",
    "plot_profit_cost(df, 'full')\n",
    "\n",
    "# Generate plot for all years:\n",
    "for( year in unique(df$year)){\n",
    "    plot_profit_cost(df[df$year == year,],year)\n",
    "}"
   ]
  },
  {
   "cell_type": "code",
   "execution_count": 378,
   "metadata": {
    "ExecuteTime": {
     "end_time": "2021-01-02T23:43:55.622196Z",
     "start_time": "2021-01-02T23:43:55.607621Z"
    }
   },
   "outputs": [
    {
     "data": {
      "text/plain": [
       "      project            type       date contract_value     profit year\n",
       "100     FAR11       Other FFS 2020-01-09       52580.00  13803.600 2020\n",
       "101 ASZA-1276            TCEM 2020-01-10       87500.00  21497.700 2020\n",
       "102 TRZZ-1306        Fc assay 2020-01-10       18465.00  10456.350 2020\n",
       "103 NGLS-1279            DC:T 2020-01-14      119000.00  26836.500 2020\n",
       "104 CRDO-1304 Cytokine Screen 2020-01-16       20390.00   2091.200 2020\n",
       "105 DIMC-1183       Other FFS 2020-01-16      100000.00  53205.200 2020\n",
       "106 BOIG-1310     Time Course 2020-01-17       71500.00  64598.300 2020\n",
       "107     NCS05     Time Course 2020-01-17       59150.00   7619.300 2020\n",
       "108 NECE-1103 Cytokine Screen 2020-01-17       18600.00   2113.400 2020\n",
       "109 BOIG-1310           MAPPs 2020-01-24       40200.00  30777.600 2020\n",
       "110 MANC-1358       In silico 2020-01-29        6500.00   6052.150 2020\n",
       "111 ADPH-1184     ADC Testing 2020-02-10       46537.00  16091.000 2020\n",
       "112 EISI-1285     Time Course 2020-02-10      126500.00  45696.225 2020\n",
       "113 BICC-1335       Other FFS 2020-02-12         780.00    438.750 2020\n",
       "114 MEIO-1028       Other FTE 2020-02-13      110771.77  24169.670 2020\n",
       "115 LIAS-1049     CLD Support 2020-02-20       26000.00   9310.106 2020\n",
       "116 MEER-1355        Fc assay 2020-03-02       54300.00  44149.600 2020\n",
       "117 ALLL-1385       In silico 2020-03-16        9500.00   7134.000 2020\n",
       "118 FALS-1258       Other FFS 2020-03-24       15100.00   7979.341 2020\n",
       "119 TRZZ-1394        Fc assay 2020-03-27        6000.00   2620.000 2020\n",
       "120 SONE-1073       Other FTE 2020-03-30       52575.74  16650.244 2020\n",
       "121 ASZA-1276           MAPPs 2020-03-30       40200.00  21212.200 2020\n",
       "122 BOBT-1401       In silico 2020-03-31       12000.00   9524.150 2020\n",
       "123 DERM-1289     ADC Testing 2020-03-31       54871.00  27236.094 2020\n",
       "124 SPEA-1198     ADC Testing 2020-04-24       14900.00  -1070.500 2020\n",
       "125 BICC-1435       Other FFS 2020-04-30        1300.00    260.000 2020\n",
       "126 MEER-1251       Other FFS 2020-05-05        9000.00   3000.500 2020\n",
       "127 ALAB-1389           MAPPs 2020-05-06       40200.00  16069.400 2020\n",
       "128 ADTA-1441       In silico 2020-05-11        6200.00   5076.150 2020\n",
       "129 MOLS-1131       Other FFS 2020-05-14       11800.00   3328.186 2020\n",
       "130 THFB-1438       In silico 2020-05-15       12500.00  11063.500 2020\n",
       "131 LUBK-1376           MAPPs 2020-05-19       79200.00  41008.600 2020\n",
       "132 IMCE-1423       Other FFS 2020-05-21       30400.00  18538.150 2020\n",
       "133 BITA-1397     Formulation 2020-05-26        4200.00   1932.085 2020\n",
       "134 SHAT-1454       In silico 2020-05-30       20000.00  18200.150 2020\n",
       "135 VAIO-1432       In silico 2020-06-01        8200.00   5158.000 2020\n",
       "136 MEDC-1434       In silico 2020-06-15       43000.00  37254.000 2020\n",
       "137 FUPH-1443           MAPPs 2020-06-23       40200.00  23082.900 2020\n",
       "138 AUIO-1463       In silico 2020-06-29       15000.00  13310.000 2020\n",
       "139 BITA-1397       Other FFS 2020-06-30       10400.00   2102.100 2020\n",
       "140 VITA-1453       In silico 2020-07-02       17600.00  13324.300 2020\n",
       "141 SYHO-1416       In silico 2020-07-13       19500.00  18148.000 2020\n",
       "142 BICC-1458 Cytokine Screen 2020-07-20       16900.00   3605.550 2020\n",
       "143 SPEA-1468     ADC Testing 2020-07-23        3700.00   1334.000 2020\n",
       "144 BACH-1117     Formulation 2020-07-24       45000.00  36033.900 2020\n",
       "145 ADES-1407     CLD Support 2020-07-29       13000.00  -7164.950 2020\n",
       "146 IMOT-1417     Time Course 2020-08-03       16500.00 -51810.450 2020\n",
       "147 DEBS-1506       In silico 2020-08-06        6500.00   4590.300 2020\n",
       "148 RUEY-1502       Other FFS 2020-08-27        8400.00   3668.000 2020\n",
       "149 MEDN-1330       Other FTE 2020-08-28       72920.90  18135.000 2020\n",
       "150 ASTA-1447     Time Course 2020-09-03       47600.00  30813.100 2020\n",
       "151 TRZZ-1495     ADC Testing 2020-09-04       15700.00   6743.000 2020\n",
       "152 MOLS-1448       Other FTE 2020-09-09       71517.00  24087.800 2020\n",
       "153 ALES-1524       Other FFS 2020-09-19        7600.00   5124.150 2020\n",
       "154 ABIM-1501       In silico 2020-10-05        6150.00   4629.000 2020\n",
       "155 TEFJ-1470     Time Course 2020-10-16       61750.00   4828.200 2020\n",
       "156 COIS-1516           MAPPs 2020-10-23       67000.00  48832.500 2020\n",
       "157 LUMU-1572       In silico 2020-10-29       10000.00   8732.500 2020\n",
       "158 ALAN-1493            TCEM 2020-11-02      148000.00  69945.400 2020\n",
       "159 CTLL-1528 Cytokine Screen 2020-11-04       38700.00  16250.300 2020\n",
       "160 SLTB-1581       In silico 2020-11-14       10000.00   9070.500 2020\n",
       "161 NETX-1586       In silico 2020-11-20        6600.00   5079.000 2020\n",
       "162 COIS-1543     Time Course 2020-12-18       67100.00  14024.380 2020\n",
       "163 ELST-1520     Time Course 2020-12-18       36200.00  10085.860 2020\n",
       "164 VELL-1541     Time Course 2020-12-18        4900.00    502.100 2020\n",
       "165 SCLL-1499     Time Course 2020-12-18       22000.00  19145.200 2020\n",
       "166 GEAB-1607       In silico 2020-12-18       13000.00  10862.150 2020\n",
       "167 DEBS-1534            TCEM 2020-12-18       88708.00  22772.000 2020\n",
       "    type_index      cost profit_cost\n",
       "100          8 38776.400  0.35597941\n",
       "101         11 66002.300  0.32571138\n",
       "102          4  8008.650  1.30563204\n",
       "103          3 92163.500  0.29118360\n",
       "104          2 18298.800  0.11428072\n",
       "105          8 46794.800  1.13698958\n",
       "106         12  6901.700  9.35976643\n",
       "107         12 51530.700  0.14785943\n",
       "108          2 16486.600  0.12818895\n",
       "109          7  9422.400  3.26642894\n",
       "110          6   447.850 13.51378810\n",
       "111          0 30446.000  0.52850949\n",
       "112         12 80803.775  0.56552092\n",
       "113          8   341.250  1.28571429\n",
       "114          9 86602.100  0.27908873\n",
       "115          1 16689.894  0.55782895\n",
       "116          4 10150.400  4.34954288\n",
       "117          6  2366.000  3.01521555\n",
       "118          8  7120.659  1.12059024\n",
       "119          4  3380.000  0.77514793\n",
       "120          9 35925.500  0.46346590\n",
       "121          7 18987.800  1.11714891\n",
       "122          6  2475.850  3.84682028\n",
       "123          0 27634.906  0.98556854\n",
       "124          0 15970.500 -0.06702984\n",
       "125          8  1040.000  0.25000000\n",
       "126          8  5999.500  0.50012501\n",
       "127          7 24130.600  0.66593454\n",
       "128          6  1123.850  4.51675046\n",
       "129          8  8471.814  0.39285400\n",
       "130          6  1436.500  7.70170553\n",
       "131          7 38191.400  1.07376530\n",
       "132          8 11861.850  1.56283801\n",
       "133          5  2267.915  0.85192126\n",
       "134          6  1799.850 10.11203711\n",
       "135          6  3042.000  1.69559500\n",
       "136          6  5746.000  6.48346676\n",
       "137          7 17117.100  1.34852866\n",
       "138          6  1690.000  7.87573964\n",
       "139          8  8297.900  0.25332916\n",
       "140          6  4275.700  3.11628505\n",
       "141          6  1352.000 13.42307692\n",
       "142          2 13294.450  0.27120716\n",
       "143          0  2366.000  0.56382079\n",
       "144          5  8966.100  4.01890454\n",
       "145          1 20164.950 -0.35531702\n",
       "146         12 68310.450 -0.75845570\n",
       "147          6  1909.700  2.40367597\n",
       "148          8  4732.000  0.77514793\n",
       "149          9 54785.900  0.33101583\n",
       "150         12 16786.900  1.83554438\n",
       "151          0  8957.000  0.75281902\n",
       "152          9 47429.200  0.50786857\n",
       "153          8  2475.850  2.06965285\n",
       "154          6  1521.000  3.04339250\n",
       "155         12 56921.800  0.08482163\n",
       "156          7 18167.500  2.68790422\n",
       "157          6  1267.500  6.88954635\n",
       "158         11 78054.600  0.89610862\n",
       "159          2 22449.700  0.72385377\n",
       "160          6   929.500  9.75847230\n",
       "161          6  1521.000  3.33925049\n",
       "162         12 53075.620  0.26423394\n",
       "163         12 26114.140  0.38622218\n",
       "164         12  4397.900  0.11416813\n",
       "165         12  2854.800  6.70631918\n",
       "166          6  2137.850  5.08087565\n",
       "167         11 65936.000  0.34536520\n"
      ]
     },
     "metadata": {},
     "output_type": "display_data"
    }
   ],
   "source": [
    "%%R\n",
    "\n",
    "d"
   ]
  },
  {
   "cell_type": "code",
   "execution_count": 377,
   "metadata": {
    "ExecuteTime": {
     "end_time": "2021-01-02T23:43:45.040819Z",
     "start_time": "2021-01-02T23:43:45.029890Z"
    }
   },
   "outputs": [
    {
     "ename": "NameError",
     "evalue": "name 'd' is not defined",
     "output_type": "error",
     "traceback": [
      "\u001b[0;31m---------------------------------------------------------------------------\u001b[0m",
      "\u001b[0;31mNameError\u001b[0m                                 Traceback (most recent call last)",
      "\u001b[0;32m<ipython-input-377-e983f374794d>\u001b[0m in \u001b[0;36m<module>\u001b[0;34m\u001b[0m\n\u001b[0;32m----> 1\u001b[0;31m \u001b[0md\u001b[0m\u001b[0;34m\u001b[0m\u001b[0;34m\u001b[0m\u001b[0m\n\u001b[0m",
      "\u001b[0;31mNameError\u001b[0m: name 'd' is not defined"
     ]
    }
   ],
   "source": []
  },
  {
   "cell_type": "code",
   "execution_count": null,
   "metadata": {},
   "outputs": [],
   "source": []
  }
 ],
 "metadata": {
  "kernelspec": {
   "display_name": "Python 3",
   "language": "python",
   "name": "python3"
  },
  "language_info": {
   "codemirror_mode": {
    "name": "ipython",
    "version": 3
   },
   "file_extension": ".py",
   "mimetype": "text/x-python",
   "name": "python",
   "nbconvert_exporter": "python",
   "pygments_lexer": "ipython3",
   "version": "3.6.10"
  }
 },
 "nbformat": 4,
 "nbformat_minor": 4
}
