{
 "cells": [
  {
   "cell_type": "markdown",
   "id": "c1b91ff8",
   "metadata": {},
   "source": [
    "* Mohd's dataset is here: `gs://genetics-portal-dev-mr/mr_results_v2`\n",
    "* Contents:\n",
    "```\n",
    "gs://genetics-portal-dev-mr/mr_results_v2/prot_mr_filtered.tsv.gz\n",
    "gs://genetics-portal-dev-mr/mr_results_v2/prot_snp_filtered.tsv.gz\n",
    "gs://genetics-portal-dev-mr/mr_results_v2/prot_snp_unfiltered.tsv.gz\n",
    "gs://genetics-portal-dev-mr/mr_results_v2/partners/\n",
    "```\n",
    "\n",
    "* Data folder: `~/project_data/MR`"
   ]
  },
  {
   "cell_type": "code",
   "execution_count": 1,
   "id": "e32c1c23",
   "metadata": {
    "ExecuteTime": {
     "end_time": "2022-03-09T16:25:53.924830Z",
     "start_time": "2022-03-09T16:25:53.877659Z"
    }
   },
   "outputs": [
    {
     "name": "stdout",
     "output_type": "stream",
     "text": [
      "total 58400\n",
      "drwxr-xr-x   5 dsuveges  384566875   160B  9 Mar 16:25 .\n",
      "drwxrwxr-x  19 dsuveges  384566875   608B  9 Mar 16:17 ..\n",
      "drwxr-xr-x   5 dsuveges  384566875   160B  9 Mar 16:18 partners\n",
      "-rw-r--r--   1 dsuveges  384566875   7.7M  9 Mar 16:25 prot_mr_filtered.tsv.gz\n",
      "-rw-r--r--   1 dsuveges  384566875    20M  9 Mar 16:24 prot_snp_filtered.tsv.gz\n"
     ]
    }
   ],
   "source": [
    "%%bash\n",
    "\n",
    "ls -lah ~/project_data/MR"
   ]
  },
  {
   "cell_type": "markdown",
   "id": "c211f01e",
   "metadata": {},
   "source": [
    "The unfiltered set is not downloaded as that dataset is not relevant for the purposes of platform evidence."
   ]
  },
  {
   "cell_type": "code",
   "execution_count": 57,
   "id": "e4b88a6d",
   "metadata": {
    "ExecuteTime": {
     "end_time": "2022-03-14T15:13:00.342684Z",
     "start_time": "2022-03-14T15:13:00.335650Z"
    }
   },
   "outputs": [],
   "source": [
    "protMrFiltered = '/Users/dsuveges/project_data/MR/prot_mr_filtered.tsv.gz'\n",
    "protSnpFiltered = '/Users/dsuveges/project_data/MR/prot_snp_filtered.tsv.gz'\n",
    "\n",
    "import json\n",
    "from json import JSONDecodeError\n",
    "\n",
    "import requests\n",
    "from functools import reduce\n",
    "import pandas as pd\n",
    "from pyspark.sql.functions import (\n",
    "    col, udf, struct, lit, split, expr, collect_set, struct, \n",
    "    regexp_replace, min as pyspark_min, explode, when, regexp_extract,\n",
    "    array_contains, count, first, element_at, size, sum as pyspark_sum\n",
    ")\n",
    "from pyspark.sql.types import FloatType, ArrayType, StructType, StructField, BooleanType, StringType\n",
    "from pyspark.sql import SparkSession\n",
    "from collections import defaultdict\n",
    "\n",
    "# establish spark connection\n",
    "spark = (\n",
    "    SparkSession.builder\n",
    "    .master('local[*]')\n",
    "    .getOrCreate()\n",
    ")\n"
   ]
  },
  {
   "cell_type": "markdown",
   "id": "63d6fff6",
   "metadata": {
    "ExecuteTime": {
     "end_time": "2022-03-09T16:30:29.432794Z",
     "start_time": "2022-03-09T16:30:29.384347Z"
    }
   },
   "source": [
    "## Reviewing the protfiltered dataset"
   ]
  },
  {
   "cell_type": "code",
   "execution_count": 2,
   "id": "8fdd4a5b",
   "metadata": {
    "ExecuteTime": {
     "end_time": "2022-03-14T14:28:04.618095Z",
     "start_time": "2022-03-14T14:28:01.317146Z"
    }
   },
   "outputs": [
    {
     "name": "stdout",
     "output_type": "stream",
     "text": [
      "-RECORD 0------------------------------------------------------------------------------------------------------------------------------------------------------------------------------------\n",
      " Data                     | SUHRE_2017                                                                                                                                                       \n",
      " exposure                 | 2182-54_1_one_out_merged_h2                                                                                                                                      \n",
      " protein_trait            | Complement C4b                                                                                                                                                   \n",
      " hgnc_protein             | C4B                                                                                                                                                              \n",
      " ensid                    | ENSG00000224389                                                                                                                                                  \n",
      " outcome                  | GCST001198                                                                                                                                                       \n",
      " outcome_trait            | Multiple sclerosis                                                                                                                                               \n",
      " exp_out_gsmr             | 2182-54_1_one_out_merged_h2_GCST001198                                                                                                                           \n",
      " exp_out_coloc            | NA                                                                                                                                                               \n",
      " exp_out_gsmr_coloc       | 2182-54_1_one_out_merged_h2_GCST001198                                                                                                                           \n",
      " varid_left               | NA                                                                                                                                                               \n",
      " nsnp                     | 2                                                                                                                                                                \n",
      " n_cases                  | 9772                                                                                                                                                             \n",
      " n_initial                | 26621                                                                                                                                                            \n",
      " outcome_trait_efo        | MONDO_0005301                                                                                                                                                    \n",
      " parent_outcome_trait_efo | EFO_0000540, EFO_0000618, EFO_0005140, EFO_0005772, EFO_0005774, EFO_0005809, EFO_0009386, EFO_1000870, EFO_1002003, MONDO_0000568, MONDO_0002562, MONDO_0002977 \n",
      " cis_trans_mr             | cis                                                                                                                                                              \n",
      " coloc                    | No                                                                                                                                                               \n",
      " coloc_n_vars             | NA                                                                                                                                                               \n",
      " coloc_h1                 | NA                                                                                                                                                               \n",
      " coloc_h2                 | NA                                                                                                                                                               \n",
      " coloc_h3                 | NA                                                                                                                                                               \n",
      " coloc_h4                 | NA                                                                                                                                                               \n",
      " coloc_h4_h3              | NA                                                                                                                                                               \n",
      " fpred_max_label_index_mr | null                                                                                                                                                             \n",
      " fpred_max_label_tag_mr   | null                                                                                                                                                             \n",
      " bxy                      | 1.21613                                                                                                                                                          \n",
      " bxy_se                   | 0.139575                                                                                                                                                         \n",
      " bxy_pval                 | 2.95699e-18                                                                                                                                                      \n",
      " mr_egger                 | NA                                                                                                                                                               \n",
      " mr_egger_se              | NA                                                                                                                                                               \n",
      " mr_egger_p               | NA                                                                                                                                                               \n",
      " mr_wm                    | NA                                                                                                                                                               \n",
      " mr_wm_se                 | NA                                                                                                                                                               \n",
      " mr_wm_p                  | NA                                                                                                                                                               \n",
      " pav_cismr                | NA                                                                                                                                                               \n",
      " v2g_mr                   | ENSG00000204463, ENSG00000237541                                                                                                                                 \n",
      " hgnc_v2g_mr              | BAG6, HLA-DQA2                                                                                                                                                   \n",
      " bxy_pval_mantissa        | 2.957                                                                                                                                                            \n",
      " bxy_pval_exponent        | -18                                                                                                                                                              \n",
      " mr_egger_p_mantissa      | NA                                                                                                                                                               \n",
      " mr_egger_p_exponent      | NA                                                                                                                                                               \n",
      " mr_wm_p_mantissa         | NA                                                                                                                                                               \n",
      " mr_wm_p_exponent         | NA                                                                                                                                                               \n",
      " or_bxy                   | 3.37410464918926                                                                                                                                                 \n",
      " or_lci_bxy               | 2.56655106611176                                                                                                                                                 \n",
      " or_uci_bxy               | 4.43575128272349                                                                                                                                                 \n",
      " bxy_lci                  | 0.942563                                                                                                                                                         \n",
      " bxy_uci                  | 1.489697                                                                                                                                                         \n",
      " or_mr_egger              | NA                                                                                                                                                               \n",
      " or_lci_mr_egger          | NA                                                                                                                                                               \n",
      " or_uci_mr_egger          | NA                                                                                                                                                               \n",
      " mr_egger_lci             | NA                                                                                                                                                               \n",
      " mr_egger_uci             | NA                                                                                                                                                               \n",
      " or_mr_wm                 | NA                                                                                                                                                               \n",
      " or_lci_mr_wm             | NA                                                                                                                                                               \n",
      " or_uci_mr_wm             | NA                                                                                                                                                               \n",
      " mr_wm_lci                | NA                                                                                                                                                               \n",
      " mr_wm_uci                | NA                                                                                                                                                               \n",
      "only showing top 1 row\n",
      "\n"
     ]
    }
   ],
   "source": [
    "(\n",
    "    spark.read.csv(protMrFiltered, sep='\\t', header=True)\n",
    "    .show(1, False, True)\n",
    ")"
   ]
  },
  {
   "cell_type": "markdown",
   "id": "3d46b00f",
   "metadata": {},
   "source": [
    "## Reviewing snp filtered dataset"
   ]
  },
  {
   "cell_type": "code",
   "execution_count": 3,
   "id": "c4d819d2",
   "metadata": {
    "ExecuteTime": {
     "end_time": "2022-03-14T14:28:05.141095Z",
     "start_time": "2022-03-14T14:28:04.620543Z"
    }
   },
   "outputs": [
    {
     "name": "stdout",
     "output_type": "stream",
     "text": [
      "-RECORD 0----------------------------------------------------------------------------------------------------------------------------------\n",
      " snp                       | 7:45945221:C:T                                                                                                \n",
      " bxy                       | -1.32196                                                                                                      \n",
      " bzx                       | 0.428                                                                                                         \n",
      " bzx_se                    | 0.0429935                                                                                                     \n",
      " bzx_pval                  | 2.39839281528496e-23                                                                                          \n",
      " bzy                       | -0.565798                                                                                                     \n",
      " bzy_se                    | 0.0998595                                                                                                     \n",
      " bzy_pval                  | 1.46220136963828e-08                                                                                          \n",
      " bxy_se                    | 0.268462                                                                                                      \n",
      " bxy_pval                  | 8.47084e-07                                                                                                   \n",
      " exposure                  | 2571-12_3_one_out_merged_h2                                                                                   \n",
      " outcome                   | NEALE2_23109_raw                                                                                              \n",
      " nsnp                      | 1                                                                                                             \n",
      " Data                      | SUHRE_2017                                                                                                    \n",
      " protein_trait             | Insulin-like growth factor-binding protein 3                                                                  \n",
      " ensid                     | ENSG00000146674                                                                                               \n",
      " cis_trans                 | cis                                                                                                           \n",
      " exp_out_gsmr              | 2571-12_3_one_out_merged_h2_NEALE2_23109_raw                                                                  \n",
      " varid_left                | 7:46054491:C:T                                                                                                \n",
      " left_study                | NEALE2_23109_raw                                                                                              \n",
      " right_study               | SUHRE_2017                                                                                                    \n",
      " right_phenotype           | ENSG00000146674                                                                                               \n",
      " right_gene_id             | ENSG00000146674                                                                                               \n",
      " coloc_n_vars              | 192                                                                                                           \n",
      " coloc_h1                  | 0.00129772094402275                                                                                           \n",
      " coloc_h2                  | 2.20228489429986e-17                                                                                          \n",
      " coloc_h3                  | 0.0263822296940846                                                                                            \n",
      " coloc_h4                  | 0.972320049361896                                                                                             \n",
      " coloc_h4_h3               | 36.8551127268788                                                                                              \n",
      " left_var_right_study_beta | NA                                                                                                            \n",
      " left_var_right_study_se   | NA                                                                                                            \n",
      " left_var_right_study_pval | NA                                                                                                            \n",
      " gwas_beta                 | -0.860439                                                                                                     \n",
      " gwas_se                   | 0.141057                                                                                                      \n",
      " pval                      | 1.06228e-09                                                                                                   \n",
      " coloc                     | Yes                                                                                                           \n",
      " exp_out_coloc             | SUHRE_2017_NEALE2_23109_raw_coloc                                                                             \n",
      " hgnc_protein              | IGFBP3                                                                                                        \n",
      " outcome_trait             | Impedance of arm (right)                                                                                      \n",
      " outcome_trait_category    | Uncategorised                                                                                                 \n",
      " outcome_trait_efo         | character(0)                                                                                                  \n",
      " n_initial                 | 354792                                                                                                        \n",
      " n_cases                   | NA                                                                                                            \n",
      " parent_outcome_trait_efo  | NULL                                                                                                          \n",
      " fpred_max_label_index     | NA                                                                                                            \n",
      " fpred_max_label_tag       | missense_variant                                                                                              \n",
      " pav_cis                   | Yes                                                                                                           \n",
      " v2g                       | ENSG00000146674                                                                                               \n",
      " hgnc_v2g                  | IGFBP3                                                                                                        \n",
      " exp_out_gsmr_coloc        | 2571-12_3_one_out_merged_h2_NEALE2_23109_raw_SUHRE_2017_NEALE2_23109_raw_coloc_ENSG00000146674_7:46054491:C:T \n",
      " mr_egger                  | NA                                                                                                            \n",
      " mr_egger_se               | NA                                                                                                            \n",
      " mr_egger_p                | NA                                                                                                            \n",
      " mr_wm                     | NA                                                                                                            \n",
      " mr_wm_se                  | NA                                                                                                            \n",
      " mr_wm_p                   | NA                                                                                                            \n",
      "only showing top 1 row\n",
      "\n"
     ]
    }
   ],
   "source": [
    "(\n",
    "    spark.read.csv(protSnpFiltered, sep='\\t', header=True)\n",
    "    .filter(col('left_study') != 'NA')\n",
    "    .show(1, False, True)\n",
    ")"
   ]
  },
  {
   "cell_type": "markdown",
   "id": "8262317b",
   "metadata": {},
   "source": [
    "## Estimate the overlap of MR hits and already known associations\n",
    "\n",
    "\n",
    "**Processing MR data:**\n",
    "1. Reading tsv.\n",
    "2. Filter for significant MR only (`bxy_pval < 0.0005`)\n",
    "3. Exploding multiple EFO annotations when required\n",
    "4. Dropping rows with no EFO.\n",
    "\n",
    "**Processing OT data:**\n",
    "1. Fetch 22.02 data from ftp (`/pub/databases/opentargets/platform/22.02/output/etl/parquet/associationByDatasourceDirect`)\n",
    "2. Group by `datasourceId`\n",
    "3. Join with MR data to see the overlap.\n",
    "4. Estimate overlap specifically with `ot_genetics`"
   ]
  },
  {
   "cell_type": "code",
   "execution_count": 103,
   "id": "f5b5f031",
   "metadata": {
    "ExecuteTime": {
     "end_time": "2022-03-14T21:48:24.086530Z",
     "start_time": "2022-03-14T21:48:23.417081Z"
    }
   },
   "outputs": [
    {
     "name": "stdout",
     "output_type": "stream",
     "text": [
      "+---------------+-------------+\n",
      "|       targetId|    diseaseId|\n",
      "+---------------+-------------+\n",
      "|ENSG00000204520|  EFO_0000401|\n",
      "|ENSG00000204520|MONDO_0045002|\n",
      "|ENSG00000105472|  EFO_0008082|\n",
      "|ENSG00000168811|  EFO_0008264|\n",
      "|ENSG00000172156|  EFO_0007997|\n",
      "|ENSG00000106952|  EFO_0007991|\n",
      "|ENSG00000010438|  EFO_0001069|\n",
      "|ENSG00000010438|  EFO_0004713|\n",
      "|ENSG00000160712|  EFO_0000275|\n",
      "|ENSG00000204516|  EFO_0002690|\n",
      "|ENSG00000148400|   HP_0004418|\n",
      "|ENSG00000130203|  EFO_0007796|\n",
      "|ENSG00000159958|   HP_0000726|\n",
      "|ENSG00000175164|  EFO_0008300|\n",
      "|ENSG00000175164|  EFO_0004312|\n",
      "|ENSG00000204305|  EFO_0009676|\n",
      "|ENSG00000204305|  EFO_0004833|\n",
      "|ENSG00000204305|  EFO_1001771|\n",
      "|ENSG00000164022|  EFO_0000677|\n",
      "|ENSG00000164022|MONDO_0001627|\n",
      "+---------------+-------------+\n",
      "only showing top 20 rows\n",
      "\n",
      "26312\n"
     ]
    }
   ],
   "source": [
    "MR_associations = (\n",
    "    spark.read.csv(protMrFiltered, sep='\\t', header=True)\n",
    "    \n",
    "    # Filter for significant MR only:\n",
    "    .filter(col('bxy_pval') < 0.0005)\n",
    "    \n",
    "    # Some outcome traits are a bit crazy: `c(\"HP_0002024\", \"EFO_0001060\")`\n",
    "    .withColumn('traits', explode(split(col('outcome_trait_efo'), ' ')))\n",
    "    .withColumn('trait', regexp_extract(col('traits'), r'[A-Z]+_[0-9]+', 0))\n",
    "\n",
    "    # Drop missing efos:\n",
    "    .filter(col('trait') != '')\n",
    "\n",
    "    # Get unique associations:\n",
    "    .select('ensid', 'trait')\n",
    "    .withColumnRenamed('ensid', 'targetId')\n",
    "    .withColumnRenamed('trait', 'diseaseId')\n",
    "    .distinct()\n",
    "    .persist()\n",
    ")\n",
    "\n",
    "MR_associations.show()\n",
    "\n",
    "print(MR_associations.count())"
   ]
  },
  {
   "cell_type": "code",
   "execution_count": 107,
   "id": "e24e47e1",
   "metadata": {
    "ExecuteTime": {
     "end_time": "2022-03-14T21:59:11.742519Z",
     "start_time": "2022-03-14T21:59:11.332619Z"
    },
    "scrolled": false
   },
   "outputs": [
    {
     "name": "stdout",
     "output_type": "stream",
     "text": [
      "+--------------------+---------------+-------------+\n",
      "|           diseaseId|       targetId|datasourceIds|\n",
      "+--------------------+---------------+-------------+\n",
      "|//ebi.ac.uk/efo/E...|ENSG00000078549|  [europepmc]|\n",
      "|//ebi.ac.uk/efo/E...|ENSG00000153094|  [europepmc]|\n",
      "|//ebi.ac.uk/efo/E...|ENSG00000164400|  [europepmc]|\n",
      "|//ebi.ac.uk/efo/E...|ENSG00000169194|  [europepmc]|\n",
      "|//ebi.ac.uk/efo/E...|ENSG00000198873|  [europepmc]|\n",
      "|//ebi.ac.uk/efo/E...|ENSG00000233276|  [europepmc]|\n",
      "|          DOID_10718|ENSG00000113749|  [europepmc]|\n",
      "|          DOID_13406|ENSG00000120937|  [europepmc]|\n",
      "|           DOID_7551|ENSG00000066427|  [europepmc]|\n",
      "|           DOID_7551|ENSG00000095739|  [europepmc]|\n",
      "|           DOID_7551|ENSG00000102755|  [europepmc]|\n",
      "|           DOID_7551|ENSG00000103335|  [europepmc]|\n",
      "|           DOID_7551|ENSG00000106004|  [europepmc]|\n",
      "|           DOID_7551|ENSG00000116132|  [europepmc]|\n",
      "|           DOID_7551|ENSG00000118046|  [europepmc]|\n",
      "|           DOID_7551|ENSG00000121060|  [europepmc]|\n",
      "|           DOID_7551|ENSG00000130770|  [europepmc]|\n",
      "|           DOID_7551|ENSG00000137752|  [europepmc]|\n",
      "|           DOID_7551|ENSG00000147133|  [europepmc]|\n",
      "|           DOID_7551|ENSG00000149806|  [europepmc]|\n",
      "+--------------------+---------------+-------------+\n",
      "only showing top 20 rows\n",
      "\n",
      "2230103\n"
     ]
    }
   ],
   "source": [
    "platform_assoc = (\n",
    "    spark.read.parquet('/Users/dsuveges/project_data/associationByDatasourceDirect/')\n",
    "    .groupBy(['diseaseId', 'targetId'])\n",
    "    .agg(collect_set(col('datasourceId')).alias('datasourceIds'))\n",
    "    .persist()\n",
    ")\n",
    "\n",
    "\n",
    "\n",
    "platform_assoc.show()\n",
    "\n",
    "print(platform_assoc.count())"
   ]
  },
  {
   "cell_type": "code",
   "execution_count": 108,
   "id": "6656b4e6",
   "metadata": {
    "ExecuteTime": {
     "end_time": "2022-03-14T21:59:12.149490Z",
     "start_time": "2022-03-14T21:59:12.083370Z"
    }
   },
   "outputs": [
    {
     "name": "stdout",
     "output_type": "stream",
     "text": [
      "+-------------+---------------+--------------------+\n",
      "|    diseaseId|       targetId|       datasourceIds|\n",
      "+-------------+---------------+--------------------+\n",
      "|  EFO_0004995|ENSG00000002822|[ot_genetics_portal]|\n",
      "|MONDO_0056820|ENSG00000006210|                null|\n",
      "|  EFO_0009805|ENSG00000007312|[ot_genetics_portal]|\n",
      "|  EFO_0001069|ENSG00000010438|                null|\n",
      "|  EFO_0004713|ENSG00000010438|                null|\n",
      "|MONDO_0021661|ENSG00000030582|                null|\n",
      "|  EFO_0009116|ENSG00000037280|                null|\n",
      "|  EFO_0004309|ENSG00000067182|[ot_genetics_portal]|\n",
      "|  EFO_0004309|ENSG00000069482|                null|\n",
      "|  EFO_0005755|ENSG00000073969|                null|\n",
      "|   HP_0000790|ENSG00000073969|                null|\n",
      "|  EFO_0007990|ENSG00000079950|                null|\n",
      "|  EFO_0004518|ENSG00000088387|                null|\n",
      "|  EFO_0009440|ENSG00000088387|                null|\n",
      "|  EFO_0004312|ENSG00000088543|                null|\n",
      "|  EFO_0004526|ENSG00000089692|                null|\n",
      "|  EFO_0008111|ENSG00000090487|                null|\n",
      "|  EFO_0007993|ENSG00000090659|                null|\n",
      "|  EFO_0004612|ENSG00000092010|                null|\n",
      "|  EFO_0009188|ENSG00000092010|                null|\n",
      "+-------------+---------------+--------------------+\n",
      "only showing top 20 rows\n",
      "\n"
     ]
    }
   ],
   "source": [
    "overlap = (\n",
    "    MR_associations\n",
    "    .join(platform_assoc, on=['diseaseId', 'targetId'], how='left')\n",
    "    .persist()\n",
    ")\n",
    "\n",
    "overlap.show()"
   ]
  },
  {
   "cell_type": "code",
   "execution_count": 111,
   "id": "11ed560a",
   "metadata": {
    "ExecuteTime": {
     "end_time": "2022-03-14T22:07:02.609923Z",
     "start_time": "2022-03-14T22:07:01.333293Z"
    }
   },
   "outputs": [
    {
     "name": "stdout",
     "output_type": "stream",
     "text": [
      "Number of MR association covered by OT genetics: 4484\n",
      "Number of MR association covered by any source: 6111\n",
      "Completely new association: 20201\n"
     ]
    }
   ],
   "source": [
    "supported_by_genetics = (\n",
    "    overlap\n",
    "    .select('*', explode(col('datasourceIds')).alias('datasourceId'))\n",
    "    .filter(col('datasourceId') == 'ot_genetics_portal')\n",
    "    .count()\n",
    ")\n",
    "\n",
    "completely_new = (\n",
    "    overlap\n",
    "    .filter(col('datasourceIds').isNull())\n",
    "    .count()\n",
    ")\n",
    "supported_by_any_source = (\n",
    "    overlap\n",
    "    .filter(col('datasourceIds').isNotNull())\n",
    "    .count()\n",
    ")\n",
    "\n",
    "print(f'Number of MR association covered by OT genetics: {supported_by_genetics}')\n",
    "print(f'Number of MR association covered by any source: {supported_by_any_source}')\n",
    "print(f'Completely new association: {completely_new}')\n"
   ]
  },
  {
   "cell_type": "markdown",
   "id": "b8544859",
   "metadata": {},
   "source": [
    "### How do the scores look like?\n",
    "\n",
    "I want to see if those MR associations that overlap with genetics portal get higher score than the average OT genetics associations."
   ]
  },
  {
   "cell_type": "code",
   "execution_count": 112,
   "id": "7dc1f52d",
   "metadata": {
    "ExecuteTime": {
     "end_time": "2022-03-14T22:10:24.589845Z",
     "start_time": "2022-03-14T22:10:22.442324Z"
    },
    "scrolled": false
   },
   "outputs": [
    {
     "name": "stdout",
     "output_type": "stream",
     "text": [
      "+---------------+-----------+-------------------+\n",
      "|       targetId|  diseaseId|              score|\n",
      "+---------------+-----------+-------------------+\n",
      "|ENSG00000180644|EFO_0000574| 0.5824669406749944|\n",
      "|ENSG00000006062|EFO_0000584|0.26201817377060865|\n",
      "|ENSG00000020633|EFO_0000584| 0.2956367468785313|\n",
      "|ENSG00000026103|EFO_0000584| 0.3366112826375546|\n",
      "|ENSG00000049768|EFO_0000584| 0.2611062775741913|\n",
      "|ENSG00000077150|EFO_0000584| 0.2783107191466001|\n",
      "|ENSG00000104856|EFO_0000584| 0.2649970346789056|\n",
      "|ENSG00000109471|EFO_0000584| 0.2555741073159255|\n",
      "|ENSG00000117560|EFO_0000584|0.24998114397789856|\n",
      "|ENSG00000126353|EFO_0000584| 0.2545406249599857|\n",
      "|ENSG00000134242|EFO_0000584|0.26530100007771146|\n",
      "|ENSG00000145901|EFO_0000584|0.25891772670278945|\n",
      "|ENSG00000162924|EFO_0000584|0.25168335021121113|\n",
      "|ENSG00000163154|EFO_0000584| 0.2756966167168702|\n",
      "|ENSG00000163554|EFO_0000584|0.25660758967186525|\n",
      "|ENSG00000166908|EFO_0000584| 0.2764261336740041|\n",
      "|ENSG00000196329|EFO_0000584|0.25113621249336066|\n",
      "|ENSG00000213658|EFO_0000584| 0.3193460479853845|\n",
      "|ENSG00000281887|EFO_0000584|0.25113621249336066|\n",
      "|ENSG00000150347|EFO_0000613|  0.587321943572587|\n",
      "+---------------+-----------+-------------------+\n",
      "only showing top 20 rows\n",
      "\n",
      "2366419\n"
     ]
    }
   ],
   "source": [
    "genetics_only = (\n",
    "    spark.read.parquet('/Users/dsuveges/project_data/associationByDatasourceDirect/')\n",
    "    .select('targetId', 'diseaseId', 'score')\n",
    "    .persist()\n",
    ")\n",
    "\n",
    "\n",
    "\n",
    "genetics_only.show()\n",
    "\n",
    "print(genetics_only.count())"
   ]
  },
  {
   "cell_type": "code",
   "execution_count": 116,
   "id": "2a3c63fc",
   "metadata": {
    "ExecuteTime": {
     "end_time": "2022-03-14T22:37:57.753024Z",
     "start_time": "2022-03-14T22:37:55.398788Z"
    }
   },
   "outputs": [
    {
     "name": "stdout",
     "output_type": "stream",
     "text": [
      "Score distribution of all genetics association:\n",
      "+-------+-------------------+\n",
      "|summary|              score|\n",
      "+-------+-------------------+\n",
      "|  count|            2366419|\n",
      "|   mean| 0.1973850285140361|\n",
      "| stddev|0.20511342467504334|\n",
      "|    min|6.99311006169496E-5|\n",
      "|    max| 0.9997595486001684|\n",
      "+-------+-------------------+\n",
      "\n",
      "\n",
      "Score distribution of all genetics association:\n",
      "+-------+--------------------+\n",
      "|summary|               score|\n",
      "+-------+--------------------+\n",
      "|  count|                6994|\n",
      "|   mean| 0.26430191317209856|\n",
      "| stddev| 0.23779356044199645|\n",
      "|    min|8.399583698113842E-5|\n",
      "|    max|  0.9963588700588945|\n",
      "+-------+--------------------+\n",
      "\n"
     ]
    }
   ],
   "source": [
    "MR_vs_genetics = (\n",
    "    MR_associations\n",
    "    .join(genetics_only, on=['targetId', 'diseaseId'], how='left')\n",
    "    .persist()\n",
    ")\n",
    "\n",
    "print('Score distribution of all genetics association:')\n",
    "(\n",
    "    genetics_only\n",
    "    .select(col('score'))\n",
    "    .describe()\n",
    "    .show()\n",
    ")\n",
    "\n",
    "print('\\nScore distribution of all genetics association:')\n",
    "(\n",
    "    MR_vs_genetics\n",
    "    .filter(col('score').isNotNull())\n",
    "    .select(col('score'))\n",
    "    .describe()\n",
    "    .show()\n",
    ")"
   ]
  },
  {
   "cell_type": "code",
   "execution_count": null,
   "id": "e1fe49cc",
   "metadata": {},
   "outputs": [],
   "source": []
  }
 ],
 "metadata": {
  "kernelspec": {
   "display_name": "Python 3",
   "language": "python",
   "name": "python3"
  },
  "language_info": {
   "codemirror_mode": {
    "name": "ipython",
    "version": 3
   },
   "file_extension": ".py",
   "mimetype": "text/x-python",
   "name": "python",
   "nbconvert_exporter": "python",
   "pygments_lexer": "ipython3",
   "version": "3.9.5"
  }
 },
 "nbformat": 4,
 "nbformat_minor": 5
}
